{
 "cells": [
  {
   "cell_type": "markdown",
   "metadata": {
    "id": "sIfNaMOxgFyK"
   },
   "source": [
    "# Исследование данных о российском кинопрокате\n",
    "\n"
   ]
  },
  {
   "cell_type": "markdown",
   "metadata": {},
   "source": [
    "В данном проекте я исследую данные из двух истоников - статистика по фильмам из Кинопоиска и данные о сборах и финансовой поддержке от Министерства Культуры. \n",
    "\n",
    "В процессе выполнения проекта, я объединю данные из двух источников. Затем я обработаю данные - по возможности устраню пропуски и дубликаты. Далее я посмотрю на динамику проката и сборов от фильмов по годам. В заключительной части я исследую как финансовая поддержка влияет на сборы и рейтинг фильмов. "
   ]
  },
  {
   "cell_type": "markdown",
   "metadata": {
    "id": "3bSlkCsbgFyL"
   },
   "source": [
    "# Шаг 1. Откройте файлы с данными и объедините их в один датафрейм. \n",
    "\n",
    "Объедините данные таким образом, чтобы все объекты из датасета `mkrf_movies` обязательно вошли в получившийся датафрейм. \n",
    "\n",
    "<div id=\"accordion\">\n",
    "    <div class=\"card\">\n",
    "        <div class=\"card-header\" id=\"headingThree\">\n",
    "            <button class=\"btn btn-link collapsed\" data-toggle=\"collapse\" data-target=\"#collapseHint_0\" aria-expanded=\"false\" aria-controls=\"collapseHint_0\">Подсказка</button>\n",
    "        </div>\n",
    "        <div id=\"collapseHint_0\" class=\"collapse\" aria-labelledby=\"headingThree\" data-parent=\"#accordion\">\n",
    "            <div class=\"card-body\">\n",
    "Обратите внимание на тип данных столбца, по которому будете соединять датафреймы. Тип данных этих столбцов должен быть одинаковым в обоих датафреймах.\n",
    "            </div>\n",
    "        </div>\n",
    "    </div>\n",
    "</div>"
   ]
  },
  {
   "cell_type": "code",
   "execution_count": 118,
   "metadata": {
    "id": "dw87FlzMgFyM"
   },
   "outputs": [],
   "source": [
    "# Импортируем библиотеки\n",
    "import pandas as pd\n",
    "import numpy as np\n",
    "import matplotlib.pyplot as plt\n",
    "from sklearn.impute import KNNImputer\n",
    "import statsmodels.api as sm\n",
    "import math\n",
    "import seaborn as sns"
   ]
  },
  {
   "cell_type": "code",
   "execution_count": 119,
   "metadata": {},
   "outputs": [],
   "source": [
    "# Загрузим данные\n",
    "data_movies= pd.read_csv('/datasets/mkrf_movies.csv')\n",
    "data_shows = pd.read_csv('/datasets/mkrf_shows.csv')"
   ]
  },
  {
   "cell_type": "markdown",
   "metadata": {},
   "source": [
    "Выведем таблицы, чтобы посмореть на переменные."
   ]
  },
  {
   "cell_type": "code",
   "execution_count": 120,
   "metadata": {
    "scrolled": true
   },
   "outputs": [
    {
     "name": "stdout",
     "output_type": "stream",
     "text": [
      "                  title   puNumber           show_start_date            type  \\\n",
      "0      Открытый простор  221048915  2015-11-27T12:00:00.000Z  Художественный   \n",
      "1  Особо важное задание  111013716  2016-09-13T12:00:00.000Z  Художественный   \n",
      "2          Особо опасен  221038416  2016-10-10T12:00:00.000Z  Художественный   \n",
      "3          Особо опасен  221026916  2016-06-10T12:00:00.000Z  Художественный   \n",
      "4          Особо опасен  221030815  2015-07-29T12:00:00.000Z  Художественный   \n",
      "\n",
      "                                         film_studio production_country  \\\n",
      "0  Тачстоун Пикчерз, Кобальт Пикчерз, Бикон Пикче...                США   \n",
      "1                              Киностудия \"Мосфильм\"               СССР   \n",
      "2  Юниверсал Пикчерз, Кикстарт Продакшнз, Марк Пл...                США   \n",
      "3  Юниверсал Пикчерз, Кикстарт Продакшнз, Марк Пл...                США   \n",
      "4  Юниверсал Пикчерз, Кикстарт Продакшнз, Марк Пл...                США   \n",
      "\n",
      "            director                                           producer  \\\n",
      "0      Кевин Костнер          Дэвид Валдес, Кевин Костнер, Джейк Эбертс   \n",
      "1          Е.Матвеев                                                NaN   \n",
      "2  Тимур Бекмамбетов  Джим Лемли, Джейсон Нетер, Марк Е.Платт, Яйн Смит   \n",
      "3  Тимур Бекмамбетов  Джим Лемли, Джейсон Нетер, Марк Е.Платт, Яйн Смит   \n",
      "4  Тимур Бекмамбетов  Джим Лемли, Джейсон Нетер, Марк Е.Платт, Яйн Смит   \n",
      "\n",
      "                 age_restriction  refundable_support  nonrefundable_support  \\\n",
      "0    «18+» - запрещено для детей                 NaN                    NaN   \n",
      "1  «6+» - для детей старше 6 лет                 NaN                    NaN   \n",
      "2    «18+» - запрещено для детей                 NaN                    NaN   \n",
      "3    «18+» - запрещено для детей                 NaN                    NaN   \n",
      "4    «18+» - запрещено для детей                 NaN                    NaN   \n",
      "\n",
      "   budget financing_source ratings                     genres  \n",
      "0     NaN              NaN     7.2     боевик,драма,мелодрама  \n",
      "1     NaN              NaN     6.6              драма,военный  \n",
      "2     NaN              NaN     6.8  фантастика,боевик,триллер  \n",
      "3     NaN              NaN     6.8  фантастика,боевик,триллер  \n",
      "4     NaN              NaN     6.8  фантастика,боевик,триллер  \n",
      "\n",
      "    puNumber    box_office\n",
      "0  111000113  2.450000e+03\n",
      "1  111000115  6.104000e+04\n",
      "2  111000116  1.530300e+08\n",
      "3  111000117  1.226096e+07\n",
      "4  111000118  1.636841e+08\n"
     ]
    }
   ],
   "source": [
    "# вывод\n",
    "print(data_movies.head(5))\n",
    "print()\n",
    "print(data_shows.head(5))"
   ]
  },
  {
   "cell_type": "markdown",
   "metadata": {},
   "source": [
    "Буду объединять таблица по puNumber. Посмотрю вначале на типы переменных в каждой таблице."
   ]
  },
  {
   "cell_type": "code",
   "execution_count": 121,
   "metadata": {},
   "outputs": [
    {
     "name": "stdout",
     "output_type": "stream",
     "text": [
      "<class 'pandas.core.frame.DataFrame'>\n",
      "RangeIndex: 7486 entries, 0 to 7485\n",
      "Data columns (total 15 columns):\n",
      " #   Column                 Non-Null Count  Dtype  \n",
      "---  ------                 --------------  -----  \n",
      " 0   title                  7486 non-null   object \n",
      " 1   puNumber               7486 non-null   object \n",
      " 2   show_start_date        7486 non-null   object \n",
      " 3   type                   7486 non-null   object \n",
      " 4   film_studio            7468 non-null   object \n",
      " 5   production_country     7484 non-null   object \n",
      " 6   director               7477 non-null   object \n",
      " 7   producer               6918 non-null   object \n",
      " 8   age_restriction        7486 non-null   object \n",
      " 9   refundable_support     332 non-null    float64\n",
      " 10  nonrefundable_support  332 non-null    float64\n",
      " 11  budget                 332 non-null    float64\n",
      " 12  financing_source       332 non-null    object \n",
      " 13  ratings                6519 non-null   object \n",
      " 14  genres                 6510 non-null   object \n",
      "dtypes: float64(3), object(12)\n",
      "memory usage: 877.4+ KB\n",
      "None\n",
      "\n",
      "<class 'pandas.core.frame.DataFrame'>\n",
      "RangeIndex: 3158 entries, 0 to 3157\n",
      "Data columns (total 2 columns):\n",
      " #   Column      Non-Null Count  Dtype  \n",
      "---  ------      --------------  -----  \n",
      " 0   puNumber    3158 non-null   int64  \n",
      " 1   box_office  3158 non-null   float64\n",
      "dtypes: float64(1), int64(1)\n",
      "memory usage: 49.5 KB\n",
      "None\n"
     ]
    }
   ],
   "source": [
    "# Опишу два датасета\n",
    "print(data_movies.info())\n",
    "print()\n",
    "print(data_shows.info())"
   ]
  },
  {
   "cell_type": "markdown",
   "metadata": {},
   "source": [
    "Видно, что в первой таблице puNumber это переменная object, а во второй - int. Поменяю тип во второй таблице."
   ]
  },
  {
   "cell_type": "code",
   "execution_count": 122,
   "metadata": {},
   "outputs": [],
   "source": [
    "# меняю тип \n",
    "data_shows['puNumber'] = data_shows['puNumber'].astype(str)"
   ]
  },
  {
   "cell_type": "code",
   "execution_count": 123,
   "metadata": {},
   "outputs": [],
   "source": [
    "# Объединяю таблицы\n",
    "data = data_movies.merge(data_shows, on = 'puNumber', how = 'left')"
   ]
  },
  {
   "cell_type": "code",
   "execution_count": 124,
   "metadata": {},
   "outputs": [
    {
     "data": {
      "text/plain": [
       "Index(['title', 'puNumber', 'show_start_date', 'type', 'film_studio',\n",
       "       'production_country', 'director', 'producer', 'age_restriction',\n",
       "       'refundable_support', 'nonrefundable_support', 'budget',\n",
       "       'financing_source', 'ratings', 'genres', 'box_office'],\n",
       "      dtype='object')"
      ]
     },
     "execution_count": 124,
     "metadata": {},
     "output_type": "execute_result"
    }
   ],
   "source": [
    "# Проверяю названия колонок\n",
    "data.columns"
   ]
  },
  {
   "cell_type": "code",
   "execution_count": 125,
   "metadata": {},
   "outputs": [
    {
     "data": {
      "text/plain": [
       "Index(['title', 'pu_number', 'show_start_date', 'type', 'film_studio',\n",
       "       'production_country', 'director', 'producer', 'age_restriction',\n",
       "       'refundable_support', 'nonrefundable_support', 'budget',\n",
       "       'financing_source', 'ratings', 'genres', 'box_office'],\n",
       "      dtype='object')"
      ]
     },
     "execution_count": 125,
     "metadata": {},
     "output_type": "execute_result"
    }
   ],
   "source": [
    "# Переименую puNumber\n",
    "data = data.rename(columns = {'puNumber' : 'pu_number'})\n",
    "data.columns"
   ]
  },
  {
   "cell_type": "markdown",
   "metadata": {
    "id": "KLDGpPG0gFyM"
   },
   "source": [
    " # Шаг 2. Предобработка данных"
   ]
  },
  {
   "cell_type": "markdown",
   "metadata": {
    "id": "ssWwKXsxgFyO"
   },
   "source": [
    "# Шаг 2.1. Проверьте типы данных\n",
    "\n",
    "- Проверьте типы данных в датафрейме и преобразуйте их там, где это необходимо."
   ]
  },
  {
   "cell_type": "code",
   "execution_count": 126,
   "metadata": {
    "id": "kVGSplJOgFyO"
   },
   "outputs": [
    {
     "name": "stdout",
     "output_type": "stream",
     "text": [
      "<class 'pandas.core.frame.DataFrame'>\n",
      "Int64Index: 7486 entries, 0 to 7485\n",
      "Data columns (total 16 columns):\n",
      " #   Column                 Non-Null Count  Dtype  \n",
      "---  ------                 --------------  -----  \n",
      " 0   title                  7486 non-null   object \n",
      " 1   pu_number              7486 non-null   object \n",
      " 2   show_start_date        7486 non-null   object \n",
      " 3   type                   7486 non-null   object \n",
      " 4   film_studio            7468 non-null   object \n",
      " 5   production_country     7484 non-null   object \n",
      " 6   director               7477 non-null   object \n",
      " 7   producer               6918 non-null   object \n",
      " 8   age_restriction        7486 non-null   object \n",
      " 9   refundable_support     332 non-null    float64\n",
      " 10  nonrefundable_support  332 non-null    float64\n",
      " 11  budget                 332 non-null    float64\n",
      " 12  financing_source       332 non-null    object \n",
      " 13  ratings                6519 non-null   object \n",
      " 14  genres                 6510 non-null   object \n",
      " 15  box_office             3158 non-null   float64\n",
      "dtypes: float64(4), object(12)\n",
      "memory usage: 994.2+ KB\n"
     ]
    }
   ],
   "source": [
    "# вывод инфо о данных\n",
    "data.info()"
   ]
  },
  {
   "cell_type": "code",
   "execution_count": 127,
   "metadata": {},
   "outputs": [],
   "source": [
    "# меняю типы\n",
    "data['show_start_date'] = pd.to_datetime(data['show_start_date'], format = '%Y-%m-%dT%M:%H:%S.%fZ')"
   ]
  },
  {
   "cell_type": "code",
   "execution_count": 128,
   "metadata": {},
   "outputs": [
    {
     "data": {
      "text/plain": [
       "array(['7.2', '6.6', '6.8', '7.7', '8.3', '8.0', '7.8', '8.1', '7.1',\n",
       "       '6.0', '7.4', '5.8', '8.7', '6.3', '6.9', '5.0', '4.3', '7.3',\n",
       "       '7.0', '6.4', nan, '8.2', '7.5', '6.7', '7.9', '5.9', '6.2', '5.6',\n",
       "       '6.5', '2.4', '7.6', '6.1', '8.6', '8.5', '8.8', '5.5', '5.1',\n",
       "       '5.7', '5.4', '99%', '4.4', '4.5', '5.3', '4.1', '8.4', '2.6',\n",
       "       '3.8', '4.6', '4.8', '4.0', '3.0', '1.6', '4.2', '5.2', '4.7',\n",
       "       '4.9', '3.9', '2.7', '3.3', '2.9', '28%', '3.7', '1.4', '3.1',\n",
       "       '97%', '3.5', '3.2', '2.8', '1.5', '2.1', '2.5', '9.2', '3.4',\n",
       "       '1.1', '3.6', '83%', '64%', '91%', '94%', '62%', '79%', '90%',\n",
       "       '19%', '88%', '1.0', '89%', '1.3', '1.9', '1.8', '1.2', '1.7',\n",
       "       '9.0', '98%', '8.9', '9.1'], dtype=object)"
      ]
     },
     "execution_count": 128,
     "metadata": {},
     "output_type": "execute_result"
    }
   ],
   "source": [
    "# смотрю на значения рейтинга\n",
    "data['ratings'].unique()"
   ]
  },
  {
   "cell_type": "code",
   "execution_count": 129,
   "metadata": {},
   "outputs": [],
   "source": [
    "# унифицирую значения рейтинга\n",
    "data['ratings'] = data['ratings'].str.replace('%','')\n",
    "data['ratings'] = data['ratings'].astype(float)"
   ]
  },
  {
   "cell_type": "code",
   "execution_count": 130,
   "metadata": {},
   "outputs": [],
   "source": [
    "# унифицирую данные\n",
    "data.loc[data['ratings']>10,'ratings'] = data.loc[data['ratings']>10, 'ratings']/10"
   ]
  },
  {
   "cell_type": "markdown",
   "metadata": {
    "id": "i0MOLbF-gFyP"
   },
   "source": [
    "# Шаг 2.2. Изучите пропуски в датафрейме\n",
    "\n",
    "- Объясните, почему заполнили пропуски определённым образом или почему не стали этого делать."
   ]
  },
  {
   "cell_type": "code",
   "execution_count": 131,
   "metadata": {
    "id": "8MJD_lkngFyP"
   },
   "outputs": [
    {
     "data": {
      "text/html": [
       "<style  type=\"text/css\" >\n",
       "#T_f65ad_row0_col0,#T_f65ad_row1_col0,#T_f65ad_row2_col0,#T_f65ad_row3_col0,#T_f65ad_row4_col0,#T_f65ad_row5_col0,#T_f65ad_row6_col0,#T_f65ad_row8_col0{\n",
       "            background-color:  #3b4cc0;\n",
       "            color:  #f1f1f1;\n",
       "        }#T_f65ad_row7_col0{\n",
       "            background-color:  #536edd;\n",
       "            color:  #000000;\n",
       "        }#T_f65ad_row9_col0,#T_f65ad_row10_col0,#T_f65ad_row11_col0,#T_f65ad_row12_col0{\n",
       "            background-color:  #b40426;\n",
       "            color:  #f1f1f1;\n",
       "        }#T_f65ad_row13_col0,#T_f65ad_row14_col0{\n",
       "            background-color:  #6485ec;\n",
       "            color:  #000000;\n",
       "        }#T_f65ad_row15_col0{\n",
       "            background-color:  #f2cab5;\n",
       "            color:  #000000;\n",
       "        }</style><table id=\"T_f65ad_\" ><thead>    <tr>        <th class=\"blank level0\" ></th>        <th class=\"col_heading level0 col0\" >percent</th>    </tr></thead><tbody>\n",
       "                <tr>\n",
       "                        <th id=\"T_f65ad_level0_row0\" class=\"row_heading level0 row0\" >title</th>\n",
       "                        <td id=\"T_f65ad_row0_col0\" class=\"data row0 col0\" >0.000000</td>\n",
       "            </tr>\n",
       "            <tr>\n",
       "                        <th id=\"T_f65ad_level0_row1\" class=\"row_heading level0 row1\" >pu_number</th>\n",
       "                        <td id=\"T_f65ad_row1_col0\" class=\"data row1 col0\" >0.000000</td>\n",
       "            </tr>\n",
       "            <tr>\n",
       "                        <th id=\"T_f65ad_level0_row2\" class=\"row_heading level0 row2\" >show_start_date</th>\n",
       "                        <td id=\"T_f65ad_row2_col0\" class=\"data row2 col0\" >0.000000</td>\n",
       "            </tr>\n",
       "            <tr>\n",
       "                        <th id=\"T_f65ad_level0_row3\" class=\"row_heading level0 row3\" >type</th>\n",
       "                        <td id=\"T_f65ad_row3_col0\" class=\"data row3 col0\" >0.000000</td>\n",
       "            </tr>\n",
       "            <tr>\n",
       "                        <th id=\"T_f65ad_level0_row4\" class=\"row_heading level0 row4\" >film_studio</th>\n",
       "                        <td id=\"T_f65ad_row4_col0\" class=\"data row4 col0\" >0.240449</td>\n",
       "            </tr>\n",
       "            <tr>\n",
       "                        <th id=\"T_f65ad_level0_row5\" class=\"row_heading level0 row5\" >production_country</th>\n",
       "                        <td id=\"T_f65ad_row5_col0\" class=\"data row5 col0\" >0.026717</td>\n",
       "            </tr>\n",
       "            <tr>\n",
       "                        <th id=\"T_f65ad_level0_row6\" class=\"row_heading level0 row6\" >director</th>\n",
       "                        <td id=\"T_f65ad_row6_col0\" class=\"data row6 col0\" >0.120224</td>\n",
       "            </tr>\n",
       "            <tr>\n",
       "                        <th id=\"T_f65ad_level0_row7\" class=\"row_heading level0 row7\" >producer</th>\n",
       "                        <td id=\"T_f65ad_row7_col0\" class=\"data row7 col0\" >7.587497</td>\n",
       "            </tr>\n",
       "            <tr>\n",
       "                        <th id=\"T_f65ad_level0_row8\" class=\"row_heading level0 row8\" >age_restriction</th>\n",
       "                        <td id=\"T_f65ad_row8_col0\" class=\"data row8 col0\" >0.000000</td>\n",
       "            </tr>\n",
       "            <tr>\n",
       "                        <th id=\"T_f65ad_level0_row9\" class=\"row_heading level0 row9\" >refundable_support</th>\n",
       "                        <td id=\"T_f65ad_row9_col0\" class=\"data row9 col0\" >95.565055</td>\n",
       "            </tr>\n",
       "            <tr>\n",
       "                        <th id=\"T_f65ad_level0_row10\" class=\"row_heading level0 row10\" >nonrefundable_support</th>\n",
       "                        <td id=\"T_f65ad_row10_col0\" class=\"data row10 col0\" >95.565055</td>\n",
       "            </tr>\n",
       "            <tr>\n",
       "                        <th id=\"T_f65ad_level0_row11\" class=\"row_heading level0 row11\" >budget</th>\n",
       "                        <td id=\"T_f65ad_row11_col0\" class=\"data row11 col0\" >95.565055</td>\n",
       "            </tr>\n",
       "            <tr>\n",
       "                        <th id=\"T_f65ad_level0_row12\" class=\"row_heading level0 row12\" >financing_source</th>\n",
       "                        <td id=\"T_f65ad_row12_col0\" class=\"data row12 col0\" >95.565055</td>\n",
       "            </tr>\n",
       "            <tr>\n",
       "                        <th id=\"T_f65ad_level0_row13\" class=\"row_heading level0 row13\" >ratings</th>\n",
       "                        <td id=\"T_f65ad_row13_col0\" class=\"data row13 col0\" >12.917446</td>\n",
       "            </tr>\n",
       "            <tr>\n",
       "                        <th id=\"T_f65ad_level0_row14\" class=\"row_heading level0 row14\" >genres</th>\n",
       "                        <td id=\"T_f65ad_row14_col0\" class=\"data row14 col0\" >13.037670</td>\n",
       "            </tr>\n",
       "            <tr>\n",
       "                        <th id=\"T_f65ad_level0_row15\" class=\"row_heading level0 row15\" >box_office</th>\n",
       "                        <td id=\"T_f65ad_row15_col0\" class=\"data row15 col0\" >57.814587</td>\n",
       "            </tr>\n",
       "    </tbody></table>"
      ],
      "text/plain": [
       "<pandas.io.formats.style.Styler at 0x7fd02fb33dc0>"
      ]
     },
     "execution_count": 131,
     "metadata": {},
     "output_type": "execute_result"
    }
   ],
   "source": [
    "# Вывожу пропуски\n",
    "pd.DataFrame(data.isna().mean()*100).rename(columns = {0:\"percent\"}).style.background_gradient('coolwarm')"
   ]
  },
  {
   "cell_type": "markdown",
   "metadata": {},
   "source": [
    "Видно, что очень много пропусков в данных про финансы фильма, причём одинаковое число - скорее всего это связано с источником данных о финансах. Есть довольно много пропусков в данных о выручке фильмов. Среднее колличество в данных о реётинге, жанре и продюсере. И очень мало в данных о студии, стране и режиссере."
   ]
  },
  {
   "cell_type": "code",
   "execution_count": 132,
   "metadata": {},
   "outputs": [],
   "source": [
    "#столбчатая диаграмма\n",
    "def pass_value_barh(df):\n",
    "    try:\n",
    "        (\n",
    "            (df.isna().mean()*100)\n",
    "            .to_frame()\n",
    "            .rename(columns = {0:'space'})\n",
    "            .query('space > 0')\n",
    "            .sort_values(by = 'space', ascending = True)\n",
    "            .plot(kind = 'barh', figsize = (19,6), rot = 0, legend = False, fontsize = 16)\n",
    "            .set_title('Проценты пропусков' + \"\\n\", fontsize = 22, color = 'SteelBlue')    \n",
    "        );    \n",
    "    except:\n",
    "        print('пропусков не осталось :) или произошла ошибка в первой части функции ')"
   ]
  },
  {
   "cell_type": "code",
   "execution_count": 16,
   "metadata": {},
   "outputs": [
    {
     "data": {
      "image/png": "[encoded data removed]",
      "text/plain": [
       "<Figure size 1368x432 with 1 Axes>"
      ]
     },
     "metadata": {
      "needs_background": "light"
     },
     "output_type": "display_data"
    }
   ],
   "source": [
    "pass_value_barh(data)"
   ]
  },
  {
   "cell_type": "markdown",
   "metadata": {},
   "source": [
    "На графике мы снова видим процент совпадений пропусков у некоторых переменных.\n",
    "Для начала начнём заполнять пропуски с переменных, где их очень мало. Их насколько мало, что кажется, что можно их точечно заполнить."
   ]
  },
  {
   "cell_type": "code",
   "execution_count": 133,
   "metadata": {},
   "outputs": [
    {
     "data": {
      "text/html": [
       "<div>\n",
       "<style scoped>\n",
       "    .dataframe tbody tr th:only-of-type {\n",
       "        vertical-align: middle;\n",
       "    }\n",
       "\n",
       "    .dataframe tbody tr th {\n",
       "        vertical-align: top;\n",
       "    }\n",
       "\n",
       "    .dataframe thead th {\n",
       "        text-align: right;\n",
       "    }\n",
       "</style>\n",
       "<table border=\"1\" class=\"dataframe\">\n",
       "  <thead>\n",
       "    <tr style=\"text-align: right;\">\n",
       "      <th></th>\n",
       "      <th>title</th>\n",
       "      <th>pu_number</th>\n",
       "      <th>show_start_date</th>\n",
       "      <th>type</th>\n",
       "      <th>film_studio</th>\n",
       "      <th>production_country</th>\n",
       "      <th>director</th>\n",
       "      <th>producer</th>\n",
       "      <th>age_restriction</th>\n",
       "      <th>refundable_support</th>\n",
       "      <th>nonrefundable_support</th>\n",
       "      <th>budget</th>\n",
       "      <th>financing_source</th>\n",
       "      <th>ratings</th>\n",
       "      <th>genres</th>\n",
       "      <th>box_office</th>\n",
       "    </tr>\n",
       "  </thead>\n",
       "  <tbody>\n",
       "    <tr>\n",
       "      <th>3186</th>\n",
       "      <td>Детский юмористический киножурнал \"Ералаш. Ну ...</td>\n",
       "      <td>111001216</td>\n",
       "      <td>2016-02-09 00:12:00</td>\n",
       "      <td>Художественный</td>\n",
       "      <td>ООО \"Продюсерский центр ЕРАЛАШ\"</td>\n",
       "      <td>NaN</td>\n",
       "      <td>Р.Светлов, И.Магитон, А.Арутюнян, Л.Мирский, А...</td>\n",
       "      <td>ООО \"Продюсерский центр ЕРАЛАШ\"</td>\n",
       "      <td>«0+» - для любой зрительской аудитории</td>\n",
       "      <td>NaN</td>\n",
       "      <td>NaN</td>\n",
       "      <td>NaN</td>\n",
       "      <td>NaN</td>\n",
       "      <td>7.2</td>\n",
       "      <td>детский,комедия</td>\n",
       "      <td>194527.0</td>\n",
       "    </tr>\n",
       "    <tr>\n",
       "      <th>4441</th>\n",
       "      <td>Мульт личности. Выпуск 5</td>\n",
       "      <td>214000410</td>\n",
       "      <td>2010-01-25 00:12:00</td>\n",
       "      <td>Художественный</td>\n",
       "      <td>NaN</td>\n",
       "      <td>NaN</td>\n",
       "      <td>NaN</td>\n",
       "      <td>NaN</td>\n",
       "      <td>«0+» - для любой зрительской аудитории</td>\n",
       "      <td>NaN</td>\n",
       "      <td>NaN</td>\n",
       "      <td>NaN</td>\n",
       "      <td>NaN</td>\n",
       "      <td>4.0</td>\n",
       "      <td>мультфильм,комедия</td>\n",
       "      <td>NaN</td>\n",
       "    </tr>\n",
       "  </tbody>\n",
       "</table>\n",
       "</div>"
      ],
      "text/plain": [
       "                                                  title  pu_number  \\\n",
       "3186  Детский юмористический киножурнал \"Ералаш. Ну ...  111001216   \n",
       "4441                           Мульт личности. Выпуск 5  214000410   \n",
       "\n",
       "         show_start_date            type                      film_studio  \\\n",
       "3186 2016-02-09 00:12:00  Художественный  ООО \"Продюсерский центр ЕРАЛАШ\"   \n",
       "4441 2010-01-25 00:12:00  Художественный                              NaN   \n",
       "\n",
       "     production_country                                           director  \\\n",
       "3186                NaN  Р.Светлов, И.Магитон, А.Арутюнян, Л.Мирский, А...   \n",
       "4441                NaN                                                NaN   \n",
       "\n",
       "                             producer                         age_restriction  \\\n",
       "3186  ООО \"Продюсерский центр ЕРАЛАШ\"  «0+» - для любой зрительской аудитории   \n",
       "4441                              NaN  «0+» - для любой зрительской аудитории   \n",
       "\n",
       "      refundable_support  nonrefundable_support  budget financing_source  \\\n",
       "3186                 NaN                    NaN     NaN              NaN   \n",
       "4441                 NaN                    NaN     NaN              NaN   \n",
       "\n",
       "      ratings              genres  box_office  \n",
       "3186      7.2     детский,комедия    194527.0  \n",
       "4441      4.0  мультфильм,комедия         NaN  "
      ]
     },
     "execution_count": 133,
     "metadata": {},
     "output_type": "execute_result"
    }
   ],
   "source": [
    "# срез с пропусками\n",
    "data.query('production_country.isna()')"
   ]
  },
  {
   "cell_type": "code",
   "execution_count": 134,
   "metadata": {},
   "outputs": [],
   "source": [
    "# заполню пропуски\n",
    "data.loc[3186,'production_country'] = 'Россия'\n",
    "data.loc[4441, 'production_country'] = 'Россия'"
   ]
  },
  {
   "cell_type": "code",
   "execution_count": 135,
   "metadata": {},
   "outputs": [
    {
     "data": {
      "text/html": [
       "<div>\n",
       "<style scoped>\n",
       "    .dataframe tbody tr th:only-of-type {\n",
       "        vertical-align: middle;\n",
       "    }\n",
       "\n",
       "    .dataframe tbody tr th {\n",
       "        vertical-align: top;\n",
       "    }\n",
       "\n",
       "    .dataframe thead th {\n",
       "        text-align: right;\n",
       "    }\n",
       "</style>\n",
       "<table border=\"1\" class=\"dataframe\">\n",
       "  <thead>\n",
       "    <tr style=\"text-align: right;\">\n",
       "      <th></th>\n",
       "      <th>title</th>\n",
       "      <th>pu_number</th>\n",
       "      <th>show_start_date</th>\n",
       "      <th>type</th>\n",
       "      <th>film_studio</th>\n",
       "      <th>production_country</th>\n",
       "      <th>director</th>\n",
       "      <th>producer</th>\n",
       "      <th>age_restriction</th>\n",
       "      <th>refundable_support</th>\n",
       "      <th>nonrefundable_support</th>\n",
       "      <th>budget</th>\n",
       "      <th>financing_source</th>\n",
       "      <th>ratings</th>\n",
       "      <th>genres</th>\n",
       "      <th>box_office</th>\n",
       "    </tr>\n",
       "  </thead>\n",
       "  <tbody>\n",
       "    <tr>\n",
       "      <th>764</th>\n",
       "      <td>Три звезды. Концерт в Waldbuhne Theater, Берли...</td>\n",
       "      <td>126003512</td>\n",
       "      <td>2012-12-04 00:12:00</td>\n",
       "      <td>Прочие</td>\n",
       "      <td>Райзинг Алтернатив</td>\n",
       "      <td>Великобритания</td>\n",
       "      <td>NaN</td>\n",
       "      <td>Вальдбюне Театр</td>\n",
       "      <td>«0+» - для любой зрительской аудитории</td>\n",
       "      <td>NaN</td>\n",
       "      <td>NaN</td>\n",
       "      <td>NaN</td>\n",
       "      <td>NaN</td>\n",
       "      <td>NaN</td>\n",
       "      <td>NaN</td>\n",
       "      <td>44350.0</td>\n",
       "    </tr>\n",
       "    <tr>\n",
       "      <th>1735</th>\n",
       "      <td>Помпеи. Британский музей</td>\n",
       "      <td>126003413</td>\n",
       "      <td>2013-09-11 00:12:00</td>\n",
       "      <td>Прочие</td>\n",
       "      <td>МортуСкрин, Британский музей</td>\n",
       "      <td>Великобритания</td>\n",
       "      <td>NaN</td>\n",
       "      <td>Британский музей</td>\n",
       "      <td>«0+» - для любой зрительской аудитории</td>\n",
       "      <td>NaN</td>\n",
       "      <td>NaN</td>\n",
       "      <td>NaN</td>\n",
       "      <td>NaN</td>\n",
       "      <td>NaN</td>\n",
       "      <td>NaN</td>\n",
       "      <td>NaN</td>\n",
       "    </tr>\n",
       "    <tr>\n",
       "      <th>3840</th>\n",
       "      <td>Зур концерт (Большой концерт).</td>\n",
       "      <td>217027010</td>\n",
       "      <td>2010-06-24 00:12:00</td>\n",
       "      <td>Художественный</td>\n",
       "      <td>ООО \"Барс Рекордс\"</td>\n",
       "      <td>Россия</td>\n",
       "      <td>NaN</td>\n",
       "      <td>NaN</td>\n",
       "      <td>«12+» - для детей старше 12 лет</td>\n",
       "      <td>NaN</td>\n",
       "      <td>NaN</td>\n",
       "      <td>NaN</td>\n",
       "      <td>NaN</td>\n",
       "      <td>NaN</td>\n",
       "      <td>NaN</td>\n",
       "      <td>NaN</td>\n",
       "    </tr>\n",
       "    <tr>\n",
       "      <th>4052</th>\n",
       "      <td>Ганс Сэйфуллин \"Авылым чишмэлэре. Ганс Сэйфулл...</td>\n",
       "      <td>217017310</td>\n",
       "      <td>2010-04-22 00:12:00</td>\n",
       "      <td>Художественный</td>\n",
       "      <td>ООО \"Барс-Рекордс\"</td>\n",
       "      <td>Россия</td>\n",
       "      <td>NaN</td>\n",
       "      <td>NaN</td>\n",
       "      <td>«0+» - для любой зрительской аудитории</td>\n",
       "      <td>NaN</td>\n",
       "      <td>NaN</td>\n",
       "      <td>NaN</td>\n",
       "      <td>NaN</td>\n",
       "      <td>NaN</td>\n",
       "      <td>NaN</td>\n",
       "      <td>NaN</td>\n",
       "    </tr>\n",
       "    <tr>\n",
       "      <th>4298</th>\n",
       "      <td>Изге Вэли (Святой Валентин)</td>\n",
       "      <td>217020610</td>\n",
       "      <td>2010-05-20 00:12:00</td>\n",
       "      <td>Художественный</td>\n",
       "      <td>ООО \"Барс Рекордс\"</td>\n",
       "      <td>Россия</td>\n",
       "      <td>NaN</td>\n",
       "      <td>NaN</td>\n",
       "      <td>«12+» - для детей старше 12 лет</td>\n",
       "      <td>NaN</td>\n",
       "      <td>NaN</td>\n",
       "      <td>NaN</td>\n",
       "      <td>NaN</td>\n",
       "      <td>NaN</td>\n",
       "      <td>NaN</td>\n",
       "      <td>NaN</td>\n",
       "    </tr>\n",
       "    <tr>\n",
       "      <th>4415</th>\n",
       "      <td>Bon Jovi. The Circle Tour</td>\n",
       "      <td>126001710</td>\n",
       "      <td>2010-11-11 00:12:00</td>\n",
       "      <td>Прочие</td>\n",
       "      <td>Эншутц Интертейнмент Груп</td>\n",
       "      <td>США</td>\n",
       "      <td>NaN</td>\n",
       "      <td>Эншутц Интертейнмент Груп</td>\n",
       "      <td>«0+» - для любой зрительской аудитории</td>\n",
       "      <td>NaN</td>\n",
       "      <td>NaN</td>\n",
       "      <td>NaN</td>\n",
       "      <td>NaN</td>\n",
       "      <td>7.9</td>\n",
       "      <td>концерт,музыка</td>\n",
       "      <td>NaN</td>\n",
       "    </tr>\n",
       "    <tr>\n",
       "      <th>4441</th>\n",
       "      <td>Мульт личности. Выпуск 5</td>\n",
       "      <td>214000410</td>\n",
       "      <td>2010-01-25 00:12:00</td>\n",
       "      <td>Художественный</td>\n",
       "      <td>NaN</td>\n",
       "      <td>Россия</td>\n",
       "      <td>NaN</td>\n",
       "      <td>NaN</td>\n",
       "      <td>«0+» - для любой зрительской аудитории</td>\n",
       "      <td>NaN</td>\n",
       "      <td>NaN</td>\n",
       "      <td>NaN</td>\n",
       "      <td>NaN</td>\n",
       "      <td>4.0</td>\n",
       "      <td>мультфильм,комедия</td>\n",
       "      <td>NaN</td>\n",
       "    </tr>\n",
       "    <tr>\n",
       "      <th>4923</th>\n",
       "      <td>Георг Фридрих Гендель. Мессия. Оратория. Корол...</td>\n",
       "      <td>126001111</td>\n",
       "      <td>2011-04-25 00:12:00</td>\n",
       "      <td>Прочие</td>\n",
       "      <td>Опус Арт</td>\n",
       "      <td>Великобритания</td>\n",
       "      <td>NaN</td>\n",
       "      <td>Короевский колледж Кембриджа</td>\n",
       "      <td>«0+» - для любой зрительской аудитории</td>\n",
       "      <td>NaN</td>\n",
       "      <td>NaN</td>\n",
       "      <td>NaN</td>\n",
       "      <td>NaN</td>\n",
       "      <td>NaN</td>\n",
       "      <td>NaN</td>\n",
       "      <td>NaN</td>\n",
       "    </tr>\n",
       "    <tr>\n",
       "      <th>4942</th>\n",
       "      <td>Питер Гэбриэл и New Blood Orchestra 3D</td>\n",
       "      <td>126002711</td>\n",
       "      <td>2011-11-11 00:12:00</td>\n",
       "      <td>Прочие</td>\n",
       "      <td>Омниверс Визион</td>\n",
       "      <td>Великобритания</td>\n",
       "      <td>NaN</td>\n",
       "      <td>Омниверс Визион</td>\n",
       "      <td>«0+» - для любой зрительской аудитории</td>\n",
       "      <td>NaN</td>\n",
       "      <td>NaN</td>\n",
       "      <td>NaN</td>\n",
       "      <td>NaN</td>\n",
       "      <td>6.7</td>\n",
       "      <td>концерт,музыка</td>\n",
       "      <td>NaN</td>\n",
       "    </tr>\n",
       "  </tbody>\n",
       "</table>\n",
       "</div>"
      ],
      "text/plain": [
       "                                                  title  pu_number  \\\n",
       "764   Три звезды. Концерт в Waldbuhne Theater, Берли...  126003512   \n",
       "1735                           Помпеи. Британский музей  126003413   \n",
       "3840                     Зур концерт (Большой концерт).  217027010   \n",
       "4052  Ганс Сэйфуллин \"Авылым чишмэлэре. Ганс Сэйфулл...  217017310   \n",
       "4298                        Изге Вэли (Святой Валентин)  217020610   \n",
       "4415                          Bon Jovi. The Circle Tour  126001710   \n",
       "4441                           Мульт личности. Выпуск 5  214000410   \n",
       "4923  Георг Фридрих Гендель. Мессия. Оратория. Корол...  126001111   \n",
       "4942             Питер Гэбриэл и New Blood Orchestra 3D  126002711   \n",
       "\n",
       "         show_start_date            type                   film_studio  \\\n",
       "764  2012-12-04 00:12:00          Прочие            Райзинг Алтернатив   \n",
       "1735 2013-09-11 00:12:00          Прочие  МортуСкрин, Британский музей   \n",
       "3840 2010-06-24 00:12:00  Художественный            ООО \"Барс Рекордс\"   \n",
       "4052 2010-04-22 00:12:00  Художественный            ООО \"Барс-Рекордс\"   \n",
       "4298 2010-05-20 00:12:00  Художественный            ООО \"Барс Рекордс\"   \n",
       "4415 2010-11-11 00:12:00          Прочие     Эншутц Интертейнмент Груп   \n",
       "4441 2010-01-25 00:12:00  Художественный                           NaN   \n",
       "4923 2011-04-25 00:12:00          Прочие                      Опус Арт   \n",
       "4942 2011-11-11 00:12:00          Прочие               Омниверс Визион   \n",
       "\n",
       "     production_country director                      producer  \\\n",
       "764      Великобритания      NaN               Вальдбюне Театр   \n",
       "1735     Великобритания      NaN              Британский музей   \n",
       "3840             Россия      NaN                           NaN   \n",
       "4052             Россия      NaN                           NaN   \n",
       "4298             Россия      NaN                           NaN   \n",
       "4415                США      NaN     Эншутц Интертейнмент Груп   \n",
       "4441             Россия      NaN                           NaN   \n",
       "4923     Великобритания      NaN  Короевский колледж Кембриджа   \n",
       "4942     Великобритания      NaN               Омниверс Визион   \n",
       "\n",
       "                             age_restriction  refundable_support  \\\n",
       "764   «0+» - для любой зрительской аудитории                 NaN   \n",
       "1735  «0+» - для любой зрительской аудитории                 NaN   \n",
       "3840         «12+» - для детей старше 12 лет                 NaN   \n",
       "4052  «0+» - для любой зрительской аудитории                 NaN   \n",
       "4298         «12+» - для детей старше 12 лет                 NaN   \n",
       "4415  «0+» - для любой зрительской аудитории                 NaN   \n",
       "4441  «0+» - для любой зрительской аудитории                 NaN   \n",
       "4923  «0+» - для любой зрительской аудитории                 NaN   \n",
       "4942  «0+» - для любой зрительской аудитории                 NaN   \n",
       "\n",
       "      nonrefundable_support  budget financing_source  ratings  \\\n",
       "764                     NaN     NaN              NaN      NaN   \n",
       "1735                    NaN     NaN              NaN      NaN   \n",
       "3840                    NaN     NaN              NaN      NaN   \n",
       "4052                    NaN     NaN              NaN      NaN   \n",
       "4298                    NaN     NaN              NaN      NaN   \n",
       "4415                    NaN     NaN              NaN      7.9   \n",
       "4441                    NaN     NaN              NaN      4.0   \n",
       "4923                    NaN     NaN              NaN      NaN   \n",
       "4942                    NaN     NaN              NaN      6.7   \n",
       "\n",
       "                  genres  box_office  \n",
       "764                  NaN     44350.0  \n",
       "1735                 NaN         NaN  \n",
       "3840                 NaN         NaN  \n",
       "4052                 NaN         NaN  \n",
       "4298                 NaN         NaN  \n",
       "4415      концерт,музыка         NaN  \n",
       "4441  мультфильм,комедия         NaN  \n",
       "4923                 NaN         NaN  \n",
       "4942      концерт,музыка         NaN  "
      ]
     },
     "execution_count": 135,
     "metadata": {},
     "output_type": "execute_result"
    }
   ],
   "source": [
    "# срез\n",
    "data.query('director.isna()')"
   ]
  },
  {
   "cell_type": "markdown",
   "metadata": {},
   "source": [
    "Это записи концертов, у которых действительно нет режиссера. Пропусков в названиях студий тоже довольно мало. Мы можем удалить эти записи и это не повлияет на результат анализа."
   ]
  },
  {
   "cell_type": "code",
   "execution_count": 136,
   "metadata": {},
   "outputs": [],
   "source": [
    "# удаляю наблюдения\n",
    "data = data.dropna(subset = ['director', 'film_studio']).reset_index(drop = True)"
   ]
  },
  {
   "cell_type": "markdown",
   "metadata": {},
   "source": [
    "Жанр является категориальной переменной, мы не сможем заполнить пропуски с помощью какого-то алгоритма, при этом пропусков достаточно много и терять так много наблюдений нельзя. Поэтому, я их просто оставлю."
   ]
  },
  {
   "cell_type": "code",
   "execution_count": 137,
   "metadata": {},
   "outputs": [],
   "source": [
    "# применяем knn для подмножества данных\n",
    "d = (data.query('box_office.notna()')[['ratings', 'box_office']])\n",
    "imputer = KNNImputer(n_neighbors = 5, weights = 'uniform', metric = 'nan_euclidean')\n",
    "imputer.fit(d)\n",
    "dtrans = imputer.transform(d)"
   ]
  },
  {
   "cell_type": "code",
   "execution_count": 138,
   "metadata": {},
   "outputs": [],
   "source": [
    "# запишем полученные значения в датафрейм\n",
    "data.loc[data['box_office'].notna(), 'ratings']= (pd.DataFrame(dtrans, index = data.loc[data['box_office'].notna(), 'ratings']\n",
    "                                                               .index ).loc[:,0])"
   ]
  },
  {
   "cell_type": "markdown",
   "metadata": {},
   "source": [
    "Пропусков в данных о кинопрокате слишком много, мы не можем их ни заполнить на какие-то другие ни удалить, так как это сильно повлияет на наш анализ.\n",
    "Посмотрим на пропуски в данных о бюджете и финансах фильма. Поскольку все эти пропуски абсолютно одинаковые (полностью совпадают), посмотрим только на примере одной переменной."
   ]
  },
  {
   "cell_type": "code",
   "execution_count": 139,
   "metadata": {},
   "outputs": [
    {
     "data": {
      "text/plain": [
       "production_country\n",
       "Россия                                        316\n",
       "Россия - Грузия                                 1\n",
       "Россия, Армения                                 1\n",
       "Россия, Бельгия, Финляндия                      1\n",
       "Россия, Германия                                2\n",
       "Россия, Германия, Великобритания                1\n",
       "Россия, Германия, Казахстан, Польша, Китай      1\n",
       "Россия, Италия                                  2\n",
       "Россия, Латвия, Чешская Республика              1\n",
       "Россия, Сербия                                  1\n",
       "Россия, Украина, Польша                         1\n",
       "Россия, Франция, Латвия                         1\n",
       "Россия-Китай                                    1\n",
       "Россия-Словакия-Чехия                           1\n",
       "Россия-Украина                                  1\n",
       "Name: type, dtype: int64"
      ]
     },
     "execution_count": 139,
     "metadata": {},
     "output_type": "execute_result"
    }
   ],
   "source": [
    "# срез данных с известным бюджетом\n",
    "data.query('budget.notna()').groupby('production_country')['type'].count()"
   ]
  },
  {
   "cell_type": "markdown",
   "metadata": {},
   "source": [
    "Мы знаем данные о бюджете и финансировании только тех фильмов, в которых принимала участие Россия (потому что такой источник этих данных)."
   ]
  },
  {
   "cell_type": "code",
   "execution_count": 144,
   "metadata": {},
   "outputs": [
    {
     "data": {
      "text/plain": [
       "1635"
      ]
     },
     "execution_count": 144,
     "metadata": {},
     "output_type": "execute_result"
    }
   ],
   "source": [
    "# срез\n",
    "data.loc[data['production_country'].str.contains('Россия') & data['budget'].isna()]['type'].count()\n"
   ]
  },
  {
   "cell_type": "markdown",
   "metadata": {},
   "source": [
    "При этом есть 1635 наблюдений с фильмами с участием России, где тем не менее данные о бюджете отсутствуют. \n",
    "\n",
    "Посмотрю на статистики финансовой поддержки"
   ]
  },
  {
   "cell_type": "code",
   "execution_count": 145,
   "metadata": {},
   "outputs": [
    {
     "data": {
      "text/plain": [
       "count            332\n",
       "mean      11,864,458\n",
       "std       24,916,555\n",
       "min                0\n",
       "25%                0\n",
       "50%                0\n",
       "75%       15,000,000\n",
       "max      180,000,000\n",
       "Name: refundable_support, dtype: object"
      ]
     },
     "execution_count": 145,
     "metadata": {},
     "output_type": "execute_result"
    }
   ],
   "source": [
    "# вывожу статистику\n",
    "data['refundable_support'].describe().apply('{:,.0f}'.format)"
   ]
  },
  {
   "cell_type": "code",
   "execution_count": 146,
   "metadata": {},
   "outputs": [
    {
     "data": {
      "text/plain": [
       "count            332\n",
       "mean      48,980,989\n",
       "std       59,980,118\n",
       "min                0\n",
       "25%       25,000,000\n",
       "50%       30,000,000\n",
       "75%       40,375,000\n",
       "max      400,000,000\n",
       "Name: nonrefundable_support, dtype: object"
      ]
     },
     "execution_count": 146,
     "metadata": {},
     "output_type": "execute_result"
    }
   ],
   "source": [
    "# вывожу статистику\n",
    "data['nonrefundable_support'].describe().apply('{:,.0f}'.format)"
   ]
  },
  {
   "cell_type": "code",
   "execution_count": 147,
   "metadata": {},
   "outputs": [
    {
     "data": {
      "text/plain": [
       "array([nan, 'Министерство культуры', 'Фонд кино',\n",
       "       'Министерство культуры, Фонд кино'], dtype=object)"
      ]
     },
     "execution_count": 147,
     "metadata": {},
     "output_type": "execute_result"
    }
   ],
   "source": [
    "# смотрим значения\n",
    "data['financing_source'].unique()"
   ]
  },
  {
   "cell_type": "markdown",
   "metadata": {},
   "source": [
    "Посмотрим, возможно, что фильмы с участием РФ, у которых есть и нету данные о финансовой поддержке разничаются по годам. Такое можно было бы предположить, если бы данные о финансировании были  бы только, начиная с какого-то года."
   ]
  },
  {
   "cell_type": "code",
   "execution_count": 148,
   "metadata": {},
   "outputs": [
    {
     "data": {
      "image/png": "[encoded data removed]",
      "text/plain": [
       "<Figure size 720x360 with 1 Axes>"
      ]
     },
     "metadata": {
      "needs_background": "light"
     },
     "output_type": "display_data"
    }
   ],
   "source": [
    "# вывожу гистограмму\n",
    "plt.figure(figsize = (10,5))\n",
    "plt.hist(data.query('budget.notna()')['show_start_date'].dt.year, bins = 20, rwidth = 1);\n",
    "plt.xlabel('\\n' 'год')\n",
    "plt.ylabel('колличество наблюдений')\n",
    "plt.xlim(2010, 2019)\n",
    "plt.title('года выхода фильмов с данными о гос. поддержке' '\\n');\n"
   ]
  },
  {
   "cell_type": "code",
   "execution_count": 149,
   "metadata": {},
   "outputs": [
    {
     "data": {
      "image/png": "[encoded data removed]",
      "text/plain": [
       "<Figure size 720x360 with 1 Axes>"
      ]
     },
     "metadata": {
      "needs_background": "light"
     },
     "output_type": "display_data"
    }
   ],
   "source": [
    "# вывожу гистограмму\n",
    "plt.figure(figsize = (10,5))\n",
    "plt.hist(data.loc[data['production_country'].str.contains('Россия'), 'show_start_date'].dt.year, bins = 20, rwidth = 1);\n",
    "plt.xlabel('\\n' 'год')\n",
    "plt.ylabel('колличество наблюдений')\n",
    "plt.xlim(2010, 2019)\n",
    "plt.title('года выхода фильмов без данных о гос. поддержке' '\\n');\n"
   ]
  },
  {
   "cell_type": "markdown",
   "metadata": {},
   "source": [
    "Мы видим, что фильмы с данными о гос. поддержке выходили после 2013 года. Можно сделать вывод, что фильмы с участием РФ, выходившие после 2013 года и с пропусками в этих значениях не имеют гос. финансирования. Я заменю пропуски в refundable_support и nonrefundable_support в таких наблюдениях на 0."
   ]
  },
  {
   "cell_type": "code",
   "execution_count": 150,
   "metadata": {},
   "outputs": [],
   "source": [
    "# заполняю пропуски\n",
    "(\n",
    "    data\n",
    "    .loc[(data['production_country'].str.contains('Россия')) \n",
    "         & (data['show_start_date'].dt.year>=2013) & (data['refundable_support'].isna()),'refundable_support']) = 0\n",
    "\n",
    "(\n",
    "    data\n",
    "    .loc[(data['production_country'].str.contains('Россия')) \n",
    "         & (data['show_start_date'].dt.year>=2013) & (data['nonrefundable_support'].isna()),'nonrefundable_support']) = 0\n"
   ]
  },
  {
   "cell_type": "markdown",
   "metadata": {
    "id": "4c6k1t9ygFyQ"
   },
   "source": [
    "# Шаг 2.3. Изучите дубликаты в датафрейме\n",
    "- Проверьте, есть ли в данных дубликаты. Опишите причины, которые могли повлиять на появление дублей."
   ]
  },
  {
   "cell_type": "markdown",
   "metadata": {},
   "source": [
    "Для начала посмотрим, есть ли явные дубликаты."
   ]
  },
  {
   "cell_type": "code",
   "execution_count": 151,
   "metadata": {},
   "outputs": [
    {
     "data": {
      "text/plain": [
       "0.0"
      ]
     },
     "execution_count": 151,
     "metadata": {},
     "output_type": "execute_result"
    }
   ],
   "source": [
    "# процент дубликатов\n",
    "data.duplicated().mean()"
   ]
  },
  {
   "cell_type": "markdown",
   "metadata": {},
   "source": [
    "Явных дубликатов в данных нет."
   ]
  },
  {
   "cell_type": "code",
   "execution_count": 152,
   "metadata": {},
   "outputs": [
    {
     "data": {
      "text/plain": [
       "0.09557640750670242"
      ]
     },
     "execution_count": 152,
     "metadata": {},
     "output_type": "execute_result"
    }
   ],
   "source": [
    "# дубликаты по подмножеству\n",
    "data.duplicated(subset = ['title']).mean()"
   ]
  },
  {
   "cell_type": "markdown",
   "metadata": {},
   "source": [
    "Оказывается есть дубликаты по названию, удялю их."
   ]
  },
  {
   "cell_type": "code",
   "execution_count": 153,
   "metadata": {},
   "outputs": [],
   "source": [
    "# удаляю\n",
    "data = data.drop_duplicates(subset = ['title']).reset_index(drop = True)"
   ]
  },
  {
   "cell_type": "code",
   "execution_count": 154,
   "metadata": {},
   "outputs": [
    {
     "data": {
      "text/plain": [
       "array(['Художественный', 'Анимационный', 'Прочие', 'Документальный',\n",
       "       'Научно-популярный', ' Художественный', ' Анимационный',\n",
       "       'Музыкально-развлекательный'], dtype=object)"
      ]
     },
     "execution_count": 154,
     "metadata": {},
     "output_type": "execute_result"
    }
   ],
   "source": [
    "# уникальные значения\n",
    "data['type'].unique()"
   ]
  },
  {
   "cell_type": "markdown",
   "metadata": {},
   "source": [
    "Есть проблема в пробеле в начале жанра \"Художественный\", таким типом проблем займёмся на следующем шаге."
   ]
  },
  {
   "cell_type": "code",
   "execution_count": 155,
   "metadata": {},
   "outputs": [
    {
     "data": {
      "text/plain": [
       "array(['Тачстоун Пикчерз, Кобальт Пикчерз, Бикон Пикчерз, Тиг Продакшнз',\n",
       "       'Киностудия \"Мосфильм\"',\n",
       "       'Юниверсал Пикчерз, Кикстарт Продакшнз, Марк Платт Продакшнз, Рилейтивити Медиа, Спайгласс Интертейнмент, Стилкин Филмз, Топ Кау Продакшнз',\n",
       "       ...,\n",
       "       'Дэниел Гродник Продакшнз, Вандерфилм Медиа Корпорэйшн, Импринт Интертейнмент, Вор Хорс Интертейнмент, Пимиента ',\n",
       "       'Никелодеон Анимейшн Студиос, Спин Мастер',\n",
       "       'Анимаккорд Лтд., ООО Студия \"АНИМАККОРД\"'], dtype=object)"
      ]
     },
     "execution_count": 155,
     "metadata": {},
     "output_type": "execute_result"
    }
   ],
   "source": [
    "# уникальные значения\n",
    "data['film_studio'].unique()"
   ]
  },
  {
   "cell_type": "code",
   "execution_count": 156,
   "metadata": {},
   "outputs": [
    {
     "data": {
      "text/plain": [
       "5441"
      ]
     },
     "execution_count": 156,
     "metadata": {},
     "output_type": "execute_result"
    }
   ],
   "source": [
    "# подсчёт значений\n",
    "len(data['film_studio'].unique())"
   ]
  },
  {
   "cell_type": "markdown",
   "metadata": {},
   "source": [
    "Есть 5441 разных названий студий. На первый взгляд сложно увидеть, есть ли тут дубликаты, но из названий можно понять, что проблемы могут возникнуть либо с названиями, дублирующими строчный и заглавный текст, либо с транслитерацией английских названий."
   ]
  },
  {
   "cell_type": "code",
   "execution_count": 157,
   "metadata": {},
   "outputs": [],
   "source": [
    "# унификация шрифта\n",
    "data['film_studio'] = data['film_studio'].str.lower()"
   ]
  },
  {
   "cell_type": "code",
   "execution_count": 158,
   "metadata": {},
   "outputs": [
    {
     "data": {
      "text/plain": [
       "5402"
      ]
     },
     "execution_count": 158,
     "metadata": {},
     "output_type": "execute_result"
    }
   ],
   "source": [
    "# считаем значения\n",
    "len(data['film_studio'].unique())"
   ]
  },
  {
   "cell_type": "markdown",
   "metadata": {},
   "source": [
    "Получилось избавиться от 39 дубликатов."
   ]
  },
  {
   "cell_type": "markdown",
   "metadata": {
    "id": "52fOPrEBgFyQ"
   },
   "source": [
    "# Шаг 2.4. Изучите категориальные значения\n",
    "\n",
    "- Посмотрите, какая общая проблема встречается почти во всех категориальных столбцах;\n",
    "- Исправьте проблемные значения в поле `type`.\n",
    "\n",
    "<div id=\"accordion\">\n",
    "    <div class=\"card\">\n",
    "        <div class=\"card-header\" id=\"headingThree\">\n",
    "            <button class=\"btn btn-link collapsed\" data-toggle=\"collapse\" data-target=\"#collapseHint_1\" aria-expanded=\"false\" aria-controls=\"collapseHint_1\">Подсказка</button>\n",
    "        </div>\n",
    "        <div id=\"collapseHint_1\" class=\"collapse\" aria-labelledby=\"headingThree\" data-parent=\"#accordion\">\n",
    "            <div class=\"card-body\">\n",
    "В поле <code>type</code> есть несколько значений, у которых появился пробел в начале строки. Самый простой способ их «починить» -- использовать метод <a href=\"https://pandas.pydata.org/docs/reference/api/pandas.Series.str.strip.html#pandas.Series.str.strip\">.str.strip</a>. Этот метод удаляет все пробелы, которые встречаются в начале и в конце строки. Применяют его таким образом:<br>\n",
    "<code>df['type'].str.strip()</code>\n",
    "            </div>\n",
    "        </div>\n",
    "    </div>\n",
    "</div>"
   ]
  },
  {
   "cell_type": "markdown",
   "metadata": {
    "id": "PnXKIVdFgFyR"
   },
   "source": [
    "Посмотрим еще раз на типы переменных."
   ]
  },
  {
   "cell_type": "code",
   "execution_count": 159,
   "metadata": {},
   "outputs": [
    {
     "name": "stdout",
     "output_type": "stream",
     "text": [
      "<class 'pandas.core.frame.DataFrame'>\n",
      "RangeIndex: 6747 entries, 0 to 6746\n",
      "Data columns (total 16 columns):\n",
      " #   Column                 Non-Null Count  Dtype         \n",
      "---  ------                 --------------  -----         \n",
      " 0   title                  6747 non-null   object        \n",
      " 1   pu_number              6747 non-null   object        \n",
      " 2   show_start_date        6747 non-null   datetime64[ns]\n",
      " 3   type                   6747 non-null   object        \n",
      " 4   film_studio            6747 non-null   object        \n",
      " 5   production_country     6747 non-null   object        \n",
      " 6   director               6747 non-null   object        \n",
      " 7   producer               6192 non-null   object        \n",
      " 8   age_restriction        6747 non-null   object        \n",
      " 9   refundable_support     1554 non-null   float64       \n",
      " 10  nonrefundable_support  1554 non-null   float64       \n",
      " 11  budget                 329 non-null    float64       \n",
      " 12  financing_source       329 non-null    object        \n",
      " 13  ratings                6049 non-null   float64       \n",
      " 14  genres                 5798 non-null   object        \n",
      " 15  box_office             3015 non-null   float64       \n",
      "dtypes: datetime64[ns](1), float64(5), object(10)\n",
      "memory usage: 843.5+ KB\n"
     ]
    }
   ],
   "source": [
    "# вывожу типы\n",
    "data.info()"
   ]
  },
  {
   "cell_type": "markdown",
   "metadata": {},
   "source": [
    "С точки зрения типов данных, сейчас всё нормально. Единственный спорный пункт - это то, что pu_number включает идентификационный номер, а является сейчас переменной типа object. Но на самом деле, это не является проблемой, потому что мы не будем делать числовые операции с номером, а наличие пропуска усложняет перевод в тип int, поэтому я оставлю его object.\n",
    "\n",
    "Теперь посмотрим на значения категориальных переменных. Я уже видела, что в переменной type повторялось одно и то же значение \"Художественный\" с разницей только в пробеле. Я также видела уже значения в film_studio, которых очень много. Посмотрим на остальные переменные."
   ]
  },
  {
   "cell_type": "code",
   "execution_count": 160,
   "metadata": {},
   "outputs": [
    {
     "name": "stdout",
     "output_type": "stream",
     "text": [
      "['Художественный' 'Анимационный' 'Прочие' 'Документальный'\n",
      " 'Научно-популярный' ' Художественный' ' Анимационный'\n",
      " 'Музыкально-развлекательный']\n",
      "\n",
      "['США' 'СССР' 'Франция' 'СССР, Венгрия' 'Германия-Великобритания'\n",
      " 'Великобритания - Италия' 'Чехословакия' 'США - Франция - Турция'\n",
      " 'Новая Зеландия' 'Канада - Франция - Испания' 'США-Германия'\n",
      " 'США - Великобритания' 'Великобритания' 'США - Германия'\n",
      " 'Франция - Мексика - США' 'Россия, Казахстан, США' 'СССР, Швеция'\n",
      " 'СССР, Франция, Англия, Куба, ГДР' 'Германия'\n",
      " 'Великобритания-США-Германия-КНР' 'СССР, ЧССР, Западный Берлин, ПНР'\n",
      " 'СССР, Италия' 'Гонконг, КНР' 'США - Франция'\n",
      " 'США - Япония - Франция - Великобритания'\n",
      " 'Гонконг - Сингапур - Таиланд - Великобритания' 'США-Канада'\n",
      " 'Франция - Италия - Великобритания - США' 'Франция - США'\n",
      " 'Ирландия-Великобритания-Германия' 'Чехия' 'США-Австралия'\n",
      " 'СССР, Финляндия' 'США-Франция-Великобритания-Австрия' 'США - Бельгия'\n",
      " 'США - Ирландия - Великобритания' 'Великобритания - США'\n",
      " 'Люксембург - Нидерланды - Испания - Великобритания - США - Италия'\n",
      " 'Великобритания - Франция - США' 'Новая Зеландия - США'\n",
      " 'США - Великобритания - Чехия' 'Канада - Франция - Великобритания'\n",
      " 'Ирландия' 'Великобритания - Германия - США'\n",
      " 'США - Франция - Великобритания' 'Япония' 'СССР, Польша'\n",
      " 'Франция - Испания' 'Канада-Франция' 'Германия - Италия - США'\n",
      " 'Аргентина - Бразилия' 'Дания - Швейцария - Бельгия - Франция'\n",
      " 'США - Испания' 'Германия - США'\n",
      " 'Франция - Австрия - Германия - Италия - США' 'Австрия'\n",
      " 'США - Канада - Германия' 'США - Канада' 'СССР - Швейцария - Франция'\n",
      " 'Россия - Казахстан' 'Гонконг' 'Италия' 'США - ОАЭ' 'Россия'\n",
      " 'США - Франция - Испания - Великобритания' 'Великобритания - Франция'\n",
      " 'США-Италия-Испания-Аргентина' 'Франция-Великобритания' 'КНР - Гонконг'\n",
      " 'Франция - Италия - Швейцария' 'США - Новая Зеландия' 'Франция - Бельгия'\n",
      " 'КНР' 'Германия - Великобритания - Австрия'\n",
      " 'Великобритания - Израиль - Франция - Япония - США' 'Швеция' 'Испания'\n",
      " 'Дания' 'Франция - Бельгия - Люксембург' 'США - Индия - ОАЭ'\n",
      " 'Германия-Канада-Великобритания-Швейцария-Франция' 'Мексика - Чили'\n",
      " 'Аргентина' 'Бразилия' 'Чили' 'Австралия' 'Португалия - Франция'\n",
      " 'США - ЮАР' 'Исландия-Ирландия-Германия' 'США-Индонезия' 'Южная Корея'\n",
      " 'Мексика - Испания - Дания - США' 'Великобритания-США' 'Франция - Италия'\n",
      " 'США-Франция' 'США - Венгрия - Великобритания' 'Бельгия-Франция-Италия'\n",
      " 'Чехия - Германия' 'Германия - Франция' 'США-Нидерланды' 'Украина'\n",
      " 'Великобритания - Германия' 'Франция-Бельгия' 'США-Франция-Испания'\n",
      " 'Италия - Франция' 'Канада' 'Швеция-Франция-Дания'\n",
      " 'Германия-Франция-Польша' 'Франция-Великобритания - Германия'\n",
      " 'США - Бразилия - Франция - Австралия - Великобритания - Германия'\n",
      " 'Германия-Австрия' 'Германия-Италия- Шри-Ланка'\n",
      " 'Великобритания - Испания' 'США - Великобритания - Канада - Швеция'\n",
      " 'Босния и Герцеговина - Франция - Великобритания - Германия - Словения - Бельгия - Сербия'\n",
      " 'Великобритания - Франция - Италия - США' 'США-ОАЭ' 'Испания - Франция'\n",
      " 'США-Великобритания' 'США-ЮАР' 'Великобритания-Австралия - США'\n",
      " 'Норвегия - Швеция - Дания - Германия' 'Норвегия' 'Швейцария'\n",
      " 'Греция - Германия - Франция' 'Норвения' 'Южная Корея - США'\n",
      " 'Чили - Франция - США' 'Австрия - Германия - Франция' 'Швеция - Дания'\n",
      " 'Великобритания - Франция - Бельгия - Италия' 'Франция - Германия'\n",
      " 'Грузия - Франция - Люксембург'\n",
      " 'США - Франция - Великобритания - Бразилия ' 'США - КНР'\n",
      " 'Мексика - Франция' 'США - Германия - Гонконг - Сингапур'\n",
      " 'Финляндия - Австрия - Россия' 'Испания - Куба' 'Великобритания - ЮАР'\n",
      " 'Великобритания - Ирландия' 'Израиль'\n",
      " 'Бразилия - Германия - Порртугалия - Франция '\n",
      " 'Франция - Канада - Бельгия' 'Франция-Испания'\n",
      " 'Испания - Канада - Япония' 'Иран' 'Швеция-Куба'\n",
      " 'США-Великобритания-Ирландия' 'Гонконг - КНР' 'Нидерланды'\n",
      " 'Испания - Канада' 'Япония-Великобритания'\n",
      " 'Великобритания - Норвегия - Дания - Германия'\n",
      " 'Финляндия - Франция - Германия'\n",
      " 'Мексика - Франция - Нидерланды - Германия' 'США - Индия'\n",
      " 'США-Великобритания-Индия' 'США-Канада-Бельгия' 'Республика Узбекистан'\n",
      " 'Италия ' 'Турция'\n",
      " 'Сербия - Словения - Хорватия - Черногория - Македония' 'Киргизия'\n",
      " 'Германия - Нидерланды - Беларусь - Россия - Латвия' 'Индия'\n",
      " 'Нидерланды - Россия - Германия'\n",
      " 'Великобритания - Нидерланды - Франция - Хорватия' 'Канада - Южная Корея'\n",
      " 'Великобритания - Польша - КНР - Индия - Норвегия'\n",
      " 'Япония - Франция - США - Южная Корея - Турция'\n",
      " 'Мексика - Аргентина - Великобритания' 'Израиль - Франция'\n",
      " 'Польша - Португалия - Франция - Великобритания' 'Австралия - США'\n",
      " 'США - Великобритания ' 'Франция - Люксембург - Бельгия' 'Армения'\n",
      " 'Бельгия - Люксембург - Франция - Швейцария'\n",
      " 'США - Великобритания - Канада' 'Норвегия - Швеция' 'Канада - Франция'\n",
      " 'КНР - Гонконг - США' 'США - Сингапур - Малайзия - Индонезия'\n",
      " 'Германия - Россия' 'Япония - Канада'\n",
      " 'Финляндия - Дания - Германия - Ирландия'\n",
      " 'Франция - Люксембург - Германия - Бельгия - Швейцария - Великобритания '\n",
      " 'Канада - США' 'США-Италия-Испания' 'США-Испания'\n",
      " 'США - Швейцария - Франция' 'Испания - США - Колумбия' 'Канада-ЮАР'\n",
      " 'Франция - Россия' 'Германия - Финляндия - Австралия' 'Дания - Швеция'\n",
      " 'Бельгия' 'Германия - Франция - Австрия' 'Франция-Индия' 'ЮАР'\n",
      " 'Франция-Перу' 'Франция - Канада' 'Республика Беларусь'\n",
      " 'Великобритания - Австрия - Франция - США' 'Австрия-Германия-Франция'\n",
      " 'США-Россия' 'Германия-США' 'США - Южная Корея' 'Канада - КНР'\n",
      " 'Дания - Швеция - Италия - Франция - Германия'\n",
      " 'Франция-Италия-Испания-Венгрия' 'Франция - Германия - Бельгия'\n",
      " 'Франция-Великобритания-Чехия' 'Румыния - Франция - Бельгия'\n",
      " 'Болгария - Франция - Изриль'\n",
      " 'Израиль - Германия - Польша - Бельгия - Франция - Люксембург'\n",
      " 'Россия, Германия, Франция, Бельгия' 'Индонезия' 'Франция - Португалия'\n",
      " 'Великобритания - Пуэрто-Рико' 'СССР, ФРГ, Западный Берлин'\n",
      " 'Россия, Республика Беларусь' 'Франция - Австрия' 'Бельгия-Нидерланды'\n",
      " 'Великобритания - США - Индия' 'США - Великобритания - Австралия'\n",
      " 'Канада - Франция - США - ОАЭ - Великобритания'\n",
      " 'США - Австралия - Франция'\n",
      " 'Дания-Франция-Бельгия-Германия-Великобритания' 'Испания - Аргентина'\n",
      " 'Исландия - Финляндия' 'Россия-Польша-Голландия-Словакия'\n",
      " 'Дания - Германия - Швеция' 'Южная Корея - США - Канада' 'Таиланд'\n",
      " 'США-Мальта' 'США -Германия'\n",
      " 'Великобритания - Германия - Франция - Кипр - США' 'Мексика'\n",
      " 'США - Великобритания - Ирландия' 'США - Украина'\n",
      " 'США - Финляндия - Испания - Великобритания - Франция'\n",
      " 'Австралия-Великобритания'\n",
      " 'США - Канада - Афганистан - Бельгия - Франция'\n",
      " 'США - Великобритания - Германия - Новая Зеландия - Бельгия - Франция'\n",
      " 'Франция-Канада'\n",
      " 'Ирландия - Финляндия - Бельгия - Великобритания - США - Швейцария'\n",
      " 'Малайзия - США' 'Германия - Италия' 'США - Франция - Бельгия - Италия'\n",
      " 'Франция - Ирландия - Швеция' 'Азербайджан-Россия'\n",
      " 'Великобритания - Италия - Швейцария' 'США - Германия - Великобритания'\n",
      " 'Германия - Бельгия - США -Франция' 'США-Китай' 'Чили - Испания'\n",
      " 'Франция - Швейцария' 'Канада - Испания' 'США - Румыния - Великобритания'\n",
      " 'США - Япония' 'США - Россия - Франция' 'Франция-США' 'Парагвай'\n",
      " 'Германия - Канада' 'США - Канада - Великобритания' 'Финляндия - Канада'\n",
      " 'Уругвай-Мексика-Германия ' 'США - Чили'\n",
      " 'Германия - Аргентина - Нидерланды - Чили' 'США - Канада - Индонезия'\n",
      " 'Армения - Казахстан' 'Финляндия' 'Испания - Италия - Франция'\n",
      " 'Бельгия - Испания - Канада - Нидерланды'\n",
      " 'Великобритания - Франция - Швеция - Бельгия'\n",
      " 'Мексика - Эквадор - Канада - США - Франция - Малайзия - Италия - Аргентина - Германия - Индия  '\n",
      " 'Франция - Бенльгия' 'Индия - Великобритания'\n",
      " 'Япония - Великобритания - Франция' 'Испания - Уругвай - Аргентина'\n",
      " 'Франция - Италия - Бельгия - Люксембург'\n",
      " 'Франция - Украина - Грузия - Армения' 'Сербия - Германия - Венгрия'\n",
      " 'Франция-Польша' 'Франция ' 'Румыния-США' 'Россия-Азербайджан'\n",
      " 'США - Нидерланды - Бельгия - Венгрия - Греция - Канада'\n",
      " 'Германия - Франция - Люксембург' 'США - Россия'\n",
      " 'Великобритания - США - Франция' 'США - Австралия - Дания'\n",
      " 'Бельгия-Франция' 'США-Мексика'\n",
      " 'Норвегия - Азербайджан - Россия - Колумбия - Великобритания - Венгрия - Румыния - Франция - Грузия'\n",
      " 'СЩА' 'Бразилия - Испания' 'Россия, Франция, Латвия'\n",
      " 'Нидерланды - США - Германия - Канада - Франция - Ирландия - Великобритания'\n",
      " 'Уругвай - Колумбия' 'США - Испания - Болгария' 'Армения - Германия'\n",
      " 'США - Великобритания- Франция - Швеция' 'США - Мексика'\n",
      " 'Австралия-Турция-США' 'Швеция - Германия' 'Польша - Италия - Россия'\n",
      " 'Франция - Бразилия' 'США - Канада - КНР' 'СССР, Венгрия, ЧССР, ГДР'\n",
      " 'Бельгия - Германия - Люксембург' 'СССР  ' 'СССР ' ' СССР '\n",
      " 'США - Австралия' 'Бразилия - США' 'США - Великобритания - Канада - КНР'\n",
      " 'Франция - Чили'\n",
      " 'Франция - США - Великобритания - Колумбия - Бельгия - Россия'\n",
      " 'Дания - Великобритания - ЮАР' 'СССР   ' 'Россия-США-Канада-Люксембург'\n",
      " 'Россия - Республика Кипр' 'Германия - США - Швеция - Франция'\n",
      " 'Великобритания-Германия-Канада-ЮАР' ' СССР   ' 'СССР     '\n",
      " 'Ирландия, Канада'\n",
      " 'Япония - Великобритания - Швейцария - Ирландия - Дания - Франция - Польша - Австралия - Канада  '\n",
      " 'Великобритания, Канада' 'Бельгия - США' 'Великобритания - США - Россия'\n",
      " 'Россия-Украина' 'Германия - США - Великобритания - Израиль'\n",
      " 'Канада - Германия' 'США- Ю.Корея' 'Индия - Мексика'\n",
      " 'Великобритания - Франция - Республика Кипр - Швейцария - США - Сербия'\n",
      " 'Испания - Аргентина - Индия - США'\n",
      " 'Норвегия - Исландия - США - Великобритания '\n",
      " 'Турция - Германя - Франция' 'Германия - Великобритания'\n",
      " 'Австралия - Германия' 'Мексика - Испания'\n",
      " 'Великобритания - США - Германия - Бельгия' 'США - Чехия - Франция'\n",
      " 'Россия - Италия' 'Франция-Россия' 'Норвегия - Дания - Швеция'\n",
      " 'Франция - Швейцария - Германия' 'Грузия - Украина'\n",
      " 'Россия - Эстония - Финляндия - Беларусь' 'США - Франция - ЮАР'\n",
      " 'Великобритания - США - Швейцария' 'Канада-США'\n",
      " 'Мексика - Нидерланды - Германия - Франция' 'США - Испания - Франция'\n",
      " 'США - Великобритания - КНР' 'США-Франция-Канада'\n",
      " 'Япония, Великобритания, Австрия, Германия, Ю.Корея'\n",
      " 'Великобритания - Ирландия - США' 'Бельгия - Италия - Франция '\n",
      " 'Швейцария-Германия-ЮАР' 'Великобритания - США - Германия'\n",
      " 'Германия - Исландия' 'Испания - США' 'СССР    ' 'Хорватия'\n",
      " 'Финляндия - Исландия - Швеция' 'Канада - США - Германия - Франция'\n",
      " 'США - Великобритания - Испания' 'Ирландия-Великобритания'\n",
      " 'Аргентина - Испания' 'Австрия - Германия' ' СССР'\n",
      " 'Германия - Швейцария - Франция - Южная Корея - США'\n",
      " 'Украина - Нидерланды' 'Венгрия - Германия - Швеция'\n",
      " 'Германия - Франция -  Польша - Турция - Канада - Италия - Россия '\n",
      " 'СССР, Афганистан' 'СССР, Монголия' 'Россия-Кипр'\n",
      " 'Россия, Грузия, Испания'\n",
      " 'Великобритания - Нидерланды - Германия - Франция - Бельгия - Австрия '\n",
      " 'Испания - Великобритания - Франция' 'Дания - Норвегия - Великобритания'\n",
      " 'Бельгия - Франция - Люксембург'\n",
      " 'Италия - Франция - Швейцария - Великобритания'\n",
      " 'Франция - Бельгия - Великобритания - Испания - Германия - США'\n",
      " 'Швейцария - Израиль - Франция - Великобритания'\n",
      " 'Великобритания - США - Канада - Нидерланды - Франция' 'Россия, Италия'\n",
      " 'СССР, Албания' 'Россия, Украина, Республика Беларусь, Литва'\n",
      " 'Финляндия - Великобритания - Германия' 'Россия, Украина, Польша'\n",
      " 'Франция - Италия - Бельгия - КНР'\n",
      " 'Германия - Бельгия - Люксембург - Ирландия' 'КНР - Сингапур'\n",
      " 'Франция - Бельгия - Великобритания - США - Нидерланды - Канада'\n",
      " 'США - Россия - Польша - Германия - Пуэрто Рико'\n",
      " 'Франция - Бельгия - Канада' 'США ' 'Мексика - США'\n",
      " 'США - Гонконг - КНР ' 'Греция - Россия'\n",
      " 'Ирландия - Дания - Бельгия - Люксембург - Франция' 'Эстония - Россия'\n",
      " 'Великобритания - Исландия - Испания - Швейцария - США'\n",
      " 'Австралия - Великобритания - Бельгия - Индия'\n",
      " 'Швеция - Германия - Франция - Норвегия'\n",
      " 'Нидерланды - Бельгия - Германия - Ирландия'\n",
      " 'Нидерланды - Великобритания - Бельгия' 'США - Колумбия - Испания'\n",
      " 'Франция-Испания-Бельгия-Панама' 'США-Великобритания-Чехия-Румыния'\n",
      " 'Аргентина - Уругвай - Россия - Германия - Франция - Нидерланды'\n",
      " 'Швеция - Франция - Норвегия - Дания' 'Италия-Франция-Великобритания'\n",
      " 'Великобритания, Франция' 'Австралия, США' 'Венесуэла'\n",
      " 'Великобритания - США - Австралия - Ирландия - Германия - Куба - Канада'\n",
      " 'Южная Корея - КНР' 'Аргентина - Мексика - Бразилия - Франция - США'\n",
      " 'Швеция - США' 'Франция - Германия - Турция - Катар' 'Франция-Китай'\n",
      " 'Россия, Германия, Великобритания' 'Великобритания - Италия - Испания'\n",
      " 'Италия - Россия' 'Япония - КНР - Южная Корея' 'Россия, Германия'\n",
      " 'Россия-Ирландия' 'Македония - Франция - Великобритания'\n",
      " 'Франция - Бразилия - Италия' 'Россия-США' 'Армения-Россия'\n",
      " 'Россия, Румыния' 'Франция -  Бельгия' 'Грузия-Франция' 'ЮАР - США'\n",
      " 'Великобритания-США-Франция'\n",
      " 'Великобритания - США - Германия - Канада - Австралия' 'США-Ирландия'\n",
      " 'Россия, Республика Кипр' 'Германия - Люксембург - Франция'\n",
      " 'Россия-Франция' 'США - Нидерланды - Финляндия - Великобритания - Италия'\n",
      " 'Республика Кипр' 'Венгрия' 'Франция - США - Норвегия - Дания'\n",
      " 'Германия - Австрия - Ирландия' 'США - Финляндия' 'Италия-Великобритания'\n",
      " 'Россия, Испания' 'США - Великобритания - Болгария'\n",
      " 'Великобритания - Люксембург' 'Индия - США'\n",
      " 'США - Канада - Россия - Франция - Чили - Ирландия' 'Грузия-Россия'\n",
      " 'Дания - Австрия - Ирландия - Финляндия - Норвегия - Швеция - Нидерланды'\n",
      " 'США-КНР' 'Грузия' 'Австралия - Ирландия' 'Великобритания - Канада'\n",
      " 'Италия - Аргентина - Словения '\n",
      " 'Испания - Франция - Нидерланды - Германия - Бельгия - Великобритания - Канада'\n",
      " 'Франция - Чехия - Бельгия' 'Великобритания - Франция - Германия - США'\n",
      " 'Ирландия - Великобритания - Франция - США - Германия - Нидерланды'\n",
      " 'США - Канада - Япония - КНР' 'Италия-Франция'\n",
      " 'США - Великобритания - Исландия' 'Великобритания-Франция'\n",
      " 'Франция - Германия - Нидерланды' 'Иран '\n",
      " 'Франция - Германия - Швеция - США - Чехия - Словакия - Великобритания - Нидерланды'\n",
      " 'Франция - Канада - Н.Зеландия - США - Нидерланды - Германия - Швеция - Россия'\n",
      " 'Турция - США'\n",
      " 'Великобритания - США - Канада - Бельгия - Нидерланды - Австрия - Германия'\n",
      " 'Израиль - Франция - Германия - Палестина - США - Австрия - Великобритания'\n",
      " 'Аргентина - Франция - Испания' 'СССР, Россия'\n",
      " 'Великобритания - Франция - Италия - Индия - Дания - КНР - Бангладеш - Камбоджа - Гаити - Уганда'\n",
      " 'Италия - Франция - Швейцария' 'Ирландия - Великобритания - Канада'\n",
      " 'Перу' 'США - Норвегия' 'Испания-Канада' 'Китай-Гонконг'\n",
      " 'США - Германия - КНР' 'Великобритания - Новая Зеландия'\n",
      " 'Франция - Дания - Швеция - КНР'\n",
      " 'США - Великобритания - Германия - Бельгия - Дания'\n",
      " 'США - Франция - Канада - Германия - Австралия - Индия'\n",
      " 'СССР, Румыния, Франция' 'СССР, ГДР' 'Австралия-Ирландия' 'США - Китай'\n",
      " 'Великобритания - Франция - Австрия - Швеция' 'Россия, Таджикистан'\n",
      " 'Нидерланды - Бельгия - Болгария' 'Великобритания - Канада - США'\n",
      " 'Франция - Бельгия - Испания' 'Китай-Гонконг-США'\n",
      " 'Франция - Великобритания' 'США - Вьетнам' 'США - Германия - Франция'\n",
      " 'Германия - Франция - Бельгия' 'США - Италия'\n",
      " 'Германия - Дания - Испания - Швеция - Канада - Эстония - Франция'\n",
      " 'Княжество Андорра - Украина' 'Германия - Люксембург - Бельгия'\n",
      " 'Великобритания - Россия - Украина - США'\n",
      " 'Германия - Бельгия - Люксембург - Норвегия'\n",
      " 'США - Австралия - Новая Зеландия - Великобритания'\n",
      " 'США - Франция - Канада - Великобритания' 'Испания-Колумбия'\n",
      " 'Великобритания - Чехия - Франция' 'Россия, Украина' 'Исландия'\n",
      " 'Великобритания - Франция - Венгрия' 'Россия, Франция, Германия, Бельгия'\n",
      " 'Франция - Македония'\n",
      " 'Нидерланды - Франция - Германия - Бельгия - Швеция - Великобритания'\n",
      " 'Испания - США - Великобритания - Канада' 'Германия - Австрия'\n",
      " 'Республика Казахстан' 'Франция - Испания - Дания - Венгрия - Швейцария'\n",
      " 'Франция-КНР' 'США - Пуэрто-Рико - Франция ' 'Мексика - Тайвань - США'\n",
      " 'Великобритания - Испания - Непал - Индия - Венгрия - Гонконг - Германия - Дания - Бахрейн'\n",
      " 'Великобритания - Аргентина - США - Франция - Россия - Испания'\n",
      " 'КНР - США' 'Италия - США' 'Финляндия - Швеция - Германия'\n",
      " 'Канада- Испания' 'Франция - Бельгия - Чехия' 'Франция-Бельгия-Канада'\n",
      " 'Франция - Германия - США' 'США - Дания' 'Индия - КНР'\n",
      " 'Чехия-Великобритания-США' 'США-ФРГ-Россия'\n",
      " 'Ирландия-Нидерланды-Франция-США-Великобритания'\n",
      " 'Россия, Грузия, Хорватия, Испания' 'Финляндия - Швеция - Норвегия'\n",
      " 'Сербия - Великобритания - США'\n",
      " 'США - Великобритания - Франция - Гонконг' 'Швейцария - Франция'\n",
      " 'Швейцария - Великобритания' 'ОАЭ - США'\n",
      " 'США - Франция - Германия - Канада - Австралия ' 'Германия - Австралия'\n",
      " 'Иран, Франция' 'США - Великобритания - Новая Зеландия' 'США-Колумбия'\n",
      " 'США-Франция-Ирландия' 'Великобритания - Франция - Бельгия'\n",
      " 'США - Великобритания - Япония' 'США - Франция - Германия'\n",
      " 'Польша - Ирландия' 'Ирландия - Великобритания - Франция - США'\n",
      " 'США - Бельгия - Великобритания' 'СССР, ВНР'\n",
      " 'Испания - Франция - США - Великобритания - Бельгия'\n",
      " 'Франция - Дания - США' 'США - Гонконг' 'Бразилия - К;анада'\n",
      " 'Франция-Германия' 'США - Колумбия'\n",
      " 'США - Ирландия - Великобритания - Франция'\n",
      " 'Великобритания - США - Канада' 'Польша - Франция'\n",
      " 'Канада - США - Нидерланды - Великобритания - Аргентина'\n",
      " 'Великобритания - Дания' 'Франция - Бельгия - Япония' 'Россия,  Испания'\n",
      " 'Франция -Бельгия' 'США - Канада - Германия - Франция'\n",
      " 'США-Канада-Франция' 'Россия - Германия' 'Россия-Италия'\n",
      " 'Китай - Гонконг' 'Германия-Австрия-Франция-Италия' 'США-Япония'\n",
      " 'США - Германия - Канада' 'Испания-Мексика'\n",
      " 'США - Япония - Канада - Великобритания - Германия - Франция'\n",
      " 'США -Великобритания - Австралия' 'Россия-Украина-Германия'\n",
      " 'Израиль - Франция - Великобритания - Германия' 'Корея'\n",
      " 'Россия - Болгария' 'США-Индия' 'Германия-Канада-Франция-Бельгия'\n",
      " 'Германия-Кения' 'Франция - Монако' 'Франция-Испания-Швейцария'\n",
      " 'Австрия-Франция-Германия' 'Румыния' 'США-Великобритания-Франция'\n",
      " 'Канада-Великобритания' 'Канада-Бразилия-Япония'\n",
      " 'Германия - Дания - Норвегия' 'Дания - Германия' 'СССР - Италия'\n",
      " 'СССР - ГДР - Польша - Италия' 'США - Испания - Франция - Великобритания'\n",
      " 'Китай' 'Мексика-Аргентина'\n",
      " 'Германия - Великобритания - Италия - Испания'\n",
      " 'Франция-Германия-Великобритания' 'Россия - Германия - Швейцария'\n",
      " 'Франция-Австралия' 'Голландия' 'Швейцария-Франция' 'Россия-Белоруссия'\n",
      " 'Франция - Испания - Тайвань' 'США-Южная Корея-Новая Зеландия'\n",
      " 'Великобритания-Венгрия' 'Россия-Германия'\n",
      " 'Великобритания-Франция-Германия' 'Франция-Германия-Италия'\n",
      " 'Швеция-Финляндия-Франция-Норвегия' 'Франция-Италия' 'Германия-Израиль'\n",
      " 'Швеция - Германия - Дания - Норвегия' 'США-Бельгия'\n",
      " 'Франция-Гонконг-Ирландия' 'Эстония' 'Литва-Россия-Украина'\n",
      " 'Германия - Италия - Франция' 'Великобритания - Австрия - Германия'\n",
      " 'Бельгия - Франция' 'Россия-Казахстан' 'Испания - Мальта'\n",
      " 'Франция-Россия-Румыния-Италия-Бельгия' 'Россия - Польша'\n",
      " 'Испания - Мексика' 'США-Аргентина' 'Великобритания '\n",
      " 'Израиль-США-Франция' 'США - Новая Зеландия - Япония'\n",
      " 'Франция - Чехия - Великобритания' 'Россия-Польша'\n",
      " 'Германия-Франция-Великобритания' 'США-Германия-Канада'\n",
      " 'США-Гонконг-Китай' 'США - Великобритания - Германия'\n",
      " 'США-Канада-Австралия' 'Япония-США-Франция' 'Франция-Испания-Германия'\n",
      " 'США - Хорватия - Босния-Герцеговина'\n",
      " 'Великобритания - Чехия - Франция - Италия' 'США - Германия - Нидерланды'\n",
      " 'Германия - Франция - Канада'\n",
      " 'Франция-Грузия-Германия-Россия-Украина-Бельгия'\n",
      " 'Великобритания - Франция - Италия' 'Россия - США'\n",
      " 'Франция - Италия - Иран' 'Россия - Азербайджан' 'Греция' 'Дания - США'\n",
      " 'США-Великобритания-Новая Зеландия' 'США-Германия-Австралия'\n",
      " 'США-Канада-Италия' 'США - Япония - Германия' 'Австралия-США'\n",
      " 'Франция - Великобритания - Багамские острова - США'\n",
      " 'Швейцария - Люксембург' 'Швейцария - Австрия' 'Германия - Швейцария'\n",
      " 'Дания-Швеция-Франция-Германия' 'Польша' 'Швейцария-Австрия'\n",
      " 'Бразилия - Канада - США' 'Нидерланды - Россия' 'Португалия'\n",
      " 'Франция-Аргентина' 'Швеция-Франция' 'Франция-Украина'\n",
      " 'Германия-Украина-Нидерланды' 'Италия-Швейцария'\n",
      " 'США-Германия-Великобритания' 'Латвия - Россия'\n",
      " 'Германия-Франция-Великобритания-США' 'Канада - Италия'\n",
      " 'США - Объединенные Арабские Эмираты' 'США-Венгрия' 'Малайзия'\n",
      " 'Россия - Германия - Украина' 'США - Австралия - Мексика'\n",
      " 'Литва - Венгрия' 'Германия - Китай' 'Казахстан' 'Республика Корея'\n",
      " 'США - Германия - Франция - Великобритания - Канада '\n",
      " 'Бельгия - Германия - Люксембург - Франция' 'Франция - Греция'\n",
      " 'Италия - Канада' 'США - Великобритания - Франция' 'США-Италия-Греция'\n",
      " 'Германия - США - Великобритания - Ирландия'\n",
      " 'Великобритания - Франция - Германия' 'Германия - Нидерланды - ЮАР'\n",
      " 'США-Япония-Германия-Великобритания-Нидерланды'\n",
      " 'США-Япония-Германия-Великобритания' 'Германия - Франция - Польша'\n",
      " 'Таиланд-Великобритания-Франция-Германия-Испания-Нидерланды'\n",
      " 'Германия-Италия-Швейцария'\n",
      " 'Дания - Швеция - Великобритания - Франция - Германия - Нидерланды - Норвегия - Финляндия'\n",
      " 'Франция - Великобритания - Нидерланды - Люксембург'\n",
      " 'Нидерланды-Великобритания-Франция-Италия-Япония'\n",
      " 'Финляндия-Дания-Германия-Ирландия' 'Испания-Аргентина'\n",
      " 'Великобритания - Нидерланды - Франция - США' 'Канада - Мексика'\n",
      " 'США, Франция' 'Канада-Южная Корея-США'\n",
      " 'Великобритания - Франция - Бельгия - США' 'КНР - Канада - США'\n",
      " 'Италия - Франция - Германия' 'Швеция - Германия - Франция - Дания'\n",
      " 'Франция - США - Бельгия' 'Украина - Германия - Латвия - Эстония'\n",
      " 'Австрия - Люксембург' 'Великобритания - КНР' 'Монголия'\n",
      " 'Франция - Дания' 'Швеция - Дания - Финляндия'\n",
      " 'Сингапур - Великобритания - Индонезия - Канада - США'\n",
      " 'США - Германия - Япония' 'Таиланд - США' 'Франция - Нидерланды'\n",
      " 'Великобритания - Румыния' 'США - Мальта'\n",
      " 'Великобритания - Германия - Нидерланды - Дания'\n",
      " 'Франция - Германия - Литва - Нидерланды - Россия' 'США - ЮАР - Гонконг'\n",
      " 'Австралия - Колумбия' 'Великобритания - Польша'\n",
      " 'США - Великобритания - Швеция' 'Франция - Швеция - Дания - Норвегия'\n",
      " 'Болгария - США' 'СССР, ФРГ' 'Бельгия - Нидерланды - Франция'\n",
      " 'Финляндия - Германия' 'Болгария'\n",
      " 'Грузия - Россия - Украина - Хорватия - Германия' 'Франция - Люксембург'\n",
      " 'Франция - Германия - Австрия' 'Норвегия - США' 'Германия-Швеция'\n",
      " 'Франция - Германия - Италия' 'Франция-Германия-Австрия' 'КНР-США'\n",
      " 'Великобритания - Ирландия - США ' 'Дания - Латвия - Россия - США'\n",
      " 'Финляндия - Польша' 'Германия - Бельгия'\n",
      " 'Германия - США - Франция - Испания' 'Нидерланды - Бельгия - Люксембург'\n",
      " 'Канада-Германия' 'Люксембург - Бельгия - Франция'\n",
      " 'США-Великобритания-Австралия' 'Великобритания, Новая Зеландия'\n",
      " 'Бельгия, Великобритания, США' 'Великобритания, Австралия'\n",
      " 'Исландия, Бельгия'\n",
      " 'Испания - Швейцария - Великобритания - Германия - Новая Зеландия - Нидерланды - Канада'\n",
      " 'Франция, Бельгия' 'Великобритания, США' 'Киргизия-Россия'\n",
      " 'Германия, США' 'Великобритания, США, Испания'\n",
      " 'Италия - Швейцария - Германия' 'Россия, Армения' 'Франция, Германия'\n",
      " 'Китай, Канада, США' 'Германия, Австралия' 'КНР, США'\n",
      " 'США, Великобритания, Люксембург' 'Испания, Ирландия, Бельгия, Франция'\n",
      " 'Великобритания - Гонконг - Венгрия - США - Ирландия' 'США - Пуэрто Рико'\n",
      " 'Аргентина - Испания - Уругвай'\n",
      " 'Израиль - Германия - Франция - Швейцария'\n",
      " 'Великобритания - Мексика - США' 'Испания - Болгария - США'\n",
      " 'Россия-Словакия-Чехия'\n",
      " 'Швейцария - КНР - США - Россия - Республика Корея - Великобритания'\n",
      " 'Россия, Нидерланды, Финляндия'\n",
      " 'Испания - Бельгия - Франция - Португалия - Великобритания'\n",
      " 'Бразилия - Португалия - Франция' 'Швеция - Норвегия'\n",
      " 'Франция - Польша - Бельгия' 'CША' 'Китай, США'\n",
      " 'Италия, Франция, Германия' 'Германия - Австрия - Франция'\n",
      " 'Чехия - Словакия - Хорватия' 'Россия, Польша, Финляндия'\n",
      " 'Россия, Латвия, Чешская Республика'\n",
      " 'Франция - Великобритания - Камбоджа - США - КНР' 'Чехия - Испания - США'\n",
      " 'Германия - Люксембург - Дания' 'Великобритания - Испания - Германия'\n",
      " 'Дания - Исландия'\n",
      " 'Великобритания - Испания - Италия - Латвия - Франция - Эстония'\n",
      " 'Польша - Франция - Великобритания' 'Дания, Норвегия, Венгрия, Чехия'\n",
      " 'Дания - Франция - Германия - Швеция' 'Великобритания, Швеция, США'\n",
      " 'Канада, Франция, Италия, Швейцария, США' 'США, Индия'\n",
      " 'США - Великобритания - Германия - - Швеция - Канада' 'Италия, Франция'\n",
      " 'Республика Беларусь, Германия, США, Россия'\n",
      " 'Италия-Швейцария-Франция-Германия '\n",
      " 'Россия - Франция - Великобритания - Латвия' 'Россия-Беларусь'\n",
      " 'Франция - Испания - Румыния - США - Бельгия' 'Италия-США'\n",
      " 'Россия, Австрия' 'Ирландия - Великобритания - США'\n",
      " 'Швейцария, Великобритания, Франция, США, Ирландия'\n",
      " 'Мексика, Франция, Германия, Дания, Швеция' 'Нидерланды, Бельгия'\n",
      " 'Швеция, Норвегия, Финляндия, Франция' 'Испания, Франция, Италия'\n",
      " 'Испания-Франция-Греция-Индия-США-Россия-Великобритания'\n",
      " 'Великобритания - Япония - США' 'Дания, Канада, Норвегия, Австралия, США'\n",
      " 'Аргентина, Испания' 'Россия, Германия, Казахстан, Польша, Китай'\n",
      " 'Португалия, Франция, Польша, США' 'США - Канада - Аргентина' 'Ливан-США'\n",
      " 'США, Великобритания' 'Япония - США' 'США, Гонконг ' 'Аргентина-Испания'\n",
      " 'Россия, Сербия' 'США - Болгария - Мексика'\n",
      " 'США - Великобритания - Швейцария - Франция' 'Таиланд - КНР - США'\n",
      " 'Великобритания, Нидерланды, Польша, Швейцария, Франция' 'Ирландия - США'\n",
      " 'Германия - Франция - Великобритания - Польша - США'\n",
      " 'США - Австралия - Индия' 'Франция - КНР' 'Великобритания - Израиль'\n",
      " 'Великобритания - Норвегия - Кения - Хорватия'\n",
      " 'США - Бразилия - Великобритания - Канада' 'Германия, Бельгия'\n",
      " 'Австралия, Канада' 'США, Великобритания, Франция' 'Кения, Германия'\n",
      " 'Нидерланды, Бельгия, Люксембург' 'Колумбия' 'Латвия - Франция'\n",
      " 'Ирландия, Великобритания' 'Франция - Израиль - Германия'\n",
      " 'Швеция, Франция, Великобритания' 'Бельгия - Люксембург'\n",
      " 'Германия - Бельгия - Великобритания'\n",
      " 'Испания, Франция, Великобритания, Дания, Бельгия, Германия'\n",
      " 'Румыния, ЮАР, Иран, Франция, Канада, Великобритания' 'Германия, Франция'\n",
      " 'США, Япония' 'США, Великобритания, Ирландия, Люксембург'\n",
      " 'Республика Армения' 'США, Франция, Япония' 'Япония, США' 'Канада, США'\n",
      " 'Республика Кипр - Россия'\n",
      " 'Дания - Франция - Италия - Бельгия - Нидерланды' 'Россия - Грузия'\n",
      " 'Италия, Германия' 'Норвегия, Швеция, Дания' 'Республика Кипр, Россия'\n",
      " 'КНР, Индия, Гонконг, США' 'Израиль, Украина' 'США, Россия'\n",
      " 'США - КНР - Индия - Ю.Корея' 'США - Швеция' 'Россия-Китай'\n",
      " 'Канада, Великобритания' 'Канада, США, Каймановы острова'\n",
      " 'Бразилия, Уругвай, Дания, Норвегия, Чили, Швеция'\n",
      " 'Пуэрто-Рико, Великобритания, США' 'Уругвай - Аргентина - Испания'\n",
      " 'США - Великобритания - Италия - Израиль - Сербия - Индия'\n",
      " 'США - Канада - Франция - Индия' 'Великобритания - Россия - КНР'\n",
      " 'Франция, Новая Зеландия' 'Франция, Люксембург, Бельгия'\n",
      " 'Канада, США, Норвегия' 'Италия, Испания'\n",
      " 'Испания - Германия - Нидерланды' 'Бразилия - США - КНР '\n",
      " 'Великобритания, Германия, Дания, США' '2019'\n",
      " 'Италия - Фрация - Бразилия - Германия' 'Норвегия - Швеция - Россия'\n",
      " 'Великобритания, Япония, США' 'Сша, Канада' 'Бельгия, Канада'\n",
      " 'Великобритания - Австралия - США' 'США, Канада' 'КНР - США '\n",
      " 'Франция - Финляндия' 'Колумбия - США' 'Великобритания, Франция, Бельгия'\n",
      " 'Норвегия - Нидерланды' 'Великобритания, Канада, США'\n",
      " 'Япония, Великобритания' 'Италия - Бельгия - Франция'\n",
      " 'Россия, Бельгия, Финляндия' 'США, Украина' 'Франция, Норвегия'\n",
      " 'Великобритания, Южная Корея, Канада, США, Индия, Китай, Япония'\n",
      " 'Канада - Норвегия' 'Республика Кипр-Россия' 'Германия, Россия'\n",
      " 'Польша - Франция - Испания - Бразилия - Швеция'\n",
      " 'Австрия, Великобритания, Германия' 'Франция - Сенегал - Бельгия'\n",
      " 'Франция, Бельгия, Люксембург' 'Финляндия, Латвия' 'Пакистан'\n",
      " 'Германия, Франция, США' 'Германия - Великобритания - США'\n",
      " 'КНР - Франция' 'Дания, Норвегия, Швеция, Исландия'\n",
      " 'Республика Кипр, США, Россия' 'Новая Зеландия - КНР'\n",
      " 'Дания - Канада - Швеция - Франция - Германия - Великобритания - США']\n",
      "\n",
      "['Кевин Костнер' 'Е.Матвеев' 'Тимур Бекмамбетов' ... 'Ник Пауэлл'\n",
      " 'А.Беляев' 'И.Трусов']\n",
      "\n",
      "['Дэвид Валдес, Кевин Костнер, Джейк Эбертс' nan\n",
      " 'Джим Лемли, Джейсон Нетер, Марк Е.Платт, Яйн Смит' ...\n",
      " 'Поппи Бегум, Ник Пойнц'\n",
      " 'Джефф Боулер, Дэниэл Гродник, Луильо Руис, Брэт Саксон, Кирк Шоу'\n",
      " 'Дженнифер Додж']\n",
      "\n",
      "['«18+» - запрещено для детей' '«6+» - для детей старше 6 лет'\n",
      " '«12+» - для детей старше 12 лет' '«16+» - для детей старше 16 лет'\n",
      " '«0+» - для любой зрительской аудитории']\n",
      "\n",
      "[nan 'Министерство культуры' 'Фонд кино'\n",
      " 'Министерство культуры, Фонд кино']\n",
      "\n",
      "['боевик,драма,мелодрама' 'драма,военный' 'фантастика,боевик,триллер'\n",
      " 'драма' 'мелодрама,комедия' 'мюзикл,мелодрама,комедия' 'комедия,криминал'\n",
      " 'боевик,триллер,детектив' 'боевик,драма,приключения' 'драма,спорт'\n",
      " 'триллер,драма,мелодрама' 'комедия,мелодрама' 'драма,мелодрама,комедия'\n",
      " 'драма,мелодрама' 'драма,история' 'драма,мелодрама,семейный'\n",
      " 'комедия,мелодрама,криминал' 'комедия' 'боевик,драма,криминал'\n",
      " 'драма,комедия' 'ужасы,фантастика,комедия'\n",
      " 'мультфильм,короткометражка,мелодрама' 'драма,криминал'\n",
      " 'мультфильм,фантастика,фэнтези' 'триллер,драма,криминал'\n",
      " 'драма,мелодрама,биография' 'драма,комедия,военный'\n",
      " 'фантастика,драма,детектив' 'мюзикл,семейный' nan\n",
      " 'военный,приключения,драма' 'документальный,драма'\n",
      " 'драма,биография,история' 'боевик,триллер,драма' 'фэнтези,боевик'\n",
      " 'боевик,комедия,криминал' 'мюзикл,комедия,детский'\n",
      " 'комедия,мелодрама,драма' 'мультфильм,фэнтези,комедия' 'комедия,история'\n",
      " 'мелодрама' 'драма,биография,музыка' 'фэнтези,драма,мелодрама'\n",
      " 'триллер,военный' 'драма,мелодрама,военный' 'мюзикл,драма,мелодрама'\n",
      " 'мюзикл,комедия' 'мультфильм,приключения,семейный' 'ужасы,триллер'\n",
      " 'боевик,драма,военный' 'драма,боевик' 'мультфильм,драма,комедия'\n",
      " 'триллер,криминал' 'военный,биография,драма' 'комедия,семейный' 'военный'\n",
      " 'драма,семейный,биография' 'фэнтези,приключения,семейный'\n",
      " 'драма,криминал,биография' 'ужасы,триллер,детектив'\n",
      " 'боевик,история,драма' 'ужасы,триллер,драма' 'драма,криминал,спорт'\n",
      " 'документальный,короткометражка' 'триллер,драма'\n",
      " 'криминал,детектив,приключения' 'драма,комедия,криминал'\n",
      " 'драма,комедия,вестерн' 'драма,мелодрама,детектив' 'мелодрама,биография'\n",
      " 'фэнтези,мелодрама,драма' 'драма,мелодрама,история'\n",
      " 'комедия,приключения,история' 'приключения' 'драма,семейный'\n",
      " 'криминал,детектив' 'мультфильм,короткометражка,ужасы'\n",
      " 'фантастика,триллер,драма' 'фэнтези,мелодрама,комедия' 'драма,биография'\n",
      " 'комедия,криминал,история' 'триллер,драма,детектив'\n",
      " 'фантастика,комедия,приключения' 'фэнтези,семейный'\n",
      " 'ужасы,фантастика,боевик' 'мелодрама,криминал'\n",
      " 'комедия,приключения,мелодрама' 'боевик,триллер,приключения'\n",
      " 'боевик,приключения' 'боевик,триллер,криминал'\n",
      " 'документальный,военный,история' 'драма,музыка' 'боевик,драма'\n",
      " 'приключения,боевик' 'драма,военный,биография'\n",
      " 'триллер,драма,приключения' 'аниме,мультфильм,фэнтези'\n",
      " 'триллер,детектив,драма' 'боевик,триллер,мелодрама' 'боевик,история'\n",
      " 'приключения,история' 'драма,комедия,приключения'\n",
      " 'фэнтези,комедия,приключения' 'драма,вестерн' 'документальный,музыка'\n",
      " 'мелодрама,драма' 'триллер,криминал,детектив' 'ужасы'\n",
      " 'боевик,комедия,приключения' 'мультфильм,фэнтези,боевик'\n",
      " 'боевик,фэнтези,драма' 'фэнтези,драма' 'фэнтези,боевик,комедия'\n",
      " 'приключения,детский,комедия' 'документальный' 'боевик,триллер,комедия'\n",
      " 'мелодрама,комедия,криминал' 'драма,детектив' 'мюзикл,ужасы,триллер'\n",
      " 'детектив,триллер,ужасы' 'ужасы,фэнтези' 'ужасы,фэнтези,триллер'\n",
      " 'мультфильм,драма' 'ужасы,боевик,фантастика' 'боевик' 'фантастика,боевик'\n",
      " 'мелодрама,комедия,приключения' 'триллер,детектив'\n",
      " 'мюзикл,мелодрама,фэнтези' 'криминал' 'триллер,комедия,криминал'\n",
      " 'боевик,приключения,триллер' 'триллер,драма,военный'\n",
      " 'комедия,семейный,музыка' 'комедия,фантастика,мелодрама'\n",
      " 'фантастика,триллер,криминал' 'комедия,драма' 'боевик,военный'\n",
      " 'ужасы,фантастика,триллер' 'фантастика,драма,мелодрама'\n",
      " 'фэнтези,драма,детектив' 'боевик,триллер' 'боевик,драма,история'\n",
      " 'мультфильм,мюзикл,фэнтези' 'для взрослых,драма,мелодрама'\n",
      " 'мультфильм,боевик,детектив' 'фантастика,мелодрама,боевик'\n",
      " 'ужасы,фантастика,детектив' 'фантастика,боевик,приключения'\n",
      " 'мелодрама,комедия,спорт' 'комедия,боевик,приключения'\n",
      " 'документальный,приключения' 'мультфильм,короткометражка,детский'\n",
      " 'комедия,приключения' 'ужасы,драма' 'ужасы,фэнтези,боевик'\n",
      " 'мультфильм,фэнтези,детский' 'мюзикл,боевик,драма'\n",
      " 'семейный,комедия,драма' 'концерт,музыка' 'фэнтези,боевик,драма'\n",
      " 'драма,комедия,музыка' 'фантастика,фэнтези,боевик'\n",
      " 'фэнтези,комедия,семейный' 'фэнтези,драма,комедия'\n",
      " 'мультфильм,мюзикл,драма' 'триллер' 'боевик,криминал,триллер'\n",
      " 'мультфильм,приключения,драма' 'мелодрама,музыка'\n",
      " 'документальный,музыка,концерт' 'мультфильм,семейный'\n",
      " 'мультфильм,комедия,приключения' 'мультфильм,комедия,семейный'\n",
      " 'фантастика,драма' 'фэнтези,боевик,приключения' 'мультфильм,приключения'\n",
      " 'драма,военный,история' 'история' 'драма,приключения,военный'\n",
      " 'документальный,короткометражка,семейный' 'мелодрама,история,триллер'\n",
      " 'ужасы,детектив' 'мюзикл,комедия,приключения' 'драма,спорт,биография'\n",
      " 'фантастика,боевик,комедия' 'фантастика,приключения,детектив'\n",
      " 'короткометражка,драма,военный' 'драма,мультфильм' 'приключения,семейный'\n",
      " 'детектив' 'триллер,приключения' 'аниме,мультфильм,боевик'\n",
      " 'драма,комедия,биография' 'драма,комедия,спорт'\n",
      " 'боевик,мелодрама,комедия' 'семейный,комедия' 'фэнтези,боевик,триллер'\n",
      " 'документальный,фэнтези,семейный' 'фантастика,фэнтези,драма'\n",
      " 'ужасы,комедия,фэнтези' 'документальный,биография,музыка'\n",
      " 'фантастика,боевик,фэнтези' 'ужасы,боевик,триллер'\n",
      " 'комедия,криминал,семейный' 'приключения,драма' 'криминал,драма,триллер'\n",
      " 'драма,детектив,криминал' 'фэнтези,приключения,комедия' 'комедия,спорт'\n",
      " 'мюзикл,фэнтези,мелодрама' 'мультфильм,фэнтези,приключения'\n",
      " 'фантастика,фэнтези,приключения' 'фэнтези' 'фэнтези,приключения,боевик'\n",
      " 'фантастика,боевик,драма' 'криминал,драма' 'криминал,триллер,драма'\n",
      " 'драма,мелодрама,приключения' 'детский,комедия' 'фантастика,драма,боевик'\n",
      " 'мультфильм,семейный,фэнтези' 'концерт,музыка,документальный'\n",
      " 'ужасы,комедия,приключения' 'драма,мелодрама,криминал'\n",
      " 'ужасы,фантастика,фэнтези' 'боевик,комедия'\n",
      " 'мультфильм,фантастика,комедия' 'триллер,ужасы'\n",
      " 'мультфильм,мюзикл,комедия' 'мелодрама,фэнтези,триллер'\n",
      " 'детский,приключения,комедия' 'комедия,детектив'\n",
      " 'аниме,мультфильм,мелодрама' 'документальный,драма,семейный'\n",
      " 'документальный,биография,история' 'военный,боевик,драма' 'ужасы,комедия'\n",
      " 'комедия,приключения,семейный' 'приключения,биография,история'\n",
      " 'детский,приключения,семейный' 'спорт,драма,биография'\n",
      " 'аниме,мультфильм,ужасы' 'фантастика,боевик,криминал' 'мюзикл,драма'\n",
      " 'драма,криминал,детектив' 'аниме,мультфильм,драма'\n",
      " 'драма,триллер,приключения' 'триллер,криминал,драма'\n",
      " 'фэнтези,комедия,драма' 'мультфильм,комедия' 'драма,комедия,история'\n",
      " 'комедия,биография,история' 'мультфильм,фантастика,приключения'\n",
      " 'аниме,мультфильм,фантастика' 'мультфильм,фэнтези,семейный'\n",
      " 'мультфильм,боевик,комедия' 'комедия,криминал,спорт'\n",
      " 'документальный,мюзикл' 'мелодрама,комедия,музыка' 'биография'\n",
      " 'триллер,криминал,комедия' 'фантастика,драма,комедия'\n",
      " 'комедия,драма,мелодрама' 'фантастика,приключения,боевик'\n",
      " 'мультфильм,фэнтези,драма' 'триллер,комедия'\n",
      " 'драма,приключения,биография' 'фантастика,комедия'\n",
      " 'мелодрама,драма,комедия' 'боевик,криминал' 'драма,криминал,боевик'\n",
      " 'мультфильм,мюзикл,детский' 'драма,фэнтези' 'документальный,семейный'\n",
      " 'фэнтези,драма,приключения' 'ужасы,комедия,фантастика'\n",
      " 'драма,мелодрама,музыка' 'фэнтези,драма,семейный'\n",
      " 'триллер,мелодрама,драма' 'вестерн,боевик,драма'\n",
      " 'мультфильм,короткометражка,комедия' 'триллер,драма,история'\n",
      " 'ужасы,фантастика' 'ужасы,мелодрама,комедия' 'фэнтези,приключения'\n",
      " 'фантастика,триллер' 'ужасы,боевик,фэнтези' 'мультфильм,комедия,детский'\n",
      " 'триллер,драма,биография' 'мультфильм,ужасы,фэнтези'\n",
      " 'мультфильм,ужасы,фантастика' 'ужасы,боевик,комедия'\n",
      " 'драма,биография,спорт' 'мультфильм' 'мелодрама,комедия,драма'\n",
      " 'приключения,фантастика,семейный' 'комедия,криминал,детектив'\n",
      " 'ужасы,триллер,комедия' 'криминал,комедия,триллер'\n",
      " 'семейный,приключения,комедия' 'мультфильм,драма,приключения'\n",
      " 'ужасы,драма,детектив' 'драма,приключения,фэнтези'\n",
      " 'фантастика,мультфильм,драма' 'драма,триллер,детектив'\n",
      " 'драма,история,музыка' 'детский' 'триллер,боевик,криминал'\n",
      " 'драма,фантастика' 'комедия,драма,семейный' 'боевик,драма,комедия'\n",
      " 'комедия,ужасы' 'драма,фантастика,триллер' 'фантастика,драма,триллер'\n",
      " 'история,спорт,драма' 'документальный,биография' 'биография,история'\n",
      " 'спорт,драма' 'боевик,фэнтези' 'мультфильм,фэнтези'\n",
      " 'документальный,комедия,история' 'криминал,комедия,боевик'\n",
      " 'фэнтези,приключения,драма' 'музыка,концерт' 'триллер,драма,боевик'\n",
      " 'комедия,криминал,боевик' 'комедия,фантастика,боевик'\n",
      " 'вестерн,приключения,боевик' 'аниме,мультфильм,комедия'\n",
      " 'детектив,криминал,триллер' 'мультфильм,комедия,криминал'\n",
      " 'комедия,приключения,детектив' 'мелодрама,фантастика,драма'\n",
      " 'драма,комедия,семейный' 'приключения,фантастика'\n",
      " 'триллер,детектив,ужасы' 'комедия,приключения,фэнтези'\n",
      " 'фэнтези,триллер,драма' 'мелодрама,приключения,боевик'\n",
      " 'детектив,триллер,криминал' 'фэнтези,семейный,мелодрама' 'военный,драма'\n",
      " 'документальный,приключения,семейный' 'криминал,комедия,драма'\n",
      " 'комедия,фантастика' 'история,биография,драма' 'мелодрама,драма,музыка'\n",
      " 'боевик,мелодрама' 'комедия,криминал,триллер' 'детектив,триллер,боевик'\n",
      " 'комедия,боевик,криминал' 'комедия,вестерн' 'детский,мелодрама,семейный'\n",
      " 'короткометражка,мультфильм' 'комедия,фэнтези' 'фантастика,драма,ужасы'\n",
      " 'триллер,драма,ужасы' 'драма,фэнтези,история'\n",
      " 'комедия,драма,короткометражка' 'фэнтези,триллер,приключения' 'семейный'\n",
      " 'комедия,криминал,драма' 'комедия,фэнтези,ужасы'\n",
      " 'короткометражка,комедия,криминал' 'фантастика' 'триллер,ужасы,драма'\n",
      " 'мелодрама,драма,фэнтези' 'фантастика,приключения,драма'\n",
      " 'боевик,детектив' 'военный,драма,боевик' 'комедия,мелодрама,фэнтези'\n",
      " 'вестерн,криминал,триллер' 'драма,история,триллер'\n",
      " 'мультфильм,фантастика,боевик' 'детектив,драма,криминал'\n",
      " 'приключения,история,драма' 'мультфильм,семейный,детский'\n",
      " 'биография,драма,история' 'триллер,криминал,боевик' 'история,мелодрама'\n",
      " 'приключения,детский' 'музыка,приключения,концерт'\n",
      " 'военный,драма,комедия' 'фэнтези,боевик,военный'\n",
      " 'фантастика,детектив,боевик' 'мультфильм,фэнтези,история'\n",
      " 'биография,мелодрама,драма' 'документальный,биография,спорт'\n",
      " 'фантастика,комедия,детектив' 'музыка,концерт,документальный'\n",
      " 'триллер,боевик,приключения' 'триллер,драма,комедия' 'детектив,криминал'\n",
      " 'мультфильм,приключения,фэнтези' 'мелодрама,приключения' 'комедия,музыка'\n",
      " 'мелодрама,комедия,ужасы' 'драма,криминал,приключения'\n",
      " 'приключения,детектив,мелодрама' 'драма,криминал,фантастика'\n",
      " 'фэнтези,драма,биография' 'детектив,фантастика,криминал'\n",
      " 'триллер,драма,фантастика' 'ужасы,комедия,боевик' 'мелодрама,история'\n",
      " 'триллер,боевик' 'фильм-нуар,триллер,детектив'\n",
      " 'комедия,криминал,приключения' 'ужасы,триллер,мелодрама'\n",
      " 'военный,драма,история' 'драма,спорт,история'\n",
      " 'документальный,драма,история' 'триллер,мелодрама,детектив'\n",
      " 'детский,семейный' 'мюзикл,семейный,драма' 'биография,военный,драма'\n",
      " 'мультфильм,детский' 'боевик,криминал,драма' 'детектив,фэнтези,триллер'\n",
      " 'драма,боевик,приключения' 'драма,мелодрама,фэнтези'\n",
      " 'детектив,история,драма' 'фэнтези,боевик,ужасы' 'ужасы,фэнтези,мелодрама'\n",
      " 'ужасы,приключения' 'боевик,фантастика' 'ужасы,мелодрама,детектив'\n",
      " 'фантастика,триллер,приключения' 'боевик,приключения,история'\n",
      " 'приключения,боевик,триллер' 'детектив,ужасы,криминал' 'семейный,фэнтези'\n",
      " 'мюзикл,мелодрама' 'драма,военный,приключения'\n",
      " 'фантастика,драма,приключения' 'приключения,семейный,драма'\n",
      " 'история,драма,боевик' 'мультфильм,приключения,комедия'\n",
      " 'криминал,драма,комедия' 'ужасы,комедия,драма'\n",
      " 'комедия,семейный,приключения' 'мюзикл,фэнтези,драма'\n",
      " 'драма,вестерн,боевик' 'фантастика,триллер,детектив'\n",
      " 'драма,история,детектив' 'короткометражка,биография'\n",
      " 'мультфильм,приключения,фантастика' 'комедия,триллер'\n",
      " 'мультфильм,приключения,детектив' 'драма,триллер'\n",
      " 'ужасы,триллер,криминал' 'документальный,криминал,военный'\n",
      " 'ужасы,фэнтези,драма' 'фэнтези,комедия' 'ужасы,фэнтези,комедия'\n",
      " 'комедия,музыка,драма' 'мультфильм,приключения,военный'\n",
      " 'мюзикл,фэнтези,комедия' 'боевик,фантастика,приключения'\n",
      " 'триллер,ужасы,криминал' 'ужасы,фантастика,драма'\n",
      " 'фантастика,приключения,семейный' 'короткометражка,музыка'\n",
      " 'мелодрама,детектив,комедия' 'документальный,триллер,биография'\n",
      " 'боевик,фантастика,триллер' 'спорт,драма,комедия'\n",
      " 'фэнтези,мелодрама,приключения' 'триллер,детектив,криминал'\n",
      " 'короткометражка,мелодрама' 'мультфильм,семейный,спорт'\n",
      " 'комедия,фэнтези,мелодрама' 'драма,спорт,комедия'\n",
      " 'история,драма,мелодрама' 'драма,боевик,криминал' 'драма,комедия,триллер'\n",
      " 'аниме,мультфильм' 'документальный,ужасы' 'мультфильм,короткометражка'\n",
      " 'драма,история,военный' 'мультфильм,короткометражка,фэнтези'\n",
      " 'комедия,военный,музыка' 'биография,история,драма'\n",
      " 'ужасы,драма,мелодрама' 'драма,комедия,детектив'\n",
      " 'комедия,семейный,фантастика' 'мультфильм,семейный,комедия'\n",
      " 'история,детектив' 'приключения,мелодрама,детектив'\n",
      " 'мюзикл,комедия,мелодрама' 'драма,фантастика,ужасы'\n",
      " 'мультфильм,ужасы,комедия' 'для взрослых,драма,комедия'\n",
      " 'ужасы,комедия,музыка' 'комедия,история,драма'\n",
      " 'семейный,детектив,детский' 'короткометражка,драма'\n",
      " 'документальный,новости,драма' 'триллер,мелодрама' 'ужасы,драма,вестерн'\n",
      " 'мюзикл,фэнтези,семейный' 'вестерн,драма,триллер'\n",
      " 'приключения,вестерн,боевик' 'семейный,комедия,музыка'\n",
      " 'боевик,драма,вестерн' 'ужасы,драма,триллер' 'фантастика,мелодрама'\n",
      " 'комедия,криминал,биография' 'семейный,мультфильм,комедия'\n",
      " 'комедия,драма,криминал' 'фантастика,боевик,военный'\n",
      " 'приключения,биография,драма' 'приключения,триллер,биография'\n",
      " 'криминал,боевик,триллер' 'боевик,вестерн,приключения' 'история,драма'\n",
      " 'фантастика,фэнтези,комедия' 'мультфильм,детский,комедия'\n",
      " 'мелодрама,комедия,триллер' 'документальный,боевик,приключения'\n",
      " 'драма,приключения' 'мелодрама,военный,драма' 'триллер,фэнтези'\n",
      " 'драма,триллер,биография' 'фэнтези,боевик,семейный'\n",
      " 'фантастика,триллер,комедия' 'документальный,фэнтези'\n",
      " 'комедия,мультфильм,фантастика' 'криминал,биография,комедия'\n",
      " 'биография,спорт,драма' 'приключения,военный' 'мультфильм,семейный,драма'\n",
      " 'документальный,фэнтези,драма' 'комедия,боевик,фантастика'\n",
      " 'семейный,приключения,военный' 'триллер,ужасы,детектив' 'короткометражка'\n",
      " 'мелодрама,триллер,история' 'документальный,история'\n",
      " 'мультфильм,приключения,детский' 'драма,комедия,мультфильм'\n",
      " 'военный,детектив' 'семейный,приключения,документальный'\n",
      " 'детский,фэнтези' 'документальный,комедия' 'комедия,биография'\n",
      " 'криминал,комедия' 'спорт,мелодрама,криминал' 'фантастика,комедия,боевик'\n",
      " 'боевик,приключения,детектив' 'детектив,триллер,драма'\n",
      " 'документальный,фантастика' 'мелодрама,комедия,семейный'\n",
      " 'мультфильм,мелодрама,комедия' 'драма,спорт,семейный'\n",
      " 'фантастика,мелодрама,фэнтези' 'мюзикл,комедия,музыка'\n",
      " 'фантастика,триллер,мелодрама' 'приключения,комедия,фэнтези'\n",
      " 'фэнтези,боевик,детектив' 'фэнтези,боевик,мелодрама' 'комедия,военный'\n",
      " 'драма,спорт,боевик' 'мультфильм,боевик,триллер' 'мелодрама,семейный'\n",
      " 'фантастика,боевик,детектив' 'драма,приключения,история'\n",
      " 'документальный,драма,музыка' 'фантастика,триллер,боевик'\n",
      " 'фэнтези,боевик,вестерн' 'драма,комедия,мелодрама'\n",
      " 'ужасы,фэнтези,приключения' 'триллер,фэнтези,драма'\n",
      " 'мультфильм,мюзикл,мелодрама' 'ужасы,триллер,фантастика'\n",
      " 'триллер,мелодрама,комедия' 'ужасы,комедия,семейный'\n",
      " 'комедия,приключения,музыка' 'документальный,комедия,криминал'\n",
      " 'мелодрама,детектив' 'детский,приключения,фантастика'\n",
      " 'короткометражка,боевик,драма' 'боевик,комедия,семейный'\n",
      " 'фантастика,боевик,мелодрама' 'фэнтези,триллер,мелодрама'\n",
      " 'драма,детектив,история' 'боевик,криминал,детектив'\n",
      " 'мультфильм,фэнтези,мелодрама' 'мелодрама,драма,боевик'\n",
      " 'драма,вестерн,приключения' 'драма,приключения,мелодрама'\n",
      " 'фэнтези,боевик,криминал' 'фантастика,комедия,семейный'\n",
      " 'детский,фэнтези,приключения' 'ужасы,боевик'\n",
      " 'фантастика,мелодрама,комедия' 'семейный,спорт,боевик'\n",
      " 'триллер,биография,драма' 'ужасы,драма,комедия'\n",
      " 'мультфильм,фэнтези,триллер' 'мюзикл' 'боевик,спорт,драма'\n",
      " 'комедия,приключения,вестерн' 'документальный,ужасы,боевик'\n",
      " 'фантастика,боевик,семейный' 'военный,история' 'ужасы,боевик,криминал'\n",
      " 'детектив,триллер' 'драма,семейный,комедия' 'драма,детектив,приключения'\n",
      " 'драма,криминал,история' 'приключения,триллер' 'боевик,драма,биография'\n",
      " 'драма,приключения,триллер' 'комедия,фэнтези,приключения'\n",
      " 'фантастика,боевик,ужасы' 'драма,комедия,фантастика'\n",
      " 'детектив,криминал,драма' 'боевик,триллер,фэнтези'\n",
      " 'приключения,детектив,семейный' 'ужасы,комедия,криминал'\n",
      " 'мультфильм,биография,драма' 'история,боевик,фэнтези'\n",
      " 'детектив,криминал,боевик' 'приключения,фэнтези'\n",
      " 'комедия,приключения,спорт' 'драма,биография,мюзикл'\n",
      " 'комедия,семейный,фэнтези' 'детектив,драма,триллер'\n",
      " 'боевик,приключения,семейный' 'биография,спорт,комедия'\n",
      " 'фантастика,приключения,военный' 'документальный,драма,биография'\n",
      " 'детектив,приключения,драма' 'аниме,мультфильм,приключения'\n",
      " 'семейный,приключения' 'ужасы,фэнтези,детектив' 'семейный,документальный'\n",
      " 'драма,приключения,семейный' 'приключения,история,военный'\n",
      " 'фэнтези,мелодрама' 'фэнтези,триллер,детектив'\n",
      " 'документальный,спорт,биография' 'комедия,триллер,драма' 'драма,ужасы'\n",
      " 'биография,музыка,драма' 'фэнтези,ужасы' 'детектив,мелодрама,фэнтези'\n",
      " 'боевик,военный,история' 'биография,драма,криминал'\n",
      " 'триллер,мелодрама,криминал' 'семейный,мелодрама' 'биография,драма'\n",
      " 'военный,история,драма' 'фантастика,детектив,фэнтези'\n",
      " 'детектив,приключения,триллер' 'фантастика,приключения'\n",
      " 'мультфильм,короткометражка,мюзикл' 'мультфильм,детский,семейный'\n",
      " 'документальный,драма,комедия' 'комедия,приключения,криминал'\n",
      " 'документальный,семейный,музыка' 'мелодрама,музыка,драма'\n",
      " 'детектив,фантастика,триллер' 'драма,мелодрама,триллер'\n",
      " 'биография,драма,военный' 'приключения,фантастика,драма'\n",
      " 'детектив,фильм-нуар,комедия' 'документальный,спорт'\n",
      " 'триллер,фантастика,драма' 'биография,документальный'\n",
      " 'ужасы,фантастика,мелодрама' 'детектив,комедия'\n",
      " 'история,биография,военный' 'криминал,мелодрама' 'драма,криминал,вестерн'\n",
      " 'мелодрама,семейный,приключения' 'триллер,ужасы,мелодрама'\n",
      " 'фэнтези,драма,фильм-нуар' 'детектив,мелодрама' 'комедия,драма,биография'\n",
      " 'драма,военный,боевик' 'драма,комедия,ужасы' 'фантастика,драма,криминал'\n",
      " 'документальный,музыка,биография' 'мультфильм,боевик,приключения'\n",
      " 'мультфильм,мелодрама,драма' 'боевик,военный,драма'\n",
      " 'фэнтези,семейный,приключения' 'детский,мультфильм,приключения'\n",
      " 'семейный,фэнтези,комедия' 'фэнтези,ужасы,триллер'\n",
      " 'ужасы,триллер,приключения' 'драма,боевик,история'\n",
      " 'фэнтези,комедия,детектив' 'история,приключения'\n",
      " 'аниме,мультфильм,короткометражка' 'драма,военный,триллер'\n",
      " 'биография,криминал,триллер' 'фантастика,фэнтези,детектив'\n",
      " 'вестерн,биография,драма' 'биография,музыка,мюзикл'\n",
      " 'драма,история,биография' 'приключения,драма,фантастика'\n",
      " 'комедия,фэнтези,криминал' 'биография,спорт,история'\n",
      " 'драма,криминал,семейный' 'детектив,боевик,история'\n",
      " 'ужасы,комедия,детектив' 'триллер,приключения,драма'\n",
      " 'фэнтези,комедия,криминал' 'триллер,криминал,приключения'\n",
      " 'комедия,детектив,приключения' 'фэнтези,драма,ужасы'\n",
      " 'ужасы,драма,военный' 'реальное ТВ' 'аниме,мультфильм,детектив'\n",
      " 'приключения,фэнтези,семейный' 'драма,биография,комедия'\n",
      " 'триллер,комедия,ужасы' 'музыка,мелодрама,фэнтези' 'мультфильм,история'\n",
      " 'мультфильм,комедия,фантастика' 'биография,криминал,драма'\n",
      " 'комедия,мелодрама,фантастика' 'криминал,боевик,комедия'\n",
      " 'история,криминал' 'детектив,комедия,драма' 'триллер,фантастика,боевик'\n",
      " 'криминал,боевик' 'комедия,драма,военный' 'драма,триллер,криминал'\n",
      " 'мультфильм,мелодрама,приключения' 'фантастика,фэнтези,триллер'\n",
      " 'короткометражка,драма,триллер' 'военный,боевик,история'\n",
      " 'боевик,драма,триллер' 'документальный,военный,драма'\n",
      " 'драма,криминал,фильм-нуар' 'мультфильм,детский,приключения'\n",
      " 'мелодрама,история,драма']\n"
     ]
    }
   ],
   "source": [
    "# вывожу значения\n",
    "print(data['type'].unique())\n",
    "print()\n",
    "print(data['production_country'].unique())\n",
    "print()\n",
    "print(data['director'].unique())\n",
    "print()\n",
    "print(data['producer'].unique())\n",
    "print()\n",
    "print(data['age_restriction'].unique())\n",
    "print()\n",
    "print(data['financing_source'].unique())\n",
    "print()\n",
    "print(data['genres'].unique())"
   ]
  },
  {
   "cell_type": "markdown",
   "metadata": {},
   "source": [
    "В остальных категориальных переменных нет такой проблемы с пробелами. Удалим пробелы в начале и в конце строки у type.ё"
   ]
  },
  {
   "cell_type": "code",
   "execution_count": 161,
   "metadata": {},
   "outputs": [],
   "source": [
    "# удаляем пробелы\n",
    "data['type'] = data['type'].str.strip()"
   ]
  },
  {
   "cell_type": "code",
   "execution_count": 162,
   "metadata": {},
   "outputs": [
    {
     "data": {
      "text/plain": [
       "array(['Художественный', 'Анимационный', 'Прочие', 'Документальный',\n",
       "       'Научно-популярный', 'Музыкально-развлекательный'], dtype=object)"
      ]
     },
     "execution_count": 162,
     "metadata": {},
     "output_type": "execute_result"
    }
   ],
   "source": [
    "# проверяем данные\n",
    "data['type'].unique()"
   ]
  },
  {
   "cell_type": "markdown",
   "metadata": {},
   "source": [
    "Получилось избавиться от дублирования типа. Посмотрим, не появились ли в данных новые дубликаты из-за замены.ё"
   ]
  },
  {
   "cell_type": "code",
   "execution_count": 163,
   "metadata": {},
   "outputs": [
    {
     "data": {
      "text/plain": [
       "0.0"
      ]
     },
     "execution_count": 163,
     "metadata": {},
     "output_type": "execute_result"
    }
   ],
   "source": [
    "# проверяю дубликаты\n",
    "data.duplicated().mean()"
   ]
  },
  {
   "cell_type": "markdown",
   "metadata": {},
   "source": [
    "Всё нормально, новых дубликатов не возникло."
   ]
  },
  {
   "cell_type": "markdown",
   "metadata": {
    "id": "XFSN5lrEgFyR"
   },
   "source": [
    "# Шаг 2.5. Проверьте количественные значения\n",
    "\n",
    "- Проверьте, обнаружились ли в таких столбцах подозрительные данные. Как с такими данными лучше поступить?\n",
    "\n",
    "<div id=\"accordion\">\n",
    "    <div class=\"card\">\n",
    "        <div class=\"card-header\" id=\"headingThree\">\n",
    "            <button class=\"btn btn-link collapsed\" data-toggle=\"collapse\" data-target=\"#collapseHint_budget\" aria-expanded=\"false\" aria-controls=\"collapseHint_budget\">Подсказка</button>\n",
    "        </div>\n",
    "        <div id=\"collapseHint_budget\" class=\"collapse\" aria-labelledby=\"headingThree\" data-parent=\"#accordion\">\n",
    "            <div class=\"card-body\">\n",
    "Обратите внимание на описание столбца <code>budget</code>. Как этот столбец соотносится с двумя другими: <code>refundable_support</code> и <code>nonrefundable_support</code>?\n",
    "            </div>\n",
    "        </div>\n",
    "    </div>\n",
    "</div>"
   ]
  },
  {
   "cell_type": "markdown",
   "metadata": {
    "id": "YbzClBxagFyS"
   },
   "source": [
    "Посмотрим на количественные переменные. С рейтингом я уже поработала в предыдущей секции, чтобы поменять формат данных. Теперь посмотрим на refundable_support, nonrefundable_support, budget и box_office. \n",
    "\n",
    "Бюджет фильма не должен быть меньше, чем сумма финансовой поддержки, проверим это"
   ]
  },
  {
   "cell_type": "code",
   "execution_count": 164,
   "metadata": {},
   "outputs": [
    {
     "name": "stdout",
     "output_type": "stream",
     "text": [
      "17\n"
     ]
    },
    {
     "data": {
      "text/plain": [
       "0.0"
      ]
     },
     "execution_count": 164,
     "metadata": {},
     "output_type": "execute_result"
    }
   ],
   "source": [
    "# срез\n",
    "print(data.loc[data['budget']<data['refundable_support']+data['nonrefundable_support']]['type'].count())\n",
    "data.loc[data['budget']<data['refundable_support']+data['nonrefundable_support']]['budget'].mean()"
   ]
  },
  {
   "cell_type": "markdown",
   "metadata": {},
   "source": [
    "Оказывается, есть 17 фильмов, для которых это неравенство неверно, причём у этих фильмов нулевой бюджет. Лучше заменить их значения для бюджета на сумму государственных денег."
   ]
  },
  {
   "cell_type": "code",
   "execution_count": 165,
   "metadata": {},
   "outputs": [],
   "source": [
    "# заменяю значения\n",
    "data.loc[data['budget']<data['refundable_support']+data['nonrefundable_support'], 'budget'] = (\n",
    "    data.loc[data['budget']<data['refundable_support']+data['nonrefundable_support'], 'refundable_support']+\n",
    "    data.loc[data['budget']<data['refundable_support']+data['nonrefundable_support'], 'nonrefundable_support']\n",
    ")"
   ]
  },
  {
   "cell_type": "markdown",
   "metadata": {},
   "source": [
    "Посмотрим, остались ли фильмы с нулевым бюджетом."
   ]
  },
  {
   "cell_type": "code",
   "execution_count": 166,
   "metadata": {},
   "outputs": [
    {
     "data": {
      "text/html": [
       "<div>\n",
       "<style scoped>\n",
       "    .dataframe tbody tr th:only-of-type {\n",
       "        vertical-align: middle;\n",
       "    }\n",
       "\n",
       "    .dataframe tbody tr th {\n",
       "        vertical-align: top;\n",
       "    }\n",
       "\n",
       "    .dataframe thead th {\n",
       "        text-align: right;\n",
       "    }\n",
       "</style>\n",
       "<table border=\"1\" class=\"dataframe\">\n",
       "  <thead>\n",
       "    <tr style=\"text-align: right;\">\n",
       "      <th></th>\n",
       "      <th>title</th>\n",
       "      <th>pu_number</th>\n",
       "      <th>show_start_date</th>\n",
       "      <th>type</th>\n",
       "      <th>film_studio</th>\n",
       "      <th>production_country</th>\n",
       "      <th>director</th>\n",
       "      <th>producer</th>\n",
       "      <th>age_restriction</th>\n",
       "      <th>refundable_support</th>\n",
       "      <th>nonrefundable_support</th>\n",
       "      <th>budget</th>\n",
       "      <th>financing_source</th>\n",
       "      <th>ratings</th>\n",
       "      <th>genres</th>\n",
       "      <th>box_office</th>\n",
       "    </tr>\n",
       "  </thead>\n",
       "  <tbody>\n",
       "  </tbody>\n",
       "</table>\n",
       "</div>"
      ],
      "text/plain": [
       "Empty DataFrame\n",
       "Columns: [title, pu_number, show_start_date, type, film_studio, production_country, director, producer, age_restriction, refundable_support, nonrefundable_support, budget, financing_source, ratings, genres, box_office]\n",
       "Index: []"
      ]
     },
     "execution_count": 166,
     "metadata": {},
     "output_type": "execute_result"
    }
   ],
   "source": [
    "# срез\n",
    "data.loc[data['budget']==0]"
   ]
  },
  {
   "cell_type": "markdown",
   "metadata": {},
   "source": [
    "Таких фильмов нет и это хорошо! Теперь посмотрим на распределение box_office. Для наглядности построю распределение сборов на логарифмической шкале."
   ]
  },
  {
   "cell_type": "code",
   "execution_count": 167,
   "metadata": {},
   "outputs": [
    {
     "data": {
      "image/png": "[encoded data removed]",
      "text/plain": [
       "<Figure size 720x360 with 1 Axes>"
      ]
     },
     "metadata": {
      "needs_background": "light"
     },
     "output_type": "display_data"
    }
   ],
   "source": [
    "# гистограмма\n",
    "plt.figure(figsize = (10,5))\n",
    "plt.hist(data['box_office'], bins = 1000, rwidth = 0.8);\n",
    "plt.xlabel('\\n' 'сборы')\n",
    "plt.ylabel('колличество наблюдений')\n",
    "plt.ticklabel_format(useOffset=False, style='plain')\n",
    "plt.xlim(0, 50000000)\n",
    "plt.title('распределение денежных сборов' '\\n');"
   ]
  },
  {
   "cell_type": "code",
   "execution_count": 168,
   "metadata": {},
   "outputs": [
    {
     "data": {
      "image/png": "[encoded data removed]",
      "text/plain": [
       "<Figure size 720x360 with 1 Axes>"
      ]
     },
     "metadata": {
      "needs_background": "light"
     },
     "output_type": "display_data"
    }
   ],
   "source": [
    "# гистограмма\n",
    "plt.figure(figsize = (10,5))\n",
    "plt.hist(data['box_office'], bins = 2000, rwidth = 0.8);\n",
    "plt.xlabel('\\n' 'сборы')\n",
    "plt.ylabel('колличество наблюдений')\n",
    "plt.ticklabel_format(useOffset=False, style='plain')\n",
    "plt.xlim(0, 10000000)\n",
    "plt.title('распределение денежных сборов' '\\n');"
   ]
  },
  {
   "cell_type": "code",
   "execution_count": 169,
   "metadata": {},
   "outputs": [
    {
     "data": {
      "image/png": "[encoded data removed]",
      "text/plain": [
       "<Figure size 720x360 with 1 Axes>"
      ]
     },
     "metadata": {
      "needs_background": "light"
     },
     "output_type": "display_data"
    }
   ],
   "source": [
    "# гистограмма\n",
    "plt.figure(figsize = (10,5))\n",
    "plt.hist(data['box_office'], bins = 10000, rwidth = 0.8);\n",
    "plt.xlabel('\\n' 'сборы')\n",
    "plt.ylabel('колличество наблюдений')\n",
    "plt.ticklabel_format(useOffset=False, style='plain')\n",
    "plt.xlim(0, 1000000)\n",
    "plt.title('распределение денежных сборов' '\\n');"
   ]
  },
  {
   "cell_type": "markdown",
   "metadata": {},
   "source": [
    "Посмотрю на статистику переменной box_office"
   ]
  },
  {
   "cell_type": "code",
   "execution_count": 170,
   "metadata": {},
   "outputs": [
    {
     "data": {
      "text/plain": [
       "count            3,015\n",
       "mean        75,682,623\n",
       "std        237,771,926\n",
       "min                  0\n",
       "25%            117,600\n",
       "50%          2,430,003\n",
       "75%         23,743,895\n",
       "max      3,073,568,691\n",
       "Name: box_office, dtype: object"
      ]
     },
     "execution_count": 170,
     "metadata": {},
     "output_type": "execute_result"
    }
   ],
   "source": [
    "# статистика\n",
    "data['box_office'].describe().apply('{:,.0f}'.format)"
   ]
  },
  {
   "cell_type": "markdown",
   "metadata": {},
   "source": [
    "Оказывается, что есть фильмы с нулевыми сборами, посмотрю на них поподробнее."
   ]
  },
  {
   "cell_type": "code",
   "execution_count": 171,
   "metadata": {},
   "outputs": [
    {
     "data": {
      "text/plain": [
       "24"
      ]
     },
     "execution_count": 171,
     "metadata": {},
     "output_type": "execute_result"
    }
   ],
   "source": [
    "data.loc[data['box_office']==0]['type'].count()"
   ]
  },
  {
   "cell_type": "markdown",
   "metadata": {},
   "source": [
    "У 24 фильмов нулевые сборы, это кажется ошибкой наблюдений, удалю такие наблюдения."
   ]
  },
  {
   "cell_type": "code",
   "execution_count": 172,
   "metadata": {},
   "outputs": [],
   "source": [
    "# удаляю наблюдения\n",
    "data = data.query('box_office>0 or box_office.isna()')"
   ]
  },
  {
   "cell_type": "markdown",
   "metadata": {
    "id": "Eu6oWp2CgFyS"
   },
   "source": [
    "# Шаг 2.6. Добавьте новые столбцы\n",
    "\n",
    "\n",
    "\n"
   ]
  },
  {
   "cell_type": "markdown",
   "metadata": {
    "id": "7GgW-UpAgFyS"
   },
   "source": [
    "- Создайте столбец с информацией о годе проката. Выделите год из даты премьеры фильма."
   ]
  },
  {
   "cell_type": "code",
   "execution_count": 173,
   "metadata": {
    "id": "I-yd1DkWgFyT"
   },
   "outputs": [],
   "source": [
    "# добавляю год\n",
    "data['year'] = data['show_start_date'].dt.year"
   ]
  },
  {
   "cell_type": "markdown",
   "metadata": {
    "id": "nFTDLDYOgFyT"
   },
   "source": [
    "- Создайте два столбца: с именем и фамилией главного режиссёра и основным жанром фильма. В столбцы войдут первые значения из списка режиссёров и жанров соответственно.\n",
    "\n",
    "<div id=\"accordion\">\n",
    "    <div class=\"card\">\n",
    "        <div class=\"card-header\" id=\"headingThree\">\n",
    "            <button class=\"btn btn-link collapsed\" data-toggle=\"collapse\" data-target=\"#collapseHint_2\" aria-expanded=\"false\" aria-controls=\"collapseHint_2\">Подсказка</button>\n",
    "        </div>\n",
    "        <div id=\"collapseHint_2\" class=\"collapse\" aria-labelledby=\"headingThree\" data-parent=\"#accordion\">\n",
    "            <div class=\"card-body\">\n",
    "Чтобы создать такие столбцы, лучше всего использовать собственную функцию. Эту функцию можно применить к двум столбцам сразу. \n",
    "            </div>\n",
    "        </div>\n",
    "    </div>\n",
    "</div>"
   ]
  },
  {
   "cell_type": "code",
   "execution_count": 174,
   "metadata": {
    "id": "LSbRZKbMgFyU"
   },
   "outputs": [],
   "source": [
    "# создаю функцию\n",
    "def name(string):\n",
    "    try:\n",
    "        return string[0:string.find(',')]\n",
    "    except:\n",
    "        return string  "
   ]
  },
  {
   "cell_type": "code",
   "execution_count": 175,
   "metadata": {},
   "outputs": [],
   "source": [
    "# создаю новые переменные\n",
    "data['main_director'] = data['director'].apply(name)\n",
    "data['main_genres'] = data['genres'].apply(name)"
   ]
  },
  {
   "cell_type": "markdown",
   "metadata": {
    "id": "1FsCXHwdgFyU"
   },
   "source": [
    "- Посчитайте, какую долю от общего бюджета фильма составляет государственная поддержка."
   ]
  },
  {
   "cell_type": "markdown",
   "metadata": {},
   "source": [
    "У нас нет наблюдения с нулевым буджетом, поэтому можно смело на него делить, аномалий не возникнет."
   ]
  },
  {
   "cell_type": "code",
   "execution_count": 176,
   "metadata": {
    "id": "LV6qFuZLgFyV"
   },
   "outputs": [],
   "source": [
    "# создаю переменную\n",
    "data['fraction'] = (data['refundable_support']+data['nonrefundable_support'])/data['budget']"
   ]
  },
  {
   "cell_type": "code",
   "execution_count": 177,
   "metadata": {},
   "outputs": [
    {
     "data": {
      "text/plain": [
       "count    329.0\n",
       "mean       0.5\n",
       "std        0.2\n",
       "min        0.0\n",
       "25%        0.4\n",
       "50%        0.6\n",
       "75%        0.7\n",
       "max        1.0\n",
       "Name: fraction, dtype: object"
      ]
     },
     "execution_count": 177,
     "metadata": {},
     "output_type": "execute_result"
    }
   ],
   "source": [
    "# выводим статистику для fraction\n",
    "data['fraction'].describe().apply('{:,.1f}'.format)"
   ]
  },
  {
   "cell_type": "markdown",
   "metadata": {},
   "source": [
    "Доля выглядит адекватно."
   ]
  },
  {
   "cell_type": "markdown",
   "metadata": {
    "id": "6t4EukPLgFyV"
   },
   "source": [
    "# Шаг 3. Проведите исследовательский анализ данных\n"
   ]
  },
  {
   "cell_type": "markdown",
   "metadata": {
    "id": "vAH8WCzugFyV"
   },
   "source": [
    "- Посмотрите, сколько фильмов выходило в прокат каждый год. Обратите внимание, что данные о прокате в кинотеатрах известны не для всех фильмов. Посчитайте, какую долю составляют фильмы с указанной информацией о прокате в кинотеатрах."
   ]
  },
  {
   "cell_type": "code",
   "execution_count": 178,
   "metadata": {
    "id": "ABeV47y7gFyW"
   },
   "outputs": [
    {
     "data": {
      "text/plain": [
       "year\n",
       "2010    753\n",
       "2011    475\n",
       "2012    511\n",
       "2013    584\n",
       "2014    723\n",
       "2015    658\n",
       "2016    770\n",
       "2017    498\n",
       "2018    864\n",
       "2019    887\n",
       "Name: type, dtype: int64"
      ]
     },
     "execution_count": 178,
     "metadata": {},
     "output_type": "execute_result"
    }
   ],
   "source": [
    "# группирую по годам\n",
    "data.groupby('year')['type'].count()"
   ]
  },
  {
   "cell_type": "code",
   "execution_count": 179,
   "metadata": {},
   "outputs": [
    {
     "data": {
      "image/png": "[encoded data removed]",
      "text/plain": [
       "<Figure size 720x360 with 1 Axes>"
      ]
     },
     "metadata": {
      "needs_background": "light"
     },
     "output_type": "display_data"
    }
   ],
   "source": [
    "# график\n",
    "data.groupby('year')['type'].count().plot(figsize = (10,5), xlabel = 'год', title = 'число фильмов в прокате по годам \\n');"
   ]
  },
  {
   "cell_type": "code",
   "execution_count": 180,
   "metadata": {},
   "outputs": [
    {
     "data": {
      "text/plain": [
       "year\n",
       "2010    0.11\n",
       "2011    0.21\n",
       "2012    0.22\n",
       "2013    0.29\n",
       "2014    0.35\n",
       "2015    0.65\n",
       "2016    0.65\n",
       "2017    0.71\n",
       "2018    0.55\n",
       "2019    0.59\n",
       "dtype: object"
      ]
     },
     "execution_count": 180,
     "metadata": {},
     "output_type": "execute_result"
    }
   ],
   "source": [
    "# доля фильмов с информацией о сборах\n",
    "(data.groupby('year')['box_office'].count()/data.groupby('year')['type'].count()).apply('{:,.2f}'.format)"
   ]
  },
  {
   "cell_type": "code",
   "execution_count": 181,
   "metadata": {},
   "outputs": [
    {
     "data": {
      "image/png": "[encoded data removed]",
      "text/plain": [
       "<Figure size 720x360 with 1 Axes>"
      ]
     },
     "metadata": {
      "needs_background": "light"
     },
     "output_type": "display_data"
    }
   ],
   "source": [
    "# график \n",
    "(data.groupby('year')['box_office']\n",
    " .count()/data.groupby('year')['type'].\n",
    " count()).plot(figsize = (10,5), xlabel = 'год', title = 'доля фильмов с информацией о прокате \\n');"
   ]
  },
  {
   "cell_type": "markdown",
   "metadata": {},
   "source": [
    "Из первого графика видно, что динамика выхода в прокат у фильмов была очень нелинейной: в 2011 и 2017 годах были провалы. Теперь посмотрим на сумму сборов."
   ]
  },
  {
   "cell_type": "markdown",
   "metadata": {
    "id": "BEOdcIrIgFyW"
   },
   "source": [
    "- Изучите, как менялась динамика проката по годам. В каком году сумма сборов была минимальной? А максимальной?"
   ]
  },
  {
   "cell_type": "code",
   "execution_count": 182,
   "metadata": {},
   "outputs": [
    {
     "data": {
      "image/png": "[encoded data removed]",
      "text/plain": [
       "<Figure size 720x360 with 1 Axes>"
      ]
     },
     "metadata": {
      "needs_background": "light"
     },
     "output_type": "display_data"
    }
   ],
   "source": [
    "# график\n",
    "fig, ax = plt.subplots()\n",
    "fig.set_size_inches(10, 5)\n",
    "ax.plot(data.groupby('year')['box_office'].sum())\n",
    "ax.ticklabel_format(useOffset=False, style='plain')\n",
    "plt.xlabel('год')\n",
    "plt.title('сборы по годам \\n')\n",
    "plt.show()"
   ]
  },
  {
   "cell_type": "markdown",
   "metadata": {},
   "source": [
    "На графике видно, что в 2010 - 2013 года практически одинаково минимальны, в то время как 2017 - 2019 года максимальны по сборам. Посмотрим на точные цифры."
   ]
  },
  {
   "cell_type": "code",
   "execution_count": 183,
   "metadata": {},
   "outputs": [
    {
     "data": {
      "text/html": [
       "<style  type=\"text/css\" >\n",
       "#T_6f81d_row0_col0,#T_6f81d_row1_col0,#T_6f81d_row2_col0,#T_6f81d_row3_col0{\n",
       "            background-color:  #3b4cc0;\n",
       "            color:  #f1f1f1;\n",
       "        }#T_6f81d_row4_col0{\n",
       "            background-color:  #6a8bef;\n",
       "            color:  #000000;\n",
       "        }#T_6f81d_row5_col0{\n",
       "            background-color:  #f7b99e;\n",
       "            color:  #000000;\n",
       "        }#T_6f81d_row6_col0{\n",
       "            background-color:  #d65244;\n",
       "            color:  #000000;\n",
       "        }#T_6f81d_row7_col0{\n",
       "            background-color:  #b8122a;\n",
       "            color:  #f1f1f1;\n",
       "        }#T_6f81d_row8_col0,#T_6f81d_row9_col0{\n",
       "            background-color:  #b40426;\n",
       "            color:  #f1f1f1;\n",
       "        }</style><table id=\"T_6f81d_\" ><thead>    <tr>        <th class=\"blank level0\" ></th>        <th class=\"col_heading level0 col0\" >box_office</th>    </tr>    <tr>        <th class=\"index_name level0\" >year</th>        <th class=\"blank\" ></th>    </tr></thead><tbody>\n",
       "                <tr>\n",
       "                        <th id=\"T_6f81d_level0_row0\" class=\"row_heading level0 row0\" >2010</th>\n",
       "                        <td id=\"T_6f81d_row0_col0\" class=\"data row0 col0\" >2,374,340</td>\n",
       "            </tr>\n",
       "            <tr>\n",
       "                        <th id=\"T_6f81d_level0_row1\" class=\"row_heading level0 row1\" >2012</th>\n",
       "                        <td id=\"T_6f81d_row1_col0\" class=\"data row1 col0\" >6,420,761</td>\n",
       "            </tr>\n",
       "            <tr>\n",
       "                        <th id=\"T_6f81d_level0_row2\" class=\"row_heading level0 row2\" >2011</th>\n",
       "                        <td id=\"T_6f81d_row2_col0\" class=\"data row2 col0\" >13,944,390</td>\n",
       "            </tr>\n",
       "            <tr>\n",
       "                        <th id=\"T_6f81d_level0_row3\" class=\"row_heading level0 row3\" >2013</th>\n",
       "                        <td id=\"T_6f81d_row3_col0\" class=\"data row3 col0\" >29,768,531</td>\n",
       "            </tr>\n",
       "            <tr>\n",
       "                        <th id=\"T_6f81d_level0_row4\" class=\"row_heading level0 row4\" >2014</th>\n",
       "                        <td id=\"T_6f81d_row4_col0\" class=\"data row4 col0\" >7,372,598,572</td>\n",
       "            </tr>\n",
       "            <tr>\n",
       "                        <th id=\"T_6f81d_level0_row5\" class=\"row_heading level0 row5\" >2015</th>\n",
       "                        <td id=\"T_6f81d_row5_col0\" class=\"data row5 col0\" >32,084,649,858</td>\n",
       "            </tr>\n",
       "            <tr>\n",
       "                        <th id=\"T_6f81d_level0_row6\" class=\"row_heading level0 row6\" >2016</th>\n",
       "                        <td id=\"T_6f81d_row6_col0\" class=\"data row6 col0\" >43,731,444,689</td>\n",
       "            </tr>\n",
       "            <tr>\n",
       "                        <th id=\"T_6f81d_level0_row7\" class=\"row_heading level0 row7\" >2018</th>\n",
       "                        <td id=\"T_6f81d_row7_col0\" class=\"data row7 col0\" >47,970,952,311</td>\n",
       "            </tr>\n",
       "            <tr>\n",
       "                        <th id=\"T_6f81d_level0_row8\" class=\"row_heading level0 row8\" >2019</th>\n",
       "                        <td id=\"T_6f81d_row8_col0\" class=\"data row8 col0\" >48,409,400,347</td>\n",
       "            </tr>\n",
       "            <tr>\n",
       "                        <th id=\"T_6f81d_level0_row9\" class=\"row_heading level0 row9\" >2017</th>\n",
       "                        <td id=\"T_6f81d_row9_col0\" class=\"data row9 col0\" >48,561,554,267</td>\n",
       "            </tr>\n",
       "    </tbody></table>"
      ],
      "text/plain": [
       "<pandas.io.formats.style.Styler at 0x7fd021fdd250>"
      ]
     },
     "execution_count": 183,
     "metadata": {},
     "output_type": "execute_result"
    }
   ],
   "source": [
    "# сумма по годам\n",
    "pd.DataFrame(data.groupby('year')['box_office'].sum().sort_values()).style.background_gradient('coolwarm').format('{:,.0f}')"
   ]
  },
  {
   "cell_type": "markdown",
   "metadata": {},
   "source": [
    "Лидером по прокату оказался 2017 год, а самым минимальным - 2010."
   ]
  },
  {
   "cell_type": "markdown",
   "metadata": {
    "id": "G-7qS-N-gFyY"
   },
   "source": [
    "- С помощью сводной таблицы посчитайте среднюю и медианную сумму сборов для каждого года."
   ]
  },
  {
   "cell_type": "code",
   "execution_count": 184,
   "metadata": {
    "id": "jmp-rgg9gFyY"
   },
   "outputs": [
    {
     "data": {
      "text/html": [
       "<style  type=\"text/css\" >\n",
       "</style><table id=\"T_b3974_\" ><thead>    <tr>        <th class=\"blank level0\" ></th>        <th class=\"col_heading level0 col0\" >mean</th>        <th class=\"col_heading level0 col1\" >median</th>    </tr>    <tr>        <th class=\"blank level1\" ></th>        <th class=\"col_heading level1 col0\" >box_office</th>        <th class=\"col_heading level1 col1\" >box_office</th>    </tr>    <tr>        <th class=\"index_name level0\" >year</th>        <th class=\"blank\" ></th>        <th class=\"blank\" ></th>    </tr></thead><tbody>\n",
       "                <tr>\n",
       "                        <th id=\"T_b3974_level0_row0\" class=\"row_heading level0 row0\" >2010</th>\n",
       "                        <td id=\"T_b3974_row0_col0\" class=\"data row0 col0\" >28,266</td>\n",
       "                        <td id=\"T_b3974_row0_col1\" class=\"data row0 col1\" >2,085</td>\n",
       "            </tr>\n",
       "            <tr>\n",
       "                        <th id=\"T_b3974_level0_row1\" class=\"row_heading level0 row1\" >2011</th>\n",
       "                        <td id=\"T_b3974_row1_col0\" class=\"data row1 col0\" >142,290</td>\n",
       "                        <td id=\"T_b3974_row1_col1\" class=\"data row1 col1\" >3,042</td>\n",
       "            </tr>\n",
       "            <tr>\n",
       "                        <th id=\"T_b3974_level0_row2\" class=\"row_heading level0 row2\" >2012</th>\n",
       "                        <td id=\"T_b3974_row2_col0\" class=\"data row2 col0\" >58,371</td>\n",
       "                        <td id=\"T_b3974_row2_col1\" class=\"data row2 col1\" >6,838</td>\n",
       "            </tr>\n",
       "            <tr>\n",
       "                        <th id=\"T_b3974_level0_row3\" class=\"row_heading level0 row3\" >2013</th>\n",
       "                        <td id=\"T_b3974_row3_col0\" class=\"data row3 col0\" >174,085</td>\n",
       "                        <td id=\"T_b3974_row3_col1\" class=\"data row3 col1\" >3,880</td>\n",
       "            </tr>\n",
       "            <tr>\n",
       "                        <th id=\"T_b3974_level0_row4\" class=\"row_heading level0 row4\" >2014</th>\n",
       "                        <td id=\"T_b3974_row4_col0\" class=\"data row4 col0\" >29,372,903</td>\n",
       "                        <td id=\"T_b3974_row4_col1\" class=\"data row4 col1\" >28,150</td>\n",
       "            </tr>\n",
       "            <tr>\n",
       "                        <th id=\"T_b3974_level0_row5\" class=\"row_heading level0 row5\" >2015</th>\n",
       "                        <td id=\"T_b3974_row5_col0\" class=\"data row5 col0\" >74,964,135</td>\n",
       "                        <td id=\"T_b3974_row5_col1\" class=\"data row5 col1\" >4,398,304</td>\n",
       "            </tr>\n",
       "            <tr>\n",
       "                        <th id=\"T_b3974_level0_row6\" class=\"row_heading level0 row6\" >2016</th>\n",
       "                        <td id=\"T_b3974_row6_col0\" class=\"data row6 col0\" >87,462,889</td>\n",
       "                        <td id=\"T_b3974_row6_col1\" class=\"data row6 col1\" >3,650,261</td>\n",
       "            </tr>\n",
       "            <tr>\n",
       "                        <th id=\"T_b3974_level0_row7\" class=\"row_heading level0 row7\" >2017</th>\n",
       "                        <td id=\"T_b3974_row7_col0\" class=\"data row7 col0\" >136,408,860</td>\n",
       "                        <td id=\"T_b3974_row7_col1\" class=\"data row7 col1\" >10,177,834</td>\n",
       "            </tr>\n",
       "            <tr>\n",
       "                        <th id=\"T_b3974_level0_row8\" class=\"row_heading level0 row8\" >2018</th>\n",
       "                        <td id=\"T_b3974_row8_col0\" class=\"data row8 col0\" >101,849,156</td>\n",
       "                        <td id=\"T_b3974_row8_col1\" class=\"data row8 col1\" >8,891,102</td>\n",
       "            </tr>\n",
       "            <tr>\n",
       "                        <th id=\"T_b3974_level0_row9\" class=\"row_heading level0 row9\" >2019</th>\n",
       "                        <td id=\"T_b3974_row9_col0\" class=\"data row9 col0\" >92,738,315</td>\n",
       "                        <td id=\"T_b3974_row9_col1\" class=\"data row9 col1\" >4,774,520</td>\n",
       "            </tr>\n",
       "    </tbody></table>"
      ],
      "text/plain": [
       "<pandas.io.formats.style.Styler at 0x7fd021ff4100>"
      ]
     },
     "execution_count": 184,
     "metadata": {},
     "output_type": "execute_result"
    }
   ],
   "source": [
    "# строим сводную таблицу\n",
    "pd.pivot_table(data, values = 'box_office', index = 'year', aggfunc = ['mean', 'median']).style.format('{:,.0f}')"
   ]
  },
  {
   "cell_type": "markdown",
   "metadata": {},
   "source": [
    "Из сводной таблицы видно, как сильно отличаются средние и медианные сборы для каждого года. Это значит, что распределение сборов для каждого года очень сильно скошенное. В таком случае медиана будет более правильным показателем для использования."
   ]
  },
  {
   "cell_type": "markdown",
   "metadata": {
    "id": "Ok89WFwJgFyZ"
   },
   "source": [
    "- Определите, влияет ли возрастное ограничение аудитории («6+», «12+», «16+», «18+» и т. д.) на сборы фильма в прокате в период с 2015 по 2019 год? Фильмы с каким возрастным ограничением собрали больше всего денег в прокате? Меняется ли картина в зависимости от года? Если да, предположите, с чем это может быть связано."
   ]
  },
  {
   "cell_type": "markdown",
   "metadata": {},
   "source": [
    "Для начала сгруппируем данные по ограничениям и посмотрим на медианные сборы. "
   ]
  },
  {
   "cell_type": "code",
   "execution_count": 185,
   "metadata": {
    "id": "jsSbEqfjgFya"
   },
   "outputs": [
    {
     "data": {
      "text/plain": [
       "age_restriction\n",
       "«0+» - для любой зрительской аудитории       96,846\n",
       "«12+» - для детей старше 12 лет             910,831\n",
       "«16+» - для детей старше 16 лет           1,774,270\n",
       "«18+» - запрещено для детей               5,124,405\n",
       "«6+» - для детей старше 6 лет             6,252,884\n",
       "Name: box_office, dtype: object"
      ]
     },
     "execution_count": 185,
     "metadata": {},
     "output_type": "execute_result"
    }
   ],
   "source": [
    "# группировка\n",
    "data.groupby('age_restriction')['box_office'].median().apply('{:,.0f}'.format)"
   ]
  },
  {
   "cell_type": "markdown",
   "metadata": {},
   "source": [
    "Любопытно, что наибольшие медианные сборы у фильмов с ограничение 6+, следующая категория у 18+, остальные сильно отстают.\n",
    "Теперь посмотрим на срезу по годам."
   ]
  },
  {
   "cell_type": "code",
   "execution_count": 186,
   "metadata": {},
   "outputs": [
    {
     "data": {
      "text/html": [
       "<style  type=\"text/css\" >\n",
       "#T_192aa_row0_col0,#T_192aa_row1_col0,#T_192aa_row2_col0,#T_192aa_row3_col0,#T_192aa_row4_col0,#T_192aa_row5_col0,#T_192aa_row6_col0,#T_192aa_row7_col0,#T_192aa_row8_col0,#T_192aa_row9_col0,#T_192aa_row10_col0,#T_192aa_row11_col0,#T_192aa_row12_col0,#T_192aa_row13_col0,#T_192aa_row14_col0,#T_192aa_row15_col0,#T_192aa_row16_col0,#T_192aa_row17_col0,#T_192aa_row18_col0,#T_192aa_row19_col0,#T_192aa_row20_col0,#T_192aa_row22_col0{\n",
       "            background-color:  #3b4cc0;\n",
       "            color:  #f1f1f1;\n",
       "        }#T_192aa_row21_col0{\n",
       "            background-color:  #3d50c3;\n",
       "            color:  #f1f1f1;\n",
       "        }#T_192aa_row23_col0{\n",
       "            background-color:  #4b64d5;\n",
       "            color:  #f1f1f1;\n",
       "        }#T_192aa_row24_col0{\n",
       "            background-color:  #9dbdff;\n",
       "            color:  #000000;\n",
       "        }#T_192aa_row25_col0{\n",
       "            background-color:  #536edd;\n",
       "            color:  #000000;\n",
       "        }#T_192aa_row26_col0,#T_192aa_row43_col0{\n",
       "            background-color:  #516ddb;\n",
       "            color:  #000000;\n",
       "        }#T_192aa_row27_col0{\n",
       "            background-color:  #bed2f6;\n",
       "            color:  #000000;\n",
       "        }#T_192aa_row28_col0{\n",
       "            background-color:  #4a63d3;\n",
       "            color:  #f1f1f1;\n",
       "        }#T_192aa_row29_col0{\n",
       "            background-color:  #5673e0;\n",
       "            color:  #000000;\n",
       "        }#T_192aa_row30_col0,#T_192aa_row32_col0{\n",
       "            background-color:  #506bda;\n",
       "            color:  #000000;\n",
       "        }#T_192aa_row31_col0{\n",
       "            background-color:  #5b7ae5;\n",
       "            color:  #000000;\n",
       "        }#T_192aa_row33_col0{\n",
       "            background-color:  #c9d7f0;\n",
       "            color:  #000000;\n",
       "        }#T_192aa_row34_col0{\n",
       "            background-color:  #7295f4;\n",
       "            color:  #000000;\n",
       "        }#T_192aa_row35_col0,#T_192aa_row39_col0{\n",
       "            background-color:  #799cf8;\n",
       "            color:  #000000;\n",
       "        }#T_192aa_row36_col0{\n",
       "            background-color:  #6c8ff1;\n",
       "            color:  #000000;\n",
       "        }#T_192aa_row37_col0{\n",
       "            background-color:  #b40426;\n",
       "            color:  #f1f1f1;\n",
       "        }#T_192aa_row38_col0,#T_192aa_row44_col0{\n",
       "            background-color:  #4f69d9;\n",
       "            color:  #000000;\n",
       "        }#T_192aa_row40_col0{\n",
       "            background-color:  #7093f3;\n",
       "            color:  #000000;\n",
       "        }#T_192aa_row41_col0{\n",
       "            background-color:  #6687ed;\n",
       "            color:  #000000;\n",
       "        }#T_192aa_row42_col0{\n",
       "            background-color:  #98b9ff;\n",
       "            color:  #000000;\n",
       "        }#T_192aa_row45_col0{\n",
       "            background-color:  #4c66d6;\n",
       "            color:  #000000;\n",
       "        }#T_192aa_row46_col0{\n",
       "            background-color:  #5e7de7;\n",
       "            color:  #000000;\n",
       "        }#T_192aa_row47_col0{\n",
       "            background-color:  #8caffe;\n",
       "            color:  #000000;\n",
       "        }</style><table id=\"T_192aa_\" ><thead>    <tr>        <th class=\"blank\" ></th>        <th class=\"blank level0\" ></th>        <th class=\"col_heading level0 col0\" >box_office</th>    </tr>    <tr>        <th class=\"index_name level0\" >year</th>        <th class=\"index_name level1\" >age_restriction</th>        <th class=\"blank\" ></th>    </tr></thead><tbody>\n",
       "                <tr>\n",
       "                        <th id=\"T_192aa_level0_row0\" class=\"row_heading level0 row0\" rowspan=\"4\">2010</th>\n",
       "                        <th id=\"T_192aa_level1_row0\" class=\"row_heading level1 row0\" >«0+» - для любой зрительской аудитории</th>\n",
       "                        <td id=\"T_192aa_row0_col0\" class=\"data row0 col0\" >10,980</td>\n",
       "            </tr>\n",
       "            <tr>\n",
       "                                <th id=\"T_192aa_level1_row1\" class=\"row_heading level1 row1\" >«12+» - для детей старше 12 лет</th>\n",
       "                        <td id=\"T_192aa_row1_col0\" class=\"data row1 col0\" >2,635</td>\n",
       "            </tr>\n",
       "            <tr>\n",
       "                                <th id=\"T_192aa_level1_row2\" class=\"row_heading level1 row2\" >«16+» - для детей старше 16 лет</th>\n",
       "                        <td id=\"T_192aa_row2_col0\" class=\"data row2 col0\" >1,235</td>\n",
       "            </tr>\n",
       "            <tr>\n",
       "                                <th id=\"T_192aa_level1_row3\" class=\"row_heading level1 row3\" >«18+» - запрещено для детей</th>\n",
       "                        <td id=\"T_192aa_row3_col0\" class=\"data row3 col0\" >1,970</td>\n",
       "            </tr>\n",
       "            <tr>\n",
       "                        <th id=\"T_192aa_level0_row4\" class=\"row_heading level0 row4\" rowspan=\"4\">2011</th>\n",
       "                        <th id=\"T_192aa_level1_row4\" class=\"row_heading level1 row4\" >«0+» - для любой зрительской аудитории</th>\n",
       "                        <td id=\"T_192aa_row4_col0\" class=\"data row4 col0\" >6,220</td>\n",
       "            </tr>\n",
       "            <tr>\n",
       "                                <th id=\"T_192aa_level1_row5\" class=\"row_heading level1 row5\" >«12+» - для детей старше 12 лет</th>\n",
       "                        <td id=\"T_192aa_row5_col0\" class=\"data row5 col0\" >4,860</td>\n",
       "            </tr>\n",
       "            <tr>\n",
       "                                <th id=\"T_192aa_level1_row6\" class=\"row_heading level1 row6\" >«16+» - для детей старше 16 лет</th>\n",
       "                        <td id=\"T_192aa_row6_col0\" class=\"data row6 col0\" >2,835</td>\n",
       "            </tr>\n",
       "            <tr>\n",
       "                                <th id=\"T_192aa_level1_row7\" class=\"row_heading level1 row7\" >«18+» - запрещено для детей</th>\n",
       "                        <td id=\"T_192aa_row7_col0\" class=\"data row7 col0\" >520</td>\n",
       "            </tr>\n",
       "            <tr>\n",
       "                        <th id=\"T_192aa_level0_row8\" class=\"row_heading level0 row8\" rowspan=\"5\">2012</th>\n",
       "                        <th id=\"T_192aa_level1_row8\" class=\"row_heading level1 row8\" >«0+» - для любой зрительской аудитории</th>\n",
       "                        <td id=\"T_192aa_row8_col0\" class=\"data row8 col0\" >18,420</td>\n",
       "            </tr>\n",
       "            <tr>\n",
       "                                <th id=\"T_192aa_level1_row9\" class=\"row_heading level1 row9\" >«12+» - для детей старше 12 лет</th>\n",
       "                        <td id=\"T_192aa_row9_col0\" class=\"data row9 col0\" >6,775</td>\n",
       "            </tr>\n",
       "            <tr>\n",
       "                                <th id=\"T_192aa_level1_row10\" class=\"row_heading level1 row10\" >«16+» - для детей старше 16 лет</th>\n",
       "                        <td id=\"T_192aa_row10_col0\" class=\"data row10 col0\" >2,300</td>\n",
       "            </tr>\n",
       "            <tr>\n",
       "                                <th id=\"T_192aa_level1_row11\" class=\"row_heading level1 row11\" >«18+» - запрещено для детей</th>\n",
       "                        <td id=\"T_192aa_row11_col0\" class=\"data row11 col0\" >4,078</td>\n",
       "            </tr>\n",
       "            <tr>\n",
       "                                <th id=\"T_192aa_level1_row12\" class=\"row_heading level1 row12\" >«6+» - для детей старше 6 лет</th>\n",
       "                        <td id=\"T_192aa_row12_col0\" class=\"data row12 col0\" >8,305</td>\n",
       "            </tr>\n",
       "            <tr>\n",
       "                        <th id=\"T_192aa_level0_row13\" class=\"row_heading level0 row13\" rowspan=\"5\">2013</th>\n",
       "                        <th id=\"T_192aa_level1_row13\" class=\"row_heading level1 row13\" >«0+» - для любой зрительской аудитории</th>\n",
       "                        <td id=\"T_192aa_row13_col0\" class=\"data row13 col0\" >18,470</td>\n",
       "            </tr>\n",
       "            <tr>\n",
       "                                <th id=\"T_192aa_level1_row14\" class=\"row_heading level1 row14\" >«12+» - для детей старше 12 лет</th>\n",
       "                        <td id=\"T_192aa_row14_col0\" class=\"data row14 col0\" >2,890</td>\n",
       "            </tr>\n",
       "            <tr>\n",
       "                                <th id=\"T_192aa_level1_row15\" class=\"row_heading level1 row15\" >«16+» - для детей старше 16 лет</th>\n",
       "                        <td id=\"T_192aa_row15_col0\" class=\"data row15 col0\" >4,140</td>\n",
       "            </tr>\n",
       "            <tr>\n",
       "                                <th id=\"T_192aa_level1_row16\" class=\"row_heading level1 row16\" >«18+» - запрещено для детей</th>\n",
       "                        <td id=\"T_192aa_row16_col0\" class=\"data row16 col0\" >1,600</td>\n",
       "            </tr>\n",
       "            <tr>\n",
       "                                <th id=\"T_192aa_level1_row17\" class=\"row_heading level1 row17\" >«6+» - для детей старше 6 лет</th>\n",
       "                        <td id=\"T_192aa_row17_col0\" class=\"data row17 col0\" >3,458</td>\n",
       "            </tr>\n",
       "            <tr>\n",
       "                        <th id=\"T_192aa_level0_row18\" class=\"row_heading level0 row18\" rowspan=\"5\">2014</th>\n",
       "                        <th id=\"T_192aa_level1_row18\" class=\"row_heading level1 row18\" >«0+» - для любой зрительской аудитории</th>\n",
       "                        <td id=\"T_192aa_row18_col0\" class=\"data row18 col0\" >195,810</td>\n",
       "            </tr>\n",
       "            <tr>\n",
       "                                <th id=\"T_192aa_level1_row19\" class=\"row_heading level1 row19\" >«12+» - для детей старше 12 лет</th>\n",
       "                        <td id=\"T_192aa_row19_col0\" class=\"data row19 col0\" >6,870</td>\n",
       "            </tr>\n",
       "            <tr>\n",
       "                                <th id=\"T_192aa_level1_row20\" class=\"row_heading level1 row20\" >«16+» - для детей старше 16 лет</th>\n",
       "                        <td id=\"T_192aa_row20_col0\" class=\"data row20 col0\" >18,160</td>\n",
       "            </tr>\n",
       "            <tr>\n",
       "                                <th id=\"T_192aa_level1_row21\" class=\"row_heading level1 row21\" >«18+» - запрещено для детей</th>\n",
       "                        <td id=\"T_192aa_row21_col0\" class=\"data row21 col0\" >429,992</td>\n",
       "            </tr>\n",
       "            <tr>\n",
       "                                <th id=\"T_192aa_level1_row22\" class=\"row_heading level1 row22\" >«6+» - для детей старше 6 лет</th>\n",
       "                        <td id=\"T_192aa_row22_col0\" class=\"data row22 col0\" >183,588</td>\n",
       "            </tr>\n",
       "            <tr>\n",
       "                        <th id=\"T_192aa_level0_row23\" class=\"row_heading level0 row23\" rowspan=\"5\">2015</th>\n",
       "                        <th id=\"T_192aa_level1_row23\" class=\"row_heading level1 row23\" >«0+» - для любой зрительской аудитории</th>\n",
       "                        <td id=\"T_192aa_row23_col0\" class=\"data row23 col0\" >2,943,319</td>\n",
       "            </tr>\n",
       "            <tr>\n",
       "                                <th id=\"T_192aa_level1_row24\" class=\"row_heading level1 row24\" >«12+» - для детей старше 12 лет</th>\n",
       "                        <td id=\"T_192aa_row24_col0\" class=\"data row24 col0\" >15,351,562</td>\n",
       "            </tr>\n",
       "            <tr>\n",
       "                                <th id=\"T_192aa_level1_row25\" class=\"row_heading level1 row25\" >«16+» - для детей старше 16 лет</th>\n",
       "                        <td id=\"T_192aa_row25_col0\" class=\"data row25 col0\" >4,170,660</td>\n",
       "            </tr>\n",
       "            <tr>\n",
       "                                <th id=\"T_192aa_level1_row26\" class=\"row_heading level1 row26\" >«18+» - запрещено для детей</th>\n",
       "                        <td id=\"T_192aa_row26_col0\" class=\"data row26 col0\" >4,011,143</td>\n",
       "            </tr>\n",
       "            <tr>\n",
       "                                <th id=\"T_192aa_level1_row27\" class=\"row_heading level1 row27\" >«6+» - для детей старше 6 лет</th>\n",
       "                        <td id=\"T_192aa_row27_col0\" class=\"data row27 col0\" >20,380,982</td>\n",
       "            </tr>\n",
       "            <tr>\n",
       "                        <th id=\"T_192aa_level0_row28\" class=\"row_heading level0 row28\" rowspan=\"5\">2016</th>\n",
       "                        <th id=\"T_192aa_level1_row28\" class=\"row_heading level1 row28\" >«0+» - для любой зрительской аудитории</th>\n",
       "                        <td id=\"T_192aa_row28_col0\" class=\"data row28 col0\" >2,687,779</td>\n",
       "            </tr>\n",
       "            <tr>\n",
       "                                <th id=\"T_192aa_level1_row29\" class=\"row_heading level1 row29\" >«12+» - для детей старше 12 лет</th>\n",
       "                        <td id=\"T_192aa_row29_col0\" class=\"data row29 col0\" >4,690,635</td>\n",
       "            </tr>\n",
       "            <tr>\n",
       "                                <th id=\"T_192aa_level1_row30\" class=\"row_heading level1 row30\" >«16+» - для детей старше 16 лет</th>\n",
       "                        <td id=\"T_192aa_row30_col0\" class=\"data row30 col0\" >3,686,055</td>\n",
       "            </tr>\n",
       "            <tr>\n",
       "                                <th id=\"T_192aa_level1_row31\" class=\"row_heading level1 row31\" >«18+» - запрещено для детей</th>\n",
       "                        <td id=\"T_192aa_row31_col0\" class=\"data row31 col0\" >5,667,493</td>\n",
       "            </tr>\n",
       "            <tr>\n",
       "                                <th id=\"T_192aa_level1_row32\" class=\"row_heading level1 row32\" >«6+» - для детей старше 6 лет</th>\n",
       "                        <td id=\"T_192aa_row32_col0\" class=\"data row32 col0\" >3,698,272</td>\n",
       "            </tr>\n",
       "            <tr>\n",
       "                        <th id=\"T_192aa_level0_row33\" class=\"row_heading level0 row33\" rowspan=\"5\">2017</th>\n",
       "                        <th id=\"T_192aa_level1_row33\" class=\"row_heading level1 row33\" >«0+» - для любой зрительской аудитории</th>\n",
       "                        <td id=\"T_192aa_row33_col0\" class=\"data row33 col0\" >22,178,956</td>\n",
       "            </tr>\n",
       "            <tr>\n",
       "                                <th id=\"T_192aa_level1_row34\" class=\"row_heading level1 row34\" >«12+» - для детей старше 12 лет</th>\n",
       "                        <td id=\"T_192aa_row34_col0\" class=\"data row34 col0\" >9,010,548</td>\n",
       "            </tr>\n",
       "            <tr>\n",
       "                                <th id=\"T_192aa_level1_row35\" class=\"row_heading level1 row35\" >«16+» - для детей старше 16 лет</th>\n",
       "                        <td id=\"T_192aa_row35_col0\" class=\"data row35 col0\" >10,150,100</td>\n",
       "            </tr>\n",
       "            <tr>\n",
       "                                <th id=\"T_192aa_level1_row36\" class=\"row_heading level1 row36\" >«18+» - запрещено для детей</th>\n",
       "                        <td id=\"T_192aa_row36_col0\" class=\"data row36 col0\" >8,212,677</td>\n",
       "            </tr>\n",
       "            <tr>\n",
       "                                <th id=\"T_192aa_level1_row37\" class=\"row_heading level1 row37\" >«6+» - для детей старше 6 лет</th>\n",
       "                        <td id=\"T_192aa_row37_col0\" class=\"data row37 col0\" >51,992,103</td>\n",
       "            </tr>\n",
       "            <tr>\n",
       "                        <th id=\"T_192aa_level0_row38\" class=\"row_heading level0 row38\" rowspan=\"5\">2018</th>\n",
       "                        <th id=\"T_192aa_level1_row38\" class=\"row_heading level1 row38\" >«0+» - для любой зрительской аудитории</th>\n",
       "                        <td id=\"T_192aa_row38_col0\" class=\"data row38 col0\" >3,616,937</td>\n",
       "            </tr>\n",
       "            <tr>\n",
       "                                <th id=\"T_192aa_level1_row39\" class=\"row_heading level1 row39\" >«12+» - для детей старше 12 лет</th>\n",
       "                        <td id=\"T_192aa_row39_col0\" class=\"data row39 col0\" >10,035,323</td>\n",
       "            </tr>\n",
       "            <tr>\n",
       "                                <th id=\"T_192aa_level1_row40\" class=\"row_heading level1 row40\" >«16+» - для детей старше 16 лет</th>\n",
       "                        <td id=\"T_192aa_row40_col0\" class=\"data row40 col0\" >8,751,896</td>\n",
       "            </tr>\n",
       "            <tr>\n",
       "                                <th id=\"T_192aa_level1_row41\" class=\"row_heading level1 row41\" >«18+» - запрещено для детей</th>\n",
       "                        <td id=\"T_192aa_row41_col0\" class=\"data row41 col0\" >7,179,466</td>\n",
       "            </tr>\n",
       "            <tr>\n",
       "                                <th id=\"T_192aa_level1_row42\" class=\"row_heading level1 row42\" >«6+» - для детей старше 6 лет</th>\n",
       "                        <td id=\"T_192aa_row42_col0\" class=\"data row42 col0\" >14,688,850</td>\n",
       "            </tr>\n",
       "            <tr>\n",
       "                        <th id=\"T_192aa_level0_row43\" class=\"row_heading level0 row43\" rowspan=\"5\">2019</th>\n",
       "                        <th id=\"T_192aa_level1_row43\" class=\"row_heading level1 row43\" >«0+» - для любой зрительской аудитории</th>\n",
       "                        <td id=\"T_192aa_row43_col0\" class=\"data row43 col0\" >3,885,434</td>\n",
       "            </tr>\n",
       "            <tr>\n",
       "                                <th id=\"T_192aa_level1_row44\" class=\"row_heading level1 row44\" >«12+» - для детей старше 12 лет</th>\n",
       "                        <td id=\"T_192aa_row44_col0\" class=\"data row44 col0\" >3,591,456</td>\n",
       "            </tr>\n",
       "            <tr>\n",
       "                                <th id=\"T_192aa_level1_row45\" class=\"row_heading level1 row45\" >«16+» - для детей старше 16 лет</th>\n",
       "                        <td id=\"T_192aa_row45_col0\" class=\"data row45 col0\" >3,237,407</td>\n",
       "            </tr>\n",
       "            <tr>\n",
       "                                <th id=\"T_192aa_level1_row46\" class=\"row_heading level1 row46\" >«18+» - запрещено для детей</th>\n",
       "                        <td id=\"T_192aa_row46_col0\" class=\"data row46 col0\" >5,901,733</td>\n",
       "            </tr>\n",
       "            <tr>\n",
       "                                <th id=\"T_192aa_level1_row47\" class=\"row_heading level1 row47\" >«6+» - для детей старше 6 лет</th>\n",
       "                        <td id=\"T_192aa_row47_col0\" class=\"data row47 col0\" >12,875,350</td>\n",
       "            </tr>\n",
       "    </tbody></table>"
      ],
      "text/plain": [
       "<pandas.io.formats.style.Styler at 0x7fd021fe9df0>"
      ]
     },
     "execution_count": 186,
     "metadata": {},
     "output_type": "execute_result"
    }
   ],
   "source": [
    "# сводная таблица\n",
    "(\n",
    "    pd\n",
    "    .pivot_table(data, values = 'box_office', index = ['year', 'age_restriction'], aggfunc = 'median')\n",
    "    .style.background_gradient('coolwarm').format('{:,.0f}')\n",
    ")"
   ]
  },
  {
   "cell_type": "markdown",
   "metadata": {},
   "source": [
    "Из таблицы видно, что по годам влияние возрастных ограничений было очень разным - в ранние годы в выборке, когда сборы были очень низкими, наибольшие медианные сборы приходились на фильмы 0+. В более позние годы, когда сборы по фильмам были большими, наибольшие медианные сборы стали проиходиться на 6+. В частности, самый большой медианные сбор наблюдается у фильмов 6+ в 2017, из любопытства посмотрим на этот год."
   ]
  },
  {
   "cell_type": "code",
   "execution_count": 187,
   "metadata": {},
   "outputs": [
    {
     "data": {
      "text/html": [
       "<div>\n",
       "<style scoped>\n",
       "    .dataframe tbody tr th:only-of-type {\n",
       "        vertical-align: middle;\n",
       "    }\n",
       "\n",
       "    .dataframe tbody tr th {\n",
       "        vertical-align: top;\n",
       "    }\n",
       "\n",
       "    .dataframe thead th {\n",
       "        text-align: right;\n",
       "    }\n",
       "</style>\n",
       "<table border=\"1\" class=\"dataframe\">\n",
       "  <thead>\n",
       "    <tr style=\"text-align: right;\">\n",
       "      <th></th>\n",
       "      <th>title</th>\n",
       "      <th>pu_number</th>\n",
       "      <th>show_start_date</th>\n",
       "      <th>type</th>\n",
       "      <th>film_studio</th>\n",
       "      <th>production_country</th>\n",
       "      <th>director</th>\n",
       "      <th>producer</th>\n",
       "      <th>age_restriction</th>\n",
       "      <th>refundable_support</th>\n",
       "      <th>nonrefundable_support</th>\n",
       "      <th>budget</th>\n",
       "      <th>financing_source</th>\n",
       "      <th>ratings</th>\n",
       "      <th>genres</th>\n",
       "      <th>box_office</th>\n",
       "      <th>year</th>\n",
       "      <th>main_director</th>\n",
       "      <th>main_genres</th>\n",
       "      <th>fraction</th>\n",
       "    </tr>\n",
       "  </thead>\n",
       "  <tbody>\n",
       "    <tr>\n",
       "      <th>4984</th>\n",
       "      <td>Движение вверх</td>\n",
       "      <td>111011817</td>\n",
       "      <td>2017-12-21 00:12:00</td>\n",
       "      <td>Художественный</td>\n",
       "      <td>ооо \"студия \"тритэ\" никиты михалкова\"</td>\n",
       "      <td>Россия</td>\n",
       "      <td>А.Мегердичев</td>\n",
       "      <td>Л.Верещагин, А.Златопольский, Н.Михалков, ООО ...</td>\n",
       "      <td>«6+» - для детей старше 6 лет</td>\n",
       "      <td>0.0</td>\n",
       "      <td>400000000.0</td>\n",
       "      <td>590192191.0</td>\n",
       "      <td>Фонд кино</td>\n",
       "      <td>7.5</td>\n",
       "      <td>спорт,драма</td>\n",
       "      <td>2.779686e+09</td>\n",
       "      <td>2017</td>\n",
       "      <td>А.Мегердиче</td>\n",
       "      <td>спорт</td>\n",
       "      <td>0.677745</td>\n",
       "    </tr>\n",
       "    <tr>\n",
       "      <th>3451</th>\n",
       "      <td>Гадкий я 3</td>\n",
       "      <td>124001617</td>\n",
       "      <td>2017-06-15 00:12:00</td>\n",
       "      <td>Анимационный</td>\n",
       "      <td>иллюминейшен интертейнмент, юниверсал пикчерз</td>\n",
       "      <td>США</td>\n",
       "      <td>Кайл Балда, Эрик Гуильон, Пьер Коффан</td>\n",
       "      <td>Кристофер Меледандри, Джанет Хили, Бретт Хоффман</td>\n",
       "      <td>«6+» - для детей старше 6 лет</td>\n",
       "      <td>NaN</td>\n",
       "      <td>NaN</td>\n",
       "      <td>NaN</td>\n",
       "      <td>NaN</td>\n",
       "      <td>6.3</td>\n",
       "      <td>мультфильм,фантастика,фэнтези</td>\n",
       "      <td>1.390393e+09</td>\n",
       "      <td>2017</td>\n",
       "      <td>Кайл Балда</td>\n",
       "      <td>мультфильм</td>\n",
       "      <td>NaN</td>\n",
       "    </tr>\n",
       "    <tr>\n",
       "      <th>2950</th>\n",
       "      <td>Босс-Молокосос</td>\n",
       "      <td>124000317</td>\n",
       "      <td>2017-02-09 00:12:00</td>\n",
       "      <td>Анимационный</td>\n",
       "      <td>дримуоркс анимейшн</td>\n",
       "      <td>США</td>\n",
       "      <td>Том МакГрат</td>\n",
       "      <td>Рэмси Энн Наито</td>\n",
       "      <td>«6+» - для детей старше 6 лет</td>\n",
       "      <td>NaN</td>\n",
       "      <td>NaN</td>\n",
       "      <td>NaN</td>\n",
       "      <td>NaN</td>\n",
       "      <td>6.5</td>\n",
       "      <td>мультфильм,комедия,приключения</td>\n",
       "      <td>1.376727e+09</td>\n",
       "      <td>2017</td>\n",
       "      <td>Том МакГра</td>\n",
       "      <td>мультфильм</td>\n",
       "      <td>NaN</td>\n",
       "    </tr>\n",
       "    <tr>\n",
       "      <th>3347</th>\n",
       "      <td>Зверопой</td>\n",
       "      <td>124000217</td>\n",
       "      <td>2017-02-03 00:12:00</td>\n",
       "      <td>Анимационный</td>\n",
       "      <td>дентсю, фьюджи телевижн нетворк интертейнмент,...</td>\n",
       "      <td>США - Великобритания - Япония</td>\n",
       "      <td>Гарт Дженнингс, Кристоф Лоурделет</td>\n",
       "      <td>Игорь Хайт, Джанет Хили, Бретт Хоффман</td>\n",
       "      <td>«6+» - для детей старше 6 лет</td>\n",
       "      <td>NaN</td>\n",
       "      <td>NaN</td>\n",
       "      <td>NaN</td>\n",
       "      <td>NaN</td>\n",
       "      <td>7.3</td>\n",
       "      <td>мультфильм,мюзикл,комедия</td>\n",
       "      <td>8.866141e+08</td>\n",
       "      <td>2017</td>\n",
       "      <td>Гарт Дженнингс</td>\n",
       "      <td>мультфильм</td>\n",
       "      <td>NaN</td>\n",
       "    </tr>\n",
       "    <tr>\n",
       "      <th>4972</th>\n",
       "      <td>Ёлки Новые</td>\n",
       "      <td>111011617</td>\n",
       "      <td>2017-12-21 00:12:00</td>\n",
       "      <td>Художественный</td>\n",
       "      <td>ооо \"таббак\"</td>\n",
       "      <td>Россия</td>\n",
       "      <td>Д.Киселев, А.Першин (Ж.Крыжовников), А.Карпило...</td>\n",
       "      <td>Т.Бекмамбетов, Г.Стрижевская</td>\n",
       "      <td>«6+» - для детей старше 6 лет</td>\n",
       "      <td>50000000.0</td>\n",
       "      <td>50000000.0</td>\n",
       "      <td>174381922.0</td>\n",
       "      <td>Фонд кино</td>\n",
       "      <td>5.8</td>\n",
       "      <td>комедия,мелодрама</td>\n",
       "      <td>8.554511e+08</td>\n",
       "      <td>2017</td>\n",
       "      <td>Д.Киселев</td>\n",
       "      <td>комедия</td>\n",
       "      <td>0.573454</td>\n",
       "    </tr>\n",
       "    <tr>\n",
       "      <th>...</th>\n",
       "      <td>...</td>\n",
       "      <td>...</td>\n",
       "      <td>...</td>\n",
       "      <td>...</td>\n",
       "      <td>...</td>\n",
       "      <td>...</td>\n",
       "      <td>...</td>\n",
       "      <td>...</td>\n",
       "      <td>...</td>\n",
       "      <td>...</td>\n",
       "      <td>...</td>\n",
       "      <td>...</td>\n",
       "      <td>...</td>\n",
       "      <td>...</td>\n",
       "      <td>...</td>\n",
       "      <td>...</td>\n",
       "      <td>...</td>\n",
       "      <td>...</td>\n",
       "      <td>...</td>\n",
       "      <td>...</td>\n",
       "    </tr>\n",
       "    <tr>\n",
       "      <th>4923</th>\n",
       "      <td>Секретная миссия</td>\n",
       "      <td>111008817</td>\n",
       "      <td>2017-11-22 00:12:00</td>\n",
       "      <td>Художественный</td>\n",
       "      <td>киностудия \"мосфильм\"</td>\n",
       "      <td>СССР</td>\n",
       "      <td>М.Ромм</td>\n",
       "      <td>NaN</td>\n",
       "      <td>«6+» - для детей старше 6 лет</td>\n",
       "      <td>NaN</td>\n",
       "      <td>NaN</td>\n",
       "      <td>NaN</td>\n",
       "      <td>NaN</td>\n",
       "      <td>5.8</td>\n",
       "      <td>драма,военный</td>\n",
       "      <td>NaN</td>\n",
       "      <td>2017</td>\n",
       "      <td>М.Ром</td>\n",
       "      <td>драма</td>\n",
       "      <td>NaN</td>\n",
       "    </tr>\n",
       "    <tr>\n",
       "      <th>4924</th>\n",
       "      <td>Семь нянек</td>\n",
       "      <td>111008917</td>\n",
       "      <td>2017-11-22 00:12:00</td>\n",
       "      <td>Художественный</td>\n",
       "      <td>киностудия \"мосфильм\"</td>\n",
       "      <td>СССР</td>\n",
       "      <td>Р.Быков</td>\n",
       "      <td>NaN</td>\n",
       "      <td>«6+» - для детей старше 6 лет</td>\n",
       "      <td>NaN</td>\n",
       "      <td>NaN</td>\n",
       "      <td>NaN</td>\n",
       "      <td>NaN</td>\n",
       "      <td>7.7</td>\n",
       "      <td>комедия</td>\n",
       "      <td>NaN</td>\n",
       "      <td>2017</td>\n",
       "      <td>Р.Быко</td>\n",
       "      <td>комеди</td>\n",
       "      <td>NaN</td>\n",
       "    </tr>\n",
       "    <tr>\n",
       "      <th>4928</th>\n",
       "      <td>Служили два товарища</td>\n",
       "      <td>111009317</td>\n",
       "      <td>2017-11-22 00:12:00</td>\n",
       "      <td>Художественный</td>\n",
       "      <td>киностудия \"мосфильм\"</td>\n",
       "      <td>СССР</td>\n",
       "      <td>Е.Карелов</td>\n",
       "      <td>NaN</td>\n",
       "      <td>«6+» - для детей старше 6 лет</td>\n",
       "      <td>NaN</td>\n",
       "      <td>NaN</td>\n",
       "      <td>NaN</td>\n",
       "      <td>NaN</td>\n",
       "      <td>8.2</td>\n",
       "      <td>драма,комедия,военный</td>\n",
       "      <td>NaN</td>\n",
       "      <td>2017</td>\n",
       "      <td>Е.Карело</td>\n",
       "      <td>драма</td>\n",
       "      <td>NaN</td>\n",
       "    </tr>\n",
       "    <tr>\n",
       "      <th>4945</th>\n",
       "      <td>Суета сует</td>\n",
       "      <td>111010317</td>\n",
       "      <td>2017-11-22 00:12:00</td>\n",
       "      <td>Художественный</td>\n",
       "      <td>киностудия \"мосфильм\"</td>\n",
       "      <td>СССР</td>\n",
       "      <td>А.Сурикова</td>\n",
       "      <td>NaN</td>\n",
       "      <td>«6+» - для детей старше 6 лет</td>\n",
       "      <td>NaN</td>\n",
       "      <td>NaN</td>\n",
       "      <td>NaN</td>\n",
       "      <td>NaN</td>\n",
       "      <td>7.7</td>\n",
       "      <td>комедия</td>\n",
       "      <td>NaN</td>\n",
       "      <td>2017</td>\n",
       "      <td>А.Суриков</td>\n",
       "      <td>комеди</td>\n",
       "      <td>NaN</td>\n",
       "    </tr>\n",
       "    <tr>\n",
       "      <th>4974</th>\n",
       "      <td>Восприятие глубины</td>\n",
       "      <td>126001317</td>\n",
       "      <td>2017-12-01 00:12:00</td>\n",
       "      <td>Прочие</td>\n",
       "      <td>рабл фильм энд коллектив рабл</td>\n",
       "      <td>США</td>\n",
       "      <td>Трэвис Райс</td>\n",
       "      <td>Гэрри Вол, Сирс Воллэйс, Джулия Ло Вечио, Трэв...</td>\n",
       "      <td>«6+» - для детей старше 6 лет</td>\n",
       "      <td>NaN</td>\n",
       "      <td>NaN</td>\n",
       "      <td>NaN</td>\n",
       "      <td>NaN</td>\n",
       "      <td>NaN</td>\n",
       "      <td>NaN</td>\n",
       "      <td>NaN</td>\n",
       "      <td>2017</td>\n",
       "      <td>Трэвис Рай</td>\n",
       "      <td>NaN</td>\n",
       "      <td>NaN</td>\n",
       "    </tr>\n",
       "  </tbody>\n",
       "</table>\n",
       "<p>66 rows × 20 columns</p>\n",
       "</div>"
      ],
      "text/plain": [
       "                     title  pu_number     show_start_date            type  \\\n",
       "4984        Движение вверх  111011817 2017-12-21 00:12:00  Художественный   \n",
       "3451            Гадкий я 3  124001617 2017-06-15 00:12:00    Анимационный   \n",
       "2950        Босс-Молокосос  124000317 2017-02-09 00:12:00    Анимационный   \n",
       "3347              Зверопой  124000217 2017-02-03 00:12:00    Анимационный   \n",
       "4972            Ёлки Новые  111011617 2017-12-21 00:12:00  Художественный   \n",
       "...                    ...        ...                 ...             ...   \n",
       "4923      Секретная миссия  111008817 2017-11-22 00:12:00  Художественный   \n",
       "4924            Семь нянек  111008917 2017-11-22 00:12:00  Художественный   \n",
       "4928  Служили два товарища  111009317 2017-11-22 00:12:00  Художественный   \n",
       "4945            Суета сует  111010317 2017-11-22 00:12:00  Художественный   \n",
       "4974    Восприятие глубины  126001317 2017-12-01 00:12:00          Прочие   \n",
       "\n",
       "                                            film_studio  \\\n",
       "4984              ооо \"студия \"тритэ\" никиты михалкова\"   \n",
       "3451      иллюминейшен интертейнмент, юниверсал пикчерз   \n",
       "2950                                 дримуоркс анимейшн   \n",
       "3347  дентсю, фьюджи телевижн нетворк интертейнмент,...   \n",
       "4972                                       ооо \"таббак\"   \n",
       "...                                                 ...   \n",
       "4923                              киностудия \"мосфильм\"   \n",
       "4924                              киностудия \"мосфильм\"   \n",
       "4928                              киностудия \"мосфильм\"   \n",
       "4945                              киностудия \"мосфильм\"   \n",
       "4974                      рабл фильм энд коллектив рабл   \n",
       "\n",
       "                 production_country  \\\n",
       "4984                         Россия   \n",
       "3451                            США   \n",
       "2950                            США   \n",
       "3347  США - Великобритания - Япония   \n",
       "4972                         Россия   \n",
       "...                             ...   \n",
       "4923                           СССР   \n",
       "4924                           СССР   \n",
       "4928                           СССР   \n",
       "4945                           СССР   \n",
       "4974                            США   \n",
       "\n",
       "                                               director  \\\n",
       "4984                                       А.Мегердичев   \n",
       "3451              Кайл Балда, Эрик Гуильон, Пьер Коффан   \n",
       "2950                                        Том МакГрат   \n",
       "3347                 Гарт Дженнингс, Кристоф Лоурделет    \n",
       "4972  Д.Киселев, А.Першин (Ж.Крыжовников), А.Карпило...   \n",
       "...                                                 ...   \n",
       "4923                                             М.Ромм   \n",
       "4924                                            Р.Быков   \n",
       "4928                                          Е.Карелов   \n",
       "4945                                         А.Сурикова   \n",
       "4974                                        Трэвис Райс   \n",
       "\n",
       "                                               producer  \\\n",
       "4984  Л.Верещагин, А.Златопольский, Н.Михалков, ООО ...   \n",
       "3451   Кристофер Меледандри, Джанет Хили, Бретт Хоффман   \n",
       "2950                                    Рэмси Энн Наито   \n",
       "3347             Игорь Хайт, Джанет Хили, Бретт Хоффман   \n",
       "4972                       Т.Бекмамбетов, Г.Стрижевская   \n",
       "...                                                 ...   \n",
       "4923                                                NaN   \n",
       "4924                                                NaN   \n",
       "4928                                                NaN   \n",
       "4945                                                NaN   \n",
       "4974  Гэрри Вол, Сирс Воллэйс, Джулия Ло Вечио, Трэв...   \n",
       "\n",
       "                    age_restriction  refundable_support  \\\n",
       "4984  «6+» - для детей старше 6 лет                 0.0   \n",
       "3451  «6+» - для детей старше 6 лет                 NaN   \n",
       "2950  «6+» - для детей старше 6 лет                 NaN   \n",
       "3347  «6+» - для детей старше 6 лет                 NaN   \n",
       "4972  «6+» - для детей старше 6 лет          50000000.0   \n",
       "...                             ...                 ...   \n",
       "4923  «6+» - для детей старше 6 лет                 NaN   \n",
       "4924  «6+» - для детей старше 6 лет                 NaN   \n",
       "4928  «6+» - для детей старше 6 лет                 NaN   \n",
       "4945  «6+» - для детей старше 6 лет                 NaN   \n",
       "4974  «6+» - для детей старше 6 лет                 NaN   \n",
       "\n",
       "      nonrefundable_support       budget financing_source  ratings  \\\n",
       "4984            400000000.0  590192191.0        Фонд кино      7.5   \n",
       "3451                    NaN          NaN              NaN      6.3   \n",
       "2950                    NaN          NaN              NaN      6.5   \n",
       "3347                    NaN          NaN              NaN      7.3   \n",
       "4972             50000000.0  174381922.0        Фонд кино      5.8   \n",
       "...                     ...          ...              ...      ...   \n",
       "4923                    NaN          NaN              NaN      5.8   \n",
       "4924                    NaN          NaN              NaN      7.7   \n",
       "4928                    NaN          NaN              NaN      8.2   \n",
       "4945                    NaN          NaN              NaN      7.7   \n",
       "4974                    NaN          NaN              NaN      NaN   \n",
       "\n",
       "                              genres    box_office  year   main_director  \\\n",
       "4984                     спорт,драма  2.779686e+09  2017     А.Мегердиче   \n",
       "3451   мультфильм,фантастика,фэнтези  1.390393e+09  2017      Кайл Балда   \n",
       "2950  мультфильм,комедия,приключения  1.376727e+09  2017      Том МакГра   \n",
       "3347       мультфильм,мюзикл,комедия  8.866141e+08  2017  Гарт Дженнингс   \n",
       "4972               комедия,мелодрама  8.554511e+08  2017       Д.Киселев   \n",
       "...                              ...           ...   ...             ...   \n",
       "4923                   драма,военный           NaN  2017           М.Ром   \n",
       "4924                         комедия           NaN  2017          Р.Быко   \n",
       "4928           драма,комедия,военный           NaN  2017        Е.Карело   \n",
       "4945                         комедия           NaN  2017       А.Суриков   \n",
       "4974                             NaN           NaN  2017      Трэвис Рай   \n",
       "\n",
       "     main_genres  fraction  \n",
       "4984       спорт  0.677745  \n",
       "3451  мультфильм       NaN  \n",
       "2950  мультфильм       NaN  \n",
       "3347  мультфильм       NaN  \n",
       "4972     комедия  0.573454  \n",
       "...          ...       ...  \n",
       "4923       драма       NaN  \n",
       "4924      комеди       NaN  \n",
       "4928       драма       NaN  \n",
       "4945      комеди       NaN  \n",
       "4974         NaN       NaN  \n",
       "\n",
       "[66 rows x 20 columns]"
      ]
     },
     "execution_count": 187,
     "metadata": {},
     "output_type": "execute_result"
    }
   ],
   "source": [
    "# срез\n",
    "(\n",
    "    data\n",
    "    .query('year == 2017 and age_restriction == \"«6+» - для детей старше 6 лет\"')\n",
    "    .sort_values(by = 'box_office', ascending = False)\n",
    ")"
   ]
  },
  {
   "cell_type": "markdown",
   "metadata": {},
   "source": [
    "Действительно, 2017 был богат на успешные мультики и фильмы с рейтингом 6+. "
   ]
  },
  {
   "cell_type": "markdown",
   "metadata": {},
   "source": [
    "Чтобы сделать окончательные выводы про влияние рейтингов на сборы, проведём эконометрический анализ."
   ]
  },
  {
   "cell_type": "code",
   "execution_count": 189,
   "metadata": {},
   "outputs": [],
   "source": [
    "# создаем функцию\n",
    "def age_0(age):\n",
    "    try:\n",
    "        if '0' in age:\n",
    "            return 1\n",
    "        else:\n",
    "            return 0\n",
    "    except:\n",
    "        pass\n",
    "        \n",
    "def age_6(age):\n",
    "    try:\n",
    "        if '6' in age:\n",
    "            return 1\n",
    "        else:\n",
    "            return 0\n",
    "    except:\n",
    "        pass\n",
    "\n",
    "def age_12(age):\n",
    "    try:\n",
    "        if '12' in age:\n",
    "            return 1\n",
    "        else:\n",
    "            return 0\n",
    "    except:\n",
    "        pass\n",
    "    \n",
    "def age_16(age):\n",
    "    try:\n",
    "        if '16' in age:\n",
    "            return 1\n",
    "        else:\n",
    "            return 0\n",
    "    except:\n",
    "        pass\n",
    "        \n",
    "def age_18(age):\n",
    "    try:\n",
    "        if '18' in age:\n",
    "            return 1\n",
    "        else:\n",
    "            return 0\n",
    "    except:\n",
    "        pass"
   ]
  },
  {
   "cell_type": "code",
   "execution_count": 190,
   "metadata": {},
   "outputs": [],
   "source": [
    "# создаю переменные и перекрестные перемножения\n",
    "data['age_0'] = data['age_restriction'].apply(age_0)\n",
    "data['age_6'] = data['age_restriction'].apply(age_6)\n",
    "data['age_12'] = data['age_restriction'].apply(age_12)\n",
    "data['age_16'] = data['age_restriction'].apply(age_16)\n",
    "data['age_18'] = data['age_restriction'].apply(age_18)\n",
    "data['year_age_0'] = data['year']*data['age_0']\n",
    "data['year_age_6'] = data['year']*data['age_6']\n",
    "data['year_age_12'] = data['year']*data['age_12']\n",
    "data['year_age_16'] = data['year']*data['age_16']\n",
    "data['year_age_18'] = data['year']*data['age_18']"
   ]
  },
  {
   "cell_type": "code",
   "execution_count": 191,
   "metadata": {},
   "outputs": [],
   "source": [
    "# создаю датасет \n",
    "d = data.query('box_office.notna()')"
   ]
  },
  {
   "cell_type": "code",
   "execution_count": 192,
   "metadata": {},
   "outputs": [
    {
     "name": "stdout",
     "output_type": "stream",
     "text": [
      "                            OLS Regression Results                            \n",
      "==============================================================================\n",
      "Dep. Variable:             box_office   R-squared:                       0.053\n",
      "Model:                            OLS   Adj. R-squared:                  0.050\n",
      "Method:                 Least Squares   F-statistic:                     16.77\n",
      "Date:                Tue, 07 Mar 2023   Prob (F-statistic):           6.41e-30\n",
      "Time:                        21:57:01   Log-Likelihood:                -61859.\n",
      "No. Observations:                2991   AIC:                         1.237e+05\n",
      "Df Residuals:                    2980   BIC:                         1.238e+05\n",
      "Df Model:                          10                                         \n",
      "Covariance Type:            nonrobust                                         \n",
      "===============================================================================\n",
      "                  coef    std err          t      P>|t|      [0.025      0.975]\n",
      "-------------------------------------------------------------------------------\n",
      "const       -6.646e+12   2.89e+13     -0.230      0.818   -6.34e+13    5.01e+13\n",
      "year        -5.656e+16   2.47e+17     -0.229      0.819   -5.41e+17    4.28e+17\n",
      "age_0        6.642e+12   2.89e+13      0.230      0.818   -5.01e+13    6.34e+13\n",
      "age_6        6.607e+12   2.89e+13      0.228      0.819   -5.01e+13    6.33e+13\n",
      "age_12       6.592e+12   2.89e+13      0.228      0.820   -5.01e+13    6.33e+13\n",
      "age_16       1.232e+10   1.32e+10      0.934      0.351   -1.36e+10    3.82e+10\n",
      "age_18       6.633e+12   2.89e+13      0.229      0.819   -5.01e+13    6.34e+13\n",
      "year_age_0   5.656e+16   2.47e+17      0.229      0.819   -4.28e+17    5.41e+17\n",
      "year_age_6   5.656e+16   2.47e+17      0.229      0.819   -4.28e+17    5.41e+17\n",
      "year_age_12  5.656e+16   2.47e+17      0.229      0.819   -4.28e+17    5.41e+17\n",
      "year_age_16 -6.148e+06   6.55e+06     -0.939      0.348    -1.9e+07    6.69e+06\n",
      "year_age_18  5.656e+16   2.47e+17      0.229      0.819   -4.28e+17    5.41e+17\n",
      "==============================================================================\n",
      "Omnibus:                     3128.303   Durbin-Watson:                   1.863\n",
      "Prob(Omnibus):                  0.000   Jarque-Bera (JB):           188070.458\n",
      "Skew:                           5.244   Prob(JB):                         0.00\n",
      "Kurtosis:                      40.404   Cond. No.                     5.00e+18\n",
      "==============================================================================\n",
      "\n",
      "Notes:\n",
      "[1] Standard Errors assume that the covariance matrix of the errors is correctly specified.\n",
      "[2] The smallest eigenvalue is 7.45e-28. This might indicate that there are\n",
      "strong multicollinearity problems or that the design matrix is singular.\n"
     ]
    }
   ],
   "source": [
    "# оцениваю линейную регрессию\n",
    "x = (d[['year', 'age_0', 'age_6', 'age_12', 'age_16', 'age_18', 'year_age_0', 'year_age_6', \n",
    "           'year_age_12', 'year_age_16', 'year_age_18']].astype(float))\n",
    "y = d['box_office'].astype(float)\n",
    "x2 = sm.add_constant(x)\n",
    "reg = sm.OLS(y,x2).fit()\n",
    "print(reg.summary())"
   ]
  },
  {
   "cell_type": "markdown",
   "metadata": {},
   "source": [
    "Хоть качественно мы и увидели какие-то закономерности по влиянию возрастных ограничений на сумму сборов, но статистический анализ никаких значимых влияний не обнаружил."
   ]
  },
  {
   "cell_type": "markdown",
   "metadata": {
    "id": "l_Kg6Ku4gFya"
   },
   "source": [
    "# Шаг 4. Исследуйте фильмы, которые получили государственную поддержку\n",
    "\n",
    "На этом этапе нет конкретных инструкций и заданий — поищите интересные закономерности в данных. Посмотрите, сколько выделяют средств на поддержку кино. Проверьте, хорошо ли окупаются такие фильмы, какой у них рейтинг."
   ]
  },
  {
   "cell_type": "markdown",
   "metadata": {},
   "source": [
    "Для начала посмотрим, какой процент российских фильмов получал финансовую помощь."
   ]
  },
  {
   "cell_type": "code",
   "execution_count": 193,
   "metadata": {},
   "outputs": [
    {
     "data": {
      "text/plain": [
       "year\n",
       "2013    0.025316\n",
       "2014    0.115108\n",
       "2015    0.423645\n",
       "2016    0.314433\n",
       "2017    0.308271\n",
       "2018    0.118143\n",
       "2019    0.205521\n",
       "Name: type, dtype: float64"
      ]
     },
     "execution_count": 193,
     "metadata": {},
     "output_type": "execute_result"
    }
   ],
   "source": [
    "# считаем процент\n",
    "(\n",
    "    data.loc[(data['refundable_support']>0) | (data['nonrefundable_support']>0)].groupby('year')['type'].count()/\n",
    "    data.loc[(data['refundable_support'].notna()) & (data['nonrefundable_support'].notna())].groupby('year')['type'].count()\n",
    ")\n"
   ]
  },
  {
   "cell_type": "code",
   "execution_count": 194,
   "metadata": {},
   "outputs": [
    {
     "data": {
      "image/png": "[encoded data removed]",
      "text/plain": [
       "<Figure size 720x360 with 1 Axes>"
      ]
     },
     "metadata": {
      "needs_background": "light"
     },
     "output_type": "display_data"
    }
   ],
   "source": [
    "# график\n",
    "fig, ax = plt.subplots()\n",
    "fig.set_size_inches(10, 5)\n",
    "ax.plot((\n",
    "    data.loc[(data['refundable_support']>0) | (data['nonrefundable_support']>0)].groupby('year')['type'].count()/\n",
    "    data.loc[(data['refundable_support'].notna()) & (data['nonrefundable_support'].notna())].groupby('year')['type'].count()\n",
    "))\n",
    "plt.xlim(2013, 2019)\n",
    "plt.xlabel('год')\n",
    "plt.title('доля фильмов, получивших финансовую помощь \\n')\n",
    "plt.show()"
   ]
  },
  {
   "cell_type": "markdown",
   "metadata": {},
   "source": [
    "Процент фильмов, получавших какую-то финансовую помощь от государства начал был на максимуме в 2015 году когда больше 40% фильмов её получали, потом начал снова спадать."
   ]
  },
  {
   "cell_type": "markdown",
   "metadata": {
    "id": "W9QKpjUdgFyb"
   },
   "source": [
    "Посмотрим на распределение невозвратных и возвратных средств."
   ]
  },
  {
   "cell_type": "code",
   "execution_count": 195,
   "metadata": {},
   "outputs": [
    {
     "data": {
      "image/png": "[encoded data removed]",
      "text/plain": [
       "<Figure size 864x432 with 1 Axes>"
      ]
     },
     "metadata": {},
     "output_type": "display_data"
    }
   ],
   "source": [
    "# Строю гистограмму\n",
    "fig, ax = plt.subplots()\n",
    "plt.hist(data['refundable_support'], bins = 20, alpha=0.97, label = 'возвратные средства', density = True)\n",
    "plt.hist(data['nonrefundable_support'], bins = 20, alpha=0.97, label = 'невозвратные средства', density = True)\n",
    "plt.legend(loc = 'upper right')\n",
    "plt.xlabel('\\n сумма поддержки')\n",
    "fig.set_figwidth(12)    \n",
    "fig.set_figheight(6)    \n",
    "plt.title('распределение возвратной и невозвратной поддержки \\n')\n",
    "plt.ticklabel_format(useOffset=False, style='plain')\n",
    "fig.set_facecolor('floralwhite')\n",
    "ax.set_facecolor('seashell')\n",
    "plt.show()"
   ]
  },
  {
   "cell_type": "code",
   "execution_count": 196,
   "metadata": {},
   "outputs": [
    {
     "data": {
      "image/png": "[encoded data removed]",
      "text/plain": [
       "<Figure size 864x432 with 1 Axes>"
      ]
     },
     "metadata": {},
     "output_type": "display_data"
    }
   ],
   "source": [
    "# Строю гистограмму\n",
    "fig, ax = plt.subplots()\n",
    "plt.hist(data['refundable_support'], bins = 50, alpha=0.97, label = 'возвратные средства', density = True)\n",
    "plt.hist(data['nonrefundable_support'], bins = 50, alpha=0.97, label = 'невозвратные средства', density = True)\n",
    "plt.legend(loc = 'upper right')\n",
    "plt.xlabel('\\n сумма поддержки')\n",
    "plt.title('распределение возвратной и невозвратной поддержки \\n')\n",
    "plt.ticklabel_format(useOffset=False, style='plain')\n",
    "plt.xlim(0, 50000000)\n",
    "fig.set_figwidth(12)    \n",
    "fig.set_figheight(6)    \n",
    "fig.set_facecolor('floralwhite')\n",
    "ax.set_facecolor('seashell')\n",
    "plt.show()\n"
   ]
  },
  {
   "cell_type": "markdown",
   "metadata": {},
   "source": [
    "Из первой гистограммы видно, что у нас есть выборосы - какие-то фильмы, которые получили на порядок больше средств, чем остальные.\n",
    "Из второй гистограммы видно, что невозвратная поддержка часто оказывается на большую сумму (немного неожиданно).\n",
    "\n",
    "Посмотрим на выбросы в наблюдениях."
   ]
  },
  {
   "cell_type": "code",
   "execution_count": 197,
   "metadata": {},
   "outputs": [
    {
     "name": "stdout",
     "output_type": "stream",
     "text": [
      "0.0012      3,694,400\n",
      "0.0100      5,000,000\n",
      "0.5000     25,000,000\n",
      "0.9900    147,200,000\n",
      "0.9988    176,112,000\n",
      "Name: refundable_support, dtype: object\n",
      "\n",
      "0.0012      3,650,760\n",
      "0.0100      5,000,000\n",
      "0.5000     30,000,000\n",
      "0.9900    300,000,000\n",
      "0.9988    400,000,000\n",
      "Name: nonrefundable_support, dtype: object\n"
     ]
    }
   ],
   "source": [
    "# квантили\n",
    "print(data.query('refundable_support>0')['refundable_support'].quantile([0.0012, 0.01, .5, .99, .9988]).apply('{:,.0f}'.format))\n",
    "print()\n",
    "print((\n",
    "    data\n",
    "    .query('nonrefundable_support>0')['nonrefundable_support'].quantile([0.0012, 0.01, .5, .99, .9988]).apply('{:,.0f}'.format))\n",
    ")"
   ]
  },
  {
   "cell_type": "markdown",
   "metadata": {},
   "source": [
    "Среди тех, кто получал невозвратную помощь, медиана в помощи была в 30 млн.р., но 0.12% фильмов получили невозвратную помощь более чем в 10 раз больше.\n",
    "\n",
    "Посмотрим, что это за лидеры по невозвратной поддержке."
   ]
  },
  {
   "cell_type": "code",
   "execution_count": 198,
   "metadata": {},
   "outputs": [
    {
     "data": {
      "text/html": [
       "<div>\n",
       "<style scoped>\n",
       "    .dataframe tbody tr th:only-of-type {\n",
       "        vertical-align: middle;\n",
       "    }\n",
       "\n",
       "    .dataframe tbody tr th {\n",
       "        vertical-align: top;\n",
       "    }\n",
       "\n",
       "    .dataframe thead th {\n",
       "        text-align: right;\n",
       "    }\n",
       "</style>\n",
       "<table border=\"1\" class=\"dataframe\">\n",
       "  <thead>\n",
       "    <tr style=\"text-align: right;\">\n",
       "      <th></th>\n",
       "      <th>title</th>\n",
       "      <th>pu_number</th>\n",
       "      <th>show_start_date</th>\n",
       "      <th>type</th>\n",
       "      <th>film_studio</th>\n",
       "      <th>production_country</th>\n",
       "      <th>director</th>\n",
       "      <th>producer</th>\n",
       "      <th>age_restriction</th>\n",
       "      <th>refundable_support</th>\n",
       "      <th>...</th>\n",
       "      <th>age_0</th>\n",
       "      <th>age_6</th>\n",
       "      <th>age_12</th>\n",
       "      <th>age_16</th>\n",
       "      <th>age_18</th>\n",
       "      <th>year_age_0</th>\n",
       "      <th>year_age_6</th>\n",
       "      <th>year_age_12</th>\n",
       "      <th>year_age_16</th>\n",
       "      <th>year_age_18</th>\n",
       "    </tr>\n",
       "  </thead>\n",
       "  <tbody>\n",
       "    <tr>\n",
       "      <th>4984</th>\n",
       "      <td>Движение вверх</td>\n",
       "      <td>111011817</td>\n",
       "      <td>2017-12-21 00:12:00</td>\n",
       "      <td>Художественный</td>\n",
       "      <td>ооо \"студия \"тритэ\" никиты михалкова\"</td>\n",
       "      <td>Россия</td>\n",
       "      <td>А.Мегердичев</td>\n",
       "      <td>Л.Верещагин, А.Златопольский, Н.Михалков, ООО ...</td>\n",
       "      <td>«6+» - для детей старше 6 лет</td>\n",
       "      <td>0.0</td>\n",
       "      <td>...</td>\n",
       "      <td>0</td>\n",
       "      <td>1</td>\n",
       "      <td>0</td>\n",
       "      <td>0</td>\n",
       "      <td>0</td>\n",
       "      <td>0</td>\n",
       "      <td>2017</td>\n",
       "      <td>0</td>\n",
       "      <td>0</td>\n",
       "      <td>0</td>\n",
       "    </tr>\n",
       "    <tr>\n",
       "      <th>6726</th>\n",
       "      <td>Союз спасения</td>\n",
       "      <td>111022019</td>\n",
       "      <td>2019-12-26 00:12:00</td>\n",
       "      <td>Художественный</td>\n",
       "      <td>зао \"дирекция кино\"</td>\n",
       "      <td>Россия</td>\n",
       "      <td>А.Кравчук</td>\n",
       "      <td>А.Максимов, К.Эрнст</td>\n",
       "      <td>«12+» - для детей старше 12 лет</td>\n",
       "      <td>100000000.0</td>\n",
       "      <td>...</td>\n",
       "      <td>0</td>\n",
       "      <td>0</td>\n",
       "      <td>1</td>\n",
       "      <td>0</td>\n",
       "      <td>0</td>\n",
       "      <td>0</td>\n",
       "      <td>0</td>\n",
       "      <td>2019</td>\n",
       "      <td>0</td>\n",
       "      <td>0</td>\n",
       "    </tr>\n",
       "  </tbody>\n",
       "</table>\n",
       "<p>2 rows × 30 columns</p>\n",
       "</div>"
      ],
      "text/plain": [
       "               title  pu_number     show_start_date            type  \\\n",
       "4984  Движение вверх  111011817 2017-12-21 00:12:00  Художественный   \n",
       "6726   Союз спасения  111022019 2019-12-26 00:12:00  Художественный   \n",
       "\n",
       "                                film_studio production_country      director  \\\n",
       "4984  ооо \"студия \"тритэ\" никиты михалкова\"             Россия  А.Мегердичев   \n",
       "6726                    зао \"дирекция кино\"             Россия     А.Кравчук   \n",
       "\n",
       "                                               producer  \\\n",
       "4984  Л.Верещагин, А.Златопольский, Н.Михалков, ООО ...   \n",
       "6726                                А.Максимов, К.Эрнст   \n",
       "\n",
       "                      age_restriction  refundable_support  ...  age_0  age_6  \\\n",
       "4984    «6+» - для детей старше 6 лет                 0.0  ...      0      1   \n",
       "6726  «12+» - для детей старше 12 лет         100000000.0  ...      0      0   \n",
       "\n",
       "     age_12  age_16 age_18  year_age_0  year_age_6 year_age_12 year_age_16  \\\n",
       "4984      0       0      0           0        2017           0           0   \n",
       "6726      1       0      0           0           0        2019           0   \n",
       "\n",
       "      year_age_18  \n",
       "4984            0  \n",
       "6726            0  \n",
       "\n",
       "[2 rows x 30 columns]"
      ]
     },
     "execution_count": 198,
     "metadata": {},
     "output_type": "execute_result"
    }
   ],
   "source": [
    "data.query('nonrefundable_support>=400000000')"
   ]
  },
  {
   "cell_type": "markdown",
   "metadata": {},
   "source": [
    "Посмотрим на возвратную и невозвратную помощь по годам"
   ]
  },
  {
   "cell_type": "code",
   "execution_count": 199,
   "metadata": {},
   "outputs": [
    {
     "data": {
      "image/png": "[encoded data removed]",
      "text/plain": [
       "<Figure size 864x432 with 1 Axes>"
      ]
     },
     "metadata": {},
     "output_type": "display_data"
    }
   ],
   "source": [
    "# столбчатая диаграмма\n",
    "fig, ax = plt.subplots()\n",
    "x1 = data.query('refundable_support.notna()').groupby('year')['refundable_support'].mean().index - 0.2\n",
    "x2 = data.query('nonrefundable_support.notna()').groupby('year')['nonrefundable_support'].mean().index+0.2\n",
    "y1 = data.query('refundable_support.notna()').groupby('year')['refundable_support'].mean()\n",
    "y2 = data.query('nonrefundable_support.notna()').groupby('year')['nonrefundable_support'].mean()\n",
    "\n",
    "\n",
    "ax.bar(x1, y1, width = 0.4, label = 'возвратная поддержка')\n",
    "ax.bar(x2, y2, width = 0.4, label = 'невозвратная поддержка')\n",
    "fig.legend(loc = 'upper right')\n",
    "ax.ticklabel_format(useOffset=False, style='plain')\n",
    "ax.set_facecolor('seashell')\n",
    "fig.set_figwidth(12)    \n",
    "fig.set_figheight(6)    \n",
    "fig.set_facecolor('floralwhite')\n",
    "\n",
    "plt.show()"
   ]
  },
  {
   "cell_type": "markdown",
   "metadata": {},
   "source": [
    "Посмотрю теперь на общие траты государства по годам."
   ]
  },
  {
   "cell_type": "markdown",
   "metadata": {},
   "source": [
    "Из диаграммы мы видимо, что во-первых, невозвратная поддержка всегда превышала возвратную. Во-вторых, есть нелинейная динамика - был существенный рост финансовой поддержки в 2015-2017 годы. "
   ]
  },
  {
   "cell_type": "code",
   "execution_count": 200,
   "metadata": {},
   "outputs": [
    {
     "data": {
      "text/plain": [
       "year\n",
       "2010                0\n",
       "2011                0\n",
       "2012                0\n",
       "2013      134,347,945\n",
       "2014      572,002,299\n",
       "2015    3,656,241,459\n",
       "2016    4,303,155,482\n",
       "2017    3,183,971,662\n",
       "2018    3,446,969,465\n",
       "2019    4,349,000,000\n",
       "Name: total_support, dtype: object"
      ]
     },
     "execution_count": 200,
     "metadata": {},
     "output_type": "execute_result"
    }
   ],
   "source": [
    "# общие траты по годам\n",
    "data['total_support'] = data['refundable_support']+data['nonrefundable_support']\n",
    "data.groupby('year')['total_support'].sum().apply('{:,.0f}'.format)"
   ]
  },
  {
   "cell_type": "code",
   "execution_count": 201,
   "metadata": {},
   "outputs": [
    {
     "data": {
      "image/png": "[encoded data removed]",
      "text/plain": [
       "<Figure size 720x360 with 1 Axes>"
      ]
     },
     "metadata": {
      "needs_background": "light"
     },
     "output_type": "display_data"
    }
   ],
   "source": [
    "# график\n",
    "fig, ax = plt.subplots()\n",
    "fig.set_size_inches(10, 5)\n",
    "ax.plot(data.groupby('year')['total_support'].sum())\n",
    "ax.ticklabel_format(useOffset=False, style='plain')\n",
    "plt.xlabel('год')\n",
    "plt.title('финансовая помощь по годам \\n')\n",
    "plt.show()"
   ]
  },
  {
   "cell_type": "markdown",
   "metadata": {},
   "source": [
    "Виден резкий рост расходов на кино, начиная с 2014 года. Похоже, что начиная с 2014 года у государства появилось желание вкладывать деньги в российское кино."
   ]
  },
  {
   "cell_type": "markdown",
   "metadata": {},
   "source": [
    "Теперь посмотрим, как связана финансовая поддерка с успешностью фильма (сборами и рейтингом). Посмотрим как свяазана финансовая поддержка с бюджетом, сборами и рейтингом фильма."
   ]
  },
  {
   "cell_type": "code",
   "execution_count": 202,
   "metadata": {},
   "outputs": [
    {
     "data": {
      "image/png": "[encoded data removed]",
      "text/plain": [
       "<Figure size 360x360 with 1 Axes>"
      ]
     },
     "metadata": {
      "needs_background": "light"
     },
     "output_type": "display_data"
    },
    {
     "data": {
      "image/png": "[encoded data removed]",
      "text/plain": [
       "<Figure size 360x360 with 1 Axes>"
      ]
     },
     "metadata": {
      "needs_background": "light"
     },
     "output_type": "display_data"
    },
    {
     "data": {
      "image/png": "[encoded data removed]",
      "text/plain": [
       "<Figure size 360x360 with 1 Axes>"
      ]
     },
     "metadata": {
      "needs_background": "light"
     },
     "output_type": "display_data"
    }
   ],
   "source": [
    "# строим scatter plot для медианных значений\n",
    "support_pivot_area = (data\n",
    "                      .query('budget.notna() and box_office.notna()')\n",
    "                      .pivot_table(index = 'total_support', values =(['budget', 'box_office', 'ratings']), aggfunc = 'median')\n",
    "                     )\n",
    "support_pivot_area = support_pivot_area.reset_index()\n",
    "for row in ['budget', 'box_office', 'ratings']:\n",
    "    sns.relplot(data = support_pivot_area, x = 'total_support', y = row, kind = 'scatter')"
   ]
  },
  {
   "cell_type": "markdown",
   "metadata": {},
   "source": [
    "На диаграммах видно, что финансовая помощь очень сильно связана с медианным бюджетом, видна практически линейная зависимость, но зависимость между помощью и сборами либо же рейтингом уже не так очевидна."
   ]
  },
  {
   "cell_type": "code",
   "execution_count": 203,
   "metadata": {},
   "outputs": [
    {
     "data": {
      "text/plain": [
       "0.7169390947386073"
      ]
     },
     "execution_count": 203,
     "metadata": {},
     "output_type": "execute_result"
    }
   ],
   "source": [
    "# считаем корреляция\n",
    "data['total_support'].corr(data['budget'])"
   ]
  },
  {
   "cell_type": "markdown",
   "metadata": {},
   "source": [
    "Действительно очень сильная корреляция."
   ]
  },
  {
   "cell_type": "markdown",
   "metadata": {},
   "source": [
    "Оценим теперь эту взаимосвязь статистически."
   ]
  },
  {
   "cell_type": "code",
   "execution_count": 204,
   "metadata": {},
   "outputs": [
    {
     "name": "stdout",
     "output_type": "stream",
     "text": [
      "                            OLS Regression Results                            \n",
      "==============================================================================\n",
      "Dep. Variable:             box_office   R-squared:                       0.240\n",
      "Model:                            OLS   Adj. R-squared:                  0.235\n",
      "Method:                 Least Squares   F-statistic:                     49.39\n",
      "Date:                Tue, 07 Mar 2023   Prob (F-statistic):           2.27e-19\n",
      "Time:                        21:58:17   Log-Likelihood:                -6608.2\n",
      "No. Observations:                 316   AIC:                         1.322e+04\n",
      "Df Residuals:                     313   BIC:                         1.323e+04\n",
      "Df Model:                           2                                         \n",
      "Covariance Type:            nonrobust                                         \n",
      "=================================================================================\n",
      "                    coef    std err          t      P>|t|      [0.025      0.975]\n",
      "---------------------------------------------------------------------------------\n",
      "const         -1.136e+07    2.2e+07     -0.516      0.607   -5.47e+07     3.2e+07\n",
      "total_support     2.1644      0.339      6.393      0.000       1.498       2.831\n",
      "budget            0.0960      0.128      0.753      0.452      -0.155       0.347\n",
      "==============================================================================\n",
      "Omnibus:                      385.171   Durbin-Watson:                   1.940\n",
      "Prob(Omnibus):                  0.000   Jarque-Bera (JB):            26116.886\n",
      "Skew:                           5.515   Prob(JB):                         0.00\n",
      "Kurtosis:                      46.150   Cond. No.                     3.21e+08\n",
      "==============================================================================\n",
      "\n",
      "Notes:\n",
      "[1] Standard Errors assume that the covariance matrix of the errors is correctly specified.\n",
      "[2] The condition number is large, 3.21e+08. This might indicate that there are\n",
      "strong multicollinearity or other numerical problems.\n"
     ]
    }
   ],
   "source": [
    "# оцениваю линейную регрессию\n",
    "d = data.query('box_office.notna() and budget.notna()')\n",
    "x = (d[['total_support', 'budget']].astype(float))\n",
    "y = d['box_office'].astype(float)\n",
    "x2 = sm.add_constant(x)\n",
    "reg = sm.OLS(y,x2).fit()\n",
    "print(reg.summary())"
   ]
  },
  {
   "cell_type": "markdown",
   "metadata": {},
   "source": [
    "Регрессия показала, что действительно финансовая помощь очень сильно влияет на сборы фильма (на каждый рубль помощи сборы в среднем растут на 2.16 рублей). При этом бюджет значимо не влияет на сборы скорее всего из-за коллинеарности с финансовой помощь. Стоит ещё отметить, что фильмы с большой помощью пользуются и другими привилегиями административного ресурса, которые не учитываются в модели - например, рекламой на федеральных каналах, а реклама увеличивает сборы. \n",
    "\n",
    "Посмотрю, есть ли разница между возвратной и невозвратной помощью."
   ]
  },
  {
   "cell_type": "code",
   "execution_count": 205,
   "metadata": {},
   "outputs": [
    {
     "name": "stdout",
     "output_type": "stream",
     "text": [
      "                            OLS Regression Results                            \n",
      "==============================================================================\n",
      "Dep. Variable:             box_office   R-squared:                       0.240\n",
      "Model:                            OLS   Adj. R-squared:                  0.233\n",
      "Method:                 Least Squares   F-statistic:                     32.82\n",
      "Date:                Tue, 07 Mar 2023   Prob (F-statistic):           1.82e-18\n",
      "Time:                        21:58:23   Log-Likelihood:                -6608.2\n",
      "No. Observations:                 316   AIC:                         1.322e+04\n",
      "Df Residuals:                     312   BIC:                         1.324e+04\n",
      "Df Model:                           3                                         \n",
      "Covariance Type:            nonrobust                                         \n",
      "=========================================================================================\n",
      "                            coef    std err          t      P>|t|      [0.025      0.975]\n",
      "-----------------------------------------------------------------------------------------\n",
      "const                 -1.136e+07   2.22e+07     -0.513      0.609    -5.5e+07    3.23e+07\n",
      "refundable_support        2.1636      0.867      2.494      0.013       0.457       3.870\n",
      "nonrefundable_support     2.1645      0.355      6.089      0.000       1.465       2.864\n",
      "budget                    0.0961      0.137      0.703      0.483      -0.173       0.365\n",
      "==============================================================================\n",
      "Omnibus:                      385.170   Durbin-Watson:                   1.940\n",
      "Prob(Omnibus):                  0.000   Jarque-Bera (JB):            26116.805\n",
      "Skew:                           5.515   Prob(JB):                         0.00\n",
      "Kurtosis:                      46.150   Cond. No.                     3.16e+08\n",
      "==============================================================================\n",
      "\n",
      "Notes:\n",
      "[1] Standard Errors assume that the covariance matrix of the errors is correctly specified.\n",
      "[2] The condition number is large, 3.16e+08. This might indicate that there are\n",
      "strong multicollinearity or other numerical problems.\n"
     ]
    }
   ],
   "source": [
    "# оцениваю линейную регрессию\n",
    "d = data.query('box_office.notna() and budget.notna()')\n",
    "x = (d[['refundable_support','nonrefundable_support', 'budget']].astype(float))\n",
    "y = d['box_office'].astype(float)\n",
    "x2 = sm.add_constant(x)\n",
    "reg = sm.OLS(y,x2).fit()\n",
    "print(reg.summary())"
   ]
  },
  {
   "cell_type": "markdown",
   "metadata": {},
   "source": [
    "Нет разницы между возвратной и невозвратной помощью - обе переменные значимо увеличивают сборы фильма.\n",
    "\n",
    "Теперь посмотрим на влияние на рейтинг."
   ]
  },
  {
   "cell_type": "code",
   "execution_count": 206,
   "metadata": {},
   "outputs": [
    {
     "name": "stdout",
     "output_type": "stream",
     "text": [
      "                            OLS Regression Results                            \n",
      "==============================================================================\n",
      "Dep. Variable:                ratings   R-squared:                       0.026\n",
      "Model:                            OLS   Adj. R-squared:                  0.017\n",
      "Method:                 Least Squares   F-statistic:                     2.783\n",
      "Date:                Tue, 07 Mar 2023   Prob (F-statistic):             0.0411\n",
      "Time:                        21:58:29   Log-Likelihood:                -483.99\n",
      "No. Observations:                 316   AIC:                             976.0\n",
      "Df Residuals:                     312   BIC:                             991.0\n",
      "Df Model:                           3                                         \n",
      "Covariance Type:            nonrobust                                         \n",
      "=========================================================================================\n",
      "                            coef    std err          t      P>|t|      [0.025      0.975]\n",
      "-----------------------------------------------------------------------------------------\n",
      "const                     5.8835      0.085     69.294      0.000       5.716       6.051\n",
      "refundable_support    -3.914e-09   3.32e-09     -1.178      0.240   -1.05e-08    2.62e-09\n",
      "nonrefundable_support  2.486e-09   1.36e-09      1.826      0.069   -1.93e-10    5.16e-09\n",
      "budget                 4.855e-10   5.24e-10      0.927      0.354   -5.45e-10    1.52e-09\n",
      "==============================================================================\n",
      "Omnibus:                       37.694   Durbin-Watson:                   1.757\n",
      "Prob(Omnibus):                  0.000   Jarque-Bera (JB):               63.584\n",
      "Skew:                          -0.708   Prob(JB):                     1.56e-14\n",
      "Kurtosis:                       4.681   Cond. No.                     3.16e+08\n",
      "==============================================================================\n",
      "\n",
      "Notes:\n",
      "[1] Standard Errors assume that the covariance matrix of the errors is correctly specified.\n",
      "[2] The condition number is large, 3.16e+08. This might indicate that there are\n",
      "strong multicollinearity or other numerical problems.\n"
     ]
    }
   ],
   "source": [
    "# оцениваю линейную регрессию\n",
    "d = data.query('box_office.notna() and budget.notna()')\n",
    "x = (d[['refundable_support','nonrefundable_support', 'budget']].astype(float))\n",
    "y = d['ratings'].astype(float)\n",
    "x2 = sm.add_constant(x)\n",
    "reg = sm.OLS(y,x2).fit()\n",
    "print(reg.summary())"
   ]
  },
  {
   "cell_type": "markdown",
   "metadata": {},
   "source": [
    "Интересно, что хоть на успешность фильма финансовая помощь влияет, а вот на качестве фильма она практически никак не отображается. Есть статистически значимое влияние у невозвратной помощи - но экономического значения он не приносит, потому что является очень маленьким. \n",
    "Картина будет ещё более ясная, если не разделять на подвиды поддержки."
   ]
  },
  {
   "cell_type": "code",
   "execution_count": 207,
   "metadata": {},
   "outputs": [
    {
     "name": "stdout",
     "output_type": "stream",
     "text": [
      "                            OLS Regression Results                            \n",
      "==============================================================================\n",
      "Dep. Variable:                ratings   R-squared:                       0.015\n",
      "Model:                            OLS   Adj. R-squared:                  0.009\n",
      "Method:                 Least Squares   F-statistic:                     2.451\n",
      "Date:                Tue, 07 Mar 2023   Prob (F-statistic):             0.0879\n",
      "Time:                        21:58:40   Log-Likelihood:                -485.71\n",
      "No. Observations:                 316   AIC:                             977.4\n",
      "Df Residuals:                     313   BIC:                             988.7\n",
      "Df Model:                           2                                         \n",
      "Covariance Type:            nonrobust                                         \n",
      "=================================================================================\n",
      "                    coef    std err          t      P>|t|      [0.025      0.975]\n",
      "---------------------------------------------------------------------------------\n",
      "const             5.8981      0.085     69.502      0.000       5.731       6.065\n",
      "total_support  1.732e-09    1.3e-09      1.328      0.185   -8.33e-10     4.3e-09\n",
      "budget          1.42e-10   4.91e-10      0.289      0.773   -8.25e-10    1.11e-09\n",
      "==============================================================================\n",
      "Omnibus:                       37.137   Durbin-Watson:                   1.772\n",
      "Prob(Omnibus):                  0.000   Jarque-Bera (JB):               60.991\n",
      "Skew:                          -0.709   Prob(JB):                     5.70e-14\n",
      "Kurtosis:                       4.619   Cond. No.                     3.21e+08\n",
      "==============================================================================\n",
      "\n",
      "Notes:\n",
      "[1] Standard Errors assume that the covariance matrix of the errors is correctly specified.\n",
      "[2] The condition number is large, 3.21e+08. This might indicate that there are\n",
      "strong multicollinearity or other numerical problems.\n"
     ]
    }
   ],
   "source": [
    "# оцениваю линейную регрессию\n",
    "d = data.query('box_office.notna() and budget.notna()')\n",
    "x = (d[['total_support', 'budget']].astype(float))\n",
    "y = d['ratings'].astype(float)\n",
    "x2 = sm.add_constant(x)\n",
    "reg = sm.OLS(y,x2).fit()\n",
    "print(reg.summary())"
   ]
  },
  {
   "cell_type": "markdown",
   "metadata": {},
   "source": [
    "Ни деньги ни финансовая помощь не могут значимо улучшить рейтинг российского кино."
   ]
  },
  {
   "cell_type": "markdown",
   "metadata": {
    "id": "V2gYwMcPgFyd"
   },
   "source": [
    "# Шаг 5. Напишите общий вывод"
   ]
  },
  {
   "cell_type": "markdown",
   "metadata": {
    "id": "AYRg3dzXgFye"
   },
   "source": [
    "В данном проекте я изучила данные из двух источников - из Кинопоиска и от Министерства Культуры. \n",
    "\n",
    "Я объединила данные из этих источников в один датасет. Я поменяла типы у даты и у рейтинга и унифицировала вид рейтинга.\n",
    "В данных были пропуски - в некоторых переменных пропусков было очень много - например в данных о финансовой поддержке, скорее всего потому, что данные были доступны лишь по тем фильмам, которую поддержку получили и лишь в определённых годах. В некоторых переменных пропусков было очень мало - где было возможно я заполнила пропуски руками, остальные такие немногие наблюдения удалила. \n",
    "В данных про рейтинг фильма пропусков было не очень много, но при этом и не очень мало и такие данные не хотелось терять. Я волспользовалась алгоритмом knn и заполнила пропуски средними из схожих наблюдений по уровню сборов. \n",
    "Последним этапом предобработки данных я обнаружила, что есть российские фильмы, вышедшие после 2013 года (дата начала данных о финансовой помощи) с пропусками в переменных о помощи. Это означало, что они её не получали и я заменила пропуски нулями.\n",
    "\n",
    "Я создала новые переменные с годом выхода фильма, выделила главного режиссера и жанр и посчитала долю, которую занимала финансовая поддержка в бюджете фильма. \n",
    "\n",
    "Ислледование динамики проката показало, что она была очень нелинейной и вслед за годами с большим колличеством вышедших фильмов бывали года с очень небольшим прокатом - особенно это заметно в 2011 и в 2017. \n",
    "\n",
    "При этом анализ сборов в кинотеатрах показал экспоненциальный рост сборов в районе 2014/2015 годов с максимальным значением сборов в 2017 году. \n",
    "\n",
    "При этом сравнение среднего и медианы показало, что распределение сборов сильно смещённое - медиана и среднее отличались в разы. Поэтому в случаях, где это было возможно, я использовала медианное значение в дальнейшем исследовании.\n",
    "\n",
    "Далее я рассмотрела влияние возрастного ограничения на сборы. Если в ранние годы с небольшими сборами, наибольшие медианные сборы приходились на фильмы 0+, то в годы с большими сборами наибольшее значение было у фильмов 6+. Дальнейший статистический анализ показал, что эти различия тем не менее не являются статистически значимыми. \n",
    "\n",
    "В заключительной части проекта я исследовала влияния финансовой помощи на успешность и рейтинг российских фильмов. Анализ показал, что доля фильмов, получающих финансовую поддержку государства менялась нелинейно и достигла максимума в 2015 году, когда более 40% выходивших фильмов получили государственную денежную поддержку. При этом распределение возвратной и невозвратной помощи показало, что невозвратная помощь чаще давалась в более крупных размерах. Общие траты государства на финансовую поддержку российских фильмов начинает резко расти после 2014 года. \n",
    "Финансовая поддержка очень сильно коррелирует с бюджетом фильма и оказывает значимое влияние на сборы фильмов - на 1 рубль помощи сборы растут в среднем на 2.16 рублей. Но к данному выводу надо относиться с осторожностью, потому что финансовая помощь так же скоррелирована с доступом к рекламе и продвижению фильмов на федеральных каналах, что сильно связано с кассовым успехом фильма, но учесть в регрессии мы это не можем.\n",
    "Тем не менее ни бюджет фильма ни финансовая поддержка не оказывают значимого влияния на рейтинг фильма. Видимо для улучшения качества российского кинематографа нужно что-то помимо денег.\n"
   ]
  }
 ],
 "metadata": {
  "ExecuteTimeLog": [
   {
    "duration": 537,
    "start_time": "2021-07-07T10:12:08.634Z"
   },
   {
    "duration": 206,
    "start_time": "2021-07-07T10:12:30.191Z"
   },
   {
    "duration": 227,
    "start_time": "2021-07-07T10:12:33.078Z"
   },
   {
    "duration": 153,
    "start_time": "2021-07-07T10:13:42.146Z"
   },
   {
    "duration": 233,
    "start_time": "2021-07-07T10:30:09.252Z"
   },
   {
    "duration": 19,
    "start_time": "2021-07-07T10:30:15.577Z"
   },
   {
    "duration": 18,
    "start_time": "2021-07-07T10:30:57.348Z"
   },
   {
    "duration": 19,
    "start_time": "2021-07-07T10:31:17.452Z"
   },
   {
    "duration": 21,
    "start_time": "2021-07-07T10:31:32.227Z"
   },
   {
    "duration": 27,
    "start_time": "2021-07-07T10:32:06.588Z"
   },
   {
    "duration": 23,
    "start_time": "2021-07-07T10:32:43.645Z"
   },
   {
    "duration": 24,
    "start_time": "2021-07-07T10:33:06.948Z"
   },
   {
    "duration": 7,
    "start_time": "2021-07-07T10:33:28.558Z"
   },
   {
    "duration": 23,
    "start_time": "2021-07-07T10:33:43.761Z"
   },
   {
    "duration": 28,
    "start_time": "2021-07-07T10:34:13.466Z"
   },
   {
    "duration": 23,
    "start_time": "2021-07-07T10:35:56.187Z"
   },
   {
    "duration": 6,
    "start_time": "2021-07-07T10:36:48.182Z"
   },
   {
    "duration": 14,
    "start_time": "2021-07-07T10:37:49.641Z"
   },
   {
    "duration": 6,
    "start_time": "2021-07-07T10:38:06.694Z"
   },
   {
    "duration": 6,
    "start_time": "2021-07-07T10:38:13.493Z"
   },
   {
    "duration": 19,
    "start_time": "2021-07-07T10:38:44.056Z"
   },
   {
    "duration": 186,
    "start_time": "2021-07-07T10:48:35.618Z"
   },
   {
    "duration": 24,
    "start_time": "2021-07-07T10:48:51.498Z"
   },
   {
    "duration": 20,
    "start_time": "2021-07-07T10:48:59.415Z"
   },
   {
    "duration": 20,
    "start_time": "2021-07-07T10:53:02.195Z"
   },
   {
    "duration": 188,
    "start_time": "2021-07-07T10:54:40.486Z"
   },
   {
    "duration": 115,
    "start_time": "2021-07-07T10:54:52.552Z"
   },
   {
    "duration": 214,
    "start_time": "2021-07-07T10:54:56.354Z"
   },
   {
    "duration": 47,
    "start_time": "2021-07-07T10:54:58.282Z"
   },
   {
    "duration": 217,
    "start_time": "2021-07-07T10:59:16.075Z"
   },
   {
    "duration": 51,
    "start_time": "2021-07-07T10:59:16.243Z"
   },
   {
    "duration": 578,
    "start_time": "2021-07-07T10:59:18.774Z"
   },
   {
    "duration": 161,
    "start_time": "2021-07-07T10:59:21.238Z"
   },
   {
    "duration": 59,
    "start_time": "2021-07-07T10:59:21.453Z"
   },
   {
    "duration": 3,
    "start_time": "2021-07-07T11:02:10.786Z"
   },
   {
    "duration": 13,
    "start_time": "2021-07-07T11:07:07.722Z"
   },
   {
    "duration": 26,
    "start_time": "2021-07-07T11:07:17.958Z"
   },
   {
    "duration": 22,
    "start_time": "2021-07-07T11:08:17.939Z"
   },
   {
    "duration": 212,
    "start_time": "2021-07-07T11:08:19.665Z"
   },
   {
    "duration": 21,
    "start_time": "2021-07-07T11:08:29.945Z"
   },
   {
    "duration": 31,
    "start_time": "2021-07-07T11:08:38.899Z"
   },
   {
    "duration": 23,
    "start_time": "2021-07-07T11:08:54.527Z"
   },
   {
    "duration": 8,
    "start_time": "2021-07-07T11:18:55.974Z"
   },
   {
    "duration": 7,
    "start_time": "2021-07-07T11:19:03.639Z"
   },
   {
    "duration": 7,
    "start_time": "2021-07-07T11:19:06.444Z"
   },
   {
    "duration": 578,
    "start_time": "2021-07-07T12:09:59.576Z"
   },
   {
    "duration": 195,
    "start_time": "2021-07-07T12:10:00.156Z"
   },
   {
    "duration": 115,
    "start_time": "2021-07-07T12:10:00.353Z"
   },
   {
    "duration": 3,
    "start_time": "2021-07-07T12:10:00.470Z"
   },
   {
    "duration": 32,
    "start_time": "2021-07-07T12:10:00.474Z"
   },
   {
    "duration": 23,
    "start_time": "2021-07-07T12:10:00.508Z"
   },
   {
    "duration": 19,
    "start_time": "2021-07-07T12:10:00.533Z"
   },
   {
    "duration": 44,
    "start_time": "2021-07-07T12:10:00.553Z"
   },
   {
    "duration": 7,
    "start_time": "2021-07-07T12:10:00.600Z"
   },
   {
    "duration": 7,
    "start_time": "2021-07-07T12:19:45.761Z"
   },
   {
    "duration": 21,
    "start_time": "2021-07-07T12:21:35.482Z"
   },
   {
    "duration": 21,
    "start_time": "2021-07-07T12:29:23.569Z"
   },
   {
    "duration": 525,
    "start_time": "2021-07-07T12:29:44.542Z"
   },
   {
    "duration": 214,
    "start_time": "2021-07-07T12:29:45.069Z"
   },
   {
    "duration": 92,
    "start_time": "2021-07-07T12:29:45.285Z"
   },
   {
    "duration": 3,
    "start_time": "2021-07-07T12:29:45.379Z"
   },
   {
    "duration": 28,
    "start_time": "2021-07-07T12:29:45.384Z"
   },
   {
    "duration": 23,
    "start_time": "2021-07-07T12:29:45.413Z"
   },
   {
    "duration": 21,
    "start_time": "2021-07-07T12:29:45.437Z"
   },
   {
    "duration": 41,
    "start_time": "2021-07-07T12:29:45.460Z"
   },
   {
    "duration": 7,
    "start_time": "2021-07-07T12:29:45.502Z"
   },
   {
    "duration": 20,
    "start_time": "2021-07-07T12:29:45.511Z"
   },
   {
    "duration": 12,
    "start_time": "2021-07-07T12:34:02.800Z"
   },
   {
    "duration": 7,
    "start_time": "2021-07-07T12:35:10.479Z"
   },
   {
    "duration": 8,
    "start_time": "2021-07-07T12:35:22.440Z"
   },
   {
    "duration": 6,
    "start_time": "2021-07-07T12:35:35.649Z"
   },
   {
    "duration": 6,
    "start_time": "2021-07-07T12:35:43.107Z"
   },
   {
    "duration": 22,
    "start_time": "2021-07-07T12:38:03.029Z"
   },
   {
    "duration": 10,
    "start_time": "2021-07-07T12:38:06.592Z"
   },
   {
    "duration": 563,
    "start_time": "2021-07-07T12:38:46.493Z"
   },
   {
    "duration": 265,
    "start_time": "2021-07-07T12:38:47.058Z"
   },
   {
    "duration": 94,
    "start_time": "2021-07-07T12:38:47.325Z"
   },
   {
    "duration": 3,
    "start_time": "2021-07-07T12:38:47.422Z"
   },
   {
    "duration": 30,
    "start_time": "2021-07-07T12:38:47.427Z"
   },
   {
    "duration": 16,
    "start_time": "2021-07-07T12:38:53.305Z"
   },
   {
    "duration": 10,
    "start_time": "2021-07-07T12:38:53.499Z"
   },
   {
    "duration": 8,
    "start_time": "2021-07-07T12:39:48.161Z"
   },
   {
    "duration": 27,
    "start_time": "2021-07-07T12:41:17.629Z"
   },
   {
    "duration": 17,
    "start_time": "2021-07-07T12:41:17.867Z"
   },
   {
    "duration": 21,
    "start_time": "2021-07-07T12:41:19.310Z"
   },
   {
    "duration": 7,
    "start_time": "2021-07-07T12:41:19.544Z"
   },
   {
    "duration": 20,
    "start_time": "2021-07-07T12:41:20.504Z"
   },
   {
    "duration": 554,
    "start_time": "2021-07-07T12:56:23.696Z"
   },
   {
    "duration": 200,
    "start_time": "2021-07-07T12:56:25.234Z"
   },
   {
    "duration": 119,
    "start_time": "2021-07-07T12:56:25.480Z"
   },
   {
    "duration": 4,
    "start_time": "2021-07-07T12:56:25.762Z"
   },
   {
    "duration": 26,
    "start_time": "2021-07-07T12:56:27.172Z"
   },
   {
    "duration": 12,
    "start_time": "2021-07-07T12:56:29.051Z"
   },
   {
    "duration": 10,
    "start_time": "2021-07-07T12:56:29.291Z"
   },
   {
    "duration": 8,
    "start_time": "2021-07-07T12:56:29.623Z"
   },
   {
    "duration": 28,
    "start_time": "2021-07-07T12:56:32.137Z"
   },
   {
    "duration": 19,
    "start_time": "2021-07-07T12:56:39.785Z"
   },
   {
    "duration": 20,
    "start_time": "2021-07-07T12:56:44.297Z"
   },
   {
    "duration": 7,
    "start_time": "2021-07-07T12:56:45.392Z"
   },
   {
    "duration": 23,
    "start_time": "2021-07-07T12:56:46.615Z"
   },
   {
    "duration": 4,
    "start_time": "2021-07-07T12:57:06.625Z"
   },
   {
    "duration": 32,
    "start_time": "2021-07-07T12:57:36.690Z"
   },
   {
    "duration": 18,
    "start_time": "2021-07-07T12:58:00.149Z"
   },
   {
    "duration": 15,
    "start_time": "2021-07-07T12:59:16.793Z"
   },
   {
    "duration": 7,
    "start_time": "2021-07-07T13:19:22.624Z"
   },
   {
    "duration": 6,
    "start_time": "2021-07-07T14:17:33.527Z"
   },
   {
    "duration": 9,
    "start_time": "2021-07-07T14:17:48.409Z"
   },
   {
    "duration": 8,
    "start_time": "2021-07-07T14:20:13.060Z"
   },
   {
    "duration": 8,
    "start_time": "2021-07-07T14:20:37.957Z"
   },
   {
    "duration": 8,
    "start_time": "2021-07-07T14:20:47.470Z"
   },
   {
    "duration": 9,
    "start_time": "2021-07-07T14:20:54.503Z"
   },
   {
    "duration": 10,
    "start_time": "2021-07-07T14:28:57.763Z"
   },
   {
    "duration": 3,
    "start_time": "2021-07-07T14:30:23.377Z"
   },
   {
    "duration": 3,
    "start_time": "2021-07-07T14:30:36.489Z"
   },
   {
    "duration": 103,
    "start_time": "2021-07-07T14:30:52.351Z"
   },
   {
    "duration": 8,
    "start_time": "2021-07-07T14:30:54.763Z"
   },
   {
    "duration": 8,
    "start_time": "2021-07-07T14:31:29.301Z"
   },
   {
    "duration": 13,
    "start_time": "2021-07-07T14:31:44.516Z"
   },
   {
    "duration": 7,
    "start_time": "2021-07-07T14:33:10.972Z"
   },
   {
    "duration": 11,
    "start_time": "2021-07-07T14:33:27.780Z"
   },
   {
    "duration": 8,
    "start_time": "2021-07-07T14:34:44.588Z"
   },
   {
    "duration": 57,
    "start_time": "2021-07-07T14:35:59.042Z"
   },
   {
    "duration": 3,
    "start_time": "2021-07-07T14:36:28.168Z"
   },
   {
    "duration": 5,
    "start_time": "2021-07-07T14:36:46.254Z"
   },
   {
    "duration": 4,
    "start_time": "2021-07-07T14:36:52.714Z"
   },
   {
    "duration": 3,
    "start_time": "2021-07-07T14:36:56.612Z"
   },
   {
    "duration": 4,
    "start_time": "2021-07-07T14:36:57.049Z"
   },
   {
    "duration": 3,
    "start_time": "2021-07-07T14:39:21.214Z"
   },
   {
    "duration": 7,
    "start_time": "2021-07-07T14:39:52.406Z"
   },
   {
    "duration": 11,
    "start_time": "2021-07-07T14:39:58.576Z"
   },
   {
    "duration": 9,
    "start_time": "2021-07-07T14:40:26.301Z"
   },
   {
    "duration": 10,
    "start_time": "2021-07-07T14:40:31.704Z"
   },
   {
    "duration": 11,
    "start_time": "2021-07-07T14:40:36.249Z"
   },
   {
    "duration": 10,
    "start_time": "2021-07-07T14:40:39.783Z"
   },
   {
    "duration": 9,
    "start_time": "2021-07-07T14:40:48.558Z"
   },
   {
    "duration": 10,
    "start_time": "2021-07-07T14:40:57.143Z"
   },
   {
    "duration": 9,
    "start_time": "2021-07-07T14:41:06.074Z"
   },
   {
    "duration": 4324,
    "start_time": "2021-07-07T14:41:22.004Z"
   },
   {
    "duration": 11,
    "start_time": "2021-07-07T14:41:33.392Z"
   },
   {
    "duration": 9,
    "start_time": "2021-07-07T14:41:39.288Z"
   },
   {
    "duration": 569,
    "start_time": "2021-07-07T14:42:14.387Z"
   },
   {
    "duration": 197,
    "start_time": "2021-07-07T14:42:14.959Z"
   },
   {
    "duration": 84,
    "start_time": "2021-07-07T14:42:16.052Z"
   },
   {
    "duration": 4,
    "start_time": "2021-07-07T14:42:16.900Z"
   },
   {
    "duration": 27,
    "start_time": "2021-07-07T14:42:19.898Z"
   },
   {
    "duration": 12,
    "start_time": "2021-07-07T14:42:21.577Z"
   },
   {
    "duration": 9,
    "start_time": "2021-07-07T14:42:21.813Z"
   },
   {
    "duration": 9,
    "start_time": "2021-07-07T14:42:22.569Z"
   },
   {
    "duration": 29,
    "start_time": "2021-07-07T14:42:25.837Z"
   },
   {
    "duration": 20,
    "start_time": "2021-07-07T14:42:27.003Z"
   },
   {
    "duration": 21,
    "start_time": "2021-07-07T14:42:28.767Z"
   },
   {
    "duration": 7,
    "start_time": "2021-07-07T14:42:29.838Z"
   },
   {
    "duration": 4,
    "start_time": "2021-07-07T14:43:25.493Z"
   },
   {
    "duration": 7,
    "start_time": "2021-07-07T14:43:26.573Z"
   },
   {
    "duration": 10,
    "start_time": "2021-07-07T14:43:31.639Z"
   },
   {
    "duration": 9,
    "start_time": "2021-07-07T14:43:32.046Z"
   },
   {
    "duration": 10,
    "start_time": "2021-07-07T14:43:33.301Z"
   },
   {
    "duration": 12,
    "start_time": "2021-07-07T14:43:33.658Z"
   },
   {
    "duration": 8,
    "start_time": "2021-07-07T14:43:34.552Z"
   },
   {
    "duration": 9,
    "start_time": "2021-07-07T14:43:35.058Z"
   },
   {
    "duration": 12,
    "start_time": "2021-07-07T14:43:35.914Z"
   },
   {
    "duration": 17,
    "start_time": "2021-07-07T14:45:34.368Z"
   },
   {
    "duration": 512,
    "start_time": "2021-07-07T14:51:58.236Z"
   },
   {
    "duration": 223,
    "start_time": "2021-07-07T14:51:58.750Z"
   },
   {
    "duration": 93,
    "start_time": "2021-07-07T14:51:58.977Z"
   },
   {
    "duration": 4,
    "start_time": "2021-07-07T14:51:59.071Z"
   },
   {
    "duration": 37,
    "start_time": "2021-07-07T14:51:59.077Z"
   },
   {
    "duration": 18,
    "start_time": "2021-07-07T14:51:59.116Z"
   },
   {
    "duration": 10,
    "start_time": "2021-07-07T14:51:59.137Z"
   },
   {
    "duration": 8,
    "start_time": "2021-07-07T14:51:59.149Z"
   },
   {
    "duration": 54,
    "start_time": "2021-07-07T14:51:59.158Z"
   },
   {
    "duration": 18,
    "start_time": "2021-07-07T14:51:59.213Z"
   },
   {
    "duration": 22,
    "start_time": "2021-07-07T14:51:59.232Z"
   },
   {
    "duration": 36,
    "start_time": "2021-07-07T14:51:59.255Z"
   },
   {
    "duration": 7,
    "start_time": "2021-07-07T14:51:59.293Z"
   },
   {
    "duration": 10,
    "start_time": "2021-07-07T14:51:59.302Z"
   },
   {
    "duration": 9,
    "start_time": "2021-07-07T14:51:59.313Z"
   },
   {
    "duration": 11,
    "start_time": "2021-07-07T14:51:59.324Z"
   },
   {
    "duration": 8,
    "start_time": "2021-07-07T14:51:59.337Z"
   },
   {
    "duration": 46,
    "start_time": "2021-07-07T14:51:59.347Z"
   },
   {
    "duration": 22,
    "start_time": "2021-07-07T14:51:59.395Z"
   },
   {
    "duration": 24,
    "start_time": "2021-07-07T14:57:32.911Z"
   },
   {
    "duration": 7,
    "start_time": "2021-07-07T14:58:22.070Z"
   },
   {
    "duration": 4,
    "start_time": "2021-07-07T14:59:11.239Z"
   },
   {
    "duration": 25,
    "start_time": "2021-07-07T15:07:22.208Z"
   },
   {
    "duration": 16,
    "start_time": "2021-07-07T15:08:25.560Z"
   },
   {
    "duration": 15,
    "start_time": "2021-07-07T15:08:40.647Z"
   },
   {
    "duration": 14,
    "start_time": "2021-07-07T15:08:46.669Z"
   },
   {
    "duration": 533,
    "start_time": "2021-07-07T15:18:07.440Z"
   },
   {
    "duration": 173,
    "start_time": "2021-07-07T15:18:07.974Z"
   },
   {
    "duration": 84,
    "start_time": "2021-07-07T15:18:08.149Z"
   },
   {
    "duration": 3,
    "start_time": "2021-07-07T15:18:08.235Z"
   },
   {
    "duration": 30,
    "start_time": "2021-07-07T15:18:08.240Z"
   },
   {
    "duration": 22,
    "start_time": "2021-07-07T15:18:08.272Z"
   },
   {
    "duration": 11,
    "start_time": "2021-07-07T15:18:08.295Z"
   },
   {
    "duration": 11,
    "start_time": "2021-07-07T15:18:08.309Z"
   },
   {
    "duration": 40,
    "start_time": "2021-07-07T15:18:08.322Z"
   },
   {
    "duration": 42,
    "start_time": "2021-07-07T15:18:08.364Z"
   },
   {
    "duration": 22,
    "start_time": "2021-07-07T15:18:08.408Z"
   },
   {
    "duration": 5,
    "start_time": "2021-07-07T15:18:08.432Z"
   },
   {
    "duration": 13,
    "start_time": "2021-07-07T15:18:08.439Z"
   },
   {
    "duration": 9,
    "start_time": "2021-07-07T15:18:08.454Z"
   },
   {
    "duration": 32,
    "start_time": "2021-07-07T15:18:08.465Z"
   },
   {
    "duration": 10,
    "start_time": "2021-07-07T15:18:08.501Z"
   },
   {
    "duration": 7,
    "start_time": "2021-07-07T15:18:08.513Z"
   },
   {
    "duration": 11,
    "start_time": "2021-07-07T15:18:08.521Z"
   },
   {
    "duration": 17,
    "start_time": "2021-07-07T15:18:08.534Z"
   },
   {
    "duration": 44,
    "start_time": "2021-07-07T15:18:08.553Z"
   },
   {
    "duration": 22,
    "start_time": "2021-07-07T15:18:08.599Z"
   },
   {
    "duration": 61,
    "start_time": "2021-07-07T15:18:08.622Z"
   },
   {
    "duration": 7,
    "start_time": "2021-07-07T15:18:39.457Z"
   },
   {
    "duration": 5,
    "start_time": "2021-07-07T16:05:17.020Z"
   },
   {
    "duration": 5,
    "start_time": "2021-07-07T16:51:28.794Z"
   },
   {
    "duration": 546,
    "start_time": "2021-07-07T16:52:26.306Z"
   },
   {
    "duration": 203,
    "start_time": "2021-07-07T16:52:27.523Z"
   },
   {
    "duration": 85,
    "start_time": "2021-07-07T16:52:27.736Z"
   },
   {
    "duration": 4,
    "start_time": "2021-07-07T16:52:27.899Z"
   },
   {
    "duration": 25,
    "start_time": "2021-07-07T16:52:28.674Z"
   },
   {
    "duration": 8,
    "start_time": "2021-07-07T16:52:32.956Z"
   },
   {
    "duration": 18,
    "start_time": "2021-07-07T16:52:35.616Z"
   },
   {
    "duration": 6,
    "start_time": "2021-07-07T16:52:36.913Z"
   },
   {
    "duration": 11,
    "start_time": "2021-07-07T16:52:40.258Z"
   },
   {
    "duration": 10,
    "start_time": "2021-07-07T16:52:46.251Z"
   },
   {
    "duration": 8,
    "start_time": "2021-07-07T16:52:47.182Z"
   },
   {
    "duration": 27,
    "start_time": "2021-07-07T16:53:20.391Z"
   },
   {
    "duration": 20,
    "start_time": "2021-07-07T16:53:22.022Z"
   },
   {
    "duration": 23,
    "start_time": "2021-07-07T16:53:23.690Z"
   },
   {
    "duration": 8,
    "start_time": "2021-07-07T16:53:24.261Z"
   },
   {
    "duration": 4,
    "start_time": "2021-07-07T16:53:38.733Z"
   },
   {
    "duration": 7,
    "start_time": "2021-07-07T16:53:40.445Z"
   },
   {
    "duration": 11,
    "start_time": "2021-07-07T16:53:41.348Z"
   },
   {
    "duration": 13,
    "start_time": "2021-07-07T16:53:45.250Z"
   },
   {
    "duration": 12,
    "start_time": "2021-07-07T16:53:45.467Z"
   },
   {
    "duration": 4,
    "start_time": "2021-07-07T16:55:32.704Z"
   },
   {
    "duration": 12,
    "start_time": "2021-07-07T16:55:49.012Z"
   },
   {
    "duration": 18,
    "start_time": "2021-07-07T16:55:49.547Z"
   },
   {
    "duration": 611,
    "start_time": "2021-07-07T16:58:35.156Z"
   },
   {
    "duration": 200,
    "start_time": "2021-07-07T16:58:35.770Z"
   },
   {
    "duration": 86,
    "start_time": "2021-07-07T16:58:35.972Z"
   },
   {
    "duration": 3,
    "start_time": "2021-07-07T16:58:36.060Z"
   },
   {
    "duration": 27,
    "start_time": "2021-07-07T16:58:36.065Z"
   },
   {
    "duration": 8,
    "start_time": "2021-07-07T16:58:36.094Z"
   },
   {
    "duration": 17,
    "start_time": "2021-07-07T16:58:36.103Z"
   },
   {
    "duration": 5,
    "start_time": "2021-07-07T16:58:36.123Z"
   },
   {
    "duration": 11,
    "start_time": "2021-07-07T16:58:36.130Z"
   },
   {
    "duration": 7,
    "start_time": "2021-07-07T16:58:36.143Z"
   },
   {
    "duration": 37,
    "start_time": "2021-07-07T16:58:36.152Z"
   },
   {
    "duration": 27,
    "start_time": "2021-07-07T16:58:36.191Z"
   },
   {
    "duration": 19,
    "start_time": "2021-07-07T16:58:36.219Z"
   },
   {
    "duration": 49,
    "start_time": "2021-07-07T16:58:36.240Z"
   },
   {
    "duration": 6,
    "start_time": "2021-07-07T16:58:36.291Z"
   },
   {
    "duration": 3,
    "start_time": "2021-07-07T16:58:36.299Z"
   },
   {
    "duration": 13,
    "start_time": "2021-07-07T16:58:36.304Z"
   },
   {
    "duration": 10,
    "start_time": "2021-07-07T16:58:36.319Z"
   },
   {
    "duration": 10,
    "start_time": "2021-07-07T16:58:36.331Z"
   },
   {
    "duration": 44,
    "start_time": "2021-07-07T16:58:36.343Z"
   },
   {
    "duration": 4,
    "start_time": "2021-07-07T16:58:36.388Z"
   },
   {
    "duration": 13,
    "start_time": "2021-07-07T16:58:36.394Z"
   },
   {
    "duration": 16,
    "start_time": "2021-07-07T16:58:36.410Z"
   },
   {
    "duration": 8,
    "start_time": "2021-07-07T17:02:31.629Z"
   },
   {
    "duration": 8,
    "start_time": "2021-07-07T17:02:34.308Z"
   },
   {
    "duration": 6,
    "start_time": "2021-07-07T17:05:13.483Z"
   },
   {
    "duration": 17,
    "start_time": "2021-07-07T17:05:20.606Z"
   },
   {
    "duration": 7,
    "start_time": "2021-07-07T17:05:34.638Z"
   },
   {
    "duration": 3,
    "start_time": "2021-07-07T17:06:31.883Z"
   },
   {
    "duration": 570,
    "start_time": "2021-07-07T17:06:37.165Z"
   },
   {
    "duration": 174,
    "start_time": "2021-07-07T17:06:37.737Z"
   },
   {
    "duration": 47,
    "start_time": "2021-07-07T17:06:37.913Z"
   },
   {
    "duration": 3,
    "start_time": "2021-07-07T17:06:37.962Z"
   },
   {
    "duration": 27,
    "start_time": "2021-07-07T17:06:37.967Z"
   },
   {
    "duration": 7,
    "start_time": "2021-07-07T17:06:37.996Z"
   },
   {
    "duration": 16,
    "start_time": "2021-07-07T17:06:38.005Z"
   },
   {
    "duration": 6,
    "start_time": "2021-07-07T17:06:38.024Z"
   },
   {
    "duration": 12,
    "start_time": "2021-07-07T17:06:38.031Z"
   },
   {
    "duration": 41,
    "start_time": "2021-07-07T17:06:38.045Z"
   },
   {
    "duration": 8,
    "start_time": "2021-07-07T17:06:38.088Z"
   },
   {
    "duration": 26,
    "start_time": "2021-07-07T17:06:38.098Z"
   },
   {
    "duration": 17,
    "start_time": "2021-07-07T17:06:38.126Z"
   },
   {
    "duration": 43,
    "start_time": "2021-07-07T17:06:38.144Z"
   },
   {
    "duration": 6,
    "start_time": "2021-07-07T17:06:38.188Z"
   },
   {
    "duration": 5,
    "start_time": "2021-07-07T17:06:38.195Z"
   },
   {
    "duration": 9,
    "start_time": "2021-07-07T17:06:38.201Z"
   },
   {
    "duration": 12,
    "start_time": "2021-07-07T17:06:38.212Z"
   },
   {
    "duration": 11,
    "start_time": "2021-07-07T17:06:38.226Z"
   },
   {
    "duration": 47,
    "start_time": "2021-07-07T17:06:38.239Z"
   },
   {
    "duration": 4,
    "start_time": "2021-07-07T17:06:38.288Z"
   },
   {
    "duration": 13,
    "start_time": "2021-07-07T17:06:38.293Z"
   },
   {
    "duration": 5,
    "start_time": "2021-07-07T17:06:38.309Z"
   },
   {
    "duration": 18,
    "start_time": "2021-07-07T17:06:38.325Z"
   },
   {
    "duration": 20,
    "start_time": "2021-07-07T17:07:02.805Z"
   },
   {
    "duration": 19,
    "start_time": "2021-07-07T17:07:08.527Z"
   },
   {
    "duration": 19,
    "start_time": "2021-07-07T17:07:12.758Z"
   },
   {
    "duration": 22,
    "start_time": "2021-07-07T17:07:17.497Z"
   },
   {
    "duration": 19,
    "start_time": "2021-07-07T17:07:19.645Z"
   },
   {
    "duration": 10,
    "start_time": "2021-07-07T17:07:34.239Z"
   },
   {
    "duration": 17,
    "start_time": "2021-07-07T17:07:54.144Z"
   },
   {
    "duration": 14,
    "start_time": "2021-07-07T17:08:14.357Z"
   },
   {
    "duration": 616,
    "start_time": "2021-07-07T17:08:45.254Z"
   },
   {
    "duration": 178,
    "start_time": "2021-07-07T17:08:45.872Z"
   },
   {
    "duration": 60,
    "start_time": "2021-07-07T17:08:46.054Z"
   },
   {
    "duration": 3,
    "start_time": "2021-07-07T17:08:46.116Z"
   },
   {
    "duration": 26,
    "start_time": "2021-07-07T17:08:46.121Z"
   },
   {
    "duration": 7,
    "start_time": "2021-07-07T17:08:46.149Z"
   },
   {
    "duration": 17,
    "start_time": "2021-07-07T17:08:46.158Z"
   },
   {
    "duration": 14,
    "start_time": "2021-07-07T17:08:46.176Z"
   },
   {
    "duration": 17,
    "start_time": "2021-07-07T17:08:46.193Z"
   },
   {
    "duration": 9,
    "start_time": "2021-07-07T17:08:46.211Z"
   },
   {
    "duration": 21,
    "start_time": "2021-07-07T17:08:46.221Z"
   },
   {
    "duration": 49,
    "start_time": "2021-07-07T17:08:46.244Z"
   },
   {
    "duration": 24,
    "start_time": "2021-07-07T17:08:46.295Z"
   },
   {
    "duration": 22,
    "start_time": "2021-07-07T17:08:46.321Z"
   },
   {
    "duration": 6,
    "start_time": "2021-07-07T17:08:46.345Z"
   },
   {
    "duration": 5,
    "start_time": "2021-07-07T17:08:46.353Z"
   },
   {
    "duration": 13,
    "start_time": "2021-07-07T17:08:46.386Z"
   },
   {
    "duration": 12,
    "start_time": "2021-07-07T17:08:46.402Z"
   },
   {
    "duration": 10,
    "start_time": "2021-07-07T17:08:46.415Z"
   },
   {
    "duration": 7,
    "start_time": "2021-07-07T17:08:46.427Z"
   },
   {
    "duration": 8,
    "start_time": "2021-07-07T17:08:46.435Z"
   },
   {
    "duration": 68,
    "start_time": "2021-07-07T17:08:46.446Z"
   },
   {
    "duration": 13,
    "start_time": "2021-07-07T17:08:46.516Z"
   },
   {
    "duration": 78,
    "start_time": "2021-07-07T17:08:46.530Z"
   },
   {
    "duration": 40,
    "start_time": "2021-07-07T17:09:08.185Z"
   },
   {
    "duration": 16,
    "start_time": "2021-07-07T17:09:19.324Z"
   },
   {
    "duration": 21,
    "start_time": "2021-07-07T17:09:23.290Z"
   },
   {
    "duration": 13,
    "start_time": "2021-07-07T17:09:54.812Z"
   },
   {
    "duration": 13,
    "start_time": "2021-07-07T17:10:02.039Z"
   },
   {
    "duration": 10,
    "start_time": "2021-07-07T17:10:29.632Z"
   },
   {
    "duration": 13,
    "start_time": "2021-07-07T17:10:52.372Z"
   },
   {
    "duration": 13,
    "start_time": "2021-07-07T17:11:17.270Z"
   },
   {
    "duration": 13,
    "start_time": "2021-07-07T17:14:59.284Z"
   },
   {
    "duration": 547,
    "start_time": "2021-07-07T17:18:52.403Z"
   },
   {
    "duration": 163,
    "start_time": "2021-07-07T17:18:52.952Z"
   },
   {
    "duration": 44,
    "start_time": "2021-07-07T17:18:53.117Z"
   },
   {
    "duration": 3,
    "start_time": "2021-07-07T17:18:53.162Z"
   },
   {
    "duration": 26,
    "start_time": "2021-07-07T17:18:53.167Z"
   },
   {
    "duration": 6,
    "start_time": "2021-07-07T17:18:53.195Z"
   },
   {
    "duration": 15,
    "start_time": "2021-07-07T17:18:53.203Z"
   },
   {
    "duration": 5,
    "start_time": "2021-07-07T17:18:53.220Z"
   },
   {
    "duration": 11,
    "start_time": "2021-07-07T17:18:53.228Z"
   },
   {
    "duration": 9,
    "start_time": "2021-07-07T17:18:53.241Z"
   },
   {
    "duration": 41,
    "start_time": "2021-07-07T17:18:53.252Z"
   },
   {
    "duration": 33,
    "start_time": "2021-07-07T17:18:53.295Z"
   },
   {
    "duration": 19,
    "start_time": "2021-07-07T17:18:53.330Z"
   },
   {
    "duration": 49,
    "start_time": "2021-07-07T17:18:53.350Z"
   },
   {
    "duration": 5,
    "start_time": "2021-07-07T17:18:53.401Z"
   },
   {
    "duration": 5,
    "start_time": "2021-07-07T17:18:53.408Z"
   },
   {
    "duration": 11,
    "start_time": "2021-07-07T17:18:53.414Z"
   },
   {
    "duration": 9,
    "start_time": "2021-07-07T17:18:53.427Z"
   },
   {
    "duration": 10,
    "start_time": "2021-07-07T17:18:53.437Z"
   },
   {
    "duration": 39,
    "start_time": "2021-07-07T17:18:53.448Z"
   },
   {
    "duration": 26,
    "start_time": "2021-07-07T17:18:55.799Z"
   },
   {
    "duration": 598,
    "start_time": "2021-07-07T17:20:17.862Z"
   },
   {
    "duration": 161,
    "start_time": "2021-07-07T17:20:18.462Z"
   },
   {
    "duration": 45,
    "start_time": "2021-07-07T17:20:18.626Z"
   },
   {
    "duration": 4,
    "start_time": "2021-07-07T17:20:18.673Z"
   },
   {
    "duration": 38,
    "start_time": "2021-07-07T17:20:26.877Z"
   },
   {
    "duration": 7,
    "start_time": "2021-07-07T17:20:37.405Z"
   },
   {
    "duration": 19,
    "start_time": "2021-07-07T17:20:51.534Z"
   },
   {
    "duration": 5,
    "start_time": "2021-07-07T17:20:57.228Z"
   },
   {
    "duration": 7,
    "start_time": "2021-07-07T17:21:08.235Z"
   },
   {
    "duration": 19,
    "start_time": "2021-07-07T17:21:42.158Z"
   },
   {
    "duration": 14,
    "start_time": "2021-07-07T17:21:50.225Z"
   },
   {
    "duration": 22,
    "start_time": "2021-07-07T17:22:54.104Z"
   },
   {
    "duration": 5,
    "start_time": "2021-07-07T17:22:56.371Z"
   },
   {
    "duration": 14,
    "start_time": "2021-07-07T17:22:58.316Z"
   },
   {
    "duration": 5,
    "start_time": "2021-07-07T17:22:58.493Z"
   },
   {
    "duration": 35,
    "start_time": "2021-07-07T17:22:59.666Z"
   },
   {
    "duration": 6,
    "start_time": "2021-07-07T17:23:02.410Z"
   },
   {
    "duration": 611,
    "start_time": "2021-07-07T17:24:59.664Z"
   },
   {
    "duration": 178,
    "start_time": "2021-07-07T17:25:01.945Z"
   },
   {
    "duration": 47,
    "start_time": "2021-07-07T17:25:02.125Z"
   },
   {
    "duration": 2,
    "start_time": "2021-07-07T17:25:07.903Z"
   },
   {
    "duration": 254,
    "start_time": "2021-07-07T17:25:08.232Z"
   },
   {
    "duration": 182,
    "start_time": "2021-07-07T17:25:08.671Z"
   },
   {
    "duration": 6,
    "start_time": "2021-07-07T17:25:13.104Z"
   },
   {
    "duration": 36,
    "start_time": "2021-07-07T17:25:13.662Z"
   },
   {
    "duration": 7,
    "start_time": "2021-07-07T17:25:14.528Z"
   },
   {
    "duration": 24,
    "start_time": "2021-07-07T17:25:27.982Z"
   },
   {
    "duration": 3,
    "start_time": "2021-07-07T17:25:48.982Z"
   },
   {
    "duration": 165,
    "start_time": "2021-07-07T17:25:48.987Z"
   },
   {
    "duration": 50,
    "start_time": "2021-07-07T17:25:49.154Z"
   },
   {
    "duration": 4,
    "start_time": "2021-07-07T17:25:49.206Z"
   },
   {
    "duration": 26,
    "start_time": "2021-07-07T17:25:49.212Z"
   },
   {
    "duration": 7,
    "start_time": "2021-07-07T17:25:49.240Z"
   },
   {
    "duration": 16,
    "start_time": "2021-07-07T17:25:49.249Z"
   },
   {
    "duration": 22,
    "start_time": "2021-07-07T17:25:49.266Z"
   },
   {
    "duration": 16,
    "start_time": "2021-07-07T17:25:49.291Z"
   },
   {
    "duration": 9,
    "start_time": "2021-07-07T17:25:49.309Z"
   },
   {
    "duration": 7,
    "start_time": "2021-07-07T17:25:49.319Z"
   },
   {
    "duration": 28,
    "start_time": "2021-07-07T17:25:49.328Z"
   },
   {
    "duration": 44,
    "start_time": "2021-07-07T17:25:49.357Z"
   },
   {
    "duration": 22,
    "start_time": "2021-07-07T17:25:49.403Z"
   },
   {
    "duration": 7,
    "start_time": "2021-07-07T17:25:49.427Z"
   },
   {
    "duration": 3,
    "start_time": "2021-07-07T17:25:49.436Z"
   },
   {
    "duration": 44,
    "start_time": "2021-07-07T17:25:49.441Z"
   },
   {
    "duration": 12,
    "start_time": "2021-07-07T17:25:49.488Z"
   },
   {
    "duration": 13,
    "start_time": "2021-07-07T17:25:49.502Z"
   },
   {
    "duration": 10,
    "start_time": "2021-07-07T17:25:49.516Z"
   },
   {
    "duration": 62,
    "start_time": "2021-07-07T17:25:49.527Z"
   },
   {
    "duration": 26,
    "start_time": "2021-07-07T17:26:51.809Z"
   },
   {
    "duration": 26,
    "start_time": "2021-07-07T17:26:55.759Z"
   },
   {
    "duration": 26,
    "start_time": "2021-07-07T17:27:04.501Z"
   },
   {
    "duration": 25,
    "start_time": "2021-07-07T17:28:24.859Z"
   },
   {
    "duration": 21,
    "start_time": "2021-07-07T17:28:55.250Z"
   },
   {
    "duration": 21,
    "start_time": "2021-07-07T17:28:58.885Z"
   },
   {
    "duration": 7,
    "start_time": "2021-07-07T17:45:40.972Z"
   },
   {
    "duration": 13,
    "start_time": "2021-07-07T17:45:42.529Z"
   },
   {
    "duration": 27,
    "start_time": "2021-07-07T17:45:51.026Z"
   },
   {
    "duration": 518,
    "start_time": "2021-07-07T17:46:15.532Z"
   },
   {
    "duration": 235,
    "start_time": "2021-07-07T17:46:16.053Z"
   },
   {
    "duration": 80,
    "start_time": "2021-07-07T17:46:16.292Z"
   },
   {
    "duration": 5,
    "start_time": "2021-07-07T17:46:16.373Z"
   },
   {
    "duration": 26,
    "start_time": "2021-07-07T17:46:16.380Z"
   },
   {
    "duration": 7,
    "start_time": "2021-07-07T17:46:16.408Z"
   },
   {
    "duration": 16,
    "start_time": "2021-07-07T17:46:16.418Z"
   },
   {
    "duration": 5,
    "start_time": "2021-07-07T17:46:16.436Z"
   },
   {
    "duration": 13,
    "start_time": "2021-07-07T17:46:16.442Z"
   },
   {
    "duration": 35,
    "start_time": "2021-07-07T17:46:16.456Z"
   },
   {
    "duration": 8,
    "start_time": "2021-07-07T17:46:16.493Z"
   },
   {
    "duration": 28,
    "start_time": "2021-07-07T17:46:16.502Z"
   },
   {
    "duration": 17,
    "start_time": "2021-07-07T17:46:16.532Z"
   },
   {
    "duration": 44,
    "start_time": "2021-07-07T17:46:16.551Z"
   },
   {
    "duration": 6,
    "start_time": "2021-07-07T17:46:16.597Z"
   },
   {
    "duration": 4,
    "start_time": "2021-07-07T17:46:16.605Z"
   },
   {
    "duration": 9,
    "start_time": "2021-07-07T17:46:16.610Z"
   },
   {
    "duration": 9,
    "start_time": "2021-07-07T17:46:16.621Z"
   },
   {
    "duration": 10,
    "start_time": "2021-07-07T17:46:16.632Z"
   },
   {
    "duration": 43,
    "start_time": "2021-07-07T17:46:16.644Z"
   },
   {
    "duration": 26,
    "start_time": "2021-07-07T17:46:16.689Z"
   },
   {
    "duration": 19,
    "start_time": "2021-07-07T17:46:16.718Z"
   },
   {
    "duration": 8,
    "start_time": "2021-07-07T17:46:16.738Z"
   },
   {
    "duration": 43,
    "start_time": "2021-07-07T17:46:16.747Z"
   },
   {
    "duration": 19,
    "start_time": "2021-07-07T17:46:16.791Z"
   },
   {
    "duration": 9,
    "start_time": "2021-07-07T17:46:16.812Z"
   },
   {
    "duration": 60,
    "start_time": "2021-07-07T17:46:16.822Z"
   },
   {
    "duration": -8,
    "start_time": "2021-07-07T17:46:16.892Z"
   },
   {
    "duration": 12,
    "start_time": "2021-07-07T17:48:47.707Z"
   },
   {
    "duration": 553,
    "start_time": "2021-07-07T18:10:09.350Z"
   },
   {
    "duration": 230,
    "start_time": "2021-07-07T18:10:09.905Z"
   },
   {
    "duration": 97,
    "start_time": "2021-07-07T18:10:10.137Z"
   },
   {
    "duration": 5,
    "start_time": "2021-07-07T18:10:10.236Z"
   },
   {
    "duration": 29,
    "start_time": "2021-07-07T18:10:10.242Z"
   },
   {
    "duration": 7,
    "start_time": "2021-07-07T18:10:10.272Z"
   },
   {
    "duration": 15,
    "start_time": "2021-07-07T18:10:10.281Z"
   },
   {
    "duration": 4,
    "start_time": "2021-07-07T18:10:10.299Z"
   },
   {
    "duration": 14,
    "start_time": "2021-07-07T18:10:10.305Z"
   },
   {
    "duration": 8,
    "start_time": "2021-07-07T18:10:10.321Z"
   },
   {
    "duration": 8,
    "start_time": "2021-07-07T18:10:10.331Z"
   },
   {
    "duration": 56,
    "start_time": "2021-07-07T18:10:10.341Z"
   },
   {
    "duration": 19,
    "start_time": "2021-07-07T18:10:10.399Z"
   },
   {
    "duration": 23,
    "start_time": "2021-07-07T18:10:10.419Z"
   },
   {
    "duration": 6,
    "start_time": "2021-07-07T18:10:10.444Z"
   },
   {
    "duration": 9,
    "start_time": "2021-07-07T18:10:10.451Z"
   },
   {
    "duration": 30,
    "start_time": "2021-07-07T18:10:10.462Z"
   },
   {
    "duration": 9,
    "start_time": "2021-07-07T18:10:10.494Z"
   },
   {
    "duration": 14,
    "start_time": "2021-07-07T18:10:10.505Z"
   },
   {
    "duration": 7,
    "start_time": "2021-07-07T18:10:10.521Z"
   },
   {
    "duration": 26,
    "start_time": "2021-07-07T18:10:10.530Z"
   },
   {
    "duration": 44,
    "start_time": "2021-07-07T18:10:10.558Z"
   },
   {
    "duration": 7,
    "start_time": "2021-07-07T18:10:10.605Z"
   },
   {
    "duration": 11,
    "start_time": "2021-07-07T18:10:10.614Z"
   },
   {
    "duration": 19,
    "start_time": "2021-07-07T18:10:10.626Z"
   },
   {
    "duration": 44,
    "start_time": "2021-07-07T18:10:10.646Z"
   },
   {
    "duration": 516,
    "start_time": "2021-07-07T18:14:00.826Z"
   },
   {
    "duration": 230,
    "start_time": "2021-07-07T18:14:01.344Z"
   },
   {
    "duration": 105,
    "start_time": "2021-07-07T18:14:01.576Z"
   },
   {
    "duration": 5,
    "start_time": "2021-07-07T18:14:01.683Z"
   },
   {
    "duration": 46,
    "start_time": "2021-07-07T18:14:01.690Z"
   },
   {
    "duration": 7,
    "start_time": "2021-07-07T18:14:01.738Z"
   },
   {
    "duration": 20,
    "start_time": "2021-07-07T18:14:01.747Z"
   },
   {
    "duration": 16,
    "start_time": "2021-07-07T18:14:01.769Z"
   },
   {
    "duration": 14,
    "start_time": "2021-07-07T18:14:01.787Z"
   },
   {
    "duration": 15,
    "start_time": "2021-07-07T18:14:01.803Z"
   },
   {
    "duration": 12,
    "start_time": "2021-07-07T18:14:01.820Z"
   },
   {
    "duration": 35,
    "start_time": "2021-07-07T18:14:01.833Z"
   },
   {
    "duration": 31,
    "start_time": "2021-07-07T18:14:01.869Z"
   },
   {
    "duration": 37,
    "start_time": "2021-07-07T18:14:01.902Z"
   },
   {
    "duration": 8,
    "start_time": "2021-07-07T18:14:01.942Z"
   },
   {
    "duration": 16,
    "start_time": "2021-07-07T18:14:01.952Z"
   },
   {
    "duration": 13,
    "start_time": "2021-07-07T18:14:01.970Z"
   },
   {
    "duration": 32,
    "start_time": "2021-07-07T18:14:01.985Z"
   },
   {
    "duration": 11,
    "start_time": "2021-07-07T18:14:02.019Z"
   },
   {
    "duration": 22,
    "start_time": "2021-07-07T18:14:02.031Z"
   },
   {
    "duration": 27,
    "start_time": "2021-07-07T18:14:02.055Z"
   },
   {
    "duration": 18,
    "start_time": "2021-07-07T18:14:02.084Z"
   },
   {
    "duration": 18,
    "start_time": "2021-07-07T18:14:02.106Z"
   },
   {
    "duration": 11,
    "start_time": "2021-07-07T18:14:02.126Z"
   },
   {
    "duration": 21,
    "start_time": "2021-07-07T18:14:02.138Z"
   },
   {
    "duration": 32,
    "start_time": "2021-07-07T18:14:02.161Z"
   },
   {
    "duration": 28,
    "start_time": "2021-07-07T18:14:44.295Z"
   },
   {
    "duration": 6,
    "start_time": "2021-07-07T18:15:05.834Z"
   },
   {
    "duration": 511,
    "start_time": "2021-07-07T18:15:41.541Z"
   },
   {
    "duration": 183,
    "start_time": "2021-07-07T18:15:42.054Z"
   },
   {
    "duration": 50,
    "start_time": "2021-07-07T18:15:42.239Z"
   },
   {
    "duration": 5,
    "start_time": "2021-07-07T18:15:42.291Z"
   },
   {
    "duration": 48,
    "start_time": "2021-07-07T18:15:42.297Z"
   },
   {
    "duration": 8,
    "start_time": "2021-07-07T18:15:42.346Z"
   },
   {
    "duration": 17,
    "start_time": "2021-07-07T18:15:42.356Z"
   },
   {
    "duration": 15,
    "start_time": "2021-07-07T18:15:42.375Z"
   },
   {
    "duration": 12,
    "start_time": "2021-07-07T18:15:42.392Z"
   },
   {
    "duration": 7,
    "start_time": "2021-07-07T18:15:42.406Z"
   },
   {
    "duration": 7,
    "start_time": "2021-07-07T18:15:42.415Z"
   },
   {
    "duration": 29,
    "start_time": "2021-07-07T18:15:42.423Z"
   },
   {
    "duration": 43,
    "start_time": "2021-07-07T18:15:42.453Z"
   },
   {
    "duration": 18,
    "start_time": "2021-07-07T18:15:42.497Z"
   },
   {
    "duration": 6,
    "start_time": "2021-07-07T18:15:42.516Z"
   },
   {
    "duration": 3,
    "start_time": "2021-07-07T18:15:42.523Z"
   },
   {
    "duration": 18,
    "start_time": "2021-07-07T18:15:42.528Z"
   },
   {
    "duration": 10,
    "start_time": "2021-07-07T18:15:42.547Z"
   },
   {
    "duration": 36,
    "start_time": "2021-07-07T18:15:42.559Z"
   },
   {
    "duration": 8,
    "start_time": "2021-07-07T18:15:42.597Z"
   },
   {
    "duration": 28,
    "start_time": "2021-07-07T18:15:42.606Z"
   },
   {
    "duration": 52,
    "start_time": "2021-07-07T18:15:42.635Z"
   },
   {
    "duration": 7,
    "start_time": "2021-07-07T18:15:42.690Z"
   },
   {
    "duration": 10,
    "start_time": "2021-07-07T18:15:42.699Z"
   },
   {
    "duration": 19,
    "start_time": "2021-07-07T18:15:42.711Z"
   },
   {
    "duration": 9,
    "start_time": "2021-07-07T18:15:42.732Z"
   },
   {
    "duration": 5,
    "start_time": "2021-07-07T18:15:42.743Z"
   },
   {
    "duration": 1450,
    "start_time": "2021-07-07T18:15:51.984Z"
   },
   {
    "duration": 161,
    "start_time": "2021-07-07T18:15:53.435Z"
   },
   {
    "duration": 124,
    "start_time": "2021-07-07T18:15:53.598Z"
   },
   {
    "duration": 5,
    "start_time": "2021-07-07T18:15:53.724Z"
   },
   {
    "duration": 34,
    "start_time": "2021-07-07T18:15:53.730Z"
   },
   {
    "duration": 7,
    "start_time": "2021-07-07T18:15:53.765Z"
   },
   {
    "duration": 15,
    "start_time": "2021-07-07T18:15:53.773Z"
   },
   {
    "duration": 5,
    "start_time": "2021-07-07T18:15:53.791Z"
   },
   {
    "duration": 19,
    "start_time": "2021-07-07T18:15:53.798Z"
   },
   {
    "duration": 9,
    "start_time": "2021-07-07T18:15:53.818Z"
   },
   {
    "duration": 19,
    "start_time": "2021-07-07T18:15:53.828Z"
   },
   {
    "duration": 27,
    "start_time": "2021-07-07T18:15:53.848Z"
   },
   {
    "duration": 16,
    "start_time": "2021-07-07T18:15:53.884Z"
   },
   {
    "duration": 29,
    "start_time": "2021-07-07T18:15:53.901Z"
   },
   {
    "duration": 5,
    "start_time": "2021-07-07T18:15:53.932Z"
   },
   {
    "duration": 15,
    "start_time": "2021-07-07T18:15:53.939Z"
   },
   {
    "duration": 13,
    "start_time": "2021-07-07T18:15:53.956Z"
   },
   {
    "duration": 20,
    "start_time": "2021-07-07T18:15:53.971Z"
   },
   {
    "duration": 14,
    "start_time": "2021-07-07T18:15:53.992Z"
   },
   {
    "duration": 9,
    "start_time": "2021-07-07T18:15:54.009Z"
   },
   {
    "duration": 28,
    "start_time": "2021-07-07T18:15:54.020Z"
   },
   {
    "duration": 50,
    "start_time": "2021-07-07T18:15:54.051Z"
   },
   {
    "duration": 8,
    "start_time": "2021-07-07T18:15:54.105Z"
   },
   {
    "duration": 11,
    "start_time": "2021-07-07T18:15:54.115Z"
   },
   {
    "duration": 20,
    "start_time": "2021-07-07T18:15:54.128Z"
   },
   {
    "duration": 13,
    "start_time": "2021-07-07T18:15:54.184Z"
   },
   {
    "duration": 7,
    "start_time": "2021-07-07T18:15:54.199Z"
   },
   {
    "duration": 7,
    "start_time": "2021-07-07T18:17:08.042Z"
   },
   {
    "duration": 8,
    "start_time": "2021-07-07T18:17:21.008Z"
   },
   {
    "duration": 7,
    "start_time": "2021-07-07T18:17:29.003Z"
   },
   {
    "duration": 8,
    "start_time": "2021-07-07T18:17:32.492Z"
   },
   {
    "duration": 9,
    "start_time": "2021-07-07T18:17:41.758Z"
   },
   {
    "duration": 255,
    "start_time": "2021-07-07T18:20:20.897Z"
   },
   {
    "duration": 173,
    "start_time": "2021-07-07T18:20:26.636Z"
   },
   {
    "duration": 7,
    "start_time": "2021-07-07T18:21:47.164Z"
   },
   {
    "duration": 254,
    "start_time": "2021-07-07T18:23:08.703Z"
   },
   {
    "duration": 21,
    "start_time": "2021-07-07T18:23:22.506Z"
   },
   {
    "duration": 315,
    "start_time": "2021-07-07T18:25:54.801Z"
   },
   {
    "duration": 34,
    "start_time": "2021-07-07T18:26:51.817Z"
   },
   {
    "duration": 327,
    "start_time": "2021-07-07T18:26:56.147Z"
   },
   {
    "duration": 342,
    "start_time": "2021-07-07T18:27:15.887Z"
   },
   {
    "duration": 302,
    "start_time": "2021-07-07T18:28:18.569Z"
   },
   {
    "duration": 226,
    "start_time": "2021-07-07T18:29:20.879Z"
   },
   {
    "duration": 207,
    "start_time": "2021-07-07T18:29:58.114Z"
   },
   {
    "duration": 140,
    "start_time": "2021-07-07T18:32:04.372Z"
   },
   {
    "duration": 158,
    "start_time": "2021-07-07T18:32:32.508Z"
   },
   {
    "duration": 145,
    "start_time": "2021-07-07T18:32:41.365Z"
   },
   {
    "duration": 132,
    "start_time": "2021-07-07T18:32:45.199Z"
   },
   {
    "duration": 11,
    "start_time": "2021-07-07T18:35:24.679Z"
   },
   {
    "duration": 268,
    "start_time": "2021-07-07T18:36:16.145Z"
   },
   {
    "duration": 227,
    "start_time": "2021-07-07T18:37:04.918Z"
   },
   {
    "duration": 3,
    "start_time": "2021-07-07T18:37:33.012Z"
   },
   {
    "duration": 671,
    "start_time": "2021-07-07T18:37:38.295Z"
   },
   {
    "duration": 54,
    "start_time": "2021-07-07T18:37:53.406Z"
   },
   {
    "duration": 631,
    "start_time": "2021-07-07T18:37:56.463Z"
   },
   {
    "duration": 19,
    "start_time": "2021-07-07T18:39:40.535Z"
   },
   {
    "duration": 20,
    "start_time": "2021-07-07T18:40:12.236Z"
   },
   {
    "duration": 633,
    "start_time": "2021-07-07T18:42:00.398Z"
   },
   {
    "duration": 218,
    "start_time": "2021-07-07T18:42:01.033Z"
   },
   {
    "duration": 49,
    "start_time": "2021-07-07T18:42:01.253Z"
   },
   {
    "duration": 5,
    "start_time": "2021-07-07T18:42:01.303Z"
   },
   {
    "duration": 27,
    "start_time": "2021-07-07T18:42:01.310Z"
   },
   {
    "duration": 8,
    "start_time": "2021-07-07T18:42:01.339Z"
   },
   {
    "duration": 20,
    "start_time": "2021-07-07T18:42:01.348Z"
   },
   {
    "duration": 6,
    "start_time": "2021-07-07T18:42:01.386Z"
   },
   {
    "duration": 16,
    "start_time": "2021-07-07T18:42:01.394Z"
   },
   {
    "duration": 9,
    "start_time": "2021-07-07T18:42:01.411Z"
   },
   {
    "duration": 11,
    "start_time": "2021-07-07T18:42:01.421Z"
   },
   {
    "duration": 31,
    "start_time": "2021-07-07T18:42:01.434Z"
   },
   {
    "duration": 18,
    "start_time": "2021-07-07T18:42:01.485Z"
   },
   {
    "duration": 23,
    "start_time": "2021-07-07T18:42:01.505Z"
   },
   {
    "duration": 6,
    "start_time": "2021-07-07T18:42:01.530Z"
   },
   {
    "duration": 10,
    "start_time": "2021-07-07T18:42:01.538Z"
   },
   {
    "duration": 13,
    "start_time": "2021-07-07T18:42:01.550Z"
   },
   {
    "duration": 24,
    "start_time": "2021-07-07T18:42:01.564Z"
   },
   {
    "duration": 20,
    "start_time": "2021-07-07T18:42:01.590Z"
   },
   {
    "duration": 8,
    "start_time": "2021-07-07T18:42:01.611Z"
   },
   {
    "duration": 31,
    "start_time": "2021-07-07T18:42:01.620Z"
   },
   {
    "duration": 39,
    "start_time": "2021-07-07T18:42:01.653Z"
   },
   {
    "duration": 8,
    "start_time": "2021-07-07T18:42:01.696Z"
   },
   {
    "duration": 13,
    "start_time": "2021-07-07T18:42:01.705Z"
   },
   {
    "duration": 20,
    "start_time": "2021-07-07T18:42:01.720Z"
   },
   {
    "duration": 12,
    "start_time": "2021-07-07T18:42:01.741Z"
   },
   {
    "duration": 35,
    "start_time": "2021-07-07T18:42:01.755Z"
   },
   {
    "duration": 14,
    "start_time": "2021-07-07T18:42:01.792Z"
   },
   {
    "duration": 188,
    "start_time": "2021-07-07T18:42:01.808Z"
   },
   {
    "duration": 19,
    "start_time": "2021-07-07T18:42:01.998Z"
   },
   {
    "duration": 175,
    "start_time": "2021-07-07T18:42:02.019Z"
   },
   {
    "duration": 134,
    "start_time": "2021-07-07T18:42:02.196Z"
   },
   {
    "duration": 10,
    "start_time": "2021-07-07T18:42:02.331Z"
   },
   {
    "duration": 19,
    "start_time": "2021-07-07T18:42:02.343Z"
   },
   {
    "duration": 628,
    "start_time": "2021-07-07T18:46:30.701Z"
   },
   {
    "duration": 183,
    "start_time": "2021-07-07T18:46:31.331Z"
   },
   {
    "duration": 48,
    "start_time": "2021-07-07T18:46:31.516Z"
   },
   {
    "duration": 5,
    "start_time": "2021-07-07T18:46:31.566Z"
   },
   {
    "duration": 28,
    "start_time": "2021-07-07T18:46:31.572Z"
   },
   {
    "duration": 8,
    "start_time": "2021-07-07T18:46:31.602Z"
   },
   {
    "duration": 19,
    "start_time": "2021-07-07T18:46:31.611Z"
   },
   {
    "duration": 6,
    "start_time": "2021-07-07T18:46:31.633Z"
   },
   {
    "duration": 17,
    "start_time": "2021-07-07T18:46:31.642Z"
   },
   {
    "duration": 10,
    "start_time": "2021-07-07T18:46:31.684Z"
   },
   {
    "duration": 9,
    "start_time": "2021-07-07T18:46:31.695Z"
   },
   {
    "duration": 28,
    "start_time": "2021-07-07T18:46:31.705Z"
   },
   {
    "duration": 18,
    "start_time": "2021-07-07T18:46:31.735Z"
   },
   {
    "duration": 48,
    "start_time": "2021-07-07T18:46:31.755Z"
   },
   {
    "duration": 6,
    "start_time": "2021-07-07T18:46:31.804Z"
   },
   {
    "duration": 4,
    "start_time": "2021-07-07T18:46:31.812Z"
   },
   {
    "duration": 9,
    "start_time": "2021-07-07T18:46:31.817Z"
   },
   {
    "duration": 10,
    "start_time": "2021-07-07T18:46:31.827Z"
   },
   {
    "duration": 12,
    "start_time": "2021-07-07T18:46:31.838Z"
   },
   {
    "duration": 39,
    "start_time": "2021-07-07T18:46:31.851Z"
   },
   {
    "duration": 24,
    "start_time": "2021-07-07T18:46:31.892Z"
   },
   {
    "duration": 15,
    "start_time": "2021-07-07T18:46:31.918Z"
   },
   {
    "duration": 7,
    "start_time": "2021-07-07T18:46:31.936Z"
   },
   {
    "duration": 8,
    "start_time": "2021-07-07T18:46:31.944Z"
   },
   {
    "duration": 19,
    "start_time": "2021-07-07T18:46:31.984Z"
   },
   {
    "duration": 10,
    "start_time": "2021-07-07T18:46:32.004Z"
   },
   {
    "duration": 5,
    "start_time": "2021-07-07T18:46:32.016Z"
   },
   {
    "duration": 9,
    "start_time": "2021-07-07T18:46:32.023Z"
   },
   {
    "duration": 199,
    "start_time": "2021-07-07T18:46:32.033Z"
   },
   {
    "duration": 19,
    "start_time": "2021-07-07T18:46:32.234Z"
   },
   {
    "duration": 159,
    "start_time": "2021-07-07T18:46:32.255Z"
   },
   {
    "duration": 134,
    "start_time": "2021-07-07T18:46:32.416Z"
   },
   {
    "duration": 10,
    "start_time": "2021-07-07T18:46:32.552Z"
   },
   {
    "duration": 34,
    "start_time": "2021-07-07T18:46:32.563Z"
   },
   {
    "duration": 1039,
    "start_time": "2021-07-08T08:41:09.419Z"
   },
   {
    "duration": 333,
    "start_time": "2021-07-08T08:41:10.459Z"
   },
   {
    "duration": 173,
    "start_time": "2021-07-08T08:41:10.794Z"
   },
   {
    "duration": 5,
    "start_time": "2021-07-08T08:41:10.968Z"
   },
   {
    "duration": 25,
    "start_time": "2021-07-08T08:41:10.975Z"
   },
   {
    "duration": 9,
    "start_time": "2021-07-08T08:41:11.002Z"
   },
   {
    "duration": 18,
    "start_time": "2021-07-08T08:41:11.013Z"
   },
   {
    "duration": 6,
    "start_time": "2021-07-08T08:41:11.033Z"
   },
   {
    "duration": 44,
    "start_time": "2021-07-08T08:41:11.042Z"
   },
   {
    "duration": 10,
    "start_time": "2021-07-08T08:41:11.088Z"
   },
   {
    "duration": 9,
    "start_time": "2021-07-08T08:41:11.100Z"
   },
   {
    "duration": 27,
    "start_time": "2021-07-08T08:41:11.111Z"
   },
   {
    "duration": 46,
    "start_time": "2021-07-08T08:41:11.140Z"
   },
   {
    "duration": 17,
    "start_time": "2021-07-08T08:41:11.187Z"
   },
   {
    "duration": 6,
    "start_time": "2021-07-08T08:41:11.206Z"
   },
   {
    "duration": 5,
    "start_time": "2021-07-08T08:41:11.213Z"
   },
   {
    "duration": 10,
    "start_time": "2021-07-08T08:41:11.219Z"
   },
   {
    "duration": 9,
    "start_time": "2021-07-08T08:41:11.230Z"
   },
   {
    "duration": 45,
    "start_time": "2021-07-08T08:41:11.241Z"
   },
   {
    "duration": 7,
    "start_time": "2021-07-08T08:41:11.287Z"
   },
   {
    "duration": 24,
    "start_time": "2021-07-08T08:41:11.296Z"
   },
   {
    "duration": 16,
    "start_time": "2021-07-08T08:41:11.322Z"
   },
   {
    "duration": 7,
    "start_time": "2021-07-08T08:41:11.341Z"
   },
   {
    "duration": 41,
    "start_time": "2021-07-08T08:41:11.349Z"
   },
   {
    "duration": 17,
    "start_time": "2021-07-08T08:41:11.391Z"
   },
   {
    "duration": 9,
    "start_time": "2021-07-08T08:41:11.410Z"
   },
   {
    "duration": 5,
    "start_time": "2021-07-08T08:41:11.421Z"
   },
   {
    "duration": 6,
    "start_time": "2021-07-08T08:41:11.428Z"
   },
   {
    "duration": 198,
    "start_time": "2021-07-08T08:41:11.435Z"
   },
   {
    "duration": 18,
    "start_time": "2021-07-08T08:41:11.635Z"
   },
   {
    "duration": 155,
    "start_time": "2021-07-08T08:41:11.655Z"
   },
   {
    "duration": 138,
    "start_time": "2021-07-08T08:41:11.811Z"
   },
   {
    "duration": 10,
    "start_time": "2021-07-08T08:41:11.950Z"
   },
   {
    "duration": 29,
    "start_time": "2021-07-08T08:41:11.961Z"
   },
   {
    "duration": 171,
    "start_time": "2021-07-08T08:47:44.522Z"
   },
   {
    "duration": 124,
    "start_time": "2021-07-08T08:47:46.872Z"
   },
   {
    "duration": 191,
    "start_time": "2021-07-08T08:47:58.148Z"
   },
   {
    "duration": 191,
    "start_time": "2021-07-08T08:48:07.412Z"
   },
   {
    "duration": 261,
    "start_time": "2021-07-08T08:48:10.385Z"
   },
   {
    "duration": 255,
    "start_time": "2021-07-08T08:48:14.494Z"
   },
   {
    "duration": 219,
    "start_time": "2021-07-08T08:48:22.752Z"
   },
   {
    "duration": 173,
    "start_time": "2021-07-08T08:49:06.395Z"
   },
   {
    "duration": 180,
    "start_time": "2021-07-08T08:49:21.011Z"
   },
   {
    "duration": 6,
    "start_time": "2021-07-08T08:50:31.697Z"
   },
   {
    "duration": 10,
    "start_time": "2021-07-08T08:50:47.394Z"
   },
   {
    "duration": 11,
    "start_time": "2021-07-08T08:53:49.332Z"
   },
   {
    "duration": 171,
    "start_time": "2021-07-08T08:54:28.408Z"
   },
   {
    "duration": 636,
    "start_time": "2021-07-08T09:02:48.385Z"
   },
   {
    "duration": 227,
    "start_time": "2021-07-08T09:02:49.023Z"
   },
   {
    "duration": 104,
    "start_time": "2021-07-08T09:02:49.252Z"
   },
   {
    "duration": 5,
    "start_time": "2021-07-08T09:02:49.358Z"
   },
   {
    "duration": 27,
    "start_time": "2021-07-08T09:02:49.365Z"
   },
   {
    "duration": 8,
    "start_time": "2021-07-08T09:02:49.394Z"
   },
   {
    "duration": 18,
    "start_time": "2021-07-08T09:02:49.404Z"
   },
   {
    "duration": 6,
    "start_time": "2021-07-08T09:02:49.424Z"
   },
   {
    "duration": 11,
    "start_time": "2021-07-08T09:02:49.433Z"
   },
   {
    "duration": 13,
    "start_time": "2021-07-08T09:02:49.485Z"
   },
   {
    "duration": 9,
    "start_time": "2021-07-08T09:02:49.500Z"
   },
   {
    "duration": 38,
    "start_time": "2021-07-08T09:02:49.511Z"
   },
   {
    "duration": 42,
    "start_time": "2021-07-08T09:02:49.551Z"
   },
   {
    "duration": 21,
    "start_time": "2021-07-08T09:02:49.594Z"
   },
   {
    "duration": 6,
    "start_time": "2021-07-08T09:02:49.616Z"
   },
   {
    "duration": 3,
    "start_time": "2021-07-08T09:02:49.623Z"
   },
   {
    "duration": 9,
    "start_time": "2021-07-08T09:02:49.628Z"
   },
   {
    "duration": 52,
    "start_time": "2021-07-08T09:02:49.638Z"
   },
   {
    "duration": 11,
    "start_time": "2021-07-08T09:02:49.692Z"
   },
   {
    "duration": 8,
    "start_time": "2021-07-08T09:02:49.704Z"
   },
   {
    "duration": 27,
    "start_time": "2021-07-08T09:02:49.713Z"
   },
   {
    "duration": 59,
    "start_time": "2021-07-08T09:02:49.741Z"
   },
   {
    "duration": 8,
    "start_time": "2021-07-08T09:02:49.803Z"
   },
   {
    "duration": 14,
    "start_time": "2021-07-08T09:02:49.813Z"
   },
   {
    "duration": 20,
    "start_time": "2021-07-08T09:02:49.829Z"
   },
   {
    "duration": 44,
    "start_time": "2021-07-08T09:02:49.851Z"
   },
   {
    "duration": 14,
    "start_time": "2021-07-08T09:02:49.896Z"
   },
   {
    "duration": 221,
    "start_time": "2021-07-08T09:02:49.912Z"
   },
   {
    "duration": 6,
    "start_time": "2021-07-08T09:02:50.134Z"
   },
   {
    "duration": 206,
    "start_time": "2021-07-08T09:02:50.142Z"
   },
   {
    "duration": 19,
    "start_time": "2021-07-08T09:02:50.350Z"
   },
   {
    "duration": 21,
    "start_time": "2021-07-08T09:02:50.370Z"
   },
   {
    "duration": 20,
    "start_time": "2021-07-08T09:02:50.393Z"
   },
   {
    "duration": 5,
    "start_time": "2021-07-08T09:02:50.414Z"
   },
   {
    "duration": 5,
    "start_time": "2021-07-08T09:03:34.173Z"
   },
   {
    "duration": 6,
    "start_time": "2021-07-08T09:04:49.062Z"
   },
   {
    "duration": 9,
    "start_time": "2021-07-08T09:04:50.118Z"
   },
   {
    "duration": 14,
    "start_time": "2021-07-08T09:04:58.512Z"
   },
   {
    "duration": 9,
    "start_time": "2021-07-08T09:05:10.988Z"
   },
   {
    "duration": 11,
    "start_time": "2021-07-08T09:05:11.743Z"
   },
   {
    "duration": 7,
    "start_time": "2021-07-08T09:05:25.677Z"
   },
   {
    "duration": 13,
    "start_time": "2021-07-08T09:05:47.189Z"
   },
   {
    "duration": 13,
    "start_time": "2021-07-08T09:05:54.755Z"
   },
   {
    "duration": 4,
    "start_time": "2021-07-08T09:06:29.189Z"
   },
   {
    "duration": 244,
    "start_time": "2021-07-08T09:06:29.195Z"
   },
   {
    "duration": 91,
    "start_time": "2021-07-08T09:06:29.441Z"
   },
   {
    "duration": 4,
    "start_time": "2021-07-08T09:06:29.534Z"
   },
   {
    "duration": 28,
    "start_time": "2021-07-08T09:06:29.540Z"
   },
   {
    "duration": 6,
    "start_time": "2021-07-08T09:06:29.570Z"
   },
   {
    "duration": 18,
    "start_time": "2021-07-08T09:06:29.578Z"
   },
   {
    "duration": 5,
    "start_time": "2021-07-08T09:06:29.597Z"
   },
   {
    "duration": 13,
    "start_time": "2021-07-08T09:06:29.605Z"
   },
   {
    "duration": 8,
    "start_time": "2021-07-08T09:06:29.620Z"
   },
   {
    "duration": 7,
    "start_time": "2021-07-08T09:06:29.630Z"
   },
   {
    "duration": 63,
    "start_time": "2021-07-08T09:06:29.639Z"
   },
   {
    "duration": 17,
    "start_time": "2021-07-08T09:06:29.704Z"
   },
   {
    "duration": 20,
    "start_time": "2021-07-08T09:06:29.723Z"
   },
   {
    "duration": 6,
    "start_time": "2021-07-08T09:06:29.745Z"
   },
   {
    "duration": 3,
    "start_time": "2021-07-08T09:06:29.752Z"
   },
   {
    "duration": 7,
    "start_time": "2021-07-08T09:06:29.785Z"
   },
   {
    "duration": 11,
    "start_time": "2021-07-08T09:06:29.794Z"
   },
   {
    "duration": 15,
    "start_time": "2021-07-08T09:06:29.807Z"
   },
   {
    "duration": 8,
    "start_time": "2021-07-08T09:06:29.823Z"
   },
   {
    "duration": 70,
    "start_time": "2021-07-08T09:06:29.832Z"
   },
   {
    "duration": 17,
    "start_time": "2021-07-08T09:06:29.903Z"
   },
   {
    "duration": 9,
    "start_time": "2021-07-08T09:06:29.921Z"
   },
   {
    "duration": 9,
    "start_time": "2021-07-08T09:06:29.932Z"
   },
   {
    "duration": 57,
    "start_time": "2021-07-08T09:06:29.942Z"
   },
   {
    "duration": 11,
    "start_time": "2021-07-08T09:06:30.001Z"
   },
   {
    "duration": 19,
    "start_time": "2021-07-08T09:06:30.016Z"
   },
   {
    "duration": 217,
    "start_time": "2021-07-08T09:06:30.037Z"
   },
   {
    "duration": 6,
    "start_time": "2021-07-08T09:06:30.255Z"
   },
   {
    "duration": 205,
    "start_time": "2021-07-08T09:06:30.263Z"
   },
   {
    "duration": 27,
    "start_time": "2021-07-08T09:06:30.470Z"
   },
   {
    "duration": 11,
    "start_time": "2021-07-08T09:06:30.500Z"
   },
   {
    "duration": 31,
    "start_time": "2021-07-08T09:06:30.513Z"
   },
   {
    "duration": 18,
    "start_time": "2021-07-08T09:06:30.546Z"
   },
   {
    "duration": 11,
    "start_time": "2021-07-08T09:06:30.566Z"
   },
   {
    "duration": 19,
    "start_time": "2021-07-08T09:06:30.579Z"
   },
   {
    "duration": 20,
    "start_time": "2021-07-08T09:06:49.466Z"
   },
   {
    "duration": 9,
    "start_time": "2021-07-08T09:06:51.994Z"
   },
   {
    "duration": 20,
    "start_time": "2021-07-08T09:06:52.273Z"
   },
   {
    "duration": 246,
    "start_time": "2021-07-08T09:10:21.272Z"
   },
   {
    "duration": 84,
    "start_time": "2021-07-08T09:10:21.436Z"
   },
   {
    "duration": 7,
    "start_time": "2021-07-08T09:10:37.608Z"
   },
   {
    "duration": 189,
    "start_time": "2021-07-08T09:10:38.573Z"
   },
   {
    "duration": 185,
    "start_time": "2021-07-08T09:10:53.181Z"
   },
   {
    "duration": 11,
    "start_time": "2021-07-08T09:10:59.549Z"
   },
   {
    "duration": 42,
    "start_time": "2021-07-08T09:10:59.709Z"
   },
   {
    "duration": 12,
    "start_time": "2021-07-08T09:11:02.857Z"
   },
   {
    "duration": 28,
    "start_time": "2021-07-08T09:11:10.062Z"
   },
   {
    "duration": 249,
    "start_time": "2021-07-08T09:11:37.388Z"
   },
   {
    "duration": 232,
    "start_time": "2021-07-08T09:11:49.485Z"
   },
   {
    "duration": 453,
    "start_time": "2021-07-08T09:12:01.546Z"
   },
   {
    "duration": 440,
    "start_time": "2021-07-08T09:12:12.347Z"
   },
   {
    "duration": 213,
    "start_time": "2021-07-08T09:13:32.196Z"
   },
   {
    "duration": 172,
    "start_time": "2021-07-08T09:14:07.400Z"
   },
   {
    "duration": 185,
    "start_time": "2021-07-08T09:14:14.905Z"
   },
   {
    "duration": 209,
    "start_time": "2021-07-08T09:14:40.109Z"
   },
   {
    "duration": 201,
    "start_time": "2021-07-08T09:14:54.506Z"
   },
   {
    "duration": 622,
    "start_time": "2021-07-08T09:18:14.497Z"
   },
   {
    "duration": 220,
    "start_time": "2021-07-08T09:18:15.121Z"
   },
   {
    "duration": 79,
    "start_time": "2021-07-08T09:18:15.343Z"
   },
   {
    "duration": 4,
    "start_time": "2021-07-08T09:18:15.425Z"
   },
   {
    "duration": 24,
    "start_time": "2021-07-08T09:18:15.431Z"
   },
   {
    "duration": 8,
    "start_time": "2021-07-08T09:18:15.457Z"
   },
   {
    "duration": 16,
    "start_time": "2021-07-08T09:18:15.466Z"
   },
   {
    "duration": 5,
    "start_time": "2021-07-08T09:18:15.484Z"
   },
   {
    "duration": 10,
    "start_time": "2021-07-08T09:18:15.493Z"
   },
   {
    "duration": 8,
    "start_time": "2021-07-08T09:18:15.504Z"
   },
   {
    "duration": 7,
    "start_time": "2021-07-08T09:18:15.513Z"
   },
   {
    "duration": 26,
    "start_time": "2021-07-08T09:18:15.522Z"
   },
   {
    "duration": 49,
    "start_time": "2021-07-08T09:18:15.550Z"
   },
   {
    "duration": 21,
    "start_time": "2021-07-08T09:18:15.601Z"
   },
   {
    "duration": 8,
    "start_time": "2021-07-08T09:18:15.624Z"
   },
   {
    "duration": 3,
    "start_time": "2021-07-08T09:18:15.634Z"
   },
   {
    "duration": 8,
    "start_time": "2021-07-08T09:18:15.639Z"
   },
   {
    "duration": 45,
    "start_time": "2021-07-08T09:18:15.649Z"
   },
   {
    "duration": 13,
    "start_time": "2021-07-08T09:18:15.696Z"
   },
   {
    "duration": 10,
    "start_time": "2021-07-08T09:18:15.711Z"
   },
   {
    "duration": 64,
    "start_time": "2021-07-08T09:18:15.722Z"
   },
   {
    "duration": 19,
    "start_time": "2021-07-08T09:18:15.788Z"
   },
   {
    "duration": 9,
    "start_time": "2021-07-08T09:18:15.809Z"
   },
   {
    "duration": 9,
    "start_time": "2021-07-08T09:18:15.820Z"
   },
   {
    "duration": 18,
    "start_time": "2021-07-08T09:18:15.831Z"
   },
   {
    "duration": 43,
    "start_time": "2021-07-08T09:18:15.851Z"
   },
   {
    "duration": 12,
    "start_time": "2021-07-08T09:18:15.897Z"
   },
   {
    "duration": 219,
    "start_time": "2021-07-08T09:18:15.911Z"
   },
   {
    "duration": 8,
    "start_time": "2021-07-08T09:18:16.132Z"
   },
   {
    "duration": 199,
    "start_time": "2021-07-08T09:18:16.141Z"
   },
   {
    "duration": 18,
    "start_time": "2021-07-08T09:18:16.341Z"
   },
   {
    "duration": 24,
    "start_time": "2021-07-08T09:18:16.361Z"
   },
   {
    "duration": 24,
    "start_time": "2021-07-08T09:18:16.387Z"
   },
   {
    "duration": 211,
    "start_time": "2021-07-08T09:18:16.413Z"
   },
   {
    "duration": 18,
    "start_time": "2021-07-08T09:18:16.626Z"
   },
   {
    "duration": 596,
    "start_time": "2021-07-08T10:06:33.623Z"
   },
   {
    "duration": 181,
    "start_time": "2021-07-08T10:06:34.221Z"
   },
   {
    "duration": 176,
    "start_time": "2021-07-08T10:06:34.635Z"
   },
   {
    "duration": 239,
    "start_time": "2021-07-08T10:06:55.572Z"
   },
   {
    "duration": 6,
    "start_time": "2021-07-08T10:06:57.687Z"
   },
   {
    "duration": 4,
    "start_time": "2021-07-08T10:07:03.956Z"
   },
   {
    "duration": 4,
    "start_time": "2021-07-08T10:07:10.376Z"
   },
   {
    "duration": 4,
    "start_time": "2021-07-08T10:17:19.889Z"
   },
   {
    "duration": 3,
    "start_time": "2021-07-08T10:19:19.407Z"
   },
   {
    "duration": 197,
    "start_time": "2021-07-08T10:19:19.412Z"
   },
   {
    "duration": 127,
    "start_time": "2021-07-08T10:19:19.611Z"
   },
   {
    "duration": 4,
    "start_time": "2021-07-08T10:19:19.740Z"
   },
   {
    "duration": 27,
    "start_time": "2021-07-08T10:19:19.746Z"
   },
   {
    "duration": 7,
    "start_time": "2021-07-08T10:19:19.775Z"
   },
   {
    "duration": 30,
    "start_time": "2021-07-08T10:19:19.784Z"
   },
   {
    "duration": 7,
    "start_time": "2021-07-08T10:19:19.817Z"
   },
   {
    "duration": 26,
    "start_time": "2021-07-08T10:19:19.826Z"
   },
   {
    "duration": 18,
    "start_time": "2021-07-08T10:19:19.854Z"
   },
   {
    "duration": 14,
    "start_time": "2021-07-08T10:19:19.874Z"
   },
   {
    "duration": 48,
    "start_time": "2021-07-08T10:19:19.890Z"
   },
   {
    "duration": 17,
    "start_time": "2021-07-08T10:19:19.940Z"
   },
   {
    "duration": 38,
    "start_time": "2021-07-08T10:19:19.959Z"
   },
   {
    "duration": 8,
    "start_time": "2021-07-08T10:19:19.999Z"
   },
   {
    "duration": 15,
    "start_time": "2021-07-08T10:19:20.009Z"
   },
   {
    "duration": 22,
    "start_time": "2021-07-08T10:19:20.026Z"
   },
   {
    "duration": 10,
    "start_time": "2021-07-08T10:19:20.050Z"
   },
   {
    "duration": 10,
    "start_time": "2021-07-08T10:19:20.062Z"
   },
   {
    "duration": 20,
    "start_time": "2021-07-08T10:19:20.073Z"
   },
   {
    "duration": 29,
    "start_time": "2021-07-08T10:19:20.095Z"
   },
   {
    "duration": 17,
    "start_time": "2021-07-08T10:19:20.126Z"
   },
   {
    "duration": 40,
    "start_time": "2021-07-08T10:19:20.146Z"
   },
   {
    "duration": 15,
    "start_time": "2021-07-08T10:19:20.189Z"
   },
   {
    "duration": 19,
    "start_time": "2021-07-08T10:19:20.206Z"
   },
   {
    "duration": 10,
    "start_time": "2021-07-08T10:19:20.226Z"
   },
   {
    "duration": 11,
    "start_time": "2021-07-08T10:19:20.238Z"
   },
   {
    "duration": 297,
    "start_time": "2021-07-08T10:19:20.250Z"
   },
   {
    "duration": 6,
    "start_time": "2021-07-08T10:19:20.549Z"
   },
   {
    "duration": 191,
    "start_time": "2021-07-08T10:19:20.557Z"
   },
   {
    "duration": 19,
    "start_time": "2021-07-08T10:19:20.750Z"
   },
   {
    "duration": 20,
    "start_time": "2021-07-08T10:19:20.771Z"
   },
   {
    "duration": 15,
    "start_time": "2021-07-08T10:19:20.793Z"
   },
   {
    "duration": 222,
    "start_time": "2021-07-08T10:19:20.809Z"
   },
   {
    "duration": 20,
    "start_time": "2021-07-08T10:19:21.033Z"
   },
   {
    "duration": 27,
    "start_time": "2021-07-08T10:45:04.055Z"
   },
   {
    "duration": 8,
    "start_time": "2021-07-08T10:45:08.478Z"
   },
   {
    "duration": 8,
    "start_time": "2021-07-08T10:45:31.982Z"
   },
   {
    "duration": 10,
    "start_time": "2021-07-08T10:46:01.221Z"
   },
   {
    "duration": 17,
    "start_time": "2021-07-08T10:46:40.011Z"
   },
   {
    "duration": 193,
    "start_time": "2021-07-08T10:48:19.471Z"
   },
   {
    "duration": 225,
    "start_time": "2021-07-08T10:49:26.480Z"
   },
   {
    "duration": 204,
    "start_time": "2021-07-08T10:49:59.992Z"
   },
   {
    "duration": 435,
    "start_time": "2021-07-08T10:50:06.779Z"
   },
   {
    "duration": 199,
    "start_time": "2021-07-08T10:50:14.891Z"
   },
   {
    "duration": 204,
    "start_time": "2021-07-08T10:50:18.501Z"
   },
   {
    "duration": 244,
    "start_time": "2021-07-08T10:50:23.359Z"
   },
   {
    "duration": 192,
    "start_time": "2021-07-08T10:50:29.135Z"
   },
   {
    "duration": 218,
    "start_time": "2021-07-08T10:50:33.092Z"
   },
   {
    "duration": 207,
    "start_time": "2021-07-08T10:52:45.381Z"
   },
   {
    "duration": 5,
    "start_time": "2021-07-08T10:53:34.641Z"
   },
   {
    "duration": 196,
    "start_time": "2021-07-08T10:53:41.478Z"
   },
   {
    "duration": 43,
    "start_time": "2021-07-08T10:53:50.335Z"
   },
   {
    "duration": 32,
    "start_time": "2021-07-08T10:53:55.294Z"
   },
   {
    "duration": 55,
    "start_time": "2021-07-08T10:54:09.675Z"
   },
   {
    "duration": 16,
    "start_time": "2021-07-08T10:54:12.260Z"
   },
   {
    "duration": 15,
    "start_time": "2021-07-08T10:54:49.150Z"
   },
   {
    "duration": 20,
    "start_time": "2021-07-08T10:56:07.596Z"
   },
   {
    "duration": 16,
    "start_time": "2021-07-08T10:58:26.276Z"
   },
   {
    "duration": 22,
    "start_time": "2021-07-08T10:59:00.486Z"
   },
   {
    "duration": 18,
    "start_time": "2021-07-08T11:02:09.653Z"
   },
   {
    "duration": 10,
    "start_time": "2021-07-08T11:03:44.331Z"
   },
   {
    "duration": 10,
    "start_time": "2021-07-08T11:03:54.055Z"
   },
   {
    "duration": 12,
    "start_time": "2021-07-08T11:04:41.967Z"
   },
   {
    "duration": 24,
    "start_time": "2021-07-08T11:07:30.732Z"
   },
   {
    "duration": 6,
    "start_time": "2021-07-08T11:07:37.364Z"
   },
   {
    "duration": 16,
    "start_time": "2021-07-08T11:08:01.819Z"
   },
   {
    "duration": 17,
    "start_time": "2021-07-08T11:09:47.488Z"
   },
   {
    "duration": 246,
    "start_time": "2021-07-08T11:10:00.830Z"
   },
   {
    "duration": 18,
    "start_time": "2021-07-08T11:13:55.195Z"
   },
   {
    "duration": 204,
    "start_time": "2021-07-08T11:14:04.951Z"
   },
   {
    "duration": 19,
    "start_time": "2021-07-08T11:15:10.613Z"
   },
   {
    "duration": 680,
    "start_time": "2021-07-08T11:16:25.793Z"
   },
   {
    "duration": 451,
    "start_time": "2021-07-08T11:16:40.313Z"
   },
   {
    "duration": 469,
    "start_time": "2021-07-08T11:17:21.286Z"
   },
   {
    "duration": 20,
    "start_time": "2021-07-08T11:19:12.554Z"
   },
   {
    "duration": 35,
    "start_time": "2021-07-08T11:20:05.484Z"
   },
   {
    "duration": 53,
    "start_time": "2021-07-08T11:21:40.050Z"
   },
   {
    "duration": 13,
    "start_time": "2021-07-08T11:22:26.059Z"
   },
   {
    "duration": 19,
    "start_time": "2021-07-08T11:22:47.419Z"
   },
   {
    "duration": 25,
    "start_time": "2021-07-08T11:23:19.958Z"
   },
   {
    "duration": 29,
    "start_time": "2021-07-08T11:23:25.415Z"
   },
   {
    "duration": 10,
    "start_time": "2021-07-08T11:24:45.138Z"
   },
   {
    "duration": 19,
    "start_time": "2021-07-08T11:24:54.498Z"
   },
   {
    "duration": 12,
    "start_time": "2021-07-08T11:25:32.225Z"
   },
   {
    "duration": 19,
    "start_time": "2021-07-08T11:25:37.092Z"
   },
   {
    "duration": 17,
    "start_time": "2021-07-08T11:25:58.116Z"
   },
   {
    "duration": 15,
    "start_time": "2021-07-08T11:26:02.258Z"
   },
   {
    "duration": 8,
    "start_time": "2021-07-08T11:26:59.682Z"
   },
   {
    "duration": 184,
    "start_time": "2021-07-08T11:27:21.894Z"
   },
   {
    "duration": 8,
    "start_time": "2021-07-08T11:27:23.824Z"
   },
   {
    "duration": 202,
    "start_time": "2021-07-08T11:27:23.962Z"
   },
   {
    "duration": 360,
    "start_time": "2021-07-08T11:28:33.215Z"
   },
   {
    "duration": 231,
    "start_time": "2021-07-08T11:32:05.542Z"
   },
   {
    "duration": 607,
    "start_time": "2021-07-08T11:36:27.854Z"
   },
   {
    "duration": 241,
    "start_time": "2021-07-08T11:36:28.463Z"
   },
   {
    "duration": 67,
    "start_time": "2021-07-08T11:36:28.709Z"
   },
   {
    "duration": 5,
    "start_time": "2021-07-08T11:36:28.778Z"
   },
   {
    "duration": 32,
    "start_time": "2021-07-08T11:36:28.784Z"
   },
   {
    "duration": 11,
    "start_time": "2021-07-08T11:36:28.819Z"
   },
   {
    "duration": 20,
    "start_time": "2021-07-08T11:36:28.834Z"
   },
   {
    "duration": 36,
    "start_time": "2021-07-08T11:36:28.857Z"
   },
   {
    "duration": 16,
    "start_time": "2021-07-08T11:36:28.895Z"
   },
   {
    "duration": 14,
    "start_time": "2021-07-08T11:36:28.913Z"
   },
   {
    "duration": 9,
    "start_time": "2021-07-08T11:36:28.930Z"
   },
   {
    "duration": 55,
    "start_time": "2021-07-08T11:36:28.941Z"
   },
   {
    "duration": 27,
    "start_time": "2021-07-08T11:36:28.999Z"
   },
   {
    "duration": 30,
    "start_time": "2021-07-08T11:36:29.028Z"
   },
   {
    "duration": 31,
    "start_time": "2021-07-08T11:36:29.060Z"
   },
   {
    "duration": 3,
    "start_time": "2021-07-08T11:36:29.093Z"
   },
   {
    "duration": 12,
    "start_time": "2021-07-08T11:36:29.099Z"
   },
   {
    "duration": 11,
    "start_time": "2021-07-08T11:36:29.112Z"
   },
   {
    "duration": 12,
    "start_time": "2021-07-08T11:36:29.125Z"
   },
   {
    "duration": 9,
    "start_time": "2021-07-08T11:36:29.139Z"
   },
   {
    "duration": 31,
    "start_time": "2021-07-08T11:36:29.191Z"
   },
   {
    "duration": 17,
    "start_time": "2021-07-08T11:36:29.226Z"
   },
   {
    "duration": 7,
    "start_time": "2021-07-08T11:36:29.245Z"
   },
   {
    "duration": 10,
    "start_time": "2021-07-08T11:36:29.254Z"
   },
   {
    "duration": 30,
    "start_time": "2021-07-08T11:36:29.292Z"
   },
   {
    "duration": 11,
    "start_time": "2021-07-08T11:36:29.324Z"
   },
   {
    "duration": 11,
    "start_time": "2021-07-08T11:36:29.337Z"
   },
   {
    "duration": 230,
    "start_time": "2021-07-08T11:36:29.349Z"
   },
   {
    "duration": 13,
    "start_time": "2021-07-08T11:36:29.588Z"
   },
   {
    "duration": 205,
    "start_time": "2021-07-08T11:36:29.603Z"
   },
   {
    "duration": 20,
    "start_time": "2021-07-08T11:36:29.810Z"
   },
   {
    "duration": 9,
    "start_time": "2021-07-08T11:36:29.832Z"
   },
   {
    "duration": 16,
    "start_time": "2021-07-08T11:36:29.843Z"
   },
   {
    "duration": 283,
    "start_time": "2021-07-08T11:36:29.861Z"
   },
   {
    "duration": 50,
    "start_time": "2021-07-08T11:36:30.146Z"
   },
   {
    "duration": 14,
    "start_time": "2021-07-08T11:36:30.198Z"
   },
   {
    "duration": 11,
    "start_time": "2021-07-08T11:36:30.214Z"
   },
   {
    "duration": 245,
    "start_time": "2021-07-08T11:36:30.227Z"
   },
   {
    "duration": 439,
    "start_time": "2021-07-08T11:36:30.474Z"
   },
   {
    "duration": 210,
    "start_time": "2021-07-08T11:36:30.915Z"
   },
   {
    "duration": 15,
    "start_time": "2021-07-08T11:36:31.127Z"
   },
   {
    "duration": 17,
    "start_time": "2021-07-08T11:38:20.451Z"
   },
   {
    "duration": 642,
    "start_time": "2021-07-08T11:46:17.881Z"
   },
   {
    "duration": 210,
    "start_time": "2021-07-08T11:46:18.525Z"
   },
   {
    "duration": 104,
    "start_time": "2021-07-08T11:46:18.741Z"
   },
   {
    "duration": 8,
    "start_time": "2021-07-08T11:46:18.847Z"
   },
   {
    "duration": 25,
    "start_time": "2021-07-08T11:46:18.857Z"
   },
   {
    "duration": 14,
    "start_time": "2021-07-08T11:46:18.884Z"
   },
   {
    "duration": 22,
    "start_time": "2021-07-08T11:46:18.900Z"
   },
   {
    "duration": 5,
    "start_time": "2021-07-08T11:46:18.924Z"
   },
   {
    "duration": 13,
    "start_time": "2021-07-08T11:46:18.931Z"
   },
   {
    "duration": 45,
    "start_time": "2021-07-08T11:46:18.946Z"
   },
   {
    "duration": 12,
    "start_time": "2021-07-08T11:46:18.993Z"
   },
   {
    "duration": 38,
    "start_time": "2021-07-08T11:46:19.006Z"
   },
   {
    "duration": 50,
    "start_time": "2021-07-08T11:46:19.046Z"
   },
   {
    "duration": 29,
    "start_time": "2021-07-08T11:46:19.099Z"
   },
   {
    "duration": 7,
    "start_time": "2021-07-08T11:46:19.130Z"
   },
   {
    "duration": 3,
    "start_time": "2021-07-08T11:46:19.139Z"
   },
   {
    "duration": 11,
    "start_time": "2021-07-08T11:46:19.144Z"
   },
   {
    "duration": 40,
    "start_time": "2021-07-08T11:46:19.157Z"
   },
   {
    "duration": 15,
    "start_time": "2021-07-08T11:46:19.199Z"
   },
   {
    "duration": 10,
    "start_time": "2021-07-08T11:46:19.217Z"
   },
   {
    "duration": 68,
    "start_time": "2021-07-08T11:46:19.230Z"
   },
   {
    "duration": 17,
    "start_time": "2021-07-08T11:46:19.301Z"
   },
   {
    "duration": 7,
    "start_time": "2021-07-08T11:46:19.321Z"
   },
   {
    "duration": 11,
    "start_time": "2021-07-08T11:46:19.330Z"
   },
   {
    "duration": 59,
    "start_time": "2021-07-08T11:46:19.343Z"
   },
   {
    "duration": 17,
    "start_time": "2021-07-08T11:46:19.405Z"
   },
   {
    "duration": 16,
    "start_time": "2021-07-08T11:46:19.424Z"
   },
   {
    "duration": 252,
    "start_time": "2021-07-08T11:46:19.443Z"
   },
   {
    "duration": 9,
    "start_time": "2021-07-08T11:46:19.697Z"
   },
   {
    "duration": 224,
    "start_time": "2021-07-08T11:46:19.708Z"
   },
   {
    "duration": 21,
    "start_time": "2021-07-08T11:46:19.934Z"
   },
   {
    "duration": 9,
    "start_time": "2021-07-08T11:46:19.956Z"
   },
   {
    "duration": 32,
    "start_time": "2021-07-08T11:46:19.967Z"
   },
   {
    "duration": 288,
    "start_time": "2021-07-08T11:46:20.004Z"
   },
   {
    "duration": 23,
    "start_time": "2021-07-08T11:46:20.300Z"
   },
   {
    "duration": 11,
    "start_time": "2021-07-08T11:46:20.325Z"
   },
   {
    "duration": 11,
    "start_time": "2021-07-08T11:46:20.339Z"
   },
   {
    "duration": 259,
    "start_time": "2021-07-08T11:46:20.352Z"
   },
   {
    "duration": 438,
    "start_time": "2021-07-08T11:46:20.613Z"
   },
   {
    "duration": 207,
    "start_time": "2021-07-08T11:46:21.054Z"
   },
   {
    "duration": 27,
    "start_time": "2021-07-08T11:46:21.262Z"
   },
   {
    "duration": 19,
    "start_time": "2021-07-08T11:46:21.291Z"
   },
   {
    "duration": 820,
    "start_time": "2021-07-08T11:49:01.655Z"
   },
   {
    "duration": 372,
    "start_time": "2021-07-08T11:49:02.478Z"
   },
   {
    "duration": 98,
    "start_time": "2021-07-08T11:49:02.853Z"
   },
   {
    "duration": 6,
    "start_time": "2021-07-08T11:49:02.953Z"
   },
   {
    "duration": 39,
    "start_time": "2021-07-08T11:49:02.960Z"
   },
   {
    "duration": 9,
    "start_time": "2021-07-08T11:49:03.003Z"
   },
   {
    "duration": 23,
    "start_time": "2021-07-08T11:49:03.014Z"
   },
   {
    "duration": 6,
    "start_time": "2021-07-08T11:49:03.041Z"
   },
   {
    "duration": 20,
    "start_time": "2021-07-08T11:49:03.049Z"
   },
   {
    "duration": 18,
    "start_time": "2021-07-08T11:49:03.084Z"
   },
   {
    "duration": 14,
    "start_time": "2021-07-08T11:49:03.104Z"
   },
   {
    "duration": 39,
    "start_time": "2021-07-08T11:49:03.119Z"
   },
   {
    "duration": 38,
    "start_time": "2021-07-08T11:49:03.160Z"
   },
   {
    "duration": 26,
    "start_time": "2021-07-08T11:49:03.200Z"
   },
   {
    "duration": 7,
    "start_time": "2021-07-08T11:49:03.227Z"
   },
   {
    "duration": 4,
    "start_time": "2021-07-08T11:49:03.236Z"
   },
   {
    "duration": 15,
    "start_time": "2021-07-08T11:49:03.243Z"
   },
   {
    "duration": 21,
    "start_time": "2021-07-08T11:49:03.285Z"
   },
   {
    "duration": 17,
    "start_time": "2021-07-08T11:49:03.309Z"
   },
   {
    "duration": 10,
    "start_time": "2021-07-08T11:49:03.328Z"
   },
   {
    "duration": 65,
    "start_time": "2021-07-08T11:49:03.340Z"
   },
   {
    "duration": 18,
    "start_time": "2021-07-08T11:49:03.407Z"
   },
   {
    "duration": 8,
    "start_time": "2021-07-08T11:49:03.428Z"
   },
   {
    "duration": 15,
    "start_time": "2021-07-08T11:49:03.438Z"
   },
   {
    "duration": 40,
    "start_time": "2021-07-08T11:49:03.455Z"
   },
   {
    "duration": 12,
    "start_time": "2021-07-08T11:49:03.497Z"
   },
   {
    "duration": 29,
    "start_time": "2021-07-08T11:49:03.511Z"
   },
   {
    "duration": 285,
    "start_time": "2021-07-08T11:49:03.542Z"
   },
   {
    "duration": 8,
    "start_time": "2021-07-08T11:49:03.829Z"
   },
   {
    "duration": 227,
    "start_time": "2021-07-08T11:49:03.838Z"
   },
   {
    "duration": 40,
    "start_time": "2021-07-08T11:49:04.066Z"
   },
   {
    "duration": 10,
    "start_time": "2021-07-08T11:49:04.108Z"
   },
   {
    "duration": 26,
    "start_time": "2021-07-08T11:49:04.121Z"
   },
   {
    "duration": 290,
    "start_time": "2021-07-08T11:49:04.149Z"
   },
   {
    "duration": 26,
    "start_time": "2021-07-08T11:49:04.441Z"
   },
   {
    "duration": 31,
    "start_time": "2021-07-08T11:49:04.470Z"
   },
   {
    "duration": 14,
    "start_time": "2021-07-08T11:49:04.503Z"
   },
   {
    "duration": 259,
    "start_time": "2021-07-08T11:49:04.521Z"
   },
   {
    "duration": 480,
    "start_time": "2021-07-08T11:49:04.782Z"
   },
   {
    "duration": 225,
    "start_time": "2021-07-08T11:49:05.264Z"
   },
   {
    "duration": 22,
    "start_time": "2021-07-08T11:49:05.491Z"
   },
   {
    "duration": 24,
    "start_time": "2021-07-08T11:49:05.515Z"
   },
   {
    "duration": 634,
    "start_time": "2021-07-08T11:52:24.960Z"
   },
   {
    "duration": 199,
    "start_time": "2021-07-08T11:52:25.599Z"
   },
   {
    "duration": 106,
    "start_time": "2021-07-08T11:52:25.803Z"
   },
   {
    "duration": 7,
    "start_time": "2021-07-08T11:52:25.911Z"
   },
   {
    "duration": 29,
    "start_time": "2021-07-08T11:52:25.920Z"
   },
   {
    "duration": 7,
    "start_time": "2021-07-08T11:52:25.951Z"
   },
   {
    "duration": 26,
    "start_time": "2021-07-08T11:52:25.961Z"
   },
   {
    "duration": 11,
    "start_time": "2021-07-08T11:52:25.990Z"
   },
   {
    "duration": 29,
    "start_time": "2021-07-08T11:52:26.005Z"
   },
   {
    "duration": 9,
    "start_time": "2021-07-08T11:52:26.036Z"
   },
   {
    "duration": 8,
    "start_time": "2021-07-08T11:52:26.047Z"
   },
   {
    "duration": 63,
    "start_time": "2021-07-08T11:52:26.057Z"
   },
   {
    "duration": 17,
    "start_time": "2021-07-08T11:52:26.122Z"
   },
   {
    "duration": 43,
    "start_time": "2021-07-08T11:52:26.142Z"
   },
   {
    "duration": 17,
    "start_time": "2021-07-08T11:52:26.187Z"
   },
   {
    "duration": 5,
    "start_time": "2021-07-08T11:52:26.206Z"
   },
   {
    "duration": 12,
    "start_time": "2021-07-08T11:52:26.212Z"
   },
   {
    "duration": 11,
    "start_time": "2021-07-08T11:52:26.226Z"
   },
   {
    "duration": 12,
    "start_time": "2021-07-08T11:52:26.238Z"
   },
   {
    "duration": 38,
    "start_time": "2021-07-08T11:52:26.252Z"
   },
   {
    "duration": 40,
    "start_time": "2021-07-08T11:52:26.292Z"
   },
   {
    "duration": 17,
    "start_time": "2021-07-08T11:52:26.336Z"
   },
   {
    "duration": 39,
    "start_time": "2021-07-08T11:52:26.355Z"
   },
   {
    "duration": 11,
    "start_time": "2021-07-08T11:52:26.395Z"
   },
   {
    "duration": 23,
    "start_time": "2021-07-08T11:52:26.408Z"
   },
   {
    "duration": 12,
    "start_time": "2021-07-08T11:52:26.432Z"
   },
   {
    "duration": 41,
    "start_time": "2021-07-08T11:52:26.446Z"
   },
   {
    "duration": 215,
    "start_time": "2021-07-08T11:52:26.493Z"
   },
   {
    "duration": 8,
    "start_time": "2021-07-08T11:52:26.710Z"
   },
   {
    "duration": 228,
    "start_time": "2021-07-08T11:52:26.720Z"
   },
   {
    "duration": 18,
    "start_time": "2021-07-08T11:52:26.950Z"
   },
   {
    "duration": 35,
    "start_time": "2021-07-08T11:52:26.969Z"
   },
   {
    "duration": 23,
    "start_time": "2021-07-08T11:52:27.006Z"
   },
   {
    "duration": 258,
    "start_time": "2021-07-08T11:52:27.030Z"
   },
   {
    "duration": 24,
    "start_time": "2021-07-08T11:52:27.290Z"
   },
   {
    "duration": 12,
    "start_time": "2021-07-08T11:52:27.316Z"
   },
   {
    "duration": 10,
    "start_time": "2021-07-08T11:52:27.329Z"
   },
   {
    "duration": 298,
    "start_time": "2021-07-08T11:52:27.341Z"
   },
   {
    "duration": 436,
    "start_time": "2021-07-08T11:52:27.641Z"
   },
   {
    "duration": 216,
    "start_time": "2021-07-08T11:52:28.079Z"
   },
   {
    "duration": 20,
    "start_time": "2021-07-08T11:52:28.297Z"
   },
   {
    "duration": 17,
    "start_time": "2021-07-08T11:52:28.319Z"
   },
   {
    "duration": 1700,
    "start_time": "2023-03-02T20:28:04.533Z"
   },
   {
    "duration": 47,
    "start_time": "2023-03-02T20:28:50.695Z"
   },
   {
    "duration": 271,
    "start_time": "2023-03-02T20:29:01.065Z"
   },
   {
    "duration": 178,
    "start_time": "2023-03-02T20:29:33.420Z"
   },
   {
    "duration": 33,
    "start_time": "2023-03-02T20:29:45.964Z"
   },
   {
    "duration": 9,
    "start_time": "2023-03-02T20:30:22.011Z"
   },
   {
    "duration": 18,
    "start_time": "2023-03-02T20:30:31.734Z"
   },
   {
    "duration": 149,
    "start_time": "2023-03-02T20:34:49.819Z"
   },
   {
    "duration": 20,
    "start_time": "2023-03-02T20:35:15.904Z"
   },
   {
    "duration": 11,
    "start_time": "2023-03-02T20:35:26.941Z"
   },
   {
    "duration": 14,
    "start_time": "2023-03-02T20:36:00.437Z"
   },
   {
    "duration": 15,
    "start_time": "2023-03-02T20:38:24.730Z"
   },
   {
    "duration": 10,
    "start_time": "2023-03-02T20:39:58.699Z"
   },
   {
    "duration": 20,
    "start_time": "2023-03-02T20:41:10.318Z"
   },
   {
    "duration": 229,
    "start_time": "2023-03-02T20:43:18.394Z"
   },
   {
    "duration": 4,
    "start_time": "2023-03-02T20:43:46.124Z"
   },
   {
    "duration": 6,
    "start_time": "2023-03-02T20:47:04.391Z"
   },
   {
    "duration": 9,
    "start_time": "2023-03-02T20:47:14.242Z"
   },
   {
    "duration": 29,
    "start_time": "2023-03-02T20:47:37.082Z"
   },
   {
    "duration": 10,
    "start_time": "2023-03-02T20:48:02.905Z"
   },
   {
    "duration": 11,
    "start_time": "2023-03-02T20:48:10.697Z"
   },
   {
    "duration": 4,
    "start_time": "2023-03-02T20:48:27.109Z"
   },
   {
    "duration": 130,
    "start_time": "2023-03-02T20:48:27.115Z"
   },
   {
    "duration": 25,
    "start_time": "2023-03-02T20:48:27.247Z"
   },
   {
    "duration": 24,
    "start_time": "2023-03-02T20:48:27.278Z"
   },
   {
    "duration": 6,
    "start_time": "2023-03-02T20:48:27.304Z"
   },
   {
    "duration": 11,
    "start_time": "2023-03-02T20:48:32.025Z"
   },
   {
    "duration": 23,
    "start_time": "2023-03-02T20:48:35.943Z"
   },
   {
    "duration": 15,
    "start_time": "2023-03-02T20:48:40.909Z"
   },
   {
    "duration": 2198,
    "start_time": "2023-03-03T10:17:13.601Z"
   },
   {
    "duration": 347,
    "start_time": "2023-03-03T10:17:15.801Z"
   },
   {
    "duration": 12,
    "start_time": "2023-03-03T10:17:16.150Z"
   },
   {
    "duration": 22,
    "start_time": "2023-03-03T10:17:16.164Z"
   },
   {
    "duration": 6,
    "start_time": "2023-03-03T10:17:16.187Z"
   },
   {
    "duration": 13,
    "start_time": "2023-03-03T10:17:22.403Z"
   },
   {
    "duration": 133,
    "start_time": "2023-03-03T10:18:10.161Z"
   },
   {
    "duration": 6,
    "start_time": "2023-03-03T10:18:14.487Z"
   },
   {
    "duration": 10,
    "start_time": "2023-03-03T10:19:18.617Z"
   },
   {
    "duration": 10,
    "start_time": "2023-03-03T10:19:25.876Z"
   },
   {
    "duration": 7,
    "start_time": "2023-03-03T10:19:38.894Z"
   },
   {
    "duration": 17,
    "start_time": "2023-03-03T10:20:23.387Z"
   },
   {
    "duration": 18,
    "start_time": "2023-03-03T10:21:10.920Z"
   },
   {
    "duration": 195,
    "start_time": "2023-03-03T10:23:40.772Z"
   },
   {
    "duration": 201,
    "start_time": "2023-03-03T10:24:43.453Z"
   },
   {
    "duration": 5,
    "start_time": "2023-03-03T10:27:21.964Z"
   },
   {
    "duration": 30,
    "start_time": "2023-03-03T10:27:31.427Z"
   },
   {
    "duration": 223,
    "start_time": "2023-03-03T10:27:45.989Z"
   },
   {
    "duration": 7,
    "start_time": "2023-03-03T10:28:01.665Z"
   },
   {
    "duration": 26,
    "start_time": "2023-03-03T10:28:09.430Z"
   },
   {
    "duration": 23,
    "start_time": "2023-03-03T10:28:12.536Z"
   },
   {
    "duration": 30,
    "start_time": "2023-03-03T10:28:24.762Z"
   },
   {
    "duration": 14,
    "start_time": "2023-03-03T10:29:02.946Z"
   },
   {
    "duration": 12,
    "start_time": "2023-03-03T10:29:09.392Z"
   },
   {
    "duration": 12,
    "start_time": "2023-03-03T10:29:12.182Z"
   },
   {
    "duration": 22,
    "start_time": "2023-03-03T10:29:18.378Z"
   },
   {
    "duration": 318,
    "start_time": "2023-03-03T10:30:03.110Z"
   },
   {
    "duration": 39,
    "start_time": "2023-03-03T10:30:23.284Z"
   },
   {
    "duration": 17,
    "start_time": "2023-03-03T10:30:38.468Z"
   },
   {
    "duration": 16,
    "start_time": "2023-03-03T10:30:40.684Z"
   },
   {
    "duration": 21,
    "start_time": "2023-03-03T10:31:08.908Z"
   },
   {
    "duration": 7,
    "start_time": "2023-03-03T10:31:19.984Z"
   },
   {
    "duration": 133,
    "start_time": "2023-03-03T10:31:19.994Z"
   },
   {
    "duration": 16,
    "start_time": "2023-03-03T10:31:20.132Z"
   },
   {
    "duration": 28,
    "start_time": "2023-03-03T10:31:20.150Z"
   },
   {
    "duration": 8,
    "start_time": "2023-03-03T10:31:20.180Z"
   },
   {
    "duration": 40,
    "start_time": "2023-03-03T10:31:20.191Z"
   },
   {
    "duration": 4,
    "start_time": "2023-03-03T10:31:20.233Z"
   },
   {
    "duration": 18,
    "start_time": "2023-03-03T10:31:20.239Z"
   },
   {
    "duration": 18,
    "start_time": "2023-03-03T10:31:20.259Z"
   },
   {
    "duration": 19,
    "start_time": "2023-03-03T10:32:21.262Z"
   },
   {
    "duration": 17,
    "start_time": "2023-03-03T10:32:43.072Z"
   },
   {
    "duration": 5,
    "start_time": "2023-03-03T10:33:03.599Z"
   },
   {
    "duration": 195,
    "start_time": "2023-03-03T10:33:28.373Z"
   },
   {
    "duration": 22,
    "start_time": "2023-03-03T10:33:51.473Z"
   },
   {
    "duration": 17,
    "start_time": "2023-03-03T10:35:33.549Z"
   },
   {
    "duration": 425,
    "start_time": "2023-03-03T10:37:01.347Z"
   },
   {
    "duration": 13,
    "start_time": "2023-03-03T10:37:14.753Z"
   },
   {
    "duration": 28,
    "start_time": "2023-03-03T10:37:35.580Z"
   },
   {
    "duration": 26,
    "start_time": "2023-03-03T10:39:16.052Z"
   },
   {
    "duration": 3,
    "start_time": "2023-03-03T10:39:41.132Z"
   },
   {
    "duration": 136,
    "start_time": "2023-03-03T10:39:41.137Z"
   },
   {
    "duration": 12,
    "start_time": "2023-03-03T10:39:41.275Z"
   },
   {
    "duration": 24,
    "start_time": "2023-03-03T10:39:41.288Z"
   },
   {
    "duration": 5,
    "start_time": "2023-03-03T10:39:41.314Z"
   },
   {
    "duration": 14,
    "start_time": "2023-03-03T10:39:41.321Z"
   },
   {
    "duration": 5,
    "start_time": "2023-03-03T10:39:41.337Z"
   },
   {
    "duration": 11,
    "start_time": "2023-03-03T10:39:41.345Z"
   },
   {
    "duration": 24,
    "start_time": "2023-03-03T10:39:41.358Z"
   },
   {
    "duration": 46,
    "start_time": "2023-03-03T10:39:41.384Z"
   },
   {
    "duration": 27,
    "start_time": "2023-03-03T10:39:46.501Z"
   },
   {
    "duration": 109,
    "start_time": "2023-03-03T10:40:12.317Z"
   },
   {
    "duration": 6,
    "start_time": "2023-03-03T10:41:27.370Z"
   },
   {
    "duration": 9,
    "start_time": "2023-03-03T10:41:45.633Z"
   },
   {
    "duration": 789,
    "start_time": "2023-03-03T10:41:50.039Z"
   },
   {
    "duration": 10,
    "start_time": "2023-03-03T10:41:59.930Z"
   },
   {
    "duration": 5,
    "start_time": "2023-03-03T10:42:17.825Z"
   },
   {
    "duration": 769,
    "start_time": "2023-03-03T10:47:23.972Z"
   },
   {
    "duration": 16,
    "start_time": "2023-03-03T10:47:42.669Z"
   },
   {
    "duration": 8,
    "start_time": "2023-03-03T10:48:10.996Z"
   },
   {
    "duration": 10,
    "start_time": "2023-03-03T10:48:42.109Z"
   },
   {
    "duration": 24,
    "start_time": "2023-03-03T10:49:37.231Z"
   },
   {
    "duration": 1579,
    "start_time": "2023-03-05T20:06:41.591Z"
   },
   {
    "duration": 356,
    "start_time": "2023-03-05T20:06:43.171Z"
   },
   {
    "duration": 12,
    "start_time": "2023-03-05T20:06:43.529Z"
   },
   {
    "duration": 20,
    "start_time": "2023-03-05T20:06:43.543Z"
   },
   {
    "duration": 4,
    "start_time": "2023-03-05T20:06:43.565Z"
   },
   {
    "duration": 13,
    "start_time": "2023-03-05T20:06:43.571Z"
   },
   {
    "duration": 6,
    "start_time": "2023-03-05T20:06:43.585Z"
   },
   {
    "duration": 18,
    "start_time": "2023-03-05T20:06:43.592Z"
   },
   {
    "duration": 13,
    "start_time": "2023-03-05T20:06:43.612Z"
   },
   {
    "duration": 31,
    "start_time": "2023-03-05T20:06:43.627Z"
   },
   {
    "duration": 4,
    "start_time": "2023-03-05T20:06:43.660Z"
   },
   {
    "duration": 5,
    "start_time": "2023-03-05T20:07:34.243Z"
   },
   {
    "duration": 6,
    "start_time": "2023-03-05T20:14:05.531Z"
   },
   {
    "duration": 5,
    "start_time": "2023-03-05T20:14:24.230Z"
   },
   {
    "duration": 339,
    "start_time": "2023-03-05T20:15:26.594Z"
   },
   {
    "duration": 17,
    "start_time": "2023-03-05T20:16:30.857Z"
   },
   {
    "duration": 7,
    "start_time": "2023-03-05T20:16:46.181Z"
   },
   {
    "duration": 14,
    "start_time": "2023-03-05T20:17:04.934Z"
   },
   {
    "duration": 17,
    "start_time": "2023-03-05T20:17:18.389Z"
   },
   {
    "duration": 13,
    "start_time": "2023-03-05T20:17:53.784Z"
   },
   {
    "duration": 5,
    "start_time": "2023-03-05T20:22:35.810Z"
   },
   {
    "duration": 727,
    "start_time": "2023-03-05T20:22:45.588Z"
   },
   {
    "duration": 6,
    "start_time": "2023-03-05T20:22:51.682Z"
   },
   {
    "duration": 5,
    "start_time": "2023-03-05T20:23:00.422Z"
   },
   {
    "duration": 4,
    "start_time": "2023-03-05T20:23:49.783Z"
   },
   {
    "duration": 4,
    "start_time": "2023-03-05T20:23:51.711Z"
   },
   {
    "duration": 117,
    "start_time": "2023-03-05T20:26:31.981Z"
   },
   {
    "duration": 4,
    "start_time": "2023-03-05T20:28:36.781Z"
   },
   {
    "duration": 4,
    "start_time": "2023-03-05T20:28:53.782Z"
   },
   {
    "duration": 262,
    "start_time": "2023-03-05T20:28:54.987Z"
   },
   {
    "duration": 7,
    "start_time": "2023-03-05T20:29:20.174Z"
   },
   {
    "duration": 235,
    "start_time": "2023-03-05T20:29:30.508Z"
   },
   {
    "duration": 5,
    "start_time": "2023-03-05T20:29:40.392Z"
   },
   {
    "duration": 207,
    "start_time": "2023-03-05T20:29:43.177Z"
   },
   {
    "duration": 6,
    "start_time": "2023-03-05T20:32:09.401Z"
   },
   {
    "duration": 21,
    "start_time": "2023-03-05T20:32:52.318Z"
   },
   {
    "duration": 689,
    "start_time": "2023-03-05T20:33:48.780Z"
   },
   {
    "duration": 699,
    "start_time": "2023-03-05T20:34:01.618Z"
   },
   {
    "duration": 725,
    "start_time": "2023-03-05T20:34:20.716Z"
   },
   {
    "duration": 4,
    "start_time": "2023-03-05T20:34:33.833Z"
   },
   {
    "duration": 8,
    "start_time": "2023-03-05T20:37:13.892Z"
   },
   {
    "duration": 3,
    "start_time": "2023-03-05T20:37:59.382Z"
   },
   {
    "duration": 5,
    "start_time": "2023-03-05T20:38:22.159Z"
   },
   {
    "duration": 5,
    "start_time": "2023-03-05T20:39:19.712Z"
   },
   {
    "duration": 29,
    "start_time": "2023-03-05T20:39:55.106Z"
   },
   {
    "duration": 22,
    "start_time": "2023-03-05T20:42:19.894Z"
   },
   {
    "duration": 31,
    "start_time": "2023-03-05T20:43:35.786Z"
   },
   {
    "duration": 9,
    "start_time": "2023-03-05T20:47:03.821Z"
   },
   {
    "duration": 9,
    "start_time": "2023-03-05T20:47:08.991Z"
   },
   {
    "duration": 8,
    "start_time": "2023-03-05T20:47:31.011Z"
   },
   {
    "duration": 22,
    "start_time": "2023-03-05T20:47:34.461Z"
   },
   {
    "duration": 15,
    "start_time": "2023-03-05T20:47:45.120Z"
   },
   {
    "duration": 13,
    "start_time": "2023-03-05T20:50:43.978Z"
   },
   {
    "duration": 15,
    "start_time": "2023-03-05T20:51:46.171Z"
   },
   {
    "duration": 7,
    "start_time": "2023-03-05T20:54:10.397Z"
   },
   {
    "duration": 8,
    "start_time": "2023-03-05T20:54:26.476Z"
   },
   {
    "duration": 3,
    "start_time": "2023-03-05T20:54:37.183Z"
   },
   {
    "duration": 132,
    "start_time": "2023-03-05T20:54:37.188Z"
   },
   {
    "duration": 11,
    "start_time": "2023-03-05T20:54:37.321Z"
   },
   {
    "duration": 31,
    "start_time": "2023-03-05T20:54:37.334Z"
   },
   {
    "duration": 5,
    "start_time": "2023-03-05T20:54:37.375Z"
   },
   {
    "duration": 26,
    "start_time": "2023-03-05T20:54:37.381Z"
   },
   {
    "duration": 30,
    "start_time": "2023-03-05T20:54:37.408Z"
   },
   {
    "duration": 13,
    "start_time": "2023-03-05T20:54:37.440Z"
   },
   {
    "duration": 25,
    "start_time": "2023-03-05T20:54:37.454Z"
   },
   {
    "duration": 14,
    "start_time": "2023-03-05T20:54:37.481Z"
   },
   {
    "duration": 10,
    "start_time": "2023-03-05T20:54:37.497Z"
   },
   {
    "duration": 19,
    "start_time": "2023-03-05T20:54:37.508Z"
   },
   {
    "duration": 16,
    "start_time": "2023-03-05T20:54:37.528Z"
   },
   {
    "duration": 21,
    "start_time": "2023-03-05T20:54:37.547Z"
   },
   {
    "duration": 5,
    "start_time": "2023-03-05T20:54:37.571Z"
   },
   {
    "duration": 200,
    "start_time": "2023-03-05T20:54:37.578Z"
   },
   {
    "duration": 19,
    "start_time": "2023-03-05T20:54:37.780Z"
   },
   {
    "duration": 4,
    "start_time": "2023-03-05T20:54:37.801Z"
   },
   {
    "duration": 23,
    "start_time": "2023-03-05T20:54:37.806Z"
   },
   {
    "duration": 42,
    "start_time": "2023-03-05T20:54:37.831Z"
   },
   {
    "duration": 9,
    "start_time": "2023-03-05T20:54:42.882Z"
   },
   {
    "duration": 18,
    "start_time": "2023-03-05T20:55:02.589Z"
   },
   {
    "duration": 5,
    "start_time": "2023-03-05T21:08:37.639Z"
   },
   {
    "duration": 18,
    "start_time": "2023-03-05T21:10:25.619Z"
   },
   {
    "duration": 31,
    "start_time": "2023-03-05T21:15:38.302Z"
   },
   {
    "duration": 38,
    "start_time": "2023-03-05T21:16:01.279Z"
   },
   {
    "duration": 17,
    "start_time": "2023-03-05T21:16:40.255Z"
   },
   {
    "duration": 28,
    "start_time": "2023-03-05T21:20:15.498Z"
   },
   {
    "duration": 8,
    "start_time": "2023-03-05T21:20:23.587Z"
   },
   {
    "duration": 34,
    "start_time": "2023-03-05T21:20:40.105Z"
   },
   {
    "duration": 9,
    "start_time": "2023-03-05T21:20:48.886Z"
   },
   {
    "duration": 8,
    "start_time": "2023-03-05T21:24:20.795Z"
   },
   {
    "duration": 21,
    "start_time": "2023-03-05T21:25:53.331Z"
   },
   {
    "duration": 15,
    "start_time": "2023-03-05T21:26:16.087Z"
   },
   {
    "duration": 342,
    "start_time": "2023-03-05T21:26:29.429Z"
   },
   {
    "duration": 10,
    "start_time": "2023-03-05T21:27:13.633Z"
   },
   {
    "duration": 4,
    "start_time": "2023-03-05T21:27:18.796Z"
   },
   {
    "duration": 5,
    "start_time": "2023-03-05T21:28:50.085Z"
   },
   {
    "duration": 75,
    "start_time": "2023-03-05T21:29:23.335Z"
   },
   {
    "duration": 9,
    "start_time": "2023-03-05T21:29:43.314Z"
   },
   {
    "duration": 13,
    "start_time": "2023-03-05T21:30:01.807Z"
   },
   {
    "duration": 7,
    "start_time": "2023-03-05T21:30:06.035Z"
   },
   {
    "duration": 25,
    "start_time": "2023-03-05T21:30:55.283Z"
   },
   {
    "duration": 14,
    "start_time": "2023-03-05T21:31:25.812Z"
   },
   {
    "duration": 6,
    "start_time": "2023-03-05T21:31:33.195Z"
   },
   {
    "duration": 28,
    "start_time": "2023-03-05T21:31:51.182Z"
   },
   {
    "duration": 9,
    "start_time": "2023-03-05T21:31:58.121Z"
   },
   {
    "duration": 23,
    "start_time": "2023-03-05T21:33:01.881Z"
   },
   {
    "duration": 3,
    "start_time": "2023-03-05T21:35:28.781Z"
   },
   {
    "duration": 116,
    "start_time": "2023-03-05T21:35:28.785Z"
   },
   {
    "duration": 10,
    "start_time": "2023-03-05T21:35:28.903Z"
   },
   {
    "duration": 27,
    "start_time": "2023-03-05T21:35:28.914Z"
   },
   {
    "duration": 9,
    "start_time": "2023-03-05T21:35:28.944Z"
   },
   {
    "duration": 17,
    "start_time": "2023-03-05T21:35:28.954Z"
   },
   {
    "duration": 19,
    "start_time": "2023-03-05T21:35:28.973Z"
   },
   {
    "duration": 8,
    "start_time": "2023-03-05T21:35:28.993Z"
   },
   {
    "duration": 18,
    "start_time": "2023-03-05T21:35:29.003Z"
   },
   {
    "duration": 11,
    "start_time": "2023-03-05T21:35:29.022Z"
   },
   {
    "duration": 4,
    "start_time": "2023-03-05T21:35:29.035Z"
   },
   {
    "duration": 15,
    "start_time": "2023-03-05T21:35:29.041Z"
   },
   {
    "duration": 5,
    "start_time": "2023-03-05T21:35:29.057Z"
   },
   {
    "duration": 16,
    "start_time": "2023-03-05T21:35:29.064Z"
   },
   {
    "duration": 4,
    "start_time": "2023-03-05T21:35:29.082Z"
   },
   {
    "duration": 197,
    "start_time": "2023-03-05T21:35:29.087Z"
   },
   {
    "duration": 19,
    "start_time": "2023-03-05T21:35:29.285Z"
   },
   {
    "duration": 4,
    "start_time": "2023-03-05T21:35:29.305Z"
   },
   {
    "duration": 22,
    "start_time": "2023-03-05T21:35:29.310Z"
   },
   {
    "duration": 26,
    "start_time": "2023-03-05T21:35:29.333Z"
   },
   {
    "duration": 9,
    "start_time": "2023-03-05T21:35:29.361Z"
   },
   {
    "duration": 9,
    "start_time": "2023-03-05T21:35:29.372Z"
   },
   {
    "duration": 165,
    "start_time": "2023-03-05T21:36:50.691Z"
   },
   {
    "duration": 7,
    "start_time": "2023-03-05T21:36:55.824Z"
   },
   {
    "duration": 628,
    "start_time": "2023-03-05T21:37:11.036Z"
   },
   {
    "duration": 7,
    "start_time": "2023-03-05T21:37:25.681Z"
   },
   {
    "duration": 5,
    "start_time": "2023-03-05T21:37:53.977Z"
   },
   {
    "duration": 9,
    "start_time": "2023-03-05T21:37:56.860Z"
   },
   {
    "duration": 6,
    "start_time": "2023-03-05T21:38:06.281Z"
   },
   {
    "duration": 5,
    "start_time": "2023-03-05T21:38:43.677Z"
   },
   {
    "duration": 10,
    "start_time": "2023-03-05T21:39:13.387Z"
   },
   {
    "duration": 136,
    "start_time": "2023-03-05T21:39:13.399Z"
   },
   {
    "duration": 11,
    "start_time": "2023-03-05T21:39:13.537Z"
   },
   {
    "duration": 24,
    "start_time": "2023-03-05T21:39:13.549Z"
   },
   {
    "duration": 4,
    "start_time": "2023-03-05T21:39:13.575Z"
   },
   {
    "duration": 25,
    "start_time": "2023-03-05T21:39:13.582Z"
   },
   {
    "duration": 7,
    "start_time": "2023-03-05T21:39:13.608Z"
   },
   {
    "duration": 13,
    "start_time": "2023-03-05T21:39:13.617Z"
   },
   {
    "duration": 19,
    "start_time": "2023-03-05T21:39:13.631Z"
   },
   {
    "duration": 12,
    "start_time": "2023-03-05T21:39:13.651Z"
   },
   {
    "duration": 15,
    "start_time": "2023-03-05T21:39:13.664Z"
   },
   {
    "duration": 21,
    "start_time": "2023-03-05T21:39:13.681Z"
   },
   {
    "duration": 12,
    "start_time": "2023-03-05T21:39:13.704Z"
   },
   {
    "duration": 27,
    "start_time": "2023-03-05T21:39:13.719Z"
   },
   {
    "duration": 5,
    "start_time": "2023-03-05T21:39:13.747Z"
   },
   {
    "duration": 192,
    "start_time": "2023-03-05T21:39:13.753Z"
   },
   {
    "duration": 20,
    "start_time": "2023-03-05T21:39:13.946Z"
   },
   {
    "duration": 4,
    "start_time": "2023-03-05T21:39:13.968Z"
   },
   {
    "duration": 21,
    "start_time": "2023-03-05T21:39:13.973Z"
   },
   {
    "duration": 12,
    "start_time": "2023-03-05T21:39:13.995Z"
   },
   {
    "duration": 8,
    "start_time": "2023-03-05T21:39:14.009Z"
   },
   {
    "duration": 9,
    "start_time": "2023-03-05T21:39:14.018Z"
   },
   {
    "duration": 286,
    "start_time": "2023-03-05T21:39:17.377Z"
   },
   {
    "duration": 8,
    "start_time": "2023-03-05T21:39:20.207Z"
   },
   {
    "duration": 7,
    "start_time": "2023-03-05T21:39:23.914Z"
   },
   {
    "duration": 8,
    "start_time": "2023-03-05T21:39:43.473Z"
   },
   {
    "duration": 14,
    "start_time": "2023-03-05T21:39:59.769Z"
   },
   {
    "duration": 7,
    "start_time": "2023-03-05T21:40:43.697Z"
   },
   {
    "duration": 9,
    "start_time": "2023-03-05T21:40:46.878Z"
   },
   {
    "duration": 5,
    "start_time": "2023-03-05T21:41:15.834Z"
   },
   {
    "duration": 9,
    "start_time": "2023-03-05T21:41:25.625Z"
   },
   {
    "duration": 9,
    "start_time": "2023-03-05T21:41:34.970Z"
   },
   {
    "duration": 6,
    "start_time": "2023-03-05T21:41:40.168Z"
   },
   {
    "duration": 7,
    "start_time": "2023-03-05T21:41:42.425Z"
   },
   {
    "duration": 5,
    "start_time": "2023-03-05T21:42:44.969Z"
   },
   {
    "duration": 3,
    "start_time": "2023-03-05T21:44:31.380Z"
   },
   {
    "duration": 128,
    "start_time": "2023-03-05T21:44:31.385Z"
   },
   {
    "duration": 10,
    "start_time": "2023-03-05T21:44:31.514Z"
   },
   {
    "duration": 33,
    "start_time": "2023-03-05T21:44:31.526Z"
   },
   {
    "duration": 8,
    "start_time": "2023-03-05T21:44:31.561Z"
   },
   {
    "duration": 23,
    "start_time": "2023-03-05T21:44:31.570Z"
   },
   {
    "duration": 19,
    "start_time": "2023-03-05T21:44:31.595Z"
   },
   {
    "duration": 15,
    "start_time": "2023-03-05T21:44:31.615Z"
   },
   {
    "duration": 24,
    "start_time": "2023-03-05T21:44:31.632Z"
   },
   {
    "duration": 15,
    "start_time": "2023-03-05T21:44:31.657Z"
   },
   {
    "duration": 23,
    "start_time": "2023-03-05T21:44:31.673Z"
   },
   {
    "duration": 13,
    "start_time": "2023-03-05T21:44:31.698Z"
   },
   {
    "duration": 24,
    "start_time": "2023-03-05T21:44:31.712Z"
   },
   {
    "duration": 28,
    "start_time": "2023-03-05T21:44:31.738Z"
   },
   {
    "duration": 10,
    "start_time": "2023-03-05T21:44:31.768Z"
   },
   {
    "duration": 217,
    "start_time": "2023-03-05T21:44:31.779Z"
   },
   {
    "duration": 19,
    "start_time": "2023-03-05T21:44:31.998Z"
   },
   {
    "duration": 9,
    "start_time": "2023-03-05T21:44:32.019Z"
   },
   {
    "duration": 44,
    "start_time": "2023-03-05T21:44:32.030Z"
   },
   {
    "duration": 26,
    "start_time": "2023-03-05T21:44:32.075Z"
   },
   {
    "duration": 24,
    "start_time": "2023-03-05T21:44:32.102Z"
   },
   {
    "duration": 30,
    "start_time": "2023-03-05T21:44:32.128Z"
   },
   {
    "duration": 139,
    "start_time": "2023-03-05T21:44:34.822Z"
   },
   {
    "duration": 7,
    "start_time": "2023-03-05T21:44:41.124Z"
   },
   {
    "duration": 6,
    "start_time": "2023-03-05T21:44:44.372Z"
   },
   {
    "duration": 10,
    "start_time": "2023-03-05T21:47:26.490Z"
   },
   {
    "duration": 5,
    "start_time": "2023-03-05T21:47:49.410Z"
   },
   {
    "duration": 7,
    "start_time": "2023-03-05T21:47:54.200Z"
   },
   {
    "duration": 3,
    "start_time": "2023-03-05T21:48:36.168Z"
   },
   {
    "duration": 141,
    "start_time": "2023-03-05T21:48:36.173Z"
   },
   {
    "duration": 11,
    "start_time": "2023-03-05T21:48:36.315Z"
   },
   {
    "duration": 25,
    "start_time": "2023-03-05T21:48:36.328Z"
   },
   {
    "duration": 10,
    "start_time": "2023-03-05T21:48:36.356Z"
   },
   {
    "duration": 30,
    "start_time": "2023-03-05T21:48:36.367Z"
   },
   {
    "duration": 9,
    "start_time": "2023-03-05T21:48:36.398Z"
   },
   {
    "duration": 18,
    "start_time": "2023-03-05T21:48:36.409Z"
   },
   {
    "duration": 25,
    "start_time": "2023-03-05T21:48:36.428Z"
   },
   {
    "duration": 14,
    "start_time": "2023-03-05T21:48:36.455Z"
   },
   {
    "duration": 4,
    "start_time": "2023-03-05T21:48:36.471Z"
   },
   {
    "duration": 21,
    "start_time": "2023-03-05T21:48:36.477Z"
   },
   {
    "duration": 12,
    "start_time": "2023-03-05T21:48:36.500Z"
   },
   {
    "duration": 33,
    "start_time": "2023-03-05T21:48:36.515Z"
   },
   {
    "duration": 5,
    "start_time": "2023-03-05T21:48:36.550Z"
   },
   {
    "duration": 223,
    "start_time": "2023-03-05T21:48:36.557Z"
   },
   {
    "duration": 22,
    "start_time": "2023-03-05T21:48:36.783Z"
   },
   {
    "duration": 5,
    "start_time": "2023-03-05T21:48:36.806Z"
   },
   {
    "duration": 22,
    "start_time": "2023-03-05T21:48:36.812Z"
   },
   {
    "duration": 9,
    "start_time": "2023-03-05T21:48:36.857Z"
   },
   {
    "duration": 9,
    "start_time": "2023-03-05T21:48:36.868Z"
   },
   {
    "duration": 27,
    "start_time": "2023-03-05T21:48:36.879Z"
   },
   {
    "duration": 403,
    "start_time": "2023-03-05T21:48:39.067Z"
   },
   {
    "duration": 8,
    "start_time": "2023-03-05T21:49:03.811Z"
   },
   {
    "duration": 7,
    "start_time": "2023-03-05T21:49:34.939Z"
   },
   {
    "duration": 7,
    "start_time": "2023-03-05T21:50:57.307Z"
   },
   {
    "duration": 7,
    "start_time": "2023-03-05T21:51:00.133Z"
   },
   {
    "duration": 8,
    "start_time": "2023-03-05T21:51:09.226Z"
   },
   {
    "duration": 4,
    "start_time": "2023-03-05T21:52:19.564Z"
   },
   {
    "duration": 123,
    "start_time": "2023-03-05T21:52:19.570Z"
   },
   {
    "duration": 14,
    "start_time": "2023-03-05T21:52:19.695Z"
   },
   {
    "duration": 22,
    "start_time": "2023-03-05T21:52:19.711Z"
   },
   {
    "duration": 7,
    "start_time": "2023-03-05T21:52:19.736Z"
   },
   {
    "duration": 20,
    "start_time": "2023-03-05T21:52:19.745Z"
   },
   {
    "duration": 5,
    "start_time": "2023-03-05T21:52:19.767Z"
   },
   {
    "duration": 15,
    "start_time": "2023-03-05T21:52:19.774Z"
   },
   {
    "duration": 16,
    "start_time": "2023-03-05T21:52:19.791Z"
   },
   {
    "duration": 157,
    "start_time": "2023-03-05T21:52:19.809Z"
   },
   {
    "duration": 6,
    "start_time": "2023-03-05T21:52:19.967Z"
   },
   {
    "duration": 17,
    "start_time": "2023-03-05T21:52:19.975Z"
   },
   {
    "duration": 28,
    "start_time": "2023-03-05T21:52:19.994Z"
   },
   {
    "duration": 25,
    "start_time": "2023-03-05T21:52:20.025Z"
   },
   {
    "duration": 4,
    "start_time": "2023-03-05T21:52:20.052Z"
   },
   {
    "duration": 228,
    "start_time": "2023-03-05T21:52:20.058Z"
   },
   {
    "duration": 18,
    "start_time": "2023-03-05T21:52:20.288Z"
   },
   {
    "duration": 4,
    "start_time": "2023-03-05T21:52:20.307Z"
   },
   {
    "duration": 20,
    "start_time": "2023-03-05T21:52:20.312Z"
   },
   {
    "duration": 12,
    "start_time": "2023-03-05T21:52:20.355Z"
   },
   {
    "duration": 8,
    "start_time": "2023-03-05T21:52:20.369Z"
   },
   {
    "duration": 10,
    "start_time": "2023-03-05T21:52:20.379Z"
   },
   {
    "duration": 131,
    "start_time": "2023-03-05T21:52:32.128Z"
   },
   {
    "duration": 6,
    "start_time": "2023-03-05T21:52:33.486Z"
   },
   {
    "duration": 9,
    "start_time": "2023-03-05T21:52:52.432Z"
   },
   {
    "duration": 10,
    "start_time": "2023-03-05T21:53:17.327Z"
   },
   {
    "duration": 12,
    "start_time": "2023-03-05T21:55:46.863Z"
   },
   {
    "duration": 7,
    "start_time": "2023-03-05T21:56:04.181Z"
   },
   {
    "duration": 11,
    "start_time": "2023-03-05T21:56:16.999Z"
   },
   {
    "duration": 9,
    "start_time": "2023-03-05T21:56:46.614Z"
   },
   {
    "duration": 11,
    "start_time": "2023-03-05T21:57:02.664Z"
   },
   {
    "duration": 14,
    "start_time": "2023-03-05T21:57:14.776Z"
   },
   {
    "duration": 14,
    "start_time": "2023-03-05T21:57:19.086Z"
   },
   {
    "duration": 7,
    "start_time": "2023-03-05T21:57:27.020Z"
   },
   {
    "duration": 8,
    "start_time": "2023-03-05T21:57:35.315Z"
   },
   {
    "duration": 10,
    "start_time": "2023-03-05T21:57:45.995Z"
   },
   {
    "duration": 26,
    "start_time": "2023-03-05T22:02:00.263Z"
   },
   {
    "duration": 26,
    "start_time": "2023-03-05T22:02:29.368Z"
   },
   {
    "duration": 11,
    "start_time": "2023-03-05T22:03:35.507Z"
   },
   {
    "duration": 11,
    "start_time": "2023-03-05T22:08:15.106Z"
   },
   {
    "duration": 13,
    "start_time": "2023-03-05T22:08:38.870Z"
   },
   {
    "duration": 18,
    "start_time": "2023-03-05T22:08:45.082Z"
   },
   {
    "duration": 20,
    "start_time": "2023-03-05T22:08:51.270Z"
   },
   {
    "duration": 8,
    "start_time": "2023-03-05T22:09:11.376Z"
   },
   {
    "duration": 13,
    "start_time": "2023-03-05T22:09:55.000Z"
   },
   {
    "duration": 9,
    "start_time": "2023-03-05T22:10:08.838Z"
   },
   {
    "duration": 9,
    "start_time": "2023-03-05T22:10:18.273Z"
   },
   {
    "duration": 756,
    "start_time": "2023-03-05T22:11:44.893Z"
   },
   {
    "duration": 9,
    "start_time": "2023-03-05T22:12:06.641Z"
   },
   {
    "duration": 36,
    "start_time": "2023-03-05T22:13:07.611Z"
   },
   {
    "duration": 165,
    "start_time": "2023-03-05T22:13:22.047Z"
   },
   {
    "duration": 139,
    "start_time": "2023-03-05T22:13:25.894Z"
   },
   {
    "duration": 109,
    "start_time": "2023-03-05T22:13:43.892Z"
   },
   {
    "duration": 120,
    "start_time": "2023-03-05T22:14:04.412Z"
   },
   {
    "duration": 845,
    "start_time": "2023-03-05T22:15:45.079Z"
   },
   {
    "duration": 4,
    "start_time": "2023-03-05T22:15:59.745Z"
   },
   {
    "duration": 186,
    "start_time": "2023-03-05T22:19:09.598Z"
   },
   {
    "duration": 162,
    "start_time": "2023-03-05T22:19:21.233Z"
   },
   {
    "duration": 190,
    "start_time": "2023-03-05T22:19:25.175Z"
   },
   {
    "duration": 162,
    "start_time": "2023-03-05T22:20:23.499Z"
   },
   {
    "duration": 241,
    "start_time": "2023-03-05T22:20:55.489Z"
   },
   {
    "duration": 179,
    "start_time": "2023-03-05T22:21:05.185Z"
   },
   {
    "duration": 16,
    "start_time": "2023-03-05T22:24:50.476Z"
   },
   {
    "duration": 17,
    "start_time": "2023-03-05T22:25:12.415Z"
   },
   {
    "duration": 39,
    "start_time": "2023-03-05T22:26:18.374Z"
   },
   {
    "duration": 27,
    "start_time": "2023-03-05T22:26:30.885Z"
   },
   {
    "duration": 13,
    "start_time": "2023-03-05T22:27:00.184Z"
   },
   {
    "duration": 42,
    "start_time": "2023-03-05T22:27:10.281Z"
   },
   {
    "duration": 49,
    "start_time": "2023-03-05T22:28:38.775Z"
   },
   {
    "duration": 14,
    "start_time": "2023-03-05T22:28:43.923Z"
   },
   {
    "duration": 5,
    "start_time": "2023-03-05T22:28:58.819Z"
   },
   {
    "duration": 42,
    "start_time": "2023-03-05T22:33:01.323Z"
   },
   {
    "duration": 31,
    "start_time": "2023-03-05T22:33:24.173Z"
   },
   {
    "duration": 25,
    "start_time": "2023-03-05T22:33:33.773Z"
   },
   {
    "duration": 38,
    "start_time": "2023-03-05T22:33:51.165Z"
   },
   {
    "duration": 26,
    "start_time": "2023-03-05T22:35:32.895Z"
   },
   {
    "duration": 13,
    "start_time": "2023-03-05T22:35:58.076Z"
   },
   {
    "duration": 13,
    "start_time": "2023-03-05T22:36:07.474Z"
   },
   {
    "duration": 26,
    "start_time": "2023-03-05T22:36:39.920Z"
   },
   {
    "duration": 40,
    "start_time": "2023-03-05T22:36:59.004Z"
   },
   {
    "duration": 12,
    "start_time": "2023-03-05T22:38:22.299Z"
   },
   {
    "duration": 151,
    "start_time": "2023-03-05T22:39:08.484Z"
   },
   {
    "duration": 232,
    "start_time": "2023-03-05T22:39:24.231Z"
   },
   {
    "duration": 164,
    "start_time": "2023-03-05T22:39:28.098Z"
   },
   {
    "duration": 8,
    "start_time": "2023-03-05T22:40:42.331Z"
   },
   {
    "duration": 42,
    "start_time": "2023-03-05T22:41:20.396Z"
   },
   {
    "duration": 47,
    "start_time": "2023-03-05T22:41:49.970Z"
   },
   {
    "duration": 3,
    "start_time": "2023-03-05T22:41:59.512Z"
   },
   {
    "duration": 119,
    "start_time": "2023-03-05T22:41:59.516Z"
   },
   {
    "duration": 9,
    "start_time": "2023-03-05T22:41:59.637Z"
   },
   {
    "duration": 29,
    "start_time": "2023-03-05T22:41:59.647Z"
   },
   {
    "duration": 4,
    "start_time": "2023-03-05T22:41:59.678Z"
   },
   {
    "duration": 27,
    "start_time": "2023-03-05T22:41:59.684Z"
   },
   {
    "duration": 8,
    "start_time": "2023-03-05T22:41:59.712Z"
   },
   {
    "duration": 10,
    "start_time": "2023-03-05T22:41:59.721Z"
   },
   {
    "duration": 16,
    "start_time": "2023-03-05T22:41:59.733Z"
   },
   {
    "duration": 11,
    "start_time": "2023-03-05T22:41:59.751Z"
   },
   {
    "duration": 13,
    "start_time": "2023-03-05T22:41:59.763Z"
   },
   {
    "duration": 14,
    "start_time": "2023-03-05T22:41:59.777Z"
   },
   {
    "duration": 17,
    "start_time": "2023-03-05T22:41:59.793Z"
   },
   {
    "duration": 23,
    "start_time": "2023-03-05T22:41:59.812Z"
   },
   {
    "duration": 4,
    "start_time": "2023-03-05T22:41:59.837Z"
   },
   {
    "duration": 175,
    "start_time": "2023-03-05T22:41:59.842Z"
   },
   {
    "duration": 20,
    "start_time": "2023-03-05T22:42:00.018Z"
   },
   {
    "duration": 17,
    "start_time": "2023-03-05T22:42:00.040Z"
   },
   {
    "duration": 21,
    "start_time": "2023-03-05T22:42:00.058Z"
   },
   {
    "duration": 32,
    "start_time": "2023-03-05T22:42:00.081Z"
   },
   {
    "duration": 241,
    "start_time": "2023-03-05T22:42:00.114Z"
   },
   {
    "duration": 5,
    "start_time": "2023-03-05T22:42:00.357Z"
   },
   {
    "duration": 21,
    "start_time": "2023-03-05T22:42:00.363Z"
   },
   {
    "duration": 9,
    "start_time": "2023-03-05T22:42:00.386Z"
   },
   {
    "duration": 19,
    "start_time": "2023-03-05T22:42:00.397Z"
   },
   {
    "duration": 15,
    "start_time": "2023-03-05T22:42:00.418Z"
   },
   {
    "duration": 7,
    "start_time": "2023-03-05T22:42:00.435Z"
   },
   {
    "duration": 167,
    "start_time": "2023-03-05T22:42:00.443Z"
   },
   {
    "duration": 159,
    "start_time": "2023-03-05T22:42:00.612Z"
   },
   {
    "duration": 12,
    "start_time": "2023-03-05T22:42:32.512Z"
   },
   {
    "duration": 12,
    "start_time": "2023-03-05T22:43:12.993Z"
   },
   {
    "duration": 16,
    "start_time": "2023-03-05T22:43:25.673Z"
   },
   {
    "duration": 23,
    "start_time": "2023-03-05T22:43:37.834Z"
   },
   {
    "duration": 10,
    "start_time": "2023-03-05T22:43:43.187Z"
   },
   {
    "duration": 2043,
    "start_time": "2023-03-06T08:58:39.212Z"
   },
   {
    "duration": 469,
    "start_time": "2023-03-06T08:58:41.257Z"
   },
   {
    "duration": 15,
    "start_time": "2023-03-06T08:58:41.728Z"
   },
   {
    "duration": 24,
    "start_time": "2023-03-06T08:58:41.745Z"
   },
   {
    "duration": 5,
    "start_time": "2023-03-06T08:58:41.771Z"
   },
   {
    "duration": 13,
    "start_time": "2023-03-06T08:58:41.778Z"
   },
   {
    "duration": 37,
    "start_time": "2023-03-06T08:58:41.793Z"
   },
   {
    "duration": 8,
    "start_time": "2023-03-06T08:58:41.832Z"
   },
   {
    "duration": 18,
    "start_time": "2023-03-06T08:58:41.841Z"
   },
   {
    "duration": 14,
    "start_time": "2023-03-06T08:58:41.861Z"
   },
   {
    "duration": 19,
    "start_time": "2023-03-06T08:58:41.877Z"
   },
   {
    "duration": 29,
    "start_time": "2023-03-06T08:58:41.897Z"
   },
   {
    "duration": 7,
    "start_time": "2023-03-06T08:58:41.928Z"
   },
   {
    "duration": 143,
    "start_time": "2023-03-06T08:58:41.939Z"
   },
   {
    "duration": 4,
    "start_time": "2023-03-06T08:58:42.084Z"
   },
   {
    "duration": 255,
    "start_time": "2023-03-06T08:58:42.090Z"
   },
   {
    "duration": 25,
    "start_time": "2023-03-06T08:58:42.347Z"
   },
   {
    "duration": 4,
    "start_time": "2023-03-06T08:58:42.374Z"
   },
   {
    "duration": 50,
    "start_time": "2023-03-06T08:58:42.380Z"
   },
   {
    "duration": 20,
    "start_time": "2023-03-06T08:58:42.432Z"
   },
   {
    "duration": 379,
    "start_time": "2023-03-06T08:58:42.454Z"
   },
   {
    "duration": 6,
    "start_time": "2023-03-06T08:58:42.835Z"
   },
   {
    "duration": 11,
    "start_time": "2023-03-06T08:58:42.843Z"
   },
   {
    "duration": 10,
    "start_time": "2023-03-06T08:58:42.855Z"
   },
   {
    "duration": 11,
    "start_time": "2023-03-06T08:58:42.866Z"
   },
   {
    "duration": 10,
    "start_time": "2023-03-06T08:58:42.878Z"
   },
   {
    "duration": 35,
    "start_time": "2023-03-06T08:58:42.890Z"
   },
   {
    "duration": 190,
    "start_time": "2023-03-06T08:58:42.927Z"
   },
   {
    "duration": 201,
    "start_time": "2023-03-06T08:58:43.123Z"
   },
   {
    "duration": 16,
    "start_time": "2023-03-06T08:58:47.128Z"
   },
   {
    "duration": 28,
    "start_time": "2023-03-06T08:58:55.810Z"
   },
   {
    "duration": 16,
    "start_time": "2023-03-06T08:59:01.921Z"
   },
   {
    "duration": 21,
    "start_time": "2023-03-06T09:00:39.723Z"
   },
   {
    "duration": 51,
    "start_time": "2023-03-06T09:01:31.252Z"
   },
   {
    "duration": 23,
    "start_time": "2023-03-06T09:01:35.913Z"
   },
   {
    "duration": 144,
    "start_time": "2023-03-06T09:03:27.295Z"
   },
   {
    "duration": 14,
    "start_time": "2023-03-06T09:03:35.107Z"
   },
   {
    "duration": 8,
    "start_time": "2023-03-06T09:03:39.575Z"
   },
   {
    "duration": 13,
    "start_time": "2023-03-06T09:04:56.992Z"
   },
   {
    "duration": 42,
    "start_time": "2023-03-06T09:05:02.191Z"
   },
   {
    "duration": 9,
    "start_time": "2023-03-06T09:06:22.311Z"
   },
   {
    "duration": 9,
    "start_time": "2023-03-06T09:07:49.733Z"
   },
   {
    "duration": 8,
    "start_time": "2023-03-06T09:07:54.297Z"
   },
   {
    "duration": 15,
    "start_time": "2023-03-06T09:08:52.088Z"
   },
   {
    "duration": 34,
    "start_time": "2023-03-06T09:09:09.105Z"
   },
   {
    "duration": 23,
    "start_time": "2023-03-06T09:09:42.031Z"
   },
   {
    "duration": 10,
    "start_time": "2023-03-06T09:11:37.643Z"
   },
   {
    "duration": 23,
    "start_time": "2023-03-06T09:12:19.698Z"
   },
   {
    "duration": 5,
    "start_time": "2023-03-06T09:13:48.983Z"
   },
   {
    "duration": 5,
    "start_time": "2023-03-06T09:14:54.960Z"
   },
   {
    "duration": 7,
    "start_time": "2023-03-06T09:16:51.869Z"
   },
   {
    "duration": 7,
    "start_time": "2023-03-06T09:18:26.067Z"
   },
   {
    "duration": 13,
    "start_time": "2023-03-06T09:20:47.199Z"
   },
   {
    "duration": 12,
    "start_time": "2023-03-06T09:20:53.011Z"
   },
   {
    "duration": 19,
    "start_time": "2023-03-06T09:21:16.017Z"
   },
   {
    "duration": 14,
    "start_time": "2023-03-06T09:23:16.901Z"
   },
   {
    "duration": 11,
    "start_time": "2023-03-06T09:23:29.314Z"
   },
   {
    "duration": 812,
    "start_time": "2023-03-06T09:24:59.034Z"
   },
   {
    "duration": 796,
    "start_time": "2023-03-06T09:25:10.669Z"
   },
   {
    "duration": 12,
    "start_time": "2023-03-06T09:25:15.300Z"
   },
   {
    "duration": 34,
    "start_time": "2023-03-06T09:25:33.163Z"
   },
   {
    "duration": 10,
    "start_time": "2023-03-06T09:25:44.721Z"
   },
   {
    "duration": 10,
    "start_time": "2023-03-06T09:26:30.494Z"
   },
   {
    "duration": 9,
    "start_time": "2023-03-06T09:26:40.228Z"
   },
   {
    "duration": 21,
    "start_time": "2023-03-06T09:27:05.603Z"
   },
   {
    "duration": 2638,
    "start_time": "2023-03-06T13:08:44.907Z"
   },
   {
    "duration": 320,
    "start_time": "2023-03-06T13:08:47.547Z"
   },
   {
    "duration": 15,
    "start_time": "2023-03-06T13:08:47.869Z"
   },
   {
    "duration": 28,
    "start_time": "2023-03-06T13:08:47.886Z"
   },
   {
    "duration": 7,
    "start_time": "2023-03-06T13:08:47.917Z"
   },
   {
    "duration": 31,
    "start_time": "2023-03-06T13:08:47.926Z"
   },
   {
    "duration": 7,
    "start_time": "2023-03-06T13:08:47.960Z"
   },
   {
    "duration": 11,
    "start_time": "2023-03-06T13:08:47.969Z"
   },
   {
    "duration": 24,
    "start_time": "2023-03-06T13:08:47.981Z"
   },
   {
    "duration": 22,
    "start_time": "2023-03-06T13:08:48.007Z"
   },
   {
    "duration": 11,
    "start_time": "2023-03-06T13:08:48.031Z"
   },
   {
    "duration": 8,
    "start_time": "2023-03-06T13:08:48.056Z"
   },
   {
    "duration": 9,
    "start_time": "2023-03-06T13:08:48.066Z"
   },
   {
    "duration": 148,
    "start_time": "2023-03-06T13:08:48.078Z"
   },
   {
    "duration": 5,
    "start_time": "2023-03-06T13:08:48.228Z"
   },
   {
    "duration": 239,
    "start_time": "2023-03-06T13:08:48.234Z"
   },
   {
    "duration": 24,
    "start_time": "2023-03-06T13:08:48.475Z"
   },
   {
    "duration": 5,
    "start_time": "2023-03-06T13:08:48.500Z"
   },
   {
    "duration": 23,
    "start_time": "2023-03-06T13:08:48.506Z"
   },
   {
    "duration": 29,
    "start_time": "2023-03-06T13:08:48.532Z"
   },
   {
    "duration": 403,
    "start_time": "2023-03-06T13:08:48.562Z"
   },
   {
    "duration": 7,
    "start_time": "2023-03-06T13:08:48.966Z"
   },
   {
    "duration": 38,
    "start_time": "2023-03-06T13:08:48.975Z"
   },
   {
    "duration": 10,
    "start_time": "2023-03-06T13:08:49.015Z"
   },
   {
    "duration": 43,
    "start_time": "2023-03-06T13:08:49.026Z"
   },
   {
    "duration": 27,
    "start_time": "2023-03-06T13:08:49.071Z"
   },
   {
    "duration": 26,
    "start_time": "2023-03-06T13:08:49.100Z"
   },
   {
    "duration": 192,
    "start_time": "2023-03-06T13:08:49.128Z"
   },
   {
    "duration": 238,
    "start_time": "2023-03-06T13:08:49.322Z"
   },
   {
    "duration": 16,
    "start_time": "2023-03-06T13:08:49.562Z"
   },
   {
    "duration": 22,
    "start_time": "2023-03-06T13:08:49.580Z"
   },
   {
    "duration": 6,
    "start_time": "2023-03-06T13:08:49.604Z"
   },
   {
    "duration": 15,
    "start_time": "2023-03-06T13:08:49.612Z"
   },
   {
    "duration": 29,
    "start_time": "2023-03-06T13:08:49.629Z"
   },
   {
    "duration": 6,
    "start_time": "2023-03-06T13:08:49.660Z"
   },
   {
    "duration": 10,
    "start_time": "2023-03-06T13:08:49.668Z"
   },
   {
    "duration": 19,
    "start_time": "2023-03-06T13:08:49.680Z"
   },
   {
    "duration": 8,
    "start_time": "2023-03-06T13:08:54.133Z"
   },
   {
    "duration": 15,
    "start_time": "2023-03-06T13:09:59.408Z"
   },
   {
    "duration": 1708,
    "start_time": "2023-03-06T13:16:45.298Z"
   },
   {
    "duration": 11,
    "start_time": "2023-03-06T13:17:18.018Z"
   },
   {
    "duration": 13,
    "start_time": "2023-03-06T13:19:09.670Z"
   },
   {
    "duration": 14,
    "start_time": "2023-03-06T13:19:27.578Z"
   },
   {
    "duration": 16,
    "start_time": "2023-03-06T13:19:31.367Z"
   },
   {
    "duration": 8,
    "start_time": "2023-03-06T13:21:21.068Z"
   },
   {
    "duration": 5,
    "start_time": "2023-03-06T13:21:55.270Z"
   },
   {
    "duration": 18,
    "start_time": "2023-03-06T13:22:47.687Z"
   },
   {
    "duration": 26,
    "start_time": "2023-03-06T14:41:45.033Z"
   },
   {
    "duration": 17,
    "start_time": "2023-03-06T14:43:29.056Z"
   },
   {
    "duration": 25,
    "start_time": "2023-03-06T14:46:53.749Z"
   },
   {
    "duration": 6,
    "start_time": "2023-03-06T14:47:41.321Z"
   },
   {
    "duration": 17,
    "start_time": "2023-03-06T14:49:02.072Z"
   },
   {
    "duration": 3,
    "start_time": "2023-03-06T14:49:06.058Z"
   },
   {
    "duration": 105,
    "start_time": "2023-03-06T14:49:12.348Z"
   },
   {
    "duration": 7,
    "start_time": "2023-03-06T14:49:24.088Z"
   },
   {
    "duration": 26,
    "start_time": "2023-03-06T14:51:24.983Z"
   },
   {
    "duration": 9,
    "start_time": "2023-03-06T14:52:57.813Z"
   },
   {
    "duration": 10,
    "start_time": "2023-03-06T14:53:11.243Z"
   },
   {
    "duration": 27,
    "start_time": "2023-03-06T14:53:17.852Z"
   },
   {
    "duration": 9,
    "start_time": "2023-03-06T14:54:38.499Z"
   },
   {
    "duration": 240,
    "start_time": "2023-03-06T14:56:13.793Z"
   },
   {
    "duration": 242,
    "start_time": "2023-03-06T14:56:17.347Z"
   },
   {
    "duration": 265,
    "start_time": "2023-03-06T14:56:31.215Z"
   },
   {
    "duration": 626,
    "start_time": "2023-03-06T15:01:14.752Z"
   },
   {
    "duration": 1891,
    "start_time": "2023-03-06T15:01:23.098Z"
   },
   {
    "duration": 288,
    "start_time": "2023-03-06T15:01:58.274Z"
   },
   {
    "duration": 246,
    "start_time": "2023-03-06T15:04:00.748Z"
   },
   {
    "duration": 158,
    "start_time": "2023-03-06T15:04:41.225Z"
   },
   {
    "duration": 93,
    "start_time": "2023-03-06T15:04:57.633Z"
   },
   {
    "duration": 393,
    "start_time": "2023-03-06T15:05:00.958Z"
   },
   {
    "duration": 177,
    "start_time": "2023-03-06T15:05:32.994Z"
   },
   {
    "duration": 176,
    "start_time": "2023-03-06T15:05:36.273Z"
   },
   {
    "duration": 233,
    "start_time": "2023-03-06T15:05:55.671Z"
   },
   {
    "duration": 198,
    "start_time": "2023-03-06T15:06:02.939Z"
   },
   {
    "duration": 257,
    "start_time": "2023-03-06T15:06:07.656Z"
   },
   {
    "duration": 1432,
    "start_time": "2023-03-06T15:06:10.470Z"
   },
   {
    "duration": 1422,
    "start_time": "2023-03-06T15:06:43.635Z"
   },
   {
    "duration": 2680,
    "start_time": "2023-03-06T15:06:49.971Z"
   },
   {
    "duration": 1538,
    "start_time": "2023-03-06T15:07:25.544Z"
   },
   {
    "duration": 2736,
    "start_time": "2023-03-06T15:07:33.318Z"
   },
   {
    "duration": 6625,
    "start_time": "2023-03-06T15:07:39.784Z"
   },
   {
    "duration": 13422,
    "start_time": "2023-03-06T15:07:56.920Z"
   },
   {
    "duration": 14,
    "start_time": "2023-03-06T15:09:02.993Z"
   },
   {
    "duration": 14,
    "start_time": "2023-03-06T15:09:09.204Z"
   },
   {
    "duration": 11,
    "start_time": "2023-03-06T15:09:21.769Z"
   },
   {
    "duration": 10,
    "start_time": "2023-03-06T15:10:07.474Z"
   },
   {
    "duration": 28,
    "start_time": "2023-03-06T15:11:37.210Z"
   },
   {
    "duration": 7,
    "start_time": "2023-03-06T15:11:52.909Z"
   },
   {
    "duration": 9,
    "start_time": "2023-03-06T15:12:45.741Z"
   },
   {
    "duration": 4,
    "start_time": "2023-03-06T15:12:49.011Z"
   },
   {
    "duration": 9,
    "start_time": "2023-03-06T15:13:09.969Z"
   },
   {
    "duration": 6,
    "start_time": "2023-03-06T15:13:25.457Z"
   },
   {
    "duration": 4,
    "start_time": "2023-03-06T15:13:44.481Z"
   },
   {
    "duration": 157,
    "start_time": "2023-03-06T15:13:44.487Z"
   },
   {
    "duration": 12,
    "start_time": "2023-03-06T15:13:44.646Z"
   },
   {
    "duration": 1053,
    "start_time": "2023-03-06T15:13:44.660Z"
   },
   {
    "duration": 5,
    "start_time": "2023-03-06T15:13:45.716Z"
   },
   {
    "duration": 20,
    "start_time": "2023-03-06T15:13:45.722Z"
   },
   {
    "duration": 5,
    "start_time": "2023-03-06T15:13:45.744Z"
   },
   {
    "duration": 11,
    "start_time": "2023-03-06T15:13:45.750Z"
   },
   {
    "duration": 14,
    "start_time": "2023-03-06T15:13:45.762Z"
   },
   {
    "duration": 16,
    "start_time": "2023-03-06T15:13:45.777Z"
   },
   {
    "duration": 4,
    "start_time": "2023-03-06T15:13:45.795Z"
   },
   {
    "duration": 20,
    "start_time": "2023-03-06T15:13:45.801Z"
   },
   {
    "duration": 16,
    "start_time": "2023-03-06T15:13:45.823Z"
   },
   {
    "duration": 29,
    "start_time": "2023-03-06T15:13:45.841Z"
   },
   {
    "duration": 4,
    "start_time": "2023-03-06T15:13:45.872Z"
   },
   {
    "duration": 204,
    "start_time": "2023-03-06T15:13:45.877Z"
   },
   {
    "duration": 21,
    "start_time": "2023-03-06T15:13:46.083Z"
   },
   {
    "duration": 4,
    "start_time": "2023-03-06T15:13:46.105Z"
   },
   {
    "duration": 28,
    "start_time": "2023-03-06T15:13:46.111Z"
   },
   {
    "duration": 29,
    "start_time": "2023-03-06T15:13:46.141Z"
   },
   {
    "duration": 296,
    "start_time": "2023-03-06T15:13:46.172Z"
   },
   {
    "duration": 6,
    "start_time": "2023-03-06T15:13:46.470Z"
   },
   {
    "duration": 20,
    "start_time": "2023-03-06T15:13:46.478Z"
   },
   {
    "duration": 10,
    "start_time": "2023-03-06T15:13:46.500Z"
   },
   {
    "duration": 12,
    "start_time": "2023-03-06T15:13:46.512Z"
   },
   {
    "duration": 7,
    "start_time": "2023-03-06T15:13:46.525Z"
   },
   {
    "duration": 4,
    "start_time": "2023-03-06T15:13:46.557Z"
   },
   {
    "duration": 181,
    "start_time": "2023-03-06T15:13:46.563Z"
   },
   {
    "duration": 178,
    "start_time": "2023-03-06T15:13:46.746Z"
   },
   {
    "duration": 14,
    "start_time": "2023-03-06T15:13:46.925Z"
   },
   {
    "duration": 34,
    "start_time": "2023-03-06T15:13:46.940Z"
   },
   {
    "duration": 6,
    "start_time": "2023-03-06T15:13:46.976Z"
   },
   {
    "duration": 11,
    "start_time": "2023-03-06T15:13:46.984Z"
   },
   {
    "duration": 5,
    "start_time": "2023-03-06T15:13:46.996Z"
   },
   {
    "duration": 15,
    "start_time": "2023-03-06T15:13:47.002Z"
   },
   {
    "duration": 6,
    "start_time": "2023-03-06T15:13:47.018Z"
   },
   {
    "duration": 36,
    "start_time": "2023-03-06T15:13:47.025Z"
   },
   {
    "duration": 21,
    "start_time": "2023-03-06T15:13:47.062Z"
   },
   {
    "duration": 18,
    "start_time": "2023-03-06T15:13:47.084Z"
   },
   {
    "duration": 21,
    "start_time": "2023-03-06T15:13:47.104Z"
   },
   {
    "duration": 5,
    "start_time": "2023-03-06T15:13:47.128Z"
   },
   {
    "duration": 24,
    "start_time": "2023-03-06T15:13:47.135Z"
   },
   {
    "duration": 18,
    "start_time": "2023-03-06T15:13:47.160Z"
   },
   {
    "duration": 7,
    "start_time": "2023-03-06T15:13:47.180Z"
   },
   {
    "duration": 7,
    "start_time": "2023-03-06T15:13:47.189Z"
   },
   {
    "duration": 16,
    "start_time": "2023-03-06T15:13:47.198Z"
   },
   {
    "duration": 1444,
    "start_time": "2023-03-06T15:13:47.215Z"
   },
   {
    "duration": 2725,
    "start_time": "2023-03-06T15:13:48.661Z"
   },
   {
    "duration": 13007,
    "start_time": "2023-03-06T15:13:51.388Z"
   },
   {
    "duration": 10,
    "start_time": "2023-03-06T15:14:04.397Z"
   },
   {
    "duration": 7,
    "start_time": "2023-03-06T15:14:04.408Z"
   },
   {
    "duration": 14,
    "start_time": "2023-03-06T15:14:04.416Z"
   },
   {
    "duration": 9,
    "start_time": "2023-03-06T15:14:28.056Z"
   },
   {
    "duration": 4,
    "start_time": "2023-03-06T15:14:29.069Z"
   },
   {
    "duration": 1826,
    "start_time": "2023-03-06T20:41:35.360Z"
   },
   {
    "duration": 598,
    "start_time": "2023-03-06T20:41:37.188Z"
   },
   {
    "duration": 13,
    "start_time": "2023-03-06T20:41:37.788Z"
   },
   {
    "duration": 21,
    "start_time": "2023-03-06T20:41:37.803Z"
   },
   {
    "duration": 4,
    "start_time": "2023-03-06T20:41:37.827Z"
   },
   {
    "duration": 47,
    "start_time": "2023-03-06T20:41:37.837Z"
   },
   {
    "duration": 5,
    "start_time": "2023-03-06T20:41:37.886Z"
   },
   {
    "duration": 12,
    "start_time": "2023-03-06T20:41:37.892Z"
   },
   {
    "duration": 14,
    "start_time": "2023-03-06T20:41:37.905Z"
   },
   {
    "duration": 17,
    "start_time": "2023-03-06T20:41:37.921Z"
   },
   {
    "duration": 6,
    "start_time": "2023-03-06T20:41:37.939Z"
   },
   {
    "duration": 32,
    "start_time": "2023-03-06T20:41:37.946Z"
   },
   {
    "duration": 7,
    "start_time": "2023-03-06T20:41:37.980Z"
   },
   {
    "duration": 119,
    "start_time": "2023-03-06T20:41:37.989Z"
   },
   {
    "duration": 4,
    "start_time": "2023-03-06T20:41:38.110Z"
   },
   {
    "duration": 244,
    "start_time": "2023-03-06T20:41:38.115Z"
   },
   {
    "duration": 28,
    "start_time": "2023-03-06T20:41:38.361Z"
   },
   {
    "duration": 3,
    "start_time": "2023-03-06T20:41:38.391Z"
   },
   {
    "duration": 22,
    "start_time": "2023-03-06T20:41:38.396Z"
   },
   {
    "duration": 25,
    "start_time": "2023-03-06T20:41:38.420Z"
   },
   {
    "duration": 390,
    "start_time": "2023-03-06T20:41:38.455Z"
   },
   {
    "duration": 10,
    "start_time": "2023-03-06T20:41:38.846Z"
   },
   {
    "duration": 31,
    "start_time": "2023-03-06T20:41:38.857Z"
   },
   {
    "duration": 9,
    "start_time": "2023-03-06T20:41:38.889Z"
   },
   {
    "duration": 50,
    "start_time": "2023-03-06T20:41:38.900Z"
   },
   {
    "duration": 9,
    "start_time": "2023-03-06T20:41:38.955Z"
   },
   {
    "duration": 16,
    "start_time": "2023-03-06T20:41:38.967Z"
   },
   {
    "duration": 183,
    "start_time": "2023-03-06T20:41:38.984Z"
   },
   {
    "duration": 184,
    "start_time": "2023-03-06T20:41:39.169Z"
   },
   {
    "duration": 20,
    "start_time": "2023-03-06T20:41:39.359Z"
   },
   {
    "duration": 28,
    "start_time": "2023-03-06T20:41:39.381Z"
   },
   {
    "duration": 7,
    "start_time": "2023-03-06T20:41:39.411Z"
   },
   {
    "duration": 25,
    "start_time": "2023-03-06T20:41:39.419Z"
   },
   {
    "duration": 40,
    "start_time": "2023-03-06T20:41:39.445Z"
   },
   {
    "duration": 9,
    "start_time": "2023-03-06T20:41:39.487Z"
   },
   {
    "duration": 8,
    "start_time": "2023-03-06T20:41:39.498Z"
   },
   {
    "duration": 11,
    "start_time": "2023-03-06T20:41:39.507Z"
   },
   {
    "duration": 12,
    "start_time": "2023-03-06T20:41:39.519Z"
   },
   {
    "duration": 99,
    "start_time": "2023-03-06T20:41:39.532Z"
   },
   {
    "duration": 44,
    "start_time": "2023-03-06T20:41:39.632Z"
   },
   {
    "duration": 6,
    "start_time": "2023-03-06T20:41:39.680Z"
   },
   {
    "duration": 6,
    "start_time": "2023-03-06T20:41:39.687Z"
   },
   {
    "duration": 19,
    "start_time": "2023-03-06T20:41:39.695Z"
   },
   {
    "duration": 9,
    "start_time": "2023-03-06T20:41:39.716Z"
   },
   {
    "duration": 16,
    "start_time": "2023-03-06T20:41:39.726Z"
   },
   {
    "duration": 42,
    "start_time": "2023-03-06T20:41:39.743Z"
   },
   {
    "duration": 1460,
    "start_time": "2023-03-06T20:41:39.787Z"
   },
   {
    "duration": 2699,
    "start_time": "2023-03-06T20:41:41.255Z"
   },
   {
    "duration": 13276,
    "start_time": "2023-03-06T20:41:43.963Z"
   },
   {
    "duration": 14,
    "start_time": "2023-03-06T20:41:57.243Z"
   },
   {
    "duration": 26,
    "start_time": "2023-03-06T20:41:57.260Z"
   },
   {
    "duration": 8,
    "start_time": "2023-03-06T20:42:24.418Z"
   },
   {
    "duration": 18,
    "start_time": "2023-03-06T20:42:47.115Z"
   },
   {
    "duration": 4,
    "start_time": "2023-03-06T20:43:07.923Z"
   },
   {
    "duration": 16,
    "start_time": "2023-03-06T20:43:10.202Z"
   },
   {
    "duration": 16,
    "start_time": "2023-03-06T20:47:35.901Z"
   },
   {
    "duration": 3,
    "start_time": "2023-03-06T20:59:20.102Z"
   },
   {
    "duration": 10,
    "start_time": "2023-03-06T21:00:32.465Z"
   },
   {
    "duration": 22,
    "start_time": "2023-03-06T21:00:34.364Z"
   },
   {
    "duration": 27,
    "start_time": "2023-03-06T21:00:55.765Z"
   },
   {
    "duration": 3,
    "start_time": "2023-03-06T21:01:18.317Z"
   },
   {
    "duration": 6,
    "start_time": "2023-03-06T21:01:19.688Z"
   },
   {
    "duration": 21,
    "start_time": "2023-03-06T21:01:22.376Z"
   },
   {
    "duration": 4,
    "start_time": "2023-03-06T21:04:08.210Z"
   },
   {
    "duration": 4,
    "start_time": "2023-03-06T21:04:25.610Z"
   },
   {
    "duration": 3,
    "start_time": "2023-03-06T21:04:32.379Z"
   },
   {
    "duration": 8,
    "start_time": "2023-03-06T21:04:33.966Z"
   },
   {
    "duration": 38,
    "start_time": "2023-03-06T21:04:39.120Z"
   },
   {
    "duration": 1835,
    "start_time": "2023-03-06T21:05:25.215Z"
   },
   {
    "duration": 0,
    "start_time": "2023-03-06T21:05:27.058Z"
   },
   {
    "duration": 22,
    "start_time": "2023-03-06T21:05:43.270Z"
   },
   {
    "duration": 15,
    "start_time": "2023-03-06T21:05:47.565Z"
   },
   {
    "duration": 39,
    "start_time": "2023-03-06T21:05:53.131Z"
   },
   {
    "duration": 14,
    "start_time": "2023-03-06T21:12:10.565Z"
   },
   {
    "duration": 11,
    "start_time": "2023-03-06T21:14:56.561Z"
   },
   {
    "duration": 368,
    "start_time": "2023-03-06T21:15:50.153Z"
   },
   {
    "duration": 16,
    "start_time": "2023-03-06T21:15:54.719Z"
   },
   {
    "duration": 13,
    "start_time": "2023-03-06T21:16:58.972Z"
   },
   {
    "duration": 110,
    "start_time": "2023-03-06T21:17:04.983Z"
   },
   {
    "duration": 13,
    "start_time": "2023-03-06T21:17:06.730Z"
   },
   {
    "duration": 31,
    "start_time": "2023-03-06T21:17:17.452Z"
   },
   {
    "duration": 18,
    "start_time": "2023-03-06T21:17:20.306Z"
   },
   {
    "duration": 23,
    "start_time": "2023-03-06T21:17:22.123Z"
   },
   {
    "duration": 4,
    "start_time": "2023-03-06T21:18:34.291Z"
   },
   {
    "duration": 146,
    "start_time": "2023-03-06T21:18:35.457Z"
   },
   {
    "duration": 13,
    "start_time": "2023-03-06T21:18:37.668Z"
   },
   {
    "duration": 25,
    "start_time": "2023-03-06T21:18:39.823Z"
   },
   {
    "duration": 16,
    "start_time": "2023-03-06T21:18:44.408Z"
   },
   {
    "duration": 13,
    "start_time": "2023-03-06T21:18:48.281Z"
   },
   {
    "duration": 6,
    "start_time": "2023-03-06T21:20:19.451Z"
   },
   {
    "duration": 178,
    "start_time": "2023-03-06T21:20:20.711Z"
   },
   {
    "duration": 12,
    "start_time": "2023-03-06T21:20:23.861Z"
   },
   {
    "duration": 24,
    "start_time": "2023-03-06T21:20:26.320Z"
   },
   {
    "duration": 18,
    "start_time": "2023-03-06T21:20:30.855Z"
   },
   {
    "duration": 6,
    "start_time": "2023-03-06T21:21:00.249Z"
   },
   {
    "duration": 4,
    "start_time": "2023-03-06T21:21:05.460Z"
   },
   {
    "duration": 5,
    "start_time": "2023-03-06T21:21:14.715Z"
   },
   {
    "duration": 12,
    "start_time": "2023-03-06T21:21:17.215Z"
   },
   {
    "duration": 5,
    "start_time": "2023-03-06T21:21:18.775Z"
   },
   {
    "duration": 6,
    "start_time": "2023-03-06T21:21:20.871Z"
   },
   {
    "duration": 28,
    "start_time": "2023-03-06T21:21:24.030Z"
   },
   {
    "duration": 33,
    "start_time": "2023-03-06T21:21:29.419Z"
   },
   {
    "duration": 5,
    "start_time": "2023-03-06T21:21:47.723Z"
   },
   {
    "duration": 10,
    "start_time": "2023-03-06T21:21:50.861Z"
   },
   {
    "duration": 7,
    "start_time": "2023-03-06T21:21:53.453Z"
   },
   {
    "duration": 31,
    "start_time": "2023-03-06T21:21:57.230Z"
   },
   {
    "duration": 4,
    "start_time": "2023-03-06T21:22:01.320Z"
   },
   {
    "duration": 28,
    "start_time": "2023-03-06T21:22:10.715Z"
   },
   {
    "duration": 6,
    "start_time": "2023-03-06T21:22:15.763Z"
   },
   {
    "duration": 25,
    "start_time": "2023-03-06T21:22:17.959Z"
   },
   {
    "duration": 8,
    "start_time": "2023-03-06T21:22:21.778Z"
   },
   {
    "duration": 15,
    "start_time": "2023-03-06T21:22:28.719Z"
   },
   {
    "duration": 341,
    "start_time": "2023-03-06T21:22:37.917Z"
   },
   {
    "duration": 5,
    "start_time": "2023-03-06T21:22:39.605Z"
   },
   {
    "duration": 19,
    "start_time": "2023-03-06T21:22:44.726Z"
   },
   {
    "duration": 9,
    "start_time": "2023-03-06T21:22:50.974Z"
   },
   {
    "duration": 10,
    "start_time": "2023-03-06T21:23:01.967Z"
   },
   {
    "duration": 21,
    "start_time": "2023-03-06T21:23:48.535Z"
   },
   {
    "duration": 12,
    "start_time": "2023-03-06T21:24:06.947Z"
   },
   {
    "duration": 9,
    "start_time": "2023-03-06T21:24:17.403Z"
   },
   {
    "duration": 6,
    "start_time": "2023-03-06T21:24:20.149Z"
   },
   {
    "duration": 171,
    "start_time": "2023-03-06T21:24:27.969Z"
   },
   {
    "duration": 182,
    "start_time": "2023-03-06T21:24:31.022Z"
   },
   {
    "duration": 14,
    "start_time": "2023-03-06T21:25:32.375Z"
   },
   {
    "duration": 24,
    "start_time": "2023-03-06T21:25:36.654Z"
   },
   {
    "duration": 3,
    "start_time": "2023-03-06T21:26:07.780Z"
   },
   {
    "duration": 192,
    "start_time": "2023-03-06T21:26:07.785Z"
   },
   {
    "duration": 10,
    "start_time": "2023-03-06T21:26:07.979Z"
   },
   {
    "duration": 40,
    "start_time": "2023-03-06T21:26:07.991Z"
   },
   {
    "duration": 36,
    "start_time": "2023-03-06T21:26:08.033Z"
   },
   {
    "duration": 23,
    "start_time": "2023-03-06T21:26:08.072Z"
   },
   {
    "duration": 18,
    "start_time": "2023-03-06T21:26:08.096Z"
   },
   {
    "duration": 51,
    "start_time": "2023-03-06T21:26:08.115Z"
   },
   {
    "duration": 52,
    "start_time": "2023-03-06T21:26:08.169Z"
   },
   {
    "duration": 56,
    "start_time": "2023-03-06T21:26:08.223Z"
   },
   {
    "duration": 21,
    "start_time": "2023-03-06T21:26:08.281Z"
   },
   {
    "duration": 8,
    "start_time": "2023-03-06T21:26:08.303Z"
   },
   {
    "duration": 61,
    "start_time": "2023-03-06T21:26:08.313Z"
   },
   {
    "duration": 39,
    "start_time": "2023-03-06T21:26:08.375Z"
   },
   {
    "duration": 12,
    "start_time": "2023-03-06T21:26:08.416Z"
   },
   {
    "duration": 251,
    "start_time": "2023-03-06T21:26:08.430Z"
   },
   {
    "duration": 20,
    "start_time": "2023-03-06T21:26:08.682Z"
   },
   {
    "duration": 4,
    "start_time": "2023-03-06T21:26:08.703Z"
   },
   {
    "duration": 59,
    "start_time": "2023-03-06T21:26:08.708Z"
   },
   {
    "duration": 122,
    "start_time": "2023-03-06T21:26:08.768Z"
   },
   {
    "duration": 266,
    "start_time": "2023-03-06T21:26:08.892Z"
   },
   {
    "duration": 12,
    "start_time": "2023-03-06T21:26:09.164Z"
   },
   {
    "duration": 20,
    "start_time": "2023-03-06T21:26:09.178Z"
   },
   {
    "duration": 11,
    "start_time": "2023-03-06T21:26:09.200Z"
   },
   {
    "duration": 9,
    "start_time": "2023-03-06T21:26:09.213Z"
   },
   {
    "duration": 12,
    "start_time": "2023-03-06T21:26:09.224Z"
   },
   {
    "duration": 38,
    "start_time": "2023-03-06T21:26:09.237Z"
   },
   {
    "duration": 194,
    "start_time": "2023-03-06T21:26:09.276Z"
   },
   {
    "duration": 186,
    "start_time": "2023-03-06T21:26:09.472Z"
   },
   {
    "duration": 17,
    "start_time": "2023-03-06T21:26:09.659Z"
   },
   {
    "duration": 27,
    "start_time": "2023-03-06T21:26:09.678Z"
   },
   {
    "duration": 5,
    "start_time": "2023-03-06T21:26:09.707Z"
   },
   {
    "duration": 22,
    "start_time": "2023-03-06T21:26:09.714Z"
   },
   {
    "duration": 5,
    "start_time": "2023-03-06T21:26:09.737Z"
   },
   {
    "duration": 37,
    "start_time": "2023-03-06T21:26:09.746Z"
   },
   {
    "duration": 4,
    "start_time": "2023-03-06T21:26:09.785Z"
   },
   {
    "duration": 8,
    "start_time": "2023-03-06T21:26:09.793Z"
   },
   {
    "duration": 9,
    "start_time": "2023-03-06T21:26:09.802Z"
   },
   {
    "duration": 12,
    "start_time": "2023-03-06T21:26:09.813Z"
   },
   {
    "duration": 26,
    "start_time": "2023-03-06T21:26:09.827Z"
   },
   {
    "duration": 25,
    "start_time": "2023-03-06T21:26:09.854Z"
   },
   {
    "duration": 6,
    "start_time": "2023-03-06T21:26:09.880Z"
   },
   {
    "duration": 18,
    "start_time": "2023-03-06T21:26:09.887Z"
   },
   {
    "duration": 7,
    "start_time": "2023-03-06T21:26:09.907Z"
   },
   {
    "duration": 6,
    "start_time": "2023-03-06T21:26:09.915Z"
   },
   {
    "duration": 15,
    "start_time": "2023-03-06T21:26:09.923Z"
   },
   {
    "duration": 2283,
    "start_time": "2023-03-06T21:26:09.941Z"
   },
   {
    "duration": 2766,
    "start_time": "2023-03-06T21:26:12.225Z"
   },
   {
    "duration": 13304,
    "start_time": "2023-03-06T21:26:14.993Z"
   },
   {
    "duration": 8,
    "start_time": "2023-03-06T21:26:28.298Z"
   },
   {
    "duration": 4,
    "start_time": "2023-03-06T21:26:28.308Z"
   },
   {
    "duration": 32,
    "start_time": "2023-03-06T21:26:28.314Z"
   },
   {
    "duration": 4,
    "start_time": "2023-03-06T21:26:28.347Z"
   },
   {
    "duration": 25,
    "start_time": "2023-03-06T21:26:28.353Z"
   },
   {
    "duration": 12,
    "start_time": "2023-03-06T21:26:28.379Z"
   },
   {
    "duration": 4,
    "start_time": "2023-03-06T21:26:28.393Z"
   },
   {
    "duration": 8,
    "start_time": "2023-03-06T21:31:07.820Z"
   },
   {
    "duration": 15,
    "start_time": "2023-03-06T21:31:14.806Z"
   },
   {
    "duration": 6,
    "start_time": "2023-03-06T21:33:04.282Z"
   },
   {
    "duration": 119,
    "start_time": "2023-03-06T21:34:26.061Z"
   },
   {
    "duration": 118,
    "start_time": "2023-03-06T21:34:29.294Z"
   },
   {
    "duration": 153,
    "start_time": "2023-03-06T21:34:41.677Z"
   },
   {
    "duration": 204,
    "start_time": "2023-03-06T21:34:53.406Z"
   },
   {
    "duration": 167,
    "start_time": "2023-03-06T21:35:23.355Z"
   },
   {
    "duration": 180,
    "start_time": "2023-03-06T21:35:28.507Z"
   },
   {
    "duration": 174,
    "start_time": "2023-03-06T21:35:32.474Z"
   },
   {
    "duration": 6,
    "start_time": "2023-03-06T21:36:58.215Z"
   },
   {
    "duration": 8,
    "start_time": "2023-03-06T21:37:12.371Z"
   },
   {
    "duration": 14,
    "start_time": "2023-03-06T21:37:22.460Z"
   },
   {
    "duration": 17,
    "start_time": "2023-03-06T21:37:39.410Z"
   },
   {
    "duration": 10,
    "start_time": "2023-03-06T21:38:10.365Z"
   },
   {
    "duration": 14,
    "start_time": "2023-03-06T21:38:15.361Z"
   },
   {
    "duration": 19,
    "start_time": "2023-03-06T21:38:59.586Z"
   },
   {
    "duration": 1232,
    "start_time": "2023-03-06T21:39:14.886Z"
   },
   {
    "duration": 181,
    "start_time": "2023-03-06T21:39:33.564Z"
   },
   {
    "duration": 198,
    "start_time": "2023-03-06T21:39:37.781Z"
   },
   {
    "duration": 183,
    "start_time": "2023-03-06T21:40:17.333Z"
   },
   {
    "duration": 27,
    "start_time": "2023-03-06T21:53:41.208Z"
   },
   {
    "duration": 101,
    "start_time": "2023-03-06T21:57:47.027Z"
   },
   {
    "duration": 9,
    "start_time": "2023-03-06T21:58:00.258Z"
   },
   {
    "duration": 5,
    "start_time": "2023-03-06T21:58:06.661Z"
   },
   {
    "duration": 204,
    "start_time": "2023-03-06T21:58:16.328Z"
   },
   {
    "duration": 8,
    "start_time": "2023-03-06T21:59:11.643Z"
   },
   {
    "duration": 138,
    "start_time": "2023-03-06T22:00:08.379Z"
   },
   {
    "duration": 154,
    "start_time": "2023-03-06T22:01:35.624Z"
   },
   {
    "duration": 152,
    "start_time": "2023-03-06T22:01:43.995Z"
   },
   {
    "duration": 142,
    "start_time": "2023-03-06T22:01:53.458Z"
   },
   {
    "duration": 119,
    "start_time": "2023-03-06T22:02:16.256Z"
   },
   {
    "duration": 138,
    "start_time": "2023-03-06T22:02:39.413Z"
   },
   {
    "duration": 134,
    "start_time": "2023-03-06T22:04:43.161Z"
   },
   {
    "duration": 162,
    "start_time": "2023-03-06T22:05:00.564Z"
   },
   {
    "duration": 240,
    "start_time": "2023-03-06T22:05:45.049Z"
   },
   {
    "duration": 158,
    "start_time": "2023-03-06T22:05:56.470Z"
   },
   {
    "duration": 260,
    "start_time": "2023-03-06T22:06:18.014Z"
   },
   {
    "duration": 140,
    "start_time": "2023-03-06T22:06:29.702Z"
   },
   {
    "duration": 12,
    "start_time": "2023-03-06T22:06:46.354Z"
   },
   {
    "duration": 9,
    "start_time": "2023-03-06T22:07:07.179Z"
   },
   {
    "duration": 8,
    "start_time": "2023-03-06T22:07:26.357Z"
   },
   {
    "duration": 7,
    "start_time": "2023-03-06T22:07:32.191Z"
   },
   {
    "duration": 134,
    "start_time": "2023-03-06T22:08:10.539Z"
   },
   {
    "duration": 159,
    "start_time": "2023-03-06T22:08:28.083Z"
   },
   {
    "duration": 157,
    "start_time": "2023-03-06T22:08:39.158Z"
   },
   {
    "duration": 173,
    "start_time": "2023-03-06T22:09:12.621Z"
   },
   {
    "duration": 108,
    "start_time": "2023-03-06T22:09:55.966Z"
   },
   {
    "duration": 15,
    "start_time": "2023-03-06T22:10:58.131Z"
   },
   {
    "duration": 12,
    "start_time": "2023-03-06T22:11:04.411Z"
   },
   {
    "duration": 10,
    "start_time": "2023-03-06T22:11:10.616Z"
   },
   {
    "duration": 6,
    "start_time": "2023-03-06T22:11:24.759Z"
   },
   {
    "duration": 6,
    "start_time": "2023-03-06T22:11:30.776Z"
   },
   {
    "duration": 6,
    "start_time": "2023-03-06T22:11:48.225Z"
   },
   {
    "duration": 7,
    "start_time": "2023-03-06T22:11:56.708Z"
   },
   {
    "duration": 11,
    "start_time": "2023-03-06T22:12:06.565Z"
   },
   {
    "duration": 6,
    "start_time": "2023-03-06T22:12:34.358Z"
   },
   {
    "duration": 7,
    "start_time": "2023-03-06T22:12:41.503Z"
   },
   {
    "duration": 6,
    "start_time": "2023-03-06T22:12:43.085Z"
   },
   {
    "duration": 170,
    "start_time": "2023-03-06T22:13:01.632Z"
   },
   {
    "duration": 151,
    "start_time": "2023-03-06T22:13:39.673Z"
   },
   {
    "duration": 14,
    "start_time": "2023-03-06T22:13:53.346Z"
   },
   {
    "duration": 74,
    "start_time": "2023-03-06T22:14:19.358Z"
   },
   {
    "duration": 83,
    "start_time": "2023-03-06T22:14:41.505Z"
   },
   {
    "duration": 168,
    "start_time": "2023-03-06T22:14:48.814Z"
   },
   {
    "duration": 163,
    "start_time": "2023-03-06T22:14:59.803Z"
   },
   {
    "duration": 156,
    "start_time": "2023-03-06T22:15:13.266Z"
   },
   {
    "duration": 161,
    "start_time": "2023-03-06T22:16:34.814Z"
   },
   {
    "duration": 155,
    "start_time": "2023-03-06T22:16:53.363Z"
   },
   {
    "duration": 166,
    "start_time": "2023-03-06T22:17:01.781Z"
   },
   {
    "duration": 6,
    "start_time": "2023-03-06T22:22:50.469Z"
   },
   {
    "duration": 251,
    "start_time": "2023-03-06T22:24:05.630Z"
   },
   {
    "duration": 146,
    "start_time": "2023-03-06T22:24:12.702Z"
   },
   {
    "duration": 135,
    "start_time": "2023-03-06T22:24:21.717Z"
   },
   {
    "duration": 8,
    "start_time": "2023-03-06T22:24:27.450Z"
   },
   {
    "duration": 9,
    "start_time": "2023-03-06T22:24:37.397Z"
   },
   {
    "duration": 13,
    "start_time": "2023-03-06T22:25:19.953Z"
   },
   {
    "duration": 13,
    "start_time": "2023-03-06T22:27:37.301Z"
   },
   {
    "duration": 26,
    "start_time": "2023-03-06T22:33:42.445Z"
   },
   {
    "duration": 17,
    "start_time": "2023-03-06T22:34:52.966Z"
   },
   {
    "duration": 20,
    "start_time": "2023-03-06T22:35:17.272Z"
   },
   {
    "duration": 23,
    "start_time": "2023-03-06T22:35:39.173Z"
   },
   {
    "duration": 19,
    "start_time": "2023-03-06T22:35:49.802Z"
   },
   {
    "duration": 16,
    "start_time": "2023-03-06T22:37:11.171Z"
   },
   {
    "duration": 27,
    "start_time": "2023-03-06T22:41:24.987Z"
   },
   {
    "duration": 11,
    "start_time": "2023-03-06T22:41:41.936Z"
   },
   {
    "duration": 17,
    "start_time": "2023-03-06T22:42:32.428Z"
   },
   {
    "duration": 7,
    "start_time": "2023-03-06T22:42:55.013Z"
   },
   {
    "duration": 23,
    "start_time": "2023-03-06T22:45:51.435Z"
   },
   {
    "duration": 15,
    "start_time": "2023-03-06T22:47:01.693Z"
   },
   {
    "duration": 19,
    "start_time": "2023-03-06T22:47:26.150Z"
   },
   {
    "duration": 21,
    "start_time": "2023-03-06T22:47:44.681Z"
   },
   {
    "duration": 20,
    "start_time": "2023-03-06T22:47:57.596Z"
   },
   {
    "duration": 23,
    "start_time": "2023-03-06T22:49:54.223Z"
   },
   {
    "duration": 35,
    "start_time": "2023-03-06T22:54:09.822Z"
   },
   {
    "duration": 8,
    "start_time": "2023-03-06T22:54:33.518Z"
   },
   {
    "duration": 30,
    "start_time": "2023-03-06T22:55:07.847Z"
   },
   {
    "duration": 32,
    "start_time": "2023-03-06T22:55:25.773Z"
   },
   {
    "duration": 40,
    "start_time": "2023-03-06T22:58:36.669Z"
   },
   {
    "duration": 81,
    "start_time": "2023-03-06T23:03:43.164Z"
   },
   {
    "duration": 5,
    "start_time": "2023-03-06T23:05:08.220Z"
   },
   {
    "duration": 21,
    "start_time": "2023-03-06T23:07:24.369Z"
   },
   {
    "duration": 34,
    "start_time": "2023-03-06T23:07:27.486Z"
   },
   {
    "duration": 21,
    "start_time": "2023-03-06T23:07:36.359Z"
   },
   {
    "duration": 7,
    "start_time": "2023-03-06T23:10:29.938Z"
   },
   {
    "duration": 5,
    "start_time": "2023-03-06T23:10:38.660Z"
   },
   {
    "duration": 10,
    "start_time": "2023-03-06T23:11:06.616Z"
   },
   {
    "duration": 2,
    "start_time": "2023-03-06T23:11:26.670Z"
   },
   {
    "duration": 4,
    "start_time": "2023-03-06T23:11:29.658Z"
   },
   {
    "duration": 9,
    "start_time": "2023-03-06T23:11:40.469Z"
   },
   {
    "duration": 13,
    "start_time": "2023-03-06T23:11:44.345Z"
   },
   {
    "duration": 4,
    "start_time": "2023-03-06T23:11:55.159Z"
   },
   {
    "duration": 11,
    "start_time": "2023-03-06T23:13:03.553Z"
   },
   {
    "duration": 4,
    "start_time": "2023-03-06T23:14:11.667Z"
   },
   {
    "duration": 5,
    "start_time": "2023-03-06T23:15:15.699Z"
   },
   {
    "duration": 16,
    "start_time": "2023-03-06T23:15:17.483Z"
   },
   {
    "duration": 14,
    "start_time": "2023-03-06T23:15:19.782Z"
   },
   {
    "duration": 32,
    "start_time": "2023-03-06T23:15:35.357Z"
   },
   {
    "duration": 21,
    "start_time": "2023-03-06T23:15:46.476Z"
   },
   {
    "duration": 28,
    "start_time": "2023-03-06T23:18:50.919Z"
   },
   {
    "duration": 31,
    "start_time": "2023-03-06T23:18:54.026Z"
   },
   {
    "duration": 50,
    "start_time": "2023-03-06T23:20:49.091Z"
   },
   {
    "duration": 23,
    "start_time": "2023-03-06T23:22:04.331Z"
   },
   {
    "duration": 8,
    "start_time": "2023-03-06T23:22:43.519Z"
   },
   {
    "duration": 18,
    "start_time": "2023-03-06T23:22:49.631Z"
   },
   {
    "duration": 204,
    "start_time": "2023-03-06T23:23:23.929Z"
   },
   {
    "duration": 36,
    "start_time": "2023-03-06T23:25:08.318Z"
   },
   {
    "duration": 38,
    "start_time": "2023-03-06T23:25:29.512Z"
   },
   {
    "duration": 13,
    "start_time": "2023-03-06T23:25:50.969Z"
   },
   {
    "duration": 29,
    "start_time": "2023-03-06T23:31:44.340Z"
   },
   {
    "duration": 213,
    "start_time": "2023-03-06T23:32:09.760Z"
   },
   {
    "duration": 203,
    "start_time": "2023-03-06T23:33:16.918Z"
   },
   {
    "duration": 207,
    "start_time": "2023-03-06T23:33:37.385Z"
   },
   {
    "duration": 202,
    "start_time": "2023-03-06T23:33:49.553Z"
   },
   {
    "duration": 205,
    "start_time": "2023-03-06T23:34:48.466Z"
   },
   {
    "duration": 220,
    "start_time": "2023-03-06T23:34:55.705Z"
   },
   {
    "duration": 373,
    "start_time": "2023-03-06T23:35:17.711Z"
   },
   {
    "duration": 8,
    "start_time": "2023-03-06T23:39:22.378Z"
   },
   {
    "duration": 9,
    "start_time": "2023-03-06T23:40:03.607Z"
   },
   {
    "duration": 97,
    "start_time": "2023-03-06T23:40:31.088Z"
   },
   {
    "duration": 12,
    "start_time": "2023-03-06T23:40:46.822Z"
   },
   {
    "duration": 24,
    "start_time": "2023-03-06T23:40:59.573Z"
   },
   {
    "duration": 10,
    "start_time": "2023-03-06T23:41:09.203Z"
   },
   {
    "duration": 16,
    "start_time": "2023-03-06T23:41:28.777Z"
   },
   {
    "duration": 13,
    "start_time": "2023-03-06T23:42:12.560Z"
   },
   {
    "duration": 19,
    "start_time": "2023-03-06T23:51:55.427Z"
   },
   {
    "duration": 18,
    "start_time": "2023-03-06T23:52:10.479Z"
   },
   {
    "duration": 1729,
    "start_time": "2023-03-07T09:42:46.227Z"
   },
   {
    "duration": 377,
    "start_time": "2023-03-07T09:42:47.958Z"
   },
   {
    "duration": 14,
    "start_time": "2023-03-07T09:42:48.337Z"
   },
   {
    "duration": 32,
    "start_time": "2023-03-07T09:42:48.353Z"
   },
   {
    "duration": 5,
    "start_time": "2023-03-07T09:42:48.387Z"
   },
   {
    "duration": 22,
    "start_time": "2023-03-07T09:42:48.393Z"
   },
   {
    "duration": 6,
    "start_time": "2023-03-07T09:42:48.416Z"
   },
   {
    "duration": 11,
    "start_time": "2023-03-07T09:42:48.423Z"
   },
   {
    "duration": 36,
    "start_time": "2023-03-07T09:42:48.435Z"
   },
   {
    "duration": 12,
    "start_time": "2023-03-07T09:42:48.474Z"
   },
   {
    "duration": 7,
    "start_time": "2023-03-07T09:42:48.488Z"
   },
   {
    "duration": 9,
    "start_time": "2023-03-07T09:42:48.496Z"
   },
   {
    "duration": 5,
    "start_time": "2023-03-07T09:42:48.507Z"
   },
   {
    "duration": 122,
    "start_time": "2023-03-07T09:42:48.513Z"
   },
   {
    "duration": 5,
    "start_time": "2023-03-07T09:42:48.647Z"
   },
   {
    "duration": 215,
    "start_time": "2023-03-07T09:42:48.657Z"
   },
   {
    "duration": 21,
    "start_time": "2023-03-07T09:42:48.873Z"
   },
   {
    "duration": 10,
    "start_time": "2023-03-07T09:42:48.896Z"
   },
   {
    "duration": 37,
    "start_time": "2023-03-07T09:42:48.908Z"
   },
   {
    "duration": 13,
    "start_time": "2023-03-07T09:42:48.947Z"
   },
   {
    "duration": 292,
    "start_time": "2023-03-07T09:42:48.965Z"
   },
   {
    "duration": 12,
    "start_time": "2023-03-07T09:42:49.259Z"
   },
   {
    "duration": 13,
    "start_time": "2023-03-07T09:42:49.273Z"
   },
   {
    "duration": 64,
    "start_time": "2023-03-07T09:42:49.288Z"
   },
   {
    "duration": 20,
    "start_time": "2023-03-07T09:42:49.354Z"
   },
   {
    "duration": 8,
    "start_time": "2023-03-07T09:42:49.376Z"
   },
   {
    "duration": 5,
    "start_time": "2023-03-07T09:42:49.385Z"
   },
   {
    "duration": 177,
    "start_time": "2023-03-07T09:42:49.395Z"
   },
   {
    "duration": 174,
    "start_time": "2023-03-07T09:42:49.573Z"
   },
   {
    "duration": 16,
    "start_time": "2023-03-07T09:42:49.748Z"
   },
   {
    "duration": 36,
    "start_time": "2023-03-07T09:42:49.766Z"
   },
   {
    "duration": 6,
    "start_time": "2023-03-07T09:42:49.804Z"
   },
   {
    "duration": 8,
    "start_time": "2023-03-07T09:42:49.811Z"
   },
   {
    "duration": 4,
    "start_time": "2023-03-07T09:42:49.821Z"
   },
   {
    "duration": 19,
    "start_time": "2023-03-07T09:42:49.826Z"
   },
   {
    "duration": 13,
    "start_time": "2023-03-07T09:42:49.846Z"
   },
   {
    "duration": 15,
    "start_time": "2023-03-07T09:42:49.863Z"
   },
   {
    "duration": 16,
    "start_time": "2023-03-07T09:42:49.880Z"
   },
   {
    "duration": 21,
    "start_time": "2023-03-07T09:42:49.898Z"
   },
   {
    "duration": 28,
    "start_time": "2023-03-07T09:42:49.921Z"
   },
   {
    "duration": 10,
    "start_time": "2023-03-07T09:42:49.950Z"
   },
   {
    "duration": 10,
    "start_time": "2023-03-07T09:42:49.977Z"
   },
   {
    "duration": 27,
    "start_time": "2023-03-07T09:42:49.989Z"
   },
   {
    "duration": 8,
    "start_time": "2023-03-07T09:42:50.018Z"
   },
   {
    "duration": 23,
    "start_time": "2023-03-07T09:42:50.028Z"
   },
   {
    "duration": 11,
    "start_time": "2023-03-07T09:42:50.052Z"
   },
   {
    "duration": 1353,
    "start_time": "2023-03-07T09:42:50.064Z"
   },
   {
    "duration": 2638,
    "start_time": "2023-03-07T09:42:51.418Z"
   },
   {
    "duration": 12213,
    "start_time": "2023-03-07T09:42:54.058Z"
   },
   {
    "duration": 8,
    "start_time": "2023-03-07T09:43:06.272Z"
   },
   {
    "duration": 12,
    "start_time": "2023-03-07T09:43:06.282Z"
   },
   {
    "duration": 10,
    "start_time": "2023-03-07T09:43:06.296Z"
   },
   {
    "duration": 7,
    "start_time": "2023-03-07T09:43:06.308Z"
   },
   {
    "duration": 6,
    "start_time": "2023-03-07T09:43:06.316Z"
   },
   {
    "duration": 27,
    "start_time": "2023-03-07T09:43:06.323Z"
   },
   {
    "duration": 20,
    "start_time": "2023-03-07T09:43:06.357Z"
   },
   {
    "duration": 12,
    "start_time": "2023-03-07T09:43:06.379Z"
   },
   {
    "duration": 7,
    "start_time": "2023-03-07T09:43:06.393Z"
   },
   {
    "duration": 1005,
    "start_time": "2023-03-07T09:43:06.402Z"
   },
   {
    "duration": 8,
    "start_time": "2023-03-07T09:43:07.408Z"
   },
   {
    "duration": 141,
    "start_time": "2023-03-07T09:43:07.417Z"
   },
   {
    "duration": 122,
    "start_time": "2023-03-07T09:43:07.560Z"
   },
   {
    "duration": 12,
    "start_time": "2023-03-07T09:43:07.683Z"
   },
   {
    "duration": 17,
    "start_time": "2023-03-07T09:43:07.697Z"
   },
   {
    "duration": 27,
    "start_time": "2023-03-07T09:43:07.716Z"
   },
   {
    "duration": 21,
    "start_time": "2023-03-07T09:43:07.747Z"
   },
   {
    "duration": 32,
    "start_time": "2023-03-07T09:43:07.770Z"
   },
   {
    "duration": 3,
    "start_time": "2023-03-07T09:43:07.804Z"
   },
   {
    "duration": 8,
    "start_time": "2023-03-07T09:43:07.808Z"
   },
   {
    "duration": 53,
    "start_time": "2023-03-07T09:43:07.817Z"
   },
   {
    "duration": 8,
    "start_time": "2023-03-07T09:43:07.872Z"
   },
   {
    "duration": 361,
    "start_time": "2023-03-07T09:43:07.881Z"
   },
   {
    "duration": 213,
    "start_time": "2023-03-07T09:43:08.244Z"
   },
   {
    "duration": 274,
    "start_time": "2023-03-07T09:43:08.458Z"
   },
   {
    "duration": 19,
    "start_time": "2023-03-07T09:43:08.734Z"
   },
   {
    "duration": 17,
    "start_time": "2023-03-07T09:47:45.017Z"
   },
   {
    "duration": 16319,
    "start_time": "2023-03-07T09:52:46.295Z"
   },
   {
    "duration": 27,
    "start_time": "2023-03-07T09:53:55.119Z"
   },
   {
    "duration": 5,
    "start_time": "2023-03-07T09:54:08.945Z"
   },
   {
    "duration": 882,
    "start_time": "2023-03-07T09:54:51.795Z"
   },
   {
    "duration": 7,
    "start_time": "2023-03-07T09:55:10.070Z"
   },
   {
    "duration": 15,
    "start_time": "2023-03-07T09:55:54.196Z"
   },
   {
    "duration": 10,
    "start_time": "2023-03-07T09:56:01.098Z"
   },
   {
    "duration": 179,
    "start_time": "2023-03-07T09:56:14.343Z"
   },
   {
    "duration": 138,
    "start_time": "2023-03-07T09:56:39.410Z"
   },
   {
    "duration": 156,
    "start_time": "2023-03-07T09:57:21.119Z"
   },
   {
    "duration": 135,
    "start_time": "2023-03-07T09:59:13.848Z"
   },
   {
    "duration": 11,
    "start_time": "2023-03-07T09:59:54.377Z"
   },
   {
    "duration": 139,
    "start_time": "2023-03-07T10:01:01.299Z"
   },
   {
    "duration": 162,
    "start_time": "2023-03-07T10:01:09.548Z"
   },
   {
    "duration": 133,
    "start_time": "2023-03-07T10:01:30.399Z"
   },
   {
    "duration": 160,
    "start_time": "2023-03-07T10:01:45.802Z"
   },
   {
    "duration": 162,
    "start_time": "2023-03-07T10:02:56.374Z"
   },
   {
    "duration": 150,
    "start_time": "2023-03-07T10:05:18.198Z"
   },
   {
    "duration": 245,
    "start_time": "2023-03-07T10:06:28.220Z"
   },
   {
    "duration": 249,
    "start_time": "2023-03-07T10:06:56.877Z"
   },
   {
    "duration": 274,
    "start_time": "2023-03-07T10:07:09.069Z"
   },
   {
    "duration": 239,
    "start_time": "2023-03-07T10:07:22.626Z"
   },
   {
    "duration": 277,
    "start_time": "2023-03-07T10:08:07.513Z"
   },
   {
    "duration": 283,
    "start_time": "2023-03-07T10:08:09.533Z"
   },
   {
    "duration": 295,
    "start_time": "2023-03-07T10:08:12.292Z"
   },
   {
    "duration": 361,
    "start_time": "2023-03-07T10:08:30.144Z"
   },
   {
    "duration": 374,
    "start_time": "2023-03-07T10:08:53.823Z"
   },
   {
    "duration": 306,
    "start_time": "2023-03-07T10:09:35.554Z"
   },
   {
    "duration": 255,
    "start_time": "2023-03-07T10:09:43.436Z"
   },
   {
    "duration": 317,
    "start_time": "2023-03-07T10:11:39.926Z"
   },
   {
    "duration": 283,
    "start_time": "2023-03-07T10:12:17.695Z"
   },
   {
    "duration": 292,
    "start_time": "2023-03-07T10:12:38.381Z"
   },
   {
    "duration": 351,
    "start_time": "2023-03-07T10:13:02.369Z"
   },
   {
    "duration": 268,
    "start_time": "2023-03-07T10:13:20.024Z"
   },
   {
    "duration": 256,
    "start_time": "2023-03-07T10:14:02.715Z"
   },
   {
    "duration": 246,
    "start_time": "2023-03-07T10:14:07.491Z"
   },
   {
    "duration": 157,
    "start_time": "2023-03-07T10:14:12.748Z"
   },
   {
    "duration": 165,
    "start_time": "2023-03-07T10:14:19.491Z"
   },
   {
    "duration": 262,
    "start_time": "2023-03-07T10:14:58.926Z"
   },
   {
    "duration": 258,
    "start_time": "2023-03-07T10:15:26.127Z"
   },
   {
    "duration": 1637,
    "start_time": "2023-03-07T10:15:38.567Z"
   },
   {
    "duration": 371,
    "start_time": "2023-03-07T10:15:52.466Z"
   },
   {
    "duration": 327,
    "start_time": "2023-03-07T10:16:22.143Z"
   },
   {
    "duration": 288,
    "start_time": "2023-03-07T10:16:33.807Z"
   },
   {
    "duration": 315,
    "start_time": "2023-03-07T10:16:41.471Z"
   },
   {
    "duration": 420,
    "start_time": "2023-03-07T10:16:52.937Z"
   },
   {
    "duration": 238,
    "start_time": "2023-03-07T10:17:30.705Z"
   },
   {
    "duration": 232,
    "start_time": "2023-03-07T10:17:45.632Z"
   },
   {
    "duration": 16,
    "start_time": "2023-03-07T10:18:10.760Z"
   },
   {
    "duration": 201,
    "start_time": "2023-03-07T10:19:13.466Z"
   },
   {
    "duration": 204,
    "start_time": "2023-03-07T10:19:46.258Z"
   },
   {
    "duration": 1710,
    "start_time": "2023-03-07T13:57:45.910Z"
   },
   {
    "duration": 331,
    "start_time": "2023-03-07T13:57:47.622Z"
   },
   {
    "duration": 14,
    "start_time": "2023-03-07T13:57:47.955Z"
   },
   {
    "duration": 25,
    "start_time": "2023-03-07T13:57:47.970Z"
   },
   {
    "duration": 5,
    "start_time": "2023-03-07T13:57:47.997Z"
   },
   {
    "duration": 17,
    "start_time": "2023-03-07T13:57:48.004Z"
   },
   {
    "duration": 19,
    "start_time": "2023-03-07T13:57:48.023Z"
   },
   {
    "duration": 8,
    "start_time": "2023-03-07T13:57:48.044Z"
   },
   {
    "duration": 20,
    "start_time": "2023-03-07T13:57:48.054Z"
   },
   {
    "duration": 17,
    "start_time": "2023-03-07T13:57:48.076Z"
   },
   {
    "duration": 15,
    "start_time": "2023-03-07T13:57:48.095Z"
   },
   {
    "duration": 19,
    "start_time": "2023-03-07T13:57:48.112Z"
   },
   {
    "duration": 7,
    "start_time": "2023-03-07T13:57:48.133Z"
   },
   {
    "duration": 138,
    "start_time": "2023-03-07T13:57:48.144Z"
   },
   {
    "duration": 5,
    "start_time": "2023-03-07T13:57:48.284Z"
   },
   {
    "duration": 237,
    "start_time": "2023-03-07T13:57:48.291Z"
   },
   {
    "duration": 24,
    "start_time": "2023-03-07T13:57:48.531Z"
   },
   {
    "duration": 17,
    "start_time": "2023-03-07T13:57:48.557Z"
   },
   {
    "duration": 39,
    "start_time": "2023-03-07T13:57:48.575Z"
   },
   {
    "duration": 12,
    "start_time": "2023-03-07T13:57:48.616Z"
   },
   {
    "duration": 303,
    "start_time": "2023-03-07T13:57:48.630Z"
   },
   {
    "duration": 7,
    "start_time": "2023-03-07T13:57:48.935Z"
   },
   {
    "duration": 14,
    "start_time": "2023-03-07T13:57:48.943Z"
   },
   {
    "duration": 11,
    "start_time": "2023-03-07T13:57:48.959Z"
   },
   {
    "duration": 10,
    "start_time": "2023-03-07T13:57:48.971Z"
   },
   {
    "duration": 39,
    "start_time": "2023-03-07T13:57:48.983Z"
   },
   {
    "duration": 4,
    "start_time": "2023-03-07T13:57:49.024Z"
   },
   {
    "duration": 191,
    "start_time": "2023-03-07T13:57:49.030Z"
   },
   {
    "duration": 198,
    "start_time": "2023-03-07T13:57:49.223Z"
   },
   {
    "duration": 14,
    "start_time": "2023-03-07T13:57:49.422Z"
   },
   {
    "duration": 28,
    "start_time": "2023-03-07T13:57:49.438Z"
   },
   {
    "duration": 6,
    "start_time": "2023-03-07T13:57:49.468Z"
   },
   {
    "duration": 27,
    "start_time": "2023-03-07T13:57:49.476Z"
   },
   {
    "duration": 16,
    "start_time": "2023-03-07T13:57:49.505Z"
   },
   {
    "duration": 8,
    "start_time": "2023-03-07T13:57:49.523Z"
   },
   {
    "duration": 15,
    "start_time": "2023-03-07T13:57:49.533Z"
   },
   {
    "duration": 9,
    "start_time": "2023-03-07T13:57:49.550Z"
   },
   {
    "duration": 18,
    "start_time": "2023-03-07T13:57:49.561Z"
   },
   {
    "duration": 40,
    "start_time": "2023-03-07T13:57:49.582Z"
   },
   {
    "duration": 50,
    "start_time": "2023-03-07T13:57:49.624Z"
   },
   {
    "duration": 10,
    "start_time": "2023-03-07T13:57:49.680Z"
   },
   {
    "duration": 8,
    "start_time": "2023-03-07T13:57:49.692Z"
   },
   {
    "duration": 24,
    "start_time": "2023-03-07T13:57:49.702Z"
   },
   {
    "duration": 16,
    "start_time": "2023-03-07T13:57:49.727Z"
   },
   {
    "duration": 11,
    "start_time": "2023-03-07T13:57:49.744Z"
   },
   {
    "duration": 17,
    "start_time": "2023-03-07T13:57:49.757Z"
   },
   {
    "duration": 1551,
    "start_time": "2023-03-07T13:57:49.776Z"
   },
   {
    "duration": 2784,
    "start_time": "2023-03-07T13:57:51.329Z"
   },
   {
    "duration": 12794,
    "start_time": "2023-03-07T13:57:54.115Z"
   },
   {
    "duration": 14,
    "start_time": "2023-03-07T13:58:06.911Z"
   },
   {
    "duration": 6,
    "start_time": "2023-03-07T13:58:06.926Z"
   },
   {
    "duration": 10,
    "start_time": "2023-03-07T13:58:06.933Z"
   },
   {
    "duration": 5,
    "start_time": "2023-03-07T13:58:06.945Z"
   },
   {
    "duration": 3,
    "start_time": "2023-03-07T13:58:06.951Z"
   },
   {
    "duration": 11,
    "start_time": "2023-03-07T13:58:06.956Z"
   },
   {
    "duration": 8,
    "start_time": "2023-03-07T13:58:06.969Z"
   },
   {
    "duration": 9,
    "start_time": "2023-03-07T13:58:06.978Z"
   },
   {
    "duration": 7,
    "start_time": "2023-03-07T13:58:07.022Z"
   },
   {
    "duration": 1049,
    "start_time": "2023-03-07T13:58:07.031Z"
   },
   {
    "duration": 9,
    "start_time": "2023-03-07T13:58:08.081Z"
   },
   {
    "duration": 145,
    "start_time": "2023-03-07T13:58:08.091Z"
   },
   {
    "duration": 137,
    "start_time": "2023-03-07T13:58:08.238Z"
   },
   {
    "duration": 12,
    "start_time": "2023-03-07T13:58:08.377Z"
   },
   {
    "duration": 36,
    "start_time": "2023-03-07T13:58:08.391Z"
   },
   {
    "duration": 7,
    "start_time": "2023-03-07T13:58:08.428Z"
   },
   {
    "duration": 20,
    "start_time": "2023-03-07T13:58:08.437Z"
   },
   {
    "duration": 33,
    "start_time": "2023-03-07T13:58:08.459Z"
   },
   {
    "duration": 2,
    "start_time": "2023-03-07T13:58:08.522Z"
   },
   {
    "duration": 5,
    "start_time": "2023-03-07T13:58:08.526Z"
   },
   {
    "duration": 23,
    "start_time": "2023-03-07T13:58:08.533Z"
   },
   {
    "duration": 9,
    "start_time": "2023-03-07T13:58:08.558Z"
   },
   {
    "duration": 160,
    "start_time": "2023-03-07T13:58:08.568Z"
   },
   {
    "duration": 332,
    "start_time": "2023-03-07T13:58:08.730Z"
   },
   {
    "duration": 283,
    "start_time": "2023-03-07T13:58:09.063Z"
   },
   {
    "duration": 16,
    "start_time": "2023-03-07T13:58:09.348Z"
   },
   {
    "duration": 20,
    "start_time": "2023-03-07T13:58:09.365Z"
   },
   {
    "duration": 35,
    "start_time": "2023-03-07T13:58:09.386Z"
   },
   {
    "duration": 191,
    "start_time": "2023-03-07T13:58:21.985Z"
   },
   {
    "duration": 12,
    "start_time": "2023-03-07T13:59:29.213Z"
   },
   {
    "duration": 142,
    "start_time": "2023-03-07T13:59:38.449Z"
   },
   {
    "duration": 12,
    "start_time": "2023-03-07T13:59:46.904Z"
   },
   {
    "duration": 13,
    "start_time": "2023-03-07T14:00:08.973Z"
   },
   {
    "duration": 13,
    "start_time": "2023-03-07T14:00:16.268Z"
   },
   {
    "duration": 4,
    "start_time": "2023-03-07T14:01:41.559Z"
   },
   {
    "duration": 14,
    "start_time": "2023-03-07T14:02:13.465Z"
   },
   {
    "duration": 7,
    "start_time": "2023-03-07T14:02:35.793Z"
   },
   {
    "duration": 125,
    "start_time": "2023-03-07T14:04:12.802Z"
   },
   {
    "duration": 1880,
    "start_time": "2023-03-07T19:53:17.944Z"
   },
   {
    "duration": 351,
    "start_time": "2023-03-07T19:53:19.827Z"
   },
   {
    "duration": 14,
    "start_time": "2023-03-07T19:53:20.179Z"
   },
   {
    "duration": 32,
    "start_time": "2023-03-07T19:53:20.195Z"
   },
   {
    "duration": 7,
    "start_time": "2023-03-07T19:53:20.231Z"
   },
   {
    "duration": 21,
    "start_time": "2023-03-07T19:53:20.242Z"
   },
   {
    "duration": 8,
    "start_time": "2023-03-07T19:53:20.266Z"
   },
   {
    "duration": 8,
    "start_time": "2023-03-07T19:53:20.276Z"
   },
   {
    "duration": 48,
    "start_time": "2023-03-07T19:53:20.285Z"
   },
   {
    "duration": 23,
    "start_time": "2023-03-07T19:53:20.335Z"
   },
   {
    "duration": 7,
    "start_time": "2023-03-07T19:53:20.361Z"
   },
   {
    "duration": 20,
    "start_time": "2023-03-07T19:53:20.371Z"
   },
   {
    "duration": 32,
    "start_time": "2023-03-07T19:53:20.393Z"
   },
   {
    "duration": 157,
    "start_time": "2023-03-07T19:53:20.432Z"
   },
   {
    "duration": 4,
    "start_time": "2023-03-07T19:53:20.591Z"
   },
   {
    "duration": 279,
    "start_time": "2023-03-07T19:53:20.596Z"
   },
   {
    "duration": 23,
    "start_time": "2023-03-07T19:53:20.877Z"
   },
   {
    "duration": 19,
    "start_time": "2023-03-07T19:53:20.902Z"
   },
   {
    "duration": 41,
    "start_time": "2023-03-07T19:53:20.924Z"
   },
   {
    "duration": 9,
    "start_time": "2023-03-07T19:53:20.968Z"
   },
   {
    "duration": 743,
    "start_time": "2023-03-07T19:53:20.979Z"
   },
   {
    "duration": 7,
    "start_time": "2023-03-07T19:53:21.725Z"
   },
   {
    "duration": 19,
    "start_time": "2023-03-07T19:53:21.735Z"
   },
   {
    "duration": 12,
    "start_time": "2023-03-07T19:53:21.757Z"
   },
   {
    "duration": 11,
    "start_time": "2023-03-07T19:53:21.771Z"
   },
   {
    "duration": 41,
    "start_time": "2023-03-07T19:53:21.784Z"
   },
   {
    "duration": 6,
    "start_time": "2023-03-07T19:53:21.826Z"
   },
   {
    "duration": 236,
    "start_time": "2023-03-07T19:53:21.834Z"
   },
   {
    "duration": 205,
    "start_time": "2023-03-07T19:53:22.073Z"
   },
   {
    "duration": 17,
    "start_time": "2023-03-07T19:53:22.280Z"
   },
   {
    "duration": 45,
    "start_time": "2023-03-07T19:53:22.299Z"
   },
   {
    "duration": 7,
    "start_time": "2023-03-07T19:53:22.346Z"
   },
   {
    "duration": 21,
    "start_time": "2023-03-07T19:53:22.355Z"
   },
   {
    "duration": 6,
    "start_time": "2023-03-07T19:53:22.378Z"
   },
   {
    "duration": 12,
    "start_time": "2023-03-07T19:53:22.386Z"
   },
   {
    "duration": 26,
    "start_time": "2023-03-07T19:53:22.400Z"
   },
   {
    "duration": 11,
    "start_time": "2023-03-07T19:53:22.428Z"
   },
   {
    "duration": 11,
    "start_time": "2023-03-07T19:53:22.441Z"
   },
   {
    "duration": 15,
    "start_time": "2023-03-07T19:53:22.454Z"
   },
   {
    "duration": 71,
    "start_time": "2023-03-07T19:53:22.471Z"
   },
   {
    "duration": 6,
    "start_time": "2023-03-07T19:53:22.552Z"
   },
   {
    "duration": 6,
    "start_time": "2023-03-07T19:53:22.560Z"
   },
   {
    "duration": 20,
    "start_time": "2023-03-07T19:53:22.568Z"
   },
   {
    "duration": 9,
    "start_time": "2023-03-07T19:53:22.590Z"
   },
   {
    "duration": 23,
    "start_time": "2023-03-07T19:53:22.601Z"
   },
   {
    "duration": 12,
    "start_time": "2023-03-07T19:53:22.626Z"
   },
   {
    "duration": 1512,
    "start_time": "2023-03-07T19:53:22.639Z"
   },
   {
    "duration": 2916,
    "start_time": "2023-03-07T19:53:24.153Z"
   },
   {
    "duration": 13965,
    "start_time": "2023-03-07T19:53:27.072Z"
   },
   {
    "duration": 9,
    "start_time": "2023-03-07T19:53:41.040Z"
   },
   {
    "duration": 6,
    "start_time": "2023-03-07T19:53:41.051Z"
   },
   {
    "duration": 13,
    "start_time": "2023-03-07T19:53:41.058Z"
   },
   {
    "duration": 5,
    "start_time": "2023-03-07T19:53:41.073Z"
   },
   {
    "duration": 3,
    "start_time": "2023-03-07T19:53:41.079Z"
   },
   {
    "duration": 41,
    "start_time": "2023-03-07T19:53:41.084Z"
   },
   {
    "duration": 5,
    "start_time": "2023-03-07T19:53:41.127Z"
   },
   {
    "duration": 13,
    "start_time": "2023-03-07T19:53:41.134Z"
   },
   {
    "duration": 7,
    "start_time": "2023-03-07T19:53:41.149Z"
   },
   {
    "duration": 1065,
    "start_time": "2023-03-07T19:53:41.158Z"
   },
   {
    "duration": 8,
    "start_time": "2023-03-07T19:53:42.225Z"
   },
   {
    "duration": 158,
    "start_time": "2023-03-07T19:53:42.235Z"
   },
   {
    "duration": 182,
    "start_time": "2023-03-07T19:53:42.395Z"
   },
   {
    "duration": 13,
    "start_time": "2023-03-07T19:53:42.579Z"
   },
   {
    "duration": 36,
    "start_time": "2023-03-07T19:53:42.594Z"
   },
   {
    "duration": 7,
    "start_time": "2023-03-07T19:53:42.632Z"
   },
   {
    "duration": 34,
    "start_time": "2023-03-07T19:53:42.641Z"
   },
   {
    "duration": 73,
    "start_time": "2023-03-07T19:53:42.677Z"
   },
   {
    "duration": 3,
    "start_time": "2023-03-07T19:53:42.753Z"
   },
   {
    "duration": 9,
    "start_time": "2023-03-07T19:53:42.758Z"
   },
   {
    "duration": 57,
    "start_time": "2023-03-07T19:53:42.768Z"
   },
   {
    "duration": 10,
    "start_time": "2023-03-07T19:53:42.828Z"
   },
   {
    "duration": 86,
    "start_time": "2023-03-07T19:53:42.840Z"
   },
   {
    "duration": 329,
    "start_time": "2023-03-07T19:53:42.927Z"
   },
   {
    "duration": 314,
    "start_time": "2023-03-07T19:53:43.258Z"
   },
   {
    "duration": 16,
    "start_time": "2023-03-07T19:53:43.573Z"
   },
   {
    "duration": 38,
    "start_time": "2023-03-07T19:53:43.591Z"
   },
   {
    "duration": 215,
    "start_time": "2023-03-07T19:53:43.631Z"
   },
   {
    "duration": 10,
    "start_time": "2023-03-07T19:53:43.848Z"
   },
   {
    "duration": 149,
    "start_time": "2023-03-07T19:53:56.397Z"
   },
   {
    "duration": 63,
    "start_time": "2023-03-07T19:58:33.804Z"
   },
   {
    "duration": 35,
    "start_time": "2023-03-07T20:04:59.922Z"
   },
   {
    "duration": 151,
    "start_time": "2023-03-07T20:08:17.196Z"
   },
   {
    "duration": 1044,
    "start_time": "2023-03-07T20:08:26.756Z"
   },
   {
    "duration": 14,
    "start_time": "2023-03-07T20:10:20.195Z"
   },
   {
    "duration": 23,
    "start_time": "2023-03-07T20:14:59.664Z"
   },
   {
    "duration": 23,
    "start_time": "2023-03-07T20:15:11.252Z"
   },
   {
    "duration": 6,
    "start_time": "2023-03-07T20:17:03.504Z"
   },
   {
    "duration": 12,
    "start_time": "2023-03-07T20:17:24.050Z"
   },
   {
    "duration": 13,
    "start_time": "2023-03-07T20:17:43.157Z"
   },
   {
    "duration": 14,
    "start_time": "2023-03-07T20:18:03.825Z"
   },
   {
    "duration": 5,
    "start_time": "2023-03-07T20:18:07.159Z"
   },
   {
    "duration": 19,
    "start_time": "2023-03-07T20:25:49.697Z"
   },
   {
    "duration": 23,
    "start_time": "2023-03-07T20:25:56.763Z"
   },
   {
    "duration": 23,
    "start_time": "2023-03-07T20:26:02.074Z"
   },
   {
    "duration": 30,
    "start_time": "2023-03-07T20:27:45.015Z"
   },
   {
    "duration": 22,
    "start_time": "2023-03-07T20:30:56.272Z"
   },
   {
    "duration": 174,
    "start_time": "2023-03-07T20:48:25.685Z"
   },
   {
    "duration": 29,
    "start_time": "2023-03-07T20:48:47.549Z"
   },
   {
    "duration": 6,
    "start_time": "2023-03-07T20:49:07.295Z"
   },
   {
    "duration": 10,
    "start_time": "2023-03-07T20:50:01.323Z"
   },
   {
    "duration": 18,
    "start_time": "2023-03-07T20:50:58.560Z"
   },
   {
    "duration": 17,
    "start_time": "2023-03-07T20:51:17.116Z"
   },
   {
    "duration": 35,
    "start_time": "2023-03-07T20:51:39.317Z"
   },
   {
    "duration": 7,
    "start_time": "2023-03-07T20:51:50.142Z"
   },
   {
    "duration": 11,
    "start_time": "2023-03-07T20:52:15.450Z"
   },
   {
    "duration": 17,
    "start_time": "2023-03-07T20:52:44.011Z"
   },
   {
    "duration": 13,
    "start_time": "2023-03-07T20:52:48.180Z"
   },
   {
    "duration": 150,
    "start_time": "2023-03-07T20:55:59.068Z"
   },
   {
    "duration": 58,
    "start_time": "2023-03-07T20:56:30.852Z"
   },
   {
    "duration": 13,
    "start_time": "2023-03-07T20:56:47.387Z"
   },
   {
    "duration": 41,
    "start_time": "2023-03-07T20:57:26.416Z"
   },
   {
    "duration": 14,
    "start_time": "2023-03-07T20:57:34.773Z"
   },
   {
    "duration": 9,
    "start_time": "2023-03-07T20:58:25.244Z"
   },
   {
    "duration": 4,
    "start_time": "2023-03-07T20:58:52.502Z"
   },
   {
    "duration": 7,
    "start_time": "2023-03-07T20:58:57.441Z"
   },
   {
    "duration": 13,
    "start_time": "2023-03-07T20:59:15.108Z"
   },
   {
    "duration": 155,
    "start_time": "2023-03-07T20:59:46.614Z"
   },
   {
    "duration": 4,
    "start_time": "2023-03-07T21:49:51.168Z"
   },
   {
    "duration": 125,
    "start_time": "2023-03-07T21:49:52.255Z"
   },
   {
    "duration": 13,
    "start_time": "2023-03-07T21:49:54.431Z"
   },
   {
    "duration": 22,
    "start_time": "2023-03-07T21:49:56.892Z"
   },
   {
    "duration": 6,
    "start_time": "2023-03-07T21:50:02.026Z"
   },
   {
    "duration": 14,
    "start_time": "2023-03-07T21:50:03.038Z"
   },
   {
    "duration": 4,
    "start_time": "2023-03-07T21:50:04.785Z"
   },
   {
    "duration": 6,
    "start_time": "2023-03-07T21:50:06.183Z"
   },
   {
    "duration": 17,
    "start_time": "2023-03-07T21:50:08.523Z"
   },
   {
    "duration": 22,
    "start_time": "2023-03-07T21:50:11.063Z"
   },
   {
    "duration": 5,
    "start_time": "2023-03-07T21:50:11.905Z"
   },
   {
    "duration": 8,
    "start_time": "2023-03-07T21:50:14.328Z"
   },
   {
    "duration": 5,
    "start_time": "2023-03-07T21:50:15.333Z"
   },
   {
    "duration": 17,
    "start_time": "2023-03-07T21:50:18.438Z"
   },
   {
    "duration": 5,
    "start_time": "2023-03-07T21:50:21.658Z"
   },
   {
    "duration": 21,
    "start_time": "2023-03-07T21:50:26.877Z"
   },
   {
    "duration": 4,
    "start_time": "2023-03-07T21:50:30.082Z"
   },
   {
    "duration": 23,
    "start_time": "2023-03-07T21:50:31.472Z"
   },
   {
    "duration": 9,
    "start_time": "2023-03-07T21:50:35.342Z"
   },
   {
    "duration": 190,
    "start_time": "2023-03-07T21:50:37.339Z"
   },
   {
    "duration": 7,
    "start_time": "2023-03-07T21:50:40.352Z"
   },
   {
    "duration": 11,
    "start_time": "2023-03-07T21:50:42.624Z"
   },
   {
    "duration": 10,
    "start_time": "2023-03-07T21:50:45.411Z"
   },
   {
    "duration": 480,
    "start_time": "2023-03-07T21:51:41.589Z"
   },
   {
    "duration": 6,
    "start_time": "2023-03-07T21:51:57.374Z"
   },
   {
    "duration": 31,
    "start_time": "2023-03-07T21:52:30.299Z"
   },
   {
    "duration": 9,
    "start_time": "2023-03-07T21:52:36.743Z"
   },
   {
    "duration": 8,
    "start_time": "2023-03-07T21:52:40.549Z"
   },
   {
    "duration": 9,
    "start_time": "2023-03-07T21:52:45.032Z"
   },
   {
    "duration": 5,
    "start_time": "2023-03-07T21:52:47.347Z"
   },
   {
    "duration": 199,
    "start_time": "2023-03-07T21:52:50.062Z"
   },
   {
    "duration": 198,
    "start_time": "2023-03-07T21:52:57.466Z"
   },
   {
    "duration": 15,
    "start_time": "2023-03-07T21:53:07.031Z"
   },
   {
    "duration": 31,
    "start_time": "2023-03-07T21:53:09.600Z"
   },
   {
    "duration": 9,
    "start_time": "2023-03-07T21:53:13.310Z"
   },
   {
    "duration": 8,
    "start_time": "2023-03-07T21:53:15.560Z"
   },
   {
    "duration": 6,
    "start_time": "2023-03-07T21:53:16.436Z"
   },
   {
    "duration": 7,
    "start_time": "2023-03-07T21:53:21.804Z"
   },
   {
    "duration": 8,
    "start_time": "2023-03-07T21:53:24.132Z"
   },
   {
    "duration": 11,
    "start_time": "2023-03-07T21:53:40.610Z"
   },
   {
    "duration": 9,
    "start_time": "2023-03-07T21:53:41.635Z"
   },
   {
    "duration": 13,
    "start_time": "2023-03-07T21:53:45.992Z"
   },
   {
    "duration": 18,
    "start_time": "2023-03-07T21:53:50.191Z"
   },
   {
    "duration": 5,
    "start_time": "2023-03-07T21:53:53.937Z"
   },
   {
    "duration": 5,
    "start_time": "2023-03-07T21:53:54.904Z"
   },
   {
    "duration": 20,
    "start_time": "2023-03-07T21:53:56.798Z"
   },
   {
    "duration": 9,
    "start_time": "2023-03-07T21:54:05.363Z"
   },
   {
    "duration": 7,
    "start_time": "2023-03-07T21:54:12.104Z"
   },
   {
    "duration": 12,
    "start_time": "2023-03-07T21:54:16.401Z"
   },
   {
    "duration": 1609,
    "start_time": "2023-03-07T21:54:26.407Z"
   },
   {
    "duration": 2889,
    "start_time": "2023-03-07T21:54:30.878Z"
   },
   {
    "duration": 13474,
    "start_time": "2023-03-07T21:54:44.433Z"
   },
   {
    "duration": 10,
    "start_time": "2023-03-07T21:55:36.016Z"
   },
   {
    "duration": 6,
    "start_time": "2023-03-07T21:55:40.638Z"
   },
   {
    "duration": 10,
    "start_time": "2023-03-07T21:55:42.900Z"
   },
   {
    "duration": 5,
    "start_time": "2023-03-07T21:55:44.936Z"
   },
   {
    "duration": 3,
    "start_time": "2023-03-07T21:55:46.660Z"
   },
   {
    "duration": 11,
    "start_time": "2023-03-07T21:55:48.323Z"
   },
   {
    "duration": 4,
    "start_time": "2023-03-07T21:55:51.553Z"
   },
   {
    "duration": 8,
    "start_time": "2023-03-07T21:55:52.751Z"
   },
   {
    "duration": 7,
    "start_time": "2023-03-07T21:56:02.892Z"
   },
   {
    "duration": 1119,
    "start_time": "2023-03-07T21:56:05.255Z"
   },
   {
    "duration": 11,
    "start_time": "2023-03-07T21:56:11.257Z"
   },
   {
    "duration": 135,
    "start_time": "2023-03-07T21:56:14.096Z"
   },
   {
    "duration": 136,
    "start_time": "2023-03-07T21:56:17.733Z"
   },
   {
    "duration": 12,
    "start_time": "2023-03-07T21:56:21.712Z"
   },
   {
    "duration": 21,
    "start_time": "2023-03-07T21:56:27.806Z"
   },
   {
    "duration": 7,
    "start_time": "2023-03-07T21:56:35.318Z"
   },
   {
    "duration": 21,
    "start_time": "2023-03-07T21:56:39.065Z"
   },
   {
    "duration": 34,
    "start_time": "2023-03-07T21:56:43.502Z"
   },
   {
    "duration": 3,
    "start_time": "2023-03-07T21:56:46.300Z"
   },
   {
    "duration": 7,
    "start_time": "2023-03-07T21:56:55.489Z"
   },
   {
    "duration": 22,
    "start_time": "2023-03-07T21:56:57.961Z"
   },
   {
    "duration": 9,
    "start_time": "2023-03-07T21:57:00.396Z"
   },
   {
    "duration": 48,
    "start_time": "2023-03-07T21:57:01.877Z"
   },
   {
    "duration": 13,
    "start_time": "2023-03-07T21:57:08.475Z"
   },
   {
    "duration": 149,
    "start_time": "2023-03-07T21:57:11.208Z"
   },
   {
    "duration": 242,
    "start_time": "2023-03-07T21:57:14.725Z"
   },
   {
    "duration": 320,
    "start_time": "2023-03-07T21:57:19.335Z"
   },
   {
    "duration": 18,
    "start_time": "2023-03-07T21:57:29.340Z"
   },
   {
    "duration": 20,
    "start_time": "2023-03-07T21:57:36.659Z"
   },
   {
    "duration": 234,
    "start_time": "2023-03-07T21:57:40.118Z"
   },
   {
    "duration": 8,
    "start_time": "2023-03-07T21:57:44.725Z"
   },
   {
    "duration": 132,
    "start_time": "2023-03-07T21:57:48.086Z"
   },
   {
    "duration": 900,
    "start_time": "2023-03-07T21:58:07.016Z"
   },
   {
    "duration": 6,
    "start_time": "2023-03-07T21:58:14.690Z"
   },
   {
    "duration": 133,
    "start_time": "2023-03-07T21:58:16.964Z"
   },
   {
    "duration": 23,
    "start_time": "2023-03-07T21:58:23.110Z"
   },
   {
    "duration": 24,
    "start_time": "2023-03-07T21:58:29.559Z"
   },
   {
    "duration": 29,
    "start_time": "2023-03-07T21:58:40.200Z"
   }
  ],
  "colab": {
   "name": "DA+. Сборный проект 1. Шаблон (1).ipynb",
   "provenance": []
  },
  "kernelspec": {
   "display_name": "Python 3 (ipykernel)",
   "language": "python",
   "name": "python3"
  },
  "language_info": {
   "codemirror_mode": {
    "name": "ipython",
    "version": 3
   },
   "file_extension": ".py",
   "mimetype": "text/x-python",
   "name": "python",
   "nbconvert_exporter": "python",
   "pygments_lexer": "ipython3",
   "version": "3.9.5"
  },
  "toc": {
   "base_numbering": 1,
   "nav_menu": {},
   "number_sections": true,
   "sideBar": true,
   "skip_h1_title": true,
   "title_cell": "Table of Contents",
   "title_sidebar": "Contents",
   "toc_cell": false,
   "toc_position": {
    "height": "calc(100% - 180px)",
    "left": "10px",
    "top": "150px",
    "width": "375.391px"
   },
   "toc_section_display": true,
   "toc_window_display": false
  }
 },
 "nbformat": 4,
 "nbformat_minor": 1
}
