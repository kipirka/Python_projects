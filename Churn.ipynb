{
 "cells": [
  {
   "cell_type": "markdown",
   "metadata": {},
   "source": [
    "# Отток клиентов"
   ]
  },
  {
   "cell_type": "markdown",
   "metadata": {},
   "source": [
    "В данном проекте я исследую модель предсказания оттока клиентов. \n",
    "Вначале, я загружая данные и исследую их. \n",
    "Далее я оцениваю тестовую модель, не принимая во внимание баланс классов.\n",
    "На следующем этапе я применяю несоколько методов борьбы с дисбалансом классов и оцениваю качество предсказаний моделей в данном случае.\n",
    "В конце проекта выбранную модель я оцениваю на тестовой выборке."
   ]
  },
  {
   "cell_type": "markdown",
   "metadata": {},
   "source": [
    "## Подготовка данных"
   ]
  },
  {
   "cell_type": "code",
   "execution_count": 213,
   "metadata": {},
   "outputs": [],
   "source": [
    "# загружаю библиотеки\n",
    "import warnings\n",
    "warnings.filterwarnings('ignore') # отключим предупреждения, чтобы не отвлекали\n",
    "import pandas as pd\n",
    "import matplotlib.pyplot as plt\n",
    "import numpy as np\n",
    "from sklearn.model_selection import train_test_split, GridSearchCV, StratifiedKFold, RandomizedSearchCV\n",
    "from sklearn.tree import DecisionTreeClassifier\n",
    "from sklearn.ensemble import RandomForestClassifier\n",
    "from sklearn.linear_model import LogisticRegression\n",
    "from sklearn.metrics import f1_score, roc_curve, roc_auc_score\n",
    "from sklearn.preprocessing import OneHotEncoder, StandardScaler\n",
    "from sklearn.compose import make_column_transformer\n",
    "from sklearn.impute import KNNImputer\n",
    "from sklearn.pipeline import Pipeline, make_pipeline\n",
    "from scipy.stats import bernoulli\n",
    "from imblearn.under_sampling import RandomUnderSampler\n",
    "from imblearn.pipeline import Pipeline as Pipeline_imb\n",
    "from imblearn.over_sampling import SMOTE, ADASYN"
   ]
  },
  {
   "cell_type": "markdown",
   "metadata": {},
   "source": [
    "### Первое знакомство с данными"
   ]
  },
  {
   "cell_type": "code",
   "execution_count": 214,
   "metadata": {},
   "outputs": [
    {
     "data": {
      "text/html": [
       "<div>\n",
       "<style scoped>\n",
       "    .dataframe tbody tr th:only-of-type {\n",
       "        vertical-align: middle;\n",
       "    }\n",
       "\n",
       "    .dataframe tbody tr th {\n",
       "        vertical-align: top;\n",
       "    }\n",
       "\n",
       "    .dataframe thead th {\n",
       "        text-align: right;\n",
       "    }\n",
       "</style>\n",
       "<table border=\"1\" class=\"dataframe\">\n",
       "  <thead>\n",
       "    <tr style=\"text-align: right;\">\n",
       "      <th></th>\n",
       "      <th>RowNumber</th>\n",
       "      <th>CustomerId</th>\n",
       "      <th>Surname</th>\n",
       "      <th>CreditScore</th>\n",
       "      <th>Geography</th>\n",
       "      <th>Gender</th>\n",
       "      <th>Age</th>\n",
       "      <th>Tenure</th>\n",
       "      <th>Balance</th>\n",
       "      <th>NumOfProducts</th>\n",
       "      <th>HasCrCard</th>\n",
       "      <th>IsActiveMember</th>\n",
       "      <th>EstimatedSalary</th>\n",
       "      <th>Exited</th>\n",
       "    </tr>\n",
       "  </thead>\n",
       "  <tbody>\n",
       "    <tr>\n",
       "      <th>0</th>\n",
       "      <td>1</td>\n",
       "      <td>15634602</td>\n",
       "      <td>Hargrave</td>\n",
       "      <td>619</td>\n",
       "      <td>France</td>\n",
       "      <td>Female</td>\n",
       "      <td>42</td>\n",
       "      <td>2.0</td>\n",
       "      <td>0.00</td>\n",
       "      <td>1</td>\n",
       "      <td>1</td>\n",
       "      <td>1</td>\n",
       "      <td>101348.88</td>\n",
       "      <td>1</td>\n",
       "    </tr>\n",
       "    <tr>\n",
       "      <th>1</th>\n",
       "      <td>2</td>\n",
       "      <td>15647311</td>\n",
       "      <td>Hill</td>\n",
       "      <td>608</td>\n",
       "      <td>Spain</td>\n",
       "      <td>Female</td>\n",
       "      <td>41</td>\n",
       "      <td>1.0</td>\n",
       "      <td>83807.86</td>\n",
       "      <td>1</td>\n",
       "      <td>0</td>\n",
       "      <td>1</td>\n",
       "      <td>112542.58</td>\n",
       "      <td>0</td>\n",
       "    </tr>\n",
       "    <tr>\n",
       "      <th>2</th>\n",
       "      <td>3</td>\n",
       "      <td>15619304</td>\n",
       "      <td>Onio</td>\n",
       "      <td>502</td>\n",
       "      <td>France</td>\n",
       "      <td>Female</td>\n",
       "      <td>42</td>\n",
       "      <td>8.0</td>\n",
       "      <td>159660.80</td>\n",
       "      <td>3</td>\n",
       "      <td>1</td>\n",
       "      <td>0</td>\n",
       "      <td>113931.57</td>\n",
       "      <td>1</td>\n",
       "    </tr>\n",
       "    <tr>\n",
       "      <th>3</th>\n",
       "      <td>4</td>\n",
       "      <td>15701354</td>\n",
       "      <td>Boni</td>\n",
       "      <td>699</td>\n",
       "      <td>France</td>\n",
       "      <td>Female</td>\n",
       "      <td>39</td>\n",
       "      <td>1.0</td>\n",
       "      <td>0.00</td>\n",
       "      <td>2</td>\n",
       "      <td>0</td>\n",
       "      <td>0</td>\n",
       "      <td>93826.63</td>\n",
       "      <td>0</td>\n",
       "    </tr>\n",
       "    <tr>\n",
       "      <th>4</th>\n",
       "      <td>5</td>\n",
       "      <td>15737888</td>\n",
       "      <td>Mitchell</td>\n",
       "      <td>850</td>\n",
       "      <td>Spain</td>\n",
       "      <td>Female</td>\n",
       "      <td>43</td>\n",
       "      <td>2.0</td>\n",
       "      <td>125510.82</td>\n",
       "      <td>1</td>\n",
       "      <td>1</td>\n",
       "      <td>1</td>\n",
       "      <td>79084.10</td>\n",
       "      <td>0</td>\n",
       "    </tr>\n",
       "  </tbody>\n",
       "</table>\n",
       "</div>"
      ],
      "text/plain": [
       "   RowNumber  CustomerId   Surname  CreditScore Geography  Gender  Age  \\\n",
       "0          1    15634602  Hargrave          619    France  Female   42   \n",
       "1          2    15647311      Hill          608     Spain  Female   41   \n",
       "2          3    15619304      Onio          502    France  Female   42   \n",
       "3          4    15701354      Boni          699    France  Female   39   \n",
       "4          5    15737888  Mitchell          850     Spain  Female   43   \n",
       "\n",
       "   Tenure    Balance  NumOfProducts  HasCrCard  IsActiveMember  \\\n",
       "0     2.0       0.00              1          1               1   \n",
       "1     1.0   83807.86              1          0               1   \n",
       "2     8.0  159660.80              3          1               0   \n",
       "3     1.0       0.00              2          0               0   \n",
       "4     2.0  125510.82              1          1               1   \n",
       "\n",
       "   EstimatedSalary  Exited  \n",
       "0        101348.88       1  \n",
       "1        112542.58       0  \n",
       "2        113931.57       1  \n",
       "3         93826.63       0  \n",
       "4         79084.10       0  "
      ]
     },
     "execution_count": 214,
     "metadata": {},
     "output_type": "execute_result"
    }
   ],
   "source": [
    "# загружаю данные\n",
    "data=pd.read_csv('/datasets/Churn.csv')\n",
    "data.head()"
   ]
  },
  {
   "cell_type": "code",
   "execution_count": 215,
   "metadata": {},
   "outputs": [
    {
     "name": "stdout",
     "output_type": "stream",
     "text": [
      "<class 'pandas.core.frame.DataFrame'>\n",
      "RangeIndex: 10000 entries, 0 to 9999\n",
      "Data columns (total 14 columns):\n",
      " #   Column           Non-Null Count  Dtype  \n",
      "---  ------           --------------  -----  \n",
      " 0   RowNumber        10000 non-null  int64  \n",
      " 1   CustomerId       10000 non-null  int64  \n",
      " 2   Surname          10000 non-null  object \n",
      " 3   CreditScore      10000 non-null  int64  \n",
      " 4   Geography        10000 non-null  object \n",
      " 5   Gender           10000 non-null  object \n",
      " 6   Age              10000 non-null  int64  \n",
      " 7   Tenure           9091 non-null   float64\n",
      " 8   Balance          10000 non-null  float64\n",
      " 9   NumOfProducts    10000 non-null  int64  \n",
      " 10  HasCrCard        10000 non-null  int64  \n",
      " 11  IsActiveMember   10000 non-null  int64  \n",
      " 12  EstimatedSalary  10000 non-null  float64\n",
      " 13  Exited           10000 non-null  int64  \n",
      "dtypes: float64(3), int64(8), object(3)\n",
      "memory usage: 1.1+ MB\n"
     ]
    }
   ],
   "source": [
    "# смотрю на данные\n",
    "data.info()"
   ]
  },
  {
   "cell_type": "markdown",
   "metadata": {},
   "source": [
    "Видно, что есть некоторые переменные, которые нам не пригодятся для прогнозирования оттока: RowNumber, CustomerID, Surname. Удалю их из данных."
   ]
  },
  {
   "cell_type": "code",
   "execution_count": 216,
   "metadata": {},
   "outputs": [
    {
     "data": {
      "text/html": [
       "<div>\n",
       "<style scoped>\n",
       "    .dataframe tbody tr th:only-of-type {\n",
       "        vertical-align: middle;\n",
       "    }\n",
       "\n",
       "    .dataframe tbody tr th {\n",
       "        vertical-align: top;\n",
       "    }\n",
       "\n",
       "    .dataframe thead th {\n",
       "        text-align: right;\n",
       "    }\n",
       "</style>\n",
       "<table border=\"1\" class=\"dataframe\">\n",
       "  <thead>\n",
       "    <tr style=\"text-align: right;\">\n",
       "      <th></th>\n",
       "      <th>CreditScore</th>\n",
       "      <th>Geography</th>\n",
       "      <th>Gender</th>\n",
       "      <th>Age</th>\n",
       "      <th>Tenure</th>\n",
       "      <th>Balance</th>\n",
       "      <th>NumOfProducts</th>\n",
       "      <th>HasCrCard</th>\n",
       "      <th>IsActiveMember</th>\n",
       "      <th>EstimatedSalary</th>\n",
       "      <th>Exited</th>\n",
       "    </tr>\n",
       "  </thead>\n",
       "  <tbody>\n",
       "    <tr>\n",
       "      <th>0</th>\n",
       "      <td>619</td>\n",
       "      <td>France</td>\n",
       "      <td>Female</td>\n",
       "      <td>42</td>\n",
       "      <td>2.0</td>\n",
       "      <td>0.00</td>\n",
       "      <td>1</td>\n",
       "      <td>1</td>\n",
       "      <td>1</td>\n",
       "      <td>101348.88</td>\n",
       "      <td>1</td>\n",
       "    </tr>\n",
       "    <tr>\n",
       "      <th>1</th>\n",
       "      <td>608</td>\n",
       "      <td>Spain</td>\n",
       "      <td>Female</td>\n",
       "      <td>41</td>\n",
       "      <td>1.0</td>\n",
       "      <td>83807.86</td>\n",
       "      <td>1</td>\n",
       "      <td>0</td>\n",
       "      <td>1</td>\n",
       "      <td>112542.58</td>\n",
       "      <td>0</td>\n",
       "    </tr>\n",
       "    <tr>\n",
       "      <th>2</th>\n",
       "      <td>502</td>\n",
       "      <td>France</td>\n",
       "      <td>Female</td>\n",
       "      <td>42</td>\n",
       "      <td>8.0</td>\n",
       "      <td>159660.80</td>\n",
       "      <td>3</td>\n",
       "      <td>1</td>\n",
       "      <td>0</td>\n",
       "      <td>113931.57</td>\n",
       "      <td>1</td>\n",
       "    </tr>\n",
       "    <tr>\n",
       "      <th>3</th>\n",
       "      <td>699</td>\n",
       "      <td>France</td>\n",
       "      <td>Female</td>\n",
       "      <td>39</td>\n",
       "      <td>1.0</td>\n",
       "      <td>0.00</td>\n",
       "      <td>2</td>\n",
       "      <td>0</td>\n",
       "      <td>0</td>\n",
       "      <td>93826.63</td>\n",
       "      <td>0</td>\n",
       "    </tr>\n",
       "    <tr>\n",
       "      <th>4</th>\n",
       "      <td>850</td>\n",
       "      <td>Spain</td>\n",
       "      <td>Female</td>\n",
       "      <td>43</td>\n",
       "      <td>2.0</td>\n",
       "      <td>125510.82</td>\n",
       "      <td>1</td>\n",
       "      <td>1</td>\n",
       "      <td>1</td>\n",
       "      <td>79084.10</td>\n",
       "      <td>0</td>\n",
       "    </tr>\n",
       "  </tbody>\n",
       "</table>\n",
       "</div>"
      ],
      "text/plain": [
       "   CreditScore Geography  Gender  Age  Tenure    Balance  NumOfProducts  \\\n",
       "0          619    France  Female   42     2.0       0.00              1   \n",
       "1          608     Spain  Female   41     1.0   83807.86              1   \n",
       "2          502    France  Female   42     8.0  159660.80              3   \n",
       "3          699    France  Female   39     1.0       0.00              2   \n",
       "4          850     Spain  Female   43     2.0  125510.82              1   \n",
       "\n",
       "   HasCrCard  IsActiveMember  EstimatedSalary  Exited  \n",
       "0          1               1        101348.88       1  \n",
       "1          0               1        112542.58       0  \n",
       "2          1               0        113931.57       1  \n",
       "3          0               0         93826.63       0  \n",
       "4          1               1         79084.10       0  "
      ]
     },
     "execution_count": 216,
     "metadata": {},
     "output_type": "execute_result"
    }
   ],
   "source": [
    "# удаляю переменные\n",
    "data = data.drop(['RowNumber', 'CustomerId', 'Surname'], axis=1)\n",
    "data.head()"
   ]
  },
  {
   "cell_type": "markdown",
   "metadata": {},
   "source": [
    "В названии колокок использован camelcase, для удобства поменяю на capitalize."
   ]
  },
  {
   "cell_type": "code",
   "execution_count": 217,
   "metadata": {},
   "outputs": [
    {
     "data": {
      "text/plain": [
       "Index(['Creditscore', 'Geography', 'Gender', 'Age', 'Tenure', 'Balance',\n",
       "       'Numofproducts', 'Hascrcard', 'Isactivemember', 'Estimatedsalary',\n",
       "       'Exited'],\n",
       "      dtype='object')"
      ]
     },
     "execution_count": 217,
     "metadata": {},
     "output_type": "execute_result"
    }
   ],
   "source": [
    "# меняю названия колонок\n",
    "data.columns = data.columns.str.capitalize()\n",
    "data.columns"
   ]
  },
  {
   "cell_type": "markdown",
   "metadata": {},
   "source": [
    "В данные есть категориальные перемменные, которые нужно будет перевести в бинарные. Так же в переменной Tenure есть пропуски, которые нужно заполнить. Последним шагом обработки данных будет их стандартизация. Но для того, чтобы избежать data leakage всё эти манипуляции с данными я буду делать после разбиения данных на выборки. "
   ]
  },
  {
   "cell_type": "markdown",
   "metadata": {},
   "source": [
    "### Разбиение на подвыборки"
   ]
  },
  {
   "cell_type": "markdown",
   "metadata": {},
   "source": [
    "Я разделю данные на тренировочную, валидационную и тестовую выборки в пропорции 3:1:1. "
   ]
  },
  {
   "cell_type": "code",
   "execution_count": 218,
   "metadata": {},
   "outputs": [
    {
     "data": {
      "text/plain": [
       "6000"
      ]
     },
     "metadata": {},
     "output_type": "display_data"
    },
    {
     "data": {
      "text/plain": [
       "2000"
      ]
     },
     "metadata": {},
     "output_type": "display_data"
    },
    {
     "data": {
      "text/plain": [
       "2000"
      ]
     },
     "execution_count": 218,
     "metadata": {},
     "output_type": "execute_result"
    }
   ],
   "source": [
    "# Разделяю на выборки\n",
    "features = data.drop('Exited', axis=1)\n",
    "target = data['Exited']\n",
    "features_train, features_valid, target_train, target_valid = (\n",
    "    train_test_split(features, target, test_size=0.4, random_state=42)\n",
    ")\n",
    "features_valid, features_test, target_valid, target_test = (\n",
    "    train_test_split(features_valid, target_valid, test_size=0.5, random_state=42)\n",
    ")\n",
    "display(features_train.shape[0])\n",
    "display(features_valid.shape[0])\n",
    "features_test.shape[0]"
   ]
  },
  {
   "cell_type": "markdown",
   "metadata": {},
   "source": [
    "Я правильно разделила на выборки. Теперь перейду к обработке данных в подвыборках."
   ]
  },
  {
   "cell_type": "markdown",
   "metadata": {},
   "source": [
    "### Обработка данных"
   ]
  },
  {
   "cell_type": "markdown",
   "metadata": {},
   "source": [
    "#### Обработка численных и категориальных признаков"
   ]
  },
  {
   "cell_type": "markdown",
   "metadata": {},
   "source": [
    "Заменим две категориальные переменные на дамми-переменные."
   ]
  },
  {
   "cell_type": "markdown",
   "metadata": {},
   "source": [
    "Добавлю в фичи квадрат баланса."
   ]
  },
  {
   "cell_type": "code",
   "execution_count": 225,
   "metadata": {},
   "outputs": [],
   "source": [
    "# Добавляю новую переменную\n",
    "data['Balance_sq'] = data['Balance']**2"
   ]
  },
  {
   "cell_type": "code",
   "execution_count": 226,
   "metadata": {},
   "outputs": [],
   "source": [
    "# Разделим данные на численные и категориальные\n",
    "categorical = ['Geography', 'Gender']\n",
    "numerical = data.drop(['Geography', 'Gender', 'Exited', 'Hascrcard', 'Isactivemember'], axis=1).columns"
   ]
  },
  {
   "cell_type": "code",
   "execution_count": 228,
   "metadata": {},
   "outputs": [],
   "source": [
    "# Задаю трансформеры\n",
    "numeric_transformer = Pipeline(steps=[('imputer', KNNImputer(n_neighbors=5, weights=\"uniform\")),('scaler', StandardScaler())])\n",
    "categorical_transformer = Pipeline(steps=[('onehot', OneHotEncoder(drop='first', handle_unknown='ignore'))])"
   ]
  },
  {
   "cell_type": "code",
   "execution_count": 229,
   "metadata": {},
   "outputs": [],
   "source": [
    "# Задаю препроцессор\n",
    "preprocessor = (\n",
    "    make_column_transformer((numeric_transformer, numerical),(categorical_transformer, categorical), \n",
    "                            remainder = 'passthrough',\n",
    "                            verbose_feature_names_out=False))"
   ]
  },
  {
   "cell_type": "markdown",
   "metadata": {},
   "source": [
    "#### Изучение данных"
   ]
  },
  {
   "cell_type": "markdown",
   "metadata": {},
   "source": [
    "Посмотрим на матрицу корреляций"
   ]
  },
  {
   "cell_type": "code",
   "execution_count": 230,
   "metadata": {},
   "outputs": [
    {
     "data": {
      "text/html": [
       "<style  type=\"text/css\" >\n",
       "#T_ca0d1_row0_col0,#T_ca0d1_row1_col1,#T_ca0d1_row2_col2,#T_ca0d1_row3_col3,#T_ca0d1_row4_col4,#T_ca0d1_row5_col5,#T_ca0d1_row6_col6{\n",
       "            background-color:  #b40426;\n",
       "            color:  #f1f1f1;\n",
       "        }#T_ca0d1_row0_col1,#T_ca0d1_row4_col2{\n",
       "            background-color:  #4257c9;\n",
       "            color:  #f1f1f1;\n",
       "        }#T_ca0d1_row0_col2{\n",
       "            background-color:  #3e51c5;\n",
       "            color:  #f1f1f1;\n",
       "        }#T_ca0d1_row0_col3{\n",
       "            background-color:  #88abfd;\n",
       "            color:  #000000;\n",
       "        }#T_ca0d1_row0_col4,#T_ca0d1_row2_col4,#T_ca0d1_row5_col3,#T_ca0d1_row5_col4{\n",
       "            background-color:  #8badfd;\n",
       "            color:  #000000;\n",
       "        }#T_ca0d1_row0_col5,#T_ca0d1_row3_col2,#T_ca0d1_row6_col2{\n",
       "            background-color:  #3c4ec2;\n",
       "            color:  #f1f1f1;\n",
       "        }#T_ca0d1_row0_col6,#T_ca0d1_row1_col4{\n",
       "            background-color:  #7ea1fa;\n",
       "            color:  #000000;\n",
       "        }#T_ca0d1_row1_col0,#T_ca0d1_row1_col2,#T_ca0d1_row1_col5,#T_ca0d1_row2_col0,#T_ca0d1_row3_col4,#T_ca0d1_row4_col1,#T_ca0d1_row4_col3,#T_ca0d1_row4_col6,#T_ca0d1_row5_col0{\n",
       "            background-color:  #3b4cc0;\n",
       "            color:  #f1f1f1;\n",
       "        }#T_ca0d1_row1_col3{\n",
       "            background-color:  #8fb1fe;\n",
       "            color:  #000000;\n",
       "        }#T_ca0d1_row1_col6{\n",
       "            background-color:  #82a6fb;\n",
       "            color:  #000000;\n",
       "        }#T_ca0d1_row2_col1,#T_ca0d1_row2_col5,#T_ca0d1_row4_col0,#T_ca0d1_row6_col5{\n",
       "            background-color:  #3f53c6;\n",
       "            color:  #f1f1f1;\n",
       "        }#T_ca0d1_row2_col3{\n",
       "            background-color:  #85a8fc;\n",
       "            color:  #000000;\n",
       "        }#T_ca0d1_row2_col6{\n",
       "            background-color:  #7a9df8;\n",
       "            color:  #000000;\n",
       "        }#T_ca0d1_row3_col0,#T_ca0d1_row6_col0{\n",
       "            background-color:  #3d50c3;\n",
       "            color:  #f1f1f1;\n",
       "        }#T_ca0d1_row3_col1{\n",
       "            background-color:  #4b64d5;\n",
       "            color:  #f1f1f1;\n",
       "        }#T_ca0d1_row3_col5,#T_ca0d1_row4_col5,#T_ca0d1_row5_col1,#T_ca0d1_row5_col2{\n",
       "            background-color:  #4055c8;\n",
       "            color:  #f1f1f1;\n",
       "        }#T_ca0d1_row3_col6,#T_ca0d1_row6_col3{\n",
       "            background-color:  #c0282f;\n",
       "            color:  #f1f1f1;\n",
       "        }#T_ca0d1_row5_col6{\n",
       "            background-color:  #80a3fa;\n",
       "            color:  #000000;\n",
       "        }#T_ca0d1_row6_col1{\n",
       "            background-color:  #4961d2;\n",
       "            color:  #f1f1f1;\n",
       "        }#T_ca0d1_row6_col4{\n",
       "            background-color:  #455cce;\n",
       "            color:  #f1f1f1;\n",
       "        }</style><table id=\"T_ca0d1_\" ><thead>    <tr>        <th class=\"blank level0\" ></th>        <th class=\"col_heading level0 col0\" >Creditscore</th>        <th class=\"col_heading level0 col1\" >Age</th>        <th class=\"col_heading level0 col2\" >Tenure</th>        <th class=\"col_heading level0 col3\" >Balance</th>        <th class=\"col_heading level0 col4\" >Numofproducts</th>        <th class=\"col_heading level0 col5\" >Estimatedsalary</th>        <th class=\"col_heading level0 col6\" >Balance_sq</th>    </tr></thead><tbody>\n",
       "                <tr>\n",
       "                        <th id=\"T_ca0d1_level0_row0\" class=\"row_heading level0 row0\" >Creditscore</th>\n",
       "                        <td id=\"T_ca0d1_row0_col0\" class=\"data row0 col0\" >1.000000</td>\n",
       "                        <td id=\"T_ca0d1_row0_col1\" class=\"data row0 col1\" >-0.003965</td>\n",
       "                        <td id=\"T_ca0d1_row0_col2\" class=\"data row0 col2\" >-0.000062</td>\n",
       "                        <td id=\"T_ca0d1_row0_col3\" class=\"data row0 col3\" >0.006268</td>\n",
       "                        <td id=\"T_ca0d1_row0_col4\" class=\"data row0 col4\" >0.012238</td>\n",
       "                        <td id=\"T_ca0d1_row0_col5\" class=\"data row0 col5\" >-0.001384</td>\n",
       "                        <td id=\"T_ca0d1_row0_col6\" class=\"data row0 col6\" >0.004604</td>\n",
       "            </tr>\n",
       "            <tr>\n",
       "                        <th id=\"T_ca0d1_level0_row1\" class=\"row_heading level0 row1\" >Age</th>\n",
       "                        <td id=\"T_ca0d1_row1_col0\" class=\"data row1 col0\" >-0.003965</td>\n",
       "                        <td id=\"T_ca0d1_row1_col1\" class=\"data row1 col1\" >1.000000</td>\n",
       "                        <td id=\"T_ca0d1_row1_col2\" class=\"data row1 col2\" >-0.013134</td>\n",
       "                        <td id=\"T_ca0d1_row1_col3\" class=\"data row1 col3\" >0.028308</td>\n",
       "                        <td id=\"T_ca0d1_row1_col4\" class=\"data row1 col4\" >-0.030680</td>\n",
       "                        <td id=\"T_ca0d1_row1_col5\" class=\"data row1 col5\" >-0.007201</td>\n",
       "                        <td id=\"T_ca0d1_row1_col6\" class=\"data row1 col6\" >0.020248</td>\n",
       "            </tr>\n",
       "            <tr>\n",
       "                        <th id=\"T_ca0d1_level0_row2\" class=\"row_heading level0 row2\" >Tenure</th>\n",
       "                        <td id=\"T_ca0d1_row2_col0\" class=\"data row2 col0\" >-0.000062</td>\n",
       "                        <td id=\"T_ca0d1_row2_col1\" class=\"data row2 col1\" >-0.013134</td>\n",
       "                        <td id=\"T_ca0d1_row2_col2\" class=\"data row2 col2\" >1.000000</td>\n",
       "                        <td id=\"T_ca0d1_row2_col3\" class=\"data row2 col3\" >-0.007911</td>\n",
       "                        <td id=\"T_ca0d1_row2_col4\" class=\"data row2 col4\" >0.011979</td>\n",
       "                        <td id=\"T_ca0d1_row2_col5\" class=\"data row2 col5\" >0.010520</td>\n",
       "                        <td id=\"T_ca0d1_row2_col6\" class=\"data row2 col6\" >-0.006856</td>\n",
       "            </tr>\n",
       "            <tr>\n",
       "                        <th id=\"T_ca0d1_level0_row3\" class=\"row_heading level0 row3\" >Balance</th>\n",
       "                        <td id=\"T_ca0d1_row3_col0\" class=\"data row3 col0\" >0.006268</td>\n",
       "                        <td id=\"T_ca0d1_row3_col1\" class=\"data row3 col1\" >0.028308</td>\n",
       "                        <td id=\"T_ca0d1_row3_col2\" class=\"data row3 col2\" >-0.007911</td>\n",
       "                        <td id=\"T_ca0d1_row3_col3\" class=\"data row3 col3\" >1.000000</td>\n",
       "                        <td id=\"T_ca0d1_row3_col4\" class=\"data row3 col4\" >-0.304180</td>\n",
       "                        <td id=\"T_ca0d1_row3_col5\" class=\"data row3 col5\" >0.012797</td>\n",
       "                        <td id=\"T_ca0d1_row3_col6\" class=\"data row3 col6\" >0.956978</td>\n",
       "            </tr>\n",
       "            <tr>\n",
       "                        <th id=\"T_ca0d1_level0_row4\" class=\"row_heading level0 row4\" >Numofproducts</th>\n",
       "                        <td id=\"T_ca0d1_row4_col0\" class=\"data row4 col0\" >0.012238</td>\n",
       "                        <td id=\"T_ca0d1_row4_col1\" class=\"data row4 col1\" >-0.030680</td>\n",
       "                        <td id=\"T_ca0d1_row4_col2\" class=\"data row4 col2\" >0.011979</td>\n",
       "                        <td id=\"T_ca0d1_row4_col3\" class=\"data row4 col3\" >-0.304180</td>\n",
       "                        <td id=\"T_ca0d1_row4_col4\" class=\"data row4 col4\" >1.000000</td>\n",
       "                        <td id=\"T_ca0d1_row4_col5\" class=\"data row4 col5\" >0.014204</td>\n",
       "                        <td id=\"T_ca0d1_row4_col6\" class=\"data row4 col6\" >-0.256097</td>\n",
       "            </tr>\n",
       "            <tr>\n",
       "                        <th id=\"T_ca0d1_level0_row5\" class=\"row_heading level0 row5\" >Estimatedsalary</th>\n",
       "                        <td id=\"T_ca0d1_row5_col0\" class=\"data row5 col0\" >-0.001384</td>\n",
       "                        <td id=\"T_ca0d1_row5_col1\" class=\"data row5 col1\" >-0.007201</td>\n",
       "                        <td id=\"T_ca0d1_row5_col2\" class=\"data row5 col2\" >0.010520</td>\n",
       "                        <td id=\"T_ca0d1_row5_col3\" class=\"data row5 col3\" >0.012797</td>\n",
       "                        <td id=\"T_ca0d1_row5_col4\" class=\"data row5 col4\" >0.014204</td>\n",
       "                        <td id=\"T_ca0d1_row5_col5\" class=\"data row5 col5\" >1.000000</td>\n",
       "                        <td id=\"T_ca0d1_row5_col6\" class=\"data row5 col6\" >0.010742</td>\n",
       "            </tr>\n",
       "            <tr>\n",
       "                        <th id=\"T_ca0d1_level0_row6\" class=\"row_heading level0 row6\" >Balance_sq</th>\n",
       "                        <td id=\"T_ca0d1_row6_col0\" class=\"data row6 col0\" >0.004604</td>\n",
       "                        <td id=\"T_ca0d1_row6_col1\" class=\"data row6 col1\" >0.020248</td>\n",
       "                        <td id=\"T_ca0d1_row6_col2\" class=\"data row6 col2\" >-0.006856</td>\n",
       "                        <td id=\"T_ca0d1_row6_col3\" class=\"data row6 col3\" >0.956978</td>\n",
       "                        <td id=\"T_ca0d1_row6_col4\" class=\"data row6 col4\" >-0.256097</td>\n",
       "                        <td id=\"T_ca0d1_row6_col5\" class=\"data row6 col5\" >0.010742</td>\n",
       "                        <td id=\"T_ca0d1_row6_col6\" class=\"data row6 col6\" >1.000000</td>\n",
       "            </tr>\n",
       "    </tbody></table>"
      ],
      "text/plain": [
       "<pandas.io.formats.style.Styler at 0x7fd9aa4c1310>"
      ]
     },
     "execution_count": 230,
     "metadata": {},
     "output_type": "execute_result"
    }
   ],
   "source": [
    "# Посмотрим на таблицу корреляций\n",
    "data[numerical].corr().style.background_gradient('coolwarm')"
   ]
  },
  {
   "cell_type": "markdown",
   "metadata": {},
   "source": [
    "Сильные корреляций между независимыми переменными нет кроме квадрата баланса, который скоррелирован с балансом."
   ]
  },
  {
   "cell_type": "markdown",
   "metadata": {},
   "source": [
    "В данном разделе я загрузила данные и разбила их на тренировочную, валидационную и тестовую выборки. \n",
    "Я подготовила трансформеры, которые будут создавать бинарные переменные для категориальных данных, нормализовывать численные переменные и заполнять пропуски. \n",
    "Я посмотрела на зависимость между разными переменными и увидела, что баланс на счету сконцентрирован вокруг какого-то значения. Чтобы модели могли отобразить эту зависимость я ввела в переменные квадрат баланса. "
   ]
  },
  {
   "cell_type": "markdown",
   "metadata": {},
   "source": [
    "## Исследование задачи"
   ]
  },
  {
   "cell_type": "markdown",
   "metadata": {},
   "source": [
    "### Баланс классов"
   ]
  },
  {
   "cell_type": "markdown",
   "metadata": {},
   "source": [
    "Посмотрим, как много у нас в данных людей, которые уходят и клиентов, которые остаются."
   ]
  },
  {
   "cell_type": "code",
   "execution_count": 231,
   "metadata": {},
   "outputs": [
    {
     "data": {
      "text/plain": [
       "0    0.7963\n",
       "1    0.2037\n",
       "Name: Exited, dtype: float64"
      ]
     },
     "execution_count": 231,
     "metadata": {},
     "output_type": "execute_result"
    }
   ],
   "source": [
    "# Подсчёт значений\n",
    "data['Exited'].value_counts(True)"
   ]
  },
  {
   "cell_type": "markdown",
   "metadata": {},
   "source": [
    "Выборка очень несбалансирова - тех, кто уходит почти что в 4 раза меньше, чем тех, кто остался. Эту проблему я буду решать методами балансировки классов в следующем разделе."
   ]
  },
  {
   "cell_type": "markdown",
   "metadata": {},
   "source": [
    "### Первоначальный выбор модели"
   ]
  },
  {
   "cell_type": "markdown",
   "metadata": {},
   "source": [
    "#### Дерево решений"
   ]
  },
  {
   "cell_type": "code",
   "execution_count": 232,
   "metadata": {},
   "outputs": [],
   "source": [
    "# Инициализируем дерево решений\n",
    "model_tree = DecisionTreeClassifier(random_state=42)"
   ]
  },
  {
   "cell_type": "code",
   "execution_count": 233,
   "metadata": {},
   "outputs": [
    {
     "data": {
      "text/html": [
       "<style>#sk-container-id-33 {color: black;background-color: white;}#sk-container-id-33 pre{padding: 0;}#sk-container-id-33 div.sk-toggleable {background-color: white;}#sk-container-id-33 label.sk-toggleable__label {cursor: pointer;display: block;width: 100%;margin-bottom: 0;padding: 0.3em;box-sizing: border-box;text-align: center;}#sk-container-id-33 label.sk-toggleable__label-arrow:before {content: \"▸\";float: left;margin-right: 0.25em;color: #696969;}#sk-container-id-33 label.sk-toggleable__label-arrow:hover:before {color: black;}#sk-container-id-33 div.sk-estimator:hover label.sk-toggleable__label-arrow:before {color: black;}#sk-container-id-33 div.sk-toggleable__content {max-height: 0;max-width: 0;overflow: hidden;text-align: left;background-color: #f0f8ff;}#sk-container-id-33 div.sk-toggleable__content pre {margin: 0.2em;color: black;border-radius: 0.25em;background-color: #f0f8ff;}#sk-container-id-33 input.sk-toggleable__control:checked~div.sk-toggleable__content {max-height: 200px;max-width: 100%;overflow: auto;}#sk-container-id-33 input.sk-toggleable__control:checked~label.sk-toggleable__label-arrow:before {content: \"▾\";}#sk-container-id-33 div.sk-estimator input.sk-toggleable__control:checked~label.sk-toggleable__label {background-color: #d4ebff;}#sk-container-id-33 div.sk-label input.sk-toggleable__control:checked~label.sk-toggleable__label {background-color: #d4ebff;}#sk-container-id-33 input.sk-hidden--visually {border: 0;clip: rect(1px 1px 1px 1px);clip: rect(1px, 1px, 1px, 1px);height: 1px;margin: -1px;overflow: hidden;padding: 0;position: absolute;width: 1px;}#sk-container-id-33 div.sk-estimator {font-family: monospace;background-color: #f0f8ff;border: 1px dotted black;border-radius: 0.25em;box-sizing: border-box;margin-bottom: 0.5em;}#sk-container-id-33 div.sk-estimator:hover {background-color: #d4ebff;}#sk-container-id-33 div.sk-parallel-item::after {content: \"\";width: 100%;border-bottom: 1px solid gray;flex-grow: 1;}#sk-container-id-33 div.sk-label:hover label.sk-toggleable__label {background-color: #d4ebff;}#sk-container-id-33 div.sk-serial::before {content: \"\";position: absolute;border-left: 1px solid gray;box-sizing: border-box;top: 0;bottom: 0;left: 50%;z-index: 0;}#sk-container-id-33 div.sk-serial {display: flex;flex-direction: column;align-items: center;background-color: white;padding-right: 0.2em;padding-left: 0.2em;position: relative;}#sk-container-id-33 div.sk-item {position: relative;z-index: 1;}#sk-container-id-33 div.sk-parallel {display: flex;align-items: stretch;justify-content: center;background-color: white;position: relative;}#sk-container-id-33 div.sk-item::before, #sk-container-id-33 div.sk-parallel-item::before {content: \"\";position: absolute;border-left: 1px solid gray;box-sizing: border-box;top: 0;bottom: 0;left: 50%;z-index: -1;}#sk-container-id-33 div.sk-parallel-item {display: flex;flex-direction: column;z-index: 1;position: relative;background-color: white;}#sk-container-id-33 div.sk-parallel-item:first-child::after {align-self: flex-end;width: 50%;}#sk-container-id-33 div.sk-parallel-item:last-child::after {align-self: flex-start;width: 50%;}#sk-container-id-33 div.sk-parallel-item:only-child::after {width: 0;}#sk-container-id-33 div.sk-dashed-wrapped {border: 1px dashed gray;margin: 0 0.4em 0.5em 0.4em;box-sizing: border-box;padding-bottom: 0.4em;background-color: white;}#sk-container-id-33 div.sk-label label {font-family: monospace;font-weight: bold;display: inline-block;line-height: 1.2em;}#sk-container-id-33 div.sk-label-container {text-align: center;}#sk-container-id-33 div.sk-container {/* jupyter's `normalize.less` sets `[hidden] { display: none; }` but bootstrap.min.css set `[hidden] { display: none !important; }` so we also need the `!important` here to be able to override the default hidden behavior on the sphinx rendered scikit-learn.org. See: https://github.com/scikit-learn/scikit-learn/issues/21755 */display: inline-block !important;position: relative;}#sk-container-id-33 div.sk-text-repr-fallback {display: none;}</style><div id=\"sk-container-id-33\" class=\"sk-top-container\"><div class=\"sk-text-repr-fallback\"><pre>GridSearchCV(estimator=Pipeline(steps=[(&#x27;columntransformer&#x27;,\n",
       "                                        ColumnTransformer(remainder=&#x27;passthrough&#x27;,\n",
       "                                                          transformers=[(&#x27;pipeline-1&#x27;,\n",
       "                                                                         Pipeline(steps=[(&#x27;imputer&#x27;,\n",
       "                                                                                          KNNImputer()),\n",
       "                                                                                         (&#x27;scaler&#x27;,\n",
       "                                                                                          StandardScaler())]),\n",
       "                                                                         Index([&#x27;Creditscore&#x27;, &#x27;Age&#x27;, &#x27;Tenure&#x27;, &#x27;Balance&#x27;, &#x27;Numofproducts&#x27;,\n",
       "       &#x27;Estimatedsalary&#x27;, &#x27;Balance_sq&#x27;],\n",
       "      dtype=&#x27;object&#x27;)),\n",
       "                                                                        (&#x27;pipeline-2&#x27;,\n",
       "                                                                         Pipeline(steps=[(&#x27;onehot&#x27;,\n",
       "                                                                                          OneHotEncoder(drop=&#x27;first&#x27;,\n",
       "                                                                                                        handle_unknown=&#x27;ignore&#x27;))]),\n",
       "                                                                         [&#x27;Geography&#x27;,\n",
       "                                                                          &#x27;Gender&#x27;])],\n",
       "                                                          verbose_feature_names_out=False)),\n",
       "                                       (&#x27;decisiontreeclassifier&#x27;,\n",
       "                                        DecisionTreeClassifier(random_state=42))]),\n",
       "             param_grid={&#x27;decisiontreeclassifier__max_depth&#x27;: range(1, 30)},\n",
       "             scoring=&#x27;f1&#x27;)</pre><b>In a Jupyter environment, please rerun this cell to show the HTML representation or trust the notebook. <br />On GitHub, the HTML representation is unable to render, please try loading this page with nbviewer.org.</b></div><div class=\"sk-container\" hidden><div class=\"sk-item sk-dashed-wrapped\"><div class=\"sk-label-container\"><div class=\"sk-label sk-toggleable\"><input class=\"sk-toggleable__control sk-hidden--visually\" id=\"sk-estimator-id-360\" type=\"checkbox\" ><label for=\"sk-estimator-id-360\" class=\"sk-toggleable__label sk-toggleable__label-arrow\">GridSearchCV</label><div class=\"sk-toggleable__content\"><pre>GridSearchCV(estimator=Pipeline(steps=[(&#x27;columntransformer&#x27;,\n",
       "                                        ColumnTransformer(remainder=&#x27;passthrough&#x27;,\n",
       "                                                          transformers=[(&#x27;pipeline-1&#x27;,\n",
       "                                                                         Pipeline(steps=[(&#x27;imputer&#x27;,\n",
       "                                                                                          KNNImputer()),\n",
       "                                                                                         (&#x27;scaler&#x27;,\n",
       "                                                                                          StandardScaler())]),\n",
       "                                                                         Index([&#x27;Creditscore&#x27;, &#x27;Age&#x27;, &#x27;Tenure&#x27;, &#x27;Balance&#x27;, &#x27;Numofproducts&#x27;,\n",
       "       &#x27;Estimatedsalary&#x27;, &#x27;Balance_sq&#x27;],\n",
       "      dtype=&#x27;object&#x27;)),\n",
       "                                                                        (&#x27;pipeline-2&#x27;,\n",
       "                                                                         Pipeline(steps=[(&#x27;onehot&#x27;,\n",
       "                                                                                          OneHotEncoder(drop=&#x27;first&#x27;,\n",
       "                                                                                                        handle_unknown=&#x27;ignore&#x27;))]),\n",
       "                                                                         [&#x27;Geography&#x27;,\n",
       "                                                                          &#x27;Gender&#x27;])],\n",
       "                                                          verbose_feature_names_out=False)),\n",
       "                                       (&#x27;decisiontreeclassifier&#x27;,\n",
       "                                        DecisionTreeClassifier(random_state=42))]),\n",
       "             param_grid={&#x27;decisiontreeclassifier__max_depth&#x27;: range(1, 30)},\n",
       "             scoring=&#x27;f1&#x27;)</pre></div></div></div><div class=\"sk-parallel\"><div class=\"sk-parallel-item\"><div class=\"sk-item\"><div class=\"sk-label-container\"><div class=\"sk-label sk-toggleable\"><input class=\"sk-toggleable__control sk-hidden--visually\" id=\"sk-estimator-id-361\" type=\"checkbox\" ><label for=\"sk-estimator-id-361\" class=\"sk-toggleable__label sk-toggleable__label-arrow\">estimator: Pipeline</label><div class=\"sk-toggleable__content\"><pre>Pipeline(steps=[(&#x27;columntransformer&#x27;,\n",
       "                 ColumnTransformer(remainder=&#x27;passthrough&#x27;,\n",
       "                                   transformers=[(&#x27;pipeline-1&#x27;,\n",
       "                                                  Pipeline(steps=[(&#x27;imputer&#x27;,\n",
       "                                                                   KNNImputer()),\n",
       "                                                                  (&#x27;scaler&#x27;,\n",
       "                                                                   StandardScaler())]),\n",
       "                                                  Index([&#x27;Creditscore&#x27;, &#x27;Age&#x27;, &#x27;Tenure&#x27;, &#x27;Balance&#x27;, &#x27;Numofproducts&#x27;,\n",
       "       &#x27;Estimatedsalary&#x27;, &#x27;Balance_sq&#x27;],\n",
       "      dtype=&#x27;object&#x27;)),\n",
       "                                                 (&#x27;pipeline-2&#x27;,\n",
       "                                                  Pipeline(steps=[(&#x27;onehot&#x27;,\n",
       "                                                                   OneHotEncoder(drop=&#x27;first&#x27;,\n",
       "                                                                                 handle_unknown=&#x27;ignore&#x27;))]),\n",
       "                                                  [&#x27;Geography&#x27;, &#x27;Gender&#x27;])],\n",
       "                                   verbose_feature_names_out=False)),\n",
       "                (&#x27;decisiontreeclassifier&#x27;,\n",
       "                 DecisionTreeClassifier(random_state=42))])</pre></div></div></div><div class=\"sk-serial\"><div class=\"sk-item\"><div class=\"sk-serial\"><div class=\"sk-item sk-dashed-wrapped\"><div class=\"sk-label-container\"><div class=\"sk-label sk-toggleable\"><input class=\"sk-toggleable__control sk-hidden--visually\" id=\"sk-estimator-id-362\" type=\"checkbox\" ><label for=\"sk-estimator-id-362\" class=\"sk-toggleable__label sk-toggleable__label-arrow\">columntransformer: ColumnTransformer</label><div class=\"sk-toggleable__content\"><pre>ColumnTransformer(remainder=&#x27;passthrough&#x27;,\n",
       "                  transformers=[(&#x27;pipeline-1&#x27;,\n",
       "                                 Pipeline(steps=[(&#x27;imputer&#x27;, KNNImputer()),\n",
       "                                                 (&#x27;scaler&#x27;, StandardScaler())]),\n",
       "                                 Index([&#x27;Creditscore&#x27;, &#x27;Age&#x27;, &#x27;Tenure&#x27;, &#x27;Balance&#x27;, &#x27;Numofproducts&#x27;,\n",
       "       &#x27;Estimatedsalary&#x27;, &#x27;Balance_sq&#x27;],\n",
       "      dtype=&#x27;object&#x27;)),\n",
       "                                (&#x27;pipeline-2&#x27;,\n",
       "                                 Pipeline(steps=[(&#x27;onehot&#x27;,\n",
       "                                                  OneHotEncoder(drop=&#x27;first&#x27;,\n",
       "                                                                handle_unknown=&#x27;ignore&#x27;))]),\n",
       "                                 [&#x27;Geography&#x27;, &#x27;Gender&#x27;])],\n",
       "                  verbose_feature_names_out=False)</pre></div></div></div><div class=\"sk-parallel\"><div class=\"sk-parallel-item\"><div class=\"sk-item\"><div class=\"sk-label-container\"><div class=\"sk-label sk-toggleable\"><input class=\"sk-toggleable__control sk-hidden--visually\" id=\"sk-estimator-id-363\" type=\"checkbox\" ><label for=\"sk-estimator-id-363\" class=\"sk-toggleable__label sk-toggleable__label-arrow\">pipeline-1</label><div class=\"sk-toggleable__content\"><pre>Index([&#x27;Creditscore&#x27;, &#x27;Age&#x27;, &#x27;Tenure&#x27;, &#x27;Balance&#x27;, &#x27;Numofproducts&#x27;,\n",
       "       &#x27;Estimatedsalary&#x27;, &#x27;Balance_sq&#x27;],\n",
       "      dtype=&#x27;object&#x27;)</pre></div></div></div><div class=\"sk-serial\"><div class=\"sk-item\"><div class=\"sk-serial\"><div class=\"sk-item\"><div class=\"sk-estimator sk-toggleable\"><input class=\"sk-toggleable__control sk-hidden--visually\" id=\"sk-estimator-id-364\" type=\"checkbox\" ><label for=\"sk-estimator-id-364\" class=\"sk-toggleable__label sk-toggleable__label-arrow\">KNNImputer</label><div class=\"sk-toggleable__content\"><pre>KNNImputer()</pre></div></div></div><div class=\"sk-item\"><div class=\"sk-estimator sk-toggleable\"><input class=\"sk-toggleable__control sk-hidden--visually\" id=\"sk-estimator-id-365\" type=\"checkbox\" ><label for=\"sk-estimator-id-365\" class=\"sk-toggleable__label sk-toggleable__label-arrow\">StandardScaler</label><div class=\"sk-toggleable__content\"><pre>StandardScaler()</pre></div></div></div></div></div></div></div></div><div class=\"sk-parallel-item\"><div class=\"sk-item\"><div class=\"sk-label-container\"><div class=\"sk-label sk-toggleable\"><input class=\"sk-toggleable__control sk-hidden--visually\" id=\"sk-estimator-id-366\" type=\"checkbox\" ><label for=\"sk-estimator-id-366\" class=\"sk-toggleable__label sk-toggleable__label-arrow\">pipeline-2</label><div class=\"sk-toggleable__content\"><pre>[&#x27;Geography&#x27;, &#x27;Gender&#x27;]</pre></div></div></div><div class=\"sk-serial\"><div class=\"sk-item\"><div class=\"sk-serial\"><div class=\"sk-item\"><div class=\"sk-estimator sk-toggleable\"><input class=\"sk-toggleable__control sk-hidden--visually\" id=\"sk-estimator-id-367\" type=\"checkbox\" ><label for=\"sk-estimator-id-367\" class=\"sk-toggleable__label sk-toggleable__label-arrow\">OneHotEncoder</label><div class=\"sk-toggleable__content\"><pre>OneHotEncoder(drop=&#x27;first&#x27;, handle_unknown=&#x27;ignore&#x27;)</pre></div></div></div></div></div></div></div></div><div class=\"sk-parallel-item\"><div class=\"sk-item\"><div class=\"sk-label-container\"><div class=\"sk-label sk-toggleable\"><input class=\"sk-toggleable__control sk-hidden--visually\" id=\"sk-estimator-id-368\" type=\"checkbox\" ><label for=\"sk-estimator-id-368\" class=\"sk-toggleable__label sk-toggleable__label-arrow\">remainder</label><div class=\"sk-toggleable__content\"><pre></pre></div></div></div><div class=\"sk-serial\"><div class=\"sk-item\"><div class=\"sk-estimator sk-toggleable\"><input class=\"sk-toggleable__control sk-hidden--visually\" id=\"sk-estimator-id-369\" type=\"checkbox\" ><label for=\"sk-estimator-id-369\" class=\"sk-toggleable__label sk-toggleable__label-arrow\">passthrough</label><div class=\"sk-toggleable__content\"><pre>passthrough</pre></div></div></div></div></div></div></div></div><div class=\"sk-item\"><div class=\"sk-estimator sk-toggleable\"><input class=\"sk-toggleable__control sk-hidden--visually\" id=\"sk-estimator-id-370\" type=\"checkbox\" ><label for=\"sk-estimator-id-370\" class=\"sk-toggleable__label sk-toggleable__label-arrow\">DecisionTreeClassifier</label><div class=\"sk-toggleable__content\"><pre>DecisionTreeClassifier(random_state=42)</pre></div></div></div></div></div></div></div></div></div></div></div></div>"
      ],
      "text/plain": [
       "GridSearchCV(estimator=Pipeline(steps=[('columntransformer',\n",
       "                                        ColumnTransformer(remainder='passthrough',\n",
       "                                                          transformers=[('pipeline-1',\n",
       "                                                                         Pipeline(steps=[('imputer',\n",
       "                                                                                          KNNImputer()),\n",
       "                                                                                         ('scaler',\n",
       "                                                                                          StandardScaler())]),\n",
       "                                                                         Index(['Creditscore', 'Age', 'Tenure', 'Balance', 'Numofproducts',\n",
       "       'Estimatedsalary', 'Balance_sq'],\n",
       "      dtype='object')),\n",
       "                                                                        ('pipeline-2',\n",
       "                                                                         Pipeline(steps=[('onehot',\n",
       "                                                                                          OneHotEncoder(drop='first',\n",
       "                                                                                                        handle_unknown='ignore'))]),\n",
       "                                                                         ['Geography',\n",
       "                                                                          'Gender'])],\n",
       "                                                          verbose_feature_names_out=False)),\n",
       "                                       ('decisiontreeclassifier',\n",
       "                                        DecisionTreeClassifier(random_state=42))]),\n",
       "             param_grid={'decisiontreeclassifier__max_depth': range(1, 30)},\n",
       "             scoring='f1')"
      ]
     },
     "execution_count": 233,
     "metadata": {},
     "output_type": "execute_result"
    }
   ],
   "source": [
    "# Создаём пайплайн\n",
    "pipeline_tree = make_pipeline(preprocessor, model_tree)\n",
    "\n",
    "param_grid_tree = {\n",
    "    'decisiontreeclassifier__max_depth': range(1,30)\n",
    "}\n",
    "\n",
    "gs_tree = GridSearchCV(\n",
    "    pipeline_tree, \n",
    "    param_grid=param_grid_tree, \n",
    "    scoring='f1'\n",
    ")\n",
    "gs_tree.fit(pd.concat([features_train]+[features_valid]), pd.concat([target_train]+[target_valid]))"
   ]
  },
  {
   "cell_type": "markdown",
   "metadata": {},
   "source": [
    "Посмотрим на лучшую метрику и параметры."
   ]
  },
  {
   "cell_type": "code",
   "execution_count": 234,
   "metadata": {},
   "outputs": [
    {
     "data": {
      "text/plain": [
       "0.5493555668028035"
      ]
     },
     "metadata": {},
     "output_type": "display_data"
    },
    {
     "data": {
      "text/plain": [
       "{'decisiontreeclassifier__max_depth': 9}"
      ]
     },
     "execution_count": 234,
     "metadata": {},
     "output_type": "execute_result"
    }
   ],
   "source": [
    "display(gs_tree.best_score_)\n",
    "gs_tree.best_params_"
   ]
  },
  {
   "cell_type": "markdown",
   "metadata": {},
   "source": [
    "#### Случайный лес"
   ]
  },
  {
   "cell_type": "code",
   "execution_count": 235,
   "metadata": {},
   "outputs": [],
   "source": [
    "# Задаю пайплайн\n",
    "model_forest = RandomForestClassifier(random_state=42)\n",
    "\n",
    "pipline_forest = make_pipeline(preprocessor, model_forest)\n",
    "\n",
    "param_grid_forest = {\n",
    "    'randomforestclassifier__n_estimators': range(10, 110, 30),\n",
    "    'randomforestclassifier__max_depth': range(2, 15),\n",
    "    'randomforestclassifier__min_samples_split': (2, 3, 4),\n",
    "    'randomforestclassifier__min_samples_leaf': (1, 2, 3, 4)\n",
    "}\n",
    "\n",
    "\n",
    "gs_forest = RandomizedSearchCV(\n",
    "    pipline_forest, \n",
    "    param_distributions=param_grid_forest, \n",
    "    scoring='f1', \n",
    "    random_state=42\n",
    ")"
   ]
  },
  {
   "cell_type": "code",
   "execution_count": 236,
   "metadata": {},
   "outputs": [
    {
     "data": {
      "text/html": [
       "<style>#sk-container-id-34 {color: black;background-color: white;}#sk-container-id-34 pre{padding: 0;}#sk-container-id-34 div.sk-toggleable {background-color: white;}#sk-container-id-34 label.sk-toggleable__label {cursor: pointer;display: block;width: 100%;margin-bottom: 0;padding: 0.3em;box-sizing: border-box;text-align: center;}#sk-container-id-34 label.sk-toggleable__label-arrow:before {content: \"▸\";float: left;margin-right: 0.25em;color: #696969;}#sk-container-id-34 label.sk-toggleable__label-arrow:hover:before {color: black;}#sk-container-id-34 div.sk-estimator:hover label.sk-toggleable__label-arrow:before {color: black;}#sk-container-id-34 div.sk-toggleable__content {max-height: 0;max-width: 0;overflow: hidden;text-align: left;background-color: #f0f8ff;}#sk-container-id-34 div.sk-toggleable__content pre {margin: 0.2em;color: black;border-radius: 0.25em;background-color: #f0f8ff;}#sk-container-id-34 input.sk-toggleable__control:checked~div.sk-toggleable__content {max-height: 200px;max-width: 100%;overflow: auto;}#sk-container-id-34 input.sk-toggleable__control:checked~label.sk-toggleable__label-arrow:before {content: \"▾\";}#sk-container-id-34 div.sk-estimator input.sk-toggleable__control:checked~label.sk-toggleable__label {background-color: #d4ebff;}#sk-container-id-34 div.sk-label input.sk-toggleable__control:checked~label.sk-toggleable__label {background-color: #d4ebff;}#sk-container-id-34 input.sk-hidden--visually {border: 0;clip: rect(1px 1px 1px 1px);clip: rect(1px, 1px, 1px, 1px);height: 1px;margin: -1px;overflow: hidden;padding: 0;position: absolute;width: 1px;}#sk-container-id-34 div.sk-estimator {font-family: monospace;background-color: #f0f8ff;border: 1px dotted black;border-radius: 0.25em;box-sizing: border-box;margin-bottom: 0.5em;}#sk-container-id-34 div.sk-estimator:hover {background-color: #d4ebff;}#sk-container-id-34 div.sk-parallel-item::after {content: \"\";width: 100%;border-bottom: 1px solid gray;flex-grow: 1;}#sk-container-id-34 div.sk-label:hover label.sk-toggleable__label {background-color: #d4ebff;}#sk-container-id-34 div.sk-serial::before {content: \"\";position: absolute;border-left: 1px solid gray;box-sizing: border-box;top: 0;bottom: 0;left: 50%;z-index: 0;}#sk-container-id-34 div.sk-serial {display: flex;flex-direction: column;align-items: center;background-color: white;padding-right: 0.2em;padding-left: 0.2em;position: relative;}#sk-container-id-34 div.sk-item {position: relative;z-index: 1;}#sk-container-id-34 div.sk-parallel {display: flex;align-items: stretch;justify-content: center;background-color: white;position: relative;}#sk-container-id-34 div.sk-item::before, #sk-container-id-34 div.sk-parallel-item::before {content: \"\";position: absolute;border-left: 1px solid gray;box-sizing: border-box;top: 0;bottom: 0;left: 50%;z-index: -1;}#sk-container-id-34 div.sk-parallel-item {display: flex;flex-direction: column;z-index: 1;position: relative;background-color: white;}#sk-container-id-34 div.sk-parallel-item:first-child::after {align-self: flex-end;width: 50%;}#sk-container-id-34 div.sk-parallel-item:last-child::after {align-self: flex-start;width: 50%;}#sk-container-id-34 div.sk-parallel-item:only-child::after {width: 0;}#sk-container-id-34 div.sk-dashed-wrapped {border: 1px dashed gray;margin: 0 0.4em 0.5em 0.4em;box-sizing: border-box;padding-bottom: 0.4em;background-color: white;}#sk-container-id-34 div.sk-label label {font-family: monospace;font-weight: bold;display: inline-block;line-height: 1.2em;}#sk-container-id-34 div.sk-label-container {text-align: center;}#sk-container-id-34 div.sk-container {/* jupyter's `normalize.less` sets `[hidden] { display: none; }` but bootstrap.min.css set `[hidden] { display: none !important; }` so we also need the `!important` here to be able to override the default hidden behavior on the sphinx rendered scikit-learn.org. See: https://github.com/scikit-learn/scikit-learn/issues/21755 */display: inline-block !important;position: relative;}#sk-container-id-34 div.sk-text-repr-fallback {display: none;}</style><div id=\"sk-container-id-34\" class=\"sk-top-container\"><div class=\"sk-text-repr-fallback\"><pre>RandomizedSearchCV(estimator=Pipeline(steps=[(&#x27;columntransformer&#x27;,\n",
       "                                              ColumnTransformer(remainder=&#x27;passthrough&#x27;,\n",
       "                                                                transformers=[(&#x27;pipeline-1&#x27;,\n",
       "                                                                               Pipeline(steps=[(&#x27;imputer&#x27;,\n",
       "                                                                                                KNNImputer()),\n",
       "                                                                                               (&#x27;scaler&#x27;,\n",
       "                                                                                                StandardScaler())]),\n",
       "                                                                               Index([&#x27;Creditscore&#x27;, &#x27;Age&#x27;, &#x27;Tenure&#x27;, &#x27;Balance&#x27;, &#x27;Numofproducts&#x27;,\n",
       "       &#x27;Estimatedsalary&#x27;, &#x27;Balance_sq&#x27;],\n",
       "      dtype=&#x27;object&#x27;)),\n",
       "                                                                              (&#x27;pipeline-2&#x27;,\n",
       "                                                                               Pipeline(steps=[(&#x27;...\n",
       "                                                                verbose_feature_names_out=False)),\n",
       "                                             (&#x27;randomforestclassifier&#x27;,\n",
       "                                              RandomForestClassifier(random_state=42))]),\n",
       "                   param_distributions={&#x27;randomforestclassifier__max_depth&#x27;: range(2, 15),\n",
       "                                        &#x27;randomforestclassifier__min_samples_leaf&#x27;: (1,\n",
       "                                                                                     2,\n",
       "                                                                                     3,\n",
       "                                                                                     4),\n",
       "                                        &#x27;randomforestclassifier__min_samples_split&#x27;: (2,\n",
       "                                                                                      3,\n",
       "                                                                                      4),\n",
       "                                        &#x27;randomforestclassifier__n_estimators&#x27;: range(10, 110, 30)},\n",
       "                   random_state=42, scoring=&#x27;f1&#x27;)</pre><b>In a Jupyter environment, please rerun this cell to show the HTML representation or trust the notebook. <br />On GitHub, the HTML representation is unable to render, please try loading this page with nbviewer.org.</b></div><div class=\"sk-container\" hidden><div class=\"sk-item sk-dashed-wrapped\"><div class=\"sk-label-container\"><div class=\"sk-label sk-toggleable\"><input class=\"sk-toggleable__control sk-hidden--visually\" id=\"sk-estimator-id-371\" type=\"checkbox\" ><label for=\"sk-estimator-id-371\" class=\"sk-toggleable__label sk-toggleable__label-arrow\">RandomizedSearchCV</label><div class=\"sk-toggleable__content\"><pre>RandomizedSearchCV(estimator=Pipeline(steps=[(&#x27;columntransformer&#x27;,\n",
       "                                              ColumnTransformer(remainder=&#x27;passthrough&#x27;,\n",
       "                                                                transformers=[(&#x27;pipeline-1&#x27;,\n",
       "                                                                               Pipeline(steps=[(&#x27;imputer&#x27;,\n",
       "                                                                                                KNNImputer()),\n",
       "                                                                                               (&#x27;scaler&#x27;,\n",
       "                                                                                                StandardScaler())]),\n",
       "                                                                               Index([&#x27;Creditscore&#x27;, &#x27;Age&#x27;, &#x27;Tenure&#x27;, &#x27;Balance&#x27;, &#x27;Numofproducts&#x27;,\n",
       "       &#x27;Estimatedsalary&#x27;, &#x27;Balance_sq&#x27;],\n",
       "      dtype=&#x27;object&#x27;)),\n",
       "                                                                              (&#x27;pipeline-2&#x27;,\n",
       "                                                                               Pipeline(steps=[(&#x27;...\n",
       "                                                                verbose_feature_names_out=False)),\n",
       "                                             (&#x27;randomforestclassifier&#x27;,\n",
       "                                              RandomForestClassifier(random_state=42))]),\n",
       "                   param_distributions={&#x27;randomforestclassifier__max_depth&#x27;: range(2, 15),\n",
       "                                        &#x27;randomforestclassifier__min_samples_leaf&#x27;: (1,\n",
       "                                                                                     2,\n",
       "                                                                                     3,\n",
       "                                                                                     4),\n",
       "                                        &#x27;randomforestclassifier__min_samples_split&#x27;: (2,\n",
       "                                                                                      3,\n",
       "                                                                                      4),\n",
       "                                        &#x27;randomforestclassifier__n_estimators&#x27;: range(10, 110, 30)},\n",
       "                   random_state=42, scoring=&#x27;f1&#x27;)</pre></div></div></div><div class=\"sk-parallel\"><div class=\"sk-parallel-item\"><div class=\"sk-item\"><div class=\"sk-label-container\"><div class=\"sk-label sk-toggleable\"><input class=\"sk-toggleable__control sk-hidden--visually\" id=\"sk-estimator-id-372\" type=\"checkbox\" ><label for=\"sk-estimator-id-372\" class=\"sk-toggleable__label sk-toggleable__label-arrow\">estimator: Pipeline</label><div class=\"sk-toggleable__content\"><pre>Pipeline(steps=[(&#x27;columntransformer&#x27;,\n",
       "                 ColumnTransformer(remainder=&#x27;passthrough&#x27;,\n",
       "                                   transformers=[(&#x27;pipeline-1&#x27;,\n",
       "                                                  Pipeline(steps=[(&#x27;imputer&#x27;,\n",
       "                                                                   KNNImputer()),\n",
       "                                                                  (&#x27;scaler&#x27;,\n",
       "                                                                   StandardScaler())]),\n",
       "                                                  Index([&#x27;Creditscore&#x27;, &#x27;Age&#x27;, &#x27;Tenure&#x27;, &#x27;Balance&#x27;, &#x27;Numofproducts&#x27;,\n",
       "       &#x27;Estimatedsalary&#x27;, &#x27;Balance_sq&#x27;],\n",
       "      dtype=&#x27;object&#x27;)),\n",
       "                                                 (&#x27;pipeline-2&#x27;,\n",
       "                                                  Pipeline(steps=[(&#x27;onehot&#x27;,\n",
       "                                                                   OneHotEncoder(drop=&#x27;first&#x27;,\n",
       "                                                                                 handle_unknown=&#x27;ignore&#x27;))]),\n",
       "                                                  [&#x27;Geography&#x27;, &#x27;Gender&#x27;])],\n",
       "                                   verbose_feature_names_out=False)),\n",
       "                (&#x27;randomforestclassifier&#x27;,\n",
       "                 RandomForestClassifier(random_state=42))])</pre></div></div></div><div class=\"sk-serial\"><div class=\"sk-item\"><div class=\"sk-serial\"><div class=\"sk-item sk-dashed-wrapped\"><div class=\"sk-label-container\"><div class=\"sk-label sk-toggleable\"><input class=\"sk-toggleable__control sk-hidden--visually\" id=\"sk-estimator-id-373\" type=\"checkbox\" ><label for=\"sk-estimator-id-373\" class=\"sk-toggleable__label sk-toggleable__label-arrow\">columntransformer: ColumnTransformer</label><div class=\"sk-toggleable__content\"><pre>ColumnTransformer(remainder=&#x27;passthrough&#x27;,\n",
       "                  transformers=[(&#x27;pipeline-1&#x27;,\n",
       "                                 Pipeline(steps=[(&#x27;imputer&#x27;, KNNImputer()),\n",
       "                                                 (&#x27;scaler&#x27;, StandardScaler())]),\n",
       "                                 Index([&#x27;Creditscore&#x27;, &#x27;Age&#x27;, &#x27;Tenure&#x27;, &#x27;Balance&#x27;, &#x27;Numofproducts&#x27;,\n",
       "       &#x27;Estimatedsalary&#x27;, &#x27;Balance_sq&#x27;],\n",
       "      dtype=&#x27;object&#x27;)),\n",
       "                                (&#x27;pipeline-2&#x27;,\n",
       "                                 Pipeline(steps=[(&#x27;onehot&#x27;,\n",
       "                                                  OneHotEncoder(drop=&#x27;first&#x27;,\n",
       "                                                                handle_unknown=&#x27;ignore&#x27;))]),\n",
       "                                 [&#x27;Geography&#x27;, &#x27;Gender&#x27;])],\n",
       "                  verbose_feature_names_out=False)</pre></div></div></div><div class=\"sk-parallel\"><div class=\"sk-parallel-item\"><div class=\"sk-item\"><div class=\"sk-label-container\"><div class=\"sk-label sk-toggleable\"><input class=\"sk-toggleable__control sk-hidden--visually\" id=\"sk-estimator-id-374\" type=\"checkbox\" ><label for=\"sk-estimator-id-374\" class=\"sk-toggleable__label sk-toggleable__label-arrow\">pipeline-1</label><div class=\"sk-toggleable__content\"><pre>Index([&#x27;Creditscore&#x27;, &#x27;Age&#x27;, &#x27;Tenure&#x27;, &#x27;Balance&#x27;, &#x27;Numofproducts&#x27;,\n",
       "       &#x27;Estimatedsalary&#x27;, &#x27;Balance_sq&#x27;],\n",
       "      dtype=&#x27;object&#x27;)</pre></div></div></div><div class=\"sk-serial\"><div class=\"sk-item\"><div class=\"sk-serial\"><div class=\"sk-item\"><div class=\"sk-estimator sk-toggleable\"><input class=\"sk-toggleable__control sk-hidden--visually\" id=\"sk-estimator-id-375\" type=\"checkbox\" ><label for=\"sk-estimator-id-375\" class=\"sk-toggleable__label sk-toggleable__label-arrow\">KNNImputer</label><div class=\"sk-toggleable__content\"><pre>KNNImputer()</pre></div></div></div><div class=\"sk-item\"><div class=\"sk-estimator sk-toggleable\"><input class=\"sk-toggleable__control sk-hidden--visually\" id=\"sk-estimator-id-376\" type=\"checkbox\" ><label for=\"sk-estimator-id-376\" class=\"sk-toggleable__label sk-toggleable__label-arrow\">StandardScaler</label><div class=\"sk-toggleable__content\"><pre>StandardScaler()</pre></div></div></div></div></div></div></div></div><div class=\"sk-parallel-item\"><div class=\"sk-item\"><div class=\"sk-label-container\"><div class=\"sk-label sk-toggleable\"><input class=\"sk-toggleable__control sk-hidden--visually\" id=\"sk-estimator-id-377\" type=\"checkbox\" ><label for=\"sk-estimator-id-377\" class=\"sk-toggleable__label sk-toggleable__label-arrow\">pipeline-2</label><div class=\"sk-toggleable__content\"><pre>[&#x27;Geography&#x27;, &#x27;Gender&#x27;]</pre></div></div></div><div class=\"sk-serial\"><div class=\"sk-item\"><div class=\"sk-serial\"><div class=\"sk-item\"><div class=\"sk-estimator sk-toggleable\"><input class=\"sk-toggleable__control sk-hidden--visually\" id=\"sk-estimator-id-378\" type=\"checkbox\" ><label for=\"sk-estimator-id-378\" class=\"sk-toggleable__label sk-toggleable__label-arrow\">OneHotEncoder</label><div class=\"sk-toggleable__content\"><pre>OneHotEncoder(drop=&#x27;first&#x27;, handle_unknown=&#x27;ignore&#x27;)</pre></div></div></div></div></div></div></div></div><div class=\"sk-parallel-item\"><div class=\"sk-item\"><div class=\"sk-label-container\"><div class=\"sk-label sk-toggleable\"><input class=\"sk-toggleable__control sk-hidden--visually\" id=\"sk-estimator-id-379\" type=\"checkbox\" ><label for=\"sk-estimator-id-379\" class=\"sk-toggleable__label sk-toggleable__label-arrow\">remainder</label><div class=\"sk-toggleable__content\"><pre></pre></div></div></div><div class=\"sk-serial\"><div class=\"sk-item\"><div class=\"sk-estimator sk-toggleable\"><input class=\"sk-toggleable__control sk-hidden--visually\" id=\"sk-estimator-id-380\" type=\"checkbox\" ><label for=\"sk-estimator-id-380\" class=\"sk-toggleable__label sk-toggleable__label-arrow\">passthrough</label><div class=\"sk-toggleable__content\"><pre>passthrough</pre></div></div></div></div></div></div></div></div><div class=\"sk-item\"><div class=\"sk-estimator sk-toggleable\"><input class=\"sk-toggleable__control sk-hidden--visually\" id=\"sk-estimator-id-381\" type=\"checkbox\" ><label for=\"sk-estimator-id-381\" class=\"sk-toggleable__label sk-toggleable__label-arrow\">RandomForestClassifier</label><div class=\"sk-toggleable__content\"><pre>RandomForestClassifier(random_state=42)</pre></div></div></div></div></div></div></div></div></div></div></div></div>"
      ],
      "text/plain": [
       "RandomizedSearchCV(estimator=Pipeline(steps=[('columntransformer',\n",
       "                                              ColumnTransformer(remainder='passthrough',\n",
       "                                                                transformers=[('pipeline-1',\n",
       "                                                                               Pipeline(steps=[('imputer',\n",
       "                                                                                                KNNImputer()),\n",
       "                                                                                               ('scaler',\n",
       "                                                                                                StandardScaler())]),\n",
       "                                                                               Index(['Creditscore', 'Age', 'Tenure', 'Balance', 'Numofproducts',\n",
       "       'Estimatedsalary', 'Balance_sq'],\n",
       "      dtype='object')),\n",
       "                                                                              ('pipeline-2',\n",
       "                                                                               Pipeline(steps=[('...\n",
       "                                                                verbose_feature_names_out=False)),\n",
       "                                             ('randomforestclassifier',\n",
       "                                              RandomForestClassifier(random_state=42))]),\n",
       "                   param_distributions={'randomforestclassifier__max_depth': range(2, 15),\n",
       "                                        'randomforestclassifier__min_samples_leaf': (1,\n",
       "                                                                                     2,\n",
       "                                                                                     3,\n",
       "                                                                                     4),\n",
       "                                        'randomforestclassifier__min_samples_split': (2,\n",
       "                                                                                      3,\n",
       "                                                                                      4),\n",
       "                                        'randomforestclassifier__n_estimators': range(10, 110, 30)},\n",
       "                   random_state=42, scoring='f1')"
      ]
     },
     "execution_count": 236,
     "metadata": {},
     "output_type": "execute_result"
    }
   ],
   "source": [
    "# Оцениваю модель\n",
    "gs_forest.fit(pd.concat([features_train]+[features_valid]), pd.concat([target_train]+[target_valid]))"
   ]
  },
  {
   "cell_type": "code",
   "execution_count": 237,
   "metadata": {},
   "outputs": [
    {
     "data": {
      "text/plain": [
       "0.5668391971603426"
      ]
     },
     "metadata": {},
     "output_type": "display_data"
    },
    {
     "data": {
      "text/plain": [
       "{'randomforestclassifier__n_estimators': 40,\n",
       " 'randomforestclassifier__min_samples_split': 4,\n",
       " 'randomforestclassifier__min_samples_leaf': 2,\n",
       " 'randomforestclassifier__max_depth': 12}"
      ]
     },
     "execution_count": 237,
     "metadata": {},
     "output_type": "execute_result"
    }
   ],
   "source": [
    "# Результаты кросс-валидации\n",
    "display(gs_forest.best_score_)\n",
    "gs_forest.best_params_"
   ]
  },
  {
   "cell_type": "markdown",
   "metadata": {},
   "source": [
    "Метрика f1 при кроссвалидации немного улучшилась по сравнению с деревом решений."
   ]
  },
  {
   "cell_type": "markdown",
   "metadata": {},
   "source": [
    "Наилучшей моделью случайного леса оказался лес глубины 12 из 40 деревьев. Он показал при кросс-валидации f1=0.56. Это лучше, чем дерево решений."
   ]
  },
  {
   "cell_type": "markdown",
   "metadata": {},
   "source": [
    "#### Логистическая регрессия"
   ]
  },
  {
   "cell_type": "markdown",
   "metadata": {},
   "source": [
    "Теперь посмотрим модель логистической регрессии."
   ]
  },
  {
   "cell_type": "code",
   "execution_count": 238,
   "metadata": {},
   "outputs": [
    {
     "data": {
      "text/html": [
       "<style>#sk-container-id-35 {color: black;background-color: white;}#sk-container-id-35 pre{padding: 0;}#sk-container-id-35 div.sk-toggleable {background-color: white;}#sk-container-id-35 label.sk-toggleable__label {cursor: pointer;display: block;width: 100%;margin-bottom: 0;padding: 0.3em;box-sizing: border-box;text-align: center;}#sk-container-id-35 label.sk-toggleable__label-arrow:before {content: \"▸\";float: left;margin-right: 0.25em;color: #696969;}#sk-container-id-35 label.sk-toggleable__label-arrow:hover:before {color: black;}#sk-container-id-35 div.sk-estimator:hover label.sk-toggleable__label-arrow:before {color: black;}#sk-container-id-35 div.sk-toggleable__content {max-height: 0;max-width: 0;overflow: hidden;text-align: left;background-color: #f0f8ff;}#sk-container-id-35 div.sk-toggleable__content pre {margin: 0.2em;color: black;border-radius: 0.25em;background-color: #f0f8ff;}#sk-container-id-35 input.sk-toggleable__control:checked~div.sk-toggleable__content {max-height: 200px;max-width: 100%;overflow: auto;}#sk-container-id-35 input.sk-toggleable__control:checked~label.sk-toggleable__label-arrow:before {content: \"▾\";}#sk-container-id-35 div.sk-estimator input.sk-toggleable__control:checked~label.sk-toggleable__label {background-color: #d4ebff;}#sk-container-id-35 div.sk-label input.sk-toggleable__control:checked~label.sk-toggleable__label {background-color: #d4ebff;}#sk-container-id-35 input.sk-hidden--visually {border: 0;clip: rect(1px 1px 1px 1px);clip: rect(1px, 1px, 1px, 1px);height: 1px;margin: -1px;overflow: hidden;padding: 0;position: absolute;width: 1px;}#sk-container-id-35 div.sk-estimator {font-family: monospace;background-color: #f0f8ff;border: 1px dotted black;border-radius: 0.25em;box-sizing: border-box;margin-bottom: 0.5em;}#sk-container-id-35 div.sk-estimator:hover {background-color: #d4ebff;}#sk-container-id-35 div.sk-parallel-item::after {content: \"\";width: 100%;border-bottom: 1px solid gray;flex-grow: 1;}#sk-container-id-35 div.sk-label:hover label.sk-toggleable__label {background-color: #d4ebff;}#sk-container-id-35 div.sk-serial::before {content: \"\";position: absolute;border-left: 1px solid gray;box-sizing: border-box;top: 0;bottom: 0;left: 50%;z-index: 0;}#sk-container-id-35 div.sk-serial {display: flex;flex-direction: column;align-items: center;background-color: white;padding-right: 0.2em;padding-left: 0.2em;position: relative;}#sk-container-id-35 div.sk-item {position: relative;z-index: 1;}#sk-container-id-35 div.sk-parallel {display: flex;align-items: stretch;justify-content: center;background-color: white;position: relative;}#sk-container-id-35 div.sk-item::before, #sk-container-id-35 div.sk-parallel-item::before {content: \"\";position: absolute;border-left: 1px solid gray;box-sizing: border-box;top: 0;bottom: 0;left: 50%;z-index: -1;}#sk-container-id-35 div.sk-parallel-item {display: flex;flex-direction: column;z-index: 1;position: relative;background-color: white;}#sk-container-id-35 div.sk-parallel-item:first-child::after {align-self: flex-end;width: 50%;}#sk-container-id-35 div.sk-parallel-item:last-child::after {align-self: flex-start;width: 50%;}#sk-container-id-35 div.sk-parallel-item:only-child::after {width: 0;}#sk-container-id-35 div.sk-dashed-wrapped {border: 1px dashed gray;margin: 0 0.4em 0.5em 0.4em;box-sizing: border-box;padding-bottom: 0.4em;background-color: white;}#sk-container-id-35 div.sk-label label {font-family: monospace;font-weight: bold;display: inline-block;line-height: 1.2em;}#sk-container-id-35 div.sk-label-container {text-align: center;}#sk-container-id-35 div.sk-container {/* jupyter's `normalize.less` sets `[hidden] { display: none; }` but bootstrap.min.css set `[hidden] { display: none !important; }` so we also need the `!important` here to be able to override the default hidden behavior on the sphinx rendered scikit-learn.org. See: https://github.com/scikit-learn/scikit-learn/issues/21755 */display: inline-block !important;position: relative;}#sk-container-id-35 div.sk-text-repr-fallback {display: none;}</style><div id=\"sk-container-id-35\" class=\"sk-top-container\"><div class=\"sk-text-repr-fallback\"><pre>RandomizedSearchCV(estimator=Pipeline(steps=[(&#x27;columntransformer&#x27;,\n",
       "                                              ColumnTransformer(remainder=&#x27;passthrough&#x27;,\n",
       "                                                                transformers=[(&#x27;pipeline-1&#x27;,\n",
       "                                                                               Pipeline(steps=[(&#x27;imputer&#x27;,\n",
       "                                                                                                KNNImputer()),\n",
       "                                                                                               (&#x27;scaler&#x27;,\n",
       "                                                                                                StandardScaler())]),\n",
       "                                                                               Index([&#x27;Creditscore&#x27;, &#x27;Age&#x27;, &#x27;Tenure&#x27;, &#x27;Balance&#x27;, &#x27;Numofproducts&#x27;,\n",
       "       &#x27;Estimatedsalary&#x27;, &#x27;Balance_sq&#x27;],\n",
       "      dtype=&#x27;object&#x27;)),\n",
       "                                                                              (&#x27;pipeline-2&#x27;,\n",
       "                                                                               Pipeline(steps=[(&#x27;...\n",
       "                                                                               [&#x27;Geography&#x27;,\n",
       "                                                                                &#x27;Gender&#x27;])],\n",
       "                                                                verbose_feature_names_out=False)),\n",
       "                                             (&#x27;logisticregression&#x27;,\n",
       "                                              LogisticRegression(random_state=42))]),\n",
       "                   param_distributions={&#x27;logisticregression__C&#x27;: array([1.e-03, 1.e-02, 1.e-01, 1.e+00, 1.e+01, 1.e+02, 1.e+03]),\n",
       "                                        &#x27;logisticregression__penalty&#x27;: [&#x27;l1&#x27;,\n",
       "                                                                        &#x27;l2&#x27;],\n",
       "                                        &#x27;logisticregression__solver&#x27;: [&#x27;newton-cg&#x27;,\n",
       "                                                                       &#x27;lbfgs&#x27;,\n",
       "                                                                       &#x27;liblinear&#x27;]},\n",
       "                   random_state=42, scoring=&#x27;f1&#x27;)</pre><b>In a Jupyter environment, please rerun this cell to show the HTML representation or trust the notebook. <br />On GitHub, the HTML representation is unable to render, please try loading this page with nbviewer.org.</b></div><div class=\"sk-container\" hidden><div class=\"sk-item sk-dashed-wrapped\"><div class=\"sk-label-container\"><div class=\"sk-label sk-toggleable\"><input class=\"sk-toggleable__control sk-hidden--visually\" id=\"sk-estimator-id-382\" type=\"checkbox\" ><label for=\"sk-estimator-id-382\" class=\"sk-toggleable__label sk-toggleable__label-arrow\">RandomizedSearchCV</label><div class=\"sk-toggleable__content\"><pre>RandomizedSearchCV(estimator=Pipeline(steps=[(&#x27;columntransformer&#x27;,\n",
       "                                              ColumnTransformer(remainder=&#x27;passthrough&#x27;,\n",
       "                                                                transformers=[(&#x27;pipeline-1&#x27;,\n",
       "                                                                               Pipeline(steps=[(&#x27;imputer&#x27;,\n",
       "                                                                                                KNNImputer()),\n",
       "                                                                                               (&#x27;scaler&#x27;,\n",
       "                                                                                                StandardScaler())]),\n",
       "                                                                               Index([&#x27;Creditscore&#x27;, &#x27;Age&#x27;, &#x27;Tenure&#x27;, &#x27;Balance&#x27;, &#x27;Numofproducts&#x27;,\n",
       "       &#x27;Estimatedsalary&#x27;, &#x27;Balance_sq&#x27;],\n",
       "      dtype=&#x27;object&#x27;)),\n",
       "                                                                              (&#x27;pipeline-2&#x27;,\n",
       "                                                                               Pipeline(steps=[(&#x27;...\n",
       "                                                                               [&#x27;Geography&#x27;,\n",
       "                                                                                &#x27;Gender&#x27;])],\n",
       "                                                                verbose_feature_names_out=False)),\n",
       "                                             (&#x27;logisticregression&#x27;,\n",
       "                                              LogisticRegression(random_state=42))]),\n",
       "                   param_distributions={&#x27;logisticregression__C&#x27;: array([1.e-03, 1.e-02, 1.e-01, 1.e+00, 1.e+01, 1.e+02, 1.e+03]),\n",
       "                                        &#x27;logisticregression__penalty&#x27;: [&#x27;l1&#x27;,\n",
       "                                                                        &#x27;l2&#x27;],\n",
       "                                        &#x27;logisticregression__solver&#x27;: [&#x27;newton-cg&#x27;,\n",
       "                                                                       &#x27;lbfgs&#x27;,\n",
       "                                                                       &#x27;liblinear&#x27;]},\n",
       "                   random_state=42, scoring=&#x27;f1&#x27;)</pre></div></div></div><div class=\"sk-parallel\"><div class=\"sk-parallel-item\"><div class=\"sk-item\"><div class=\"sk-label-container\"><div class=\"sk-label sk-toggleable\"><input class=\"sk-toggleable__control sk-hidden--visually\" id=\"sk-estimator-id-383\" type=\"checkbox\" ><label for=\"sk-estimator-id-383\" class=\"sk-toggleable__label sk-toggleable__label-arrow\">estimator: Pipeline</label><div class=\"sk-toggleable__content\"><pre>Pipeline(steps=[(&#x27;columntransformer&#x27;,\n",
       "                 ColumnTransformer(remainder=&#x27;passthrough&#x27;,\n",
       "                                   transformers=[(&#x27;pipeline-1&#x27;,\n",
       "                                                  Pipeline(steps=[(&#x27;imputer&#x27;,\n",
       "                                                                   KNNImputer()),\n",
       "                                                                  (&#x27;scaler&#x27;,\n",
       "                                                                   StandardScaler())]),\n",
       "                                                  Index([&#x27;Creditscore&#x27;, &#x27;Age&#x27;, &#x27;Tenure&#x27;, &#x27;Balance&#x27;, &#x27;Numofproducts&#x27;,\n",
       "       &#x27;Estimatedsalary&#x27;, &#x27;Balance_sq&#x27;],\n",
       "      dtype=&#x27;object&#x27;)),\n",
       "                                                 (&#x27;pipeline-2&#x27;,\n",
       "                                                  Pipeline(steps=[(&#x27;onehot&#x27;,\n",
       "                                                                   OneHotEncoder(drop=&#x27;first&#x27;,\n",
       "                                                                                 handle_unknown=&#x27;ignore&#x27;))]),\n",
       "                                                  [&#x27;Geography&#x27;, &#x27;Gender&#x27;])],\n",
       "                                   verbose_feature_names_out=False)),\n",
       "                (&#x27;logisticregression&#x27;, LogisticRegression(random_state=42))])</pre></div></div></div><div class=\"sk-serial\"><div class=\"sk-item\"><div class=\"sk-serial\"><div class=\"sk-item sk-dashed-wrapped\"><div class=\"sk-label-container\"><div class=\"sk-label sk-toggleable\"><input class=\"sk-toggleable__control sk-hidden--visually\" id=\"sk-estimator-id-384\" type=\"checkbox\" ><label for=\"sk-estimator-id-384\" class=\"sk-toggleable__label sk-toggleable__label-arrow\">columntransformer: ColumnTransformer</label><div class=\"sk-toggleable__content\"><pre>ColumnTransformer(remainder=&#x27;passthrough&#x27;,\n",
       "                  transformers=[(&#x27;pipeline-1&#x27;,\n",
       "                                 Pipeline(steps=[(&#x27;imputer&#x27;, KNNImputer()),\n",
       "                                                 (&#x27;scaler&#x27;, StandardScaler())]),\n",
       "                                 Index([&#x27;Creditscore&#x27;, &#x27;Age&#x27;, &#x27;Tenure&#x27;, &#x27;Balance&#x27;, &#x27;Numofproducts&#x27;,\n",
       "       &#x27;Estimatedsalary&#x27;, &#x27;Balance_sq&#x27;],\n",
       "      dtype=&#x27;object&#x27;)),\n",
       "                                (&#x27;pipeline-2&#x27;,\n",
       "                                 Pipeline(steps=[(&#x27;onehot&#x27;,\n",
       "                                                  OneHotEncoder(drop=&#x27;first&#x27;,\n",
       "                                                                handle_unknown=&#x27;ignore&#x27;))]),\n",
       "                                 [&#x27;Geography&#x27;, &#x27;Gender&#x27;])],\n",
       "                  verbose_feature_names_out=False)</pre></div></div></div><div class=\"sk-parallel\"><div class=\"sk-parallel-item\"><div class=\"sk-item\"><div class=\"sk-label-container\"><div class=\"sk-label sk-toggleable\"><input class=\"sk-toggleable__control sk-hidden--visually\" id=\"sk-estimator-id-385\" type=\"checkbox\" ><label for=\"sk-estimator-id-385\" class=\"sk-toggleable__label sk-toggleable__label-arrow\">pipeline-1</label><div class=\"sk-toggleable__content\"><pre>Index([&#x27;Creditscore&#x27;, &#x27;Age&#x27;, &#x27;Tenure&#x27;, &#x27;Balance&#x27;, &#x27;Numofproducts&#x27;,\n",
       "       &#x27;Estimatedsalary&#x27;, &#x27;Balance_sq&#x27;],\n",
       "      dtype=&#x27;object&#x27;)</pre></div></div></div><div class=\"sk-serial\"><div class=\"sk-item\"><div class=\"sk-serial\"><div class=\"sk-item\"><div class=\"sk-estimator sk-toggleable\"><input class=\"sk-toggleable__control sk-hidden--visually\" id=\"sk-estimator-id-386\" type=\"checkbox\" ><label for=\"sk-estimator-id-386\" class=\"sk-toggleable__label sk-toggleable__label-arrow\">KNNImputer</label><div class=\"sk-toggleable__content\"><pre>KNNImputer()</pre></div></div></div><div class=\"sk-item\"><div class=\"sk-estimator sk-toggleable\"><input class=\"sk-toggleable__control sk-hidden--visually\" id=\"sk-estimator-id-387\" type=\"checkbox\" ><label for=\"sk-estimator-id-387\" class=\"sk-toggleable__label sk-toggleable__label-arrow\">StandardScaler</label><div class=\"sk-toggleable__content\"><pre>StandardScaler()</pre></div></div></div></div></div></div></div></div><div class=\"sk-parallel-item\"><div class=\"sk-item\"><div class=\"sk-label-container\"><div class=\"sk-label sk-toggleable\"><input class=\"sk-toggleable__control sk-hidden--visually\" id=\"sk-estimator-id-388\" type=\"checkbox\" ><label for=\"sk-estimator-id-388\" class=\"sk-toggleable__label sk-toggleable__label-arrow\">pipeline-2</label><div class=\"sk-toggleable__content\"><pre>[&#x27;Geography&#x27;, &#x27;Gender&#x27;]</pre></div></div></div><div class=\"sk-serial\"><div class=\"sk-item\"><div class=\"sk-serial\"><div class=\"sk-item\"><div class=\"sk-estimator sk-toggleable\"><input class=\"sk-toggleable__control sk-hidden--visually\" id=\"sk-estimator-id-389\" type=\"checkbox\" ><label for=\"sk-estimator-id-389\" class=\"sk-toggleable__label sk-toggleable__label-arrow\">OneHotEncoder</label><div class=\"sk-toggleable__content\"><pre>OneHotEncoder(drop=&#x27;first&#x27;, handle_unknown=&#x27;ignore&#x27;)</pre></div></div></div></div></div></div></div></div><div class=\"sk-parallel-item\"><div class=\"sk-item\"><div class=\"sk-label-container\"><div class=\"sk-label sk-toggleable\"><input class=\"sk-toggleable__control sk-hidden--visually\" id=\"sk-estimator-id-390\" type=\"checkbox\" ><label for=\"sk-estimator-id-390\" class=\"sk-toggleable__label sk-toggleable__label-arrow\">remainder</label><div class=\"sk-toggleable__content\"><pre></pre></div></div></div><div class=\"sk-serial\"><div class=\"sk-item\"><div class=\"sk-estimator sk-toggleable\"><input class=\"sk-toggleable__control sk-hidden--visually\" id=\"sk-estimator-id-391\" type=\"checkbox\" ><label for=\"sk-estimator-id-391\" class=\"sk-toggleable__label sk-toggleable__label-arrow\">passthrough</label><div class=\"sk-toggleable__content\"><pre>passthrough</pre></div></div></div></div></div></div></div></div><div class=\"sk-item\"><div class=\"sk-estimator sk-toggleable\"><input class=\"sk-toggleable__control sk-hidden--visually\" id=\"sk-estimator-id-392\" type=\"checkbox\" ><label for=\"sk-estimator-id-392\" class=\"sk-toggleable__label sk-toggleable__label-arrow\">LogisticRegression</label><div class=\"sk-toggleable__content\"><pre>LogisticRegression(random_state=42)</pre></div></div></div></div></div></div></div></div></div></div></div></div>"
      ],
      "text/plain": [
       "RandomizedSearchCV(estimator=Pipeline(steps=[('columntransformer',\n",
       "                                              ColumnTransformer(remainder='passthrough',\n",
       "                                                                transformers=[('pipeline-1',\n",
       "                                                                               Pipeline(steps=[('imputer',\n",
       "                                                                                                KNNImputer()),\n",
       "                                                                                               ('scaler',\n",
       "                                                                                                StandardScaler())]),\n",
       "                                                                               Index(['Creditscore', 'Age', 'Tenure', 'Balance', 'Numofproducts',\n",
       "       'Estimatedsalary', 'Balance_sq'],\n",
       "      dtype='object')),\n",
       "                                                                              ('pipeline-2',\n",
       "                                                                               Pipeline(steps=[('...\n",
       "                                                                               ['Geography',\n",
       "                                                                                'Gender'])],\n",
       "                                                                verbose_feature_names_out=False)),\n",
       "                                             ('logisticregression',\n",
       "                                              LogisticRegression(random_state=42))]),\n",
       "                   param_distributions={'logisticregression__C': array([1.e-03, 1.e-02, 1.e-01, 1.e+00, 1.e+01, 1.e+02, 1.e+03]),\n",
       "                                        'logisticregression__penalty': ['l1',\n",
       "                                                                        'l2'],\n",
       "                                        'logisticregression__solver': ['newton-cg',\n",
       "                                                                       'lbfgs',\n",
       "                                                                       'liblinear']},\n",
       "                   random_state=42, scoring='f1')"
      ]
     },
     "execution_count": 238,
     "metadata": {},
     "output_type": "execute_result"
    }
   ],
   "source": [
    "# Создаём пайплайн\n",
    "model_logit = LogisticRegression(random_state=42)\n",
    "pipeline_logit = make_pipeline(preprocessor, model_logit)\n",
    "\n",
    "param_grid_logit = {\n",
    "    'logisticregression__penalty' : ['l1','l2'], \n",
    "    'logisticregression__C'       : np.logspace(-3,3,7),\n",
    "    'logisticregression__solver'  : ['newton-cg', 'lbfgs', 'liblinear'],\n",
    "}\n",
    "\n",
    "gs_logit = RandomizedSearchCV(\n",
    "    pipeline_logit, \n",
    "    param_distributions=param_grid_logit, \n",
    "    scoring='f1',\n",
    "    random_state=42\n",
    ")\n",
    "\n",
    "gs_logit.fit(pd.concat([features_train]+[features_valid]), pd.concat([target_train]+[target_valid]))"
   ]
  },
  {
   "cell_type": "code",
   "execution_count": 239,
   "metadata": {},
   "outputs": [
    {
     "data": {
      "text/plain": [
       "0.3064510728040521"
      ]
     },
     "metadata": {},
     "output_type": "display_data"
    },
    {
     "data": {
      "text/plain": [
       "{'logisticregression__solver': 'liblinear',\n",
       " 'logisticregression__penalty': 'l1',\n",
       " 'logisticregression__C': 10.0}"
      ]
     },
     "execution_count": 239,
     "metadata": {},
     "output_type": "execute_result"
    }
   ],
   "source": [
    "# Смотрю на результаты\n",
    "display(gs_logit.best_score_)\n",
    "gs_logit.best_params_"
   ]
  },
  {
   "cell_type": "markdown",
   "metadata": {},
   "source": [
    "В логистической регрессии метрика при кросс-валидации значительно уступает и дереву решений и случайному лесу. "
   ]
  },
  {
   "cell_type": "markdown",
   "metadata": {},
   "source": [
    "Сравним результатыт для трёх классов моделей."
   ]
  },
  {
   "cell_type": "code",
   "execution_count": 240,
   "metadata": {},
   "outputs": [
    {
     "data": {
      "text/html": [
       "<div>\n",
       "<style scoped>\n",
       "    .dataframe tbody tr th:only-of-type {\n",
       "        vertical-align: middle;\n",
       "    }\n",
       "\n",
       "    .dataframe tbody tr th {\n",
       "        vertical-align: top;\n",
       "    }\n",
       "\n",
       "    .dataframe thead th {\n",
       "        text-align: right;\n",
       "    }\n",
       "</style>\n",
       "<table border=\"1\" class=\"dataframe\">\n",
       "  <thead>\n",
       "    <tr style=\"text-align: right;\">\n",
       "      <th></th>\n",
       "      <th>f1</th>\n",
       "    </tr>\n",
       "  </thead>\n",
       "  <tbody>\n",
       "    <tr>\n",
       "      <th>Decision Tree</th>\n",
       "      <td>0.549356</td>\n",
       "    </tr>\n",
       "    <tr>\n",
       "      <th>Random Forest</th>\n",
       "      <td>0.566839</td>\n",
       "    </tr>\n",
       "    <tr>\n",
       "      <th>Logit</th>\n",
       "      <td>0.306451</td>\n",
       "    </tr>\n",
       "  </tbody>\n",
       "</table>\n",
       "</div>"
      ],
      "text/plain": [
       "                     f1\n",
       "Decision Tree  0.549356\n",
       "Random Forest  0.566839\n",
       "Logit          0.306451"
      ]
     },
     "execution_count": 240,
     "metadata": {},
     "output_type": "execute_result"
    }
   ],
   "source": [
    "# Таблица\n",
    "result = pd.DataFrame(\n",
    "    [gs_tree.best_score_, gs_forest.best_score_, gs_logit.best_score_], \n",
    "    index=['Decision Tree', 'Random Forest', 'Logit'], \n",
    "    columns=['f1']\n",
    ")\n",
    "result"
   ]
  },
  {
   "cell_type": "markdown",
   "metadata": {},
   "source": [
    "Если не обрабатывать дисбаланс классов, то лучший результат на кросс-валидации показывает модель Случайного леса."
   ]
  },
  {
   "cell_type": "markdown",
   "metadata": {},
   "source": [
    "Посмотрим roc кривую для этих трёх классификаторов."
   ]
  },
  {
   "cell_type": "code",
   "execution_count": 241,
   "metadata": {},
   "outputs": [],
   "source": [
    "# roc-curve\n",
    "fpr_dt, tpr_dt, threshold_dt = (\n",
    "    roc_curve(pd.concat([target_train]+[target_valid]),\n",
    "              gs_tree.predict_proba(pd.concat([features_train]+[features_valid]))[:,1]))\n",
    "fpr_rf, tpr_rf, threshold_rf = (\n",
    "    roc_curve(pd.concat([target_train]+[target_valid]),\n",
    "              gs_forest.predict_proba(pd.concat([features_train]+[features_valid]))[:,1]))\n",
    "fpr_l, tpr_l, threshold_l = (\n",
    "    roc_curve(pd.concat([target_train]+[target_valid]),\n",
    "              gs_logit.predict_proba(pd.concat([features_train]+[features_valid]))[:,1]))"
   ]
  },
  {
   "cell_type": "code",
   "execution_count": 242,
   "metadata": {},
   "outputs": [
    {
     "data": {
      "image/png": "[encoded data removed]",
      "text/plain": [
       "<Figure size 720x360 with 1 Axes>"
      ]
     },
     "metadata": {
      "needs_background": "light"
     },
     "output_type": "display_data"
    }
   ],
   "source": [
    "# график\n",
    "plt.figure(figsize = (10,5))\n",
    "plt.title('ROC-curve \\n')\n",
    "plt.xlabel('\\n FPR')\n",
    "plt.ylabel('TPR')\n",
    "plt.plot(fpr_dt, tpr_dt, label='Decision tree');\n",
    "plt.plot(fpr_rf, tpr_rf, label='Random forest')\n",
    "plt.plot(fpr_l, tpr_l, label='Logit')\n",
    "plt.plot(np.arange(0,1.1,0.1), np.arange(0,1.1,0.1), linestyle='--');\n",
    "plt.xlim(0,1);\n",
    "plt.ylim(0,1);\n",
    "plt.legend();\n",
    "plt.show();"
   ]
  },
  {
   "cell_type": "markdown",
   "metadata": {},
   "source": [
    "На графике roc curve мы тоже видим, что случайный лес ближе к идеальному классификатору."
   ]
  },
  {
   "cell_type": "markdown",
   "metadata": {},
   "source": [
    "В данном разделе я изучила баланс классов и поняла, что классы очень сильно разбалансированы. В следующем разделе я буду применять методы борьбы с дисбалансом классов. \n",
    "Я сделала первичную оценку разных моделей, не учитывая дисбаланс классова. Лучше себя в плане f1-метрики на валидационной выборке показала себя модель случайного леса глубиной 11 из 70 деревьев. В следующем разделе я буду сравнивать модели для разных способов учёта дисбаланса классов."
   ]
  },
  {
   "cell_type": "markdown",
   "metadata": {},
   "source": [
    "## Борьба с дисбалансом"
   ]
  },
  {
   "cell_type": "markdown",
   "metadata": {},
   "source": [
    "Продолжим оценивать модель случайного леса, но теперь будем адресовать проблему несбалансированности классов."
   ]
  },
  {
   "cell_type": "markdown",
   "metadata": {},
   "source": [
    "Для всех методов, кроме методов апсамплинга я буду использовать всю выборку из train и valid и оценивать модель с помощью кросс-валидации. Для методов апсамплинга, я буду использовать только тренировочную выборку для обучения, а валидационную для валидации."
   ]
  },
  {
   "cell_type": "markdown",
   "metadata": {},
   "source": [
    "### Взвешивание классов"
   ]
  },
  {
   "cell_type": "markdown",
   "metadata": {},
   "source": [
    "#### Дерево решений"
   ]
  },
  {
   "cell_type": "code",
   "execution_count": 243,
   "metadata": {},
   "outputs": [
    {
     "data": {
      "text/html": [
       "<style>#sk-container-id-36 {color: black;background-color: white;}#sk-container-id-36 pre{padding: 0;}#sk-container-id-36 div.sk-toggleable {background-color: white;}#sk-container-id-36 label.sk-toggleable__label {cursor: pointer;display: block;width: 100%;margin-bottom: 0;padding: 0.3em;box-sizing: border-box;text-align: center;}#sk-container-id-36 label.sk-toggleable__label-arrow:before {content: \"▸\";float: left;margin-right: 0.25em;color: #696969;}#sk-container-id-36 label.sk-toggleable__label-arrow:hover:before {color: black;}#sk-container-id-36 div.sk-estimator:hover label.sk-toggleable__label-arrow:before {color: black;}#sk-container-id-36 div.sk-toggleable__content {max-height: 0;max-width: 0;overflow: hidden;text-align: left;background-color: #f0f8ff;}#sk-container-id-36 div.sk-toggleable__content pre {margin: 0.2em;color: black;border-radius: 0.25em;background-color: #f0f8ff;}#sk-container-id-36 input.sk-toggleable__control:checked~div.sk-toggleable__content {max-height: 200px;max-width: 100%;overflow: auto;}#sk-container-id-36 input.sk-toggleable__control:checked~label.sk-toggleable__label-arrow:before {content: \"▾\";}#sk-container-id-36 div.sk-estimator input.sk-toggleable__control:checked~label.sk-toggleable__label {background-color: #d4ebff;}#sk-container-id-36 div.sk-label input.sk-toggleable__control:checked~label.sk-toggleable__label {background-color: #d4ebff;}#sk-container-id-36 input.sk-hidden--visually {border: 0;clip: rect(1px 1px 1px 1px);clip: rect(1px, 1px, 1px, 1px);height: 1px;margin: -1px;overflow: hidden;padding: 0;position: absolute;width: 1px;}#sk-container-id-36 div.sk-estimator {font-family: monospace;background-color: #f0f8ff;border: 1px dotted black;border-radius: 0.25em;box-sizing: border-box;margin-bottom: 0.5em;}#sk-container-id-36 div.sk-estimator:hover {background-color: #d4ebff;}#sk-container-id-36 div.sk-parallel-item::after {content: \"\";width: 100%;border-bottom: 1px solid gray;flex-grow: 1;}#sk-container-id-36 div.sk-label:hover label.sk-toggleable__label {background-color: #d4ebff;}#sk-container-id-36 div.sk-serial::before {content: \"\";position: absolute;border-left: 1px solid gray;box-sizing: border-box;top: 0;bottom: 0;left: 50%;z-index: 0;}#sk-container-id-36 div.sk-serial {display: flex;flex-direction: column;align-items: center;background-color: white;padding-right: 0.2em;padding-left: 0.2em;position: relative;}#sk-container-id-36 div.sk-item {position: relative;z-index: 1;}#sk-container-id-36 div.sk-parallel {display: flex;align-items: stretch;justify-content: center;background-color: white;position: relative;}#sk-container-id-36 div.sk-item::before, #sk-container-id-36 div.sk-parallel-item::before {content: \"\";position: absolute;border-left: 1px solid gray;box-sizing: border-box;top: 0;bottom: 0;left: 50%;z-index: -1;}#sk-container-id-36 div.sk-parallel-item {display: flex;flex-direction: column;z-index: 1;position: relative;background-color: white;}#sk-container-id-36 div.sk-parallel-item:first-child::after {align-self: flex-end;width: 50%;}#sk-container-id-36 div.sk-parallel-item:last-child::after {align-self: flex-start;width: 50%;}#sk-container-id-36 div.sk-parallel-item:only-child::after {width: 0;}#sk-container-id-36 div.sk-dashed-wrapped {border: 1px dashed gray;margin: 0 0.4em 0.5em 0.4em;box-sizing: border-box;padding-bottom: 0.4em;background-color: white;}#sk-container-id-36 div.sk-label label {font-family: monospace;font-weight: bold;display: inline-block;line-height: 1.2em;}#sk-container-id-36 div.sk-label-container {text-align: center;}#sk-container-id-36 div.sk-container {/* jupyter's `normalize.less` sets `[hidden] { display: none; }` but bootstrap.min.css set `[hidden] { display: none !important; }` so we also need the `!important` here to be able to override the default hidden behavior on the sphinx rendered scikit-learn.org. See: https://github.com/scikit-learn/scikit-learn/issues/21755 */display: inline-block !important;position: relative;}#sk-container-id-36 div.sk-text-repr-fallback {display: none;}</style><div id=\"sk-container-id-36\" class=\"sk-top-container\"><div class=\"sk-text-repr-fallback\"><pre>GridSearchCV(estimator=Pipeline(steps=[(&#x27;columntransformer&#x27;,\n",
       "                                        ColumnTransformer(remainder=&#x27;passthrough&#x27;,\n",
       "                                                          transformers=[(&#x27;pipeline-1&#x27;,\n",
       "                                                                         Pipeline(steps=[(&#x27;imputer&#x27;,\n",
       "                                                                                          KNNImputer()),\n",
       "                                                                                         (&#x27;scaler&#x27;,\n",
       "                                                                                          StandardScaler())]),\n",
       "                                                                         Index([&#x27;Creditscore&#x27;, &#x27;Age&#x27;, &#x27;Tenure&#x27;, &#x27;Balance&#x27;, &#x27;Numofproducts&#x27;,\n",
       "       &#x27;Estimatedsalary&#x27;, &#x27;Balance_sq&#x27;],\n",
       "      dtype=&#x27;object&#x27;)),\n",
       "                                                                        (&#x27;pipeline-2&#x27;,\n",
       "                                                                         Pipeline(steps=[(&#x27;onehot&#x27;,\n",
       "                                                                                          OneHotEncoder(drop=&#x27;first&#x27;,\n",
       "                                                                                                        handle_unknown=&#x27;ignore&#x27;))]),\n",
       "                                                                         [&#x27;Geography&#x27;,\n",
       "                                                                          &#x27;Gender&#x27;])],\n",
       "                                                          verbose_feature_names_out=False)),\n",
       "                                       (&#x27;decisiontreeclassifier&#x27;,\n",
       "                                        DecisionTreeClassifier(class_weight=&#x27;balanced&#x27;,\n",
       "                                                               random_state=42))]),\n",
       "             param_grid={&#x27;decisiontreeclassifier__max_depth&#x27;: range(1, 30)},\n",
       "             scoring=&#x27;f1&#x27;)</pre><b>In a Jupyter environment, please rerun this cell to show the HTML representation or trust the notebook. <br />On GitHub, the HTML representation is unable to render, please try loading this page with nbviewer.org.</b></div><div class=\"sk-container\" hidden><div class=\"sk-item sk-dashed-wrapped\"><div class=\"sk-label-container\"><div class=\"sk-label sk-toggleable\"><input class=\"sk-toggleable__control sk-hidden--visually\" id=\"sk-estimator-id-393\" type=\"checkbox\" ><label for=\"sk-estimator-id-393\" class=\"sk-toggleable__label sk-toggleable__label-arrow\">GridSearchCV</label><div class=\"sk-toggleable__content\"><pre>GridSearchCV(estimator=Pipeline(steps=[(&#x27;columntransformer&#x27;,\n",
       "                                        ColumnTransformer(remainder=&#x27;passthrough&#x27;,\n",
       "                                                          transformers=[(&#x27;pipeline-1&#x27;,\n",
       "                                                                         Pipeline(steps=[(&#x27;imputer&#x27;,\n",
       "                                                                                          KNNImputer()),\n",
       "                                                                                         (&#x27;scaler&#x27;,\n",
       "                                                                                          StandardScaler())]),\n",
       "                                                                         Index([&#x27;Creditscore&#x27;, &#x27;Age&#x27;, &#x27;Tenure&#x27;, &#x27;Balance&#x27;, &#x27;Numofproducts&#x27;,\n",
       "       &#x27;Estimatedsalary&#x27;, &#x27;Balance_sq&#x27;],\n",
       "      dtype=&#x27;object&#x27;)),\n",
       "                                                                        (&#x27;pipeline-2&#x27;,\n",
       "                                                                         Pipeline(steps=[(&#x27;onehot&#x27;,\n",
       "                                                                                          OneHotEncoder(drop=&#x27;first&#x27;,\n",
       "                                                                                                        handle_unknown=&#x27;ignore&#x27;))]),\n",
       "                                                                         [&#x27;Geography&#x27;,\n",
       "                                                                          &#x27;Gender&#x27;])],\n",
       "                                                          verbose_feature_names_out=False)),\n",
       "                                       (&#x27;decisiontreeclassifier&#x27;,\n",
       "                                        DecisionTreeClassifier(class_weight=&#x27;balanced&#x27;,\n",
       "                                                               random_state=42))]),\n",
       "             param_grid={&#x27;decisiontreeclassifier__max_depth&#x27;: range(1, 30)},\n",
       "             scoring=&#x27;f1&#x27;)</pre></div></div></div><div class=\"sk-parallel\"><div class=\"sk-parallel-item\"><div class=\"sk-item\"><div class=\"sk-label-container\"><div class=\"sk-label sk-toggleable\"><input class=\"sk-toggleable__control sk-hidden--visually\" id=\"sk-estimator-id-394\" type=\"checkbox\" ><label for=\"sk-estimator-id-394\" class=\"sk-toggleable__label sk-toggleable__label-arrow\">estimator: Pipeline</label><div class=\"sk-toggleable__content\"><pre>Pipeline(steps=[(&#x27;columntransformer&#x27;,\n",
       "                 ColumnTransformer(remainder=&#x27;passthrough&#x27;,\n",
       "                                   transformers=[(&#x27;pipeline-1&#x27;,\n",
       "                                                  Pipeline(steps=[(&#x27;imputer&#x27;,\n",
       "                                                                   KNNImputer()),\n",
       "                                                                  (&#x27;scaler&#x27;,\n",
       "                                                                   StandardScaler())]),\n",
       "                                                  Index([&#x27;Creditscore&#x27;, &#x27;Age&#x27;, &#x27;Tenure&#x27;, &#x27;Balance&#x27;, &#x27;Numofproducts&#x27;,\n",
       "       &#x27;Estimatedsalary&#x27;, &#x27;Balance_sq&#x27;],\n",
       "      dtype=&#x27;object&#x27;)),\n",
       "                                                 (&#x27;pipeline-2&#x27;,\n",
       "                                                  Pipeline(steps=[(&#x27;onehot&#x27;,\n",
       "                                                                   OneHotEncoder(drop=&#x27;first&#x27;,\n",
       "                                                                                 handle_unknown=&#x27;ignore&#x27;))]),\n",
       "                                                  [&#x27;Geography&#x27;, &#x27;Gender&#x27;])],\n",
       "                                   verbose_feature_names_out=False)),\n",
       "                (&#x27;decisiontreeclassifier&#x27;,\n",
       "                 DecisionTreeClassifier(class_weight=&#x27;balanced&#x27;,\n",
       "                                        random_state=42))])</pre></div></div></div><div class=\"sk-serial\"><div class=\"sk-item\"><div class=\"sk-serial\"><div class=\"sk-item sk-dashed-wrapped\"><div class=\"sk-label-container\"><div class=\"sk-label sk-toggleable\"><input class=\"sk-toggleable__control sk-hidden--visually\" id=\"sk-estimator-id-395\" type=\"checkbox\" ><label for=\"sk-estimator-id-395\" class=\"sk-toggleable__label sk-toggleable__label-arrow\">columntransformer: ColumnTransformer</label><div class=\"sk-toggleable__content\"><pre>ColumnTransformer(remainder=&#x27;passthrough&#x27;,\n",
       "                  transformers=[(&#x27;pipeline-1&#x27;,\n",
       "                                 Pipeline(steps=[(&#x27;imputer&#x27;, KNNImputer()),\n",
       "                                                 (&#x27;scaler&#x27;, StandardScaler())]),\n",
       "                                 Index([&#x27;Creditscore&#x27;, &#x27;Age&#x27;, &#x27;Tenure&#x27;, &#x27;Balance&#x27;, &#x27;Numofproducts&#x27;,\n",
       "       &#x27;Estimatedsalary&#x27;, &#x27;Balance_sq&#x27;],\n",
       "      dtype=&#x27;object&#x27;)),\n",
       "                                (&#x27;pipeline-2&#x27;,\n",
       "                                 Pipeline(steps=[(&#x27;onehot&#x27;,\n",
       "                                                  OneHotEncoder(drop=&#x27;first&#x27;,\n",
       "                                                                handle_unknown=&#x27;ignore&#x27;))]),\n",
       "                                 [&#x27;Geography&#x27;, &#x27;Gender&#x27;])],\n",
       "                  verbose_feature_names_out=False)</pre></div></div></div><div class=\"sk-parallel\"><div class=\"sk-parallel-item\"><div class=\"sk-item\"><div class=\"sk-label-container\"><div class=\"sk-label sk-toggleable\"><input class=\"sk-toggleable__control sk-hidden--visually\" id=\"sk-estimator-id-396\" type=\"checkbox\" ><label for=\"sk-estimator-id-396\" class=\"sk-toggleable__label sk-toggleable__label-arrow\">pipeline-1</label><div class=\"sk-toggleable__content\"><pre>Index([&#x27;Creditscore&#x27;, &#x27;Age&#x27;, &#x27;Tenure&#x27;, &#x27;Balance&#x27;, &#x27;Numofproducts&#x27;,\n",
       "       &#x27;Estimatedsalary&#x27;, &#x27;Balance_sq&#x27;],\n",
       "      dtype=&#x27;object&#x27;)</pre></div></div></div><div class=\"sk-serial\"><div class=\"sk-item\"><div class=\"sk-serial\"><div class=\"sk-item\"><div class=\"sk-estimator sk-toggleable\"><input class=\"sk-toggleable__control sk-hidden--visually\" id=\"sk-estimator-id-397\" type=\"checkbox\" ><label for=\"sk-estimator-id-397\" class=\"sk-toggleable__label sk-toggleable__label-arrow\">KNNImputer</label><div class=\"sk-toggleable__content\"><pre>KNNImputer()</pre></div></div></div><div class=\"sk-item\"><div class=\"sk-estimator sk-toggleable\"><input class=\"sk-toggleable__control sk-hidden--visually\" id=\"sk-estimator-id-398\" type=\"checkbox\" ><label for=\"sk-estimator-id-398\" class=\"sk-toggleable__label sk-toggleable__label-arrow\">StandardScaler</label><div class=\"sk-toggleable__content\"><pre>StandardScaler()</pre></div></div></div></div></div></div></div></div><div class=\"sk-parallel-item\"><div class=\"sk-item\"><div class=\"sk-label-container\"><div class=\"sk-label sk-toggleable\"><input class=\"sk-toggleable__control sk-hidden--visually\" id=\"sk-estimator-id-399\" type=\"checkbox\" ><label for=\"sk-estimator-id-399\" class=\"sk-toggleable__label sk-toggleable__label-arrow\">pipeline-2</label><div class=\"sk-toggleable__content\"><pre>[&#x27;Geography&#x27;, &#x27;Gender&#x27;]</pre></div></div></div><div class=\"sk-serial\"><div class=\"sk-item\"><div class=\"sk-serial\"><div class=\"sk-item\"><div class=\"sk-estimator sk-toggleable\"><input class=\"sk-toggleable__control sk-hidden--visually\" id=\"sk-estimator-id-400\" type=\"checkbox\" ><label for=\"sk-estimator-id-400\" class=\"sk-toggleable__label sk-toggleable__label-arrow\">OneHotEncoder</label><div class=\"sk-toggleable__content\"><pre>OneHotEncoder(drop=&#x27;first&#x27;, handle_unknown=&#x27;ignore&#x27;)</pre></div></div></div></div></div></div></div></div><div class=\"sk-parallel-item\"><div class=\"sk-item\"><div class=\"sk-label-container\"><div class=\"sk-label sk-toggleable\"><input class=\"sk-toggleable__control sk-hidden--visually\" id=\"sk-estimator-id-401\" type=\"checkbox\" ><label for=\"sk-estimator-id-401\" class=\"sk-toggleable__label sk-toggleable__label-arrow\">remainder</label><div class=\"sk-toggleable__content\"><pre></pre></div></div></div><div class=\"sk-serial\"><div class=\"sk-item\"><div class=\"sk-estimator sk-toggleable\"><input class=\"sk-toggleable__control sk-hidden--visually\" id=\"sk-estimator-id-402\" type=\"checkbox\" ><label for=\"sk-estimator-id-402\" class=\"sk-toggleable__label sk-toggleable__label-arrow\">passthrough</label><div class=\"sk-toggleable__content\"><pre>passthrough</pre></div></div></div></div></div></div></div></div><div class=\"sk-item\"><div class=\"sk-estimator sk-toggleable\"><input class=\"sk-toggleable__control sk-hidden--visually\" id=\"sk-estimator-id-403\" type=\"checkbox\" ><label for=\"sk-estimator-id-403\" class=\"sk-toggleable__label sk-toggleable__label-arrow\">DecisionTreeClassifier</label><div class=\"sk-toggleable__content\"><pre>DecisionTreeClassifier(class_weight=&#x27;balanced&#x27;, random_state=42)</pre></div></div></div></div></div></div></div></div></div></div></div></div>"
      ],
      "text/plain": [
       "GridSearchCV(estimator=Pipeline(steps=[('columntransformer',\n",
       "                                        ColumnTransformer(remainder='passthrough',\n",
       "                                                          transformers=[('pipeline-1',\n",
       "                                                                         Pipeline(steps=[('imputer',\n",
       "                                                                                          KNNImputer()),\n",
       "                                                                                         ('scaler',\n",
       "                                                                                          StandardScaler())]),\n",
       "                                                                         Index(['Creditscore', 'Age', 'Tenure', 'Balance', 'Numofproducts',\n",
       "       'Estimatedsalary', 'Balance_sq'],\n",
       "      dtype='object')),\n",
       "                                                                        ('pipeline-2',\n",
       "                                                                         Pipeline(steps=[('onehot',\n",
       "                                                                                          OneHotEncoder(drop='first',\n",
       "                                                                                                        handle_unknown='ignore'))]),\n",
       "                                                                         ['Geography',\n",
       "                                                                          'Gender'])],\n",
       "                                                          verbose_feature_names_out=False)),\n",
       "                                       ('decisiontreeclassifier',\n",
       "                                        DecisionTreeClassifier(class_weight='balanced',\n",
       "                                                               random_state=42))]),\n",
       "             param_grid={'decisiontreeclassifier__max_depth': range(1, 30)},\n",
       "             scoring='f1')"
      ]
     },
     "execution_count": 243,
     "metadata": {},
     "output_type": "execute_result"
    }
   ],
   "source": [
    "# Создаём пайплайн\n",
    "model_tree_weight = DecisionTreeClassifier(random_state=42, class_weight='balanced')\n",
    "pipeline_tree_weight = make_pipeline(preprocessor, model_tree_weight)\n",
    "\n",
    "param_grid_tree = {\n",
    "    'decisiontreeclassifier__max_depth': range(1,30)\n",
    "}\n",
    "\n",
    "gs_tree_weight = GridSearchCV(\n",
    "    pipeline_tree_weight, \n",
    "    param_grid=param_grid_tree, \n",
    "    scoring='f1'\n",
    ")\n",
    "gs_tree_weight.fit(pd.concat([features_train]+[features_valid]), pd.concat([target_train]+[target_valid]))"
   ]
  },
  {
   "cell_type": "code",
   "execution_count": 244,
   "metadata": {},
   "outputs": [
    {
     "data": {
      "text/plain": [
       "0.5576845977314651"
      ]
     },
     "metadata": {},
     "output_type": "display_data"
    },
    {
     "data": {
      "text/plain": [
       "{'decisiontreeclassifier__max_depth': 6}"
      ]
     },
     "execution_count": 244,
     "metadata": {},
     "output_type": "execute_result"
    }
   ],
   "source": [
    "# Вывод \n",
    "f1_tree_weight = gs_tree_weight.best_score_\n",
    "display(f1_tree_weight)\n",
    "gs_tree_weight.best_params_"
   ]
  },
  {
   "cell_type": "markdown",
   "metadata": {},
   "source": [
    "Метрика немного увеличилась по сравнению с оценкой на несбалансированной выборке, но не сильно."
   ]
  },
  {
   "cell_type": "markdown",
   "metadata": {},
   "source": [
    "#### Случайный лес"
   ]
  },
  {
   "cell_type": "code",
   "execution_count": 245,
   "metadata": {},
   "outputs": [
    {
     "data": {
      "text/html": [
       "<style>#sk-container-id-37 {color: black;background-color: white;}#sk-container-id-37 pre{padding: 0;}#sk-container-id-37 div.sk-toggleable {background-color: white;}#sk-container-id-37 label.sk-toggleable__label {cursor: pointer;display: block;width: 100%;margin-bottom: 0;padding: 0.3em;box-sizing: border-box;text-align: center;}#sk-container-id-37 label.sk-toggleable__label-arrow:before {content: \"▸\";float: left;margin-right: 0.25em;color: #696969;}#sk-container-id-37 label.sk-toggleable__label-arrow:hover:before {color: black;}#sk-container-id-37 div.sk-estimator:hover label.sk-toggleable__label-arrow:before {color: black;}#sk-container-id-37 div.sk-toggleable__content {max-height: 0;max-width: 0;overflow: hidden;text-align: left;background-color: #f0f8ff;}#sk-container-id-37 div.sk-toggleable__content pre {margin: 0.2em;color: black;border-radius: 0.25em;background-color: #f0f8ff;}#sk-container-id-37 input.sk-toggleable__control:checked~div.sk-toggleable__content {max-height: 200px;max-width: 100%;overflow: auto;}#sk-container-id-37 input.sk-toggleable__control:checked~label.sk-toggleable__label-arrow:before {content: \"▾\";}#sk-container-id-37 div.sk-estimator input.sk-toggleable__control:checked~label.sk-toggleable__label {background-color: #d4ebff;}#sk-container-id-37 div.sk-label input.sk-toggleable__control:checked~label.sk-toggleable__label {background-color: #d4ebff;}#sk-container-id-37 input.sk-hidden--visually {border: 0;clip: rect(1px 1px 1px 1px);clip: rect(1px, 1px, 1px, 1px);height: 1px;margin: -1px;overflow: hidden;padding: 0;position: absolute;width: 1px;}#sk-container-id-37 div.sk-estimator {font-family: monospace;background-color: #f0f8ff;border: 1px dotted black;border-radius: 0.25em;box-sizing: border-box;margin-bottom: 0.5em;}#sk-container-id-37 div.sk-estimator:hover {background-color: #d4ebff;}#sk-container-id-37 div.sk-parallel-item::after {content: \"\";width: 100%;border-bottom: 1px solid gray;flex-grow: 1;}#sk-container-id-37 div.sk-label:hover label.sk-toggleable__label {background-color: #d4ebff;}#sk-container-id-37 div.sk-serial::before {content: \"\";position: absolute;border-left: 1px solid gray;box-sizing: border-box;top: 0;bottom: 0;left: 50%;z-index: 0;}#sk-container-id-37 div.sk-serial {display: flex;flex-direction: column;align-items: center;background-color: white;padding-right: 0.2em;padding-left: 0.2em;position: relative;}#sk-container-id-37 div.sk-item {position: relative;z-index: 1;}#sk-container-id-37 div.sk-parallel {display: flex;align-items: stretch;justify-content: center;background-color: white;position: relative;}#sk-container-id-37 div.sk-item::before, #sk-container-id-37 div.sk-parallel-item::before {content: \"\";position: absolute;border-left: 1px solid gray;box-sizing: border-box;top: 0;bottom: 0;left: 50%;z-index: -1;}#sk-container-id-37 div.sk-parallel-item {display: flex;flex-direction: column;z-index: 1;position: relative;background-color: white;}#sk-container-id-37 div.sk-parallel-item:first-child::after {align-self: flex-end;width: 50%;}#sk-container-id-37 div.sk-parallel-item:last-child::after {align-self: flex-start;width: 50%;}#sk-container-id-37 div.sk-parallel-item:only-child::after {width: 0;}#sk-container-id-37 div.sk-dashed-wrapped {border: 1px dashed gray;margin: 0 0.4em 0.5em 0.4em;box-sizing: border-box;padding-bottom: 0.4em;background-color: white;}#sk-container-id-37 div.sk-label label {font-family: monospace;font-weight: bold;display: inline-block;line-height: 1.2em;}#sk-container-id-37 div.sk-label-container {text-align: center;}#sk-container-id-37 div.sk-container {/* jupyter's `normalize.less` sets `[hidden] { display: none; }` but bootstrap.min.css set `[hidden] { display: none !important; }` so we also need the `!important` here to be able to override the default hidden behavior on the sphinx rendered scikit-learn.org. See: https://github.com/scikit-learn/scikit-learn/issues/21755 */display: inline-block !important;position: relative;}#sk-container-id-37 div.sk-text-repr-fallback {display: none;}</style><div id=\"sk-container-id-37\" class=\"sk-top-container\"><div class=\"sk-text-repr-fallback\"><pre>RandomizedSearchCV(estimator=Pipeline(steps=[(&#x27;columntransformer&#x27;,\n",
       "                                              ColumnTransformer(remainder=&#x27;passthrough&#x27;,\n",
       "                                                                transformers=[(&#x27;pipeline-1&#x27;,\n",
       "                                                                               Pipeline(steps=[(&#x27;imputer&#x27;,\n",
       "                                                                                                KNNImputer()),\n",
       "                                                                                               (&#x27;scaler&#x27;,\n",
       "                                                                                                StandardScaler())]),\n",
       "                                                                               Index([&#x27;Creditscore&#x27;, &#x27;Age&#x27;, &#x27;Tenure&#x27;, &#x27;Balance&#x27;, &#x27;Numofproducts&#x27;,\n",
       "       &#x27;Estimatedsalary&#x27;, &#x27;Balance_sq&#x27;],\n",
       "      dtype=&#x27;object&#x27;)),\n",
       "                                                                              (&#x27;pipeline-2&#x27;,\n",
       "                                                                               Pipeline(steps=[(&#x27;...\n",
       "                                             (&#x27;randomforestclassifier&#x27;,\n",
       "                                              RandomForestClassifier(class_weight=&#x27;balanced&#x27;,\n",
       "                                                                     random_state=42))]),\n",
       "                   param_distributions={&#x27;randomforestclassifier__max_depth&#x27;: range(2, 15),\n",
       "                                        &#x27;randomforestclassifier__min_samples_leaf&#x27;: (1,\n",
       "                                                                                     2,\n",
       "                                                                                     3,\n",
       "                                                                                     4),\n",
       "                                        &#x27;randomforestclassifier__min_samples_split&#x27;: (2,\n",
       "                                                                                      3,\n",
       "                                                                                      4),\n",
       "                                        &#x27;randomforestclassifier__n_estimators&#x27;: range(10, 110, 30)},\n",
       "                   random_state=42, scoring=&#x27;f1&#x27;)</pre><b>In a Jupyter environment, please rerun this cell to show the HTML representation or trust the notebook. <br />On GitHub, the HTML representation is unable to render, please try loading this page with nbviewer.org.</b></div><div class=\"sk-container\" hidden><div class=\"sk-item sk-dashed-wrapped\"><div class=\"sk-label-container\"><div class=\"sk-label sk-toggleable\"><input class=\"sk-toggleable__control sk-hidden--visually\" id=\"sk-estimator-id-404\" type=\"checkbox\" ><label for=\"sk-estimator-id-404\" class=\"sk-toggleable__label sk-toggleable__label-arrow\">RandomizedSearchCV</label><div class=\"sk-toggleable__content\"><pre>RandomizedSearchCV(estimator=Pipeline(steps=[(&#x27;columntransformer&#x27;,\n",
       "                                              ColumnTransformer(remainder=&#x27;passthrough&#x27;,\n",
       "                                                                transformers=[(&#x27;pipeline-1&#x27;,\n",
       "                                                                               Pipeline(steps=[(&#x27;imputer&#x27;,\n",
       "                                                                                                KNNImputer()),\n",
       "                                                                                               (&#x27;scaler&#x27;,\n",
       "                                                                                                StandardScaler())]),\n",
       "                                                                               Index([&#x27;Creditscore&#x27;, &#x27;Age&#x27;, &#x27;Tenure&#x27;, &#x27;Balance&#x27;, &#x27;Numofproducts&#x27;,\n",
       "       &#x27;Estimatedsalary&#x27;, &#x27;Balance_sq&#x27;],\n",
       "      dtype=&#x27;object&#x27;)),\n",
       "                                                                              (&#x27;pipeline-2&#x27;,\n",
       "                                                                               Pipeline(steps=[(&#x27;...\n",
       "                                             (&#x27;randomforestclassifier&#x27;,\n",
       "                                              RandomForestClassifier(class_weight=&#x27;balanced&#x27;,\n",
       "                                                                     random_state=42))]),\n",
       "                   param_distributions={&#x27;randomforestclassifier__max_depth&#x27;: range(2, 15),\n",
       "                                        &#x27;randomforestclassifier__min_samples_leaf&#x27;: (1,\n",
       "                                                                                     2,\n",
       "                                                                                     3,\n",
       "                                                                                     4),\n",
       "                                        &#x27;randomforestclassifier__min_samples_split&#x27;: (2,\n",
       "                                                                                      3,\n",
       "                                                                                      4),\n",
       "                                        &#x27;randomforestclassifier__n_estimators&#x27;: range(10, 110, 30)},\n",
       "                   random_state=42, scoring=&#x27;f1&#x27;)</pre></div></div></div><div class=\"sk-parallel\"><div class=\"sk-parallel-item\"><div class=\"sk-item\"><div class=\"sk-label-container\"><div class=\"sk-label sk-toggleable\"><input class=\"sk-toggleable__control sk-hidden--visually\" id=\"sk-estimator-id-405\" type=\"checkbox\" ><label for=\"sk-estimator-id-405\" class=\"sk-toggleable__label sk-toggleable__label-arrow\">estimator: Pipeline</label><div class=\"sk-toggleable__content\"><pre>Pipeline(steps=[(&#x27;columntransformer&#x27;,\n",
       "                 ColumnTransformer(remainder=&#x27;passthrough&#x27;,\n",
       "                                   transformers=[(&#x27;pipeline-1&#x27;,\n",
       "                                                  Pipeline(steps=[(&#x27;imputer&#x27;,\n",
       "                                                                   KNNImputer()),\n",
       "                                                                  (&#x27;scaler&#x27;,\n",
       "                                                                   StandardScaler())]),\n",
       "                                                  Index([&#x27;Creditscore&#x27;, &#x27;Age&#x27;, &#x27;Tenure&#x27;, &#x27;Balance&#x27;, &#x27;Numofproducts&#x27;,\n",
       "       &#x27;Estimatedsalary&#x27;, &#x27;Balance_sq&#x27;],\n",
       "      dtype=&#x27;object&#x27;)),\n",
       "                                                 (&#x27;pipeline-2&#x27;,\n",
       "                                                  Pipeline(steps=[(&#x27;onehot&#x27;,\n",
       "                                                                   OneHotEncoder(drop=&#x27;first&#x27;,\n",
       "                                                                                 handle_unknown=&#x27;ignore&#x27;))]),\n",
       "                                                  [&#x27;Geography&#x27;, &#x27;Gender&#x27;])],\n",
       "                                   verbose_feature_names_out=False)),\n",
       "                (&#x27;randomforestclassifier&#x27;,\n",
       "                 RandomForestClassifier(class_weight=&#x27;balanced&#x27;,\n",
       "                                        random_state=42))])</pre></div></div></div><div class=\"sk-serial\"><div class=\"sk-item\"><div class=\"sk-serial\"><div class=\"sk-item sk-dashed-wrapped\"><div class=\"sk-label-container\"><div class=\"sk-label sk-toggleable\"><input class=\"sk-toggleable__control sk-hidden--visually\" id=\"sk-estimator-id-406\" type=\"checkbox\" ><label for=\"sk-estimator-id-406\" class=\"sk-toggleable__label sk-toggleable__label-arrow\">columntransformer: ColumnTransformer</label><div class=\"sk-toggleable__content\"><pre>ColumnTransformer(remainder=&#x27;passthrough&#x27;,\n",
       "                  transformers=[(&#x27;pipeline-1&#x27;,\n",
       "                                 Pipeline(steps=[(&#x27;imputer&#x27;, KNNImputer()),\n",
       "                                                 (&#x27;scaler&#x27;, StandardScaler())]),\n",
       "                                 Index([&#x27;Creditscore&#x27;, &#x27;Age&#x27;, &#x27;Tenure&#x27;, &#x27;Balance&#x27;, &#x27;Numofproducts&#x27;,\n",
       "       &#x27;Estimatedsalary&#x27;, &#x27;Balance_sq&#x27;],\n",
       "      dtype=&#x27;object&#x27;)),\n",
       "                                (&#x27;pipeline-2&#x27;,\n",
       "                                 Pipeline(steps=[(&#x27;onehot&#x27;,\n",
       "                                                  OneHotEncoder(drop=&#x27;first&#x27;,\n",
       "                                                                handle_unknown=&#x27;ignore&#x27;))]),\n",
       "                                 [&#x27;Geography&#x27;, &#x27;Gender&#x27;])],\n",
       "                  verbose_feature_names_out=False)</pre></div></div></div><div class=\"sk-parallel\"><div class=\"sk-parallel-item\"><div class=\"sk-item\"><div class=\"sk-label-container\"><div class=\"sk-label sk-toggleable\"><input class=\"sk-toggleable__control sk-hidden--visually\" id=\"sk-estimator-id-407\" type=\"checkbox\" ><label for=\"sk-estimator-id-407\" class=\"sk-toggleable__label sk-toggleable__label-arrow\">pipeline-1</label><div class=\"sk-toggleable__content\"><pre>Index([&#x27;Creditscore&#x27;, &#x27;Age&#x27;, &#x27;Tenure&#x27;, &#x27;Balance&#x27;, &#x27;Numofproducts&#x27;,\n",
       "       &#x27;Estimatedsalary&#x27;, &#x27;Balance_sq&#x27;],\n",
       "      dtype=&#x27;object&#x27;)</pre></div></div></div><div class=\"sk-serial\"><div class=\"sk-item\"><div class=\"sk-serial\"><div class=\"sk-item\"><div class=\"sk-estimator sk-toggleable\"><input class=\"sk-toggleable__control sk-hidden--visually\" id=\"sk-estimator-id-408\" type=\"checkbox\" ><label for=\"sk-estimator-id-408\" class=\"sk-toggleable__label sk-toggleable__label-arrow\">KNNImputer</label><div class=\"sk-toggleable__content\"><pre>KNNImputer()</pre></div></div></div><div class=\"sk-item\"><div class=\"sk-estimator sk-toggleable\"><input class=\"sk-toggleable__control sk-hidden--visually\" id=\"sk-estimator-id-409\" type=\"checkbox\" ><label for=\"sk-estimator-id-409\" class=\"sk-toggleable__label sk-toggleable__label-arrow\">StandardScaler</label><div class=\"sk-toggleable__content\"><pre>StandardScaler()</pre></div></div></div></div></div></div></div></div><div class=\"sk-parallel-item\"><div class=\"sk-item\"><div class=\"sk-label-container\"><div class=\"sk-label sk-toggleable\"><input class=\"sk-toggleable__control sk-hidden--visually\" id=\"sk-estimator-id-410\" type=\"checkbox\" ><label for=\"sk-estimator-id-410\" class=\"sk-toggleable__label sk-toggleable__label-arrow\">pipeline-2</label><div class=\"sk-toggleable__content\"><pre>[&#x27;Geography&#x27;, &#x27;Gender&#x27;]</pre></div></div></div><div class=\"sk-serial\"><div class=\"sk-item\"><div class=\"sk-serial\"><div class=\"sk-item\"><div class=\"sk-estimator sk-toggleable\"><input class=\"sk-toggleable__control sk-hidden--visually\" id=\"sk-estimator-id-411\" type=\"checkbox\" ><label for=\"sk-estimator-id-411\" class=\"sk-toggleable__label sk-toggleable__label-arrow\">OneHotEncoder</label><div class=\"sk-toggleable__content\"><pre>OneHotEncoder(drop=&#x27;first&#x27;, handle_unknown=&#x27;ignore&#x27;)</pre></div></div></div></div></div></div></div></div><div class=\"sk-parallel-item\"><div class=\"sk-item\"><div class=\"sk-label-container\"><div class=\"sk-label sk-toggleable\"><input class=\"sk-toggleable__control sk-hidden--visually\" id=\"sk-estimator-id-412\" type=\"checkbox\" ><label for=\"sk-estimator-id-412\" class=\"sk-toggleable__label sk-toggleable__label-arrow\">remainder</label><div class=\"sk-toggleable__content\"><pre></pre></div></div></div><div class=\"sk-serial\"><div class=\"sk-item\"><div class=\"sk-estimator sk-toggleable\"><input class=\"sk-toggleable__control sk-hidden--visually\" id=\"sk-estimator-id-413\" type=\"checkbox\" ><label for=\"sk-estimator-id-413\" class=\"sk-toggleable__label sk-toggleable__label-arrow\">passthrough</label><div class=\"sk-toggleable__content\"><pre>passthrough</pre></div></div></div></div></div></div></div></div><div class=\"sk-item\"><div class=\"sk-estimator sk-toggleable\"><input class=\"sk-toggleable__control sk-hidden--visually\" id=\"sk-estimator-id-414\" type=\"checkbox\" ><label for=\"sk-estimator-id-414\" class=\"sk-toggleable__label sk-toggleable__label-arrow\">RandomForestClassifier</label><div class=\"sk-toggleable__content\"><pre>RandomForestClassifier(class_weight=&#x27;balanced&#x27;, random_state=42)</pre></div></div></div></div></div></div></div></div></div></div></div></div>"
      ],
      "text/plain": [
       "RandomizedSearchCV(estimator=Pipeline(steps=[('columntransformer',\n",
       "                                              ColumnTransformer(remainder='passthrough',\n",
       "                                                                transformers=[('pipeline-1',\n",
       "                                                                               Pipeline(steps=[('imputer',\n",
       "                                                                                                KNNImputer()),\n",
       "                                                                                               ('scaler',\n",
       "                                                                                                StandardScaler())]),\n",
       "                                                                               Index(['Creditscore', 'Age', 'Tenure', 'Balance', 'Numofproducts',\n",
       "       'Estimatedsalary', 'Balance_sq'],\n",
       "      dtype='object')),\n",
       "                                                                              ('pipeline-2',\n",
       "                                                                               Pipeline(steps=[('...\n",
       "                                             ('randomforestclassifier',\n",
       "                                              RandomForestClassifier(class_weight='balanced',\n",
       "                                                                     random_state=42))]),\n",
       "                   param_distributions={'randomforestclassifier__max_depth': range(2, 15),\n",
       "                                        'randomforestclassifier__min_samples_leaf': (1,\n",
       "                                                                                     2,\n",
       "                                                                                     3,\n",
       "                                                                                     4),\n",
       "                                        'randomforestclassifier__min_samples_split': (2,\n",
       "                                                                                      3,\n",
       "                                                                                      4),\n",
       "                                        'randomforestclassifier__n_estimators': range(10, 110, 30)},\n",
       "                   random_state=42, scoring='f1')"
      ]
     },
     "execution_count": 245,
     "metadata": {},
     "output_type": "execute_result"
    }
   ],
   "source": [
    "# Пайплайн\n",
    "model_forest_weight = RandomForestClassifier(random_state=42, class_weight='balanced')\n",
    "\n",
    "pipline_forest_weight = make_pipeline(preprocessor, model_forest_weight)\n",
    "\n",
    "param_grid_forest = {\n",
    "    'randomforestclassifier__n_estimators': range(10, 110, 30),\n",
    "    'randomforestclassifier__max_depth': range(2, 15),\n",
    "    'randomforestclassifier__min_samples_split': (2, 3, 4),\n",
    "    'randomforestclassifier__min_samples_leaf': (1, 2, 3, 4)\n",
    "}\n",
    "\n",
    "\n",
    "gs_forest_weight = RandomizedSearchCV(\n",
    "    pipline_forest_weight, \n",
    "    param_distributions=param_grid_forest, \n",
    "    scoring='f1', \n",
    "    random_state=42\n",
    ")\n",
    "\n",
    "gs_forest_weight.fit(pd.concat([features_train]+[features_valid]), pd.concat([target_train]+[target_valid]))"
   ]
  },
  {
   "cell_type": "code",
   "execution_count": 246,
   "metadata": {},
   "outputs": [
    {
     "data": {
      "text/plain": [
       "0.6161510312139223"
      ]
     },
     "metadata": {},
     "output_type": "display_data"
    },
    {
     "data": {
      "text/plain": [
       "{'randomforestclassifier__n_estimators': 100,\n",
       " 'randomforestclassifier__min_samples_split': 4,\n",
       " 'randomforestclassifier__min_samples_leaf': 4,\n",
       " 'randomforestclassifier__max_depth': 11}"
      ]
     },
     "execution_count": 246,
     "metadata": {},
     "output_type": "execute_result"
    }
   ],
   "source": [
    "# Вывод \n",
    "f1_forest_weight = gs_forest_weight.best_score_\n",
    "display(f1_forest_weight)\n",
    "gs_forest_weight.best_params_"
   ]
  },
  {
   "cell_type": "markdown",
   "metadata": {},
   "source": [
    "Метрика при кросс-валидации при разных весах классов действительно получилась выше."
   ]
  },
  {
   "cell_type": "markdown",
   "metadata": {},
   "source": [
    "#### Logistic Regression"
   ]
  },
  {
   "cell_type": "code",
   "execution_count": 247,
   "metadata": {},
   "outputs": [
    {
     "data": {
      "text/html": [
       "<style>#sk-container-id-38 {color: black;background-color: white;}#sk-container-id-38 pre{padding: 0;}#sk-container-id-38 div.sk-toggleable {background-color: white;}#sk-container-id-38 label.sk-toggleable__label {cursor: pointer;display: block;width: 100%;margin-bottom: 0;padding: 0.3em;box-sizing: border-box;text-align: center;}#sk-container-id-38 label.sk-toggleable__label-arrow:before {content: \"▸\";float: left;margin-right: 0.25em;color: #696969;}#sk-container-id-38 label.sk-toggleable__label-arrow:hover:before {color: black;}#sk-container-id-38 div.sk-estimator:hover label.sk-toggleable__label-arrow:before {color: black;}#sk-container-id-38 div.sk-toggleable__content {max-height: 0;max-width: 0;overflow: hidden;text-align: left;background-color: #f0f8ff;}#sk-container-id-38 div.sk-toggleable__content pre {margin: 0.2em;color: black;border-radius: 0.25em;background-color: #f0f8ff;}#sk-container-id-38 input.sk-toggleable__control:checked~div.sk-toggleable__content {max-height: 200px;max-width: 100%;overflow: auto;}#sk-container-id-38 input.sk-toggleable__control:checked~label.sk-toggleable__label-arrow:before {content: \"▾\";}#sk-container-id-38 div.sk-estimator input.sk-toggleable__control:checked~label.sk-toggleable__label {background-color: #d4ebff;}#sk-container-id-38 div.sk-label input.sk-toggleable__control:checked~label.sk-toggleable__label {background-color: #d4ebff;}#sk-container-id-38 input.sk-hidden--visually {border: 0;clip: rect(1px 1px 1px 1px);clip: rect(1px, 1px, 1px, 1px);height: 1px;margin: -1px;overflow: hidden;padding: 0;position: absolute;width: 1px;}#sk-container-id-38 div.sk-estimator {font-family: monospace;background-color: #f0f8ff;border: 1px dotted black;border-radius: 0.25em;box-sizing: border-box;margin-bottom: 0.5em;}#sk-container-id-38 div.sk-estimator:hover {background-color: #d4ebff;}#sk-container-id-38 div.sk-parallel-item::after {content: \"\";width: 100%;border-bottom: 1px solid gray;flex-grow: 1;}#sk-container-id-38 div.sk-label:hover label.sk-toggleable__label {background-color: #d4ebff;}#sk-container-id-38 div.sk-serial::before {content: \"\";position: absolute;border-left: 1px solid gray;box-sizing: border-box;top: 0;bottom: 0;left: 50%;z-index: 0;}#sk-container-id-38 div.sk-serial {display: flex;flex-direction: column;align-items: center;background-color: white;padding-right: 0.2em;padding-left: 0.2em;position: relative;}#sk-container-id-38 div.sk-item {position: relative;z-index: 1;}#sk-container-id-38 div.sk-parallel {display: flex;align-items: stretch;justify-content: center;background-color: white;position: relative;}#sk-container-id-38 div.sk-item::before, #sk-container-id-38 div.sk-parallel-item::before {content: \"\";position: absolute;border-left: 1px solid gray;box-sizing: border-box;top: 0;bottom: 0;left: 50%;z-index: -1;}#sk-container-id-38 div.sk-parallel-item {display: flex;flex-direction: column;z-index: 1;position: relative;background-color: white;}#sk-container-id-38 div.sk-parallel-item:first-child::after {align-self: flex-end;width: 50%;}#sk-container-id-38 div.sk-parallel-item:last-child::after {align-self: flex-start;width: 50%;}#sk-container-id-38 div.sk-parallel-item:only-child::after {width: 0;}#sk-container-id-38 div.sk-dashed-wrapped {border: 1px dashed gray;margin: 0 0.4em 0.5em 0.4em;box-sizing: border-box;padding-bottom: 0.4em;background-color: white;}#sk-container-id-38 div.sk-label label {font-family: monospace;font-weight: bold;display: inline-block;line-height: 1.2em;}#sk-container-id-38 div.sk-label-container {text-align: center;}#sk-container-id-38 div.sk-container {/* jupyter's `normalize.less` sets `[hidden] { display: none; }` but bootstrap.min.css set `[hidden] { display: none !important; }` so we also need the `!important` here to be able to override the default hidden behavior on the sphinx rendered scikit-learn.org. See: https://github.com/scikit-learn/scikit-learn/issues/21755 */display: inline-block !important;position: relative;}#sk-container-id-38 div.sk-text-repr-fallback {display: none;}</style><div id=\"sk-container-id-38\" class=\"sk-top-container\"><div class=\"sk-text-repr-fallback\"><pre>RandomizedSearchCV(estimator=Pipeline(steps=[(&#x27;columntransformer&#x27;,\n",
       "                                              ColumnTransformer(remainder=&#x27;passthrough&#x27;,\n",
       "                                                                transformers=[(&#x27;pipeline-1&#x27;,\n",
       "                                                                               Pipeline(steps=[(&#x27;imputer&#x27;,\n",
       "                                                                                                KNNImputer()),\n",
       "                                                                                               (&#x27;scaler&#x27;,\n",
       "                                                                                                StandardScaler())]),\n",
       "                                                                               Index([&#x27;Creditscore&#x27;, &#x27;Age&#x27;, &#x27;Tenure&#x27;, &#x27;Balance&#x27;, &#x27;Numofproducts&#x27;,\n",
       "       &#x27;Estimatedsalary&#x27;, &#x27;Balance_sq&#x27;],\n",
       "      dtype=&#x27;object&#x27;)),\n",
       "                                                                              (&#x27;pipeline-2&#x27;,\n",
       "                                                                               Pipeline(steps=[(&#x27;...\n",
       "                                                                               [&#x27;Geography&#x27;,\n",
       "                                                                                &#x27;Gender&#x27;])],\n",
       "                                                                verbose_feature_names_out=False)),\n",
       "                                             (&#x27;logisticregression&#x27;,\n",
       "                                              LogisticRegression(random_state=42))]),\n",
       "                   param_distributions={&#x27;logisticregression__C&#x27;: array([1.e-03, 1.e-02, 1.e-01, 1.e+00, 1.e+01, 1.e+02, 1.e+03]),\n",
       "                                        &#x27;logisticregression__penalty&#x27;: [&#x27;l1&#x27;,\n",
       "                                                                        &#x27;l2&#x27;],\n",
       "                                        &#x27;logisticregression__solver&#x27;: [&#x27;newton-cg&#x27;,\n",
       "                                                                       &#x27;lbfgs&#x27;,\n",
       "                                                                       &#x27;liblinear&#x27;]},\n",
       "                   random_state=42, scoring=&#x27;f1&#x27;)</pre><b>In a Jupyter environment, please rerun this cell to show the HTML representation or trust the notebook. <br />On GitHub, the HTML representation is unable to render, please try loading this page with nbviewer.org.</b></div><div class=\"sk-container\" hidden><div class=\"sk-item sk-dashed-wrapped\"><div class=\"sk-label-container\"><div class=\"sk-label sk-toggleable\"><input class=\"sk-toggleable__control sk-hidden--visually\" id=\"sk-estimator-id-415\" type=\"checkbox\" ><label for=\"sk-estimator-id-415\" class=\"sk-toggleable__label sk-toggleable__label-arrow\">RandomizedSearchCV</label><div class=\"sk-toggleable__content\"><pre>RandomizedSearchCV(estimator=Pipeline(steps=[(&#x27;columntransformer&#x27;,\n",
       "                                              ColumnTransformer(remainder=&#x27;passthrough&#x27;,\n",
       "                                                                transformers=[(&#x27;pipeline-1&#x27;,\n",
       "                                                                               Pipeline(steps=[(&#x27;imputer&#x27;,\n",
       "                                                                                                KNNImputer()),\n",
       "                                                                                               (&#x27;scaler&#x27;,\n",
       "                                                                                                StandardScaler())]),\n",
       "                                                                               Index([&#x27;Creditscore&#x27;, &#x27;Age&#x27;, &#x27;Tenure&#x27;, &#x27;Balance&#x27;, &#x27;Numofproducts&#x27;,\n",
       "       &#x27;Estimatedsalary&#x27;, &#x27;Balance_sq&#x27;],\n",
       "      dtype=&#x27;object&#x27;)),\n",
       "                                                                              (&#x27;pipeline-2&#x27;,\n",
       "                                                                               Pipeline(steps=[(&#x27;...\n",
       "                                                                               [&#x27;Geography&#x27;,\n",
       "                                                                                &#x27;Gender&#x27;])],\n",
       "                                                                verbose_feature_names_out=False)),\n",
       "                                             (&#x27;logisticregression&#x27;,\n",
       "                                              LogisticRegression(random_state=42))]),\n",
       "                   param_distributions={&#x27;logisticregression__C&#x27;: array([1.e-03, 1.e-02, 1.e-01, 1.e+00, 1.e+01, 1.e+02, 1.e+03]),\n",
       "                                        &#x27;logisticregression__penalty&#x27;: [&#x27;l1&#x27;,\n",
       "                                                                        &#x27;l2&#x27;],\n",
       "                                        &#x27;logisticregression__solver&#x27;: [&#x27;newton-cg&#x27;,\n",
       "                                                                       &#x27;lbfgs&#x27;,\n",
       "                                                                       &#x27;liblinear&#x27;]},\n",
       "                   random_state=42, scoring=&#x27;f1&#x27;)</pre></div></div></div><div class=\"sk-parallel\"><div class=\"sk-parallel-item\"><div class=\"sk-item\"><div class=\"sk-label-container\"><div class=\"sk-label sk-toggleable\"><input class=\"sk-toggleable__control sk-hidden--visually\" id=\"sk-estimator-id-416\" type=\"checkbox\" ><label for=\"sk-estimator-id-416\" class=\"sk-toggleable__label sk-toggleable__label-arrow\">estimator: Pipeline</label><div class=\"sk-toggleable__content\"><pre>Pipeline(steps=[(&#x27;columntransformer&#x27;,\n",
       "                 ColumnTransformer(remainder=&#x27;passthrough&#x27;,\n",
       "                                   transformers=[(&#x27;pipeline-1&#x27;,\n",
       "                                                  Pipeline(steps=[(&#x27;imputer&#x27;,\n",
       "                                                                   KNNImputer()),\n",
       "                                                                  (&#x27;scaler&#x27;,\n",
       "                                                                   StandardScaler())]),\n",
       "                                                  Index([&#x27;Creditscore&#x27;, &#x27;Age&#x27;, &#x27;Tenure&#x27;, &#x27;Balance&#x27;, &#x27;Numofproducts&#x27;,\n",
       "       &#x27;Estimatedsalary&#x27;, &#x27;Balance_sq&#x27;],\n",
       "      dtype=&#x27;object&#x27;)),\n",
       "                                                 (&#x27;pipeline-2&#x27;,\n",
       "                                                  Pipeline(steps=[(&#x27;onehot&#x27;,\n",
       "                                                                   OneHotEncoder(drop=&#x27;first&#x27;,\n",
       "                                                                                 handle_unknown=&#x27;ignore&#x27;))]),\n",
       "                                                  [&#x27;Geography&#x27;, &#x27;Gender&#x27;])],\n",
       "                                   verbose_feature_names_out=False)),\n",
       "                (&#x27;logisticregression&#x27;, LogisticRegression(random_state=42))])</pre></div></div></div><div class=\"sk-serial\"><div class=\"sk-item\"><div class=\"sk-serial\"><div class=\"sk-item sk-dashed-wrapped\"><div class=\"sk-label-container\"><div class=\"sk-label sk-toggleable\"><input class=\"sk-toggleable__control sk-hidden--visually\" id=\"sk-estimator-id-417\" type=\"checkbox\" ><label for=\"sk-estimator-id-417\" class=\"sk-toggleable__label sk-toggleable__label-arrow\">columntransformer: ColumnTransformer</label><div class=\"sk-toggleable__content\"><pre>ColumnTransformer(remainder=&#x27;passthrough&#x27;,\n",
       "                  transformers=[(&#x27;pipeline-1&#x27;,\n",
       "                                 Pipeline(steps=[(&#x27;imputer&#x27;, KNNImputer()),\n",
       "                                                 (&#x27;scaler&#x27;, StandardScaler())]),\n",
       "                                 Index([&#x27;Creditscore&#x27;, &#x27;Age&#x27;, &#x27;Tenure&#x27;, &#x27;Balance&#x27;, &#x27;Numofproducts&#x27;,\n",
       "       &#x27;Estimatedsalary&#x27;, &#x27;Balance_sq&#x27;],\n",
       "      dtype=&#x27;object&#x27;)),\n",
       "                                (&#x27;pipeline-2&#x27;,\n",
       "                                 Pipeline(steps=[(&#x27;onehot&#x27;,\n",
       "                                                  OneHotEncoder(drop=&#x27;first&#x27;,\n",
       "                                                                handle_unknown=&#x27;ignore&#x27;))]),\n",
       "                                 [&#x27;Geography&#x27;, &#x27;Gender&#x27;])],\n",
       "                  verbose_feature_names_out=False)</pre></div></div></div><div class=\"sk-parallel\"><div class=\"sk-parallel-item\"><div class=\"sk-item\"><div class=\"sk-label-container\"><div class=\"sk-label sk-toggleable\"><input class=\"sk-toggleable__control sk-hidden--visually\" id=\"sk-estimator-id-418\" type=\"checkbox\" ><label for=\"sk-estimator-id-418\" class=\"sk-toggleable__label sk-toggleable__label-arrow\">pipeline-1</label><div class=\"sk-toggleable__content\"><pre>Index([&#x27;Creditscore&#x27;, &#x27;Age&#x27;, &#x27;Tenure&#x27;, &#x27;Balance&#x27;, &#x27;Numofproducts&#x27;,\n",
       "       &#x27;Estimatedsalary&#x27;, &#x27;Balance_sq&#x27;],\n",
       "      dtype=&#x27;object&#x27;)</pre></div></div></div><div class=\"sk-serial\"><div class=\"sk-item\"><div class=\"sk-serial\"><div class=\"sk-item\"><div class=\"sk-estimator sk-toggleable\"><input class=\"sk-toggleable__control sk-hidden--visually\" id=\"sk-estimator-id-419\" type=\"checkbox\" ><label for=\"sk-estimator-id-419\" class=\"sk-toggleable__label sk-toggleable__label-arrow\">KNNImputer</label><div class=\"sk-toggleable__content\"><pre>KNNImputer()</pre></div></div></div><div class=\"sk-item\"><div class=\"sk-estimator sk-toggleable\"><input class=\"sk-toggleable__control sk-hidden--visually\" id=\"sk-estimator-id-420\" type=\"checkbox\" ><label for=\"sk-estimator-id-420\" class=\"sk-toggleable__label sk-toggleable__label-arrow\">StandardScaler</label><div class=\"sk-toggleable__content\"><pre>StandardScaler()</pre></div></div></div></div></div></div></div></div><div class=\"sk-parallel-item\"><div class=\"sk-item\"><div class=\"sk-label-container\"><div class=\"sk-label sk-toggleable\"><input class=\"sk-toggleable__control sk-hidden--visually\" id=\"sk-estimator-id-421\" type=\"checkbox\" ><label for=\"sk-estimator-id-421\" class=\"sk-toggleable__label sk-toggleable__label-arrow\">pipeline-2</label><div class=\"sk-toggleable__content\"><pre>[&#x27;Geography&#x27;, &#x27;Gender&#x27;]</pre></div></div></div><div class=\"sk-serial\"><div class=\"sk-item\"><div class=\"sk-serial\"><div class=\"sk-item\"><div class=\"sk-estimator sk-toggleable\"><input class=\"sk-toggleable__control sk-hidden--visually\" id=\"sk-estimator-id-422\" type=\"checkbox\" ><label for=\"sk-estimator-id-422\" class=\"sk-toggleable__label sk-toggleable__label-arrow\">OneHotEncoder</label><div class=\"sk-toggleable__content\"><pre>OneHotEncoder(drop=&#x27;first&#x27;, handle_unknown=&#x27;ignore&#x27;)</pre></div></div></div></div></div></div></div></div><div class=\"sk-parallel-item\"><div class=\"sk-item\"><div class=\"sk-label-container\"><div class=\"sk-label sk-toggleable\"><input class=\"sk-toggleable__control sk-hidden--visually\" id=\"sk-estimator-id-423\" type=\"checkbox\" ><label for=\"sk-estimator-id-423\" class=\"sk-toggleable__label sk-toggleable__label-arrow\">remainder</label><div class=\"sk-toggleable__content\"><pre></pre></div></div></div><div class=\"sk-serial\"><div class=\"sk-item\"><div class=\"sk-estimator sk-toggleable\"><input class=\"sk-toggleable__control sk-hidden--visually\" id=\"sk-estimator-id-424\" type=\"checkbox\" ><label for=\"sk-estimator-id-424\" class=\"sk-toggleable__label sk-toggleable__label-arrow\">passthrough</label><div class=\"sk-toggleable__content\"><pre>passthrough</pre></div></div></div></div></div></div></div></div><div class=\"sk-item\"><div class=\"sk-estimator sk-toggleable\"><input class=\"sk-toggleable__control sk-hidden--visually\" id=\"sk-estimator-id-425\" type=\"checkbox\" ><label for=\"sk-estimator-id-425\" class=\"sk-toggleable__label sk-toggleable__label-arrow\">LogisticRegression</label><div class=\"sk-toggleable__content\"><pre>LogisticRegression(random_state=42)</pre></div></div></div></div></div></div></div></div></div></div></div></div>"
      ],
      "text/plain": [
       "RandomizedSearchCV(estimator=Pipeline(steps=[('columntransformer',\n",
       "                                              ColumnTransformer(remainder='passthrough',\n",
       "                                                                transformers=[('pipeline-1',\n",
       "                                                                               Pipeline(steps=[('imputer',\n",
       "                                                                                                KNNImputer()),\n",
       "                                                                                               ('scaler',\n",
       "                                                                                                StandardScaler())]),\n",
       "                                                                               Index(['Creditscore', 'Age', 'Tenure', 'Balance', 'Numofproducts',\n",
       "       'Estimatedsalary', 'Balance_sq'],\n",
       "      dtype='object')),\n",
       "                                                                              ('pipeline-2',\n",
       "                                                                               Pipeline(steps=[('...\n",
       "                                                                               ['Geography',\n",
       "                                                                                'Gender'])],\n",
       "                                                                verbose_feature_names_out=False)),\n",
       "                                             ('logisticregression',\n",
       "                                              LogisticRegression(random_state=42))]),\n",
       "                   param_distributions={'logisticregression__C': array([1.e-03, 1.e-02, 1.e-01, 1.e+00, 1.e+01, 1.e+02, 1.e+03]),\n",
       "                                        'logisticregression__penalty': ['l1',\n",
       "                                                                        'l2'],\n",
       "                                        'logisticregression__solver': ['newton-cg',\n",
       "                                                                       'lbfgs',\n",
       "                                                                       'liblinear']},\n",
       "                   random_state=42, scoring='f1')"
      ]
     },
     "execution_count": 247,
     "metadata": {},
     "output_type": "execute_result"
    }
   ],
   "source": [
    "# Создаём пайплайн\n",
    "model_logit_weight = LogisticRegression(random_state=42)\n",
    "pipeline_logit_weight = make_pipeline(preprocessor, model_logit)\n",
    "\n",
    "param_grid_logit = {\n",
    "    'logisticregression__penalty' : ['l1','l2'], \n",
    "    'logisticregression__C'       : np.logspace(-3,3,7),\n",
    "    'logisticregression__solver'  : ['newton-cg', 'lbfgs', 'liblinear'],\n",
    "}\n",
    "\n",
    "gs_logit_weight = RandomizedSearchCV(\n",
    "    pipeline_logit_weight, \n",
    "    param_distributions=param_grid_logit, \n",
    "    scoring='f1',\n",
    "    random_state=42\n",
    ")\n",
    "\n",
    "gs_logit_weight.fit(pd.concat([features_train]+[features_valid]), pd.concat([target_train]+[target_valid]))"
   ]
  },
  {
   "cell_type": "code",
   "execution_count": 248,
   "metadata": {},
   "outputs": [
    {
     "data": {
      "text/plain": [
       "0.3064510728040521"
      ]
     },
     "metadata": {},
     "output_type": "display_data"
    },
    {
     "data": {
      "text/plain": [
       "{'logisticregression__solver': 'liblinear',\n",
       " 'logisticregression__penalty': 'l1',\n",
       " 'logisticregression__C': 10.0}"
      ]
     },
     "execution_count": 248,
     "metadata": {},
     "output_type": "execute_result"
    }
   ],
   "source": [
    "# Смотрю на результаты\n",
    "f1_logit_weight = gs_logit_weight.best_score_\n",
    "display(f1_logit_weight)\n",
    "gs_logit_weight.best_params_"
   ]
  },
  {
   "cell_type": "markdown",
   "metadata": {},
   "source": [
    "Логистическая регрессия снова сильно уступает случайному лесу и дереву решений."
   ]
  },
  {
   "cell_type": "markdown",
   "metadata": {},
   "source": [
    "### StratifiedKFold"
   ]
  },
  {
   "cell_type": "markdown",
   "metadata": {},
   "source": [
    "При дисбалансе классов можно использовать кросс валидацию со стратификацией. В данном подразделе я буду использовать метод StratifiedKFold."
   ]
  },
  {
   "cell_type": "code",
   "execution_count": 249,
   "metadata": {},
   "outputs": [],
   "source": [
    "# Иницирую разбивку\n",
    "skf = StratifiedKFold(n_splits=5, shuffle=True, random_state=42)"
   ]
  },
  {
   "cell_type": "markdown",
   "metadata": {},
   "source": [
    "#### Decision Tree"
   ]
  },
  {
   "cell_type": "code",
   "execution_count": 250,
   "metadata": {},
   "outputs": [
    {
     "data": {
      "text/html": [
       "<style>#sk-container-id-39 {color: black;background-color: white;}#sk-container-id-39 pre{padding: 0;}#sk-container-id-39 div.sk-toggleable {background-color: white;}#sk-container-id-39 label.sk-toggleable__label {cursor: pointer;display: block;width: 100%;margin-bottom: 0;padding: 0.3em;box-sizing: border-box;text-align: center;}#sk-container-id-39 label.sk-toggleable__label-arrow:before {content: \"▸\";float: left;margin-right: 0.25em;color: #696969;}#sk-container-id-39 label.sk-toggleable__label-arrow:hover:before {color: black;}#sk-container-id-39 div.sk-estimator:hover label.sk-toggleable__label-arrow:before {color: black;}#sk-container-id-39 div.sk-toggleable__content {max-height: 0;max-width: 0;overflow: hidden;text-align: left;background-color: #f0f8ff;}#sk-container-id-39 div.sk-toggleable__content pre {margin: 0.2em;color: black;border-radius: 0.25em;background-color: #f0f8ff;}#sk-container-id-39 input.sk-toggleable__control:checked~div.sk-toggleable__content {max-height: 200px;max-width: 100%;overflow: auto;}#sk-container-id-39 input.sk-toggleable__control:checked~label.sk-toggleable__label-arrow:before {content: \"▾\";}#sk-container-id-39 div.sk-estimator input.sk-toggleable__control:checked~label.sk-toggleable__label {background-color: #d4ebff;}#sk-container-id-39 div.sk-label input.sk-toggleable__control:checked~label.sk-toggleable__label {background-color: #d4ebff;}#sk-container-id-39 input.sk-hidden--visually {border: 0;clip: rect(1px 1px 1px 1px);clip: rect(1px, 1px, 1px, 1px);height: 1px;margin: -1px;overflow: hidden;padding: 0;position: absolute;width: 1px;}#sk-container-id-39 div.sk-estimator {font-family: monospace;background-color: #f0f8ff;border: 1px dotted black;border-radius: 0.25em;box-sizing: border-box;margin-bottom: 0.5em;}#sk-container-id-39 div.sk-estimator:hover {background-color: #d4ebff;}#sk-container-id-39 div.sk-parallel-item::after {content: \"\";width: 100%;border-bottom: 1px solid gray;flex-grow: 1;}#sk-container-id-39 div.sk-label:hover label.sk-toggleable__label {background-color: #d4ebff;}#sk-container-id-39 div.sk-serial::before {content: \"\";position: absolute;border-left: 1px solid gray;box-sizing: border-box;top: 0;bottom: 0;left: 50%;z-index: 0;}#sk-container-id-39 div.sk-serial {display: flex;flex-direction: column;align-items: center;background-color: white;padding-right: 0.2em;padding-left: 0.2em;position: relative;}#sk-container-id-39 div.sk-item {position: relative;z-index: 1;}#sk-container-id-39 div.sk-parallel {display: flex;align-items: stretch;justify-content: center;background-color: white;position: relative;}#sk-container-id-39 div.sk-item::before, #sk-container-id-39 div.sk-parallel-item::before {content: \"\";position: absolute;border-left: 1px solid gray;box-sizing: border-box;top: 0;bottom: 0;left: 50%;z-index: -1;}#sk-container-id-39 div.sk-parallel-item {display: flex;flex-direction: column;z-index: 1;position: relative;background-color: white;}#sk-container-id-39 div.sk-parallel-item:first-child::after {align-self: flex-end;width: 50%;}#sk-container-id-39 div.sk-parallel-item:last-child::after {align-self: flex-start;width: 50%;}#sk-container-id-39 div.sk-parallel-item:only-child::after {width: 0;}#sk-container-id-39 div.sk-dashed-wrapped {border: 1px dashed gray;margin: 0 0.4em 0.5em 0.4em;box-sizing: border-box;padding-bottom: 0.4em;background-color: white;}#sk-container-id-39 div.sk-label label {font-family: monospace;font-weight: bold;display: inline-block;line-height: 1.2em;}#sk-container-id-39 div.sk-label-container {text-align: center;}#sk-container-id-39 div.sk-container {/* jupyter's `normalize.less` sets `[hidden] { display: none; }` but bootstrap.min.css set `[hidden] { display: none !important; }` so we also need the `!important` here to be able to override the default hidden behavior on the sphinx rendered scikit-learn.org. See: https://github.com/scikit-learn/scikit-learn/issues/21755 */display: inline-block !important;position: relative;}#sk-container-id-39 div.sk-text-repr-fallback {display: none;}</style><div id=\"sk-container-id-39\" class=\"sk-top-container\"><div class=\"sk-text-repr-fallback\"><pre>GridSearchCV(cv=StratifiedKFold(n_splits=5, random_state=42, shuffle=True),\n",
       "             estimator=Pipeline(steps=[(&#x27;columntransformer&#x27;,\n",
       "                                        ColumnTransformer(remainder=&#x27;passthrough&#x27;,\n",
       "                                                          transformers=[(&#x27;pipeline-1&#x27;,\n",
       "                                                                         Pipeline(steps=[(&#x27;imputer&#x27;,\n",
       "                                                                                          KNNImputer()),\n",
       "                                                                                         (&#x27;scaler&#x27;,\n",
       "                                                                                          StandardScaler())]),\n",
       "                                                                         Index([&#x27;Creditscore&#x27;, &#x27;Age&#x27;, &#x27;Tenure&#x27;, &#x27;Balance&#x27;, &#x27;Numofproducts&#x27;,\n",
       "       &#x27;Estimatedsalary&#x27;, &#x27;Balance_sq&#x27;],\n",
       "      dtype=&#x27;object&#x27;)),\n",
       "                                                                        (&#x27;pipeline-2&#x27;,\n",
       "                                                                         Pipeline(steps=[(&#x27;onehot&#x27;,\n",
       "                                                                                          OneHotEncoder(drop=&#x27;first&#x27;,\n",
       "                                                                                                        handle_unknown=&#x27;ignore&#x27;))]),\n",
       "                                                                         [&#x27;Geography&#x27;,\n",
       "                                                                          &#x27;Gender&#x27;])],\n",
       "                                                          verbose_feature_names_out=False)),\n",
       "                                       (&#x27;decisiontreeclassifier&#x27;,\n",
       "                                        DecisionTreeClassifier(random_state=42))]),\n",
       "             param_grid={&#x27;decisiontreeclassifier__max_depth&#x27;: range(1, 30)},\n",
       "             scoring=&#x27;f1&#x27;)</pre><b>In a Jupyter environment, please rerun this cell to show the HTML representation or trust the notebook. <br />On GitHub, the HTML representation is unable to render, please try loading this page with nbviewer.org.</b></div><div class=\"sk-container\" hidden><div class=\"sk-item sk-dashed-wrapped\"><div class=\"sk-label-container\"><div class=\"sk-label sk-toggleable\"><input class=\"sk-toggleable__control sk-hidden--visually\" id=\"sk-estimator-id-426\" type=\"checkbox\" ><label for=\"sk-estimator-id-426\" class=\"sk-toggleable__label sk-toggleable__label-arrow\">GridSearchCV</label><div class=\"sk-toggleable__content\"><pre>GridSearchCV(cv=StratifiedKFold(n_splits=5, random_state=42, shuffle=True),\n",
       "             estimator=Pipeline(steps=[(&#x27;columntransformer&#x27;,\n",
       "                                        ColumnTransformer(remainder=&#x27;passthrough&#x27;,\n",
       "                                                          transformers=[(&#x27;pipeline-1&#x27;,\n",
       "                                                                         Pipeline(steps=[(&#x27;imputer&#x27;,\n",
       "                                                                                          KNNImputer()),\n",
       "                                                                                         (&#x27;scaler&#x27;,\n",
       "                                                                                          StandardScaler())]),\n",
       "                                                                         Index([&#x27;Creditscore&#x27;, &#x27;Age&#x27;, &#x27;Tenure&#x27;, &#x27;Balance&#x27;, &#x27;Numofproducts&#x27;,\n",
       "       &#x27;Estimatedsalary&#x27;, &#x27;Balance_sq&#x27;],\n",
       "      dtype=&#x27;object&#x27;)),\n",
       "                                                                        (&#x27;pipeline-2&#x27;,\n",
       "                                                                         Pipeline(steps=[(&#x27;onehot&#x27;,\n",
       "                                                                                          OneHotEncoder(drop=&#x27;first&#x27;,\n",
       "                                                                                                        handle_unknown=&#x27;ignore&#x27;))]),\n",
       "                                                                         [&#x27;Geography&#x27;,\n",
       "                                                                          &#x27;Gender&#x27;])],\n",
       "                                                          verbose_feature_names_out=False)),\n",
       "                                       (&#x27;decisiontreeclassifier&#x27;,\n",
       "                                        DecisionTreeClassifier(random_state=42))]),\n",
       "             param_grid={&#x27;decisiontreeclassifier__max_depth&#x27;: range(1, 30)},\n",
       "             scoring=&#x27;f1&#x27;)</pre></div></div></div><div class=\"sk-parallel\"><div class=\"sk-parallel-item\"><div class=\"sk-item\"><div class=\"sk-label-container\"><div class=\"sk-label sk-toggleable\"><input class=\"sk-toggleable__control sk-hidden--visually\" id=\"sk-estimator-id-427\" type=\"checkbox\" ><label for=\"sk-estimator-id-427\" class=\"sk-toggleable__label sk-toggleable__label-arrow\">estimator: Pipeline</label><div class=\"sk-toggleable__content\"><pre>Pipeline(steps=[(&#x27;columntransformer&#x27;,\n",
       "                 ColumnTransformer(remainder=&#x27;passthrough&#x27;,\n",
       "                                   transformers=[(&#x27;pipeline-1&#x27;,\n",
       "                                                  Pipeline(steps=[(&#x27;imputer&#x27;,\n",
       "                                                                   KNNImputer()),\n",
       "                                                                  (&#x27;scaler&#x27;,\n",
       "                                                                   StandardScaler())]),\n",
       "                                                  Index([&#x27;Creditscore&#x27;, &#x27;Age&#x27;, &#x27;Tenure&#x27;, &#x27;Balance&#x27;, &#x27;Numofproducts&#x27;,\n",
       "       &#x27;Estimatedsalary&#x27;, &#x27;Balance_sq&#x27;],\n",
       "      dtype=&#x27;object&#x27;)),\n",
       "                                                 (&#x27;pipeline-2&#x27;,\n",
       "                                                  Pipeline(steps=[(&#x27;onehot&#x27;,\n",
       "                                                                   OneHotEncoder(drop=&#x27;first&#x27;,\n",
       "                                                                                 handle_unknown=&#x27;ignore&#x27;))]),\n",
       "                                                  [&#x27;Geography&#x27;, &#x27;Gender&#x27;])],\n",
       "                                   verbose_feature_names_out=False)),\n",
       "                (&#x27;decisiontreeclassifier&#x27;,\n",
       "                 DecisionTreeClassifier(random_state=42))])</pre></div></div></div><div class=\"sk-serial\"><div class=\"sk-item\"><div class=\"sk-serial\"><div class=\"sk-item sk-dashed-wrapped\"><div class=\"sk-label-container\"><div class=\"sk-label sk-toggleable\"><input class=\"sk-toggleable__control sk-hidden--visually\" id=\"sk-estimator-id-428\" type=\"checkbox\" ><label for=\"sk-estimator-id-428\" class=\"sk-toggleable__label sk-toggleable__label-arrow\">columntransformer: ColumnTransformer</label><div class=\"sk-toggleable__content\"><pre>ColumnTransformer(remainder=&#x27;passthrough&#x27;,\n",
       "                  transformers=[(&#x27;pipeline-1&#x27;,\n",
       "                                 Pipeline(steps=[(&#x27;imputer&#x27;, KNNImputer()),\n",
       "                                                 (&#x27;scaler&#x27;, StandardScaler())]),\n",
       "                                 Index([&#x27;Creditscore&#x27;, &#x27;Age&#x27;, &#x27;Tenure&#x27;, &#x27;Balance&#x27;, &#x27;Numofproducts&#x27;,\n",
       "       &#x27;Estimatedsalary&#x27;, &#x27;Balance_sq&#x27;],\n",
       "      dtype=&#x27;object&#x27;)),\n",
       "                                (&#x27;pipeline-2&#x27;,\n",
       "                                 Pipeline(steps=[(&#x27;onehot&#x27;,\n",
       "                                                  OneHotEncoder(drop=&#x27;first&#x27;,\n",
       "                                                                handle_unknown=&#x27;ignore&#x27;))]),\n",
       "                                 [&#x27;Geography&#x27;, &#x27;Gender&#x27;])],\n",
       "                  verbose_feature_names_out=False)</pre></div></div></div><div class=\"sk-parallel\"><div class=\"sk-parallel-item\"><div class=\"sk-item\"><div class=\"sk-label-container\"><div class=\"sk-label sk-toggleable\"><input class=\"sk-toggleable__control sk-hidden--visually\" id=\"sk-estimator-id-429\" type=\"checkbox\" ><label for=\"sk-estimator-id-429\" class=\"sk-toggleable__label sk-toggleable__label-arrow\">pipeline-1</label><div class=\"sk-toggleable__content\"><pre>Index([&#x27;Creditscore&#x27;, &#x27;Age&#x27;, &#x27;Tenure&#x27;, &#x27;Balance&#x27;, &#x27;Numofproducts&#x27;,\n",
       "       &#x27;Estimatedsalary&#x27;, &#x27;Balance_sq&#x27;],\n",
       "      dtype=&#x27;object&#x27;)</pre></div></div></div><div class=\"sk-serial\"><div class=\"sk-item\"><div class=\"sk-serial\"><div class=\"sk-item\"><div class=\"sk-estimator sk-toggleable\"><input class=\"sk-toggleable__control sk-hidden--visually\" id=\"sk-estimator-id-430\" type=\"checkbox\" ><label for=\"sk-estimator-id-430\" class=\"sk-toggleable__label sk-toggleable__label-arrow\">KNNImputer</label><div class=\"sk-toggleable__content\"><pre>KNNImputer()</pre></div></div></div><div class=\"sk-item\"><div class=\"sk-estimator sk-toggleable\"><input class=\"sk-toggleable__control sk-hidden--visually\" id=\"sk-estimator-id-431\" type=\"checkbox\" ><label for=\"sk-estimator-id-431\" class=\"sk-toggleable__label sk-toggleable__label-arrow\">StandardScaler</label><div class=\"sk-toggleable__content\"><pre>StandardScaler()</pre></div></div></div></div></div></div></div></div><div class=\"sk-parallel-item\"><div class=\"sk-item\"><div class=\"sk-label-container\"><div class=\"sk-label sk-toggleable\"><input class=\"sk-toggleable__control sk-hidden--visually\" id=\"sk-estimator-id-432\" type=\"checkbox\" ><label for=\"sk-estimator-id-432\" class=\"sk-toggleable__label sk-toggleable__label-arrow\">pipeline-2</label><div class=\"sk-toggleable__content\"><pre>[&#x27;Geography&#x27;, &#x27;Gender&#x27;]</pre></div></div></div><div class=\"sk-serial\"><div class=\"sk-item\"><div class=\"sk-serial\"><div class=\"sk-item\"><div class=\"sk-estimator sk-toggleable\"><input class=\"sk-toggleable__control sk-hidden--visually\" id=\"sk-estimator-id-433\" type=\"checkbox\" ><label for=\"sk-estimator-id-433\" class=\"sk-toggleable__label sk-toggleable__label-arrow\">OneHotEncoder</label><div class=\"sk-toggleable__content\"><pre>OneHotEncoder(drop=&#x27;first&#x27;, handle_unknown=&#x27;ignore&#x27;)</pre></div></div></div></div></div></div></div></div><div class=\"sk-parallel-item\"><div class=\"sk-item\"><div class=\"sk-label-container\"><div class=\"sk-label sk-toggleable\"><input class=\"sk-toggleable__control sk-hidden--visually\" id=\"sk-estimator-id-434\" type=\"checkbox\" ><label for=\"sk-estimator-id-434\" class=\"sk-toggleable__label sk-toggleable__label-arrow\">remainder</label><div class=\"sk-toggleable__content\"><pre></pre></div></div></div><div class=\"sk-serial\"><div class=\"sk-item\"><div class=\"sk-estimator sk-toggleable\"><input class=\"sk-toggleable__control sk-hidden--visually\" id=\"sk-estimator-id-435\" type=\"checkbox\" ><label for=\"sk-estimator-id-435\" class=\"sk-toggleable__label sk-toggleable__label-arrow\">passthrough</label><div class=\"sk-toggleable__content\"><pre>passthrough</pre></div></div></div></div></div></div></div></div><div class=\"sk-item\"><div class=\"sk-estimator sk-toggleable\"><input class=\"sk-toggleable__control sk-hidden--visually\" id=\"sk-estimator-id-436\" type=\"checkbox\" ><label for=\"sk-estimator-id-436\" class=\"sk-toggleable__label sk-toggleable__label-arrow\">DecisionTreeClassifier</label><div class=\"sk-toggleable__content\"><pre>DecisionTreeClassifier(random_state=42)</pre></div></div></div></div></div></div></div></div></div></div></div></div>"
      ],
      "text/plain": [
       "GridSearchCV(cv=StratifiedKFold(n_splits=5, random_state=42, shuffle=True),\n",
       "             estimator=Pipeline(steps=[('columntransformer',\n",
       "                                        ColumnTransformer(remainder='passthrough',\n",
       "                                                          transformers=[('pipeline-1',\n",
       "                                                                         Pipeline(steps=[('imputer',\n",
       "                                                                                          KNNImputer()),\n",
       "                                                                                         ('scaler',\n",
       "                                                                                          StandardScaler())]),\n",
       "                                                                         Index(['Creditscore', 'Age', 'Tenure', 'Balance', 'Numofproducts',\n",
       "       'Estimatedsalary', 'Balance_sq'],\n",
       "      dtype='object')),\n",
       "                                                                        ('pipeline-2',\n",
       "                                                                         Pipeline(steps=[('onehot',\n",
       "                                                                                          OneHotEncoder(drop='first',\n",
       "                                                                                                        handle_unknown='ignore'))]),\n",
       "                                                                         ['Geography',\n",
       "                                                                          'Gender'])],\n",
       "                                                          verbose_feature_names_out=False)),\n",
       "                                       ('decisiontreeclassifier',\n",
       "                                        DecisionTreeClassifier(random_state=42))]),\n",
       "             param_grid={'decisiontreeclassifier__max_depth': range(1, 30)},\n",
       "             scoring='f1')"
      ]
     },
     "execution_count": 250,
     "metadata": {},
     "output_type": "execute_result"
    }
   ],
   "source": [
    "# Создаём пайплайн\n",
    "model_tree_strat = DecisionTreeClassifier(random_state=42)\n",
    "pipeline_tree_strat = make_pipeline(preprocessor, model_tree_strat)\n",
    "\n",
    "param_grid_tree = {\n",
    "    'decisiontreeclassifier__max_depth': range(1,30)\n",
    "}\n",
    "\n",
    "gs_tree_strat = GridSearchCV(\n",
    "    pipeline_tree_strat, \n",
    "    param_grid=param_grid_tree, \n",
    "    scoring='f1',\n",
    "    cv=skf\n",
    ")\n",
    "gs_tree_strat.fit(pd.concat([features_train]+[features_valid]), pd.concat([target_train]+[target_valid]))"
   ]
  },
  {
   "cell_type": "code",
   "execution_count": 251,
   "metadata": {},
   "outputs": [
    {
     "data": {
      "text/plain": [
       "0.5526761037997215"
      ]
     },
     "metadata": {},
     "output_type": "display_data"
    },
    {
     "data": {
      "text/plain": [
       "{'decisiontreeclassifier__max_depth': 7}"
      ]
     },
     "execution_count": 251,
     "metadata": {},
     "output_type": "execute_result"
    }
   ],
   "source": [
    "# Вывод \n",
    "f1_tree_strat = gs_tree_strat.best_score_\n",
    "display(f1_tree_strat)\n",
    "gs_tree_strat.best_params_"
   ]
  },
  {
   "cell_type": "markdown",
   "metadata": {},
   "source": [
    "Метрика кросс валидации для дерева решений осталась примерно такой же."
   ]
  },
  {
   "cell_type": "markdown",
   "metadata": {},
   "source": [
    "#### Random Forest"
   ]
  },
  {
   "cell_type": "code",
   "execution_count": 252,
   "metadata": {},
   "outputs": [
    {
     "data": {
      "text/html": [
       "<style>#sk-container-id-40 {color: black;background-color: white;}#sk-container-id-40 pre{padding: 0;}#sk-container-id-40 div.sk-toggleable {background-color: white;}#sk-container-id-40 label.sk-toggleable__label {cursor: pointer;display: block;width: 100%;margin-bottom: 0;padding: 0.3em;box-sizing: border-box;text-align: center;}#sk-container-id-40 label.sk-toggleable__label-arrow:before {content: \"▸\";float: left;margin-right: 0.25em;color: #696969;}#sk-container-id-40 label.sk-toggleable__label-arrow:hover:before {color: black;}#sk-container-id-40 div.sk-estimator:hover label.sk-toggleable__label-arrow:before {color: black;}#sk-container-id-40 div.sk-toggleable__content {max-height: 0;max-width: 0;overflow: hidden;text-align: left;background-color: #f0f8ff;}#sk-container-id-40 div.sk-toggleable__content pre {margin: 0.2em;color: black;border-radius: 0.25em;background-color: #f0f8ff;}#sk-container-id-40 input.sk-toggleable__control:checked~div.sk-toggleable__content {max-height: 200px;max-width: 100%;overflow: auto;}#sk-container-id-40 input.sk-toggleable__control:checked~label.sk-toggleable__label-arrow:before {content: \"▾\";}#sk-container-id-40 div.sk-estimator input.sk-toggleable__control:checked~label.sk-toggleable__label {background-color: #d4ebff;}#sk-container-id-40 div.sk-label input.sk-toggleable__control:checked~label.sk-toggleable__label {background-color: #d4ebff;}#sk-container-id-40 input.sk-hidden--visually {border: 0;clip: rect(1px 1px 1px 1px);clip: rect(1px, 1px, 1px, 1px);height: 1px;margin: -1px;overflow: hidden;padding: 0;position: absolute;width: 1px;}#sk-container-id-40 div.sk-estimator {font-family: monospace;background-color: #f0f8ff;border: 1px dotted black;border-radius: 0.25em;box-sizing: border-box;margin-bottom: 0.5em;}#sk-container-id-40 div.sk-estimator:hover {background-color: #d4ebff;}#sk-container-id-40 div.sk-parallel-item::after {content: \"\";width: 100%;border-bottom: 1px solid gray;flex-grow: 1;}#sk-container-id-40 div.sk-label:hover label.sk-toggleable__label {background-color: #d4ebff;}#sk-container-id-40 div.sk-serial::before {content: \"\";position: absolute;border-left: 1px solid gray;box-sizing: border-box;top: 0;bottom: 0;left: 50%;z-index: 0;}#sk-container-id-40 div.sk-serial {display: flex;flex-direction: column;align-items: center;background-color: white;padding-right: 0.2em;padding-left: 0.2em;position: relative;}#sk-container-id-40 div.sk-item {position: relative;z-index: 1;}#sk-container-id-40 div.sk-parallel {display: flex;align-items: stretch;justify-content: center;background-color: white;position: relative;}#sk-container-id-40 div.sk-item::before, #sk-container-id-40 div.sk-parallel-item::before {content: \"\";position: absolute;border-left: 1px solid gray;box-sizing: border-box;top: 0;bottom: 0;left: 50%;z-index: -1;}#sk-container-id-40 div.sk-parallel-item {display: flex;flex-direction: column;z-index: 1;position: relative;background-color: white;}#sk-container-id-40 div.sk-parallel-item:first-child::after {align-self: flex-end;width: 50%;}#sk-container-id-40 div.sk-parallel-item:last-child::after {align-self: flex-start;width: 50%;}#sk-container-id-40 div.sk-parallel-item:only-child::after {width: 0;}#sk-container-id-40 div.sk-dashed-wrapped {border: 1px dashed gray;margin: 0 0.4em 0.5em 0.4em;box-sizing: border-box;padding-bottom: 0.4em;background-color: white;}#sk-container-id-40 div.sk-label label {font-family: monospace;font-weight: bold;display: inline-block;line-height: 1.2em;}#sk-container-id-40 div.sk-label-container {text-align: center;}#sk-container-id-40 div.sk-container {/* jupyter's `normalize.less` sets `[hidden] { display: none; }` but bootstrap.min.css set `[hidden] { display: none !important; }` so we also need the `!important` here to be able to override the default hidden behavior on the sphinx rendered scikit-learn.org. See: https://github.com/scikit-learn/scikit-learn/issues/21755 */display: inline-block !important;position: relative;}#sk-container-id-40 div.sk-text-repr-fallback {display: none;}</style><div id=\"sk-container-id-40\" class=\"sk-top-container\"><div class=\"sk-text-repr-fallback\"><pre>RandomizedSearchCV(cv=StratifiedKFold(n_splits=5, random_state=42, shuffle=True),\n",
       "                   estimator=Pipeline(steps=[(&#x27;columntransformer&#x27;,\n",
       "                                              ColumnTransformer(remainder=&#x27;passthrough&#x27;,\n",
       "                                                                transformers=[(&#x27;pipeline-1&#x27;,\n",
       "                                                                               Pipeline(steps=[(&#x27;imputer&#x27;,\n",
       "                                                                                                KNNImputer()),\n",
       "                                                                                               (&#x27;scaler&#x27;,\n",
       "                                                                                                StandardScaler())]),\n",
       "                                                                               Index([&#x27;Creditscore&#x27;, &#x27;Age&#x27;, &#x27;Tenure&#x27;, &#x27;Balance&#x27;, &#x27;Numofproducts&#x27;,\n",
       "       &#x27;Estimatedsalary&#x27;, &#x27;Ba...\n",
       "                                                                verbose_feature_names_out=False)),\n",
       "                                             (&#x27;randomforestclassifier&#x27;,\n",
       "                                              RandomForestClassifier(random_state=42))]),\n",
       "                   param_distributions={&#x27;randomforestclassifier__max_depth&#x27;: range(2, 15),\n",
       "                                        &#x27;randomforestclassifier__min_samples_leaf&#x27;: (1,\n",
       "                                                                                     2,\n",
       "                                                                                     3,\n",
       "                                                                                     4),\n",
       "                                        &#x27;randomforestclassifier__min_samples_split&#x27;: (2,\n",
       "                                                                                      3,\n",
       "                                                                                      4),\n",
       "                                        &#x27;randomforestclassifier__n_estimators&#x27;: range(10, 110, 30)},\n",
       "                   random_state=42, scoring=&#x27;f1&#x27;)</pre><b>In a Jupyter environment, please rerun this cell to show the HTML representation or trust the notebook. <br />On GitHub, the HTML representation is unable to render, please try loading this page with nbviewer.org.</b></div><div class=\"sk-container\" hidden><div class=\"sk-item sk-dashed-wrapped\"><div class=\"sk-label-container\"><div class=\"sk-label sk-toggleable\"><input class=\"sk-toggleable__control sk-hidden--visually\" id=\"sk-estimator-id-437\" type=\"checkbox\" ><label for=\"sk-estimator-id-437\" class=\"sk-toggleable__label sk-toggleable__label-arrow\">RandomizedSearchCV</label><div class=\"sk-toggleable__content\"><pre>RandomizedSearchCV(cv=StratifiedKFold(n_splits=5, random_state=42, shuffle=True),\n",
       "                   estimator=Pipeline(steps=[(&#x27;columntransformer&#x27;,\n",
       "                                              ColumnTransformer(remainder=&#x27;passthrough&#x27;,\n",
       "                                                                transformers=[(&#x27;pipeline-1&#x27;,\n",
       "                                                                               Pipeline(steps=[(&#x27;imputer&#x27;,\n",
       "                                                                                                KNNImputer()),\n",
       "                                                                                               (&#x27;scaler&#x27;,\n",
       "                                                                                                StandardScaler())]),\n",
       "                                                                               Index([&#x27;Creditscore&#x27;, &#x27;Age&#x27;, &#x27;Tenure&#x27;, &#x27;Balance&#x27;, &#x27;Numofproducts&#x27;,\n",
       "       &#x27;Estimatedsalary&#x27;, &#x27;Ba...\n",
       "                                                                verbose_feature_names_out=False)),\n",
       "                                             (&#x27;randomforestclassifier&#x27;,\n",
       "                                              RandomForestClassifier(random_state=42))]),\n",
       "                   param_distributions={&#x27;randomforestclassifier__max_depth&#x27;: range(2, 15),\n",
       "                                        &#x27;randomforestclassifier__min_samples_leaf&#x27;: (1,\n",
       "                                                                                     2,\n",
       "                                                                                     3,\n",
       "                                                                                     4),\n",
       "                                        &#x27;randomforestclassifier__min_samples_split&#x27;: (2,\n",
       "                                                                                      3,\n",
       "                                                                                      4),\n",
       "                                        &#x27;randomforestclassifier__n_estimators&#x27;: range(10, 110, 30)},\n",
       "                   random_state=42, scoring=&#x27;f1&#x27;)</pre></div></div></div><div class=\"sk-parallel\"><div class=\"sk-parallel-item\"><div class=\"sk-item\"><div class=\"sk-label-container\"><div class=\"sk-label sk-toggleable\"><input class=\"sk-toggleable__control sk-hidden--visually\" id=\"sk-estimator-id-438\" type=\"checkbox\" ><label for=\"sk-estimator-id-438\" class=\"sk-toggleable__label sk-toggleable__label-arrow\">estimator: Pipeline</label><div class=\"sk-toggleable__content\"><pre>Pipeline(steps=[(&#x27;columntransformer&#x27;,\n",
       "                 ColumnTransformer(remainder=&#x27;passthrough&#x27;,\n",
       "                                   transformers=[(&#x27;pipeline-1&#x27;,\n",
       "                                                  Pipeline(steps=[(&#x27;imputer&#x27;,\n",
       "                                                                   KNNImputer()),\n",
       "                                                                  (&#x27;scaler&#x27;,\n",
       "                                                                   StandardScaler())]),\n",
       "                                                  Index([&#x27;Creditscore&#x27;, &#x27;Age&#x27;, &#x27;Tenure&#x27;, &#x27;Balance&#x27;, &#x27;Numofproducts&#x27;,\n",
       "       &#x27;Estimatedsalary&#x27;, &#x27;Balance_sq&#x27;],\n",
       "      dtype=&#x27;object&#x27;)),\n",
       "                                                 (&#x27;pipeline-2&#x27;,\n",
       "                                                  Pipeline(steps=[(&#x27;onehot&#x27;,\n",
       "                                                                   OneHotEncoder(drop=&#x27;first&#x27;,\n",
       "                                                                                 handle_unknown=&#x27;ignore&#x27;))]),\n",
       "                                                  [&#x27;Geography&#x27;, &#x27;Gender&#x27;])],\n",
       "                                   verbose_feature_names_out=False)),\n",
       "                (&#x27;randomforestclassifier&#x27;,\n",
       "                 RandomForestClassifier(random_state=42))])</pre></div></div></div><div class=\"sk-serial\"><div class=\"sk-item\"><div class=\"sk-serial\"><div class=\"sk-item sk-dashed-wrapped\"><div class=\"sk-label-container\"><div class=\"sk-label sk-toggleable\"><input class=\"sk-toggleable__control sk-hidden--visually\" id=\"sk-estimator-id-439\" type=\"checkbox\" ><label for=\"sk-estimator-id-439\" class=\"sk-toggleable__label sk-toggleable__label-arrow\">columntransformer: ColumnTransformer</label><div class=\"sk-toggleable__content\"><pre>ColumnTransformer(remainder=&#x27;passthrough&#x27;,\n",
       "                  transformers=[(&#x27;pipeline-1&#x27;,\n",
       "                                 Pipeline(steps=[(&#x27;imputer&#x27;, KNNImputer()),\n",
       "                                                 (&#x27;scaler&#x27;, StandardScaler())]),\n",
       "                                 Index([&#x27;Creditscore&#x27;, &#x27;Age&#x27;, &#x27;Tenure&#x27;, &#x27;Balance&#x27;, &#x27;Numofproducts&#x27;,\n",
       "       &#x27;Estimatedsalary&#x27;, &#x27;Balance_sq&#x27;],\n",
       "      dtype=&#x27;object&#x27;)),\n",
       "                                (&#x27;pipeline-2&#x27;,\n",
       "                                 Pipeline(steps=[(&#x27;onehot&#x27;,\n",
       "                                                  OneHotEncoder(drop=&#x27;first&#x27;,\n",
       "                                                                handle_unknown=&#x27;ignore&#x27;))]),\n",
       "                                 [&#x27;Geography&#x27;, &#x27;Gender&#x27;])],\n",
       "                  verbose_feature_names_out=False)</pre></div></div></div><div class=\"sk-parallel\"><div class=\"sk-parallel-item\"><div class=\"sk-item\"><div class=\"sk-label-container\"><div class=\"sk-label sk-toggleable\"><input class=\"sk-toggleable__control sk-hidden--visually\" id=\"sk-estimator-id-440\" type=\"checkbox\" ><label for=\"sk-estimator-id-440\" class=\"sk-toggleable__label sk-toggleable__label-arrow\">pipeline-1</label><div class=\"sk-toggleable__content\"><pre>Index([&#x27;Creditscore&#x27;, &#x27;Age&#x27;, &#x27;Tenure&#x27;, &#x27;Balance&#x27;, &#x27;Numofproducts&#x27;,\n",
       "       &#x27;Estimatedsalary&#x27;, &#x27;Balance_sq&#x27;],\n",
       "      dtype=&#x27;object&#x27;)</pre></div></div></div><div class=\"sk-serial\"><div class=\"sk-item\"><div class=\"sk-serial\"><div class=\"sk-item\"><div class=\"sk-estimator sk-toggleable\"><input class=\"sk-toggleable__control sk-hidden--visually\" id=\"sk-estimator-id-441\" type=\"checkbox\" ><label for=\"sk-estimator-id-441\" class=\"sk-toggleable__label sk-toggleable__label-arrow\">KNNImputer</label><div class=\"sk-toggleable__content\"><pre>KNNImputer()</pre></div></div></div><div class=\"sk-item\"><div class=\"sk-estimator sk-toggleable\"><input class=\"sk-toggleable__control sk-hidden--visually\" id=\"sk-estimator-id-442\" type=\"checkbox\" ><label for=\"sk-estimator-id-442\" class=\"sk-toggleable__label sk-toggleable__label-arrow\">StandardScaler</label><div class=\"sk-toggleable__content\"><pre>StandardScaler()</pre></div></div></div></div></div></div></div></div><div class=\"sk-parallel-item\"><div class=\"sk-item\"><div class=\"sk-label-container\"><div class=\"sk-label sk-toggleable\"><input class=\"sk-toggleable__control sk-hidden--visually\" id=\"sk-estimator-id-443\" type=\"checkbox\" ><label for=\"sk-estimator-id-443\" class=\"sk-toggleable__label sk-toggleable__label-arrow\">pipeline-2</label><div class=\"sk-toggleable__content\"><pre>[&#x27;Geography&#x27;, &#x27;Gender&#x27;]</pre></div></div></div><div class=\"sk-serial\"><div class=\"sk-item\"><div class=\"sk-serial\"><div class=\"sk-item\"><div class=\"sk-estimator sk-toggleable\"><input class=\"sk-toggleable__control sk-hidden--visually\" id=\"sk-estimator-id-444\" type=\"checkbox\" ><label for=\"sk-estimator-id-444\" class=\"sk-toggleable__label sk-toggleable__label-arrow\">OneHotEncoder</label><div class=\"sk-toggleable__content\"><pre>OneHotEncoder(drop=&#x27;first&#x27;, handle_unknown=&#x27;ignore&#x27;)</pre></div></div></div></div></div></div></div></div><div class=\"sk-parallel-item\"><div class=\"sk-item\"><div class=\"sk-label-container\"><div class=\"sk-label sk-toggleable\"><input class=\"sk-toggleable__control sk-hidden--visually\" id=\"sk-estimator-id-445\" type=\"checkbox\" ><label for=\"sk-estimator-id-445\" class=\"sk-toggleable__label sk-toggleable__label-arrow\">remainder</label><div class=\"sk-toggleable__content\"><pre></pre></div></div></div><div class=\"sk-serial\"><div class=\"sk-item\"><div class=\"sk-estimator sk-toggleable\"><input class=\"sk-toggleable__control sk-hidden--visually\" id=\"sk-estimator-id-446\" type=\"checkbox\" ><label for=\"sk-estimator-id-446\" class=\"sk-toggleable__label sk-toggleable__label-arrow\">passthrough</label><div class=\"sk-toggleable__content\"><pre>passthrough</pre></div></div></div></div></div></div></div></div><div class=\"sk-item\"><div class=\"sk-estimator sk-toggleable\"><input class=\"sk-toggleable__control sk-hidden--visually\" id=\"sk-estimator-id-447\" type=\"checkbox\" ><label for=\"sk-estimator-id-447\" class=\"sk-toggleable__label sk-toggleable__label-arrow\">RandomForestClassifier</label><div class=\"sk-toggleable__content\"><pre>RandomForestClassifier(random_state=42)</pre></div></div></div></div></div></div></div></div></div></div></div></div>"
      ],
      "text/plain": [
       "RandomizedSearchCV(cv=StratifiedKFold(n_splits=5, random_state=42, shuffle=True),\n",
       "                   estimator=Pipeline(steps=[('columntransformer',\n",
       "                                              ColumnTransformer(remainder='passthrough',\n",
       "                                                                transformers=[('pipeline-1',\n",
       "                                                                               Pipeline(steps=[('imputer',\n",
       "                                                                                                KNNImputer()),\n",
       "                                                                                               ('scaler',\n",
       "                                                                                                StandardScaler())]),\n",
       "                                                                               Index(['Creditscore', 'Age', 'Tenure', 'Balance', 'Numofproducts',\n",
       "       'Estimatedsalary', 'Ba...\n",
       "                                                                verbose_feature_names_out=False)),\n",
       "                                             ('randomforestclassifier',\n",
       "                                              RandomForestClassifier(random_state=42))]),\n",
       "                   param_distributions={'randomforestclassifier__max_depth': range(2, 15),\n",
       "                                        'randomforestclassifier__min_samples_leaf': (1,\n",
       "                                                                                     2,\n",
       "                                                                                     3,\n",
       "                                                                                     4),\n",
       "                                        'randomforestclassifier__min_samples_split': (2,\n",
       "                                                                                      3,\n",
       "                                                                                      4),\n",
       "                                        'randomforestclassifier__n_estimators': range(10, 110, 30)},\n",
       "                   random_state=42, scoring='f1')"
      ]
     },
     "execution_count": 252,
     "metadata": {},
     "output_type": "execute_result"
    }
   ],
   "source": [
    "# Создаём пайплайн\n",
    "model_forest_strat = RandomForestClassifier(random_state=42)\n",
    "pipeline_forest_strat = make_pipeline(preprocessor, model_forest_strat)\n",
    "\n",
    "param_grid_forest = {\n",
    "    'randomforestclassifier__n_estimators': range(10, 110, 30),\n",
    "    'randomforestclassifier__max_depth': range(2, 15),\n",
    "    'randomforestclassifier__min_samples_split': (2, 3, 4),\n",
    "    'randomforestclassifier__min_samples_leaf': (1, 2, 3, 4)\n",
    "}\n",
    "\n",
    "\n",
    "gs_forest_strat = RandomizedSearchCV(\n",
    "    pipeline_forest_strat, \n",
    "    param_distributions=param_grid_forest, \n",
    "    scoring='f1', \n",
    "    random_state=42,\n",
    "    cv=skf\n",
    ")\n",
    "\n",
    "gs_forest_strat.fit(pd.concat([features_train]+[features_valid]), pd.concat([target_train]+[target_valid]))"
   ]
  },
  {
   "cell_type": "code",
   "execution_count": 253,
   "metadata": {},
   "outputs": [
    {
     "data": {
      "text/plain": [
       "0.5634389022370275"
      ]
     },
     "metadata": {},
     "output_type": "display_data"
    },
    {
     "data": {
      "text/plain": [
       "{'randomforestclassifier__n_estimators': 40,\n",
       " 'randomforestclassifier__min_samples_split': 4,\n",
       " 'randomforestclassifier__min_samples_leaf': 2,\n",
       " 'randomforestclassifier__max_depth': 12}"
      ]
     },
     "execution_count": 253,
     "metadata": {},
     "output_type": "execute_result"
    }
   ],
   "source": [
    "# Вывод \n",
    "f1_forest_strat = gs_forest_strat.best_score_\n",
    "display(f1_forest_strat)\n",
    "gs_forest_strat.best_params_"
   ]
  },
  {
   "cell_type": "markdown",
   "metadata": {},
   "source": [
    "Для случайного леса при валидации со стратификацией тоже метрика кросс валидации оказалась ниже."
   ]
  },
  {
   "cell_type": "markdown",
   "metadata": {},
   "source": [
    "#### Логистическая регрессия"
   ]
  },
  {
   "cell_type": "code",
   "execution_count": 254,
   "metadata": {},
   "outputs": [
    {
     "data": {
      "text/html": [
       "<style>#sk-container-id-41 {color: black;background-color: white;}#sk-container-id-41 pre{padding: 0;}#sk-container-id-41 div.sk-toggleable {background-color: white;}#sk-container-id-41 label.sk-toggleable__label {cursor: pointer;display: block;width: 100%;margin-bottom: 0;padding: 0.3em;box-sizing: border-box;text-align: center;}#sk-container-id-41 label.sk-toggleable__label-arrow:before {content: \"▸\";float: left;margin-right: 0.25em;color: #696969;}#sk-container-id-41 label.sk-toggleable__label-arrow:hover:before {color: black;}#sk-container-id-41 div.sk-estimator:hover label.sk-toggleable__label-arrow:before {color: black;}#sk-container-id-41 div.sk-toggleable__content {max-height: 0;max-width: 0;overflow: hidden;text-align: left;background-color: #f0f8ff;}#sk-container-id-41 div.sk-toggleable__content pre {margin: 0.2em;color: black;border-radius: 0.25em;background-color: #f0f8ff;}#sk-container-id-41 input.sk-toggleable__control:checked~div.sk-toggleable__content {max-height: 200px;max-width: 100%;overflow: auto;}#sk-container-id-41 input.sk-toggleable__control:checked~label.sk-toggleable__label-arrow:before {content: \"▾\";}#sk-container-id-41 div.sk-estimator input.sk-toggleable__control:checked~label.sk-toggleable__label {background-color: #d4ebff;}#sk-container-id-41 div.sk-label input.sk-toggleable__control:checked~label.sk-toggleable__label {background-color: #d4ebff;}#sk-container-id-41 input.sk-hidden--visually {border: 0;clip: rect(1px 1px 1px 1px);clip: rect(1px, 1px, 1px, 1px);height: 1px;margin: -1px;overflow: hidden;padding: 0;position: absolute;width: 1px;}#sk-container-id-41 div.sk-estimator {font-family: monospace;background-color: #f0f8ff;border: 1px dotted black;border-radius: 0.25em;box-sizing: border-box;margin-bottom: 0.5em;}#sk-container-id-41 div.sk-estimator:hover {background-color: #d4ebff;}#sk-container-id-41 div.sk-parallel-item::after {content: \"\";width: 100%;border-bottom: 1px solid gray;flex-grow: 1;}#sk-container-id-41 div.sk-label:hover label.sk-toggleable__label {background-color: #d4ebff;}#sk-container-id-41 div.sk-serial::before {content: \"\";position: absolute;border-left: 1px solid gray;box-sizing: border-box;top: 0;bottom: 0;left: 50%;z-index: 0;}#sk-container-id-41 div.sk-serial {display: flex;flex-direction: column;align-items: center;background-color: white;padding-right: 0.2em;padding-left: 0.2em;position: relative;}#sk-container-id-41 div.sk-item {position: relative;z-index: 1;}#sk-container-id-41 div.sk-parallel {display: flex;align-items: stretch;justify-content: center;background-color: white;position: relative;}#sk-container-id-41 div.sk-item::before, #sk-container-id-41 div.sk-parallel-item::before {content: \"\";position: absolute;border-left: 1px solid gray;box-sizing: border-box;top: 0;bottom: 0;left: 50%;z-index: -1;}#sk-container-id-41 div.sk-parallel-item {display: flex;flex-direction: column;z-index: 1;position: relative;background-color: white;}#sk-container-id-41 div.sk-parallel-item:first-child::after {align-self: flex-end;width: 50%;}#sk-container-id-41 div.sk-parallel-item:last-child::after {align-self: flex-start;width: 50%;}#sk-container-id-41 div.sk-parallel-item:only-child::after {width: 0;}#sk-container-id-41 div.sk-dashed-wrapped {border: 1px dashed gray;margin: 0 0.4em 0.5em 0.4em;box-sizing: border-box;padding-bottom: 0.4em;background-color: white;}#sk-container-id-41 div.sk-label label {font-family: monospace;font-weight: bold;display: inline-block;line-height: 1.2em;}#sk-container-id-41 div.sk-label-container {text-align: center;}#sk-container-id-41 div.sk-container {/* jupyter's `normalize.less` sets `[hidden] { display: none; }` but bootstrap.min.css set `[hidden] { display: none !important; }` so we also need the `!important` here to be able to override the default hidden behavior on the sphinx rendered scikit-learn.org. See: https://github.com/scikit-learn/scikit-learn/issues/21755 */display: inline-block !important;position: relative;}#sk-container-id-41 div.sk-text-repr-fallback {display: none;}</style><div id=\"sk-container-id-41\" class=\"sk-top-container\"><div class=\"sk-text-repr-fallback\"><pre>RandomizedSearchCV(cv=StratifiedKFold(n_splits=5, random_state=42, shuffle=True),\n",
       "                   estimator=Pipeline(steps=[(&#x27;columntransformer&#x27;,\n",
       "                                              ColumnTransformer(remainder=&#x27;passthrough&#x27;,\n",
       "                                                                transformers=[(&#x27;pipeline-1&#x27;,\n",
       "                                                                               Pipeline(steps=[(&#x27;imputer&#x27;,\n",
       "                                                                                                KNNImputer()),\n",
       "                                                                                               (&#x27;scaler&#x27;,\n",
       "                                                                                                StandardScaler())]),\n",
       "                                                                               Index([&#x27;Creditscore&#x27;, &#x27;Age&#x27;, &#x27;Tenure&#x27;, &#x27;Balance&#x27;, &#x27;Numofproducts&#x27;,\n",
       "       &#x27;Estimatedsalary&#x27;, &#x27;Ba...\n",
       "                                                                               [&#x27;Geography&#x27;,\n",
       "                                                                                &#x27;Gender&#x27;])],\n",
       "                                                                verbose_feature_names_out=False)),\n",
       "                                             (&#x27;logisticregression&#x27;,\n",
       "                                              LogisticRegression(random_state=42))]),\n",
       "                   param_distributions={&#x27;logisticregression__C&#x27;: array([1.e-03, 1.e-02, 1.e-01, 1.e+00, 1.e+01, 1.e+02, 1.e+03]),\n",
       "                                        &#x27;logisticregression__penalty&#x27;: [&#x27;l1&#x27;,\n",
       "                                                                        &#x27;l2&#x27;],\n",
       "                                        &#x27;logisticregression__solver&#x27;: [&#x27;newton-cg&#x27;,\n",
       "                                                                       &#x27;lbfgs&#x27;,\n",
       "                                                                       &#x27;liblinear&#x27;]},\n",
       "                   random_state=42, scoring=&#x27;f1&#x27;)</pre><b>In a Jupyter environment, please rerun this cell to show the HTML representation or trust the notebook. <br />On GitHub, the HTML representation is unable to render, please try loading this page with nbviewer.org.</b></div><div class=\"sk-container\" hidden><div class=\"sk-item sk-dashed-wrapped\"><div class=\"sk-label-container\"><div class=\"sk-label sk-toggleable\"><input class=\"sk-toggleable__control sk-hidden--visually\" id=\"sk-estimator-id-448\" type=\"checkbox\" ><label for=\"sk-estimator-id-448\" class=\"sk-toggleable__label sk-toggleable__label-arrow\">RandomizedSearchCV</label><div class=\"sk-toggleable__content\"><pre>RandomizedSearchCV(cv=StratifiedKFold(n_splits=5, random_state=42, shuffle=True),\n",
       "                   estimator=Pipeline(steps=[(&#x27;columntransformer&#x27;,\n",
       "                                              ColumnTransformer(remainder=&#x27;passthrough&#x27;,\n",
       "                                                                transformers=[(&#x27;pipeline-1&#x27;,\n",
       "                                                                               Pipeline(steps=[(&#x27;imputer&#x27;,\n",
       "                                                                                                KNNImputer()),\n",
       "                                                                                               (&#x27;scaler&#x27;,\n",
       "                                                                                                StandardScaler())]),\n",
       "                                                                               Index([&#x27;Creditscore&#x27;, &#x27;Age&#x27;, &#x27;Tenure&#x27;, &#x27;Balance&#x27;, &#x27;Numofproducts&#x27;,\n",
       "       &#x27;Estimatedsalary&#x27;, &#x27;Ba...\n",
       "                                                                               [&#x27;Geography&#x27;,\n",
       "                                                                                &#x27;Gender&#x27;])],\n",
       "                                                                verbose_feature_names_out=False)),\n",
       "                                             (&#x27;logisticregression&#x27;,\n",
       "                                              LogisticRegression(random_state=42))]),\n",
       "                   param_distributions={&#x27;logisticregression__C&#x27;: array([1.e-03, 1.e-02, 1.e-01, 1.e+00, 1.e+01, 1.e+02, 1.e+03]),\n",
       "                                        &#x27;logisticregression__penalty&#x27;: [&#x27;l1&#x27;,\n",
       "                                                                        &#x27;l2&#x27;],\n",
       "                                        &#x27;logisticregression__solver&#x27;: [&#x27;newton-cg&#x27;,\n",
       "                                                                       &#x27;lbfgs&#x27;,\n",
       "                                                                       &#x27;liblinear&#x27;]},\n",
       "                   random_state=42, scoring=&#x27;f1&#x27;)</pre></div></div></div><div class=\"sk-parallel\"><div class=\"sk-parallel-item\"><div class=\"sk-item\"><div class=\"sk-label-container\"><div class=\"sk-label sk-toggleable\"><input class=\"sk-toggleable__control sk-hidden--visually\" id=\"sk-estimator-id-449\" type=\"checkbox\" ><label for=\"sk-estimator-id-449\" class=\"sk-toggleable__label sk-toggleable__label-arrow\">estimator: Pipeline</label><div class=\"sk-toggleable__content\"><pre>Pipeline(steps=[(&#x27;columntransformer&#x27;,\n",
       "                 ColumnTransformer(remainder=&#x27;passthrough&#x27;,\n",
       "                                   transformers=[(&#x27;pipeline-1&#x27;,\n",
       "                                                  Pipeline(steps=[(&#x27;imputer&#x27;,\n",
       "                                                                   KNNImputer()),\n",
       "                                                                  (&#x27;scaler&#x27;,\n",
       "                                                                   StandardScaler())]),\n",
       "                                                  Index([&#x27;Creditscore&#x27;, &#x27;Age&#x27;, &#x27;Tenure&#x27;, &#x27;Balance&#x27;, &#x27;Numofproducts&#x27;,\n",
       "       &#x27;Estimatedsalary&#x27;, &#x27;Balance_sq&#x27;],\n",
       "      dtype=&#x27;object&#x27;)),\n",
       "                                                 (&#x27;pipeline-2&#x27;,\n",
       "                                                  Pipeline(steps=[(&#x27;onehot&#x27;,\n",
       "                                                                   OneHotEncoder(drop=&#x27;first&#x27;,\n",
       "                                                                                 handle_unknown=&#x27;ignore&#x27;))]),\n",
       "                                                  [&#x27;Geography&#x27;, &#x27;Gender&#x27;])],\n",
       "                                   verbose_feature_names_out=False)),\n",
       "                (&#x27;logisticregression&#x27;, LogisticRegression(random_state=42))])</pre></div></div></div><div class=\"sk-serial\"><div class=\"sk-item\"><div class=\"sk-serial\"><div class=\"sk-item sk-dashed-wrapped\"><div class=\"sk-label-container\"><div class=\"sk-label sk-toggleable\"><input class=\"sk-toggleable__control sk-hidden--visually\" id=\"sk-estimator-id-450\" type=\"checkbox\" ><label for=\"sk-estimator-id-450\" class=\"sk-toggleable__label sk-toggleable__label-arrow\">columntransformer: ColumnTransformer</label><div class=\"sk-toggleable__content\"><pre>ColumnTransformer(remainder=&#x27;passthrough&#x27;,\n",
       "                  transformers=[(&#x27;pipeline-1&#x27;,\n",
       "                                 Pipeline(steps=[(&#x27;imputer&#x27;, KNNImputer()),\n",
       "                                                 (&#x27;scaler&#x27;, StandardScaler())]),\n",
       "                                 Index([&#x27;Creditscore&#x27;, &#x27;Age&#x27;, &#x27;Tenure&#x27;, &#x27;Balance&#x27;, &#x27;Numofproducts&#x27;,\n",
       "       &#x27;Estimatedsalary&#x27;, &#x27;Balance_sq&#x27;],\n",
       "      dtype=&#x27;object&#x27;)),\n",
       "                                (&#x27;pipeline-2&#x27;,\n",
       "                                 Pipeline(steps=[(&#x27;onehot&#x27;,\n",
       "                                                  OneHotEncoder(drop=&#x27;first&#x27;,\n",
       "                                                                handle_unknown=&#x27;ignore&#x27;))]),\n",
       "                                 [&#x27;Geography&#x27;, &#x27;Gender&#x27;])],\n",
       "                  verbose_feature_names_out=False)</pre></div></div></div><div class=\"sk-parallel\"><div class=\"sk-parallel-item\"><div class=\"sk-item\"><div class=\"sk-label-container\"><div class=\"sk-label sk-toggleable\"><input class=\"sk-toggleable__control sk-hidden--visually\" id=\"sk-estimator-id-451\" type=\"checkbox\" ><label for=\"sk-estimator-id-451\" class=\"sk-toggleable__label sk-toggleable__label-arrow\">pipeline-1</label><div class=\"sk-toggleable__content\"><pre>Index([&#x27;Creditscore&#x27;, &#x27;Age&#x27;, &#x27;Tenure&#x27;, &#x27;Balance&#x27;, &#x27;Numofproducts&#x27;,\n",
       "       &#x27;Estimatedsalary&#x27;, &#x27;Balance_sq&#x27;],\n",
       "      dtype=&#x27;object&#x27;)</pre></div></div></div><div class=\"sk-serial\"><div class=\"sk-item\"><div class=\"sk-serial\"><div class=\"sk-item\"><div class=\"sk-estimator sk-toggleable\"><input class=\"sk-toggleable__control sk-hidden--visually\" id=\"sk-estimator-id-452\" type=\"checkbox\" ><label for=\"sk-estimator-id-452\" class=\"sk-toggleable__label sk-toggleable__label-arrow\">KNNImputer</label><div class=\"sk-toggleable__content\"><pre>KNNImputer()</pre></div></div></div><div class=\"sk-item\"><div class=\"sk-estimator sk-toggleable\"><input class=\"sk-toggleable__control sk-hidden--visually\" id=\"sk-estimator-id-453\" type=\"checkbox\" ><label for=\"sk-estimator-id-453\" class=\"sk-toggleable__label sk-toggleable__label-arrow\">StandardScaler</label><div class=\"sk-toggleable__content\"><pre>StandardScaler()</pre></div></div></div></div></div></div></div></div><div class=\"sk-parallel-item\"><div class=\"sk-item\"><div class=\"sk-label-container\"><div class=\"sk-label sk-toggleable\"><input class=\"sk-toggleable__control sk-hidden--visually\" id=\"sk-estimator-id-454\" type=\"checkbox\" ><label for=\"sk-estimator-id-454\" class=\"sk-toggleable__label sk-toggleable__label-arrow\">pipeline-2</label><div class=\"sk-toggleable__content\"><pre>[&#x27;Geography&#x27;, &#x27;Gender&#x27;]</pre></div></div></div><div class=\"sk-serial\"><div class=\"sk-item\"><div class=\"sk-serial\"><div class=\"sk-item\"><div class=\"sk-estimator sk-toggleable\"><input class=\"sk-toggleable__control sk-hidden--visually\" id=\"sk-estimator-id-455\" type=\"checkbox\" ><label for=\"sk-estimator-id-455\" class=\"sk-toggleable__label sk-toggleable__label-arrow\">OneHotEncoder</label><div class=\"sk-toggleable__content\"><pre>OneHotEncoder(drop=&#x27;first&#x27;, handle_unknown=&#x27;ignore&#x27;)</pre></div></div></div></div></div></div></div></div><div class=\"sk-parallel-item\"><div class=\"sk-item\"><div class=\"sk-label-container\"><div class=\"sk-label sk-toggleable\"><input class=\"sk-toggleable__control sk-hidden--visually\" id=\"sk-estimator-id-456\" type=\"checkbox\" ><label for=\"sk-estimator-id-456\" class=\"sk-toggleable__label sk-toggleable__label-arrow\">remainder</label><div class=\"sk-toggleable__content\"><pre></pre></div></div></div><div class=\"sk-serial\"><div class=\"sk-item\"><div class=\"sk-estimator sk-toggleable\"><input class=\"sk-toggleable__control sk-hidden--visually\" id=\"sk-estimator-id-457\" type=\"checkbox\" ><label for=\"sk-estimator-id-457\" class=\"sk-toggleable__label sk-toggleable__label-arrow\">passthrough</label><div class=\"sk-toggleable__content\"><pre>passthrough</pre></div></div></div></div></div></div></div></div><div class=\"sk-item\"><div class=\"sk-estimator sk-toggleable\"><input class=\"sk-toggleable__control sk-hidden--visually\" id=\"sk-estimator-id-458\" type=\"checkbox\" ><label for=\"sk-estimator-id-458\" class=\"sk-toggleable__label sk-toggleable__label-arrow\">LogisticRegression</label><div class=\"sk-toggleable__content\"><pre>LogisticRegression(random_state=42)</pre></div></div></div></div></div></div></div></div></div></div></div></div>"
      ],
      "text/plain": [
       "RandomizedSearchCV(cv=StratifiedKFold(n_splits=5, random_state=42, shuffle=True),\n",
       "                   estimator=Pipeline(steps=[('columntransformer',\n",
       "                                              ColumnTransformer(remainder='passthrough',\n",
       "                                                                transformers=[('pipeline-1',\n",
       "                                                                               Pipeline(steps=[('imputer',\n",
       "                                                                                                KNNImputer()),\n",
       "                                                                                               ('scaler',\n",
       "                                                                                                StandardScaler())]),\n",
       "                                                                               Index(['Creditscore', 'Age', 'Tenure', 'Balance', 'Numofproducts',\n",
       "       'Estimatedsalary', 'Ba...\n",
       "                                                                               ['Geography',\n",
       "                                                                                'Gender'])],\n",
       "                                                                verbose_feature_names_out=False)),\n",
       "                                             ('logisticregression',\n",
       "                                              LogisticRegression(random_state=42))]),\n",
       "                   param_distributions={'logisticregression__C': array([1.e-03, 1.e-02, 1.e-01, 1.e+00, 1.e+01, 1.e+02, 1.e+03]),\n",
       "                                        'logisticregression__penalty': ['l1',\n",
       "                                                                        'l2'],\n",
       "                                        'logisticregression__solver': ['newton-cg',\n",
       "                                                                       'lbfgs',\n",
       "                                                                       'liblinear']},\n",
       "                   random_state=42, scoring='f1')"
      ]
     },
     "execution_count": 254,
     "metadata": {},
     "output_type": "execute_result"
    }
   ],
   "source": [
    "# Создаём пайплайн\n",
    "model_logit_strat = LogisticRegression(random_state=42)\n",
    "pipeline_logit_strat = make_pipeline(preprocessor, model_logit_strat)\n",
    "\n",
    "param_grid_logit = {\n",
    "    'logisticregression__penalty' : ['l1','l2'], \n",
    "    'logisticregression__C'       : np.logspace(-3,3,7),\n",
    "    'logisticregression__solver'  : ['newton-cg', 'lbfgs', 'liblinear'],\n",
    "}\n",
    "\n",
    "gs_logit_strat = RandomizedSearchCV(\n",
    "    pipeline_logit_strat, \n",
    "    param_distributions=param_grid_logit, \n",
    "    scoring='f1',\n",
    "    random_state=42,\n",
    "    cv=skf\n",
    ")\n",
    "\n",
    "gs_logit_strat.fit(pd.concat([features_train]+[features_valid]), pd.concat([target_train]+[target_valid]))"
   ]
  },
  {
   "cell_type": "code",
   "execution_count": 255,
   "metadata": {},
   "outputs": [
    {
     "data": {
      "text/plain": [
       "0.30854105521260633"
      ]
     },
     "metadata": {},
     "output_type": "display_data"
    },
    {
     "data": {
      "text/plain": [
       "{'logisticregression__solver': 'liblinear',\n",
       " 'logisticregression__penalty': 'l1',\n",
       " 'logisticregression__C': 10.0}"
      ]
     },
     "execution_count": 255,
     "metadata": {},
     "output_type": "execute_result"
    }
   ],
   "source": [
    "# Смотрю на результаты\n",
    "f1_logit_strat = gs_logit_strat.best_score_\n",
    "display(f1_logit_strat)\n",
    "gs_logit_strat.best_params_"
   ]
  },
  {
   "cell_type": "markdown",
   "metadata": {},
   "source": [
    "### Undersampling"
   ]
  },
  {
   "cell_type": "markdown",
   "metadata": {},
   "source": [
    "#### Decision Tree"
   ]
  },
  {
   "cell_type": "code",
   "execution_count": 256,
   "metadata": {},
   "outputs": [],
   "source": [
    "# Understampler\n",
    "undersampler = RandomUnderSampler(random_state=42)"
   ]
  },
  {
   "cell_type": "code",
   "execution_count": 257,
   "metadata": {},
   "outputs": [
    {
     "data": {
      "text/html": [
       "<style>#sk-container-id-42 {color: black;background-color: white;}#sk-container-id-42 pre{padding: 0;}#sk-container-id-42 div.sk-toggleable {background-color: white;}#sk-container-id-42 label.sk-toggleable__label {cursor: pointer;display: block;width: 100%;margin-bottom: 0;padding: 0.3em;box-sizing: border-box;text-align: center;}#sk-container-id-42 label.sk-toggleable__label-arrow:before {content: \"▸\";float: left;margin-right: 0.25em;color: #696969;}#sk-container-id-42 label.sk-toggleable__label-arrow:hover:before {color: black;}#sk-container-id-42 div.sk-estimator:hover label.sk-toggleable__label-arrow:before {color: black;}#sk-container-id-42 div.sk-toggleable__content {max-height: 0;max-width: 0;overflow: hidden;text-align: left;background-color: #f0f8ff;}#sk-container-id-42 div.sk-toggleable__content pre {margin: 0.2em;color: black;border-radius: 0.25em;background-color: #f0f8ff;}#sk-container-id-42 input.sk-toggleable__control:checked~div.sk-toggleable__content {max-height: 200px;max-width: 100%;overflow: auto;}#sk-container-id-42 input.sk-toggleable__control:checked~label.sk-toggleable__label-arrow:before {content: \"▾\";}#sk-container-id-42 div.sk-estimator input.sk-toggleable__control:checked~label.sk-toggleable__label {background-color: #d4ebff;}#sk-container-id-42 div.sk-label input.sk-toggleable__control:checked~label.sk-toggleable__label {background-color: #d4ebff;}#sk-container-id-42 input.sk-hidden--visually {border: 0;clip: rect(1px 1px 1px 1px);clip: rect(1px, 1px, 1px, 1px);height: 1px;margin: -1px;overflow: hidden;padding: 0;position: absolute;width: 1px;}#sk-container-id-42 div.sk-estimator {font-family: monospace;background-color: #f0f8ff;border: 1px dotted black;border-radius: 0.25em;box-sizing: border-box;margin-bottom: 0.5em;}#sk-container-id-42 div.sk-estimator:hover {background-color: #d4ebff;}#sk-container-id-42 div.sk-parallel-item::after {content: \"\";width: 100%;border-bottom: 1px solid gray;flex-grow: 1;}#sk-container-id-42 div.sk-label:hover label.sk-toggleable__label {background-color: #d4ebff;}#sk-container-id-42 div.sk-serial::before {content: \"\";position: absolute;border-left: 1px solid gray;box-sizing: border-box;top: 0;bottom: 0;left: 50%;z-index: 0;}#sk-container-id-42 div.sk-serial {display: flex;flex-direction: column;align-items: center;background-color: white;padding-right: 0.2em;padding-left: 0.2em;position: relative;}#sk-container-id-42 div.sk-item {position: relative;z-index: 1;}#sk-container-id-42 div.sk-parallel {display: flex;align-items: stretch;justify-content: center;background-color: white;position: relative;}#sk-container-id-42 div.sk-item::before, #sk-container-id-42 div.sk-parallel-item::before {content: \"\";position: absolute;border-left: 1px solid gray;box-sizing: border-box;top: 0;bottom: 0;left: 50%;z-index: -1;}#sk-container-id-42 div.sk-parallel-item {display: flex;flex-direction: column;z-index: 1;position: relative;background-color: white;}#sk-container-id-42 div.sk-parallel-item:first-child::after {align-self: flex-end;width: 50%;}#sk-container-id-42 div.sk-parallel-item:last-child::after {align-self: flex-start;width: 50%;}#sk-container-id-42 div.sk-parallel-item:only-child::after {width: 0;}#sk-container-id-42 div.sk-dashed-wrapped {border: 1px dashed gray;margin: 0 0.4em 0.5em 0.4em;box-sizing: border-box;padding-bottom: 0.4em;background-color: white;}#sk-container-id-42 div.sk-label label {font-family: monospace;font-weight: bold;display: inline-block;line-height: 1.2em;}#sk-container-id-42 div.sk-label-container {text-align: center;}#sk-container-id-42 div.sk-container {/* jupyter's `normalize.less` sets `[hidden] { display: none; }` but bootstrap.min.css set `[hidden] { display: none !important; }` so we also need the `!important` here to be able to override the default hidden behavior on the sphinx rendered scikit-learn.org. See: https://github.com/scikit-learn/scikit-learn/issues/21755 */display: inline-block !important;position: relative;}#sk-container-id-42 div.sk-text-repr-fallback {display: none;}</style><div id=\"sk-container-id-42\" class=\"sk-top-container\"><div class=\"sk-text-repr-fallback\"><pre>GridSearchCV(estimator=Pipeline(steps=[(&#x27;undersampler&#x27;,\n",
       "                                        RandomUnderSampler(random_state=42)),\n",
       "                                       (&#x27;preprocessor&#x27;,\n",
       "                                        ColumnTransformer(remainder=&#x27;passthrough&#x27;,\n",
       "                                                          transformers=[(&#x27;pipeline-1&#x27;,\n",
       "                                                                         Pipeline(steps=[(&#x27;imputer&#x27;,\n",
       "                                                                                          KNNImputer()),\n",
       "                                                                                         (&#x27;scaler&#x27;,\n",
       "                                                                                          StandardScaler())]),\n",
       "                                                                         Index([&#x27;Creditscore&#x27;, &#x27;Age&#x27;, &#x27;Tenure&#x27;, &#x27;Balance&#x27;, &#x27;Numofproducts&#x27;,\n",
       "       &#x27;Estimatedsalary&#x27;, &#x27;Balance_sq&#x27;],\n",
       "      dtype=&#x27;object&#x27;)),\n",
       "                                                                        (&#x27;pipeline-2&#x27;,\n",
       "                                                                         Pipeline(steps=[(&#x27;onehot&#x27;,\n",
       "                                                                                          OneHotEncoder(drop=&#x27;first&#x27;,\n",
       "                                                                                                        handle_unknown=&#x27;ignore&#x27;))]),\n",
       "                                                                         [&#x27;Geography&#x27;,\n",
       "                                                                          &#x27;Gender&#x27;])],\n",
       "                                                          verbose_feature_names_out=False)),\n",
       "                                       (&#x27;estimation&#x27;,\n",
       "                                        DecisionTreeClassifier(random_state=42))]),\n",
       "             param_grid={&#x27;estimation__max_depth&#x27;: range(1, 30)}, scoring=&#x27;f1&#x27;)</pre><b>In a Jupyter environment, please rerun this cell to show the HTML representation or trust the notebook. <br />On GitHub, the HTML representation is unable to render, please try loading this page with nbviewer.org.</b></div><div class=\"sk-container\" hidden><div class=\"sk-item sk-dashed-wrapped\"><div class=\"sk-label-container\"><div class=\"sk-label sk-toggleable\"><input class=\"sk-toggleable__control sk-hidden--visually\" id=\"sk-estimator-id-459\" type=\"checkbox\" ><label for=\"sk-estimator-id-459\" class=\"sk-toggleable__label sk-toggleable__label-arrow\">GridSearchCV</label><div class=\"sk-toggleable__content\"><pre>GridSearchCV(estimator=Pipeline(steps=[(&#x27;undersampler&#x27;,\n",
       "                                        RandomUnderSampler(random_state=42)),\n",
       "                                       (&#x27;preprocessor&#x27;,\n",
       "                                        ColumnTransformer(remainder=&#x27;passthrough&#x27;,\n",
       "                                                          transformers=[(&#x27;pipeline-1&#x27;,\n",
       "                                                                         Pipeline(steps=[(&#x27;imputer&#x27;,\n",
       "                                                                                          KNNImputer()),\n",
       "                                                                                         (&#x27;scaler&#x27;,\n",
       "                                                                                          StandardScaler())]),\n",
       "                                                                         Index([&#x27;Creditscore&#x27;, &#x27;Age&#x27;, &#x27;Tenure&#x27;, &#x27;Balance&#x27;, &#x27;Numofproducts&#x27;,\n",
       "       &#x27;Estimatedsalary&#x27;, &#x27;Balance_sq&#x27;],\n",
       "      dtype=&#x27;object&#x27;)),\n",
       "                                                                        (&#x27;pipeline-2&#x27;,\n",
       "                                                                         Pipeline(steps=[(&#x27;onehot&#x27;,\n",
       "                                                                                          OneHotEncoder(drop=&#x27;first&#x27;,\n",
       "                                                                                                        handle_unknown=&#x27;ignore&#x27;))]),\n",
       "                                                                         [&#x27;Geography&#x27;,\n",
       "                                                                          &#x27;Gender&#x27;])],\n",
       "                                                          verbose_feature_names_out=False)),\n",
       "                                       (&#x27;estimation&#x27;,\n",
       "                                        DecisionTreeClassifier(random_state=42))]),\n",
       "             param_grid={&#x27;estimation__max_depth&#x27;: range(1, 30)}, scoring=&#x27;f1&#x27;)</pre></div></div></div><div class=\"sk-parallel\"><div class=\"sk-parallel-item\"><div class=\"sk-item\"><div class=\"sk-label-container\"><div class=\"sk-label sk-toggleable\"><input class=\"sk-toggleable__control sk-hidden--visually\" id=\"sk-estimator-id-460\" type=\"checkbox\" ><label for=\"sk-estimator-id-460\" class=\"sk-toggleable__label sk-toggleable__label-arrow\">estimator: Pipeline</label><div class=\"sk-toggleable__content\"><pre>Pipeline(steps=[(&#x27;undersampler&#x27;, RandomUnderSampler(random_state=42)),\n",
       "                (&#x27;preprocessor&#x27;,\n",
       "                 ColumnTransformer(remainder=&#x27;passthrough&#x27;,\n",
       "                                   transformers=[(&#x27;pipeline-1&#x27;,\n",
       "                                                  Pipeline(steps=[(&#x27;imputer&#x27;,\n",
       "                                                                   KNNImputer()),\n",
       "                                                                  (&#x27;scaler&#x27;,\n",
       "                                                                   StandardScaler())]),\n",
       "                                                  Index([&#x27;Creditscore&#x27;, &#x27;Age&#x27;, &#x27;Tenure&#x27;, &#x27;Balance&#x27;, &#x27;Numofproducts&#x27;,\n",
       "       &#x27;Estimatedsalary&#x27;, &#x27;Balance_sq&#x27;],\n",
       "      dtype=&#x27;object&#x27;)),\n",
       "                                                 (&#x27;pipeline-2&#x27;,\n",
       "                                                  Pipeline(steps=[(&#x27;onehot&#x27;,\n",
       "                                                                   OneHotEncoder(drop=&#x27;first&#x27;,\n",
       "                                                                                 handle_unknown=&#x27;ignore&#x27;))]),\n",
       "                                                  [&#x27;Geography&#x27;, &#x27;Gender&#x27;])],\n",
       "                                   verbose_feature_names_out=False)),\n",
       "                (&#x27;estimation&#x27;, DecisionTreeClassifier(random_state=42))])</pre></div></div></div><div class=\"sk-serial\"><div class=\"sk-item\"><div class=\"sk-serial\"><div class=\"sk-item\"><div class=\"sk-estimator sk-toggleable\"><input class=\"sk-toggleable__control sk-hidden--visually\" id=\"sk-estimator-id-461\" type=\"checkbox\" ><label for=\"sk-estimator-id-461\" class=\"sk-toggleable__label sk-toggleable__label-arrow\">RandomUnderSampler</label><div class=\"sk-toggleable__content\"><pre>RandomUnderSampler(random_state=42)</pre></div></div></div><div class=\"sk-item sk-dashed-wrapped\"><div class=\"sk-label-container\"><div class=\"sk-label sk-toggleable\"><input class=\"sk-toggleable__control sk-hidden--visually\" id=\"sk-estimator-id-462\" type=\"checkbox\" ><label for=\"sk-estimator-id-462\" class=\"sk-toggleable__label sk-toggleable__label-arrow\">preprocessor: ColumnTransformer</label><div class=\"sk-toggleable__content\"><pre>ColumnTransformer(remainder=&#x27;passthrough&#x27;,\n",
       "                  transformers=[(&#x27;pipeline-1&#x27;,\n",
       "                                 Pipeline(steps=[(&#x27;imputer&#x27;, KNNImputer()),\n",
       "                                                 (&#x27;scaler&#x27;, StandardScaler())]),\n",
       "                                 Index([&#x27;Creditscore&#x27;, &#x27;Age&#x27;, &#x27;Tenure&#x27;, &#x27;Balance&#x27;, &#x27;Numofproducts&#x27;,\n",
       "       &#x27;Estimatedsalary&#x27;, &#x27;Balance_sq&#x27;],\n",
       "      dtype=&#x27;object&#x27;)),\n",
       "                                (&#x27;pipeline-2&#x27;,\n",
       "                                 Pipeline(steps=[(&#x27;onehot&#x27;,\n",
       "                                                  OneHotEncoder(drop=&#x27;first&#x27;,\n",
       "                                                                handle_unknown=&#x27;ignore&#x27;))]),\n",
       "                                 [&#x27;Geography&#x27;, &#x27;Gender&#x27;])],\n",
       "                  verbose_feature_names_out=False)</pre></div></div></div><div class=\"sk-parallel\"><div class=\"sk-parallel-item\"><div class=\"sk-item\"><div class=\"sk-label-container\"><div class=\"sk-label sk-toggleable\"><input class=\"sk-toggleable__control sk-hidden--visually\" id=\"sk-estimator-id-463\" type=\"checkbox\" ><label for=\"sk-estimator-id-463\" class=\"sk-toggleable__label sk-toggleable__label-arrow\">pipeline-1</label><div class=\"sk-toggleable__content\"><pre>Index([&#x27;Creditscore&#x27;, &#x27;Age&#x27;, &#x27;Tenure&#x27;, &#x27;Balance&#x27;, &#x27;Numofproducts&#x27;,\n",
       "       &#x27;Estimatedsalary&#x27;, &#x27;Balance_sq&#x27;],\n",
       "      dtype=&#x27;object&#x27;)</pre></div></div></div><div class=\"sk-serial\"><div class=\"sk-item\"><div class=\"sk-serial\"><div class=\"sk-item\"><div class=\"sk-estimator sk-toggleable\"><input class=\"sk-toggleable__control sk-hidden--visually\" id=\"sk-estimator-id-464\" type=\"checkbox\" ><label for=\"sk-estimator-id-464\" class=\"sk-toggleable__label sk-toggleable__label-arrow\">KNNImputer</label><div class=\"sk-toggleable__content\"><pre>KNNImputer()</pre></div></div></div><div class=\"sk-item\"><div class=\"sk-estimator sk-toggleable\"><input class=\"sk-toggleable__control sk-hidden--visually\" id=\"sk-estimator-id-465\" type=\"checkbox\" ><label for=\"sk-estimator-id-465\" class=\"sk-toggleable__label sk-toggleable__label-arrow\">StandardScaler</label><div class=\"sk-toggleable__content\"><pre>StandardScaler()</pre></div></div></div></div></div></div></div></div><div class=\"sk-parallel-item\"><div class=\"sk-item\"><div class=\"sk-label-container\"><div class=\"sk-label sk-toggleable\"><input class=\"sk-toggleable__control sk-hidden--visually\" id=\"sk-estimator-id-466\" type=\"checkbox\" ><label for=\"sk-estimator-id-466\" class=\"sk-toggleable__label sk-toggleable__label-arrow\">pipeline-2</label><div class=\"sk-toggleable__content\"><pre>[&#x27;Geography&#x27;, &#x27;Gender&#x27;]</pre></div></div></div><div class=\"sk-serial\"><div class=\"sk-item\"><div class=\"sk-serial\"><div class=\"sk-item\"><div class=\"sk-estimator sk-toggleable\"><input class=\"sk-toggleable__control sk-hidden--visually\" id=\"sk-estimator-id-467\" type=\"checkbox\" ><label for=\"sk-estimator-id-467\" class=\"sk-toggleable__label sk-toggleable__label-arrow\">OneHotEncoder</label><div class=\"sk-toggleable__content\"><pre>OneHotEncoder(drop=&#x27;first&#x27;, handle_unknown=&#x27;ignore&#x27;)</pre></div></div></div></div></div></div></div></div><div class=\"sk-parallel-item\"><div class=\"sk-item\"><div class=\"sk-label-container\"><div class=\"sk-label sk-toggleable\"><input class=\"sk-toggleable__control sk-hidden--visually\" id=\"sk-estimator-id-468\" type=\"checkbox\" ><label for=\"sk-estimator-id-468\" class=\"sk-toggleable__label sk-toggleable__label-arrow\">remainder</label><div class=\"sk-toggleable__content\"><pre></pre></div></div></div><div class=\"sk-serial\"><div class=\"sk-item\"><div class=\"sk-estimator sk-toggleable\"><input class=\"sk-toggleable__control sk-hidden--visually\" id=\"sk-estimator-id-469\" type=\"checkbox\" ><label for=\"sk-estimator-id-469\" class=\"sk-toggleable__label sk-toggleable__label-arrow\">passthrough</label><div class=\"sk-toggleable__content\"><pre>passthrough</pre></div></div></div></div></div></div></div></div><div class=\"sk-item\"><div class=\"sk-estimator sk-toggleable\"><input class=\"sk-toggleable__control sk-hidden--visually\" id=\"sk-estimator-id-470\" type=\"checkbox\" ><label for=\"sk-estimator-id-470\" class=\"sk-toggleable__label sk-toggleable__label-arrow\">DecisionTreeClassifier</label><div class=\"sk-toggleable__content\"><pre>DecisionTreeClassifier(random_state=42)</pre></div></div></div></div></div></div></div></div></div></div></div></div>"
      ],
      "text/plain": [
       "GridSearchCV(estimator=Pipeline(steps=[('undersampler',\n",
       "                                        RandomUnderSampler(random_state=42)),\n",
       "                                       ('preprocessor',\n",
       "                                        ColumnTransformer(remainder='passthrough',\n",
       "                                                          transformers=[('pipeline-1',\n",
       "                                                                         Pipeline(steps=[('imputer',\n",
       "                                                                                          KNNImputer()),\n",
       "                                                                                         ('scaler',\n",
       "                                                                                          StandardScaler())]),\n",
       "                                                                         Index(['Creditscore', 'Age', 'Tenure', 'Balance', 'Numofproducts',\n",
       "       'Estimatedsalary', 'Balance_sq'],\n",
       "      dtype='object')),\n",
       "                                                                        ('pipeline-2',\n",
       "                                                                         Pipeline(steps=[('onehot',\n",
       "                                                                                          OneHotEncoder(drop='first',\n",
       "                                                                                                        handle_unknown='ignore'))]),\n",
       "                                                                         ['Geography',\n",
       "                                                                          'Gender'])],\n",
       "                                                          verbose_feature_names_out=False)),\n",
       "                                       ('estimation',\n",
       "                                        DecisionTreeClassifier(random_state=42))]),\n",
       "             param_grid={'estimation__max_depth': range(1, 30)}, scoring='f1')"
      ]
     },
     "execution_count": 257,
     "metadata": {},
     "output_type": "execute_result"
    }
   ],
   "source": [
    "# Создаём пайплайн\n",
    "model_tree_u = DecisionTreeClassifier(random_state=42)\n",
    "pipeline_tree_u = Pipeline_imb([('undersampler',undersampler), ('preprocessor',preprocessor), ('estimation',model_tree_u)])\n",
    "\n",
    "param_grid_tree = {\n",
    "    'estimation__max_depth': range(1,30)\n",
    "}\n",
    "\n",
    "gs_tree_u = GridSearchCV(\n",
    "    pipeline_tree_u, \n",
    "    param_grid=param_grid_tree, \n",
    "    scoring='f1',\n",
    ")\n",
    "gs_tree_u.fit(pd.concat([features_train]+[features_valid]), pd.concat([target_train]+[target_valid]))"
   ]
  },
  {
   "cell_type": "code",
   "execution_count": 258,
   "metadata": {},
   "outputs": [
    {
     "data": {
      "text/plain": [
       "0.5516300617995797"
      ]
     },
     "metadata": {},
     "output_type": "display_data"
    },
    {
     "data": {
      "text/plain": [
       "{'estimation__max_depth': 5}"
      ]
     },
     "execution_count": 258,
     "metadata": {},
     "output_type": "execute_result"
    }
   ],
   "source": [
    "# Вывод \n",
    "f1_tree_u = gs_tree_u.best_score_\n",
    "display(f1_tree_u)\n",
    "gs_tree_u.best_params_"
   ]
  },
  {
   "cell_type": "markdown",
   "metadata": {},
   "source": [
    "#### Random forest"
   ]
  },
  {
   "cell_type": "code",
   "execution_count": 259,
   "metadata": {},
   "outputs": [
    {
     "data": {
      "text/html": [
       "<style>#sk-container-id-43 {color: black;background-color: white;}#sk-container-id-43 pre{padding: 0;}#sk-container-id-43 div.sk-toggleable {background-color: white;}#sk-container-id-43 label.sk-toggleable__label {cursor: pointer;display: block;width: 100%;margin-bottom: 0;padding: 0.3em;box-sizing: border-box;text-align: center;}#sk-container-id-43 label.sk-toggleable__label-arrow:before {content: \"▸\";float: left;margin-right: 0.25em;color: #696969;}#sk-container-id-43 label.sk-toggleable__label-arrow:hover:before {color: black;}#sk-container-id-43 div.sk-estimator:hover label.sk-toggleable__label-arrow:before {color: black;}#sk-container-id-43 div.sk-toggleable__content {max-height: 0;max-width: 0;overflow: hidden;text-align: left;background-color: #f0f8ff;}#sk-container-id-43 div.sk-toggleable__content pre {margin: 0.2em;color: black;border-radius: 0.25em;background-color: #f0f8ff;}#sk-container-id-43 input.sk-toggleable__control:checked~div.sk-toggleable__content {max-height: 200px;max-width: 100%;overflow: auto;}#sk-container-id-43 input.sk-toggleable__control:checked~label.sk-toggleable__label-arrow:before {content: \"▾\";}#sk-container-id-43 div.sk-estimator input.sk-toggleable__control:checked~label.sk-toggleable__label {background-color: #d4ebff;}#sk-container-id-43 div.sk-label input.sk-toggleable__control:checked~label.sk-toggleable__label {background-color: #d4ebff;}#sk-container-id-43 input.sk-hidden--visually {border: 0;clip: rect(1px 1px 1px 1px);clip: rect(1px, 1px, 1px, 1px);height: 1px;margin: -1px;overflow: hidden;padding: 0;position: absolute;width: 1px;}#sk-container-id-43 div.sk-estimator {font-family: monospace;background-color: #f0f8ff;border: 1px dotted black;border-radius: 0.25em;box-sizing: border-box;margin-bottom: 0.5em;}#sk-container-id-43 div.sk-estimator:hover {background-color: #d4ebff;}#sk-container-id-43 div.sk-parallel-item::after {content: \"\";width: 100%;border-bottom: 1px solid gray;flex-grow: 1;}#sk-container-id-43 div.sk-label:hover label.sk-toggleable__label {background-color: #d4ebff;}#sk-container-id-43 div.sk-serial::before {content: \"\";position: absolute;border-left: 1px solid gray;box-sizing: border-box;top: 0;bottom: 0;left: 50%;z-index: 0;}#sk-container-id-43 div.sk-serial {display: flex;flex-direction: column;align-items: center;background-color: white;padding-right: 0.2em;padding-left: 0.2em;position: relative;}#sk-container-id-43 div.sk-item {position: relative;z-index: 1;}#sk-container-id-43 div.sk-parallel {display: flex;align-items: stretch;justify-content: center;background-color: white;position: relative;}#sk-container-id-43 div.sk-item::before, #sk-container-id-43 div.sk-parallel-item::before {content: \"\";position: absolute;border-left: 1px solid gray;box-sizing: border-box;top: 0;bottom: 0;left: 50%;z-index: -1;}#sk-container-id-43 div.sk-parallel-item {display: flex;flex-direction: column;z-index: 1;position: relative;background-color: white;}#sk-container-id-43 div.sk-parallel-item:first-child::after {align-self: flex-end;width: 50%;}#sk-container-id-43 div.sk-parallel-item:last-child::after {align-self: flex-start;width: 50%;}#sk-container-id-43 div.sk-parallel-item:only-child::after {width: 0;}#sk-container-id-43 div.sk-dashed-wrapped {border: 1px dashed gray;margin: 0 0.4em 0.5em 0.4em;box-sizing: border-box;padding-bottom: 0.4em;background-color: white;}#sk-container-id-43 div.sk-label label {font-family: monospace;font-weight: bold;display: inline-block;line-height: 1.2em;}#sk-container-id-43 div.sk-label-container {text-align: center;}#sk-container-id-43 div.sk-container {/* jupyter's `normalize.less` sets `[hidden] { display: none; }` but bootstrap.min.css set `[hidden] { display: none !important; }` so we also need the `!important` here to be able to override the default hidden behavior on the sphinx rendered scikit-learn.org. See: https://github.com/scikit-learn/scikit-learn/issues/21755 */display: inline-block !important;position: relative;}#sk-container-id-43 div.sk-text-repr-fallback {display: none;}</style><div id=\"sk-container-id-43\" class=\"sk-top-container\"><div class=\"sk-text-repr-fallback\"><pre>RandomizedSearchCV(estimator=Pipeline(steps=[(&#x27;undersampler&#x27;,\n",
       "                                              RandomUnderSampler(random_state=42)),\n",
       "                                             (&#x27;preprocessor&#x27;,\n",
       "                                              ColumnTransformer(remainder=&#x27;passthrough&#x27;,\n",
       "                                                                transformers=[(&#x27;pipeline-1&#x27;,\n",
       "                                                                               Pipeline(steps=[(&#x27;imputer&#x27;,\n",
       "                                                                                                KNNImputer()),\n",
       "                                                                                               (&#x27;scaler&#x27;,\n",
       "                                                                                                StandardScaler())]),\n",
       "                                                                               Index([&#x27;Creditscore&#x27;, &#x27;Age&#x27;, &#x27;Tenure&#x27;, &#x27;Balance&#x27;, &#x27;Numofproducts&#x27;,\n",
       "       &#x27;Estimatedsalary&#x27;, &#x27;Balance_sq&#x27;],\n",
       "      d...\n",
       "                                                                                                              handle_unknown=&#x27;ignore&#x27;))]),\n",
       "                                                                               [&#x27;Geography&#x27;,\n",
       "                                                                                &#x27;Gender&#x27;])],\n",
       "                                                                verbose_feature_names_out=False)),\n",
       "                                             (&#x27;estimation&#x27;,\n",
       "                                              RandomForestClassifier(random_state=42))]),\n",
       "                   param_distributions={&#x27;estimation__max_depth&#x27;: range(2, 15),\n",
       "                                        &#x27;estimation__min_samples_leaf&#x27;: (1, 2,\n",
       "                                                                         3, 4),\n",
       "                                        &#x27;estimation__min_samples_split&#x27;: (2, 3,\n",
       "                                                                          4),\n",
       "                                        &#x27;estimation__n_estimators&#x27;: range(10, 110, 30)},\n",
       "                   random_state=42, scoring=&#x27;f1&#x27;)</pre><b>In a Jupyter environment, please rerun this cell to show the HTML representation or trust the notebook. <br />On GitHub, the HTML representation is unable to render, please try loading this page with nbviewer.org.</b></div><div class=\"sk-container\" hidden><div class=\"sk-item sk-dashed-wrapped\"><div class=\"sk-label-container\"><div class=\"sk-label sk-toggleable\"><input class=\"sk-toggleable__control sk-hidden--visually\" id=\"sk-estimator-id-471\" type=\"checkbox\" ><label for=\"sk-estimator-id-471\" class=\"sk-toggleable__label sk-toggleable__label-arrow\">RandomizedSearchCV</label><div class=\"sk-toggleable__content\"><pre>RandomizedSearchCV(estimator=Pipeline(steps=[(&#x27;undersampler&#x27;,\n",
       "                                              RandomUnderSampler(random_state=42)),\n",
       "                                             (&#x27;preprocessor&#x27;,\n",
       "                                              ColumnTransformer(remainder=&#x27;passthrough&#x27;,\n",
       "                                                                transformers=[(&#x27;pipeline-1&#x27;,\n",
       "                                                                               Pipeline(steps=[(&#x27;imputer&#x27;,\n",
       "                                                                                                KNNImputer()),\n",
       "                                                                                               (&#x27;scaler&#x27;,\n",
       "                                                                                                StandardScaler())]),\n",
       "                                                                               Index([&#x27;Creditscore&#x27;, &#x27;Age&#x27;, &#x27;Tenure&#x27;, &#x27;Balance&#x27;, &#x27;Numofproducts&#x27;,\n",
       "       &#x27;Estimatedsalary&#x27;, &#x27;Balance_sq&#x27;],\n",
       "      d...\n",
       "                                                                                                              handle_unknown=&#x27;ignore&#x27;))]),\n",
       "                                                                               [&#x27;Geography&#x27;,\n",
       "                                                                                &#x27;Gender&#x27;])],\n",
       "                                                                verbose_feature_names_out=False)),\n",
       "                                             (&#x27;estimation&#x27;,\n",
       "                                              RandomForestClassifier(random_state=42))]),\n",
       "                   param_distributions={&#x27;estimation__max_depth&#x27;: range(2, 15),\n",
       "                                        &#x27;estimation__min_samples_leaf&#x27;: (1, 2,\n",
       "                                                                         3, 4),\n",
       "                                        &#x27;estimation__min_samples_split&#x27;: (2, 3,\n",
       "                                                                          4),\n",
       "                                        &#x27;estimation__n_estimators&#x27;: range(10, 110, 30)},\n",
       "                   random_state=42, scoring=&#x27;f1&#x27;)</pre></div></div></div><div class=\"sk-parallel\"><div class=\"sk-parallel-item\"><div class=\"sk-item\"><div class=\"sk-label-container\"><div class=\"sk-label sk-toggleable\"><input class=\"sk-toggleable__control sk-hidden--visually\" id=\"sk-estimator-id-472\" type=\"checkbox\" ><label for=\"sk-estimator-id-472\" class=\"sk-toggleable__label sk-toggleable__label-arrow\">estimator: Pipeline</label><div class=\"sk-toggleable__content\"><pre>Pipeline(steps=[(&#x27;undersampler&#x27;, RandomUnderSampler(random_state=42)),\n",
       "                (&#x27;preprocessor&#x27;,\n",
       "                 ColumnTransformer(remainder=&#x27;passthrough&#x27;,\n",
       "                                   transformers=[(&#x27;pipeline-1&#x27;,\n",
       "                                                  Pipeline(steps=[(&#x27;imputer&#x27;,\n",
       "                                                                   KNNImputer()),\n",
       "                                                                  (&#x27;scaler&#x27;,\n",
       "                                                                   StandardScaler())]),\n",
       "                                                  Index([&#x27;Creditscore&#x27;, &#x27;Age&#x27;, &#x27;Tenure&#x27;, &#x27;Balance&#x27;, &#x27;Numofproducts&#x27;,\n",
       "       &#x27;Estimatedsalary&#x27;, &#x27;Balance_sq&#x27;],\n",
       "      dtype=&#x27;object&#x27;)),\n",
       "                                                 (&#x27;pipeline-2&#x27;,\n",
       "                                                  Pipeline(steps=[(&#x27;onehot&#x27;,\n",
       "                                                                   OneHotEncoder(drop=&#x27;first&#x27;,\n",
       "                                                                                 handle_unknown=&#x27;ignore&#x27;))]),\n",
       "                                                  [&#x27;Geography&#x27;, &#x27;Gender&#x27;])],\n",
       "                                   verbose_feature_names_out=False)),\n",
       "                (&#x27;estimation&#x27;, RandomForestClassifier(random_state=42))])</pre></div></div></div><div class=\"sk-serial\"><div class=\"sk-item\"><div class=\"sk-serial\"><div class=\"sk-item\"><div class=\"sk-estimator sk-toggleable\"><input class=\"sk-toggleable__control sk-hidden--visually\" id=\"sk-estimator-id-473\" type=\"checkbox\" ><label for=\"sk-estimator-id-473\" class=\"sk-toggleable__label sk-toggleable__label-arrow\">RandomUnderSampler</label><div class=\"sk-toggleable__content\"><pre>RandomUnderSampler(random_state=42)</pre></div></div></div><div class=\"sk-item sk-dashed-wrapped\"><div class=\"sk-label-container\"><div class=\"sk-label sk-toggleable\"><input class=\"sk-toggleable__control sk-hidden--visually\" id=\"sk-estimator-id-474\" type=\"checkbox\" ><label for=\"sk-estimator-id-474\" class=\"sk-toggleable__label sk-toggleable__label-arrow\">preprocessor: ColumnTransformer</label><div class=\"sk-toggleable__content\"><pre>ColumnTransformer(remainder=&#x27;passthrough&#x27;,\n",
       "                  transformers=[(&#x27;pipeline-1&#x27;,\n",
       "                                 Pipeline(steps=[(&#x27;imputer&#x27;, KNNImputer()),\n",
       "                                                 (&#x27;scaler&#x27;, StandardScaler())]),\n",
       "                                 Index([&#x27;Creditscore&#x27;, &#x27;Age&#x27;, &#x27;Tenure&#x27;, &#x27;Balance&#x27;, &#x27;Numofproducts&#x27;,\n",
       "       &#x27;Estimatedsalary&#x27;, &#x27;Balance_sq&#x27;],\n",
       "      dtype=&#x27;object&#x27;)),\n",
       "                                (&#x27;pipeline-2&#x27;,\n",
       "                                 Pipeline(steps=[(&#x27;onehot&#x27;,\n",
       "                                                  OneHotEncoder(drop=&#x27;first&#x27;,\n",
       "                                                                handle_unknown=&#x27;ignore&#x27;))]),\n",
       "                                 [&#x27;Geography&#x27;, &#x27;Gender&#x27;])],\n",
       "                  verbose_feature_names_out=False)</pre></div></div></div><div class=\"sk-parallel\"><div class=\"sk-parallel-item\"><div class=\"sk-item\"><div class=\"sk-label-container\"><div class=\"sk-label sk-toggleable\"><input class=\"sk-toggleable__control sk-hidden--visually\" id=\"sk-estimator-id-475\" type=\"checkbox\" ><label for=\"sk-estimator-id-475\" class=\"sk-toggleable__label sk-toggleable__label-arrow\">pipeline-1</label><div class=\"sk-toggleable__content\"><pre>Index([&#x27;Creditscore&#x27;, &#x27;Age&#x27;, &#x27;Tenure&#x27;, &#x27;Balance&#x27;, &#x27;Numofproducts&#x27;,\n",
       "       &#x27;Estimatedsalary&#x27;, &#x27;Balance_sq&#x27;],\n",
       "      dtype=&#x27;object&#x27;)</pre></div></div></div><div class=\"sk-serial\"><div class=\"sk-item\"><div class=\"sk-serial\"><div class=\"sk-item\"><div class=\"sk-estimator sk-toggleable\"><input class=\"sk-toggleable__control sk-hidden--visually\" id=\"sk-estimator-id-476\" type=\"checkbox\" ><label for=\"sk-estimator-id-476\" class=\"sk-toggleable__label sk-toggleable__label-arrow\">KNNImputer</label><div class=\"sk-toggleable__content\"><pre>KNNImputer()</pre></div></div></div><div class=\"sk-item\"><div class=\"sk-estimator sk-toggleable\"><input class=\"sk-toggleable__control sk-hidden--visually\" id=\"sk-estimator-id-477\" type=\"checkbox\" ><label for=\"sk-estimator-id-477\" class=\"sk-toggleable__label sk-toggleable__label-arrow\">StandardScaler</label><div class=\"sk-toggleable__content\"><pre>StandardScaler()</pre></div></div></div></div></div></div></div></div><div class=\"sk-parallel-item\"><div class=\"sk-item\"><div class=\"sk-label-container\"><div class=\"sk-label sk-toggleable\"><input class=\"sk-toggleable__control sk-hidden--visually\" id=\"sk-estimator-id-478\" type=\"checkbox\" ><label for=\"sk-estimator-id-478\" class=\"sk-toggleable__label sk-toggleable__label-arrow\">pipeline-2</label><div class=\"sk-toggleable__content\"><pre>[&#x27;Geography&#x27;, &#x27;Gender&#x27;]</pre></div></div></div><div class=\"sk-serial\"><div class=\"sk-item\"><div class=\"sk-serial\"><div class=\"sk-item\"><div class=\"sk-estimator sk-toggleable\"><input class=\"sk-toggleable__control sk-hidden--visually\" id=\"sk-estimator-id-479\" type=\"checkbox\" ><label for=\"sk-estimator-id-479\" class=\"sk-toggleable__label sk-toggleable__label-arrow\">OneHotEncoder</label><div class=\"sk-toggleable__content\"><pre>OneHotEncoder(drop=&#x27;first&#x27;, handle_unknown=&#x27;ignore&#x27;)</pre></div></div></div></div></div></div></div></div><div class=\"sk-parallel-item\"><div class=\"sk-item\"><div class=\"sk-label-container\"><div class=\"sk-label sk-toggleable\"><input class=\"sk-toggleable__control sk-hidden--visually\" id=\"sk-estimator-id-480\" type=\"checkbox\" ><label for=\"sk-estimator-id-480\" class=\"sk-toggleable__label sk-toggleable__label-arrow\">remainder</label><div class=\"sk-toggleable__content\"><pre></pre></div></div></div><div class=\"sk-serial\"><div class=\"sk-item\"><div class=\"sk-estimator sk-toggleable\"><input class=\"sk-toggleable__control sk-hidden--visually\" id=\"sk-estimator-id-481\" type=\"checkbox\" ><label for=\"sk-estimator-id-481\" class=\"sk-toggleable__label sk-toggleable__label-arrow\">passthrough</label><div class=\"sk-toggleable__content\"><pre>passthrough</pre></div></div></div></div></div></div></div></div><div class=\"sk-item\"><div class=\"sk-estimator sk-toggleable\"><input class=\"sk-toggleable__control sk-hidden--visually\" id=\"sk-estimator-id-482\" type=\"checkbox\" ><label for=\"sk-estimator-id-482\" class=\"sk-toggleable__label sk-toggleable__label-arrow\">RandomForestClassifier</label><div class=\"sk-toggleable__content\"><pre>RandomForestClassifier(random_state=42)</pre></div></div></div></div></div></div></div></div></div></div></div></div>"
      ],
      "text/plain": [
       "RandomizedSearchCV(estimator=Pipeline(steps=[('undersampler',\n",
       "                                              RandomUnderSampler(random_state=42)),\n",
       "                                             ('preprocessor',\n",
       "                                              ColumnTransformer(remainder='passthrough',\n",
       "                                                                transformers=[('pipeline-1',\n",
       "                                                                               Pipeline(steps=[('imputer',\n",
       "                                                                                                KNNImputer()),\n",
       "                                                                                               ('scaler',\n",
       "                                                                                                StandardScaler())]),\n",
       "                                                                               Index(['Creditscore', 'Age', 'Tenure', 'Balance', 'Numofproducts',\n",
       "       'Estimatedsalary', 'Balance_sq'],\n",
       "      d...\n",
       "                                                                                                              handle_unknown='ignore'))]),\n",
       "                                                                               ['Geography',\n",
       "                                                                                'Gender'])],\n",
       "                                                                verbose_feature_names_out=False)),\n",
       "                                             ('estimation',\n",
       "                                              RandomForestClassifier(random_state=42))]),\n",
       "                   param_distributions={'estimation__max_depth': range(2, 15),\n",
       "                                        'estimation__min_samples_leaf': (1, 2,\n",
       "                                                                         3, 4),\n",
       "                                        'estimation__min_samples_split': (2, 3,\n",
       "                                                                          4),\n",
       "                                        'estimation__n_estimators': range(10, 110, 30)},\n",
       "                   random_state=42, scoring='f1')"
      ]
     },
     "execution_count": 259,
     "metadata": {},
     "output_type": "execute_result"
    }
   ],
   "source": [
    "# Создаём пайплайн\n",
    "model_forest_u = RandomForestClassifier(random_state=42)\n",
    "pipeline_forest_u = Pipeline_imb([('undersampler',undersampler), ('preprocessor',preprocessor), ('estimation',model_forest_u)])\n",
    "\n",
    "param_grid_forest = {\n",
    "    'estimation__n_estimators': range(10, 110, 30),\n",
    "    'estimation__max_depth': range(2, 15),\n",
    "    'estimation__min_samples_split': (2, 3, 4),\n",
    "    'estimation__min_samples_leaf': (1, 2, 3, 4)\n",
    "}\n",
    "\n",
    "\n",
    "gs_forest_u = RandomizedSearchCV(\n",
    "    pipeline_forest_u, \n",
    "    param_distributions=param_grid_forest, \n",
    "    scoring='f1', \n",
    "    random_state=42\n",
    ")\n",
    "\n",
    "gs_forest_u.fit(pd.concat([features_train]+[features_valid]), pd.concat([target_train]+[target_valid]))"
   ]
  },
  {
   "cell_type": "code",
   "execution_count": 260,
   "metadata": {},
   "outputs": [
    {
     "data": {
      "text/plain": [
       "0.5880377852393092"
      ]
     },
     "metadata": {},
     "output_type": "display_data"
    },
    {
     "data": {
      "text/plain": [
       "{'estimation__n_estimators': 100,\n",
       " 'estimation__min_samples_split': 4,\n",
       " 'estimation__min_samples_leaf': 2,\n",
       " 'estimation__max_depth': 6}"
      ]
     },
     "execution_count": 260,
     "metadata": {},
     "output_type": "execute_result"
    }
   ],
   "source": [
    "# Вывод \n",
    "f1_forest_u = gs_forest_u.best_score_\n",
    "display(gs_forest_u.best_score_)\n",
    "gs_forest_u.best_params_"
   ]
  },
  {
   "cell_type": "markdown",
   "metadata": {},
   "source": [
    "#### Logistic Regression"
   ]
  },
  {
   "cell_type": "code",
   "execution_count": 261,
   "metadata": {},
   "outputs": [
    {
     "data": {
      "text/html": [
       "<style>#sk-container-id-44 {color: black;background-color: white;}#sk-container-id-44 pre{padding: 0;}#sk-container-id-44 div.sk-toggleable {background-color: white;}#sk-container-id-44 label.sk-toggleable__label {cursor: pointer;display: block;width: 100%;margin-bottom: 0;padding: 0.3em;box-sizing: border-box;text-align: center;}#sk-container-id-44 label.sk-toggleable__label-arrow:before {content: \"▸\";float: left;margin-right: 0.25em;color: #696969;}#sk-container-id-44 label.sk-toggleable__label-arrow:hover:before {color: black;}#sk-container-id-44 div.sk-estimator:hover label.sk-toggleable__label-arrow:before {color: black;}#sk-container-id-44 div.sk-toggleable__content {max-height: 0;max-width: 0;overflow: hidden;text-align: left;background-color: #f0f8ff;}#sk-container-id-44 div.sk-toggleable__content pre {margin: 0.2em;color: black;border-radius: 0.25em;background-color: #f0f8ff;}#sk-container-id-44 input.sk-toggleable__control:checked~div.sk-toggleable__content {max-height: 200px;max-width: 100%;overflow: auto;}#sk-container-id-44 input.sk-toggleable__control:checked~label.sk-toggleable__label-arrow:before {content: \"▾\";}#sk-container-id-44 div.sk-estimator input.sk-toggleable__control:checked~label.sk-toggleable__label {background-color: #d4ebff;}#sk-container-id-44 div.sk-label input.sk-toggleable__control:checked~label.sk-toggleable__label {background-color: #d4ebff;}#sk-container-id-44 input.sk-hidden--visually {border: 0;clip: rect(1px 1px 1px 1px);clip: rect(1px, 1px, 1px, 1px);height: 1px;margin: -1px;overflow: hidden;padding: 0;position: absolute;width: 1px;}#sk-container-id-44 div.sk-estimator {font-family: monospace;background-color: #f0f8ff;border: 1px dotted black;border-radius: 0.25em;box-sizing: border-box;margin-bottom: 0.5em;}#sk-container-id-44 div.sk-estimator:hover {background-color: #d4ebff;}#sk-container-id-44 div.sk-parallel-item::after {content: \"\";width: 100%;border-bottom: 1px solid gray;flex-grow: 1;}#sk-container-id-44 div.sk-label:hover label.sk-toggleable__label {background-color: #d4ebff;}#sk-container-id-44 div.sk-serial::before {content: \"\";position: absolute;border-left: 1px solid gray;box-sizing: border-box;top: 0;bottom: 0;left: 50%;z-index: 0;}#sk-container-id-44 div.sk-serial {display: flex;flex-direction: column;align-items: center;background-color: white;padding-right: 0.2em;padding-left: 0.2em;position: relative;}#sk-container-id-44 div.sk-item {position: relative;z-index: 1;}#sk-container-id-44 div.sk-parallel {display: flex;align-items: stretch;justify-content: center;background-color: white;position: relative;}#sk-container-id-44 div.sk-item::before, #sk-container-id-44 div.sk-parallel-item::before {content: \"\";position: absolute;border-left: 1px solid gray;box-sizing: border-box;top: 0;bottom: 0;left: 50%;z-index: -1;}#sk-container-id-44 div.sk-parallel-item {display: flex;flex-direction: column;z-index: 1;position: relative;background-color: white;}#sk-container-id-44 div.sk-parallel-item:first-child::after {align-self: flex-end;width: 50%;}#sk-container-id-44 div.sk-parallel-item:last-child::after {align-self: flex-start;width: 50%;}#sk-container-id-44 div.sk-parallel-item:only-child::after {width: 0;}#sk-container-id-44 div.sk-dashed-wrapped {border: 1px dashed gray;margin: 0 0.4em 0.5em 0.4em;box-sizing: border-box;padding-bottom: 0.4em;background-color: white;}#sk-container-id-44 div.sk-label label {font-family: monospace;font-weight: bold;display: inline-block;line-height: 1.2em;}#sk-container-id-44 div.sk-label-container {text-align: center;}#sk-container-id-44 div.sk-container {/* jupyter's `normalize.less` sets `[hidden] { display: none; }` but bootstrap.min.css set `[hidden] { display: none !important; }` so we also need the `!important` here to be able to override the default hidden behavior on the sphinx rendered scikit-learn.org. See: https://github.com/scikit-learn/scikit-learn/issues/21755 */display: inline-block !important;position: relative;}#sk-container-id-44 div.sk-text-repr-fallback {display: none;}</style><div id=\"sk-container-id-44\" class=\"sk-top-container\"><div class=\"sk-text-repr-fallback\"><pre>RandomizedSearchCV(estimator=Pipeline(steps=[(&#x27;undersampler&#x27;,\n",
       "                                              RandomUnderSampler(random_state=42)),\n",
       "                                             (&#x27;preprocessor&#x27;,\n",
       "                                              ColumnTransformer(remainder=&#x27;passthrough&#x27;,\n",
       "                                                                transformers=[(&#x27;pipeline-1&#x27;,\n",
       "                                                                               Pipeline(steps=[(&#x27;imputer&#x27;,\n",
       "                                                                                                KNNImputer()),\n",
       "                                                                                               (&#x27;scaler&#x27;,\n",
       "                                                                                                StandardScaler())]),\n",
       "                                                                               Index([&#x27;Creditscore&#x27;, &#x27;Age&#x27;, &#x27;Tenure&#x27;, &#x27;Balance&#x27;, &#x27;Numofproducts&#x27;,\n",
       "       &#x27;Estimatedsalary&#x27;, &#x27;Balance_sq&#x27;],\n",
       "      d...\n",
       "                                                                                                              handle_unknown=&#x27;ignore&#x27;))]),\n",
       "                                                                               [&#x27;Geography&#x27;,\n",
       "                                                                                &#x27;Gender&#x27;])],\n",
       "                                                                verbose_feature_names_out=False)),\n",
       "                                             (&#x27;estimation&#x27;,\n",
       "                                              LogisticRegression(random_state=42))]),\n",
       "                   param_distributions={&#x27;estimation__C&#x27;: array([1.e-03, 1.e-02, 1.e-01, 1.e+00, 1.e+01, 1.e+02, 1.e+03]),\n",
       "                                        &#x27;estimation__penalty&#x27;: [&#x27;l1&#x27;, &#x27;l2&#x27;],\n",
       "                                        &#x27;estimation__solver&#x27;: [&#x27;newton-cg&#x27;,\n",
       "                                                               &#x27;lbfgs&#x27;,\n",
       "                                                               &#x27;liblinear&#x27;]},\n",
       "                   random_state=42, scoring=&#x27;f1&#x27;)</pre><b>In a Jupyter environment, please rerun this cell to show the HTML representation or trust the notebook. <br />On GitHub, the HTML representation is unable to render, please try loading this page with nbviewer.org.</b></div><div class=\"sk-container\" hidden><div class=\"sk-item sk-dashed-wrapped\"><div class=\"sk-label-container\"><div class=\"sk-label sk-toggleable\"><input class=\"sk-toggleable__control sk-hidden--visually\" id=\"sk-estimator-id-483\" type=\"checkbox\" ><label for=\"sk-estimator-id-483\" class=\"sk-toggleable__label sk-toggleable__label-arrow\">RandomizedSearchCV</label><div class=\"sk-toggleable__content\"><pre>RandomizedSearchCV(estimator=Pipeline(steps=[(&#x27;undersampler&#x27;,\n",
       "                                              RandomUnderSampler(random_state=42)),\n",
       "                                             (&#x27;preprocessor&#x27;,\n",
       "                                              ColumnTransformer(remainder=&#x27;passthrough&#x27;,\n",
       "                                                                transformers=[(&#x27;pipeline-1&#x27;,\n",
       "                                                                               Pipeline(steps=[(&#x27;imputer&#x27;,\n",
       "                                                                                                KNNImputer()),\n",
       "                                                                                               (&#x27;scaler&#x27;,\n",
       "                                                                                                StandardScaler())]),\n",
       "                                                                               Index([&#x27;Creditscore&#x27;, &#x27;Age&#x27;, &#x27;Tenure&#x27;, &#x27;Balance&#x27;, &#x27;Numofproducts&#x27;,\n",
       "       &#x27;Estimatedsalary&#x27;, &#x27;Balance_sq&#x27;],\n",
       "      d...\n",
       "                                                                                                              handle_unknown=&#x27;ignore&#x27;))]),\n",
       "                                                                               [&#x27;Geography&#x27;,\n",
       "                                                                                &#x27;Gender&#x27;])],\n",
       "                                                                verbose_feature_names_out=False)),\n",
       "                                             (&#x27;estimation&#x27;,\n",
       "                                              LogisticRegression(random_state=42))]),\n",
       "                   param_distributions={&#x27;estimation__C&#x27;: array([1.e-03, 1.e-02, 1.e-01, 1.e+00, 1.e+01, 1.e+02, 1.e+03]),\n",
       "                                        &#x27;estimation__penalty&#x27;: [&#x27;l1&#x27;, &#x27;l2&#x27;],\n",
       "                                        &#x27;estimation__solver&#x27;: [&#x27;newton-cg&#x27;,\n",
       "                                                               &#x27;lbfgs&#x27;,\n",
       "                                                               &#x27;liblinear&#x27;]},\n",
       "                   random_state=42, scoring=&#x27;f1&#x27;)</pre></div></div></div><div class=\"sk-parallel\"><div class=\"sk-parallel-item\"><div class=\"sk-item\"><div class=\"sk-label-container\"><div class=\"sk-label sk-toggleable\"><input class=\"sk-toggleable__control sk-hidden--visually\" id=\"sk-estimator-id-484\" type=\"checkbox\" ><label for=\"sk-estimator-id-484\" class=\"sk-toggleable__label sk-toggleable__label-arrow\">estimator: Pipeline</label><div class=\"sk-toggleable__content\"><pre>Pipeline(steps=[(&#x27;undersampler&#x27;, RandomUnderSampler(random_state=42)),\n",
       "                (&#x27;preprocessor&#x27;,\n",
       "                 ColumnTransformer(remainder=&#x27;passthrough&#x27;,\n",
       "                                   transformers=[(&#x27;pipeline-1&#x27;,\n",
       "                                                  Pipeline(steps=[(&#x27;imputer&#x27;,\n",
       "                                                                   KNNImputer()),\n",
       "                                                                  (&#x27;scaler&#x27;,\n",
       "                                                                   StandardScaler())]),\n",
       "                                                  Index([&#x27;Creditscore&#x27;, &#x27;Age&#x27;, &#x27;Tenure&#x27;, &#x27;Balance&#x27;, &#x27;Numofproducts&#x27;,\n",
       "       &#x27;Estimatedsalary&#x27;, &#x27;Balance_sq&#x27;],\n",
       "      dtype=&#x27;object&#x27;)),\n",
       "                                                 (&#x27;pipeline-2&#x27;,\n",
       "                                                  Pipeline(steps=[(&#x27;onehot&#x27;,\n",
       "                                                                   OneHotEncoder(drop=&#x27;first&#x27;,\n",
       "                                                                                 handle_unknown=&#x27;ignore&#x27;))]),\n",
       "                                                  [&#x27;Geography&#x27;, &#x27;Gender&#x27;])],\n",
       "                                   verbose_feature_names_out=False)),\n",
       "                (&#x27;estimation&#x27;, LogisticRegression(random_state=42))])</pre></div></div></div><div class=\"sk-serial\"><div class=\"sk-item\"><div class=\"sk-serial\"><div class=\"sk-item\"><div class=\"sk-estimator sk-toggleable\"><input class=\"sk-toggleable__control sk-hidden--visually\" id=\"sk-estimator-id-485\" type=\"checkbox\" ><label for=\"sk-estimator-id-485\" class=\"sk-toggleable__label sk-toggleable__label-arrow\">RandomUnderSampler</label><div class=\"sk-toggleable__content\"><pre>RandomUnderSampler(random_state=42)</pre></div></div></div><div class=\"sk-item sk-dashed-wrapped\"><div class=\"sk-label-container\"><div class=\"sk-label sk-toggleable\"><input class=\"sk-toggleable__control sk-hidden--visually\" id=\"sk-estimator-id-486\" type=\"checkbox\" ><label for=\"sk-estimator-id-486\" class=\"sk-toggleable__label sk-toggleable__label-arrow\">preprocessor: ColumnTransformer</label><div class=\"sk-toggleable__content\"><pre>ColumnTransformer(remainder=&#x27;passthrough&#x27;,\n",
       "                  transformers=[(&#x27;pipeline-1&#x27;,\n",
       "                                 Pipeline(steps=[(&#x27;imputer&#x27;, KNNImputer()),\n",
       "                                                 (&#x27;scaler&#x27;, StandardScaler())]),\n",
       "                                 Index([&#x27;Creditscore&#x27;, &#x27;Age&#x27;, &#x27;Tenure&#x27;, &#x27;Balance&#x27;, &#x27;Numofproducts&#x27;,\n",
       "       &#x27;Estimatedsalary&#x27;, &#x27;Balance_sq&#x27;],\n",
       "      dtype=&#x27;object&#x27;)),\n",
       "                                (&#x27;pipeline-2&#x27;,\n",
       "                                 Pipeline(steps=[(&#x27;onehot&#x27;,\n",
       "                                                  OneHotEncoder(drop=&#x27;first&#x27;,\n",
       "                                                                handle_unknown=&#x27;ignore&#x27;))]),\n",
       "                                 [&#x27;Geography&#x27;, &#x27;Gender&#x27;])],\n",
       "                  verbose_feature_names_out=False)</pre></div></div></div><div class=\"sk-parallel\"><div class=\"sk-parallel-item\"><div class=\"sk-item\"><div class=\"sk-label-container\"><div class=\"sk-label sk-toggleable\"><input class=\"sk-toggleable__control sk-hidden--visually\" id=\"sk-estimator-id-487\" type=\"checkbox\" ><label for=\"sk-estimator-id-487\" class=\"sk-toggleable__label sk-toggleable__label-arrow\">pipeline-1</label><div class=\"sk-toggleable__content\"><pre>Index([&#x27;Creditscore&#x27;, &#x27;Age&#x27;, &#x27;Tenure&#x27;, &#x27;Balance&#x27;, &#x27;Numofproducts&#x27;,\n",
       "       &#x27;Estimatedsalary&#x27;, &#x27;Balance_sq&#x27;],\n",
       "      dtype=&#x27;object&#x27;)</pre></div></div></div><div class=\"sk-serial\"><div class=\"sk-item\"><div class=\"sk-serial\"><div class=\"sk-item\"><div class=\"sk-estimator sk-toggleable\"><input class=\"sk-toggleable__control sk-hidden--visually\" id=\"sk-estimator-id-488\" type=\"checkbox\" ><label for=\"sk-estimator-id-488\" class=\"sk-toggleable__label sk-toggleable__label-arrow\">KNNImputer</label><div class=\"sk-toggleable__content\"><pre>KNNImputer()</pre></div></div></div><div class=\"sk-item\"><div class=\"sk-estimator sk-toggleable\"><input class=\"sk-toggleable__control sk-hidden--visually\" id=\"sk-estimator-id-489\" type=\"checkbox\" ><label for=\"sk-estimator-id-489\" class=\"sk-toggleable__label sk-toggleable__label-arrow\">StandardScaler</label><div class=\"sk-toggleable__content\"><pre>StandardScaler()</pre></div></div></div></div></div></div></div></div><div class=\"sk-parallel-item\"><div class=\"sk-item\"><div class=\"sk-label-container\"><div class=\"sk-label sk-toggleable\"><input class=\"sk-toggleable__control sk-hidden--visually\" id=\"sk-estimator-id-490\" type=\"checkbox\" ><label for=\"sk-estimator-id-490\" class=\"sk-toggleable__label sk-toggleable__label-arrow\">pipeline-2</label><div class=\"sk-toggleable__content\"><pre>[&#x27;Geography&#x27;, &#x27;Gender&#x27;]</pre></div></div></div><div class=\"sk-serial\"><div class=\"sk-item\"><div class=\"sk-serial\"><div class=\"sk-item\"><div class=\"sk-estimator sk-toggleable\"><input class=\"sk-toggleable__control sk-hidden--visually\" id=\"sk-estimator-id-491\" type=\"checkbox\" ><label for=\"sk-estimator-id-491\" class=\"sk-toggleable__label sk-toggleable__label-arrow\">OneHotEncoder</label><div class=\"sk-toggleable__content\"><pre>OneHotEncoder(drop=&#x27;first&#x27;, handle_unknown=&#x27;ignore&#x27;)</pre></div></div></div></div></div></div></div></div><div class=\"sk-parallel-item\"><div class=\"sk-item\"><div class=\"sk-label-container\"><div class=\"sk-label sk-toggleable\"><input class=\"sk-toggleable__control sk-hidden--visually\" id=\"sk-estimator-id-492\" type=\"checkbox\" ><label for=\"sk-estimator-id-492\" class=\"sk-toggleable__label sk-toggleable__label-arrow\">remainder</label><div class=\"sk-toggleable__content\"><pre></pre></div></div></div><div class=\"sk-serial\"><div class=\"sk-item\"><div class=\"sk-estimator sk-toggleable\"><input class=\"sk-toggleable__control sk-hidden--visually\" id=\"sk-estimator-id-493\" type=\"checkbox\" ><label for=\"sk-estimator-id-493\" class=\"sk-toggleable__label sk-toggleable__label-arrow\">passthrough</label><div class=\"sk-toggleable__content\"><pre>passthrough</pre></div></div></div></div></div></div></div></div><div class=\"sk-item\"><div class=\"sk-estimator sk-toggleable\"><input class=\"sk-toggleable__control sk-hidden--visually\" id=\"sk-estimator-id-494\" type=\"checkbox\" ><label for=\"sk-estimator-id-494\" class=\"sk-toggleable__label sk-toggleable__label-arrow\">LogisticRegression</label><div class=\"sk-toggleable__content\"><pre>LogisticRegression(random_state=42)</pre></div></div></div></div></div></div></div></div></div></div></div></div>"
      ],
      "text/plain": [
       "RandomizedSearchCV(estimator=Pipeline(steps=[('undersampler',\n",
       "                                              RandomUnderSampler(random_state=42)),\n",
       "                                             ('preprocessor',\n",
       "                                              ColumnTransformer(remainder='passthrough',\n",
       "                                                                transformers=[('pipeline-1',\n",
       "                                                                               Pipeline(steps=[('imputer',\n",
       "                                                                                                KNNImputer()),\n",
       "                                                                                               ('scaler',\n",
       "                                                                                                StandardScaler())]),\n",
       "                                                                               Index(['Creditscore', 'Age', 'Tenure', 'Balance', 'Numofproducts',\n",
       "       'Estimatedsalary', 'Balance_sq'],\n",
       "      d...\n",
       "                                                                                                              handle_unknown='ignore'))]),\n",
       "                                                                               ['Geography',\n",
       "                                                                                'Gender'])],\n",
       "                                                                verbose_feature_names_out=False)),\n",
       "                                             ('estimation',\n",
       "                                              LogisticRegression(random_state=42))]),\n",
       "                   param_distributions={'estimation__C': array([1.e-03, 1.e-02, 1.e-01, 1.e+00, 1.e+01, 1.e+02, 1.e+03]),\n",
       "                                        'estimation__penalty': ['l1', 'l2'],\n",
       "                                        'estimation__solver': ['newton-cg',\n",
       "                                                               'lbfgs',\n",
       "                                                               'liblinear']},\n",
       "                   random_state=42, scoring='f1')"
      ]
     },
     "execution_count": 261,
     "metadata": {},
     "output_type": "execute_result"
    }
   ],
   "source": [
    "# Создаём пайплайн\n",
    "model_logit_u = LogisticRegression(random_state=42)\n",
    "pipeline_logit_u = Pipeline_imb([('undersampler',undersampler), ('preprocessor',preprocessor), ('estimation',model_logit_u)])\n",
    "\n",
    "param_grid_logit = {\n",
    "    'estimation__penalty' : ['l1','l2'], \n",
    "    'estimation__C'       : np.logspace(-3,3,7),\n",
    "    'estimation__solver'  : ['newton-cg', 'lbfgs', 'liblinear'],\n",
    "}\n",
    "\n",
    "gs_logit_u = RandomizedSearchCV(\n",
    "    pipeline_logit_u, \n",
    "    param_distributions=param_grid_logit, \n",
    "    scoring='f1',\n",
    "    random_state=42,\n",
    ")\n",
    "\n",
    "gs_logit_u.fit(pd.concat([features_train]+[features_valid]), pd.concat([target_train]+[target_valid]))"
   ]
  },
  {
   "cell_type": "code",
   "execution_count": 262,
   "metadata": {},
   "outputs": [
    {
     "data": {
      "text/plain": [
       "0.4901900023706426"
      ]
     },
     "metadata": {},
     "output_type": "display_data"
    },
    {
     "data": {
      "text/plain": [
       "{'estimation__solver': 'liblinear',\n",
       " 'estimation__penalty': 'l1',\n",
       " 'estimation__C': 0.01}"
      ]
     },
     "execution_count": 262,
     "metadata": {},
     "output_type": "execute_result"
    }
   ],
   "source": [
    "# Смотрю на результаты\n",
    "f1_logit_u = gs_logit_u.best_score_\n",
    "display(f1_logit_u)\n",
    "gs_logit_u.best_params_"
   ]
  },
  {
   "cell_type": "markdown",
   "metadata": {},
   "source": [
    "### Upsampling"
   ]
  },
  {
   "cell_type": "markdown",
   "metadata": {},
   "source": [
    "#### SMOTE"
   ]
  },
  {
   "cell_type": "code",
   "execution_count": 284,
   "metadata": {},
   "outputs": [],
   "source": [
    "oversample = SMOTE(random_state=42)"
   ]
  },
  {
   "cell_type": "markdown",
   "metadata": {},
   "source": [
    "##### Decision Tree"
   ]
  },
  {
   "cell_type": "code",
   "execution_count": 285,
   "metadata": {},
   "outputs": [
    {
     "data": {
      "text/html": [
       "<style>#sk-container-id-45 {color: black;background-color: white;}#sk-container-id-45 pre{padding: 0;}#sk-container-id-45 div.sk-toggleable {background-color: white;}#sk-container-id-45 label.sk-toggleable__label {cursor: pointer;display: block;width: 100%;margin-bottom: 0;padding: 0.3em;box-sizing: border-box;text-align: center;}#sk-container-id-45 label.sk-toggleable__label-arrow:before {content: \"▸\";float: left;margin-right: 0.25em;color: #696969;}#sk-container-id-45 label.sk-toggleable__label-arrow:hover:before {color: black;}#sk-container-id-45 div.sk-estimator:hover label.sk-toggleable__label-arrow:before {color: black;}#sk-container-id-45 div.sk-toggleable__content {max-height: 0;max-width: 0;overflow: hidden;text-align: left;background-color: #f0f8ff;}#sk-container-id-45 div.sk-toggleable__content pre {margin: 0.2em;color: black;border-radius: 0.25em;background-color: #f0f8ff;}#sk-container-id-45 input.sk-toggleable__control:checked~div.sk-toggleable__content {max-height: 200px;max-width: 100%;overflow: auto;}#sk-container-id-45 input.sk-toggleable__control:checked~label.sk-toggleable__label-arrow:before {content: \"▾\";}#sk-container-id-45 div.sk-estimator input.sk-toggleable__control:checked~label.sk-toggleable__label {background-color: #d4ebff;}#sk-container-id-45 div.sk-label input.sk-toggleable__control:checked~label.sk-toggleable__label {background-color: #d4ebff;}#sk-container-id-45 input.sk-hidden--visually {border: 0;clip: rect(1px 1px 1px 1px);clip: rect(1px, 1px, 1px, 1px);height: 1px;margin: -1px;overflow: hidden;padding: 0;position: absolute;width: 1px;}#sk-container-id-45 div.sk-estimator {font-family: monospace;background-color: #f0f8ff;border: 1px dotted black;border-radius: 0.25em;box-sizing: border-box;margin-bottom: 0.5em;}#sk-container-id-45 div.sk-estimator:hover {background-color: #d4ebff;}#sk-container-id-45 div.sk-parallel-item::after {content: \"\";width: 100%;border-bottom: 1px solid gray;flex-grow: 1;}#sk-container-id-45 div.sk-label:hover label.sk-toggleable__label {background-color: #d4ebff;}#sk-container-id-45 div.sk-serial::before {content: \"\";position: absolute;border-left: 1px solid gray;box-sizing: border-box;top: 0;bottom: 0;left: 50%;z-index: 0;}#sk-container-id-45 div.sk-serial {display: flex;flex-direction: column;align-items: center;background-color: white;padding-right: 0.2em;padding-left: 0.2em;position: relative;}#sk-container-id-45 div.sk-item {position: relative;z-index: 1;}#sk-container-id-45 div.sk-parallel {display: flex;align-items: stretch;justify-content: center;background-color: white;position: relative;}#sk-container-id-45 div.sk-item::before, #sk-container-id-45 div.sk-parallel-item::before {content: \"\";position: absolute;border-left: 1px solid gray;box-sizing: border-box;top: 0;bottom: 0;left: 50%;z-index: -1;}#sk-container-id-45 div.sk-parallel-item {display: flex;flex-direction: column;z-index: 1;position: relative;background-color: white;}#sk-container-id-45 div.sk-parallel-item:first-child::after {align-self: flex-end;width: 50%;}#sk-container-id-45 div.sk-parallel-item:last-child::after {align-self: flex-start;width: 50%;}#sk-container-id-45 div.sk-parallel-item:only-child::after {width: 0;}#sk-container-id-45 div.sk-dashed-wrapped {border: 1px dashed gray;margin: 0 0.4em 0.5em 0.4em;box-sizing: border-box;padding-bottom: 0.4em;background-color: white;}#sk-container-id-45 div.sk-label label {font-family: monospace;font-weight: bold;display: inline-block;line-height: 1.2em;}#sk-container-id-45 div.sk-label-container {text-align: center;}#sk-container-id-45 div.sk-container {/* jupyter's `normalize.less` sets `[hidden] { display: none; }` but bootstrap.min.css set `[hidden] { display: none !important; }` so we also need the `!important` here to be able to override the default hidden behavior on the sphinx rendered scikit-learn.org. See: https://github.com/scikit-learn/scikit-learn/issues/21755 */display: inline-block !important;position: relative;}#sk-container-id-45 div.sk-text-repr-fallback {display: none;}</style><div id=\"sk-container-id-45\" class=\"sk-top-container\"><div class=\"sk-text-repr-fallback\"><pre>GridSearchCV(estimator=Pipeline(steps=[(&#x27;preprocessor&#x27;,\n",
       "                                        ColumnTransformer(remainder=&#x27;passthrough&#x27;,\n",
       "                                                          transformers=[(&#x27;pipeline-1&#x27;,\n",
       "                                                                         Pipeline(steps=[(&#x27;imputer&#x27;,\n",
       "                                                                                          KNNImputer()),\n",
       "                                                                                         (&#x27;scaler&#x27;,\n",
       "                                                                                          StandardScaler())]),\n",
       "                                                                         Index([&#x27;Creditscore&#x27;, &#x27;Age&#x27;, &#x27;Tenure&#x27;, &#x27;Balance&#x27;, &#x27;Numofproducts&#x27;,\n",
       "       &#x27;Estimatedsalary&#x27;, &#x27;Balance_sq&#x27;],\n",
       "      dtype=&#x27;object&#x27;)),\n",
       "                                                                        (&#x27;pipeline-2&#x27;,\n",
       "                                                                         Pipeline(steps=[(&#x27;onehot&#x27;,\n",
       "                                                                                          OneHotEncoder(drop=&#x27;first&#x27;,\n",
       "                                                                                                        handle_unknown=&#x27;ignore&#x27;))]),\n",
       "                                                                         [&#x27;Geography&#x27;,\n",
       "                                                                          &#x27;Gender&#x27;])],\n",
       "                                                          verbose_feature_names_out=False)),\n",
       "                                       (&#x27;oversample&#x27;, SMOTE(random_state=42)),\n",
       "                                       (&#x27;estimation&#x27;,\n",
       "                                        DecisionTreeClassifier(random_state=42))]),\n",
       "             param_grid={&#x27;estimation__max_depth&#x27;: range(1, 30)}, scoring=&#x27;f1&#x27;)</pre><b>In a Jupyter environment, please rerun this cell to show the HTML representation or trust the notebook. <br />On GitHub, the HTML representation is unable to render, please try loading this page with nbviewer.org.</b></div><div class=\"sk-container\" hidden><div class=\"sk-item sk-dashed-wrapped\"><div class=\"sk-label-container\"><div class=\"sk-label sk-toggleable\"><input class=\"sk-toggleable__control sk-hidden--visually\" id=\"sk-estimator-id-495\" type=\"checkbox\" ><label for=\"sk-estimator-id-495\" class=\"sk-toggleable__label sk-toggleable__label-arrow\">GridSearchCV</label><div class=\"sk-toggleable__content\"><pre>GridSearchCV(estimator=Pipeline(steps=[(&#x27;preprocessor&#x27;,\n",
       "                                        ColumnTransformer(remainder=&#x27;passthrough&#x27;,\n",
       "                                                          transformers=[(&#x27;pipeline-1&#x27;,\n",
       "                                                                         Pipeline(steps=[(&#x27;imputer&#x27;,\n",
       "                                                                                          KNNImputer()),\n",
       "                                                                                         (&#x27;scaler&#x27;,\n",
       "                                                                                          StandardScaler())]),\n",
       "                                                                         Index([&#x27;Creditscore&#x27;, &#x27;Age&#x27;, &#x27;Tenure&#x27;, &#x27;Balance&#x27;, &#x27;Numofproducts&#x27;,\n",
       "       &#x27;Estimatedsalary&#x27;, &#x27;Balance_sq&#x27;],\n",
       "      dtype=&#x27;object&#x27;)),\n",
       "                                                                        (&#x27;pipeline-2&#x27;,\n",
       "                                                                         Pipeline(steps=[(&#x27;onehot&#x27;,\n",
       "                                                                                          OneHotEncoder(drop=&#x27;first&#x27;,\n",
       "                                                                                                        handle_unknown=&#x27;ignore&#x27;))]),\n",
       "                                                                         [&#x27;Geography&#x27;,\n",
       "                                                                          &#x27;Gender&#x27;])],\n",
       "                                                          verbose_feature_names_out=False)),\n",
       "                                       (&#x27;oversample&#x27;, SMOTE(random_state=42)),\n",
       "                                       (&#x27;estimation&#x27;,\n",
       "                                        DecisionTreeClassifier(random_state=42))]),\n",
       "             param_grid={&#x27;estimation__max_depth&#x27;: range(1, 30)}, scoring=&#x27;f1&#x27;)</pre></div></div></div><div class=\"sk-parallel\"><div class=\"sk-parallel-item\"><div class=\"sk-item\"><div class=\"sk-label-container\"><div class=\"sk-label sk-toggleable\"><input class=\"sk-toggleable__control sk-hidden--visually\" id=\"sk-estimator-id-496\" type=\"checkbox\" ><label for=\"sk-estimator-id-496\" class=\"sk-toggleable__label sk-toggleable__label-arrow\">estimator: Pipeline</label><div class=\"sk-toggleable__content\"><pre>Pipeline(steps=[(&#x27;preprocessor&#x27;,\n",
       "                 ColumnTransformer(remainder=&#x27;passthrough&#x27;,\n",
       "                                   transformers=[(&#x27;pipeline-1&#x27;,\n",
       "                                                  Pipeline(steps=[(&#x27;imputer&#x27;,\n",
       "                                                                   KNNImputer()),\n",
       "                                                                  (&#x27;scaler&#x27;,\n",
       "                                                                   StandardScaler())]),\n",
       "                                                  Index([&#x27;Creditscore&#x27;, &#x27;Age&#x27;, &#x27;Tenure&#x27;, &#x27;Balance&#x27;, &#x27;Numofproducts&#x27;,\n",
       "       &#x27;Estimatedsalary&#x27;, &#x27;Balance_sq&#x27;],\n",
       "      dtype=&#x27;object&#x27;)),\n",
       "                                                 (&#x27;pipeline-2&#x27;,\n",
       "                                                  Pipeline(steps=[(&#x27;onehot&#x27;,\n",
       "                                                                   OneHotEncoder(drop=&#x27;first&#x27;,\n",
       "                                                                                 handle_unknown=&#x27;ignore&#x27;))]),\n",
       "                                                  [&#x27;Geography&#x27;, &#x27;Gender&#x27;])],\n",
       "                                   verbose_feature_names_out=False)),\n",
       "                (&#x27;oversample&#x27;, SMOTE(random_state=42)),\n",
       "                (&#x27;estimation&#x27;, DecisionTreeClassifier(random_state=42))])</pre></div></div></div><div class=\"sk-serial\"><div class=\"sk-item\"><div class=\"sk-serial\"><div class=\"sk-item sk-dashed-wrapped\"><div class=\"sk-label-container\"><div class=\"sk-label sk-toggleable\"><input class=\"sk-toggleable__control sk-hidden--visually\" id=\"sk-estimator-id-497\" type=\"checkbox\" ><label for=\"sk-estimator-id-497\" class=\"sk-toggleable__label sk-toggleable__label-arrow\">preprocessor: ColumnTransformer</label><div class=\"sk-toggleable__content\"><pre>ColumnTransformer(remainder=&#x27;passthrough&#x27;,\n",
       "                  transformers=[(&#x27;pipeline-1&#x27;,\n",
       "                                 Pipeline(steps=[(&#x27;imputer&#x27;, KNNImputer()),\n",
       "                                                 (&#x27;scaler&#x27;, StandardScaler())]),\n",
       "                                 Index([&#x27;Creditscore&#x27;, &#x27;Age&#x27;, &#x27;Tenure&#x27;, &#x27;Balance&#x27;, &#x27;Numofproducts&#x27;,\n",
       "       &#x27;Estimatedsalary&#x27;, &#x27;Balance_sq&#x27;],\n",
       "      dtype=&#x27;object&#x27;)),\n",
       "                                (&#x27;pipeline-2&#x27;,\n",
       "                                 Pipeline(steps=[(&#x27;onehot&#x27;,\n",
       "                                                  OneHotEncoder(drop=&#x27;first&#x27;,\n",
       "                                                                handle_unknown=&#x27;ignore&#x27;))]),\n",
       "                                 [&#x27;Geography&#x27;, &#x27;Gender&#x27;])],\n",
       "                  verbose_feature_names_out=False)</pre></div></div></div><div class=\"sk-parallel\"><div class=\"sk-parallel-item\"><div class=\"sk-item\"><div class=\"sk-label-container\"><div class=\"sk-label sk-toggleable\"><input class=\"sk-toggleable__control sk-hidden--visually\" id=\"sk-estimator-id-498\" type=\"checkbox\" ><label for=\"sk-estimator-id-498\" class=\"sk-toggleable__label sk-toggleable__label-arrow\">pipeline-1</label><div class=\"sk-toggleable__content\"><pre>Index([&#x27;Creditscore&#x27;, &#x27;Age&#x27;, &#x27;Tenure&#x27;, &#x27;Balance&#x27;, &#x27;Numofproducts&#x27;,\n",
       "       &#x27;Estimatedsalary&#x27;, &#x27;Balance_sq&#x27;],\n",
       "      dtype=&#x27;object&#x27;)</pre></div></div></div><div class=\"sk-serial\"><div class=\"sk-item\"><div class=\"sk-serial\"><div class=\"sk-item\"><div class=\"sk-estimator sk-toggleable\"><input class=\"sk-toggleable__control sk-hidden--visually\" id=\"sk-estimator-id-499\" type=\"checkbox\" ><label for=\"sk-estimator-id-499\" class=\"sk-toggleable__label sk-toggleable__label-arrow\">KNNImputer</label><div class=\"sk-toggleable__content\"><pre>KNNImputer()</pre></div></div></div><div class=\"sk-item\"><div class=\"sk-estimator sk-toggleable\"><input class=\"sk-toggleable__control sk-hidden--visually\" id=\"sk-estimator-id-500\" type=\"checkbox\" ><label for=\"sk-estimator-id-500\" class=\"sk-toggleable__label sk-toggleable__label-arrow\">StandardScaler</label><div class=\"sk-toggleable__content\"><pre>StandardScaler()</pre></div></div></div></div></div></div></div></div><div class=\"sk-parallel-item\"><div class=\"sk-item\"><div class=\"sk-label-container\"><div class=\"sk-label sk-toggleable\"><input class=\"sk-toggleable__control sk-hidden--visually\" id=\"sk-estimator-id-501\" type=\"checkbox\" ><label for=\"sk-estimator-id-501\" class=\"sk-toggleable__label sk-toggleable__label-arrow\">pipeline-2</label><div class=\"sk-toggleable__content\"><pre>[&#x27;Geography&#x27;, &#x27;Gender&#x27;]</pre></div></div></div><div class=\"sk-serial\"><div class=\"sk-item\"><div class=\"sk-serial\"><div class=\"sk-item\"><div class=\"sk-estimator sk-toggleable\"><input class=\"sk-toggleable__control sk-hidden--visually\" id=\"sk-estimator-id-502\" type=\"checkbox\" ><label for=\"sk-estimator-id-502\" class=\"sk-toggleable__label sk-toggleable__label-arrow\">OneHotEncoder</label><div class=\"sk-toggleable__content\"><pre>OneHotEncoder(drop=&#x27;first&#x27;, handle_unknown=&#x27;ignore&#x27;)</pre></div></div></div></div></div></div></div></div><div class=\"sk-parallel-item\"><div class=\"sk-item\"><div class=\"sk-label-container\"><div class=\"sk-label sk-toggleable\"><input class=\"sk-toggleable__control sk-hidden--visually\" id=\"sk-estimator-id-503\" type=\"checkbox\" ><label for=\"sk-estimator-id-503\" class=\"sk-toggleable__label sk-toggleable__label-arrow\">remainder</label><div class=\"sk-toggleable__content\"><pre>[&#x27;Hascrcard&#x27;, &#x27;Isactivemember&#x27;]</pre></div></div></div><div class=\"sk-serial\"><div class=\"sk-item\"><div class=\"sk-estimator sk-toggleable\"><input class=\"sk-toggleable__control sk-hidden--visually\" id=\"sk-estimator-id-504\" type=\"checkbox\" ><label for=\"sk-estimator-id-504\" class=\"sk-toggleable__label sk-toggleable__label-arrow\">passthrough</label><div class=\"sk-toggleable__content\"><pre>passthrough</pre></div></div></div></div></div></div></div></div><div class=\"sk-item\"><div class=\"sk-estimator sk-toggleable\"><input class=\"sk-toggleable__control sk-hidden--visually\" id=\"sk-estimator-id-505\" type=\"checkbox\" ><label for=\"sk-estimator-id-505\" class=\"sk-toggleable__label sk-toggleable__label-arrow\">SMOTE</label><div class=\"sk-toggleable__content\"><pre>SMOTE(random_state=42)</pre></div></div></div><div class=\"sk-item\"><div class=\"sk-estimator sk-toggleable\"><input class=\"sk-toggleable__control sk-hidden--visually\" id=\"sk-estimator-id-506\" type=\"checkbox\" ><label for=\"sk-estimator-id-506\" class=\"sk-toggleable__label sk-toggleable__label-arrow\">DecisionTreeClassifier</label><div class=\"sk-toggleable__content\"><pre>DecisionTreeClassifier(random_state=42)</pre></div></div></div></div></div></div></div></div></div></div></div></div>"
      ],
      "text/plain": [
       "GridSearchCV(estimator=Pipeline(steps=[('preprocessor',\n",
       "                                        ColumnTransformer(remainder='passthrough',\n",
       "                                                          transformers=[('pipeline-1',\n",
       "                                                                         Pipeline(steps=[('imputer',\n",
       "                                                                                          KNNImputer()),\n",
       "                                                                                         ('scaler',\n",
       "                                                                                          StandardScaler())]),\n",
       "                                                                         Index(['Creditscore', 'Age', 'Tenure', 'Balance', 'Numofproducts',\n",
       "       'Estimatedsalary', 'Balance_sq'],\n",
       "      dtype='object')),\n",
       "                                                                        ('pipeline-2',\n",
       "                                                                         Pipeline(steps=[('onehot',\n",
       "                                                                                          OneHotEncoder(drop='first',\n",
       "                                                                                                        handle_unknown='ignore'))]),\n",
       "                                                                         ['Geography',\n",
       "                                                                          'Gender'])],\n",
       "                                                          verbose_feature_names_out=False)),\n",
       "                                       ('oversample', SMOTE(random_state=42)),\n",
       "                                       ('estimation',\n",
       "                                        DecisionTreeClassifier(random_state=42))]),\n",
       "             param_grid={'estimation__max_depth': range(1, 30)}, scoring='f1')"
      ]
     },
     "execution_count": 285,
     "metadata": {},
     "output_type": "execute_result"
    }
   ],
   "source": [
    "# Создаём пайплайн\n",
    "model_tree_smote = DecisionTreeClassifier(random_state=42)\n",
    "pipeline_tree_smote = Pipeline_imb([('preprocessor',preprocessor),('oversample',oversample), ('estimation',model_tree_smote)])\n",
    "\n",
    "param_grid_tree = {\n",
    "    'estimation__max_depth': range(1,30)\n",
    "}\n",
    "\n",
    "gs_tree_smote = GridSearchCV(\n",
    "    pipeline_tree_smote, \n",
    "    param_grid=param_grid_tree, \n",
    "    scoring='f1',\n",
    ")\n",
    "gs_tree_smote.fit(features_train,target_train)"
   ]
  },
  {
   "cell_type": "code",
   "execution_count": 286,
   "metadata": {},
   "outputs": [
    {
     "data": {
      "text/plain": [
       "0.5231719876416067"
      ]
     },
     "execution_count": 286,
     "metadata": {},
     "output_type": "execute_result"
    }
   ],
   "source": [
    "predict_valid_smote = gs_tree_smote.predict(features_valid)\n",
    "f1_tree_smote = f1_score(target_valid, predict_valid_smote)\n",
    "f1_tree_smote"
   ]
  },
  {
   "cell_type": "markdown",
   "metadata": {},
   "source": [
    "##### Random Forest"
   ]
  },
  {
   "cell_type": "code",
   "execution_count": 287,
   "metadata": {},
   "outputs": [
    {
     "data": {
      "text/html": [
       "<style>#sk-container-id-46 {color: black;background-color: white;}#sk-container-id-46 pre{padding: 0;}#sk-container-id-46 div.sk-toggleable {background-color: white;}#sk-container-id-46 label.sk-toggleable__label {cursor: pointer;display: block;width: 100%;margin-bottom: 0;padding: 0.3em;box-sizing: border-box;text-align: center;}#sk-container-id-46 label.sk-toggleable__label-arrow:before {content: \"▸\";float: left;margin-right: 0.25em;color: #696969;}#sk-container-id-46 label.sk-toggleable__label-arrow:hover:before {color: black;}#sk-container-id-46 div.sk-estimator:hover label.sk-toggleable__label-arrow:before {color: black;}#sk-container-id-46 div.sk-toggleable__content {max-height: 0;max-width: 0;overflow: hidden;text-align: left;background-color: #f0f8ff;}#sk-container-id-46 div.sk-toggleable__content pre {margin: 0.2em;color: black;border-radius: 0.25em;background-color: #f0f8ff;}#sk-container-id-46 input.sk-toggleable__control:checked~div.sk-toggleable__content {max-height: 200px;max-width: 100%;overflow: auto;}#sk-container-id-46 input.sk-toggleable__control:checked~label.sk-toggleable__label-arrow:before {content: \"▾\";}#sk-container-id-46 div.sk-estimator input.sk-toggleable__control:checked~label.sk-toggleable__label {background-color: #d4ebff;}#sk-container-id-46 div.sk-label input.sk-toggleable__control:checked~label.sk-toggleable__label {background-color: #d4ebff;}#sk-container-id-46 input.sk-hidden--visually {border: 0;clip: rect(1px 1px 1px 1px);clip: rect(1px, 1px, 1px, 1px);height: 1px;margin: -1px;overflow: hidden;padding: 0;position: absolute;width: 1px;}#sk-container-id-46 div.sk-estimator {font-family: monospace;background-color: #f0f8ff;border: 1px dotted black;border-radius: 0.25em;box-sizing: border-box;margin-bottom: 0.5em;}#sk-container-id-46 div.sk-estimator:hover {background-color: #d4ebff;}#sk-container-id-46 div.sk-parallel-item::after {content: \"\";width: 100%;border-bottom: 1px solid gray;flex-grow: 1;}#sk-container-id-46 div.sk-label:hover label.sk-toggleable__label {background-color: #d4ebff;}#sk-container-id-46 div.sk-serial::before {content: \"\";position: absolute;border-left: 1px solid gray;box-sizing: border-box;top: 0;bottom: 0;left: 50%;z-index: 0;}#sk-container-id-46 div.sk-serial {display: flex;flex-direction: column;align-items: center;background-color: white;padding-right: 0.2em;padding-left: 0.2em;position: relative;}#sk-container-id-46 div.sk-item {position: relative;z-index: 1;}#sk-container-id-46 div.sk-parallel {display: flex;align-items: stretch;justify-content: center;background-color: white;position: relative;}#sk-container-id-46 div.sk-item::before, #sk-container-id-46 div.sk-parallel-item::before {content: \"\";position: absolute;border-left: 1px solid gray;box-sizing: border-box;top: 0;bottom: 0;left: 50%;z-index: -1;}#sk-container-id-46 div.sk-parallel-item {display: flex;flex-direction: column;z-index: 1;position: relative;background-color: white;}#sk-container-id-46 div.sk-parallel-item:first-child::after {align-self: flex-end;width: 50%;}#sk-container-id-46 div.sk-parallel-item:last-child::after {align-self: flex-start;width: 50%;}#sk-container-id-46 div.sk-parallel-item:only-child::after {width: 0;}#sk-container-id-46 div.sk-dashed-wrapped {border: 1px dashed gray;margin: 0 0.4em 0.5em 0.4em;box-sizing: border-box;padding-bottom: 0.4em;background-color: white;}#sk-container-id-46 div.sk-label label {font-family: monospace;font-weight: bold;display: inline-block;line-height: 1.2em;}#sk-container-id-46 div.sk-label-container {text-align: center;}#sk-container-id-46 div.sk-container {/* jupyter's `normalize.less` sets `[hidden] { display: none; }` but bootstrap.min.css set `[hidden] { display: none !important; }` so we also need the `!important` here to be able to override the default hidden behavior on the sphinx rendered scikit-learn.org. See: https://github.com/scikit-learn/scikit-learn/issues/21755 */display: inline-block !important;position: relative;}#sk-container-id-46 div.sk-text-repr-fallback {display: none;}</style><div id=\"sk-container-id-46\" class=\"sk-top-container\"><div class=\"sk-text-repr-fallback\"><pre>RandomizedSearchCV(estimator=Pipeline(steps=[(&#x27;preprocessor&#x27;,\n",
       "                                              ColumnTransformer(remainder=&#x27;passthrough&#x27;,\n",
       "                                                                transformers=[(&#x27;pipeline-1&#x27;,\n",
       "                                                                               Pipeline(steps=[(&#x27;imputer&#x27;,\n",
       "                                                                                                KNNImputer()),\n",
       "                                                                                               (&#x27;scaler&#x27;,\n",
       "                                                                                                StandardScaler())]),\n",
       "                                                                               Index([&#x27;Creditscore&#x27;, &#x27;Age&#x27;, &#x27;Tenure&#x27;, &#x27;Balance&#x27;, &#x27;Numofproducts&#x27;,\n",
       "       &#x27;Estimatedsalary&#x27;, &#x27;Balance_sq&#x27;],\n",
       "      dtype=&#x27;object&#x27;)),\n",
       "                                                                              (&#x27;pipeline-2&#x27;,\n",
       "                                                                               Pipeline(steps=[(&#x27;oneho...\n",
       "                                                                                &#x27;Gender&#x27;])],\n",
       "                                                                verbose_feature_names_out=False)),\n",
       "                                             (&#x27;oversample&#x27;,\n",
       "                                              SMOTE(random_state=42)),\n",
       "                                             (&#x27;estimation&#x27;,\n",
       "                                              RandomForestClassifier(random_state=42))]),\n",
       "                   param_distributions={&#x27;estimation__max_depth&#x27;: range(2, 15),\n",
       "                                        &#x27;estimation__min_samples_leaf&#x27;: (1, 2,\n",
       "                                                                         3, 4),\n",
       "                                        &#x27;estimation__min_samples_split&#x27;: (2, 3,\n",
       "                                                                          4),\n",
       "                                        &#x27;estimation__n_estimators&#x27;: range(10, 110, 30)},\n",
       "                   random_state=42, scoring=&#x27;f1&#x27;)</pre><b>In a Jupyter environment, please rerun this cell to show the HTML representation or trust the notebook. <br />On GitHub, the HTML representation is unable to render, please try loading this page with nbviewer.org.</b></div><div class=\"sk-container\" hidden><div class=\"sk-item sk-dashed-wrapped\"><div class=\"sk-label-container\"><div class=\"sk-label sk-toggleable\"><input class=\"sk-toggleable__control sk-hidden--visually\" id=\"sk-estimator-id-507\" type=\"checkbox\" ><label for=\"sk-estimator-id-507\" class=\"sk-toggleable__label sk-toggleable__label-arrow\">RandomizedSearchCV</label><div class=\"sk-toggleable__content\"><pre>RandomizedSearchCV(estimator=Pipeline(steps=[(&#x27;preprocessor&#x27;,\n",
       "                                              ColumnTransformer(remainder=&#x27;passthrough&#x27;,\n",
       "                                                                transformers=[(&#x27;pipeline-1&#x27;,\n",
       "                                                                               Pipeline(steps=[(&#x27;imputer&#x27;,\n",
       "                                                                                                KNNImputer()),\n",
       "                                                                                               (&#x27;scaler&#x27;,\n",
       "                                                                                                StandardScaler())]),\n",
       "                                                                               Index([&#x27;Creditscore&#x27;, &#x27;Age&#x27;, &#x27;Tenure&#x27;, &#x27;Balance&#x27;, &#x27;Numofproducts&#x27;,\n",
       "       &#x27;Estimatedsalary&#x27;, &#x27;Balance_sq&#x27;],\n",
       "      dtype=&#x27;object&#x27;)),\n",
       "                                                                              (&#x27;pipeline-2&#x27;,\n",
       "                                                                               Pipeline(steps=[(&#x27;oneho...\n",
       "                                                                                &#x27;Gender&#x27;])],\n",
       "                                                                verbose_feature_names_out=False)),\n",
       "                                             (&#x27;oversample&#x27;,\n",
       "                                              SMOTE(random_state=42)),\n",
       "                                             (&#x27;estimation&#x27;,\n",
       "                                              RandomForestClassifier(random_state=42))]),\n",
       "                   param_distributions={&#x27;estimation__max_depth&#x27;: range(2, 15),\n",
       "                                        &#x27;estimation__min_samples_leaf&#x27;: (1, 2,\n",
       "                                                                         3, 4),\n",
       "                                        &#x27;estimation__min_samples_split&#x27;: (2, 3,\n",
       "                                                                          4),\n",
       "                                        &#x27;estimation__n_estimators&#x27;: range(10, 110, 30)},\n",
       "                   random_state=42, scoring=&#x27;f1&#x27;)</pre></div></div></div><div class=\"sk-parallel\"><div class=\"sk-parallel-item\"><div class=\"sk-item\"><div class=\"sk-label-container\"><div class=\"sk-label sk-toggleable\"><input class=\"sk-toggleable__control sk-hidden--visually\" id=\"sk-estimator-id-508\" type=\"checkbox\" ><label for=\"sk-estimator-id-508\" class=\"sk-toggleable__label sk-toggleable__label-arrow\">estimator: Pipeline</label><div class=\"sk-toggleable__content\"><pre>Pipeline(steps=[(&#x27;preprocessor&#x27;,\n",
       "                 ColumnTransformer(remainder=&#x27;passthrough&#x27;,\n",
       "                                   transformers=[(&#x27;pipeline-1&#x27;,\n",
       "                                                  Pipeline(steps=[(&#x27;imputer&#x27;,\n",
       "                                                                   KNNImputer()),\n",
       "                                                                  (&#x27;scaler&#x27;,\n",
       "                                                                   StandardScaler())]),\n",
       "                                                  Index([&#x27;Creditscore&#x27;, &#x27;Age&#x27;, &#x27;Tenure&#x27;, &#x27;Balance&#x27;, &#x27;Numofproducts&#x27;,\n",
       "       &#x27;Estimatedsalary&#x27;, &#x27;Balance_sq&#x27;],\n",
       "      dtype=&#x27;object&#x27;)),\n",
       "                                                 (&#x27;pipeline-2&#x27;,\n",
       "                                                  Pipeline(steps=[(&#x27;onehot&#x27;,\n",
       "                                                                   OneHotEncoder(drop=&#x27;first&#x27;,\n",
       "                                                                                 handle_unknown=&#x27;ignore&#x27;))]),\n",
       "                                                  [&#x27;Geography&#x27;, &#x27;Gender&#x27;])],\n",
       "                                   verbose_feature_names_out=False)),\n",
       "                (&#x27;oversample&#x27;, SMOTE(random_state=42)),\n",
       "                (&#x27;estimation&#x27;, RandomForestClassifier(random_state=42))])</pre></div></div></div><div class=\"sk-serial\"><div class=\"sk-item\"><div class=\"sk-serial\"><div class=\"sk-item sk-dashed-wrapped\"><div class=\"sk-label-container\"><div class=\"sk-label sk-toggleable\"><input class=\"sk-toggleable__control sk-hidden--visually\" id=\"sk-estimator-id-509\" type=\"checkbox\" ><label for=\"sk-estimator-id-509\" class=\"sk-toggleable__label sk-toggleable__label-arrow\">preprocessor: ColumnTransformer</label><div class=\"sk-toggleable__content\"><pre>ColumnTransformer(remainder=&#x27;passthrough&#x27;,\n",
       "                  transformers=[(&#x27;pipeline-1&#x27;,\n",
       "                                 Pipeline(steps=[(&#x27;imputer&#x27;, KNNImputer()),\n",
       "                                                 (&#x27;scaler&#x27;, StandardScaler())]),\n",
       "                                 Index([&#x27;Creditscore&#x27;, &#x27;Age&#x27;, &#x27;Tenure&#x27;, &#x27;Balance&#x27;, &#x27;Numofproducts&#x27;,\n",
       "       &#x27;Estimatedsalary&#x27;, &#x27;Balance_sq&#x27;],\n",
       "      dtype=&#x27;object&#x27;)),\n",
       "                                (&#x27;pipeline-2&#x27;,\n",
       "                                 Pipeline(steps=[(&#x27;onehot&#x27;,\n",
       "                                                  OneHotEncoder(drop=&#x27;first&#x27;,\n",
       "                                                                handle_unknown=&#x27;ignore&#x27;))]),\n",
       "                                 [&#x27;Geography&#x27;, &#x27;Gender&#x27;])],\n",
       "                  verbose_feature_names_out=False)</pre></div></div></div><div class=\"sk-parallel\"><div class=\"sk-parallel-item\"><div class=\"sk-item\"><div class=\"sk-label-container\"><div class=\"sk-label sk-toggleable\"><input class=\"sk-toggleable__control sk-hidden--visually\" id=\"sk-estimator-id-510\" type=\"checkbox\" ><label for=\"sk-estimator-id-510\" class=\"sk-toggleable__label sk-toggleable__label-arrow\">pipeline-1</label><div class=\"sk-toggleable__content\"><pre>Index([&#x27;Creditscore&#x27;, &#x27;Age&#x27;, &#x27;Tenure&#x27;, &#x27;Balance&#x27;, &#x27;Numofproducts&#x27;,\n",
       "       &#x27;Estimatedsalary&#x27;, &#x27;Balance_sq&#x27;],\n",
       "      dtype=&#x27;object&#x27;)</pre></div></div></div><div class=\"sk-serial\"><div class=\"sk-item\"><div class=\"sk-serial\"><div class=\"sk-item\"><div class=\"sk-estimator sk-toggleable\"><input class=\"sk-toggleable__control sk-hidden--visually\" id=\"sk-estimator-id-511\" type=\"checkbox\" ><label for=\"sk-estimator-id-511\" class=\"sk-toggleable__label sk-toggleable__label-arrow\">KNNImputer</label><div class=\"sk-toggleable__content\"><pre>KNNImputer()</pre></div></div></div><div class=\"sk-item\"><div class=\"sk-estimator sk-toggleable\"><input class=\"sk-toggleable__control sk-hidden--visually\" id=\"sk-estimator-id-512\" type=\"checkbox\" ><label for=\"sk-estimator-id-512\" class=\"sk-toggleable__label sk-toggleable__label-arrow\">StandardScaler</label><div class=\"sk-toggleable__content\"><pre>StandardScaler()</pre></div></div></div></div></div></div></div></div><div class=\"sk-parallel-item\"><div class=\"sk-item\"><div class=\"sk-label-container\"><div class=\"sk-label sk-toggleable\"><input class=\"sk-toggleable__control sk-hidden--visually\" id=\"sk-estimator-id-513\" type=\"checkbox\" ><label for=\"sk-estimator-id-513\" class=\"sk-toggleable__label sk-toggleable__label-arrow\">pipeline-2</label><div class=\"sk-toggleable__content\"><pre>[&#x27;Geography&#x27;, &#x27;Gender&#x27;]</pre></div></div></div><div class=\"sk-serial\"><div class=\"sk-item\"><div class=\"sk-serial\"><div class=\"sk-item\"><div class=\"sk-estimator sk-toggleable\"><input class=\"sk-toggleable__control sk-hidden--visually\" id=\"sk-estimator-id-514\" type=\"checkbox\" ><label for=\"sk-estimator-id-514\" class=\"sk-toggleable__label sk-toggleable__label-arrow\">OneHotEncoder</label><div class=\"sk-toggleable__content\"><pre>OneHotEncoder(drop=&#x27;first&#x27;, handle_unknown=&#x27;ignore&#x27;)</pre></div></div></div></div></div></div></div></div><div class=\"sk-parallel-item\"><div class=\"sk-item\"><div class=\"sk-label-container\"><div class=\"sk-label sk-toggleable\"><input class=\"sk-toggleable__control sk-hidden--visually\" id=\"sk-estimator-id-515\" type=\"checkbox\" ><label for=\"sk-estimator-id-515\" class=\"sk-toggleable__label sk-toggleable__label-arrow\">remainder</label><div class=\"sk-toggleable__content\"><pre>[&#x27;Hascrcard&#x27;, &#x27;Isactivemember&#x27;]</pre></div></div></div><div class=\"sk-serial\"><div class=\"sk-item\"><div class=\"sk-estimator sk-toggleable\"><input class=\"sk-toggleable__control sk-hidden--visually\" id=\"sk-estimator-id-516\" type=\"checkbox\" ><label for=\"sk-estimator-id-516\" class=\"sk-toggleable__label sk-toggleable__label-arrow\">passthrough</label><div class=\"sk-toggleable__content\"><pre>passthrough</pre></div></div></div></div></div></div></div></div><div class=\"sk-item\"><div class=\"sk-estimator sk-toggleable\"><input class=\"sk-toggleable__control sk-hidden--visually\" id=\"sk-estimator-id-517\" type=\"checkbox\" ><label for=\"sk-estimator-id-517\" class=\"sk-toggleable__label sk-toggleable__label-arrow\">SMOTE</label><div class=\"sk-toggleable__content\"><pre>SMOTE(random_state=42)</pre></div></div></div><div class=\"sk-item\"><div class=\"sk-estimator sk-toggleable\"><input class=\"sk-toggleable__control sk-hidden--visually\" id=\"sk-estimator-id-518\" type=\"checkbox\" ><label for=\"sk-estimator-id-518\" class=\"sk-toggleable__label sk-toggleable__label-arrow\">RandomForestClassifier</label><div class=\"sk-toggleable__content\"><pre>RandomForestClassifier(random_state=42)</pre></div></div></div></div></div></div></div></div></div></div></div></div>"
      ],
      "text/plain": [
       "RandomizedSearchCV(estimator=Pipeline(steps=[('preprocessor',\n",
       "                                              ColumnTransformer(remainder='passthrough',\n",
       "                                                                transformers=[('pipeline-1',\n",
       "                                                                               Pipeline(steps=[('imputer',\n",
       "                                                                                                KNNImputer()),\n",
       "                                                                                               ('scaler',\n",
       "                                                                                                StandardScaler())]),\n",
       "                                                                               Index(['Creditscore', 'Age', 'Tenure', 'Balance', 'Numofproducts',\n",
       "       'Estimatedsalary', 'Balance_sq'],\n",
       "      dtype='object')),\n",
       "                                                                              ('pipeline-2',\n",
       "                                                                               Pipeline(steps=[('oneho...\n",
       "                                                                                'Gender'])],\n",
       "                                                                verbose_feature_names_out=False)),\n",
       "                                             ('oversample',\n",
       "                                              SMOTE(random_state=42)),\n",
       "                                             ('estimation',\n",
       "                                              RandomForestClassifier(random_state=42))]),\n",
       "                   param_distributions={'estimation__max_depth': range(2, 15),\n",
       "                                        'estimation__min_samples_leaf': (1, 2,\n",
       "                                                                         3, 4),\n",
       "                                        'estimation__min_samples_split': (2, 3,\n",
       "                                                                          4),\n",
       "                                        'estimation__n_estimators': range(10, 110, 30)},\n",
       "                   random_state=42, scoring='f1')"
      ]
     },
     "execution_count": 287,
     "metadata": {},
     "output_type": "execute_result"
    }
   ],
   "source": [
    "# Создаём пайплайн\n",
    "model_forest_smote = RandomForestClassifier(random_state=42)\n",
    "pipeline_forest_smote = Pipeline_imb([('preprocessor',preprocessor),('oversample',oversample), ('estimation',model_forest_smote)])\n",
    "\n",
    "param_grid_forest = {\n",
    "    'estimation__n_estimators': range(10, 110, 30),\n",
    "    'estimation__max_depth': range(2, 15),\n",
    "    'estimation__min_samples_split': (2, 3, 4),\n",
    "    'estimation__min_samples_leaf': (1, 2, 3, 4)\n",
    "}\n",
    "\n",
    "\n",
    "gs_forest_smote = RandomizedSearchCV(\n",
    "    pipeline_forest_smote, \n",
    "    param_distributions=param_grid_forest, \n",
    "    scoring='f1', \n",
    "    random_state=42\n",
    ")\n",
    "\n",
    "gs_forest_smote.fit(features_train,target_train)"
   ]
  },
  {
   "cell_type": "code",
   "execution_count": 288,
   "metadata": {},
   "outputs": [
    {
     "data": {
      "text/plain": [
       "0.5775"
      ]
     },
     "execution_count": 288,
     "metadata": {},
     "output_type": "execute_result"
    }
   ],
   "source": [
    "# Проверяю на валидационной выборке\n",
    "predict_valid_smote = gs_forest_smote.predict(features_valid)\n",
    "f1_forest_smote = f1_score(target_valid, predict_valid_smote)\n",
    "f1_forest_smote"
   ]
  },
  {
   "cell_type": "markdown",
   "metadata": {},
   "source": [
    "##### Logistic Regression"
   ]
  },
  {
   "cell_type": "code",
   "execution_count": 289,
   "metadata": {},
   "outputs": [
    {
     "data": {
      "text/html": [
       "<style>#sk-container-id-47 {color: black;background-color: white;}#sk-container-id-47 pre{padding: 0;}#sk-container-id-47 div.sk-toggleable {background-color: white;}#sk-container-id-47 label.sk-toggleable__label {cursor: pointer;display: block;width: 100%;margin-bottom: 0;padding: 0.3em;box-sizing: border-box;text-align: center;}#sk-container-id-47 label.sk-toggleable__label-arrow:before {content: \"▸\";float: left;margin-right: 0.25em;color: #696969;}#sk-container-id-47 label.sk-toggleable__label-arrow:hover:before {color: black;}#sk-container-id-47 div.sk-estimator:hover label.sk-toggleable__label-arrow:before {color: black;}#sk-container-id-47 div.sk-toggleable__content {max-height: 0;max-width: 0;overflow: hidden;text-align: left;background-color: #f0f8ff;}#sk-container-id-47 div.sk-toggleable__content pre {margin: 0.2em;color: black;border-radius: 0.25em;background-color: #f0f8ff;}#sk-container-id-47 input.sk-toggleable__control:checked~div.sk-toggleable__content {max-height: 200px;max-width: 100%;overflow: auto;}#sk-container-id-47 input.sk-toggleable__control:checked~label.sk-toggleable__label-arrow:before {content: \"▾\";}#sk-container-id-47 div.sk-estimator input.sk-toggleable__control:checked~label.sk-toggleable__label {background-color: #d4ebff;}#sk-container-id-47 div.sk-label input.sk-toggleable__control:checked~label.sk-toggleable__label {background-color: #d4ebff;}#sk-container-id-47 input.sk-hidden--visually {border: 0;clip: rect(1px 1px 1px 1px);clip: rect(1px, 1px, 1px, 1px);height: 1px;margin: -1px;overflow: hidden;padding: 0;position: absolute;width: 1px;}#sk-container-id-47 div.sk-estimator {font-family: monospace;background-color: #f0f8ff;border: 1px dotted black;border-radius: 0.25em;box-sizing: border-box;margin-bottom: 0.5em;}#sk-container-id-47 div.sk-estimator:hover {background-color: #d4ebff;}#sk-container-id-47 div.sk-parallel-item::after {content: \"\";width: 100%;border-bottom: 1px solid gray;flex-grow: 1;}#sk-container-id-47 div.sk-label:hover label.sk-toggleable__label {background-color: #d4ebff;}#sk-container-id-47 div.sk-serial::before {content: \"\";position: absolute;border-left: 1px solid gray;box-sizing: border-box;top: 0;bottom: 0;left: 50%;z-index: 0;}#sk-container-id-47 div.sk-serial {display: flex;flex-direction: column;align-items: center;background-color: white;padding-right: 0.2em;padding-left: 0.2em;position: relative;}#sk-container-id-47 div.sk-item {position: relative;z-index: 1;}#sk-container-id-47 div.sk-parallel {display: flex;align-items: stretch;justify-content: center;background-color: white;position: relative;}#sk-container-id-47 div.sk-item::before, #sk-container-id-47 div.sk-parallel-item::before {content: \"\";position: absolute;border-left: 1px solid gray;box-sizing: border-box;top: 0;bottom: 0;left: 50%;z-index: -1;}#sk-container-id-47 div.sk-parallel-item {display: flex;flex-direction: column;z-index: 1;position: relative;background-color: white;}#sk-container-id-47 div.sk-parallel-item:first-child::after {align-self: flex-end;width: 50%;}#sk-container-id-47 div.sk-parallel-item:last-child::after {align-self: flex-start;width: 50%;}#sk-container-id-47 div.sk-parallel-item:only-child::after {width: 0;}#sk-container-id-47 div.sk-dashed-wrapped {border: 1px dashed gray;margin: 0 0.4em 0.5em 0.4em;box-sizing: border-box;padding-bottom: 0.4em;background-color: white;}#sk-container-id-47 div.sk-label label {font-family: monospace;font-weight: bold;display: inline-block;line-height: 1.2em;}#sk-container-id-47 div.sk-label-container {text-align: center;}#sk-container-id-47 div.sk-container {/* jupyter's `normalize.less` sets `[hidden] { display: none; }` but bootstrap.min.css set `[hidden] { display: none !important; }` so we also need the `!important` here to be able to override the default hidden behavior on the sphinx rendered scikit-learn.org. See: https://github.com/scikit-learn/scikit-learn/issues/21755 */display: inline-block !important;position: relative;}#sk-container-id-47 div.sk-text-repr-fallback {display: none;}</style><div id=\"sk-container-id-47\" class=\"sk-top-container\"><div class=\"sk-text-repr-fallback\"><pre>RandomizedSearchCV(estimator=Pipeline(steps=[(&#x27;preprocessor&#x27;,\n",
       "                                              ColumnTransformer(remainder=&#x27;passthrough&#x27;,\n",
       "                                                                transformers=[(&#x27;pipeline-1&#x27;,\n",
       "                                                                               Pipeline(steps=[(&#x27;imputer&#x27;,\n",
       "                                                                                                KNNImputer()),\n",
       "                                                                                               (&#x27;scaler&#x27;,\n",
       "                                                                                                StandardScaler())]),\n",
       "                                                                               Index([&#x27;Creditscore&#x27;, &#x27;Age&#x27;, &#x27;Tenure&#x27;, &#x27;Balance&#x27;, &#x27;Numofproducts&#x27;,\n",
       "       &#x27;Estimatedsalary&#x27;, &#x27;Balance_sq&#x27;],\n",
       "      dtype=&#x27;object&#x27;)),\n",
       "                                                                              (&#x27;pipeline-2&#x27;,\n",
       "                                                                               Pipeline(steps=[(&#x27;oneho...\n",
       "                                                                                &#x27;Gender&#x27;])],\n",
       "                                                                verbose_feature_names_out=False)),\n",
       "                                             (&#x27;oversample&#x27;,\n",
       "                                              SMOTE(random_state=42)),\n",
       "                                             (&#x27;estimation&#x27;,\n",
       "                                              LogisticRegression(random_state=42))]),\n",
       "                   param_distributions={&#x27;estimation__C&#x27;: array([1.e-03, 1.e-02, 1.e-01, 1.e+00, 1.e+01, 1.e+02, 1.e+03]),\n",
       "                                        &#x27;estimation__penalty&#x27;: [&#x27;l1&#x27;, &#x27;l2&#x27;],\n",
       "                                        &#x27;estimation__solver&#x27;: [&#x27;newton-cg&#x27;,\n",
       "                                                               &#x27;lbfgs&#x27;,\n",
       "                                                               &#x27;liblinear&#x27;]},\n",
       "                   random_state=42, scoring=&#x27;f1&#x27;)</pre><b>In a Jupyter environment, please rerun this cell to show the HTML representation or trust the notebook. <br />On GitHub, the HTML representation is unable to render, please try loading this page with nbviewer.org.</b></div><div class=\"sk-container\" hidden><div class=\"sk-item sk-dashed-wrapped\"><div class=\"sk-label-container\"><div class=\"sk-label sk-toggleable\"><input class=\"sk-toggleable__control sk-hidden--visually\" id=\"sk-estimator-id-519\" type=\"checkbox\" ><label for=\"sk-estimator-id-519\" class=\"sk-toggleable__label sk-toggleable__label-arrow\">RandomizedSearchCV</label><div class=\"sk-toggleable__content\"><pre>RandomizedSearchCV(estimator=Pipeline(steps=[(&#x27;preprocessor&#x27;,\n",
       "                                              ColumnTransformer(remainder=&#x27;passthrough&#x27;,\n",
       "                                                                transformers=[(&#x27;pipeline-1&#x27;,\n",
       "                                                                               Pipeline(steps=[(&#x27;imputer&#x27;,\n",
       "                                                                                                KNNImputer()),\n",
       "                                                                                               (&#x27;scaler&#x27;,\n",
       "                                                                                                StandardScaler())]),\n",
       "                                                                               Index([&#x27;Creditscore&#x27;, &#x27;Age&#x27;, &#x27;Tenure&#x27;, &#x27;Balance&#x27;, &#x27;Numofproducts&#x27;,\n",
       "       &#x27;Estimatedsalary&#x27;, &#x27;Balance_sq&#x27;],\n",
       "      dtype=&#x27;object&#x27;)),\n",
       "                                                                              (&#x27;pipeline-2&#x27;,\n",
       "                                                                               Pipeline(steps=[(&#x27;oneho...\n",
       "                                                                                &#x27;Gender&#x27;])],\n",
       "                                                                verbose_feature_names_out=False)),\n",
       "                                             (&#x27;oversample&#x27;,\n",
       "                                              SMOTE(random_state=42)),\n",
       "                                             (&#x27;estimation&#x27;,\n",
       "                                              LogisticRegression(random_state=42))]),\n",
       "                   param_distributions={&#x27;estimation__C&#x27;: array([1.e-03, 1.e-02, 1.e-01, 1.e+00, 1.e+01, 1.e+02, 1.e+03]),\n",
       "                                        &#x27;estimation__penalty&#x27;: [&#x27;l1&#x27;, &#x27;l2&#x27;],\n",
       "                                        &#x27;estimation__solver&#x27;: [&#x27;newton-cg&#x27;,\n",
       "                                                               &#x27;lbfgs&#x27;,\n",
       "                                                               &#x27;liblinear&#x27;]},\n",
       "                   random_state=42, scoring=&#x27;f1&#x27;)</pre></div></div></div><div class=\"sk-parallel\"><div class=\"sk-parallel-item\"><div class=\"sk-item\"><div class=\"sk-label-container\"><div class=\"sk-label sk-toggleable\"><input class=\"sk-toggleable__control sk-hidden--visually\" id=\"sk-estimator-id-520\" type=\"checkbox\" ><label for=\"sk-estimator-id-520\" class=\"sk-toggleable__label sk-toggleable__label-arrow\">estimator: Pipeline</label><div class=\"sk-toggleable__content\"><pre>Pipeline(steps=[(&#x27;preprocessor&#x27;,\n",
       "                 ColumnTransformer(remainder=&#x27;passthrough&#x27;,\n",
       "                                   transformers=[(&#x27;pipeline-1&#x27;,\n",
       "                                                  Pipeline(steps=[(&#x27;imputer&#x27;,\n",
       "                                                                   KNNImputer()),\n",
       "                                                                  (&#x27;scaler&#x27;,\n",
       "                                                                   StandardScaler())]),\n",
       "                                                  Index([&#x27;Creditscore&#x27;, &#x27;Age&#x27;, &#x27;Tenure&#x27;, &#x27;Balance&#x27;, &#x27;Numofproducts&#x27;,\n",
       "       &#x27;Estimatedsalary&#x27;, &#x27;Balance_sq&#x27;],\n",
       "      dtype=&#x27;object&#x27;)),\n",
       "                                                 (&#x27;pipeline-2&#x27;,\n",
       "                                                  Pipeline(steps=[(&#x27;onehot&#x27;,\n",
       "                                                                   OneHotEncoder(drop=&#x27;first&#x27;,\n",
       "                                                                                 handle_unknown=&#x27;ignore&#x27;))]),\n",
       "                                                  [&#x27;Geography&#x27;, &#x27;Gender&#x27;])],\n",
       "                                   verbose_feature_names_out=False)),\n",
       "                (&#x27;oversample&#x27;, SMOTE(random_state=42)),\n",
       "                (&#x27;estimation&#x27;, LogisticRegression(random_state=42))])</pre></div></div></div><div class=\"sk-serial\"><div class=\"sk-item\"><div class=\"sk-serial\"><div class=\"sk-item sk-dashed-wrapped\"><div class=\"sk-label-container\"><div class=\"sk-label sk-toggleable\"><input class=\"sk-toggleable__control sk-hidden--visually\" id=\"sk-estimator-id-521\" type=\"checkbox\" ><label for=\"sk-estimator-id-521\" class=\"sk-toggleable__label sk-toggleable__label-arrow\">preprocessor: ColumnTransformer</label><div class=\"sk-toggleable__content\"><pre>ColumnTransformer(remainder=&#x27;passthrough&#x27;,\n",
       "                  transformers=[(&#x27;pipeline-1&#x27;,\n",
       "                                 Pipeline(steps=[(&#x27;imputer&#x27;, KNNImputer()),\n",
       "                                                 (&#x27;scaler&#x27;, StandardScaler())]),\n",
       "                                 Index([&#x27;Creditscore&#x27;, &#x27;Age&#x27;, &#x27;Tenure&#x27;, &#x27;Balance&#x27;, &#x27;Numofproducts&#x27;,\n",
       "       &#x27;Estimatedsalary&#x27;, &#x27;Balance_sq&#x27;],\n",
       "      dtype=&#x27;object&#x27;)),\n",
       "                                (&#x27;pipeline-2&#x27;,\n",
       "                                 Pipeline(steps=[(&#x27;onehot&#x27;,\n",
       "                                                  OneHotEncoder(drop=&#x27;first&#x27;,\n",
       "                                                                handle_unknown=&#x27;ignore&#x27;))]),\n",
       "                                 [&#x27;Geography&#x27;, &#x27;Gender&#x27;])],\n",
       "                  verbose_feature_names_out=False)</pre></div></div></div><div class=\"sk-parallel\"><div class=\"sk-parallel-item\"><div class=\"sk-item\"><div class=\"sk-label-container\"><div class=\"sk-label sk-toggleable\"><input class=\"sk-toggleable__control sk-hidden--visually\" id=\"sk-estimator-id-522\" type=\"checkbox\" ><label for=\"sk-estimator-id-522\" class=\"sk-toggleable__label sk-toggleable__label-arrow\">pipeline-1</label><div class=\"sk-toggleable__content\"><pre>Index([&#x27;Creditscore&#x27;, &#x27;Age&#x27;, &#x27;Tenure&#x27;, &#x27;Balance&#x27;, &#x27;Numofproducts&#x27;,\n",
       "       &#x27;Estimatedsalary&#x27;, &#x27;Balance_sq&#x27;],\n",
       "      dtype=&#x27;object&#x27;)</pre></div></div></div><div class=\"sk-serial\"><div class=\"sk-item\"><div class=\"sk-serial\"><div class=\"sk-item\"><div class=\"sk-estimator sk-toggleable\"><input class=\"sk-toggleable__control sk-hidden--visually\" id=\"sk-estimator-id-523\" type=\"checkbox\" ><label for=\"sk-estimator-id-523\" class=\"sk-toggleable__label sk-toggleable__label-arrow\">KNNImputer</label><div class=\"sk-toggleable__content\"><pre>KNNImputer()</pre></div></div></div><div class=\"sk-item\"><div class=\"sk-estimator sk-toggleable\"><input class=\"sk-toggleable__control sk-hidden--visually\" id=\"sk-estimator-id-524\" type=\"checkbox\" ><label for=\"sk-estimator-id-524\" class=\"sk-toggleable__label sk-toggleable__label-arrow\">StandardScaler</label><div class=\"sk-toggleable__content\"><pre>StandardScaler()</pre></div></div></div></div></div></div></div></div><div class=\"sk-parallel-item\"><div class=\"sk-item\"><div class=\"sk-label-container\"><div class=\"sk-label sk-toggleable\"><input class=\"sk-toggleable__control sk-hidden--visually\" id=\"sk-estimator-id-525\" type=\"checkbox\" ><label for=\"sk-estimator-id-525\" class=\"sk-toggleable__label sk-toggleable__label-arrow\">pipeline-2</label><div class=\"sk-toggleable__content\"><pre>[&#x27;Geography&#x27;, &#x27;Gender&#x27;]</pre></div></div></div><div class=\"sk-serial\"><div class=\"sk-item\"><div class=\"sk-serial\"><div class=\"sk-item\"><div class=\"sk-estimator sk-toggleable\"><input class=\"sk-toggleable__control sk-hidden--visually\" id=\"sk-estimator-id-526\" type=\"checkbox\" ><label for=\"sk-estimator-id-526\" class=\"sk-toggleable__label sk-toggleable__label-arrow\">OneHotEncoder</label><div class=\"sk-toggleable__content\"><pre>OneHotEncoder(drop=&#x27;first&#x27;, handle_unknown=&#x27;ignore&#x27;)</pre></div></div></div></div></div></div></div></div><div class=\"sk-parallel-item\"><div class=\"sk-item\"><div class=\"sk-label-container\"><div class=\"sk-label sk-toggleable\"><input class=\"sk-toggleable__control sk-hidden--visually\" id=\"sk-estimator-id-527\" type=\"checkbox\" ><label for=\"sk-estimator-id-527\" class=\"sk-toggleable__label sk-toggleable__label-arrow\">remainder</label><div class=\"sk-toggleable__content\"><pre>[&#x27;Hascrcard&#x27;, &#x27;Isactivemember&#x27;]</pre></div></div></div><div class=\"sk-serial\"><div class=\"sk-item\"><div class=\"sk-estimator sk-toggleable\"><input class=\"sk-toggleable__control sk-hidden--visually\" id=\"sk-estimator-id-528\" type=\"checkbox\" ><label for=\"sk-estimator-id-528\" class=\"sk-toggleable__label sk-toggleable__label-arrow\">passthrough</label><div class=\"sk-toggleable__content\"><pre>passthrough</pre></div></div></div></div></div></div></div></div><div class=\"sk-item\"><div class=\"sk-estimator sk-toggleable\"><input class=\"sk-toggleable__control sk-hidden--visually\" id=\"sk-estimator-id-529\" type=\"checkbox\" ><label for=\"sk-estimator-id-529\" class=\"sk-toggleable__label sk-toggleable__label-arrow\">SMOTE</label><div class=\"sk-toggleable__content\"><pre>SMOTE(random_state=42)</pre></div></div></div><div class=\"sk-item\"><div class=\"sk-estimator sk-toggleable\"><input class=\"sk-toggleable__control sk-hidden--visually\" id=\"sk-estimator-id-530\" type=\"checkbox\" ><label for=\"sk-estimator-id-530\" class=\"sk-toggleable__label sk-toggleable__label-arrow\">LogisticRegression</label><div class=\"sk-toggleable__content\"><pre>LogisticRegression(random_state=42)</pre></div></div></div></div></div></div></div></div></div></div></div></div>"
      ],
      "text/plain": [
       "RandomizedSearchCV(estimator=Pipeline(steps=[('preprocessor',\n",
       "                                              ColumnTransformer(remainder='passthrough',\n",
       "                                                                transformers=[('pipeline-1',\n",
       "                                                                               Pipeline(steps=[('imputer',\n",
       "                                                                                                KNNImputer()),\n",
       "                                                                                               ('scaler',\n",
       "                                                                                                StandardScaler())]),\n",
       "                                                                               Index(['Creditscore', 'Age', 'Tenure', 'Balance', 'Numofproducts',\n",
       "       'Estimatedsalary', 'Balance_sq'],\n",
       "      dtype='object')),\n",
       "                                                                              ('pipeline-2',\n",
       "                                                                               Pipeline(steps=[('oneho...\n",
       "                                                                                'Gender'])],\n",
       "                                                                verbose_feature_names_out=False)),\n",
       "                                             ('oversample',\n",
       "                                              SMOTE(random_state=42)),\n",
       "                                             ('estimation',\n",
       "                                              LogisticRegression(random_state=42))]),\n",
       "                   param_distributions={'estimation__C': array([1.e-03, 1.e-02, 1.e-01, 1.e+00, 1.e+01, 1.e+02, 1.e+03]),\n",
       "                                        'estimation__penalty': ['l1', 'l2'],\n",
       "                                        'estimation__solver': ['newton-cg',\n",
       "                                                               'lbfgs',\n",
       "                                                               'liblinear']},\n",
       "                   random_state=42, scoring='f1')"
      ]
     },
     "execution_count": 289,
     "metadata": {},
     "output_type": "execute_result"
    }
   ],
   "source": [
    "# Создаём пайплайн\n",
    "model_logit_smote = LogisticRegression(random_state=42)\n",
    "pipeline_logit_smote = Pipeline_imb([('preprocessor',preprocessor),('oversample',oversample), ('estimation',model_logit_smote)])\n",
    "\n",
    "param_grid_logit = {\n",
    "    'estimation__penalty' : ['l1','l2'], \n",
    "    'estimation__C'       : np.logspace(-3,3,7),\n",
    "    'estimation__solver'  : ['newton-cg', 'lbfgs', 'liblinear'],\n",
    "}\n",
    "\n",
    "gs_logit_smote = RandomizedSearchCV(\n",
    "    pipeline_logit_smote, \n",
    "    param_distributions=param_grid_logit, \n",
    "    scoring='f1',\n",
    "    random_state=42,\n",
    ")\n",
    "\n",
    "gs_logit_smote.fit(features_train,target_train)"
   ]
  },
  {
   "cell_type": "code",
   "execution_count": 290,
   "metadata": {},
   "outputs": [
    {
     "data": {
      "text/plain": [
       "0.453551912568306"
      ]
     },
     "execution_count": 290,
     "metadata": {},
     "output_type": "execute_result"
    }
   ],
   "source": [
    "# Проверяю на валидационной выборке\n",
    "predict_valid_smote = gs_logit_smote.predict(features_valid)\n",
    "f1_logit_smote = f1_score(target_valid, predict_valid_smote)\n",
    "f1_logit_smote"
   ]
  },
  {
   "cell_type": "markdown",
   "metadata": {},
   "source": [
    "#### ADASYN"
   ]
  },
  {
   "cell_type": "code",
   "execution_count": 291,
   "metadata": {},
   "outputs": [],
   "source": [
    "# Инициализирую алгоритм для oversample\n",
    "oversample = ADASYN(random_state=42)"
   ]
  },
  {
   "cell_type": "markdown",
   "metadata": {},
   "source": [
    "##### Decision Tree"
   ]
  },
  {
   "cell_type": "code",
   "execution_count": 292,
   "metadata": {},
   "outputs": [
    {
     "data": {
      "text/html": [
       "<style>#sk-container-id-48 {color: black;background-color: white;}#sk-container-id-48 pre{padding: 0;}#sk-container-id-48 div.sk-toggleable {background-color: white;}#sk-container-id-48 label.sk-toggleable__label {cursor: pointer;display: block;width: 100%;margin-bottom: 0;padding: 0.3em;box-sizing: border-box;text-align: center;}#sk-container-id-48 label.sk-toggleable__label-arrow:before {content: \"▸\";float: left;margin-right: 0.25em;color: #696969;}#sk-container-id-48 label.sk-toggleable__label-arrow:hover:before {color: black;}#sk-container-id-48 div.sk-estimator:hover label.sk-toggleable__label-arrow:before {color: black;}#sk-container-id-48 div.sk-toggleable__content {max-height: 0;max-width: 0;overflow: hidden;text-align: left;background-color: #f0f8ff;}#sk-container-id-48 div.sk-toggleable__content pre {margin: 0.2em;color: black;border-radius: 0.25em;background-color: #f0f8ff;}#sk-container-id-48 input.sk-toggleable__control:checked~div.sk-toggleable__content {max-height: 200px;max-width: 100%;overflow: auto;}#sk-container-id-48 input.sk-toggleable__control:checked~label.sk-toggleable__label-arrow:before {content: \"▾\";}#sk-container-id-48 div.sk-estimator input.sk-toggleable__control:checked~label.sk-toggleable__label {background-color: #d4ebff;}#sk-container-id-48 div.sk-label input.sk-toggleable__control:checked~label.sk-toggleable__label {background-color: #d4ebff;}#sk-container-id-48 input.sk-hidden--visually {border: 0;clip: rect(1px 1px 1px 1px);clip: rect(1px, 1px, 1px, 1px);height: 1px;margin: -1px;overflow: hidden;padding: 0;position: absolute;width: 1px;}#sk-container-id-48 div.sk-estimator {font-family: monospace;background-color: #f0f8ff;border: 1px dotted black;border-radius: 0.25em;box-sizing: border-box;margin-bottom: 0.5em;}#sk-container-id-48 div.sk-estimator:hover {background-color: #d4ebff;}#sk-container-id-48 div.sk-parallel-item::after {content: \"\";width: 100%;border-bottom: 1px solid gray;flex-grow: 1;}#sk-container-id-48 div.sk-label:hover label.sk-toggleable__label {background-color: #d4ebff;}#sk-container-id-48 div.sk-serial::before {content: \"\";position: absolute;border-left: 1px solid gray;box-sizing: border-box;top: 0;bottom: 0;left: 50%;z-index: 0;}#sk-container-id-48 div.sk-serial {display: flex;flex-direction: column;align-items: center;background-color: white;padding-right: 0.2em;padding-left: 0.2em;position: relative;}#sk-container-id-48 div.sk-item {position: relative;z-index: 1;}#sk-container-id-48 div.sk-parallel {display: flex;align-items: stretch;justify-content: center;background-color: white;position: relative;}#sk-container-id-48 div.sk-item::before, #sk-container-id-48 div.sk-parallel-item::before {content: \"\";position: absolute;border-left: 1px solid gray;box-sizing: border-box;top: 0;bottom: 0;left: 50%;z-index: -1;}#sk-container-id-48 div.sk-parallel-item {display: flex;flex-direction: column;z-index: 1;position: relative;background-color: white;}#sk-container-id-48 div.sk-parallel-item:first-child::after {align-self: flex-end;width: 50%;}#sk-container-id-48 div.sk-parallel-item:last-child::after {align-self: flex-start;width: 50%;}#sk-container-id-48 div.sk-parallel-item:only-child::after {width: 0;}#sk-container-id-48 div.sk-dashed-wrapped {border: 1px dashed gray;margin: 0 0.4em 0.5em 0.4em;box-sizing: border-box;padding-bottom: 0.4em;background-color: white;}#sk-container-id-48 div.sk-label label {font-family: monospace;font-weight: bold;display: inline-block;line-height: 1.2em;}#sk-container-id-48 div.sk-label-container {text-align: center;}#sk-container-id-48 div.sk-container {/* jupyter's `normalize.less` sets `[hidden] { display: none; }` but bootstrap.min.css set `[hidden] { display: none !important; }` so we also need the `!important` here to be able to override the default hidden behavior on the sphinx rendered scikit-learn.org. See: https://github.com/scikit-learn/scikit-learn/issues/21755 */display: inline-block !important;position: relative;}#sk-container-id-48 div.sk-text-repr-fallback {display: none;}</style><div id=\"sk-container-id-48\" class=\"sk-top-container\"><div class=\"sk-text-repr-fallback\"><pre>GridSearchCV(estimator=Pipeline(steps=[(&#x27;preprocessor&#x27;,\n",
       "                                        ColumnTransformer(remainder=&#x27;passthrough&#x27;,\n",
       "                                                          transformers=[(&#x27;pipeline-1&#x27;,\n",
       "                                                                         Pipeline(steps=[(&#x27;imputer&#x27;,\n",
       "                                                                                          KNNImputer()),\n",
       "                                                                                         (&#x27;scaler&#x27;,\n",
       "                                                                                          StandardScaler())]),\n",
       "                                                                         Index([&#x27;Creditscore&#x27;, &#x27;Age&#x27;, &#x27;Tenure&#x27;, &#x27;Balance&#x27;, &#x27;Numofproducts&#x27;,\n",
       "       &#x27;Estimatedsalary&#x27;, &#x27;Balance_sq&#x27;],\n",
       "      dtype=&#x27;object&#x27;)),\n",
       "                                                                        (&#x27;pipeline-2&#x27;,\n",
       "                                                                         Pipeline(steps=[(&#x27;onehot&#x27;,\n",
       "                                                                                          OneHotEncoder(drop=&#x27;first&#x27;,\n",
       "                                                                                                        handle_unknown=&#x27;ignore&#x27;))]),\n",
       "                                                                         [&#x27;Geography&#x27;,\n",
       "                                                                          &#x27;Gender&#x27;])],\n",
       "                                                          verbose_feature_names_out=False)),\n",
       "                                       (&#x27;oversample&#x27;, ADASYN(random_state=42)),\n",
       "                                       (&#x27;estimation&#x27;,\n",
       "                                        DecisionTreeClassifier(random_state=42))]),\n",
       "             param_grid={&#x27;estimation__max_depth&#x27;: range(1, 30)}, scoring=&#x27;f1&#x27;)</pre><b>In a Jupyter environment, please rerun this cell to show the HTML representation or trust the notebook. <br />On GitHub, the HTML representation is unable to render, please try loading this page with nbviewer.org.</b></div><div class=\"sk-container\" hidden><div class=\"sk-item sk-dashed-wrapped\"><div class=\"sk-label-container\"><div class=\"sk-label sk-toggleable\"><input class=\"sk-toggleable__control sk-hidden--visually\" id=\"sk-estimator-id-531\" type=\"checkbox\" ><label for=\"sk-estimator-id-531\" class=\"sk-toggleable__label sk-toggleable__label-arrow\">GridSearchCV</label><div class=\"sk-toggleable__content\"><pre>GridSearchCV(estimator=Pipeline(steps=[(&#x27;preprocessor&#x27;,\n",
       "                                        ColumnTransformer(remainder=&#x27;passthrough&#x27;,\n",
       "                                                          transformers=[(&#x27;pipeline-1&#x27;,\n",
       "                                                                         Pipeline(steps=[(&#x27;imputer&#x27;,\n",
       "                                                                                          KNNImputer()),\n",
       "                                                                                         (&#x27;scaler&#x27;,\n",
       "                                                                                          StandardScaler())]),\n",
       "                                                                         Index([&#x27;Creditscore&#x27;, &#x27;Age&#x27;, &#x27;Tenure&#x27;, &#x27;Balance&#x27;, &#x27;Numofproducts&#x27;,\n",
       "       &#x27;Estimatedsalary&#x27;, &#x27;Balance_sq&#x27;],\n",
       "      dtype=&#x27;object&#x27;)),\n",
       "                                                                        (&#x27;pipeline-2&#x27;,\n",
       "                                                                         Pipeline(steps=[(&#x27;onehot&#x27;,\n",
       "                                                                                          OneHotEncoder(drop=&#x27;first&#x27;,\n",
       "                                                                                                        handle_unknown=&#x27;ignore&#x27;))]),\n",
       "                                                                         [&#x27;Geography&#x27;,\n",
       "                                                                          &#x27;Gender&#x27;])],\n",
       "                                                          verbose_feature_names_out=False)),\n",
       "                                       (&#x27;oversample&#x27;, ADASYN(random_state=42)),\n",
       "                                       (&#x27;estimation&#x27;,\n",
       "                                        DecisionTreeClassifier(random_state=42))]),\n",
       "             param_grid={&#x27;estimation__max_depth&#x27;: range(1, 30)}, scoring=&#x27;f1&#x27;)</pre></div></div></div><div class=\"sk-parallel\"><div class=\"sk-parallel-item\"><div class=\"sk-item\"><div class=\"sk-label-container\"><div class=\"sk-label sk-toggleable\"><input class=\"sk-toggleable__control sk-hidden--visually\" id=\"sk-estimator-id-532\" type=\"checkbox\" ><label for=\"sk-estimator-id-532\" class=\"sk-toggleable__label sk-toggleable__label-arrow\">estimator: Pipeline</label><div class=\"sk-toggleable__content\"><pre>Pipeline(steps=[(&#x27;preprocessor&#x27;,\n",
       "                 ColumnTransformer(remainder=&#x27;passthrough&#x27;,\n",
       "                                   transformers=[(&#x27;pipeline-1&#x27;,\n",
       "                                                  Pipeline(steps=[(&#x27;imputer&#x27;,\n",
       "                                                                   KNNImputer()),\n",
       "                                                                  (&#x27;scaler&#x27;,\n",
       "                                                                   StandardScaler())]),\n",
       "                                                  Index([&#x27;Creditscore&#x27;, &#x27;Age&#x27;, &#x27;Tenure&#x27;, &#x27;Balance&#x27;, &#x27;Numofproducts&#x27;,\n",
       "       &#x27;Estimatedsalary&#x27;, &#x27;Balance_sq&#x27;],\n",
       "      dtype=&#x27;object&#x27;)),\n",
       "                                                 (&#x27;pipeline-2&#x27;,\n",
       "                                                  Pipeline(steps=[(&#x27;onehot&#x27;,\n",
       "                                                                   OneHotEncoder(drop=&#x27;first&#x27;,\n",
       "                                                                                 handle_unknown=&#x27;ignore&#x27;))]),\n",
       "                                                  [&#x27;Geography&#x27;, &#x27;Gender&#x27;])],\n",
       "                                   verbose_feature_names_out=False)),\n",
       "                (&#x27;oversample&#x27;, ADASYN(random_state=42)),\n",
       "                (&#x27;estimation&#x27;, DecisionTreeClassifier(random_state=42))])</pre></div></div></div><div class=\"sk-serial\"><div class=\"sk-item\"><div class=\"sk-serial\"><div class=\"sk-item sk-dashed-wrapped\"><div class=\"sk-label-container\"><div class=\"sk-label sk-toggleable\"><input class=\"sk-toggleable__control sk-hidden--visually\" id=\"sk-estimator-id-533\" type=\"checkbox\" ><label for=\"sk-estimator-id-533\" class=\"sk-toggleable__label sk-toggleable__label-arrow\">preprocessor: ColumnTransformer</label><div class=\"sk-toggleable__content\"><pre>ColumnTransformer(remainder=&#x27;passthrough&#x27;,\n",
       "                  transformers=[(&#x27;pipeline-1&#x27;,\n",
       "                                 Pipeline(steps=[(&#x27;imputer&#x27;, KNNImputer()),\n",
       "                                                 (&#x27;scaler&#x27;, StandardScaler())]),\n",
       "                                 Index([&#x27;Creditscore&#x27;, &#x27;Age&#x27;, &#x27;Tenure&#x27;, &#x27;Balance&#x27;, &#x27;Numofproducts&#x27;,\n",
       "       &#x27;Estimatedsalary&#x27;, &#x27;Balance_sq&#x27;],\n",
       "      dtype=&#x27;object&#x27;)),\n",
       "                                (&#x27;pipeline-2&#x27;,\n",
       "                                 Pipeline(steps=[(&#x27;onehot&#x27;,\n",
       "                                                  OneHotEncoder(drop=&#x27;first&#x27;,\n",
       "                                                                handle_unknown=&#x27;ignore&#x27;))]),\n",
       "                                 [&#x27;Geography&#x27;, &#x27;Gender&#x27;])],\n",
       "                  verbose_feature_names_out=False)</pre></div></div></div><div class=\"sk-parallel\"><div class=\"sk-parallel-item\"><div class=\"sk-item\"><div class=\"sk-label-container\"><div class=\"sk-label sk-toggleable\"><input class=\"sk-toggleable__control sk-hidden--visually\" id=\"sk-estimator-id-534\" type=\"checkbox\" ><label for=\"sk-estimator-id-534\" class=\"sk-toggleable__label sk-toggleable__label-arrow\">pipeline-1</label><div class=\"sk-toggleable__content\"><pre>Index([&#x27;Creditscore&#x27;, &#x27;Age&#x27;, &#x27;Tenure&#x27;, &#x27;Balance&#x27;, &#x27;Numofproducts&#x27;,\n",
       "       &#x27;Estimatedsalary&#x27;, &#x27;Balance_sq&#x27;],\n",
       "      dtype=&#x27;object&#x27;)</pre></div></div></div><div class=\"sk-serial\"><div class=\"sk-item\"><div class=\"sk-serial\"><div class=\"sk-item\"><div class=\"sk-estimator sk-toggleable\"><input class=\"sk-toggleable__control sk-hidden--visually\" id=\"sk-estimator-id-535\" type=\"checkbox\" ><label for=\"sk-estimator-id-535\" class=\"sk-toggleable__label sk-toggleable__label-arrow\">KNNImputer</label><div class=\"sk-toggleable__content\"><pre>KNNImputer()</pre></div></div></div><div class=\"sk-item\"><div class=\"sk-estimator sk-toggleable\"><input class=\"sk-toggleable__control sk-hidden--visually\" id=\"sk-estimator-id-536\" type=\"checkbox\" ><label for=\"sk-estimator-id-536\" class=\"sk-toggleable__label sk-toggleable__label-arrow\">StandardScaler</label><div class=\"sk-toggleable__content\"><pre>StandardScaler()</pre></div></div></div></div></div></div></div></div><div class=\"sk-parallel-item\"><div class=\"sk-item\"><div class=\"sk-label-container\"><div class=\"sk-label sk-toggleable\"><input class=\"sk-toggleable__control sk-hidden--visually\" id=\"sk-estimator-id-537\" type=\"checkbox\" ><label for=\"sk-estimator-id-537\" class=\"sk-toggleable__label sk-toggleable__label-arrow\">pipeline-2</label><div class=\"sk-toggleable__content\"><pre>[&#x27;Geography&#x27;, &#x27;Gender&#x27;]</pre></div></div></div><div class=\"sk-serial\"><div class=\"sk-item\"><div class=\"sk-serial\"><div class=\"sk-item\"><div class=\"sk-estimator sk-toggleable\"><input class=\"sk-toggleable__control sk-hidden--visually\" id=\"sk-estimator-id-538\" type=\"checkbox\" ><label for=\"sk-estimator-id-538\" class=\"sk-toggleable__label sk-toggleable__label-arrow\">OneHotEncoder</label><div class=\"sk-toggleable__content\"><pre>OneHotEncoder(drop=&#x27;first&#x27;, handle_unknown=&#x27;ignore&#x27;)</pre></div></div></div></div></div></div></div></div><div class=\"sk-parallel-item\"><div class=\"sk-item\"><div class=\"sk-label-container\"><div class=\"sk-label sk-toggleable\"><input class=\"sk-toggleable__control sk-hidden--visually\" id=\"sk-estimator-id-539\" type=\"checkbox\" ><label for=\"sk-estimator-id-539\" class=\"sk-toggleable__label sk-toggleable__label-arrow\">remainder</label><div class=\"sk-toggleable__content\"><pre>[&#x27;Hascrcard&#x27;, &#x27;Isactivemember&#x27;]</pre></div></div></div><div class=\"sk-serial\"><div class=\"sk-item\"><div class=\"sk-estimator sk-toggleable\"><input class=\"sk-toggleable__control sk-hidden--visually\" id=\"sk-estimator-id-540\" type=\"checkbox\" ><label for=\"sk-estimator-id-540\" class=\"sk-toggleable__label sk-toggleable__label-arrow\">passthrough</label><div class=\"sk-toggleable__content\"><pre>passthrough</pre></div></div></div></div></div></div></div></div><div class=\"sk-item\"><div class=\"sk-estimator sk-toggleable\"><input class=\"sk-toggleable__control sk-hidden--visually\" id=\"sk-estimator-id-541\" type=\"checkbox\" ><label for=\"sk-estimator-id-541\" class=\"sk-toggleable__label sk-toggleable__label-arrow\">ADASYN</label><div class=\"sk-toggleable__content\"><pre>ADASYN(random_state=42)</pre></div></div></div><div class=\"sk-item\"><div class=\"sk-estimator sk-toggleable\"><input class=\"sk-toggleable__control sk-hidden--visually\" id=\"sk-estimator-id-542\" type=\"checkbox\" ><label for=\"sk-estimator-id-542\" class=\"sk-toggleable__label sk-toggleable__label-arrow\">DecisionTreeClassifier</label><div class=\"sk-toggleable__content\"><pre>DecisionTreeClassifier(random_state=42)</pre></div></div></div></div></div></div></div></div></div></div></div></div>"
      ],
      "text/plain": [
       "GridSearchCV(estimator=Pipeline(steps=[('preprocessor',\n",
       "                                        ColumnTransformer(remainder='passthrough',\n",
       "                                                          transformers=[('pipeline-1',\n",
       "                                                                         Pipeline(steps=[('imputer',\n",
       "                                                                                          KNNImputer()),\n",
       "                                                                                         ('scaler',\n",
       "                                                                                          StandardScaler())]),\n",
       "                                                                         Index(['Creditscore', 'Age', 'Tenure', 'Balance', 'Numofproducts',\n",
       "       'Estimatedsalary', 'Balance_sq'],\n",
       "      dtype='object')),\n",
       "                                                                        ('pipeline-2',\n",
       "                                                                         Pipeline(steps=[('onehot',\n",
       "                                                                                          OneHotEncoder(drop='first',\n",
       "                                                                                                        handle_unknown='ignore'))]),\n",
       "                                                                         ['Geography',\n",
       "                                                                          'Gender'])],\n",
       "                                                          verbose_feature_names_out=False)),\n",
       "                                       ('oversample', ADASYN(random_state=42)),\n",
       "                                       ('estimation',\n",
       "                                        DecisionTreeClassifier(random_state=42))]),\n",
       "             param_grid={'estimation__max_depth': range(1, 30)}, scoring='f1')"
      ]
     },
     "execution_count": 292,
     "metadata": {},
     "output_type": "execute_result"
    }
   ],
   "source": [
    "# Создаём пайплайн\n",
    "model_tree_adasyn = DecisionTreeClassifier(random_state=42)\n",
    "pipeline_tree_adasyn = Pipeline_imb([('preprocessor',preprocessor),('oversample',oversample), ('estimation',model_tree_smote)])\n",
    "\n",
    "param_grid_tree = {\n",
    "    'estimation__max_depth': range(1,30)\n",
    "}\n",
    "\n",
    "gs_tree_adasyn = GridSearchCV(\n",
    "    pipeline_tree_adasyn, \n",
    "    param_grid=param_grid_tree, \n",
    "    scoring='f1',\n",
    ")\n",
    "gs_tree_adasyn.fit(features_train,target_train)"
   ]
  },
  {
   "cell_type": "code",
   "execution_count": 293,
   "metadata": {},
   "outputs": [
    {
     "data": {
      "text/plain": [
       "0.453551912568306"
      ]
     },
     "execution_count": 293,
     "metadata": {},
     "output_type": "execute_result"
    }
   ],
   "source": [
    "predict_valid_adasyn = gs_tree_adasyn.predict(features_valid)\n",
    "f1_tree_adasyn = f1_score(target_valid, predict_valid_smote)\n",
    "f1_tree_adasyn"
   ]
  },
  {
   "cell_type": "markdown",
   "metadata": {},
   "source": [
    "##### Random Forest"
   ]
  },
  {
   "cell_type": "code",
   "execution_count": 294,
   "metadata": {},
   "outputs": [
    {
     "data": {
      "text/html": [
       "<style>#sk-container-id-49 {color: black;background-color: white;}#sk-container-id-49 pre{padding: 0;}#sk-container-id-49 div.sk-toggleable {background-color: white;}#sk-container-id-49 label.sk-toggleable__label {cursor: pointer;display: block;width: 100%;margin-bottom: 0;padding: 0.3em;box-sizing: border-box;text-align: center;}#sk-container-id-49 label.sk-toggleable__label-arrow:before {content: \"▸\";float: left;margin-right: 0.25em;color: #696969;}#sk-container-id-49 label.sk-toggleable__label-arrow:hover:before {color: black;}#sk-container-id-49 div.sk-estimator:hover label.sk-toggleable__label-arrow:before {color: black;}#sk-container-id-49 div.sk-toggleable__content {max-height: 0;max-width: 0;overflow: hidden;text-align: left;background-color: #f0f8ff;}#sk-container-id-49 div.sk-toggleable__content pre {margin: 0.2em;color: black;border-radius: 0.25em;background-color: #f0f8ff;}#sk-container-id-49 input.sk-toggleable__control:checked~div.sk-toggleable__content {max-height: 200px;max-width: 100%;overflow: auto;}#sk-container-id-49 input.sk-toggleable__control:checked~label.sk-toggleable__label-arrow:before {content: \"▾\";}#sk-container-id-49 div.sk-estimator input.sk-toggleable__control:checked~label.sk-toggleable__label {background-color: #d4ebff;}#sk-container-id-49 div.sk-label input.sk-toggleable__control:checked~label.sk-toggleable__label {background-color: #d4ebff;}#sk-container-id-49 input.sk-hidden--visually {border: 0;clip: rect(1px 1px 1px 1px);clip: rect(1px, 1px, 1px, 1px);height: 1px;margin: -1px;overflow: hidden;padding: 0;position: absolute;width: 1px;}#sk-container-id-49 div.sk-estimator {font-family: monospace;background-color: #f0f8ff;border: 1px dotted black;border-radius: 0.25em;box-sizing: border-box;margin-bottom: 0.5em;}#sk-container-id-49 div.sk-estimator:hover {background-color: #d4ebff;}#sk-container-id-49 div.sk-parallel-item::after {content: \"\";width: 100%;border-bottom: 1px solid gray;flex-grow: 1;}#sk-container-id-49 div.sk-label:hover label.sk-toggleable__label {background-color: #d4ebff;}#sk-container-id-49 div.sk-serial::before {content: \"\";position: absolute;border-left: 1px solid gray;box-sizing: border-box;top: 0;bottom: 0;left: 50%;z-index: 0;}#sk-container-id-49 div.sk-serial {display: flex;flex-direction: column;align-items: center;background-color: white;padding-right: 0.2em;padding-left: 0.2em;position: relative;}#sk-container-id-49 div.sk-item {position: relative;z-index: 1;}#sk-container-id-49 div.sk-parallel {display: flex;align-items: stretch;justify-content: center;background-color: white;position: relative;}#sk-container-id-49 div.sk-item::before, #sk-container-id-49 div.sk-parallel-item::before {content: \"\";position: absolute;border-left: 1px solid gray;box-sizing: border-box;top: 0;bottom: 0;left: 50%;z-index: -1;}#sk-container-id-49 div.sk-parallel-item {display: flex;flex-direction: column;z-index: 1;position: relative;background-color: white;}#sk-container-id-49 div.sk-parallel-item:first-child::after {align-self: flex-end;width: 50%;}#sk-container-id-49 div.sk-parallel-item:last-child::after {align-self: flex-start;width: 50%;}#sk-container-id-49 div.sk-parallel-item:only-child::after {width: 0;}#sk-container-id-49 div.sk-dashed-wrapped {border: 1px dashed gray;margin: 0 0.4em 0.5em 0.4em;box-sizing: border-box;padding-bottom: 0.4em;background-color: white;}#sk-container-id-49 div.sk-label label {font-family: monospace;font-weight: bold;display: inline-block;line-height: 1.2em;}#sk-container-id-49 div.sk-label-container {text-align: center;}#sk-container-id-49 div.sk-container {/* jupyter's `normalize.less` sets `[hidden] { display: none; }` but bootstrap.min.css set `[hidden] { display: none !important; }` so we also need the `!important` here to be able to override the default hidden behavior on the sphinx rendered scikit-learn.org. See: https://github.com/scikit-learn/scikit-learn/issues/21755 */display: inline-block !important;position: relative;}#sk-container-id-49 div.sk-text-repr-fallback {display: none;}</style><div id=\"sk-container-id-49\" class=\"sk-top-container\"><div class=\"sk-text-repr-fallback\"><pre>RandomizedSearchCV(estimator=Pipeline(steps=[(&#x27;preprocessor&#x27;,\n",
       "                                              ColumnTransformer(remainder=&#x27;passthrough&#x27;,\n",
       "                                                                transformers=[(&#x27;pipeline-1&#x27;,\n",
       "                                                                               Pipeline(steps=[(&#x27;imputer&#x27;,\n",
       "                                                                                                KNNImputer()),\n",
       "                                                                                               (&#x27;scaler&#x27;,\n",
       "                                                                                                StandardScaler())]),\n",
       "                                                                               Index([&#x27;Creditscore&#x27;, &#x27;Age&#x27;, &#x27;Tenure&#x27;, &#x27;Balance&#x27;, &#x27;Numofproducts&#x27;,\n",
       "       &#x27;Estimatedsalary&#x27;, &#x27;Balance_sq&#x27;],\n",
       "      dtype=&#x27;object&#x27;)),\n",
       "                                                                              (&#x27;pipeline-2&#x27;,\n",
       "                                                                               Pipeline(steps=[(&#x27;oneho...\n",
       "                                                                                &#x27;Gender&#x27;])],\n",
       "                                                                verbose_feature_names_out=False)),\n",
       "                                             (&#x27;oversample&#x27;,\n",
       "                                              ADASYN(random_state=42)),\n",
       "                                             (&#x27;estimation&#x27;,\n",
       "                                              RandomForestClassifier(random_state=42))]),\n",
       "                   param_distributions={&#x27;estimation__max_depth&#x27;: range(2, 15),\n",
       "                                        &#x27;estimation__min_samples_leaf&#x27;: (1, 2,\n",
       "                                                                         3, 4),\n",
       "                                        &#x27;estimation__min_samples_split&#x27;: (2, 3,\n",
       "                                                                          4),\n",
       "                                        &#x27;estimation__n_estimators&#x27;: range(10, 110, 30)},\n",
       "                   random_state=42, scoring=&#x27;f1&#x27;)</pre><b>In a Jupyter environment, please rerun this cell to show the HTML representation or trust the notebook. <br />On GitHub, the HTML representation is unable to render, please try loading this page with nbviewer.org.</b></div><div class=\"sk-container\" hidden><div class=\"sk-item sk-dashed-wrapped\"><div class=\"sk-label-container\"><div class=\"sk-label sk-toggleable\"><input class=\"sk-toggleable__control sk-hidden--visually\" id=\"sk-estimator-id-543\" type=\"checkbox\" ><label for=\"sk-estimator-id-543\" class=\"sk-toggleable__label sk-toggleable__label-arrow\">RandomizedSearchCV</label><div class=\"sk-toggleable__content\"><pre>RandomizedSearchCV(estimator=Pipeline(steps=[(&#x27;preprocessor&#x27;,\n",
       "                                              ColumnTransformer(remainder=&#x27;passthrough&#x27;,\n",
       "                                                                transformers=[(&#x27;pipeline-1&#x27;,\n",
       "                                                                               Pipeline(steps=[(&#x27;imputer&#x27;,\n",
       "                                                                                                KNNImputer()),\n",
       "                                                                                               (&#x27;scaler&#x27;,\n",
       "                                                                                                StandardScaler())]),\n",
       "                                                                               Index([&#x27;Creditscore&#x27;, &#x27;Age&#x27;, &#x27;Tenure&#x27;, &#x27;Balance&#x27;, &#x27;Numofproducts&#x27;,\n",
       "       &#x27;Estimatedsalary&#x27;, &#x27;Balance_sq&#x27;],\n",
       "      dtype=&#x27;object&#x27;)),\n",
       "                                                                              (&#x27;pipeline-2&#x27;,\n",
       "                                                                               Pipeline(steps=[(&#x27;oneho...\n",
       "                                                                                &#x27;Gender&#x27;])],\n",
       "                                                                verbose_feature_names_out=False)),\n",
       "                                             (&#x27;oversample&#x27;,\n",
       "                                              ADASYN(random_state=42)),\n",
       "                                             (&#x27;estimation&#x27;,\n",
       "                                              RandomForestClassifier(random_state=42))]),\n",
       "                   param_distributions={&#x27;estimation__max_depth&#x27;: range(2, 15),\n",
       "                                        &#x27;estimation__min_samples_leaf&#x27;: (1, 2,\n",
       "                                                                         3, 4),\n",
       "                                        &#x27;estimation__min_samples_split&#x27;: (2, 3,\n",
       "                                                                          4),\n",
       "                                        &#x27;estimation__n_estimators&#x27;: range(10, 110, 30)},\n",
       "                   random_state=42, scoring=&#x27;f1&#x27;)</pre></div></div></div><div class=\"sk-parallel\"><div class=\"sk-parallel-item\"><div class=\"sk-item\"><div class=\"sk-label-container\"><div class=\"sk-label sk-toggleable\"><input class=\"sk-toggleable__control sk-hidden--visually\" id=\"sk-estimator-id-544\" type=\"checkbox\" ><label for=\"sk-estimator-id-544\" class=\"sk-toggleable__label sk-toggleable__label-arrow\">estimator: Pipeline</label><div class=\"sk-toggleable__content\"><pre>Pipeline(steps=[(&#x27;preprocessor&#x27;,\n",
       "                 ColumnTransformer(remainder=&#x27;passthrough&#x27;,\n",
       "                                   transformers=[(&#x27;pipeline-1&#x27;,\n",
       "                                                  Pipeline(steps=[(&#x27;imputer&#x27;,\n",
       "                                                                   KNNImputer()),\n",
       "                                                                  (&#x27;scaler&#x27;,\n",
       "                                                                   StandardScaler())]),\n",
       "                                                  Index([&#x27;Creditscore&#x27;, &#x27;Age&#x27;, &#x27;Tenure&#x27;, &#x27;Balance&#x27;, &#x27;Numofproducts&#x27;,\n",
       "       &#x27;Estimatedsalary&#x27;, &#x27;Balance_sq&#x27;],\n",
       "      dtype=&#x27;object&#x27;)),\n",
       "                                                 (&#x27;pipeline-2&#x27;,\n",
       "                                                  Pipeline(steps=[(&#x27;onehot&#x27;,\n",
       "                                                                   OneHotEncoder(drop=&#x27;first&#x27;,\n",
       "                                                                                 handle_unknown=&#x27;ignore&#x27;))]),\n",
       "                                                  [&#x27;Geography&#x27;, &#x27;Gender&#x27;])],\n",
       "                                   verbose_feature_names_out=False)),\n",
       "                (&#x27;oversample&#x27;, ADASYN(random_state=42)),\n",
       "                (&#x27;estimation&#x27;, RandomForestClassifier(random_state=42))])</pre></div></div></div><div class=\"sk-serial\"><div class=\"sk-item\"><div class=\"sk-serial\"><div class=\"sk-item sk-dashed-wrapped\"><div class=\"sk-label-container\"><div class=\"sk-label sk-toggleable\"><input class=\"sk-toggleable__control sk-hidden--visually\" id=\"sk-estimator-id-545\" type=\"checkbox\" ><label for=\"sk-estimator-id-545\" class=\"sk-toggleable__label sk-toggleable__label-arrow\">preprocessor: ColumnTransformer</label><div class=\"sk-toggleable__content\"><pre>ColumnTransformer(remainder=&#x27;passthrough&#x27;,\n",
       "                  transformers=[(&#x27;pipeline-1&#x27;,\n",
       "                                 Pipeline(steps=[(&#x27;imputer&#x27;, KNNImputer()),\n",
       "                                                 (&#x27;scaler&#x27;, StandardScaler())]),\n",
       "                                 Index([&#x27;Creditscore&#x27;, &#x27;Age&#x27;, &#x27;Tenure&#x27;, &#x27;Balance&#x27;, &#x27;Numofproducts&#x27;,\n",
       "       &#x27;Estimatedsalary&#x27;, &#x27;Balance_sq&#x27;],\n",
       "      dtype=&#x27;object&#x27;)),\n",
       "                                (&#x27;pipeline-2&#x27;,\n",
       "                                 Pipeline(steps=[(&#x27;onehot&#x27;,\n",
       "                                                  OneHotEncoder(drop=&#x27;first&#x27;,\n",
       "                                                                handle_unknown=&#x27;ignore&#x27;))]),\n",
       "                                 [&#x27;Geography&#x27;, &#x27;Gender&#x27;])],\n",
       "                  verbose_feature_names_out=False)</pre></div></div></div><div class=\"sk-parallel\"><div class=\"sk-parallel-item\"><div class=\"sk-item\"><div class=\"sk-label-container\"><div class=\"sk-label sk-toggleable\"><input class=\"sk-toggleable__control sk-hidden--visually\" id=\"sk-estimator-id-546\" type=\"checkbox\" ><label for=\"sk-estimator-id-546\" class=\"sk-toggleable__label sk-toggleable__label-arrow\">pipeline-1</label><div class=\"sk-toggleable__content\"><pre>Index([&#x27;Creditscore&#x27;, &#x27;Age&#x27;, &#x27;Tenure&#x27;, &#x27;Balance&#x27;, &#x27;Numofproducts&#x27;,\n",
       "       &#x27;Estimatedsalary&#x27;, &#x27;Balance_sq&#x27;],\n",
       "      dtype=&#x27;object&#x27;)</pre></div></div></div><div class=\"sk-serial\"><div class=\"sk-item\"><div class=\"sk-serial\"><div class=\"sk-item\"><div class=\"sk-estimator sk-toggleable\"><input class=\"sk-toggleable__control sk-hidden--visually\" id=\"sk-estimator-id-547\" type=\"checkbox\" ><label for=\"sk-estimator-id-547\" class=\"sk-toggleable__label sk-toggleable__label-arrow\">KNNImputer</label><div class=\"sk-toggleable__content\"><pre>KNNImputer()</pre></div></div></div><div class=\"sk-item\"><div class=\"sk-estimator sk-toggleable\"><input class=\"sk-toggleable__control sk-hidden--visually\" id=\"sk-estimator-id-548\" type=\"checkbox\" ><label for=\"sk-estimator-id-548\" class=\"sk-toggleable__label sk-toggleable__label-arrow\">StandardScaler</label><div class=\"sk-toggleable__content\"><pre>StandardScaler()</pre></div></div></div></div></div></div></div></div><div class=\"sk-parallel-item\"><div class=\"sk-item\"><div class=\"sk-label-container\"><div class=\"sk-label sk-toggleable\"><input class=\"sk-toggleable__control sk-hidden--visually\" id=\"sk-estimator-id-549\" type=\"checkbox\" ><label for=\"sk-estimator-id-549\" class=\"sk-toggleable__label sk-toggleable__label-arrow\">pipeline-2</label><div class=\"sk-toggleable__content\"><pre>[&#x27;Geography&#x27;, &#x27;Gender&#x27;]</pre></div></div></div><div class=\"sk-serial\"><div class=\"sk-item\"><div class=\"sk-serial\"><div class=\"sk-item\"><div class=\"sk-estimator sk-toggleable\"><input class=\"sk-toggleable__control sk-hidden--visually\" id=\"sk-estimator-id-550\" type=\"checkbox\" ><label for=\"sk-estimator-id-550\" class=\"sk-toggleable__label sk-toggleable__label-arrow\">OneHotEncoder</label><div class=\"sk-toggleable__content\"><pre>OneHotEncoder(drop=&#x27;first&#x27;, handle_unknown=&#x27;ignore&#x27;)</pre></div></div></div></div></div></div></div></div><div class=\"sk-parallel-item\"><div class=\"sk-item\"><div class=\"sk-label-container\"><div class=\"sk-label sk-toggleable\"><input class=\"sk-toggleable__control sk-hidden--visually\" id=\"sk-estimator-id-551\" type=\"checkbox\" ><label for=\"sk-estimator-id-551\" class=\"sk-toggleable__label sk-toggleable__label-arrow\">remainder</label><div class=\"sk-toggleable__content\"><pre>[&#x27;Hascrcard&#x27;, &#x27;Isactivemember&#x27;]</pre></div></div></div><div class=\"sk-serial\"><div class=\"sk-item\"><div class=\"sk-estimator sk-toggleable\"><input class=\"sk-toggleable__control sk-hidden--visually\" id=\"sk-estimator-id-552\" type=\"checkbox\" ><label for=\"sk-estimator-id-552\" class=\"sk-toggleable__label sk-toggleable__label-arrow\">passthrough</label><div class=\"sk-toggleable__content\"><pre>passthrough</pre></div></div></div></div></div></div></div></div><div class=\"sk-item\"><div class=\"sk-estimator sk-toggleable\"><input class=\"sk-toggleable__control sk-hidden--visually\" id=\"sk-estimator-id-553\" type=\"checkbox\" ><label for=\"sk-estimator-id-553\" class=\"sk-toggleable__label sk-toggleable__label-arrow\">ADASYN</label><div class=\"sk-toggleable__content\"><pre>ADASYN(random_state=42)</pre></div></div></div><div class=\"sk-item\"><div class=\"sk-estimator sk-toggleable\"><input class=\"sk-toggleable__control sk-hidden--visually\" id=\"sk-estimator-id-554\" type=\"checkbox\" ><label for=\"sk-estimator-id-554\" class=\"sk-toggleable__label sk-toggleable__label-arrow\">RandomForestClassifier</label><div class=\"sk-toggleable__content\"><pre>RandomForestClassifier(random_state=42)</pre></div></div></div></div></div></div></div></div></div></div></div></div>"
      ],
      "text/plain": [
       "RandomizedSearchCV(estimator=Pipeline(steps=[('preprocessor',\n",
       "                                              ColumnTransformer(remainder='passthrough',\n",
       "                                                                transformers=[('pipeline-1',\n",
       "                                                                               Pipeline(steps=[('imputer',\n",
       "                                                                                                KNNImputer()),\n",
       "                                                                                               ('scaler',\n",
       "                                                                                                StandardScaler())]),\n",
       "                                                                               Index(['Creditscore', 'Age', 'Tenure', 'Balance', 'Numofproducts',\n",
       "       'Estimatedsalary', 'Balance_sq'],\n",
       "      dtype='object')),\n",
       "                                                                              ('pipeline-2',\n",
       "                                                                               Pipeline(steps=[('oneho...\n",
       "                                                                                'Gender'])],\n",
       "                                                                verbose_feature_names_out=False)),\n",
       "                                             ('oversample',\n",
       "                                              ADASYN(random_state=42)),\n",
       "                                             ('estimation',\n",
       "                                              RandomForestClassifier(random_state=42))]),\n",
       "                   param_distributions={'estimation__max_depth': range(2, 15),\n",
       "                                        'estimation__min_samples_leaf': (1, 2,\n",
       "                                                                         3, 4),\n",
       "                                        'estimation__min_samples_split': (2, 3,\n",
       "                                                                          4),\n",
       "                                        'estimation__n_estimators': range(10, 110, 30)},\n",
       "                   random_state=42, scoring='f1')"
      ]
     },
     "execution_count": 294,
     "metadata": {},
     "output_type": "execute_result"
    }
   ],
   "source": [
    "# Создаём пайплайн\n",
    "model_forest_adasyn = RandomForestClassifier(random_state=42)\n",
    "pipeline_forest_adasyn = Pipeline_imb([('preprocessor',preprocessor),('oversample',oversample), ('estimation',model_forest_smote)])\n",
    "\n",
    "param_grid_forest = {\n",
    "    'estimation__n_estimators': range(10, 110, 30),\n",
    "    'estimation__max_depth': range(2, 15),\n",
    "    'estimation__min_samples_split': (2, 3, 4),\n",
    "    'estimation__min_samples_leaf': (1, 2, 3, 4)\n",
    "}\n",
    "\n",
    "\n",
    "gs_forest_adasyn = RandomizedSearchCV(\n",
    "    pipeline_forest_adasyn, \n",
    "    param_distributions=param_grid_forest, \n",
    "    scoring='f1', \n",
    "    random_state=42\n",
    ")\n",
    "\n",
    "gs_forest_adasyn.fit(features_train,target_train)"
   ]
  },
  {
   "cell_type": "code",
   "execution_count": 295,
   "metadata": {},
   "outputs": [
    {
     "data": {
      "text/plain": [
       "0.5670225385527876"
      ]
     },
     "execution_count": 295,
     "metadata": {},
     "output_type": "execute_result"
    }
   ],
   "source": [
    "# Проверяю на валидационной выборке\n",
    "predict_valid_smote = gs_forest_adasyn.predict(features_valid)\n",
    "f1_forest_adasyn = f1_score(target_valid, predict_valid_smote)\n",
    "f1_forest_adasyn"
   ]
  },
  {
   "cell_type": "markdown",
   "metadata": {},
   "source": [
    "##### Logistic Regression"
   ]
  },
  {
   "cell_type": "code",
   "execution_count": 296,
   "metadata": {},
   "outputs": [
    {
     "data": {
      "text/html": [
       "<style>#sk-container-id-50 {color: black;background-color: white;}#sk-container-id-50 pre{padding: 0;}#sk-container-id-50 div.sk-toggleable {background-color: white;}#sk-container-id-50 label.sk-toggleable__label {cursor: pointer;display: block;width: 100%;margin-bottom: 0;padding: 0.3em;box-sizing: border-box;text-align: center;}#sk-container-id-50 label.sk-toggleable__label-arrow:before {content: \"▸\";float: left;margin-right: 0.25em;color: #696969;}#sk-container-id-50 label.sk-toggleable__label-arrow:hover:before {color: black;}#sk-container-id-50 div.sk-estimator:hover label.sk-toggleable__label-arrow:before {color: black;}#sk-container-id-50 div.sk-toggleable__content {max-height: 0;max-width: 0;overflow: hidden;text-align: left;background-color: #f0f8ff;}#sk-container-id-50 div.sk-toggleable__content pre {margin: 0.2em;color: black;border-radius: 0.25em;background-color: #f0f8ff;}#sk-container-id-50 input.sk-toggleable__control:checked~div.sk-toggleable__content {max-height: 200px;max-width: 100%;overflow: auto;}#sk-container-id-50 input.sk-toggleable__control:checked~label.sk-toggleable__label-arrow:before {content: \"▾\";}#sk-container-id-50 div.sk-estimator input.sk-toggleable__control:checked~label.sk-toggleable__label {background-color: #d4ebff;}#sk-container-id-50 div.sk-label input.sk-toggleable__control:checked~label.sk-toggleable__label {background-color: #d4ebff;}#sk-container-id-50 input.sk-hidden--visually {border: 0;clip: rect(1px 1px 1px 1px);clip: rect(1px, 1px, 1px, 1px);height: 1px;margin: -1px;overflow: hidden;padding: 0;position: absolute;width: 1px;}#sk-container-id-50 div.sk-estimator {font-family: monospace;background-color: #f0f8ff;border: 1px dotted black;border-radius: 0.25em;box-sizing: border-box;margin-bottom: 0.5em;}#sk-container-id-50 div.sk-estimator:hover {background-color: #d4ebff;}#sk-container-id-50 div.sk-parallel-item::after {content: \"\";width: 100%;border-bottom: 1px solid gray;flex-grow: 1;}#sk-container-id-50 div.sk-label:hover label.sk-toggleable__label {background-color: #d4ebff;}#sk-container-id-50 div.sk-serial::before {content: \"\";position: absolute;border-left: 1px solid gray;box-sizing: border-box;top: 0;bottom: 0;left: 50%;z-index: 0;}#sk-container-id-50 div.sk-serial {display: flex;flex-direction: column;align-items: center;background-color: white;padding-right: 0.2em;padding-left: 0.2em;position: relative;}#sk-container-id-50 div.sk-item {position: relative;z-index: 1;}#sk-container-id-50 div.sk-parallel {display: flex;align-items: stretch;justify-content: center;background-color: white;position: relative;}#sk-container-id-50 div.sk-item::before, #sk-container-id-50 div.sk-parallel-item::before {content: \"\";position: absolute;border-left: 1px solid gray;box-sizing: border-box;top: 0;bottom: 0;left: 50%;z-index: -1;}#sk-container-id-50 div.sk-parallel-item {display: flex;flex-direction: column;z-index: 1;position: relative;background-color: white;}#sk-container-id-50 div.sk-parallel-item:first-child::after {align-self: flex-end;width: 50%;}#sk-container-id-50 div.sk-parallel-item:last-child::after {align-self: flex-start;width: 50%;}#sk-container-id-50 div.sk-parallel-item:only-child::after {width: 0;}#sk-container-id-50 div.sk-dashed-wrapped {border: 1px dashed gray;margin: 0 0.4em 0.5em 0.4em;box-sizing: border-box;padding-bottom: 0.4em;background-color: white;}#sk-container-id-50 div.sk-label label {font-family: monospace;font-weight: bold;display: inline-block;line-height: 1.2em;}#sk-container-id-50 div.sk-label-container {text-align: center;}#sk-container-id-50 div.sk-container {/* jupyter's `normalize.less` sets `[hidden] { display: none; }` but bootstrap.min.css set `[hidden] { display: none !important; }` so we also need the `!important` here to be able to override the default hidden behavior on the sphinx rendered scikit-learn.org. See: https://github.com/scikit-learn/scikit-learn/issues/21755 */display: inline-block !important;position: relative;}#sk-container-id-50 div.sk-text-repr-fallback {display: none;}</style><div id=\"sk-container-id-50\" class=\"sk-top-container\"><div class=\"sk-text-repr-fallback\"><pre>RandomizedSearchCV(estimator=Pipeline(steps=[(&#x27;preprocessor&#x27;,\n",
       "                                              ColumnTransformer(remainder=&#x27;passthrough&#x27;,\n",
       "                                                                transformers=[(&#x27;pipeline-1&#x27;,\n",
       "                                                                               Pipeline(steps=[(&#x27;imputer&#x27;,\n",
       "                                                                                                KNNImputer()),\n",
       "                                                                                               (&#x27;scaler&#x27;,\n",
       "                                                                                                StandardScaler())]),\n",
       "                                                                               Index([&#x27;Creditscore&#x27;, &#x27;Age&#x27;, &#x27;Tenure&#x27;, &#x27;Balance&#x27;, &#x27;Numofproducts&#x27;,\n",
       "       &#x27;Estimatedsalary&#x27;, &#x27;Balance_sq&#x27;],\n",
       "      dtype=&#x27;object&#x27;)),\n",
       "                                                                              (&#x27;pipeline-2&#x27;,\n",
       "                                                                               Pipeline(steps=[(&#x27;oneho...\n",
       "                                                                                &#x27;Gender&#x27;])],\n",
       "                                                                verbose_feature_names_out=False)),\n",
       "                                             (&#x27;oversample&#x27;,\n",
       "                                              ADASYN(random_state=42)),\n",
       "                                             (&#x27;estimation&#x27;,\n",
       "                                              LogisticRegression(random_state=42))]),\n",
       "                   param_distributions={&#x27;estimation__C&#x27;: array([1.e-03, 1.e-02, 1.e-01, 1.e+00, 1.e+01, 1.e+02, 1.e+03]),\n",
       "                                        &#x27;estimation__penalty&#x27;: [&#x27;l1&#x27;, &#x27;l2&#x27;],\n",
       "                                        &#x27;estimation__solver&#x27;: [&#x27;newton-cg&#x27;,\n",
       "                                                               &#x27;lbfgs&#x27;,\n",
       "                                                               &#x27;liblinear&#x27;]},\n",
       "                   random_state=42, scoring=&#x27;f1&#x27;)</pre><b>In a Jupyter environment, please rerun this cell to show the HTML representation or trust the notebook. <br />On GitHub, the HTML representation is unable to render, please try loading this page with nbviewer.org.</b></div><div class=\"sk-container\" hidden><div class=\"sk-item sk-dashed-wrapped\"><div class=\"sk-label-container\"><div class=\"sk-label sk-toggleable\"><input class=\"sk-toggleable__control sk-hidden--visually\" id=\"sk-estimator-id-555\" type=\"checkbox\" ><label for=\"sk-estimator-id-555\" class=\"sk-toggleable__label sk-toggleable__label-arrow\">RandomizedSearchCV</label><div class=\"sk-toggleable__content\"><pre>RandomizedSearchCV(estimator=Pipeline(steps=[(&#x27;preprocessor&#x27;,\n",
       "                                              ColumnTransformer(remainder=&#x27;passthrough&#x27;,\n",
       "                                                                transformers=[(&#x27;pipeline-1&#x27;,\n",
       "                                                                               Pipeline(steps=[(&#x27;imputer&#x27;,\n",
       "                                                                                                KNNImputer()),\n",
       "                                                                                               (&#x27;scaler&#x27;,\n",
       "                                                                                                StandardScaler())]),\n",
       "                                                                               Index([&#x27;Creditscore&#x27;, &#x27;Age&#x27;, &#x27;Tenure&#x27;, &#x27;Balance&#x27;, &#x27;Numofproducts&#x27;,\n",
       "       &#x27;Estimatedsalary&#x27;, &#x27;Balance_sq&#x27;],\n",
       "      dtype=&#x27;object&#x27;)),\n",
       "                                                                              (&#x27;pipeline-2&#x27;,\n",
       "                                                                               Pipeline(steps=[(&#x27;oneho...\n",
       "                                                                                &#x27;Gender&#x27;])],\n",
       "                                                                verbose_feature_names_out=False)),\n",
       "                                             (&#x27;oversample&#x27;,\n",
       "                                              ADASYN(random_state=42)),\n",
       "                                             (&#x27;estimation&#x27;,\n",
       "                                              LogisticRegression(random_state=42))]),\n",
       "                   param_distributions={&#x27;estimation__C&#x27;: array([1.e-03, 1.e-02, 1.e-01, 1.e+00, 1.e+01, 1.e+02, 1.e+03]),\n",
       "                                        &#x27;estimation__penalty&#x27;: [&#x27;l1&#x27;, &#x27;l2&#x27;],\n",
       "                                        &#x27;estimation__solver&#x27;: [&#x27;newton-cg&#x27;,\n",
       "                                                               &#x27;lbfgs&#x27;,\n",
       "                                                               &#x27;liblinear&#x27;]},\n",
       "                   random_state=42, scoring=&#x27;f1&#x27;)</pre></div></div></div><div class=\"sk-parallel\"><div class=\"sk-parallel-item\"><div class=\"sk-item\"><div class=\"sk-label-container\"><div class=\"sk-label sk-toggleable\"><input class=\"sk-toggleable__control sk-hidden--visually\" id=\"sk-estimator-id-556\" type=\"checkbox\" ><label for=\"sk-estimator-id-556\" class=\"sk-toggleable__label sk-toggleable__label-arrow\">estimator: Pipeline</label><div class=\"sk-toggleable__content\"><pre>Pipeline(steps=[(&#x27;preprocessor&#x27;,\n",
       "                 ColumnTransformer(remainder=&#x27;passthrough&#x27;,\n",
       "                                   transformers=[(&#x27;pipeline-1&#x27;,\n",
       "                                                  Pipeline(steps=[(&#x27;imputer&#x27;,\n",
       "                                                                   KNNImputer()),\n",
       "                                                                  (&#x27;scaler&#x27;,\n",
       "                                                                   StandardScaler())]),\n",
       "                                                  Index([&#x27;Creditscore&#x27;, &#x27;Age&#x27;, &#x27;Tenure&#x27;, &#x27;Balance&#x27;, &#x27;Numofproducts&#x27;,\n",
       "       &#x27;Estimatedsalary&#x27;, &#x27;Balance_sq&#x27;],\n",
       "      dtype=&#x27;object&#x27;)),\n",
       "                                                 (&#x27;pipeline-2&#x27;,\n",
       "                                                  Pipeline(steps=[(&#x27;onehot&#x27;,\n",
       "                                                                   OneHotEncoder(drop=&#x27;first&#x27;,\n",
       "                                                                                 handle_unknown=&#x27;ignore&#x27;))]),\n",
       "                                                  [&#x27;Geography&#x27;, &#x27;Gender&#x27;])],\n",
       "                                   verbose_feature_names_out=False)),\n",
       "                (&#x27;oversample&#x27;, ADASYN(random_state=42)),\n",
       "                (&#x27;estimation&#x27;, LogisticRegression(random_state=42))])</pre></div></div></div><div class=\"sk-serial\"><div class=\"sk-item\"><div class=\"sk-serial\"><div class=\"sk-item sk-dashed-wrapped\"><div class=\"sk-label-container\"><div class=\"sk-label sk-toggleable\"><input class=\"sk-toggleable__control sk-hidden--visually\" id=\"sk-estimator-id-557\" type=\"checkbox\" ><label for=\"sk-estimator-id-557\" class=\"sk-toggleable__label sk-toggleable__label-arrow\">preprocessor: ColumnTransformer</label><div class=\"sk-toggleable__content\"><pre>ColumnTransformer(remainder=&#x27;passthrough&#x27;,\n",
       "                  transformers=[(&#x27;pipeline-1&#x27;,\n",
       "                                 Pipeline(steps=[(&#x27;imputer&#x27;, KNNImputer()),\n",
       "                                                 (&#x27;scaler&#x27;, StandardScaler())]),\n",
       "                                 Index([&#x27;Creditscore&#x27;, &#x27;Age&#x27;, &#x27;Tenure&#x27;, &#x27;Balance&#x27;, &#x27;Numofproducts&#x27;,\n",
       "       &#x27;Estimatedsalary&#x27;, &#x27;Balance_sq&#x27;],\n",
       "      dtype=&#x27;object&#x27;)),\n",
       "                                (&#x27;pipeline-2&#x27;,\n",
       "                                 Pipeline(steps=[(&#x27;onehot&#x27;,\n",
       "                                                  OneHotEncoder(drop=&#x27;first&#x27;,\n",
       "                                                                handle_unknown=&#x27;ignore&#x27;))]),\n",
       "                                 [&#x27;Geography&#x27;, &#x27;Gender&#x27;])],\n",
       "                  verbose_feature_names_out=False)</pre></div></div></div><div class=\"sk-parallel\"><div class=\"sk-parallel-item\"><div class=\"sk-item\"><div class=\"sk-label-container\"><div class=\"sk-label sk-toggleable\"><input class=\"sk-toggleable__control sk-hidden--visually\" id=\"sk-estimator-id-558\" type=\"checkbox\" ><label for=\"sk-estimator-id-558\" class=\"sk-toggleable__label sk-toggleable__label-arrow\">pipeline-1</label><div class=\"sk-toggleable__content\"><pre>Index([&#x27;Creditscore&#x27;, &#x27;Age&#x27;, &#x27;Tenure&#x27;, &#x27;Balance&#x27;, &#x27;Numofproducts&#x27;,\n",
       "       &#x27;Estimatedsalary&#x27;, &#x27;Balance_sq&#x27;],\n",
       "      dtype=&#x27;object&#x27;)</pre></div></div></div><div class=\"sk-serial\"><div class=\"sk-item\"><div class=\"sk-serial\"><div class=\"sk-item\"><div class=\"sk-estimator sk-toggleable\"><input class=\"sk-toggleable__control sk-hidden--visually\" id=\"sk-estimator-id-559\" type=\"checkbox\" ><label for=\"sk-estimator-id-559\" class=\"sk-toggleable__label sk-toggleable__label-arrow\">KNNImputer</label><div class=\"sk-toggleable__content\"><pre>KNNImputer()</pre></div></div></div><div class=\"sk-item\"><div class=\"sk-estimator sk-toggleable\"><input class=\"sk-toggleable__control sk-hidden--visually\" id=\"sk-estimator-id-560\" type=\"checkbox\" ><label for=\"sk-estimator-id-560\" class=\"sk-toggleable__label sk-toggleable__label-arrow\">StandardScaler</label><div class=\"sk-toggleable__content\"><pre>StandardScaler()</pre></div></div></div></div></div></div></div></div><div class=\"sk-parallel-item\"><div class=\"sk-item\"><div class=\"sk-label-container\"><div class=\"sk-label sk-toggleable\"><input class=\"sk-toggleable__control sk-hidden--visually\" id=\"sk-estimator-id-561\" type=\"checkbox\" ><label for=\"sk-estimator-id-561\" class=\"sk-toggleable__label sk-toggleable__label-arrow\">pipeline-2</label><div class=\"sk-toggleable__content\"><pre>[&#x27;Geography&#x27;, &#x27;Gender&#x27;]</pre></div></div></div><div class=\"sk-serial\"><div class=\"sk-item\"><div class=\"sk-serial\"><div class=\"sk-item\"><div class=\"sk-estimator sk-toggleable\"><input class=\"sk-toggleable__control sk-hidden--visually\" id=\"sk-estimator-id-562\" type=\"checkbox\" ><label for=\"sk-estimator-id-562\" class=\"sk-toggleable__label sk-toggleable__label-arrow\">OneHotEncoder</label><div class=\"sk-toggleable__content\"><pre>OneHotEncoder(drop=&#x27;first&#x27;, handle_unknown=&#x27;ignore&#x27;)</pre></div></div></div></div></div></div></div></div><div class=\"sk-parallel-item\"><div class=\"sk-item\"><div class=\"sk-label-container\"><div class=\"sk-label sk-toggleable\"><input class=\"sk-toggleable__control sk-hidden--visually\" id=\"sk-estimator-id-563\" type=\"checkbox\" ><label for=\"sk-estimator-id-563\" class=\"sk-toggleable__label sk-toggleable__label-arrow\">remainder</label><div class=\"sk-toggleable__content\"><pre>[&#x27;Hascrcard&#x27;, &#x27;Isactivemember&#x27;]</pre></div></div></div><div class=\"sk-serial\"><div class=\"sk-item\"><div class=\"sk-estimator sk-toggleable\"><input class=\"sk-toggleable__control sk-hidden--visually\" id=\"sk-estimator-id-564\" type=\"checkbox\" ><label for=\"sk-estimator-id-564\" class=\"sk-toggleable__label sk-toggleable__label-arrow\">passthrough</label><div class=\"sk-toggleable__content\"><pre>passthrough</pre></div></div></div></div></div></div></div></div><div class=\"sk-item\"><div class=\"sk-estimator sk-toggleable\"><input class=\"sk-toggleable__control sk-hidden--visually\" id=\"sk-estimator-id-565\" type=\"checkbox\" ><label for=\"sk-estimator-id-565\" class=\"sk-toggleable__label sk-toggleable__label-arrow\">ADASYN</label><div class=\"sk-toggleable__content\"><pre>ADASYN(random_state=42)</pre></div></div></div><div class=\"sk-item\"><div class=\"sk-estimator sk-toggleable\"><input class=\"sk-toggleable__control sk-hidden--visually\" id=\"sk-estimator-id-566\" type=\"checkbox\" ><label for=\"sk-estimator-id-566\" class=\"sk-toggleable__label sk-toggleable__label-arrow\">LogisticRegression</label><div class=\"sk-toggleable__content\"><pre>LogisticRegression(random_state=42)</pre></div></div></div></div></div></div></div></div></div></div></div></div>"
      ],
      "text/plain": [
       "RandomizedSearchCV(estimator=Pipeline(steps=[('preprocessor',\n",
       "                                              ColumnTransformer(remainder='passthrough',\n",
       "                                                                transformers=[('pipeline-1',\n",
       "                                                                               Pipeline(steps=[('imputer',\n",
       "                                                                                                KNNImputer()),\n",
       "                                                                                               ('scaler',\n",
       "                                                                                                StandardScaler())]),\n",
       "                                                                               Index(['Creditscore', 'Age', 'Tenure', 'Balance', 'Numofproducts',\n",
       "       'Estimatedsalary', 'Balance_sq'],\n",
       "      dtype='object')),\n",
       "                                                                              ('pipeline-2',\n",
       "                                                                               Pipeline(steps=[('oneho...\n",
       "                                                                                'Gender'])],\n",
       "                                                                verbose_feature_names_out=False)),\n",
       "                                             ('oversample',\n",
       "                                              ADASYN(random_state=42)),\n",
       "                                             ('estimation',\n",
       "                                              LogisticRegression(random_state=42))]),\n",
       "                   param_distributions={'estimation__C': array([1.e-03, 1.e-02, 1.e-01, 1.e+00, 1.e+01, 1.e+02, 1.e+03]),\n",
       "                                        'estimation__penalty': ['l1', 'l2'],\n",
       "                                        'estimation__solver': ['newton-cg',\n",
       "                                                               'lbfgs',\n",
       "                                                               'liblinear']},\n",
       "                   random_state=42, scoring='f1')"
      ]
     },
     "execution_count": 296,
     "metadata": {},
     "output_type": "execute_result"
    }
   ],
   "source": [
    "# Создаём пайплайн\n",
    "model_logit_adasyn = LogisticRegression(random_state=42)\n",
    "pipeline_logit_adasyn = Pipeline_imb([('preprocessor',preprocessor),('oversample',oversample), ('estimation',model_logit_smote)])\n",
    "\n",
    "param_grid_logit = {\n",
    "    'estimation__penalty' : ['l1','l2'], \n",
    "    'estimation__C'       : np.logspace(-3,3,7),\n",
    "    'estimation__solver'  : ['newton-cg', 'lbfgs', 'liblinear'],\n",
    "}\n",
    "\n",
    "gs_logit_adasyn = RandomizedSearchCV(\n",
    "    pipeline_logit_adasyn, \n",
    "    param_distributions=param_grid_logit, \n",
    "    scoring='f1',\n",
    "    random_state=42,\n",
    ")\n",
    "\n",
    "gs_logit_adasyn.fit(features_train,target_train)"
   ]
  },
  {
   "cell_type": "code",
   "execution_count": 297,
   "metadata": {},
   "outputs": [
    {
     "data": {
      "text/plain": [
       "0.5670225385527876"
      ]
     },
     "execution_count": 297,
     "metadata": {},
     "output_type": "execute_result"
    }
   ],
   "source": [
    "# Проверяю на валидационной выборке\n",
    "predict_valid_adasyn = gs_logit_adasyn.predict(features_valid)\n",
    "f1_logit_adasyn = f1_score(target_valid, predict_valid_smote)\n",
    "f1_logit_adasyn"
   ]
  },
  {
   "cell_type": "code",
   "execution_count": 298,
   "metadata": {},
   "outputs": [
    {
     "data": {
      "text/html": [
       "<style  type=\"text/css\" >\n",
       "#T_0c6be_row0_col0{\n",
       "            background-color:  #ec7f63;\n",
       "            color:  #000000;\n",
       "        }#T_0c6be_row1_col0{\n",
       "            background-color:  #b40426;\n",
       "            color:  #f1f1f1;\n",
       "        }#T_0c6be_row2_col0{\n",
       "            background-color:  #3b4cc0;\n",
       "            color:  #f1f1f1;\n",
       "        }#T_0c6be_row3_col0{\n",
       "            background-color:  #ee8669;\n",
       "            color:  #000000;\n",
       "        }#T_0c6be_row4_col0{\n",
       "            background-color:  #e8765c;\n",
       "            color:  #000000;\n",
       "        }#T_0c6be_row5_col0{\n",
       "            background-color:  #3c4ec2;\n",
       "            color:  #f1f1f1;\n",
       "        }#T_0c6be_row6_col0{\n",
       "            background-color:  #ef886b;\n",
       "            color:  #000000;\n",
       "        }#T_0c6be_row7_col0{\n",
       "            background-color:  #d44e41;\n",
       "            color:  #000000;\n",
       "        }#T_0c6be_row8_col0{\n",
       "            background-color:  #f1cdba;\n",
       "            color:  #000000;\n",
       "        }#T_0c6be_row9_col0{\n",
       "            background-color:  #f7ac8e;\n",
       "            color:  #000000;\n",
       "        }#T_0c6be_row10_col0{\n",
       "            background-color:  #dd5f4b;\n",
       "            color:  #000000;\n",
       "        }#T_0c6be_row11_col0,#T_0c6be_row12_col0{\n",
       "            background-color:  #d6dce4;\n",
       "            color:  #000000;\n",
       "        }#T_0c6be_row13_col0,#T_0c6be_row14_col0{\n",
       "            background-color:  #e57058;\n",
       "            color:  #000000;\n",
       "        }</style><table id=\"T_0c6be_\" ><thead>    <tr>        <th class=\"blank\" ></th>        <th class=\"blank level0\" ></th>        <th class=\"col_heading level0 col0\" >f1</th>    </tr>    <tr>        <th class=\"index_name level0\" >method</th>        <th class=\"index_name level1\" >model</th>        <th class=\"blank\" ></th>    </tr></thead><tbody>\n",
       "                <tr>\n",
       "                        <th id=\"T_0c6be_level0_row0\" class=\"row_heading level0 row0\" rowspan=\"3\">weighted</th>\n",
       "                        <th id=\"T_0c6be_level1_row0\" class=\"row_heading level1 row0\" >tree</th>\n",
       "                        <td id=\"T_0c6be_row0_col0\" class=\"data row0 col0\" >0.557685</td>\n",
       "            </tr>\n",
       "            <tr>\n",
       "                                <th id=\"T_0c6be_level1_row1\" class=\"row_heading level1 row1\" >forest</th>\n",
       "                        <td id=\"T_0c6be_row1_col0\" class=\"data row1 col0\" >0.616151</td>\n",
       "            </tr>\n",
       "            <tr>\n",
       "                                <th id=\"T_0c6be_level1_row2\" class=\"row_heading level1 row2\" >logit</th>\n",
       "                        <td id=\"T_0c6be_row2_col0\" class=\"data row2 col0\" >0.306451</td>\n",
       "            </tr>\n",
       "            <tr>\n",
       "                        <th id=\"T_0c6be_level0_row3\" class=\"row_heading level0 row3\" rowspan=\"3\">stratified</th>\n",
       "                        <th id=\"T_0c6be_level1_row3\" class=\"row_heading level1 row3\" >tree</th>\n",
       "                        <td id=\"T_0c6be_row3_col0\" class=\"data row3 col0\" >0.552676</td>\n",
       "            </tr>\n",
       "            <tr>\n",
       "                                <th id=\"T_0c6be_level1_row4\" class=\"row_heading level1 row4\" >forest</th>\n",
       "                        <td id=\"T_0c6be_row4_col0\" class=\"data row4 col0\" >0.563439</td>\n",
       "            </tr>\n",
       "            <tr>\n",
       "                                <th id=\"T_0c6be_level1_row5\" class=\"row_heading level1 row5\" >logit</th>\n",
       "                        <td id=\"T_0c6be_row5_col0\" class=\"data row5 col0\" >0.308541</td>\n",
       "            </tr>\n",
       "            <tr>\n",
       "                        <th id=\"T_0c6be_level0_row6\" class=\"row_heading level0 row6\" rowspan=\"3\">undersample</th>\n",
       "                        <th id=\"T_0c6be_level1_row6\" class=\"row_heading level1 row6\" >tree</th>\n",
       "                        <td id=\"T_0c6be_row6_col0\" class=\"data row6 col0\" >0.551630</td>\n",
       "            </tr>\n",
       "            <tr>\n",
       "                                <th id=\"T_0c6be_level1_row7\" class=\"row_heading level1 row7\" >forest</th>\n",
       "                        <td id=\"T_0c6be_row7_col0\" class=\"data row7 col0\" >0.588038</td>\n",
       "            </tr>\n",
       "            <tr>\n",
       "                                <th id=\"T_0c6be_level1_row8\" class=\"row_heading level1 row8\" >logit</th>\n",
       "                        <td id=\"T_0c6be_row8_col0\" class=\"data row8 col0\" >0.490190</td>\n",
       "            </tr>\n",
       "            <tr>\n",
       "                        <th id=\"T_0c6be_level0_row9\" class=\"row_heading level0 row9\" rowspan=\"3\">smote</th>\n",
       "                        <th id=\"T_0c6be_level1_row9\" class=\"row_heading level1 row9\" >tree</th>\n",
       "                        <td id=\"T_0c6be_row9_col0\" class=\"data row9 col0\" >0.523172</td>\n",
       "            </tr>\n",
       "            <tr>\n",
       "                                <th id=\"T_0c6be_level1_row10\" class=\"row_heading level1 row10\" >forest</th>\n",
       "                        <td id=\"T_0c6be_row10_col0\" class=\"data row10 col0\" >0.577500</td>\n",
       "            </tr>\n",
       "            <tr>\n",
       "                                <th id=\"T_0c6be_level1_row11\" class=\"row_heading level1 row11\" >logit</th>\n",
       "                        <td id=\"T_0c6be_row11_col0\" class=\"data row11 col0\" >0.453552</td>\n",
       "            </tr>\n",
       "            <tr>\n",
       "                        <th id=\"T_0c6be_level0_row12\" class=\"row_heading level0 row12\" rowspan=\"3\">adasyn</th>\n",
       "                        <th id=\"T_0c6be_level1_row12\" class=\"row_heading level1 row12\" >tree</th>\n",
       "                        <td id=\"T_0c6be_row12_col0\" class=\"data row12 col0\" >0.453552</td>\n",
       "            </tr>\n",
       "            <tr>\n",
       "                                <th id=\"T_0c6be_level1_row13\" class=\"row_heading level1 row13\" >forest</th>\n",
       "                        <td id=\"T_0c6be_row13_col0\" class=\"data row13 col0\" >0.567023</td>\n",
       "            </tr>\n",
       "            <tr>\n",
       "                                <th id=\"T_0c6be_level1_row14\" class=\"row_heading level1 row14\" >logit</th>\n",
       "                        <td id=\"T_0c6be_row14_col0\" class=\"data row14 col0\" >0.567023</td>\n",
       "            </tr>\n",
       "    </tbody></table>"
      ],
      "text/plain": [
       "<pandas.io.formats.style.Styler at 0x7fd9c1876070>"
      ]
     },
     "execution_count": 298,
     "metadata": {},
     "output_type": "execute_result"
    }
   ],
   "source": [
    "# Оценим результаты\n",
    "iterables = [[\"weighted\", \"stratified\", \"undersample\", \"smote\", \"adasyn\"], [\"tree\", \"forest\", \"logit\"]]\n",
    "index = pd.MultiIndex.from_product(iterables, names=[\"method\", \"model\"])\n",
    "result = (\n",
    "    pd.DataFrame(\n",
    "    [f1_tree_weight, f1_forest_weight, f1_logit_weight, \n",
    "     f1_tree_strat, f1_forest_strat, f1_logit_strat,\n",
    "    f1_tree_u, f1_forest_u, f1_logit_u,\n",
    "    f1_tree_smote, f1_forest_smote, f1_logit_smote,\n",
    "    f1_tree_adasyn, f1_forest_adasyn, f1_logit_adasyn], \n",
    "    index=index, \n",
    "    columns=['f1']\n",
    ")).style.background_gradient('coolwarm')\n",
    "result"
   ]
  },
  {
   "cell_type": "markdown",
   "metadata": {},
   "source": [
    "Лучшей моделью оказалась модель случайного леса со взвешиванными классами. На втором и третьем месте с довольно большим отстованием случайные лес,на данных после андерсамлинга и случайные лес, оптимизированный на данных оверсамлинга методом smote. Сравним roc кривые для этих трёх моделей."
   ]
  },
  {
   "cell_type": "code",
   "execution_count": 299,
   "metadata": {},
   "outputs": [],
   "source": [
    "# roc-curve\n",
    "fpr_w, tpr_w, threshold_w = (\n",
    "    roc_curve(pd.concat([target_train]+[target_valid]),\n",
    "              gs_forest_weight.predict_proba(pd.concat([features_train]+[features_valid]))[:,1]))\n",
    "fpr_u, tpr_u, threshold_u = (\n",
    "    roc_curve(pd.concat([target_train]+[target_valid]),\n",
    "              gs_forest_u.predict_proba(pd.concat([features_train]+[features_valid]))[:,1]))\n",
    "fpr_s, tpr_s, threshold_s = (\n",
    "    roc_curve(pd.concat([target_train]+[target_valid]),\n",
    "              gs_forest_smote.predict_proba(pd.concat([features_train]+[features_valid]))[:,1]))"
   ]
  },
  {
   "cell_type": "code",
   "execution_count": 300,
   "metadata": {},
   "outputs": [
    {
     "data": {
      "image/png": "[encoded data removed]",
      "text/plain": [
       "<Figure size 720x360 with 1 Axes>"
      ]
     },
     "metadata": {
      "needs_background": "light"
     },
     "output_type": "display_data"
    }
   ],
   "source": [
    "# график\n",
    "plt.figure(figsize = (10,5))\n",
    "plt.title('ROC-curve \\n')\n",
    "plt.xlabel('\\n FPR')\n",
    "plt.ylabel('TPR')\n",
    "plt.plot(fpr_w, tpr_w, label='Weighted');\n",
    "plt.plot(fpr_u, tpr_u, label='Undersampling')\n",
    "plt.plot(fpr_s, tpr_s, label='SMOTE')\n",
    "plt.plot(np.arange(0,1.1,0.1), np.arange(0,1.1,0.1), linestyle='--');\n",
    "plt.xlim(0,1);\n",
    "plt.ylim(0,1);\n",
    "plt.legend();\n",
    "plt.show();"
   ]
  },
  {
   "cell_type": "markdown",
   "metadata": {},
   "source": [
    "На графике тоже видим, что из трёх моделей, модель случайного леса с балансирующими весами классов ближе к идеальному классификатору."
   ]
  },
  {
   "cell_type": "code",
   "execution_count": 301,
   "metadata": {},
   "outputs": [
    {
     "data": {
      "text/plain": [
       "0.9621777319254072"
      ]
     },
     "metadata": {},
     "output_type": "display_data"
    },
    {
     "data": {
      "text/plain": [
       "0.8800436188032745"
      ]
     },
     "metadata": {},
     "output_type": "display_data"
    },
    {
     "data": {
      "text/plain": [
       "0.9277618809698808"
      ]
     },
     "execution_count": 301,
     "metadata": {},
     "output_type": "execute_result"
    }
   ],
   "source": [
    "# auc score\n",
    "auc_w = (\n",
    "    roc_auc_score(pd.concat([target_train]+[target_valid]),\n",
    "                  gs_forest_weight.predict_proba(pd.concat([features_train]+[features_valid]))[:,1]))\n",
    "auc_u = (\n",
    "    roc_auc_score(pd.concat([target_train]+[target_valid]),\n",
    "                  gs_forest_u.predict_proba(pd.concat([features_train]+[features_valid]))[:,1]))\n",
    "auc_s = (\n",
    "    roc_auc_score(pd.concat([target_train]+[target_valid]),\n",
    "                  gs_forest_smote.predict_proba(pd.concat([features_train]+[features_valid]))[:,1]))\n",
    "display(auc_w)\n",
    "display(auc_u)\n",
    "auc_s"
   ]
  },
  {
   "cell_type": "markdown",
   "metadata": {},
   "source": [
    "Как было видно и из графика, площадь под кривой у модели weighted выше, чем у других. Я останавлюсь на ней."
   ]
  },
  {
   "cell_type": "code",
   "execution_count": 302,
   "metadata": {},
   "outputs": [],
   "source": [
    "# Лучшая модель\n",
    "best_model = gs_forest_weight.best_estimator_"
   ]
  },
  {
   "cell_type": "markdown",
   "metadata": {},
   "source": [
    "### Подбор порога классификации"
   ]
  },
  {
   "cell_type": "code",
   "execution_count": 303,
   "metadata": {},
   "outputs": [
    {
     "data": {
      "text/plain": [
       "0.7890952666267225"
      ]
     },
     "metadata": {},
     "output_type": "display_data"
    },
    {
     "data": {
      "text/plain": [
       "0.5299999999999998"
      ]
     },
     "execution_count": 303,
     "metadata": {},
     "output_type": "execute_result"
    }
   ],
   "source": [
    "# Перебор порогов\n",
    "f1_threshold = 0\n",
    "best_threshold = 0.5\n",
    "f1_list=[]\n",
    "t_list=[]\n",
    "for t in np.arange(0.1, 0.9, 0.01):\n",
    "    predict_valid = best_model.predict_proba(pd.concat([features_train]+[features_valid]))[:,1]>t\n",
    "    f1 = f1_score(pd.concat([target_train]+[target_valid]), predict_valid)\n",
    "    f1_list.append(f1)\n",
    "    t_list.append(t)\n",
    "    if f1>f1_threshold:\n",
    "        f1_threshold = f1\n",
    "        best_threshold = t\n",
    "display(f1_threshold)\n",
    "best_threshold"
   ]
  },
  {
   "cell_type": "code",
   "execution_count": 304,
   "metadata": {},
   "outputs": [
    {
     "data": {
      "image/png": "[encoded data removed]",
      "text/plain": [
       "<Figure size 720x360 with 1 Axes>"
      ]
     },
     "metadata": {
      "needs_background": "light"
     },
     "output_type": "display_data"
    }
   ],
   "source": [
    "# график\n",
    "plt.figure(figsize = (10,5))\n",
    "plt.title('зависимость f1 от порога классификации \\n')\n",
    "plt.xlabel('\\n порог классифакации')\n",
    "plt.ylabel('f1')\n",
    "plt.plot(t_list, f1_list);"
   ]
  },
  {
   "cell_type": "markdown",
   "metadata": {},
   "source": [
    "Оптимальный порог классификации немного поменялся и теперь 0.52"
   ]
  },
  {
   "cell_type": "markdown",
   "metadata": {},
   "source": [
    "В данном разделе я рассмотрела 4 варианта работы с несбалансированными классами для всех трёх видов классификаторов. Я рассмотрела модель с разными весами классов, использовала стратификацию, использовала даунсамплинг и два вида апсамплинг. Лучше всего с точки зрения f1 метрики показал себя случайный лес, полученный с помощью весов классов с подобранными гиперпараметрами. Я так же рассмотрела разные пороги классификации и наибольший f1-score получислся при пороге в 0.52 Я нарисовала графики roc кривых для трёх лучших моделей и посчитала auc метрику для них. Моедль, полученная с помощью сбалансированных весов классов была ближе к оптимальному классификатору, чем следующие по качеству модель. "
   ]
  },
  {
   "cell_type": "markdown",
   "metadata": {},
   "source": [
    "## Тестирование модели"
   ]
  },
  {
   "cell_type": "markdown",
   "metadata": {},
   "source": [
    "Теперь я протестирую выбранную модель на тестовой выборке и проверю на адекватность."
   ]
  },
  {
   "cell_type": "markdown",
   "metadata": {},
   "source": [
    "### Тестовая выборка"
   ]
  },
  {
   "cell_type": "code",
   "execution_count": 307,
   "metadata": {},
   "outputs": [
    {
     "data": {
      "text/plain": [
       "0.6490384615384616"
      ]
     },
     "execution_count": 307,
     "metadata": {},
     "output_type": "execute_result"
    }
   ],
   "source": [
    "# Считаю f1 на тестовой выборке\n",
    "predictions_test = best_model.predict_proba(features_test)[:,1]>best_threshold\n",
    "f1_test = f1_score(target_test, predictions_test)\n",
    "f1_test"
   ]
  },
  {
   "cell_type": "markdown",
   "metadata": {},
   "source": [
    "На тестовой модели получилась метрика f1 даже немного выше, чем на кросс валидации на тренировочной выборке. "
   ]
  },
  {
   "cell_type": "code",
   "execution_count": 308,
   "metadata": {},
   "outputs": [],
   "source": [
    "# roc \n",
    "fpr_test, tpr_test, threshold_test = (\n",
    "    roc_curve(target_test,best_model.predict_proba(features_test)[:,1]))"
   ]
  },
  {
   "cell_type": "code",
   "execution_count": 309,
   "metadata": {},
   "outputs": [
    {
     "data": {
      "image/png": "[encoded data removed]",
      "text/plain": [
       "<Figure size 720x360 with 1 Axes>"
      ]
     },
     "metadata": {
      "needs_background": "light"
     },
     "output_type": "display_data"
    }
   ],
   "source": [
    "# график\n",
    "plt.figure(figsize = (10,5))\n",
    "plt.title('ROC-curve \\n')\n",
    "plt.xlabel('\\n FPR')\n",
    "plt.ylabel('TPR')\n",
    "plt.plot(fpr_test, tpr_test, label='Balanced class weight RF');\n",
    "plt.plot(np.arange(0,1.1,0.1), np.arange(0,1.1,0.1), linestyle='--');\n",
    "plt.xlim(0,1);\n",
    "plt.ylim(0,1);\n",
    "plt.legend();\n",
    "plt.show();"
   ]
  },
  {
   "cell_type": "code",
   "execution_count": 310,
   "metadata": {},
   "outputs": [
    {
     "data": {
      "text/plain": [
       "0.8677573692786255"
      ]
     },
     "execution_count": 310,
     "metadata": {},
     "output_type": "execute_result"
    }
   ],
   "source": [
    "# auc\n",
    "auc_test = roc_auc_score(target_test,best_model.predict_proba(features_test)[:,1])\n",
    "auc_test"
   ]
  },
  {
   "cell_type": "markdown",
   "metadata": {},
   "source": [
    "### Проверка на адекватность"
   ]
  },
  {
   "cell_type": "markdown",
   "metadata": {},
   "source": [
    "Сравню свою модель с другими способами класификации."
   ]
  },
  {
   "cell_type": "markdown",
   "metadata": {},
   "source": [
    "#### Случайная классификация"
   ]
  },
  {
   "cell_type": "markdown",
   "metadata": {},
   "source": [
    "Протестирую классификатор, который с вероятьность 0.5 присваивает классы."
   ]
  },
  {
   "cell_type": "code",
   "execution_count": 311,
   "metadata": {},
   "outputs": [
    {
     "data": {
      "text/plain": [
       "0.3187803187803188"
      ]
     },
     "execution_count": 311,
     "metadata": {},
     "output_type": "execute_result"
    }
   ],
   "source": [
    "# Случайно классифицирую\n",
    "predictions_random = bernoulli.rvs(p=0.5, size = len(target_test), random_state=42)\n",
    "f1_random = f1_score(target_test, predictions_random)\n",
    "f1_random"
   ]
  },
  {
   "cell_type": "markdown",
   "metadata": {},
   "source": [
    "Моя модель показывает значительно лучшие результаты."
   ]
  },
  {
   "cell_type": "markdown",
   "metadata": {},
   "source": [
    "В данном проекте я построила модель прогноза оттока клиентов банка. \n",
    "\n",
    "После первичного знакомства с данными, я разбила их на обучающую, валидационную и тестовую выборки. Я определила трансформеры, которые заменят категориальные переменные на бинарные, нормализуют численные переменные и заполнят пропуски.\n",
    "\n",
    "Выборка не сбалансирована по классам, и 0 класс встречается в 4 раза чаще, чем класс 1. В первоначальном исследовании моделей, я не стала адресовать дисбаланс и провела первичное сравнение дерева решений, случайного леса и логистической регрессии. Логистическая регрессия показала намного хуже метрику f1, чем дерево решений и случайный лес. Случайный лес оказался лучшей моделью с точки зрения метрики кросс-валидации.\n",
    "\n",
    "Я рассмотрела 4 способа учесть дисбаланс классов. Взвешивание классов показало лучшие результаты, чем downsampling, upsampling и кросс-валидация на стратифицированной выборке. Для модели stratified k-fold я провела поиск оптимального порога классификации, который оказался 0.52. Я сравнила три лидирующие модели с помощью roc-curve и модель, построенная на основе баланса оказалась ближе к идеальному классификатору, что также соответствовало более высокому auc показателю.\n",
    "\n",
    "Выбранную модель я протестировала на тестовой выборке и получила f1=0.64. Я сравнила результаты своей моедли на тестовой выборке со случайной классификацией и моя модель всегда была на парядок лучше."
   ]
  }
 ],
 "metadata": {
  "ExecuteTimeLog": [
   {
    "duration": 2083,
    "start_time": "2023-05-14T12:02:53.654Z"
   },
   {
    "duration": 112,
    "start_time": "2023-05-14T12:04:34.306Z"
   },
   {
    "duration": 23,
    "start_time": "2023-05-14T12:05:19.613Z"
   },
   {
    "duration": 4,
    "start_time": "2023-05-14T12:16:10.163Z"
   },
   {
    "duration": 123,
    "start_time": "2023-05-14T12:16:17.537Z"
   },
   {
    "duration": 3,
    "start_time": "2023-05-14T12:16:24.085Z"
   },
   {
    "duration": 62,
    "start_time": "2023-05-14T12:16:24.090Z"
   },
   {
    "duration": 11,
    "start_time": "2023-05-14T12:16:24.154Z"
   },
   {
    "duration": 15,
    "start_time": "2023-05-14T12:16:27.042Z"
   },
   {
    "duration": 4,
    "start_time": "2023-05-14T12:19:43.546Z"
   },
   {
    "duration": 8,
    "start_time": "2023-05-14T12:19:51.633Z"
   },
   {
    "duration": 7,
    "start_time": "2023-05-14T12:26:46.958Z"
   },
   {
    "duration": 15,
    "start_time": "2023-05-14T12:29:58.316Z"
   },
   {
    "duration": 23,
    "start_time": "2023-05-14T12:30:48.499Z"
   },
   {
    "duration": 25,
    "start_time": "2023-05-14T12:32:48.723Z"
   },
   {
    "duration": 2409,
    "start_time": "2023-05-14T14:35:42.711Z"
   },
   {
    "duration": 5,
    "start_time": "2023-05-14T14:46:38.735Z"
   },
   {
    "duration": 217,
    "start_time": "2023-05-14T14:58:03.863Z"
   },
   {
    "duration": 4,
    "start_time": "2023-05-14T14:58:17.745Z"
   },
   {
    "duration": 252,
    "start_time": "2023-05-14T14:58:17.752Z"
   },
   {
    "duration": 15,
    "start_time": "2023-05-14T14:58:18.006Z"
   },
   {
    "duration": 55,
    "start_time": "2023-05-14T14:58:18.023Z"
   },
   {
    "duration": 41,
    "start_time": "2023-05-14T14:58:18.081Z"
   },
   {
    "duration": 30,
    "start_time": "2023-05-14T14:58:22.232Z"
   },
   {
    "duration": 36,
    "start_time": "2023-05-14T14:58:36.755Z"
   },
   {
    "duration": 36,
    "start_time": "2023-05-14T14:58:42.588Z"
   },
   {
    "duration": 10,
    "start_time": "2023-05-14T15:16:45.547Z"
   },
   {
    "duration": 12,
    "start_time": "2023-05-14T15:16:48.839Z"
   },
   {
    "duration": 4,
    "start_time": "2023-05-14T15:16:59.161Z"
   },
   {
    "duration": 638,
    "start_time": "2023-05-14T15:17:54.622Z"
   },
   {
    "duration": 375,
    "start_time": "2023-05-14T15:18:12.831Z"
   },
   {
    "duration": 290,
    "start_time": "2023-05-14T15:18:54.232Z"
   },
   {
    "duration": 7,
    "start_time": "2023-05-14T15:20:57.351Z"
   },
   {
    "duration": 80,
    "start_time": "2023-05-14T15:20:57.360Z"
   },
   {
    "duration": 19,
    "start_time": "2023-05-14T15:20:57.441Z"
   },
   {
    "duration": 49,
    "start_time": "2023-05-14T15:20:57.463Z"
   },
   {
    "duration": 65,
    "start_time": "2023-05-14T15:20:57.522Z"
   },
   {
    "duration": 85,
    "start_time": "2023-05-14T15:20:57.589Z"
   },
   {
    "duration": 293,
    "start_time": "2023-05-14T15:21:01.235Z"
   },
   {
    "duration": 5,
    "start_time": "2023-05-14T15:25:31.064Z"
   },
   {
    "duration": 4,
    "start_time": "2023-05-14T15:25:41.652Z"
   },
   {
    "duration": 101,
    "start_time": "2023-05-14T15:25:41.658Z"
   },
   {
    "duration": 14,
    "start_time": "2023-05-14T15:25:41.761Z"
   },
   {
    "duration": 54,
    "start_time": "2023-05-14T15:25:41.777Z"
   },
   {
    "duration": 8,
    "start_time": "2023-05-14T15:25:41.832Z"
   },
   {
    "duration": 14,
    "start_time": "2023-05-14T15:25:41.842Z"
   },
   {
    "duration": 12,
    "start_time": "2023-05-14T15:30:06.184Z"
   },
   {
    "duration": 11,
    "start_time": "2023-05-14T15:30:19.127Z"
   },
   {
    "duration": 10,
    "start_time": "2023-05-14T15:30:47.455Z"
   },
   {
    "duration": 3,
    "start_time": "2023-05-14T15:34:41.419Z"
   },
   {
    "duration": 11,
    "start_time": "2023-05-14T15:39:19.942Z"
   },
   {
    "duration": 35,
    "start_time": "2023-05-14T15:39:26.023Z"
   },
   {
    "duration": 3,
    "start_time": "2023-05-14T15:45:04.668Z"
   },
   {
    "duration": 17,
    "start_time": "2023-05-14T15:46:09.384Z"
   },
   {
    "duration": 4,
    "start_time": "2023-05-14T15:46:20.236Z"
   },
   {
    "duration": 4,
    "start_time": "2023-05-14T15:46:26.551Z"
   },
   {
    "duration": 8,
    "start_time": "2023-05-14T15:46:30.314Z"
   },
   {
    "duration": 3,
    "start_time": "2023-05-14T15:48:15.573Z"
   },
   {
    "duration": 3,
    "start_time": "2023-05-14T15:49:49.046Z"
   },
   {
    "duration": 4,
    "start_time": "2023-05-14T15:50:29.223Z"
   },
   {
    "duration": 9,
    "start_time": "2023-05-14T15:50:55.644Z"
   },
   {
    "duration": 17,
    "start_time": "2023-05-14T15:51:26.302Z"
   },
   {
    "duration": 4,
    "start_time": "2023-05-14T15:51:31.935Z"
   },
   {
    "duration": 4,
    "start_time": "2023-05-14T15:52:25.470Z"
   },
   {
    "duration": 4,
    "start_time": "2023-05-14T15:52:48.382Z"
   },
   {
    "duration": 92,
    "start_time": "2023-05-14T15:52:48.389Z"
   },
   {
    "duration": 14,
    "start_time": "2023-05-14T15:52:48.483Z"
   },
   {
    "duration": 38,
    "start_time": "2023-05-14T15:52:48.499Z"
   },
   {
    "duration": 4,
    "start_time": "2023-05-14T15:52:48.539Z"
   },
   {
    "duration": 15,
    "start_time": "2023-05-14T15:52:51.715Z"
   },
   {
    "duration": 4,
    "start_time": "2023-05-14T15:53:01.076Z"
   },
   {
    "duration": 16,
    "start_time": "2023-05-14T15:55:03.841Z"
   },
   {
    "duration": 15,
    "start_time": "2023-05-14T15:55:16.909Z"
   },
   {
    "duration": 12,
    "start_time": "2023-05-14T15:55:22.626Z"
   },
   {
    "duration": 4,
    "start_time": "2023-05-14T15:56:03.224Z"
   },
   {
    "duration": 12,
    "start_time": "2023-05-14T15:57:42.006Z"
   },
   {
    "duration": 9,
    "start_time": "2023-05-14T15:58:08.020Z"
   },
   {
    "duration": 6,
    "start_time": "2023-05-14T16:00:09.822Z"
   },
   {
    "duration": 4,
    "start_time": "2023-05-14T16:00:22.721Z"
   },
   {
    "duration": 12,
    "start_time": "2023-05-14T16:01:18.353Z"
   },
   {
    "duration": 19,
    "start_time": "2023-05-14T16:01:23.070Z"
   },
   {
    "duration": 4,
    "start_time": "2023-05-14T16:08:03.964Z"
   },
   {
    "duration": 4,
    "start_time": "2023-05-14T16:08:06.550Z"
   },
   {
    "duration": 5,
    "start_time": "2023-05-14T16:08:16.431Z"
   },
   {
    "duration": 4,
    "start_time": "2023-05-14T16:14:41.439Z"
   },
   {
    "duration": 2453,
    "start_time": "2023-05-14T16:15:09.928Z"
   },
   {
    "duration": 3,
    "start_time": "2023-05-14T16:15:27.549Z"
   },
   {
    "duration": 58,
    "start_time": "2023-05-14T16:15:27.554Z"
   },
   {
    "duration": 14,
    "start_time": "2023-05-14T16:15:27.614Z"
   },
   {
    "duration": 14,
    "start_time": "2023-05-14T16:15:27.630Z"
   },
   {
    "duration": 10,
    "start_time": "2023-05-14T16:15:27.646Z"
   },
   {
    "duration": 21,
    "start_time": "2023-05-14T16:15:27.657Z"
   },
   {
    "duration": 17,
    "start_time": "2023-05-14T16:15:27.680Z"
   },
   {
    "duration": 20,
    "start_time": "2023-05-14T16:15:31.939Z"
   },
   {
    "duration": 20,
    "start_time": "2023-05-14T16:15:37.044Z"
   },
   {
    "duration": 10,
    "start_time": "2023-05-14T16:15:40.014Z"
   },
   {
    "duration": 20,
    "start_time": "2023-05-14T16:15:44.528Z"
   },
   {
    "duration": 9,
    "start_time": "2023-05-14T16:15:49.427Z"
   },
   {
    "duration": 5,
    "start_time": "2023-05-14T16:15:50.861Z"
   },
   {
    "duration": 1849,
    "start_time": "2023-05-15T05:45:24.367Z"
   },
   {
    "duration": 195,
    "start_time": "2023-05-15T05:45:26.218Z"
   },
   {
    "duration": 15,
    "start_time": "2023-05-15T05:45:26.415Z"
   },
   {
    "duration": 15,
    "start_time": "2023-05-15T05:45:26.432Z"
   },
   {
    "duration": 20,
    "start_time": "2023-05-15T05:45:26.449Z"
   },
   {
    "duration": 15,
    "start_time": "2023-05-15T05:45:37.191Z"
   },
   {
    "duration": 5,
    "start_time": "2023-05-15T05:45:43.530Z"
   },
   {
    "duration": 117,
    "start_time": "2023-05-15T05:51:53.348Z"
   },
   {
    "duration": 5,
    "start_time": "2023-05-15T05:52:15.606Z"
   },
   {
    "duration": 62,
    "start_time": "2023-05-15T05:52:18.025Z"
   },
   {
    "duration": 17,
    "start_time": "2023-05-15T05:52:20.295Z"
   },
   {
    "duration": 12,
    "start_time": "2023-05-15T05:52:22.698Z"
   },
   {
    "duration": 5,
    "start_time": "2023-05-15T05:52:24.564Z"
   },
   {
    "duration": 21,
    "start_time": "2023-05-15T05:52:28.358Z"
   },
   {
    "duration": 4,
    "start_time": "2023-05-15T05:52:32.007Z"
   },
   {
    "duration": 3888,
    "start_time": "2023-05-15T05:52:34.008Z"
   },
   {
    "duration": 4,
    "start_time": "2023-05-15T05:52:56.361Z"
   },
   {
    "duration": 64,
    "start_time": "2023-05-15T05:52:56.367Z"
   },
   {
    "duration": 12,
    "start_time": "2023-05-15T05:52:56.433Z"
   },
   {
    "duration": 20,
    "start_time": "2023-05-15T05:52:56.447Z"
   },
   {
    "duration": 14,
    "start_time": "2023-05-15T05:52:56.469Z"
   },
   {
    "duration": 17,
    "start_time": "2023-05-15T05:52:56.485Z"
   },
   {
    "duration": 12,
    "start_time": "2023-05-15T05:52:56.504Z"
   },
   {
    "duration": 1729,
    "start_time": "2023-05-15T05:52:59.456Z"
   },
   {
    "duration": 3,
    "start_time": "2023-05-15T05:57:08.648Z"
   },
   {
    "duration": 53,
    "start_time": "2023-05-15T05:57:08.653Z"
   },
   {
    "duration": 10,
    "start_time": "2023-05-15T05:57:08.708Z"
   },
   {
    "duration": 12,
    "start_time": "2023-05-15T05:57:08.719Z"
   },
   {
    "duration": 8,
    "start_time": "2023-05-15T05:57:08.733Z"
   },
   {
    "duration": 25,
    "start_time": "2023-05-15T05:57:08.743Z"
   },
   {
    "duration": 5,
    "start_time": "2023-05-15T05:57:10.956Z"
   },
   {
    "duration": 22,
    "start_time": "2023-05-15T05:57:12.714Z"
   },
   {
    "duration": 19,
    "start_time": "2023-05-15T05:57:33.991Z"
   },
   {
    "duration": 4,
    "start_time": "2023-05-15T06:03:29.566Z"
   },
   {
    "duration": 69,
    "start_time": "2023-05-15T06:03:29.571Z"
   },
   {
    "duration": 16,
    "start_time": "2023-05-15T06:03:29.642Z"
   },
   {
    "duration": 18,
    "start_time": "2023-05-15T06:03:29.660Z"
   },
   {
    "duration": 13,
    "start_time": "2023-05-15T06:03:29.680Z"
   },
   {
    "duration": 32,
    "start_time": "2023-05-15T06:03:29.695Z"
   },
   {
    "duration": 4,
    "start_time": "2023-05-15T06:03:29.729Z"
   },
   {
    "duration": 21,
    "start_time": "2023-05-15T06:03:32.576Z"
   },
   {
    "duration": 3,
    "start_time": "2023-05-15T06:05:05.765Z"
   },
   {
    "duration": 69,
    "start_time": "2023-05-15T06:05:05.770Z"
   },
   {
    "duration": 11,
    "start_time": "2023-05-15T06:05:05.841Z"
   },
   {
    "duration": 37,
    "start_time": "2023-05-15T06:05:05.854Z"
   },
   {
    "duration": 32,
    "start_time": "2023-05-15T06:05:05.893Z"
   },
   {
    "duration": 34,
    "start_time": "2023-05-15T06:05:05.927Z"
   },
   {
    "duration": 4,
    "start_time": "2023-05-15T06:05:08.020Z"
   },
   {
    "duration": 23,
    "start_time": "2023-05-15T06:05:09.268Z"
   },
   {
    "duration": 3,
    "start_time": "2023-05-15T06:05:53.660Z"
   },
   {
    "duration": 73,
    "start_time": "2023-05-15T06:05:53.665Z"
   },
   {
    "duration": 10,
    "start_time": "2023-05-15T06:05:53.739Z"
   },
   {
    "duration": 11,
    "start_time": "2023-05-15T06:05:53.751Z"
   },
   {
    "duration": 8,
    "start_time": "2023-05-15T06:05:53.764Z"
   },
   {
    "duration": 20,
    "start_time": "2023-05-15T06:05:53.774Z"
   },
   {
    "duration": 18,
    "start_time": "2023-05-15T06:05:53.800Z"
   },
   {
    "duration": 24,
    "start_time": "2023-05-15T06:05:56.010Z"
   },
   {
    "duration": 3,
    "start_time": "2023-05-15T06:06:21.983Z"
   },
   {
    "duration": 64,
    "start_time": "2023-05-15T06:06:21.988Z"
   },
   {
    "duration": 13,
    "start_time": "2023-05-15T06:06:22.054Z"
   },
   {
    "duration": 25,
    "start_time": "2023-05-15T06:06:22.069Z"
   },
   {
    "duration": 29,
    "start_time": "2023-05-15T06:06:22.096Z"
   },
   {
    "duration": 18,
    "start_time": "2023-05-15T06:06:22.127Z"
   },
   {
    "duration": 4,
    "start_time": "2023-05-15T06:06:22.147Z"
   },
   {
    "duration": 38,
    "start_time": "2023-05-15T06:06:26.083Z"
   },
   {
    "duration": 19,
    "start_time": "2023-05-15T06:06:32.852Z"
   },
   {
    "duration": 3,
    "start_time": "2023-05-15T06:08:13.711Z"
   },
   {
    "duration": 88,
    "start_time": "2023-05-15T06:08:13.716Z"
   },
   {
    "duration": 12,
    "start_time": "2023-05-15T06:08:13.809Z"
   },
   {
    "duration": 29,
    "start_time": "2023-05-15T06:08:13.823Z"
   },
   {
    "duration": 43,
    "start_time": "2023-05-15T06:08:13.854Z"
   },
   {
    "duration": 41,
    "start_time": "2023-05-15T06:08:13.901Z"
   },
   {
    "duration": 23,
    "start_time": "2023-05-15T06:08:13.944Z"
   },
   {
    "duration": 23,
    "start_time": "2023-05-15T06:08:14.980Z"
   },
   {
    "duration": 25,
    "start_time": "2023-05-15T06:08:20.588Z"
   },
   {
    "duration": 25,
    "start_time": "2023-05-15T06:08:25.297Z"
   },
   {
    "duration": 25,
    "start_time": "2023-05-15T06:08:29.562Z"
   },
   {
    "duration": 37,
    "start_time": "2023-05-15T06:09:18.240Z"
   },
   {
    "duration": 19,
    "start_time": "2023-05-15T06:09:53.647Z"
   },
   {
    "duration": 4,
    "start_time": "2023-05-15T06:10:27.957Z"
   },
   {
    "duration": 66,
    "start_time": "2023-05-15T06:10:27.963Z"
   },
   {
    "duration": 13,
    "start_time": "2023-05-15T06:10:28.031Z"
   },
   {
    "duration": 20,
    "start_time": "2023-05-15T06:10:28.047Z"
   },
   {
    "duration": 29,
    "start_time": "2023-05-15T06:10:28.069Z"
   },
   {
    "duration": 16,
    "start_time": "2023-05-15T06:10:28.100Z"
   },
   {
    "duration": 15,
    "start_time": "2023-05-15T06:10:28.117Z"
   },
   {
    "duration": 30,
    "start_time": "2023-05-15T06:10:28.134Z"
   },
   {
    "duration": 25,
    "start_time": "2023-05-15T06:10:30.253Z"
   },
   {
    "duration": 21,
    "start_time": "2023-05-15T06:10:32.109Z"
   },
   {
    "duration": 20,
    "start_time": "2023-05-15T06:10:43.094Z"
   },
   {
    "duration": 17,
    "start_time": "2023-05-15T06:10:50.297Z"
   },
   {
    "duration": 1691,
    "start_time": "2023-05-15T13:42:45.409Z"
   },
   {
    "duration": 180,
    "start_time": "2023-05-15T13:42:47.103Z"
   },
   {
    "duration": 15,
    "start_time": "2023-05-15T13:42:47.285Z"
   },
   {
    "duration": 15,
    "start_time": "2023-05-15T13:42:47.302Z"
   },
   {
    "duration": 12,
    "start_time": "2023-05-15T13:42:47.319Z"
   },
   {
    "duration": 19,
    "start_time": "2023-05-15T13:42:47.333Z"
   },
   {
    "duration": 5,
    "start_time": "2023-05-15T13:42:51.712Z"
   },
   {
    "duration": 26,
    "start_time": "2023-05-15T13:42:52.701Z"
   },
   {
    "duration": 32,
    "start_time": "2023-05-15T13:42:54.376Z"
   },
   {
    "duration": 20,
    "start_time": "2023-05-15T13:43:00.020Z"
   },
   {
    "duration": 5,
    "start_time": "2023-05-15T13:43:22.585Z"
   },
   {
    "duration": 3,
    "start_time": "2023-05-15T13:43:27.926Z"
   },
   {
    "duration": 5,
    "start_time": "2023-05-15T13:43:31.184Z"
   },
   {
    "duration": 112,
    "start_time": "2023-05-15T13:44:14.459Z"
   },
   {
    "duration": 4,
    "start_time": "2023-05-15T13:44:20.531Z"
   },
   {
    "duration": 9,
    "start_time": "2023-05-15T13:44:26.463Z"
   },
   {
    "duration": 11,
    "start_time": "2023-05-15T13:45:04.928Z"
   },
   {
    "duration": 13,
    "start_time": "2023-05-15T13:45:31.962Z"
   },
   {
    "duration": 7,
    "start_time": "2023-05-15T13:48:34.785Z"
   },
   {
    "duration": 14,
    "start_time": "2023-05-15T13:52:55.766Z"
   },
   {
    "duration": 8,
    "start_time": "2023-05-15T13:53:36.642Z"
   },
   {
    "duration": 5,
    "start_time": "2023-05-15T13:53:41.784Z"
   },
   {
    "duration": 95,
    "start_time": "2023-05-15T13:54:58.605Z"
   },
   {
    "duration": 4,
    "start_time": "2023-05-15T13:55:08.543Z"
   },
   {
    "duration": 19,
    "start_time": "2023-05-15T13:55:19.148Z"
   },
   {
    "duration": 10,
    "start_time": "2023-05-15T13:55:28.364Z"
   },
   {
    "duration": 13,
    "start_time": "2023-05-15T13:56:02.600Z"
   },
   {
    "duration": 4,
    "start_time": "2023-05-15T13:58:21.368Z"
   },
   {
    "duration": 51,
    "start_time": "2023-05-15T13:58:23.669Z"
   },
   {
    "duration": 13,
    "start_time": "2023-05-15T13:58:26.593Z"
   },
   {
    "duration": 15,
    "start_time": "2023-05-15T13:58:45.103Z"
   },
   {
    "duration": 5,
    "start_time": "2023-05-15T13:58:50.585Z"
   },
   {
    "duration": 14,
    "start_time": "2023-05-15T13:58:55.153Z"
   },
   {
    "duration": 12,
    "start_time": "2023-05-15T13:59:04.631Z"
   },
   {
    "duration": 4,
    "start_time": "2023-05-15T13:59:14.069Z"
   },
   {
    "duration": 8,
    "start_time": "2023-05-15T13:59:46.399Z"
   },
   {
    "duration": 4,
    "start_time": "2023-05-15T13:59:50.287Z"
   },
   {
    "duration": 12,
    "start_time": "2023-05-15T14:00:02.377Z"
   },
   {
    "duration": 11,
    "start_time": "2023-05-15T14:00:35.429Z"
   },
   {
    "duration": 27,
    "start_time": "2023-05-15T14:00:51.460Z"
   },
   {
    "duration": 12,
    "start_time": "2023-05-15T14:01:20.155Z"
   },
   {
    "duration": 24,
    "start_time": "2023-05-15T14:01:49.100Z"
   },
   {
    "duration": 11,
    "start_time": "2023-05-15T14:01:56.901Z"
   },
   {
    "duration": 5,
    "start_time": "2023-05-15T14:05:05.562Z"
   },
   {
    "duration": 5,
    "start_time": "2023-05-15T14:05:30.062Z"
   },
   {
    "duration": 6,
    "start_time": "2023-05-15T14:05:41.697Z"
   },
   {
    "duration": 6,
    "start_time": "2023-05-15T14:07:42.120Z"
   },
   {
    "duration": 5,
    "start_time": "2023-05-15T14:08:17.035Z"
   },
   {
    "duration": 59,
    "start_time": "2023-05-15T14:08:18.402Z"
   },
   {
    "duration": 13,
    "start_time": "2023-05-15T14:08:20.416Z"
   },
   {
    "duration": 13,
    "start_time": "2023-05-15T14:08:23.550Z"
   },
   {
    "duration": 5,
    "start_time": "2023-05-15T14:08:25.569Z"
   },
   {
    "duration": 21,
    "start_time": "2023-05-15T14:08:27.334Z"
   },
   {
    "duration": 12,
    "start_time": "2023-05-15T14:08:29.944Z"
   },
   {
    "duration": 17,
    "start_time": "2023-05-15T14:08:36.883Z"
   },
   {
    "duration": 4,
    "start_time": "2023-05-15T14:08:46.490Z"
   },
   {
    "duration": 22,
    "start_time": "2023-05-15T14:08:49.391Z"
   },
   {
    "duration": 11,
    "start_time": "2023-05-15T14:08:50.841Z"
   },
   {
    "duration": 4,
    "start_time": "2023-05-15T14:09:37.759Z"
   },
   {
    "duration": 11,
    "start_time": "2023-05-15T14:09:42.660Z"
   },
   {
    "duration": 12,
    "start_time": "2023-05-15T14:10:18.577Z"
   },
   {
    "duration": 17,
    "start_time": "2023-05-15T14:10:33.318Z"
   },
   {
    "duration": 10,
    "start_time": "2023-05-15T14:10:48.235Z"
   },
   {
    "duration": 12,
    "start_time": "2023-05-15T14:11:15.391Z"
   },
   {
    "duration": 12,
    "start_time": "2023-05-15T14:11:25.602Z"
   },
   {
    "duration": 24,
    "start_time": "2023-05-15T14:11:32.230Z"
   },
   {
    "duration": 11,
    "start_time": "2023-05-15T14:11:40.840Z"
   },
   {
    "duration": 13,
    "start_time": "2023-05-15T14:11:57.357Z"
   },
   {
    "duration": 12,
    "start_time": "2023-05-15T14:12:20.434Z"
   },
   {
    "duration": 11,
    "start_time": "2023-05-15T14:12:40.323Z"
   },
   {
    "duration": 11,
    "start_time": "2023-05-15T14:12:55.141Z"
   },
   {
    "duration": 12,
    "start_time": "2023-05-15T14:13:11.714Z"
   },
   {
    "duration": 4,
    "start_time": "2023-05-15T14:14:05.426Z"
   },
   {
    "duration": 49,
    "start_time": "2023-05-15T14:14:07.580Z"
   },
   {
    "duration": 13,
    "start_time": "2023-05-15T14:14:11.426Z"
   },
   {
    "duration": 15,
    "start_time": "2023-05-15T14:14:14.730Z"
   },
   {
    "duration": 6,
    "start_time": "2023-05-15T14:14:20.225Z"
   },
   {
    "duration": 13,
    "start_time": "2023-05-15T14:14:22.296Z"
   },
   {
    "duration": 4,
    "start_time": "2023-05-15T14:14:29.989Z"
   },
   {
    "duration": 22,
    "start_time": "2023-05-15T14:14:31.211Z"
   },
   {
    "duration": 10,
    "start_time": "2023-05-15T14:14:33.477Z"
   },
   {
    "duration": 24,
    "start_time": "2023-05-15T14:14:40.309Z"
   },
   {
    "duration": 10,
    "start_time": "2023-05-15T14:14:44.502Z"
   },
   {
    "duration": 617,
    "start_time": "2023-05-15T14:14:55.649Z"
   },
   {
    "duration": 4,
    "start_time": "2023-05-15T14:14:57.126Z"
   },
   {
    "duration": 19,
    "start_time": "2023-05-15T14:15:04.581Z"
   },
   {
    "duration": 11,
    "start_time": "2023-05-15T14:15:09.400Z"
   },
   {
    "duration": 253,
    "start_time": "2023-05-15T14:16:51.994Z"
   },
   {
    "duration": 11,
    "start_time": "2023-05-15T14:16:58.854Z"
   },
   {
    "duration": 10,
    "start_time": "2023-05-15T14:17:06.509Z"
   },
   {
    "duration": 5,
    "start_time": "2023-05-15T14:17:19.718Z"
   },
   {
    "duration": 55,
    "start_time": "2023-05-15T14:17:19.725Z"
   },
   {
    "duration": 13,
    "start_time": "2023-05-15T14:17:19.782Z"
   },
   {
    "duration": 14,
    "start_time": "2023-05-15T14:17:19.797Z"
   },
   {
    "duration": 7,
    "start_time": "2023-05-15T14:17:19.813Z"
   },
   {
    "duration": 22,
    "start_time": "2023-05-15T14:17:19.822Z"
   },
   {
    "duration": 8,
    "start_time": "2023-05-15T14:17:19.846Z"
   },
   {
    "duration": 26,
    "start_time": "2023-05-15T14:17:19.856Z"
   },
   {
    "duration": 24,
    "start_time": "2023-05-15T14:17:19.884Z"
   },
   {
    "duration": 558,
    "start_time": "2023-05-15T14:17:19.910Z"
   },
   {
    "duration": 4,
    "start_time": "2023-05-15T14:17:20.470Z"
   },
   {
    "duration": 334,
    "start_time": "2023-05-15T14:17:24.406Z"
   },
   {
    "duration": 10,
    "start_time": "2023-05-15T14:17:27.148Z"
   },
   {
    "duration": 12,
    "start_time": "2023-05-15T14:17:31.853Z"
   },
   {
    "duration": 10,
    "start_time": "2023-05-15T14:20:08.492Z"
   },
   {
    "duration": 2342,
    "start_time": "2023-05-15T14:21:32.157Z"
   },
   {
    "duration": 398,
    "start_time": "2023-05-15T14:21:40.407Z"
   },
   {
    "duration": 366,
    "start_time": "2023-05-15T14:22:19.446Z"
   },
   {
    "duration": 472,
    "start_time": "2023-05-15T14:22:26.364Z"
   },
   {
    "duration": 419,
    "start_time": "2023-05-15T14:23:33.461Z"
   },
   {
    "duration": 490,
    "start_time": "2023-05-15T14:24:20.498Z"
   },
   {
    "duration": 2071,
    "start_time": "2023-05-15T14:27:43.212Z"
   },
   {
    "duration": 351,
    "start_time": "2023-05-15T14:27:47.987Z"
   },
   {
    "duration": 335,
    "start_time": "2023-05-15T14:28:25.194Z"
   },
   {
    "duration": 424,
    "start_time": "2023-05-15T14:29:04.305Z"
   },
   {
    "duration": 363,
    "start_time": "2023-05-15T14:34:06.497Z"
   },
   {
    "duration": 449,
    "start_time": "2023-05-15T14:35:16.830Z"
   },
   {
    "duration": 7,
    "start_time": "2023-05-15T14:39:22.762Z"
   },
   {
    "duration": 18,
    "start_time": "2023-05-15T14:39:29.257Z"
   },
   {
    "duration": 14,
    "start_time": "2023-05-15T14:40:21.432Z"
   },
   {
    "duration": 6,
    "start_time": "2023-05-15T14:40:45.715Z"
   },
   {
    "duration": 10,
    "start_time": "2023-05-15T14:40:50.128Z"
   },
   {
    "duration": 11,
    "start_time": "2023-05-15T14:40:55.400Z"
   },
   {
    "duration": 12,
    "start_time": "2023-05-15T14:46:18.906Z"
   },
   {
    "duration": 7,
    "start_time": "2023-05-15T14:46:41.328Z"
   },
   {
    "duration": 6,
    "start_time": "2023-05-15T14:46:46.560Z"
   },
   {
    "duration": 6,
    "start_time": "2023-05-15T14:47:40.062Z"
   },
   {
    "duration": 8,
    "start_time": "2023-05-15T14:47:52.209Z"
   },
   {
    "duration": 959,
    "start_time": "2023-05-15T14:52:52.895Z"
   },
   {
    "duration": 157,
    "start_time": "2023-05-15T14:54:50.638Z"
   },
   {
    "duration": 23,
    "start_time": "2023-05-15T14:57:07.834Z"
   },
   {
    "duration": 16141,
    "start_time": "2023-05-15T14:57:17.563Z"
   },
   {
    "duration": 16137,
    "start_time": "2023-05-15T14:58:05.207Z"
   },
   {
    "duration": 1632,
    "start_time": "2023-05-16T12:22:24.361Z"
   },
   {
    "duration": 171,
    "start_time": "2023-05-16T12:22:25.996Z"
   },
   {
    "duration": 13,
    "start_time": "2023-05-16T12:22:26.169Z"
   },
   {
    "duration": 21,
    "start_time": "2023-05-16T12:22:26.183Z"
   },
   {
    "duration": 6,
    "start_time": "2023-05-16T12:22:26.207Z"
   },
   {
    "duration": 17,
    "start_time": "2023-05-16T12:22:26.214Z"
   },
   {
    "duration": 4,
    "start_time": "2023-05-16T12:22:26.232Z"
   },
   {
    "duration": 24,
    "start_time": "2023-05-16T12:22:26.238Z"
   },
   {
    "duration": 25,
    "start_time": "2023-05-16T12:22:26.264Z"
   },
   {
    "duration": 663,
    "start_time": "2023-05-16T12:22:26.291Z"
   },
   {
    "duration": 4,
    "start_time": "2023-05-16T12:22:26.956Z"
   },
   {
    "duration": 269,
    "start_time": "2023-05-16T12:22:26.962Z"
   },
   {
    "duration": 98,
    "start_time": "2023-05-16T12:22:27.234Z"
   },
   {
    "duration": 523,
    "start_time": "2023-05-16T12:22:27.336Z"
   },
   {
    "duration": 401,
    "start_time": "2023-05-16T12:22:27.861Z"
   },
   {
    "duration": 441,
    "start_time": "2023-05-16T12:22:28.264Z"
   },
   {
    "duration": 18,
    "start_time": "2023-05-16T12:22:28.707Z"
   },
   {
    "duration": 15,
    "start_time": "2023-05-16T12:22:28.727Z"
   },
   {
    "duration": 994,
    "start_time": "2023-05-16T12:22:28.744Z"
   },
   {
    "duration": 237,
    "start_time": "2023-05-16T12:22:29.740Z"
   },
   {
    "duration": 15843,
    "start_time": "2023-05-16T12:22:39.404Z"
   },
   {
    "duration": 318,
    "start_time": "2023-05-16T12:24:31.197Z"
   },
   {
    "duration": 375,
    "start_time": "2023-05-16T12:24:37.152Z"
   },
   {
    "duration": 15393,
    "start_time": "2023-05-16T12:39:19.185Z"
   },
   {
    "duration": 36025,
    "start_time": "2023-05-16T12:41:57.651Z"
   },
   {
    "duration": 50909,
    "start_time": "2023-05-16T12:42:49.677Z"
   },
   {
    "duration": 69277,
    "start_time": "2023-05-16T12:44:27.554Z"
   },
   {
    "duration": 51205,
    "start_time": "2023-05-16T12:46:50.663Z"
   },
   {
    "duration": 4,
    "start_time": "2023-05-16T12:48:56.761Z"
   },
   {
    "duration": 45,
    "start_time": "2023-05-16T12:48:58.751Z"
   },
   {
    "duration": 11,
    "start_time": "2023-05-16T12:49:00.377Z"
   },
   {
    "duration": 13,
    "start_time": "2023-05-16T12:49:02.597Z"
   },
   {
    "duration": 5,
    "start_time": "2023-05-16T12:49:04.717Z"
   },
   {
    "duration": 13,
    "start_time": "2023-05-16T12:49:07.655Z"
   },
   {
    "duration": 4,
    "start_time": "2023-05-16T12:49:11.545Z"
   },
   {
    "duration": 21,
    "start_time": "2023-05-16T12:49:12.756Z"
   },
   {
    "duration": 23,
    "start_time": "2023-05-16T12:49:14.660Z"
   },
   {
    "duration": 452,
    "start_time": "2023-05-16T12:49:16.297Z"
   },
   {
    "duration": 4,
    "start_time": "2023-05-16T12:49:17.997Z"
   },
   {
    "duration": 340,
    "start_time": "2023-05-16T12:49:18.885Z"
   },
   {
    "duration": 10,
    "start_time": "2023-05-16T12:49:20.757Z"
   },
   {
    "duration": 465,
    "start_time": "2023-05-16T12:49:22.557Z"
   },
   {
    "duration": 428,
    "start_time": "2023-05-16T12:49:25.957Z"
   },
   {
    "duration": 448,
    "start_time": "2023-05-16T12:49:29.857Z"
   },
   {
    "duration": 6,
    "start_time": "2023-05-16T12:49:33.156Z"
   },
   {
    "duration": 6,
    "start_time": "2023-05-16T12:49:37.609Z"
   },
   {
    "duration": 975,
    "start_time": "2023-05-16T12:49:53.657Z"
   },
   {
    "duration": 141,
    "start_time": "2023-05-16T12:50:01.058Z"
   },
   {
    "duration": 15033,
    "start_time": "2023-05-16T12:50:14.257Z"
   },
   {
    "duration": 244,
    "start_time": "2023-05-16T12:50:43.185Z"
   },
   {
    "duration": 51326,
    "start_time": "2023-05-16T12:51:47.197Z"
   },
   {
    "duration": 15540,
    "start_time": "2023-05-16T12:53:49.971Z"
   },
   {
    "duration": 4,
    "start_time": "2023-05-16T14:07:13.403Z"
   },
   {
    "duration": 51,
    "start_time": "2023-05-16T14:07:13.409Z"
   },
   {
    "duration": 12,
    "start_time": "2023-05-16T14:07:13.462Z"
   },
   {
    "duration": 13,
    "start_time": "2023-05-16T14:07:13.476Z"
   },
   {
    "duration": 6,
    "start_time": "2023-05-16T14:07:13.491Z"
   },
   {
    "duration": 15,
    "start_time": "2023-05-16T14:07:13.498Z"
   },
   {
    "duration": 5,
    "start_time": "2023-05-16T14:07:13.525Z"
   },
   {
    "duration": 24,
    "start_time": "2023-05-16T14:07:13.531Z"
   },
   {
    "duration": 27,
    "start_time": "2023-05-16T14:07:13.557Z"
   },
   {
    "duration": 651,
    "start_time": "2023-05-16T14:07:13.586Z"
   },
   {
    "duration": 4,
    "start_time": "2023-05-16T14:07:14.239Z"
   },
   {
    "duration": 481,
    "start_time": "2023-05-16T14:07:14.244Z"
   },
   {
    "duration": 9,
    "start_time": "2023-05-16T14:07:14.727Z"
   },
   {
    "duration": 550,
    "start_time": "2023-05-16T14:07:14.738Z"
   },
   {
    "duration": 449,
    "start_time": "2023-05-16T14:07:15.290Z"
   },
   {
    "duration": 462,
    "start_time": "2023-05-16T14:07:15.741Z"
   },
   {
    "duration": 6,
    "start_time": "2023-05-16T14:07:16.205Z"
   },
   {
    "duration": 8,
    "start_time": "2023-05-16T14:07:16.224Z"
   },
   {
    "duration": 968,
    "start_time": "2023-05-16T14:07:16.234Z"
   },
   {
    "duration": 161,
    "start_time": "2023-05-16T14:07:17.204Z"
   },
   {
    "duration": 15062,
    "start_time": "2023-05-16T14:07:17.367Z"
   },
   {
    "duration": 297,
    "start_time": "2023-05-16T14:07:32.431Z"
   },
   {
    "duration": 14997,
    "start_time": "2023-05-16T14:07:40.386Z"
   },
   {
    "duration": 44,
    "start_time": "2023-05-16T14:10:58.613Z"
   },
   {
    "duration": 119,
    "start_time": "2023-05-16T14:11:12.663Z"
   },
   {
    "duration": 1067,
    "start_time": "2023-05-16T14:11:39.801Z"
   },
   {
    "duration": 9,
    "start_time": "2023-05-16T14:12:14.963Z"
   },
   {
    "duration": 4,
    "start_time": "2023-05-16T14:12:23.867Z"
   },
   {
    "duration": 1006,
    "start_time": "2023-05-16T14:12:32.092Z"
   },
   {
    "duration": 46,
    "start_time": "2023-05-16T14:13:18.260Z"
   },
   {
    "duration": 1998,
    "start_time": "2023-05-16T14:13:28.110Z"
   },
   {
    "duration": 55,
    "start_time": "2023-05-16T15:28:38.163Z"
   },
   {
    "duration": 20,
    "start_time": "2023-05-16T15:29:35.896Z"
   },
   {
    "duration": 4,
    "start_time": "2023-05-16T15:30:06.022Z"
   },
   {
    "duration": 9,
    "start_time": "2023-05-16T15:30:10.115Z"
   },
   {
    "duration": 4,
    "start_time": "2023-05-16T15:30:16.436Z"
   },
   {
    "duration": 64,
    "start_time": "2023-05-16T15:30:20.938Z"
   },
   {
    "duration": 10,
    "start_time": "2023-05-16T15:30:23.234Z"
   },
   {
    "duration": 4,
    "start_time": "2023-05-16T15:30:41.500Z"
   },
   {
    "duration": 3,
    "start_time": "2023-05-16T15:30:56.080Z"
   },
   {
    "duration": 5,
    "start_time": "2023-05-16T15:31:04.347Z"
   },
   {
    "duration": 5,
    "start_time": "2023-05-16T15:31:44.202Z"
   },
   {
    "duration": 4,
    "start_time": "2023-05-16T15:33:12.722Z"
   },
   {
    "duration": 47,
    "start_time": "2023-05-16T15:33:15.116Z"
   },
   {
    "duration": 12,
    "start_time": "2023-05-16T15:33:18.027Z"
   },
   {
    "duration": 13,
    "start_time": "2023-05-16T15:33:20.384Z"
   },
   {
    "duration": 6,
    "start_time": "2023-05-16T15:33:22.900Z"
   },
   {
    "duration": 14,
    "start_time": "2023-05-16T15:33:28.451Z"
   },
   {
    "duration": 6,
    "start_time": "2023-05-16T15:33:33.708Z"
   },
   {
    "duration": 4,
    "start_time": "2023-05-16T15:33:57.649Z"
   },
   {
    "duration": 48,
    "start_time": "2023-05-16T15:33:58.880Z"
   },
   {
    "duration": 13,
    "start_time": "2023-05-16T15:34:01.052Z"
   },
   {
    "duration": 13,
    "start_time": "2023-05-16T15:34:03.049Z"
   },
   {
    "duration": 5,
    "start_time": "2023-05-16T15:34:05.222Z"
   },
   {
    "duration": 15,
    "start_time": "2023-05-16T15:34:12.280Z"
   },
   {
    "duration": 5,
    "start_time": "2023-05-16T15:34:15.879Z"
   },
   {
    "duration": 5,
    "start_time": "2023-05-16T15:34:21.246Z"
   },
   {
    "duration": 5,
    "start_time": "2023-05-16T15:34:24.279Z"
   },
   {
    "duration": 5,
    "start_time": "2023-05-16T15:34:32.351Z"
   },
   {
    "duration": 4,
    "start_time": "2023-05-16T15:34:39.204Z"
   },
   {
    "duration": 22,
    "start_time": "2023-05-16T15:34:42.554Z"
   },
   {
    "duration": 4,
    "start_time": "2023-05-16T15:34:48.492Z"
   },
   {
    "duration": 8,
    "start_time": "2023-05-16T15:34:55.916Z"
   },
   {
    "duration": 26,
    "start_time": "2023-05-16T15:35:11.956Z"
   },
   {
    "duration": 5,
    "start_time": "2023-05-16T15:35:16.799Z"
   },
   {
    "duration": 4,
    "start_time": "2023-05-16T15:35:24.108Z"
   },
   {
    "duration": 9,
    "start_time": "2023-05-16T15:35:40.206Z"
   },
   {
    "duration": 3,
    "start_time": "2023-05-16T15:35:45.159Z"
   },
   {
    "duration": 4,
    "start_time": "2023-05-16T15:36:47.287Z"
   },
   {
    "duration": 4,
    "start_time": "2023-05-16T15:36:55.951Z"
   },
   {
    "duration": 5,
    "start_time": "2023-05-16T15:37:01.880Z"
   },
   {
    "duration": 578,
    "start_time": "2023-05-16T15:37:06.720Z"
   },
   {
    "duration": 4,
    "start_time": "2023-05-16T15:37:08.314Z"
   },
   {
    "duration": 351,
    "start_time": "2023-05-16T15:37:10.184Z"
   },
   {
    "duration": 11,
    "start_time": "2023-05-16T15:37:11.800Z"
   },
   {
    "duration": 472,
    "start_time": "2023-05-16T15:37:14.783Z"
   },
   {
    "duration": 492,
    "start_time": "2023-05-16T15:37:21.046Z"
   },
   {
    "duration": 437,
    "start_time": "2023-05-16T15:37:25.918Z"
   },
   {
    "duration": 6,
    "start_time": "2023-05-16T15:37:30.755Z"
   },
   {
    "duration": 6,
    "start_time": "2023-05-16T15:37:33.676Z"
   },
   {
    "duration": 932,
    "start_time": "2023-05-16T15:37:38.483Z"
   },
   {
    "duration": 134,
    "start_time": "2023-05-16T15:37:48.084Z"
   },
   {
    "duration": 15613,
    "start_time": "2023-05-16T15:37:52.053Z"
   },
   {
    "duration": 207,
    "start_time": "2023-05-16T15:38:11.322Z"
   },
   {
    "duration": 15801,
    "start_time": "2023-05-16T15:38:18.700Z"
   },
   {
    "duration": 1907,
    "start_time": "2023-05-16T15:38:41.815Z"
   },
   {
    "duration": 22,
    "start_time": "2023-05-16T15:38:49.888Z"
   },
   {
    "duration": 5,
    "start_time": "2023-05-16T15:40:09.609Z"
   },
   {
    "duration": 10,
    "start_time": "2023-05-16T15:40:18.903Z"
   },
   {
    "duration": 13,
    "start_time": "2023-05-16T15:41:07.217Z"
   },
   {
    "duration": 5,
    "start_time": "2023-05-16T15:41:10.958Z"
   },
   {
    "duration": 6,
    "start_time": "2023-05-16T15:41:49.291Z"
   },
   {
    "duration": 4,
    "start_time": "2023-05-16T15:42:33.109Z"
   },
   {
    "duration": 5,
    "start_time": "2023-05-16T15:42:37.147Z"
   },
   {
    "duration": 9687,
    "start_time": "2023-05-16T15:43:58.220Z"
   },
   {
    "duration": 11,
    "start_time": "2023-05-16T15:49:52.906Z"
   },
   {
    "duration": 11,
    "start_time": "2023-05-16T15:49:58.549Z"
   },
   {
    "duration": 7,
    "start_time": "2023-05-16T15:51:03.634Z"
   },
   {
    "duration": 10,
    "start_time": "2023-05-16T15:51:16.455Z"
   },
   {
    "duration": 9,
    "start_time": "2023-05-16T15:51:23.692Z"
   },
   {
    "duration": 21048,
    "start_time": "2023-05-16T15:52:31.650Z"
   },
   {
    "duration": 31917,
    "start_time": "2023-05-16T15:54:19.255Z"
   },
   {
    "duration": 1961,
    "start_time": "2023-05-16T15:55:19.050Z"
   },
   {
    "duration": 2008,
    "start_time": "2023-05-16T18:38:15.106Z"
   },
   {
    "duration": 524,
    "start_time": "2023-05-16T18:38:17.117Z"
   },
   {
    "duration": 23,
    "start_time": "2023-05-16T18:38:17.643Z"
   },
   {
    "duration": 24,
    "start_time": "2023-05-16T18:38:17.673Z"
   },
   {
    "duration": 7,
    "start_time": "2023-05-16T18:38:17.700Z"
   },
   {
    "duration": 22,
    "start_time": "2023-05-16T18:38:17.709Z"
   },
   {
    "duration": 5,
    "start_time": "2023-05-16T18:38:17.733Z"
   },
   {
    "duration": 65,
    "start_time": "2023-05-16T18:38:17.740Z"
   },
   {
    "duration": 26,
    "start_time": "2023-05-16T18:38:17.808Z"
   },
   {
    "duration": 4,
    "start_time": "2023-05-16T18:38:17.836Z"
   },
   {
    "duration": 639,
    "start_time": "2023-05-16T18:38:17.842Z"
   },
   {
    "duration": 13,
    "start_time": "2023-05-16T18:38:18.484Z"
   },
   {
    "duration": 268,
    "start_time": "2023-05-16T18:38:18.506Z"
   },
   {
    "duration": 91,
    "start_time": "2023-05-16T18:38:18.780Z"
   },
   {
    "duration": 660,
    "start_time": "2023-05-16T18:38:18.873Z"
   },
   {
    "duration": 515,
    "start_time": "2023-05-16T18:38:19.536Z"
   },
   {
    "duration": 592,
    "start_time": "2023-05-16T18:38:20.053Z"
   },
   {
    "duration": 30,
    "start_time": "2023-05-16T18:38:20.647Z"
   },
   {
    "duration": 23,
    "start_time": "2023-05-16T18:38:20.679Z"
   },
   {
    "duration": 1134,
    "start_time": "2023-05-16T18:38:20.704Z"
   },
   {
    "duration": 182,
    "start_time": "2023-05-16T18:38:21.840Z"
   },
   {
    "duration": 18659,
    "start_time": "2023-05-16T18:38:22.024Z"
   },
   {
    "duration": 679,
    "start_time": "2023-05-16T18:38:40.685Z"
   },
   {
    "duration": 17637,
    "start_time": "2023-05-16T18:38:41.372Z"
   },
   {
    "duration": 2003,
    "start_time": "2023-05-16T18:38:59.012Z"
   },
   {
    "duration": 19,
    "start_time": "2023-05-16T18:39:01.017Z"
   },
   {
    "duration": 43,
    "start_time": "2023-05-16T18:39:01.039Z"
   },
   {
    "duration": 41,
    "start_time": "2023-05-16T18:39:01.087Z"
   },
   {
    "duration": 10655,
    "start_time": "2023-05-16T18:39:01.131Z"
   },
   {
    "duration": 17,
    "start_time": "2023-05-16T18:39:11.789Z"
   },
   {
    "duration": 18,
    "start_time": "2023-05-16T18:39:11.809Z"
   },
   {
    "duration": 141,
    "start_time": "2023-05-16T18:42:07.293Z"
   },
   {
    "duration": 13,
    "start_time": "2023-05-16T18:42:57.711Z"
   },
   {
    "duration": 4,
    "start_time": "2023-05-16T18:43:29.840Z"
   },
   {
    "duration": 9,
    "start_time": "2023-05-16T18:50:10.904Z"
   },
   {
    "duration": 10,
    "start_time": "2023-05-16T18:50:15.924Z"
   },
   {
    "duration": 35733,
    "start_time": "2023-05-16T18:50:20.523Z"
   },
   {
    "duration": 4,
    "start_time": "2023-05-16T18:51:45.443Z"
   },
   {
    "duration": 26,
    "start_time": "2023-05-16T18:53:46.860Z"
   },
   {
    "duration": 17,
    "start_time": "2023-05-16T18:54:00.728Z"
   },
   {
    "duration": 45,
    "start_time": "2023-05-16T18:54:16.033Z"
   },
   {
    "duration": 11,
    "start_time": "2023-05-16T18:54:22.307Z"
   },
   {
    "duration": 38,
    "start_time": "2023-05-16T18:56:48.428Z"
   },
   {
    "duration": 392,
    "start_time": "2023-05-16T18:57:37.404Z"
   },
   {
    "duration": 20,
    "start_time": "2023-05-16T18:58:04.018Z"
   },
   {
    "duration": 16,
    "start_time": "2023-05-16T18:58:15.920Z"
   },
   {
    "duration": 42,
    "start_time": "2023-05-16T18:58:25.391Z"
   },
   {
    "duration": 25,
    "start_time": "2023-05-16T18:58:33.697Z"
   },
   {
    "duration": 52,
    "start_time": "2023-05-16T19:01:38.400Z"
   },
   {
    "duration": 57,
    "start_time": "2023-05-16T19:02:06.748Z"
   },
   {
    "duration": 6,
    "start_time": "2023-05-16T19:02:34.508Z"
   },
   {
    "duration": 421,
    "start_time": "2023-05-16T19:03:01.388Z"
   },
   {
    "duration": 733,
    "start_time": "2023-05-16T19:03:14.040Z"
   },
   {
    "duration": 9,
    "start_time": "2023-05-16T19:04:34.834Z"
   },
   {
    "duration": 178,
    "start_time": "2023-05-16T19:04:39.472Z"
   },
   {
    "duration": 35894,
    "start_time": "2023-05-16T19:04:56.825Z"
   },
   {
    "duration": 854,
    "start_time": "2023-05-16T19:05:39.042Z"
   },
   {
    "duration": 176,
    "start_time": "2023-05-16T19:05:42.754Z"
   },
   {
    "duration": 5,
    "start_time": "2023-05-16T19:08:09.329Z"
   },
   {
    "duration": 75,
    "start_time": "2023-05-16T19:08:09.336Z"
   },
   {
    "duration": 17,
    "start_time": "2023-05-16T19:08:09.414Z"
   },
   {
    "duration": 16,
    "start_time": "2023-05-16T19:08:09.434Z"
   },
   {
    "duration": 30,
    "start_time": "2023-05-16T19:08:09.452Z"
   },
   {
    "duration": 25,
    "start_time": "2023-05-16T19:08:09.495Z"
   },
   {
    "duration": 4,
    "start_time": "2023-05-16T19:08:09.522Z"
   },
   {
    "duration": 26,
    "start_time": "2023-05-16T19:08:09.528Z"
   },
   {
    "duration": 49,
    "start_time": "2023-05-16T19:08:09.556Z"
   },
   {
    "duration": 3,
    "start_time": "2023-05-16T19:08:09.608Z"
   },
   {
    "duration": 685,
    "start_time": "2023-05-16T19:08:09.612Z"
   },
   {
    "duration": 6,
    "start_time": "2023-05-16T19:08:10.299Z"
   },
   {
    "duration": 471,
    "start_time": "2023-05-16T19:08:10.308Z"
   },
   {
    "duration": 83,
    "start_time": "2023-05-16T19:08:10.791Z"
   },
   {
    "duration": 607,
    "start_time": "2023-05-16T19:08:10.888Z"
   },
   {
    "duration": 521,
    "start_time": "2023-05-16T19:08:11.517Z"
   },
   {
    "duration": 624,
    "start_time": "2023-05-16T19:08:12.040Z"
   },
   {
    "duration": 7,
    "start_time": "2023-05-16T19:08:21.648Z"
   },
   {
    "duration": 977,
    "start_time": "2023-05-16T19:08:26.044Z"
   },
   {
    "duration": 176,
    "start_time": "2023-05-16T19:08:36.300Z"
   },
   {
    "duration": 17446,
    "start_time": "2023-05-16T19:08:42.149Z"
   },
   {
    "duration": 498,
    "start_time": "2023-05-16T19:09:07.902Z"
   },
   {
    "duration": 17327,
    "start_time": "2023-05-16T19:09:11.829Z"
   },
   {
    "duration": 2198,
    "start_time": "2023-05-16T19:09:33.592Z"
   },
   {
    "duration": 2056,
    "start_time": "2023-05-16T19:09:44.346Z"
   },
   {
    "duration": 13,
    "start_time": "2023-05-16T19:09:54.339Z"
   },
   {
    "duration": 6,
    "start_time": "2023-05-16T19:10:01.142Z"
   },
   {
    "duration": 24,
    "start_time": "2023-05-16T19:10:03.751Z"
   },
   {
    "duration": 11020,
    "start_time": "2023-05-16T19:10:06.721Z"
   },
   {
    "duration": 11,
    "start_time": "2023-05-16T19:10:22.115Z"
   },
   {
    "duration": 12,
    "start_time": "2023-05-16T19:10:24.502Z"
   },
   {
    "duration": 39955,
    "start_time": "2023-05-16T19:10:28.321Z"
   },
   {
    "duration": 1093,
    "start_time": "2023-05-16T19:11:23.916Z"
   },
   {
    "duration": 201,
    "start_time": "2023-05-16T19:11:35.543Z"
   },
   {
    "duration": 3,
    "start_time": "2023-05-16T19:12:08.102Z"
   },
   {
    "duration": 68,
    "start_time": "2023-05-16T19:12:08.107Z"
   },
   {
    "duration": 23,
    "start_time": "2023-05-16T19:12:08.177Z"
   },
   {
    "duration": 17,
    "start_time": "2023-05-16T19:12:08.204Z"
   },
   {
    "duration": 16,
    "start_time": "2023-05-16T19:12:08.223Z"
   },
   {
    "duration": 13,
    "start_time": "2023-05-16T19:12:08.241Z"
   },
   {
    "duration": 34,
    "start_time": "2023-05-16T19:12:08.258Z"
   },
   {
    "duration": 58,
    "start_time": "2023-05-16T19:12:08.294Z"
   },
   {
    "duration": 44,
    "start_time": "2023-05-16T19:12:08.354Z"
   },
   {
    "duration": 6,
    "start_time": "2023-05-16T19:12:08.402Z"
   },
   {
    "duration": 761,
    "start_time": "2023-05-16T19:12:08.411Z"
   },
   {
    "duration": 11,
    "start_time": "2023-05-16T19:12:09.175Z"
   },
   {
    "duration": 397,
    "start_time": "2023-05-16T19:12:09.188Z"
   },
   {
    "duration": 71,
    "start_time": "2023-05-16T19:12:09.587Z"
   },
   {
    "duration": 564,
    "start_time": "2023-05-16T19:12:09.659Z"
   },
   {
    "duration": 522,
    "start_time": "2023-05-16T19:12:10.225Z"
   },
   {
    "duration": 548,
    "start_time": "2023-05-16T19:12:10.749Z"
   },
   {
    "duration": 8,
    "start_time": "2023-05-16T19:12:17.812Z"
   },
   {
    "duration": 23,
    "start_time": "2023-05-16T19:12:56.332Z"
   },
   {
    "duration": 13,
    "start_time": "2023-05-16T19:13:19.707Z"
   },
   {
    "duration": 14,
    "start_time": "2023-05-16T19:13:28.737Z"
   },
   {
    "duration": 15,
    "start_time": "2023-05-16T19:14:11.910Z"
   },
   {
    "duration": 4,
    "start_time": "2023-05-16T19:14:33.210Z"
   },
   {
    "duration": 67,
    "start_time": "2023-05-16T19:14:33.217Z"
   },
   {
    "duration": 23,
    "start_time": "2023-05-16T19:14:33.286Z"
   },
   {
    "duration": 19,
    "start_time": "2023-05-16T19:14:33.311Z"
   },
   {
    "duration": 6,
    "start_time": "2023-05-16T19:14:33.333Z"
   },
   {
    "duration": 34,
    "start_time": "2023-05-16T19:14:33.341Z"
   },
   {
    "duration": 14,
    "start_time": "2023-05-16T19:14:33.384Z"
   },
   {
    "duration": 153,
    "start_time": "2023-05-16T19:14:33.400Z"
   },
   {
    "duration": 35,
    "start_time": "2023-05-16T19:14:33.555Z"
   },
   {
    "duration": 4,
    "start_time": "2023-05-16T19:14:33.592Z"
   },
   {
    "duration": 743,
    "start_time": "2023-05-16T19:14:33.598Z"
   },
   {
    "duration": 6,
    "start_time": "2023-05-16T19:14:34.344Z"
   },
   {
    "duration": 438,
    "start_time": "2023-05-16T19:14:34.353Z"
   },
   {
    "duration": 33,
    "start_time": "2023-05-16T19:14:34.819Z"
   },
   {
    "duration": 703,
    "start_time": "2023-05-16T19:14:34.856Z"
   },
   {
    "duration": 663,
    "start_time": "2023-05-16T19:14:35.560Z"
   },
   {
    "duration": 640,
    "start_time": "2023-05-16T19:14:36.226Z"
   },
   {
    "duration": 17,
    "start_time": "2023-05-16T19:14:41.150Z"
   },
   {
    "duration": 17,
    "start_time": "2023-05-16T19:14:44.730Z"
   },
   {
    "duration": 19,
    "start_time": "2023-05-16T19:15:30.719Z"
   },
   {
    "duration": 35,
    "start_time": "2023-05-16T19:15:37.912Z"
   },
   {
    "duration": 26,
    "start_time": "2023-05-16T19:15:51.125Z"
   },
   {
    "duration": 22,
    "start_time": "2023-05-16T19:16:01.519Z"
   },
   {
    "duration": 21,
    "start_time": "2023-05-16T19:16:14.513Z"
   },
   {
    "duration": 25,
    "start_time": "2023-05-16T19:16:18.930Z"
   },
   {
    "duration": 5,
    "start_time": "2023-05-16T19:16:31.737Z"
   },
   {
    "duration": 112,
    "start_time": "2023-05-16T19:16:31.744Z"
   },
   {
    "duration": 34,
    "start_time": "2023-05-16T19:16:31.876Z"
   },
   {
    "duration": 27,
    "start_time": "2023-05-16T19:16:31.914Z"
   },
   {
    "duration": 12,
    "start_time": "2023-05-16T19:16:31.944Z"
   },
   {
    "duration": 48,
    "start_time": "2023-05-16T19:16:31.975Z"
   },
   {
    "duration": 9,
    "start_time": "2023-05-16T19:16:32.027Z"
   },
   {
    "duration": 55,
    "start_time": "2023-05-16T19:16:32.041Z"
   },
   {
    "duration": 33,
    "start_time": "2023-05-16T19:16:32.102Z"
   },
   {
    "duration": 15,
    "start_time": "2023-05-16T19:16:32.137Z"
   },
   {
    "duration": 701,
    "start_time": "2023-05-16T19:16:32.155Z"
   },
   {
    "duration": 10,
    "start_time": "2023-05-16T19:16:32.867Z"
   },
   {
    "duration": 391,
    "start_time": "2023-05-16T19:16:32.883Z"
   },
   {
    "duration": 33,
    "start_time": "2023-05-16T19:16:33.280Z"
   },
   {
    "duration": 726,
    "start_time": "2023-05-16T19:16:33.323Z"
   },
   {
    "duration": 646,
    "start_time": "2023-05-16T19:16:34.052Z"
   },
   {
    "duration": 641,
    "start_time": "2023-05-16T19:16:34.715Z"
   },
   {
    "duration": 49,
    "start_time": "2023-05-16T19:16:50.545Z"
   },
   {
    "duration": 7,
    "start_time": "2023-05-16T19:16:58.418Z"
   },
   {
    "duration": 12,
    "start_time": "2023-05-16T19:17:20.800Z"
   },
   {
    "duration": 9,
    "start_time": "2023-05-16T19:17:22.806Z"
   },
   {
    "duration": 824,
    "start_time": "2023-05-16T19:17:24.523Z"
   },
   {
    "duration": 191,
    "start_time": "2023-05-16T19:17:33.013Z"
   },
   {
    "duration": 18225,
    "start_time": "2023-05-16T19:17:38.183Z"
   },
   {
    "duration": 749,
    "start_time": "2023-05-16T19:18:02.176Z"
   },
   {
    "duration": 17353,
    "start_time": "2023-05-16T19:18:11.432Z"
   },
   {
    "duration": 1858,
    "start_time": "2023-05-16T19:18:35.713Z"
   },
   {
    "duration": 1612,
    "start_time": "2023-05-16T19:18:40.815Z"
   },
   {
    "duration": 11,
    "start_time": "2023-05-16T19:19:08.211Z"
   },
   {
    "duration": 11,
    "start_time": "2023-05-16T19:19:09.895Z"
   },
   {
    "duration": 7,
    "start_time": "2023-05-16T19:19:13.446Z"
   },
   {
    "duration": 11259,
    "start_time": "2023-05-16T19:19:17.247Z"
   },
   {
    "duration": 11,
    "start_time": "2023-05-16T19:19:32.825Z"
   },
   {
    "duration": 12,
    "start_time": "2023-05-16T19:19:34.435Z"
   },
   {
    "duration": 37142,
    "start_time": "2023-05-16T19:19:37.917Z"
   },
   {
    "duration": 576,
    "start_time": "2023-05-16T19:20:48.699Z"
   },
   {
    "duration": 220,
    "start_time": "2023-05-16T19:20:54.143Z"
   },
   {
    "duration": 1033,
    "start_time": "2023-05-16T19:21:47.998Z"
   },
   {
    "duration": 199,
    "start_time": "2023-05-16T19:21:54.092Z"
   },
   {
    "duration": 37945,
    "start_time": "2023-05-16T19:22:18.855Z"
   },
   {
    "duration": 1082,
    "start_time": "2023-05-16T19:23:18.492Z"
   },
   {
    "duration": 185,
    "start_time": "2023-05-16T19:23:26.019Z"
   },
   {
    "duration": 7,
    "start_time": "2023-05-16T19:23:44.067Z"
   },
   {
    "duration": 62,
    "start_time": "2023-05-16T19:23:47.029Z"
   },
   {
    "duration": 22,
    "start_time": "2023-05-16T19:24:00.149Z"
   },
   {
    "duration": 18,
    "start_time": "2023-05-16T19:24:03.315Z"
   },
   {
    "duration": 5,
    "start_time": "2023-05-16T19:24:05.703Z"
   },
   {
    "duration": 16,
    "start_time": "2023-05-16T19:24:08.288Z"
   },
   {
    "duration": 8,
    "start_time": "2023-05-16T19:24:11.636Z"
   },
   {
    "duration": 29,
    "start_time": "2023-05-16T19:24:13.296Z"
   },
   {
    "duration": 33,
    "start_time": "2023-05-16T19:24:15.997Z"
   },
   {
    "duration": 3,
    "start_time": "2023-05-16T19:24:18.192Z"
   },
   {
    "duration": 623,
    "start_time": "2023-05-16T19:24:21.592Z"
   },
   {
    "duration": 5,
    "start_time": "2023-05-16T19:24:30.213Z"
   },
   {
    "duration": 470,
    "start_time": "2023-05-16T19:24:33.994Z"
   },
   {
    "duration": 12,
    "start_time": "2023-05-16T19:24:37.130Z"
   },
   {
    "duration": 490,
    "start_time": "2023-05-16T19:24:43.136Z"
   },
   {
    "duration": 603,
    "start_time": "2023-05-16T19:25:05.340Z"
   },
   {
    "duration": 497,
    "start_time": "2023-05-16T19:25:13.141Z"
   },
   {
    "duration": 6,
    "start_time": "2023-05-16T19:25:18.198Z"
   },
   {
    "duration": 17,
    "start_time": "2023-05-16T19:26:57.503Z"
   },
   {
    "duration": 8,
    "start_time": "2023-05-16T19:27:05.490Z"
   },
   {
    "duration": 954,
    "start_time": "2023-05-16T19:27:08.336Z"
   },
   {
    "duration": 149,
    "start_time": "2023-05-16T19:27:15.925Z"
   },
   {
    "duration": 16146,
    "start_time": "2023-05-16T19:27:21.219Z"
   },
   {
    "duration": 714,
    "start_time": "2023-05-16T19:27:42.054Z"
   },
   {
    "duration": 35789,
    "start_time": "2023-05-16T19:27:49.186Z"
   },
   {
    "duration": 1729,
    "start_time": "2023-05-16T19:28:39.956Z"
   },
   {
    "duration": 1990,
    "start_time": "2023-05-16T19:28:48.308Z"
   },
   {
    "duration": 11,
    "start_time": "2023-05-16T19:28:53.398Z"
   },
   {
    "duration": 7,
    "start_time": "2023-05-16T19:28:54.889Z"
   },
   {
    "duration": 6,
    "start_time": "2023-05-16T19:28:58.807Z"
   },
   {
    "duration": 10055,
    "start_time": "2023-05-16T19:29:01.494Z"
   },
   {
    "duration": 11,
    "start_time": "2023-05-16T19:29:17.806Z"
   },
   {
    "duration": 32,
    "start_time": "2023-05-16T19:29:20.519Z"
   },
   {
    "duration": 33735,
    "start_time": "2023-05-16T19:29:28.308Z"
   },
   {
    "duration": 1358,
    "start_time": "2023-05-16T19:30:08.195Z"
   },
   {
    "duration": 152,
    "start_time": "2023-05-16T19:30:13.387Z"
   },
   {
    "duration": 4,
    "start_time": "2023-05-16T19:34:37.403Z"
   },
   {
    "duration": 61,
    "start_time": "2023-05-16T19:34:40.899Z"
   },
   {
    "duration": 33,
    "start_time": "2023-05-16T19:34:43.749Z"
   },
   {
    "duration": 27,
    "start_time": "2023-05-16T19:34:47.350Z"
   },
   {
    "duration": 6,
    "start_time": "2023-05-16T19:34:50.240Z"
   },
   {
    "duration": 19,
    "start_time": "2023-05-16T19:35:09.931Z"
   },
   {
    "duration": 6,
    "start_time": "2023-05-16T19:35:13.307Z"
   },
   {
    "duration": 25,
    "start_time": "2023-05-16T19:35:14.701Z"
   },
   {
    "duration": 46,
    "start_time": "2023-05-16T19:35:17.633Z"
   },
   {
    "duration": 4,
    "start_time": "2023-05-16T19:35:19.518Z"
   },
   {
    "duration": 509,
    "start_time": "2023-05-16T19:35:22.539Z"
   },
   {
    "duration": 5,
    "start_time": "2023-05-16T19:35:23.847Z"
   },
   {
    "duration": 449,
    "start_time": "2023-05-16T19:35:24.849Z"
   },
   {
    "duration": 522,
    "start_time": "2023-05-16T19:35:28.301Z"
   },
   {
    "duration": 665,
    "start_time": "2023-05-16T19:35:49.913Z"
   },
   {
    "duration": 820,
    "start_time": "2023-05-16T19:35:54.103Z"
   },
   {
    "duration": 8,
    "start_time": "2023-05-16T19:38:49.409Z"
   },
   {
    "duration": 20,
    "start_time": "2023-05-16T19:38:50.790Z"
   },
   {
    "duration": 8,
    "start_time": "2023-05-16T19:38:54.528Z"
   },
   {
    "duration": 899,
    "start_time": "2023-05-16T19:38:59.076Z"
   },
   {
    "duration": 199,
    "start_time": "2023-05-16T19:39:14.804Z"
   },
   {
    "duration": 29490,
    "start_time": "2023-05-16T19:43:58.795Z"
   },
   {
    "duration": 719,
    "start_time": "2023-05-16T19:47:24.854Z"
   },
   {
    "duration": 33998,
    "start_time": "2023-05-16T19:47:46.387Z"
   },
   {
    "duration": 48792,
    "start_time": "2023-05-16T19:49:10.901Z"
   },
   {
    "duration": 1829,
    "start_time": "2023-05-16T19:50:36.994Z"
   },
   {
    "duration": 2549,
    "start_time": "2023-05-16T19:50:57.491Z"
   },
   {
    "duration": 25,
    "start_time": "2023-05-16T19:51:11.643Z"
   },
   {
    "duration": 6,
    "start_time": "2023-05-16T19:51:12.722Z"
   },
   {
    "duration": 6,
    "start_time": "2023-05-16T19:51:16.087Z"
   },
   {
    "duration": 9664,
    "start_time": "2023-05-16T19:51:26.305Z"
   },
   {
    "duration": 19583,
    "start_time": "2023-05-16T19:51:45.716Z"
   },
   {
    "duration": 12,
    "start_time": "2023-05-16T19:52:18.792Z"
   },
   {
    "duration": 9,
    "start_time": "2023-05-16T19:52:21.095Z"
   },
   {
    "duration": 31040,
    "start_time": "2023-05-16T19:52:27.108Z"
   },
   {
    "duration": 67680,
    "start_time": "2023-05-16T19:53:55.822Z"
   },
   {
    "duration": 1193,
    "start_time": "2023-05-16T19:55:46.840Z"
   },
   {
    "duration": 169,
    "start_time": "2023-05-16T19:56:45.099Z"
   },
   {
    "duration": 61533,
    "start_time": "2023-05-16T20:11:05.828Z"
   },
   {
    "duration": 1518,
    "start_time": "2023-05-17T11:03:07.933Z"
   },
   {
    "duration": 208,
    "start_time": "2023-05-17T11:03:09.458Z"
   },
   {
    "duration": 14,
    "start_time": "2023-05-17T11:03:09.667Z"
   },
   {
    "duration": 17,
    "start_time": "2023-05-17T11:03:09.683Z"
   },
   {
    "duration": 8,
    "start_time": "2023-05-17T11:03:09.702Z"
   },
   {
    "duration": 31,
    "start_time": "2023-05-17T11:03:09.712Z"
   },
   {
    "duration": 5,
    "start_time": "2023-05-17T11:03:09.746Z"
   },
   {
    "duration": 35,
    "start_time": "2023-05-17T11:03:09.753Z"
   },
   {
    "duration": 52,
    "start_time": "2023-05-17T11:03:09.790Z"
   },
   {
    "duration": 4,
    "start_time": "2023-05-17T11:03:09.844Z"
   },
   {
    "duration": 673,
    "start_time": "2023-05-17T11:03:09.850Z"
   },
   {
    "duration": 7,
    "start_time": "2023-05-17T11:03:10.524Z"
   },
   {
    "duration": 198,
    "start_time": "2023-05-17T11:03:10.532Z"
   },
   {
    "duration": 740,
    "start_time": "2023-05-17T11:03:10.733Z"
   },
   {
    "duration": 483,
    "start_time": "2023-05-17T11:03:11.475Z"
   },
   {
    "duration": 444,
    "start_time": "2023-05-17T11:03:11.959Z"
   },
   {
    "duration": 8,
    "start_time": "2023-05-17T11:03:12.409Z"
   },
   {
    "duration": 32,
    "start_time": "2023-05-17T11:03:12.419Z"
   },
   {
    "duration": 19,
    "start_time": "2023-05-17T11:03:12.457Z"
   },
   {
    "duration": 901,
    "start_time": "2023-05-17T11:03:12.478Z"
   },
   {
    "duration": 155,
    "start_time": "2023-05-17T11:03:13.382Z"
   },
   {
    "duration": 26987,
    "start_time": "2023-05-17T11:03:13.539Z"
   },
   {
    "duration": 217,
    "start_time": "2023-05-17T11:03:40.528Z"
   },
   {
    "duration": 42176,
    "start_time": "2023-05-17T11:03:40.823Z"
   },
   {
    "duration": 2393,
    "start_time": "2023-05-17T11:04:23.009Z"
   },
   {
    "duration": 15,
    "start_time": "2023-05-17T11:04:25.406Z"
   },
   {
    "duration": 10,
    "start_time": "2023-05-17T11:04:25.423Z"
   },
   {
    "duration": 10,
    "start_time": "2023-05-17T11:04:25.435Z"
   },
   {
    "duration": 17423,
    "start_time": "2023-05-17T11:04:25.447Z"
   },
   {
    "duration": 14,
    "start_time": "2023-05-17T11:04:42.872Z"
   },
   {
    "duration": 25,
    "start_time": "2023-05-17T11:04:42.888Z"
   },
   {
    "duration": 66519,
    "start_time": "2023-05-17T11:04:42.917Z"
   },
   {
    "duration": 1296,
    "start_time": "2023-05-17T11:05:49.439Z"
   },
   {
    "duration": 159,
    "start_time": "2023-05-17T11:05:50.737Z"
   },
   {
    "duration": 1599,
    "start_time": "2023-05-17T11:05:59.154Z"
   },
   {
    "duration": 222,
    "start_time": "2023-05-17T11:06:05.750Z"
   },
   {
    "duration": 4,
    "start_time": "2023-05-17T11:11:45.750Z"
   },
   {
    "duration": 4,
    "start_time": "2023-05-17T11:11:50.477Z"
   },
   {
    "duration": 112,
    "start_time": "2023-05-17T11:12:34.243Z"
   },
   {
    "duration": 15,
    "start_time": "2023-05-17T11:12:43.426Z"
   },
   {
    "duration": 12,
    "start_time": "2023-05-17T11:12:49.575Z"
   },
   {
    "duration": 4,
    "start_time": "2023-05-17T11:13:32.327Z"
   },
   {
    "duration": 16,
    "start_time": "2023-05-17T11:13:37.532Z"
   },
   {
    "duration": 4,
    "start_time": "2023-05-17T11:13:42.352Z"
   },
   {
    "duration": 5,
    "start_time": "2023-05-17T11:14:13.179Z"
   },
   {
    "duration": 16,
    "start_time": "2023-05-17T11:16:08.326Z"
   },
   {
    "duration": 10,
    "start_time": "2023-05-17T11:16:30.260Z"
   },
   {
    "duration": 4,
    "start_time": "2023-05-17T11:16:50.344Z"
   },
   {
    "duration": 45860,
    "start_time": "2023-05-17T11:16:59.704Z"
   },
   {
    "duration": 6,
    "start_time": "2023-05-17T11:18:17.007Z"
   },
   {
    "duration": 197544,
    "start_time": "2023-05-17T11:19:26.670Z"
   },
   {
    "duration": 5,
    "start_time": "2023-05-17T11:28:57.586Z"
   },
   {
    "duration": 13,
    "start_time": "2023-05-17T11:29:25.444Z"
   },
   {
    "duration": 5,
    "start_time": "2023-05-17T11:29:28.462Z"
   },
   {
    "duration": 145287,
    "start_time": "2023-05-17T11:29:29.911Z"
   },
   {
    "duration": 4,
    "start_time": "2023-05-17T11:32:34.536Z"
   },
   {
    "duration": 391,
    "start_time": "2023-05-17T11:35:48.936Z"
   },
   {
    "duration": 6002,
    "start_time": "2023-05-17T11:42:46.094Z"
   },
   {
    "duration": 4656,
    "start_time": "2023-05-17T11:43:15.890Z"
   },
   {
    "duration": 3,
    "start_time": "2023-05-17T12:54:10.326Z"
   },
   {
    "duration": 3,
    "start_time": "2023-05-17T13:01:27.219Z"
   },
   {
    "duration": 4,
    "start_time": "2023-05-17T13:01:41.347Z"
   },
   {
    "duration": 3621,
    "start_time": "2023-05-17T13:05:25.463Z"
   },
   {
    "duration": 250486,
    "start_time": "2023-05-17T13:08:31.713Z"
   },
   {
    "duration": 4,
    "start_time": "2023-05-17T13:15:41.523Z"
   },
   {
    "duration": 39,
    "start_time": "2023-05-17T13:17:17.550Z"
   },
   {
    "duration": 2950,
    "start_time": "2023-05-17T13:20:21.827Z"
   },
   {
    "duration": 130,
    "start_time": "2023-05-17T13:20:42.911Z"
   },
   {
    "duration": 5,
    "start_time": "2023-05-17T15:19:23.723Z"
   },
   {
    "duration": 34,
    "start_time": "2023-05-17T15:20:22.397Z"
   },
   {
    "duration": 14,
    "start_time": "2023-05-17T15:20:35.632Z"
   },
   {
    "duration": 135,
    "start_time": "2023-05-17T15:21:02.483Z"
   },
   {
    "duration": 19,
    "start_time": "2023-05-17T15:22:09.649Z"
   },
   {
    "duration": 47,
    "start_time": "2023-05-17T15:22:13.524Z"
   },
   {
    "duration": 137,
    "start_time": "2023-05-17T15:25:53.103Z"
   },
   {
    "duration": 61,
    "start_time": "2023-05-17T15:30:02.319Z"
   },
   {
    "duration": 168,
    "start_time": "2023-05-17T15:31:10.587Z"
   },
   {
    "duration": 238,
    "start_time": "2023-05-17T15:31:52.245Z"
   },
   {
    "duration": 147,
    "start_time": "2023-05-17T15:32:01.079Z"
   },
   {
    "duration": 142,
    "start_time": "2023-05-17T15:32:45.316Z"
   },
   {
    "duration": 146,
    "start_time": "2023-05-17T15:33:02.079Z"
   },
   {
    "duration": 154,
    "start_time": "2023-05-17T15:33:08.232Z"
   },
   {
    "duration": 149,
    "start_time": "2023-05-17T15:33:16.005Z"
   },
   {
    "duration": 145,
    "start_time": "2023-05-17T15:33:20.904Z"
   },
   {
    "duration": 150,
    "start_time": "2023-05-17T15:33:32.127Z"
   },
   {
    "duration": 140,
    "start_time": "2023-05-17T15:34:09.005Z"
   },
   {
    "duration": 134,
    "start_time": "2023-05-17T15:34:15.375Z"
   },
   {
    "duration": 131,
    "start_time": "2023-05-17T15:34:18.742Z"
   },
   {
    "duration": 56,
    "start_time": "2023-05-17T16:58:55.545Z"
   },
   {
    "duration": 28,
    "start_time": "2023-05-17T18:50:12.206Z"
   },
   {
    "duration": 12,
    "start_time": "2023-05-17T18:50:22.932Z"
   },
   {
    "duration": 8,
    "start_time": "2023-05-17T18:52:32.423Z"
   },
   {
    "duration": 12,
    "start_time": "2023-05-17T18:54:08.457Z"
   },
   {
    "duration": 11,
    "start_time": "2023-05-17T18:54:13.424Z"
   },
   {
    "duration": 14,
    "start_time": "2023-05-17T18:54:22.928Z"
   },
   {
    "duration": 9,
    "start_time": "2023-05-17T18:54:40.184Z"
   },
   {
    "duration": 5,
    "start_time": "2023-05-17T18:57:22.748Z"
   },
   {
    "duration": 11,
    "start_time": "2023-05-17T18:58:21.228Z"
   },
   {
    "duration": 5,
    "start_time": "2023-05-17T18:58:37.641Z"
   },
   {
    "duration": 4,
    "start_time": "2023-05-17T19:05:20.501Z"
   },
   {
    "duration": 195,
    "start_time": "2023-05-17T19:05:25.889Z"
   },
   {
    "duration": 19,
    "start_time": "2023-05-17T19:05:27.931Z"
   },
   {
    "duration": 22,
    "start_time": "2023-05-17T19:05:31.303Z"
   },
   {
    "duration": 5,
    "start_time": "2023-05-17T19:05:35.489Z"
   },
   {
    "duration": 38,
    "start_time": "2023-05-17T19:05:43.942Z"
   },
   {
    "duration": 5,
    "start_time": "2023-05-17T19:05:50.151Z"
   },
   {
    "duration": 38,
    "start_time": "2023-05-17T19:05:55.224Z"
   },
   {
    "duration": 23,
    "start_time": "2023-05-17T19:05:58.381Z"
   },
   {
    "duration": 11,
    "start_time": "2023-05-17T19:06:03.749Z"
   },
   {
    "duration": 493,
    "start_time": "2023-05-17T19:06:09.731Z"
   },
   {
    "duration": 6,
    "start_time": "2023-05-17T19:06:11.039Z"
   },
   {
    "duration": 426,
    "start_time": "2023-05-17T19:06:16.599Z"
   },
   {
    "duration": 467,
    "start_time": "2023-05-17T19:07:53.128Z"
   },
   {
    "duration": 523,
    "start_time": "2023-05-17T19:08:07.948Z"
   },
   {
    "duration": 470,
    "start_time": "2023-05-17T19:08:33.493Z"
   },
   {
    "duration": 10,
    "start_time": "2023-05-17T19:08:41.848Z"
   },
   {
    "duration": 6,
    "start_time": "2023-05-17T19:08:43.385Z"
   },
   {
    "duration": 7,
    "start_time": "2023-05-17T19:11:41.750Z"
   },
   {
    "duration": 706,
    "start_time": "2023-05-17T19:11:47.303Z"
   },
   {
    "duration": 154,
    "start_time": "2023-05-17T19:11:53.295Z"
   },
   {
    "duration": 26742,
    "start_time": "2023-05-17T19:12:01.681Z"
   },
   {
    "duration": 1029,
    "start_time": "2023-05-17T19:12:35.889Z"
   },
   {
    "duration": 41573,
    "start_time": "2023-05-17T19:15:21.790Z"
   },
   {
    "duration": 2538,
    "start_time": "2023-05-17T19:16:11.744Z"
   },
   {
    "duration": 2,
    "start_time": "2023-05-17T19:16:33.934Z"
   },
   {
    "duration": 5,
    "start_time": "2023-05-17T19:16:38.244Z"
   },
   {
    "duration": 3754,
    "start_time": "2023-05-17T19:16:44.049Z"
   },
   {
    "duration": 280844,
    "start_time": "2023-05-17T19:16:53.890Z"
   },
   {
    "duration": 3,
    "start_time": "2023-05-17T19:21:47.596Z"
   },
   {
    "duration": 50,
    "start_time": "2023-05-17T19:21:59.936Z"
   },
   {
    "duration": 3061,
    "start_time": "2023-05-17T19:22:04.682Z"
   },
   {
    "duration": 139,
    "start_time": "2023-05-17T19:22:11.225Z"
   },
   {
    "duration": 9,
    "start_time": "2023-05-17T19:23:50.273Z"
   },
   {
    "duration": 5,
    "start_time": "2023-05-17T19:23:52.288Z"
   },
   {
    "duration": 5,
    "start_time": "2023-05-17T19:23:55.173Z"
   },
   {
    "duration": 17138,
    "start_time": "2023-05-17T19:23:59.179Z"
   },
   {
    "duration": 19,
    "start_time": "2023-05-17T19:24:34.727Z"
   },
   {
    "duration": 8,
    "start_time": "2023-05-17T19:24:36.084Z"
   },
   {
    "duration": 63426,
    "start_time": "2023-05-17T19:24:39.944Z"
   },
   {
    "duration": 67,
    "start_time": "2023-05-17T19:27:42.526Z"
   },
   {
    "duration": 177,
    "start_time": "2023-05-17T19:27:44.141Z"
   },
   {
    "duration": 63,
    "start_time": "2023-05-17T19:27:49.684Z"
   },
   {
    "duration": 42,
    "start_time": "2023-05-17T19:30:07.250Z"
   },
   {
    "duration": 6,
    "start_time": "2023-05-17T19:30:12.969Z"
   },
   {
    "duration": 6,
    "start_time": "2023-05-17T19:30:26.551Z"
   },
   {
    "duration": 15,
    "start_time": "2023-05-17T19:30:34.432Z"
   },
   {
    "duration": 8,
    "start_time": "2023-05-17T19:30:39.360Z"
   },
   {
    "duration": 4,
    "start_time": "2023-05-17T19:31:45.167Z"
   },
   {
    "duration": 39,
    "start_time": "2023-05-17T19:31:56.345Z"
   },
   {
    "duration": 3446,
    "start_time": "2023-05-17T20:20:02.027Z"
   },
   {
    "duration": 108,
    "start_time": "2023-05-17T20:20:05.476Z"
   },
   {
    "duration": 72,
    "start_time": "2023-05-17T20:20:05.586Z"
   },
   {
    "duration": 19,
    "start_time": "2023-05-17T20:20:05.661Z"
   },
   {
    "duration": 12,
    "start_time": "2023-05-17T20:20:05.682Z"
   },
   {
    "duration": 18,
    "start_time": "2023-05-17T20:20:05.752Z"
   },
   {
    "duration": 4,
    "start_time": "2023-05-17T20:20:05.772Z"
   },
   {
    "duration": 90,
    "start_time": "2023-05-17T20:20:05.779Z"
   },
   {
    "duration": 80,
    "start_time": "2023-05-17T20:20:05.871Z"
   },
   {
    "duration": 4,
    "start_time": "2023-05-17T20:20:05.955Z"
   },
   {
    "duration": 1210,
    "start_time": "2023-05-17T20:20:05.961Z"
   },
   {
    "duration": 4,
    "start_time": "2023-05-17T20:20:07.173Z"
   },
   {
    "duration": 571,
    "start_time": "2023-05-17T20:20:07.179Z"
   },
   {
    "duration": 1027,
    "start_time": "2023-05-17T20:20:07.752Z"
   },
   {
    "duration": 868,
    "start_time": "2023-05-17T20:20:08.782Z"
   },
   {
    "duration": 1227,
    "start_time": "2023-05-17T20:20:09.652Z"
   },
   {
    "duration": 8,
    "start_time": "2023-05-17T20:20:10.882Z"
   },
   {
    "duration": 65,
    "start_time": "2023-05-17T20:20:10.892Z"
   },
   {
    "duration": 8,
    "start_time": "2023-05-17T20:20:10.959Z"
   },
   {
    "duration": 2016,
    "start_time": "2023-05-17T20:20:10.969Z"
   },
   {
    "duration": 380,
    "start_time": "2023-05-17T20:20:12.988Z"
   },
   {
    "duration": 65180,
    "start_time": "2023-05-17T20:20:13.371Z"
   },
   {
    "duration": 1308,
    "start_time": "2023-05-17T20:21:18.553Z"
   },
   {
    "duration": 82186,
    "start_time": "2023-05-17T20:21:19.863Z"
   },
   {
    "duration": 4835,
    "start_time": "2023-05-17T20:22:42.051Z"
   },
   {
    "duration": 3,
    "start_time": "2023-05-17T20:22:46.888Z"
   },
   {
    "duration": 6,
    "start_time": "2023-05-17T20:22:46.950Z"
   },
   {
    "duration": 7690,
    "start_time": "2023-05-17T20:22:46.961Z"
   },
   {
    "duration": 410724,
    "start_time": "2023-05-17T20:22:54.654Z"
   },
   {
    "duration": 4,
    "start_time": "2023-05-17T20:29:45.380Z"
   },
   {
    "duration": 52,
    "start_time": "2023-05-17T20:29:45.385Z"
   },
   {
    "duration": 3190,
    "start_time": "2023-05-17T20:29:45.439Z"
   },
   {
    "duration": 141,
    "start_time": "2023-05-17T20:29:48.631Z"
   },
   {
    "duration": 10,
    "start_time": "2023-05-17T20:29:48.774Z"
   },
   {
    "duration": 8,
    "start_time": "2023-05-17T20:29:48.785Z"
   },
   {
    "duration": 12,
    "start_time": "2023-05-17T20:29:48.795Z"
   },
   {
    "duration": 15856,
    "start_time": "2023-05-17T20:29:48.809Z"
   },
   {
    "duration": 9,
    "start_time": "2023-05-17T20:30:04.667Z"
   },
   {
    "duration": 19,
    "start_time": "2023-05-17T20:30:04.677Z"
   },
   {
    "duration": 57477,
    "start_time": "2023-05-17T20:30:04.697Z"
   },
   {
    "duration": 49,
    "start_time": "2023-05-17T20:31:02.176Z"
   },
   {
    "duration": 161,
    "start_time": "2023-05-17T20:31:02.227Z"
   },
   {
    "duration": 63,
    "start_time": "2023-05-17T20:31:02.390Z"
   },
   {
    "duration": 47,
    "start_time": "2023-05-17T20:31:02.454Z"
   },
   {
    "duration": 8,
    "start_time": "2023-05-17T20:31:02.503Z"
   },
   {
    "duration": 8,
    "start_time": "2023-05-17T20:31:02.512Z"
   },
   {
    "duration": 9,
    "start_time": "2023-05-17T20:31:02.550Z"
   },
   {
    "duration": 2417,
    "start_time": "2023-05-18T11:38:28.581Z"
   },
   {
    "duration": 522,
    "start_time": "2023-05-18T11:38:31.195Z"
   },
   {
    "duration": 16,
    "start_time": "2023-05-18T11:38:34.605Z"
   },
   {
    "duration": 14,
    "start_time": "2023-05-18T11:38:39.301Z"
   },
   {
    "duration": 6,
    "start_time": "2023-05-18T11:38:43.103Z"
   },
   {
    "duration": 24,
    "start_time": "2023-05-18T11:39:06.284Z"
   },
   {
    "duration": 10,
    "start_time": "2023-05-18T11:39:58.883Z"
   },
   {
    "duration": 141,
    "start_time": "2023-05-18T11:40:10.605Z"
   },
   {
    "duration": 14182,
    "start_time": "2023-05-18T11:46:24.702Z"
   },
   {
    "duration": 1392,
    "start_time": "2023-05-18T11:47:09.048Z"
   },
   {
    "duration": 84,
    "start_time": "2023-05-18T11:47:13.798Z"
   },
   {
    "duration": 20,
    "start_time": "2023-05-18T11:47:16.185Z"
   },
   {
    "duration": 37,
    "start_time": "2023-05-18T11:47:19.055Z"
   },
   {
    "duration": 10,
    "start_time": "2023-05-18T11:47:21.184Z"
   },
   {
    "duration": 39,
    "start_time": "2023-05-18T11:47:24.067Z"
   },
   {
    "duration": 13,
    "start_time": "2023-05-18T11:47:27.168Z"
   },
   {
    "duration": 40,
    "start_time": "2023-05-18T11:47:31.791Z"
   },
   {
    "duration": 7,
    "start_time": "2023-05-18T11:48:49.194Z"
   },
   {
    "duration": 72,
    "start_time": "2023-05-18T11:48:51.274Z"
   },
   {
    "duration": 23,
    "start_time": "2023-05-18T11:48:54.157Z"
   },
   {
    "duration": 35,
    "start_time": "2023-05-18T11:48:56.358Z"
   },
   {
    "duration": 10,
    "start_time": "2023-05-18T11:48:58.976Z"
   },
   {
    "duration": 25,
    "start_time": "2023-05-18T11:49:01.272Z"
   },
   {
    "duration": 5,
    "start_time": "2023-05-18T11:49:03.893Z"
   },
   {
    "duration": 29,
    "start_time": "2023-05-18T11:49:04.989Z"
   },
   {
    "duration": 34,
    "start_time": "2023-05-18T11:49:30.790Z"
   },
   {
    "duration": 5,
    "start_time": "2023-05-18T11:49:37.083Z"
   },
   {
    "duration": 10,
    "start_time": "2023-05-18T11:49:41.676Z"
   },
   {
    "duration": 7,
    "start_time": "2023-05-18T11:49:45.780Z"
   },
   {
    "duration": 24,
    "start_time": "2023-05-18T11:49:54.266Z"
   },
   {
    "duration": 7,
    "start_time": "2023-05-18T11:49:58.172Z"
   },
   {
    "duration": 705,
    "start_time": "2023-05-18T11:50:20.997Z"
   },
   {
    "duration": 16,
    "start_time": "2023-05-18T11:50:24.799Z"
   },
   {
    "duration": 627,
    "start_time": "2023-05-18T11:51:11.263Z"
   },
   {
    "duration": 12,
    "start_time": "2023-05-18T11:51:19.260Z"
   },
   {
    "duration": 13,
    "start_time": "2023-05-18T11:51:24.689Z"
   },
   {
    "duration": 20,
    "start_time": "2023-05-18T11:51:29.871Z"
   },
   {
    "duration": 111,
    "start_time": "2023-05-18T11:58:47.189Z"
   },
   {
    "duration": 145,
    "start_time": "2023-05-18T12:01:37.477Z"
   },
   {
    "duration": 10,
    "start_time": "2023-05-18T12:02:25.821Z"
   },
   {
    "duration": 14,
    "start_time": "2023-05-18T12:02:49.563Z"
   },
   {
    "duration": 4,
    "start_time": "2023-05-18T12:03:01.180Z"
   },
   {
    "duration": 14,
    "start_time": "2023-05-18T12:04:38.194Z"
   },
   {
    "duration": 8,
    "start_time": "2023-05-18T12:04:45.801Z"
   },
   {
    "duration": 1873,
    "start_time": "2023-05-18T12:04:48.446Z"
   },
   {
    "duration": 7,
    "start_time": "2023-05-18T12:05:44.935Z"
   },
   {
    "duration": 86,
    "start_time": "2023-05-18T12:05:48.126Z"
   },
   {
    "duration": 19,
    "start_time": "2023-05-18T12:05:49.996Z"
   },
   {
    "duration": 26,
    "start_time": "2023-05-18T12:05:54.534Z"
   },
   {
    "duration": 6,
    "start_time": "2023-05-18T12:05:57.292Z"
   },
   {
    "duration": 39,
    "start_time": "2023-05-18T12:06:04.571Z"
   },
   {
    "duration": 5,
    "start_time": "2023-05-18T12:06:10.293Z"
   },
   {
    "duration": 3,
    "start_time": "2023-05-18T12:06:15.993Z"
   },
   {
    "duration": 40,
    "start_time": "2023-05-18T12:06:19.994Z"
   },
   {
    "duration": 14,
    "start_time": "2023-05-18T12:06:47.653Z"
   },
   {
    "duration": 83,
    "start_time": "2023-05-18T12:06:47.679Z"
   },
   {
    "duration": 27,
    "start_time": "2023-05-18T12:06:47.770Z"
   },
   {
    "duration": 16,
    "start_time": "2023-05-18T12:06:47.800Z"
   },
   {
    "duration": 8,
    "start_time": "2023-05-18T12:06:47.819Z"
   },
   {
    "duration": 37,
    "start_time": "2023-05-18T12:06:47.829Z"
   },
   {
    "duration": 8,
    "start_time": "2023-05-18T12:06:47.868Z"
   },
   {
    "duration": 10,
    "start_time": "2023-05-18T12:06:47.878Z"
   },
   {
    "duration": 36,
    "start_time": "2023-05-18T12:06:54.100Z"
   },
   {
    "duration": 45,
    "start_time": "2023-05-18T12:11:34.202Z"
   },
   {
    "duration": 23,
    "start_time": "2023-05-18T12:11:56.685Z"
   },
   {
    "duration": 49,
    "start_time": "2023-05-18T12:12:22.858Z"
   },
   {
    "duration": 41,
    "start_time": "2023-05-18T12:12:31.348Z"
   },
   {
    "duration": 29,
    "start_time": "2023-05-18T12:12:47.875Z"
   },
   {
    "duration": 5,
    "start_time": "2023-05-18T12:16:09.311Z"
   },
   {
    "duration": 46,
    "start_time": "2023-05-18T12:16:09.372Z"
   },
   {
    "duration": 13,
    "start_time": "2023-05-18T12:16:09.421Z"
   },
   {
    "duration": 21,
    "start_time": "2023-05-18T12:16:09.437Z"
   },
   {
    "duration": 5,
    "start_time": "2023-05-18T12:16:09.462Z"
   },
   {
    "duration": 19,
    "start_time": "2023-05-18T12:16:09.469Z"
   },
   {
    "duration": 4,
    "start_time": "2023-05-18T12:16:09.491Z"
   },
   {
    "duration": 5,
    "start_time": "2023-05-18T12:16:13.289Z"
   },
   {
    "duration": 40,
    "start_time": "2023-05-18T12:16:17.264Z"
   },
   {
    "duration": 6,
    "start_time": "2023-05-18T12:18:47.171Z"
   },
   {
    "duration": 48,
    "start_time": "2023-05-18T12:18:49.590Z"
   },
   {
    "duration": 13,
    "start_time": "2023-05-18T12:18:52.571Z"
   },
   {
    "duration": 18,
    "start_time": "2023-05-18T12:18:54.417Z"
   },
   {
    "duration": 6,
    "start_time": "2023-05-18T12:18:56.190Z"
   },
   {
    "duration": 15,
    "start_time": "2023-05-18T12:18:58.775Z"
   },
   {
    "duration": 4,
    "start_time": "2023-05-18T12:19:03.803Z"
   },
   {
    "duration": 4,
    "start_time": "2023-05-18T12:19:08.391Z"
   },
   {
    "duration": 44,
    "start_time": "2023-05-18T12:19:21.797Z"
   },
   {
    "duration": 13,
    "start_time": "2023-05-18T12:19:30.695Z"
   },
   {
    "duration": 16,
    "start_time": "2023-05-18T12:19:55.290Z"
   },
   {
    "duration": 18,
    "start_time": "2023-05-18T12:20:04.763Z"
   },
   {
    "duration": 14,
    "start_time": "2023-05-18T12:21:13.902Z"
   },
   {
    "duration": 6,
    "start_time": "2023-05-18T12:21:16.798Z"
   },
   {
    "duration": 6,
    "start_time": "2023-05-18T12:21:23.319Z"
   },
   {
    "duration": 7,
    "start_time": "2023-05-18T12:21:34.517Z"
   },
   {
    "duration": 856,
    "start_time": "2023-05-18T12:22:42.111Z"
   },
   {
    "duration": 10,
    "start_time": "2023-05-18T12:22:44.470Z"
   },
   {
    "duration": 705,
    "start_time": "2023-05-18T12:22:48.098Z"
   },
   {
    "duration": 15,
    "start_time": "2023-05-18T12:23:47.955Z"
   },
   {
    "duration": 2428,
    "start_time": "2023-05-18T18:52:02.482Z"
   },
   {
    "duration": 278,
    "start_time": "2023-05-18T18:52:04.916Z"
   },
   {
    "duration": 17,
    "start_time": "2023-05-18T18:52:05.197Z"
   },
   {
    "duration": 28,
    "start_time": "2023-05-18T18:52:05.216Z"
   },
   {
    "duration": 10,
    "start_time": "2023-05-18T18:52:05.251Z"
   },
   {
    "duration": 30,
    "start_time": "2023-05-18T18:52:05.266Z"
   },
   {
    "duration": 5,
    "start_time": "2023-05-18T18:52:05.298Z"
   },
   {
    "duration": 176,
    "start_time": "2023-05-18T18:52:05.305Z"
   },
   {
    "duration": 0,
    "start_time": "2023-05-18T18:52:05.484Z"
   },
   {
    "duration": 0,
    "start_time": "2023-05-18T18:52:05.486Z"
   },
   {
    "duration": 0,
    "start_time": "2023-05-18T18:52:05.487Z"
   },
   {
    "duration": 0,
    "start_time": "2023-05-18T18:52:05.488Z"
   },
   {
    "duration": 0,
    "start_time": "2023-05-18T18:52:05.489Z"
   },
   {
    "duration": 0,
    "start_time": "2023-05-18T18:52:05.490Z"
   },
   {
    "duration": 0,
    "start_time": "2023-05-18T18:52:05.491Z"
   },
   {
    "duration": 0,
    "start_time": "2023-05-18T18:52:05.492Z"
   },
   {
    "duration": 0,
    "start_time": "2023-05-18T18:52:05.493Z"
   },
   {
    "duration": 34,
    "start_time": "2023-05-18T18:52:26.080Z"
   },
   {
    "duration": 7,
    "start_time": "2023-05-18T18:52:38.212Z"
   },
   {
    "duration": 107,
    "start_time": "2023-05-18T18:52:40.690Z"
   },
   {
    "duration": 14,
    "start_time": "2023-05-18T18:52:43.094Z"
   },
   {
    "duration": 19,
    "start_time": "2023-05-18T18:52:47.572Z"
   },
   {
    "duration": 17,
    "start_time": "2023-05-18T18:52:49.318Z"
   },
   {
    "duration": 23,
    "start_time": "2023-05-18T18:52:53.206Z"
   },
   {
    "duration": 6,
    "start_time": "2023-05-18T18:52:57.283Z"
   },
   {
    "duration": 25,
    "start_time": "2023-05-18T18:53:03.454Z"
   },
   {
    "duration": 8,
    "start_time": "2023-05-18T18:55:03.471Z"
   },
   {
    "duration": 65,
    "start_time": "2023-05-18T18:55:07.709Z"
   },
   {
    "duration": 18,
    "start_time": "2023-05-18T18:55:11.690Z"
   },
   {
    "duration": 17,
    "start_time": "2023-05-18T18:55:15.726Z"
   },
   {
    "duration": 7,
    "start_time": "2023-05-18T18:55:18.751Z"
   },
   {
    "duration": 25,
    "start_time": "2023-05-18T18:55:23.640Z"
   },
   {
    "duration": 6,
    "start_time": "2023-05-18T18:55:26.950Z"
   },
   {
    "duration": 4,
    "start_time": "2023-05-18T18:56:51.902Z"
   },
   {
    "duration": 21,
    "start_time": "2023-05-18T18:57:10.645Z"
   },
   {
    "duration": 35,
    "start_time": "2023-05-18T18:57:22.175Z"
   },
   {
    "duration": 13853,
    "start_time": "2023-05-18T18:57:49.956Z"
   },
   {
    "duration": 1543,
    "start_time": "2023-05-18T18:58:28.140Z"
   },
   {
    "duration": 78,
    "start_time": "2023-05-18T18:58:30.488Z"
   },
   {
    "duration": 19,
    "start_time": "2023-05-18T18:58:33.157Z"
   },
   {
    "duration": 21,
    "start_time": "2023-05-18T18:58:36.150Z"
   },
   {
    "duration": 9,
    "start_time": "2023-05-18T18:58:38.842Z"
   },
   {
    "duration": 22,
    "start_time": "2023-05-18T18:58:41.890Z"
   },
   {
    "duration": 7,
    "start_time": "2023-05-18T18:58:44.567Z"
   },
   {
    "duration": 4,
    "start_time": "2023-05-18T18:58:47.134Z"
   },
   {
    "duration": 62,
    "start_time": "2023-05-18T18:58:52.804Z"
   },
   {
    "duration": 4,
    "start_time": "2023-05-18T18:58:57.453Z"
   },
   {
    "duration": 980,
    "start_time": "2023-05-18T18:58:59.995Z"
   },
   {
    "duration": 5,
    "start_time": "2023-05-18T18:59:02.290Z"
   },
   {
    "duration": 795,
    "start_time": "2023-05-18T18:59:03.545Z"
   },
   {
    "duration": 80,
    "start_time": "2023-05-18T18:59:07.684Z"
   },
   {
    "duration": 669,
    "start_time": "2023-05-18T18:59:11.198Z"
   },
   {
    "duration": 574,
    "start_time": "2023-05-18T18:59:16.880Z"
   },
   {
    "duration": 9,
    "start_time": "2023-05-18T18:59:23.293Z"
   },
   {
    "duration": 11,
    "start_time": "2023-05-18T18:59:26.557Z"
   },
   {
    "duration": 1200,
    "start_time": "2023-05-18T18:59:29.000Z"
   },
   {
    "duration": 7,
    "start_time": "2023-05-18T19:30:13.308Z"
   },
   {
    "duration": 123,
    "start_time": "2023-05-18T19:32:37.641Z"
   },
   {
    "duration": 4,
    "start_time": "2023-05-18T19:32:53.424Z"
   },
   {
    "duration": 4,
    "start_time": "2023-05-18T19:33:32.660Z"
   },
   {
    "duration": 10,
    "start_time": "2023-05-18T19:36:35.976Z"
   },
   {
    "duration": 16,
    "start_time": "2023-05-18T19:39:10.449Z"
   },
   {
    "duration": 45,
    "start_time": "2023-05-18T19:39:25.961Z"
   },
   {
    "duration": 3,
    "start_time": "2023-05-18T19:40:56.821Z"
   },
   {
    "duration": 3,
    "start_time": "2023-05-18T19:44:45.940Z"
   },
   {
    "duration": 3,
    "start_time": "2023-05-18T20:11:38.684Z"
   },
   {
    "duration": 3,
    "start_time": "2023-05-18T20:11:39.944Z"
   },
   {
    "duration": 19,
    "start_time": "2023-05-18T20:11:44.527Z"
   },
   {
    "duration": 11,
    "start_time": "2023-05-18T20:11:57.605Z"
   },
   {
    "duration": 17,
    "start_time": "2023-05-18T20:12:03.524Z"
   },
   {
    "duration": 26,
    "start_time": "2023-05-18T20:12:18.183Z"
   },
   {
    "duration": 52,
    "start_time": "2023-05-18T20:12:50.000Z"
   },
   {
    "duration": 3,
    "start_time": "2023-05-18T20:16:10.610Z"
   },
   {
    "duration": 62,
    "start_time": "2023-05-18T20:16:13.359Z"
   },
   {
    "duration": 4,
    "start_time": "2023-05-18T20:19:25.346Z"
   },
   {
    "duration": 51,
    "start_time": "2023-05-18T20:19:53.222Z"
   },
   {
    "duration": 5,
    "start_time": "2023-05-18T20:21:05.554Z"
   },
   {
    "duration": 4,
    "start_time": "2023-05-18T20:21:08.651Z"
   },
   {
    "duration": 9,
    "start_time": "2023-05-18T20:21:20.443Z"
   },
   {
    "duration": 4,
    "start_time": "2023-05-18T20:21:42.198Z"
   },
   {
    "duration": 4,
    "start_time": "2023-05-18T20:23:17.152Z"
   },
   {
    "duration": 41,
    "start_time": "2023-05-18T20:23:36.796Z"
   },
   {
    "duration": 7,
    "start_time": "2023-05-18T20:30:31.638Z"
   },
   {
    "duration": 48,
    "start_time": "2023-05-18T20:30:35.706Z"
   },
   {
    "duration": 12,
    "start_time": "2023-05-18T20:30:39.105Z"
   },
   {
    "duration": 14,
    "start_time": "2023-05-18T20:30:42.684Z"
   },
   {
    "duration": 6,
    "start_time": "2023-05-18T20:30:52.744Z"
   },
   {
    "duration": 19,
    "start_time": "2023-05-18T20:30:55.809Z"
   },
   {
    "duration": 5,
    "start_time": "2023-05-18T20:31:37.158Z"
   },
   {
    "duration": 39,
    "start_time": "2023-05-18T20:32:54.314Z"
   },
   {
    "duration": 4,
    "start_time": "2023-05-18T20:33:00.908Z"
   },
   {
    "duration": 3,
    "start_time": "2023-05-18T20:33:53.840Z"
   },
   {
    "duration": 43,
    "start_time": "2023-05-18T20:34:26.581Z"
   },
   {
    "duration": 38,
    "start_time": "2023-05-18T20:35:29.389Z"
   },
   {
    "duration": 3,
    "start_time": "2023-05-18T20:35:33.334Z"
   },
   {
    "duration": 38,
    "start_time": "2023-05-18T20:35:38.292Z"
   },
   {
    "duration": 10,
    "start_time": "2023-05-18T20:47:54.278Z"
   },
   {
    "duration": 38,
    "start_time": "2023-05-18T20:48:56.693Z"
   },
   {
    "duration": 41,
    "start_time": "2023-05-18T20:49:13.960Z"
   },
   {
    "duration": 39,
    "start_time": "2023-05-18T20:49:26.089Z"
   },
   {
    "duration": 43,
    "start_time": "2023-05-18T20:50:03.406Z"
   },
   {
    "duration": 37,
    "start_time": "2023-05-18T20:50:07.503Z"
   },
   {
    "duration": 42,
    "start_time": "2023-05-18T20:54:57.783Z"
   },
   {
    "duration": 27,
    "start_time": "2023-05-18T20:55:23.892Z"
   },
   {
    "duration": 46,
    "start_time": "2023-05-18T20:55:38.145Z"
   },
   {
    "duration": 33,
    "start_time": "2023-05-18T20:55:40.809Z"
   },
   {
    "duration": 645,
    "start_time": "2023-05-18T20:56:18.088Z"
   },
   {
    "duration": 105702,
    "start_time": "2023-05-18T20:56:53.690Z"
   },
   {
    "duration": 3,
    "start_time": "2023-05-18T21:00:39.802Z"
   },
   {
    "duration": 3,
    "start_time": "2023-05-18T21:00:41.192Z"
   },
   {
    "duration": 6,
    "start_time": "2023-05-18T21:01:17.996Z"
   },
   {
    "duration": 6,
    "start_time": "2023-05-18T21:01:21.683Z"
   },
   {
    "duration": 10,
    "start_time": "2023-05-18T21:01:30.506Z"
   },
   {
    "duration": 6,
    "start_time": "2023-05-18T21:01:39.625Z"
   },
   {
    "duration": 152794,
    "start_time": "2023-05-18T21:01:46.122Z"
   },
   {
    "duration": 4,
    "start_time": "2023-05-18T21:05:47.941Z"
   },
   {
    "duration": 5,
    "start_time": "2023-05-18T21:06:52.389Z"
   },
   {
    "duration": 10404,
    "start_time": "2023-05-19T06:58:54.090Z"
   },
   {
    "duration": 1426,
    "start_time": "2023-05-19T06:59:11.218Z"
   },
   {
    "duration": 214,
    "start_time": "2023-05-19T06:59:15.304Z"
   },
   {
    "duration": 26,
    "start_time": "2023-05-19T06:59:18.389Z"
   },
   {
    "duration": 17,
    "start_time": "2023-05-19T06:59:21.395Z"
   },
   {
    "duration": 6,
    "start_time": "2023-05-19T06:59:29.188Z"
   },
   {
    "duration": 13,
    "start_time": "2023-05-19T06:59:32.737Z"
   },
   {
    "duration": 5,
    "start_time": "2023-05-19T06:59:36.490Z"
   },
   {
    "duration": 3,
    "start_time": "2023-05-19T06:59:38.801Z"
   },
   {
    "duration": 3,
    "start_time": "2023-05-19T06:59:39.850Z"
   },
   {
    "duration": 79,
    "start_time": "2023-05-19T06:59:44.604Z"
   },
   {
    "duration": 8,
    "start_time": "2023-05-19T06:59:48.224Z"
   },
   {
    "duration": 6,
    "start_time": "2023-05-19T06:59:51.628Z"
   },
   {
    "duration": 3,
    "start_time": "2023-05-19T06:59:58.545Z"
   },
   {
    "duration": 151944,
    "start_time": "2023-05-19T07:00:07.704Z"
   },
   {
    "duration": 7,
    "start_time": "2023-05-19T07:02:47.330Z"
   },
   {
    "duration": 152,
    "start_time": "2023-05-19T07:08:30.121Z"
   },
   {
    "duration": 72,
    "start_time": "2023-05-19T07:08:58.618Z"
   },
   {
    "duration": 14,
    "start_time": "2023-05-19T07:09:52.595Z"
   },
   {
    "duration": 9,
    "start_time": "2023-05-19T07:10:28.718Z"
   },
   {
    "duration": 67,
    "start_time": "2023-05-19T07:10:32.352Z"
   },
   {
    "duration": 1007,
    "start_time": "2023-05-19T07:13:28.059Z"
   },
   {
    "duration": 866,
    "start_time": "2023-05-19T07:14:57.183Z"
   },
   {
    "duration": 146,
    "start_time": "2023-05-19T07:15:10.490Z"
   },
   {
    "duration": 4,
    "start_time": "2023-05-19T07:18:49.815Z"
   },
   {
    "duration": 12,
    "start_time": "2023-05-19T07:20:13.491Z"
   },
   {
    "duration": 1126,
    "start_time": "2023-05-19T07:20:19.217Z"
   },
   {
    "duration": 4,
    "start_time": "2023-05-19T07:20:48.691Z"
   },
   {
    "duration": 1025,
    "start_time": "2023-05-19T07:24:42.690Z"
   },
   {
    "duration": 969,
    "start_time": "2023-05-19T07:25:01.245Z"
   },
   {
    "duration": 169,
    "start_time": "2023-05-19T07:25:09.832Z"
   },
   {
    "duration": 853,
    "start_time": "2023-05-19T07:31:27.338Z"
   },
   {
    "duration": 213,
    "start_time": "2023-05-19T07:32:15.890Z"
   },
   {
    "duration": 975,
    "start_time": "2023-05-19T07:35:59.699Z"
   },
   {
    "duration": 827,
    "start_time": "2023-05-19T07:36:11.043Z"
   },
   {
    "duration": 5,
    "start_time": "2023-05-19T07:40:12.402Z"
   },
   {
    "duration": 21,
    "start_time": "2023-05-19T07:40:46.258Z"
   },
   {
    "duration": 5,
    "start_time": "2023-05-19T07:41:29.183Z"
   },
   {
    "duration": 5,
    "start_time": "2023-05-19T07:42:00.815Z"
   },
   {
    "duration": 49,
    "start_time": "2023-05-19T07:42:04.588Z"
   },
   {
    "duration": 4,
    "start_time": "2023-05-19T07:42:22.494Z"
   },
   {
    "duration": 71554,
    "start_time": "2023-05-19T07:42:24.991Z"
   },
   {
    "duration": 6,
    "start_time": "2023-05-19T07:46:31.310Z"
   },
   {
    "duration": 55,
    "start_time": "2023-05-19T07:56:51.333Z"
   },
   {
    "duration": 551709,
    "start_time": "2023-05-19T07:57:45.758Z"
   },
   {
    "duration": 13,
    "start_time": "2023-05-19T08:07:21.982Z"
   },
   {
    "duration": 191527,
    "start_time": "2023-05-19T08:07:41.734Z"
   },
   {
    "duration": 6,
    "start_time": "2023-05-19T08:14:23.646Z"
   },
   {
    "duration": 10,
    "start_time": "2023-05-19T08:17:35.395Z"
   },
   {
    "duration": 8,
    "start_time": "2023-05-19T08:19:28.003Z"
   },
   {
    "duration": 1926,
    "start_time": "2023-05-19T08:24:29.908Z"
   },
   {
    "duration": 2899,
    "start_time": "2023-05-19T08:24:46.326Z"
   },
   {
    "duration": 191,
    "start_time": "2023-05-19T08:25:38.030Z"
   },
   {
    "duration": 146089,
    "start_time": "2023-05-19T13:46:29.332Z"
   },
   {
    "duration": 148216,
    "start_time": "2023-05-19T13:50:26.971Z"
   },
   {
    "duration": 5,
    "start_time": "2023-05-19T13:53:14.748Z"
   },
   {
    "duration": 148592,
    "start_time": "2023-05-19T13:54:36.953Z"
   },
   {
    "duration": 6,
    "start_time": "2023-05-19T13:57:14.073Z"
   },
   {
    "duration": 67507,
    "start_time": "2023-05-19T14:59:33.944Z"
   },
   {
    "duration": 8,
    "start_time": "2023-05-19T15:01:55.020Z"
   },
   {
    "duration": 155664,
    "start_time": "2023-05-19T15:39:11.673Z"
   },
   {
    "duration": 5,
    "start_time": "2023-05-19T15:43:02.871Z"
   },
   {
    "duration": 3,
    "start_time": "2023-05-19T16:17:49.067Z"
   },
   {
    "duration": 8,
    "start_time": "2023-05-19T16:30:57.353Z"
   },
   {
    "duration": 14,
    "start_time": "2023-05-19T16:33:25.072Z"
   },
   {
    "duration": 146131,
    "start_time": "2023-05-19T16:33:36.901Z"
   },
   {
    "duration": 16,
    "start_time": "2023-05-19T16:37:06.257Z"
   },
   {
    "duration": 5,
    "start_time": "2023-05-19T16:37:18.727Z"
   },
   {
    "duration": 13,
    "start_time": "2023-05-19T16:39:44.200Z"
   },
   {
    "duration": 66526,
    "start_time": "2023-05-19T16:39:56.850Z"
   },
   {
    "duration": 6,
    "start_time": "2023-05-19T16:41:47.751Z"
   },
   {
    "duration": 141873,
    "start_time": "2023-05-19T16:45:11.318Z"
   },
   {
    "duration": 5,
    "start_time": "2023-05-19T16:48:46.128Z"
   },
   {
    "duration": 3462,
    "start_time": "2023-05-19T16:59:06.638Z"
   },
   {
    "duration": 277,
    "start_time": "2023-05-19T16:59:53.790Z"
   },
   {
    "duration": 6,
    "start_time": "2023-05-19T17:00:11.806Z"
   },
   {
    "duration": 11,
    "start_time": "2023-05-19T17:03:49.372Z"
   },
   {
    "duration": 8,
    "start_time": "2023-05-19T17:04:33.136Z"
   },
   {
    "duration": 9,
    "start_time": "2023-05-19T17:05:37.210Z"
   },
   {
    "duration": 2,
    "start_time": "2023-05-19T17:08:58.223Z"
   },
   {
    "duration": 356,
    "start_time": "2023-05-19T17:09:05.341Z"
   },
   {
    "duration": 4,
    "start_time": "2023-05-19T17:10:25.535Z"
   },
   {
    "duration": 11,
    "start_time": "2023-05-19T17:10:57.343Z"
   },
   {
    "duration": 10,
    "start_time": "2023-05-19T17:11:01.911Z"
   },
   {
    "duration": 47,
    "start_time": "2023-05-19T17:13:01.744Z"
   },
   {
    "duration": 969,
    "start_time": "2023-05-19T17:13:23.497Z"
   },
   {
    "duration": 3,
    "start_time": "2023-05-19T17:15:37.817Z"
   },
   {
    "duration": 2,
    "start_time": "2023-05-19T17:16:04.945Z"
   },
   {
    "duration": 62502,
    "start_time": "2023-05-19T17:16:06.080Z"
   },
   {
    "duration": 6,
    "start_time": "2023-05-19T17:18:13.045Z"
   },
   {
    "duration": 45,
    "start_time": "2023-05-19T18:22:34.507Z"
   },
   {
    "duration": 28160,
    "start_time": "2023-05-19T18:23:11.778Z"
   },
   {
    "duration": 6,
    "start_time": "2023-05-19T18:37:22.539Z"
   },
   {
    "duration": 50,
    "start_time": "2023-05-19T18:39:45.550Z"
   },
   {
    "duration": 28,
    "start_time": "2023-05-19T18:40:10.590Z"
   },
   {
    "duration": 57454,
    "start_time": "2023-05-19T18:41:48.822Z"
   },
   {
    "duration": 5,
    "start_time": "2023-05-19T18:44:31.508Z"
   },
   {
    "duration": 4,
    "start_time": "2023-05-19T18:48:28.977Z"
   },
   {
    "duration": 4,
    "start_time": "2023-05-19T18:50:01.997Z"
   },
   {
    "duration": 45,
    "start_time": "2023-05-19T18:51:29.295Z"
   },
   {
    "duration": 784,
    "start_time": "2023-05-19T18:52:07.862Z"
   },
   {
    "duration": 97359,
    "start_time": "2023-05-19T18:52:37.143Z"
   },
   {
    "duration": 239,
    "start_time": "2023-05-19T19:03:11.947Z"
   },
   {
    "duration": 228,
    "start_time": "2023-05-19T19:03:36.959Z"
   },
   {
    "duration": 273,
    "start_time": "2023-05-19T19:03:49.525Z"
   },
   {
    "duration": 203,
    "start_time": "2023-05-19T19:03:54.395Z"
   },
   {
    "duration": 11,
    "start_time": "2023-05-19T19:09:20.070Z"
   },
   {
    "duration": 31972,
    "start_time": "2023-05-19T19:09:43.278Z"
   },
   {
    "duration": 51996,
    "start_time": "2023-05-19T19:11:48.244Z"
   },
   {
    "duration": 273,
    "start_time": "2023-05-19T19:14:16.124Z"
   },
   {
    "duration": 538,
    "start_time": "2023-05-19T19:14:32.976Z"
   },
   {
    "duration": 13,
    "start_time": "2023-05-19T19:16:06.256Z"
   },
   {
    "duration": 144728,
    "start_time": "2023-05-19T19:16:14.311Z"
   },
   {
    "duration": 289,
    "start_time": "2023-05-19T19:20:14.102Z"
   },
   {
    "duration": 4,
    "start_time": "2023-05-19T19:21:08.944Z"
   },
   {
    "duration": 5,
    "start_time": "2023-05-19T19:21:11.416Z"
   },
   {
    "duration": 3,
    "start_time": "2023-05-19T19:22:15.518Z"
   },
   {
    "duration": 13,
    "start_time": "2023-05-19T19:23:07.520Z"
   },
   {
    "duration": 99024,
    "start_time": "2023-05-19T19:23:16.320Z"
   },
   {
    "duration": 287,
    "start_time": "2023-05-19T19:26:24.404Z"
   },
   {
    "duration": 52678,
    "start_time": "2023-05-19T19:27:50.069Z"
   },
   {
    "duration": 364,
    "start_time": "2023-05-19T19:31:01.263Z"
   },
   {
    "duration": 139276,
    "start_time": "2023-05-19T19:32:17.155Z"
   },
   {
    "duration": 314,
    "start_time": "2023-05-19T19:36:12.268Z"
   },
   {
    "duration": 15,
    "start_time": "2023-05-19T19:44:52.964Z"
   },
   {
    "duration": 10,
    "start_time": "2023-05-19T19:46:20.716Z"
   },
   {
    "duration": 145861,
    "start_time": "2023-05-19T19:46:27.371Z"
   },
   {
    "duration": 7,
    "start_time": "2023-05-19T19:49:39.793Z"
   },
   {
    "duration": 6,
    "start_time": "2023-05-19T19:49:50.851Z"
   },
   {
    "duration": 5,
    "start_time": "2023-05-19T19:50:11.376Z"
   },
   {
    "duration": 5,
    "start_time": "2023-05-19T19:50:22.386Z"
   },
   {
    "duration": 6,
    "start_time": "2023-05-19T19:50:40.621Z"
   },
   {
    "duration": 6,
    "start_time": "2023-05-19T19:50:52.267Z"
   },
   {
    "duration": 5,
    "start_time": "2023-05-19T19:51:09.675Z"
   },
   {
    "duration": 6,
    "start_time": "2023-05-19T19:51:13.698Z"
   },
   {
    "duration": 6,
    "start_time": "2023-05-19T19:51:32.160Z"
   },
   {
    "duration": 6,
    "start_time": "2023-05-19T19:51:36.694Z"
   },
   {
    "duration": 6,
    "start_time": "2023-05-19T19:51:59.809Z"
   },
   {
    "duration": 6,
    "start_time": "2023-05-19T19:52:07.522Z"
   },
   {
    "duration": 8,
    "start_time": "2023-05-19T19:52:24.884Z"
   },
   {
    "duration": 6,
    "start_time": "2023-05-19T19:52:39.163Z"
   },
   {
    "duration": 12,
    "start_time": "2023-05-19T19:52:58.560Z"
   },
   {
    "duration": 57484,
    "start_time": "2023-05-19T19:53:24.552Z"
   },
   {
    "duration": 6,
    "start_time": "2023-05-19T19:54:35.760Z"
   },
   {
    "duration": 441,
    "start_time": "2023-05-19T19:54:41.456Z"
   },
   {
    "duration": 12,
    "start_time": "2023-05-19T19:55:50.460Z"
   },
   {
    "duration": 14,
    "start_time": "2023-05-19T19:55:56.378Z"
   },
   {
    "duration": 14,
    "start_time": "2023-05-19T19:56:01.176Z"
   },
   {
    "duration": 12,
    "start_time": "2023-05-19T19:56:09.170Z"
   },
   {
    "duration": 20,
    "start_time": "2023-05-19T19:56:37.548Z"
   },
   {
    "duration": 55,
    "start_time": "2023-05-19T19:56:49.965Z"
   },
   {
    "duration": 13,
    "start_time": "2023-05-19T19:57:10.204Z"
   },
   {
    "duration": 15,
    "start_time": "2023-05-19T19:57:31.569Z"
   },
   {
    "duration": 19,
    "start_time": "2023-05-19T19:58:14.215Z"
   },
   {
    "duration": 90,
    "start_time": "2023-05-19T20:05:07.662Z"
   },
   {
    "duration": 10,
    "start_time": "2023-05-19T20:05:19.749Z"
   },
   {
    "duration": 10,
    "start_time": "2023-05-19T20:05:25.256Z"
   },
   {
    "duration": 4,
    "start_time": "2023-05-19T20:05:31.396Z"
   },
   {
    "duration": 2842,
    "start_time": "2023-05-19T20:06:41.692Z"
   },
   {
    "duration": 189,
    "start_time": "2023-05-19T20:07:23.992Z"
   },
   {
    "duration": 4,
    "start_time": "2023-05-19T20:10:05.819Z"
   },
   {
    "duration": 955,
    "start_time": "2023-05-19T20:10:12.319Z"
   },
   {
    "duration": 2405,
    "start_time": "2023-05-19T20:10:42.448Z"
   },
   {
    "duration": 2519,
    "start_time": "2023-05-19T20:11:04.518Z"
   },
   {
    "duration": 5,
    "start_time": "2023-05-19T20:13:36.095Z"
   },
   {
    "duration": 52,
    "start_time": "2023-05-19T20:14:33.375Z"
   },
   {
    "duration": 3,
    "start_time": "2023-05-19T20:14:46.686Z"
   },
   {
    "duration": 48,
    "start_time": "2023-05-19T20:14:50.078Z"
   },
   {
    "duration": 62,
    "start_time": "2023-05-19T20:17:24.688Z"
   },
   {
    "duration": 11,
    "start_time": "2023-05-19T20:18:41.393Z"
   },
   {
    "duration": 3,
    "start_time": "2023-05-19T20:18:46.848Z"
   },
   {
    "duration": 82618,
    "start_time": "2023-05-19T20:18:50.756Z"
   },
   {
    "duration": 162,
    "start_time": "2023-05-19T20:20:46.484Z"
   },
   {
    "duration": 498,
    "start_time": "2023-05-19T20:24:58.023Z"
   },
   {
    "duration": 378,
    "start_time": "2023-05-19T20:28:01.159Z"
   },
   {
    "duration": 137,
    "start_time": "2023-05-19T20:29:12.973Z"
   },
   {
    "duration": 141,
    "start_time": "2023-05-19T20:29:40.792Z"
   },
   {
    "duration": 3,
    "start_time": "2023-05-19T20:30:13.748Z"
   },
   {
    "duration": 305,
    "start_time": "2023-05-19T20:30:17.723Z"
   },
   {
    "duration": 285,
    "start_time": "2023-05-19T20:30:21.723Z"
   },
   {
    "duration": 8,
    "start_time": "2023-05-19T20:30:40.995Z"
   },
   {
    "duration": 5,
    "start_time": "2023-05-19T20:34:54.358Z"
   },
   {
    "duration": 5,
    "start_time": "2023-05-19T20:35:26.412Z"
   },
   {
    "duration": 160,
    "start_time": "2023-05-19T20:35:35.395Z"
   },
   {
    "duration": 13,
    "start_time": "2023-05-19T20:35:39.452Z"
   },
   {
    "duration": 14,
    "start_time": "2023-05-19T20:35:43.618Z"
   },
   {
    "duration": 5,
    "start_time": "2023-05-19T20:35:47.280Z"
   },
   {
    "duration": 13,
    "start_time": "2023-05-19T20:35:53.249Z"
   },
   {
    "duration": 5,
    "start_time": "2023-05-19T20:35:57.715Z"
   },
   {
    "duration": 3,
    "start_time": "2023-05-19T20:35:59.502Z"
   },
   {
    "duration": 3,
    "start_time": "2023-05-19T20:36:00.884Z"
   },
   {
    "duration": 22,
    "start_time": "2023-05-19T20:36:17.155Z"
   },
   {
    "duration": 7,
    "start_time": "2023-05-19T20:36:24.101Z"
   },
   {
    "duration": 7,
    "start_time": "2023-05-19T20:37:24.102Z"
   },
   {
    "duration": 3,
    "start_time": "2023-05-19T20:37:34.355Z"
   },
   {
    "duration": 145627,
    "start_time": "2023-05-19T20:37:37.392Z"
   },
   {
    "duration": 5,
    "start_time": "2023-05-19T20:40:22.569Z"
   },
   {
    "duration": 4,
    "start_time": "2023-05-19T20:40:30.732Z"
   },
   {
    "duration": 66682,
    "start_time": "2023-05-19T20:40:35.017Z"
   },
   {
    "duration": 5,
    "start_time": "2023-05-19T20:41:46.055Z"
   },
   {
    "duration": 148993,
    "start_time": "2023-05-19T20:42:05.888Z"
   },
   {
    "duration": 5,
    "start_time": "2023-05-19T20:44:42.596Z"
   },
   {
    "duration": 8,
    "start_time": "2023-05-19T20:44:48.539Z"
   },
   {
    "duration": 2852,
    "start_time": "2023-05-19T20:44:54.305Z"
   },
   {
    "duration": 279,
    "start_time": "2023-05-19T20:44:57.160Z"
   },
   {
    "duration": 147024,
    "start_time": "2023-05-19T20:45:13.150Z"
   },
   {
    "duration": 531,
    "start_time": "2023-05-19T21:05:22.652Z"
   },
   {
    "duration": 542,
    "start_time": "2023-05-19T21:05:31.942Z"
   },
   {
    "duration": 589,
    "start_time": "2023-05-19T21:05:36.287Z"
   },
   {
    "duration": 610,
    "start_time": "2023-05-19T21:05:45.587Z"
   },
   {
    "duration": 646,
    "start_time": "2023-05-19T21:06:01.445Z"
   },
   {
    "duration": 610,
    "start_time": "2023-05-19T21:06:44.489Z"
   },
   {
    "duration": 5,
    "start_time": "2023-05-19T21:08:20.126Z"
   },
   {
    "duration": 51,
    "start_time": "2023-05-19T21:08:22.118Z"
   },
   {
    "duration": 12,
    "start_time": "2023-05-19T21:08:25.045Z"
   },
   {
    "duration": 14,
    "start_time": "2023-05-19T21:08:27.134Z"
   },
   {
    "duration": 4,
    "start_time": "2023-05-19T21:08:29.135Z"
   },
   {
    "duration": 13,
    "start_time": "2023-05-19T21:08:32.006Z"
   },
   {
    "duration": 6,
    "start_time": "2023-05-19T21:08:35.031Z"
   },
   {
    "duration": 4,
    "start_time": "2023-05-19T21:08:38.207Z"
   },
   {
    "duration": 3,
    "start_time": "2023-05-19T21:08:39.598Z"
   },
   {
    "duration": 2,
    "start_time": "2023-05-19T21:08:40.957Z"
   },
   {
    "duration": 23,
    "start_time": "2023-05-19T21:08:43.863Z"
   },
   {
    "duration": 5,
    "start_time": "2023-05-19T21:09:35.743Z"
   },
   {
    "duration": 4,
    "start_time": "2023-05-19T21:10:29.897Z"
   },
   {
    "duration": 5,
    "start_time": "2023-05-19T21:10:31.772Z"
   },
   {
    "duration": 4,
    "start_time": "2023-05-19T21:10:35.903Z"
   },
   {
    "duration": 3,
    "start_time": "2023-05-19T21:10:39.328Z"
   },
   {
    "duration": 3,
    "start_time": "2023-05-19T21:10:40.680Z"
   },
   {
    "duration": 25,
    "start_time": "2023-05-19T21:10:43.174Z"
   },
   {
    "duration": 5,
    "start_time": "2023-05-19T21:11:13.264Z"
   },
   {
    "duration": 3,
    "start_time": "2023-05-19T21:11:15.415Z"
   },
   {
    "duration": 143757,
    "start_time": "2023-05-19T21:11:16.470Z"
   },
   {
    "duration": 5,
    "start_time": "2023-05-19T21:14:07.293Z"
   },
   {
    "duration": 4,
    "start_time": "2023-05-19T21:14:20.346Z"
   },
   {
    "duration": 63557,
    "start_time": "2023-05-19T21:14:23.206Z"
   },
   {
    "duration": 6,
    "start_time": "2023-05-19T21:15:31.085Z"
   },
   {
    "duration": 46251,
    "start_time": "2023-05-19T21:15:54.075Z"
   },
   {
    "duration": 4,
    "start_time": "2023-05-19T21:16:47.116Z"
   },
   {
    "duration": 8,
    "start_time": "2023-05-19T21:16:53.014Z"
   },
   {
    "duration": 2826,
    "start_time": "2023-05-19T21:17:01.389Z"
   },
   {
    "duration": 166,
    "start_time": "2023-05-19T21:17:04.358Z"
   },
   {
    "duration": 142949,
    "start_time": "2023-05-19T21:17:12.262Z"
   },
   {
    "duration": 6,
    "start_time": "2023-05-19T21:19:39.231Z"
   },
   {
    "duration": 63946,
    "start_time": "2023-05-19T21:19:44.888Z"
   },
   {
    "duration": 5,
    "start_time": "2023-05-19T21:21:01.558Z"
   },
   {
    "duration": 46044,
    "start_time": "2023-05-19T21:21:09.578Z"
   },
   {
    "duration": 5,
    "start_time": "2023-05-19T21:22:07.187Z"
   },
   {
    "duration": 4,
    "start_time": "2023-05-19T21:22:12.182Z"
   },
   {
    "duration": 140220,
    "start_time": "2023-05-19T21:22:16.202Z"
   },
   {
    "duration": 5,
    "start_time": "2023-05-19T21:24:40.901Z"
   },
   {
    "duration": 63512,
    "start_time": "2023-05-19T21:24:58.418Z"
   },
   {
    "duration": 5,
    "start_time": "2023-05-19T21:26:08.870Z"
   },
   {
    "duration": 46787,
    "start_time": "2023-05-19T21:26:18.223Z"
   },
   {
    "duration": 5,
    "start_time": "2023-05-19T21:27:31.980Z"
   },
   {
    "duration": 3,
    "start_time": "2023-05-19T21:27:36.200Z"
   },
   {
    "duration": 59565,
    "start_time": "2023-05-19T21:27:38.638Z"
   },
   {
    "duration": 6,
    "start_time": "2023-05-19T21:28:43.099Z"
   },
   {
    "duration": 28257,
    "start_time": "2023-05-19T21:28:47.567Z"
   },
   {
    "duration": 5,
    "start_time": "2023-05-19T21:29:23.090Z"
   },
   {
    "duration": 20442,
    "start_time": "2023-05-19T21:29:26.349Z"
   },
   {
    "duration": 5,
    "start_time": "2023-05-19T21:30:04.070Z"
   },
   {
    "duration": 3,
    "start_time": "2023-05-19T21:30:07.848Z"
   },
   {
    "duration": 11,
    "start_time": "2023-05-19T21:30:45.403Z"
   },
   {
    "duration": 561,
    "start_time": "2023-05-19T21:30:53.542Z"
   },
   {
    "duration": 541,
    "start_time": "2023-05-19T21:31:05.151Z"
   },
   {
    "duration": 535,
    "start_time": "2023-05-19T21:31:32.258Z"
   },
   {
    "duration": 1009,
    "start_time": "2023-05-19T21:32:42.586Z"
   },
   {
    "duration": 778,
    "start_time": "2023-05-19T21:33:07.602Z"
   },
   {
    "duration": 773,
    "start_time": "2023-05-19T21:34:47.827Z"
   },
   {
    "duration": 939,
    "start_time": "2023-05-19T21:35:00.760Z"
   },
   {
    "duration": 923,
    "start_time": "2023-05-19T21:35:35.563Z"
   },
   {
    "duration": 843,
    "start_time": "2023-05-19T21:36:06.258Z"
   },
   {
    "duration": 918,
    "start_time": "2023-05-19T21:36:46.194Z"
   },
   {
    "duration": 59,
    "start_time": "2023-05-19T21:40:11.724Z"
   },
   {
    "duration": 23276,
    "start_time": "2023-05-19T21:40:46.152Z"
   },
   {
    "duration": 4,
    "start_time": "2023-05-19T21:41:14.561Z"
   },
   {
    "duration": 3,
    "start_time": "2023-05-19T21:42:05.283Z"
   },
   {
    "duration": 972,
    "start_time": "2023-05-19T21:42:26.704Z"
   },
   {
    "duration": 22440,
    "start_time": "2023-05-19T21:43:10.967Z"
   },
   {
    "duration": 4,
    "start_time": "2023-05-19T21:43:39.126Z"
   },
   {
    "duration": 22993,
    "start_time": "2023-05-19T21:43:47.186Z"
   },
   {
    "duration": 3,
    "start_time": "2023-05-19T21:44:13.060Z"
   },
   {
    "duration": 3,
    "start_time": "2023-05-19T21:44:25.415Z"
   },
   {
    "duration": 89658,
    "start_time": "2023-05-19T21:44:27.630Z"
   },
   {
    "duration": 259,
    "start_time": "2023-05-19T21:46:03.829Z"
   },
   {
    "duration": 51197,
    "start_time": "2023-05-19T21:46:08.041Z"
   },
   {
    "duration": 349,
    "start_time": "2023-05-19T21:47:31.672Z"
   },
   {
    "duration": 30446,
    "start_time": "2023-05-19T21:47:34.883Z"
   },
   {
    "duration": 393,
    "start_time": "2023-05-19T21:48:15.564Z"
   },
   {
    "duration": 3,
    "start_time": "2023-05-19T21:48:19.176Z"
   },
   {
    "duration": 99331,
    "start_time": "2023-05-19T21:48:21.336Z"
   },
   {
    "duration": 284,
    "start_time": "2023-05-19T21:50:19.906Z"
   },
   {
    "duration": 52877,
    "start_time": "2023-05-19T21:50:22.229Z"
   },
   {
    "duration": 335,
    "start_time": "2023-05-19T21:51:22.896Z"
   },
   {
    "duration": 32918,
    "start_time": "2023-05-19T21:51:25.236Z"
   },
   {
    "duration": 254,
    "start_time": "2023-05-19T21:52:29.744Z"
   },
   {
    "duration": 13,
    "start_time": "2023-05-19T21:52:32.891Z"
   },
   {
    "duration": 2353,
    "start_time": "2023-05-19T21:52:54.529Z"
   },
   {
    "duration": 173,
    "start_time": "2023-05-19T21:53:17.804Z"
   },
   {
    "duration": 2295,
    "start_time": "2023-05-19T21:53:24.063Z"
   },
   {
    "duration": 3,
    "start_time": "2023-05-19T21:53:30.687Z"
   },
   {
    "duration": 81432,
    "start_time": "2023-05-19T21:53:38.689Z"
   },
   {
    "duration": 133,
    "start_time": "2023-05-19T21:56:40.288Z"
   },
   {
    "duration": 9,
    "start_time": "2023-05-19T22:01:14.392Z"
   },
   {
    "duration": 303,
    "start_time": "2023-05-19T22:01:37.435Z"
   },
   {
    "duration": 350,
    "start_time": "2023-05-19T22:02:14.774Z"
   },
   {
    "duration": 323,
    "start_time": "2023-05-19T22:02:27.107Z"
   },
   {
    "duration": 132,
    "start_time": "2023-05-19T22:02:29.596Z"
   },
   {
    "duration": 311,
    "start_time": "2023-05-19T22:02:34.815Z"
   },
   {
    "duration": 7,
    "start_time": "2023-05-19T22:02:41.090Z"
   }
  ],
  "kernelspec": {
   "display_name": "Python 3 (ipykernel)",
   "language": "python",
   "name": "python3"
  },
  "language_info": {
   "codemirror_mode": {
    "name": "ipython",
    "version": 3
   },
   "file_extension": ".py",
   "mimetype": "text/x-python",
   "name": "python",
   "nbconvert_exporter": "python",
   "pygments_lexer": "ipython3",
   "version": "3.9.13"
  },
  "toc": {
   "base_numbering": 1,
   "nav_menu": {},
   "number_sections": true,
   "sideBar": true,
   "skip_h1_title": true,
   "title_cell": "Содержание",
   "title_sidebar": "Contents",
   "toc_cell": true,
   "toc_position": {},
   "toc_section_display": true,
   "toc_window_display": false
  }
 },
 "nbformat": 4,
 "nbformat_minor": 2
}
