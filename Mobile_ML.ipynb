{
 "cells": [
  {
   "cell_type": "markdown",
   "metadata": {},
   "source": [
    "# Рекомендация тарифов"
   ]
  },
  {
   "cell_type": "markdown",
   "metadata": {},
   "source": [
    "В данном проекте я строю модель, которая классифицирует пользователей по двум тарифам. \n",
    "\n",
    "Вначале я загружаю данные и делаю их беглый осмотр. \n",
    "Далее я разбиваю данные на обучающую, валидационную выборки и тестовую выборки.\n",
    "На следующем шаге я исследую качество моделей, подбирая разные гиперпараметры. \n",
    "В конце я оцениваю модели на тестовой выборке. \n",
    "На финальной стадии я проверяю получившиеся модели на адекватность предсказанных результатов. "
   ]
  },
  {
   "cell_type": "markdown",
   "metadata": {},
   "source": [
    "## Откройте и изучите файл"
   ]
  },
  {
   "cell_type": "code",
   "execution_count": 67,
   "metadata": {},
   "outputs": [],
   "source": [
    "# Импортируем библиотеки\n",
    "import pandas as pd\n",
    "import matplotlib.pyplot as plt\n",
    "import numpy as np\n",
    "from sklearn.model_selection import train_test_split\n",
    "from sklearn.tree import DecisionTreeClassifier\n",
    "from sklearn.metrics import accuracy_score\n",
    "from sklearn.ensemble import RandomForestClassifier\n",
    "from sklearn.linear_model import LogisticRegression\n",
    "from sklearn.model_selection import GridSearchCV\n",
    "from sklearn.model_selection import cross_val_score\n",
    "from sklearn.dummy import DummyClassifier\n",
    "from scipy.stats import bernoulli"
   ]
  },
  {
   "cell_type": "code",
   "execution_count": 2,
   "metadata": {},
   "outputs": [
    {
     "data": {
      "text/html": [
       "<div>\n",
       "<style scoped>\n",
       "    .dataframe tbody tr th:only-of-type {\n",
       "        vertical-align: middle;\n",
       "    }\n",
       "\n",
       "    .dataframe tbody tr th {\n",
       "        vertical-align: top;\n",
       "    }\n",
       "\n",
       "    .dataframe thead th {\n",
       "        text-align: right;\n",
       "    }\n",
       "</style>\n",
       "<table border=\"1\" class=\"dataframe\">\n",
       "  <thead>\n",
       "    <tr style=\"text-align: right;\">\n",
       "      <th></th>\n",
       "      <th>calls</th>\n",
       "      <th>minutes</th>\n",
       "      <th>messages</th>\n",
       "      <th>mb_used</th>\n",
       "      <th>is_ultra</th>\n",
       "    </tr>\n",
       "  </thead>\n",
       "  <tbody>\n",
       "    <tr>\n",
       "      <th>0</th>\n",
       "      <td>40.0</td>\n",
       "      <td>311.90</td>\n",
       "      <td>83.0</td>\n",
       "      <td>19915.42</td>\n",
       "      <td>0</td>\n",
       "    </tr>\n",
       "    <tr>\n",
       "      <th>1</th>\n",
       "      <td>85.0</td>\n",
       "      <td>516.75</td>\n",
       "      <td>56.0</td>\n",
       "      <td>22696.96</td>\n",
       "      <td>0</td>\n",
       "    </tr>\n",
       "    <tr>\n",
       "      <th>2</th>\n",
       "      <td>77.0</td>\n",
       "      <td>467.66</td>\n",
       "      <td>86.0</td>\n",
       "      <td>21060.45</td>\n",
       "      <td>0</td>\n",
       "    </tr>\n",
       "    <tr>\n",
       "      <th>3</th>\n",
       "      <td>106.0</td>\n",
       "      <td>745.53</td>\n",
       "      <td>81.0</td>\n",
       "      <td>8437.39</td>\n",
       "      <td>1</td>\n",
       "    </tr>\n",
       "    <tr>\n",
       "      <th>4</th>\n",
       "      <td>66.0</td>\n",
       "      <td>418.74</td>\n",
       "      <td>1.0</td>\n",
       "      <td>14502.75</td>\n",
       "      <td>0</td>\n",
       "    </tr>\n",
       "  </tbody>\n",
       "</table>\n",
       "</div>"
      ],
      "text/plain": [
       "   calls  minutes  messages   mb_used  is_ultra\n",
       "0   40.0   311.90      83.0  19915.42         0\n",
       "1   85.0   516.75      56.0  22696.96         0\n",
       "2   77.0   467.66      86.0  21060.45         0\n",
       "3  106.0   745.53      81.0   8437.39         1\n",
       "4   66.0   418.74       1.0  14502.75         0"
      ]
     },
     "execution_count": 2,
     "metadata": {},
     "output_type": "execute_result"
    }
   ],
   "source": [
    "# Загружаем данные\n",
    "data = pd.read_csv('/datasets/users_behavior.csv')\n",
    "data.head()"
   ]
  },
  {
   "cell_type": "code",
   "execution_count": 3,
   "metadata": {},
   "outputs": [
    {
     "name": "stdout",
     "output_type": "stream",
     "text": [
      "<class 'pandas.core.frame.DataFrame'>\n",
      "RangeIndex: 3214 entries, 0 to 3213\n",
      "Data columns (total 5 columns):\n",
      " #   Column    Non-Null Count  Dtype  \n",
      "---  ------    --------------  -----  \n",
      " 0   calls     3214 non-null   float64\n",
      " 1   minutes   3214 non-null   float64\n",
      " 2   messages  3214 non-null   float64\n",
      " 3   mb_used   3214 non-null   float64\n",
      " 4   is_ultra  3214 non-null   int64  \n",
      "dtypes: float64(4), int64(1)\n",
      "memory usage: 125.7 KB\n"
     ]
    }
   ],
   "source": [
    "# Смотрю на данные\n",
    "data.info()"
   ]
  },
  {
   "cell_type": "markdown",
   "metadata": {},
   "source": [
    "Посмотрю немного на переменные, например, есть ли люди, которые вообще не звонят."
   ]
  },
  {
   "cell_type": "code",
   "execution_count": 4,
   "metadata": {},
   "outputs": [
    {
     "data": {
      "text/plain": [
       "40"
      ]
     },
     "execution_count": 4,
     "metadata": {},
     "output_type": "execute_result"
    }
   ],
   "source": [
    "# Срез\n",
    "data.query('calls==0')['calls'].count()"
   ]
  },
  {
   "cell_type": "markdown",
   "metadata": {},
   "source": [
    "Действительно, у 40 человек вообще нет звонков. Проверим, что у них же 0 минут разговора."
   ]
  },
  {
   "cell_type": "code",
   "execution_count": 5,
   "metadata": {},
   "outputs": [
    {
     "data": {
      "text/plain": [
       "40"
      ]
     },
     "execution_count": 5,
     "metadata": {},
     "output_type": "execute_result"
    }
   ],
   "source": [
    "# срез\n",
    "data.query('minutes==0')['minutes'].count()"
   ]
  },
  {
   "cell_type": "markdown",
   "metadata": {},
   "source": [
    "Данные выглядят адекватными. "
   ]
  },
  {
   "cell_type": "markdown",
   "metadata": {},
   "source": [
    "Я создам одну дополнительную переменную - среднюю длина разговора."
   ]
  },
  {
   "cell_type": "code",
   "execution_count": 6,
   "metadata": {},
   "outputs": [
    {
     "name": "stdout",
     "output_type": "stream",
     "text": [
      "<class 'pandas.core.frame.DataFrame'>\n",
      "RangeIndex: 3214 entries, 0 to 3213\n",
      "Data columns (total 6 columns):\n",
      " #   Column            Non-Null Count  Dtype  \n",
      "---  ------            --------------  -----  \n",
      " 0   calls             3214 non-null   float64\n",
      " 1   minutes           3214 non-null   float64\n",
      " 2   messages          3214 non-null   float64\n",
      " 3   mb_used           3214 non-null   float64\n",
      " 4   is_ultra          3214 non-null   int64  \n",
      " 5   minutes_per_call  3174 non-null   float64\n",
      "dtypes: float64(5), int64(1)\n",
      "memory usage: 150.8 KB\n"
     ]
    }
   ],
   "source": [
    "# создаем переменную\n",
    "data['minutes_per_call'] = data['minutes']/data['calls']\n",
    "data.info()"
   ]
  },
  {
   "cell_type": "markdown",
   "metadata": {},
   "source": [
    "У 40 человек данная переменная будет не определена, потому что у них вообще нет звонков. Заменю пропуски для них на нули."
   ]
  },
  {
   "cell_type": "code",
   "execution_count": 7,
   "metadata": {},
   "outputs": [],
   "source": [
    "# Заполняю пропуски\n",
    "data['minutes_per_call'] = data['minutes_per_call'].fillna(0)"
   ]
  },
  {
   "cell_type": "markdown",
   "metadata": {},
   "source": [
    "Переведу мб в гб"
   ]
  },
  {
   "cell_type": "code",
   "execution_count": 8,
   "metadata": {},
   "outputs": [],
   "source": [
    "data['gb_used'] = data['mb_used']/1000"
   ]
  },
  {
   "cell_type": "markdown",
   "metadata": {},
   "source": [
    "Наша задача - это задача классификации, поэтому я буду рассматрировать три класса моделей: решающее дерево, случайный лес и логистическая регрессия. \n",
    "\n",
    "Для начала в целом я постараюсь понять общую картину, как разные классы распределены по разным фичам. У нас есть 4 фича: calls, minutes, massages и mb_used. Эти фичи скорее всего тоже как-то связаны между собой и эту связь хорошо бы хоть условно представлять. Когда пользователь выбирает тариф, он скорее всего пытается выбрать более выгодный тариф для своего пэттерна использования разных способов связи. В таком случае использование мессенджеров для звонков и переписки будет сабститутом для calls и messages будет отражаться в переменной mb_used. Я ожидаю, что mb_used должно отрицательно коррелировать с calls и messages.\n",
    "Посморю на корреляции."
   ]
  },
  {
   "cell_type": "code",
   "execution_count": 9,
   "metadata": {},
   "outputs": [
    {
     "data": {
      "text/html": [
       "<style  type=\"text/css\" >\n",
       "#T_32f67_row0_col0,#T_32f67_row1_col1,#T_32f67_row2_col2,#T_32f67_row3_col3,#T_32f67_row4_col4{\n",
       "            background-color:  #b40426;\n",
       "            color:  #f1f1f1;\n",
       "        }#T_32f67_row0_col1,#T_32f67_row0_col3,#T_32f67_row0_col4,#T_32f67_row3_col0,#T_32f67_row3_col2{\n",
       "            background-color:  #3b4cc0;\n",
       "            color:  #f1f1f1;\n",
       "        }#T_32f67_row0_col2{\n",
       "            background-color:  #5673e0;\n",
       "            color:  #000000;\n",
       "        }#T_32f67_row1_col0{\n",
       "            background-color:  #799cf8;\n",
       "            color:  #000000;\n",
       "        }#T_32f67_row1_col2,#T_32f67_row2_col1{\n",
       "            background-color:  #bb1b2c;\n",
       "            color:  #f1f1f1;\n",
       "        }#T_32f67_row1_col3{\n",
       "            background-color:  #82a6fb;\n",
       "            color:  #000000;\n",
       "        }#T_32f67_row1_col4{\n",
       "            background-color:  #a1c0ff;\n",
       "            color:  #000000;\n",
       "        }#T_32f67_row2_col0{\n",
       "            background-color:  #9abbff;\n",
       "            color:  #000000;\n",
       "        }#T_32f67_row2_col3,#T_32f67_row3_col4{\n",
       "            background-color:  #81a4fb;\n",
       "            color:  #000000;\n",
       "        }#T_32f67_row2_col4{\n",
       "            background-color:  #9fbfff;\n",
       "            color:  #000000;\n",
       "        }#T_32f67_row3_col1{\n",
       "            background-color:  #445acc;\n",
       "            color:  #f1f1f1;\n",
       "        }#T_32f67_row4_col0{\n",
       "            background-color:  #4257c9;\n",
       "            color:  #f1f1f1;\n",
       "        }#T_32f67_row4_col1{\n",
       "            background-color:  #6e90f2;\n",
       "            color:  #000000;\n",
       "        }#T_32f67_row4_col2{\n",
       "            background-color:  #6384eb;\n",
       "            color:  #000000;\n",
       "        }#T_32f67_row4_col3{\n",
       "            background-color:  #88abfd;\n",
       "            color:  #000000;\n",
       "        }</style><table id=\"T_32f67_\" ><thead>    <tr>        <th class=\"blank level0\" ></th>        <th class=\"col_heading level0 col0\" >minutes_per_call</th>        <th class=\"col_heading level0 col1\" >calls</th>        <th class=\"col_heading level0 col2\" >minutes</th>        <th class=\"col_heading level0 col3\" >messages</th>        <th class=\"col_heading level0 col4\" >gb_used</th>    </tr></thead><tbody>\n",
       "                <tr>\n",
       "                        <th id=\"T_32f67_level0_row0\" class=\"row_heading level0 row0\" >minutes_per_call</th>\n",
       "                        <td id=\"T_32f67_row0_col0\" class=\"data row0 col0\" >1.000000</td>\n",
       "                        <td id=\"T_32f67_row0_col1\" class=\"data row0 col1\" >0.148412</td>\n",
       "                        <td id=\"T_32f67_row0_col2\" class=\"data row0 col2\" >0.249895</td>\n",
       "                        <td id=\"T_32f67_row0_col3\" class=\"data row0 col3\" >-0.054004</td>\n",
       "                        <td id=\"T_32f67_row0_col4\" class=\"data row0 col4\" >-0.028443</td>\n",
       "            </tr>\n",
       "            <tr>\n",
       "                        <th id=\"T_32f67_level0_row1\" class=\"row_heading level0 row1\" >calls</th>\n",
       "                        <td id=\"T_32f67_row1_col0\" class=\"data row1 col0\" >0.148412</td>\n",
       "                        <td id=\"T_32f67_row1_col1\" class=\"data row1 col1\" >1.000000</td>\n",
       "                        <td id=\"T_32f67_row1_col2\" class=\"data row1 col2\" >0.982083</td>\n",
       "                        <td id=\"T_32f67_row1_col3\" class=\"data row1 col3\" >0.177385</td>\n",
       "                        <td id=\"T_32f67_row1_col4\" class=\"data row1 col4\" >0.286442</td>\n",
       "            </tr>\n",
       "            <tr>\n",
       "                        <th id=\"T_32f67_level0_row2\" class=\"row_heading level0 row2\" >minutes</th>\n",
       "                        <td id=\"T_32f67_row2_col0\" class=\"data row2 col0\" >0.249895</td>\n",
       "                        <td id=\"T_32f67_row2_col1\" class=\"data row2 col1\" >0.982083</td>\n",
       "                        <td id=\"T_32f67_row2_col2\" class=\"data row2 col2\" >1.000000</td>\n",
       "                        <td id=\"T_32f67_row2_col3\" class=\"data row2 col3\" >0.173110</td>\n",
       "                        <td id=\"T_32f67_row2_col4\" class=\"data row2 col4\" >0.280967</td>\n",
       "            </tr>\n",
       "            <tr>\n",
       "                        <th id=\"T_32f67_level0_row3\" class=\"row_heading level0 row3\" >messages</th>\n",
       "                        <td id=\"T_32f67_row3_col0\" class=\"data row3 col0\" >-0.054004</td>\n",
       "                        <td id=\"T_32f67_row3_col1\" class=\"data row3 col1\" >0.177385</td>\n",
       "                        <td id=\"T_32f67_row3_col2\" class=\"data row3 col2\" >0.173110</td>\n",
       "                        <td id=\"T_32f67_row3_col3\" class=\"data row3 col3\" >1.000000</td>\n",
       "                        <td id=\"T_32f67_row3_col4\" class=\"data row3 col4\" >0.195721</td>\n",
       "            </tr>\n",
       "            <tr>\n",
       "                        <th id=\"T_32f67_level0_row4\" class=\"row_heading level0 row4\" >gb_used</th>\n",
       "                        <td id=\"T_32f67_row4_col0\" class=\"data row4 col0\" >-0.028443</td>\n",
       "                        <td id=\"T_32f67_row4_col1\" class=\"data row4 col1\" >0.286442</td>\n",
       "                        <td id=\"T_32f67_row4_col2\" class=\"data row4 col2\" >0.280967</td>\n",
       "                        <td id=\"T_32f67_row4_col3\" class=\"data row4 col3\" >0.195721</td>\n",
       "                        <td id=\"T_32f67_row4_col4\" class=\"data row4 col4\" >1.000000</td>\n",
       "            </tr>\n",
       "    </tbody></table>"
      ],
      "text/plain": [
       "<pandas.io.formats.style.Styler at 0x7fce6440ec10>"
      ]
     },
     "execution_count": 9,
     "metadata": {},
     "output_type": "execute_result"
    }
   ],
   "source": [
    "# Посмотрим на таблицу корреляций\n",
    "data[['minutes_per_call', 'calls', 'minutes', 'messages', 'gb_used']].corr().style.background_gradient('coolwarm')"
   ]
  },
  {
   "cell_type": "markdown",
   "metadata": {},
   "source": [
    "Во-первых, как можно увидеть, использование гб не скоррелировано отрицательно с разговорами и сообщениями. \n",
    "Во-вторых, мы видим, что суммарные минуты очень сильно скореллированы с числом звонков, а вот со средней длиной разговора не очень сильно. Поэтому я оставлю в фичах лишь calls и minutes_per_call."
   ]
  },
  {
   "cell_type": "markdown",
   "metadata": {},
   "source": [
    "Посмотрю, насколько данные сбалансированы в плане тарифов."
   ]
  },
  {
   "cell_type": "code",
   "execution_count": 10,
   "metadata": {},
   "outputs": [
    {
     "data": {
      "text/plain": [
       "0    0.693528\n",
       "1    0.306472\n",
       "Name: is_ultra, dtype: float64"
      ]
     },
     "execution_count": 10,
     "metadata": {},
     "output_type": "execute_result"
    }
   ],
   "source": [
    "# считаю значения\n",
    "data['is_ultra'].value_counts(True)"
   ]
  },
  {
   "cell_type": "markdown",
   "metadata": {},
   "source": [
    "Больше, чем 2/3 выборки - это пользователи тарифа Смарт, данные не сбалансированы по пользователям разных тарифов, это надо будет учесть в разбиении на выборки."
   ]
  },
  {
   "cell_type": "markdown",
   "metadata": {},
   "source": [
    "Я загрузила данные, добавила две переменные и увидела, что общая продолжительность разговоров и число звонков очень сильно скоррелированы друг с другом, а вот со средней длиной звонка не очень сильно. Я также увидела, что данные не сбалансированы, и большая часть клиентов пользуется тарифом Смарт."
   ]
  },
  {
   "cell_type": "markdown",
   "metadata": {},
   "source": [
    "## Разбейте данные на выборки"
   ]
  },
  {
   "cell_type": "markdown",
   "metadata": {},
   "source": [
    "У меня нет отдельной тестовой выборки, поэтому все данные я разобью на тренировочную, валидационную и тестовую выборку.\n",
    "Я разобью выборки в пропорции 3:1:1, то есть примерно 1928 наблюдений в обучающей выборке, и 643 в валидационной и тестовой."
   ]
  },
  {
   "cell_type": "code",
   "execution_count": 15,
   "metadata": {},
   "outputs": [],
   "source": [
    "# обозначаю features and target\n",
    "features = data.drop(['is_ultra', 'mb_used', 'minutes'], axis=1)\n",
    "target = data['is_ultra']"
   ]
  },
  {
   "cell_type": "code",
   "execution_count": 16,
   "metadata": {},
   "outputs": [
    {
     "data": {
      "text/plain": [
       "1928"
      ]
     },
     "metadata": {},
     "output_type": "display_data"
    },
    {
     "data": {
      "text/plain": [
       "643"
      ]
     },
     "metadata": {},
     "output_type": "display_data"
    },
    {
     "data": {
      "text/plain": [
       "643"
      ]
     },
     "execution_count": 16,
     "metadata": {},
     "output_type": "execute_result"
    }
   ],
   "source": [
    "# отделяю тестовую выборку\n",
    "features_train, features_test, target_train, target_test = (\n",
    "    train_test_split(features, target, test_size=0.2, random_state=42, stratify = target)\n",
    ")\n",
    "features_train, features_valid, target_train, target_valid = (\n",
    "    train_test_split(features_train, target_train, test_size=0.25, random_state=42, stratify=target_train)\n",
    ")\n",
    "display(features_train.shape[0])\n",
    "display(features_valid.shape[0])\n",
    "features_test.shape[0]"
   ]
  },
  {
   "cell_type": "markdown",
   "metadata": {},
   "source": [
    "Мы правильно разделили выборку на тренировочную, валидационную и тестовую. "
   ]
  },
  {
   "cell_type": "markdown",
   "metadata": {},
   "source": [
    "На данном этапе я разбила данные на обучающую, валидационную и тестовую выборки."
   ]
  },
  {
   "cell_type": "markdown",
   "metadata": {},
   "source": [
    "## Исследуйте модели"
   ]
  },
  {
   "cell_type": "markdown",
   "metadata": {},
   "source": [
    "### Визуальное исследование данных"
   ]
  },
  {
   "cell_type": "code",
   "execution_count": 17,
   "metadata": {},
   "outputs": [
    {
     "data": {
      "image/png": "[encoded data removed]",
      "text/plain": [
       "<Figure size 720x360 with 1 Axes>"
      ]
     },
     "metadata": {
      "needs_background": "light"
     },
     "output_type": "display_data"
    }
   ],
   "source": [
    "# Нарисуем скэттер плот \n",
    "plt.figure(figsize=(10,5))\n",
    "plt.xlabel('\\n Число звонков')\n",
    "plt.ylabel('\\n Использовано Гб')\n",
    "plt.title('График разброса \\n')\n",
    "class_names = ['Смарт', 'Ультра']\n",
    "scatter = plt.scatter(data['calls'], data['gb_used'], c = data['is_ultra']);\n",
    "plt.legend(handles = scatter.legend_elements()[0], loc = 'upper right', labels = class_names);"
   ]
  },
  {
   "cell_type": "code",
   "execution_count": 18,
   "metadata": {},
   "outputs": [
    {
     "data": {
      "image/png": "[encoded data removed]",
      "text/plain": [
       "<Figure size 720x360 with 1 Axes>"
      ]
     },
     "metadata": {
      "needs_background": "light"
     },
     "output_type": "display_data"
    }
   ],
   "source": [
    "# Нарисуем скэттер плот \n",
    "plt.figure(figsize=(10,5))\n",
    "plt.xlabel('\\n Минут разговора')\n",
    "plt.ylabel('\\n Использовано Гб')\n",
    "plt.title('График разброса \\n')\n",
    "class_names = ['Смарт', 'Ультра']\n",
    "scatter = plt.scatter(data['minutes'], data['gb_used'], c = data['is_ultra']);\n",
    "plt.legend(handles = scatter.legend_elements()[0], loc = 'upper right', labels = class_names);"
   ]
  },
  {
   "cell_type": "code",
   "execution_count": 19,
   "metadata": {},
   "outputs": [
    {
     "data": {
      "image/png": "[encoded data removed]",
      "text/plain": [
       "<Figure size 720x360 with 1 Axes>"
      ]
     },
     "metadata": {
      "needs_background": "light"
     },
     "output_type": "display_data"
    }
   ],
   "source": [
    "# Нарисуем скэттер плот \n",
    "plt.figure(figsize=(10,5))\n",
    "plt.xlabel('\\n Число сообщений')\n",
    "plt.ylabel('\\n Использовано Гб')\n",
    "plt.title('График разброса \\n')\n",
    "class_names = ['Смарт', 'Ультра']\n",
    "scatter = plt.scatter(data['messages'], data['gb_used'], c = data['is_ultra']);\n",
    "plt.legend(handles = scatter.legend_elements()[0], loc = 'upper right', labels = class_names);"
   ]
  },
  {
   "cell_type": "markdown",
   "metadata": {},
   "source": [
    "У Ультра есть mass point на нуле сообщений."
   ]
  },
  {
   "cell_type": "code",
   "execution_count": 20,
   "metadata": {},
   "outputs": [
    {
     "data": {
      "image/png": "[encoded data removed]",
      "text/plain": [
       "<Figure size 720x360 with 1 Axes>"
      ]
     },
     "metadata": {
      "needs_background": "light"
     },
     "output_type": "display_data"
    }
   ],
   "source": [
    "# Нарисуем скэттер плот \n",
    "plt.figure(figsize=(10,5))\n",
    "plt.xlabel('\\n Минут на разговор')\n",
    "plt.ylabel('\\n Использовано Гб')\n",
    "plt.title('График разброса \\n')\n",
    "class_names = ['Смарт', 'Ультра']\n",
    "scatter = plt.scatter(data['minutes_per_call'], data['gb_used'], c = data['is_ultra']);\n",
    "plt.legend(handles = scatter.legend_elements()[0], loc = 'upper right', labels = class_names);"
   ]
  },
  {
   "cell_type": "markdown",
   "metadata": {},
   "source": [
    "Те, кто вообще не говорили по телефону были практически всегда их тарифа Ультра. "
   ]
  },
  {
   "cell_type": "markdown",
   "metadata": {},
   "source": [
    " У нас появилось некоторое первое представление о распределении классов и какая-то первая идея о том, как, например, дерево могло бы отсекать некоторые очевидные классы. "
   ]
  },
  {
   "cell_type": "markdown",
   "metadata": {},
   "source": [
    "### Дерево решений"
   ]
  },
  {
   "cell_type": "markdown",
   "metadata": {},
   "source": [
    "#### Точность на валидационной выборке"
   ]
  },
  {
   "cell_type": "markdown",
   "metadata": {},
   "source": [
    "Я посмотрю на разные деревья решений и выберу то, которое даёт наибольшую accuracy на валидационной выборке"
   ]
  },
  {
   "cell_type": "code",
   "execution_count": 59,
   "metadata": {},
   "outputs": [
    {
     "data": {
      "text/plain": [
       "DecisionTreeClassifier(max_depth=4, random_state=42)"
      ]
     },
     "metadata": {},
     "output_type": "display_data"
    },
    {
     "data": {
      "text/plain": [
       "0.7822706065318819"
      ]
     },
     "execution_count": 59,
     "metadata": {},
     "output_type": "execute_result"
    }
   ],
   "source": [
    "# Рассмотрим разные деревья решений\n",
    "best_accuracy_tree = 0\n",
    "best_tree = None\n",
    "depth_list=[]\n",
    "accuracy_list=[]\n",
    "for depth in range(1, 30):\n",
    "    model = DecisionTreeClassifier(random_state = 42, max_depth = depth)\n",
    "    model.fit(features_train, target_train)\n",
    "    predictions_valid = model.predict(features_valid)\n",
    "    accuracy = accuracy_score(predictions_valid, target_valid)\n",
    "    depth_list.append(depth)\n",
    "    accuracy_list.append(accuracy)\n",
    "    if accuracy>best_accuracy_tree:\n",
    "        best_accuracy_tree = accuracy\n",
    "        best_tree = model\n",
    "display(best_tree)\n",
    "best_accuracy_tree"
   ]
  },
  {
   "cell_type": "markdown",
   "metadata": {},
   "source": [
    "Из всех деревьев, наилучшей с точки зрения accuracy на валидационной выборке оказалось дерево глубиной 4 и accuracy на валидационной выборке получилась 0.78"
   ]
  },
  {
   "cell_type": "markdown",
   "metadata": {},
   "source": [
    "Посмотрю, как вела себя метрика при разных значениях глубины."
   ]
  },
  {
   "cell_type": "code",
   "execution_count": 60,
   "metadata": {},
   "outputs": [
    {
     "data": {
      "image/png": "[encoded data removed]",
      "text/plain": [
       "<Figure size 720x360 with 1 Axes>"
      ]
     },
     "metadata": {
      "needs_background": "light"
     },
     "output_type": "display_data"
    }
   ],
   "source": [
    "# график\n",
    "plt.figure(figsize = (10,5))\n",
    "plt.title('зависимость точности от глубины дерева \\n')\n",
    "plt.xlabel('\\n глубина дерева')\n",
    "plt.ylabel('accuracy')\n",
    "plt.plot(depth_list, accuracy_list);"
   ]
  },
  {
   "cell_type": "markdown",
   "metadata": {},
   "source": [
    "Видно, что начиная с глубины 4 точность на валидационной выборке начинает резко падать."
   ]
  },
  {
   "cell_type": "markdown",
   "metadata": {},
   "source": [
    "#### Grid search на обучающей выборке"
   ]
  },
  {
   "cell_type": "markdown",
   "metadata": {},
   "source": [
    "Попробуем теперь провести поиск по подмножеству гиперпараметров, используя grid search."
   ]
  },
  {
   "cell_type": "code",
   "execution_count": 22,
   "metadata": {},
   "outputs": [
    {
     "name": "stdout",
     "output_type": "stream",
     "text": [
      "Fitting 5 folds for each of 30 candidates, totalling 150 fits\n"
     ]
    },
    {
     "data": {
      "text/plain": [
       "GridSearchCV(cv=5, estimator=DecisionTreeClassifier(random_state=42),\n",
       "             param_grid={'ccp_alpha': [0.1, 0.01, 0.001],\n",
       "                         'criterion': ['gini', 'entropy'],\n",
       "                         'max_depth': [5, 6, 7, 8, 9]},\n",
       "             verbose=True)"
      ]
     },
     "execution_count": 22,
     "metadata": {},
     "output_type": "execute_result"
    }
   ],
   "source": [
    "# Ищем оптимальные параметры\n",
    "param_grid = {'ccp_alpha': [0.1, .01, .001],\n",
    "              'max_depth' : [5, 6, 7, 8, 9],\n",
    "              'criterion' :['gini', 'entropy']\n",
    "             }\n",
    "tree_clas = DecisionTreeClassifier(random_state=42)\n",
    "grid_search = GridSearchCV(estimator=tree_clas, param_grid=param_grid, cv=5, verbose=True)\n",
    "grid_search.fit(features_train, target_train)"
   ]
  },
  {
   "cell_type": "code",
   "execution_count": 23,
   "metadata": {},
   "outputs": [
    {
     "data": {
      "text/plain": [
       "{'ccp_alpha': 0.01,\n",
       " 'class_weight': None,\n",
       " 'criterion': 'entropy',\n",
       " 'max_depth': 5,\n",
       " 'max_features': None,\n",
       " 'max_leaf_nodes': None,\n",
       " 'min_impurity_decrease': 0.0,\n",
       " 'min_impurity_split': None,\n",
       " 'min_samples_leaf': 1,\n",
       " 'min_samples_split': 2,\n",
       " 'min_weight_fraction_leaf': 0.0,\n",
       " 'random_state': 42,\n",
       " 'splitter': 'best'}"
      ]
     },
     "execution_count": 23,
     "metadata": {},
     "output_type": "execute_result"
    }
   ],
   "source": [
    "# Посмотрим на найденное дерево\n",
    "best_search_tree = grid_search.best_estimator_\n",
    "best_search_tree.get_params()"
   ]
  },
  {
   "cell_type": "code",
   "execution_count": 24,
   "metadata": {},
   "outputs": [
    {
     "data": {
      "text/plain": [
       "0.7853810264385692"
      ]
     },
     "execution_count": 24,
     "metadata": {},
     "output_type": "execute_result"
    }
   ],
   "source": [
    "# Посчитаем accuracy\n",
    "predict_valid_search = best_search_tree.predict(features_valid)\n",
    "best_search_accuracy = accuracy_score(predict_valid_search, target_valid)\n",
    "best_search_accuracy"
   ]
  },
  {
   "cell_type": "markdown",
   "metadata": {},
   "source": [
    "У нас получилась большая accuracy на валидационной выборке, что и у дерева, которое я нашла ранее перебором некоторых гиперпараметров.  "
   ]
  },
  {
   "cell_type": "markdown",
   "metadata": {},
   "source": [
    "#### Cross-validation score"
   ]
  },
  {
   "cell_type": "markdown",
   "metadata": {},
   "source": [
    "Теперь рассмотрим модель решающего дерева и будем использовать все данные (train+valid) и рассчитывать cross-validation score. Будем отбирать модели по лучшему среднему score."
   ]
  },
  {
   "cell_type": "code",
   "execution_count": 27,
   "metadata": {},
   "outputs": [
    {
     "data": {
      "text/plain": [
       "2571"
      ]
     },
     "metadata": {},
     "output_type": "display_data"
    },
    {
     "data": {
      "text/plain": [
       "643"
      ]
     },
     "execution_count": 27,
     "metadata": {},
     "output_type": "execute_result"
    }
   ],
   "source": [
    "# сделаем новый набор обучающих и тренировочных данных\n",
    "features_train2, features_test2, target_train2, target_test2 = (\n",
    "    train_test_split(features, target, test_size=0.2, random_state=42, stratify = target)\n",
    ")\n",
    "display(features_train2.shape[0])\n",
    "features_test2.shape[0]"
   ]
  },
  {
   "cell_type": "code",
   "execution_count": 28,
   "metadata": {},
   "outputs": [],
   "source": [
    "# подбираем лучшее дерево\n",
    "tree_cross = None\n",
    "score_cross = 0\n",
    "for depth in range(1, 10):\n",
    "    dtc = DecisionTreeClassifier(random_state=42, max_depth = depth)\n",
    "    scores = cross_val_score(dtc, features_train2, target_train2, cv=5)\n",
    "    if scores.mean()>score_cross:\n",
    "        tree_cross = dtc\n",
    "        score_cross = scores.mean()"
   ]
  },
  {
   "cell_type": "code",
   "execution_count": 29,
   "metadata": {},
   "outputs": [
    {
     "data": {
      "text/plain": [
       "DecisionTreeClassifier(max_depth=3, random_state=42)"
      ]
     },
     "metadata": {},
     "output_type": "display_data"
    },
    {
     "data": {
      "text/plain": [
       "0.7837490083487589"
      ]
     },
     "execution_count": 29,
     "metadata": {},
     "output_type": "execute_result"
    }
   ],
   "source": [
    "# результаты\n",
    "display(tree_cross)\n",
    "score_cross"
   ]
  },
  {
   "cell_type": "code",
   "execution_count": 30,
   "metadata": {},
   "outputs": [
    {
     "data": {
      "text/plain": [
       "DecisionTreeClassifier(max_depth=3, random_state=42)"
      ]
     },
     "execution_count": 30,
     "metadata": {},
     "output_type": "execute_result"
    }
   ],
   "source": [
    "# обучаем дерево\n",
    "tree_cross.fit(features_train2, target_train2)"
   ]
  },
  {
   "cell_type": "markdown",
   "metadata": {},
   "source": [
    "Используя метод cross validation, у нас получилось отпимальное дерево глубиной 3, но при этом средняя точность получилась чуть ниже, чем дерево, которое мы отбирали с помощью grid search. "
   ]
  },
  {
   "cell_type": "markdown",
   "metadata": {},
   "source": [
    "### Случайный лес"
   ]
  },
  {
   "cell_type": "markdown",
   "metadata": {},
   "source": [
    "#### Точность на валидационной выборке"
   ]
  },
  {
   "cell_type": "code",
   "execution_count": 34,
   "metadata": {},
   "outputs": [
    {
     "data": {
      "text/plain": [
       "RandomForestClassifier(max_depth=8, n_estimators=19, random_state=42)"
      ]
     },
     "metadata": {},
     "output_type": "display_data"
    },
    {
     "data": {
      "text/plain": [
       "0.8009331259720062"
      ]
     },
     "execution_count": 34,
     "metadata": {},
     "output_type": "execute_result"
    }
   ],
   "source": [
    "# Рассмотрим теперь семейство моделей случайного леса\n",
    "best_accuracy_forest = 0\n",
    "best_forest = None\n",
    "for est in range(2, 20):\n",
    "    for depth in range(1, 15):\n",
    "        model = RandomForestClassifier(random_state=42, max_depth = depth, n_estimators = est)\n",
    "        model.fit(features_train, target_train)\n",
    "        predictions_valid = model.predict(features_valid)\n",
    "        accuracy = accuracy_score(predictions_valid, target_valid)\n",
    "        if accuracy>best_accuracy_forest:\n",
    "            best_accuracy_forest = accuracy\n",
    "            best_forest = model\n",
    "display(best_forest)\n",
    "best_accuracy_forest"
   ]
  },
  {
   "cell_type": "markdown",
   "metadata": {},
   "source": [
    "Наилучшая модель случайного леса на валидационной выборке была с максимальной глубиной 8 и 19 деревьями. Данная модель также с точки зрения accuracy на валидационной выборке сработала лучше, чем дерево решений. "
   ]
  },
  {
   "cell_type": "markdown",
   "metadata": {},
   "source": [
    "#### OOB score"
   ]
  },
  {
   "cell_type": "markdown",
   "metadata": {},
   "source": [
    "Модель случайного леса позвонляет считать OOB score, то есть использовать все возможные данные для обучения, не деля на валидационную выборку, и считать процент корректно предсказанных строк среди тех, что не были выбраны для обучения модели в каждой конкретной реализации случайного дерева. "
   ]
  },
  {
   "cell_type": "code",
   "execution_count": 35,
   "metadata": {},
   "outputs": [
    {
     "data": {
      "text/plain": [
       "RandomForestClassifier(max_depth=7, n_estimators=27, oob_score=True,\n",
       "                       random_state=42)"
      ]
     },
     "metadata": {},
     "output_type": "display_data"
    },
    {
     "data": {
      "text/plain": [
       "0.8043562816024893"
      ]
     },
     "execution_count": 35,
     "metadata": {},
     "output_type": "execute_result"
    }
   ],
   "source": [
    "# выбираем лучший случайный лес на основе oob score\n",
    "best_oob_score = 0\n",
    "best_oob_forest = None\n",
    "for est in range(20, 30):\n",
    "    for depth in range(1, 10):\n",
    "        model = RandomForestClassifier(random_state=42, max_depth = depth, n_estimators = est, oob_score=True)\n",
    "        model.fit(features_train2, target_train2)\n",
    "        if model.oob_score_>best_oob_score:\n",
    "            best_oob_score = model.oob_score_\n",
    "            best_oob_forest = model\n",
    "display(best_oob_forest)\n",
    "best_oob_score"
   ]
  },
  {
   "cell_type": "markdown",
   "metadata": {},
   "source": [
    "Мы получили ещё одну модель случайного леса, с максимальной глубиной 7 и 27 деревьями. Данная модель обучалась на большей выборке данных, чем предыдущие модели (то есть, она обучалась и на валидационной выборке, на которой предыдущие модели не обучались). При этом точность этой модели на основа oob score немного выше, чем точность модели случайного леса, которую я отбирала на валидационной выборке."
   ]
  },
  {
   "cell_type": "markdown",
   "metadata": {},
   "source": [
    "#### Grid search"
   ]
  },
  {
   "cell_type": "markdown",
   "metadata": {},
   "source": [
    "Теперь используем поиск по параметрам с помощью grid search. "
   ]
  },
  {
   "cell_type": "code",
   "execution_count": 36,
   "metadata": {},
   "outputs": [],
   "source": [
    "# рассматриваемые параметры\n",
    "rfc=RandomForestClassifier(random_state=42)\n",
    "\n",
    "param_grid = { \n",
    "    'n_estimators': [10, 20, 30],\n",
    "    'max_features': ['auto', 'sqrt', 'log2'],\n",
    "    'max_depth' : [4,5,6,7,8, 9],\n",
    "    'criterion' :['gini', 'entropy']\n",
    "}"
   ]
  },
  {
   "cell_type": "code",
   "execution_count": 37,
   "metadata": {},
   "outputs": [
    {
     "data": {
      "text/plain": [
       "GridSearchCV(cv=5, estimator=RandomForestClassifier(random_state=42),\n",
       "             param_grid={'criterion': ['gini', 'entropy'],\n",
       "                         'max_depth': [4, 5, 6, 7, 8, 9],\n",
       "                         'max_features': ['auto', 'sqrt', 'log2'],\n",
       "                         'n_estimators': [10, 20, 30]})"
      ]
     },
     "execution_count": 37,
     "metadata": {},
     "output_type": "execute_result"
    }
   ],
   "source": [
    "# поиск по параметрам\n",
    "CV_rfc = GridSearchCV(estimator=rfc, param_grid=param_grid, cv= 5)\n",
    "CV_rfc.fit(features_train, target_train)"
   ]
  },
  {
   "cell_type": "code",
   "execution_count": 38,
   "metadata": {},
   "outputs": [
    {
     "data": {
      "text/plain": [
       "{'bootstrap': True,\n",
       " 'ccp_alpha': 0.0,\n",
       " 'class_weight': None,\n",
       " 'criterion': 'entropy',\n",
       " 'max_depth': 9,\n",
       " 'max_features': 'auto',\n",
       " 'max_leaf_nodes': None,\n",
       " 'max_samples': None,\n",
       " 'min_impurity_decrease': 0.0,\n",
       " 'min_impurity_split': None,\n",
       " 'min_samples_leaf': 1,\n",
       " 'min_samples_split': 2,\n",
       " 'min_weight_fraction_leaf': 0.0,\n",
       " 'n_estimators': 30,\n",
       " 'n_jobs': None,\n",
       " 'oob_score': False,\n",
       " 'random_state': 42,\n",
       " 'verbose': 0,\n",
       " 'warm_start': False}"
      ]
     },
     "execution_count": 38,
     "metadata": {},
     "output_type": "execute_result"
    }
   ],
   "source": [
    "# лучшая модель\n",
    "best_search_forest = CV_rfc.best_estimator_\n",
    "best_search_forest.get_params()"
   ]
  },
  {
   "cell_type": "code",
   "execution_count": 39,
   "metadata": {},
   "outputs": [
    {
     "data": {
      "text/plain": [
       "0.7962674961119751"
      ]
     },
     "execution_count": 39,
     "metadata": {},
     "output_type": "execute_result"
    }
   ],
   "source": [
    "# считаем accuracy\n",
    "predictions_valid = best_search_forest.predict(features_valid)\n",
    "accuracy_search_forest = accuracy_score(predictions_valid, target_valid)\n",
    "accuracy_search_forest"
   ]
  },
  {
   "cell_type": "markdown",
   "metadata": {},
   "source": [
    "Данная модель имеет чуть меньшую точность на валидационной выборке, чем та модель случайного леса, которую мы получили с помощью oob score."
   ]
  },
  {
   "cell_type": "markdown",
   "metadata": {},
   "source": [
    "#### Cross-validation score"
   ]
  },
  {
   "cell_type": "code",
   "execution_count": 40,
   "metadata": {},
   "outputs": [],
   "source": [
    "# подбираем лучший лес\n",
    "forest_cross = None\n",
    "score_cross = 0\n",
    "for est in range(20, 30):\n",
    "    for depth in range(1, 10):\n",
    "        rfc = RandomForestClassifier(random_state=42, max_depth=depth, n_estimators=est)\n",
    "        scores = cross_val_score(rfc, features_train2, target_train2, cv=5)\n",
    "        if scores.mean()>score_cross:\n",
    "            forest_cross = rfc\n",
    "            score_cross = scores.mean()"
   ]
  },
  {
   "cell_type": "code",
   "execution_count": 42,
   "metadata": {},
   "outputs": [
    {
     "data": {
      "text/plain": [
       "RandomForestClassifier(max_depth=9, n_estimators=29, random_state=42)"
      ]
     },
     "metadata": {},
     "output_type": "display_data"
    },
    {
     "data": {
      "text/plain": [
       "0.8070892675002833"
      ]
     },
     "execution_count": 42,
     "metadata": {},
     "output_type": "execute_result"
    }
   ],
   "source": [
    "display(forest_cross)\n",
    "score_cross"
   ]
  },
  {
   "cell_type": "code",
   "execution_count": 63,
   "metadata": {},
   "outputs": [
    {
     "data": {
      "text/plain": [
       "RandomForestClassifier(max_depth=9, n_estimators=29, random_state=42)"
      ]
     },
     "execution_count": 63,
     "metadata": {},
     "output_type": "execute_result"
    }
   ],
   "source": [
    "# обучим модель\n",
    "forest_cross.fit(features_train2, target_train2)"
   ]
  },
  {
   "cell_type": "markdown",
   "metadata": {},
   "source": [
    "Точность на основе cross-validation получилась выше, чем точность в предыдущих моделях случайного леса. На данный момент дерево из 29 деревьев с максимальное глубиной 9 показывает наибольшую точность."
   ]
  },
  {
   "cell_type": "markdown",
   "metadata": {},
   "source": [
    "### Логистическая регрессия"
   ]
  },
  {
   "cell_type": "markdown",
   "metadata": {},
   "source": [
    "#### Точность на валидационной выборке"
   ]
  },
  {
   "cell_type": "markdown",
   "metadata": {},
   "source": [
    "Теперь посмотрим, как будет работать классификация с помощью логистической регрессии."
   ]
  },
  {
   "cell_type": "code",
   "execution_count": 43,
   "metadata": {},
   "outputs": [
    {
     "data": {
      "text/plain": [
       "0.7418351477449455"
      ]
     },
     "execution_count": 43,
     "metadata": {},
     "output_type": "execute_result"
    }
   ],
   "source": [
    "model_logit = LogisticRegression(random_state=42, solver='lbfgs', max_iter=1000)\n",
    "model_logit.fit(features_train, target_train)\n",
    "predictions_valid = model_logit.predict(features_valid)\n",
    "accuracy_logit = accuracy_score(predictions_valid, target_valid)\n",
    "accuracy_logit"
   ]
  },
  {
   "cell_type": "markdown",
   "metadata": {},
   "source": [
    "У логистической регрессии получилась точность на валидационной выборке хуже, чем у дерева решений и случайного леса. "
   ]
  },
  {
   "cell_type": "markdown",
   "metadata": {},
   "source": [
    "#### Grid search"
   ]
  },
  {
   "cell_type": "markdown",
   "metadata": {},
   "source": [
    "Посмотрим, как можно оптимизировать параметры у логистической регрессии."
   ]
  },
  {
   "cell_type": "code",
   "execution_count": 44,
   "metadata": {},
   "outputs": [],
   "source": [
    "# параметры\n",
    "parameters = {\n",
    "    'penalty' : ['l1','l2'], \n",
    "    'C'       : np.logspace(-3,3,7),\n",
    "    'solver'  : ['newton-cg', 'lbfgs', 'liblinear'],\n",
    "}"
   ]
  },
  {
   "cell_type": "code",
   "execution_count": 45,
   "metadata": {},
   "outputs": [],
   "source": [
    "# поиск по параметрам\n",
    "logreg = LogisticRegression()\n",
    "logreg_search = GridSearchCV(logreg, \n",
    "                   param_grid = parameters,\n",
    "                   scoring='accuracy',       \n",
    "                   cv=10)  "
   ]
  },
  {
   "cell_type": "code",
   "execution_count": 46,
   "metadata": {},
   "outputs": [
    {
     "data": {
      "text/plain": [
       "GridSearchCV(cv=10, estimator=LogisticRegression(),\n",
       "             param_grid={'C': array([1.e-03, 1.e-02, 1.e-01, 1.e+00, 1.e+01, 1.e+02, 1.e+03]),\n",
       "                         'penalty': ['l1', 'l2'],\n",
       "                         'solver': ['newton-cg', 'lbfgs', 'liblinear']},\n",
       "             scoring='accuracy')"
      ]
     },
     "execution_count": 46,
     "metadata": {},
     "output_type": "execute_result"
    }
   ],
   "source": [
    "# обучаем модель\n",
    "import warnings\n",
    "warnings.filterwarnings('ignore') # отключим предупреждения, чтобы не отвлекали\n",
    "logreg_search.fit(features_train,target_train)"
   ]
  },
  {
   "cell_type": "code",
   "execution_count": 47,
   "metadata": {},
   "outputs": [
    {
     "data": {
      "text/plain": [
       "{'C': 0.1, 'penalty': 'l2', 'solver': 'liblinear'}"
      ]
     },
     "execution_count": 47,
     "metadata": {},
     "output_type": "execute_result"
    }
   ],
   "source": [
    "# подобранная модель\n",
    "logreg_search.best_params_"
   ]
  },
  {
   "cell_type": "code",
   "execution_count": 48,
   "metadata": {},
   "outputs": [
    {
     "data": {
      "text/plain": [
       "0.744945567651633"
      ]
     },
     "execution_count": 48,
     "metadata": {},
     "output_type": "execute_result"
    }
   ],
   "source": [
    "# проверим на валидационной выборке\n",
    "predictions_valid = logreg_search.predict(features_valid)\n",
    "accuracy_logreg_search = accuracy_score(predictions_valid, target_valid)\n",
    "accuracy_logreg_search"
   ]
  },
  {
   "cell_type": "markdown",
   "metadata": {},
   "source": [
    "На валидационной выборке данная модель показала точность немного лучше, чем наша изначвальная. В целом модели логистической регрессии у нас на валидационной выборке проигрывают моделям дерева решений и случайного леса. "
   ]
  },
  {
   "cell_type": "markdown",
   "metadata": {},
   "source": [
    "#### Cross-validation"
   ]
  },
  {
   "cell_type": "code",
   "execution_count": 49,
   "metadata": {},
   "outputs": [
    {
     "data": {
      "text/plain": [
       "array([0.72621359, 0.75291829, 0.74124514, 0.75486381, 0.73735409])"
      ]
     },
     "metadata": {},
     "output_type": "display_data"
    },
    {
     "data": {
      "text/plain": [
       "0.7425189830380416"
      ]
     },
     "execution_count": 49,
     "metadata": {},
     "output_type": "execute_result"
    }
   ],
   "source": [
    "# считаем точность по разбиениям\n",
    "logreg = LogisticRegression(solver='lbfgs',  random_state=42, max_iter=1000)\n",
    "scores = cross_val_score(logreg, features_train2, target_train2, cv=5)\n",
    "display(scores)\n",
    "scores.mean()"
   ]
  },
  {
   "cell_type": "markdown",
   "metadata": {},
   "source": [
    "Всё равно точнось логистической регрессии в данной задаче уступает моделям решающего дерева и случайного леса."
   ]
  },
  {
   "cell_type": "markdown",
   "metadata": {},
   "source": [
    "В данном разделе я рассмотрела три класса моделей для задачи классификации: модель решающего дерева. модель случайного леса и модель логистической регрессии.\n",
    "Наибольшую точность на валидационной выборке показала модель случайного леса глубиной 8 с 19 деревьями.\n",
    "Из класса моделей решающих деревьев наиболее перспективным кажется дерево глубиной 5, которое я нашла с помощью grid search.\n",
    "Для модели случайного леса я также провела подсчёт OOB score и оптимальный лес тогда состоял из 27 деревьев с максимальной глубиной 7. \n",
    "Логистическая регрессия оказалась менее точной и не преодолела порог точности в 0.75.\n",
    "\n",
    "По результатам исследования модели, наилучшей моделью с точки зрения тестовой выборки оказалась модель случайного леса из 29 деревьев с максимальной глубиной 9."
   ]
  },
  {
   "cell_type": "markdown",
   "metadata": {},
   "source": [
    "## Проверьте модель на тестовой выборке"
   ]
  },
  {
   "cell_type": "markdown",
   "metadata": {},
   "source": [
    "Наша модель - это модель случайного леса из 29 деревьев с глубиной 9. Проверим, какую точность она показывает на тестовой выборке."
   ]
  },
  {
   "cell_type": "code",
   "execution_count": 64,
   "metadata": {},
   "outputs": [
    {
     "data": {
      "text/plain": [
       "0.8087091757387247"
      ]
     },
     "execution_count": 64,
     "metadata": {},
     "output_type": "execute_result"
    }
   ],
   "source": [
    "# accuracy\n",
    "predictions_test = forest_cross.predict(features_test)\n",
    "accuracy_test = accuracy_score(predictions_test, target_test)\n",
    "accuracy_test"
   ]
  },
  {
   "cell_type": "markdown",
   "metadata": {},
   "source": [
    "Случайный лес на тестовой выборке тоже показывает хорошую точность."
   ]
  },
  {
   "cell_type": "markdown",
   "metadata": {},
   "source": [
    "В данном разделе я протестировала отобранную моедль на тестовой выборке. Точность на тестовой выборке тоже высокая, наша модель не переобучена. "
   ]
  },
  {
   "cell_type": "markdown",
   "metadata": {},
   "source": [
    "## (бонус) Проверьте модели на адекватность"
   ]
  },
  {
   "cell_type": "markdown",
   "metadata": {},
   "source": [
    "Сравним модель с какими-то другими наивными способами классификации."
   ]
  },
  {
   "cell_type": "markdown",
   "metadata": {},
   "source": [
    "### Случайная классификация"
   ]
  },
  {
   "cell_type": "markdown",
   "metadata": {},
   "source": [
    "Во-первых, я сравню модель со случайной классификацией, где тарифы просто присваиваются человеку случайным образом с вероятностью 0.5"
   ]
  },
  {
   "cell_type": "code",
   "execution_count": 65,
   "metadata": {},
   "outputs": [],
   "source": [
    "# случайно зададим тарифы\n",
    "random_tariff = bernoulli.rvs(p=0.5, size = len(target_test))"
   ]
  },
  {
   "cell_type": "markdown",
   "metadata": {},
   "source": [
    "Теперь оценим, какую точность даст такое случайное распределение тарифов"
   ]
  },
  {
   "cell_type": "code",
   "execution_count": 66,
   "metadata": {},
   "outputs": [
    {
     "data": {
      "text/plain": [
       "0.49300155520995337"
      ]
     },
     "execution_count": 66,
     "metadata": {},
     "output_type": "execute_result"
    }
   ],
   "source": [
    "# accuracy\n",
    "accuracy_random = accuracy_score(random_tariff, target_test)\n",
    "accuracy_random"
   ]
  },
  {
   "cell_type": "markdown",
   "metadata": {},
   "source": [
    "Если бы наша модель просто случайно распределяла тарифы, то точность была бы лишь около 50%. Модели, которые мы обучали и отобрали, имеют точность намного выше."
   ]
  },
  {
   "cell_type": "markdown",
   "metadata": {},
   "source": [
    "### Dummy Classifier"
   ]
  },
  {
   "cell_type": "markdown",
   "metadata": {},
   "source": [
    "Сравню теперь нашу модель с разными опциями наивной классификации"
   ]
  },
  {
   "cell_type": "code",
   "execution_count": 68,
   "metadata": {},
   "outputs": [
    {
     "data": {
      "text/plain": [
       "0.6936236391912908"
      ]
     },
     "execution_count": 68,
     "metadata": {},
     "output_type": "execute_result"
    }
   ],
   "source": [
    "# Самый частый класс\n",
    "dummy_clf = DummyClassifier(strategy=\"most_frequent\")\n",
    "dummy_clf.fit(features_train2, target_train2)\n",
    "predictions = dummy_clf.predict(features_test)\n",
    "accuracy_dummy = accuracy_score(target_test, predictions)\n",
    "accuracy_dummy"
   ]
  },
  {
   "cell_type": "markdown",
   "metadata": {},
   "source": [
    "Действительно, такая наивная модель всё время предстказывала, что пользователь будет из тарифа смарт, потому что их большинство, в том числе и в тренировочной выборке. Но это будет верно лишь в 70% случаев, а наша модель более точная."
   ]
  },
  {
   "cell_type": "markdown",
   "metadata": {},
   "source": [
    "Проверка на адекватность показала, что наши модели адекватные и работают лучше, чем просто случайное присвоение тарифов, и лучше, чем всем без разбора присваивать наиболее распространённый тариф."
   ]
  },
  {
   "cell_type": "markdown",
   "metadata": {},
   "source": [
    "В данном проекте я построила и сравнила модели классификации на пользователей тарифов Ультра и пользователей тарифов Смарт. \n",
    "\n",
    "В первой части я загрузила данные и немного их исследовала. Таблица корреляций показала, что общее колличество минут разговора и число звонков очень сильно скоррелированы друг с другом, как будто бы одна является практически функцией от другой. Но при этом, со средней длиной разговора они скоррелированы не очень сильно, поэтому я ввела новую перемненную со средней длиной разговора. Я также перевела мб в гб.\n",
    "\n",
    "В следующей части я разбила данные на выборки: я создала первый набор данных, который я разбила на тренировочную, валидационную и тестовую выборки в пропорции 3:1:1. Я так же создала второй набор данных, которые разбила лишь на тренировочную и тествую выборки, потому что их я использовала в моделях с другим способом валидации. При разбиении на выборки я сохранила пропорции классов внутри подвыборок.\n",
    "\n",
    "Далее я исследовала три основных класса моделей классификации: дерево решений, случайный лес и логистическую регрессию. В каждом классе моделей я 1) перебирала гиперпараметры, сравнивая полученную точность на валидационной выборке; 2)применяла gridsearch на обучающей выборке для подбора гиперпараметров; и 3) использовала кросс-валидацию. В модели случайного леса я дополнительно использовала oob score для отбора модели. \n",
    "\n",
    "В результате сравнения точность разных моделей на валидационной выборке, я остановила свой выбор на модели случайного леса.\n",
    "\n",
    "Отобранная модель показали высокую точность на тестовой выборке, то есть модель не была переобучена.\n",
    "\n",
    "Модель также прошли проверку на адекватность и показала намного лучшую точность, чем просто случайное присвоение классов либо же присвоение наиболее частого класса для всех."
   ]
  }
 ],
 "metadata": {
  "ExecuteTimeLog": [
   {
    "duration": 381,
    "start_time": "2023-04-21T19:18:54.224Z"
   },
   {
    "duration": 80,
    "start_time": "2023-04-21T19:19:40.761Z"
   },
   {
    "duration": 45,
    "start_time": "2023-04-21T19:20:05.458Z"
   },
   {
    "duration": 47,
    "start_time": "2023-04-21T19:20:21.911Z"
   },
   {
    "duration": 75,
    "start_time": "2023-04-21T19:20:37.741Z"
   },
   {
    "duration": 11,
    "start_time": "2023-04-21T19:20:55.042Z"
   },
   {
    "duration": 420,
    "start_time": "2023-04-22T11:20:58.756Z"
   },
   {
    "duration": 138,
    "start_time": "2023-04-22T11:20:59.179Z"
   },
   {
    "duration": 15,
    "start_time": "2023-04-22T11:21:01.677Z"
   },
   {
    "duration": 692,
    "start_time": "2023-04-22T11:25:28.163Z"
   },
   {
    "duration": 105,
    "start_time": "2023-04-22T11:28:40.448Z"
   },
   {
    "duration": 5,
    "start_time": "2023-04-22T11:28:50.390Z"
   },
   {
    "duration": 14,
    "start_time": "2023-04-22T11:28:54.064Z"
   },
   {
    "duration": 7,
    "start_time": "2023-04-22T11:28:59.628Z"
   },
   {
    "duration": 5,
    "start_time": "2023-04-22T11:29:03.698Z"
   },
   {
    "duration": 7,
    "start_time": "2023-04-22T11:33:36.784Z"
   },
   {
    "duration": 19,
    "start_time": "2023-04-22T11:33:41.567Z"
   },
   {
    "duration": 17,
    "start_time": "2023-04-22T11:33:52.394Z"
   },
   {
    "duration": 17,
    "start_time": "2023-04-22T11:33:58.551Z"
   },
   {
    "duration": 17,
    "start_time": "2023-04-22T11:34:39.404Z"
   },
   {
    "duration": 11,
    "start_time": "2023-04-22T11:34:43.883Z"
   },
   {
    "duration": 10,
    "start_time": "2023-04-22T11:35:05.682Z"
   },
   {
    "duration": 1122,
    "start_time": "2023-04-22T16:11:38.400Z"
   },
   {
    "duration": 143,
    "start_time": "2023-04-22T16:11:39.524Z"
   },
   {
    "duration": 11,
    "start_time": "2023-04-22T16:11:39.669Z"
   },
   {
    "duration": 4,
    "start_time": "2023-04-22T16:11:39.681Z"
   },
   {
    "duration": 13,
    "start_time": "2023-04-22T16:11:39.687Z"
   },
   {
    "duration": 286,
    "start_time": "2023-04-22T16:26:36.172Z"
   },
   {
    "duration": 145,
    "start_time": "2023-04-22T16:28:34.130Z"
   },
   {
    "duration": 150,
    "start_time": "2023-04-22T16:28:40.386Z"
   },
   {
    "duration": 214,
    "start_time": "2023-04-22T16:29:11.511Z"
   },
   {
    "duration": 5,
    "start_time": "2023-04-22T16:32:27.470Z"
   },
   {
    "duration": 13,
    "start_time": "2023-04-22T16:32:35.747Z"
   },
   {
    "duration": 30,
    "start_time": "2023-04-22T16:34:15.899Z"
   },
   {
    "duration": 8,
    "start_time": "2023-04-22T16:34:33.229Z"
   },
   {
    "duration": 7,
    "start_time": "2023-04-22T16:35:31.380Z"
   },
   {
    "duration": 1292,
    "start_time": "2023-04-22T16:37:40.530Z"
   },
   {
    "duration": 16,
    "start_time": "2023-04-22T16:37:47.874Z"
   },
   {
    "duration": 4,
    "start_time": "2023-04-22T16:37:49.946Z"
   },
   {
    "duration": 17,
    "start_time": "2023-04-22T16:37:59.695Z"
   },
   {
    "duration": 3,
    "start_time": "2023-04-22T16:38:10.930Z"
   },
   {
    "duration": 42,
    "start_time": "2023-04-22T16:38:10.935Z"
   },
   {
    "duration": 12,
    "start_time": "2023-04-22T16:38:10.979Z"
   },
   {
    "duration": 13,
    "start_time": "2023-04-22T16:38:10.993Z"
   },
   {
    "duration": 10,
    "start_time": "2023-04-22T16:38:11.008Z"
   },
   {
    "duration": 27,
    "start_time": "2023-04-22T16:38:11.020Z"
   },
   {
    "duration": 12,
    "start_time": "2023-04-22T16:38:15.746Z"
   },
   {
    "duration": 16,
    "start_time": "2023-04-22T16:38:24.511Z"
   },
   {
    "duration": 4,
    "start_time": "2023-04-22T16:38:47.876Z"
   },
   {
    "duration": 10,
    "start_time": "2023-04-22T16:38:57.550Z"
   },
   {
    "duration": 218,
    "start_time": "2023-04-22T16:39:17.781Z"
   },
   {
    "duration": 4,
    "start_time": "2023-04-22T16:41:52.893Z"
   },
   {
    "duration": 5,
    "start_time": "2023-04-22T16:42:28.465Z"
   },
   {
    "duration": 19,
    "start_time": "2023-04-22T16:42:32.460Z"
   },
   {
    "duration": 16,
    "start_time": "2023-04-22T16:42:47.564Z"
   },
   {
    "duration": 4,
    "start_time": "2023-04-22T16:42:58.978Z"
   },
   {
    "duration": 11,
    "start_time": "2023-04-22T16:43:01.152Z"
   },
   {
    "duration": 140,
    "start_time": "2023-04-22T16:43:13.032Z"
   },
   {
    "duration": 205,
    "start_time": "2023-04-22T16:43:17.492Z"
   },
   {
    "duration": 260,
    "start_time": "2023-04-22T16:44:02.565Z"
   },
   {
    "duration": 259,
    "start_time": "2023-04-22T16:44:22.509Z"
   },
   {
    "duration": 359,
    "start_time": "2023-04-22T16:44:28.912Z"
   },
   {
    "duration": 212,
    "start_time": "2023-04-22T16:45:23.530Z"
   },
   {
    "duration": 183,
    "start_time": "2023-04-22T16:47:12.337Z"
   },
   {
    "duration": 136,
    "start_time": "2023-04-22T16:47:30.250Z"
   },
   {
    "duration": 235,
    "start_time": "2023-04-22T16:47:40.447Z"
   },
   {
    "duration": 224,
    "start_time": "2023-04-22T16:52:00.834Z"
   },
   {
    "duration": 234,
    "start_time": "2023-04-22T16:52:54.092Z"
   },
   {
    "duration": 377,
    "start_time": "2023-04-22T16:53:22.941Z"
   },
   {
    "duration": 340,
    "start_time": "2023-04-22T16:53:32.603Z"
   },
   {
    "duration": 225,
    "start_time": "2023-04-22T16:56:48.990Z"
   },
   {
    "duration": 311,
    "start_time": "2023-04-22T16:56:58.177Z"
   },
   {
    "duration": 219,
    "start_time": "2023-04-22T16:57:32.155Z"
   },
   {
    "duration": 236,
    "start_time": "2023-04-22T16:57:48.406Z"
   },
   {
    "duration": 221,
    "start_time": "2023-04-22T16:57:56.244Z"
   },
   {
    "duration": 252,
    "start_time": "2023-04-22T17:02:37.671Z"
   },
   {
    "duration": 234,
    "start_time": "2023-04-22T17:03:18.150Z"
   },
   {
    "duration": 239,
    "start_time": "2023-04-22T17:04:04.952Z"
   },
   {
    "duration": 230,
    "start_time": "2023-04-22T17:04:15.941Z"
   },
   {
    "duration": 252,
    "start_time": "2023-04-22T17:04:51.327Z"
   },
   {
    "duration": 235,
    "start_time": "2023-04-22T17:05:20.825Z"
   },
   {
    "duration": 230,
    "start_time": "2023-04-22T17:07:16.264Z"
   },
   {
    "duration": 10,
    "start_time": "2023-04-22T17:13:08.360Z"
   },
   {
    "duration": 189,
    "start_time": "2023-04-22T17:14:11.578Z"
   },
   {
    "duration": 58,
    "start_time": "2023-04-22T17:14:13.491Z"
   },
   {
    "duration": 4,
    "start_time": "2023-04-22T17:19:52.039Z"
   },
   {
    "duration": 71,
    "start_time": "2023-04-22T17:19:52.046Z"
   },
   {
    "duration": 12,
    "start_time": "2023-04-22T17:19:52.119Z"
   },
   {
    "duration": 26,
    "start_time": "2023-04-22T17:19:52.132Z"
   },
   {
    "duration": 37,
    "start_time": "2023-04-22T17:19:52.160Z"
   },
   {
    "duration": 36,
    "start_time": "2023-04-22T17:19:52.199Z"
   },
   {
    "duration": 25,
    "start_time": "2023-04-22T17:19:52.238Z"
   },
   {
    "duration": 55,
    "start_time": "2023-04-22T17:19:52.265Z"
   },
   {
    "duration": 41,
    "start_time": "2023-04-22T17:19:52.322Z"
   },
   {
    "duration": 6,
    "start_time": "2023-04-22T17:20:12.402Z"
   },
   {
    "duration": 11,
    "start_time": "2023-04-22T17:20:14.673Z"
   },
   {
    "duration": 12,
    "start_time": "2023-04-22T17:20:21.570Z"
   },
   {
    "duration": 13,
    "start_time": "2023-04-22T17:20:33.623Z"
   },
   {
    "duration": 409,
    "start_time": "2023-04-22T17:20:42.275Z"
   },
   {
    "duration": 269,
    "start_time": "2023-04-22T17:20:45.068Z"
   },
   {
    "duration": 221,
    "start_time": "2023-04-22T17:20:48.341Z"
   },
   {
    "duration": 235,
    "start_time": "2023-04-22T17:21:04.509Z"
   },
   {
    "duration": 41,
    "start_time": "2023-04-22T18:33:36.841Z"
   },
   {
    "duration": 3,
    "start_time": "2023-04-22T18:33:54.628Z"
   },
   {
    "duration": 3,
    "start_time": "2023-04-22T18:34:33.445Z"
   },
   {
    "duration": 21,
    "start_time": "2023-04-22T18:36:07.514Z"
   },
   {
    "duration": 3,
    "start_time": "2023-04-22T18:36:23.374Z"
   },
   {
    "duration": 11,
    "start_time": "2023-04-22T18:37:45.504Z"
   },
   {
    "duration": 6,
    "start_time": "2023-04-22T18:39:47.638Z"
   },
   {
    "duration": 17,
    "start_time": "2023-04-22T18:39:51.991Z"
   },
   {
    "duration": 12,
    "start_time": "2023-04-22T18:39:58.359Z"
   },
   {
    "duration": 13,
    "start_time": "2023-04-22T18:40:01.897Z"
   },
   {
    "duration": 15,
    "start_time": "2023-04-22T18:45:00.984Z"
   },
   {
    "duration": 3,
    "start_time": "2023-04-22T18:46:14.682Z"
   },
   {
    "duration": 4,
    "start_time": "2023-04-22T18:47:02.195Z"
   },
   {
    "duration": 74,
    "start_time": "2023-04-22T19:49:36.980Z"
   },
   {
    "duration": 79,
    "start_time": "2023-04-22T19:49:48.171Z"
   },
   {
    "duration": 66,
    "start_time": "2023-04-22T19:49:59.742Z"
   },
   {
    "duration": 74,
    "start_time": "2023-04-22T19:50:28.664Z"
   },
   {
    "duration": 78,
    "start_time": "2023-04-22T19:50:34.144Z"
   },
   {
    "duration": 84,
    "start_time": "2023-04-22T19:50:47.197Z"
   },
   {
    "duration": 125,
    "start_time": "2023-04-22T19:51:15.551Z"
   },
   {
    "duration": 143,
    "start_time": "2023-04-22T19:51:44.120Z"
   },
   {
    "duration": 132,
    "start_time": "2023-04-22T19:52:05.355Z"
   },
   {
    "duration": 18,
    "start_time": "2023-04-22T19:58:02.755Z"
   },
   {
    "duration": 93,
    "start_time": "2023-04-22T20:01:16.591Z"
   },
   {
    "duration": 2913,
    "start_time": "2023-04-22T20:03:31.974Z"
   },
   {
    "duration": 6,
    "start_time": "2023-04-22T20:03:40.538Z"
   },
   {
    "duration": 138,
    "start_time": "2023-04-22T20:03:58.644Z"
   },
   {
    "duration": 4,
    "start_time": "2023-04-22T20:04:03.155Z"
   },
   {
    "duration": 5,
    "start_time": "2023-04-22T20:04:21.054Z"
   },
   {
    "duration": 66,
    "start_time": "2023-04-22T20:04:44.950Z"
   },
   {
    "duration": 161,
    "start_time": "2023-04-22T20:05:41.042Z"
   },
   {
    "duration": 599,
    "start_time": "2023-04-22T20:05:55.959Z"
   },
   {
    "duration": 1444,
    "start_time": "2023-04-22T20:06:06.856Z"
   },
   {
    "duration": 3473,
    "start_time": "2023-04-22T20:06:21.203Z"
   },
   {
    "duration": 5747,
    "start_time": "2023-04-22T20:06:33.413Z"
   },
   {
    "duration": 140,
    "start_time": "2023-04-22T20:11:16.219Z"
   },
   {
    "duration": 8,
    "start_time": "2023-04-22T20:24:35.894Z"
   },
   {
    "duration": 9,
    "start_time": "2023-04-22T20:24:44.958Z"
   },
   {
    "duration": 10,
    "start_time": "2023-04-22T20:24:48.144Z"
   },
   {
    "duration": 29,
    "start_time": "2023-04-22T20:31:28.755Z"
   },
   {
    "duration": 33,
    "start_time": "2023-04-22T20:31:53.976Z"
   },
   {
    "duration": 80,
    "start_time": "2023-04-22T20:31:57.871Z"
   },
   {
    "duration": 142,
    "start_time": "2023-04-22T20:32:20.941Z"
   },
   {
    "duration": 122,
    "start_time": "2023-04-22T20:32:33.135Z"
   },
   {
    "duration": 114,
    "start_time": "2023-04-22T20:32:37.445Z"
   },
   {
    "duration": 121,
    "start_time": "2023-04-22T20:32:40.482Z"
   },
   {
    "duration": 113,
    "start_time": "2023-04-22T20:32:56.052Z"
   },
   {
    "duration": 59,
    "start_time": "2023-04-22T20:34:56.252Z"
   },
   {
    "duration": 1344,
    "start_time": "2023-04-22T20:35:05.978Z"
   },
   {
    "duration": 9504,
    "start_time": "2023-04-22T20:36:11.901Z"
   },
   {
    "duration": 8066,
    "start_time": "2023-04-22T20:36:49.082Z"
   },
   {
    "duration": 8728,
    "start_time": "2023-04-22T20:37:18.164Z"
   },
   {
    "duration": 8045,
    "start_time": "2023-04-22T20:37:35.597Z"
   },
   {
    "duration": 8,
    "start_time": "2023-04-22T20:43:46.070Z"
   },
   {
    "duration": 11,
    "start_time": "2023-04-22T20:44:01.270Z"
   },
   {
    "duration": 11,
    "start_time": "2023-04-22T20:44:17.830Z"
   },
   {
    "duration": 16,
    "start_time": "2023-04-22T20:45:15.213Z"
   },
   {
    "duration": 7,
    "start_time": "2023-04-22T20:45:36.088Z"
   },
   {
    "duration": 11,
    "start_time": "2023-04-22T20:45:41.478Z"
   },
   {
    "duration": 10,
    "start_time": "2023-04-22T20:45:46.104Z"
   },
   {
    "duration": 7629,
    "start_time": "2023-04-22T20:46:04.246Z"
   },
   {
    "duration": 6228,
    "start_time": "2023-04-22T20:47:35.788Z"
   },
   {
    "duration": 8489,
    "start_time": "2023-04-22T20:48:42.595Z"
   },
   {
    "duration": 146,
    "start_time": "2023-04-22T21:06:31.139Z"
   },
   {
    "duration": 14,
    "start_time": "2023-04-22T21:08:13.889Z"
   },
   {
    "duration": 25,
    "start_time": "2023-04-22T21:08:34.447Z"
   },
   {
    "duration": 9,
    "start_time": "2023-04-22T21:08:45.195Z"
   },
   {
    "duration": 19,
    "start_time": "2023-04-22T21:09:42.441Z"
   },
   {
    "duration": 4,
    "start_time": "2023-04-22T21:09:47.697Z"
   },
   {
    "duration": 11,
    "start_time": "2023-04-22T21:10:17.762Z"
   },
   {
    "duration": 3,
    "start_time": "2023-04-22T21:10:23.455Z"
   },
   {
    "duration": 5,
    "start_time": "2023-04-22T21:10:42.466Z"
   },
   {
    "duration": 1686,
    "start_time": "2023-04-22T21:11:44.178Z"
   },
   {
    "duration": 1839,
    "start_time": "2023-04-22T21:12:02.556Z"
   },
   {
    "duration": 1921,
    "start_time": "2023-04-22T21:12:15.756Z"
   },
   {
    "duration": 1819,
    "start_time": "2023-04-22T21:12:52.835Z"
   },
   {
    "duration": 2063,
    "start_time": "2023-04-22T21:13:35.039Z"
   },
   {
    "duration": 1868,
    "start_time": "2023-04-22T21:13:44.272Z"
   },
   {
    "duration": 1916,
    "start_time": "2023-04-22T21:13:53.549Z"
   },
   {
    "duration": 1976,
    "start_time": "2023-04-22T21:15:00.889Z"
   },
   {
    "duration": 485,
    "start_time": "2023-04-22T21:18:46.860Z"
   },
   {
    "duration": 1515,
    "start_time": "2023-04-23T11:54:20.825Z"
   },
   {
    "duration": 116,
    "start_time": "2023-04-23T11:54:22.342Z"
   },
   {
    "duration": 9,
    "start_time": "2023-04-23T11:54:22.460Z"
   },
   {
    "duration": 9,
    "start_time": "2023-04-23T11:54:22.471Z"
   },
   {
    "duration": 5,
    "start_time": "2023-04-23T11:54:22.482Z"
   },
   {
    "duration": 13,
    "start_time": "2023-04-23T11:54:22.488Z"
   },
   {
    "duration": 4,
    "start_time": "2023-04-23T11:54:22.505Z"
   },
   {
    "duration": 5,
    "start_time": "2023-04-23T11:54:22.520Z"
   },
   {
    "duration": 117,
    "start_time": "2023-04-23T11:54:22.526Z"
   },
   {
    "duration": 0,
    "start_time": "2023-04-23T11:54:22.644Z"
   },
   {
    "duration": 0,
    "start_time": "2023-04-23T11:54:22.646Z"
   },
   {
    "duration": 0,
    "start_time": "2023-04-23T11:54:22.647Z"
   },
   {
    "duration": 0,
    "start_time": "2023-04-23T11:54:22.647Z"
   },
   {
    "duration": 0,
    "start_time": "2023-04-23T11:54:22.649Z"
   },
   {
    "duration": 0,
    "start_time": "2023-04-23T11:54:22.649Z"
   },
   {
    "duration": 0,
    "start_time": "2023-04-23T11:54:22.651Z"
   },
   {
    "duration": 0,
    "start_time": "2023-04-23T11:54:22.652Z"
   },
   {
    "duration": 0,
    "start_time": "2023-04-23T11:54:22.652Z"
   },
   {
    "duration": 0,
    "start_time": "2023-04-23T11:54:22.653Z"
   },
   {
    "duration": 73,
    "start_time": "2023-04-23T11:56:28.977Z"
   },
   {
    "duration": 2,
    "start_time": "2023-04-23T11:58:15.661Z"
   },
   {
    "duration": 43,
    "start_time": "2023-04-23T11:58:15.666Z"
   },
   {
    "duration": 14,
    "start_time": "2023-04-23T11:58:15.710Z"
   },
   {
    "duration": 13,
    "start_time": "2023-04-23T11:58:15.725Z"
   },
   {
    "duration": 7,
    "start_time": "2023-04-23T11:58:15.740Z"
   },
   {
    "duration": 16,
    "start_time": "2023-04-23T11:58:15.786Z"
   },
   {
    "duration": 3,
    "start_time": "2023-04-23T11:58:15.805Z"
   },
   {
    "duration": 6,
    "start_time": "2023-04-23T11:58:15.812Z"
   },
   {
    "duration": 22,
    "start_time": "2023-04-23T11:58:15.820Z"
   },
   {
    "duration": 14,
    "start_time": "2023-04-23T11:58:15.843Z"
   },
   {
    "duration": 7,
    "start_time": "2023-04-23T11:58:15.859Z"
   },
   {
    "duration": 283,
    "start_time": "2023-04-23T11:58:15.893Z"
   },
   {
    "duration": 262,
    "start_time": "2023-04-23T11:58:16.177Z"
   },
   {
    "duration": 253,
    "start_time": "2023-04-23T11:58:16.441Z"
   },
   {
    "duration": 257,
    "start_time": "2023-04-23T11:58:16.696Z"
   },
   {
    "duration": 129,
    "start_time": "2023-04-23T11:58:16.955Z"
   },
   {
    "duration": 8670,
    "start_time": "2023-04-23T11:58:17.086Z"
   },
   {
    "duration": 6,
    "start_time": "2023-04-23T11:58:25.758Z"
   },
   {
    "duration": 7182,
    "start_time": "2023-04-23T11:58:25.767Z"
   },
   {
    "duration": 3,
    "start_time": "2023-04-23T12:00:14.608Z"
   },
   {
    "duration": 26,
    "start_time": "2023-04-23T12:05:20.985Z"
   },
   {
    "duration": 19,
    "start_time": "2023-04-23T12:05:28.631Z"
   },
   {
    "duration": 3,
    "start_time": "2023-04-23T12:24:20.165Z"
   },
   {
    "duration": 62,
    "start_time": "2023-04-23T12:24:51.414Z"
   },
   {
    "duration": 2749,
    "start_time": "2023-04-23T12:25:26.675Z"
   },
   {
    "duration": 4,
    "start_time": "2023-04-23T12:25:45.733Z"
   },
   {
    "duration": 3,
    "start_time": "2023-04-23T12:32:42.190Z"
   },
   {
    "duration": 2578,
    "start_time": "2023-04-23T12:33:30.069Z"
   },
   {
    "duration": 4,
    "start_time": "2023-04-23T12:33:35.865Z"
   },
   {
    "duration": 2408,
    "start_time": "2023-04-23T12:33:49.942Z"
   },
   {
    "duration": 4,
    "start_time": "2023-04-23T12:33:52.426Z"
   },
   {
    "duration": 10,
    "start_time": "2023-04-23T12:34:16.618Z"
   },
   {
    "duration": 1000,
    "start_time": "2023-04-23T12:37:28.936Z"
   },
   {
    "duration": 4,
    "start_time": "2023-04-23T12:37:51.130Z"
   },
   {
    "duration": 5,
    "start_time": "2023-04-23T12:39:20.843Z"
   },
   {
    "duration": 6,
    "start_time": "2023-04-23T12:39:26.579Z"
   },
   {
    "duration": 52,
    "start_time": "2023-04-23T12:40:26.918Z"
   },
   {
    "duration": 6,
    "start_time": "2023-04-23T12:40:38.664Z"
   },
   {
    "duration": 6,
    "start_time": "2023-04-23T12:41:35.522Z"
   },
   {
    "duration": 5,
    "start_time": "2023-04-23T12:47:39.869Z"
   },
   {
    "duration": 5,
    "start_time": "2023-04-23T12:47:59.717Z"
   },
   {
    "duration": 8,
    "start_time": "2023-04-23T12:48:35.242Z"
   },
   {
    "duration": 6,
    "start_time": "2023-04-23T12:48:58.150Z"
   },
   {
    "duration": 7,
    "start_time": "2023-04-23T12:49:11.834Z"
   },
   {
    "duration": 3,
    "start_time": "2023-04-23T12:52:28.781Z"
   },
   {
    "duration": 9,
    "start_time": "2023-04-23T12:53:11.935Z"
   },
   {
    "duration": 3,
    "start_time": "2023-04-23T12:53:17.161Z"
   },
   {
    "duration": 25284,
    "start_time": "2023-04-23T12:53:19.823Z"
   },
   {
    "duration": 5,
    "start_time": "2023-04-23T12:54:21.406Z"
   },
   {
    "duration": 4,
    "start_time": "2023-04-23T12:56:09.306Z"
   },
   {
    "duration": 13,
    "start_time": "2023-04-23T12:58:51.346Z"
   },
   {
    "duration": 3,
    "start_time": "2023-04-23T13:11:10.999Z"
   },
   {
    "duration": 3,
    "start_time": "2023-04-23T13:11:20.426Z"
   },
   {
    "duration": 3,
    "start_time": "2023-04-23T13:12:19.845Z"
   },
   {
    "duration": 3,
    "start_time": "2023-04-23T13:12:47.939Z"
   },
   {
    "duration": 3338,
    "start_time": "2023-04-23T13:13:37.302Z"
   },
   {
    "duration": 3396,
    "start_time": "2023-04-23T13:14:59.145Z"
   },
   {
    "duration": 3,
    "start_time": "2023-04-23T13:15:31.348Z"
   },
   {
    "duration": 6,
    "start_time": "2023-04-23T13:17:24.902Z"
   },
   {
    "duration": 6,
    "start_time": "2023-04-23T13:17:33.060Z"
   },
   {
    "duration": 8,
    "start_time": "2023-04-23T13:31:46.644Z"
   },
   {
    "duration": 6,
    "start_time": "2023-04-23T13:35:39.531Z"
   },
   {
    "duration": 3,
    "start_time": "2023-04-23T13:35:54.802Z"
   },
   {
    "duration": 3,
    "start_time": "2023-04-23T13:37:27.731Z"
   },
   {
    "duration": 13,
    "start_time": "2023-04-23T13:41:49.928Z"
   },
   {
    "duration": 281,
    "start_time": "2023-04-23T13:42:16.752Z"
   },
   {
    "duration": 3,
    "start_time": "2023-04-23T13:42:26.227Z"
   },
   {
    "duration": 3,
    "start_time": "2023-04-23T13:42:42.446Z"
   },
   {
    "duration": 44,
    "start_time": "2023-04-23T13:44:50.504Z"
   },
   {
    "duration": 5,
    "start_time": "2023-04-23T13:45:32.482Z"
   },
   {
    "duration": 25614,
    "start_time": "2023-04-23T13:51:08.400Z"
   },
   {
    "duration": 4,
    "start_time": "2023-04-23T13:51:46.006Z"
   },
   {
    "duration": 3,
    "start_time": "2023-04-23T13:52:11.947Z"
   },
   {
    "duration": 6,
    "start_time": "2023-04-23T13:55:12.687Z"
   },
   {
    "duration": 3,
    "start_time": "2023-04-23T14:04:50.314Z"
   },
   {
    "duration": 10,
    "start_time": "2023-04-23T14:04:51.693Z"
   },
   {
    "duration": 3,
    "start_time": "2023-04-23T14:05:03.402Z"
   },
   {
    "duration": 3620,
    "start_time": "2023-04-23T14:05:07.312Z"
   },
   {
    "duration": 4,
    "start_time": "2023-04-23T14:05:15.380Z"
   },
   {
    "duration": 6,
    "start_time": "2023-04-23T14:05:19.125Z"
   },
   {
    "duration": 13,
    "start_time": "2023-04-23T14:05:51.383Z"
   },
   {
    "duration": 86,
    "start_time": "2023-04-23T14:06:13.731Z"
   },
   {
    "duration": 86,
    "start_time": "2023-04-23T14:06:51.926Z"
   },
   {
    "duration": 3,
    "start_time": "2023-04-23T14:17:25.954Z"
   },
   {
    "duration": 7,
    "start_time": "2023-04-23T14:17:42.653Z"
   },
   {
    "duration": 7,
    "start_time": "2023-04-23T14:18:01.507Z"
   },
   {
    "duration": 8,
    "start_time": "2023-04-23T14:18:06.504Z"
   },
   {
    "duration": 2181,
    "start_time": "2023-04-23T21:13:51.425Z"
   },
   {
    "duration": 197,
    "start_time": "2023-04-23T21:13:53.609Z"
   },
   {
    "duration": 14,
    "start_time": "2023-04-23T21:13:53.808Z"
   },
   {
    "duration": 15,
    "start_time": "2023-04-23T21:13:53.825Z"
   },
   {
    "duration": 44,
    "start_time": "2023-04-23T21:13:53.850Z"
   },
   {
    "duration": 39,
    "start_time": "2023-04-23T21:13:53.896Z"
   },
   {
    "duration": 41,
    "start_time": "2023-04-23T21:13:53.938Z"
   },
   {
    "duration": 13,
    "start_time": "2023-04-23T21:13:53.985Z"
   },
   {
    "duration": 88,
    "start_time": "2023-04-23T21:13:54.001Z"
   },
   {
    "duration": 12,
    "start_time": "2023-04-23T21:13:54.092Z"
   },
   {
    "duration": 7,
    "start_time": "2023-04-23T21:13:54.106Z"
   },
   {
    "duration": 348,
    "start_time": "2023-04-23T21:13:54.115Z"
   },
   {
    "duration": 294,
    "start_time": "2023-04-23T21:13:54.465Z"
   },
   {
    "duration": 293,
    "start_time": "2023-04-23T21:13:54.761Z"
   },
   {
    "duration": 266,
    "start_time": "2023-04-23T21:13:55.062Z"
   },
   {
    "duration": 104,
    "start_time": "2023-04-23T21:13:55.330Z"
   },
   {
    "duration": 1702,
    "start_time": "2023-04-23T21:13:55.436Z"
   },
   {
    "duration": 16,
    "start_time": "2023-04-23T21:13:57.140Z"
   },
   {
    "duration": 54,
    "start_time": "2023-04-23T21:13:57.160Z"
   },
   {
    "duration": 11,
    "start_time": "2023-04-23T21:13:57.216Z"
   },
   {
    "duration": 451,
    "start_time": "2023-04-23T21:13:57.230Z"
   },
   {
    "duration": 6,
    "start_time": "2023-04-23T21:13:57.684Z"
   },
   {
    "duration": 10413,
    "start_time": "2023-04-23T21:13:57.692Z"
   },
   {
    "duration": 9052,
    "start_time": "2023-04-23T21:14:08.107Z"
   },
   {
    "duration": 6,
    "start_time": "2023-04-23T21:14:17.161Z"
   },
   {
    "duration": 35853,
    "start_time": "2023-04-23T21:14:17.169Z"
   },
   {
    "duration": 7,
    "start_time": "2023-04-23T21:14:53.024Z"
   },
   {
    "duration": 48,
    "start_time": "2023-04-23T21:14:53.044Z"
   },
   {
    "duration": 35444,
    "start_time": "2023-04-23T21:14:53.094Z"
   },
   {
    "duration": 17,
    "start_time": "2023-04-23T21:15:28.549Z"
   },
   {
    "duration": 61,
    "start_time": "2023-04-23T21:15:28.573Z"
   },
   {
    "duration": 4,
    "start_time": "2023-04-23T21:15:28.635Z"
   },
   {
    "duration": 36,
    "start_time": "2023-04-23T21:15:28.645Z"
   },
   {
    "duration": 4923,
    "start_time": "2023-04-23T21:15:28.683Z"
   },
   {
    "duration": 5,
    "start_time": "2023-04-23T21:15:33.609Z"
   },
   {
    "duration": 20,
    "start_time": "2023-04-23T21:15:33.616Z"
   },
   {
    "duration": 171,
    "start_time": "2023-04-23T21:15:33.638Z"
   },
   {
    "duration": 5,
    "start_time": "2023-04-23T21:18:19.483Z"
   },
   {
    "duration": 20,
    "start_time": "2023-04-23T21:19:13.938Z"
   },
   {
    "duration": 13,
    "start_time": "2023-04-23T21:20:44.268Z"
   },
   {
    "duration": 161,
    "start_time": "2023-04-23T21:21:37.475Z"
   },
   {
    "duration": 421,
    "start_time": "2023-04-23T21:22:56.939Z"
   },
   {
    "duration": 7,
    "start_time": "2023-04-23T21:22:58.813Z"
   },
   {
    "duration": 14,
    "start_time": "2023-04-23T21:23:34.322Z"
   },
   {
    "duration": 10,
    "start_time": "2023-04-23T21:32:31.073Z"
   },
   {
    "duration": 14,
    "start_time": "2023-04-23T21:32:39.237Z"
   },
   {
    "duration": 33,
    "start_time": "2023-04-23T21:45:10.642Z"
   },
   {
    "duration": 4,
    "start_time": "2023-04-23T21:45:18.815Z"
   },
   {
    "duration": 12,
    "start_time": "2023-04-23T21:46:39.837Z"
   },
   {
    "duration": 6,
    "start_time": "2023-04-23T21:46:47.820Z"
   },
   {
    "duration": 7,
    "start_time": "2023-04-23T21:46:56.840Z"
   },
   {
    "duration": 19,
    "start_time": "2023-04-23T21:47:55.647Z"
   },
   {
    "duration": 7,
    "start_time": "2023-04-23T21:48:00.609Z"
   },
   {
    "duration": 2891,
    "start_time": "2023-04-24T14:11:47.009Z"
   },
   {
    "duration": 180,
    "start_time": "2023-04-24T14:11:49.902Z"
   },
   {
    "duration": 16,
    "start_time": "2023-04-24T14:11:50.084Z"
   },
   {
    "duration": 67,
    "start_time": "2023-04-24T14:11:50.103Z"
   },
   {
    "duration": 8,
    "start_time": "2023-04-24T14:11:52.584Z"
   },
   {
    "duration": 19,
    "start_time": "2023-04-24T14:11:56.034Z"
   },
   {
    "duration": 5,
    "start_time": "2023-04-24T14:11:58.545Z"
   },
   {
    "duration": 8,
    "start_time": "2023-04-24T14:12:00.549Z"
   },
   {
    "duration": 85,
    "start_time": "2023-04-24T14:12:05.816Z"
   },
   {
    "duration": 15,
    "start_time": "2023-04-24T14:12:48.923Z"
   },
   {
    "duration": 8,
    "start_time": "2023-04-24T14:12:49.692Z"
   },
   {
    "duration": 1538,
    "start_time": "2023-04-24T19:27:47.732Z"
   },
   {
    "duration": 189,
    "start_time": "2023-04-24T19:27:49.272Z"
   },
   {
    "duration": 11,
    "start_time": "2023-04-24T19:27:49.462Z"
   },
   {
    "duration": 6,
    "start_time": "2023-04-24T19:27:49.475Z"
   },
   {
    "duration": 5,
    "start_time": "2023-04-24T19:27:49.482Z"
   },
   {
    "duration": 13,
    "start_time": "2023-04-24T19:27:49.489Z"
   },
   {
    "duration": 5,
    "start_time": "2023-04-24T19:27:49.504Z"
   },
   {
    "duration": 6,
    "start_time": "2023-04-24T19:27:49.510Z"
   },
   {
    "duration": 63,
    "start_time": "2023-04-24T19:27:49.517Z"
   },
   {
    "duration": 5,
    "start_time": "2023-04-24T19:28:23.057Z"
   },
   {
    "duration": 8,
    "start_time": "2023-04-24T19:29:52.117Z"
   },
   {
    "duration": 7,
    "start_time": "2023-04-24T19:29:54.012Z"
   },
   {
    "duration": 4,
    "start_time": "2023-04-24T19:35:45.803Z"
   },
   {
    "duration": 11,
    "start_time": "2023-04-24T19:38:08.177Z"
   },
   {
    "duration": 4,
    "start_time": "2023-04-24T19:38:20.215Z"
   },
   {
    "duration": 12,
    "start_time": "2023-04-24T19:38:21.606Z"
   },
   {
    "duration": 254,
    "start_time": "2023-04-24T19:38:53.455Z"
   },
   {
    "duration": 210,
    "start_time": "2023-04-24T19:38:57.342Z"
   },
   {
    "duration": 194,
    "start_time": "2023-04-24T19:39:00.298Z"
   },
   {
    "duration": 187,
    "start_time": "2023-04-24T19:39:04.573Z"
   },
   {
    "duration": 59,
    "start_time": "2023-04-24T19:39:16.103Z"
   },
   {
    "duration": 1119,
    "start_time": "2023-04-24T19:39:22.866Z"
   },
   {
    "duration": 6,
    "start_time": "2023-04-24T19:39:27.595Z"
   },
   {
    "duration": 7,
    "start_time": "2023-04-24T19:39:31.406Z"
   },
   {
    "duration": 99,
    "start_time": "2023-04-24T19:55:55.504Z"
   },
   {
    "duration": 5,
    "start_time": "2023-04-24T19:56:03.215Z"
   },
   {
    "duration": 8,
    "start_time": "2023-04-24T19:56:23.635Z"
   },
   {
    "duration": 288,
    "start_time": "2023-04-24T19:56:41.296Z"
   },
   {
    "duration": 5,
    "start_time": "2023-04-24T19:56:44.505Z"
   },
   {
    "duration": 10,
    "start_time": "2023-04-24T19:56:58.907Z"
   },
   {
    "duration": 251,
    "start_time": "2023-04-24T19:58:55.964Z"
   },
   {
    "duration": 340,
    "start_time": "2023-04-24T19:59:03.872Z"
   },
   {
    "duration": 416,
    "start_time": "2023-04-24T19:59:22.099Z"
   },
   {
    "duration": 8384,
    "start_time": "2023-04-24T20:00:00.785Z"
   },
   {
    "duration": 7558,
    "start_time": "2023-04-24T20:00:54.001Z"
   },
   {
    "duration": 3,
    "start_time": "2023-04-24T20:02:07.299Z"
   },
   {
    "duration": 27718,
    "start_time": "2023-04-24T20:02:08.926Z"
   },
   {
    "duration": 5,
    "start_time": "2023-04-24T20:02:40.110Z"
   },
   {
    "duration": 13,
    "start_time": "2023-04-24T20:02:45.400Z"
   },
   {
    "duration": 30227,
    "start_time": "2023-04-24T20:03:19.027Z"
   },
   {
    "duration": 5,
    "start_time": "2023-04-24T20:03:54.084Z"
   },
   {
    "duration": 6,
    "start_time": "2023-04-24T20:04:10.432Z"
   },
   {
    "duration": 22,
    "start_time": "2023-04-24T20:05:24.959Z"
   },
   {
    "duration": 3,
    "start_time": "2023-04-24T20:05:28.712Z"
   },
   {
    "duration": 3,
    "start_time": "2023-04-24T20:05:31.530Z"
   },
   {
    "duration": 4381,
    "start_time": "2023-04-24T20:05:33.501Z"
   },
   {
    "duration": 4,
    "start_time": "2023-04-24T20:05:43.574Z"
   },
   {
    "duration": 6,
    "start_time": "2023-04-24T20:05:47.558Z"
   },
   {
    "duration": 98,
    "start_time": "2023-04-24T20:06:12.325Z"
   },
   {
    "duration": 453,
    "start_time": "2023-04-24T20:12:11.252Z"
   },
   {
    "duration": 113,
    "start_time": "2023-04-24T20:14:21.320Z"
   },
   {
    "duration": 122,
    "start_time": "2023-04-24T20:14:32.592Z"
   },
   {
    "duration": 128,
    "start_time": "2023-04-24T20:14:46.178Z"
   },
   {
    "duration": 13,
    "start_time": "2023-04-24T20:15:24.332Z"
   },
   {
    "duration": 137,
    "start_time": "2023-04-24T20:15:29.189Z"
   },
   {
    "duration": 145,
    "start_time": "2023-04-24T20:15:41.174Z"
   },
   {
    "duration": 128,
    "start_time": "2023-04-24T20:16:51.657Z"
   },
   {
    "duration": 130,
    "start_time": "2023-04-24T20:16:56.031Z"
   },
   {
    "duration": 254,
    "start_time": "2023-04-24T20:17:11.564Z"
   },
   {
    "duration": 148,
    "start_time": "2023-04-24T20:17:16.741Z"
   },
   {
    "duration": 18,
    "start_time": "2023-04-24T20:22:06.237Z"
   },
   {
    "duration": 9,
    "start_time": "2023-04-24T20:22:47.358Z"
   },
   {
    "duration": 105,
    "start_time": "2023-04-24T20:22:53.706Z"
   },
   {
    "duration": 12,
    "start_time": "2023-04-24T20:22:59.545Z"
   },
   {
    "duration": 3,
    "start_time": "2023-04-24T20:24:29.356Z"
   },
   {
    "duration": 5,
    "start_time": "2023-04-24T20:24:31.135Z"
   },
   {
    "duration": 4,
    "start_time": "2023-04-24T20:27:39.855Z"
   },
   {
    "duration": 8,
    "start_time": "2023-04-24T20:31:58.960Z"
   },
   {
    "duration": 5,
    "start_time": "2023-04-24T20:33:01.616Z"
   }
  ],
  "kernelspec": {
   "display_name": "Python 3 (ipykernel)",
   "language": "python",
   "name": "python3"
  },
  "language_info": {
   "codemirror_mode": {
    "name": "ipython",
    "version": 3
   },
   "file_extension": ".py",
   "mimetype": "text/x-python",
   "name": "python",
   "nbconvert_exporter": "python",
   "pygments_lexer": "ipython3",
   "version": "3.9.13"
  },
  "toc": {
   "base_numbering": 1,
   "nav_menu": {},
   "number_sections": true,
   "sideBar": true,
   "skip_h1_title": true,
   "title_cell": "Table of Contents",
   "title_sidebar": "Contents",
   "toc_cell": false,
   "toc_position": {},
   "toc_section_display": true,
   "toc_window_display": true
  }
 },
 "nbformat": 4,
 "nbformat_minor": 2
}
