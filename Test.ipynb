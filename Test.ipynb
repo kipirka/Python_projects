{
 "cells": [
  {
   "cell_type": "code",
   "execution_count": 2,
   "id": "8d73673e",
   "metadata": {},
   "outputs": [
    {
     "name": "stdout",
     "output_type": "stream",
     "text": [
      "1\n"
     ]
    }
   ],
   "source": [
    "if 'hello':\n",
    "    print(1)\n",
    "else:\n",
    "    print(0)"
   ]
  },
  {
   "cell_type": "code",
   "execution_count": 2,
   "id": "aadc8666",
   "metadata": {},
   "outputs": [
    {
     "data": {
      "text/plain": [
       "'test'"
      ]
     },
     "execution_count": 2,
     "metadata": {},
     "output_type": "execute_result"
    }
   ],
   "source": [
    "\"test\""
   ]
  },
  {
   "cell_type": "code",
   "execution_count": 142,
   "id": "53fabbf0",
   "metadata": {},
   "outputs": [],
   "source": [
    "def fibonacchi(n):\n",
    "    list=[0,0,1]\n",
    "    if n<=2:\n",
    "        return list[n]\n",
    "    else:\n",
    "        for i in range(3,n+1):\n",
    "            list.append(list[i-1]+list[i-2])\n",
    "    return list[n], sum(list)\n"
   ]
  },
  {
   "cell_type": "code",
   "execution_count": 144,
   "id": "c6ca2d32",
   "metadata": {},
   "outputs": [
    {
     "data": {
      "text/plain": [
       "(13, 33)"
      ]
     },
     "execution_count": 144,
     "metadata": {},
     "output_type": "execute_result"
    }
   ],
   "source": [
    "fibonacchi(8)"
   ]
  },
  {
   "cell_type": "code",
   "execution_count": 51,
   "id": "cc886b68",
   "metadata": {},
   "outputs": [],
   "source": [
    "def big_sum(a,b,base=10):\n",
    "    if len(a)<=len(b):\n",
    "        a = '0'*abs(len(a)-len(b))+a\n",
    "    else:\n",
    "        b='0'*abs(len(a)-len(b))+b\n",
    "    total=[0]\n",
    "    for i in range(len(a)):\n",
    "        aux = int(a[-(i+1)])+int(b[-(i+1)])\n",
    "        if aux<base:\n",
    "            total[-(i+1)] += aux\n",
    "            total.insert(0,0)\n",
    "        else:\n",
    "            total[-(i+1)] += aux % base\n",
    "            total.insert(0,1)\n",
    "    return str(int(''.join([str(item) for item in total])))\n",
    "  "
   ]
  },
  {
   "cell_type": "code",
   "execution_count": 57,
   "id": "75ca80d2",
   "metadata": {},
   "outputs": [
    {
     "data": {
      "text/plain": [
       "'234759357'"
      ]
     },
     "execution_count": 57,
     "metadata": {},
     "output_type": "execute_result"
    }
   ],
   "source": [
    "a = \"74\"\n",
    "b='234759283'\n",
    "big_sum(a,b)"
   ]
  },
  {
   "cell_type": "code",
   "execution_count": 59,
   "id": "be802c1f",
   "metadata": {},
   "outputs": [
    {
     "data": {
      "text/plain": [
       "234759357"
      ]
     },
     "execution_count": 59,
     "metadata": {},
     "output_type": "execute_result"
    }
   ],
   "source": [
    "c = int(a)+int(b)\n",
    "c"
   ]
  }
 ],
 "metadata": {
  "kernelspec": {
   "display_name": "Python 3 (ipykernel)",
   "language": "python",
   "name": "python3"
  },
  "language_info": {
   "codemirror_mode": {
    "name": "ipython",
    "version": 3
   },
   "file_extension": ".py",
   "mimetype": "text/x-python",
   "name": "python",
   "nbconvert_exporter": "python",
   "pygments_lexer": "ipython3",
   "version": "3.9.13"
  }
 },
 "nbformat": 4,
 "nbformat_minor": 5
}
