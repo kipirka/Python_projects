{
 "cells": [
  {
   "cell_type": "code",
   "execution_count": 2,
   "id": "8d73673e",
   "metadata": {},
   "outputs": [
    {
     "name": "stdout",
     "output_type": "stream",
     "text": [
      "1\n"
     ]
    }
   ],
   "source": [
    "if 'hello':\n",
    "    print(1)\n",
    "else:\n",
    "    print(0)"
   ]
  },
  {
   "cell_type": "code",
   "execution_count": 2,
   "id": "1f07e42e",
   "metadata": {},
   "outputs": [
    {
     "data": {
      "text/plain": [
       "'test'"
      ]
     },
     "execution_count": 2,
     "metadata": {},
     "output_type": "execute_result"
    }
   ],
   "source": [
    "\"test\""
   ]
  },
  {
   "cell_type": "code",
   "execution_count": 138,
   "id": "cdf272ef",
   "metadata": {},
   "outputs": [],
   "source": [
    "def fibonacchi(n):\n",
    "    list=[0,0,1]\n",
    "    if n<=2:\n",
    "        return list[n]\n",
    "    else:\n",
    "        for i in range(3,n+1):\n",
    "            list.append(list[i-1]+list[i-2])\n",
    "    return list[n], sum(list)\n"
   ]
  },
  {
   "cell_type": "code",
   "execution_count": 140,
   "id": "fda0d2a5",
   "metadata": {},
   "outputs": [
    {
     "data": {
      "text/plain": [
       "(3, 7)"
      ]
     },
     "execution_count": 140,
     "metadata": {},
     "output_type": "execute_result"
    }
   ],
   "source": [
    "fibonacchi(5)"
   ]
  },
  {
   "cell_type": "code",
   "execution_count": 96,
   "id": "4347862f",
   "metadata": {},
   "outputs": [],
   "source": [
    "def big_sum(a,b,base=10):\n",
    "    c=[]\n",
    "    if len(a)>=len(b):\n",
    "        c.append(a[:-len(b)])\n",
    "        for t in range(len(b)):\n",
    "            c.insert(-t-1,int(a[-t])+int(b[-t]))\n",
    "        return c"
   ]
  },
  {
   "cell_type": "code",
   "execution_count": 100,
   "id": "1d4b8929",
   "metadata": {},
   "outputs": [
    {
     "data": {
      "text/plain": [
       "[5, '100040']"
      ]
     },
     "execution_count": 100,
     "metadata": {},
     "output_type": "execute_result"
    }
   ],
   "source": [
    "a = \"100040027452874\"\n",
    "b='234759283'\n",
    "d=[]\n",
    "d.append(a[:-len(b)])\n",
    "d.insert(0,5)\n",
    "d\n",
    "##big_sum(a,b)"
   ]
  },
  {
   "cell_type": "code",
   "execution_count": null,
   "id": "a937118e",
   "metadata": {},
   "outputs": [],
   "source": []
  }
 ],
 "metadata": {
  "kernelspec": {
   "display_name": "Python 3 (ipykernel)",
   "language": "python",
   "name": "python3"
  },
  "language_info": {
   "codemirror_mode": {
    "name": "ipython",
    "version": 3
   },
   "file_extension": ".py",
   "mimetype": "text/x-python",
   "name": "python",
   "nbconvert_exporter": "python",
   "pygments_lexer": "ipython3",
   "version": "3.9.13"
  }
 },
 "nbformat": 4,
 "nbformat_minor": 5
}
