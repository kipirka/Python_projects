{
 "cells": [
  {
   "cell_type": "code",
   "execution_count": 2,
   "id": "8d73673e",
   "metadata": {},
   "outputs": [
    {
     "name": "stdout",
     "output_type": "stream",
     "text": [
      "1\n"
     ]
    }
   ],
   "source": [
    "if 'hello':\n",
    "    print(1)\n",
    "else:\n",
    "    print(0)"
   ]
  },
  {
   "cell_type": "code",
   "execution_count": 2,
   "id": "aadc8666",
   "metadata": {},
   "outputs": [
    {
     "data": {
      "text/plain": [
       "'test'"
      ]
     },
     "execution_count": 2,
     "metadata": {},
     "output_type": "execute_result"
    }
   ],
   "source": [
    "\"test\""
   ]
  },
  {
   "cell_type": "code",
   "execution_count": 142,
   "id": "53fabbf0",
   "metadata": {},
   "outputs": [],
   "source": [
    "def fibonacchi(n):\n",
    "    list=[0,0,1]\n",
    "    if n<=2:\n",
    "        return list[n]\n",
    "    else:\n",
    "        for i in range(3,n+1):\n",
    "            list.append(list[i-1]+list[i-2])\n",
    "    return list[n], sum(list)\n"
   ]
  },
  {
   "cell_type": "code",
   "execution_count": 144,
   "id": "c6ca2d32",
   "metadata": {},
   "outputs": [
    {
     "data": {
      "text/plain": [
       "(13, 33)"
      ]
     },
     "execution_count": 144,
     "metadata": {},
     "output_type": "execute_result"
    }
   ],
   "source": [
    "fibonacchi(8)"
   ]
  },
  {
   "cell_type": "code",
   "execution_count": 51,
   "id": "cc886b68",
   "metadata": {},
   "outputs": [],
   "source": [
    "def big_sum(a,b,base=10):\n",
    "    if len(a)<=len(b):\n",
    "        a = '0'*abs(len(a)-len(b))+a\n",
    "    else:\n",
    "        b='0'*abs(len(a)-len(b))+b\n",
    "    total=[0]\n",
    "    for i in range(len(a)):\n",
    "        aux = int(a[-(i+1)])+int(b[-(i+1)])\n",
    "        if aux<base:\n",
    "            total[-(i+1)] += aux\n",
    "            total.insert(0,0)\n",
    "        else:\n",
    "            total[-(i+1)] += aux % base\n",
    "            total.insert(0,1)\n",
    "    return str(int(''.join([str(item) for item in total])))\n",
    "  "
   ]
  },
  {
   "cell_type": "code",
   "execution_count": 57,
   "id": "75ca80d2",
   "metadata": {},
   "outputs": [
    {
     "data": {
      "text/plain": [
       "'234759357'"
      ]
     },
     "execution_count": 57,
     "metadata": {},
     "output_type": "execute_result"
    }
   ],
   "source": [
    "a = \"74\"\n",
    "b='234759283'\n",
    "big_sum(a,b)"
   ]
  },
  {
   "cell_type": "code",
   "execution_count": 59,
   "id": "be802c1f",
   "metadata": {},
   "outputs": [
    {
     "data": {
      "text/plain": [
       "234759357"
      ]
     },
     "execution_count": 59,
     "metadata": {},
     "output_type": "execute_result"
    }
   ],
   "source": [
    "c = int(a)+int(b)\n",
    "c"
   ]
  },
  {
   "cell_type": "code",
   "execution_count": 8,
   "id": "d4dc064c",
   "metadata": {
    "scrolled": true
   },
   "outputs": [
    {
     "data": {
      "text/html": [
       "<div>\n",
       "<style scoped>\n",
       "    .dataframe tbody tr th:only-of-type {\n",
       "        vertical-align: middle;\n",
       "    }\n",
       "\n",
       "    .dataframe tbody tr th {\n",
       "        vertical-align: top;\n",
       "    }\n",
       "\n",
       "    .dataframe thead th {\n",
       "        text-align: right;\n",
       "    }\n",
       "</style>\n",
       "<table border=\"1\" class=\"dataframe\">\n",
       "  <thead>\n",
       "    <tr style=\"text-align: right;\">\n",
       "      <th></th>\n",
       "      <th>name</th>\n",
       "      <th>age</th>\n",
       "      <th>height</th>\n",
       "      <th>salary</th>\n",
       "      <th>tax</th>\n",
       "    </tr>\n",
       "  </thead>\n",
       "  <tbody>\n",
       "    <tr>\n",
       "      <th>0</th>\n",
       "      <td>Mike</td>\n",
       "      <td>23.0</td>\n",
       "      <td>176.0</td>\n",
       "      <td>100</td>\n",
       "      <td>0</td>\n",
       "    </tr>\n",
       "    <tr>\n",
       "      <th>1</th>\n",
       "      <td>John</td>\n",
       "      <td>NaN</td>\n",
       "      <td>NaN</td>\n",
       "      <td>120</td>\n",
       "      <td>13</td>\n",
       "    </tr>\n",
       "    <tr>\n",
       "      <th>2</th>\n",
       "      <td>Bill</td>\n",
       "      <td>29.0</td>\n",
       "      <td>182.0</td>\n",
       "      <td>150</td>\n",
       "      <td>0</td>\n",
       "    </tr>\n",
       "  </tbody>\n",
       "</table>\n",
       "</div>"
      ],
      "text/plain": [
       "   name   age  height  salary  tax\n",
       "0  Mike  23.0   176.0     100    0\n",
       "1  John   NaN     NaN     120   13\n",
       "2  Bill  29.0   182.0     150    0"
      ]
     },
     "execution_count": 8,
     "metadata": {},
     "output_type": "execute_result"
    }
   ],
   "source": [
    "import pandas as pd\n",
    "df1 = pd.DataFrame({\n",
    "    'name' : ['Mike', 'Sam', 'Bill'],\n",
    "    'age' : [23, 25, 29],\n",
    "    'height': [176, 192, 182]\n",
    "})\n",
    "\n",
    "df2 = pd.DataFrame({\n",
    "    'name' : ['Mike', 'John', 'Bill'],\n",
    "    'salary' : [100, 120, 150],\n",
    "    'tax': [0, 13, 0]\n",
    "\n",
    "df1.merge(df2, on = 'name', how = 'right')"
   ]
  },
  {
   "cell_type": "code",
   "execution_count": 52,
   "id": "81576e74",
   "metadata": {},
   "outputs": [],
   "source": [
    "def multsum(l):\n",
    "    sum_l=0\n",
    "    for i in range(len(l)):\n",
    "        l_new  = l[:i]+l[i+1:]\n",
    "        mult = 1\n",
    "        for j in range(len(l_new)):\n",
    "            mult = mult*l_new[j]\n",
    "        sum_l+=mult\n",
    "    return sum_l"
   ]
  },
  {
   "cell_type": "code",
   "execution_count": 56,
   "id": "4a2974db",
   "metadata": {},
   "outputs": [
    {
     "data": {
      "text/plain": [
       "0"
      ]
     },
     "execution_count": 56,
     "metadata": {},
     "output_type": "execute_result"
    }
   ],
   "source": [
    "a = [0,0,5]\n",
    "multsum(a)"
   ]
  },
  {
   "cell_type": "code",
   "execution_count": 57,
   "id": "ff50ab0b",
   "metadata": {},
   "outputs": [
    {
     "data": {
      "text/plain": [
       "[5, 0, 0]"
      ]
     },
     "execution_count": 57,
     "metadata": {},
     "output_type": "execute_result"
    }
   ],
   "source": [
    "a[::-1]"
   ]
  },
  {
   "cell_type": "code",
   "execution_count": 1,
   "id": "c3170890",
   "metadata": {},
   "outputs": [],
   "source": [
    "from scipy.stats import t"
   ]
  },
  {
   "cell_type": "code",
   "execution_count": 2,
   "id": "fdfd972e",
   "metadata": {},
   "outputs": [
    {
     "data": {
      "text/plain": [
       "0.9503148564921867"
      ]
     },
     "execution_count": 2,
     "metadata": {},
     "output_type": "execute_result"
    }
   ],
   "source": [
    "t.cdf(x = 2.02, df = 5)"
   ]
  },
  {
   "cell_type": "code",
   "execution_count": 3,
   "id": "2478c3cc",
   "metadata": {},
   "outputs": [],
   "source": [
    "import numpy as np\n",
    "import scipy.stats as st"
   ]
  },
  {
   "cell_type": "code",
   "execution_count": 7,
   "id": "2e3d8121",
   "metadata": {},
   "outputs": [
    {
     "data": {
      "text/plain": [
       "16.448536269514722"
      ]
     },
     "execution_count": 7,
     "metadata": {},
     "output_type": "execute_result"
    }
   ],
   "source": [
    "st.norm(loc = 0, scale = 10).ppf(0.95)"
   ]
  },
  {
   "cell_type": "code",
   "execution_count": 10,
   "id": "dac2ac49",
   "metadata": {},
   "outputs": [
    {
     "data": {
      "text/plain": [
       "0.8738954213121155"
      ]
     },
     "execution_count": 10,
     "metadata": {},
     "output_type": "execute_result"
    }
   ],
   "source": [
    "st.norm(loc = 5, scale = 10).cdf(16.45)"
   ]
  },
  {
   "cell_type": "code",
   "execution_count": 13,
   "id": "5afac9b7",
   "metadata": {},
   "outputs": [
    {
     "data": {
      "text/plain": [
       "8.224268134757361"
      ]
     },
     "execution_count": 13,
     "metadata": {},
     "output_type": "execute_result"
    }
   ],
   "source": [
    "st.norm(loc = 0, scale = 5).ppf(0.95)"
   ]
  },
  {
   "cell_type": "code",
   "execution_count": 15,
   "id": "bc2c9927",
   "metadata": {},
   "outputs": [
    {
     "data": {
      "text/plain": [
       "0.7402122830033209"
      ]
     },
     "execution_count": 15,
     "metadata": {},
     "output_type": "execute_result"
    }
   ],
   "source": [
    "st.norm(loc = 5, scale = 5).cdf(8.22)"
   ]
  },
  {
   "cell_type": "code",
   "execution_count": 3,
   "id": "468a03ba",
   "metadata": {},
   "outputs": [],
   "source": [
    "spots = np.array([[2,3,4,5,6,7], # имя переменной spots по-английски значит «пятна»\n",
    "    [3,4,5,6,7,8], \n",
    "    [4,5,6,7,8,9], \n",
    "    [5,6,7,8,9,10], \n",
    "    [6,7,8,9,10,11],\n",
    "    [7,8,9,10,11,12]])"
   ]
  },
  {
   "cell_type": "code",
   "execution_count": 4,
   "id": "e1fd214e",
   "metadata": {},
   "outputs": [
    {
     "name": "stdout",
     "output_type": "stream",
     "text": [
      "{2: 1, 3: 2, 4: 3, 5: 4, 6: 5, 7: 6, 8: 5, 9: 4, 10: 3, 11: 2, 12: 1}\n"
     ]
    }
   ],
   "source": [
    "spot_counts = {}\n",
    "\n",
    "for i in range(0, 6):\n",
    "        for j in range(0, 6):\n",
    "                if spots[i][j] not in spot_counts.keys():\n",
    "                        spot_counts[spots[i][j]] = 1\n",
    "                else:\n",
    "                        spot_counts[spots[i][j]] += 1\n",
    "\n",
    "print(spot_counts)"
   ]
  },
  {
   "cell_type": "code",
   "execution_count": 7,
   "id": "0cceca48",
   "metadata": {},
   "outputs": [
    {
     "name": "stdout",
     "output_type": "stream",
     "text": [
      "{2: 0.027777777777777776, 3: 0.05555555555555555, 4: 0.08333333333333333, 5: 0.1111111111111111, 6: 0.1388888888888889, 7: 0.16666666666666666, 8: 0.1388888888888889, 9: 0.1111111111111111, 10: 0.08333333333333333, 11: 0.05555555555555555, 12: 0.027777777777777776}\n"
     ]
    }
   ],
   "source": [
    "spot_probs={k:spot_counts[k]/36 for k in spot_counts}\n",
    "print(spot_probs)"
   ]
  },
  {
   "cell_type": "code",
   "execution_count": 11,
   "id": "380f7f2a",
   "metadata": {},
   "outputs": [
    {
     "name": "stdout",
     "output_type": "stream",
     "text": [
      "0\n",
      "1\n",
      "2\n",
      "3\n",
      "4\n",
      "5\n"
     ]
    }
   ],
   "source": [
    "for i in range(0,6):\n",
    "    print(i)"
   ]
  },
  {
   "cell_type": "code",
   "execution_count": 1,
   "id": "7978fe56",
   "metadata": {},
   "outputs": [],
   "source": [
    "a = [368, 113, 328, 447, 1, 156, 335, 233, \n",
    "                       308, 181, 271, 239, 411, 293, 303, \n",
    "                       206, 196, 203, 311, 205, 297, 529, \n",
    "                       373, 217, 416, 206, 1, 128, 16, 214]\n",
    "b = [451, 182, 469, 546, 396, 630, 206, \n",
    "                        130, 45, 569, 434, 321, 374, 149, \n",
    "                        721, 350, 347, 446, 406, 365, 203, \n",
    "                        405, 631, 545, 584, 248, 171, 309, \n",
    "                        338, 505]"
   ]
  },
  {
   "cell_type": "code",
   "execution_count": 41,
   "id": "7c558bcc",
   "metadata": {},
   "outputs": [
    {
     "data": {
      "text/plain": [
       "34106.03333333333"
      ]
     },
     "execution_count": 41,
     "metadata": {},
     "output_type": "execute_result"
    }
   ],
   "source": [
    "a = np.asarray(a)\n",
    "b = np.asarray(b)\n",
    "n = a.shape[0]\n",
    "d = a-b\n",
    "np.var(d, ddof = 1)"
   ]
  },
  {
   "cell_type": "code",
   "execution_count": 39,
   "id": "82587e83",
   "metadata": {},
   "outputs": [
    {
     "data": {
      "text/plain": [
       "184.6781885695583"
      ]
     },
     "execution_count": 39,
     "metadata": {},
     "output_type": "execute_result"
    }
   ],
   "source": [
    "np.sqrt(np.var(d, ddof = 1))"
   ]
  },
  {
   "cell_type": "code",
   "execution_count": 10,
   "id": "5aca799e",
   "metadata": {},
   "outputs": [
    {
     "data": {
      "text/plain": [
       "-3.9257591682405732"
      ]
     },
     "execution_count": 10,
     "metadata": {},
     "output_type": "execute_result"
    }
   ],
   "source": [
    "result = st.ttest_rel(a,b)\n",
    "result.statistic"
   ]
  },
  {
   "cell_type": "code",
   "execution_count": 42,
   "id": "e282dd53",
   "metadata": {},
   "outputs": [
    {
     "data": {
      "text/plain": [
       "array([ -83,  -69, -141,  -99, -395, -474,  129,  103,  263, -388, -163,\n",
       "        -82,   37,  144, -418, -144, -151, -243,  -95, -160,   94,  124,\n",
       "       -258, -328, -168,  -42, -170, -181, -322, -291])"
      ]
     },
     "execution_count": 42,
     "metadata": {},
     "output_type": "execute_result"
    }
   ],
   "source": [
    "d"
   ]
  },
  {
   "cell_type": "code",
   "execution_count": 48,
   "id": "3d292155",
   "metadata": {},
   "outputs": [
    {
     "data": {
      "text/plain": [
       "array([-474, -418, -395, -388, -328, -322, -291, -258, -243, -181, -170,\n",
       "       -168, -163, -160, -151, -144, -141,  -99,  -95,  -83,  -82,  -69,\n",
       "        -42,   37,   94,  103,  124,  129,  144,  263])"
      ]
     },
     "execution_count": 48,
     "metadata": {},
     "output_type": "execute_result"
    }
   ],
   "source": [
    "np.sort(d)"
   ]
  }
 ],
 "metadata": {
  "kernelspec": {
   "display_name": "Python 3 (ipykernel)",
   "language": "python",
   "name": "python3"
  },
  "language_info": {
   "codemirror_mode": {
    "name": "ipython",
    "version": 3
   },
   "file_extension": ".py",
   "mimetype": "text/x-python",
   "name": "python",
   "nbconvert_exporter": "python",
   "pygments_lexer": "ipython3",
   "version": "3.9.13"
  }
 },
 "nbformat": 4,
 "nbformat_minor": 5
}
