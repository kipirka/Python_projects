{
 "cells": [
  {
   "cell_type": "markdown",
   "metadata": {},
   "source": [
    "# Выбор локации для скважины"
   ]
  },
  {
   "cell_type": "markdown",
   "metadata": {},
   "source": [
    "Допустим, вы работаете в добывающей компании «ГлавРосГосНефть». Нужно решить, где бурить новую скважину.\n",
    "\n",
    "Вам предоставлены пробы нефти в трёх регионах: в каждом 10 000 месторождений, где измерили качество нефти и объём её запасов. Постройте модель машинного обучения, которая поможет определить регион, где добыча принесёт наибольшую прибыль. Проанализируйте возможную прибыль и риски техникой *Bootstrap.*\n",
    "\n",
    "Шаги для выбора локации:\n",
    "\n",
    "- В избранном регионе ищут месторождения, для каждого определяют значения признаков;\n",
    "- Строят модель и оценивают объём запасов;\n",
    "- Выбирают месторождения с самым высокими оценками значений. Количество месторождений зависит от бюджета компании и стоимости разработки одной скважины;\n",
    "- Прибыль равна суммарной прибыли отобранных месторождений."
   ]
  },
  {
   "cell_type": "markdown",
   "metadata": {},
   "source": [
    "В данном проекте я решаю задачу, где бурлить новую скважену. Для этого я исследую данные о месторождениях трёх регионов и строю модель, которая определяет регион, в котором бурлить новую скважену будет наиболее прибыльно. Я оцениваю прибыль и риски от бурления скважены в данном регионе. "
   ]
  },
  {
   "cell_type": "markdown",
   "metadata": {},
   "source": [
    "## Загрузка и подготовка данных"
   ]
  },
  {
   "cell_type": "code",
   "execution_count": 2,
   "metadata": {},
   "outputs": [],
   "source": [
    "# загружаю библиотеки\n",
    "import warnings\n",
    "warnings.filterwarnings('ignore') # отключим предупреждения, чтобы не отвлекали\n",
    "import pandas as pd\n",
    "import matplotlib.pyplot as plt\n",
    "import numpy as np\n",
    "from sklearn.model_selection import train_test_split\n",
    "from sklearn.preprocessing import StandardScaler\n",
    "from sklearn.linear_model import LinearRegression\n",
    "from sklearn.pipeline import make_pipeline\n",
    "from sklearn.metrics import mean_squared_error\n",
    "import shap"
   ]
  },
  {
   "cell_type": "code",
   "execution_count": 3,
   "metadata": {},
   "outputs": [
    {
     "data": {
      "text/html": [
       "<div>\n",
       "<style scoped>\n",
       "    .dataframe tbody tr th:only-of-type {\n",
       "        vertical-align: middle;\n",
       "    }\n",
       "\n",
       "    .dataframe tbody tr th {\n",
       "        vertical-align: top;\n",
       "    }\n",
       "\n",
       "    .dataframe thead th {\n",
       "        text-align: right;\n",
       "    }\n",
       "</style>\n",
       "<table border=\"1\" class=\"dataframe\">\n",
       "  <thead>\n",
       "    <tr style=\"text-align: right;\">\n",
       "      <th></th>\n",
       "      <th>id</th>\n",
       "      <th>f0</th>\n",
       "      <th>f1</th>\n",
       "      <th>f2</th>\n",
       "      <th>product</th>\n",
       "    </tr>\n",
       "  </thead>\n",
       "  <tbody>\n",
       "    <tr>\n",
       "      <th>0</th>\n",
       "      <td>txEyH</td>\n",
       "      <td>0.705745</td>\n",
       "      <td>-0.497823</td>\n",
       "      <td>1.221170</td>\n",
       "      <td>105.280062</td>\n",
       "    </tr>\n",
       "    <tr>\n",
       "      <th>1</th>\n",
       "      <td>2acmU</td>\n",
       "      <td>1.334711</td>\n",
       "      <td>-0.340164</td>\n",
       "      <td>4.365080</td>\n",
       "      <td>73.037750</td>\n",
       "    </tr>\n",
       "    <tr>\n",
       "      <th>2</th>\n",
       "      <td>409Wp</td>\n",
       "      <td>1.022732</td>\n",
       "      <td>0.151990</td>\n",
       "      <td>1.419926</td>\n",
       "      <td>85.265647</td>\n",
       "    </tr>\n",
       "    <tr>\n",
       "      <th>3</th>\n",
       "      <td>iJLyR</td>\n",
       "      <td>-0.032172</td>\n",
       "      <td>0.139033</td>\n",
       "      <td>2.978566</td>\n",
       "      <td>168.620776</td>\n",
       "    </tr>\n",
       "    <tr>\n",
       "      <th>4</th>\n",
       "      <td>Xdl7t</td>\n",
       "      <td>1.988431</td>\n",
       "      <td>0.155413</td>\n",
       "      <td>4.751769</td>\n",
       "      <td>154.036647</td>\n",
       "    </tr>\n",
       "  </tbody>\n",
       "</table>\n",
       "</div>"
      ],
      "text/plain": [
       "      id        f0        f1        f2     product\n",
       "0  txEyH  0.705745 -0.497823  1.221170  105.280062\n",
       "1  2acmU  1.334711 -0.340164  4.365080   73.037750\n",
       "2  409Wp  1.022732  0.151990  1.419926   85.265647\n",
       "3  iJLyR -0.032172  0.139033  2.978566  168.620776\n",
       "4  Xdl7t  1.988431  0.155413  4.751769  154.036647"
      ]
     },
     "metadata": {},
     "output_type": "display_data"
    },
    {
     "data": {
      "text/html": [
       "<div>\n",
       "<style scoped>\n",
       "    .dataframe tbody tr th:only-of-type {\n",
       "        vertical-align: middle;\n",
       "    }\n",
       "\n",
       "    .dataframe tbody tr th {\n",
       "        vertical-align: top;\n",
       "    }\n",
       "\n",
       "    .dataframe thead th {\n",
       "        text-align: right;\n",
       "    }\n",
       "</style>\n",
       "<table border=\"1\" class=\"dataframe\">\n",
       "  <thead>\n",
       "    <tr style=\"text-align: right;\">\n",
       "      <th></th>\n",
       "      <th>id</th>\n",
       "      <th>f0</th>\n",
       "      <th>f1</th>\n",
       "      <th>f2</th>\n",
       "      <th>product</th>\n",
       "    </tr>\n",
       "  </thead>\n",
       "  <tbody>\n",
       "    <tr>\n",
       "      <th>0</th>\n",
       "      <td>kBEdx</td>\n",
       "      <td>-15.001348</td>\n",
       "      <td>-8.276000</td>\n",
       "      <td>-0.005876</td>\n",
       "      <td>3.179103</td>\n",
       "    </tr>\n",
       "    <tr>\n",
       "      <th>1</th>\n",
       "      <td>62mP7</td>\n",
       "      <td>14.272088</td>\n",
       "      <td>-3.475083</td>\n",
       "      <td>0.999183</td>\n",
       "      <td>26.953261</td>\n",
       "    </tr>\n",
       "    <tr>\n",
       "      <th>2</th>\n",
       "      <td>vyE1P</td>\n",
       "      <td>6.263187</td>\n",
       "      <td>-5.948386</td>\n",
       "      <td>5.001160</td>\n",
       "      <td>134.766305</td>\n",
       "    </tr>\n",
       "    <tr>\n",
       "      <th>3</th>\n",
       "      <td>KcrkZ</td>\n",
       "      <td>-13.081196</td>\n",
       "      <td>-11.506057</td>\n",
       "      <td>4.999415</td>\n",
       "      <td>137.945408</td>\n",
       "    </tr>\n",
       "    <tr>\n",
       "      <th>4</th>\n",
       "      <td>AHL4O</td>\n",
       "      <td>12.702195</td>\n",
       "      <td>-8.147433</td>\n",
       "      <td>5.004363</td>\n",
       "      <td>134.766305</td>\n",
       "    </tr>\n",
       "  </tbody>\n",
       "</table>\n",
       "</div>"
      ],
      "text/plain": [
       "      id         f0         f1        f2     product\n",
       "0  kBEdx -15.001348  -8.276000 -0.005876    3.179103\n",
       "1  62mP7  14.272088  -3.475083  0.999183   26.953261\n",
       "2  vyE1P   6.263187  -5.948386  5.001160  134.766305\n",
       "3  KcrkZ -13.081196 -11.506057  4.999415  137.945408\n",
       "4  AHL4O  12.702195  -8.147433  5.004363  134.766305"
      ]
     },
     "metadata": {},
     "output_type": "display_data"
    },
    {
     "data": {
      "text/html": [
       "<div>\n",
       "<style scoped>\n",
       "    .dataframe tbody tr th:only-of-type {\n",
       "        vertical-align: middle;\n",
       "    }\n",
       "\n",
       "    .dataframe tbody tr th {\n",
       "        vertical-align: top;\n",
       "    }\n",
       "\n",
       "    .dataframe thead th {\n",
       "        text-align: right;\n",
       "    }\n",
       "</style>\n",
       "<table border=\"1\" class=\"dataframe\">\n",
       "  <thead>\n",
       "    <tr style=\"text-align: right;\">\n",
       "      <th></th>\n",
       "      <th>id</th>\n",
       "      <th>f0</th>\n",
       "      <th>f1</th>\n",
       "      <th>f2</th>\n",
       "      <th>product</th>\n",
       "    </tr>\n",
       "  </thead>\n",
       "  <tbody>\n",
       "    <tr>\n",
       "      <th>0</th>\n",
       "      <td>fwXo0</td>\n",
       "      <td>-1.146987</td>\n",
       "      <td>0.963328</td>\n",
       "      <td>-0.828965</td>\n",
       "      <td>27.758673</td>\n",
       "    </tr>\n",
       "    <tr>\n",
       "      <th>1</th>\n",
       "      <td>WJtFt</td>\n",
       "      <td>0.262778</td>\n",
       "      <td>0.269839</td>\n",
       "      <td>-2.530187</td>\n",
       "      <td>56.069697</td>\n",
       "    </tr>\n",
       "    <tr>\n",
       "      <th>2</th>\n",
       "      <td>ovLUW</td>\n",
       "      <td>0.194587</td>\n",
       "      <td>0.289035</td>\n",
       "      <td>-5.586433</td>\n",
       "      <td>62.871910</td>\n",
       "    </tr>\n",
       "    <tr>\n",
       "      <th>3</th>\n",
       "      <td>q6cA6</td>\n",
       "      <td>2.236060</td>\n",
       "      <td>-0.553760</td>\n",
       "      <td>0.930038</td>\n",
       "      <td>114.572842</td>\n",
       "    </tr>\n",
       "    <tr>\n",
       "      <th>4</th>\n",
       "      <td>WPMUX</td>\n",
       "      <td>-0.515993</td>\n",
       "      <td>1.716266</td>\n",
       "      <td>5.899011</td>\n",
       "      <td>149.600746</td>\n",
       "    </tr>\n",
       "  </tbody>\n",
       "</table>\n",
       "</div>"
      ],
      "text/plain": [
       "      id        f0        f1        f2     product\n",
       "0  fwXo0 -1.146987  0.963328 -0.828965   27.758673\n",
       "1  WJtFt  0.262778  0.269839 -2.530187   56.069697\n",
       "2  ovLUW  0.194587  0.289035 -5.586433   62.871910\n",
       "3  q6cA6  2.236060 -0.553760  0.930038  114.572842\n",
       "4  WPMUX -0.515993  1.716266  5.899011  149.600746"
      ]
     },
     "execution_count": 3,
     "metadata": {},
     "output_type": "execute_result"
    }
   ],
   "source": [
    "# загружаю данные\n",
    "data_0 = pd.read_csv('/datasets/geo_data_0.csv')\n",
    "data_1 = pd.read_csv('/datasets/geo_data_1.csv')\n",
    "data_2 = pd.read_csv('/datasets/geo_data_2.csv')\n",
    "display(data_0.head())\n",
    "display(data_1.head())\n",
    "data_2.head()"
   ]
  },
  {
   "cell_type": "code",
   "execution_count": 4,
   "metadata": {},
   "outputs": [],
   "source": [
    "# Список с названием таблиц\n",
    "data_list = [data_0, data_1, data_2]"
   ]
  },
  {
   "cell_type": "code",
   "execution_count": 5,
   "metadata": {},
   "outputs": [
    {
     "name": "stdout",
     "output_type": "stream",
     "text": [
      "<class 'pandas.core.frame.DataFrame'>\n",
      "RangeIndex: 100000 entries, 0 to 99999\n",
      "Data columns (total 5 columns):\n",
      " #   Column   Non-Null Count   Dtype  \n",
      "---  ------   --------------   -----  \n",
      " 0   id       100000 non-null  object \n",
      " 1   f0       100000 non-null  float64\n",
      " 2   f1       100000 non-null  float64\n",
      " 3   f2       100000 non-null  float64\n",
      " 4   product  100000 non-null  float64\n",
      "dtypes: float64(4), object(1)\n",
      "memory usage: 3.8+ MB\n"
     ]
    },
    {
     "data": {
      "text/plain": [
       "None"
      ]
     },
     "metadata": {},
     "output_type": "display_data"
    },
    {
     "name": "stdout",
     "output_type": "stream",
     "text": [
      "<class 'pandas.core.frame.DataFrame'>\n",
      "RangeIndex: 100000 entries, 0 to 99999\n",
      "Data columns (total 5 columns):\n",
      " #   Column   Non-Null Count   Dtype  \n",
      "---  ------   --------------   -----  \n",
      " 0   id       100000 non-null  object \n",
      " 1   f0       100000 non-null  float64\n",
      " 2   f1       100000 non-null  float64\n",
      " 3   f2       100000 non-null  float64\n",
      " 4   product  100000 non-null  float64\n",
      "dtypes: float64(4), object(1)\n",
      "memory usage: 3.8+ MB\n"
     ]
    },
    {
     "data": {
      "text/plain": [
       "None"
      ]
     },
     "metadata": {},
     "output_type": "display_data"
    },
    {
     "name": "stdout",
     "output_type": "stream",
     "text": [
      "<class 'pandas.core.frame.DataFrame'>\n",
      "RangeIndex: 100000 entries, 0 to 99999\n",
      "Data columns (total 5 columns):\n",
      " #   Column   Non-Null Count   Dtype  \n",
      "---  ------   --------------   -----  \n",
      " 0   id       100000 non-null  object \n",
      " 1   f0       100000 non-null  float64\n",
      " 2   f1       100000 non-null  float64\n",
      " 3   f2       100000 non-null  float64\n",
      " 4   product  100000 non-null  float64\n",
      "dtypes: float64(4), object(1)\n",
      "memory usage: 3.8+ MB\n"
     ]
    },
    {
     "data": {
      "text/plain": [
       "None"
      ]
     },
     "metadata": {},
     "output_type": "display_data"
    }
   ],
   "source": [
    "# смотрю на данные\n",
    "for data in data_list:\n",
    "    display(data.info())"
   ]
  },
  {
   "cell_type": "markdown",
   "metadata": {},
   "source": [
    "В наших датасетах в каждом по 100000 наблюдений, пропусков нет."
   ]
  },
  {
   "cell_type": "code",
   "execution_count": 6,
   "metadata": {},
   "outputs": [
    {
     "data": {
      "text/html": [
       "<style  type=\"text/css\" >\n",
       "#T_2c83a_row0_col0,#T_2c83a_row1_col1,#T_2c83a_row2_col2,#T_2c83a_row3_col3{\n",
       "            background-color:  #b40426;\n",
       "            color:  #f1f1f1;\n",
       "        }#T_2c83a_row0_col1,#T_2c83a_row0_col2,#T_2c83a_row1_col0,#T_2c83a_row1_col3{\n",
       "            background-color:  #3b4cc0;\n",
       "            color:  #f1f1f1;\n",
       "        }#T_2c83a_row0_col3{\n",
       "            background-color:  #98b9ff;\n",
       "            color:  #000000;\n",
       "        }#T_2c83a_row1_col2{\n",
       "            background-color:  #3c4ec2;\n",
       "            color:  #f1f1f1;\n",
       "        }#T_2c83a_row2_col0{\n",
       "            background-color:  #9fbfff;\n",
       "            color:  #000000;\n",
       "        }#T_2c83a_row2_col1{\n",
       "            background-color:  #a1c0ff;\n",
       "            color:  #000000;\n",
       "        }#T_2c83a_row2_col3{\n",
       "            background-color:  #edd2c3;\n",
       "            color:  #000000;\n",
       "        }#T_2c83a_row3_col0{\n",
       "            background-color:  #c1d4f4;\n",
       "            color:  #000000;\n",
       "        }#T_2c83a_row3_col1{\n",
       "            background-color:  #7295f4;\n",
       "            color:  #000000;\n",
       "        }#T_2c83a_row3_col2{\n",
       "            background-color:  #d9dce1;\n",
       "            color:  #000000;\n",
       "        }</style><table id=\"T_2c83a_\" ><thead>    <tr>        <th class=\"blank level0\" ></th>        <th class=\"col_heading level0 col0\" >f0</th>        <th class=\"col_heading level0 col1\" >f1</th>        <th class=\"col_heading level0 col2\" >f2</th>        <th class=\"col_heading level0 col3\" >product</th>    </tr></thead><tbody>\n",
       "                <tr>\n",
       "                        <th id=\"T_2c83a_level0_row0\" class=\"row_heading level0 row0\" >f0</th>\n",
       "                        <td id=\"T_2c83a_row0_col0\" class=\"data row0 col0\" >1.000000</td>\n",
       "                        <td id=\"T_2c83a_row0_col1\" class=\"data row0 col1\" >-0.440723</td>\n",
       "                        <td id=\"T_2c83a_row0_col2\" class=\"data row0 col2\" >-0.003153</td>\n",
       "                        <td id=\"T_2c83a_row0_col3\" class=\"data row0 col3\" >0.143536</td>\n",
       "            </tr>\n",
       "            <tr>\n",
       "                        <th id=\"T_2c83a_level0_row1\" class=\"row_heading level0 row1\" >f1</th>\n",
       "                        <td id=\"T_2c83a_row1_col0\" class=\"data row1 col0\" >-0.440723</td>\n",
       "                        <td id=\"T_2c83a_row1_col1\" class=\"data row1 col1\" >1.000000</td>\n",
       "                        <td id=\"T_2c83a_row1_col2\" class=\"data row1 col2\" >0.001724</td>\n",
       "                        <td id=\"T_2c83a_row1_col3\" class=\"data row1 col3\" >-0.192356</td>\n",
       "            </tr>\n",
       "            <tr>\n",
       "                        <th id=\"T_2c83a_level0_row2\" class=\"row_heading level0 row2\" >f2</th>\n",
       "                        <td id=\"T_2c83a_row2_col0\" class=\"data row2 col0\" >-0.003153</td>\n",
       "                        <td id=\"T_2c83a_row2_col1\" class=\"data row2 col1\" >0.001724</td>\n",
       "                        <td id=\"T_2c83a_row2_col2\" class=\"data row2 col2\" >1.000000</td>\n",
       "                        <td id=\"T_2c83a_row2_col3\" class=\"data row2 col3\" >0.483663</td>\n",
       "            </tr>\n",
       "            <tr>\n",
       "                        <th id=\"T_2c83a_level0_row3\" class=\"row_heading level0 row3\" >product</th>\n",
       "                        <td id=\"T_2c83a_row3_col0\" class=\"data row3 col0\" >0.143536</td>\n",
       "                        <td id=\"T_2c83a_row3_col1\" class=\"data row3 col1\" >-0.192356</td>\n",
       "                        <td id=\"T_2c83a_row3_col2\" class=\"data row3 col2\" >0.483663</td>\n",
       "                        <td id=\"T_2c83a_row3_col3\" class=\"data row3 col3\" >1.000000</td>\n",
       "            </tr>\n",
       "    </tbody></table>"
      ],
      "text/plain": [
       "<pandas.io.formats.style.Styler at 0x7feec2105820>"
      ]
     },
     "metadata": {},
     "output_type": "display_data"
    },
    {
     "data": {
      "text/html": [
       "<style  type=\"text/css\" >\n",
       "#T_026b4_row0_col0,#T_026b4_row1_col1,#T_026b4_row2_col2,#T_026b4_row2_col3,#T_026b4_row3_col2,#T_026b4_row3_col3{\n",
       "            background-color:  #b40426;\n",
       "            color:  #f1f1f1;\n",
       "        }#T_026b4_row0_col1{\n",
       "            background-color:  #779af7;\n",
       "            color:  #000000;\n",
       "        }#T_026b4_row0_col2,#T_026b4_row0_col3,#T_026b4_row1_col2,#T_026b4_row3_col0,#T_026b4_row3_col1{\n",
       "            background-color:  #3b4cc0;\n",
       "            color:  #f1f1f1;\n",
       "        }#T_026b4_row1_col0{\n",
       "            background-color:  #7da0f9;\n",
       "            color:  #000000;\n",
       "        }#T_026b4_row1_col3{\n",
       "            background-color:  #4055c8;\n",
       "            color:  #f1f1f1;\n",
       "        }#T_026b4_row2_col0{\n",
       "            background-color:  #4358cb;\n",
       "            color:  #f1f1f1;\n",
       "        }#T_026b4_row2_col1{\n",
       "            background-color:  #3c4ec2;\n",
       "            color:  #f1f1f1;\n",
       "        }</style><table id=\"T_026b4_\" ><thead>    <tr>        <th class=\"blank level0\" ></th>        <th class=\"col_heading level0 col0\" >f0</th>        <th class=\"col_heading level0 col1\" >f1</th>        <th class=\"col_heading level0 col2\" >f2</th>        <th class=\"col_heading level0 col3\" >product</th>    </tr></thead><tbody>\n",
       "                <tr>\n",
       "                        <th id=\"T_026b4_level0_row0\" class=\"row_heading level0 row0\" >f0</th>\n",
       "                        <td id=\"T_026b4_row0_col0\" class=\"data row0 col0\" >1.000000</td>\n",
       "                        <td id=\"T_026b4_row0_col1\" class=\"data row0 col1\" >0.182287</td>\n",
       "                        <td id=\"T_026b4_row0_col2\" class=\"data row0 col2\" >-0.001777</td>\n",
       "                        <td id=\"T_026b4_row0_col3\" class=\"data row0 col3\" >-0.030491</td>\n",
       "            </tr>\n",
       "            <tr>\n",
       "                        <th id=\"T_026b4_level0_row1\" class=\"row_heading level0 row1\" >f1</th>\n",
       "                        <td id=\"T_026b4_row1_col0\" class=\"data row1 col0\" >0.182287</td>\n",
       "                        <td id=\"T_026b4_row1_col1\" class=\"data row1 col1\" >1.000000</td>\n",
       "                        <td id=\"T_026b4_row1_col2\" class=\"data row1 col2\" >-0.002595</td>\n",
       "                        <td id=\"T_026b4_row1_col3\" class=\"data row1 col3\" >-0.010155</td>\n",
       "            </tr>\n",
       "            <tr>\n",
       "                        <th id=\"T_026b4_level0_row2\" class=\"row_heading level0 row2\" >f2</th>\n",
       "                        <td id=\"T_026b4_row2_col0\" class=\"data row2 col0\" >-0.001777</td>\n",
       "                        <td id=\"T_026b4_row2_col1\" class=\"data row2 col1\" >-0.002595</td>\n",
       "                        <td id=\"T_026b4_row2_col2\" class=\"data row2 col2\" >1.000000</td>\n",
       "                        <td id=\"T_026b4_row2_col3\" class=\"data row2 col3\" >0.999397</td>\n",
       "            </tr>\n",
       "            <tr>\n",
       "                        <th id=\"T_026b4_level0_row3\" class=\"row_heading level0 row3\" >product</th>\n",
       "                        <td id=\"T_026b4_row3_col0\" class=\"data row3 col0\" >-0.030491</td>\n",
       "                        <td id=\"T_026b4_row3_col1\" class=\"data row3 col1\" >-0.010155</td>\n",
       "                        <td id=\"T_026b4_row3_col2\" class=\"data row3 col2\" >0.999397</td>\n",
       "                        <td id=\"T_026b4_row3_col3\" class=\"data row3 col3\" >1.000000</td>\n",
       "            </tr>\n",
       "    </tbody></table>"
      ],
      "text/plain": [
       "<pandas.io.formats.style.Styler at 0x7fee571d14f0>"
      ]
     },
     "metadata": {},
     "output_type": "display_data"
    },
    {
     "data": {
      "text/html": [
       "<style  type=\"text/css\" >\n",
       "#T_695c8_row0_col0,#T_695c8_row1_col1,#T_695c8_row2_col2,#T_695c8_row3_col3{\n",
       "            background-color:  #b40426;\n",
       "            color:  #f1f1f1;\n",
       "        }#T_695c8_row0_col1,#T_695c8_row0_col2,#T_695c8_row0_col3,#T_695c8_row1_col0,#T_695c8_row1_col2,#T_695c8_row1_col3,#T_695c8_row2_col0,#T_695c8_row2_col1,#T_695c8_row3_col0,#T_695c8_row3_col1{\n",
       "            background-color:  #3b4cc0;\n",
       "            color:  #f1f1f1;\n",
       "        }#T_695c8_row2_col3,#T_695c8_row3_col2{\n",
       "            background-color:  #cedaeb;\n",
       "            color:  #000000;\n",
       "        }</style><table id=\"T_695c8_\" ><thead>    <tr>        <th class=\"blank level0\" ></th>        <th class=\"col_heading level0 col0\" >f0</th>        <th class=\"col_heading level0 col1\" >f1</th>        <th class=\"col_heading level0 col2\" >f2</th>        <th class=\"col_heading level0 col3\" >product</th>    </tr></thead><tbody>\n",
       "                <tr>\n",
       "                        <th id=\"T_695c8_level0_row0\" class=\"row_heading level0 row0\" >f0</th>\n",
       "                        <td id=\"T_695c8_row0_col0\" class=\"data row0 col0\" >1.000000</td>\n",
       "                        <td id=\"T_695c8_row0_col1\" class=\"data row0 col1\" >0.000528</td>\n",
       "                        <td id=\"T_695c8_row0_col2\" class=\"data row0 col2\" >-0.000448</td>\n",
       "                        <td id=\"T_695c8_row0_col3\" class=\"data row0 col3\" >-0.001987</td>\n",
       "            </tr>\n",
       "            <tr>\n",
       "                        <th id=\"T_695c8_level0_row1\" class=\"row_heading level0 row1\" >f1</th>\n",
       "                        <td id=\"T_695c8_row1_col0\" class=\"data row1 col0\" >0.000528</td>\n",
       "                        <td id=\"T_695c8_row1_col1\" class=\"data row1 col1\" >1.000000</td>\n",
       "                        <td id=\"T_695c8_row1_col2\" class=\"data row1 col2\" >0.000779</td>\n",
       "                        <td id=\"T_695c8_row1_col3\" class=\"data row1 col3\" >-0.001012</td>\n",
       "            </tr>\n",
       "            <tr>\n",
       "                        <th id=\"T_695c8_level0_row2\" class=\"row_heading level0 row2\" >f2</th>\n",
       "                        <td id=\"T_695c8_row2_col0\" class=\"data row2 col0\" >-0.000448</td>\n",
       "                        <td id=\"T_695c8_row2_col1\" class=\"data row2 col1\" >0.000779</td>\n",
       "                        <td id=\"T_695c8_row2_col2\" class=\"data row2 col2\" >1.000000</td>\n",
       "                        <td id=\"T_695c8_row2_col3\" class=\"data row2 col3\" >0.445871</td>\n",
       "            </tr>\n",
       "            <tr>\n",
       "                        <th id=\"T_695c8_level0_row3\" class=\"row_heading level0 row3\" >product</th>\n",
       "                        <td id=\"T_695c8_row3_col0\" class=\"data row3 col0\" >-0.001987</td>\n",
       "                        <td id=\"T_695c8_row3_col1\" class=\"data row3 col1\" >-0.001012</td>\n",
       "                        <td id=\"T_695c8_row3_col2\" class=\"data row3 col2\" >0.445871</td>\n",
       "                        <td id=\"T_695c8_row3_col3\" class=\"data row3 col3\" >1.000000</td>\n",
       "            </tr>\n",
       "    </tbody></table>"
      ],
      "text/plain": [
       "<pandas.io.formats.style.Styler at 0x7fee556ff850>"
      ]
     },
     "metadata": {},
     "output_type": "display_data"
    }
   ],
   "source": [
    "# Посмотрим на таблицу корреляций\n",
    "for data in data_list:\n",
    "    display(data.corr().style.background_gradient('coolwarm'))"
   ]
  },
  {
   "cell_type": "markdown",
   "metadata": {},
   "source": [
    "Во всех трёх регионах признак f2 очень сильно скоррелирован с величиной добычи, но особенно сильно это видно в регионе 1, где корреляция практически 1. "
   ]
  },
  {
   "cell_type": "markdown",
   "metadata": {},
   "source": [
    "В данном разделе я загрузила и посмотрела на данные по местораждениям нефти в трёх регионах. Дополнительная обработка данных не потребовалосб."
   ]
  },
  {
   "cell_type": "markdown",
   "metadata": {},
   "source": [
    "## Обучение и проверка модели"
   ]
  },
  {
   "cell_type": "markdown",
   "metadata": {},
   "source": [
    "### Разбиение на подвыборки"
   ]
  },
  {
   "cell_type": "markdown",
   "metadata": {},
   "source": [
    "Данные каждого региона разбиваю на обучающую и валидационные выборки в пропорции 3:1."
   ]
  },
  {
   "cell_type": "code",
   "execution_count": 7,
   "metadata": {},
   "outputs": [],
   "source": [
    "# Функция, разбивающая на подвыборки\n",
    "def split(data):\n",
    "    features = data.drop(['product','id'], axis=1)\n",
    "    target = data['product']\n",
    "    features_train, features_valid, target_train, target_valid = (\n",
    "    train_test_split(features, target, test_size=0.25, random_state=42)\n",
    ")\n",
    "    return features_train, features_valid, target_train, target_valid"
   ]
  },
  {
   "cell_type": "code",
   "execution_count": 8,
   "metadata": {},
   "outputs": [],
   "source": [
    "# Применим функцию к данным каждого региона\n",
    "features_train_0, features_valid_0, target_train_0, target_valid_0 = split(data_0)\n",
    "features_train_1, features_valid_1, target_train_1, target_valid_1 = split(data_1)\n",
    "features_train_2, features_valid_2, target_train_2, target_valid_2 = split(data_2)"
   ]
  },
  {
   "cell_type": "code",
   "execution_count": 9,
   "metadata": {},
   "outputs": [],
   "source": [
    "# Списки с фичами и таргетами\n",
    "features_train_list = [features_train_0, features_train_1, features_train_2]\n",
    "features_valid_list = [features_valid_0, features_valid_1, features_valid_2]\n",
    "target_train_list = [target_train_0, target_train_1, target_train_2]\n",
    "target_valid_list = [target_valid_0, target_valid_1, target_valid_2]"
   ]
  },
  {
   "cell_type": "code",
   "execution_count": 10,
   "metadata": {},
   "outputs": [
    {
     "data": {
      "text/plain": [
       "75000"
      ]
     },
     "metadata": {},
     "output_type": "display_data"
    },
    {
     "data": {
      "text/plain": [
       "75000"
      ]
     },
     "metadata": {},
     "output_type": "display_data"
    },
    {
     "data": {
      "text/plain": [
       "75000"
      ]
     },
     "metadata": {},
     "output_type": "display_data"
    },
    {
     "data": {
      "text/plain": [
       "25000"
      ]
     },
     "metadata": {},
     "output_type": "display_data"
    },
    {
     "data": {
      "text/plain": [
       "25000"
      ]
     },
     "metadata": {},
     "output_type": "display_data"
    },
    {
     "data": {
      "text/plain": [
       "25000"
      ]
     },
     "metadata": {},
     "output_type": "display_data"
    },
    {
     "data": {
      "text/plain": [
       "75000"
      ]
     },
     "metadata": {},
     "output_type": "display_data"
    },
    {
     "data": {
      "text/plain": [
       "75000"
      ]
     },
     "metadata": {},
     "output_type": "display_data"
    },
    {
     "data": {
      "text/plain": [
       "75000"
      ]
     },
     "metadata": {},
     "output_type": "display_data"
    },
    {
     "data": {
      "text/plain": [
       "25000"
      ]
     },
     "metadata": {},
     "output_type": "display_data"
    },
    {
     "data": {
      "text/plain": [
       "25000"
      ]
     },
     "metadata": {},
     "output_type": "display_data"
    },
    {
     "data": {
      "text/plain": [
       "25000"
      ]
     },
     "metadata": {},
     "output_type": "display_data"
    }
   ],
   "source": [
    "# Посмотрим на разбиение\n",
    "for i in features_train_list:\n",
    "    display(i.shape[0])\n",
    "    \n",
    "for i in features_valid_list:\n",
    "    display(i.shape[0])\n",
    "    \n",
    "for i in target_train_list:\n",
    "    display(i.shape[0])\n",
    "    \n",
    "for i in target_valid_list:\n",
    "    display(i.shape[0])"
   ]
  },
  {
   "cell_type": "markdown",
   "metadata": {},
   "source": [
    "Я правильно разбила данные регионов на обучающую и валидационную выборки."
   ]
  },
  {
   "cell_type": "markdown",
   "metadata": {},
   "source": [
    "### Обучение моделей"
   ]
  },
  {
   "cell_type": "markdown",
   "metadata": {},
   "source": [
    "Для каждого региона я обучаю модель линейной регрессии (по условию задачи) на тренировочкой выборке и потом делаю продсказания на валидационной выборке. "
   ]
  },
  {
   "cell_type": "code",
   "execution_count": 11,
   "metadata": {},
   "outputs": [],
   "source": [
    "# Инициализирую скайлер и модель\n",
    "scalar = StandardScaler()\n",
    "model = LinearRegression()"
   ]
  },
  {
   "cell_type": "code",
   "execution_count": 12,
   "metadata": {},
   "outputs": [],
   "source": [
    "# Создаю пайплайн\n",
    "pipeline = make_pipeline(scalar, model)"
   ]
  },
  {
   "cell_type": "code",
   "execution_count": 13,
   "metadata": {},
   "outputs": [],
   "source": [
    "# Функция обучающая модель\n",
    "def predict(features_train, target_train, features_valid, target_valid):\n",
    "    pipeline.fit(features_train, target_train)\n",
    "    predictions = pipeline.predict(features_valid)\n",
    "    mean = predictions.mean()\n",
    "    rmse = mean_squared_error(target_valid, predictions, squared=False)\n",
    "    return predictions, mean, rmse"
   ]
  },
  {
   "cell_type": "code",
   "execution_count": 14,
   "metadata": {},
   "outputs": [],
   "source": [
    "# Значения для каждого региона\n",
    "predictions_0, mean_0, rmse_0 = predict(features_train_0, target_train_0, features_valid_0, target_valid_0)\n",
    "predictions_1, mean_1, rmse_1 = predict(features_train_1, target_train_1, features_valid_1, target_valid_1)\n",
    "predictions_2, mean_2, rmse_2 = predict(features_train_2, target_train_2, features_valid_2, target_valid_2)"
   ]
  },
  {
   "cell_type": "code",
   "execution_count": 15,
   "metadata": {},
   "outputs": [],
   "source": [
    "# Функция визуализации вектора Шепли\n",
    "def shapley(features_train, target_train, features_valid):\n",
    "    features_train_summary = shap.kmeans(features_train, 10)\n",
    "    pipeline.fit(features_train, target_train)\n",
    "    ex = shap.KernelExplainer(pipeline.predict, features_train_summary)\n",
    "    shap_values = ex.shap_values(features_valid)\n",
    "    shap.summary_plot(shap_values, features_valid)"
   ]
  },
  {
   "cell_type": "code",
   "execution_count": 17,
   "metadata": {},
   "outputs": [],
   "source": [
    "# для региона 0\n",
    "shapley(features_train_0, target_train_0, features_valid_0)"
   ]
  },
  {
   "cell_type": "code",
   "execution_count": null,
   "metadata": {},
   "outputs": [],
   "source": [
    "# для региона 1\n",
    "shapley(features_train_1, target_train_1, features_valid_1)"
   ]
  },
  {
   "cell_type": "code",
   "execution_count": null,
   "metadata": {},
   "outputs": [],
   "source": [
    "# для региона 2\n",
    "shapley(features_train_2, target_train_2, features_valid_2)"
   ]
  },
  {
   "cell_type": "markdown",
   "metadata": {},
   "source": [
    "Как мы и предполагали, признак f2 оказывает несравнимо больший вклад в таргер по сравнению со всеми остальынми признаками. Кроме того, на графиках снова видно, что регион 1 выделяется по сравнению с остальными регионами - выглядит, как будто бы распределение f2 в регионе 1 дискретное, тогда как в других регионах оно более непрерывное. Сравним на гистограммах."
   ]
  },
  {
   "cell_type": "code",
   "execution_count": 16,
   "metadata": {},
   "outputs": [
    {
     "data": {
      "image/png": "[encoded data removed]",
      "text/plain": [
       "<Figure size 864x432 with 1 Axes>"
      ]
     },
     "metadata": {},
     "output_type": "display_data"
    }
   ],
   "source": [
    "# Строю гистограмму\n",
    "fig, ax = plt.subplots()\n",
    "plt.hist(data_0['f2'], bins = 20, alpha=0.6, label = 'регион 0', density = True)\n",
    "plt.hist(data_1['f2'], bins = 20, alpha=0.6, label = 'регион 1', density = True)\n",
    "plt.hist(data_2['f2'], bins = 20, alpha=0.6, label = 'регион 2', density = True)\n",
    "plt.legend(loc = 'upper right')\n",
    "plt.xlabel('\\n f2')\n",
    "fig.set_figwidth(12)    \n",
    "fig.set_figheight(6)    \n",
    "plt.title('распределение f2 по регионам \\n')\n",
    "plt.ticklabel_format(useOffset=False, style='plain')\n",
    "fig.set_facecolor('floralwhite')\n",
    "ax.set_facecolor('seashell')\n",
    "plt.show()"
   ]
  },
  {
   "cell_type": "markdown",
   "metadata": {},
   "source": [
    "Действительно по какой-то причине f2 в регионе 1 имеет практически дискретное распределёние, тогда как в других регионах это не так. Кроме того, support распределения в регионе 1 меньше, чем в других регионах. Без информации о признаках сложно сказать, это аномалия данных или это какая-то особенность залежей нефти в регионе 1. "
   ]
  },
  {
   "cell_type": "markdown",
   "metadata": {},
   "source": [
    "### Результаты моделей"
   ]
  },
  {
   "cell_type": "code",
   "execution_count": 17,
   "metadata": {},
   "outputs": [
    {
     "data": {
      "text/html": [
       "<div>\n",
       "<style scoped>\n",
       "    .dataframe tbody tr th:only-of-type {\n",
       "        vertical-align: middle;\n",
       "    }\n",
       "\n",
       "    .dataframe tbody tr th {\n",
       "        vertical-align: top;\n",
       "    }\n",
       "\n",
       "    .dataframe thead th {\n",
       "        text-align: right;\n",
       "    }\n",
       "</style>\n",
       "<table border=\"1\" class=\"dataframe\">\n",
       "  <thead>\n",
       "    <tr style=\"text-align: right;\">\n",
       "      <th></th>\n",
       "      <th>Среднее предсказание запасов</th>\n",
       "      <th>RMSE</th>\n",
       "    </tr>\n",
       "  </thead>\n",
       "  <tbody>\n",
       "    <tr>\n",
       "      <th>Регион 0</th>\n",
       "      <td>92.398800</td>\n",
       "      <td>37.756600</td>\n",
       "    </tr>\n",
       "    <tr>\n",
       "      <th>Регион 1</th>\n",
       "      <td>68.712878</td>\n",
       "      <td>0.890280</td>\n",
       "    </tr>\n",
       "    <tr>\n",
       "      <th>Регион 2</th>\n",
       "      <td>94.771024</td>\n",
       "      <td>40.145872</td>\n",
       "    </tr>\n",
       "  </tbody>\n",
       "</table>\n",
       "</div>"
      ],
      "text/plain": [
       "          Среднее предсказание запасов       RMSE\n",
       "Регион 0                     92.398800  37.756600\n",
       "Регион 1                     68.712878   0.890280\n",
       "Регион 2                     94.771024  40.145872"
      ]
     },
     "execution_count": 17,
     "metadata": {},
     "output_type": "execute_result"
    }
   ],
   "source": [
    "# Таблица\n",
    "result = pd.DataFrame([[mean_0, rmse_0], [mean_1, rmse_1], [mean_2, rmse_2]],\n",
    "    index=['Регион 0', 'Регион 1', 'Регион 2'], \n",
    "    columns=['Среднее предсказание запасов', 'RMSE']\n",
    ")\n",
    "result"
   ]
  },
  {
   "cell_type": "markdown",
   "metadata": {},
   "source": [
    "Опять регион 1 очень существенно отличается от остальных. Среднее предсказанное колличество запасов оказалось меньше, чем в других регионах и при этом предсказание получилось очень точным."
   ]
  },
  {
   "cell_type": "markdown",
   "metadata": {},
   "source": [
    "В данном разделе я обучила линейные регрессии для каждого из трёх регионов на обучающих выборках в данных регионах. Я сделала предсказания добычи на валидационной выборке и для каждого региона посчитала среднюю предсказываемую добычу и корень среднего квадратичного отклонения. В регионах 0 и 2 модель предсказывает среднюю добычу выше, но при этом и ошибка предсказаний сильно выше, чем в регионе 1. "
   ]
  },
  {
   "cell_type": "markdown",
   "metadata": {},
   "source": [
    "## Подготовка к расчёту прибыли"
   ]
  },
  {
   "cell_type": "markdown",
   "metadata": {},
   "source": [
    "В данном разделе я буду подсчитывать необходимую добычу для безубыточной разработки новой скважины."
   ]
  },
  {
   "cell_type": "code",
   "execution_count": 18,
   "metadata": {},
   "outputs": [],
   "source": [
    "# Сохраняю константы\n",
    "BUDGET = 10**10\n",
    "REVENUE_PER_UNIT = 450000\n",
    "N=200 # число скважин в новом месторождении"
   ]
  },
  {
   "cell_type": "markdown",
   "metadata": {},
   "source": [
    "Чтобы у нас была безубыточная разработка, должно удовлетворяться следующее неравенство:\n",
    "$R*Q-B\\ge0$,\n",
    "где $R$ - это доход на единицу, $Q$ - общий объём добычи в месторождении, а $B$ - бюджет. Тогда минимальный необходимый объём добычи для безубыточной разработки можно найти из $Q_{min} = \\frac{B}{R}$"
   ]
  },
  {
   "cell_type": "code",
   "execution_count": 19,
   "metadata": {},
   "outputs": [
    {
     "data": {
      "text/plain": [
       "22222.2"
      ]
     },
     "metadata": {},
     "output_type": "display_data"
    }
   ],
   "source": [
    "# Подсчёт минимального уровня добычи\n",
    "q_min = BUDGET/REVENUE_PER_UNIT\n",
    "display(round(q_min,1))"
   ]
  },
  {
   "cell_type": "markdown",
   "metadata": {},
   "source": [
    "Чтобы разработка нового месторождения была безубыточной, добыча должна быть не меньше, чем 22222.2 тысяч баррелей. Поскольку в месторождении будет 200 скважин, это означает, что на скважину добыча должна быть не меньше 111.1 тысяч баррелей. Наши предсказания средней добычи по скважинам немного ниже этой цифры. В следующих разделах, я буду оценивать распределение прибыли и вероятности убытков."
   ]
  },
  {
   "cell_type": "markdown",
   "metadata": {},
   "source": [
    "В данном разделе я рассчитала минимальный объём добычи в местораждение, который окупит стоимость разработки."
   ]
  },
  {
   "cell_type": "markdown",
   "metadata": {},
   "source": [
    "## Расчёт прибыли и рисков "
   ]
  },
  {
   "cell_type": "markdown",
   "metadata": {},
   "source": [
    "### Функция прибыли"
   ]
  },
  {
   "cell_type": "markdown",
   "metadata": {},
   "source": [
    "Для рассчёта прибыли от разработки в каждом из регионов я буду из данных выбирать случайно 500 скважин и из них выбирать 200 с наибольших предсказанием добычи и рассчитывать прибыль на основе этих данных. "
   ]
  },
  {
   "cell_type": "code",
   "execution_count": 20,
   "metadata": {},
   "outputs": [],
   "source": [
    "# Задаю случайный стэйт\n",
    "state = np.random.RandomState(12345)"
   ]
  },
  {
   "cell_type": "code",
   "execution_count": 21,
   "metadata": {},
   "outputs": [],
   "source": [
    "# Функция для подвыборки из 500 скважин для региона\n",
    "def profit(predictions, target, count):\n",
    "    predictions_sorted = predictions.sort_values(ascending=False)\n",
    "    selected = target[predictions_sorted.index][:count]\n",
    "    return REVENUE_PER_UNIT * selected.sum() - BUDGET"
   ]
  },
  {
   "cell_type": "markdown",
   "metadata": {},
   "source": [
    "В данном разделе я создала функцию для оценки прибыли. Из предсказаний я выбираю 200 с наибольшими прогнозами добычи. на данных о действительных запасах этих скважин подсчитывается прибыль от разработки. "
   ]
  },
  {
   "cell_type": "markdown",
   "metadata": {},
   "source": [
    "### Подсчёт прибыли и рисков"
   ]
  },
  {
   "cell_type": "code",
   "execution_count": 39,
   "metadata": {},
   "outputs": [],
   "source": [
    "# Функция подсчёта распределения прибыли\n",
    "def profit_distribution(predictions, target):\n",
    "    values = []\n",
    "    for i in range(1000):\n",
    "        data = (\n",
    "            pd.concat([pd.Series(target,name='target'), \n",
    "                       pd.Series(predictions, name='predictions', index=target.index)], axis=1))\n",
    "        data_sample = data.sample(random_state=state, n=500, replace=False)\n",
    "        target_sample = data_sample['target']\n",
    "        predictions_sample = data_sample['predictions']\n",
    "        profit_sample = profit(predictions_sample, target_sample, N)\n",
    "        values.append(profit_sample)\n",
    "    distribution = pd.Series(values)\n",
    "    profit_mean = distribution.mean()\n",
    "    lower = distribution.quantile(0.025)\n",
    "    upper = distribution.quantile(0.975)\n",
    "    risk = (distribution<0).mean()\n",
    "    return distribution, profit_mean, lower, upper, risk"
   ]
  },
  {
   "cell_type": "code",
   "execution_count": 40,
   "metadata": {},
   "outputs": [],
   "source": [
    "# Для каждого региона\n",
    "profit_distribution_0, profit_mean_0, lower_0, upper_0, risk_0 = profit_distribution(predictions_0, target_valid_0)\n",
    "profit_distribution_1, profit_mean_1, lower_1, upper_1, risk_1 = profit_distribution(predictions_1, target_valid_1)\n",
    "profit_distribution_2, profit_mean_2, lower_2, upper_2, risk_2 = profit_distribution(predictions_2, target_valid_2)"
   ]
  },
  {
   "cell_type": "markdown",
   "metadata": {},
   "source": [
    "Посмотрим на распределение ожидаемой прибыли для трёх регионов."
   ]
  },
  {
   "cell_type": "code",
   "execution_count": 46,
   "metadata": {},
   "outputs": [],
   "source": [
    "def histogram(distribution, lower, upper, profit_mean, label, title):\n",
    "    fig, ax = plt.subplots()\n",
    "    plt.hist(distribution/10**6, bins = 20, alpha=0.6, label = label, density = True)\n",
    "    plt.axvline(x = lower/10**6, color = 'b')\n",
    "    plt.axvline(x = upper/10**6, color = 'b')\n",
    "    plt.axvline(x = profit_mean/10**6, color = 'r')\n",
    "    plt.xlim(-425, 1225)\n",
    "    plt.xlabel('\\n млн.р.')\n",
    "    plt.legend(loc = 'upper right')\n",
    "    fig.set_figwidth(12)    \n",
    "    fig.set_figheight(6)    \n",
    "    plt.title(title)\n",
    "    plt.ticklabel_format(useOffset=False, style='plain')\n",
    "    fig.set_facecolor('floralwhite')\n",
    "    ax.set_facecolor('seashell')\n",
    "    plt.show()  "
   ]
  },
  {
   "cell_type": "code",
   "execution_count": 47,
   "metadata": {},
   "outputs": [
    {
     "data": {
      "image/png": "[encoded data removed]",
      "text/plain": [
       "<Figure size 864x432 with 1 Axes>"
      ]
     },
     "metadata": {},
     "output_type": "display_data"
    },
    {
     "data": {
      "image/png": "[encoded data removed]",
      "text/plain": [
       "<Figure size 864x432 with 1 Axes>"
      ]
     },
     "metadata": {},
     "output_type": "display_data"
    },
    {
     "data": {
      "image/png": "[encoded data removed]",
      "text/plain": [
       "<Figure size 864x432 with 1 Axes>"
      ]
     },
     "metadata": {},
     "output_type": "display_data"
    }
   ],
   "source": [
    "histogram(profit_distribution_0, lower_0, upper_0, profit_mean_0, 'регион 0', 'Ожидаемая прибыль в регионе 0 \\n')\n",
    "histogram(profit_distribution_1, lower_1, upper_1, profit_mean_1, 'регион 1', 'Ожидаемая прибыль в регионе 1 \\n')\n",
    "histogram(profit_distribution_2, lower_2, upper_2, profit_mean_2, 'регион 2', 'Ожидаемая прибыль в регионе 2 \\n')"
   ]
  },
  {
   "cell_type": "markdown",
   "metadata": {},
   "source": [
    "Из графиков мы видим, что распределение прибыли в регионе 1 наиболее выгодное для новой разработки - среднее выше и разброс меньше (стохастическая доминация первого рода)."
   ]
  },
  {
   "cell_type": "markdown",
   "metadata": {},
   "source": [
    "Сравню числовые показатели для каждого региона."
   ]
  },
  {
   "cell_type": "code",
   "execution_count": 49,
   "metadata": {},
   "outputs": [
    {
     "data": {
      "text/html": [
       "<style  type=\"text/css\" >\n",
       "</style><table id=\"T_7fcd0_\" ><thead>    <tr>        <th class=\"blank level0\" ></th>        <th class=\"col_heading level0 col0\" >Средняя прибыль, млн.р.</th>        <th class=\"col_heading level0 col1\" >2.5% квантиль</th>        <th class=\"col_heading level0 col2\" >97.5% квантиль</th>        <th class=\"col_heading level0 col3\" >риск убытка</th>    </tr></thead><tbody>\n",
       "                <tr>\n",
       "                        <th id=\"T_7fcd0_level0_row0\" class=\"row_heading level0 row0\" >Регион 0</th>\n",
       "                        <td id=\"T_7fcd0_row0_col0\" class=\"data row0 col0\" >406.01</td>\n",
       "                        <td id=\"T_7fcd0_row0_col1\" class=\"data row0 col1\" >-122.70</td>\n",
       "                        <td id=\"T_7fcd0_row0_col2\" class=\"data row0 col2\" >897.18</td>\n",
       "                        <td id=\"T_7fcd0_row0_col3\" class=\"data row0 col3\" >5.7%</td>\n",
       "            </tr>\n",
       "            <tr>\n",
       "                        <th id=\"T_7fcd0_level0_row1\" class=\"row_heading level0 row1\" >Регион 1</th>\n",
       "                        <td id=\"T_7fcd0_row1_col0\" class=\"data row1 col0\" >436.90</td>\n",
       "                        <td id=\"T_7fcd0_row1_col1\" class=\"data row1 col1\" >71.02</td>\n",
       "                        <td id=\"T_7fcd0_row1_col2\" class=\"data row1 col2\" >835.89</td>\n",
       "                        <td id=\"T_7fcd0_row1_col3\" class=\"data row1 col3\" >0.9%</td>\n",
       "            </tr>\n",
       "            <tr>\n",
       "                        <th id=\"T_7fcd0_level0_row2\" class=\"row_heading level0 row2\" >Регион 2</th>\n",
       "                        <td id=\"T_7fcd0_row2_col0\" class=\"data row2 col0\" >381.61</td>\n",
       "                        <td id=\"T_7fcd0_row2_col1\" class=\"data row2 col1\" >-138.89</td>\n",
       "                        <td id=\"T_7fcd0_row2_col2\" class=\"data row2 col2\" >902.70</td>\n",
       "                        <td id=\"T_7fcd0_row2_col3\" class=\"data row2 col3\" >7.9%</td>\n",
       "            </tr>\n",
       "    </tbody></table>"
      ],
      "text/plain": [
       "<pandas.io.formats.style.Styler at 0x7fee54cdd5e0>"
      ]
     },
     "execution_count": 49,
     "metadata": {},
     "output_type": "execute_result"
    }
   ],
   "source": [
    "# Таблица\n",
    "result = (\n",
    "    pd.DataFrame([[profit_mean_0/10**6, lower_0/10**6, upper_0/10**6, risk_0], \n",
    "                  [profit_mean_1/10**6, lower_1/10**6, upper_1/10**6, risk_1], \n",
    "                  [profit_mean_2/10**6, lower_2/10**6, upper_2/10**6, risk_2]],\n",
    "    index=['Регион 0', 'Регион 1', 'Регион 2'], \n",
    "    columns=['Средняя прибыль, млн.р.', '2.5% квантиль', '97.5% квантиль', 'риск убытка']\n",
    "))\n",
    "(result.\n",
    " style.\n",
    " format({'Средняя прибыль, млн.р.':\"{:,.2f}\",'2.5% квантиль':\"{:,.2f}\", '97.5% квантиль':\"{:,.2f}\", 'риск убытка':\"{:,.1%}\"})\n",
    ")"
   ]
  },
  {
   "cell_type": "markdown",
   "metadata": {},
   "source": [
    "В таблице тоже видно, средняя прибыль от разработки в регионе 1 выше, и при этом риск убытка минимальный. В двух других регионах риск убытка к тому же выше, чем пороговое значение в 2.5%, которое предъявил заказчик."
   ]
  },
  {
   "cell_type": "markdown",
   "metadata": {},
   "source": [
    "В данном проекте я решала задачу выбора региона для разработки нового нефтяного месторождения. У меня в распоряжении были данные о запасах в скважинах в трёх регионах. На основании этих данных я разбила выборки на обучающие и валидационные. Для каждого региона обучила модель линейной регрессии и предстаказала уровни добычи для тестовой. Как средние уровни предсказанной добычи так и корень среднего квадратичного отклонения оказались выше в регионах 0 и 2, в то время как регион 1 сильно отличался. Я построила функцию, которая считает прибыль от 200 скважим с наибольшей предсказанной добычей. С помощью бутсрапа я оценила распределение прибыли в каждом из трёх регионов, посчитала среднее и 95% доверительный интервал, а так же вероятность убытка. Распределение прибыли в каждом регионе показало, что разведка нового месторождения будет наиболее выгодна в регионе 1. В данном регионе средняя прибыль получилась выше, доверительный интервал для прибыли тоже полностью попадает в регион положительной прибыли, а риск убытка минимальный."
   ]
  }
 ],
 "metadata": {
  "ExecuteTimeLog": [
   {
    "duration": 44,
    "start_time": "2023-06-05T20:29:57.894Z"
   },
   {
    "duration": 768,
    "start_time": "2023-06-05T20:30:00.416Z"
   },
   {
    "duration": 1927,
    "start_time": "2023-06-05T20:30:03.566Z"
   },
   {
    "duration": 406,
    "start_time": "2023-06-05T20:30:17.480Z"
   },
   {
    "duration": 1168,
    "start_time": "2023-06-06T12:09:28.315Z"
   },
   {
    "duration": 2643,
    "start_time": "2023-06-06T12:09:31.022Z"
   },
   {
    "duration": 89,
    "start_time": "2023-06-06T12:10:12.223Z"
   },
   {
    "duration": 5,
    "start_time": "2023-06-06T12:26:46.693Z"
   },
   {
    "duration": 112,
    "start_time": "2023-06-06T12:31:09.049Z"
   },
   {
    "duration": 26,
    "start_time": "2023-06-06T12:38:31.962Z"
   },
   {
    "duration": 705,
    "start_time": "2023-06-06T12:38:52.952Z"
   },
   {
    "duration": 81,
    "start_time": "2023-06-06T12:38:57.787Z"
   },
   {
    "duration": 24,
    "start_time": "2023-06-06T14:21:21.517Z"
   },
   {
    "duration": 61,
    "start_time": "2023-06-06T14:22:00.954Z"
   },
   {
    "duration": 34,
    "start_time": "2023-06-06T14:22:23.580Z"
   },
   {
    "duration": 22,
    "start_time": "2023-06-06T14:22:39.096Z"
   },
   {
    "duration": 46,
    "start_time": "2023-06-06T14:26:51.882Z"
   },
   {
    "duration": 3,
    "start_time": "2023-06-06T14:26:58.677Z"
   },
   {
    "duration": 3,
    "start_time": "2023-06-06T14:28:02.830Z"
   },
   {
    "duration": 6,
    "start_time": "2023-06-06T14:30:32.881Z"
   },
   {
    "duration": 3,
    "start_time": "2023-06-06T14:31:24.547Z"
   },
   {
    "duration": 2,
    "start_time": "2023-06-06T14:31:35.383Z"
   },
   {
    "duration": 3,
    "start_time": "2023-06-06T14:32:20.095Z"
   },
   {
    "duration": 3,
    "start_time": "2023-06-06T14:32:44.245Z"
   },
   {
    "duration": 43,
    "start_time": "2023-06-06T14:33:09.978Z"
   },
   {
    "duration": 47,
    "start_time": "2023-06-06T14:33:59.386Z"
   },
   {
    "duration": 3,
    "start_time": "2023-06-06T14:34:08.631Z"
   },
   {
    "duration": 3,
    "start_time": "2023-06-06T14:34:09.974Z"
   },
   {
    "duration": 18,
    "start_time": "2023-06-06T14:34:11.454Z"
   },
   {
    "duration": 92,
    "start_time": "2023-06-06T14:34:30.234Z"
   },
   {
    "duration": 4,
    "start_time": "2023-06-06T14:35:00.329Z"
   },
   {
    "duration": 23,
    "start_time": "2023-06-06T14:35:02.360Z"
   },
   {
    "duration": 26,
    "start_time": "2023-06-06T14:35:05.824Z"
   },
   {
    "duration": 112,
    "start_time": "2023-06-06T14:35:22.833Z"
   },
   {
    "duration": 19,
    "start_time": "2023-06-06T14:35:47.747Z"
   },
   {
    "duration": 18,
    "start_time": "2023-06-06T14:36:04.095Z"
   },
   {
    "duration": 11,
    "start_time": "2023-06-06T14:36:36.389Z"
   },
   {
    "duration": 5,
    "start_time": "2023-06-06T14:37:01.477Z"
   },
   {
    "duration": 503,
    "start_time": "2023-06-06T14:37:04.341Z"
   },
   {
    "duration": 49,
    "start_time": "2023-06-06T14:37:08.840Z"
   },
   {
    "duration": 24,
    "start_time": "2023-06-06T14:37:12.099Z"
   },
   {
    "duration": 23,
    "start_time": "2023-06-06T14:37:14.136Z"
   },
   {
    "duration": 29,
    "start_time": "2023-06-06T14:37:15.774Z"
   },
   {
    "duration": 66,
    "start_time": "2023-06-06T14:37:21.280Z"
   },
   {
    "duration": 15,
    "start_time": "2023-06-06T14:37:28.628Z"
   },
   {
    "duration": 10,
    "start_time": "2023-06-06T14:38:08.810Z"
   },
   {
    "duration": 11,
    "start_time": "2023-06-06T14:38:21.586Z"
   },
   {
    "duration": 4,
    "start_time": "2023-06-06T14:38:26.691Z"
   },
   {
    "duration": 3,
    "start_time": "2023-06-06T14:38:28.083Z"
   },
   {
    "duration": 59,
    "start_time": "2023-06-06T14:38:36.587Z"
   },
   {
    "duration": 10,
    "start_time": "2023-06-06T14:38:49.473Z"
   },
   {
    "duration": 55,
    "start_time": "2023-06-06T14:38:59.590Z"
   },
   {
    "duration": 27,
    "start_time": "2023-06-06T14:39:01.087Z"
   },
   {
    "duration": 4977,
    "start_time": "2023-06-06T14:41:38.272Z"
   },
   {
    "duration": 4608,
    "start_time": "2023-06-06T14:41:49.703Z"
   },
   {
    "duration": 98,
    "start_time": "2023-06-06T14:43:46.401Z"
   },
   {
    "duration": 8125,
    "start_time": "2023-06-06T14:43:56.073Z"
   },
   {
    "duration": 4,
    "start_time": "2023-06-06T14:45:03.285Z"
   },
   {
    "duration": 179833,
    "start_time": "2023-06-06T14:45:41.195Z"
   },
   {
    "duration": 204,
    "start_time": "2023-06-06T14:52:43.622Z"
   },
   {
    "duration": 214752,
    "start_time": "2023-06-06T14:53:28.077Z"
   },
   {
    "duration": 241,
    "start_time": "2023-06-06T14:59:57.597Z"
   },
   {
    "duration": 199,
    "start_time": "2023-06-06T15:00:10.191Z"
   },
   {
    "duration": 214,
    "start_time": "2023-06-06T15:00:13.725Z"
   },
   {
    "duration": 222,
    "start_time": "2023-06-06T15:00:17.011Z"
   },
   {
    "duration": 112,
    "start_time": "2023-06-06T15:00:33.446Z"
   },
   {
    "duration": 212040,
    "start_time": "2023-06-06T15:00:50.110Z"
   },
   {
    "duration": 4954,
    "start_time": "2023-06-07T10:36:27.402Z"
   },
   {
    "duration": 7728,
    "start_time": "2023-06-07T10:36:37.712Z"
   },
   {
    "duration": 1830,
    "start_time": "2023-06-07T10:36:47.940Z"
   },
   {
    "duration": 37,
    "start_time": "2023-06-07T10:36:53.010Z"
   },
   {
    "duration": 146,
    "start_time": "2023-06-07T10:36:57.839Z"
   },
   {
    "duration": 19,
    "start_time": "2023-06-07T10:36:59.445Z"
   },
   {
    "duration": 19,
    "start_time": "2023-06-07T10:37:01.681Z"
   },
   {
    "duration": 45,
    "start_time": "2023-06-07T10:37:09.024Z"
   },
   {
    "duration": 2,
    "start_time": "2023-06-07T10:37:31.512Z"
   },
   {
    "duration": 3,
    "start_time": "2023-06-07T10:37:38.644Z"
   },
   {
    "duration": 172,
    "start_time": "2023-06-07T10:37:48.212Z"
   },
   {
    "duration": 20,
    "start_time": "2023-06-07T10:37:52.140Z"
   },
   {
    "duration": 6020,
    "start_time": "2023-06-07T10:37:56.962Z"
   },
   {
    "duration": 4,
    "start_time": "2023-06-07T10:38:15.510Z"
   },
   {
    "duration": 11,
    "start_time": "2023-06-07T10:38:24.810Z"
   },
   {
    "duration": 10,
    "start_time": "2023-06-07T10:38:29.279Z"
   },
   {
    "duration": 10,
    "start_time": "2023-06-07T10:38:34.321Z"
   },
   {
    "duration": 112752,
    "start_time": "2023-06-07T10:38:44.222Z"
   },
   {
    "duration": 107,
    "start_time": "2023-06-07T15:02:19.900Z"
   },
   {
    "duration": 126667,
    "start_time": "2023-06-07T15:02:48.817Z"
   },
   {
    "duration": 124244,
    "start_time": "2023-06-07T15:06:25.819Z"
   },
   {
    "duration": 197,
    "start_time": "2023-06-07T15:19:36.024Z"
   },
   {
    "duration": 230,
    "start_time": "2023-06-07T15:19:59.209Z"
   },
   {
    "duration": 3,
    "start_time": "2023-06-07T15:24:04.843Z"
   },
   {
    "duration": 3,
    "start_time": "2023-06-07T15:25:34.185Z"
   },
   {
    "duration": 29,
    "start_time": "2023-06-07T15:26:42.191Z"
   },
   {
    "duration": 4,
    "start_time": "2023-06-07T15:26:47.932Z"
   },
   {
    "duration": 3,
    "start_time": "2023-06-07T15:26:53.042Z"
   },
   {
    "duration": 25,
    "start_time": "2023-06-07T15:26:54.043Z"
   },
   {
    "duration": 15,
    "start_time": "2023-06-07T15:27:00.485Z"
   },
   {
    "duration": 16,
    "start_time": "2023-06-07T15:27:37.749Z"
   },
   {
    "duration": 20,
    "start_time": "2023-06-07T15:28:19.918Z"
   },
   {
    "duration": 40,
    "start_time": "2023-06-07T15:29:54.646Z"
   },
   {
    "duration": 27,
    "start_time": "2023-06-07T15:30:00.857Z"
   },
   {
    "duration": 15,
    "start_time": "2023-06-07T15:31:36.332Z"
   },
   {
    "duration": 26,
    "start_time": "2023-06-07T15:32:01.735Z"
   },
   {
    "duration": 18,
    "start_time": "2023-06-07T15:32:47.676Z"
   },
   {
    "duration": 9,
    "start_time": "2023-06-07T15:33:55.412Z"
   },
   {
    "duration": 3682,
    "start_time": "2023-06-08T08:19:52.098Z"
   },
   {
    "duration": 5487,
    "start_time": "2023-06-08T08:20:07.469Z"
   },
   {
    "duration": 1656,
    "start_time": "2023-06-08T08:20:16.507Z"
   },
   {
    "duration": 53,
    "start_time": "2023-06-08T08:20:31.274Z"
   },
   {
    "duration": 59,
    "start_time": "2023-06-08T08:20:35.153Z"
   },
   {
    "duration": 20,
    "start_time": "2023-06-08T08:20:37.006Z"
   },
   {
    "duration": 19,
    "start_time": "2023-06-08T08:20:39.210Z"
   },
   {
    "duration": 62,
    "start_time": "2023-06-08T08:20:41.457Z"
   },
   {
    "duration": 3,
    "start_time": "2023-06-08T08:20:45.073Z"
   },
   {
    "duration": 2,
    "start_time": "2023-06-08T08:20:46.728Z"
   },
   {
    "duration": 34,
    "start_time": "2023-06-08T08:20:47.777Z"
   },
   {
    "duration": 23,
    "start_time": "2023-06-08T08:20:51.637Z"
   },
   {
    "duration": 148513,
    "start_time": "2023-06-08T08:20:52.869Z"
   },
   {
    "duration": 22,
    "start_time": "2023-06-08T08:23:33.476Z"
   },
   {
    "duration": 263,
    "start_time": "2023-06-08T08:23:35.661Z"
   },
   {
    "duration": 9,
    "start_time": "2023-06-08T08:23:39.202Z"
   },
   {
    "duration": 3,
    "start_time": "2023-06-08T08:30:23.608Z"
   },
   {
    "duration": 4,
    "start_time": "2023-06-08T08:30:27.186Z"
   },
   {
    "duration": 4,
    "start_time": "2023-06-08T08:33:04.132Z"
   },
   {
    "duration": 2,
    "start_time": "2023-06-08T08:38:35.320Z"
   },
   {
    "duration": 3,
    "start_time": "2023-06-08T08:38:44.924Z"
   },
   {
    "duration": 3,
    "start_time": "2023-06-08T09:03:54.285Z"
   },
   {
    "duration": 3,
    "start_time": "2023-06-08T09:08:40.823Z"
   },
   {
    "duration": 165,
    "start_time": "2023-06-08T09:09:36.932Z"
   },
   {
    "duration": 3,
    "start_time": "2023-06-08T09:09:42.219Z"
   },
   {
    "duration": 26,
    "start_time": "2023-06-08T09:09:45.256Z"
   },
   {
    "duration": 4,
    "start_time": "2023-06-08T09:10:27.462Z"
   },
   {
    "duration": 14,
    "start_time": "2023-06-08T09:10:29.078Z"
   },
   {
    "duration": 22,
    "start_time": "2023-06-08T09:11:14.357Z"
   },
   {
    "duration": 33,
    "start_time": "2023-06-08T09:11:18.911Z"
   },
   {
    "duration": 8,
    "start_time": "2023-06-08T09:11:38.397Z"
   },
   {
    "duration": 7,
    "start_time": "2023-06-08T09:12:48.132Z"
   },
   {
    "duration": 8,
    "start_time": "2023-06-08T09:13:20.477Z"
   },
   {
    "duration": 8,
    "start_time": "2023-06-08T09:13:25.482Z"
   },
   {
    "duration": 3332,
    "start_time": "2023-06-08T10:32:05.281Z"
   },
   {
    "duration": 6875,
    "start_time": "2023-06-08T10:32:11.069Z"
   },
   {
    "duration": 1575,
    "start_time": "2023-06-08T10:32:23.846Z"
   },
   {
    "duration": 37,
    "start_time": "2023-06-08T10:32:28.248Z"
   },
   {
    "duration": 144,
    "start_time": "2023-06-08T10:32:30.733Z"
   },
   {
    "duration": 18,
    "start_time": "2023-06-08T10:32:32.177Z"
   },
   {
    "duration": 22,
    "start_time": "2023-06-08T10:32:34.209Z"
   },
   {
    "duration": 44,
    "start_time": "2023-06-08T10:32:36.997Z"
   },
   {
    "duration": 3,
    "start_time": "2023-06-08T10:32:39.787Z"
   },
   {
    "duration": 3,
    "start_time": "2023-06-08T10:32:42.345Z"
   },
   {
    "duration": 32,
    "start_time": "2023-06-08T10:32:44.955Z"
   },
   {
    "duration": 28,
    "start_time": "2023-06-08T10:32:48.643Z"
   },
   {
    "duration": 76,
    "start_time": "2023-06-08T10:32:51.133Z"
   },
   {
    "duration": 216,
    "start_time": "2023-06-08T10:32:53.261Z"
   },
   {
    "duration": 8,
    "start_time": "2023-06-08T10:32:56.167Z"
   },
   {
    "duration": 2,
    "start_time": "2023-06-08T10:32:59.165Z"
   },
   {
    "duration": 3,
    "start_time": "2023-06-08T10:33:00.981Z"
   },
   {
    "duration": 3,
    "start_time": "2023-06-08T10:33:03.777Z"
   },
   {
    "duration": 3,
    "start_time": "2023-06-08T10:33:05.033Z"
   },
   {
    "duration": 30,
    "start_time": "2023-06-08T10:33:07.374Z"
   },
   {
    "duration": 7,
    "start_time": "2023-06-08T10:33:08.717Z"
   },
   {
    "duration": 28,
    "start_time": "2023-06-08T10:35:17.546Z"
   },
   {
    "duration": 7,
    "start_time": "2023-06-08T10:35:18.935Z"
   },
   {
    "duration": 6,
    "start_time": "2023-06-08T10:35:43.211Z"
   },
   {
    "duration": 4,
    "start_time": "2023-06-08T10:36:24.536Z"
   },
   {
    "duration": 28,
    "start_time": "2023-06-08T10:36:25.946Z"
   },
   {
    "duration": 8,
    "start_time": "2023-06-08T10:36:28.228Z"
   },
   {
    "duration": 4,
    "start_time": "2023-06-08T10:37:02.291Z"
   },
   {
    "duration": 1031,
    "start_time": "2023-06-08T10:37:04.221Z"
   },
   {
    "duration": 3,
    "start_time": "2023-06-08T10:37:47.569Z"
   },
   {
    "duration": 31,
    "start_time": "2023-06-08T10:37:48.942Z"
   },
   {
    "duration": 9,
    "start_time": "2023-06-08T10:37:50.917Z"
   },
   {
    "duration": 4,
    "start_time": "2023-06-08T10:38:17.444Z"
   },
   {
    "duration": 26,
    "start_time": "2023-06-08T10:38:18.822Z"
   },
   {
    "duration": 7,
    "start_time": "2023-06-08T10:38:19.862Z"
   },
   {
    "duration": 35,
    "start_time": "2023-06-08T10:38:28.081Z"
   },
   {
    "duration": 7,
    "start_time": "2023-06-08T10:38:29.051Z"
   },
   {
    "duration": 32,
    "start_time": "2023-06-08T10:38:31.735Z"
   },
   {
    "duration": 17,
    "start_time": "2023-06-08T10:38:32.604Z"
   },
   {
    "duration": 9,
    "start_time": "2023-06-08T13:22:36.570Z"
   },
   {
    "duration": 4208,
    "start_time": "2023-06-08T13:29:41.943Z"
   },
   {
    "duration": 5772,
    "start_time": "2023-06-08T13:29:48.986Z"
   },
   {
    "duration": 2137,
    "start_time": "2023-06-08T13:29:56.477Z"
   },
   {
    "duration": 54,
    "start_time": "2023-06-08T13:30:01.300Z"
   },
   {
    "duration": 223,
    "start_time": "2023-06-08T13:30:04.987Z"
   },
   {
    "duration": 20,
    "start_time": "2023-06-08T13:30:08.612Z"
   },
   {
    "duration": 30,
    "start_time": "2023-06-08T13:30:09.956Z"
   },
   {
    "duration": 98,
    "start_time": "2023-06-08T13:30:14.107Z"
   },
   {
    "duration": 3,
    "start_time": "2023-06-08T13:30:57.507Z"
   },
   {
    "duration": 4,
    "start_time": "2023-06-08T13:30:59.079Z"
   },
   {
    "duration": 34,
    "start_time": "2023-06-08T13:31:01.039Z"
   },
   {
    "duration": 25,
    "start_time": "2023-06-08T13:31:04.332Z"
   },
   {
    "duration": 23,
    "start_time": "2023-06-08T13:31:06.292Z"
   },
   {
    "duration": 289,
    "start_time": "2023-06-08T13:31:07.991Z"
   },
   {
    "duration": 10,
    "start_time": "2023-06-08T13:31:12.612Z"
   },
   {
    "duration": 2,
    "start_time": "2023-06-08T13:31:18.710Z"
   },
   {
    "duration": 6,
    "start_time": "2023-06-08T13:31:20.380Z"
   },
   {
    "duration": 4,
    "start_time": "2023-06-08T13:32:02.897Z"
   },
   {
    "duration": 4,
    "start_time": "2023-06-08T13:32:11.396Z"
   },
   {
    "duration": 5,
    "start_time": "2023-06-08T13:41:43.343Z"
   },
   {
    "duration": 5,
    "start_time": "2023-06-08T13:43:40.999Z"
   },
   {
    "duration": 52,
    "start_time": "2023-06-08T13:44:18.385Z"
   },
   {
    "duration": 6,
    "start_time": "2023-06-08T13:44:20.528Z"
   },
   {
    "duration": 7,
    "start_time": "2023-06-08T13:44:24.907Z"
   },
   {
    "duration": 302,
    "start_time": "2023-06-08T13:44:32.939Z"
   },
   {
    "duration": 56,
    "start_time": "2023-06-08T13:44:37.793Z"
   },
   {
    "duration": 6,
    "start_time": "2023-06-08T13:46:17.185Z"
   },
   {
    "duration": 4,
    "start_time": "2023-06-08T13:46:52.244Z"
   },
   {
    "duration": 17,
    "start_time": "2023-06-08T13:46:55.222Z"
   },
   {
    "duration": 10343,
    "start_time": "2023-06-08T13:46:56.958Z"
   },
   {
    "duration": 12086,
    "start_time": "2023-06-08T13:47:26.716Z"
   },
   {
    "duration": 21,
    "start_time": "2023-06-08T13:49:20.001Z"
   },
   {
    "duration": 19,
    "start_time": "2023-06-08T13:49:26.391Z"
   },
   {
    "duration": 5,
    "start_time": "2023-06-08T13:49:40.453Z"
   },
   {
    "duration": 12,
    "start_time": "2023-06-08T13:52:36.105Z"
   },
   {
    "duration": 19,
    "start_time": "2023-06-08T13:52:43.345Z"
   },
   {
    "duration": 12,
    "start_time": "2023-06-08T13:52:50.917Z"
   },
   {
    "duration": 14,
    "start_time": "2023-06-08T13:52:52.180Z"
   },
   {
    "duration": 8,
    "start_time": "2023-06-08T13:53:46.305Z"
   },
   {
    "duration": 5,
    "start_time": "2023-06-08T13:54:01.283Z"
   },
   {
    "duration": 10,
    "start_time": "2023-06-08T13:54:29.001Z"
   },
   {
    "duration": 7,
    "start_time": "2023-06-08T14:04:11.381Z"
   },
   {
    "duration": 6,
    "start_time": "2023-06-08T16:32:28.702Z"
   },
   {
    "duration": 5,
    "start_time": "2023-06-08T16:32:37.780Z"
   },
   {
    "duration": 3790,
    "start_time": "2023-06-09T09:05:07.684Z"
   },
   {
    "duration": 2477,
    "start_time": "2023-06-09T09:05:15.711Z"
   },
   {
    "duration": 1613,
    "start_time": "2023-06-09T09:05:21.954Z"
   },
   {
    "duration": 58,
    "start_time": "2023-06-09T09:05:27.712Z"
   },
   {
    "duration": 72,
    "start_time": "2023-06-09T09:05:31.828Z"
   },
   {
    "duration": 28,
    "start_time": "2023-06-09T09:05:34.051Z"
   },
   {
    "duration": 30,
    "start_time": "2023-06-09T09:05:36.198Z"
   },
   {
    "duration": 60,
    "start_time": "2023-06-09T09:05:39.321Z"
   },
   {
    "duration": 3,
    "start_time": "2023-06-09T09:05:41.620Z"
   },
   {
    "duration": 3,
    "start_time": "2023-06-09T09:05:42.946Z"
   },
   {
    "duration": 38,
    "start_time": "2023-06-09T09:05:44.209Z"
   },
   {
    "duration": 112,
    "start_time": "2023-06-09T09:05:52.048Z"
   },
   {
    "duration": 29,
    "start_time": "2023-06-09T09:05:54.733Z"
   },
   {
    "duration": 325,
    "start_time": "2023-06-09T09:05:58.238Z"
   },
   {
    "duration": 10,
    "start_time": "2023-06-09T09:06:01.887Z"
   },
   {
    "duration": 4,
    "start_time": "2023-06-09T09:06:04.822Z"
   },
   {
    "duration": 4,
    "start_time": "2023-06-09T09:06:07.242Z"
   },
   {
    "duration": 3,
    "start_time": "2023-06-09T09:06:10.477Z"
   },
   {
    "duration": 4,
    "start_time": "2023-06-09T09:06:12.177Z"
   },
   {
    "duration": 5,
    "start_time": "2023-06-09T09:06:14.231Z"
   },
   {
    "duration": 8945,
    "start_time": "2023-06-09T09:06:16.053Z"
   },
   {
    "duration": 9,
    "start_time": "2023-06-09T09:06:28.863Z"
   },
   {
    "duration": 8668,
    "start_time": "2023-06-09T09:09:56.891Z"
   },
   {
    "duration": 8345,
    "start_time": "2023-06-09T09:10:50.801Z"
   },
   {
    "duration": 212,
    "start_time": "2023-06-09T09:13:35.261Z"
   },
   {
    "duration": 183,
    "start_time": "2023-06-09T09:14:04.517Z"
   },
   {
    "duration": 179,
    "start_time": "2023-06-09T09:14:46.304Z"
   },
   {
    "duration": 276,
    "start_time": "2023-06-09T09:15:04.690Z"
   },
   {
    "duration": 195,
    "start_time": "2023-06-09T09:15:12.898Z"
   },
   {
    "duration": 196,
    "start_time": "2023-06-09T09:16:00.956Z"
   },
   {
    "duration": 267,
    "start_time": "2023-06-09T09:16:58.094Z"
   },
   {
    "duration": 266,
    "start_time": "2023-06-09T09:17:07.197Z"
   },
   {
    "duration": 549,
    "start_time": "2023-06-09T09:17:34.673Z"
   },
   {
    "duration": 339,
    "start_time": "2023-06-09T09:17:46.812Z"
   },
   {
    "duration": 276,
    "start_time": "2023-06-09T09:18:07.782Z"
   },
   {
    "duration": 336,
    "start_time": "2023-06-09T09:18:25.920Z"
   },
   {
    "duration": 618,
    "start_time": "2023-06-09T09:19:45.348Z"
   },
   {
    "duration": 915,
    "start_time": "2023-06-09T09:20:28.838Z"
   },
   {
    "duration": 942,
    "start_time": "2023-06-09T09:20:51.929Z"
   },
   {
    "duration": 1095,
    "start_time": "2023-06-09T09:22:17.943Z"
   },
   {
    "duration": 946,
    "start_time": "2023-06-09T09:22:29.550Z"
   },
   {
    "duration": 971,
    "start_time": "2023-06-09T09:23:01.489Z"
   },
   {
    "duration": 863,
    "start_time": "2023-06-09T09:23:24.289Z"
   },
   {
    "duration": 13,
    "start_time": "2023-06-09T09:29:55.990Z"
   },
   {
    "duration": 13,
    "start_time": "2023-06-09T09:30:36.418Z"
   },
   {
    "duration": 9,
    "start_time": "2023-06-09T09:30:47.396Z"
   },
   {
    "duration": 8853,
    "start_time": "2023-06-09T09:30:51.324Z"
   },
   {
    "duration": 10047,
    "start_time": "2023-06-09T09:31:36.573Z"
   },
   {
    "duration": 1093,
    "start_time": "2023-06-09T09:31:49.432Z"
   },
   {
    "duration": 12,
    "start_time": "2023-06-09T09:32:26.294Z"
   },
   {
    "duration": 16,
    "start_time": "2023-06-09T09:33:22.472Z"
   },
   {
    "duration": 17,
    "start_time": "2023-06-09T09:33:50.347Z"
   },
   {
    "duration": 52,
    "start_time": "2023-06-09T09:34:58.576Z"
   },
   {
    "duration": 16,
    "start_time": "2023-06-09T09:41:41.911Z"
   },
   {
    "duration": 12,
    "start_time": "2023-06-09T09:42:11.144Z"
   },
   {
    "duration": 14,
    "start_time": "2023-06-09T09:42:30.659Z"
   },
   {
    "duration": 10,
    "start_time": "2023-06-09T09:42:49.102Z"
   },
   {
    "duration": 15,
    "start_time": "2023-06-09T09:43:17.026Z"
   },
   {
    "duration": 10,
    "start_time": "2023-06-09T09:43:34.904Z"
   },
   {
    "duration": 11,
    "start_time": "2023-06-09T09:44:03.015Z"
   },
   {
    "duration": 19,
    "start_time": "2023-06-09T09:44:10.685Z"
   },
   {
    "duration": 14,
    "start_time": "2023-06-09T09:44:53.950Z"
   },
   {
    "duration": 9,
    "start_time": "2023-06-09T09:45:06.737Z"
   },
   {
    "duration": 11,
    "start_time": "2023-06-09T09:45:12.449Z"
   },
   {
    "duration": 15,
    "start_time": "2023-06-09T09:45:19.389Z"
   },
   {
    "duration": 13,
    "start_time": "2023-06-09T09:45:23.513Z"
   },
   {
    "duration": 12,
    "start_time": "2023-06-09T09:45:28.072Z"
   },
   {
    "duration": 10,
    "start_time": "2023-06-09T09:45:41.903Z"
   },
   {
    "duration": 3497,
    "start_time": "2023-06-09T14:37:04.559Z"
   },
   {
    "duration": 2298,
    "start_time": "2023-06-09T14:37:09.782Z"
   },
   {
    "duration": 788,
    "start_time": "2023-06-09T14:37:23.307Z"
   },
   {
    "duration": 38,
    "start_time": "2023-06-09T14:37:27.163Z"
   },
   {
    "duration": 174,
    "start_time": "2023-06-09T14:37:30.894Z"
   },
   {
    "duration": 18,
    "start_time": "2023-06-09T14:37:33.135Z"
   },
   {
    "duration": 21,
    "start_time": "2023-06-09T14:37:35.488Z"
   },
   {
    "duration": 53,
    "start_time": "2023-06-09T14:37:39.807Z"
   },
   {
    "duration": 3,
    "start_time": "2023-06-09T14:37:42.709Z"
   },
   {
    "duration": 3,
    "start_time": "2023-06-09T14:37:43.980Z"
   },
   {
    "duration": 23,
    "start_time": "2023-06-09T14:37:45.848Z"
   },
   {
    "duration": 19,
    "start_time": "2023-06-09T14:37:49.556Z"
   },
   {
    "duration": 18,
    "start_time": "2023-06-09T14:37:52.037Z"
   },
   {
    "duration": 219,
    "start_time": "2023-06-09T14:37:54.772Z"
   },
   {
    "duration": 3,
    "start_time": "2023-06-09T14:38:29.782Z"
   },
   {
    "duration": 4,
    "start_time": "2023-06-09T14:38:31.507Z"
   },
   {
    "duration": 3,
    "start_time": "2023-06-09T14:38:42.558Z"
   },
   {
    "duration": 3,
    "start_time": "2023-06-09T14:38:52.014Z"
   },
   {
    "duration": 4,
    "start_time": "2023-06-09T14:38:53.954Z"
   },
   {
    "duration": 3,
    "start_time": "2023-06-09T14:39:09.050Z"
   },
   {
    "duration": 7255,
    "start_time": "2023-06-09T14:39:13.970Z"
   },
   {
    "duration": 8,
    "start_time": "2023-06-09T14:39:23.144Z"
   },
   {
    "duration": 7399,
    "start_time": "2023-06-09T14:39:42.622Z"
   },
   {
    "duration": 7306,
    "start_time": "2023-06-09T14:39:52.401Z"
   },
   {
    "duration": 821,
    "start_time": "2023-06-09T14:40:01.810Z"
   },
   {
    "duration": 8,
    "start_time": "2023-06-09T14:40:12.835Z"
   },
   {
    "duration": 8,
    "start_time": "2023-06-09T14:42:22.385Z"
   },
   {
    "duration": 3,
    "start_time": "2023-06-09T14:55:01.843Z"
   },
   {
    "duration": 392,
    "start_time": "2023-06-09T14:55:03.526Z"
   },
   {
    "duration": 38,
    "start_time": "2023-06-09T14:55:06.938Z"
   },
   {
    "duration": 24,
    "start_time": "2023-06-09T14:55:09.388Z"
   },
   {
    "duration": 21,
    "start_time": "2023-06-09T14:55:11.080Z"
   },
   {
    "duration": 19,
    "start_time": "2023-06-09T14:55:13.088Z"
   },
   {
    "duration": 37,
    "start_time": "2023-06-09T14:55:16.637Z"
   },
   {
    "duration": 3,
    "start_time": "2023-06-09T14:55:19.836Z"
   },
   {
    "duration": 2,
    "start_time": "2023-06-09T14:55:21.444Z"
   },
   {
    "duration": 16,
    "start_time": "2023-06-09T14:55:23.792Z"
   },
   {
    "duration": 6284,
    "start_time": "2023-06-09T14:55:26.356Z"
   },
   {
    "duration": 121417,
    "start_time": "2023-06-09T14:55:35.370Z"
   },
   {
    "duration": 18,
    "start_time": "2023-06-09T14:58:24.149Z"
   },
   {
    "duration": 135713,
    "start_time": "2023-06-09T14:58:25.844Z"
   },
   {
    "duration": 55,
    "start_time": "2023-06-09T15:00:56.317Z"
   },
   {
    "duration": 140857,
    "start_time": "2023-06-09T15:00:57.933Z"
   },
   {
    "duration": 246,
    "start_time": "2023-06-09T15:04:09.358Z"
   },
   {
    "duration": 9,
    "start_time": "2023-06-09T15:04:12.228Z"
   },
   {
    "duration": 3,
    "start_time": "2023-06-09T15:04:15.636Z"
   },
   {
    "duration": 4,
    "start_time": "2023-06-09T15:04:23.404Z"
   },
   {
    "duration": 3,
    "start_time": "2023-06-09T15:04:47.564Z"
   },
   {
    "duration": 3,
    "start_time": "2023-06-09T15:04:49.261Z"
   },
   {
    "duration": 5,
    "start_time": "2023-06-09T15:04:57.456Z"
   },
   {
    "duration": 8846,
    "start_time": "2023-06-09T15:04:59.073Z"
   },
   {
    "duration": 8297,
    "start_time": "2023-06-09T15:05:33.570Z"
   },
   {
    "duration": 8434,
    "start_time": "2023-06-09T15:05:46.861Z"
   },
   {
    "duration": 914,
    "start_time": "2023-06-09T15:06:32.044Z"
   },
   {
    "duration": 8,
    "start_time": "2023-06-09T15:07:12.637Z"
   },
   {
    "duration": 3689,
    "start_time": "2023-06-09T19:44:04.882Z"
   },
   {
    "duration": 6618,
    "start_time": "2023-06-09T19:44:17.084Z"
   },
   {
    "duration": 1017,
    "start_time": "2023-06-09T19:44:31.036Z"
   },
   {
    "duration": 53,
    "start_time": "2023-06-09T19:45:20.786Z"
   },
   {
    "duration": 43,
    "start_time": "2023-06-09T19:45:33.356Z"
   },
   {
    "duration": 126,
    "start_time": "2023-06-09T19:46:07.126Z"
   },
   {
    "duration": 53,
    "start_time": "2023-06-09T19:46:15.363Z"
   },
   {
    "duration": 49,
    "start_time": "2023-06-09T19:46:27.173Z"
   },
   {
    "duration": 81,
    "start_time": "2023-06-09T19:49:56.981Z"
   },
   {
    "duration": 4,
    "start_time": "2023-06-09T19:52:22.737Z"
   },
   {
    "duration": 3,
    "start_time": "2023-06-09T19:52:43.455Z"
   },
   {
    "duration": 162,
    "start_time": "2023-06-09T19:53:59.213Z"
   },
   {
    "duration": 3,
    "start_time": "2023-06-09T19:54:29.327Z"
   },
   {
    "duration": 33,
    "start_time": "2023-06-09T19:54:31.972Z"
   },
   {
    "duration": 2,
    "start_time": "2023-06-09T19:56:08.647Z"
   },
   {
    "duration": 41,
    "start_time": "2023-06-09T19:56:17.767Z"
   },
   {
    "duration": 54,
    "start_time": "2023-06-09T19:56:23.147Z"
   },
   {
    "duration": 3,
    "start_time": "2023-06-09T19:58:06.657Z"
   },
   {
    "duration": 17,
    "start_time": "2023-06-09T19:59:15.122Z"
   },
   {
    "duration": 2,
    "start_time": "2023-06-09T20:02:32.242Z"
   },
   {
    "duration": 4,
    "start_time": "2023-06-09T20:02:33.435Z"
   },
   {
    "duration": 4,
    "start_time": "2023-06-09T20:05:04.523Z"
   },
   {
    "duration": 4,
    "start_time": "2023-06-09T20:05:27.649Z"
   },
   {
    "duration": 3,
    "start_time": "2023-06-09T20:06:10.409Z"
   },
   {
    "duration": 167,
    "start_time": "2023-06-09T20:07:21.837Z"
   },
   {
    "duration": 3,
    "start_time": "2023-06-09T20:10:03.021Z"
   },
   {
    "duration": 14,
    "start_time": "2023-06-09T20:10:23.103Z"
   },
   {
    "duration": 3,
    "start_time": "2023-06-09T20:10:40.536Z"
   },
   {
    "duration": 14,
    "start_time": "2023-06-09T20:10:42.758Z"
   },
   {
    "duration": 3,
    "start_time": "2023-06-09T20:11:51.979Z"
   },
   {
    "duration": 350,
    "start_time": "2023-06-09T20:11:54.480Z"
   },
   {
    "duration": 4,
    "start_time": "2023-06-09T20:12:00.147Z"
   },
   {
    "duration": 43,
    "start_time": "2023-06-09T20:12:01.981Z"
   },
   {
    "duration": 49,
    "start_time": "2023-06-09T20:12:04.321Z"
   },
   {
    "duration": 3,
    "start_time": "2023-06-09T20:12:06.934Z"
   },
   {
    "duration": 27,
    "start_time": "2023-06-09T20:12:08.785Z"
   },
   {
    "duration": 3,
    "start_time": "2023-06-09T20:12:09.848Z"
   },
   {
    "duration": 4,
    "start_time": "2023-06-09T20:12:11.119Z"
   },
   {
    "duration": 15,
    "start_time": "2023-06-09T20:12:13.023Z"
   },
   {
    "duration": 2,
    "start_time": "2023-06-09T20:12:15.666Z"
   },
   {
    "duration": 2,
    "start_time": "2023-06-09T20:12:16.796Z"
   },
   {
    "duration": 2,
    "start_time": "2023-06-09T20:12:17.817Z"
   },
   {
    "duration": 192,
    "start_time": "2023-06-09T20:12:19.404Z"
   },
   {
    "duration": 3,
    "start_time": "2023-06-09T20:12:22.927Z"
   },
   {
    "duration": 6550,
    "start_time": "2023-06-09T20:12:28.352Z"
   },
   {
    "duration": 6509,
    "start_time": "2023-06-09T20:13:02.773Z"
   },
   {
    "duration": 107341,
    "start_time": "2023-06-09T20:13:11.782Z"
   },
   {
    "duration": 3,
    "start_time": "2023-06-09T20:15:39.564Z"
   },
   {
    "duration": 3,
    "start_time": "2023-06-09T20:15:55.243Z"
   },
   {
    "duration": 114740,
    "start_time": "2023-06-09T20:16:08.412Z"
   },
   {
    "duration": 114151,
    "start_time": "2023-06-09T20:19:14.180Z"
   },
   {
    "duration": 111519,
    "start_time": "2023-06-09T20:21:31.218Z"
   },
   {
    "duration": 190,
    "start_time": "2023-06-09T20:24:20.079Z"
   },
   {
    "duration": 7,
    "start_time": "2023-06-09T20:24:41.960Z"
   },
   {
    "duration": 2,
    "start_time": "2023-06-09T20:25:53.780Z"
   },
   {
    "duration": 3,
    "start_time": "2023-06-09T20:26:37.565Z"
   },
   {
    "duration": 4,
    "start_time": "2023-06-09T20:27:00.230Z"
   },
   {
    "duration": 69,
    "start_time": "2023-06-09T20:27:59.659Z"
   },
   {
    "duration": 92,
    "start_time": "2023-06-09T20:28:24.624Z"
   },
   {
    "duration": 10,
    "start_time": "2023-06-09T20:28:50.838Z"
   },
   {
    "duration": 11,
    "start_time": "2023-06-09T20:29:01.879Z"
   },
   {
    "duration": 5,
    "start_time": "2023-06-09T20:29:57.069Z"
   },
   {
    "duration": 3,
    "start_time": "2023-06-09T20:30:26.326Z"
   },
   {
    "duration": 3,
    "start_time": "2023-06-09T20:30:53.817Z"
   },
   {
    "duration": 3,
    "start_time": "2023-06-09T20:31:14.454Z"
   },
   {
    "duration": 3,
    "start_time": "2023-06-09T20:31:20.733Z"
   },
   {
    "duration": 3,
    "start_time": "2023-06-09T20:34:11.751Z"
   },
   {
    "duration": 10,
    "start_time": "2023-06-09T20:34:47.425Z"
   },
   {
    "duration": 6,
    "start_time": "2023-06-09T20:35:09.124Z"
   },
   {
    "duration": 4,
    "start_time": "2023-06-09T20:35:45.409Z"
   },
   {
    "duration": 23,
    "start_time": "2023-06-09T20:37:21.644Z"
   },
   {
    "duration": 6,
    "start_time": "2023-06-09T20:37:29.996Z"
   },
   {
    "duration": 26,
    "start_time": "2023-06-09T20:37:34.623Z"
   },
   {
    "duration": 4,
    "start_time": "2023-06-09T20:38:40.991Z"
   },
   {
    "duration": 4,
    "start_time": "2023-06-09T20:38:43.470Z"
   },
   {
    "duration": 22753,
    "start_time": "2023-06-09T20:38:44.861Z"
   },
   {
    "duration": 5,
    "start_time": "2023-06-09T20:43:14.215Z"
   },
   {
    "duration": 219,
    "start_time": "2023-06-09T20:44:02.326Z"
   },
   {
    "duration": 4,
    "start_time": "2023-06-09T20:44:27.530Z"
   },
   {
    "duration": 249,
    "start_time": "2023-06-09T20:44:29.019Z"
   },
   {
    "duration": 538,
    "start_time": "2023-06-09T20:45:29.146Z"
   },
   {
    "duration": 885,
    "start_time": "2023-06-09T20:45:53.783Z"
   },
   {
    "duration": 4,
    "start_time": "2023-06-09T20:46:49.583Z"
   },
   {
    "duration": 757,
    "start_time": "2023-06-09T20:48:08.394Z"
   },
   {
    "duration": 774,
    "start_time": "2023-06-09T20:48:22.033Z"
   },
   {
    "duration": 4,
    "start_time": "2023-06-09T20:49:36.517Z"
   },
   {
    "duration": 887,
    "start_time": "2023-06-09T20:50:27.777Z"
   },
   {
    "duration": 9,
    "start_time": "2023-06-09T20:50:49.816Z"
   },
   {
    "duration": 4,
    "start_time": "2023-06-09T20:52:25.398Z"
   },
   {
    "duration": 896,
    "start_time": "2023-06-09T20:52:28.148Z"
   },
   {
    "duration": 4,
    "start_time": "2023-06-09T20:52:41.864Z"
   },
   {
    "duration": 761,
    "start_time": "2023-06-09T20:52:44.206Z"
   },
   {
    "duration": 4,
    "start_time": "2023-06-09T20:53:02.011Z"
   },
   {
    "duration": 770,
    "start_time": "2023-06-09T20:53:03.944Z"
   },
   {
    "duration": 5,
    "start_time": "2023-06-09T20:53:16.983Z"
   },
   {
    "duration": 763,
    "start_time": "2023-06-09T20:53:18.437Z"
   },
   {
    "duration": 8,
    "start_time": "2023-06-09T20:55:45.802Z"
   },
   {
    "duration": 4824,
    "start_time": "2023-06-10T01:32:35.602Z"
   },
   {
    "duration": 6989,
    "start_time": "2023-06-10T01:32:40.429Z"
   },
   {
    "duration": 884,
    "start_time": "2023-06-10T01:32:47.420Z"
   },
   {
    "duration": 3,
    "start_time": "2023-06-10T01:32:48.306Z"
   },
   {
    "duration": 47,
    "start_time": "2023-06-10T01:32:48.310Z"
   },
   {
    "duration": 187,
    "start_time": "2023-06-10T01:32:48.358Z"
   },
   {
    "duration": 4,
    "start_time": "2023-06-10T01:32:48.546Z"
   },
   {
    "duration": 53,
    "start_time": "2023-06-10T01:32:48.551Z"
   },
   {
    "duration": 3,
    "start_time": "2023-06-10T01:32:48.606Z"
   },
   {
    "duration": 29,
    "start_time": "2023-06-10T01:32:48.611Z"
   },
   {
    "duration": 3,
    "start_time": "2023-06-10T01:32:48.641Z"
   },
   {
    "duration": 8,
    "start_time": "2023-06-10T01:32:48.645Z"
   },
   {
    "duration": 17,
    "start_time": "2023-06-10T01:32:48.654Z"
   },
   {
    "duration": 204,
    "start_time": "2023-06-10T01:32:48.673Z"
   },
   {
    "duration": 93,
    "start_time": "2023-06-10T01:32:48.879Z"
   },
   {
    "duration": 11929,
    "start_time": "2023-06-10T01:32:48.974Z"
   },
   {
    "duration": 0,
    "start_time": "2023-06-10T01:33:00.905Z"
   },
   {
    "duration": 0,
    "start_time": "2023-06-10T01:33:00.907Z"
   },
   {
    "duration": 0,
    "start_time": "2023-06-10T01:33:00.908Z"
   },
   {
    "duration": 0,
    "start_time": "2023-06-10T01:33:00.910Z"
   },
   {
    "duration": 0,
    "start_time": "2023-06-10T01:33:00.912Z"
   },
   {
    "duration": 0,
    "start_time": "2023-06-10T01:33:00.913Z"
   },
   {
    "duration": 0,
    "start_time": "2023-06-10T01:33:00.915Z"
   },
   {
    "duration": 0,
    "start_time": "2023-06-10T01:33:00.916Z"
   },
   {
    "duration": 0,
    "start_time": "2023-06-10T01:33:00.917Z"
   },
   {
    "duration": 1,
    "start_time": "2023-06-10T01:33:00.918Z"
   },
   {
    "duration": 2,
    "start_time": "2023-06-10T01:33:02.613Z"
   },
   {
    "duration": 9,
    "start_time": "2023-06-10T01:33:06.074Z"
   },
   {
    "duration": 2,
    "start_time": "2023-06-10T01:33:07.815Z"
   },
   {
    "duration": 4,
    "start_time": "2023-06-10T01:33:08.448Z"
   },
   {
    "duration": 2,
    "start_time": "2023-06-10T01:33:14.254Z"
   },
   {
    "duration": 3,
    "start_time": "2023-06-10T01:33:14.665Z"
   },
   {
    "duration": 5,
    "start_time": "2023-06-10T01:33:16.174Z"
   },
   {
    "duration": 5,
    "start_time": "2023-06-10T01:33:16.695Z"
   },
   {
    "duration": 11,
    "start_time": "2023-06-10T01:33:24.115Z"
   },
   {
    "duration": 5,
    "start_time": "2023-06-10T01:33:27.646Z"
   },
   {
    "duration": 4,
    "start_time": "2023-06-10T01:33:41.594Z"
   },
   {
    "duration": 43,
    "start_time": "2023-06-10T01:33:41.787Z"
   },
   {
    "duration": 4,
    "start_time": "2023-06-10T01:33:50.674Z"
   },
   {
    "duration": 22464,
    "start_time": "2023-06-10T01:33:50.834Z"
   },
   {
    "duration": 4207,
    "start_time": "2023-06-10T07:39:36.370Z"
   },
   {
    "duration": 3473,
    "start_time": "2023-06-10T07:39:43.394Z"
   },
   {
    "duration": 743,
    "start_time": "2023-06-10T07:39:49.855Z"
   },
   {
    "duration": 3,
    "start_time": "2023-06-10T07:39:53.242Z"
   },
   {
    "duration": 38,
    "start_time": "2023-06-10T07:39:54.601Z"
   },
   {
    "duration": 188,
    "start_time": "2023-06-10T07:39:57.106Z"
   },
   {
    "duration": 4,
    "start_time": "2023-06-10T07:39:59.938Z"
   },
   {
    "duration": 32,
    "start_time": "2023-06-10T07:40:01.335Z"
   },
   {
    "duration": 3,
    "start_time": "2023-06-10T07:40:02.466Z"
   },
   {
    "duration": 17,
    "start_time": "2023-06-10T07:40:04.357Z"
   },
   {
    "duration": 3,
    "start_time": "2023-06-10T07:40:07.542Z"
   },
   {
    "duration": 3,
    "start_time": "2023-06-10T07:40:08.717Z"
   },
   {
    "duration": 4,
    "start_time": "2023-06-10T07:40:10.097Z"
   },
   {
    "duration": 370,
    "start_time": "2023-06-10T07:40:12.064Z"
   },
   {
    "duration": 3,
    "start_time": "2023-06-10T07:40:17.206Z"
   },
   {
    "duration": 267,
    "start_time": "2023-06-10T07:40:21.015Z"
   },
   {
    "duration": 13,
    "start_time": "2023-06-10T07:40:24.708Z"
   },
   {
    "duration": 3,
    "start_time": "2023-06-10T07:40:28.622Z"
   },
   {
    "duration": 4,
    "start_time": "2023-06-10T07:40:32.786Z"
   },
   {
    "duration": 2,
    "start_time": "2023-06-10T07:40:37.589Z"
   },
   {
    "duration": 3,
    "start_time": "2023-06-10T07:40:39.474Z"
   },
   {
    "duration": 5,
    "start_time": "2023-06-10T07:42:18.740Z"
   },
   {
    "duration": 6,
    "start_time": "2023-06-10T07:42:26.099Z"
   },
   {
    "duration": 24,
    "start_time": "2023-06-10T07:43:11.258Z"
   },
   {
    "duration": 157,
    "start_time": "2023-06-10T07:43:45.851Z"
   },
   {
    "duration": 4,
    "start_time": "2023-06-10T07:43:49.668Z"
   },
   {
    "duration": 4,
    "start_time": "2023-06-10T07:44:09.399Z"
   },
   {
    "duration": 11,
    "start_time": "2023-06-10T07:44:27.139Z"
   },
   {
    "duration": 12,
    "start_time": "2023-06-10T07:44:39.801Z"
   },
   {
    "duration": 28,
    "start_time": "2023-06-10T07:44:44.846Z"
   },
   {
    "duration": 82,
    "start_time": "2023-06-10T07:45:39.350Z"
   },
   {
    "duration": 11,
    "start_time": "2023-06-10T07:45:46.495Z"
   },
   {
    "duration": 5,
    "start_time": "2023-06-10T07:46:36.724Z"
   },
   {
    "duration": 12,
    "start_time": "2023-06-10T07:46:43.801Z"
   },
   {
    "duration": 5,
    "start_time": "2023-06-10T07:46:55.568Z"
   },
   {
    "duration": 6,
    "start_time": "2023-06-10T07:47:19.891Z"
   },
   {
    "duration": 95,
    "start_time": "2023-06-10T07:47:56.329Z"
   },
   {
    "duration": 11,
    "start_time": "2023-06-10T07:48:12.003Z"
   },
   {
    "duration": 6,
    "start_time": "2023-06-10T07:48:50.930Z"
   },
   {
    "duration": 6245,
    "start_time": "2023-06-10T07:48:55.411Z"
   },
   {
    "duration": 6,
    "start_time": "2023-06-10T07:49:13.520Z"
   },
   {
    "duration": 4,
    "start_time": "2023-06-10T07:49:21.471Z"
   },
   {
    "duration": 964,
    "start_time": "2023-06-10T07:49:23.036Z"
   },
   {
    "duration": 7,
    "start_time": "2023-06-10T07:50:26.453Z"
   },
   {
    "duration": 892,
    "start_time": "2023-06-10T07:50:27.721Z"
   },
   {
    "duration": 7,
    "start_time": "2023-06-10T07:50:35.604Z"
   },
   {
    "duration": 1010,
    "start_time": "2023-06-10T07:50:37.353Z"
   },
   {
    "duration": 9,
    "start_time": "2023-06-10T07:50:54.012Z"
   },
   {
    "duration": 134,
    "start_time": "2023-06-10T07:54:03.988Z"
   }
  ],
  "kernelspec": {
   "display_name": "Python 3 (ipykernel)",
   "language": "python",
   "name": "python3"
  },
  "language_info": {
   "codemirror_mode": {
    "name": "ipython",
    "version": 3
   },
   "file_extension": ".py",
   "mimetype": "text/x-python",
   "name": "python",
   "nbconvert_exporter": "python",
   "pygments_lexer": "ipython3",
   "version": "3.9.13"
  },
  "toc": {
   "base_numbering": 1,
   "nav_menu": {},
   "number_sections": true,
   "sideBar": true,
   "skip_h1_title": true,
   "title_cell": "Table of Contents",
   "title_sidebar": "Contents",
   "toc_cell": false,
   "toc_position": {},
   "toc_section_display": true,
   "toc_window_display": false
  }
 },
 "nbformat": 4,
 "nbformat_minor": 2
}
