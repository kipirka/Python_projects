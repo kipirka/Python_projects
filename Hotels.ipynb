{
 "cells": [
  {
   "cell_type": "markdown",
   "metadata": {},
   "source": [
    "# Прогнозирование оттока клиентов в сети отелей «Как в гостях»"
   ]
  },
  {
   "cell_type": "markdown",
   "metadata": {},
   "source": [
    "В данном проекте я оцениваю выгоду от внедрения новой функциональности в сервис бронирования. Данная функциональность оценивает, насколько большая вероятность, что данный клиент отменит заказ и на основе этого предлагает внести предоплату за бронирование. "
   ]
  },
  {
   "cell_type": "markdown",
   "metadata": {},
   "source": [
    "По ходу проекта я вначале загружаю данные, который уже предварительно разбиты на обучающую и валидационную выборки. Далее я исследую и обрабатываю данные. Я оцениваю прибыль отеля без введения новой функциональности. После этого я обучаю модель классификации и оцениваю прибыль, которую принесёт введение данноё новой функциональности за год. \n",
    "\n",
    "В финальной части проекта я рассматриваю, какие признаки характерны для клиента, который с большой вероятностью отменит бронирование."
   ]
  },
  {
   "cell_type": "markdown",
   "metadata": {},
   "source": [
    "Основные выводы проекта: нововведение позволяет существенно увеличить прибыль и за тестовый период окупает свой бюджет на разработку в среднем в 30 раз, но только если предположить, что клиенты, которые и так собирались приехать, не будут отрицательно реагировать на запрос депозита. "
   ]
  },
  {
   "cell_type": "markdown",
   "metadata": {},
   "source": [
    "### Шаг 1. Откройте файлы с данными"
   ]
  },
  {
   "cell_type": "code",
   "execution_count": 1,
   "metadata": {},
   "outputs": [
    {
     "name": "stdout",
     "output_type": "stream",
     "text": [
      "Collecting ydata-profiling\n",
      "  Downloading ydata_profiling-4.3.1-py2.py3-none-any.whl (352 kB)\n",
      "\u001b[K     |████████████████████████████████| 352 kB 1.1 MB/s eta 0:00:01\n",
      "\u001b[?25hRequirement already satisfied: matplotlib<4,>=3.2 in /opt/conda/lib/python3.9/site-packages (from ydata-profiling) (3.3.4)\n",
      "Collecting htmlmin==0.1.12\n",
      "  Downloading htmlmin-0.1.12.tar.gz (19 kB)\n",
      "Requirement already satisfied: jinja2<3.2,>=2.11.1 in /opt/conda/lib/python3.9/site-packages (from ydata-profiling) (3.0.1)\n",
      "Collecting multimethod<2,>=1.4\n",
      "  Downloading multimethod-1.9.1-py3-none-any.whl (10 kB)\n",
      "Requirement already satisfied: numpy<1.24,>=1.16.0 in /opt/conda/lib/python3.9/site-packages (from ydata-profiling) (1.21.1)\n",
      "Collecting dacite>=1.8\n",
      "  Downloading dacite-1.8.1-py3-none-any.whl (14 kB)\n",
      "Requirement already satisfied: scipy<1.11,>=1.4.1 in /opt/conda/lib/python3.9/site-packages (from ydata-profiling) (1.9.1)\n",
      "Requirement already satisfied: pandas!=1.4.0,<2.1,>1.1 in /opt/conda/lib/python3.9/site-packages (from ydata-profiling) (1.2.4)\n",
      "Collecting wordcloud>=1.9.1\n",
      "  Downloading wordcloud-1.9.2-cp39-cp39-manylinux_2_17_x86_64.manylinux2014_x86_64.whl (460 kB)\n",
      "\u001b[K     |████████████████████████████████| 460 kB 20.0 MB/s eta 0:00:01\n",
      "\u001b[?25hRequirement already satisfied: seaborn<0.13,>=0.10.1 in /opt/conda/lib/python3.9/site-packages (from ydata-profiling) (0.11.1)\n",
      "Requirement already satisfied: requests<3,>=2.24.0 in /opt/conda/lib/python3.9/site-packages (from ydata-profiling) (2.25.1)\n",
      "Requirement already satisfied: statsmodels<1,>=0.13.2 in /opt/conda/lib/python3.9/site-packages (from ydata-profiling) (0.13.2)\n",
      "Requirement already satisfied: pydantic<2,>=1.8.1 in /opt/conda/lib/python3.9/site-packages (from ydata-profiling) (1.8.2)\n",
      "Collecting visions[type_image_path]==0.7.5\n",
      "  Downloading visions-0.7.5-py3-none-any.whl (102 kB)\n",
      "\u001b[K     |████████████████████████████████| 102 kB 62.6 MB/s eta 0:00:01\n",
      "\u001b[?25hCollecting typeguard<3,>=2.13.2\n",
      "  Downloading typeguard-2.13.3-py3-none-any.whl (17 kB)\n",
      "Requirement already satisfied: tqdm<5,>=4.48.2 in /opt/conda/lib/python3.9/site-packages (from ydata-profiling) (4.61.2)\n",
      "Collecting imagehash==4.3.1\n",
      "  Downloading ImageHash-4.3.1-py2.py3-none-any.whl (296 kB)\n",
      "\u001b[K     |████████████████████████████████| 296 kB 71.0 MB/s eta 0:00:01\n",
      "\u001b[?25hCollecting phik<0.13,>=0.11.1\n",
      "  Downloading phik-0.12.3-cp39-cp39-manylinux_2_17_x86_64.manylinux2014_x86_64.whl (679 kB)\n",
      "\u001b[K     |████████████████████████████████| 679 kB 73.2 MB/s eta 0:00:01\n",
      "\u001b[?25hRequirement already satisfied: PyYAML<6.1,>=5.0.0 in /opt/conda/lib/python3.9/site-packages (from ydata-profiling) (6.0)\n",
      "Requirement already satisfied: pillow in /opt/conda/lib/python3.9/site-packages (from imagehash==4.3.1->ydata-profiling) (8.4.0)\n",
      "Collecting PyWavelets\n",
      "  Downloading PyWavelets-1.4.1-cp39-cp39-manylinux_2_17_x86_64.manylinux2014_x86_64.whl (6.9 MB)\n",
      "\u001b[K     |████████████████████████████████| 6.9 MB 89.6 MB/s eta 0:00:01\n",
      "\u001b[?25hCollecting tangled-up-in-unicode>=0.0.4\n",
      "  Downloading tangled_up_in_unicode-0.2.0-py3-none-any.whl (4.7 MB)\n",
      "\u001b[K     |████████████████████████████████| 4.7 MB 59.9 MB/s eta 0:00:01\n",
      "\u001b[?25hCollecting networkx>=2.4\n",
      "  Downloading networkx-3.1-py3-none-any.whl (2.1 MB)\n",
      "\u001b[K     |████████████████████████████████| 2.1 MB 71.1 MB/s eta 0:00:01\n",
      "\u001b[?25hRequirement already satisfied: attrs>=19.3.0 in /opt/conda/lib/python3.9/site-packages (from visions[type_image_path]==0.7.5->ydata-profiling) (21.2.0)\n",
      "Requirement already satisfied: MarkupSafe>=2.0 in /opt/conda/lib/python3.9/site-packages (from jinja2<3.2,>=2.11.1->ydata-profiling) (2.1.1)\n",
      "Requirement already satisfied: cycler>=0.10 in /opt/conda/lib/python3.9/site-packages (from matplotlib<4,>=3.2->ydata-profiling) (0.11.0)\n",
      "Requirement already satisfied: python-dateutil>=2.1 in /opt/conda/lib/python3.9/site-packages (from matplotlib<4,>=3.2->ydata-profiling) (2.8.1)\n",
      "Requirement already satisfied: pyparsing!=2.0.4,!=2.1.2,!=2.1.6,>=2.0.3 in /opt/conda/lib/python3.9/site-packages (from matplotlib<4,>=3.2->ydata-profiling) (2.4.7)\n",
      "Requirement already satisfied: kiwisolver>=1.0.1 in /opt/conda/lib/python3.9/site-packages (from matplotlib<4,>=3.2->ydata-profiling) (1.4.4)\n",
      "Requirement already satisfied: pytz>=2017.3 in /opt/conda/lib/python3.9/site-packages (from pandas!=1.4.0,<2.1,>1.1->ydata-profiling) (2021.1)\n",
      "Requirement already satisfied: joblib>=0.14.1 in /opt/conda/lib/python3.9/site-packages (from phik<0.13,>=0.11.1->ydata-profiling) (1.1.0)\n",
      "Requirement already satisfied: typing-extensions>=3.7.4.3 in /opt/conda/lib/python3.9/site-packages (from pydantic<2,>=1.8.1->ydata-profiling) (4.3.0)\n",
      "Requirement already satisfied: six>=1.5 in /opt/conda/lib/python3.9/site-packages (from python-dateutil>=2.1->matplotlib<4,>=3.2->ydata-profiling) (1.16.0)\n",
      "Requirement already satisfied: idna<3,>=2.5 in /opt/conda/lib/python3.9/site-packages (from requests<3,>=2.24.0->ydata-profiling) (2.10)\n",
      "Requirement already satisfied: urllib3<1.27,>=1.21.1 in /opt/conda/lib/python3.9/site-packages (from requests<3,>=2.24.0->ydata-profiling) (1.26.6)\n",
      "Requirement already satisfied: certifi>=2017.4.17 in /opt/conda/lib/python3.9/site-packages (from requests<3,>=2.24.0->ydata-profiling) (2022.6.15)\n",
      "Requirement already satisfied: chardet<5,>=3.0.2 in /opt/conda/lib/python3.9/site-packages (from requests<3,>=2.24.0->ydata-profiling) (4.0.0)\n",
      "Requirement already satisfied: packaging>=21.3 in /opt/conda/lib/python3.9/site-packages (from statsmodels<1,>=0.13.2->ydata-profiling) (21.3)\n",
      "Requirement already satisfied: patsy>=0.5.2 in /opt/conda/lib/python3.9/site-packages (from statsmodels<1,>=0.13.2->ydata-profiling) (0.5.2)\n",
      "Building wheels for collected packages: htmlmin\n",
      "  Building wheel for htmlmin (setup.py) ... \u001b[?25ldone\n",
      "\u001b[?25h  Created wheel for htmlmin: filename=htmlmin-0.1.12-py3-none-any.whl size=27085 sha256=d1916b183ebb6cb5992cfa85aad042e064fb95e81245fa2621e246b75d72260a\n",
      "  Stored in directory: /home/jovyan/.cache/pip/wheels/1d/05/04/c6d7d3b66539d9e659ac6dfe81e2d0fd4c1a8316cc5a403300\n",
      "Successfully built htmlmin\n",
      "Installing collected packages: tangled-up-in-unicode, PyWavelets, networkx, multimethod, visions, imagehash, wordcloud, typeguard, phik, htmlmin, dacite, ydata-profiling\n",
      "Successfully installed PyWavelets-1.4.1 dacite-1.8.1 htmlmin-0.1.12 imagehash-4.3.1 multimethod-1.9.1 networkx-3.1 phik-0.12.3 tangled-up-in-unicode-0.2.0 typeguard-2.13.3 visions-0.7.5 wordcloud-1.9.2 ydata-profiling-4.3.1\n",
      "Note: you may need to restart the kernel to use updated packages.\n"
     ]
    }
   ],
   "source": [
    "pip install -U ydata-profiling"
   ]
  },
  {
   "cell_type": "code",
   "execution_count": 2,
   "metadata": {},
   "outputs": [
    {
     "name": "stdout",
     "output_type": "stream",
     "text": [
      "Requirement already satisfied: Pillow in /opt/conda/lib/python3.9/site-packages (8.4.0)\n",
      "Collecting Pillow\n",
      "  Downloading Pillow-10.0.0-cp39-cp39-manylinux_2_28_x86_64.whl (3.4 MB)\n",
      "\u001b[K     |████████████████████████████████| 3.4 MB 1.0 MB/s eta 0:00:01\n",
      "\u001b[?25hInstalling collected packages: Pillow\n",
      "  Attempting uninstall: Pillow\n",
      "    Found existing installation: Pillow 8.4.0\n",
      "    Uninstalling Pillow-8.4.0:\n",
      "      Successfully uninstalled Pillow-8.4.0\n",
      "Successfully installed Pillow-10.0.0\n",
      "Note: you may need to restart the kernel to use updated packages.\n"
     ]
    }
   ],
   "source": [
    "pip install --upgrade Pillow"
   ]
  },
  {
   "cell_type": "code",
   "execution_count": 3,
   "metadata": {},
   "outputs": [
    {
     "name": "stdout",
     "output_type": "stream",
     "text": [
      "Requirement already satisfied: matplotlib in /opt/conda/lib/python3.9/site-packages (3.3.4)\n",
      "Collecting matplotlib\n",
      "  Downloading matplotlib-3.7.2-cp39-cp39-manylinux_2_17_x86_64.manylinux2014_x86_64.whl (11.6 MB)\n",
      "\u001b[K     |████████████████████████████████| 11.6 MB 1.0 MB/s eta 0:00:01\n",
      "\u001b[?25hCollecting importlib-resources>=3.2.0\n",
      "  Downloading importlib_resources-6.0.0-py3-none-any.whl (31 kB)\n",
      "Requirement already satisfied: kiwisolver>=1.0.1 in /opt/conda/lib/python3.9/site-packages (from matplotlib) (1.4.4)\n",
      "Collecting contourpy>=1.0.1\n",
      "  Downloading contourpy-1.1.0-cp39-cp39-manylinux_2_17_x86_64.manylinux2014_x86_64.whl (300 kB)\n",
      "\u001b[K     |████████████████████████████████| 300 kB 80.9 MB/s eta 0:00:01\n",
      "\u001b[?25hRequirement already satisfied: pillow>=6.2.0 in /opt/conda/lib/python3.9/site-packages (from matplotlib) (10.0.0)\n",
      "Requirement already satisfied: pyparsing<3.1,>=2.3.1 in /opt/conda/lib/python3.9/site-packages (from matplotlib) (2.4.7)\n",
      "Collecting fonttools>=4.22.0\n",
      "  Downloading fonttools-4.41.0-cp39-cp39-manylinux_2_17_x86_64.manylinux2014_x86_64.whl (4.4 MB)\n",
      "\u001b[K     |████████████████████████████████| 4.4 MB 72.4 MB/s eta 0:00:01\n",
      "\u001b[?25hRequirement already satisfied: numpy>=1.20 in /opt/conda/lib/python3.9/site-packages (from matplotlib) (1.21.1)\n",
      "Requirement already satisfied: python-dateutil>=2.7 in /opt/conda/lib/python3.9/site-packages (from matplotlib) (2.8.1)\n",
      "Requirement already satisfied: packaging>=20.0 in /opt/conda/lib/python3.9/site-packages (from matplotlib) (21.3)\n",
      "Requirement already satisfied: cycler>=0.10 in /opt/conda/lib/python3.9/site-packages (from matplotlib) (0.11.0)\n",
      "Requirement already satisfied: zipp>=3.1.0 in /opt/conda/lib/python3.9/site-packages (from importlib-resources>=3.2.0->matplotlib) (3.5.0)\n",
      "Requirement already satisfied: six>=1.5 in /opt/conda/lib/python3.9/site-packages (from python-dateutil>=2.7->matplotlib) (1.16.0)\n",
      "Installing collected packages: importlib-resources, fonttools, contourpy, matplotlib\n",
      "  Attempting uninstall: matplotlib\n",
      "    Found existing installation: matplotlib 3.3.4\n",
      "    Uninstalling matplotlib-3.3.4:\n",
      "      Successfully uninstalled matplotlib-3.3.4\n",
      "Successfully installed contourpy-1.1.0 fonttools-4.41.0 importlib-resources-6.0.0 matplotlib-3.7.2\n",
      "Note: you may need to restart the kernel to use updated packages.\n"
     ]
    }
   ],
   "source": [
    "pip install --upgrade matplotlib"
   ]
  },
  {
   "cell_type": "code",
   "execution_count": 4,
   "metadata": {},
   "outputs": [
    {
     "name": "stdout",
     "output_type": "stream",
     "text": [
      "Collecting scikit-learn==1.1.3\n",
      "  Downloading scikit_learn-1.1.3-cp39-cp39-manylinux_2_17_x86_64.manylinux2014_x86_64.whl (30.8 MB)\n",
      "\u001b[K     |████████████████████████████████| 30.8 MB 1.9 MB/s eta 0:00:01\n",
      "\u001b[?25hRequirement already satisfied: numpy>=1.17.3 in /opt/conda/lib/python3.9/site-packages (from scikit-learn==1.1.3) (1.21.1)\n",
      "Requirement already satisfied: scipy>=1.3.2 in /opt/conda/lib/python3.9/site-packages (from scikit-learn==1.1.3) (1.9.1)\n",
      "Requirement already satisfied: threadpoolctl>=2.0.0 in /opt/conda/lib/python3.9/site-packages (from scikit-learn==1.1.3) (3.1.0)\n",
      "Requirement already satisfied: joblib>=1.0.0 in /opt/conda/lib/python3.9/site-packages (from scikit-learn==1.1.3) (1.1.0)\n",
      "Installing collected packages: scikit-learn\n",
      "  Attempting uninstall: scikit-learn\n",
      "    Found existing installation: scikit-learn 0.24.1\n",
      "    Uninstalling scikit-learn-0.24.1:\n",
      "      Successfully uninstalled scikit-learn-0.24.1\n",
      "Successfully installed scikit-learn-1.1.3\n"
     ]
    }
   ],
   "source": [
    "!pip install scikit-learn==1.1.3"
   ]
  },
  {
   "cell_type": "code",
   "execution_count": 5,
   "metadata": {},
   "outputs": [
    {
     "name": "stdout",
     "output_type": "stream",
     "text": [
      "Collecting shap\n",
      "  Downloading shap-0.42.1-cp39-cp39-manylinux_2_12_x86_64.manylinux2010_x86_64.manylinux_2_17_x86_64.manylinux2014_x86_64.whl (547 kB)\n",
      "\u001b[K     |████████████████████████████████| 547 kB 1.0 MB/s eta 0:00:01\n",
      "\u001b[?25hRequirement already satisfied: pandas in /opt/conda/lib/python3.9/site-packages (from shap) (1.2.4)\n",
      "Collecting slicer==0.0.7\n",
      "  Downloading slicer-0.0.7-py3-none-any.whl (14 kB)\n",
      "Requirement already satisfied: scipy in /opt/conda/lib/python3.9/site-packages (from shap) (1.9.1)\n",
      "Requirement already satisfied: numpy in /opt/conda/lib/python3.9/site-packages (from shap) (1.21.1)\n",
      "Requirement already satisfied: numba in /opt/conda/lib/python3.9/site-packages (from shap) (0.56.0)\n",
      "Requirement already satisfied: scikit-learn in /opt/conda/lib/python3.9/site-packages (from shap) (1.1.3)\n",
      "Requirement already satisfied: packaging>20.9 in /opt/conda/lib/python3.9/site-packages (from shap) (21.3)\n",
      "Requirement already satisfied: tqdm>=4.27.0 in /opt/conda/lib/python3.9/site-packages (from shap) (4.61.2)\n",
      "Collecting cloudpickle\n",
      "  Downloading cloudpickle-2.2.1-py3-none-any.whl (25 kB)\n",
      "Requirement already satisfied: pyparsing!=3.0.5,>=2.0.2 in /opt/conda/lib/python3.9/site-packages (from packaging>20.9->shap) (2.4.7)\n",
      "Requirement already satisfied: setuptools in /opt/conda/lib/python3.9/site-packages (from numba->shap) (49.6.0.post20210108)\n",
      "Requirement already satisfied: llvmlite<0.40,>=0.39.0dev0 in /opt/conda/lib/python3.9/site-packages (from numba->shap) (0.39.0)\n",
      "Requirement already satisfied: python-dateutil>=2.7.3 in /opt/conda/lib/python3.9/site-packages (from pandas->shap) (2.8.1)\n",
      "Requirement already satisfied: pytz>=2017.3 in /opt/conda/lib/python3.9/site-packages (from pandas->shap) (2021.1)\n",
      "Requirement already satisfied: six>=1.5 in /opt/conda/lib/python3.9/site-packages (from python-dateutil>=2.7.3->pandas->shap) (1.16.0)\n",
      "Requirement already satisfied: threadpoolctl>=2.0.0 in /opt/conda/lib/python3.9/site-packages (from scikit-learn->shap) (3.1.0)\n",
      "Requirement already satisfied: joblib>=1.0.0 in /opt/conda/lib/python3.9/site-packages (from scikit-learn->shap) (1.1.0)\n",
      "Installing collected packages: slicer, cloudpickle, shap\n",
      "Successfully installed cloudpickle-2.2.1 shap-0.42.1 slicer-0.0.7\n",
      "Note: you may need to restart the kernel to use updated packages.\n"
     ]
    }
   ],
   "source": [
    "pip install shap"
   ]
  },
  {
   "cell_type": "code",
   "execution_count": 6,
   "metadata": {},
   "outputs": [
    {
     "name": "stdout",
     "output_type": "stream",
     "text": [
      "Collecting optuna\n",
      "  Downloading optuna-3.2.0-py3-none-any.whl (390 kB)\n",
      "\u001b[K     |████████████████████████████████| 390 kB 1.1 MB/s eta 0:00:01\n",
      "\u001b[?25hCollecting cmaes>=0.9.1\n",
      "  Downloading cmaes-0.9.1-py3-none-any.whl (21 kB)\n",
      "Requirement already satisfied: sqlalchemy>=1.3.0 in /opt/conda/lib/python3.9/site-packages (from optuna) (1.4.20)\n",
      "Requirement already satisfied: tqdm in /opt/conda/lib/python3.9/site-packages (from optuna) (4.61.2)\n",
      "Requirement already satisfied: alembic>=1.5.0 in /opt/conda/lib/python3.9/site-packages (from optuna) (1.6.5)\n",
      "Collecting colorlog\n",
      "  Downloading colorlog-6.7.0-py2.py3-none-any.whl (11 kB)\n",
      "Requirement already satisfied: packaging>=20.0 in /opt/conda/lib/python3.9/site-packages (from optuna) (21.3)\n",
      "Requirement already satisfied: numpy in /opt/conda/lib/python3.9/site-packages (from optuna) (1.21.1)\n",
      "Requirement already satisfied: PyYAML in /opt/conda/lib/python3.9/site-packages (from optuna) (6.0)\n",
      "Requirement already satisfied: python-editor>=0.3 in /opt/conda/lib/python3.9/site-packages (from alembic>=1.5.0->optuna) (1.0.4)\n",
      "Requirement already satisfied: Mako in /opt/conda/lib/python3.9/site-packages (from alembic>=1.5.0->optuna) (1.1.4)\n",
      "Requirement already satisfied: python-dateutil in /opt/conda/lib/python3.9/site-packages (from alembic>=1.5.0->optuna) (2.8.1)\n",
      "Requirement already satisfied: pyparsing!=3.0.5,>=2.0.2 in /opt/conda/lib/python3.9/site-packages (from packaging>=20.0->optuna) (2.4.7)\n",
      "Requirement already satisfied: greenlet!=0.4.17 in /opt/conda/lib/python3.9/site-packages (from sqlalchemy>=1.3.0->optuna) (1.1.0)\n",
      "Requirement already satisfied: MarkupSafe>=0.9.2 in /opt/conda/lib/python3.9/site-packages (from Mako->alembic>=1.5.0->optuna) (2.1.1)\n",
      "Requirement already satisfied: six>=1.5 in /opt/conda/lib/python3.9/site-packages (from python-dateutil->alembic>=1.5.0->optuna) (1.16.0)\n",
      "Installing collected packages: colorlog, cmaes, optuna\n",
      "Successfully installed cmaes-0.9.1 colorlog-6.7.0 optuna-3.2.0\n"
     ]
    }
   ],
   "source": [
    "!pip install optuna"
   ]
  },
  {
   "cell_type": "code",
   "execution_count": 7,
   "metadata": {},
   "outputs": [
    {
     "name": "stdout",
     "output_type": "stream",
     "text": [
      "Collecting imblearn\n",
      "  Downloading imblearn-0.0-py2.py3-none-any.whl (1.9 kB)\n",
      "Collecting imbalanced-learn\n",
      "  Downloading imbalanced_learn-0.11.0-py3-none-any.whl (235 kB)\n",
      "\u001b[K     |████████████████████████████████| 235 kB 1.9 MB/s eta 0:00:01\n",
      "\u001b[?25hRequirement already satisfied: numpy>=1.17.3 in /opt/conda/lib/python3.9/site-packages (from imbalanced-learn->imblearn) (1.21.1)\n",
      "Requirement already satisfied: threadpoolctl>=2.0.0 in /opt/conda/lib/python3.9/site-packages (from imbalanced-learn->imblearn) (3.1.0)\n",
      "Requirement already satisfied: scipy>=1.5.0 in /opt/conda/lib/python3.9/site-packages (from imbalanced-learn->imblearn) (1.9.1)\n",
      "Requirement already satisfied: scikit-learn>=1.0.2 in /opt/conda/lib/python3.9/site-packages (from imbalanced-learn->imblearn) (1.1.3)\n",
      "Collecting joblib>=1.1.1\n",
      "  Downloading joblib-1.3.1-py3-none-any.whl (301 kB)\n",
      "\u001b[K     |████████████████████████████████| 301 kB 26.4 MB/s eta 0:00:01\n",
      "\u001b[?25hInstalling collected packages: joblib, imbalanced-learn, imblearn\n",
      "  Attempting uninstall: joblib\n",
      "    Found existing installation: joblib 1.1.0\n",
      "    Uninstalling joblib-1.1.0:\n",
      "      Successfully uninstalled joblib-1.1.0\n",
      "Successfully installed imbalanced-learn-0.11.0 imblearn-0.0 joblib-1.3.1\n"
     ]
    }
   ],
   "source": [
    "!pip install imblearn"
   ]
  },
  {
   "cell_type": "code",
   "execution_count": 155,
   "metadata": {},
   "outputs": [],
   "source": [
    "import pandas as pd\n",
    "import matplotlib.pyplot as plt\n",
    "import numpy as np\n",
    "import os\n",
    "from ydata_profiling import ProfileReport\n",
    "from datetime import timedelta\n",
    "from dateutil.relativedelta import relativedelta\n",
    "\n",
    "from sklearn.preprocessing import StandardScaler, OneHotEncoder, PolynomialFeatures, OrdinalEncoder\n",
    "from sklearn.compose import make_column_transformer, ColumnTransformer\n",
    "from sklearn.pipeline import Pipeline, make_pipeline\n",
    "from sklearn.ensemble import RandomForestClassifier\n",
    "from sklearn.linear_model import LogisticRegression\n",
    "from sklearn.tree import DecisionTreeClassifier\n",
    "from sklearn.model_selection import train_test_split, cross_val_score\n",
    "from sklearn.metrics import recall_score\n",
    "import shap\n",
    "\n",
    "import optuna\n",
    "from optuna.samplers import TPESampler\n",
    "from imblearn.under_sampling import RandomUnderSampler\n",
    "from imblearn.pipeline import Pipeline as Pipeline_imb\n",
    "from imblearn.over_sampling import SMOTE, ADASYN\n",
    "from catboost import CatBoostClassifier, Pool\n",
    "import lightgbm as lgb"
   ]
  },
  {
   "cell_type": "code",
   "execution_count": 9,
   "metadata": {},
   "outputs": [],
   "source": [
    "# Импортируем данные\n",
    "path_train = 'https://code.s3.yandex.net/datasets/hotel_train.csv'\n",
    "path_test = 'https://code.s3.yandex.net/datasets/hotel_test.csv'\n",
    "\n",
    "if os.path.exists(path_train):\n",
    "    data_train = pd.read_csv('https://code.s3.yandex.net/datasets/hotel_train.csv')\n",
    "else:\n",
    "    data_train = pd.read_csv('/datasets/hotel_train.csv')\n",
    "    \n",
    "if os.path.exists(path_test):\n",
    "    data_test = pd.read_csv('https://code.s3.yandex.net/datasets/hotel_test.csv')\n",
    "else:\n",
    "    data_test = pd.read_csv('/datasets/hotel_test.csv')"
   ]
  },
  {
   "cell_type": "markdown",
   "metadata": {},
   "source": [
    "Посмотрим на данные."
   ]
  },
  {
   "cell_type": "code",
   "execution_count": 10,
   "metadata": {},
   "outputs": [
    {
     "data": {
      "text/html": [
       "<div>\n",
       "<style scoped>\n",
       "    .dataframe tbody tr th:only-of-type {\n",
       "        vertical-align: middle;\n",
       "    }\n",
       "\n",
       "    .dataframe tbody tr th {\n",
       "        vertical-align: top;\n",
       "    }\n",
       "\n",
       "    .dataframe thead th {\n",
       "        text-align: right;\n",
       "    }\n",
       "</style>\n",
       "<table border=\"1\" class=\"dataframe\">\n",
       "  <thead>\n",
       "    <tr style=\"text-align: right;\">\n",
       "      <th></th>\n",
       "      <th>id</th>\n",
       "      <th>is_canceled</th>\n",
       "      <th>lead_time</th>\n",
       "      <th>arrival_date_year</th>\n",
       "      <th>arrival_date_month</th>\n",
       "      <th>arrival_date_week_number</th>\n",
       "      <th>arrival_date_day_of_month</th>\n",
       "      <th>stays_in_weekend_nights</th>\n",
       "      <th>stays_in_week_nights</th>\n",
       "      <th>adults</th>\n",
       "      <th>...</th>\n",
       "      <th>is_repeated_guest</th>\n",
       "      <th>previous_cancellations</th>\n",
       "      <th>previous_bookings_not_canceled</th>\n",
       "      <th>reserved_room_type</th>\n",
       "      <th>booking_changes</th>\n",
       "      <th>days_in_waiting_list</th>\n",
       "      <th>customer_type</th>\n",
       "      <th>required_car_parking_spaces</th>\n",
       "      <th>total_of_special_requests</th>\n",
       "      <th>total_nights</th>\n",
       "    </tr>\n",
       "  </thead>\n",
       "  <tbody>\n",
       "    <tr>\n",
       "      <th>0</th>\n",
       "      <td>0</td>\n",
       "      <td>0</td>\n",
       "      <td>7.0</td>\n",
       "      <td>2015</td>\n",
       "      <td>July</td>\n",
       "      <td>27</td>\n",
       "      <td>1</td>\n",
       "      <td>0</td>\n",
       "      <td>1</td>\n",
       "      <td>1.0</td>\n",
       "      <td>...</td>\n",
       "      <td>0</td>\n",
       "      <td>0</td>\n",
       "      <td>0</td>\n",
       "      <td>A</td>\n",
       "      <td>0</td>\n",
       "      <td>0</td>\n",
       "      <td>Transient</td>\n",
       "      <td>0</td>\n",
       "      <td>0</td>\n",
       "      <td>1</td>\n",
       "    </tr>\n",
       "    <tr>\n",
       "      <th>1</th>\n",
       "      <td>1</td>\n",
       "      <td>0</td>\n",
       "      <td>14.0</td>\n",
       "      <td>2015</td>\n",
       "      <td>July</td>\n",
       "      <td>27</td>\n",
       "      <td>1</td>\n",
       "      <td>0</td>\n",
       "      <td>2</td>\n",
       "      <td>2.0</td>\n",
       "      <td>...</td>\n",
       "      <td>0</td>\n",
       "      <td>0</td>\n",
       "      <td>0</td>\n",
       "      <td>A</td>\n",
       "      <td>0</td>\n",
       "      <td>0</td>\n",
       "      <td>Transient</td>\n",
       "      <td>0</td>\n",
       "      <td>1</td>\n",
       "      <td>2</td>\n",
       "    </tr>\n",
       "    <tr>\n",
       "      <th>2</th>\n",
       "      <td>2</td>\n",
       "      <td>0</td>\n",
       "      <td>0.0</td>\n",
       "      <td>2015</td>\n",
       "      <td>July</td>\n",
       "      <td>27</td>\n",
       "      <td>1</td>\n",
       "      <td>0</td>\n",
       "      <td>2</td>\n",
       "      <td>2.0</td>\n",
       "      <td>...</td>\n",
       "      <td>0</td>\n",
       "      <td>0</td>\n",
       "      <td>0</td>\n",
       "      <td>C</td>\n",
       "      <td>0</td>\n",
       "      <td>0</td>\n",
       "      <td>Transient</td>\n",
       "      <td>0</td>\n",
       "      <td>0</td>\n",
       "      <td>2</td>\n",
       "    </tr>\n",
       "    <tr>\n",
       "      <th>3</th>\n",
       "      <td>3</td>\n",
       "      <td>0</td>\n",
       "      <td>9.0</td>\n",
       "      <td>2015</td>\n",
       "      <td>July</td>\n",
       "      <td>27</td>\n",
       "      <td>1</td>\n",
       "      <td>0</td>\n",
       "      <td>2</td>\n",
       "      <td>2.0</td>\n",
       "      <td>...</td>\n",
       "      <td>0</td>\n",
       "      <td>0</td>\n",
       "      <td>0</td>\n",
       "      <td>C</td>\n",
       "      <td>0</td>\n",
       "      <td>0</td>\n",
       "      <td>Transient</td>\n",
       "      <td>0</td>\n",
       "      <td>1</td>\n",
       "      <td>2</td>\n",
       "    </tr>\n",
       "    <tr>\n",
       "      <th>4</th>\n",
       "      <td>4</td>\n",
       "      <td>1</td>\n",
       "      <td>85.0</td>\n",
       "      <td>2015</td>\n",
       "      <td>July</td>\n",
       "      <td>27</td>\n",
       "      <td>1</td>\n",
       "      <td>0</td>\n",
       "      <td>3</td>\n",
       "      <td>2.0</td>\n",
       "      <td>...</td>\n",
       "      <td>0</td>\n",
       "      <td>0</td>\n",
       "      <td>0</td>\n",
       "      <td>A</td>\n",
       "      <td>0</td>\n",
       "      <td>0</td>\n",
       "      <td>Transient</td>\n",
       "      <td>0</td>\n",
       "      <td>1</td>\n",
       "      <td>3</td>\n",
       "    </tr>\n",
       "  </tbody>\n",
       "</table>\n",
       "<p>5 rows × 25 columns</p>\n",
       "</div>"
      ],
      "text/plain": [
       "   id  is_canceled  lead_time  arrival_date_year arrival_date_month  \\\n",
       "0   0            0        7.0               2015               July   \n",
       "1   1            0       14.0               2015               July   \n",
       "2   2            0        0.0               2015               July   \n",
       "3   3            0        9.0               2015               July   \n",
       "4   4            1       85.0               2015               July   \n",
       "\n",
       "   arrival_date_week_number  arrival_date_day_of_month  \\\n",
       "0                        27                          1   \n",
       "1                        27                          1   \n",
       "2                        27                          1   \n",
       "3                        27                          1   \n",
       "4                        27                          1   \n",
       "\n",
       "   stays_in_weekend_nights  stays_in_week_nights  adults  ...  \\\n",
       "0                        0                     1     1.0  ...   \n",
       "1                        0                     2     2.0  ...   \n",
       "2                        0                     2     2.0  ...   \n",
       "3                        0                     2     2.0  ...   \n",
       "4                        0                     3     2.0  ...   \n",
       "\n",
       "   is_repeated_guest  previous_cancellations previous_bookings_not_canceled  \\\n",
       "0                  0                       0                              0   \n",
       "1                  0                       0                              0   \n",
       "2                  0                       0                              0   \n",
       "3                  0                       0                              0   \n",
       "4                  0                       0                              0   \n",
       "\n",
       "  reserved_room_type booking_changes  days_in_waiting_list  customer_type  \\\n",
       "0   A                              0                     0      Transient   \n",
       "1   A                              0                     0      Transient   \n",
       "2   C                              0                     0      Transient   \n",
       "3   C                              0                     0      Transient   \n",
       "4   A                              0                     0      Transient   \n",
       "\n",
       "   required_car_parking_spaces total_of_special_requests  total_nights  \n",
       "0                            0                         0             1  \n",
       "1                            0                         1             2  \n",
       "2                            0                         0             2  \n",
       "3                            0                         1             2  \n",
       "4                            0                         1             3  \n",
       "\n",
       "[5 rows x 25 columns]"
      ]
     },
     "metadata": {},
     "output_type": "display_data"
    },
    {
     "data": {
      "text/html": [
       "<div>\n",
       "<style scoped>\n",
       "    .dataframe tbody tr th:only-of-type {\n",
       "        vertical-align: middle;\n",
       "    }\n",
       "\n",
       "    .dataframe tbody tr th {\n",
       "        vertical-align: top;\n",
       "    }\n",
       "\n",
       "    .dataframe thead th {\n",
       "        text-align: right;\n",
       "    }\n",
       "</style>\n",
       "<table border=\"1\" class=\"dataframe\">\n",
       "  <thead>\n",
       "    <tr style=\"text-align: right;\">\n",
       "      <th></th>\n",
       "      <th>id</th>\n",
       "      <th>is_canceled</th>\n",
       "      <th>lead_time</th>\n",
       "      <th>arrival_date_year</th>\n",
       "      <th>arrival_date_month</th>\n",
       "      <th>arrival_date_week_number</th>\n",
       "      <th>arrival_date_day_of_month</th>\n",
       "      <th>stays_in_weekend_nights</th>\n",
       "      <th>stays_in_week_nights</th>\n",
       "      <th>adults</th>\n",
       "      <th>...</th>\n",
       "      <th>is_repeated_guest</th>\n",
       "      <th>previous_cancellations</th>\n",
       "      <th>previous_bookings_not_canceled</th>\n",
       "      <th>reserved_room_type</th>\n",
       "      <th>booking_changes</th>\n",
       "      <th>days_in_waiting_list</th>\n",
       "      <th>customer_type</th>\n",
       "      <th>required_car_parking_spaces</th>\n",
       "      <th>total_of_special_requests</th>\n",
       "      <th>total_nights</th>\n",
       "    </tr>\n",
       "  </thead>\n",
       "  <tbody>\n",
       "    <tr>\n",
       "      <th>0</th>\n",
       "      <td>6086</td>\n",
       "      <td>1</td>\n",
       "      <td>74.0</td>\n",
       "      <td>2017</td>\n",
       "      <td>January</td>\n",
       "      <td>1</td>\n",
       "      <td>1</td>\n",
       "      <td>1</td>\n",
       "      <td>0</td>\n",
       "      <td>2.0</td>\n",
       "      <td>...</td>\n",
       "      <td>0</td>\n",
       "      <td>0</td>\n",
       "      <td>0</td>\n",
       "      <td>A</td>\n",
       "      <td>0</td>\n",
       "      <td>0</td>\n",
       "      <td>Transient</td>\n",
       "      <td>0</td>\n",
       "      <td>0</td>\n",
       "      <td>1</td>\n",
       "    </tr>\n",
       "    <tr>\n",
       "      <th>1</th>\n",
       "      <td>6087</td>\n",
       "      <td>1</td>\n",
       "      <td>62.0</td>\n",
       "      <td>2017</td>\n",
       "      <td>January</td>\n",
       "      <td>1</td>\n",
       "      <td>1</td>\n",
       "      <td>2</td>\n",
       "      <td>2</td>\n",
       "      <td>2.0</td>\n",
       "      <td>...</td>\n",
       "      <td>0</td>\n",
       "      <td>0</td>\n",
       "      <td>0</td>\n",
       "      <td>A</td>\n",
       "      <td>0</td>\n",
       "      <td>0</td>\n",
       "      <td>Transient</td>\n",
       "      <td>0</td>\n",
       "      <td>1</td>\n",
       "      <td>4</td>\n",
       "    </tr>\n",
       "    <tr>\n",
       "      <th>2</th>\n",
       "      <td>6088</td>\n",
       "      <td>1</td>\n",
       "      <td>62.0</td>\n",
       "      <td>2017</td>\n",
       "      <td>January</td>\n",
       "      <td>1</td>\n",
       "      <td>1</td>\n",
       "      <td>2</td>\n",
       "      <td>2</td>\n",
       "      <td>2.0</td>\n",
       "      <td>...</td>\n",
       "      <td>0</td>\n",
       "      <td>0</td>\n",
       "      <td>0</td>\n",
       "      <td>A</td>\n",
       "      <td>0</td>\n",
       "      <td>0</td>\n",
       "      <td>Transient</td>\n",
       "      <td>0</td>\n",
       "      <td>1</td>\n",
       "      <td>4</td>\n",
       "    </tr>\n",
       "    <tr>\n",
       "      <th>3</th>\n",
       "      <td>6089</td>\n",
       "      <td>1</td>\n",
       "      <td>71.0</td>\n",
       "      <td>2017</td>\n",
       "      <td>January</td>\n",
       "      <td>1</td>\n",
       "      <td>1</td>\n",
       "      <td>2</td>\n",
       "      <td>2</td>\n",
       "      <td>1.0</td>\n",
       "      <td>...</td>\n",
       "      <td>0</td>\n",
       "      <td>0</td>\n",
       "      <td>0</td>\n",
       "      <td>A</td>\n",
       "      <td>0</td>\n",
       "      <td>0</td>\n",
       "      <td>Transient</td>\n",
       "      <td>0</td>\n",
       "      <td>1</td>\n",
       "      <td>4</td>\n",
       "    </tr>\n",
       "    <tr>\n",
       "      <th>4</th>\n",
       "      <td>6090</td>\n",
       "      <td>1</td>\n",
       "      <td>172.0</td>\n",
       "      <td>2017</td>\n",
       "      <td>January</td>\n",
       "      <td>1</td>\n",
       "      <td>1</td>\n",
       "      <td>2</td>\n",
       "      <td>5</td>\n",
       "      <td>2.0</td>\n",
       "      <td>...</td>\n",
       "      <td>0</td>\n",
       "      <td>0</td>\n",
       "      <td>0</td>\n",
       "      <td>A</td>\n",
       "      <td>0</td>\n",
       "      <td>0</td>\n",
       "      <td>Transient</td>\n",
       "      <td>0</td>\n",
       "      <td>0</td>\n",
       "      <td>7</td>\n",
       "    </tr>\n",
       "  </tbody>\n",
       "</table>\n",
       "<p>5 rows × 25 columns</p>\n",
       "</div>"
      ],
      "text/plain": [
       "     id  is_canceled  lead_time  arrival_date_year arrival_date_month  \\\n",
       "0  6086            1       74.0               2017            January   \n",
       "1  6087            1       62.0               2017            January   \n",
       "2  6088            1       62.0               2017            January   \n",
       "3  6089            1       71.0               2017            January   \n",
       "4  6090            1      172.0               2017            January   \n",
       "\n",
       "   arrival_date_week_number  arrival_date_day_of_month  \\\n",
       "0                         1                          1   \n",
       "1                         1                          1   \n",
       "2                         1                          1   \n",
       "3                         1                          1   \n",
       "4                         1                          1   \n",
       "\n",
       "   stays_in_weekend_nights  stays_in_week_nights  adults  ...  \\\n",
       "0                        1                     0     2.0  ...   \n",
       "1                        2                     2     2.0  ...   \n",
       "2                        2                     2     2.0  ...   \n",
       "3                        2                     2     1.0  ...   \n",
       "4                        2                     5     2.0  ...   \n",
       "\n",
       "   is_repeated_guest  previous_cancellations previous_bookings_not_canceled  \\\n",
       "0                  0                       0                              0   \n",
       "1                  0                       0                              0   \n",
       "2                  0                       0                              0   \n",
       "3                  0                       0                              0   \n",
       "4                  0                       0                              0   \n",
       "\n",
       "  reserved_room_type booking_changes  days_in_waiting_list  customer_type  \\\n",
       "0   A                              0                     0      Transient   \n",
       "1   A                              0                     0      Transient   \n",
       "2   A                              0                     0      Transient   \n",
       "3   A                              0                     0      Transient   \n",
       "4   A                              0                     0      Transient   \n",
       "\n",
       "   required_car_parking_spaces total_of_special_requests  total_nights  \n",
       "0                            0                         0             1  \n",
       "1                            0                         1             4  \n",
       "2                            0                         1             4  \n",
       "3                            0                         1             4  \n",
       "4                            0                         0             7  \n",
       "\n",
       "[5 rows x 25 columns]"
      ]
     },
     "execution_count": 10,
     "metadata": {},
     "output_type": "execute_result"
    }
   ],
   "source": [
    "display(data_train.head())\n",
    "data_test.head()"
   ]
  },
  {
   "cell_type": "markdown",
   "metadata": {},
   "source": [
    "Данные загрузились корректно."
   ]
  },
  {
   "cell_type": "markdown",
   "metadata": {},
   "source": [
    "В данном разделе я загрузила данные обучающей и тренировочной выборки. "
   ]
  },
  {
   "cell_type": "markdown",
   "metadata": {},
   "source": [
    "### Шаг 2. Предобработка и исследовательский анализ данных"
   ]
  },
  {
   "cell_type": "markdown",
   "metadata": {},
   "source": [
    "Посмотрим на данные в обучающей и тестовой выборке."
   ]
  },
  {
   "cell_type": "markdown",
   "metadata": {},
   "source": [
    "Описания переменных из тех задания:\n",
    "\n",
    "•\tid — номер записи;\n",
    "\n",
    "•\tadults — количество взрослых постояльцев;\n",
    "\n",
    "•\tarrival_date_year — год заезда;\n",
    "\n",
    "•\tarrival_date_month — месяц заезда;\n",
    "\n",
    "•\tarrival_date_week_number — неделя заезда;\n",
    "\n",
    "•\tarrival_date_day_of_month — день заезда;\n",
    "\n",
    "•\tbabies — количество младенцев;\n",
    "\n",
    "•\tbooking_changes — количество изменений параметров заказа;\n",
    "\n",
    "•\tchildren — количество детей от 3 до 14 лет;\n",
    "\n",
    "•\tcountry — гражданство постояльца;\n",
    "\n",
    "•\tcustomer_type — тип заказчика: (Contract — договор с юридическим лицом; Group — групповой заезд; Transient — не связано с договором или групповым заездом; Transient-party — не связано с договором или групповым заездом, но связано с бронированием типа Transient.\n",
    "\n",
    "•\tdays_in_waiting_list — сколько дней заказ ожидал подтверждения;\n",
    "•\tdistribution_channel — канал дистрибуции заказа;\n",
    "\n",
    "•\tis_canceled — отмена заказа; \n",
    "\n",
    "•\tis_repeated_guest — признак того, что гость бронирует номер второй раз;\n",
    "\n",
    "•\tlead_time — количество дней между датой бронирования и датой прибытия;\n",
    "\n",
    "•\tmeal — опции заказа: (SC — нет дополнительных опций; BB — включён завтрак; HB — включён завтрак и обед; FB — включён завтрак, обед и ужин.\n",
    "\n",
    "•\tprevious_bookings_not_canceled — количество подтверждённых заказов у клиента;\n",
    "\n",
    "•\tprevious_cancellations — количество отменённых заказов у клиента;\n",
    "•\trequired_car_parking_spaces — необходимость места для автомобиля;\n",
    "\n",
    "•\treserved_room_type — тип забронированной комнаты;\n",
    "\n",
    "•\tstays_in_weekend_nights — количество ночей в выходные дни;\n",
    "\n",
    "•\tstays_in_week_nights — количество ночей в будние дни;\n",
    "\n",
    "•\ttotal_nights — общее количество ночей;\n",
    "\n",
    "•\ttotal_of_special_requests — количество специальных отметок."
   ]
  },
  {
   "cell_type": "code",
   "execution_count": 11,
   "metadata": {},
   "outputs": [
    {
     "name": "stdout",
     "output_type": "stream",
     "text": [
      "<class 'pandas.core.frame.DataFrame'>\n",
      "RangeIndex: 65229 entries, 0 to 65228\n",
      "Data columns (total 25 columns):\n",
      " #   Column                          Non-Null Count  Dtype  \n",
      "---  ------                          --------------  -----  \n",
      " 0   id                              65229 non-null  int64  \n",
      " 1   is_canceled                     65229 non-null  int64  \n",
      " 2   lead_time                       65229 non-null  float64\n",
      " 3   arrival_date_year               65229 non-null  int64  \n",
      " 4   arrival_date_month              65229 non-null  object \n",
      " 5   arrival_date_week_number        65229 non-null  int64  \n",
      " 6   arrival_date_day_of_month       65229 non-null  int64  \n",
      " 7   stays_in_weekend_nights         65229 non-null  int64  \n",
      " 8   stays_in_week_nights            65229 non-null  int64  \n",
      " 9   adults                          65229 non-null  float64\n",
      " 10  children                        65229 non-null  float64\n",
      " 11  babies                          65229 non-null  float64\n",
      " 12  meal                            65229 non-null  object \n",
      " 13  country                         65229 non-null  object \n",
      " 14  distribution_channel            65229 non-null  object \n",
      " 15  is_repeated_guest               65229 non-null  int64  \n",
      " 16  previous_cancellations          65229 non-null  int64  \n",
      " 17  previous_bookings_not_canceled  65229 non-null  int64  \n",
      " 18  reserved_room_type              65229 non-null  object \n",
      " 19  booking_changes                 65229 non-null  int64  \n",
      " 20  days_in_waiting_list            65229 non-null  int64  \n",
      " 21  customer_type                   65229 non-null  object \n",
      " 22  required_car_parking_spaces     65229 non-null  int64  \n",
      " 23  total_of_special_requests       65229 non-null  int64  \n",
      " 24  total_nights                    65229 non-null  int64  \n",
      "dtypes: float64(4), int64(15), object(6)\n",
      "memory usage: 12.4+ MB\n"
     ]
    },
    {
     "data": {
      "text/plain": [
       "None"
      ]
     },
     "metadata": {},
     "output_type": "display_data"
    },
    {
     "name": "stdout",
     "output_type": "stream",
     "text": [
      "<class 'pandas.core.frame.DataFrame'>\n",
      "RangeIndex: 32412 entries, 0 to 32411\n",
      "Data columns (total 25 columns):\n",
      " #   Column                          Non-Null Count  Dtype  \n",
      "---  ------                          --------------  -----  \n",
      " 0   id                              32412 non-null  int64  \n",
      " 1   is_canceled                     32412 non-null  int64  \n",
      " 2   lead_time                       32412 non-null  float64\n",
      " 3   arrival_date_year               32412 non-null  int64  \n",
      " 4   arrival_date_month              32412 non-null  object \n",
      " 5   arrival_date_week_number        32412 non-null  int64  \n",
      " 6   arrival_date_day_of_month       32412 non-null  int64  \n",
      " 7   stays_in_weekend_nights         32412 non-null  int64  \n",
      " 8   stays_in_week_nights            32412 non-null  int64  \n",
      " 9   adults                          32412 non-null  float64\n",
      " 10  children                        32412 non-null  float64\n",
      " 11  babies                          32412 non-null  float64\n",
      " 12  meal                            32412 non-null  object \n",
      " 13  country                         32412 non-null  object \n",
      " 14  distribution_channel            32412 non-null  object \n",
      " 15  is_repeated_guest               32412 non-null  int64  \n",
      " 16  previous_cancellations          32412 non-null  int64  \n",
      " 17  previous_bookings_not_canceled  32412 non-null  int64  \n",
      " 18  reserved_room_type              32412 non-null  object \n",
      " 19  booking_changes                 32412 non-null  int64  \n",
      " 20  days_in_waiting_list            32412 non-null  int64  \n",
      " 21  customer_type                   32412 non-null  object \n",
      " 22  required_car_parking_spaces     32412 non-null  int64  \n",
      " 23  total_of_special_requests       32412 non-null  int64  \n",
      " 24  total_nights                    32412 non-null  int64  \n",
      "dtypes: float64(4), int64(15), object(6)\n",
      "memory usage: 6.2+ MB\n"
     ]
    }
   ],
   "source": [
    "display(data_train.info())\n",
    "data_test.info()"
   ]
  },
  {
   "cell_type": "markdown",
   "metadata": {},
   "source": [
    "Мы видим, что в данных нет пропусков. Посмотрим на некоторые переменные поподробнее."
   ]
  },
  {
   "cell_type": "markdown",
   "metadata": {},
   "source": [
    "Посмотрим, есть ли дубликаты."
   ]
  },
  {
   "cell_type": "code",
   "execution_count": 12,
   "metadata": {},
   "outputs": [
    {
     "data": {
      "text/plain": [
       "0.0"
      ]
     },
     "metadata": {},
     "output_type": "display_data"
    },
    {
     "data": {
      "text/plain": [
       "0.0"
      ]
     },
     "execution_count": 12,
     "metadata": {},
     "output_type": "execute_result"
    }
   ],
   "source": [
    "display(data_train.duplicated().mean())\n",
    "data_test.duplicated().mean()"
   ]
  },
  {
   "cell_type": "markdown",
   "metadata": {},
   "source": [
    "Полных дубликатов нет."
   ]
  },
  {
   "cell_type": "markdown",
   "metadata": {},
   "source": [
    "Удалим id из данных, это нам не понадобится для нашей задачи."
   ]
  },
  {
   "cell_type": "code",
   "execution_count": 13,
   "metadata": {},
   "outputs": [],
   "source": [
    "def del_column(data, col):\n",
    "    data=data.drop(col, axis=1)\n",
    "    return data"
   ]
  },
  {
   "cell_type": "code",
   "execution_count": 14,
   "metadata": {},
   "outputs": [],
   "source": [
    "data_train = del_column(data_train, 'id')\n",
    "data_test = del_column(data_test, 'id')"
   ]
  },
  {
   "cell_type": "markdown",
   "metadata": {},
   "source": [
    "Посмотрим на отчеты по данным в выборках."
   ]
  },
  {
   "cell_type": "code",
   "execution_count": 15,
   "metadata": {},
   "outputs": [],
   "source": [
    "# Создаю репорты\n",
    "profile_train = ProfileReport(data_train, title=\"Train\", minimal=True)\n",
    "profile_test = ProfileReport(data_test, title=\"Test\", minimal=True)"
   ]
  },
  {
   "cell_type": "code",
   "execution_count": 16,
   "metadata": {},
   "outputs": [
    {
     "data": {
      "application/vnd.jupyter.widget-view+json": {
       "model_id": "b38d04e3cc514fa39719a63608b5c7a8",
       "version_major": 2,
       "version_minor": 0
      },
      "text/plain": [
       "Summarize dataset:   0%|          | 0/5 [00:00<?, ?it/s]"
      ]
     },
     "metadata": {},
     "output_type": "display_data"
    },
    {
     "data": {
      "application/vnd.jupyter.widget-view+json": {
       "model_id": "44c83c7721ea478f9212a1f472f247d0",
       "version_major": 2,
       "version_minor": 0
      },
      "text/plain": [
       "Generate report structure:   0%|          | 0/1 [00:00<?, ?it/s]"
      ]
     },
     "metadata": {},
     "output_type": "display_data"
    },
    {
     "data": {
      "application/vnd.jupyter.widget-view+json": {
       "model_id": "",
       "version_major": 2,
       "version_minor": 0
      },
      "text/plain": [
       "Render widgets:   0%|          | 0/1 [00:00<?, ?it/s]"
      ]
     },
     "metadata": {},
     "output_type": "display_data"
    },
    {
     "data": {
      "application/vnd.jupyter.widget-view+json": {
       "model_id": "7a7603727647459581199b51a31aefa0",
       "version_major": 2,
       "version_minor": 0
      },
      "text/plain": [
       "VBox(children=(Tab(children=(Tab(children=(GridBox(children=(VBox(children=(GridspecLayout(children=(HTML(valu…"
      ]
     },
     "metadata": {},
     "output_type": "display_data"
    }
   ],
   "source": [
    "# Репорт для обучающей выборки\n",
    "profile_train.to_widgets()"
   ]
  },
  {
   "cell_type": "code",
   "execution_count": 17,
   "metadata": {},
   "outputs": [
    {
     "data": {
      "application/vnd.jupyter.widget-view+json": {
       "model_id": "ec3a5d1c8ed34e8197ef0548b44877ff",
       "version_major": 2,
       "version_minor": 0
      },
      "text/plain": [
       "Summarize dataset:   0%|          | 0/5 [00:00<?, ?it/s]"
      ]
     },
     "metadata": {},
     "output_type": "display_data"
    },
    {
     "data": {
      "application/vnd.jupyter.widget-view+json": {
       "model_id": "e066fe3799984536ac82d7a7424e113e",
       "version_major": 2,
       "version_minor": 0
      },
      "text/plain": [
       "Generate report structure:   0%|          | 0/1 [00:00<?, ?it/s]"
      ]
     },
     "metadata": {},
     "output_type": "display_data"
    },
    {
     "data": {
      "application/vnd.jupyter.widget-view+json": {
       "model_id": "",
       "version_major": 2,
       "version_minor": 0
      },
      "text/plain": [
       "Render widgets:   0%|          | 0/1 [00:00<?, ?it/s]"
      ]
     },
     "metadata": {},
     "output_type": "display_data"
    },
    {
     "data": {
      "application/vnd.jupyter.widget-view+json": {
       "model_id": "23a29dda75db4c2196136a53bd459018",
       "version_major": 2,
       "version_minor": 0
      },
      "text/plain": [
       "VBox(children=(Tab(children=(Tab(children=(GridBox(children=(VBox(children=(GridspecLayout(children=(HTML(valu…"
      ]
     },
     "metadata": {},
     "output_type": "display_data"
    }
   ],
   "source": [
    "# Репорт для тестовой выборки\n",
    "profile_test.to_widgets()"
   ]
  },
  {
   "cell_type": "markdown",
   "metadata": {},
   "source": [
    "На основании репортом мы сразу видим некоторые закономерности в наших данных. Во-первых, наши классы не сбалансированы и лишь треть от клиентов отменили бронь. Причём данная пропорция сохраняется как в обучающей, так и в тестовой выборке. Мы будем адресовать дисбаланс классов на этапе обучения модели в следующих разделах. "
   ]
  },
  {
   "cell_type": "markdown",
   "metadata": {},
   "source": [
    "Некоторые переменные представлены в формате float, хотя по логике они должны быть целочисленными. Переведём их в int."
   ]
  },
  {
   "cell_type": "code",
   "execution_count": 17,
   "metadata": {},
   "outputs": [],
   "source": [
    "def to_int(data, l):\n",
    "    for i in l:\n",
    "        data[l] = data[l].astype(int)\n",
    "        return data"
   ]
  },
  {
   "cell_type": "code",
   "execution_count": 18,
   "metadata": {},
   "outputs": [],
   "source": [
    "data_train = to_int(data_train, ['lead_time', 'adults', 'children', 'babies'])\n",
    "data_test = to_int(data_test, ['lead_time', 'adults', 'children', 'babies'])"
   ]
  },
  {
   "cell_type": "markdown",
   "metadata": {},
   "source": [
    "У нас в данных есть stays_in_weekend_nights, stays_in_week_nights и total_nights. Первые две переменные должны суммироваться к третьей. Во-первых, я проверю, что это дейтствительно так для всех данных. Во-вторых, я удалю одну из переменных, потому что они линейно зависимы и достаточно лишь двух из трёх."
   ]
  },
  {
   "cell_type": "code",
   "execution_count": 19,
   "metadata": {},
   "outputs": [
    {
     "data": {
      "text/html": [
       "<div>\n",
       "<style scoped>\n",
       "    .dataframe tbody tr th:only-of-type {\n",
       "        vertical-align: middle;\n",
       "    }\n",
       "\n",
       "    .dataframe tbody tr th {\n",
       "        vertical-align: top;\n",
       "    }\n",
       "\n",
       "    .dataframe thead th {\n",
       "        text-align: right;\n",
       "    }\n",
       "</style>\n",
       "<table border=\"1\" class=\"dataframe\">\n",
       "  <thead>\n",
       "    <tr style=\"text-align: right;\">\n",
       "      <th></th>\n",
       "      <th>is_canceled</th>\n",
       "      <th>lead_time</th>\n",
       "      <th>arrival_date_year</th>\n",
       "      <th>arrival_date_month</th>\n",
       "      <th>arrival_date_week_number</th>\n",
       "      <th>arrival_date_day_of_month</th>\n",
       "      <th>stays_in_weekend_nights</th>\n",
       "      <th>stays_in_week_nights</th>\n",
       "      <th>adults</th>\n",
       "      <th>children</th>\n",
       "      <th>...</th>\n",
       "      <th>is_repeated_guest</th>\n",
       "      <th>previous_cancellations</th>\n",
       "      <th>previous_bookings_not_canceled</th>\n",
       "      <th>reserved_room_type</th>\n",
       "      <th>booking_changes</th>\n",
       "      <th>days_in_waiting_list</th>\n",
       "      <th>customer_type</th>\n",
       "      <th>required_car_parking_spaces</th>\n",
       "      <th>total_of_special_requests</th>\n",
       "      <th>total_nights</th>\n",
       "    </tr>\n",
       "  </thead>\n",
       "  <tbody>\n",
       "  </tbody>\n",
       "</table>\n",
       "<p>0 rows × 24 columns</p>\n",
       "</div>"
      ],
      "text/plain": [
       "Empty DataFrame\n",
       "Columns: [is_canceled, lead_time, arrival_date_year, arrival_date_month, arrival_date_week_number, arrival_date_day_of_month, stays_in_weekend_nights, stays_in_week_nights, adults, children, babies, meal, country, distribution_channel, is_repeated_guest, previous_cancellations, previous_bookings_not_canceled, reserved_room_type, booking_changes, days_in_waiting_list, customer_type, required_car_parking_spaces, total_of_special_requests, total_nights]\n",
       "Index: []\n",
       "\n",
       "[0 rows x 24 columns]"
      ]
     },
     "metadata": {},
     "output_type": "display_data"
    },
    {
     "data": {
      "text/html": [
       "<div>\n",
       "<style scoped>\n",
       "    .dataframe tbody tr th:only-of-type {\n",
       "        vertical-align: middle;\n",
       "    }\n",
       "\n",
       "    .dataframe tbody tr th {\n",
       "        vertical-align: top;\n",
       "    }\n",
       "\n",
       "    .dataframe thead th {\n",
       "        text-align: right;\n",
       "    }\n",
       "</style>\n",
       "<table border=\"1\" class=\"dataframe\">\n",
       "  <thead>\n",
       "    <tr style=\"text-align: right;\">\n",
       "      <th></th>\n",
       "      <th>is_canceled</th>\n",
       "      <th>lead_time</th>\n",
       "      <th>arrival_date_year</th>\n",
       "      <th>arrival_date_month</th>\n",
       "      <th>arrival_date_week_number</th>\n",
       "      <th>arrival_date_day_of_month</th>\n",
       "      <th>stays_in_weekend_nights</th>\n",
       "      <th>stays_in_week_nights</th>\n",
       "      <th>adults</th>\n",
       "      <th>children</th>\n",
       "      <th>...</th>\n",
       "      <th>is_repeated_guest</th>\n",
       "      <th>previous_cancellations</th>\n",
       "      <th>previous_bookings_not_canceled</th>\n",
       "      <th>reserved_room_type</th>\n",
       "      <th>booking_changes</th>\n",
       "      <th>days_in_waiting_list</th>\n",
       "      <th>customer_type</th>\n",
       "      <th>required_car_parking_spaces</th>\n",
       "      <th>total_of_special_requests</th>\n",
       "      <th>total_nights</th>\n",
       "    </tr>\n",
       "  </thead>\n",
       "  <tbody>\n",
       "  </tbody>\n",
       "</table>\n",
       "<p>0 rows × 24 columns</p>\n",
       "</div>"
      ],
      "text/plain": [
       "Empty DataFrame\n",
       "Columns: [is_canceled, lead_time, arrival_date_year, arrival_date_month, arrival_date_week_number, arrival_date_day_of_month, stays_in_weekend_nights, stays_in_week_nights, adults, children, babies, meal, country, distribution_channel, is_repeated_guest, previous_cancellations, previous_bookings_not_canceled, reserved_room_type, booking_changes, days_in_waiting_list, customer_type, required_car_parking_spaces, total_of_special_requests, total_nights]\n",
       "Index: []\n",
       "\n",
       "[0 rows x 24 columns]"
      ]
     },
     "execution_count": 19,
     "metadata": {},
     "output_type": "execute_result"
    }
   ],
   "source": [
    "# Срез данных\n",
    "display(data_train.query('stays_in_weekend_nights+stays_in_week_nights!=total_nights'))\n",
    "data_test.query('stays_in_weekend_nights+stays_in_week_nights!=total_nights')"
   ]
  },
  {
   "cell_type": "markdown",
   "metadata": {},
   "source": [
    "Всё в порядке, данные адекватные. Удалю stays_in_week_nights."
   ]
  },
  {
   "cell_type": "code",
   "execution_count": 20,
   "metadata": {},
   "outputs": [],
   "source": [
    "# удаляю признак\n",
    "data_train = del_column(data_train, 'stays_in_week_nights')\n",
    "data_test = del_column(data_test, 'stays_in_week_nights')"
   ]
  },
  {
   "cell_type": "markdown",
   "metadata": {},
   "source": [
    "У нас есть данные про год, месяц, день и неделю приезда. В этих данных неделя лишняя, потому что по году, месяцу и дню можно полностью восстановить дату и допольнительное знание о том, какая это неделя года ничего не даёт. Я удаля признак arrival_date_week_number."
   ]
  },
  {
   "cell_type": "code",
   "execution_count": 21,
   "metadata": {},
   "outputs": [],
   "source": [
    "# удаляю признак\n",
    "data_train = del_column(data_train, 'arrival_date_week_number')\n",
    "data_test = del_column(data_test, 'arrival_date_week_number')"
   ]
  },
  {
   "cell_type": "markdown",
   "metadata": {},
   "source": [
    "Теперь посмотрю на категориальные признаки."
   ]
  },
  {
   "cell_type": "code",
   "execution_count": 22,
   "metadata": {},
   "outputs": [],
   "source": [
    "category = ['arrival_date_month', 'meal', 'country', 'distribution_channel', 'reserved_room_type', 'customer_type']"
   ]
  },
  {
   "cell_type": "code",
   "execution_count": 23,
   "metadata": {},
   "outputs": [
    {
     "data": {
      "text/plain": [
       "array(['July', 'August', 'September', 'October', 'November', 'December',\n",
       "       'January', 'February', 'March', 'April', 'May', 'June'],\n",
       "      dtype=object)"
      ]
     },
     "metadata": {},
     "output_type": "display_data"
    },
    {
     "data": {
      "text/plain": [
       "array(['January', 'February', 'March', 'April', 'May', 'June', 'July',\n",
       "       'August'], dtype=object)"
      ]
     },
     "metadata": {},
     "output_type": "display_data"
    },
    {
     "data": {
      "text/plain": [
       "array(['BB       ', 'FB       ', 'HB       ', 'SC       ', 'SC'],\n",
       "      dtype=object)"
      ]
     },
     "metadata": {},
     "output_type": "display_data"
    },
    {
     "data": {
      "text/plain": [
       "array(['BB       ', 'HB       ', 'SC', 'FB       ', 'SC       '],\n",
       "      dtype=object)"
      ]
     },
     "metadata": {},
     "output_type": "display_data"
    },
    {
     "data": {
      "text/plain": [
       "array(['GBR', 'PRT', 'ESP', 'IRL', 'FRA', 'ROU', 'NOR', 'USA', 'DEU',\n",
       "       'BEL', 'CHE', 'CN', 'GRC', 'NLD', 'ARG', 'RUS', 'SWE', 'POL',\n",
       "       'EST', 'CZE', 'ITA', 'FIN', 'DNK', 'MOZ', 'BWA', 'LUX', 'BRA',\n",
       "       'SVN', 'ALB', 'CHN', 'MEX', 'MAR', 'SMR', 'LVA', 'CHL', 'AUT',\n",
       "       'LTU', 'TUR', 'ISR', 'IND', 'CYM', 'AUS', 'CPV', 'ZWE', 'DZA',\n",
       "       'KOR', 'CRI', 'HUN', 'TUN', 'ARE', 'HRV', 'HKG', 'IRN', 'GIB',\n",
       "       'JEY', 'URY', 'ZAF', 'COL', 'GGY', 'KWT', 'CYP', 'KAZ', 'THA',\n",
       "       'DOM', 'NGA', 'BLR', 'VEN', 'UKR', 'ARM', 'JPN', 'LKA', 'MYS',\n",
       "       'BIH', 'MUS', 'OMN', 'SUR', 'JAM', 'BGR', 'CIV', 'SRB', 'JOR',\n",
       "       'SYR', 'PHL', 'PRI', 'SGP', 'BDI', 'LBN', 'AGO', 'VNM', 'AZE',\n",
       "       'PLW', 'NZL', 'EGY', 'MDV', 'CMR', 'MLT', 'SVK', 'MWI', 'STP',\n",
       "       'TWN', 'IDN', 'SEN', 'PER', 'SAU', 'KNA', 'ETH', 'ECU', 'IRQ',\n",
       "       'AND', 'HND', 'PAK', 'GEO', 'ZMB', 'QAT', 'KHM', 'MCO', 'BGD',\n",
       "       'ISL', 'UZB', 'IMN', 'TJK', 'NIC', 'BEN', 'MAC', 'VGB', 'TZA',\n",
       "       'GAB', 'MKD', 'TMP', 'GLP', 'KEN', 'LIE', 'MMR', 'PAN', 'BFA',\n",
       "       'LBY', 'GNB', 'MLI', 'BHR', 'NAM', 'BOL', 'SYC', 'PRY', 'BRB',\n",
       "       'ABW', 'SLV', 'DMA', 'CUB', 'PYF', 'UGA', 'GUY', 'LCA', 'ATA',\n",
       "       'RWA', 'MNE'], dtype=object)"
      ]
     },
     "metadata": {},
     "output_type": "display_data"
    },
    {
     "data": {
      "text/plain": [
       "array(['PRT', 'AUT', 'BEL', 'DEU', 'BRA', 'GBR', 'ESP', 'FRA', 'ITA',\n",
       "       'LUX', 'CHE', 'EST', 'NGA', 'IRL', 'CN', 'POL', 'AUS', 'NLD',\n",
       "       'KOR', 'ROU', 'USA', 'CHL', 'DNK', 'FIN', 'RUS', 'SWE', 'HUN',\n",
       "       'HRV', 'MDV', 'ZAF', 'ISR', 'NOR', 'CHN', 'ARE', 'MAR', 'COL',\n",
       "       'FJI', 'LVA', 'LBN', 'PHL', 'HKG', 'SYC', 'GIB', 'AGO', 'MYS',\n",
       "       'MDG', 'IDN', 'LTU', 'ISL', 'TUR', 'ARG', 'JPN', 'SVN', 'SVK',\n",
       "       'BGR', 'CAF', 'JAM', 'UZB', 'UKR', 'IND', 'CZE', 'URY', 'NZL',\n",
       "       'NPL', 'SRB', 'CPV', 'IRN', 'KAZ', 'BHS', 'SUR', 'CUB', 'PAK',\n",
       "       'MAC', 'CYP', 'JOR', 'GRC', 'KWT', 'TWN', 'VNM', 'SGP', 'DOM',\n",
       "       'VEN', 'SEN', 'BLR', 'TZA', 'LIE', 'GNB', 'SAU', 'DZA', 'PER',\n",
       "       'AZE', 'EGY', 'ETH', 'KEN', 'THA', 'MLT', 'ECU', 'AND', 'IMN',\n",
       "       'BHR', 'TUN', 'MNE', 'MEX', 'BEN', 'MOZ', 'UMI', 'JEY', 'MYT',\n",
       "       'QAT', 'BGD', 'GAB', 'CIV', 'ZWE', 'GTM', 'ALB', 'GHA', 'ATA',\n",
       "       'ASM', 'PAN', 'CRI', 'MCO', 'MUS', 'SYR', 'TGO', 'IRQ', 'LKA',\n",
       "       'BIH', 'PRY', 'MRT', 'ABW', 'NCL', 'STP', 'KIR', 'SDN', 'PRI',\n",
       "       'ATF', 'CMR', 'TJK', 'LBY', 'SLE', 'SLV', 'LAO', 'FRO'],\n",
       "      dtype=object)"
      ]
     },
     "metadata": {},
     "output_type": "display_data"
    },
    {
     "data": {
      "text/plain": [
       "array(['Direct', 'TA/TO', 'Corporate', 'GDS'], dtype=object)"
      ]
     },
     "metadata": {},
     "output_type": "display_data"
    },
    {
     "data": {
      "text/plain": [
       "array(['TA/TO', 'Direct', 'Corporate', 'GDS'], dtype=object)"
      ]
     },
     "metadata": {},
     "output_type": "display_data"
    },
    {
     "data": {
      "text/plain": [
       "array(['A               ', 'C               ', 'D               ',\n",
       "       'E               ', 'G               ', 'F               ',\n",
       "       'B               '], dtype=object)"
      ]
     },
     "metadata": {},
     "output_type": "display_data"
    },
    {
     "data": {
      "text/plain": [
       "array(['A               ', 'E               ', 'G               ',\n",
       "       'D               ', 'F               ', 'C               ',\n",
       "       'B               '], dtype=object)"
      ]
     },
     "metadata": {},
     "output_type": "display_data"
    },
    {
     "data": {
      "text/plain": [
       "array(['Transient', 'Contract', 'Transient-Party', 'Group'], dtype=object)"
      ]
     },
     "metadata": {},
     "output_type": "display_data"
    },
    {
     "data": {
      "text/plain": [
       "array(['Transient', 'Transient-Party', 'Contract', 'Group'], dtype=object)"
      ]
     },
     "metadata": {},
     "output_type": "display_data"
    }
   ],
   "source": [
    "for cat in category:\n",
    "    display(data_train[cat].unique())\n",
    "    display(data_test[cat].unique())"
   ]
  },
  {
   "cell_type": "markdown",
   "metadata": {},
   "source": [
    "В значениях некоторых переменных есть лишние пробелы. Уберём их. "
   ]
  },
  {
   "cell_type": "code",
   "execution_count": 24,
   "metadata": {},
   "outputs": [],
   "source": [
    "for cat in category:\n",
    "    data_train[cat] = data_train[cat].str.strip()\n",
    "    data_test[cat] = data_test[cat].str.strip()"
   ]
  },
  {
   "cell_type": "markdown",
   "metadata": {},
   "source": [
    "Посмотрим, появились ли полные дубликаты в данных после удаления id."
   ]
  },
  {
   "cell_type": "code",
   "execution_count": 25,
   "metadata": {},
   "outputs": [
    {
     "data": {
      "text/plain": [
       "0.3277223320915544"
      ]
     },
     "metadata": {},
     "output_type": "display_data"
    },
    {
     "data": {
      "text/plain": [
       "0.23809083055658398"
      ]
     },
     "execution_count": 25,
     "metadata": {},
     "output_type": "execute_result"
    }
   ],
   "source": [
    "display(data_train.duplicated().mean())\n",
    "data_test.duplicated().mean()"
   ]
  },
  {
   "cell_type": "markdown",
   "metadata": {},
   "source": [
    "После удаление id, в данных оказалось от 20 до 30 процентов полных дубликатов. Это очень большой процент и удаление такого большома объёма данных может не оправданным. В наших данных нет больше никаких идентификаторов, поэтому теоретически такие дубликаты могут быть всё равно получены от разных бронирований. Я оставлю эти данные, но это может быть направлением дальнейшего исследования для улучшения модели. Для этого надо будет обратиться к источнику данных."
   ]
  },
  {
   "cell_type": "markdown",
   "metadata": {},
   "source": [
    "Посмотрим, нет ли у нас в данных бронирований без взрослых."
   ]
  },
  {
   "cell_type": "code",
   "execution_count": 26,
   "metadata": {},
   "outputs": [
    {
     "data": {
      "text/plain": [
       "166"
      ]
     },
     "metadata": {},
     "output_type": "display_data"
    },
    {
     "data": {
      "text/plain": [
       "69"
      ]
     },
     "execution_count": 26,
     "metadata": {},
     "output_type": "execute_result"
    }
   ],
   "source": [
    "display(data_train.query('adults==0')['adults'].count())\n",
    "data_test.query('adults==0')['adults'].count()"
   ]
  },
  {
   "cell_type": "markdown",
   "metadata": {},
   "source": [
    "В наших данных есть некоторые бронирования без взрослых. Хотя теоретически можно представить, что это бронирование для детской поездки, но более вероятно, что эти данные аномальные и лучше их удалить."
   ]
  },
  {
   "cell_type": "code",
   "execution_count": 27,
   "metadata": {},
   "outputs": [],
   "source": [
    "data_train = data_train.query('adults>0').reset_index(drop=True)\n",
    "data_test = data_test.query('adults>0').reset_index(drop=True)"
   ]
  },
  {
   "cell_type": "markdown",
   "metadata": {},
   "source": [
    "У нас есть признаки is repeated guest, previous cancellations и previous bookings not cancelled. Проверим, есть ли бывшие клиенты, к которых нет ни предыдущих отмени ни подтвёржденных предыдущих заказов."
   ]
  },
  {
   "cell_type": "code",
   "execution_count": 34,
   "metadata": {},
   "outputs": [
    {
     "data": {
      "text/plain": [
       "155"
      ]
     },
     "metadata": {},
     "output_type": "display_data"
    },
    {
     "data": {
      "text/plain": [
       "88"
      ]
     },
     "execution_count": 34,
     "metadata": {},
     "output_type": "execute_result"
    }
   ],
   "source": [
    "(\n",
    "    display(data_train.query('is_repeated_guest==1 and previous_cancellations==0 and previous_bookings_not_canceled==0')\n",
    "    ['adults'].count()))\n",
    "data_test.query('is_repeated_guest==1 and previous_cancellations==0 and previous_bookings_not_canceled==0')['adults'].count()"
   ]
  },
  {
   "cell_type": "code",
   "execution_count": 36,
   "metadata": {},
   "outputs": [
    {
     "data": {
      "text/plain": [
       "(65063, 22)"
      ]
     },
     "metadata": {},
     "output_type": "display_data"
    },
    {
     "data": {
      "text/plain": [
       "(32343, 22)"
      ]
     },
     "execution_count": 36,
     "metadata": {},
     "output_type": "execute_result"
    }
   ],
   "source": [
    "display(data_train.shape)\n",
    "data_test.shape"
   ]
  },
  {
   "cell_type": "markdown",
   "metadata": {},
   "source": [
    "Оказывается, есть наблюдения, в которых посетители ранее уже были клиентами, но при этом у них нет ни предыдущих отмен ни предыдущих визитов. Похоже, что в этих данных тоже ошибка, поэтому я их удалю. "
   ]
  },
  {
   "cell_type": "code",
   "execution_count": 40,
   "metadata": {},
   "outputs": [],
   "source": [
    "data_train = (\n",
    "    data_train\n",
    "    .drop(data_train.query('is_repeated_guest==1 and previous_cancellations==0 and previous_bookings_not_canceled==0').index)\n",
    "    .reset_index(drop=True))\n",
    "data_test = (\n",
    "    data_test\n",
    "    .drop(data_test.query('is_repeated_guest==1 and previous_cancellations==0 and previous_bookings_not_canceled==0').index)\n",
    "    .reset_index(drop=True))"
   ]
  },
  {
   "cell_type": "markdown",
   "metadata": {},
   "source": [
    "Когда клиент бронирует номер, у отеля уже могут быть более ранние брони на эти же даты. Колличество таких броней может быть характеристикой популярности определённых дат в отеле и являться хорошей прокси для спроса на номера отеля в определённые даты."
   ]
  },
  {
   "cell_type": "markdown",
   "metadata": {},
   "source": [
    "В оставшемся датасете всё равно эти три переменные должны быть сильно скоррелированы чисто по конструкции, поэтому я осталю лишь две из них и удалю is_repeated_guest. "
   ]
  },
  {
   "cell_type": "code",
   "execution_count": 47,
   "metadata": {},
   "outputs": [],
   "source": [
    "data_train = del_column(data_train, 'is_repeated_guest')\n",
    "data_test = del_column(data_test, 'is_repeated_guest')"
   ]
  },
  {
   "cell_type": "markdown",
   "metadata": {},
   "source": [
    "Для того, чтобы посчитать колличествно ранее забронированных номеров на данные даты, я восстановлю дату бронирования, дату заезда и дату выезда. Для этого вначале мне нужно преобразовать дату заезда в переменную типа datetime."
   ]
  },
  {
   "cell_type": "code",
   "execution_count": 49,
   "metadata": {},
   "outputs": [],
   "source": [
    "data_train['arrival_date'] = (\n",
    "    pd.to_datetime(data_train['arrival_date_year'].astype(str) \n",
    "                   + data_train['arrival_date_month'] + data_train['arrival_date_day_of_month'].astype(str), format='%Y%B%d')\n",
    ")\n",
    "\n",
    "data_test['arrival_date'] = (\n",
    "    pd.to_datetime(data_test['arrival_date_year'].astype(str) \n",
    "                   + data_test['arrival_date_month'] + data_test['arrival_date_day_of_month'].astype(str), format='%Y%B%d')\n",
    ")"
   ]
  },
  {
   "cell_type": "markdown",
   "metadata": {},
   "source": [
    "Теперь восстановлю дату вызда."
   ]
  },
  {
   "cell_type": "code",
   "execution_count": 50,
   "metadata": {},
   "outputs": [],
   "source": [
    "data_train['check_out_date'] = data_train['arrival_date'] + pd.to_timedelta(data_train['total_nights'], unit='d')\n",
    "data_test['check_out_date'] = data_test['arrival_date'] + pd.to_timedelta(data_test['total_nights'], unit='d')"
   ]
  },
  {
   "cell_type": "markdown",
   "metadata": {},
   "source": [
    "Теперь я восстановлю дату бронирования."
   ]
  },
  {
   "cell_type": "code",
   "execution_count": 51,
   "metadata": {},
   "outputs": [],
   "source": [
    "data_train['booking_date'] = data_train['arrival_date'] - pd.to_timedelta(data_train['lead_time'], unit='d')\n",
    "data_test['booking_date'] = data_test['arrival_date'] - pd.to_timedelta(data_test['lead_time'], unit='d')"
   ]
  },
  {
   "cell_type": "code",
   "execution_count": 52,
   "metadata": {},
   "outputs": [],
   "source": [
    "# Создаю переменную с временным интервалом бронирования\n",
    "data_train['stay_interval'] = [pd.Interval(a,b)  for a,b in zip(data_train['arrival_date'], data_train['check_out_date'])]"
   ]
  },
  {
   "cell_type": "code",
   "execution_count": 53,
   "metadata": {},
   "outputs": [],
   "source": [
    "data_test['stay_interval'] = [pd.Interval(a,b)  for a,b in zip(data_test['arrival_date'], data_test['check_out_date'])]"
   ]
  },
  {
   "cell_type": "markdown",
   "metadata": {},
   "source": [
    "Для определения колличества ранее забронированных номеров на пересекающиеся времена я буду проверять, пересекаются ли stay_interal у данного бронирования и более ренних бронирований."
   ]
  },
  {
   "cell_type": "code",
   "execution_count": 54,
   "metadata": {},
   "outputs": [],
   "source": [
    "# Функция подсчёта пересечений\n",
    "def already_booked(data):\n",
    "    booked=[]\n",
    "    for i in data.sort_values(by='booking_date')['stay_interval'].expanding():\n",
    "        current_interval = i[i.index[-1]]\n",
    "        booked.append(i.apply(lambda x: current_interval.overlaps(x)).sum()-1)\n",
    "    return booked"
   ]
  },
  {
   "cell_type": "markdown",
   "metadata": {},
   "source": [
    "<div class=\"alert alert-block alert-warning\">\n",
    "Данная функция в следующей ячейке у меня работала около 30 минут. Я сохранила полученные данные и потом загружала их извне.  \n",
    "</div>"
   ]
  },
  {
   "cell_type": "code",
   "execution_count": 55,
   "metadata": {},
   "outputs": [],
   "source": [
    "# Подсчитываю ранее забронированные номера (ДОЛГО РАБОТАЕТ)\n",
    "\n",
    "data_train['booked'] = pd.Series(already_booked(data_train), index = data_train.sort_values(by='booking_date').index)\n",
    "data_test['booked'] = pd.Series(already_booked(data_test), index = data_test.sort_values(by='booking_date').index)"
   ]
  },
  {
   "cell_type": "code",
   "execution_count": 10,
   "metadata": {},
   "outputs": [],
   "source": [
    "# В дальнейшем я загружала сохранённые данные, которые получила после экзекуции предыдущей ячейки\n",
    "# data_train = pd.read_csv('data_train.csv')\n",
    "# data_test = pd.read_csv('data_test.csv')"
   ]
  },
  {
   "cell_type": "code",
   "execution_count": 61,
   "metadata": {},
   "outputs": [],
   "source": [
    "#data_train['check_out_date'] = pd.to_datetime(data_train['check_out_date'],format='%Y-%m-%d')\n",
    "#data_test['check_out_date'] = pd.to_datetime(data_test['check_out_date'],format='%Y-%m-%d')\n",
    "#data_train['arrival_date'] = pd.to_datetime(data_train['arrival_date'],format='%Y-%m-%d')\n",
    "#data_test['arrival_date'] = pd.to_datetime(data_test['arrival_date'],format='%Y-%m-%d')\n",
    "#data_train['booking_date'] = pd.to_datetime(data_train['booking_date'],format='%Y-%m-%d')\n",
    "#data_test['booking_date'] = pd.to_datetime(data_test['booking_date'],format='%Y-%m-%d')"
   ]
  },
  {
   "cell_type": "markdown",
   "metadata": {},
   "source": [
    "Посмотрим, как соотносится колличество уже забронированных номеров и то, насколько заранее я делаю бронирование."
   ]
  },
  {
   "cell_type": "code",
   "execution_count": 72,
   "metadata": {},
   "outputs": [
    {
     "data": {
      "image/png": "[encoded data removed]",
      "text/plain": [
       "<Figure size 720x360 with 1 Axes>"
      ]
     },
     "metadata": {
      "needs_background": "light"
     },
     "output_type": "display_data"
    }
   ],
   "source": [
    "plt.figure(figsize = (10,5))\n",
    "(\n",
    "    plt.scatter(pd.concat([data_train, data_test]).groupby('lead_time')['booked'].mean().index, \n",
    "                pd.concat([data_train, data_test]).groupby('lead_time')['booked'].mean())\n",
    ")\n",
    "plt.xlabel('\\n' 'дней между бронированием и прибытием')\n",
    "plt.ylabel('среднее колличество занятых номеров на даты')\n",
    "plt.title('Связь между lead_time и booked\\n');"
   ]
  },
  {
   "cell_type": "markdown",
   "metadata": {},
   "source": [
    "Как и кажется логичным, чем более заранее делается бронирование тем меньше занятых номеров. "
   ]
  },
  {
   "cell_type": "markdown",
   "metadata": {},
   "source": [
    "На данном шаге мы изучили наши данные. В данных нет пропусков. Мы исправили названия некоторых категориальных переменных и поменяли некоторые типы. Мы также увидели, что классы несбалансированы и это повлияет на процесс обучения моделей в следующих пунктах. Мы так же создали новую переменную, которая отражает, сколько номеров было уже забронирована на искомый период на время бронирования. Закономерно данная переменная визуально сильно отрицательно скоррелирована со временем до заезда."
   ]
  },
  {
   "cell_type": "markdown",
   "metadata": {},
   "source": [
    "### Шаг 3. Формулировка ML-задачи на основе бизнес-задачи"
   ]
  },
  {
   "cell_type": "markdown",
   "metadata": {},
   "source": [
    "В данном пункте мы будем рассчитывать прибыль компании без внедрении системы депозитов. В рассчёте прибыли будут использованы некоторые константы, зададим их. В тех задании было сказано, что если клиент снял номер надолго, то убираются раз в два дня. Будем считать, что долгое проживание это больше 2 дней. Тогда для любого колличества ночей можно рассчитать колличество уборок как 1+total_nights // 2. "
   ]
  },
  {
   "cell_type": "code",
   "execution_count": 73,
   "metadata": {},
   "outputs": [],
   "source": [
    "# Задаём константы\n",
    "PRICES = {'A':1000, 'B': 800, 'C': 600, 'D': 550, 'E': 500, 'F': 450, 'G': 350}\n",
    "COSTS = {'A': 400, 'B': 350, 'C': 350, 'D': 550, 'E': 500, 'F': 450, 'G': 350}\n",
    "DEPOSIT_COEF = 0.8 #Сколько процентов от стоимости будет депозит\n",
    "\n",
    "SEASON_COEFS = {'SPRING': 1.2, 'AUTUMN': 1.2, 'SUMMER': 1.4, 'WINTER':1}\n",
    "\n",
    "SEASON_NUMBERS = {'SPRING': [3,4,5], 'AUTUMN': [9,10,11], 'SUMMER': [6,7,8], 'WINTER': [12, 1,2]}\n",
    "\n",
    "BUDGET = 400000"
   ]
  },
  {
   "cell_type": "markdown",
   "metadata": {},
   "source": [
    "Посмотрим, как часто люди бронировали проживание на долгое время."
   ]
  },
  {
   "cell_type": "markdown",
   "metadata": {},
   "source": [
    "Теперь посмотрим, есть ли у нас наблюдения, когда заезд был в одном сезоне, а выезд в другом. Для этого построим ещё одну переменную, которая соответесвует дате последней ночи."
   ]
  },
  {
   "cell_type": "code",
   "execution_count": 74,
   "metadata": {},
   "outputs": [],
   "source": [
    "data_train['last_night_date'] = data_train['check_out_date'] + pd.to_timedelta(-1, unit='d')\n",
    "data_test['last_night_date'] = data_test['check_out_date'] + pd.to_timedelta(-1, unit='d')"
   ]
  },
  {
   "cell_type": "code",
   "execution_count": 75,
   "metadata": {},
   "outputs": [],
   "source": [
    "# Функция подсчёта наблюдений\n",
    "def mix_seasons_count(data, season_list):\n",
    "    display((\n",
    "        data_train\n",
    "        .query('@data[\"arrival_date\"].dt.month in @season_list[0] '+\n",
    "               'and @data[\"last_night_date\"].dt.month in @season_list[1] and is_canceled==0')['total_nights'].count())\n",
    "    )"
   ]
  },
  {
   "cell_type": "code",
   "execution_count": 76,
   "metadata": {},
   "outputs": [],
   "source": [
    "# Создаю список со смешенными сезонами\n",
    "mix_season_list = (\n",
    "    [[SEASON_NUMBERS['SUMMER'], SEASON_NUMBERS['AUTUMN']], \n",
    "     [SEASON_NUMBERS['AUTUMN'], SEASON_NUMBERS['WINTER']], \n",
    "     [SEASON_NUMBERS['WINTER'], SEASON_NUMBERS['SPRING']], \n",
    "     [SEASON_NUMBERS['SPRING'], SEASON_NUMBERS['SUMMER']]]\n",
    ")"
   ]
  },
  {
   "cell_type": "code",
   "execution_count": 77,
   "metadata": {},
   "outputs": [
    {
     "data": {
      "text/plain": [
       "328"
      ]
     },
     "metadata": {},
     "output_type": "display_data"
    },
    {
     "data": {
      "text/plain": [
       "130"
      ]
     },
     "metadata": {},
     "output_type": "display_data"
    },
    {
     "data": {
      "text/plain": [
       "150"
      ]
     },
     "metadata": {},
     "output_type": "display_data"
    },
    {
     "data": {
      "text/plain": [
       "223"
      ]
     },
     "metadata": {},
     "output_type": "display_data"
    },
    {
     "data": {
      "text/plain": [
       "109"
      ]
     },
     "metadata": {},
     "output_type": "display_data"
    },
    {
     "data": {
      "text/plain": [
       "0"
      ]
     },
     "metadata": {},
     "output_type": "display_data"
    },
    {
     "data": {
      "text/plain": [
       "188"
      ]
     },
     "metadata": {},
     "output_type": "display_data"
    },
    {
     "data": {
      "text/plain": [
       "115"
      ]
     },
     "metadata": {},
     "output_type": "display_data"
    }
   ],
   "source": [
    "for data in [data_train, data_test]:\n",
    "    for s_l in mix_season_list:\n",
    "        mix_seasons_count(data, s_l)"
   ]
  },
  {
   "cell_type": "markdown",
   "metadata": {},
   "source": [
    "У нас есть такие наблюдения и их тоже надо будет учесть при подсчёте прибыли."
   ]
  },
  {
   "cell_type": "code",
   "execution_count": 79,
   "metadata": {},
   "outputs": [],
   "source": [
    "# Создаю список с типами номеров\n",
    "type_list = ['A', 'B', 'C', 'D', 'E', 'F', 'G']"
   ]
  },
  {
   "cell_type": "code",
   "execution_count": 97,
   "metadata": {},
   "outputs": [],
   "source": [
    "def profit(data):\n",
    "    arrived = profit_arrived(data)\n",
    "    cancelled = profit_cancelled(data)\n",
    "    profit = arrived + cancelled\n",
    "    return profit, arrived, cancelled"
   ]
  },
  {
   "cell_type": "code",
   "execution_count": 96,
   "metadata": {},
   "outputs": [],
   "source": [
    "def profit_arrived(data):\n",
    "    profit = profit_mix_season(data)+profit_same_season(data)\n",
    "    return profit"
   ]
  },
  {
   "cell_type": "markdown",
   "metadata": {},
   "source": [
    "Подсчитаем прибыль от броней, которые захватывали сразу два сезона."
   ]
  },
  {
   "cell_type": "markdown",
   "metadata": {},
   "source": [
    "Создадим переменную с последним днём месяца заезда."
   ]
  },
  {
   "cell_type": "code",
   "execution_count": 82,
   "metadata": {},
   "outputs": [],
   "source": [
    "import warnings\n",
    "warnings.filterwarnings('ignore') # отключим предупреждения, чтобы не отвлекали"
   ]
  },
  {
   "cell_type": "code",
   "execution_count": 83,
   "metadata": {},
   "outputs": [],
   "source": [
    "data_train['last_day_month'] = data_train['arrival_date']+pd.Series([relativedelta(day=31)]*len(data_train))\n",
    "data_test['last_day_month'] = data_test['arrival_date']+pd.Series([relativedelta(day=31)]*len(data_test))"
   ]
  },
  {
   "cell_type": "code",
   "execution_count": 94,
   "metadata": {},
   "outputs": [],
   "source": [
    "# Функция подсчёта прибыли от посетителей, которые застали два сезона\n",
    "def profit_mix_season(data):\n",
    "    profit_list = []\n",
    "    for t in type_list:\n",
    "        for s_l in mix_season_list:\n",
    "            #Колличество дней в первом сезоне \n",
    "            count_first_half = (\n",
    "                (data\n",
    "                 .query('reserved_room_type==@t and @data[\"arrival_date\"].dt.month in @s_l[0]'+ \n",
    "                        'and @data[\"last_night_date\"].dt.month in @s_l[1] and is_canceled==0')\n",
    "                 ['last_day_month']\n",
    "                 - data.query('reserved_room_type==@t and @data[\"arrival_date\"].dt.month in @s_l[0] and '+\n",
    "                              '@data[\"last_night_date\"].dt.month in @s_l[1] and is_canceled==0')\n",
    "                 ['arrival_date'])\n",
    "                .sum().days\n",
    "            )\n",
    "            #Выручка от этих дней\n",
    "            revenue_first_half = (\n",
    "                SEASON_COEFS[list(SEASON_NUMBERS.keys())[list(SEASON_NUMBERS.values()).index(s_l[0])]]*PRICES[t]\n",
    "                *count_first_half\n",
    "            )\n",
    "            # Колличество дней во втором сезоне\n",
    "            count_second_half = (\n",
    "                data\n",
    "                .query('reserved_room_type==@t and @data[\"arrival_date\"].dt.month in @s_l[0]'+\n",
    "                       'and @data[\"last_night_date\"].dt.month in @s_l[1] and is_canceled==0')\n",
    "                ['total_nights'].sum() - count_first_half\n",
    "            )\n",
    "            #Выручка от дней во втором сезоне\n",
    "            revenue_second_half = (\n",
    "                SEASON_COEFS[list(SEASON_NUMBERS.keys())[list(SEASON_NUMBERS.values()).index(s_l[1])]]*PRICES[t]\n",
    "                *count_second_half\n",
    "            )\n",
    "            # Суммарная прибыль для коротких визитов\n",
    "            profit = revenue_first_half + revenue_second_half - COSTS[t]*(1 + (count_first_half + count_second_half)//2)\n",
    "            \n",
    "            \n",
    "            profit_list.append(profit)\n",
    "            \n",
    "    # Общая прибыль от броней, которые застали два сезона        \n",
    "    return sum(profit_list)"
   ]
  },
  {
   "cell_type": "markdown",
   "metadata": {},
   "source": [
    "Теперь подсчитаем прибыль от тех бронирований, которые были внутри одного сезона."
   ]
  },
  {
   "cell_type": "code",
   "execution_count": 99,
   "metadata": {},
   "outputs": [],
   "source": [
    "def profit_same_season(data):\n",
    "    profit_list=[]\n",
    "    for t in type_list:\n",
    "        for s in SEASON_NUMBERS.values():\n",
    "            # Число ночей\n",
    "            count = (\n",
    "                data\n",
    "                .query('reserved_room_type==@t and @data[\"arrival_date\"].dt.month in @s '+\n",
    "                       'and is_canceled==0')['total_nights'].sum()\n",
    "            )\n",
    "            # Прибыль\n",
    "            profit = (\n",
    "                SEASON_COEFS[list(SEASON_NUMBERS.keys())[list(SEASON_NUMBERS.values()).index(s)]]*PRICES[t]*count \n",
    "                - COSTS[t]*(1 + count//2)\n",
    "            )\n",
    "            profit_list.append(profit)\n",
    "                \n",
    "    return sum(profit_list)"
   ]
  },
  {
   "cell_type": "markdown",
   "metadata": {},
   "source": [
    "Теперь подсчитаем отрицательную прибыль (убыток) от тех, кто отменил бронирование."
   ]
  },
  {
   "cell_type": "code",
   "execution_count": 91,
   "metadata": {},
   "outputs": [],
   "source": [
    "def profit_cancelled(data):\n",
    "    loss = []\n",
    "    for t in type_list:\n",
    "        for s in SEASON_NUMBERS.values():\n",
    "            # Считаем колличество отмененённых броней\n",
    "            count = (\n",
    "                data\n",
    "                .query('reserved_room_type==@t and '+\n",
    "                       ' @data[\"arrival_date\"].dt.month in @s and is_canceled==1')['total_nights'].count()\n",
    "            )\n",
    "            # Считаем убыток\n",
    "            profit = (\n",
    "                -(SEASON_COEFS[list(SEASON_NUMBERS.keys())[list(SEASON_NUMBERS.values()).index(s)]]*PRICES[t] + COSTS[t])*count\n",
    "            )\n",
    "            loss.append(profit)\n",
    "    return sum(loss)"
   ]
  },
  {
   "cell_type": "markdown",
   "metadata": {},
   "source": [
    "Теперь подсчитаем прибыль отеля за период данных обучающей выборки и за период тестовой выборки."
   ]
  },
  {
   "cell_type": "code",
   "execution_count": 101,
   "metadata": {},
   "outputs": [],
   "source": [
    "profit_train, profit_arrived_train, loss_cancelled_train = profit(data_train)"
   ]
  },
  {
   "cell_type": "code",
   "execution_count": 102,
   "metadata": {},
   "outputs": [
    {
     "data": {
      "text/plain": [
       "70796600"
      ]
     },
     "metadata": {},
     "output_type": "display_data"
    },
    {
     "data": {
      "text/plain": [
       "107851150"
      ]
     },
     "metadata": {},
     "output_type": "display_data"
    },
    {
     "data": {
      "text/plain": [
       "-37054550"
      ]
     },
     "execution_count": 102,
     "metadata": {},
     "output_type": "execute_result"
    }
   ],
   "source": [
    "display(round(profit_train))\n",
    "display(round(profit_arrived_train))\n",
    "round(loss_cancelled_train)"
   ]
  },
  {
   "cell_type": "markdown",
   "metadata": {},
   "source": [
    "За период обучающей выборки отель заработал около 71 млн. При этом от клиентов, которые заехали прибыль была почти что 108 млн, но от незаехавших клиентов было практически 37 млн убытков. Как видно, есть потенциал для введения новой функциональности, потому чтои убыток от отменённых бронирований довольно большой."
   ]
  },
  {
   "cell_type": "markdown",
   "metadata": {},
   "source": [
    "По условию тех задания, новая функциональность должна окупиться за тестовый период, то есть за временной промежуток тестовой выборки. Посмотрим, какая прибыль на тестовой выборке сейчас без новой функциональности."
   ]
  },
  {
   "cell_type": "code",
   "execution_count": 103,
   "metadata": {},
   "outputs": [],
   "source": [
    "profit_test_before, profit_arrived_test_before, loss_cancelled_test_before = profit(data_test)"
   ]
  },
  {
   "cell_type": "code",
   "execution_count": 104,
   "metadata": {},
   "outputs": [
    {
     "data": {
      "text/plain": [
       "33926120"
      ]
     },
     "metadata": {},
     "output_type": "display_data"
    },
    {
     "data": {
      "text/plain": [
       "53043340"
      ]
     },
     "metadata": {},
     "output_type": "display_data"
    },
    {
     "data": {
      "text/plain": [
       "-19117220"
      ]
     },
     "execution_count": 104,
     "metadata": {},
     "output_type": "execute_result"
    }
   ],
   "source": [
    "display(round(profit_test_before))\n",
    "display(round(profit_arrived_test_before))\n",
    "round(loss_cancelled_test_before)"
   ]
  },
  {
   "cell_type": "markdown",
   "metadata": {},
   "source": [
    "За тестовый период без новой опции прибыль 34 миллиона, при этом убыток от отменённых бронирований был около 19 млн."
   ]
  },
  {
   "cell_type": "markdown",
   "metadata": {},
   "source": [
    "В данном разделе я построила функции подсчёта прибыли отеля. Оказалось, что где-то половину заработенной прибыли отель теряет из-за убытков от клиентов, которые отменили бронирование. Предварительный анализ показывает, что действительно возможность требовать депозит может быть оправданной."
   ]
  },
  {
   "cell_type": "markdown",
   "metadata": {},
   "source": [
    "### Шаг 4. Разработка модели ML"
   ]
  },
  {
   "cell_type": "markdown",
   "metadata": {},
   "source": [
    "В нашей выборке есть дисбаланс классов как мы видели, поэтому мы будем в процессе обучение рассматривать разные способы борьбы с дисбалансом классов. "
   ]
  },
  {
   "cell_type": "code",
   "execution_count": 105,
   "metadata": {},
   "outputs": [
    {
     "data": {
      "text/plain": [
       "0    0.630739\n",
       "1    0.369261\n",
       "Name: is_canceled, dtype: float64"
      ]
     },
     "execution_count": 105,
     "metadata": {},
     "output_type": "execute_result"
    }
   ],
   "source": [
    "data_train['is_canceled'].value_counts(True)"
   ]
  },
  {
   "cell_type": "markdown",
   "metadata": {},
   "source": [
    "Для нас важнее определить правильно того, кто в будущем отменит бронирование, и не очень страшно, если с человека, который в будущем приедет, мы попросим депозит, наша метрика будет recall."
   ]
  },
  {
   "cell_type": "markdown",
   "metadata": {},
   "source": [
    "#### Первичная подготовка features and targets"
   ]
  },
  {
   "cell_type": "markdown",
   "metadata": {},
   "source": [
    "Перед тем, как начать рассматривать основные виды моделей и способов борьбы с дисбалансом классов, я хочу отобрать самые важные фичи и также применить feature-engineering. Для отборки наиболее важных фичей, я добавлю в переменные случайную величину и оставлю только те фичи, которые влияют на зависимую переенную больше, чем случайный признак."
   ]
  },
  {
   "cell_type": "markdown",
   "metadata": {},
   "source": [
    "Создадим features и targets."
   ]
  },
  {
   "cell_type": "code",
   "execution_count": 106,
   "metadata": {},
   "outputs": [],
   "source": [
    "def get_features(data):\n",
    "    features = (\n",
    "        data\n",
    "        .drop(['is_canceled', 'arrival_date', 'check_out_date', 'booking_date', 'stay_interval', \n",
    "                'last_night_date', 'last_day_month'], axis=1)\n",
    "    )\n",
    "    return features"
   ]
  },
  {
   "cell_type": "code",
   "execution_count": 108,
   "metadata": {},
   "outputs": [],
   "source": [
    "def get_target(data):\n",
    "    target = data['is_canceled']\n",
    "    return target"
   ]
  },
  {
   "cell_type": "code",
   "execution_count": 109,
   "metadata": {},
   "outputs": [],
   "source": [
    "features_train = get_features(data_train)\n",
    "features_test = get_features(data_test)\n",
    "target_train = get_target(data_train)\n",
    "target_test = get_target(data_test)"
   ]
  },
  {
   "cell_type": "code",
   "execution_count": 110,
   "metadata": {},
   "outputs": [],
   "source": [
    "# Создаю случайную переменную\n",
    "features_train['random'] = np.random.uniform(0,1,len(features_train))"
   ]
  },
  {
   "cell_type": "code",
   "execution_count": 138,
   "metadata": {},
   "outputs": [],
   "source": [
    "categorical = ['arrival_date_month', 'meal', 'country', 'distribution_channel', 'reserved_room_type', 'customer_type']\n",
    "numerical = (\n",
    "    ['lead_time', 'arrival_date_year', 'arrival_date_day_of_month', 'adults', 'children', 'babies', \n",
    "     'previous_cancellations', 'previous_bookings_not_canceled', 'booking_changes', 'days_in_waiting_list', \n",
    "     'required_car_parking_spaces', 'total_of_special_requests', 'total_nights', 'booked', 'random']\n",
    ")"
   ]
  },
  {
   "cell_type": "markdown",
   "metadata": {},
   "source": [
    "<div class=\"alert alert-warning\">\n",
    "<h2>Комментарий ревьюера<a class=\"tocSkip\"></a></h2>\n",
    "    \n",
    "**Есть совет** ⚠️: вообще для «деревянных» моделей лучше использовать порядковое кодирование, так как они заметно быстрее обучаются на меньшем количестве признаков и не теряют в качестве, есть <a href=\"https://medium.com/data-design/visiting-categorical-features-and-encoding-in-decision-trees-53400fa65931\" target=\"blank_\">шикарная статья</a> на эту тему. Но для линейных моделей(в том числе логистической регрессии) порядковое кодирование не подходит, потому что задает приоритет признакам, которого в природе данных нет. Тогда, например, значение 10^2 в признаке X для них будет важнее, чем значение 10^1, а это далеко не всегда верное утверждение. Поэтому для них лучше использовать OHE.\n",
    "    \n",
    "Также для «деревянных» моделей масштабирование совсем не обязательно, <a href=\"https://towardsdatascience.com/how-data-normalization-affects-your-random-forest-algorithm-fbc6753b4ddf\" target=\"blank_\">тут</a> можно почитать про это подробнее. Но для линейных моделей наоборот, может заметно улучшить метрики\n",
    "    \n",
    "Тогда у тебя получится разная предобработка для разных моделей, это вполне нормально :)</div>"
   ]
  },
  {
   "cell_type": "markdown",
   "metadata": {},
   "source": [
    "#### Feature selection"
   ]
  },
  {
   "cell_type": "markdown",
   "metadata": {},
   "source": [
    "Я хочу отобрать те признаки, которые действительно важны для решения об отмене брони. Для этого я буду смотреть на вектор Шепли и сравнивать влияние признаков с влиянием случайного признака. "
   ]
  },
  {
   "cell_type": "code",
   "execution_count": 122,
   "metadata": {},
   "outputs": [],
   "source": [
    "model = CatBoostClassifier(iterations=300, random_seed=42)"
   ]
  },
  {
   "cell_type": "code",
   "execution_count": 124,
   "metadata": {},
   "outputs": [
    {
     "name": "stderr",
     "output_type": "stream",
     "text": [
      "Custom logger is already specified. Specify more than one logger at same time is not thread safe."
     ]
    },
    {
     "data": {
      "text/plain": [
       "<catboost.core.CatBoostClassifier at 0x7f6d4fef06d0>"
      ]
     },
     "execution_count": 124,
     "metadata": {},
     "output_type": "execute_result"
    }
   ],
   "source": [
    "model.fit(features_train, target_train, cat_features=categorical, verbose=False, plot=False)"
   ]
  },
  {
   "cell_type": "code",
   "execution_count": 125,
   "metadata": {},
   "outputs": [],
   "source": [
    "explainer = shap.TreeExplainer(model)"
   ]
  },
  {
   "cell_type": "code",
   "execution_count": 129,
   "metadata": {},
   "outputs": [],
   "source": [
    "shap_values = explainer.shap_values(Pool(features_train, target_train, cat_features=categorical))"
   ]
  },
  {
   "cell_type": "code",
   "execution_count": 130,
   "metadata": {},
   "outputs": [
    {
     "data": {
      "image/png": "[encoded data removed]",
      "text/plain": [
       "<Figure size 576x684 with 2 Axes>"
      ]
     },
     "metadata": {
      "needs_background": "light"
     },
     "output_type": "display_data"
    }
   ],
   "source": [
    "shap.summary_plot(shap_values, features_train)"
   ]
  },
  {
   "cell_type": "markdown",
   "metadata": {},
   "source": [
    "Как мы видим из графика некоторые переменные очень сильно влияют на вероятность отмены (страна, previous_cancellations). И ни одна переменная не имеет меньшего влияния, что наша искуственная переменная. "
   ]
  },
  {
   "cell_type": "code",
   "execution_count": 131,
   "metadata": {},
   "outputs": [],
   "source": [
    "features_train = del_column(features_train, 'random')"
   ]
  },
  {
   "cell_type": "code",
   "execution_count": 139,
   "metadata": {},
   "outputs": [],
   "source": [
    "numerical = (\n",
    "    ['lead_time', 'arrival_date_year', 'arrival_date_day_of_month', 'adults', 'children', 'babies', \n",
    "     'previous_cancellations', 'previous_bookings_not_canceled', 'booking_changes', 'days_in_waiting_list', \n",
    "     'required_car_parking_spaces', 'total_of_special_requests', 'total_nights', 'booked']\n",
    ")"
   ]
  },
  {
   "cell_type": "markdown",
   "metadata": {},
   "source": [
    "#### Выбор модели"
   ]
  },
  {
   "cell_type": "markdown",
   "metadata": {},
   "source": [
    "Мы будем исследовать несколько способов борьбы с дисбалансом и выбирать из трёх видов классификаторов."
   ]
  },
  {
   "cell_type": "code",
   "execution_count": 182,
   "metadata": {},
   "outputs": [],
   "source": [
    "def objective(trial):\n",
    "    samplers = trial.suggest_categorical(\"samplers\", ['undersample', 'SMOTE', 'ADASYN'])\n",
    "    if samplers=='undersample':\n",
    "        sample = RandomUnderSampler(random_state=42)\n",
    "    elif samplers=='SMOTE':\n",
    "        sample = SMOTE(random_state=42)\n",
    "    else:\n",
    "        sample = ADASYN(random_state=42)\n",
    "    \n",
    "    classifier_name = trial.suggest_categorical(\"classifier\", [\"Tree\", \"Forest\", \"Logistic_Regression\", \"Light\"])\n",
    "    \n",
    "    \n",
    "    if classifier_name == \"Tree\":\n",
    "        dt_md = trial.suggest_int('max_depth', 2, 20)\n",
    "        dt_sl = trial.suggest_int('min_inst', 1, 32)\n",
    "        categorical_transformer = Pipeline(steps=[('ordinal', OrdinalEncoder(handle_unknown='use_encoded_value', unknown_value=-1))])\n",
    "        numeric_transformer = Pipeline(steps=[('polinomial', PolynomialFeatures(2))])\n",
    "        classifier_obj = DecisionTreeClassifier(max_depth=dt_md, min_samples_leaf=dt_sl, random_state=42 )\n",
    "        \n",
    "    elif classifier_name == 'Forest':\n",
    "        rf_md = trial.suggest_int(\"rf_md\", 2, 25, log=True)\n",
    "        rf_n_estimators = trial.suggest_int('rf_num_estimators', 5, 100) \n",
    "        categorical_transformer = Pipeline(steps=[('ordinal', OrdinalEncoder(handle_unknown='use_encoded_value', unknown_value=-1))])\n",
    "        numeric_transformer = Pipeline(steps=[('polinomial', PolynomialFeatures(2))])\n",
    "        classifier_obj = RandomForestClassifier(max_depth=rf_md, n_estimators=rf_n_estimators)\n",
    "        \n",
    "    elif classifier_name == 'Light':\n",
    "        light_nl = trial.suggest_int(\"num_leaves\", 2, 256)\n",
    "        categorical_transformer = Pipeline(steps=[('ordinal', OrdinalEncoder(handle_unknown='use_encoded_value', unknown_value=-1))])\n",
    "        numeric_transformer = Pipeline(steps=[('polinomial', PolynomialFeatures(2))])\n",
    "        classifier_obj = lgb.LGBMClassifier(num_leaves=light_nl)\n",
    "        \n",
    "    else:\n",
    "        logreg_s = trial.suggest_categorical('solver' , ['lbfgs','liblinear'])\n",
    "        numeric_transformer = Pipeline(steps=[('scaler', StandardScaler()), ('polinomial', PolynomialFeatures(2))])\n",
    "        categorical_transformer = Pipeline(steps=[('onehot', OneHotEncoder(drop='first', handle_unknown='ignore'))])\n",
    "        classifier_obj = LogisticRegression(solver=logreg_s)\n",
    "    \n",
    "    preprocessor = (\n",
    "    make_column_transformer((numeric_transformer, numerical),(categorical_transformer, categorical), \n",
    "                            remainder='passthrough',\n",
    "                            verbose_feature_names_out=False))\n",
    "    pipeline = Pipeline_imb([('preprocessor',preprocessor),('sample',sample), ('estimation',classifier_obj)])\n",
    "    \n",
    "    score = cross_val_score(pipeline, features_train, target_train, scoring='recall')\n",
    "    recall_mean = score.mean() \n",
    "    return recall_mean"
   ]
  },
  {
   "cell_type": "code",
   "execution_count": 184,
   "metadata": {},
   "outputs": [
    {
     "name": "stderr",
     "output_type": "stream",
     "text": [
      "[I 2023-07-18 18:05:22,084] A new study created in memory with name: no-name-95064529-e3e6-4826-8e8d-d28860eac0bd\n",
      "[I 2023-07-18 18:05:25,190] Trial 0 finished with value: 0.6232550929290308 and parameters: {'samplers': 'undersample', 'classifier': 'Tree', 'max_depth': 4, 'min_inst': 28}. Best is trial 0 with value: 0.6232550929290308.\n",
      "[I 2023-07-18 18:05:54,077] Trial 1 finished with value: 0.5325943889281589 and parameters: {'samplers': 'SMOTE', 'classifier': 'Tree', 'max_depth': 18, 'min_inst': 20}. Best is trial 0 with value: 0.6232550929290308.\n",
      "[I 2023-07-18 18:07:05,646] Trial 2 finished with value: 0.6515408587182271 and parameters: {'samplers': 'ADASYN', 'classifier': 'Tree', 'max_depth': 7, 'min_inst': 17}. Best is trial 2 with value: 0.6515408587182271.\n",
      "[I 2023-07-18 18:10:24,591] Trial 3 finished with value: 0.49433966287750497 and parameters: {'samplers': 'ADASYN', 'classifier': 'Light', 'num_leaves': 202}. Best is trial 2 with value: 0.6515408587182271.\n",
      "[I 2023-07-18 18:12:52,407] Trial 4 finished with value: 0.5311369721923599 and parameters: {'samplers': 'ADASYN', 'classifier': 'Forest', 'rf_md': 22, 'rf_num_estimators': 97}. Best is trial 2 with value: 0.6515408587182271.\n",
      "[I 2023-07-18 18:12:55,023] Trial 5 finished with value: 0.6421124935274036 and parameters: {'samplers': 'undersample', 'classifier': 'Tree', 'max_depth': 2, 'min_inst': 30}. Best is trial 2 with value: 0.6515408587182271.\n",
      "[I 2023-07-18 18:16:35,796] Trial 6 finished with value: 0.4960921316469288 and parameters: {'samplers': 'SMOTE', 'classifier': 'Light', 'num_leaves': 199}. Best is trial 2 with value: 0.6515408587182271.\n",
      "[I 2023-07-18 18:16:40,734] Trial 7 finished with value: 0.6190424065271798 and parameters: {'samplers': 'undersample', 'classifier': 'Tree', 'max_depth': 8, 'min_inst': 13}. Best is trial 2 with value: 0.6515408587182271.\n",
      "[I 2023-07-18 18:17:54,590] Trial 8 finished with value: 0.548618383035126 and parameters: {'samplers': 'SMOTE', 'classifier': 'Light', 'num_leaves': 21}. Best is trial 2 with value: 0.6515408587182271.\n",
      "[I 2023-07-18 18:18:00,133] Trial 9 finished with value: 0.6473691164654755 and parameters: {'samplers': 'undersample', 'classifier': 'Forest', 'rf_md': 13, 'rf_num_estimators': 12}. Best is trial 2 with value: 0.6515408587182271.\n",
      "[I 2023-07-18 18:25:48,594] Trial 10 finished with value: 0.6057363240318567 and parameters: {'samplers': 'ADASYN', 'classifier': 'Logistic_Regression', 'solver': 'liblinear'}. Best is trial 2 with value: 0.6515408587182271.\n",
      "[I 2023-07-18 18:25:50,793] Trial 11 finished with value: 0.6281775649564041 and parameters: {'samplers': 'undersample', 'classifier': 'Forest', 'rf_md': 4, 'rf_num_estimators': 6}. Best is trial 2 with value: 0.6515408587182271.\n",
      "[I 2023-07-18 18:27:01,360] Trial 12 finished with value: 0.5993501247865207 and parameters: {'samplers': 'ADASYN', 'classifier': 'Forest', 'rf_md': 12, 'rf_num_estimators': 7}. Best is trial 2 with value: 0.6515408587182271.\n",
      "[I 2023-07-18 18:29:19,828] Trial 13 finished with value: 0.6200035843538689 and parameters: {'samplers': 'ADASYN', 'classifier': 'Logistic_Regression', 'solver': 'lbfgs'}. Best is trial 2 with value: 0.6515408587182271.\n",
      "[I 2023-07-18 18:29:26,084] Trial 14 finished with value: 0.6447401521879399 and parameters: {'samplers': 'undersample', 'classifier': 'Forest', 'rf_md': 2, 'rf_num_estimators': 47}. Best is trial 2 with value: 0.6515408587182271.\n",
      "[I 2023-07-18 18:29:32,343] Trial 15 finished with value: 0.5955086514099227 and parameters: {'samplers': 'undersample', 'classifier': 'Tree', 'max_depth': 13, 'min_inst': 1}. Best is trial 2 with value: 0.6515408587182271.\n",
      "[I 2023-07-18 18:31:02,180] Trial 16 finished with value: 0.6736961869281451 and parameters: {'samplers': 'ADASYN', 'classifier': 'Forest', 'rf_md': 9, 'rf_num_estimators': 43}. Best is trial 16 with value: 0.6736961869281451.\n",
      "[I 2023-07-18 18:33:19,601] Trial 17 finished with value: 0.6200035843538689 and parameters: {'samplers': 'ADASYN', 'classifier': 'Logistic_Regression', 'solver': 'lbfgs'}. Best is trial 16 with value: 0.6736961869281451.\n",
      "[I 2023-07-18 18:34:33,906] Trial 18 finished with value: 0.6096121090231974 and parameters: {'samplers': 'ADASYN', 'classifier': 'Tree', 'max_depth': 10, 'min_inst': 13}. Best is trial 16 with value: 0.6736961869281451.\n",
      "[I 2023-07-18 18:36:02,252] Trial 19 finished with value: 0.6635591067177389 and parameters: {'samplers': 'ADASYN', 'classifier': 'Forest', 'rf_md': 6, 'rf_num_estimators': 57}. Best is trial 16 with value: 0.6736961869281451.\n",
      "[I 2023-07-18 18:37:29,063] Trial 20 finished with value: 0.7064468495070121 and parameters: {'samplers': 'ADASYN', 'classifier': 'Forest', 'rf_md': 6, 'rf_num_estimators': 53}. Best is trial 20 with value: 0.7064468495070121.\n",
      "[I 2023-07-18 18:38:56,128] Trial 21 finished with value: 0.6702341432597827 and parameters: {'samplers': 'ADASYN', 'classifier': 'Forest', 'rf_md': 6, 'rf_num_estimators': 54}. Best is trial 20 with value: 0.7064468495070121.\n",
      "[I 2023-07-18 18:40:22,976] Trial 22 finished with value: 0.7050264600693144 and parameters: {'samplers': 'ADASYN', 'classifier': 'Forest', 'rf_md': 6, 'rf_num_estimators': 51}. Best is trial 20 with value: 0.7064468495070121.\n",
      "[I 2023-07-18 18:41:45,036] Trial 23 finished with value: 0.6532118918033452 and parameters: {'samplers': 'ADASYN', 'classifier': 'Forest', 'rf_md': 8, 'rf_num_estimators': 36}. Best is trial 20 with value: 0.7064468495070121.\n",
      "[I 2023-07-18 18:43:09,570] Trial 24 finished with value: 0.6759078324921244 and parameters: {'samplers': 'ADASYN', 'classifier': 'Forest', 'rf_md': 4, 'rf_num_estimators': 68}. Best is trial 20 with value: 0.7064468495070121.\n",
      "[I 2023-07-18 18:44:36,684] Trial 25 finished with value: 0.7090320059821631 and parameters: {'samplers': 'ADASYN', 'classifier': 'Forest', 'rf_md': 4, 'rf_num_estimators': 74}. Best is trial 25 with value: 0.7090320059821631.\n",
      "[I 2023-07-18 18:45:18,135] Trial 26 finished with value: 0.6982666454634467 and parameters: {'samplers': 'SMOTE', 'classifier': 'Forest', 'rf_md': 4, 'rf_num_estimators': 77}. Best is trial 25 with value: 0.7090320059821631.\n",
      "[I 2023-07-18 18:46:39,967] Trial 27 finished with value: 0.6726101660039789 and parameters: {'samplers': 'ADASYN', 'classifier': 'Forest', 'rf_md': 3, 'rf_num_estimators': 78}. Best is trial 25 with value: 0.7090320059821631.\n",
      "[I 2023-07-18 18:47:52,234] Trial 28 finished with value: 0.7218022980774095 and parameters: {'samplers': 'ADASYN', 'classifier': 'Forest', 'rf_md': 5, 'rf_num_estimators': 26}. Best is trial 28 with value: 0.7218022980774095.\n",
      "[I 2023-07-18 18:49:02,218] Trial 29 finished with value: 0.7308520430425368 and parameters: {'samplers': 'ADASYN', 'classifier': 'Forest', 'rf_md': 3, 'rf_num_estimators': 28}. Best is trial 29 with value: 0.7308520430425368.\n"
     ]
    }
   ],
   "source": [
    "sampler = TPESampler(seed=42)\n",
    "study = optuna.create_study(sampler=sampler, direction=\"maximize\") \n",
    "study.enqueue_trial({'samplers': 'undersample','classifier': 'Tree', 'max_depth': 4,'min_inst': 28})\n",
    "study.optimize(objective, n_trials=30)"
   ]
  },
  {
   "cell_type": "markdown",
   "metadata": {},
   "source": [
    "Сохраним лучший трайл."
   ]
  },
  {
   "cell_type": "code",
   "execution_count": 185,
   "metadata": {},
   "outputs": [
    {
     "data": {
      "text/plain": [
       "FrozenTrial(number=29, state=TrialState.COMPLETE, values=[0.7308520430425368], datetime_start=datetime.datetime(2023, 7, 18, 18, 47, 52, 235990), datetime_complete=datetime.datetime(2023, 7, 18, 18, 49, 2, 217666), params={'samplers': 'ADASYN', 'classifier': 'Forest', 'rf_md': 3, 'rf_num_estimators': 28}, user_attrs={}, system_attrs={}, intermediate_values={}, distributions={'samplers': CategoricalDistribution(choices=('undersample', 'SMOTE', 'ADASYN')), 'classifier': CategoricalDistribution(choices=('Tree', 'Forest', 'Logistic_Regression', 'Light')), 'rf_md': IntDistribution(high=25, log=True, low=2, step=1), 'rf_num_estimators': IntDistribution(high=100, log=False, low=5, step=1)}, trial_id=29, value=None)"
      ]
     },
     "execution_count": 185,
     "metadata": {},
     "output_type": "execute_result"
    }
   ],
   "source": [
    "trial = study.best_trial\n",
    "trial"
   ]
  },
  {
   "cell_type": "code",
   "execution_count": 186,
   "metadata": {},
   "outputs": [
    {
     "data": {
      "text/plain": [
       "{'samplers': 'ADASYN',\n",
       " 'classifier': 'Forest',\n",
       " 'rf_md': 3,\n",
       " 'rf_num_estimators': 28}"
      ]
     },
     "execution_count": 186,
     "metadata": {},
     "output_type": "execute_result"
    }
   ],
   "source": [
    "# Параметр модели\n",
    "trial.params "
   ]
  },
  {
   "cell_type": "markdown",
   "metadata": {},
   "source": [
    "Лучшая модель это модель случайного леса глубиной 3 из 28 деревьев и предварительным апсамплингом. У данной модели получился средний recall при кроссвалидации 0.7308520430425368."
   ]
  },
  {
   "cell_type": "markdown",
   "metadata": {},
   "source": [
    "#### Обучаем лучшую модель"
   ]
  },
  {
   "cell_type": "code",
   "execution_count": 187,
   "metadata": {},
   "outputs": [],
   "source": [
    "best_model = RandomForestClassifier(max_depth=3, n_estimators=28, random_state=42 )"
   ]
  },
  {
   "cell_type": "code",
   "execution_count": 188,
   "metadata": {},
   "outputs": [],
   "source": [
    "sampler = ADASYN(random_state=42)"
   ]
  },
  {
   "cell_type": "code",
   "execution_count": 189,
   "metadata": {},
   "outputs": [],
   "source": [
    "categorical_transformer = Pipeline(steps=[('ordinal', OrdinalEncoder(handle_unknown='use_encoded_value', unknown_value=-1))])\n",
    "numeric_transformer = Pipeline(steps=[('polinomial', PolynomialFeatures(2))])\n",
    "preprocessor = (\n",
    "    make_column_transformer((numeric_transformer, numerical),(categorical_transformer, categorical), \n",
    "                            remainder='passthrough',\n",
    "                            verbose_feature_names_out=False))"
   ]
  },
  {
   "cell_type": "code",
   "execution_count": 190,
   "metadata": {},
   "outputs": [],
   "source": [
    "pipeline = Pipeline_imb([('preprocessor',preprocessor),('sample',sampler), ('estimation', best_model)])"
   ]
  },
  {
   "cell_type": "code",
   "execution_count": 191,
   "metadata": {},
   "outputs": [
    {
     "data": {
      "text/html": [
       "<style>#sk-container-id-3 {color: black;background-color: white;}#sk-container-id-3 pre{padding: 0;}#sk-container-id-3 div.sk-toggleable {background-color: white;}#sk-container-id-3 label.sk-toggleable__label {cursor: pointer;display: block;width: 100%;margin-bottom: 0;padding: 0.3em;box-sizing: border-box;text-align: center;}#sk-container-id-3 label.sk-toggleable__label-arrow:before {content: \"▸\";float: left;margin-right: 0.25em;color: #696969;}#sk-container-id-3 label.sk-toggleable__label-arrow:hover:before {color: black;}#sk-container-id-3 div.sk-estimator:hover label.sk-toggleable__label-arrow:before {color: black;}#sk-container-id-3 div.sk-toggleable__content {max-height: 0;max-width: 0;overflow: hidden;text-align: left;background-color: #f0f8ff;}#sk-container-id-3 div.sk-toggleable__content pre {margin: 0.2em;color: black;border-radius: 0.25em;background-color: #f0f8ff;}#sk-container-id-3 input.sk-toggleable__control:checked~div.sk-toggleable__content {max-height: 200px;max-width: 100%;overflow: auto;}#sk-container-id-3 input.sk-toggleable__control:checked~label.sk-toggleable__label-arrow:before {content: \"▾\";}#sk-container-id-3 div.sk-estimator input.sk-toggleable__control:checked~label.sk-toggleable__label {background-color: #d4ebff;}#sk-container-id-3 div.sk-label input.sk-toggleable__control:checked~label.sk-toggleable__label {background-color: #d4ebff;}#sk-container-id-3 input.sk-hidden--visually {border: 0;clip: rect(1px 1px 1px 1px);clip: rect(1px, 1px, 1px, 1px);height: 1px;margin: -1px;overflow: hidden;padding: 0;position: absolute;width: 1px;}#sk-container-id-3 div.sk-estimator {font-family: monospace;background-color: #f0f8ff;border: 1px dotted black;border-radius: 0.25em;box-sizing: border-box;margin-bottom: 0.5em;}#sk-container-id-3 div.sk-estimator:hover {background-color: #d4ebff;}#sk-container-id-3 div.sk-parallel-item::after {content: \"\";width: 100%;border-bottom: 1px solid gray;flex-grow: 1;}#sk-container-id-3 div.sk-label:hover label.sk-toggleable__label {background-color: #d4ebff;}#sk-container-id-3 div.sk-serial::before {content: \"\";position: absolute;border-left: 1px solid gray;box-sizing: border-box;top: 0;bottom: 0;left: 50%;z-index: 0;}#sk-container-id-3 div.sk-serial {display: flex;flex-direction: column;align-items: center;background-color: white;padding-right: 0.2em;padding-left: 0.2em;position: relative;}#sk-container-id-3 div.sk-item {position: relative;z-index: 1;}#sk-container-id-3 div.sk-parallel {display: flex;align-items: stretch;justify-content: center;background-color: white;position: relative;}#sk-container-id-3 div.sk-item::before, #sk-container-id-3 div.sk-parallel-item::before {content: \"\";position: absolute;border-left: 1px solid gray;box-sizing: border-box;top: 0;bottom: 0;left: 50%;z-index: -1;}#sk-container-id-3 div.sk-parallel-item {display: flex;flex-direction: column;z-index: 1;position: relative;background-color: white;}#sk-container-id-3 div.sk-parallel-item:first-child::after {align-self: flex-end;width: 50%;}#sk-container-id-3 div.sk-parallel-item:last-child::after {align-self: flex-start;width: 50%;}#sk-container-id-3 div.sk-parallel-item:only-child::after {width: 0;}#sk-container-id-3 div.sk-dashed-wrapped {border: 1px dashed gray;margin: 0 0.4em 0.5em 0.4em;box-sizing: border-box;padding-bottom: 0.4em;background-color: white;}#sk-container-id-3 div.sk-label label {font-family: monospace;font-weight: bold;display: inline-block;line-height: 1.2em;}#sk-container-id-3 div.sk-label-container {text-align: center;}#sk-container-id-3 div.sk-container {/* jupyter's `normalize.less` sets `[hidden] { display: none; }` but bootstrap.min.css set `[hidden] { display: none !important; }` so we also need the `!important` here to be able to override the default hidden behavior on the sphinx rendered scikit-learn.org. See: https://github.com/scikit-learn/scikit-learn/issues/21755 */display: inline-block !important;position: relative;}#sk-container-id-3 div.sk-text-repr-fallback {display: none;}</style><div id=\"sk-container-id-3\" class=\"sk-top-container\"><div class=\"sk-text-repr-fallback\"><pre>Pipeline(steps=[(&#x27;preprocessor&#x27;,\n",
       "                 ColumnTransformer(remainder=&#x27;passthrough&#x27;,\n",
       "                                   transformers=[(&#x27;pipeline-1&#x27;,\n",
       "                                                  Pipeline(steps=[(&#x27;polinomial&#x27;,\n",
       "                                                                   PolynomialFeatures())]),\n",
       "                                                  [&#x27;lead_time&#x27;,\n",
       "                                                   &#x27;arrival_date_year&#x27;,\n",
       "                                                   &#x27;arrival_date_day_of_month&#x27;,\n",
       "                                                   &#x27;adults&#x27;, &#x27;children&#x27;,\n",
       "                                                   &#x27;babies&#x27;,\n",
       "                                                   &#x27;previous_cancellations&#x27;,\n",
       "                                                   &#x27;previous_bookings_not_canceled&#x27;,\n",
       "                                                   &#x27;booking_changes&#x27;,\n",
       "                                                   &#x27;days_in_waiting_list&#x27;,\n",
       "                                                   &#x27;requ...\n",
       "                                                  Pipeline(steps=[(&#x27;ordinal&#x27;,\n",
       "                                                                   OrdinalEncoder(handle_unknown=&#x27;use_encoded_value&#x27;,\n",
       "                                                                                  unknown_value=-1))]),\n",
       "                                                  [&#x27;arrival_date_month&#x27;, &#x27;meal&#x27;,\n",
       "                                                   &#x27;country&#x27;,\n",
       "                                                   &#x27;distribution_channel&#x27;,\n",
       "                                                   &#x27;reserved_room_type&#x27;,\n",
       "                                                   &#x27;customer_type&#x27;])],\n",
       "                                   verbose_feature_names_out=False)),\n",
       "                (&#x27;sample&#x27;, ADASYN(random_state=42)),\n",
       "                (&#x27;estimation&#x27;,\n",
       "                 RandomForestClassifier(max_depth=3, n_estimators=28,\n",
       "                                        random_state=42))])</pre><b>In a Jupyter environment, please rerun this cell to show the HTML representation or trust the notebook. <br />On GitHub, the HTML representation is unable to render, please try loading this page with nbviewer.org.</b></div><div class=\"sk-container\" hidden><div class=\"sk-item sk-dashed-wrapped\"><div class=\"sk-label-container\"><div class=\"sk-label sk-toggleable\"><input class=\"sk-toggleable__control sk-hidden--visually\" id=\"sk-estimator-id-21\" type=\"checkbox\" ><label for=\"sk-estimator-id-21\" class=\"sk-toggleable__label sk-toggleable__label-arrow\">Pipeline</label><div class=\"sk-toggleable__content\"><pre>Pipeline(steps=[(&#x27;preprocessor&#x27;,\n",
       "                 ColumnTransformer(remainder=&#x27;passthrough&#x27;,\n",
       "                                   transformers=[(&#x27;pipeline-1&#x27;,\n",
       "                                                  Pipeline(steps=[(&#x27;polinomial&#x27;,\n",
       "                                                                   PolynomialFeatures())]),\n",
       "                                                  [&#x27;lead_time&#x27;,\n",
       "                                                   &#x27;arrival_date_year&#x27;,\n",
       "                                                   &#x27;arrival_date_day_of_month&#x27;,\n",
       "                                                   &#x27;adults&#x27;, &#x27;children&#x27;,\n",
       "                                                   &#x27;babies&#x27;,\n",
       "                                                   &#x27;previous_cancellations&#x27;,\n",
       "                                                   &#x27;previous_bookings_not_canceled&#x27;,\n",
       "                                                   &#x27;booking_changes&#x27;,\n",
       "                                                   &#x27;days_in_waiting_list&#x27;,\n",
       "                                                   &#x27;requ...\n",
       "                                                  Pipeline(steps=[(&#x27;ordinal&#x27;,\n",
       "                                                                   OrdinalEncoder(handle_unknown=&#x27;use_encoded_value&#x27;,\n",
       "                                                                                  unknown_value=-1))]),\n",
       "                                                  [&#x27;arrival_date_month&#x27;, &#x27;meal&#x27;,\n",
       "                                                   &#x27;country&#x27;,\n",
       "                                                   &#x27;distribution_channel&#x27;,\n",
       "                                                   &#x27;reserved_room_type&#x27;,\n",
       "                                                   &#x27;customer_type&#x27;])],\n",
       "                                   verbose_feature_names_out=False)),\n",
       "                (&#x27;sample&#x27;, ADASYN(random_state=42)),\n",
       "                (&#x27;estimation&#x27;,\n",
       "                 RandomForestClassifier(max_depth=3, n_estimators=28,\n",
       "                                        random_state=42))])</pre></div></div></div><div class=\"sk-serial\"><div class=\"sk-item sk-dashed-wrapped\"><div class=\"sk-label-container\"><div class=\"sk-label sk-toggleable\"><input class=\"sk-toggleable__control sk-hidden--visually\" id=\"sk-estimator-id-22\" type=\"checkbox\" ><label for=\"sk-estimator-id-22\" class=\"sk-toggleable__label sk-toggleable__label-arrow\">preprocessor: ColumnTransformer</label><div class=\"sk-toggleable__content\"><pre>ColumnTransformer(remainder=&#x27;passthrough&#x27;,\n",
       "                  transformers=[(&#x27;pipeline-1&#x27;,\n",
       "                                 Pipeline(steps=[(&#x27;polinomial&#x27;,\n",
       "                                                  PolynomialFeatures())]),\n",
       "                                 [&#x27;lead_time&#x27;, &#x27;arrival_date_year&#x27;,\n",
       "                                  &#x27;arrival_date_day_of_month&#x27;, &#x27;adults&#x27;,\n",
       "                                  &#x27;children&#x27;, &#x27;babies&#x27;,\n",
       "                                  &#x27;previous_cancellations&#x27;,\n",
       "                                  &#x27;previous_bookings_not_canceled&#x27;,\n",
       "                                  &#x27;booking_changes&#x27;, &#x27;days_in_waiting_list&#x27;,\n",
       "                                  &#x27;required_car_parking_spaces&#x27;,\n",
       "                                  &#x27;total_of_special_requests&#x27;, &#x27;total_nights&#x27;,\n",
       "                                  &#x27;booked&#x27;]),\n",
       "                                (&#x27;pipeline-2&#x27;,\n",
       "                                 Pipeline(steps=[(&#x27;ordinal&#x27;,\n",
       "                                                  OrdinalEncoder(handle_unknown=&#x27;use_encoded_value&#x27;,\n",
       "                                                                 unknown_value=-1))]),\n",
       "                                 [&#x27;arrival_date_month&#x27;, &#x27;meal&#x27;, &#x27;country&#x27;,\n",
       "                                  &#x27;distribution_channel&#x27;, &#x27;reserved_room_type&#x27;,\n",
       "                                  &#x27;customer_type&#x27;])],\n",
       "                  verbose_feature_names_out=False)</pre></div></div></div><div class=\"sk-parallel\"><div class=\"sk-parallel-item\"><div class=\"sk-item\"><div class=\"sk-label-container\"><div class=\"sk-label sk-toggleable\"><input class=\"sk-toggleable__control sk-hidden--visually\" id=\"sk-estimator-id-23\" type=\"checkbox\" ><label for=\"sk-estimator-id-23\" class=\"sk-toggleable__label sk-toggleable__label-arrow\">pipeline-1</label><div class=\"sk-toggleable__content\"><pre>[&#x27;lead_time&#x27;, &#x27;arrival_date_year&#x27;, &#x27;arrival_date_day_of_month&#x27;, &#x27;adults&#x27;, &#x27;children&#x27;, &#x27;babies&#x27;, &#x27;previous_cancellations&#x27;, &#x27;previous_bookings_not_canceled&#x27;, &#x27;booking_changes&#x27;, &#x27;days_in_waiting_list&#x27;, &#x27;required_car_parking_spaces&#x27;, &#x27;total_of_special_requests&#x27;, &#x27;total_nights&#x27;, &#x27;booked&#x27;]</pre></div></div></div><div class=\"sk-serial\"><div class=\"sk-item\"><div class=\"sk-serial\"><div class=\"sk-item\"><div class=\"sk-estimator sk-toggleable\"><input class=\"sk-toggleable__control sk-hidden--visually\" id=\"sk-estimator-id-24\" type=\"checkbox\" ><label for=\"sk-estimator-id-24\" class=\"sk-toggleable__label sk-toggleable__label-arrow\">PolynomialFeatures</label><div class=\"sk-toggleable__content\"><pre>PolynomialFeatures()</pre></div></div></div></div></div></div></div></div><div class=\"sk-parallel-item\"><div class=\"sk-item\"><div class=\"sk-label-container\"><div class=\"sk-label sk-toggleable\"><input class=\"sk-toggleable__control sk-hidden--visually\" id=\"sk-estimator-id-25\" type=\"checkbox\" ><label for=\"sk-estimator-id-25\" class=\"sk-toggleable__label sk-toggleable__label-arrow\">pipeline-2</label><div class=\"sk-toggleable__content\"><pre>[&#x27;arrival_date_month&#x27;, &#x27;meal&#x27;, &#x27;country&#x27;, &#x27;distribution_channel&#x27;, &#x27;reserved_room_type&#x27;, &#x27;customer_type&#x27;]</pre></div></div></div><div class=\"sk-serial\"><div class=\"sk-item\"><div class=\"sk-serial\"><div class=\"sk-item\"><div class=\"sk-estimator sk-toggleable\"><input class=\"sk-toggleable__control sk-hidden--visually\" id=\"sk-estimator-id-26\" type=\"checkbox\" ><label for=\"sk-estimator-id-26\" class=\"sk-toggleable__label sk-toggleable__label-arrow\">OrdinalEncoder</label><div class=\"sk-toggleable__content\"><pre>OrdinalEncoder(handle_unknown=&#x27;use_encoded_value&#x27;, unknown_value=-1)</pre></div></div></div></div></div></div></div></div><div class=\"sk-parallel-item\"><div class=\"sk-item\"><div class=\"sk-label-container\"><div class=\"sk-label sk-toggleable\"><input class=\"sk-toggleable__control sk-hidden--visually\" id=\"sk-estimator-id-27\" type=\"checkbox\" ><label for=\"sk-estimator-id-27\" class=\"sk-toggleable__label sk-toggleable__label-arrow\">remainder</label><div class=\"sk-toggleable__content\"><pre>[&#x27;stays_in_weekend_nights&#x27;]</pre></div></div></div><div class=\"sk-serial\"><div class=\"sk-item\"><div class=\"sk-estimator sk-toggleable\"><input class=\"sk-toggleable__control sk-hidden--visually\" id=\"sk-estimator-id-28\" type=\"checkbox\" ><label for=\"sk-estimator-id-28\" class=\"sk-toggleable__label sk-toggleable__label-arrow\">passthrough</label><div class=\"sk-toggleable__content\"><pre>passthrough</pre></div></div></div></div></div></div></div></div><div class=\"sk-item\"><div class=\"sk-estimator sk-toggleable\"><input class=\"sk-toggleable__control sk-hidden--visually\" id=\"sk-estimator-id-29\" type=\"checkbox\" ><label for=\"sk-estimator-id-29\" class=\"sk-toggleable__label sk-toggleable__label-arrow\">ADASYN</label><div class=\"sk-toggleable__content\"><pre>ADASYN(random_state=42)</pre></div></div></div><div class=\"sk-item\"><div class=\"sk-estimator sk-toggleable\"><input class=\"sk-toggleable__control sk-hidden--visually\" id=\"sk-estimator-id-30\" type=\"checkbox\" ><label for=\"sk-estimator-id-30\" class=\"sk-toggleable__label sk-toggleable__label-arrow\">RandomForestClassifier</label><div class=\"sk-toggleable__content\"><pre>RandomForestClassifier(max_depth=3, n_estimators=28, random_state=42)</pre></div></div></div></div></div></div></div>"
      ],
      "text/plain": [
       "Pipeline(steps=[('preprocessor',\n",
       "                 ColumnTransformer(remainder='passthrough',\n",
       "                                   transformers=[('pipeline-1',\n",
       "                                                  Pipeline(steps=[('polinomial',\n",
       "                                                                   PolynomialFeatures())]),\n",
       "                                                  ['lead_time',\n",
       "                                                   'arrival_date_year',\n",
       "                                                   'arrival_date_day_of_month',\n",
       "                                                   'adults', 'children',\n",
       "                                                   'babies',\n",
       "                                                   'previous_cancellations',\n",
       "                                                   'previous_bookings_not_canceled',\n",
       "                                                   'booking_changes',\n",
       "                                                   'days_in_waiting_list',\n",
       "                                                   'requ...\n",
       "                                                  Pipeline(steps=[('ordinal',\n",
       "                                                                   OrdinalEncoder(handle_unknown='use_encoded_value',\n",
       "                                                                                  unknown_value=-1))]),\n",
       "                                                  ['arrival_date_month', 'meal',\n",
       "                                                   'country',\n",
       "                                                   'distribution_channel',\n",
       "                                                   'reserved_room_type',\n",
       "                                                   'customer_type'])],\n",
       "                                   verbose_feature_names_out=False)),\n",
       "                ('sample', ADASYN(random_state=42)),\n",
       "                ('estimation',\n",
       "                 RandomForestClassifier(max_depth=3, n_estimators=28,\n",
       "                                        random_state=42))])"
      ]
     },
     "execution_count": 191,
     "metadata": {},
     "output_type": "execute_result"
    }
   ],
   "source": [
    "pipeline.fit(features_train, target_train)"
   ]
  },
  {
   "cell_type": "markdown",
   "metadata": {},
   "source": [
    "Проверим результативность нашей модели на тестовой выборке"
   ]
  },
  {
   "cell_type": "code",
   "execution_count": 192,
   "metadata": {},
   "outputs": [],
   "source": [
    "predictions = pipeline.predict(features_test)"
   ]
  },
  {
   "cell_type": "code",
   "execution_count": 193,
   "metadata": {},
   "outputs": [
    {
     "data": {
      "text/plain": [
       "0.6286328529341508"
      ]
     },
     "execution_count": 193,
     "metadata": {},
     "output_type": "execute_result"
    }
   ],
   "source": [
    "recall_test = recall_score(target_test, predictions)\n",
    "recall_test"
   ]
  },
  {
   "cell_type": "markdown",
   "metadata": {},
   "source": [
    "На тестовой выборке удалось получить метрику полноты  0.63, что меньше, чем метрика при кросс-валидации на обучающей."
   ]
  },
  {
   "cell_type": "markdown",
   "metadata": {},
   "source": [
    "Мы обучили модель, кототорую отобрали с помощью оптимизации и получили предсказания для тестовой выборки.Теперь с помощью этих предсказаний мы будем оценивать распределение прибыли на тестовой выборке. "
   ]
  },
  {
   "cell_type": "markdown",
   "metadata": {},
   "source": [
    "Для начала мы рассчитаем прибыль от введения новой функциональности."
   ]
  },
  {
   "cell_type": "markdown",
   "metadata": {},
   "source": [
    "#### Прибыль от введения депозитов"
   ]
  },
  {
   "cell_type": "markdown",
   "metadata": {},
   "source": [
    "Создадим функцию подсчёта прибыли после введения системы депозитов."
   ]
  },
  {
   "cell_type": "code",
   "execution_count": 194,
   "metadata": {},
   "outputs": [],
   "source": [
    "# Функция подсчёта прибыли после введения депозитов\n",
    "def profit_deposit(data):\n",
    "    data_cancelled = data.query('is_canceled==1 and predictions==0')\n",
    "    data_deposit = data.query('is_canceled==1 and predictions==1')\n",
    "    \n",
    "    arrived = profit_arrived(data)\n",
    "    \n",
    "    cancelled = profit_cancelled(data_cancelled) + profit_payed_deposit(data_deposit)\n",
    "    \n",
    "    profit = arrived+cancelled\n",
    "    \n",
    "    return profit, arrived, cancelled"
   ]
  },
  {
   "cell_type": "code",
   "execution_count": 196,
   "metadata": {},
   "outputs": [],
   "source": [
    "# Прибыль от тех, кто отменил, но заплатил депозит\n",
    "def profit_payed_deposit(data):\n",
    "    loss = []\n",
    "    for t in type_list:\n",
    "        for s in SEASON_NUMBERS.values():\n",
    "            # Считаем колличество отмененённых броней\n",
    "            count = (\n",
    "                data\n",
    "                .query('reserved_room_type==@t and '+\n",
    "                       ' @data[\"arrival_date\"].dt.month in @s and is_canceled==1')['total_nights'].count()\n",
    "            )\n",
    "            # Считаем убыток\n",
    "            profit = ((DEPOSIT_COEF-1)*SEASON_COEFS[list(SEASON_NUMBERS.keys())[list(SEASON_NUMBERS.values()).index(s)]]\n",
    "                 *PRICES[t]*count - COSTS[t]*(1 + count//2)\n",
    "            )\n",
    "            loss.append(profit)\n",
    "    return sum(loss)"
   ]
  },
  {
   "cell_type": "code",
   "execution_count": 197,
   "metadata": {},
   "outputs": [],
   "source": [
    "# Задаю случайный стэйт\n",
    "state = np.random.RandomState(12345)"
   ]
  },
  {
   "cell_type": "code",
   "execution_count": 198,
   "metadata": {},
   "outputs": [],
   "source": [
    "# Функция подсчёта распределения прибыли\n",
    "def profit_distribution(predictions, data):\n",
    "    values_profit = []\n",
    "    values_arrived = []\n",
    "    values_cancelled = []\n",
    "    for i in range(30):\n",
    "        data = pd.concat([data, pd.Series(predictions, name='predictions')], axis=1)\n",
    "        data_sample = data.sample(random_state=state, frac=1, replace=True)\n",
    "        profit_sample, arrived_sample, cancelled_sample = profit_deposit(data_sample)\n",
    "        values_profit.append(profit_sample)\n",
    "        values_arrived.append(arrived_sample)\n",
    "        values_cancelled.append(cancelled_sample)\n",
    "    distribution_profit = pd.Series(values_profit)\n",
    "    distribution_arrived = pd.Series(values_arrived)\n",
    "    distribution_cancelled = pd.Series(values_cancelled)\n",
    "    profit_mean = distribution_profit.mean()\n",
    "    arrived_mean = distribution_arrived.mean()\n",
    "    cancelled_mean = distribution_cancelled.mean()\n",
    "    lower = distribution_profit.quantile(0.025)\n",
    "    upper = distribution_profit.quantile(0.975)\n",
    "    risk = (distribution_profit<BUDGET).mean()\n",
    "    return (\n",
    "        distribution_profit, distribution_arrived, distribution_cancelled, profit_mean, arrived_mean, \n",
    "        cancelled_mean, lower, upper, risk\n",
    "    )"
   ]
  },
  {
   "cell_type": "markdown",
   "metadata": {},
   "source": [
    "Отфильтрую данные, чтобы остались только те стобцы, которые нужны для рассчёта прибыли"
   ]
  },
  {
   "cell_type": "code",
   "execution_count": 199,
   "metadata": {},
   "outputs": [],
   "source": [
    "data_test_filtered = (\n",
    "    data_test[['reserved_room_type', 'arrival_date', 'last_night_date', 'is_canceled', 'total_nights', 'last_day_month']]\n",
    ")"
   ]
  },
  {
   "cell_type": "code",
   "execution_count": 200,
   "metadata": {},
   "outputs": [],
   "source": [
    "# Получаем распределение прибыли \n",
    "# Долго работает\n",
    "\n",
    "profit_distribution, distribution_arrived, distribution_cancelled, profit_mean, arrived_mean, cancelled_mean, lower, upper, risk = (\n",
    "    profit_distribution(predictions, data_test_filtered)\n",
    ")"
   ]
  },
  {
   "cell_type": "markdown",
   "metadata": {},
   "source": [
    "Нарисуем распределение прибыли после введения новой функциональности, а также прибыли от заселившихся клиентов и убытков от отменивших бронирование."
   ]
  },
  {
   "cell_type": "code",
   "execution_count": 202,
   "metadata": {},
   "outputs": [],
   "source": [
    "def histogram(distribution, mean, label, title):\n",
    "    fig, ax = plt.subplots()\n",
    "    plt.hist(distribution/10**6, bins = 20, alpha=0.6, label=label, density=True)\n",
    "    plt.axvline(x = mean/10**6, color = 'r')\n",
    "    plt.xlabel('\\n млн.')\n",
    "    plt.legend(loc = 'upper right')\n",
    "    fig.set_figwidth(12)    \n",
    "    fig.set_figheight(6)    \n",
    "    plt.title(title)\n",
    "    plt.ticklabel_format(useOffset=False, style='plain')\n",
    "    fig.set_facecolor('floralwhite')\n",
    "    ax.set_facecolor('seashell')\n",
    "    plt.show()  "
   ]
  },
  {
   "cell_type": "code",
   "execution_count": 203,
   "metadata": {},
   "outputs": [
    {
     "data": {
      "image/png": "[encoded data removed]",
      "text/plain": [
       "<Figure size 864x432 with 1 Axes>"
      ]
     },
     "metadata": {},
     "output_type": "display_data"
    },
    {
     "data": {
      "image/png": "[encoded data removed]",
      "text/plain": [
       "<Figure size 864x432 with 1 Axes>"
      ]
     },
     "metadata": {},
     "output_type": "display_data"
    },
    {
     "data": {
      "image/png": "[encoded data removed]",
      "text/plain": [
       "<Figure size 864x432 with 1 Axes>"
      ]
     },
     "metadata": {},
     "output_type": "display_data"
    }
   ],
   "source": [
    "histogram(profit_distribution, profit_mean, 'Суммарная прибыль', 'Распределение прибыли\\n')\n",
    "histogram(distribution_arrived, arrived_mean, 'Прибыль от заехавших гостей', 'Распределение прибыли от заехавших гостей \\n')\n",
    "histogram(distribution_cancelled, cancelled_mean, 'Убыток от отмены', 'Распределение убытка\\n')"
   ]
  },
  {
   "cell_type": "markdown",
   "metadata": {},
   "source": [
    "На графиках мы видим, что прибыль после нововведения распределенена между 42 и 43 миллионами. При этом прибыль от заехавших гостей распеределена очень близко к значению до нововведения, что абсолютно логично, потому что нововведение не влияет на людей, которые и так бы не отменили бронирования. При этом убыток от тех, кто отменил распределён в районе 10 миллионов."
   ]
  },
  {
   "cell_type": "markdown",
   "metadata": {},
   "source": [
    "Сравним теперь значения прибыли без системы депозитов и с ней. "
   ]
  },
  {
   "cell_type": "code",
   "execution_count": 204,
   "metadata": {},
   "outputs": [
    {
     "data": {
      "text/html": [
       "<style  type=\"text/css\" >\n",
       "</style><table id=\"T_7e55c_\" ><thead>    <tr>        <th class=\"blank level0\" ></th>        <th class=\"col_heading level0 col0\" >Прибыль, млн.</th>        <th class=\"col_heading level0 col1\" >Прибыль от заехавших гостей, млн.</th>        <th class=\"col_heading level0 col2\" >Убыток от отменённых бронирований, млн.</th>    </tr></thead><tbody>\n",
       "                <tr>\n",
       "                        <th id=\"T_7e55c_level0_row0\" class=\"row_heading level0 row0\" >После</th>\n",
       "                        <td id=\"T_7e55c_row0_col0\" class=\"data row0 col0\" >42.46</td>\n",
       "                        <td id=\"T_7e55c_row0_col1\" class=\"data row0 col1\" >52.93</td>\n",
       "                        <td id=\"T_7e55c_row0_col2\" class=\"data row0 col2\" >-10.47</td>\n",
       "            </tr>\n",
       "            <tr>\n",
       "                        <th id=\"T_7e55c_level0_row1\" class=\"row_heading level0 row1\" >До</th>\n",
       "                        <td id=\"T_7e55c_row1_col0\" class=\"data row1 col0\" >33.93</td>\n",
       "                        <td id=\"T_7e55c_row1_col1\" class=\"data row1 col1\" >53.04</td>\n",
       "                        <td id=\"T_7e55c_row1_col2\" class=\"data row1 col2\" >-19.12</td>\n",
       "            </tr>\n",
       "    </tbody></table>"
      ],
      "text/plain": [
       "<pandas.io.formats.style.Styler at 0x7f6d41f73ee0>"
      ]
     },
     "execution_count": 204,
     "metadata": {},
     "output_type": "execute_result"
    }
   ],
   "source": [
    "# Таблица\n",
    "result = (\n",
    "    pd.DataFrame([[profit_mean/10**6, arrived_mean/10**6, cancelled_mean/10**6], \n",
    "                  [profit_test_before/10**6, profit_arrived_test_before/10**6, loss_cancelled_test_before/10**6]],\n",
    "    index=['После', 'До'], \n",
    "    columns=['Прибыль, млн.', 'Прибыль от заехавших гостей, млн.', 'Убыток от отменённых бронирований, млн.']\n",
    "))\n",
    "(result.\n",
    " style.\n",
    " format({'Прибыль, млн.':\"{:,.2f}\",'Прибыль от заехавших гостей, млн.':\"{:,.2f}\", 'Убыток от отменённых бронирований, млн.':\"{:,.2f}\"})\n",
    ")"
   ]
  },
  {
   "cell_type": "markdown",
   "metadata": {},
   "source": [
    "Как мы видим, после нововведения прибыль выросла почти что на 9 миллионов за счёт уменьшения убытка от отменённых бронирований. Это покрывает бюджет на разработку в 400000. "
   ]
  },
  {
   "cell_type": "markdown",
   "metadata": {},
   "source": [
    "В данном разделе я отобрала алгоритм борьбы с дисбалансом и модель для предсказания отмены бронировния. Наилучшую метрику на кросс-валидации показала модель дерева решений глубины 3 совмещенная с алгоритмом апсамплинга. На тестовой выборке метрика recall была 0.63. Далее я построила функцию прибыли после нововведения, используя предсказания модели и бутстрапом посмотроила распределение прибыли. С помощью системы депозитов прибыль удалось увеличить практически на 9 миллионов за тестовый период, что в разы окупило бюджет на разработку. "
   ]
  },
  {
   "cell_type": "markdown",
   "metadata": {},
   "source": [
    "#### Проверка модели на worst case scenario"
   ]
  },
  {
   "cell_type": "markdown",
   "metadata": {},
   "source": [
    "При выборе модели мы сейчас описались на метрика recall и считали, что если вдруг предложение заплатить депозит придёт клиенту, который и так не отменил бы бронирование, то ничего не изменится и оплата депозита просто пойдёт в счёт будущей брони. В данном разделе, я провожу эксперимент с наихудшим вариантом, когда половина клиентов, которые не собирались отменять бронирование, но при этом получили предложение заплатить депозит, будут недовольны этим и откажутся от сервиса. "
   ]
  },
  {
   "cell_type": "code",
   "execution_count": 276,
   "metadata": {},
   "outputs": [],
   "source": [
    "# Функция подсчёта прибыли после введения депозитов \n",
    "def profit_deposit_unhappy(data):\n",
    "    data_cancelled = data.query('is_canceled==1 and predictions==0')\n",
    "    data_deposit = data.query('is_canceled==1 and predictions==1')\n",
    "    data_arrived = data.query('unhappy==0')\n",
    "    \n",
    "    arrived = profit_arrived(data_arrived)\n",
    "    \n",
    "    cancelled = profit_cancelled(data_cancelled) + profit_payed_deposit(data_deposit)\n",
    "    \n",
    "    profit = arrived+cancelled\n",
    "    \n",
    "    return profit, arrived, cancelled"
   ]
  },
  {
   "cell_type": "code",
   "execution_count": 280,
   "metadata": {},
   "outputs": [],
   "source": [
    "# Функция подсчёта распределения прибыли\n",
    "def profit_distribution_unhappy(predictions, data):\n",
    "    values_profit = []\n",
    "    values_arrived = []\n",
    "    values_cancelled = []\n",
    "    data = pd.concat([data, pd.Series(predictions, name='predictions')], axis=1)\n",
    "    for i in range(30):\n",
    "        data['unhappy'] = np.where(data['is_canceled']==0, np.where(data['predictions']==1, 1, 0), 0)\n",
    "        data_sample = data.sample(random_state=state, frac=1, replace=True)\n",
    "        profit_sample, arrived_sample, cancelled_sample = profit_deposit_unhappy(data_sample)\n",
    "        values_profit.append(profit_sample)\n",
    "        values_arrived.append(arrived_sample)\n",
    "        values_cancelled.append(cancelled_sample)\n",
    "    distribution_profit = pd.Series(values_profit)\n",
    "    distribution_arrived = pd.Series(values_arrived)\n",
    "    distribution_cancelled = pd.Series(values_cancelled)\n",
    "    profit_mean = distribution_profit.mean()\n",
    "    arrived_mean = distribution_arrived.mean()\n",
    "    cancelled_mean = distribution_cancelled.mean()\n",
    "    lower = distribution_profit.quantile(0.025)\n",
    "    upper = distribution_profit.quantile(0.975)\n",
    "    risk = (distribution_profit<BUDGET).mean()\n",
    "    return (\n",
    "        distribution_profit, distribution_arrived, distribution_cancelled, profit_mean, arrived_mean, \n",
    "        cancelled_mean\n",
    "    )"
   ]
  },
  {
   "cell_type": "code",
   "execution_count": 281,
   "metadata": {},
   "outputs": [],
   "source": [
    "# Получаем распределение прибыли \n",
    "# Долго работает\n",
    "\n",
    "profit_unhappy, arrived_unhappy, cancelled_unhappy, profit_mean_u, arrived_mean_u, cancelled_mean_u = (\n",
    "    profit_distribution_unhappy(predictions, data_test_filtered)\n",
    ")"
   ]
  },
  {
   "cell_type": "code",
   "execution_count": 282,
   "metadata": {},
   "outputs": [],
   "source": [
    "def histogram(distribution, mean, label, title):\n",
    "    fig, ax = plt.subplots()\n",
    "    plt.hist(distribution/10**6, bins = 20, alpha=0.6, label=label, density=True)\n",
    "    plt.axvline(x = mean/10**6, color = 'r')\n",
    "    plt.xlabel('\\n млн.')\n",
    "    plt.legend(loc = 'upper right')\n",
    "    fig.set_figwidth(12)    \n",
    "    fig.set_figheight(6)    \n",
    "    plt.title(title)\n",
    "    plt.ticklabel_format(useOffset=False, style='plain')\n",
    "    fig.set_facecolor('floralwhite')\n",
    "    ax.set_facecolor('seashell')\n",
    "    plt.show()  "
   ]
  },
  {
   "cell_type": "code",
   "execution_count": 283,
   "metadata": {},
   "outputs": [
    {
     "data": {
      "image/png": "[encoded data removed]",
      "text/plain": [
       "<Figure size 864x432 with 1 Axes>"
      ]
     },
     "metadata": {},
     "output_type": "display_data"
    },
    {
     "data": {
      "image/png": "[encoded data removed]",
      "text/plain": [
       "<Figure size 864x432 with 1 Axes>"
      ]
     },
     "metadata": {},
     "output_type": "display_data"
    },
    {
     "data": {
      "image/png": "[encoded data removed]",
      "text/plain": [
       "<Figure size 864x432 with 1 Axes>"
      ]
     },
     "metadata": {},
     "output_type": "display_data"
    }
   ],
   "source": [
    "histogram(profit_unhappy, profit_mean_u, 'Суммарная прибыль', 'Распределение прибыли\\n')\n",
    "histogram(arrived_unhappy, arrived_mean_u, 'Прибыль от заехавших гостей', 'Распределение прибыли от заехавших гостей \\n')\n",
    "histogram(cancelled_unhappy, cancelled_mean_u, 'Убыток от отмены', 'Распределение убытка\\n')"
   ]
  },
  {
   "cell_type": "code",
   "execution_count": 284,
   "metadata": {},
   "outputs": [
    {
     "data": {
      "text/html": [
       "<style  type=\"text/css\" >\n",
       "</style><table id=\"T_bbb9c_\" ><thead>    <tr>        <th class=\"blank level0\" ></th>        <th class=\"col_heading level0 col0\" >Прибыль, млн.</th>        <th class=\"col_heading level0 col1\" >Прибыль от заехавших гостей, млн.</th>        <th class=\"col_heading level0 col2\" >Убыток от отменённых бронирований, млн.</th>    </tr></thead><tbody>\n",
       "                <tr>\n",
       "                        <th id=\"T_bbb9c_level0_row0\" class=\"row_heading level0 row0\" >После</th>\n",
       "                        <td id=\"T_bbb9c_row0_col0\" class=\"data row0 col0\" >27.85</td>\n",
       "                        <td id=\"T_bbb9c_row0_col1\" class=\"data row0 col1\" >38.28</td>\n",
       "                        <td id=\"T_bbb9c_row0_col2\" class=\"data row0 col2\" >-10.43</td>\n",
       "            </tr>\n",
       "            <tr>\n",
       "                        <th id=\"T_bbb9c_level0_row1\" class=\"row_heading level0 row1\" >До</th>\n",
       "                        <td id=\"T_bbb9c_row1_col0\" class=\"data row1 col0\" >33.93</td>\n",
       "                        <td id=\"T_bbb9c_row1_col1\" class=\"data row1 col1\" >53.04</td>\n",
       "                        <td id=\"T_bbb9c_row1_col2\" class=\"data row1 col2\" >-19.12</td>\n",
       "            </tr>\n",
       "    </tbody></table>"
      ],
      "text/plain": [
       "<pandas.io.formats.style.Styler at 0x7f6d415b46d0>"
      ]
     },
     "execution_count": 284,
     "metadata": {},
     "output_type": "execute_result"
    }
   ],
   "source": [
    "# Таблица\n",
    "result = (\n",
    "    pd.DataFrame([[profit_mean_u/10**6, arrived_mean_u/10**6, cancelled_mean_u/10**6], \n",
    "                  [profit_test_before/10**6, profit_arrived_test_before/10**6, loss_cancelled_test_before/10**6]],\n",
    "    index=['После', 'До'], \n",
    "    columns=['Прибыль, млн.', 'Прибыль от заехавших гостей, млн.', 'Убыток от отменённых бронирований, млн.']\n",
    "))\n",
    "(result.\n",
    " style.\n",
    " format({'Прибыль, млн.':\"{:,.2f}\",'Прибыль от заехавших гостей, млн.':\"{:,.2f}\", 'Убыток от отменённых бронирований, млн.':\"{:,.2f}\"})\n",
    ")"
   ]
  },
  {
   "cell_type": "markdown",
   "metadata": {},
   "source": [
    "Как мы и ожидали, при такой реакции на нововведение прибыль будет меньше за счёт уменьшения прибыли от заехавших гостей. Кроме того, при таком раскладе нововведение уже не окупается и оказывается наоборот убыточным. "
   ]
  },
  {
   "cell_type": "markdown",
   "metadata": {},
   "source": [
    "Данный эксперимент показывает, насколько важно понимать, какие могут быть последствия от данного нововведения. Если действительно есть вероятность, что мы может потерять лояльных и благонадёжных клиентов, то тогда при выборе модели нам нужно ориентироваться не на recall, а на f1 метрику."
   ]
  },
  {
   "cell_type": "markdown",
   "metadata": {},
   "source": [
    "### Шаг 5. Опишите портрет «ненадёжного» клиента"
   ]
  },
  {
   "cell_type": "markdown",
   "metadata": {},
   "source": [
    "Для описания портрета ненадёжного клиента мы посмотрим, на то, какие показатели увеличивают веротяность того, что человек отменит бронирование."
   ]
  },
  {
   "cell_type": "markdown",
   "metadata": {},
   "source": [
    "Восстановим наши фичи после препроцессора и их новые имена."
   ]
  },
  {
   "cell_type": "code",
   "execution_count": 327,
   "metadata": {},
   "outputs": [],
   "source": [
    "features_train_encoded = preprocessor.transform(features_train)\n",
    "new_features_names = preprocessor.get_feature_names_out()"
   ]
  },
  {
   "cell_type": "code",
   "execution_count": 328,
   "metadata": {},
   "outputs": [],
   "source": [
    "data_features_importance = (\n",
    "    pd.DataFrame({'features_names':new_features_names,'feature_importance':best_model.feature_importances_}\n",
    "))"
   ]
  },
  {
   "cell_type": "code",
   "execution_count": 329,
   "metadata": {},
   "outputs": [],
   "source": [
    "data_features_importance = data_features_importance.sort_values('feature_importance', ascending=False).head(5)"
   ]
  },
  {
   "cell_type": "code",
   "execution_count": 330,
   "metadata": {},
   "outputs": [
    {
     "data": {
      "image/png": "[encoded data removed]",
      "text/plain": [
       "<Figure size 720x360 with 1 Axes>"
      ]
     },
     "metadata": {
      "needs_background": "light"
     },
     "output_type": "display_data"
    }
   ],
   "source": [
    "fig, ax = plt.subplots()\n",
    "fig.set_size_inches(10, 5)\n",
    "ax.barh(data_features_importance['features_names'], data_features_importance['feature_importance'] );\n",
    "ax.invert_yaxis() \n",
    "ax.set_xlabel('Важность признака')\n",
    "ax.set_title('Влияние на предсказание отмены\\n');"
   ]
  },
  {
   "cell_type": "markdown",
   "metadata": {},
   "source": [
    "Таким образом наша модель предсказывает, что типичный клиент склонный к отказу это клиент у которого много special requests, у которого ранее были отмены, особенно, если клиент с данными характеристиками бронирует номер очень заранее."
   ]
  },
  {
   "cell_type": "markdown",
   "metadata": {},
   "source": [
    "### Шаг 6. Напишите общий вывод"
   ]
  },
  {
   "cell_type": "markdown",
   "metadata": {},
   "source": [
    "В данном проекте я исследовала перспективу введения новой функциональности в систему бронирования, которая будет определять, что клиент с большой долей вероятности может отменить бронирование и будет предлагать ему внести депозит.\n",
    "\n",
    "У меня были данные о бронированиях изначально разделённые на обучающую и тестовую выборки. В данных не было пропусков, были дополнительные пробелы в категориальных переменных, которые я обработала. \n",
    "\n",
    "Я добавила в данные переменную о том, сколько номеров уже было занято на интересующий клиента период на момент бронирования.\n",
    "\n",
    "Я создала функцию, которая подсчитывает прибыль отеля и показывает убыток от отменённых бронирований. Оказалось, что отель теряет практически половину прибыли из-за отмен бронирования. \n",
    "\n",
    "Далее, я посмотрела на переменные, которые на первой тестовой модели оказывают меньшее влияние на таргет, чем случайная величина и удалила эти показатели. \n",
    "\n",
    "Потом я провела поиск оптимальной комбинации из алгоритма балансировки классов и классификатора с помощью кросс-валидации. Оптимальной оказалась комбинация из оверсамплинга и модели дерева решений. На тестовой выборке модель показала рекол 0.63\n",
    "\n",
    "После  этого я на тестовой выборке оценила прибыль, которую отель может получать, запрашивая депозиты у тех клиентов, которых модель определяет как склонных к отмене бронирования. Я оценила распределение прибыли после нововведения и оказалось, что за временной период тестовой выборки отель мог увеличить прибыль в среднем примерно на 9 млн., что окупает бюджет разработки и показывает, что депозиты нужно ввести.\n",
    "\n",
    "Но если предположить, что в ответ на наше нововведение какие-то клиенты могут отказывать от сервиса, то тогда мы понесём убытки от того, что будем запрашивать депозиты. Если такой поворот событий возможен, то лучше оринтироваться на метрику f1 и наша модель уже не будет актуальной.\n",
    "\n",
    "В последней части проекта я посмотрела на то, какие переменные наиболее влияют на то, что модель классифицирует клиента как склонного к отмене. Оказалось, что такой клиент это клиент с большим числом особых запросов, у которого ранее были отмены и который при этом делает бронь очень заранее. "
   ]
  }
 ],
 "metadata": {
  "ExecuteTimeLog": [
   {
    "duration": 766,
    "start_time": "2023-06-10T14:56:32.493Z"
   },
   {
    "duration": 65,
    "start_time": "2023-06-10T14:59:57.861Z"
   },
   {
    "duration": 305,
    "start_time": "2023-06-10T15:00:02.312Z"
   },
   {
    "duration": 468,
    "start_time": "2023-06-10T15:00:27.060Z"
   },
   {
    "duration": 3,
    "start_time": "2023-06-10T15:01:21.030Z"
   },
   {
    "duration": 389,
    "start_time": "2023-06-10T15:03:47.768Z"
   },
   {
    "duration": 436,
    "start_time": "2023-06-10T15:04:11.521Z"
   },
   {
    "duration": 36,
    "start_time": "2023-06-10T15:04:38.238Z"
   },
   {
    "duration": 1706,
    "start_time": "2023-06-11T14:51:43.969Z"
   },
   {
    "duration": 768,
    "start_time": "2023-06-11T14:51:47.757Z"
   },
   {
    "duration": 51,
    "start_time": "2023-06-11T14:51:57.030Z"
   },
   {
    "duration": 114,
    "start_time": "2023-06-11T14:53:50.459Z"
   },
   {
    "duration": 23547,
    "start_time": "2023-06-11T14:54:00.180Z"
   },
   {
    "duration": 2330,
    "start_time": "2023-06-11T14:54:23.729Z"
   },
   {
    "duration": 31,
    "start_time": "2023-06-11T14:56:02.428Z"
   },
   {
    "duration": 36558,
    "start_time": "2023-06-11T14:56:10.721Z"
   },
   {
    "duration": 38148,
    "start_time": "2023-06-11T14:59:28.023Z"
   },
   {
    "duration": 37392,
    "start_time": "2023-06-11T15:00:46.474Z"
   },
   {
    "duration": 3588,
    "start_time": "2023-06-11T15:02:17.336Z"
   },
   {
    "duration": 5,
    "start_time": "2023-06-11T15:02:50.029Z"
   },
   {
    "duration": 37824,
    "start_time": "2023-06-11T15:02:57.023Z"
   },
   {
    "duration": 49,
    "start_time": "2023-06-11T15:05:42.066Z"
   },
   {
    "duration": 14,
    "start_time": "2023-06-11T15:13:27.859Z"
   },
   {
    "duration": 13,
    "start_time": "2023-06-11T15:15:37.661Z"
   },
   {
    "duration": 47,
    "start_time": "2023-06-11T15:15:48.784Z"
   },
   {
    "duration": 28,
    "start_time": "2023-06-11T15:16:00.115Z"
   },
   {
    "duration": 6,
    "start_time": "2023-06-11T15:17:45.465Z"
   },
   {
    "duration": 12,
    "start_time": "2023-06-11T15:18:44.130Z"
   },
   {
    "duration": 80,
    "start_time": "2023-06-11T15:18:50.668Z"
   },
   {
    "duration": 20,
    "start_time": "2023-06-11T15:19:07.131Z"
   },
   {
    "duration": 8,
    "start_time": "2023-06-11T15:19:10.769Z"
   },
   {
    "duration": 34,
    "start_time": "2023-06-11T15:20:39.680Z"
   },
   {
    "duration": 20832,
    "start_time": "2023-06-13T09:23:46.589Z"
   },
   {
    "duration": 3645,
    "start_time": "2023-06-13T09:24:37.348Z"
   },
   {
    "duration": 1392,
    "start_time": "2023-06-13T09:24:43.556Z"
   },
   {
    "duration": 79,
    "start_time": "2023-06-13T09:24:47.456Z"
   },
   {
    "duration": 71,
    "start_time": "2023-06-13T09:24:52.767Z"
   },
   {
    "duration": 11,
    "start_time": "2023-06-13T09:25:37.002Z"
   },
   {
    "duration": 40398,
    "start_time": "2023-06-13T09:25:52.685Z"
   },
   {
    "duration": 5998,
    "start_time": "2023-06-13T09:33:30.065Z"
   },
   {
    "duration": 5716,
    "start_time": "2023-06-13T09:33:53.018Z"
   },
   {
    "duration": 6166,
    "start_time": "2023-06-13T09:35:48.779Z"
   },
   {
    "duration": 6643,
    "start_time": "2023-06-13T09:36:02.102Z"
   },
   {
    "duration": 10481,
    "start_time": "2023-06-13T09:36:32.185Z"
   },
   {
    "duration": 4233,
    "start_time": "2023-06-13T09:36:50.987Z"
   },
   {
    "duration": 14,
    "start_time": "2023-06-13T09:37:02.574Z"
   },
   {
    "duration": 41343,
    "start_time": "2023-06-13T09:37:03.940Z"
   },
   {
    "duration": 138,
    "start_time": "2023-06-13T09:40:59.013Z"
   },
   {
    "duration": 151,
    "start_time": "2023-06-13T09:41:40.212Z"
   },
   {
    "duration": 121,
    "start_time": "2023-06-13T09:41:51.294Z"
   },
   {
    "duration": 1329,
    "start_time": "2023-06-13T09:47:09.722Z"
   },
   {
    "duration": 1800,
    "start_time": "2023-06-13T09:47:17.504Z"
   },
   {
    "duration": 4506,
    "start_time": "2023-06-13T09:47:51.382Z"
   },
   {
    "duration": 106,
    "start_time": "2023-06-13T09:48:09.791Z"
   },
   {
    "duration": 4602,
    "start_time": "2023-06-13T09:48:15.446Z"
   },
   {
    "duration": 169,
    "start_time": "2023-06-13T09:48:25.641Z"
   },
   {
    "duration": 534,
    "start_time": "2023-06-13T09:48:32.241Z"
   },
   {
    "duration": 46,
    "start_time": "2023-06-13T09:48:34.158Z"
   },
   {
    "duration": 87,
    "start_time": "2023-06-13T09:48:43.650Z"
   },
   {
    "duration": 10,
    "start_time": "2023-06-13T09:48:47.112Z"
   },
   {
    "duration": 51866,
    "start_time": "2023-06-13T09:48:49.753Z"
   },
   {
    "duration": 27,
    "start_time": "2023-06-13T09:55:44.728Z"
   },
   {
    "duration": 69,
    "start_time": "2023-06-13T09:56:13.599Z"
   },
   {
    "duration": 17606,
    "start_time": "2023-06-13T09:56:15.402Z"
   },
   {
    "duration": 77,
    "start_time": "2023-06-13T10:00:15.760Z"
   },
   {
    "duration": 6,
    "start_time": "2023-06-13T10:00:56.471Z"
   },
   {
    "duration": 111,
    "start_time": "2023-06-13T10:01:03.262Z"
   },
   {
    "duration": 1911,
    "start_time": "2023-06-13T10:01:07.390Z"
   },
   {
    "duration": 460,
    "start_time": "2023-06-13T10:01:32.718Z"
   },
   {
    "duration": 4,
    "start_time": "2023-06-13T10:02:34.998Z"
   },
   {
    "duration": 150,
    "start_time": "2023-06-13T10:02:39.610Z"
   },
   {
    "duration": 20,
    "start_time": "2023-06-13T10:03:00.237Z"
   },
   {
    "duration": 122,
    "start_time": "2023-06-13T10:03:07.701Z"
   },
   {
    "duration": 501,
    "start_time": "2023-06-13T10:05:01.122Z"
   },
   {
    "duration": 14191,
    "start_time": "2023-06-13T10:06:00.419Z"
   },
   {
    "duration": 55,
    "start_time": "2023-06-13T10:06:25.645Z"
   },
   {
    "duration": 6381,
    "start_time": "2023-06-13T10:06:32.022Z"
   },
   {
    "duration": 441,
    "start_time": "2023-06-13T10:06:41.457Z"
   },
   {
    "duration": 44,
    "start_time": "2023-06-13T10:06:44.663Z"
   },
   {
    "duration": 17,
    "start_time": "2023-06-13T10:06:49.162Z"
   },
   {
    "duration": 2305,
    "start_time": "2023-06-13T10:06:50.828Z"
   },
   {
    "duration": 3285,
    "start_time": "2023-06-13T10:07:01.491Z"
   },
   {
    "duration": 5,
    "start_time": "2023-06-13T10:09:12.387Z"
   },
   {
    "duration": 419,
    "start_time": "2023-06-13T10:09:16.572Z"
   },
   {
    "duration": 38,
    "start_time": "2023-06-13T10:09:18.772Z"
   },
   {
    "duration": 17,
    "start_time": "2023-06-13T10:09:22.492Z"
   },
   {
    "duration": 1600,
    "start_time": "2023-06-13T10:09:24.202Z"
   },
   {
    "duration": 2883,
    "start_time": "2023-06-13T10:09:27.799Z"
   },
   {
    "duration": 7,
    "start_time": "2023-06-13T10:09:50.552Z"
   },
   {
    "duration": 415,
    "start_time": "2023-06-13T10:09:54.290Z"
   },
   {
    "duration": 36,
    "start_time": "2023-06-13T10:09:56.761Z"
   },
   {
    "duration": 14,
    "start_time": "2023-06-13T10:10:00.707Z"
   },
   {
    "duration": 70,
    "start_time": "2023-06-13T10:10:06.507Z"
   },
   {
    "duration": 13,
    "start_time": "2023-06-13T10:10:23.183Z"
   },
   {
    "duration": 27425,
    "start_time": "2023-06-13T10:10:28.054Z"
   },
   {
    "duration": 24948,
    "start_time": "2023-06-13T10:13:11.757Z"
   },
   {
    "duration": 52,
    "start_time": "2023-06-13T10:15:14.398Z"
   },
   {
    "duration": 2979,
    "start_time": "2023-06-13T10:15:38.387Z"
   },
   {
    "duration": 21,
    "start_time": "2023-06-13T10:18:16.470Z"
   },
   {
    "duration": 60,
    "start_time": "2023-06-13T10:18:27.751Z"
   },
   {
    "duration": 62931,
    "start_time": "2023-06-13T10:25:59.483Z"
   },
   {
    "duration": 62884,
    "start_time": "2023-06-13T10:27:39.902Z"
   },
   {
    "duration": 29,
    "start_time": "2023-06-13T10:29:22.854Z"
   },
   {
    "duration": 2940,
    "start_time": "2023-06-13T10:29:34.092Z"
   },
   {
    "duration": 4,
    "start_time": "2023-06-13T13:20:36.493Z"
   },
   {
    "duration": 12,
    "start_time": "2023-06-13T13:20:38.001Z"
   },
   {
    "duration": 9,
    "start_time": "2023-06-13T13:21:00.558Z"
   },
   {
    "duration": 451,
    "start_time": "2023-06-13T13:21:01.649Z"
   },
   {
    "duration": 59,
    "start_time": "2023-06-13T13:21:04.153Z"
   },
   {
    "duration": 88,
    "start_time": "2023-06-13T13:21:09.849Z"
   },
   {
    "duration": 13,
    "start_time": "2023-06-13T13:21:12.895Z"
   },
   {
    "duration": 73,
    "start_time": "2023-06-13T13:21:16.101Z"
   },
   {
    "duration": 1462,
    "start_time": "2023-06-13T13:23:43.551Z"
   },
   {
    "duration": 2816,
    "start_time": "2023-06-13T13:23:56.293Z"
   },
   {
    "duration": 129,
    "start_time": "2023-06-13T13:25:12.854Z"
   },
   {
    "duration": 21,
    "start_time": "2023-06-13T13:25:17.554Z"
   },
   {
    "duration": 31,
    "start_time": "2023-06-13T13:25:41.515Z"
   },
   {
    "duration": 4,
    "start_time": "2023-06-13T13:25:46.100Z"
   },
   {
    "duration": 6,
    "start_time": "2023-06-13T13:25:58.527Z"
   },
   {
    "duration": 438,
    "start_time": "2023-06-13T13:25:59.860Z"
   },
   {
    "duration": 46,
    "start_time": "2023-06-13T13:26:02.825Z"
   },
   {
    "duration": 70,
    "start_time": "2023-06-13T13:26:06.471Z"
   },
   {
    "duration": 15,
    "start_time": "2023-06-13T13:26:09.100Z"
   },
   {
    "duration": 77,
    "start_time": "2023-06-13T13:26:10.685Z"
   },
   {
    "duration": 2971,
    "start_time": "2023-06-13T13:26:14.909Z"
   },
   {
    "duration": 3542,
    "start_time": "2023-06-13T13:28:41.905Z"
   },
   {
    "duration": 6588,
    "start_time": "2023-06-13T13:29:02.895Z"
   },
   {
    "duration": 403,
    "start_time": "2023-06-13T13:29:11.076Z"
   },
   {
    "duration": 62,
    "start_time": "2023-06-13T13:29:12.501Z"
   },
   {
    "duration": 63,
    "start_time": "2023-06-13T13:29:16.298Z"
   },
   {
    "duration": 16,
    "start_time": "2023-06-13T13:29:18.797Z"
   },
   {
    "duration": 72,
    "start_time": "2023-06-13T13:29:21.193Z"
   },
   {
    "duration": 2208,
    "start_time": "2023-06-13T13:29:29.195Z"
   },
   {
    "duration": 3340,
    "start_time": "2023-06-13T13:29:34.665Z"
   },
   {
    "duration": 623,
    "start_time": "2023-06-13T13:30:41.696Z"
   },
   {
    "duration": 3547,
    "start_time": "2023-06-13T13:31:04.892Z"
   },
   {
    "duration": 4422,
    "start_time": "2023-06-13T13:31:20.195Z"
   },
   {
    "duration": 412,
    "start_time": "2023-06-13T13:31:27.910Z"
   },
   {
    "duration": 67,
    "start_time": "2023-06-13T13:31:30.894Z"
   },
   {
    "duration": 51,
    "start_time": "2023-06-13T13:31:34.662Z"
   },
   {
    "duration": 18,
    "start_time": "2023-06-13T13:31:37.697Z"
   },
   {
    "duration": 71,
    "start_time": "2023-06-13T13:31:39.198Z"
   },
   {
    "duration": 2248,
    "start_time": "2023-06-13T13:31:43.613Z"
   },
   {
    "duration": 3425,
    "start_time": "2023-06-13T13:31:47.823Z"
   },
   {
    "duration": 3142,
    "start_time": "2023-06-13T13:39:05.144Z"
   },
   {
    "duration": 3,
    "start_time": "2023-06-13T13:39:45.807Z"
   },
   {
    "duration": 85517,
    "start_time": "2023-06-13T13:49:57.400Z"
   },
   {
    "duration": 79422,
    "start_time": "2023-06-13T13:51:34.318Z"
   },
   {
    "duration": 53,
    "start_time": "2023-06-13T14:06:27.743Z"
   },
   {
    "duration": 22,
    "start_time": "2023-06-13T14:06:52.956Z"
   },
   {
    "duration": 98,
    "start_time": "2023-06-13T14:06:58.383Z"
   },
   {
    "duration": 15,
    "start_time": "2023-06-13T14:07:04.953Z"
   },
   {
    "duration": 36,
    "start_time": "2023-06-13T14:07:23.286Z"
   },
   {
    "duration": 3,
    "start_time": "2023-06-13T14:08:38.464Z"
   },
   {
    "duration": 430,
    "start_time": "2023-06-13T14:08:39.818Z"
   },
   {
    "duration": 39,
    "start_time": "2023-06-13T14:08:41.482Z"
   },
   {
    "duration": 58,
    "start_time": "2023-06-13T14:08:45.709Z"
   },
   {
    "duration": 19,
    "start_time": "2023-06-13T14:08:48.752Z"
   },
   {
    "duration": 25,
    "start_time": "2023-06-13T14:08:58.505Z"
   },
   {
    "duration": 23,
    "start_time": "2023-06-13T14:09:07.086Z"
   },
   {
    "duration": 16,
    "start_time": "2023-06-13T14:10:06.238Z"
   },
   {
    "duration": 4,
    "start_time": "2023-06-13T14:14:20.696Z"
   },
   {
    "duration": 1069,
    "start_time": "2023-06-13T14:15:34.036Z"
   },
   {
    "duration": 1659,
    "start_time": "2023-06-13T14:16:01.388Z"
   },
   {
    "duration": 19,
    "start_time": "2023-06-13T14:16:19.140Z"
   },
   {
    "duration": 17,
    "start_time": "2023-06-13T14:17:02.056Z"
   },
   {
    "duration": 21,
    "start_time": "2023-06-13T14:20:45.722Z"
   },
   {
    "duration": 705,
    "start_time": "2023-06-13T14:21:00.206Z"
   },
   {
    "duration": 17,
    "start_time": "2023-06-13T14:28:21.414Z"
   },
   {
    "duration": 75,
    "start_time": "2023-06-13T14:28:30.410Z"
   },
   {
    "duration": 933,
    "start_time": "2023-06-13T14:28:47.885Z"
   },
   {
    "duration": 734,
    "start_time": "2023-06-13T14:29:01.063Z"
   },
   {
    "duration": 110,
    "start_time": "2023-06-13T14:29:22.540Z"
   },
   {
    "duration": 82,
    "start_time": "2023-06-13T14:29:31.212Z"
   },
   {
    "duration": 37,
    "start_time": "2023-06-13T14:29:40.265Z"
   },
   {
    "duration": 30,
    "start_time": "2023-06-13T14:32:38.048Z"
   },
   {
    "duration": 14,
    "start_time": "2023-06-13T14:33:08.804Z"
   },
   {
    "duration": 30,
    "start_time": "2023-06-13T14:34:02.785Z"
   },
   {
    "duration": 16,
    "start_time": "2023-06-13T14:34:40.852Z"
   },
   {
    "duration": 3,
    "start_time": "2023-06-13T14:37:28.760Z"
   },
   {
    "duration": 18,
    "start_time": "2023-06-13T14:37:50.378Z"
   },
   {
    "duration": 9,
    "start_time": "2023-06-13T14:39:51.409Z"
   },
   {
    "duration": 7,
    "start_time": "2023-06-13T14:40:33.055Z"
   },
   {
    "duration": 110,
    "start_time": "2023-06-13T14:42:07.722Z"
   },
   {
    "duration": 5,
    "start_time": "2023-06-13T14:45:52.003Z"
   },
   {
    "duration": 5,
    "start_time": "2023-06-13T14:46:06.278Z"
   },
   {
    "duration": 20,
    "start_time": "2023-06-13T14:56:54.067Z"
   },
   {
    "duration": 4,
    "start_time": "2023-06-13T15:00:42.393Z"
   },
   {
    "duration": 384,
    "start_time": "2023-06-13T15:00:45.039Z"
   },
   {
    "duration": 47,
    "start_time": "2023-06-13T15:00:47.622Z"
   },
   {
    "duration": 67,
    "start_time": "2023-06-13T15:00:51.405Z"
   },
   {
    "duration": 15,
    "start_time": "2023-06-13T15:00:53.959Z"
   },
   {
    "duration": 67,
    "start_time": "2023-06-13T15:00:56.077Z"
   },
   {
    "duration": 3,
    "start_time": "2023-06-13T15:01:01.175Z"
   },
   {
    "duration": 17,
    "start_time": "2023-06-13T15:01:03.037Z"
   },
   {
    "duration": 45,
    "start_time": "2023-06-13T15:01:10.219Z"
   },
   {
    "duration": 32,
    "start_time": "2023-06-13T15:01:38.696Z"
   },
   {
    "duration": 27,
    "start_time": "2023-06-13T15:01:42.293Z"
   },
   {
    "duration": 4,
    "start_time": "2023-06-13T15:01:48.741Z"
   },
   {
    "duration": 416,
    "start_time": "2023-06-13T15:01:49.821Z"
   },
   {
    "duration": 47,
    "start_time": "2023-06-13T15:01:52.724Z"
   },
   {
    "duration": 47,
    "start_time": "2023-06-13T15:01:56.153Z"
   },
   {
    "duration": 18,
    "start_time": "2023-06-13T15:02:01.176Z"
   },
   {
    "duration": 76,
    "start_time": "2023-06-13T15:02:03.370Z"
   },
   {
    "duration": 4,
    "start_time": "2023-06-13T15:02:06.138Z"
   },
   {
    "duration": 12,
    "start_time": "2023-06-13T15:02:07.350Z"
   },
   {
    "duration": 46,
    "start_time": "2023-06-13T15:02:11.305Z"
   },
   {
    "duration": 10,
    "start_time": "2023-06-13T15:02:13.410Z"
   },
   {
    "duration": 13,
    "start_time": "2023-06-13T15:02:23.439Z"
   },
   {
    "duration": 1116,
    "start_time": "2023-06-13T15:03:28.293Z"
   },
   {
    "duration": 125,
    "start_time": "2023-06-13T15:03:51.927Z"
   },
   {
    "duration": 6,
    "start_time": "2023-06-13T15:03:54.373Z"
   },
   {
    "duration": 24,
    "start_time": "2023-06-13T15:04:01.960Z"
   },
   {
    "duration": 5,
    "start_time": "2023-06-13T15:04:34.807Z"
   },
   {
    "duration": 26,
    "start_time": "2023-06-13T15:11:21.052Z"
   },
   {
    "duration": 19,
    "start_time": "2023-06-13T15:11:52.194Z"
   },
   {
    "duration": 82,
    "start_time": "2023-06-13T15:12:01.424Z"
   },
   {
    "duration": 74,
    "start_time": "2023-06-13T15:12:04.669Z"
   },
   {
    "duration": 3,
    "start_time": "2023-06-13T15:21:43.718Z"
   },
   {
    "duration": 59,
    "start_time": "2023-06-13T15:22:25.455Z"
   },
   {
    "duration": 1289,
    "start_time": "2023-06-13T15:22:47.863Z"
   },
   {
    "duration": 17,
    "start_time": "2023-06-13T15:22:57.373Z"
   },
   {
    "duration": 39,
    "start_time": "2023-06-13T15:23:20.150Z"
   },
   {
    "duration": 14,
    "start_time": "2023-06-13T15:23:30.504Z"
   },
   {
    "duration": 10,
    "start_time": "2023-06-13T15:23:48.408Z"
   },
   {
    "duration": 1020,
    "start_time": "2023-06-13T15:27:59.403Z"
   },
   {
    "duration": 862,
    "start_time": "2023-06-13T15:29:47.888Z"
   },
   {
    "duration": 3,
    "start_time": "2023-06-13T15:31:41.714Z"
   },
   {
    "duration": 1633,
    "start_time": "2023-06-13T15:31:48.701Z"
   },
   {
    "duration": 3,
    "start_time": "2023-06-13T15:32:03.282Z"
   },
   {
    "duration": 210995,
    "start_time": "2023-06-13T15:32:05.209Z"
   },
   {
    "duration": 64832,
    "start_time": "2023-06-13T15:56:12.307Z"
   },
   {
    "duration": 4,
    "start_time": "2023-06-13T15:57:39.017Z"
   },
   {
    "duration": 25,
    "start_time": "2023-06-13T15:59:03.147Z"
   },
   {
    "duration": 6236,
    "start_time": "2023-06-13T16:01:05.224Z"
   },
   {
    "duration": 73,
    "start_time": "2023-06-13T16:01:27.283Z"
   },
   {
    "duration": 3,
    "start_time": "2023-06-13T16:02:00.094Z"
   },
   {
    "duration": 31,
    "start_time": "2023-06-13T16:02:04.741Z"
   },
   {
    "duration": 4,
    "start_time": "2023-06-13T16:03:31.848Z"
   },
   {
    "duration": 4,
    "start_time": "2023-06-13T16:03:44.273Z"
   },
   {
    "duration": 335245,
    "start_time": "2023-06-13T16:03:47.323Z"
   },
   {
    "duration": 19,
    "start_time": "2023-06-13T16:09:33.952Z"
   },
   {
    "duration": 24,
    "start_time": "2023-06-13T16:09:37.893Z"
   },
   {
    "duration": 17,
    "start_time": "2023-06-13T16:09:59.818Z"
   },
   {
    "duration": 3,
    "start_time": "2023-06-13T16:13:11.847Z"
   },
   {
    "duration": 1039,
    "start_time": "2023-06-13T16:13:13.319Z"
   },
   {
    "duration": 45,
    "start_time": "2023-06-13T16:13:15.347Z"
   },
   {
    "duration": 69,
    "start_time": "2023-06-13T16:13:23.223Z"
   },
   {
    "duration": 14,
    "start_time": "2023-06-13T16:13:26.085Z"
   },
   {
    "duration": 126,
    "start_time": "2023-06-13T16:13:29.640Z"
   },
   {
    "duration": 4,
    "start_time": "2023-06-13T16:13:32.462Z"
   },
   {
    "duration": 25,
    "start_time": "2023-06-13T16:13:33.853Z"
   },
   {
    "duration": 45,
    "start_time": "2023-06-13T16:13:36.520Z"
   },
   {
    "duration": 16,
    "start_time": "2023-06-13T16:13:39.214Z"
   },
   {
    "duration": 15,
    "start_time": "2023-06-13T16:13:40.803Z"
   },
   {
    "duration": 115,
    "start_time": "2023-06-13T16:13:42.054Z"
   },
   {
    "duration": 6,
    "start_time": "2023-06-13T16:13:43.985Z"
   },
   {
    "duration": 9,
    "start_time": "2023-06-13T16:13:45.307Z"
   },
   {
    "duration": 3,
    "start_time": "2023-06-13T16:13:52.242Z"
   },
   {
    "duration": 4,
    "start_time": "2023-06-13T16:14:00.764Z"
   },
   {
    "duration": 54,
    "start_time": "2023-06-13T16:14:51.604Z"
   },
   {
    "duration": 10,
    "start_time": "2023-06-13T16:15:35.529Z"
   },
   {
    "duration": 7,
    "start_time": "2023-06-13T16:15:39.323Z"
   },
   {
    "duration": 3,
    "start_time": "2023-06-13T16:15:41.990Z"
   },
   {
    "duration": 47,
    "start_time": "2023-06-13T16:15:46.956Z"
   },
   {
    "duration": 20,
    "start_time": "2023-06-13T16:15:53.995Z"
   },
   {
    "duration": 3,
    "start_time": "2023-06-13T16:16:20.491Z"
   },
   {
    "duration": 39,
    "start_time": "2023-06-13T16:16:25.756Z"
   },
   {
    "duration": 3,
    "start_time": "2023-06-13T16:16:38.352Z"
   },
   {
    "duration": 343,
    "start_time": "2023-06-13T16:16:39.365Z"
   },
   {
    "duration": 40,
    "start_time": "2023-06-13T16:16:40.988Z"
   },
   {
    "duration": 47,
    "start_time": "2023-06-13T16:16:44.439Z"
   },
   {
    "duration": 15,
    "start_time": "2023-06-13T16:16:49.283Z"
   },
   {
    "duration": 51,
    "start_time": "2023-06-13T16:16:52.954Z"
   },
   {
    "duration": 4,
    "start_time": "2023-06-13T16:16:56.905Z"
   },
   {
    "duration": 12,
    "start_time": "2023-06-13T16:16:58.140Z"
   },
   {
    "duration": 36,
    "start_time": "2023-06-13T16:17:00.917Z"
   },
   {
    "duration": 11,
    "start_time": "2023-06-13T16:17:04.785Z"
   },
   {
    "duration": 12,
    "start_time": "2023-06-13T16:17:07.709Z"
   },
   {
    "duration": 131,
    "start_time": "2023-06-13T16:17:10.111Z"
   },
   {
    "duration": 6,
    "start_time": "2023-06-13T16:17:11.713Z"
   },
   {
    "duration": 7,
    "start_time": "2023-06-13T16:17:13.039Z"
   },
   {
    "duration": 3,
    "start_time": "2023-06-13T16:17:21.881Z"
   },
   {
    "duration": 26,
    "start_time": "2023-06-13T16:17:24.625Z"
   },
   {
    "duration": 3,
    "start_time": "2023-06-13T16:17:41.168Z"
   },
   {
    "duration": 37,
    "start_time": "2023-06-13T16:17:48.439Z"
   },
   {
    "duration": 21,
    "start_time": "2023-06-13T16:17:58.349Z"
   },
   {
    "duration": 23,
    "start_time": "2023-06-13T16:19:11.394Z"
   },
   {
    "duration": 3,
    "start_time": "2023-06-13T16:21:27.057Z"
   },
   {
    "duration": 3,
    "start_time": "2023-06-13T16:21:51.842Z"
   },
   {
    "duration": 4,
    "start_time": "2023-06-13T16:21:54.813Z"
   },
   {
    "duration": 337206,
    "start_time": "2023-06-13T16:22:01.925Z"
   },
   {
    "duration": 76,
    "start_time": "2023-06-13T16:27:57.612Z"
   },
   {
    "duration": 82,
    "start_time": "2023-06-13T16:34:38.991Z"
   },
   {
    "duration": 24,
    "start_time": "2023-06-13T16:35:03.962Z"
   },
   {
    "duration": 176,
    "start_time": "2023-06-13T16:35:16.158Z"
   },
   {
    "duration": 124,
    "start_time": "2023-06-13T16:35:50.606Z"
   },
   {
    "duration": 95,
    "start_time": "2023-06-13T16:35:54.045Z"
   },
   {
    "duration": 76,
    "start_time": "2023-06-13T16:38:59.291Z"
   },
   {
    "duration": 1032,
    "start_time": "2023-06-13T16:39:39.511Z"
   },
   {
    "duration": 1016,
    "start_time": "2023-06-13T16:39:42.058Z"
   },
   {
    "duration": 46,
    "start_time": "2023-06-13T16:39:51.802Z"
   },
   {
    "duration": 138,
    "start_time": "2023-06-13T16:40:42.491Z"
   },
   {
    "duration": 91,
    "start_time": "2023-06-13T16:40:50.257Z"
   },
   {
    "duration": 122,
    "start_time": "2023-06-13T16:40:57.813Z"
   },
   {
    "duration": 96,
    "start_time": "2023-06-13T16:41:15.944Z"
   },
   {
    "duration": 19,
    "start_time": "2023-06-13T16:41:25.252Z"
   },
   {
    "duration": 10,
    "start_time": "2023-06-13T16:44:57.306Z"
   },
   {
    "duration": 8,
    "start_time": "2023-06-13T16:45:02.714Z"
   },
   {
    "duration": 2065,
    "start_time": "2023-06-13T16:45:50.286Z"
   },
   {
    "duration": 446,
    "start_time": "2023-06-13T16:46:42.556Z"
   },
   {
    "duration": 14,
    "start_time": "2023-06-13T16:47:28.207Z"
   },
   {
    "duration": 17,
    "start_time": "2023-06-13T16:47:35.836Z"
   },
   {
    "duration": 305,
    "start_time": "2023-06-13T16:47:52.938Z"
   },
   {
    "duration": 32,
    "start_time": "2023-06-13T16:55:19.093Z"
   },
   {
    "duration": 7,
    "start_time": "2023-06-13T16:55:34.212Z"
   },
   {
    "duration": 34,
    "start_time": "2023-06-13T16:55:54.600Z"
   },
   {
    "duration": 69,
    "start_time": "2023-06-13T16:56:03.629Z"
   },
   {
    "duration": 30,
    "start_time": "2023-06-13T16:57:39.997Z"
   },
   {
    "duration": 36,
    "start_time": "2023-06-13T16:57:51.097Z"
   },
   {
    "duration": 32,
    "start_time": "2023-06-13T16:59:09.489Z"
   },
   {
    "duration": 14733,
    "start_time": "2023-06-14T13:07:45.629Z"
   },
   {
    "duration": 72,
    "start_time": "2023-06-14T13:08:13.255Z"
   },
   {
    "duration": 64,
    "start_time": "2023-06-14T13:08:21.549Z"
   },
   {
    "duration": 8517,
    "start_time": "2023-06-14T13:08:33.075Z"
   },
   {
    "duration": 76,
    "start_time": "2023-06-14T13:08:49.239Z"
   },
   {
    "duration": 4719,
    "start_time": "2023-06-14T13:08:59.660Z"
   },
   {
    "duration": 5494,
    "start_time": "2023-06-14T13:09:10.195Z"
   },
   {
    "duration": 3944,
    "start_time": "2023-06-14T13:09:18.629Z"
   },
   {
    "duration": 952,
    "start_time": "2023-06-14T13:09:25.241Z"
   },
   {
    "duration": 43,
    "start_time": "2023-06-14T13:09:29.237Z"
   },
   {
    "duration": 56,
    "start_time": "2023-06-14T13:09:34.095Z"
   },
   {
    "duration": 16,
    "start_time": "2023-06-14T13:09:37.790Z"
   },
   {
    "duration": 67,
    "start_time": "2023-06-14T13:09:39.592Z"
   },
   {
    "duration": 3,
    "start_time": "2023-06-14T13:09:43.317Z"
   },
   {
    "duration": 11,
    "start_time": "2023-06-14T13:09:45.281Z"
   },
   {
    "duration": 110,
    "start_time": "2023-06-14T13:09:48.548Z"
   },
   {
    "duration": 14,
    "start_time": "2023-06-14T13:09:51.161Z"
   },
   {
    "duration": 251,
    "start_time": "2023-06-14T13:09:53.541Z"
   },
   {
    "duration": 161,
    "start_time": "2023-06-14T13:12:58.745Z"
   },
   {
    "duration": 18,
    "start_time": "2023-06-14T13:13:08.858Z"
   },
   {
    "duration": 25,
    "start_time": "2023-06-14T13:13:16.323Z"
   },
   {
    "duration": 104,
    "start_time": "2023-06-14T13:14:05.517Z"
   },
   {
    "duration": 7,
    "start_time": "2023-06-14T13:14:17.657Z"
   },
   {
    "duration": 29,
    "start_time": "2023-06-14T13:14:27.389Z"
   },
   {
    "duration": 19,
    "start_time": "2023-06-14T13:14:36.388Z"
   },
   {
    "duration": 7,
    "start_time": "2023-06-14T13:14:52.925Z"
   },
   {
    "duration": 7,
    "start_time": "2023-06-14T13:15:24.260Z"
   },
   {
    "duration": 19,
    "start_time": "2023-06-14T13:15:43.529Z"
   },
   {
    "duration": 26,
    "start_time": "2023-06-14T13:15:52.383Z"
   },
   {
    "duration": 3,
    "start_time": "2023-06-14T13:18:19.549Z"
   },
   {
    "duration": 28,
    "start_time": "2023-06-14T13:19:29.892Z"
   },
   {
    "duration": 6,
    "start_time": "2023-06-14T13:21:17.826Z"
   },
   {
    "duration": 4,
    "start_time": "2023-06-14T13:21:53.528Z"
   },
   {
    "duration": 4,
    "start_time": "2023-06-14T13:22:27.550Z"
   },
   {
    "duration": 183,
    "start_time": "2023-06-14T13:22:47.388Z"
   },
   {
    "duration": 83,
    "start_time": "2023-06-14T13:23:14.425Z"
   },
   {
    "duration": 29,
    "start_time": "2023-06-14T13:23:21.661Z"
   },
   {
    "duration": 25,
    "start_time": "2023-06-14T13:23:44.357Z"
   },
   {
    "duration": 5,
    "start_time": "2023-06-14T13:23:54.925Z"
   },
   {
    "duration": 72,
    "start_time": "2023-06-14T13:24:18.125Z"
   },
   {
    "duration": 31,
    "start_time": "2023-06-14T13:24:23.953Z"
   },
   {
    "duration": 5,
    "start_time": "2023-06-14T13:25:06.178Z"
   },
   {
    "duration": 66,
    "start_time": "2023-06-14T13:25:16.882Z"
   },
   {
    "duration": 22,
    "start_time": "2023-06-14T13:25:20.525Z"
   },
   {
    "duration": 3,
    "start_time": "2023-06-14T13:25:37.621Z"
   },
   {
    "duration": 66,
    "start_time": "2023-06-14T13:25:42.540Z"
   },
   {
    "duration": 20,
    "start_time": "2023-06-14T13:25:44.425Z"
   },
   {
    "duration": 68,
    "start_time": "2023-06-14T13:25:55.436Z"
   },
   {
    "duration": 23,
    "start_time": "2023-06-14T13:25:57.844Z"
   },
   {
    "duration": 25,
    "start_time": "2023-06-14T13:27:13.993Z"
   },
   {
    "duration": 3,
    "start_time": "2023-06-14T13:27:21.793Z"
   },
   {
    "duration": 59,
    "start_time": "2023-06-14T13:27:23.050Z"
   },
   {
    "duration": 22,
    "start_time": "2023-06-14T13:27:25.767Z"
   },
   {
    "duration": 35,
    "start_time": "2023-06-14T13:27:47.241Z"
   },
   {
    "duration": 12,
    "start_time": "2023-06-14T13:28:24.636Z"
   },
   {
    "duration": 27,
    "start_time": "2023-06-14T13:28:53.894Z"
   },
   {
    "duration": 15,
    "start_time": "2023-06-14T13:29:05.748Z"
   },
   {
    "duration": 4,
    "start_time": "2023-06-14T13:29:30.337Z"
   },
   {
    "duration": 28,
    "start_time": "2023-06-14T13:30:40.416Z"
   },
   {
    "duration": 8,
    "start_time": "2023-06-14T13:30:53.915Z"
   },
   {
    "duration": 3,
    "start_time": "2023-06-14T13:32:09.594Z"
   },
   {
    "duration": 43,
    "start_time": "2023-06-14T13:32:52.090Z"
   },
   {
    "duration": 172,
    "start_time": "2023-06-14T13:37:13.079Z"
   },
   {
    "duration": 55,
    "start_time": "2023-06-14T13:37:25.624Z"
   },
   {
    "duration": 4,
    "start_time": "2023-06-14T13:37:47.205Z"
   },
   {
    "duration": 310,
    "start_time": "2023-06-14T13:38:04.384Z"
   },
   {
    "duration": 5,
    "start_time": "2023-06-14T13:38:28.833Z"
   },
   {
    "duration": 81,
    "start_time": "2023-06-14T13:38:30.957Z"
   },
   {
    "duration": 11,
    "start_time": "2023-06-14T13:38:53.274Z"
   },
   {
    "duration": 117,
    "start_time": "2023-06-14T13:38:54.908Z"
   },
   {
    "duration": 40,
    "start_time": "2023-06-14T13:38:59.990Z"
   },
   {
    "duration": 17548,
    "start_time": "2023-06-16T09:15:48.715Z"
   },
   {
    "duration": 4985,
    "start_time": "2023-06-16T09:16:21.141Z"
   },
   {
    "duration": 30244,
    "start_time": "2023-06-16T09:16:27.955Z"
   },
   {
    "duration": 5810,
    "start_time": "2023-06-16T09:17:03.669Z"
   },
   {
    "duration": 6845,
    "start_time": "2023-06-16T09:17:26.024Z"
   },
   {
    "duration": 1770,
    "start_time": "2023-06-16T09:17:48.092Z"
   },
   {
    "duration": 61,
    "start_time": "2023-06-16T09:17:53.102Z"
   },
   {
    "duration": 43,
    "start_time": "2023-06-16T09:17:57.792Z"
   },
   {
    "duration": 24,
    "start_time": "2023-06-16T09:18:01.221Z"
   },
   {
    "duration": 60,
    "start_time": "2023-06-16T09:18:31.824Z"
   },
   {
    "duration": 27,
    "start_time": "2023-06-16T09:18:40.731Z"
   },
   {
    "duration": 59,
    "start_time": "2023-06-16T09:19:24.435Z"
   },
   {
    "duration": 1887,
    "start_time": "2023-06-16T09:19:45.979Z"
   },
   {
    "duration": 2916,
    "start_time": "2023-06-16T09:19:58.978Z"
   },
   {
    "duration": 3,
    "start_time": "2023-06-16T09:22:27.192Z"
   },
   {
    "duration": 13,
    "start_time": "2023-06-16T09:22:31.916Z"
   },
   {
    "duration": 35,
    "start_time": "2023-06-16T09:22:36.750Z"
   },
   {
    "duration": 18,
    "start_time": "2023-06-16T09:22:38.940Z"
   },
   {
    "duration": 14,
    "start_time": "2023-06-16T09:22:40.345Z"
   },
   {
    "duration": 3,
    "start_time": "2023-06-16T09:22:47.494Z"
   },
   {
    "duration": 69,
    "start_time": "2023-06-16T09:22:49.294Z"
   },
   {
    "duration": 200,
    "start_time": "2023-06-16T09:22:52.127Z"
   },
   {
    "duration": 195,
    "start_time": "2023-06-16T09:24:00.105Z"
   },
   {
    "duration": 21,
    "start_time": "2023-06-16T09:24:02.507Z"
   },
   {
    "duration": 7,
    "start_time": "2023-06-16T09:24:05.250Z"
   },
   {
    "duration": 3,
    "start_time": "2023-06-16T09:24:09.895Z"
   },
   {
    "duration": 2298,
    "start_time": "2023-06-16T09:24:56.356Z"
   },
   {
    "duration": 2117,
    "start_time": "2023-06-16T09:25:22.799Z"
   },
   {
    "duration": 4,
    "start_time": "2023-06-16T09:25:45.252Z"
   },
   {
    "duration": 426116,
    "start_time": "2023-06-16T09:25:51.831Z"
   },
   {
    "duration": 43,
    "start_time": "2023-06-16T09:33:25.719Z"
   },
   {
    "duration": 3,
    "start_time": "2023-06-16T09:35:59.305Z"
   },
   {
    "duration": 33,
    "start_time": "2023-06-16T09:36:02.458Z"
   },
   {
    "duration": 28,
    "start_time": "2023-06-16T09:36:26.947Z"
   },
   {
    "duration": 22,
    "start_time": "2023-06-16T09:39:37.843Z"
   },
   {
    "duration": 3,
    "start_time": "2023-06-16T09:39:45.727Z"
   },
   {
    "duration": 13,
    "start_time": "2023-06-16T09:40:25.037Z"
   },
   {
    "duration": 4,
    "start_time": "2023-06-16T09:40:41.791Z"
   },
   {
    "duration": 11,
    "start_time": "2023-06-16T09:40:43.555Z"
   },
   {
    "duration": 17,
    "start_time": "2023-06-16T09:41:48.346Z"
   },
   {
    "duration": 6,
    "start_time": "2023-06-16T09:41:56.291Z"
   },
   {
    "duration": 23,
    "start_time": "2023-06-16T09:42:32.528Z"
   },
   {
    "duration": 140,
    "start_time": "2023-06-16T09:42:46.143Z"
   },
   {
    "duration": 20,
    "start_time": "2023-06-16T09:42:54.213Z"
   },
   {
    "duration": 16,
    "start_time": "2023-06-16T09:43:07.130Z"
   },
   {
    "duration": 5,
    "start_time": "2023-06-16T09:43:14.641Z"
   },
   {
    "duration": 14,
    "start_time": "2023-06-16T09:43:19.404Z"
   },
   {
    "duration": 25,
    "start_time": "2023-06-16T09:43:25.166Z"
   },
   {
    "duration": 5,
    "start_time": "2023-06-16T09:43:42.677Z"
   },
   {
    "duration": 33,
    "start_time": "2023-06-16T09:44:47.255Z"
   },
   {
    "duration": 3,
    "start_time": "2023-06-16T09:45:14.326Z"
   },
   {
    "duration": 92,
    "start_time": "2023-06-16T09:46:11.277Z"
   },
   {
    "duration": 1346,
    "start_time": "2023-06-16T09:46:18.483Z"
   },
   {
    "duration": 3,
    "start_time": "2023-06-16T09:47:17.227Z"
   },
   {
    "duration": 1353,
    "start_time": "2023-06-16T09:47:19.083Z"
   },
   {
    "duration": 28,
    "start_time": "2023-06-16T09:49:49.049Z"
   },
   {
    "duration": 72,
    "start_time": "2023-06-16T09:49:57.930Z"
   },
   {
    "duration": 48,
    "start_time": "2023-06-16T09:50:06.005Z"
   },
   {
    "duration": 18,
    "start_time": "2023-06-16T09:50:19.440Z"
   },
   {
    "duration": 8,
    "start_time": "2023-06-16T09:50:26.541Z"
   },
   {
    "duration": 4,
    "start_time": "2023-06-16T09:50:44.423Z"
   },
   {
    "duration": 3,
    "start_time": "2023-06-16T09:50:51.487Z"
   },
   {
    "duration": 4,
    "start_time": "2023-06-16T09:50:55.145Z"
   },
   {
    "duration": 479471,
    "start_time": "2023-06-16T09:51:01.857Z"
   },
   {
    "duration": 435,
    "start_time": "2023-06-18T10:25:58.018Z"
   },
   {
    "duration": 15241,
    "start_time": "2023-06-18T10:26:03.220Z"
   },
   {
    "duration": 4496,
    "start_time": "2023-06-18T10:26:38.170Z"
   },
   {
    "duration": 21680,
    "start_time": "2023-06-18T10:26:50.544Z"
   },
   {
    "duration": 4828,
    "start_time": "2023-06-18T10:27:26.850Z"
   },
   {
    "duration": 3778,
    "start_time": "2023-06-18T10:27:59.163Z"
   },
   {
    "duration": 681,
    "start_time": "2023-06-18T10:28:04.968Z"
   },
   {
    "duration": 43,
    "start_time": "2023-06-18T10:28:11.074Z"
   },
   {
    "duration": 43,
    "start_time": "2023-06-18T10:28:14.802Z"
   },
   {
    "duration": 17,
    "start_time": "2023-06-18T10:28:17.607Z"
   },
   {
    "duration": 49,
    "start_time": "2023-06-18T10:28:20.485Z"
   },
   {
    "duration": 3,
    "start_time": "2023-06-18T10:28:22.621Z"
   },
   {
    "duration": 12,
    "start_time": "2023-06-18T10:28:25.954Z"
   },
   {
    "duration": 40,
    "start_time": "2023-06-18T10:28:28.353Z"
   },
   {
    "duration": 12,
    "start_time": "2023-06-18T10:28:30.103Z"
   },
   {
    "duration": 15,
    "start_time": "2023-06-18T10:28:32.542Z"
   },
   {
    "duration": 2,
    "start_time": "2023-06-18T10:28:35.076Z"
   },
   {
    "duration": 52,
    "start_time": "2023-06-18T10:28:36.069Z"
   },
   {
    "duration": 152,
    "start_time": "2023-06-18T10:28:38.721Z"
   },
   {
    "duration": 155,
    "start_time": "2023-06-18T10:29:42.678Z"
   },
   {
    "duration": 7,
    "start_time": "2023-06-18T10:29:44.856Z"
   },
   {
    "duration": 4,
    "start_time": "2023-06-18T10:29:48.217Z"
   },
   {
    "duration": 3,
    "start_time": "2023-06-18T10:31:22.241Z"
   },
   {
    "duration": 3,
    "start_time": "2023-06-18T10:32:01.888Z"
   },
   {
    "duration": 783,
    "start_time": "2023-06-18T10:32:22.858Z"
   },
   {
    "duration": 7,
    "start_time": "2023-06-18T10:32:45.301Z"
   },
   {
    "duration": 6,
    "start_time": "2023-06-18T10:32:46.953Z"
   },
   {
    "duration": 2,
    "start_time": "2023-06-18T10:32:53.294Z"
   },
   {
    "duration": 10,
    "start_time": "2023-06-18T10:33:04.504Z"
   },
   {
    "duration": 22,
    "start_time": "2023-06-18T10:33:07.346Z"
   },
   {
    "duration": 91,
    "start_time": "2023-06-18T10:33:40.021Z"
   },
   {
    "duration": 21,
    "start_time": "2023-06-18T10:33:50.007Z"
   },
   {
    "duration": 20,
    "start_time": "2023-06-18T10:34:28.313Z"
   },
   {
    "duration": 14,
    "start_time": "2023-06-18T10:34:42.473Z"
   },
   {
    "duration": 87,
    "start_time": "2023-06-18T10:34:47.014Z"
   },
   {
    "duration": 22,
    "start_time": "2023-06-18T10:34:49.320Z"
   },
   {
    "duration": 33297,
    "start_time": "2023-06-18T10:35:12.891Z"
   },
   {
    "duration": 25988,
    "start_time": "2023-06-18T10:35:53.301Z"
   },
   {
    "duration": 732185,
    "start_time": "2023-06-18T10:36:35.597Z"
   },
   {
    "duration": 28,
    "start_time": "2023-06-18T10:49:32.703Z"
   },
   {
    "duration": 9810,
    "start_time": "2023-06-18T10:49:41.203Z"
   },
   {
    "duration": 1300,
    "start_time": "2023-06-18T10:49:55.937Z"
   },
   {
    "duration": 5,
    "start_time": "2023-06-18T10:50:06.614Z"
   },
   {
    "duration": 120,
    "start_time": "2023-06-18T10:50:10.498Z"
   },
   {
    "duration": 2958,
    "start_time": "2023-06-18T10:51:19.898Z"
   },
   {
    "duration": 6039,
    "start_time": "2023-06-18T10:51:25.212Z"
   },
   {
    "duration": 441,
    "start_time": "2023-06-18T10:51:33.307Z"
   },
   {
    "duration": 89,
    "start_time": "2023-06-18T10:51:35.907Z"
   },
   {
    "duration": 81,
    "start_time": "2023-06-18T10:51:39.868Z"
   },
   {
    "duration": 20,
    "start_time": "2023-06-18T10:51:42.510Z"
   },
   {
    "duration": 4,
    "start_time": "2023-06-18T10:51:48.606Z"
   },
   {
    "duration": 14,
    "start_time": "2023-06-18T10:51:49.828Z"
   },
   {
    "duration": 45,
    "start_time": "2023-06-18T10:51:51.115Z"
   },
   {
    "duration": 14,
    "start_time": "2023-06-18T10:51:54.558Z"
   },
   {
    "duration": 20,
    "start_time": "2023-06-18T10:51:55.811Z"
   },
   {
    "duration": 3,
    "start_time": "2023-06-18T10:51:57.149Z"
   },
   {
    "duration": 65,
    "start_time": "2023-06-18T10:51:58.336Z"
   },
   {
    "duration": 214,
    "start_time": "2023-06-18T10:52:01.136Z"
   },
   {
    "duration": 202,
    "start_time": "2023-06-18T10:52:03.593Z"
   },
   {
    "duration": 7,
    "start_time": "2023-06-18T10:52:05.765Z"
   },
   {
    "duration": 11,
    "start_time": "2023-06-18T10:52:07.003Z"
   },
   {
    "duration": 8,
    "start_time": "2023-06-18T10:52:11.076Z"
   },
   {
    "duration": 2,
    "start_time": "2023-06-18T10:52:14.244Z"
   },
   {
    "duration": 316,
    "start_time": "2023-06-18T10:52:17.922Z"
   },
   {
    "duration": 2858,
    "start_time": "2023-06-18T10:53:51.483Z"
   },
   {
    "duration": 3,
    "start_time": "2023-06-18T10:53:55.437Z"
   },
   {
    "duration": 421,
    "start_time": "2023-06-18T10:53:57.035Z"
   },
   {
    "duration": 35,
    "start_time": "2023-06-18T10:53:59.433Z"
   },
   {
    "duration": 49,
    "start_time": "2023-06-18T10:54:03.221Z"
   },
   {
    "duration": 25,
    "start_time": "2023-06-18T10:54:05.800Z"
   },
   {
    "duration": 3,
    "start_time": "2023-06-18T10:54:10.217Z"
   },
   {
    "duration": 13,
    "start_time": "2023-06-18T10:54:11.647Z"
   },
   {
    "duration": 64,
    "start_time": "2023-06-18T10:54:22.270Z"
   },
   {
    "duration": 14,
    "start_time": "2023-06-18T10:54:24.604Z"
   },
   {
    "duration": 12,
    "start_time": "2023-06-18T10:54:25.757Z"
   },
   {
    "duration": 6,
    "start_time": "2023-06-18T10:54:27.512Z"
   },
   {
    "duration": 42,
    "start_time": "2023-06-18T10:54:28.426Z"
   },
   {
    "duration": 196,
    "start_time": "2023-06-18T10:54:31.155Z"
   },
   {
    "duration": 195,
    "start_time": "2023-06-18T10:54:34.456Z"
   },
   {
    "duration": 7,
    "start_time": "2023-06-18T10:54:35.720Z"
   },
   {
    "duration": 9,
    "start_time": "2023-06-18T10:54:37.139Z"
   },
   {
    "duration": 5,
    "start_time": "2023-06-18T10:54:38.239Z"
   },
   {
    "duration": 9,
    "start_time": "2023-06-18T10:54:40.082Z"
   },
   {
    "duration": 85,
    "start_time": "2023-06-18T10:54:43.514Z"
   },
   {
    "duration": 710,
    "start_time": "2023-06-18T10:58:53.137Z"
   },
   {
    "duration": 630,
    "start_time": "2023-06-18T10:59:11.806Z"
   },
   {
    "duration": 600,
    "start_time": "2023-06-18T11:01:10.299Z"
   },
   {
    "duration": 628,
    "start_time": "2023-06-18T11:01:19.507Z"
   },
   {
    "duration": 137,
    "start_time": "2023-06-18T11:05:07.756Z"
   },
   {
    "duration": 59,
    "start_time": "2023-06-18T11:12:43.911Z"
   },
   {
    "duration": 48,
    "start_time": "2023-06-18T11:12:53.859Z"
   },
   {
    "duration": 105,
    "start_time": "2023-06-18T11:18:14.459Z"
   },
   {
    "duration": 4,
    "start_time": "2023-06-18T11:20:04.604Z"
   },
   {
    "duration": 26,
    "start_time": "2023-06-18T11:20:11.324Z"
   },
   {
    "duration": 20,
    "start_time": "2023-06-18T11:21:44.824Z"
   },
   {
    "duration": 93,
    "start_time": "2023-06-18T11:21:48.748Z"
   },
   {
    "duration": 2,
    "start_time": "2023-06-18T11:35:47.586Z"
   },
   {
    "duration": 3,
    "start_time": "2023-06-18T11:35:48.633Z"
   },
   {
    "duration": 2,
    "start_time": "2023-06-18T11:35:49.887Z"
   },
   {
    "duration": 4,
    "start_time": "2023-06-18T11:46:23.651Z"
   },
   {
    "duration": 1273,
    "start_time": "2023-06-18T11:49:04.852Z"
   },
   {
    "duration": 1393,
    "start_time": "2023-06-18T11:49:19.256Z"
   },
   {
    "duration": 1339,
    "start_time": "2023-06-18T11:49:39.623Z"
   },
   {
    "duration": 6,
    "start_time": "2023-06-18T11:49:46.911Z"
   },
   {
    "duration": 18,
    "start_time": "2023-06-18T11:50:16.234Z"
   },
   {
    "duration": 17,
    "start_time": "2023-06-18T11:50:20.605Z"
   },
   {
    "duration": 1767,
    "start_time": "2023-06-18T11:50:32.420Z"
   },
   {
    "duration": 3,
    "start_time": "2023-06-18T11:50:48.474Z"
   },
   {
    "duration": 4,
    "start_time": "2023-06-18T11:50:53.028Z"
   },
   {
    "duration": 6,
    "start_time": "2023-06-18T11:51:15.036Z"
   },
   {
    "duration": 4,
    "start_time": "2023-06-18T11:51:34.966Z"
   },
   {
    "duration": 5,
    "start_time": "2023-06-18T11:52:03.304Z"
   },
   {
    "duration": 653,
    "start_time": "2023-06-18T11:53:39.785Z"
   },
   {
    "duration": 60,
    "start_time": "2023-06-18T11:59:35.771Z"
   },
   {
    "duration": 89,
    "start_time": "2023-06-18T12:00:50.238Z"
   },
   {
    "duration": 14,
    "start_time": "2023-06-18T12:02:28.591Z"
   },
   {
    "duration": 86,
    "start_time": "2023-06-18T12:02:30.714Z"
   },
   {
    "duration": 19,
    "start_time": "2023-06-18T12:02:56.535Z"
   },
   {
    "duration": 7,
    "start_time": "2023-06-18T12:03:10.234Z"
   },
   {
    "duration": 94,
    "start_time": "2023-06-18T12:06:05.686Z"
   },
   {
    "duration": 841,
    "start_time": "2023-06-18T12:10:58.274Z"
   },
   {
    "duration": 21,
    "start_time": "2023-06-18T12:23:34.175Z"
   },
   {
    "duration": 107,
    "start_time": "2023-06-18T12:24:04.212Z"
   },
   {
    "duration": 80,
    "start_time": "2023-06-18T12:24:09.002Z"
   },
   {
    "duration": 100,
    "start_time": "2023-06-18T12:27:06.792Z"
   },
   {
    "duration": 4,
    "start_time": "2023-06-18T12:27:32.868Z"
   },
   {
    "duration": 416,
    "start_time": "2023-06-18T12:27:51.594Z"
   },
   {
    "duration": 29,
    "start_time": "2023-06-18T12:28:19.328Z"
   },
   {
    "duration": 51,
    "start_time": "2023-06-18T12:30:31.279Z"
   },
   {
    "duration": 3,
    "start_time": "2023-06-18T12:33:59.020Z"
   },
   {
    "duration": 4,
    "start_time": "2023-06-18T12:34:03.915Z"
   },
   {
    "duration": 315,
    "start_time": "2023-06-18T12:34:19.245Z"
   },
   {
    "duration": 3,
    "start_time": "2023-06-18T12:34:40.805Z"
   },
   {
    "duration": 30,
    "start_time": "2023-06-18T12:34:48.039Z"
   },
   {
    "duration": 20,
    "start_time": "2023-06-18T12:35:26.306Z"
   },
   {
    "duration": 16,
    "start_time": "2023-06-18T12:36:01.922Z"
   },
   {
    "duration": 16,
    "start_time": "2023-06-18T12:36:17.550Z"
   },
   {
    "duration": 32,
    "start_time": "2023-06-18T12:39:41.828Z"
   },
   {
    "duration": 13,
    "start_time": "2023-06-18T12:39:54.304Z"
   },
   {
    "duration": 6,
    "start_time": "2023-06-18T12:39:55.931Z"
   },
   {
    "duration": 403,
    "start_time": "2023-06-18T12:40:51.811Z"
   },
   {
    "duration": 49,
    "start_time": "2023-06-18T12:41:54.941Z"
   },
   {
    "duration": 384,
    "start_time": "2023-06-18T12:42:18.313Z"
   },
   {
    "duration": 47,
    "start_time": "2023-06-18T12:42:27.911Z"
   },
   {
    "duration": 30,
    "start_time": "2023-06-18T12:42:33.717Z"
   },
   {
    "duration": 4,
    "start_time": "2023-06-18T12:42:53.488Z"
   },
   {
    "duration": 28,
    "start_time": "2023-06-18T12:43:00.300Z"
   },
   {
    "duration": 7,
    "start_time": "2023-06-18T12:45:01.132Z"
   },
   {
    "duration": 5,
    "start_time": "2023-06-18T12:45:27.823Z"
   },
   {
    "duration": 32,
    "start_time": "2023-06-18T12:45:32.428Z"
   },
   {
    "duration": 53,
    "start_time": "2023-06-18T12:46:25.899Z"
   },
   {
    "duration": 8,
    "start_time": "2023-06-18T12:47:08.436Z"
   },
   {
    "duration": 29,
    "start_time": "2023-06-18T12:47:11.049Z"
   },
   {
    "duration": 13,
    "start_time": "2023-06-18T12:47:36.583Z"
   },
   {
    "duration": 13,
    "start_time": "2023-06-18T12:47:40.599Z"
   },
   {
    "duration": 6,
    "start_time": "2023-06-18T12:53:14.740Z"
   },
   {
    "duration": 8,
    "start_time": "2023-06-18T12:53:20.904Z"
   },
   {
    "duration": 30,
    "start_time": "2023-06-18T12:54:56.728Z"
   },
   {
    "duration": 8,
    "start_time": "2023-06-18T12:59:15.555Z"
   },
   {
    "duration": 31,
    "start_time": "2023-06-18T13:03:58.498Z"
   },
   {
    "duration": 14,
    "start_time": "2023-06-18T13:04:06.757Z"
   },
   {
    "duration": 15,
    "start_time": "2023-06-18T13:04:37.493Z"
   },
   {
    "duration": 313,
    "start_time": "2023-06-18T13:04:55.895Z"
   },
   {
    "duration": 361,
    "start_time": "2023-06-18T13:05:06.787Z"
   },
   {
    "duration": 12,
    "start_time": "2023-06-18T13:09:49.019Z"
   },
   {
    "duration": 398,
    "start_time": "2023-06-18T13:09:56.042Z"
   },
   {
    "duration": 332,
    "start_time": "2023-06-18T13:11:01.184Z"
   },
   {
    "duration": 5,
    "start_time": "2023-06-18T13:12:44.121Z"
   },
   {
    "duration": 87,
    "start_time": "2023-06-18T13:13:26.990Z"
   },
   {
    "duration": 451,
    "start_time": "2023-06-18T13:13:32.380Z"
   },
   {
    "duration": 340,
    "start_time": "2023-06-18T13:13:49.374Z"
   },
   {
    "duration": 9,
    "start_time": "2023-06-18T13:15:23.779Z"
   },
   {
    "duration": 5,
    "start_time": "2023-06-18T13:15:27.811Z"
   },
   {
    "duration": 9,
    "start_time": "2023-06-18T13:15:35.425Z"
   },
   {
    "duration": 325,
    "start_time": "2023-06-18T13:16:31.895Z"
   },
   {
    "duration": 334,
    "start_time": "2023-06-18T13:17:04.300Z"
   },
   {
    "duration": 12,
    "start_time": "2023-06-18T13:17:10.719Z"
   },
   {
    "duration": 9,
    "start_time": "2023-06-18T13:17:22.000Z"
   },
   {
    "duration": 10,
    "start_time": "2023-06-18T13:17:25.643Z"
   },
   {
    "duration": 32,
    "start_time": "2023-06-18T13:17:28.999Z"
   },
   {
    "duration": 11,
    "start_time": "2023-06-18T13:18:50.687Z"
   },
   {
    "duration": 35,
    "start_time": "2023-06-18T13:18:56.802Z"
   },
   {
    "duration": 11,
    "start_time": "2023-06-18T13:21:19.741Z"
   },
   {
    "duration": 32,
    "start_time": "2023-06-18T13:21:24.638Z"
   },
   {
    "duration": 336,
    "start_time": "2023-06-18T13:21:48.148Z"
   },
   {
    "duration": 14,
    "start_time": "2023-06-18T13:22:32.138Z"
   },
   {
    "duration": 14,
    "start_time": "2023-06-18T13:22:39.033Z"
   },
   {
    "duration": 15,
    "start_time": "2023-06-18T13:24:01.355Z"
   },
   {
    "duration": 12,
    "start_time": "2023-06-18T13:24:06.037Z"
   },
   {
    "duration": 13,
    "start_time": "2023-06-18T13:24:09.754Z"
   },
   {
    "duration": 17,
    "start_time": "2023-06-18T13:24:45.289Z"
   },
   {
    "duration": 81,
    "start_time": "2023-06-18T15:27:41.833Z"
   },
   {
    "duration": 8,
    "start_time": "2023-06-18T15:28:18.087Z"
   },
   {
    "duration": 70,
    "start_time": "2023-06-18T15:28:21.650Z"
   },
   {
    "duration": 2,
    "start_time": "2023-06-18T15:29:07.856Z"
   },
   {
    "duration": 4,
    "start_time": "2023-06-18T15:29:10.581Z"
   },
   {
    "duration": 1646,
    "start_time": "2023-06-18T15:29:37.544Z"
   },
   {
    "duration": 6,
    "start_time": "2023-06-18T15:29:54.708Z"
   },
   {
    "duration": 27,
    "start_time": "2023-06-18T15:30:01.256Z"
   },
   {
    "duration": 5,
    "start_time": "2023-06-18T15:30:23.740Z"
   },
   {
    "duration": 28,
    "start_time": "2023-06-18T15:30:26.689Z"
   },
   {
    "duration": 5,
    "start_time": "2023-06-18T15:30:58.428Z"
   },
   {
    "duration": 13,
    "start_time": "2023-06-18T15:31:24.109Z"
   },
   {
    "duration": 38,
    "start_time": "2023-06-18T15:31:29.182Z"
   },
   {
    "duration": 12,
    "start_time": "2023-06-18T15:32:06.893Z"
   },
   {
    "duration": 145,
    "start_time": "2023-06-18T15:33:31.875Z"
   },
   {
    "duration": 291,
    "start_time": "2023-06-18T15:33:36.700Z"
   },
   {
    "duration": 1210,
    "start_time": "2023-06-18T15:33:48.989Z"
   },
   {
    "duration": 26,
    "start_time": "2023-06-18T15:33:57.857Z"
   },
   {
    "duration": 29,
    "start_time": "2023-06-18T15:34:33.532Z"
   },
   {
    "duration": 3,
    "start_time": "2023-06-18T15:38:25.388Z"
   },
   {
    "duration": 4,
    "start_time": "2023-06-18T15:38:27.489Z"
   },
   {
    "duration": 17,
    "start_time": "2023-06-18T15:38:32.878Z"
   },
   {
    "duration": 8,
    "start_time": "2023-06-18T15:38:48.795Z"
   },
   {
    "duration": 7,
    "start_time": "2023-06-18T15:38:58.557Z"
   },
   {
    "duration": 1419,
    "start_time": "2023-06-18T15:39:38.480Z"
   },
   {
    "duration": 1210,
    "start_time": "2023-06-18T15:39:48.288Z"
   },
   {
    "duration": 7,
    "start_time": "2023-06-18T15:39:56.705Z"
   },
   {
    "duration": 13,
    "start_time": "2023-06-18T15:41:29.924Z"
   },
   {
    "duration": 74,
    "start_time": "2023-06-18T15:41:35.601Z"
   },
   {
    "duration": 13,
    "start_time": "2023-06-18T15:41:51.721Z"
   },
   {
    "duration": 18,
    "start_time": "2023-06-18T15:41:59.413Z"
   },
   {
    "duration": 12,
    "start_time": "2023-06-18T15:42:04.953Z"
   },
   {
    "duration": 8,
    "start_time": "2023-06-18T15:42:10.178Z"
   },
   {
    "duration": 392,
    "start_time": "2023-06-18T15:43:26.678Z"
   },
   {
    "duration": 12,
    "start_time": "2023-06-18T15:44:38.445Z"
   },
   {
    "duration": 24,
    "start_time": "2023-06-18T15:44:51.712Z"
   },
   {
    "duration": 16,
    "start_time": "2023-06-18T15:45:02.792Z"
   },
   {
    "duration": 17,
    "start_time": "2023-06-18T15:46:55.810Z"
   },
   {
    "duration": 23,
    "start_time": "2023-06-18T15:48:18.608Z"
   },
   {
    "duration": 15,
    "start_time": "2023-06-18T15:49:31.400Z"
   },
   {
    "duration": 21,
    "start_time": "2023-06-18T15:50:42.540Z"
   },
   {
    "duration": 10,
    "start_time": "2023-06-18T15:50:54.725Z"
   },
   {
    "duration": 5,
    "start_time": "2023-06-18T15:50:56.291Z"
   },
   {
    "duration": 908,
    "start_time": "2023-06-18T15:51:55.001Z"
   },
   {
    "duration": 4,
    "start_time": "2023-06-18T15:52:22.249Z"
   },
   {
    "duration": 111,
    "start_time": "2023-06-18T15:53:15.741Z"
   },
   {
    "duration": 14,
    "start_time": "2023-06-18T15:53:24.142Z"
   },
   {
    "duration": 1067,
    "start_time": "2023-06-18T15:53:51.592Z"
   },
   {
    "duration": 899,
    "start_time": "2023-06-18T15:54:47.505Z"
   },
   {
    "duration": 113,
    "start_time": "2023-06-18T15:55:06.357Z"
   },
   {
    "duration": 909,
    "start_time": "2023-06-18T15:55:09.056Z"
   },
   {
    "duration": 959,
    "start_time": "2023-06-18T15:55:16.645Z"
   },
   {
    "duration": 982,
    "start_time": "2023-06-18T15:56:59.306Z"
   },
   {
    "duration": 887,
    "start_time": "2023-06-18T15:57:10.140Z"
   },
   {
    "duration": 1267,
    "start_time": "2023-06-18T15:57:35.980Z"
   },
   {
    "duration": 1223,
    "start_time": "2023-06-18T15:57:50.573Z"
   },
   {
    "duration": 133,
    "start_time": "2023-06-18T15:58:13.684Z"
   },
   {
    "duration": 784,
    "start_time": "2023-06-18T21:13:50.959Z"
   },
   {
    "duration": 3,
    "start_time": "2023-06-18T21:13:55.919Z"
   },
   {
    "duration": 592,
    "start_time": "2023-06-18T21:13:58.382Z"
   },
   {
    "duration": 34,
    "start_time": "2023-06-18T21:14:01.491Z"
   },
   {
    "duration": 51,
    "start_time": "2023-06-18T21:14:05.700Z"
   },
   {
    "duration": 15,
    "start_time": "2023-06-18T21:14:08.636Z"
   },
   {
    "duration": 2,
    "start_time": "2023-06-18T21:14:12.624Z"
   },
   {
    "duration": 11,
    "start_time": "2023-06-18T21:14:13.942Z"
   },
   {
    "duration": 35,
    "start_time": "2023-06-18T21:14:16.231Z"
   },
   {
    "duration": 12,
    "start_time": "2023-06-18T21:14:18.225Z"
   },
   {
    "duration": 13,
    "start_time": "2023-06-18T21:14:20.018Z"
   },
   {
    "duration": 3,
    "start_time": "2023-06-18T21:14:21.603Z"
   },
   {
    "duration": 39,
    "start_time": "2023-06-18T21:14:22.894Z"
   },
   {
    "duration": 127,
    "start_time": "2023-06-18T21:14:25.877Z"
   },
   {
    "duration": 134,
    "start_time": "2023-06-18T21:14:27.659Z"
   },
   {
    "duration": 6,
    "start_time": "2023-06-18T21:14:35.431Z"
   },
   {
    "duration": 5,
    "start_time": "2023-06-18T21:14:38.366Z"
   },
   {
    "duration": 16,
    "start_time": "2023-06-18T21:14:52.129Z"
   },
   {
    "duration": 2,
    "start_time": "2023-06-18T21:15:00.696Z"
   },
   {
    "duration": 5,
    "start_time": "2023-06-18T21:15:04.645Z"
   },
   {
    "duration": 17,
    "start_time": "2023-06-18T21:15:17.116Z"
   },
   {
    "duration": 1130,
    "start_time": "2023-06-18T21:16:54.286Z"
   },
   {
    "duration": 9,
    "start_time": "2023-06-18T21:17:07.890Z"
   },
   {
    "duration": 128,
    "start_time": "2023-06-18T21:18:06.418Z"
   },
   {
    "duration": 23,
    "start_time": "2023-06-18T21:18:18.705Z"
   },
   {
    "duration": 33,
    "start_time": "2023-06-18T21:19:38.497Z"
   },
   {
    "duration": 38,
    "start_time": "2023-06-18T21:20:07.994Z"
   },
   {
    "duration": 62,
    "start_time": "2023-06-18T21:21:11.395Z"
   },
   {
    "duration": 46,
    "start_time": "2023-06-18T21:21:30.958Z"
   },
   {
    "duration": 50,
    "start_time": "2023-06-18T21:21:50.533Z"
   },
   {
    "duration": 3,
    "start_time": "2023-06-18T21:25:24.145Z"
   },
   {
    "duration": 292,
    "start_time": "2023-06-18T21:25:43.361Z"
   },
   {
    "duration": 50,
    "start_time": "2023-06-18T21:26:13.832Z"
   },
   {
    "duration": 311,
    "start_time": "2023-06-18T21:26:33.408Z"
   },
   {
    "duration": 45,
    "start_time": "2023-06-18T21:27:15.827Z"
   },
   {
    "duration": 45,
    "start_time": "2023-06-18T21:27:53.809Z"
   },
   {
    "duration": 13,
    "start_time": "2023-06-18T21:30:50.688Z"
   },
   {
    "duration": 109,
    "start_time": "2023-06-18T21:32:15.034Z"
   },
   {
    "duration": 5,
    "start_time": "2023-06-18T21:32:23.495Z"
   },
   {
    "duration": 5,
    "start_time": "2023-06-18T21:32:40.820Z"
   },
   {
    "duration": 3,
    "start_time": "2023-06-18T21:33:01.890Z"
   },
   {
    "duration": 18,
    "start_time": "2023-06-18T21:33:03.744Z"
   },
   {
    "duration": 3,
    "start_time": "2023-06-18T21:33:50.337Z"
   },
   {
    "duration": 3,
    "start_time": "2023-06-18T21:33:56.344Z"
   },
   {
    "duration": 17,
    "start_time": "2023-06-18T21:33:57.730Z"
   },
   {
    "duration": 17,
    "start_time": "2023-06-18T21:34:48.188Z"
   },
   {
    "duration": 22,
    "start_time": "2023-06-18T21:34:52.935Z"
   },
   {
    "duration": 27,
    "start_time": "2023-06-18T21:35:21.723Z"
   },
   {
    "duration": 4,
    "start_time": "2023-06-18T21:35:28.463Z"
   },
   {
    "duration": 4,
    "start_time": "2023-06-18T21:36:22.164Z"
   },
   {
    "duration": 21,
    "start_time": "2023-06-18T21:36:24.909Z"
   },
   {
    "duration": 4,
    "start_time": "2023-06-18T21:36:50.594Z"
   },
   {
    "duration": 20,
    "start_time": "2023-06-18T21:36:54.400Z"
   },
   {
    "duration": 17,
    "start_time": "2023-06-18T21:37:14.091Z"
   },
   {
    "duration": 7,
    "start_time": "2023-06-18T21:37:47.125Z"
   },
   {
    "duration": 4,
    "start_time": "2023-06-18T21:37:49.041Z"
   },
   {
    "duration": 18,
    "start_time": "2023-06-18T21:38:39.314Z"
   },
   {
    "duration": 17,
    "start_time": "2023-06-18T21:39:02.178Z"
   },
   {
    "duration": 22,
    "start_time": "2023-06-18T21:39:04.281Z"
   },
   {
    "duration": 1208,
    "start_time": "2023-06-18T21:39:46.516Z"
   },
   {
    "duration": 48,
    "start_time": "2023-06-18T21:40:05.103Z"
   },
   {
    "duration": 355,
    "start_time": "2023-06-18T21:40:44.704Z"
   },
   {
    "duration": 4,
    "start_time": "2023-06-18T21:40:47.626Z"
   },
   {
    "duration": 205306,
    "start_time": "2023-06-18T21:40:49.130Z"
   },
   {
    "duration": 4,
    "start_time": "2023-06-18T21:45:17.401Z"
   },
   {
    "duration": 3,
    "start_time": "2023-06-18T21:45:31.745Z"
   },
   {
    "duration": 806102,
    "start_time": "2023-06-18T21:45:46.308Z"
   },
   {
    "duration": 3,
    "start_time": "2023-06-18T22:00:15.437Z"
   },
   {
    "duration": 3,
    "start_time": "2023-06-18T22:02:23.491Z"
   },
   {
    "duration": 1454,
    "start_time": "2023-06-18T22:02:49.370Z"
   },
   {
    "duration": 4,
    "start_time": "2023-06-18T22:02:58.391Z"
   },
   {
    "duration": 2,
    "start_time": "2023-06-18T22:03:07.206Z"
   },
   {
    "duration": 9,
    "start_time": "2023-06-18T22:03:43.157Z"
   },
   {
    "duration": 7,
    "start_time": "2023-06-18T22:04:06.860Z"
   },
   {
    "duration": 289,
    "start_time": "2023-06-18T22:04:11.102Z"
   },
   {
    "duration": 3,
    "start_time": "2023-06-18T22:05:06.888Z"
   },
   {
    "duration": 833066,
    "start_time": "2023-06-18T22:05:14.352Z"
   },
   {
    "duration": 43,
    "start_time": "2023-06-18T22:20:54.213Z"
   },
   {
    "duration": 73,
    "start_time": "2023-06-18T22:23:12.528Z"
   },
   {
    "duration": 67,
    "start_time": "2023-06-18T22:23:33.618Z"
   },
   {
    "duration": 68,
    "start_time": "2023-06-18T22:24:50.161Z"
   },
   {
    "duration": 70,
    "start_time": "2023-06-18T22:25:25.254Z"
   },
   {
    "duration": 50,
    "start_time": "2023-06-18T22:25:33.881Z"
   },
   {
    "duration": 1381,
    "start_time": "2023-06-18T22:26:27.077Z"
   },
   {
    "duration": 62,
    "start_time": "2023-06-18T22:28:57.139Z"
   },
   {
    "duration": 1180,
    "start_time": "2023-06-18T22:35:06.787Z"
   },
   {
    "duration": 8,
    "start_time": "2023-06-18T22:38:51.827Z"
   },
   {
    "duration": 1512,
    "start_time": "2023-06-18T22:38:55.256Z"
   },
   {
    "duration": 188,
    "start_time": "2023-06-18T22:41:08.378Z"
   },
   {
    "duration": 208551,
    "start_time": "2023-06-18T22:41:27.367Z"
   },
   {
    "duration": 33,
    "start_time": "2023-06-18T22:45:39.815Z"
   },
   {
    "duration": 878,
    "start_time": "2023-06-18T22:45:58.042Z"
   },
   {
    "duration": 872,
    "start_time": "2023-06-18T22:46:24.575Z"
   },
   {
    "duration": 900,
    "start_time": "2023-06-19T09:31:12.737Z"
   },
   {
    "duration": 74,
    "start_time": "2023-06-19T09:33:52.574Z"
   },
   {
    "duration": 8,
    "start_time": "2023-06-19T09:34:03.746Z"
   },
   {
    "duration": 423,
    "start_time": "2023-06-19T09:34:07.016Z"
   },
   {
    "duration": 76,
    "start_time": "2023-06-19T09:34:10.721Z"
   },
   {
    "duration": 552,
    "start_time": "2023-06-19T09:34:25.640Z"
   },
   {
    "duration": 12,
    "start_time": "2023-06-19T09:34:32.457Z"
   },
   {
    "duration": 146,
    "start_time": "2023-06-19T09:35:06.968Z"
   },
   {
    "duration": 85,
    "start_time": "2023-06-19T09:38:22.790Z"
   },
   {
    "duration": 94,
    "start_time": "2023-06-19T09:38:27.043Z"
   },
   {
    "duration": 86,
    "start_time": "2023-06-19T09:38:40.611Z"
   },
   {
    "duration": 253,
    "start_time": "2023-06-19T09:38:50.096Z"
   },
   {
    "duration": 241,
    "start_time": "2023-06-19T09:38:53.218Z"
   },
   {
    "duration": 211,
    "start_time": "2023-06-19T09:39:15.606Z"
   },
   {
    "duration": 308,
    "start_time": "2023-06-19T09:39:27.986Z"
   },
   {
    "duration": 862,
    "start_time": "2023-06-19T18:49:38.299Z"
   },
   {
    "duration": 622,
    "start_time": "2023-06-19T18:49:47.246Z"
   },
   {
    "duration": 250,
    "start_time": "2023-06-19T18:49:49.691Z"
   },
   {
    "duration": 4,
    "start_time": "2023-06-19T19:00:17.606Z"
   },
   {
    "duration": 4,
    "start_time": "2023-06-19T19:00:22.635Z"
   },
   {
    "duration": 78,
    "start_time": "2023-06-19T19:00:29.812Z"
   },
   {
    "duration": 5,
    "start_time": "2023-06-19T19:00:35.072Z"
   },
   {
    "duration": 4,
    "start_time": "2023-06-19T19:01:39.172Z"
   },
   {
    "duration": 6,
    "start_time": "2023-06-19T19:07:57.259Z"
   },
   {
    "duration": 45,
    "start_time": "2023-06-19T19:08:51.886Z"
   },
   {
    "duration": 3,
    "start_time": "2023-06-19T19:18:40.193Z"
   },
   {
    "duration": 3,
    "start_time": "2023-06-19T19:18:44.338Z"
   },
   {
    "duration": 7,
    "start_time": "2023-06-19T19:19:00.229Z"
   },
   {
    "duration": 8,
    "start_time": "2023-06-19T19:19:06.916Z"
   },
   {
    "duration": 11,
    "start_time": "2023-06-19T19:19:15.547Z"
   },
   {
    "duration": 11,
    "start_time": "2023-06-19T19:20:01.618Z"
   },
   {
    "duration": 6,
    "start_time": "2023-06-19T19:20:12.305Z"
   },
   {
    "duration": 9,
    "start_time": "2023-06-19T19:20:26.522Z"
   },
   {
    "duration": 10,
    "start_time": "2023-06-19T19:20:30.037Z"
   },
   {
    "duration": 6,
    "start_time": "2023-06-19T19:20:36.914Z"
   },
   {
    "duration": 7,
    "start_time": "2023-06-19T19:21:04.405Z"
   },
   {
    "duration": 6,
    "start_time": "2023-06-19T19:22:25.229Z"
   },
   {
    "duration": 7,
    "start_time": "2023-06-19T19:22:36.459Z"
   },
   {
    "duration": 31,
    "start_time": "2023-06-19T19:34:22.398Z"
   },
   {
    "duration": 4,
    "start_time": "2023-06-19T19:36:47.178Z"
   },
   {
    "duration": 48,
    "start_time": "2023-06-19T19:39:34.105Z"
   },
   {
    "duration": 32,
    "start_time": "2023-06-19T19:39:40.429Z"
   },
   {
    "duration": 34,
    "start_time": "2023-06-19T19:40:12.218Z"
   },
   {
    "duration": 28,
    "start_time": "2023-06-19T19:40:26.283Z"
   },
   {
    "duration": 35,
    "start_time": "2023-06-19T19:40:32.301Z"
   },
   {
    "duration": 15,
    "start_time": "2023-06-19T19:46:11.403Z"
   },
   {
    "duration": 18,
    "start_time": "2023-06-19T19:46:34.119Z"
   },
   {
    "duration": 5,
    "start_time": "2023-06-19T19:47:52.374Z"
   },
   {
    "duration": 1590,
    "start_time": "2023-06-19T19:47:53.926Z"
   },
   {
    "duration": 46,
    "start_time": "2023-06-19T19:47:57.929Z"
   },
   {
    "duration": 67,
    "start_time": "2023-06-19T19:48:02.311Z"
   },
   {
    "duration": 20,
    "start_time": "2023-06-19T19:48:07.619Z"
   },
   {
    "duration": 11,
    "start_time": "2023-06-19T19:48:09.015Z"
   },
   {
    "duration": 4,
    "start_time": "2023-06-19T19:48:15.377Z"
   },
   {
    "duration": 14,
    "start_time": "2023-06-19T19:48:17.578Z"
   },
   {
    "duration": 68,
    "start_time": "2023-06-19T19:48:19.604Z"
   },
   {
    "duration": 16,
    "start_time": "2023-06-19T19:48:21.755Z"
   },
   {
    "duration": 15,
    "start_time": "2023-06-19T19:48:24.593Z"
   },
   {
    "duration": 2,
    "start_time": "2023-06-19T19:48:30.574Z"
   },
   {
    "duration": 46,
    "start_time": "2023-06-19T19:48:31.574Z"
   },
   {
    "duration": 204,
    "start_time": "2023-06-19T19:48:34.291Z"
   },
   {
    "duration": 171,
    "start_time": "2023-06-19T19:48:37.005Z"
   },
   {
    "duration": 40,
    "start_time": "2023-06-19T19:48:42.564Z"
   },
   {
    "duration": 10,
    "start_time": "2023-06-19T19:48:57.884Z"
   },
   {
    "duration": 7,
    "start_time": "2023-06-19T19:49:02.578Z"
   },
   {
    "duration": 31,
    "start_time": "2023-06-19T19:49:10.747Z"
   },
   {
    "duration": 7,
    "start_time": "2023-06-19T19:49:24.686Z"
   },
   {
    "duration": 39,
    "start_time": "2023-06-19T19:49:29.145Z"
   },
   {
    "duration": 423,
    "start_time": "2023-06-19T19:49:35.491Z"
   },
   {
    "duration": 243,
    "start_time": "2023-06-19T19:49:38.048Z"
   },
   {
    "duration": 28,
    "start_time": "2023-06-19T19:49:45.598Z"
   },
   {
    "duration": 746,
    "start_time": "2023-06-19T19:49:53.250Z"
   },
   {
    "duration": 45,
    "start_time": "2023-06-19T19:50:02.901Z"
   },
   {
    "duration": 52,
    "start_time": "2023-06-19T19:50:08.967Z"
   },
   {
    "duration": 12,
    "start_time": "2023-06-19T19:51:12.491Z"
   },
   {
    "duration": 10,
    "start_time": "2023-06-19T19:51:18.981Z"
   },
   {
    "duration": 8,
    "start_time": "2023-06-19T19:51:22.343Z"
   },
   {
    "duration": 574,
    "start_time": "2023-06-19T19:52:06.097Z"
   },
   {
    "duration": 628,
    "start_time": "2023-06-19T19:52:28.881Z"
   },
   {
    "duration": 15,
    "start_time": "2023-06-19T19:52:31.791Z"
   },
   {
    "duration": 33,
    "start_time": "2023-06-19T19:52:37.207Z"
   },
   {
    "duration": 32,
    "start_time": "2023-06-19T19:52:44.555Z"
   },
   {
    "duration": 613,
    "start_time": "2023-06-19T19:53:19.709Z"
   },
   {
    "duration": 23,
    "start_time": "2023-06-19T19:53:23.514Z"
   },
   {
    "duration": 30,
    "start_time": "2023-06-19T19:53:24.978Z"
   },
   {
    "duration": 66,
    "start_time": "2023-06-19T19:55:16.095Z"
   },
   {
    "duration": 21,
    "start_time": "2023-06-19T19:55:21.555Z"
   },
   {
    "duration": 46,
    "start_time": "2023-06-19T19:55:30.329Z"
   },
   {
    "duration": 4,
    "start_time": "2023-06-19T19:55:54.745Z"
   },
   {
    "duration": 25,
    "start_time": "2023-06-19T19:55:57.091Z"
   },
   {
    "duration": 10,
    "start_time": "2023-06-19T19:56:14.216Z"
   },
   {
    "duration": 15,
    "start_time": "2023-06-19T19:56:33.835Z"
   },
   {
    "duration": 5,
    "start_time": "2023-06-19T19:58:00.067Z"
   },
   {
    "duration": 5,
    "start_time": "2023-06-19T19:58:19.713Z"
   },
   {
    "duration": 4,
    "start_time": "2023-06-19T20:01:30.637Z"
   },
   {
    "duration": 9,
    "start_time": "2023-06-19T20:02:10.212Z"
   },
   {
    "duration": 16,
    "start_time": "2023-06-19T20:02:18.477Z"
   },
   {
    "duration": 55,
    "start_time": "2023-06-19T20:02:21.655Z"
   },
   {
    "duration": 21,
    "start_time": "2023-06-19T20:02:59.894Z"
   },
   {
    "duration": 26,
    "start_time": "2023-06-19T20:03:04.852Z"
   },
   {
    "duration": 4,
    "start_time": "2023-06-19T20:05:33.063Z"
   },
   {
    "duration": 27,
    "start_time": "2023-06-19T20:05:56.035Z"
   },
   {
    "duration": 3,
    "start_time": "2023-06-19T20:06:10.445Z"
   },
   {
    "duration": 32,
    "start_time": "2023-06-19T20:06:12.950Z"
   },
   {
    "duration": 15,
    "start_time": "2023-06-19T20:06:20.058Z"
   },
   {
    "duration": 32,
    "start_time": "2023-06-19T20:06:27.450Z"
   },
   {
    "duration": 29,
    "start_time": "2023-06-19T20:06:46.510Z"
   },
   {
    "duration": 15,
    "start_time": "2023-06-19T20:07:07.825Z"
   },
   {
    "duration": 22,
    "start_time": "2023-06-19T20:07:24.837Z"
   },
   {
    "duration": 18,
    "start_time": "2023-06-19T20:08:28.838Z"
   },
   {
    "duration": 5,
    "start_time": "2023-06-19T20:10:22.733Z"
   },
   {
    "duration": 4,
    "start_time": "2023-06-19T20:11:23.276Z"
   },
   {
    "duration": 4,
    "start_time": "2023-06-19T20:12:05.182Z"
   },
   {
    "duration": 6,
    "start_time": "2023-06-19T20:12:10.087Z"
   },
   {
    "duration": 7,
    "start_time": "2023-06-19T20:12:29.782Z"
   },
   {
    "duration": 6,
    "start_time": "2023-06-19T20:12:32.872Z"
   },
   {
    "duration": 11,
    "start_time": "2023-06-19T20:12:49.049Z"
   },
   {
    "duration": 11,
    "start_time": "2023-06-19T20:14:13.342Z"
   },
   {
    "duration": 1722,
    "start_time": "2023-06-19T20:15:10.719Z"
   },
   {
    "duration": 1420,
    "start_time": "2023-06-19T20:15:23.880Z"
   },
   {
    "duration": 3,
    "start_time": "2023-06-19T20:18:08.348Z"
   },
   {
    "duration": 7,
    "start_time": "2023-06-19T20:18:24.149Z"
   },
   {
    "duration": 5,
    "start_time": "2023-06-19T20:18:47.261Z"
   },
   {
    "duration": 11,
    "start_time": "2023-06-19T20:19:17.670Z"
   },
   {
    "duration": 19,
    "start_time": "2023-06-19T20:20:48.593Z"
   },
   {
    "duration": 91,
    "start_time": "2023-06-19T20:20:53.514Z"
   },
   {
    "duration": 13,
    "start_time": "2023-06-19T20:20:56.097Z"
   },
   {
    "duration": 15,
    "start_time": "2023-06-19T20:21:03.497Z"
   },
   {
    "duration": 39,
    "start_time": "2023-06-19T20:23:03.718Z"
   },
   {
    "duration": 31,
    "start_time": "2023-06-19T20:23:50.494Z"
   },
   {
    "duration": 38,
    "start_time": "2023-06-19T20:23:55.466Z"
   },
   {
    "duration": 51,
    "start_time": "2023-06-19T20:24:13.248Z"
   },
   {
    "duration": 25,
    "start_time": "2023-06-19T20:25:04.974Z"
   },
   {
    "duration": 9,
    "start_time": "2023-06-19T20:25:12.847Z"
   },
   {
    "duration": 9,
    "start_time": "2023-06-19T20:25:17.598Z"
   },
   {
    "duration": 3,
    "start_time": "2023-06-19T20:25:28.047Z"
   },
   {
    "duration": 9,
    "start_time": "2023-06-19T20:25:31.318Z"
   },
   {
    "duration": 10,
    "start_time": "2023-06-19T20:25:33.535Z"
   },
   {
    "duration": 73,
    "start_time": "2023-06-19T20:30:46.152Z"
   },
   {
    "duration": 19,
    "start_time": "2023-06-19T20:31:04.468Z"
   },
   {
    "duration": 94,
    "start_time": "2023-06-19T20:31:13.623Z"
   },
   {
    "duration": 20,
    "start_time": "2023-06-19T20:34:53.213Z"
   },
   {
    "duration": 12,
    "start_time": "2023-06-19T20:34:59.990Z"
   },
   {
    "duration": 18,
    "start_time": "2023-06-19T20:35:25.878Z"
   },
   {
    "duration": 12,
    "start_time": "2023-06-19T20:35:46.623Z"
   },
   {
    "duration": 36,
    "start_time": "2023-06-19T20:37:36.728Z"
   },
   {
    "duration": 9,
    "start_time": "2023-06-19T20:37:46.005Z"
   },
   {
    "duration": 8,
    "start_time": "2023-06-19T20:38:08.137Z"
   },
   {
    "duration": 9,
    "start_time": "2023-06-19T20:38:09.322Z"
   },
   {
    "duration": 11,
    "start_time": "2023-06-19T20:38:25.073Z"
   },
   {
    "duration": 80,
    "start_time": "2023-06-19T20:39:05.923Z"
   },
   {
    "duration": 12,
    "start_time": "2023-06-19T20:40:28.938Z"
   },
   {
    "duration": 5,
    "start_time": "2023-06-19T20:40:37.178Z"
   },
   {
    "duration": 10,
    "start_time": "2023-06-19T20:42:50.439Z"
   },
   {
    "duration": 10,
    "start_time": "2023-06-19T20:43:07.999Z"
   },
   {
    "duration": 7,
    "start_time": "2023-06-19T20:43:11.413Z"
   },
   {
    "duration": 13,
    "start_time": "2023-06-19T20:43:18.847Z"
   },
   {
    "duration": 10,
    "start_time": "2023-06-19T20:43:29.388Z"
   },
   {
    "duration": 6,
    "start_time": "2023-06-19T20:43:32.702Z"
   },
   {
    "duration": 28,
    "start_time": "2023-06-19T20:44:22.794Z"
   },
   {
    "duration": 11,
    "start_time": "2023-06-19T20:44:37.709Z"
   },
   {
    "duration": 19,
    "start_time": "2023-06-19T20:44:58.838Z"
   },
   {
    "duration": 1094,
    "start_time": "2023-06-20T07:42:31.334Z"
   },
   {
    "duration": 3,
    "start_time": "2023-06-20T07:42:36.402Z"
   },
   {
    "duration": 924,
    "start_time": "2023-06-20T07:42:37.602Z"
   },
   {
    "duration": 872,
    "start_time": "2023-06-20T07:42:50.475Z"
   },
   {
    "duration": 66,
    "start_time": "2023-06-20T07:42:54.278Z"
   },
   {
    "duration": 19,
    "start_time": "2023-06-20T07:43:00.599Z"
   },
   {
    "duration": 78,
    "start_time": "2023-06-20T07:43:01.942Z"
   },
   {
    "duration": 5,
    "start_time": "2023-06-20T07:43:08.298Z"
   },
   {
    "duration": 132,
    "start_time": "2023-06-20T07:44:10.633Z"
   },
   {
    "duration": 22,
    "start_time": "2023-06-20T07:44:22.049Z"
   },
   {
    "duration": 12,
    "start_time": "2023-06-20T07:44:56.583Z"
   },
   {
    "duration": 21,
    "start_time": "2023-06-20T07:44:59.980Z"
   },
   {
    "duration": 18,
    "start_time": "2023-06-20T07:46:47.511Z"
   },
   {
    "duration": 10,
    "start_time": "2023-06-20T07:48:58.732Z"
   },
   {
    "duration": 17,
    "start_time": "2023-06-20T07:49:06.805Z"
   },
   {
    "duration": 237,
    "start_time": "2023-06-20T07:49:15.239Z"
   },
   {
    "duration": 26,
    "start_time": "2023-06-20T07:49:49.274Z"
   },
   {
    "duration": 39,
    "start_time": "2023-06-20T07:50:07.086Z"
   },
   {
    "duration": 134,
    "start_time": "2023-06-20T07:53:02.346Z"
   },
   {
    "duration": 10,
    "start_time": "2023-06-20T07:54:41.880Z"
   },
   {
    "duration": 61,
    "start_time": "2023-06-20T07:55:17.339Z"
   },
   {
    "duration": 53,
    "start_time": "2023-06-20T07:55:21.474Z"
   },
   {
    "duration": 69,
    "start_time": "2023-06-20T07:55:28.580Z"
   },
   {
    "duration": 51,
    "start_time": "2023-06-20T07:56:49.353Z"
   },
   {
    "duration": 7,
    "start_time": "2023-06-20T07:59:06.589Z"
   },
   {
    "duration": 20,
    "start_time": "2023-06-20T07:59:11.628Z"
   },
   {
    "duration": 66,
    "start_time": "2023-06-20T07:59:46.051Z"
   },
   {
    "duration": 46,
    "start_time": "2023-06-20T08:01:15.535Z"
   },
   {
    "duration": 128,
    "start_time": "2023-06-20T08:01:57.770Z"
   },
   {
    "duration": 37,
    "start_time": "2023-06-20T08:02:13.598Z"
   },
   {
    "duration": 69,
    "start_time": "2023-06-20T08:02:51.440Z"
   },
   {
    "duration": 135,
    "start_time": "2023-06-20T08:03:16.172Z"
   },
   {
    "duration": 164,
    "start_time": "2023-06-20T08:03:53.982Z"
   },
   {
    "duration": 234,
    "start_time": "2023-06-20T08:04:16.140Z"
   },
   {
    "duration": 246,
    "start_time": "2023-06-20T08:05:09.928Z"
   },
   {
    "duration": 3,
    "start_time": "2023-06-20T08:08:34.186Z"
   },
   {
    "duration": 9,
    "start_time": "2023-06-20T08:10:51.089Z"
   },
   {
    "duration": 278,
    "start_time": "2023-06-20T08:10:56.127Z"
   },
   {
    "duration": 3,
    "start_time": "2023-06-20T08:11:51.951Z"
   },
   {
    "duration": 76,
    "start_time": "2023-06-20T08:11:53.261Z"
   },
   {
    "duration": 4,
    "start_time": "2023-06-20T08:12:21.040Z"
   },
   {
    "duration": 150,
    "start_time": "2023-06-20T08:12:25.151Z"
   },
   {
    "duration": 102,
    "start_time": "2023-06-20T08:13:01.965Z"
   },
   {
    "duration": 3,
    "start_time": "2023-06-20T08:13:11.202Z"
   },
   {
    "duration": 46,
    "start_time": "2023-06-20T08:13:13.741Z"
   },
   {
    "duration": 9,
    "start_time": "2023-06-20T08:13:24.372Z"
   },
   {
    "duration": 5,
    "start_time": "2023-06-20T08:13:25.884Z"
   },
   {
    "duration": 164,
    "start_time": "2023-06-20T08:13:26.958Z"
   },
   {
    "duration": 100,
    "start_time": "2023-06-20T08:15:27.382Z"
   },
   {
    "duration": 74,
    "start_time": "2023-06-20T08:15:48.438Z"
   },
   {
    "duration": 42,
    "start_time": "2023-06-20T08:16:29.789Z"
   },
   {
    "duration": 3,
    "start_time": "2023-06-20T08:16:49.696Z"
   },
   {
    "duration": 608,
    "start_time": "2023-06-20T08:17:01.394Z"
   },
   {
    "duration": 7,
    "start_time": "2023-06-20T08:29:33.191Z"
   },
   {
    "duration": 6,
    "start_time": "2023-06-20T08:34:44.451Z"
   },
   {
    "duration": 5,
    "start_time": "2023-06-20T08:35:02.079Z"
   },
   {
    "duration": 7,
    "start_time": "2023-06-20T08:35:59.304Z"
   },
   {
    "duration": 9,
    "start_time": "2023-06-20T08:36:21.535Z"
   },
   {
    "duration": 9,
    "start_time": "2023-06-20T08:37:13.903Z"
   },
   {
    "duration": 13,
    "start_time": "2023-06-20T08:37:18.000Z"
   },
   {
    "duration": 8,
    "start_time": "2023-06-20T08:38:52.389Z"
   },
   {
    "duration": 9,
    "start_time": "2023-06-20T08:42:36.300Z"
   },
   {
    "duration": 4,
    "start_time": "2023-06-20T08:43:04.779Z"
   },
   {
    "duration": 5,
    "start_time": "2023-06-20T08:43:08.938Z"
   },
   {
    "duration": 34,
    "start_time": "2023-06-20T08:44:34.351Z"
   },
   {
    "duration": 101,
    "start_time": "2023-06-20T08:45:02.090Z"
   },
   {
    "duration": 59,
    "start_time": "2023-06-20T08:45:09.597Z"
   },
   {
    "duration": 40,
    "start_time": "2023-06-20T08:45:33.122Z"
   },
   {
    "duration": 48,
    "start_time": "2023-06-20T08:45:37.668Z"
   },
   {
    "duration": 87,
    "start_time": "2023-06-20T08:45:42.564Z"
   },
   {
    "duration": 10,
    "start_time": "2023-06-20T08:45:59.040Z"
   },
   {
    "duration": 12,
    "start_time": "2023-06-20T08:47:23.616Z"
   },
   {
    "duration": 12,
    "start_time": "2023-06-20T08:47:42.978Z"
   },
   {
    "duration": 7,
    "start_time": "2023-06-20T08:48:07.461Z"
   },
   {
    "duration": 9,
    "start_time": "2023-06-20T08:48:10.324Z"
   },
   {
    "duration": 9,
    "start_time": "2023-06-20T08:51:12.742Z"
   },
   {
    "duration": 3,
    "start_time": "2023-06-20T08:51:19.523Z"
   },
   {
    "duration": 3,
    "start_time": "2023-06-20T08:52:21.036Z"
   },
   {
    "duration": 9,
    "start_time": "2023-06-20T08:53:04.361Z"
   },
   {
    "duration": 6,
    "start_time": "2023-06-20T08:54:33.359Z"
   },
   {
    "duration": 599,
    "start_time": "2023-06-20T08:54:42.160Z"
   },
   {
    "duration": 2674,
    "start_time": "2023-06-20T08:58:31.895Z"
   },
   {
    "duration": 102,
    "start_time": "2023-06-20T08:58:51.863Z"
   },
   {
    "duration": 4,
    "start_time": "2023-06-20T09:01:32.521Z"
   },
   {
    "duration": 60,
    "start_time": "2023-06-20T09:02:27.277Z"
   },
   {
    "duration": 102,
    "start_time": "2023-06-20T09:02:42.112Z"
   },
   {
    "duration": 123,
    "start_time": "2023-06-20T09:02:52.147Z"
   },
   {
    "duration": 55,
    "start_time": "2023-06-20T09:03:55.513Z"
   },
   {
    "duration": 74,
    "start_time": "2023-06-20T09:04:35.504Z"
   },
   {
    "duration": 97,
    "start_time": "2023-06-20T09:05:14.067Z"
   },
   {
    "duration": 85,
    "start_time": "2023-06-20T09:05:30.154Z"
   },
   {
    "duration": 38,
    "start_time": "2023-06-20T09:05:44.039Z"
   },
   {
    "duration": 42,
    "start_time": "2023-06-20T09:06:03.071Z"
   },
   {
    "duration": 81,
    "start_time": "2023-06-20T09:06:15.341Z"
   },
   {
    "duration": 47,
    "start_time": "2023-06-20T09:06:48.582Z"
   },
   {
    "duration": 43,
    "start_time": "2023-06-20T09:07:00.281Z"
   },
   {
    "duration": 81,
    "start_time": "2023-06-20T09:07:11.381Z"
   },
   {
    "duration": 125,
    "start_time": "2023-06-20T09:08:00.243Z"
   },
   {
    "duration": 132,
    "start_time": "2023-06-20T09:15:06.814Z"
   },
   {
    "duration": 3,
    "start_time": "2023-06-20T09:15:11.102Z"
   },
   {
    "duration": 6,
    "start_time": "2023-06-20T09:15:40.145Z"
   },
   {
    "duration": 78,
    "start_time": "2023-06-20T09:15:43.840Z"
   },
   {
    "duration": 535,
    "start_time": "2023-06-20T09:15:57.961Z"
   },
   {
    "duration": 65,
    "start_time": "2023-06-20T09:15:59.866Z"
   },
   {
    "duration": 636,
    "start_time": "2023-06-20T09:16:22.329Z"
   },
   {
    "duration": 25,
    "start_time": "2023-06-20T09:16:24.779Z"
   },
   {
    "duration": 59,
    "start_time": "2023-06-20T09:16:27.020Z"
   },
   {
    "duration": 5,
    "start_time": "2023-06-20T09:16:30.803Z"
   },
   {
    "duration": 22,
    "start_time": "2023-06-20T09:16:33.144Z"
   },
   {
    "duration": 6,
    "start_time": "2023-06-20T09:16:36.662Z"
   },
   {
    "duration": 5,
    "start_time": "2023-06-20T09:16:38.122Z"
   },
   {
    "duration": 3,
    "start_time": "2023-06-20T09:16:39.379Z"
   },
   {
    "duration": 577,
    "start_time": "2023-06-20T09:16:41.326Z"
   },
   {
    "duration": 4,
    "start_time": "2023-06-20T09:16:44.606Z"
   },
   {
    "duration": 3,
    "start_time": "2023-06-20T09:16:46.797Z"
   },
   {
    "duration": 5,
    "start_time": "2023-06-20T09:16:48.230Z"
   },
   {
    "duration": 17,
    "start_time": "2023-06-20T09:16:54.244Z"
   },
   {
    "duration": 3,
    "start_time": "2023-06-20T09:16:56.735Z"
   },
   {
    "duration": 18,
    "start_time": "2023-06-20T09:16:58.045Z"
   },
   {
    "duration": 48,
    "start_time": "2023-06-20T09:17:12.261Z"
   },
   {
    "duration": 18,
    "start_time": "2023-06-20T09:17:27.984Z"
   },
   {
    "duration": 922,
    "start_time": "2023-06-20T09:21:21.979Z"
   },
   {
    "duration": 49,
    "start_time": "2023-06-20T09:21:26.162Z"
   },
   {
    "duration": 4,
    "start_time": "2023-06-20T09:24:01.579Z"
   },
   {
    "duration": 1480,
    "start_time": "2023-06-20T09:24:04.191Z"
   },
   {
    "duration": 40,
    "start_time": "2023-06-20T09:24:09.048Z"
   },
   {
    "duration": 10,
    "start_time": "2023-06-20T09:29:54.415Z"
   },
   {
    "duration": 102,
    "start_time": "2023-06-20T09:30:28.194Z"
   },
   {
    "duration": 75,
    "start_time": "2023-06-20T09:30:31.837Z"
   },
   {
    "duration": 70,
    "start_time": "2023-06-20T09:30:54.640Z"
   },
   {
    "duration": 308,
    "start_time": "2023-06-20T09:31:38.746Z"
   },
   {
    "duration": 168,
    "start_time": "2023-06-20T09:31:43.492Z"
   },
   {
    "duration": 89,
    "start_time": "2023-06-20T09:31:48.799Z"
   },
   {
    "duration": 106,
    "start_time": "2023-06-20T09:31:57.346Z"
   },
   {
    "duration": 83,
    "start_time": "2023-06-20T09:32:07.010Z"
   },
   {
    "duration": 89,
    "start_time": "2023-06-20T09:32:13.054Z"
   },
   {
    "duration": 73,
    "start_time": "2023-06-20T09:32:20.633Z"
   },
   {
    "duration": 15,
    "start_time": "2023-06-20T09:36:02.476Z"
   },
   {
    "duration": 7,
    "start_time": "2023-06-20T09:36:07.792Z"
   },
   {
    "duration": 11,
    "start_time": "2023-06-20T09:36:13.482Z"
   },
   {
    "duration": 5,
    "start_time": "2023-06-20T09:37:55.842Z"
   },
   {
    "duration": 5,
    "start_time": "2023-06-20T09:42:54.492Z"
   },
   {
    "duration": 4,
    "start_time": "2023-06-20T09:43:00.934Z"
   },
   {
    "duration": 3698,
    "start_time": "2023-06-20T09:43:15.050Z"
   },
   {
    "duration": 5,
    "start_time": "2023-06-20T09:43:27.993Z"
   },
   {
    "duration": 3873,
    "start_time": "2023-06-20T09:43:29.823Z"
   },
   {
    "duration": 9,
    "start_time": "2023-06-20T09:46:08.653Z"
   },
   {
    "duration": 5255,
    "start_time": "2023-06-20T09:46:11.030Z"
   },
   {
    "duration": 5396,
    "start_time": "2023-06-20T09:46:40.898Z"
   },
   {
    "duration": 5356,
    "start_time": "2023-06-20T09:46:53.747Z"
   },
   {
    "duration": 7,
    "start_time": "2023-06-20T09:47:18.814Z"
   },
   {
    "duration": 5,
    "start_time": "2023-06-20T09:50:52.201Z"
   },
   {
    "duration": 7,
    "start_time": "2023-06-20T09:53:31.431Z"
   },
   {
    "duration": 6,
    "start_time": "2023-06-20T09:58:28.719Z"
   },
   {
    "duration": 7,
    "start_time": "2023-06-20T10:00:13.619Z"
   },
   {
    "duration": 6,
    "start_time": "2023-06-20T10:00:18.198Z"
   },
   {
    "duration": 10,
    "start_time": "2023-06-20T10:00:51.941Z"
   },
   {
    "duration": 20,
    "start_time": "2023-06-20T10:00:57.146Z"
   },
   {
    "duration": 5,
    "start_time": "2023-06-20T10:01:05.711Z"
   },
   {
    "duration": 89,
    "start_time": "2023-06-20T10:02:16.621Z"
   },
   {
    "duration": 4,
    "start_time": "2023-06-20T10:02:21.324Z"
   },
   {
    "duration": 5,
    "start_time": "2023-06-20T10:02:28.845Z"
   },
   {
    "duration": 797,
    "start_time": "2023-06-20T10:02:44.234Z"
   },
   {
    "duration": 5,
    "start_time": "2023-06-20T10:03:55.191Z"
   },
   {
    "duration": 4,
    "start_time": "2023-06-20T10:03:59.721Z"
   },
   {
    "duration": 6,
    "start_time": "2023-06-20T10:04:25.451Z"
   },
   {
    "duration": 10,
    "start_time": "2023-06-20T10:05:38.877Z"
   },
   {
    "duration": 12,
    "start_time": "2023-06-20T10:08:20.854Z"
   },
   {
    "duration": 9,
    "start_time": "2023-06-20T10:08:30.938Z"
   },
   {
    "duration": 6,
    "start_time": "2023-06-20T10:08:47.309Z"
   },
   {
    "duration": 7,
    "start_time": "2023-06-20T10:09:44.451Z"
   },
   {
    "duration": 4,
    "start_time": "2023-06-20T10:10:08.114Z"
   },
   {
    "duration": 5,
    "start_time": "2023-06-20T10:10:10.124Z"
   },
   {
    "duration": 9,
    "start_time": "2023-06-20T10:10:17.994Z"
   },
   {
    "duration": 5,
    "start_time": "2023-06-20T10:10:27.844Z"
   },
   {
    "duration": 5,
    "start_time": "2023-06-20T10:13:16.461Z"
   },
   {
    "duration": 7,
    "start_time": "2023-06-20T10:18:14.921Z"
   },
   {
    "duration": 11,
    "start_time": "2023-06-20T10:22:41.963Z"
   },
   {
    "duration": 149,
    "start_time": "2023-06-20T10:22:50.423Z"
   },
   {
    "duration": 12,
    "start_time": "2023-06-20T10:23:52.010Z"
   },
   {
    "duration": 195,
    "start_time": "2023-06-20T10:23:53.510Z"
   },
   {
    "duration": 12,
    "start_time": "2023-06-20T10:24:30.670Z"
   },
   {
    "duration": 471,
    "start_time": "2023-06-20T10:24:34.166Z"
   },
   {
    "duration": 7,
    "start_time": "2023-06-20T10:24:43.139Z"
   },
   {
    "duration": 15,
    "start_time": "2023-06-20T10:25:06.867Z"
   },
   {
    "duration": 10785,
    "start_time": "2023-06-20T10:25:08.310Z"
   },
   {
    "duration": 7,
    "start_time": "2023-06-20T10:25:21.525Z"
   },
   {
    "duration": 10,
    "start_time": "2023-06-20T10:26:38.521Z"
   },
   {
    "duration": 10700,
    "start_time": "2023-06-20T10:26:43.356Z"
   },
   {
    "duration": 5,
    "start_time": "2023-06-20T10:26:57.901Z"
   },
   {
    "duration": 11,
    "start_time": "2023-06-20T10:27:07.797Z"
   },
   {
    "duration": 10775,
    "start_time": "2023-06-20T10:27:10.107Z"
   },
   {
    "duration": 8,
    "start_time": "2023-06-20T10:27:34.513Z"
   },
   {
    "duration": 11602,
    "start_time": "2023-06-20T10:27:36.008Z"
   },
   {
    "duration": 5,
    "start_time": "2023-06-20T10:27:49.403Z"
   },
   {
    "duration": 11,
    "start_time": "2023-06-20T10:29:47.870Z"
   },
   {
    "duration": 11,
    "start_time": "2023-06-20T10:30:10.671Z"
   },
   {
    "duration": 87,
    "start_time": "2023-06-20T10:35:35.438Z"
   },
   {
    "duration": 9363,
    "start_time": "2023-06-20T10:35:38.671Z"
   },
   {
    "duration": 9,
    "start_time": "2023-06-20T10:36:04.291Z"
   },
   {
    "duration": 9583,
    "start_time": "2023-06-20T10:36:07.356Z"
   },
   {
    "duration": 5,
    "start_time": "2023-06-20T10:36:19.189Z"
   },
   {
    "duration": 78,
    "start_time": "2023-06-20T12:25:47.510Z"
   },
   {
    "duration": 6,
    "start_time": "2023-06-20T12:28:22.980Z"
   },
   {
    "duration": 4,
    "start_time": "2023-06-20T12:28:25.739Z"
   },
   {
    "duration": 5,
    "start_time": "2023-06-20T12:29:33.044Z"
   },
   {
    "duration": 4,
    "start_time": "2023-06-20T12:31:31.931Z"
   },
   {
    "duration": 7,
    "start_time": "2023-06-20T12:31:42.276Z"
   },
   {
    "duration": 5,
    "start_time": "2023-06-20T12:35:24.163Z"
   },
   {
    "duration": 11,
    "start_time": "2023-06-20T12:35:36.536Z"
   },
   {
    "duration": 9,
    "start_time": "2023-06-20T12:35:47.438Z"
   },
   {
    "duration": 72,
    "start_time": "2023-06-20T12:35:49.628Z"
   },
   {
    "duration": 10,
    "start_time": "2023-06-20T12:35:57.614Z"
   },
   {
    "duration": 779,
    "start_time": "2023-06-20T12:35:59.768Z"
   },
   {
    "duration": 756,
    "start_time": "2023-06-20T12:36:33.006Z"
   },
   {
    "duration": 5,
    "start_time": "2023-06-20T12:36:39.916Z"
   },
   {
    "duration": 4,
    "start_time": "2023-06-20T12:39:11.543Z"
   },
   {
    "duration": 749,
    "start_time": "2023-06-20T12:39:13.106Z"
   },
   {
    "duration": 133,
    "start_time": "2023-06-20T12:43:48.096Z"
   },
   {
    "duration": 4,
    "start_time": "2023-06-20T12:43:52.028Z"
   },
   {
    "duration": 22,
    "start_time": "2023-06-20T12:44:35.064Z"
   },
   {
    "duration": 1040,
    "start_time": "2023-06-20T12:44:37.006Z"
   },
   {
    "duration": 12,
    "start_time": "2023-06-20T12:44:40.868Z"
   },
   {
    "duration": 9,
    "start_time": "2023-06-20T12:46:08.744Z"
   },
   {
    "duration": 1860,
    "start_time": "2023-06-20T12:46:10.571Z"
   },
   {
    "duration": 15,
    "start_time": "2023-06-20T12:46:14.870Z"
   },
   {
    "duration": 7,
    "start_time": "2023-06-20T12:46:28.028Z"
   },
   {
    "duration": 1955,
    "start_time": "2023-06-20T12:46:31.395Z"
   },
   {
    "duration": 7,
    "start_time": "2023-06-20T12:47:07.831Z"
   },
   {
    "duration": 17890,
    "start_time": "2023-06-20T12:47:16.638Z"
   },
   {
    "duration": 12,
    "start_time": "2023-06-20T12:53:34.694Z"
   },
   {
    "duration": 933,
    "start_time": "2023-06-20T12:53:42.412Z"
   },
   {
    "duration": 7,
    "start_time": "2023-06-20T12:55:14.627Z"
   },
   {
    "duration": 1120,
    "start_time": "2023-06-20T12:55:17.067Z"
   },
   {
    "duration": 6,
    "start_time": "2023-06-20T12:55:35.819Z"
   },
   {
    "duration": 10,
    "start_time": "2023-06-20T12:55:59.379Z"
   },
   {
    "duration": 870,
    "start_time": "2023-06-20T12:56:00.449Z"
   },
   {
    "duration": 6,
    "start_time": "2023-06-20T12:57:45.398Z"
   },
   {
    "duration": 884,
    "start_time": "2023-06-20T12:57:46.770Z"
   },
   {
    "duration": 9,
    "start_time": "2023-06-20T12:57:53.414Z"
   },
   {
    "duration": 875,
    "start_time": "2023-06-20T12:58:07.900Z"
   },
   {
    "duration": 11,
    "start_time": "2023-06-20T12:58:24.998Z"
   },
   {
    "duration": 4,
    "start_time": "2023-06-20T12:58:28.571Z"
   },
   {
    "duration": 22434,
    "start_time": "2023-06-20T12:59:23.570Z"
   },
   {
    "duration": 8,
    "start_time": "2023-06-20T13:00:17.990Z"
   },
   {
    "duration": 20106,
    "start_time": "2023-06-20T13:00:26.428Z"
   },
   {
    "duration": 7507,
    "start_time": "2023-06-20T13:01:39.970Z"
   },
   {
    "duration": 18385,
    "start_time": "2023-06-20T13:01:52.014Z"
   },
   {
    "duration": 5,
    "start_time": "2023-06-20T13:05:41.091Z"
   },
   {
    "duration": 81,
    "start_time": "2023-06-20T13:06:23.496Z"
   },
   {
    "duration": 154,
    "start_time": "2023-06-20T13:06:29.807Z"
   },
   {
    "duration": 122,
    "start_time": "2023-06-20T13:06:32.992Z"
   },
   {
    "duration": 122,
    "start_time": "2023-06-20T13:09:55.952Z"
   },
   {
    "duration": 119,
    "start_time": "2023-06-20T13:10:00.656Z"
   },
   {
    "duration": 264,
    "start_time": "2023-06-20T13:10:02.715Z"
   },
   {
    "duration": 98,
    "start_time": "2023-06-20T13:10:06.328Z"
   },
   {
    "duration": 151,
    "start_time": "2023-06-20T13:10:08.629Z"
   },
   {
    "duration": 120,
    "start_time": "2023-06-20T13:10:12.706Z"
   },
   {
    "duration": 102,
    "start_time": "2023-06-20T13:12:11.824Z"
   },
   {
    "duration": 222,
    "start_time": "2023-06-20T13:12:17.680Z"
   },
   {
    "duration": 6,
    "start_time": "2023-06-20T13:13:07.301Z"
   },
   {
    "duration": 136,
    "start_time": "2023-06-20T13:13:19.306Z"
   },
   {
    "duration": 177,
    "start_time": "2023-06-20T13:13:30.702Z"
   },
   {
    "duration": 5,
    "start_time": "2023-06-20T13:13:35.395Z"
   },
   {
    "duration": 5,
    "start_time": "2023-06-20T13:13:49.294Z"
   },
   {
    "duration": 6,
    "start_time": "2023-06-20T13:14:32.599Z"
   },
   {
    "duration": 3,
    "start_time": "2023-06-20T13:16:54.909Z"
   },
   {
    "duration": 3,
    "start_time": "2023-06-20T13:17:04.068Z"
   },
   {
    "duration": 16696,
    "start_time": "2023-06-20T13:17:26.310Z"
   },
   {
    "duration": 8,
    "start_time": "2023-06-20T13:18:09.028Z"
   },
   {
    "duration": 14455,
    "start_time": "2023-06-20T13:21:26.242Z"
   },
   {
    "duration": 8,
    "start_time": "2023-06-20T13:22:59.855Z"
   },
   {
    "duration": 828,
    "start_time": "2023-06-20T16:31:45.730Z"
   },
   {
    "duration": 660,
    "start_time": "2023-06-20T16:31:59.736Z"
   },
   {
    "duration": 87,
    "start_time": "2023-06-20T16:33:34.335Z"
   },
   {
    "duration": 236,
    "start_time": "2023-06-20T16:33:36.630Z"
   },
   {
    "duration": 7,
    "start_time": "2023-06-20T16:33:40.012Z"
   },
   {
    "duration": 19,
    "start_time": "2023-06-20T16:33:41.525Z"
   },
   {
    "duration": 6,
    "start_time": "2023-06-20T16:33:44.642Z"
   },
   {
    "duration": 3,
    "start_time": "2023-06-20T16:33:47.347Z"
   },
   {
    "duration": 3,
    "start_time": "2023-06-20T16:33:50.060Z"
   },
   {
    "duration": 596,
    "start_time": "2023-06-20T16:33:53.102Z"
   },
   {
    "duration": 5,
    "start_time": "2023-06-20T16:33:56.499Z"
   },
   {
    "duration": 3,
    "start_time": "2023-06-20T16:34:05.821Z"
   },
   {
    "duration": 3,
    "start_time": "2023-06-20T16:34:06.799Z"
   },
   {
    "duration": 3,
    "start_time": "2023-06-20T16:34:08.593Z"
   },
   {
    "duration": 3,
    "start_time": "2023-06-20T16:34:11.846Z"
   },
   {
    "duration": 1431,
    "start_time": "2023-06-20T16:34:13.071Z"
   },
   {
    "duration": 8,
    "start_time": "2023-06-20T16:34:15.568Z"
   },
   {
    "duration": 5,
    "start_time": "2023-06-20T16:34:18.771Z"
   },
   {
    "duration": 5,
    "start_time": "2023-06-20T16:34:21.149Z"
   },
   {
    "duration": 13627,
    "start_time": "2023-06-20T16:34:23.737Z"
   },
   {
    "duration": 12,
    "start_time": "2023-06-20T16:35:13.024Z"
   },
   {
    "duration": 12405,
    "start_time": "2023-06-20T16:35:16.070Z"
   },
   {
    "duration": 7,
    "start_time": "2023-06-20T16:37:03.029Z"
   },
   {
    "duration": 25,
    "start_time": "2023-06-20T17:25:37.865Z"
   },
   {
    "duration": 3,
    "start_time": "2023-06-20T17:27:56.615Z"
   },
   {
    "duration": 3,
    "start_time": "2023-06-20T17:28:18.794Z"
   },
   {
    "duration": 16,
    "start_time": "2023-06-20T17:28:31.782Z"
   },
   {
    "duration": 4,
    "start_time": "2023-06-20T17:29:51.770Z"
   },
   {
    "duration": 9,
    "start_time": "2023-06-20T17:29:53.112Z"
   },
   {
    "duration": 54,
    "start_time": "2023-06-20T17:30:04.055Z"
   },
   {
    "duration": 21,
    "start_time": "2023-06-20T17:30:43.849Z"
   },
   {
    "duration": 3,
    "start_time": "2023-06-20T17:31:17.828Z"
   },
   {
    "duration": 15,
    "start_time": "2023-06-20T17:31:18.894Z"
   },
   {
    "duration": 4,
    "start_time": "2023-06-20T17:31:30.800Z"
   },
   {
    "duration": 4,
    "start_time": "2023-06-20T17:31:34.406Z"
   },
   {
    "duration": 4,
    "start_time": "2023-06-20T17:31:39.548Z"
   },
   {
    "duration": 14,
    "start_time": "2023-06-20T17:32:28.195Z"
   },
   {
    "duration": 14,
    "start_time": "2023-06-20T17:33:04.513Z"
   },
   {
    "duration": 4,
    "start_time": "2023-06-20T17:33:18.782Z"
   },
   {
    "duration": 45,
    "start_time": "2023-06-20T17:33:23.278Z"
   },
   {
    "duration": 4,
    "start_time": "2023-06-20T17:33:33.063Z"
   },
   {
    "duration": 10509,
    "start_time": "2023-06-20T17:33:59.553Z"
   },
   {
    "duration": 42,
    "start_time": "2023-06-20T17:34:23.432Z"
   },
   {
    "duration": 23,
    "start_time": "2023-06-20T17:34:26.547Z"
   },
   {
    "duration": 5,
    "start_time": "2023-06-20T17:38:40.357Z"
   },
   {
    "duration": 734,
    "start_time": "2023-06-20T17:41:57.576Z"
   },
   {
    "duration": 41,
    "start_time": "2023-06-20T17:43:02.509Z"
   },
   {
    "duration": 4,
    "start_time": "2023-06-20T17:43:26.771Z"
   },
   {
    "duration": 3,
    "start_time": "2023-06-20T17:43:32.996Z"
   },
   {
    "duration": 15,
    "start_time": "2023-06-20T17:44:41.677Z"
   },
   {
    "duration": 3,
    "start_time": "2023-06-20T17:44:58.162Z"
   },
   {
    "duration": 14,
    "start_time": "2023-06-20T17:45:06.242Z"
   },
   {
    "duration": 5,
    "start_time": "2023-06-20T17:45:52.227Z"
   },
   {
    "duration": 207,
    "start_time": "2023-06-20T17:47:10.139Z"
   },
   {
    "duration": 4,
    "start_time": "2023-06-20T17:47:16.340Z"
   },
   {
    "duration": 10,
    "start_time": "2023-06-20T17:47:18.511Z"
   },
   {
    "duration": 8962,
    "start_time": "2023-06-20T17:48:52.171Z"
   },
   {
    "duration": 14,
    "start_time": "2023-06-20T17:49:08.705Z"
   },
   {
    "duration": 10,
    "start_time": "2023-06-20T17:49:27.391Z"
   },
   {
    "duration": 9,
    "start_time": "2023-06-20T17:49:35.136Z"
   },
   {
    "duration": 3,
    "start_time": "2023-06-20T17:51:39.361Z"
   },
   {
    "duration": 9,
    "start_time": "2023-06-20T17:51:47.668Z"
   },
   {
    "duration": 3,
    "start_time": "2023-06-20T17:53:21.451Z"
   },
   {
    "duration": 10,
    "start_time": "2023-06-20T17:53:57.559Z"
   },
   {
    "duration": 3,
    "start_time": "2023-06-20T17:54:40.810Z"
   },
   {
    "duration": 12,
    "start_time": "2023-06-20T17:54:54.812Z"
   },
   {
    "duration": 4,
    "start_time": "2023-06-20T17:56:09.520Z"
   },
   {
    "duration": 5,
    "start_time": "2023-06-20T17:56:33.473Z"
   },
   {
    "duration": 15,
    "start_time": "2023-06-20T17:59:28.268Z"
   },
   {
    "duration": 721,
    "start_time": "2023-06-20T18:00:31.273Z"
   },
   {
    "duration": 6037,
    "start_time": "2023-06-20T18:00:45.219Z"
   },
   {
    "duration": 20,
    "start_time": "2023-06-20T18:02:49.319Z"
   },
   {
    "duration": 10,
    "start_time": "2023-06-20T18:03:01.587Z"
   },
   {
    "duration": 3,
    "start_time": "2023-06-20T18:04:31.545Z"
   },
   {
    "duration": 4,
    "start_time": "2023-06-20T18:04:42.073Z"
   },
   {
    "duration": 3,
    "start_time": "2023-06-20T18:04:48.821Z"
   },
   {
    "duration": 18,
    "start_time": "2023-06-20T18:06:03.912Z"
   },
   {
    "duration": 6,
    "start_time": "2023-06-20T18:06:45.947Z"
   },
   {
    "duration": 14,
    "start_time": "2023-06-20T18:06:49.638Z"
   },
   {
    "duration": 5563,
    "start_time": "2023-06-20T18:07:02.833Z"
   },
   {
    "duration": 3423,
    "start_time": "2023-06-20T18:07:12.521Z"
   },
   {
    "duration": 4,
    "start_time": "2023-06-20T18:14:17.879Z"
   },
   {
    "duration": 1533,
    "start_time": "2023-06-20T18:14:19.647Z"
   },
   {
    "duration": 2973,
    "start_time": "2023-06-20T18:14:44.990Z"
   },
   {
    "duration": 2627,
    "start_time": "2023-06-20T18:15:10.522Z"
   },
   {
    "duration": 2252,
    "start_time": "2023-06-20T18:15:29.168Z"
   },
   {
    "duration": 1266,
    "start_time": "2023-06-20T18:21:19.756Z"
   },
   {
    "duration": 58,
    "start_time": "2023-06-20T18:21:23.989Z"
   },
   {
    "duration": 3,
    "start_time": "2023-06-20T18:21:26.353Z"
   },
   {
    "duration": 3,
    "start_time": "2023-06-20T18:21:27.810Z"
   },
   {
    "duration": 601,
    "start_time": "2023-06-20T18:22:34.434Z"
   },
   {
    "duration": 73,
    "start_time": "2023-06-20T18:22:38.622Z"
   },
   {
    "duration": 226,
    "start_time": "2023-06-20T18:22:40.945Z"
   },
   {
    "duration": 6,
    "start_time": "2023-06-20T18:22:43.500Z"
   },
   {
    "duration": 17,
    "start_time": "2023-06-20T18:22:45.745Z"
   },
   {
    "duration": 7,
    "start_time": "2023-06-20T18:22:48.481Z"
   },
   {
    "duration": 3,
    "start_time": "2023-06-20T18:22:50.524Z"
   },
   {
    "duration": 4,
    "start_time": "2023-06-20T18:22:51.722Z"
   },
   {
    "duration": 694,
    "start_time": "2023-06-20T18:22:52.891Z"
   },
   {
    "duration": 3,
    "start_time": "2023-06-20T18:22:55.438Z"
   },
   {
    "duration": 3,
    "start_time": "2023-06-20T18:22:56.573Z"
   },
   {
    "duration": 5,
    "start_time": "2023-06-20T18:22:57.912Z"
   },
   {
    "duration": 3,
    "start_time": "2023-06-20T18:22:59.824Z"
   },
   {
    "duration": 1484,
    "start_time": "2023-06-20T18:23:00.918Z"
   },
   {
    "duration": 9,
    "start_time": "2023-06-20T18:23:03.757Z"
   },
   {
    "duration": 5,
    "start_time": "2023-06-20T18:23:06.470Z"
   },
   {
    "duration": 5,
    "start_time": "2023-06-20T18:23:08.756Z"
   },
   {
    "duration": 18465,
    "start_time": "2023-06-20T18:23:10.406Z"
   },
   {
    "duration": 13,
    "start_time": "2023-06-20T18:23:32.809Z"
   },
   {
    "duration": 16975,
    "start_time": "2023-06-20T18:23:35.221Z"
   },
   {
    "duration": 7,
    "start_time": "2023-06-20T18:23:54.022Z"
   },
   {
    "duration": 4,
    "start_time": "2023-06-20T18:23:57.050Z"
   },
   {
    "duration": 4,
    "start_time": "2023-06-20T18:23:58.149Z"
   },
   {
    "duration": 16,
    "start_time": "2023-06-20T18:23:59.454Z"
   },
   {
    "duration": 6,
    "start_time": "2023-06-20T18:24:01.548Z"
   },
   {
    "duration": 8,
    "start_time": "2023-06-20T18:24:02.601Z"
   },
   {
    "duration": 5,
    "start_time": "2023-06-20T18:24:04.516Z"
   },
   {
    "duration": 3,
    "start_time": "2023-06-20T18:25:24.557Z"
   },
   {
    "duration": 3,
    "start_time": "2023-06-20T18:25:30.282Z"
   },
   {
    "duration": 1495,
    "start_time": "2023-06-21T07:30:52.650Z"
   },
   {
    "duration": 667,
    "start_time": "2023-06-21T07:31:01.536Z"
   },
   {
    "duration": 85,
    "start_time": "2023-06-21T07:31:03.257Z"
   },
   {
    "duration": 264,
    "start_time": "2023-06-21T07:31:05.170Z"
   },
   {
    "duration": 4,
    "start_time": "2023-06-21T07:31:07.737Z"
   },
   {
    "duration": 14,
    "start_time": "2023-06-21T07:31:09.345Z"
   },
   {
    "duration": 7,
    "start_time": "2023-06-21T07:31:11.556Z"
   },
   {
    "duration": 3,
    "start_time": "2023-06-21T07:31:12.801Z"
   },
   {
    "duration": 4,
    "start_time": "2023-06-21T07:31:14.424Z"
   },
   {
    "duration": 659,
    "start_time": "2023-06-21T07:31:16.055Z"
   },
   {
    "duration": 3,
    "start_time": "2023-06-21T07:31:18.740Z"
   },
   {
    "duration": 2,
    "start_time": "2023-06-21T07:31:20.145Z"
   },
   {
    "duration": 4,
    "start_time": "2023-06-21T07:31:21.338Z"
   },
   {
    "duration": 3,
    "start_time": "2023-06-21T07:31:23.425Z"
   },
   {
    "duration": 1154,
    "start_time": "2023-06-21T07:31:24.733Z"
   },
   {
    "duration": 10,
    "start_time": "2023-06-21T07:31:27.378Z"
   },
   {
    "duration": 5,
    "start_time": "2023-06-21T07:31:29.851Z"
   },
   {
    "duration": 4,
    "start_time": "2023-06-21T07:31:33.812Z"
   },
   {
    "duration": 14872,
    "start_time": "2023-06-21T07:31:36.136Z"
   },
   {
    "duration": 7,
    "start_time": "2023-06-21T07:32:26.349Z"
   },
   {
    "duration": 13827,
    "start_time": "2023-06-21T07:32:29.337Z"
   },
   {
    "duration": 6,
    "start_time": "2023-06-21T07:32:55.608Z"
   },
   {
    "duration": 3,
    "start_time": "2023-06-21T07:32:58.115Z"
   },
   {
    "duration": 3,
    "start_time": "2023-06-21T07:32:59.526Z"
   },
   {
    "duration": 13,
    "start_time": "2023-06-21T07:33:01.226Z"
   },
   {
    "duration": 3,
    "start_time": "2023-06-21T07:33:03.102Z"
   },
   {
    "duration": 3,
    "start_time": "2023-06-21T07:33:05.131Z"
   },
   {
    "duration": 3,
    "start_time": "2023-06-21T07:33:07.004Z"
   },
   {
    "duration": 9,
    "start_time": "2023-06-21T07:33:10.154Z"
   },
   {
    "duration": 9,
    "start_time": "2023-06-21T07:34:01.945Z"
   },
   {
    "duration": 3,
    "start_time": "2023-06-21T07:34:26.541Z"
   },
   {
    "duration": 9,
    "start_time": "2023-06-21T07:34:28.009Z"
   },
   {
    "duration": 3,
    "start_time": "2023-06-21T07:35:41.459Z"
   },
   {
    "duration": 7,
    "start_time": "2023-06-21T07:36:13.276Z"
   },
   {
    "duration": 12,
    "start_time": "2023-06-21T07:36:26.838Z"
   },
   {
    "duration": 6,
    "start_time": "2023-06-21T07:36:34.430Z"
   },
   {
    "duration": 3,
    "start_time": "2023-06-21T07:37:59.716Z"
   },
   {
    "duration": 83,
    "start_time": "2023-06-21T07:38:15.142Z"
   },
   {
    "duration": 77,
    "start_time": "2023-06-21T07:38:37.467Z"
   },
   {
    "duration": 10,
    "start_time": "2023-06-21T07:38:47.762Z"
   },
   {
    "duration": 9,
    "start_time": "2023-06-21T07:39:08.108Z"
   },
   {
    "duration": 3,
    "start_time": "2023-06-21T07:39:21.312Z"
   },
   {
    "duration": 2,
    "start_time": "2023-06-21T07:43:50.524Z"
   },
   {
    "duration": 3,
    "start_time": "2023-06-21T07:45:22.091Z"
   },
   {
    "duration": 10,
    "start_time": "2023-06-21T07:47:09.512Z"
   },
   {
    "duration": 5,
    "start_time": "2023-06-21T07:47:26.500Z"
   },
   {
    "duration": 8,
    "start_time": "2023-06-21T07:47:33.524Z"
   },
   {
    "duration": 3,
    "start_time": "2023-06-21T07:47:39.000Z"
   },
   {
    "duration": 10,
    "start_time": "2023-06-21T07:47:55.773Z"
   },
   {
    "duration": 3,
    "start_time": "2023-06-21T07:48:12.254Z"
   },
   {
    "duration": 3,
    "start_time": "2023-06-21T07:48:13.610Z"
   },
   {
    "duration": 3,
    "start_time": "2023-06-21T07:57:37.906Z"
   },
   {
    "duration": 65,
    "start_time": "2023-06-21T08:03:58.891Z"
   },
   {
    "duration": 10,
    "start_time": "2023-06-21T08:04:03.316Z"
   },
   {
    "duration": 4,
    "start_time": "2023-06-21T08:04:37.260Z"
   },
   {
    "duration": 28601,
    "start_time": "2023-06-21T08:04:45.555Z"
   },
   {
    "duration": 55,
    "start_time": "2023-06-21T08:05:48.953Z"
   },
   {
    "duration": 3,
    "start_time": "2023-06-21T08:06:18.911Z"
   },
   {
    "duration": 3,
    "start_time": "2023-06-21T08:06:21.051Z"
   },
   {
    "duration": 2,
    "start_time": "2023-06-21T08:06:22.100Z"
   },
   {
    "duration": 2,
    "start_time": "2023-06-21T08:06:24.118Z"
   },
   {
    "duration": 21505,
    "start_time": "2023-06-21T08:06:26.492Z"
   },
   {
    "duration": 29,
    "start_time": "2023-06-21T08:07:09.930Z"
   },
   {
    "duration": 4,
    "start_time": "2023-06-21T08:07:19.859Z"
   },
   {
    "duration": 2,
    "start_time": "2023-06-21T08:07:23.405Z"
   },
   {
    "duration": 3,
    "start_time": "2023-06-21T08:07:24.916Z"
   },
   {
    "duration": 3,
    "start_time": "2023-06-21T08:07:26.089Z"
   },
   {
    "duration": 6314,
    "start_time": "2023-06-21T08:07:27.539Z"
   },
   {
    "duration": 6749,
    "start_time": "2023-06-21T08:08:30.033Z"
   },
   {
    "duration": 5206,
    "start_time": "2023-06-21T08:08:48.163Z"
   },
   {
    "duration": 4,
    "start_time": "2023-06-21T08:09:37.940Z"
   },
   {
    "duration": 914,
    "start_time": "2023-06-21T08:09:49.477Z"
   },
   {
    "duration": 63,
    "start_time": "2023-06-21T08:09:51.216Z"
   },
   {
    "duration": 230,
    "start_time": "2023-06-21T08:09:52.237Z"
   },
   {
    "duration": 4,
    "start_time": "2023-06-21T08:09:55.127Z"
   },
   {
    "duration": 86,
    "start_time": "2023-06-21T08:09:56.959Z"
   },
   {
    "duration": 7,
    "start_time": "2023-06-21T08:09:58.756Z"
   },
   {
    "duration": 3,
    "start_time": "2023-06-21T08:09:59.966Z"
   },
   {
    "duration": 3,
    "start_time": "2023-06-21T08:10:01.462Z"
   },
   {
    "duration": 548,
    "start_time": "2023-06-21T08:10:02.643Z"
   },
   {
    "duration": 3,
    "start_time": "2023-06-21T08:10:04.506Z"
   },
   {
    "duration": 3,
    "start_time": "2023-06-21T08:10:06.003Z"
   },
   {
    "duration": 3,
    "start_time": "2023-06-21T08:10:08.247Z"
   },
   {
    "duration": 2,
    "start_time": "2023-06-21T08:10:10.321Z"
   },
   {
    "duration": 1256,
    "start_time": "2023-06-21T08:10:11.410Z"
   },
   {
    "duration": 8,
    "start_time": "2023-06-21T08:10:13.804Z"
   },
   {
    "duration": 6,
    "start_time": "2023-06-21T08:10:16.982Z"
   },
   {
    "duration": 4,
    "start_time": "2023-06-21T08:10:19.360Z"
   },
   {
    "duration": 16199,
    "start_time": "2023-06-21T08:10:21.273Z"
   },
   {
    "duration": 6,
    "start_time": "2023-06-21T08:10:49.016Z"
   },
   {
    "duration": 14306,
    "start_time": "2023-06-21T08:10:51.143Z"
   },
   {
    "duration": 6,
    "start_time": "2023-06-21T08:11:07.979Z"
   },
   {
    "duration": 6,
    "start_time": "2023-06-21T08:11:11.204Z"
   },
   {
    "duration": 3,
    "start_time": "2023-06-21T08:11:13.677Z"
   },
   {
    "duration": 2,
    "start_time": "2023-06-21T08:11:14.828Z"
   },
   {
    "duration": 15,
    "start_time": "2023-06-21T08:11:16.467Z"
   },
   {
    "duration": 4,
    "start_time": "2023-06-21T08:11:17.752Z"
   },
   {
    "duration": 2,
    "start_time": "2023-06-21T08:11:19.224Z"
   },
   {
    "duration": 3,
    "start_time": "2023-06-21T08:11:22.038Z"
   },
   {
    "duration": 77,
    "start_time": "2023-06-21T08:11:41.916Z"
   },
   {
    "duration": 67,
    "start_time": "2023-06-21T08:12:04.755Z"
   },
   {
    "duration": 10,
    "start_time": "2023-06-21T08:12:10.037Z"
   },
   {
    "duration": 13,
    "start_time": "2023-06-21T08:12:30.027Z"
   },
   {
    "duration": 3,
    "start_time": "2023-06-21T08:12:45.173Z"
   },
   {
    "duration": 4,
    "start_time": "2023-06-21T08:12:46.895Z"
   },
   {
    "duration": 5252,
    "start_time": "2023-06-21T08:12:48.021Z"
   },
   {
    "duration": 1121,
    "start_time": "2023-06-21T08:13:24.574Z"
   },
   {
    "duration": 636,
    "start_time": "2023-06-21T08:13:32.329Z"
   },
   {
    "duration": 73,
    "start_time": "2023-06-21T08:13:34.011Z"
   },
   {
    "duration": 222,
    "start_time": "2023-06-21T08:13:35.315Z"
   },
   {
    "duration": 5,
    "start_time": "2023-06-21T08:13:38.062Z"
   },
   {
    "duration": 16,
    "start_time": "2023-06-21T08:13:39.814Z"
   },
   {
    "duration": 6,
    "start_time": "2023-06-21T08:13:41.568Z"
   },
   {
    "duration": 3,
    "start_time": "2023-06-21T08:13:42.911Z"
   },
   {
    "duration": 3,
    "start_time": "2023-06-21T08:13:44.229Z"
   },
   {
    "duration": 744,
    "start_time": "2023-06-21T08:13:46.327Z"
   },
   {
    "duration": 3,
    "start_time": "2023-06-21T08:13:48.818Z"
   },
   {
    "duration": 3,
    "start_time": "2023-06-21T08:13:49.816Z"
   },
   {
    "duration": 3,
    "start_time": "2023-06-21T08:13:51.096Z"
   },
   {
    "duration": 2,
    "start_time": "2023-06-21T08:13:53.133Z"
   },
   {
    "duration": 1218,
    "start_time": "2023-06-21T08:13:54.546Z"
   },
   {
    "duration": 9,
    "start_time": "2023-06-21T08:13:57.570Z"
   },
   {
    "duration": 5,
    "start_time": "2023-06-21T08:14:00.722Z"
   },
   {
    "duration": 6,
    "start_time": "2023-06-21T08:14:02.663Z"
   },
   {
    "duration": 5,
    "start_time": "2023-06-21T08:14:04.831Z"
   },
   {
    "duration": 16291,
    "start_time": "2023-06-21T08:14:06.683Z"
   },
   {
    "duration": 9,
    "start_time": "2023-06-21T08:14:34.055Z"
   },
   {
    "duration": 14402,
    "start_time": "2023-06-21T08:14:36.501Z"
   },
   {
    "duration": 7,
    "start_time": "2023-06-21T08:15:45.623Z"
   },
   {
    "duration": 8,
    "start_time": "2023-06-21T08:15:48.273Z"
   },
   {
    "duration": 4,
    "start_time": "2023-06-21T08:15:50.556Z"
   },
   {
    "duration": 3,
    "start_time": "2023-06-21T08:15:51.933Z"
   },
   {
    "duration": 11,
    "start_time": "2023-06-21T08:15:53.437Z"
   },
   {
    "duration": 4,
    "start_time": "2023-06-21T08:15:55.228Z"
   },
   {
    "duration": 4,
    "start_time": "2023-06-21T08:15:56.548Z"
   },
   {
    "duration": 2,
    "start_time": "2023-06-21T08:15:58.912Z"
   },
   {
    "duration": 4,
    "start_time": "2023-06-21T08:16:08.418Z"
   },
   {
    "duration": 2,
    "start_time": "2023-06-21T08:16:10.947Z"
   },
   {
    "duration": 218555,
    "start_time": "2023-06-21T08:16:13.122Z"
   },
   {
    "duration": 3491,
    "start_time": "2023-06-21T08:21:38.603Z"
   },
   {
    "duration": 1075,
    "start_time": "2023-06-21T08:21:47.670Z"
   },
   {
    "duration": 122,
    "start_time": "2023-06-21T08:22:32.028Z"
   },
   {
    "duration": 10,
    "start_time": "2023-06-21T08:23:29.445Z"
   },
   {
    "duration": 13,
    "start_time": "2023-06-21T08:24:29.764Z"
   },
   {
    "duration": 13,
    "start_time": "2023-06-21T08:25:21.674Z"
   },
   {
    "duration": 305,
    "start_time": "2023-06-21T08:25:30.308Z"
   },
   {
    "duration": 235,
    "start_time": "2023-06-21T08:26:00.010Z"
   },
   {
    "duration": 13855,
    "start_time": "2023-06-21T08:26:15.852Z"
   },
   {
    "duration": 26,
    "start_time": "2023-06-21T08:29:25.170Z"
   },
   {
    "duration": 9,
    "start_time": "2023-06-21T08:30:07.915Z"
   },
   {
    "duration": 25,
    "start_time": "2023-06-21T08:30:15.296Z"
   },
   {
    "duration": 11,
    "start_time": "2023-06-21T08:31:05.323Z"
   },
   {
    "duration": 4,
    "start_time": "2023-06-21T08:31:13.292Z"
   },
   {
    "duration": 128,
    "start_time": "2023-06-21T08:31:17.151Z"
   },
   {
    "duration": 17,
    "start_time": "2023-06-21T08:31:30.873Z"
   },
   {
    "duration": 12,
    "start_time": "2023-06-21T08:33:55.122Z"
   },
   {
    "duration": 308,
    "start_time": "2023-06-21T08:34:05.288Z"
   },
   {
    "duration": 43,
    "start_time": "2023-06-21T08:34:54.737Z"
   },
   {
    "duration": 47,
    "start_time": "2023-06-21T08:35:03.001Z"
   },
   {
    "duration": 5,
    "start_time": "2023-06-21T08:36:31.209Z"
   },
   {
    "duration": 2,
    "start_time": "2023-06-21T08:37:16.970Z"
   },
   {
    "duration": 3,
    "start_time": "2023-06-21T08:37:34.417Z"
   },
   {
    "duration": 21,
    "start_time": "2023-06-21T08:37:57.646Z"
   },
   {
    "duration": 658,
    "start_time": "2023-06-21T08:38:03.617Z"
   },
   {
    "duration": 55,
    "start_time": "2023-06-21T08:38:22.643Z"
   },
   {
    "duration": 195,
    "start_time": "2023-06-21T08:38:45.831Z"
   },
   {
    "duration": 38,
    "start_time": "2023-06-21T08:38:52.905Z"
   },
   {
    "duration": 250,
    "start_time": "2023-06-21T08:39:10.249Z"
   },
   {
    "duration": 2,
    "start_time": "2023-06-21T08:41:08.813Z"
   },
   {
    "duration": 3,
    "start_time": "2023-06-21T08:42:16.993Z"
   },
   {
    "duration": 16,
    "start_time": "2023-06-21T08:43:35.471Z"
   },
   {
    "duration": 21,
    "start_time": "2023-06-21T08:43:45.506Z"
   },
   {
    "duration": 4,
    "start_time": "2023-06-21T08:44:06.096Z"
   },
   {
    "duration": 4,
    "start_time": "2023-06-21T08:44:22.012Z"
   },
   {
    "duration": 3,
    "start_time": "2023-06-21T08:44:50.426Z"
   },
   {
    "duration": 1003,
    "start_time": "2023-06-21T08:45:07.962Z"
   },
   {
    "duration": 7152,
    "start_time": "2023-06-21T08:45:45.002Z"
   },
   {
    "duration": 22,
    "start_time": "2023-06-21T08:46:21.618Z"
   },
   {
    "duration": 10,
    "start_time": "2023-06-21T08:47:35.818Z"
   },
   {
    "duration": 43,
    "start_time": "2023-06-21T08:50:33.345Z"
   },
   {
    "duration": 184,
    "start_time": "2023-06-21T08:59:33.069Z"
   },
   {
    "duration": 44,
    "start_time": "2023-06-21T09:00:42.528Z"
   },
   {
    "duration": 213,
    "start_time": "2023-06-21T09:01:03.122Z"
   },
   {
    "duration": 2,
    "start_time": "2023-06-21T09:18:38.864Z"
   },
   {
    "duration": 2,
    "start_time": "2023-06-21T09:19:27.047Z"
   },
   {
    "duration": 5,
    "start_time": "2023-06-21T09:20:50.458Z"
   },
   {
    "duration": 208,
    "start_time": "2023-06-21T09:21:18.115Z"
   },
   {
    "duration": 3,
    "start_time": "2023-06-21T09:21:36.341Z"
   },
   {
    "duration": 264,
    "start_time": "2023-06-21T09:21:38.468Z"
   },
   {
    "duration": 1687,
    "start_time": "2023-06-21T09:21:56.716Z"
   },
   {
    "duration": 291,
    "start_time": "2023-06-21T09:24:36.217Z"
   },
   {
    "duration": 5,
    "start_time": "2023-06-21T09:24:44.718Z"
   },
   {
    "duration": 3,
    "start_time": "2023-06-21T09:25:11.226Z"
   },
   {
    "duration": 4,
    "start_time": "2023-06-21T09:25:18.727Z"
   },
   {
    "duration": 2,
    "start_time": "2023-06-21T09:25:25.410Z"
   },
   {
    "duration": 11,
    "start_time": "2023-06-21T09:26:07.912Z"
   },
   {
    "duration": 13,
    "start_time": "2023-06-21T09:27:25.163Z"
   },
   {
    "duration": 11,
    "start_time": "2023-06-21T09:27:38.353Z"
   },
   {
    "duration": 3,
    "start_time": "2023-06-21T09:29:38.404Z"
   },
   {
    "duration": 4,
    "start_time": "2023-06-21T09:29:46.223Z"
   },
   {
    "duration": 2,
    "start_time": "2023-06-21T09:30:49.113Z"
   },
   {
    "duration": 20,
    "start_time": "2023-06-21T09:30:59.613Z"
   },
   {
    "duration": 14,
    "start_time": "2023-06-21T09:32:07.270Z"
   },
   {
    "duration": 8,
    "start_time": "2023-06-21T09:32:16.708Z"
   },
   {
    "duration": 135110,
    "start_time": "2023-06-21T09:33:12.009Z"
   },
   {
    "duration": 13,
    "start_time": "2023-06-21T09:36:39.857Z"
   },
   {
    "duration": 5,
    "start_time": "2023-06-21T09:38:26.134Z"
   },
   {
    "duration": 14,
    "start_time": "2023-06-21T09:39:19.205Z"
   },
   {
    "duration": 12,
    "start_time": "2023-06-21T09:44:17.633Z"
   },
   {
    "duration": 6,
    "start_time": "2023-06-21T09:44:29.027Z"
   },
   {
    "duration": 138164,
    "start_time": "2023-06-21T09:44:33.044Z"
   },
   {
    "duration": 6,
    "start_time": "2023-06-21T09:47:00.819Z"
   },
   {
    "duration": 13,
    "start_time": "2023-06-21T09:47:08.455Z"
   },
   {
    "duration": 2097,
    "start_time": "2023-06-21T09:48:56.338Z"
   },
   {
    "duration": 16,
    "start_time": "2023-06-21T09:54:38.918Z"
   },
   {
    "duration": 16,
    "start_time": "2023-06-21T09:55:01.029Z"
   },
   {
    "duration": 12,
    "start_time": "2023-06-21T09:55:16.966Z"
   },
   {
    "duration": 7,
    "start_time": "2023-06-21T09:55:22.020Z"
   },
   {
    "duration": 149753,
    "start_time": "2023-06-21T09:55:24.313Z"
   },
   {
    "duration": 14,
    "start_time": "2023-06-21T09:58:10.415Z"
   },
   {
    "duration": 2285,
    "start_time": "2023-06-21T09:58:39.443Z"
   },
   {
    "duration": 32493,
    "start_time": "2023-06-21T10:00:16.900Z"
   },
   {
    "duration": 11,
    "start_time": "2023-06-21T10:01:40.443Z"
   },
   {
    "duration": 4,
    "start_time": "2023-06-21T10:01:43.739Z"
   },
   {
    "duration": 5,
    "start_time": "2023-06-21T10:02:03.630Z"
   },
   {
    "duration": 48,
    "start_time": "2023-06-21T10:02:55.046Z"
   },
   {
    "duration": 186,
    "start_time": "2023-06-21T10:04:47.955Z"
   },
   {
    "duration": 165,
    "start_time": "2023-06-21T10:04:52.534Z"
   },
   {
    "duration": 193260,
    "start_time": "2023-06-21T10:05:03.534Z"
   },
   {
    "duration": 80,
    "start_time": "2023-06-21T10:09:17.348Z"
   },
   {
    "duration": 82,
    "start_time": "2023-06-21T10:09:24.399Z"
   },
   {
    "duration": 81,
    "start_time": "2023-06-21T10:09:34.411Z"
   },
   {
    "duration": 27,
    "start_time": "2023-06-21T10:09:38.047Z"
   },
   {
    "duration": 235,
    "start_time": "2023-06-21T10:10:10.109Z"
   },
   {
    "duration": 2,
    "start_time": "2023-06-21T10:10:19.407Z"
   },
   {
    "duration": 3,
    "start_time": "2023-06-21T10:10:27.095Z"
   },
   {
    "duration": 3,
    "start_time": "2023-06-21T10:10:49.344Z"
   },
   {
    "duration": 205,
    "start_time": "2023-06-21T10:11:43.153Z"
   },
   {
    "duration": 60,
    "start_time": "2023-06-21T10:12:01.029Z"
   },
   {
    "duration": 62,
    "start_time": "2023-06-21T10:13:29.889Z"
   },
   {
    "duration": 53,
    "start_time": "2023-06-21T10:13:38.895Z"
   },
   {
    "duration": 22,
    "start_time": "2023-06-21T10:14:03.733Z"
   },
   {
    "duration": 62,
    "start_time": "2023-06-21T10:14:15.042Z"
   },
   {
    "duration": 58,
    "start_time": "2023-06-21T10:14:24.703Z"
   },
   {
    "duration": 53,
    "start_time": "2023-06-21T10:14:28.608Z"
   },
   {
    "duration": 19230,
    "start_time": "2023-06-21T10:14:40.662Z"
   },
   {
    "duration": 2,
    "start_time": "2023-06-21T10:15:43.901Z"
   },
   {
    "duration": 21,
    "start_time": "2023-06-21T10:16:12.196Z"
   },
   {
    "duration": 2,
    "start_time": "2023-06-21T10:16:14.079Z"
   },
   {
    "duration": 3,
    "start_time": "2023-06-21T10:16:15.501Z"
   },
   {
    "duration": 1450,
    "start_time": "2023-06-21T10:16:29.412Z"
   },
   {
    "duration": 241,
    "start_time": "2023-06-21T10:16:37.595Z"
   },
   {
    "duration": 4,
    "start_time": "2023-06-21T10:16:38.721Z"
   },
   {
    "duration": 4,
    "start_time": "2023-06-21T10:16:39.531Z"
   },
   {
    "duration": 3,
    "start_time": "2023-06-21T10:16:40.297Z"
   },
   {
    "duration": 57,
    "start_time": "2023-06-21T10:16:41.032Z"
   },
   {
    "duration": 17726,
    "start_time": "2023-06-21T10:16:46.490Z"
   },
   {
    "duration": 7,
    "start_time": "2023-06-21T10:17:26.395Z"
   },
   {
    "duration": 15597457,
    "start_time": "2023-06-21T10:17:42.643Z"
   },
   {
    "duration": 5,
    "start_time": "2023-06-21T14:38:36.017Z"
   },
   {
    "duration": 11,
    "start_time": "2023-06-21T14:39:35.627Z"
   },
   {
    "duration": 26,
    "start_time": "2023-06-21T14:39:40.152Z"
   },
   {
    "duration": 106,
    "start_time": "2023-06-21T14:40:12.376Z"
   },
   {
    "duration": 4,
    "start_time": "2023-06-21T14:40:23.131Z"
   },
   {
    "duration": 7736,
    "start_time": "2023-06-21T14:40:44.253Z"
   },
   {
    "duration": 4892,
    "start_time": "2023-06-21T14:42:47.923Z"
   },
   {
    "duration": 4,
    "start_time": "2023-06-21T14:43:49.835Z"
   },
   {
    "duration": 12,
    "start_time": "2023-06-21T14:43:59.718Z"
   },
   {
    "duration": 5016,
    "start_time": "2023-06-21T14:44:13.978Z"
   },
   {
    "duration": 11,
    "start_time": "2023-06-21T14:44:43.740Z"
   },
   {
    "duration": 87,
    "start_time": "2023-06-21T14:46:13.219Z"
   },
   {
    "duration": 24,
    "start_time": "2023-06-21T14:46:20.714Z"
   },
   {
    "duration": 48,
    "start_time": "2023-06-21T14:46:28.651Z"
   },
   {
    "duration": 9,
    "start_time": "2023-06-21T14:46:32.910Z"
   },
   {
    "duration": 53,
    "start_time": "2023-06-21T14:46:40.944Z"
   },
   {
    "duration": 14,
    "start_time": "2023-06-21T14:46:53.980Z"
   },
   {
    "duration": 9,
    "start_time": "2023-06-21T14:47:49.452Z"
   },
   {
    "duration": 11,
    "start_time": "2023-06-21T14:47:55.811Z"
   },
   {
    "duration": 5,
    "start_time": "2023-06-21T14:47:59.015Z"
   },
   {
    "duration": 5,
    "start_time": "2023-06-21T14:48:44.847Z"
   },
   {
    "duration": 13,
    "start_time": "2023-06-21T14:50:02.019Z"
   },
   {
    "duration": 29,
    "start_time": "2023-06-21T14:50:13.054Z"
   },
   {
    "duration": 5,
    "start_time": "2023-06-21T14:50:19.821Z"
   },
   {
    "duration": 5,
    "start_time": "2023-06-21T14:50:25.946Z"
   },
   {
    "duration": 7113,
    "start_time": "2023-06-21T14:51:46.113Z"
   },
   {
    "duration": 9729,
    "start_time": "2023-06-21T14:52:21.532Z"
   },
   {
    "duration": 7314,
    "start_time": "2023-06-21T14:53:53.534Z"
   },
   {
    "duration": 24,
    "start_time": "2023-06-21T14:58:57.008Z"
   },
   {
    "duration": 14,
    "start_time": "2023-06-21T14:59:14.413Z"
   },
   {
    "duration": 15,
    "start_time": "2023-06-21T14:59:23.149Z"
   },
   {
    "duration": 5,
    "start_time": "2023-06-21T14:59:50.354Z"
   },
   {
    "duration": 8,
    "start_time": "2023-06-21T14:59:57.409Z"
   },
   {
    "duration": 5,
    "start_time": "2023-06-21T15:00:05.104Z"
   },
   {
    "duration": 6,
    "start_time": "2023-06-21T15:00:28.110Z"
   },
   {
    "duration": 6,
    "start_time": "2023-06-21T15:00:33.121Z"
   },
   {
    "duration": 9,
    "start_time": "2023-06-21T15:01:06.908Z"
   },
   {
    "duration": 6,
    "start_time": "2023-06-21T15:01:39.723Z"
   },
   {
    "duration": 4,
    "start_time": "2023-06-21T15:05:36.210Z"
   },
   {
    "duration": 23,
    "start_time": "2023-06-21T15:06:23.836Z"
   },
   {
    "duration": 16,
    "start_time": "2023-06-21T15:08:28.569Z"
   },
   {
    "duration": 19,
    "start_time": "2023-06-21T15:08:34.349Z"
   },
   {
    "duration": 11,
    "start_time": "2023-06-21T15:09:03.436Z"
   },
   {
    "duration": 229,
    "start_time": "2023-06-21T15:10:01.398Z"
   },
   {
    "duration": 5,
    "start_time": "2023-06-21T15:10:40.325Z"
   },
   {
    "duration": 8,
    "start_time": "2023-06-21T15:14:48.909Z"
   },
   {
    "duration": 6,
    "start_time": "2023-06-21T15:17:05.140Z"
   },
   {
    "duration": 3,
    "start_time": "2023-06-21T15:20:51.617Z"
   },
   {
    "duration": 3,
    "start_time": "2023-06-21T15:29:21.897Z"
   },
   {
    "duration": 4,
    "start_time": "2023-06-21T15:29:24.914Z"
   },
   {
    "duration": 3,
    "start_time": "2023-06-21T15:30:22.409Z"
   },
   {
    "duration": 4,
    "start_time": "2023-06-21T15:32:55.948Z"
   },
   {
    "duration": 2,
    "start_time": "2023-06-21T15:33:55.939Z"
   },
   {
    "duration": 4,
    "start_time": "2023-06-21T15:36:19.709Z"
   },
   {
    "duration": 3,
    "start_time": "2023-06-21T15:37:01.648Z"
   },
   {
    "duration": 2,
    "start_time": "2023-06-21T15:37:25.639Z"
   },
   {
    "duration": 3,
    "start_time": "2023-06-21T15:37:41.206Z"
   },
   {
    "duration": 195,
    "start_time": "2023-06-21T15:37:58.706Z"
   },
   {
    "duration": 11,
    "start_time": "2023-06-21T15:39:04.313Z"
   },
   {
    "duration": 195,
    "start_time": "2023-06-21T15:39:10.605Z"
   },
   {
    "duration": 61,
    "start_time": "2023-06-21T15:41:58.503Z"
   },
   {
    "duration": 167,
    "start_time": "2023-06-21T15:42:48.642Z"
   },
   {
    "duration": 17,
    "start_time": "2023-06-21T15:43:14.317Z"
   },
   {
    "duration": 12,
    "start_time": "2023-06-21T15:43:53.612Z"
   },
   {
    "duration": 4,
    "start_time": "2023-06-21T15:44:11.234Z"
   },
   {
    "duration": 23,
    "start_time": "2023-06-21T15:44:12.899Z"
   },
   {
    "duration": 151,
    "start_time": "2023-06-21T15:44:37.038Z"
   },
   {
    "duration": 267,
    "start_time": "2023-06-21T15:44:51.219Z"
   },
   {
    "duration": 12,
    "start_time": "2023-06-21T15:49:05.732Z"
   },
   {
    "duration": 3,
    "start_time": "2023-06-21T15:49:09.032Z"
   },
   {
    "duration": 12,
    "start_time": "2023-06-21T15:49:12.492Z"
   },
   {
    "duration": 13,
    "start_time": "2023-06-21T15:49:35.219Z"
   },
   {
    "duration": 13,
    "start_time": "2023-06-21T15:50:03.697Z"
   },
   {
    "duration": 4,
    "start_time": "2023-06-21T15:52:02.821Z"
   },
   {
    "duration": 3,
    "start_time": "2023-06-21T15:52:09.727Z"
   },
   {
    "duration": 327,
    "start_time": "2023-06-21T15:52:31.113Z"
   },
   {
    "duration": 3,
    "start_time": "2023-06-21T15:55:10.008Z"
   },
   {
    "duration": 3,
    "start_time": "2023-06-21T15:55:12.594Z"
   },
   {
    "duration": 522,
    "start_time": "2023-06-21T15:55:14.992Z"
   },
   {
    "duration": 3,
    "start_time": "2023-06-21T15:55:35.593Z"
   },
   {
    "duration": 2,
    "start_time": "2023-06-21T15:55:37.202Z"
   },
   {
    "duration": 511,
    "start_time": "2023-06-21T15:55:39.522Z"
   },
   {
    "duration": 2,
    "start_time": "2023-06-21T15:55:55.323Z"
   },
   {
    "duration": 10028,
    "start_time": "2023-06-21T15:55:56.918Z"
   },
   {
    "duration": 43388,
    "start_time": "2023-06-21T15:59:35.044Z"
   },
   {
    "duration": 9,
    "start_time": "2023-06-21T16:03:24.403Z"
   },
   {
    "duration": 21,
    "start_time": "2023-06-21T16:03:43.611Z"
   },
   {
    "duration": 11,
    "start_time": "2023-06-21T16:04:06.615Z"
   },
   {
    "duration": 7,
    "start_time": "2023-06-21T16:04:14.437Z"
   },
   {
    "duration": 7,
    "start_time": "2023-06-21T16:04:31.341Z"
   },
   {
    "duration": 3,
    "start_time": "2023-06-21T16:04:38.227Z"
   },
   {
    "duration": 4,
    "start_time": "2023-06-21T16:04:39.474Z"
   },
   {
    "duration": 14,
    "start_time": "2023-06-21T16:07:05.527Z"
   },
   {
    "duration": 4378,
    "start_time": "2023-06-21T16:07:14.266Z"
   },
   {
    "duration": 428,
    "start_time": "2023-06-21T16:07:21.621Z"
   },
   {
    "duration": 40,
    "start_time": "2023-06-21T16:37:02.049Z"
   },
   {
    "duration": 6,
    "start_time": "2023-06-21T16:37:30.880Z"
   },
   {
    "duration": 5,
    "start_time": "2023-06-21T16:37:34.191Z"
   },
   {
    "duration": 2,
    "start_time": "2023-06-21T16:37:45.792Z"
   },
   {
    "duration": 19,
    "start_time": "2023-06-21T16:43:56.774Z"
   },
   {
    "duration": 4868,
    "start_time": "2023-06-21T16:44:11.705Z"
   },
   {
    "duration": 42,
    "start_time": "2023-06-21T16:44:18.769Z"
   },
   {
    "duration": 6,
    "start_time": "2023-06-21T16:56:01.607Z"
   },
   {
    "duration": 44,
    "start_time": "2023-06-21T16:56:25.119Z"
   },
   {
    "duration": 6,
    "start_time": "2023-06-21T16:56:42.204Z"
   },
   {
    "duration": 23,
    "start_time": "2023-06-21T16:56:44.623Z"
   },
   {
    "duration": 4,
    "start_time": "2023-06-21T16:57:15.616Z"
   },
   {
    "duration": 765,
    "start_time": "2023-06-21T16:57:22.162Z"
   },
   {
    "duration": 4,
    "start_time": "2023-06-21T16:58:57.451Z"
   },
   {
    "duration": 3,
    "start_time": "2023-06-21T16:58:59.049Z"
   },
   {
    "duration": 6,
    "start_time": "2023-06-21T16:59:03.010Z"
   },
   {
    "duration": 813,
    "start_time": "2023-06-21T16:59:05.476Z"
   },
   {
    "duration": 812,
    "start_time": "2023-06-21T16:59:58.259Z"
   },
   {
    "duration": 82,
    "start_time": "2023-06-21T17:00:00.328Z"
   },
   {
    "duration": 248,
    "start_time": "2023-06-21T17:00:02.253Z"
   },
   {
    "duration": 4,
    "start_time": "2023-06-21T17:00:05.409Z"
   },
   {
    "duration": 28,
    "start_time": "2023-06-21T17:00:07.054Z"
   },
   {
    "duration": 6,
    "start_time": "2023-06-21T17:00:09.516Z"
   },
   {
    "duration": 3,
    "start_time": "2023-06-21T17:00:11.101Z"
   },
   {
    "duration": 3,
    "start_time": "2023-06-21T17:00:12.979Z"
   },
   {
    "duration": 914,
    "start_time": "2023-06-21T17:00:14.100Z"
   },
   {
    "duration": 3,
    "start_time": "2023-06-21T17:00:16.789Z"
   },
   {
    "duration": 4,
    "start_time": "2023-06-21T17:00:17.802Z"
   },
   {
    "duration": 3,
    "start_time": "2023-06-21T17:00:19.000Z"
   },
   {
    "duration": 5,
    "start_time": "2023-06-21T17:00:21.170Z"
   },
   {
    "duration": 1518,
    "start_time": "2023-06-21T17:00:22.311Z"
   },
   {
    "duration": 8,
    "start_time": "2023-06-21T17:00:24.516Z"
   },
   {
    "duration": 5,
    "start_time": "2023-06-21T17:00:27.531Z"
   },
   {
    "duration": 5,
    "start_time": "2023-06-21T17:00:29.612Z"
   },
   {
    "duration": 27706,
    "start_time": "2023-06-21T17:00:31.521Z"
   },
   {
    "duration": 5,
    "start_time": "2023-06-21T17:01:29.101Z"
   },
   {
    "duration": 25111,
    "start_time": "2023-06-21T17:01:31.625Z"
   },
   {
    "duration": 7,
    "start_time": "2023-06-21T17:02:51.943Z"
   },
   {
    "duration": 6,
    "start_time": "2023-06-21T17:02:54.118Z"
   },
   {
    "duration": 4,
    "start_time": "2023-06-21T17:02:56.496Z"
   },
   {
    "duration": 4,
    "start_time": "2023-06-21T17:02:57.608Z"
   },
   {
    "duration": 9,
    "start_time": "2023-06-21T17:02:58.713Z"
   },
   {
    "duration": 4,
    "start_time": "2023-06-21T17:03:01.708Z"
   },
   {
    "duration": 3,
    "start_time": "2023-06-21T17:03:02.941Z"
   },
   {
    "duration": 3,
    "start_time": "2023-06-21T17:03:06.321Z"
   },
   {
    "duration": 5,
    "start_time": "2023-06-21T17:03:07.532Z"
   },
   {
    "duration": 23,
    "start_time": "2023-06-21T17:03:09.743Z"
   },
   {
    "duration": 8,
    "start_time": "2023-06-21T17:03:18.304Z"
   },
   {
    "duration": 26,
    "start_time": "2023-06-21T17:03:19.854Z"
   },
   {
    "duration": 3,
    "start_time": "2023-06-21T17:03:52.571Z"
   },
   {
    "duration": 12,
    "start_time": "2023-06-21T17:04:42.397Z"
   },
   {
    "duration": 6,
    "start_time": "2023-06-21T17:05:23.876Z"
   },
   {
    "duration": 19,
    "start_time": "2023-06-21T17:05:49.727Z"
   },
   {
    "duration": 555,
    "start_time": "2023-06-21T17:06:15.911Z"
   },
   {
    "duration": 57,
    "start_time": "2023-06-21T17:06:16.967Z"
   },
   {
    "duration": 205,
    "start_time": "2023-06-21T17:06:18.167Z"
   },
   {
    "duration": 5,
    "start_time": "2023-06-21T17:06:21.411Z"
   },
   {
    "duration": 17,
    "start_time": "2023-06-21T17:06:22.554Z"
   },
   {
    "duration": 5,
    "start_time": "2023-06-21T17:06:24.274Z"
   },
   {
    "duration": 4,
    "start_time": "2023-06-21T17:06:25.611Z"
   },
   {
    "duration": 4,
    "start_time": "2023-06-21T17:06:26.711Z"
   },
   {
    "duration": 810,
    "start_time": "2023-06-21T17:06:28.319Z"
   },
   {
    "duration": 3,
    "start_time": "2023-06-21T17:06:30.535Z"
   },
   {
    "duration": 3,
    "start_time": "2023-06-21T17:06:31.539Z"
   },
   {
    "duration": 5,
    "start_time": "2023-06-21T17:06:32.550Z"
   },
   {
    "duration": 5,
    "start_time": "2023-06-21T17:06:34.558Z"
   },
   {
    "duration": 1434,
    "start_time": "2023-06-21T17:06:35.640Z"
   },
   {
    "duration": 7,
    "start_time": "2023-06-21T17:06:38.408Z"
   },
   {
    "duration": 5,
    "start_time": "2023-06-21T17:06:41.013Z"
   },
   {
    "duration": 4,
    "start_time": "2023-06-21T17:06:44.105Z"
   },
   {
    "duration": 26566,
    "start_time": "2023-06-21T17:06:47.121Z"
   },
   {
    "duration": 8,
    "start_time": "2023-06-21T17:07:26.500Z"
   },
   {
    "duration": 25190,
    "start_time": "2023-06-21T17:07:28.734Z"
   },
   {
    "duration": 10,
    "start_time": "2023-06-21T17:08:24.851Z"
   },
   {
    "duration": 15,
    "start_time": "2023-06-21T17:08:27.349Z"
   },
   {
    "duration": 3,
    "start_time": "2023-06-21T17:08:29.366Z"
   },
   {
    "duration": 2,
    "start_time": "2023-06-21T17:08:31.409Z"
   },
   {
    "duration": 10,
    "start_time": "2023-06-21T17:08:40.017Z"
   },
   {
    "duration": 4,
    "start_time": "2023-06-21T17:08:41.917Z"
   },
   {
    "duration": 3,
    "start_time": "2023-06-21T17:08:44.201Z"
   },
   {
    "duration": 7,
    "start_time": "2023-06-21T17:08:56.498Z"
   },
   {
    "duration": 6,
    "start_time": "2023-06-21T17:08:58.707Z"
   },
   {
    "duration": 3,
    "start_time": "2023-06-21T17:09:05.408Z"
   },
   {
    "duration": 3,
    "start_time": "2023-06-21T17:09:06.676Z"
   },
   {
    "duration": 6,
    "start_time": "2023-06-21T17:09:08.301Z"
   },
   {
    "duration": 692,
    "start_time": "2023-06-21T17:09:10.658Z"
   },
   {
    "duration": 5,
    "start_time": "2023-06-21T17:10:35.605Z"
   },
   {
    "duration": 12,
    "start_time": "2023-06-21T17:10:52.061Z"
   },
   {
    "duration": 18,
    "start_time": "2023-06-21T17:11:06.243Z"
   },
   {
    "duration": 15,
    "start_time": "2023-06-21T17:13:57.405Z"
   },
   {
    "duration": 11,
    "start_time": "2023-06-21T17:14:02.969Z"
   },
   {
    "duration": 14,
    "start_time": "2023-06-21T17:14:33.240Z"
   },
   {
    "duration": 4,
    "start_time": "2023-06-21T17:14:39.631Z"
   },
   {
    "duration": 2,
    "start_time": "2023-06-21T17:16:44.691Z"
   },
   {
    "duration": 2,
    "start_time": "2023-06-21T17:16:46.573Z"
   },
   {
    "duration": 3,
    "start_time": "2023-06-21T17:16:49.586Z"
   },
   {
    "duration": 4,
    "start_time": "2023-06-21T17:16:58.829Z"
   },
   {
    "duration": 2,
    "start_time": "2023-06-21T17:17:10.736Z"
   },
   {
    "duration": 2,
    "start_time": "2023-06-21T17:18:11.803Z"
   },
   {
    "duration": 7,
    "start_time": "2023-06-21T17:18:17.429Z"
   },
   {
    "duration": 733,
    "start_time": "2023-06-21T17:18:19.232Z"
   },
   {
    "duration": 4,
    "start_time": "2023-06-21T17:18:36.913Z"
   },
   {
    "duration": 3,
    "start_time": "2023-06-21T17:18:39.402Z"
   },
   {
    "duration": 3,
    "start_time": "2023-06-21T17:18:44.237Z"
   },
   {
    "duration": 6,
    "start_time": "2023-06-21T17:18:45.905Z"
   },
   {
    "duration": 686,
    "start_time": "2023-06-21T17:18:50.201Z"
   },
   {
    "duration": 3,
    "start_time": "2023-06-21T17:19:03.909Z"
   },
   {
    "duration": 4,
    "start_time": "2023-06-21T17:19:06.728Z"
   },
   {
    "duration": 5,
    "start_time": "2023-06-21T17:19:08.455Z"
   },
   {
    "duration": 6,
    "start_time": "2023-06-21T17:19:11.476Z"
   },
   {
    "duration": 14541657,
    "start_time": "2023-06-21T17:19:13.901Z"
   },
   {
    "duration": 5,
    "start_time": "2023-06-21T21:24:43.100Z"
   },
   {
    "duration": 3,
    "start_time": "2023-06-21T21:26:26.696Z"
   },
   {
    "duration": 4,
    "start_time": "2023-06-21T21:26:30.108Z"
   },
   {
    "duration": 4,
    "start_time": "2023-06-21T21:26:44.801Z"
   },
   {
    "duration": 4,
    "start_time": "2023-06-21T21:27:10.996Z"
   },
   {
    "duration": 11,
    "start_time": "2023-06-21T21:28:40.599Z"
   },
   {
    "duration": 11,
    "start_time": "2023-06-21T21:29:13.754Z"
   },
   {
    "duration": 11,
    "start_time": "2023-06-21T21:29:33.699Z"
   },
   {
    "duration": 4,
    "start_time": "2023-06-21T21:30:37.609Z"
   },
   {
    "duration": 4,
    "start_time": "2023-06-21T21:30:42.568Z"
   },
   {
    "duration": 13,
    "start_time": "2023-06-21T21:31:01.029Z"
   },
   {
    "duration": 4,
    "start_time": "2023-06-21T21:31:06.968Z"
   },
   {
    "duration": 10,
    "start_time": "2023-06-21T21:31:17.049Z"
   },
   {
    "duration": 4,
    "start_time": "2023-06-21T21:31:32.791Z"
   },
   {
    "duration": 2,
    "start_time": "2023-06-21T21:31:43.468Z"
   },
   {
    "duration": 3,
    "start_time": "2023-06-21T21:32:09.854Z"
   },
   {
    "duration": 3,
    "start_time": "2023-06-21T21:33:06.404Z"
   },
   {
    "duration": 3,
    "start_time": "2023-06-21T21:33:20.936Z"
   },
   {
    "duration": 11,
    "start_time": "2023-06-21T21:33:34.646Z"
   },
   {
    "duration": 1058706,
    "start_time": "2023-06-21T21:33:38.668Z"
   },
   {
    "duration": 221,
    "start_time": "2023-06-21T21:58:06.693Z"
   },
   {
    "duration": 4,
    "start_time": "2023-06-21T21:58:10.598Z"
   },
   {
    "duration": 6,
    "start_time": "2023-06-21T22:02:08.198Z"
   },
   {
    "duration": 3,
    "start_time": "2023-06-21T22:02:21.391Z"
   },
   {
    "duration": 11,
    "start_time": "2023-06-21T22:02:55.918Z"
   },
   {
    "duration": 154,
    "start_time": "2023-06-21T22:03:04.018Z"
   },
   {
    "duration": 17,
    "start_time": "2023-06-21T22:08:37.272Z"
   },
   {
    "duration": 11,
    "start_time": "2023-06-21T22:08:53.746Z"
   },
   {
    "duration": 5,
    "start_time": "2023-06-21T22:09:22.752Z"
   },
   {
    "duration": 11,
    "start_time": "2023-06-21T22:09:32.449Z"
   },
   {
    "duration": 12,
    "start_time": "2023-06-21T22:09:37.119Z"
   },
   {
    "duration": 2370,
    "start_time": "2023-06-22T08:11:21.945Z"
   },
   {
    "duration": 4881,
    "start_time": "2023-06-22T08:11:43.966Z"
   },
   {
    "duration": 5696,
    "start_time": "2023-06-22T08:11:51.061Z"
   },
   {
    "duration": 2842,
    "start_time": "2023-06-22T08:12:15.815Z"
   },
   {
    "duration": 2667,
    "start_time": "2023-06-22T08:12:27.835Z"
   },
   {
    "duration": 2684,
    "start_time": "2023-06-22T08:12:32.793Z"
   },
   {
    "duration": 2015,
    "start_time": "2023-06-22T08:12:37.548Z"
   },
   {
    "duration": 4399,
    "start_time": "2023-06-22T08:12:46.607Z"
   },
   {
    "duration": 2138,
    "start_time": "2023-06-22T08:12:54.409Z"
   },
   {
    "duration": 935,
    "start_time": "2023-06-22T08:13:09.671Z"
   },
   {
    "duration": 81,
    "start_time": "2023-06-22T08:13:13.261Z"
   },
   {
    "duration": 262,
    "start_time": "2023-06-22T08:13:14.499Z"
   },
   {
    "duration": 6,
    "start_time": "2023-06-22T08:13:17.900Z"
   },
   {
    "duration": 25,
    "start_time": "2023-06-22T08:13:20.481Z"
   },
   {
    "duration": 7,
    "start_time": "2023-06-22T08:13:23.048Z"
   },
   {
    "duration": 3,
    "start_time": "2023-06-22T08:13:24.269Z"
   },
   {
    "duration": 4,
    "start_time": "2023-06-22T08:13:26.043Z"
   },
   {
    "duration": 1062,
    "start_time": "2023-06-22T08:13:27.701Z"
   },
   {
    "duration": 3,
    "start_time": "2023-06-22T08:13:31.609Z"
   },
   {
    "duration": 4,
    "start_time": "2023-06-22T08:13:32.753Z"
   },
   {
    "duration": 3,
    "start_time": "2023-06-22T08:13:34.332Z"
   },
   {
    "duration": 3,
    "start_time": "2023-06-22T08:13:37.401Z"
   },
   {
    "duration": 1695,
    "start_time": "2023-06-22T08:13:40.323Z"
   },
   {
    "duration": 10,
    "start_time": "2023-06-22T08:13:43.517Z"
   },
   {
    "duration": 7,
    "start_time": "2023-06-22T08:13:46.820Z"
   },
   {
    "duration": 5,
    "start_time": "2023-06-22T08:13:49.167Z"
   },
   {
    "duration": 29566,
    "start_time": "2023-06-22T08:13:51.710Z"
   },
   {
    "duration": 7,
    "start_time": "2023-06-22T08:14:42.936Z"
   },
   {
    "duration": 27651,
    "start_time": "2023-06-22T08:14:45.293Z"
   },
   {
    "duration": 9,
    "start_time": "2023-06-22T08:15:18.217Z"
   },
   {
    "duration": 11,
    "start_time": "2023-06-22T08:15:21.856Z"
   },
   {
    "duration": 4,
    "start_time": "2023-06-22T08:15:25.442Z"
   },
   {
    "duration": 4,
    "start_time": "2023-06-22T08:15:26.585Z"
   },
   {
    "duration": 22,
    "start_time": "2023-06-22T08:15:28.398Z"
   },
   {
    "duration": 6,
    "start_time": "2023-06-22T08:15:29.732Z"
   },
   {
    "duration": 4,
    "start_time": "2023-06-22T08:15:31.546Z"
   },
   {
    "duration": 3,
    "start_time": "2023-06-22T08:15:35.298Z"
   },
   {
    "duration": 3,
    "start_time": "2023-06-22T08:15:36.565Z"
   },
   {
    "duration": 1766,
    "start_time": "2023-06-22T08:16:19.925Z"
   },
   {
    "duration": 15,
    "start_time": "2023-06-22T08:16:24.263Z"
   },
   {
    "duration": 1656,
    "start_time": "2023-06-22T08:16:29.238Z"
   },
   {
    "duration": 20,
    "start_time": "2023-06-22T08:16:32.359Z"
   },
   {
    "duration": 30,
    "start_time": "2023-06-22T08:16:37.038Z"
   },
   {
    "duration": 4,
    "start_time": "2023-06-22T08:16:39.102Z"
   },
   {
    "duration": 15,
    "start_time": "2023-06-22T08:16:45.305Z"
   },
   {
    "duration": 3,
    "start_time": "2023-06-22T08:16:55.302Z"
   },
   {
    "duration": 1786,
    "start_time": "2023-06-22T08:16:57.707Z"
   },
   {
    "duration": 325,
    "start_time": "2023-06-22T08:17:09.016Z"
   },
   {
    "duration": 4199,
    "start_time": "2023-06-22T08:17:12.137Z"
   },
   {
    "duration": 13,
    "start_time": "2023-06-22T08:18:58.908Z"
   },
   {
    "duration": 4,
    "start_time": "2023-06-22T08:19:05.412Z"
   },
   {
    "duration": 9,
    "start_time": "2023-06-22T08:19:19.389Z"
   },
   {
    "duration": 7,
    "start_time": "2023-06-22T08:19:20.402Z"
   },
   {
    "duration": 3,
    "start_time": "2023-06-22T08:19:21.730Z"
   },
   {
    "duration": 15,
    "start_time": "2023-06-22T08:19:33.998Z"
   },
   {
    "duration": 99,
    "start_time": "2023-06-22T08:20:40.299Z"
   },
   {
    "duration": 37,
    "start_time": "2023-06-22T08:28:29.248Z"
   },
   {
    "duration": 21,
    "start_time": "2023-06-22T08:28:57.387Z"
   },
   {
    "duration": 5,
    "start_time": "2023-06-22T08:29:36.005Z"
   },
   {
    "duration": 5,
    "start_time": "2023-06-22T08:29:43.403Z"
   },
   {
    "duration": 9,
    "start_time": "2023-06-22T08:29:50.104Z"
   },
   {
    "duration": 15,
    "start_time": "2023-06-22T08:31:03.096Z"
   },
   {
    "duration": 5,
    "start_time": "2023-06-22T08:31:08.402Z"
   },
   {
    "duration": 10,
    "start_time": "2023-06-22T08:31:10.124Z"
   },
   {
    "duration": 26,
    "start_time": "2023-06-22T08:31:33.695Z"
   },
   {
    "duration": 16,
    "start_time": "2023-06-22T08:32:13.120Z"
   },
   {
    "duration": 22,
    "start_time": "2023-06-22T08:32:27.829Z"
   },
   {
    "duration": 13,
    "start_time": "2023-06-22T08:32:51.138Z"
   },
   {
    "duration": 8,
    "start_time": "2023-06-22T08:32:53.398Z"
   },
   {
    "duration": 107,
    "start_time": "2023-06-22T08:33:11.934Z"
   },
   {
    "duration": 5,
    "start_time": "2023-06-22T08:33:13.209Z"
   },
   {
    "duration": 6,
    "start_time": "2023-06-22T08:33:57.032Z"
   },
   {
    "duration": 12,
    "start_time": "2023-06-22T08:34:45.014Z"
   },
   {
    "duration": 4,
    "start_time": "2023-06-22T08:35:06.594Z"
   },
   {
    "duration": 11,
    "start_time": "2023-06-22T08:35:11.734Z"
   },
   {
    "duration": 16,
    "start_time": "2023-06-22T08:35:24.393Z"
   },
   {
    "duration": 4,
    "start_time": "2023-06-22T08:35:27.106Z"
   },
   {
    "duration": 20,
    "start_time": "2023-06-22T08:36:28.529Z"
   },
   {
    "duration": 112,
    "start_time": "2023-06-22T08:37:10.911Z"
   },
   {
    "duration": 10,
    "start_time": "2023-06-22T08:37:14.690Z"
   },
   {
    "duration": 4552,
    "start_time": "2023-06-22T08:37:21.894Z"
   },
   {
    "duration": 8,
    "start_time": "2023-06-22T08:37:32.578Z"
   },
   {
    "duration": 17,
    "start_time": "2023-06-22T08:38:04.210Z"
   },
   {
    "duration": 5,
    "start_time": "2023-06-22T08:38:05.940Z"
   },
   {
    "duration": 6,
    "start_time": "2023-06-22T08:38:18.010Z"
   },
   {
    "duration": 4,
    "start_time": "2023-06-22T08:38:28.310Z"
   },
   {
    "duration": 8,
    "start_time": "2023-06-22T08:38:36.837Z"
   },
   {
    "duration": 5,
    "start_time": "2023-06-22T08:38:46.994Z"
   },
   {
    "duration": 5,
    "start_time": "2023-06-22T08:38:56.399Z"
   },
   {
    "duration": 8,
    "start_time": "2023-06-22T08:39:10.598Z"
   },
   {
    "duration": 18,
    "start_time": "2023-06-22T08:39:34.698Z"
   },
   {
    "duration": 107,
    "start_time": "2023-06-22T08:39:53.911Z"
   },
   {
    "duration": 53,
    "start_time": "2023-06-22T08:40:21.161Z"
   },
   {
    "duration": 55,
    "start_time": "2023-06-22T08:41:57.218Z"
   },
   {
    "duration": 65,
    "start_time": "2023-06-22T08:42:07.822Z"
   },
   {
    "duration": 170,
    "start_time": "2023-06-22T08:42:28.799Z"
   },
   {
    "duration": 337,
    "start_time": "2023-06-22T08:42:32.223Z"
   },
   {
    "duration": 66,
    "start_time": "2023-06-22T08:42:34.743Z"
   },
   {
    "duration": 14,
    "start_time": "2023-06-22T08:44:06.811Z"
   },
   {
    "duration": 52,
    "start_time": "2023-06-22T08:44:31.724Z"
   },
   {
    "duration": 51,
    "start_time": "2023-06-22T08:44:48.841Z"
   },
   {
    "duration": 52,
    "start_time": "2023-06-22T08:45:22.064Z"
   },
   {
    "duration": 53,
    "start_time": "2023-06-22T08:45:35.930Z"
   },
   {
    "duration": 13,
    "start_time": "2023-06-22T08:46:29.906Z"
   },
   {
    "duration": 4,
    "start_time": "2023-06-22T08:51:08.812Z"
   },
   {
    "duration": 4,
    "start_time": "2023-06-22T08:51:09.518Z"
   },
   {
    "duration": 3,
    "start_time": "2023-06-22T08:51:10.757Z"
   },
   {
    "duration": 6,
    "start_time": "2023-06-22T08:51:14.710Z"
   },
   {
    "duration": 188450,
    "start_time": "2023-06-22T08:51:20.611Z"
   },
   {
    "duration": 861295,
    "start_time": "2023-06-22T08:54:39.116Z"
   },
   {
    "duration": 6,
    "start_time": "2023-06-22T09:11:08.948Z"
   },
   {
    "duration": 21,
    "start_time": "2023-06-22T09:11:26.428Z"
   },
   {
    "duration": 5,
    "start_time": "2023-06-22T09:11:32.332Z"
   },
   {
    "duration": 3,
    "start_time": "2023-06-22T09:13:21.023Z"
   },
   {
    "duration": 3,
    "start_time": "2023-06-22T09:14:14.812Z"
   },
   {
    "duration": 3,
    "start_time": "2023-06-22T09:14:22.032Z"
   },
   {
    "duration": 1960,
    "start_time": "2023-06-22T09:14:27.211Z"
   },
   {
    "duration": 269,
    "start_time": "2023-06-22T09:14:34.649Z"
   },
   {
    "duration": 22,
    "start_time": "2023-06-22T09:14:56.121Z"
   },
   {
    "duration": 14,
    "start_time": "2023-06-22T09:15:59.712Z"
   },
   {
    "duration": 66,
    "start_time": "2023-06-22T09:16:40.411Z"
   },
   {
    "duration": 53,
    "start_time": "2023-06-22T09:16:46.106Z"
   },
   {
    "duration": 52,
    "start_time": "2023-06-22T09:17:06.312Z"
   },
   {
    "duration": 46,
    "start_time": "2023-06-22T09:17:18.115Z"
   },
   {
    "duration": 52,
    "start_time": "2023-06-22T09:17:24.126Z"
   },
   {
    "duration": 5,
    "start_time": "2023-06-22T09:19:12.734Z"
   },
   {
    "duration": 5,
    "start_time": "2023-06-22T09:20:29.704Z"
   },
   {
    "duration": 76,
    "start_time": "2023-06-22T09:23:01.701Z"
   },
   {
    "duration": 5,
    "start_time": "2023-06-22T09:23:07.294Z"
   },
   {
    "duration": 4,
    "start_time": "2023-06-22T09:25:14.010Z"
   },
   {
    "duration": 5,
    "start_time": "2023-06-22T09:25:15.203Z"
   },
   {
    "duration": 29562,
    "start_time": "2023-06-22T09:25:31.751Z"
   },
   {
    "duration": 29149,
    "start_time": "2023-06-22T09:26:43.294Z"
   },
   {
    "duration": 10,
    "start_time": "2023-06-22T09:27:41.196Z"
   },
   {
    "duration": 15,
    "start_time": "2023-06-22T09:28:39.063Z"
   },
   {
    "duration": 8,
    "start_time": "2023-06-22T09:28:43.031Z"
   },
   {
    "duration": 6,
    "start_time": "2023-06-22T09:30:47.932Z"
   },
   {
    "duration": 546625,
    "start_time": "2023-06-22T09:30:50.940Z"
   },
   {
    "duration": 10,
    "start_time": "2023-06-22T09:40:34.701Z"
   },
   {
    "duration": 15,
    "start_time": "2023-06-22T09:40:36.126Z"
   },
   {
    "duration": 6,
    "start_time": "2023-06-22T09:41:15.335Z"
   },
   {
    "duration": 12,
    "start_time": "2023-06-22T09:41:34.048Z"
   },
   {
    "duration": 1779422,
    "start_time": "2023-06-22T09:41:36.248Z"
   },
   {
    "duration": 5,
    "start_time": "2023-06-22T10:14:59.015Z"
   },
   {
    "duration": 6,
    "start_time": "2023-06-22T10:15:05.550Z"
   },
   {
    "duration": 18,
    "start_time": "2023-06-22T10:15:55.713Z"
   },
   {
    "duration": 5,
    "start_time": "2023-06-22T10:16:15.323Z"
   },
   {
    "duration": 4,
    "start_time": "2023-06-22T10:16:39.963Z"
   },
   {
    "duration": 4,
    "start_time": "2023-06-22T10:16:44.946Z"
   },
   {
    "duration": 50979,
    "start_time": "2023-06-22T10:16:47.140Z"
   },
   {
    "duration": 530,
    "start_time": "2023-06-22T10:17:51.607Z"
   },
   {
    "duration": 14,
    "start_time": "2023-06-22T10:17:54.810Z"
   },
   {
    "duration": 4,
    "start_time": "2023-06-22T10:18:30.041Z"
   },
   {
    "duration": 7,
    "start_time": "2023-06-22T10:18:31.969Z"
   },
   {
    "duration": 36584,
    "start_time": "2023-06-22T10:18:46.670Z"
   },
   {
    "duration": 21,
    "start_time": "2023-06-22T10:19:38.651Z"
   },
   {
    "duration": 9073,
    "start_time": "2023-06-22T15:47:44.736Z"
   },
   {
    "duration": 3984,
    "start_time": "2023-06-22T15:47:55.258Z"
   },
   {
    "duration": 3934,
    "start_time": "2023-06-22T15:48:13.841Z"
   },
   {
    "duration": 5973,
    "start_time": "2023-06-22T15:48:20.942Z"
   },
   {
    "duration": 2937,
    "start_time": "2023-06-22T15:53:40.515Z"
   },
   {
    "duration": 619,
    "start_time": "2023-06-22T15:53:51.103Z"
   },
   {
    "duration": 70,
    "start_time": "2023-06-22T15:53:53.500Z"
   },
   {
    "duration": 244,
    "start_time": "2023-06-22T15:53:55.589Z"
   },
   {
    "duration": 4,
    "start_time": "2023-06-22T15:53:59.384Z"
   },
   {
    "duration": 18,
    "start_time": "2023-06-22T15:54:02.969Z"
   },
   {
    "duration": 7,
    "start_time": "2023-06-22T15:54:07.296Z"
   },
   {
    "duration": 4,
    "start_time": "2023-06-22T15:54:08.348Z"
   },
   {
    "duration": 4,
    "start_time": "2023-06-22T15:54:10.428Z"
   },
   {
    "duration": 977,
    "start_time": "2023-06-22T15:54:11.987Z"
   },
   {
    "duration": 3,
    "start_time": "2023-06-22T15:54:14.389Z"
   },
   {
    "duration": 3,
    "start_time": "2023-06-22T15:54:15.440Z"
   },
   {
    "duration": 3,
    "start_time": "2023-06-22T15:54:16.917Z"
   },
   {
    "duration": 2,
    "start_time": "2023-06-22T15:54:19.255Z"
   },
   {
    "duration": 1423,
    "start_time": "2023-06-22T15:54:20.387Z"
   },
   {
    "duration": 9,
    "start_time": "2023-06-22T15:54:22.732Z"
   },
   {
    "duration": 6,
    "start_time": "2023-06-22T15:54:26.429Z"
   },
   {
    "duration": 4,
    "start_time": "2023-06-22T15:54:29.456Z"
   },
   {
    "duration": 26495,
    "start_time": "2023-06-22T15:54:32.444Z"
   },
   {
    "duration": 7,
    "start_time": "2023-06-22T15:55:10.835Z"
   },
   {
    "duration": 26363,
    "start_time": "2023-06-22T15:55:13.622Z"
   },
   {
    "duration": 6,
    "start_time": "2023-06-22T15:55:46.168Z"
   },
   {
    "duration": 7,
    "start_time": "2023-06-22T15:55:52.851Z"
   },
   {
    "duration": 3,
    "start_time": "2023-06-22T15:55:54.976Z"
   },
   {
    "duration": 3,
    "start_time": "2023-06-22T15:55:56.192Z"
   },
   {
    "duration": 15,
    "start_time": "2023-06-22T15:55:57.694Z"
   },
   {
    "duration": 4,
    "start_time": "2023-06-22T15:55:58.985Z"
   },
   {
    "duration": 4,
    "start_time": "2023-06-22T15:56:01.553Z"
   },
   {
    "duration": 3,
    "start_time": "2023-06-22T15:56:02.759Z"
   },
   {
    "duration": 4,
    "start_time": "2023-06-22T15:56:03.915Z"
   },
   {
    "duration": 29,
    "start_time": "2023-06-22T15:56:09.020Z"
   },
   {
    "duration": 2,
    "start_time": "2023-06-22T15:56:33.991Z"
   },
   {
    "duration": 3,
    "start_time": "2023-06-22T15:56:38.289Z"
   },
   {
    "duration": 767,
    "start_time": "2023-06-22T15:56:42.429Z"
   },
   {
    "duration": 306,
    "start_time": "2023-06-22T15:56:49.584Z"
   },
   {
    "duration": 19388,
    "start_time": "2023-06-22T15:56:58.816Z"
   },
   {
    "duration": 5,
    "start_time": "2023-06-22T15:57:53.340Z"
   },
   {
    "duration": 11857,
    "start_time": "2023-06-22T15:58:01.458Z"
   },
   {
    "duration": 13,
    "start_time": "2023-06-22T15:58:39.801Z"
   },
   {
    "duration": 4,
    "start_time": "2023-06-22T15:58:48.334Z"
   },
   {
    "duration": 9,
    "start_time": "2023-06-22T15:58:58.628Z"
   },
   {
    "duration": 9,
    "start_time": "2023-06-22T15:58:59.921Z"
   },
   {
    "duration": 3,
    "start_time": "2023-06-22T15:59:02.512Z"
   },
   {
    "duration": 4,
    "start_time": "2023-06-22T16:05:33.152Z"
   },
   {
    "duration": 4,
    "start_time": "2023-06-22T16:05:34.460Z"
   },
   {
    "duration": 4,
    "start_time": "2023-06-22T16:05:41.062Z"
   },
   {
    "duration": 4,
    "start_time": "2023-06-22T16:05:42.260Z"
   },
   {
    "duration": 4,
    "start_time": "2023-06-22T16:05:43.452Z"
   },
   {
    "duration": 48275,
    "start_time": "2023-06-22T16:05:44.634Z"
   },
   {
    "duration": 490,
    "start_time": "2023-06-22T16:06:43.228Z"
   },
   {
    "duration": 13,
    "start_time": "2023-06-22T16:06:46.304Z"
   },
   {
    "duration": 4,
    "start_time": "2023-06-22T16:06:49.059Z"
   },
   {
    "duration": 4,
    "start_time": "2023-06-22T16:06:51.268Z"
   },
   {
    "duration": 24,
    "start_time": "2023-06-22T16:12:16.437Z"
   },
   {
    "duration": 4,
    "start_time": "2023-06-22T16:13:09.588Z"
   },
   {
    "duration": 4,
    "start_time": "2023-06-22T16:13:11.247Z"
   },
   {
    "duration": 26189,
    "start_time": "2023-06-22T16:13:15.522Z"
   },
   {
    "duration": 10,
    "start_time": "2023-06-22T16:13:51.724Z"
   },
   {
    "duration": 4,
    "start_time": "2023-06-22T16:17:17.314Z"
   },
   {
    "duration": 5,
    "start_time": "2023-06-22T16:18:52.512Z"
   },
   {
    "duration": 17,
    "start_time": "2023-06-22T16:19:31.524Z"
   },
   {
    "duration": 4508162,
    "start_time": "2023-06-22T16:19:50.086Z"
   },
   {
    "duration": 4,
    "start_time": "2023-06-22T17:35:07.537Z"
   },
   {
    "duration": 2542063,
    "start_time": "2023-06-22T17:35:11.014Z"
   },
   {
    "duration": 7,
    "start_time": "2023-06-22T18:17:41.451Z"
   },
   {
    "duration": 4326811,
    "start_time": "2023-06-22T18:17:44.350Z"
   },
   {
    "duration": 5,
    "start_time": "2023-06-22T19:29:57.199Z"
   },
   {
    "duration": 2069756,
    "start_time": "2023-06-22T19:29:58.804Z"
   },
   {
    "duration": 5,
    "start_time": "2023-06-22T20:04:37.135Z"
   },
   {
    "duration": 1667511,
    "start_time": "2023-06-22T20:04:38.916Z"
   },
   {
    "duration": 5,
    "start_time": "2023-06-22T20:32:35.030Z"
   },
   {
    "duration": 40940,
    "start_time": "2023-06-22T20:32:38.441Z"
   },
   {
    "duration": 6,
    "start_time": "2023-06-22T20:35:49.652Z"
   },
   {
    "duration": 3802,
    "start_time": "2023-06-22T20:35:51.812Z"
   },
   {
    "duration": 40504,
    "start_time": "2023-06-22T20:36:18.617Z"
   },
   {
    "duration": 23,
    "start_time": "2023-06-22T20:37:08.065Z"
   },
   {
    "duration": 5,
    "start_time": "2023-06-22T20:38:48.634Z"
   },
   {
    "duration": 6,
    "start_time": "2023-06-22T20:41:20.601Z"
   },
   {
    "duration": 36128,
    "start_time": "2023-06-22T20:41:41.219Z"
   },
   {
    "duration": 9,
    "start_time": "2023-06-22T20:42:31.140Z"
   },
   {
    "duration": 7,
    "start_time": "2023-06-22T20:43:52.203Z"
   },
   {
    "duration": 33452,
    "start_time": "2023-06-22T20:43:54.920Z"
   },
   {
    "duration": 6,
    "start_time": "2023-06-22T20:44:42.630Z"
   },
   {
    "duration": 5,
    "start_time": "2023-06-22T20:44:48.510Z"
   },
   {
    "duration": 4,
    "start_time": "2023-06-22T20:45:38.108Z"
   },
   {
    "duration": 101,
    "start_time": "2023-06-22T20:46:40.204Z"
   },
   {
    "duration": 6,
    "start_time": "2023-06-22T20:47:06.709Z"
   },
   {
    "duration": 93,
    "start_time": "2023-06-22T20:47:10.023Z"
   },
   {
    "duration": 3697,
    "start_time": "2023-06-22T20:47:27.823Z"
   },
   {
    "duration": 5,
    "start_time": "2023-06-22T20:47:37.664Z"
   },
   {
    "duration": 912330,
    "start_time": "2023-06-22T20:47:39.763Z"
   },
   {
    "duration": 8,
    "start_time": "2023-06-22T21:04:01.047Z"
   },
   {
    "duration": 26,
    "start_time": "2023-06-22T21:04:42.841Z"
   },
   {
    "duration": 181,
    "start_time": "2023-06-22T21:05:39.094Z"
   },
   {
    "duration": 20,
    "start_time": "2023-06-22T21:05:49.501Z"
   },
   {
    "duration": 9,
    "start_time": "2023-06-22T21:05:56.154Z"
   },
   {
    "duration": 187,
    "start_time": "2023-06-22T21:06:06.818Z"
   },
   {
    "duration": 16,
    "start_time": "2023-06-22T21:06:16.169Z"
   },
   {
    "duration": 7,
    "start_time": "2023-06-22T21:06:19.928Z"
   },
   {
    "duration": 182,
    "start_time": "2023-06-22T21:06:35.010Z"
   },
   {
    "duration": 4,
    "start_time": "2023-06-22T21:06:55.015Z"
   },
   {
    "duration": 6,
    "start_time": "2023-06-22T21:08:15.622Z"
   },
   {
    "duration": 8,
    "start_time": "2023-06-22T21:11:29.872Z"
   },
   {
    "duration": 328,
    "start_time": "2023-06-22T21:16:28.672Z"
   },
   {
    "duration": 657,
    "start_time": "2023-06-22T21:17:13.323Z"
   },
   {
    "duration": 935,
    "start_time": "2023-06-22T21:17:51.336Z"
   },
   {
    "duration": 19,
    "start_time": "2023-06-22T21:18:50.373Z"
   },
   {
    "duration": 5,
    "start_time": "2023-06-22T21:18:52.628Z"
   },
   {
    "duration": 895,
    "start_time": "2023-06-22T21:18:53.867Z"
   },
   {
    "duration": 5,
    "start_time": "2023-06-22T21:19:14.405Z"
   },
   {
    "duration": 869,
    "start_time": "2023-06-22T21:19:15.972Z"
   },
   {
    "duration": 24,
    "start_time": "2023-06-22T21:27:02.615Z"
   },
   {
    "duration": 272,
    "start_time": "2023-06-22T21:27:16.335Z"
   },
   {
    "duration": 6,
    "start_time": "2023-06-22T21:37:17.850Z"
   },
   {
    "duration": 36,
    "start_time": "2023-06-22T21:37:44.931Z"
   },
   {
    "duration": 5,
    "start_time": "2023-06-22T21:39:24.230Z"
   },
   {
    "duration": 4,
    "start_time": "2023-06-22T21:39:33.405Z"
   },
   {
    "duration": 29,
    "start_time": "2023-06-22T21:39:41.045Z"
   },
   {
    "duration": 463,
    "start_time": "2023-06-22T21:42:32.230Z"
   },
   {
    "duration": 468,
    "start_time": "2023-06-22T21:42:40.602Z"
   },
   {
    "duration": 6,
    "start_time": "2023-06-22T21:42:51.240Z"
   },
   {
    "duration": 6,
    "start_time": "2023-06-22T21:43:00.039Z"
   },
   {
    "duration": 12,
    "start_time": "2023-06-22T21:43:07.449Z"
   },
   {
    "duration": 459,
    "start_time": "2023-06-22T21:44:07.559Z"
   },
   {
    "duration": 526,
    "start_time": "2023-06-22T21:45:49.751Z"
   },
   {
    "duration": 16,
    "start_time": "2023-06-22T21:46:03.609Z"
   },
   {
    "duration": 19,
    "start_time": "2023-06-22T21:46:10.888Z"
   },
   {
    "duration": 13,
    "start_time": "2023-06-22T21:47:37.010Z"
   },
   {
    "duration": 22,
    "start_time": "2023-06-22T21:47:50.076Z"
   },
   {
    "duration": 292,
    "start_time": "2023-06-22T21:48:42.256Z"
   },
   {
    "duration": 13,
    "start_time": "2023-06-22T21:48:58.233Z"
   },
   {
    "duration": 11,
    "start_time": "2023-06-22T21:49:37.929Z"
   },
   {
    "duration": 7,
    "start_time": "2023-06-22T21:55:18.470Z"
   },
   {
    "duration": 9,
    "start_time": "2023-06-22T21:55:27.614Z"
   },
   {
    "duration": 192,
    "start_time": "2023-06-22T21:55:54.435Z"
   },
   {
    "duration": 1867,
    "start_time": "2023-06-22T21:56:12.477Z"
   },
   {
    "duration": 1919,
    "start_time": "2023-06-22T21:56:18.628Z"
   },
   {
    "duration": 268,
    "start_time": "2023-06-22T21:56:28.335Z"
   },
   {
    "duration": 291,
    "start_time": "2023-06-22T21:58:54.045Z"
   },
   {
    "duration": 295,
    "start_time": "2023-06-22T21:58:59.785Z"
   },
   {
    "duration": 271,
    "start_time": "2023-06-22T21:59:02.979Z"
   },
   {
    "duration": 6,
    "start_time": "2023-06-22T22:00:33.280Z"
   },
   {
    "duration": 197,
    "start_time": "2023-06-22T22:00:34.718Z"
   },
   {
    "duration": 57,
    "start_time": "2023-06-22T22:32:42.175Z"
   },
   {
    "duration": 85,
    "start_time": "2023-06-22T22:33:29.019Z"
   },
   {
    "duration": 176,
    "start_time": "2023-06-22T22:33:32.207Z"
   },
   {
    "duration": 342,
    "start_time": "2023-06-22T22:35:50.139Z"
   },
   {
    "duration": 87,
    "start_time": "2023-06-22T22:36:20.228Z"
   },
   {
    "duration": 53,
    "start_time": "2023-06-22T22:36:28.687Z"
   },
   {
    "duration": 4,
    "start_time": "2023-06-22T22:36:36.710Z"
   },
   {
    "duration": 189,
    "start_time": "2023-06-22T22:37:06.957Z"
   },
   {
    "duration": 5,
    "start_time": "2023-06-22T22:37:08.744Z"
   },
   {
    "duration": 207,
    "start_time": "2023-06-22T22:37:12.130Z"
   },
   {
    "duration": 6,
    "start_time": "2023-06-22T22:37:52.171Z"
   },
   {
    "duration": 12,
    "start_time": "2023-06-22T22:38:06.076Z"
   },
   {
    "duration": 1980,
    "start_time": "2023-06-22T22:38:40.477Z"
   },
   {
    "duration": 113,
    "start_time": "2023-06-22T22:38:48.026Z"
   },
   {
    "duration": 8,
    "start_time": "2023-06-22T22:38:50.061Z"
   },
   {
    "duration": 4,
    "start_time": "2023-06-22T22:38:58.133Z"
   },
   {
    "duration": 191,
    "start_time": "2023-06-22T22:39:06.807Z"
   },
   {
    "duration": 5,
    "start_time": "2023-06-22T22:39:15.235Z"
   },
   {
    "duration": 945,
    "start_time": "2023-06-22T22:39:17.218Z"
   },
   {
    "duration": 9,
    "start_time": "2023-06-22T22:39:45.178Z"
   },
   {
    "duration": 5,
    "start_time": "2023-06-22T22:41:24.630Z"
   },
   {
    "duration": 82,
    "start_time": "2023-06-23T19:10:58.623Z"
   },
   {
    "duration": 8675,
    "start_time": "2023-06-23T19:11:08.014Z"
   },
   {
    "duration": 4374,
    "start_time": "2023-06-23T19:11:23.879Z"
   },
   {
    "duration": 4600,
    "start_time": "2023-06-23T19:11:31.840Z"
   },
   {
    "duration": 1108,
    "start_time": "2023-06-23T19:11:39.943Z"
   },
   {
    "duration": 19625,
    "start_time": "2023-06-23T19:11:51.905Z"
   },
   {
    "duration": 1967,
    "start_time": "2023-06-23T19:12:24.007Z"
   },
   {
    "duration": 4446,
    "start_time": "2023-06-23T19:12:33.313Z"
   },
   {
    "duration": 1619,
    "start_time": "2023-06-23T19:12:50.720Z"
   },
   {
    "duration": 884,
    "start_time": "2023-06-23T19:12:59.965Z"
   },
   {
    "duration": 84,
    "start_time": "2023-06-23T19:13:02.043Z"
   },
   {
    "duration": 374,
    "start_time": "2023-06-23T19:13:03.963Z"
   },
   {
    "duration": 7,
    "start_time": "2023-06-23T19:13:18.050Z"
   },
   {
    "duration": 27,
    "start_time": "2023-06-23T19:13:21.317Z"
   },
   {
    "duration": 9,
    "start_time": "2023-06-23T19:13:22.840Z"
   },
   {
    "duration": 4,
    "start_time": "2023-06-23T19:13:25.513Z"
   },
   {
    "duration": 4,
    "start_time": "2023-06-23T19:13:28.526Z"
   },
   {
    "duration": 1766,
    "start_time": "2023-06-23T19:13:29.932Z"
   },
   {
    "duration": 5,
    "start_time": "2023-06-23T19:13:36.747Z"
   },
   {
    "duration": 4,
    "start_time": "2023-06-23T19:13:38.636Z"
   },
   {
    "duration": 4,
    "start_time": "2023-06-23T19:13:39.908Z"
   },
   {
    "duration": 4,
    "start_time": "2023-06-23T19:13:43.043Z"
   },
   {
    "duration": 2227,
    "start_time": "2023-06-23T19:13:44.306Z"
   },
   {
    "duration": 10,
    "start_time": "2023-06-23T19:18:39.528Z"
   },
   {
    "duration": 6,
    "start_time": "2023-06-23T19:18:45.015Z"
   },
   {
    "duration": 5,
    "start_time": "2023-06-23T19:19:48.657Z"
   },
   {
    "duration": 40840,
    "start_time": "2023-06-23T19:20:14.462Z"
   },
   {
    "duration": 11,
    "start_time": "2023-06-23T19:21:08.014Z"
   },
   {
    "duration": 44702,
    "start_time": "2023-06-23T19:21:32.664Z"
   },
   {
    "duration": 8,
    "start_time": "2023-06-23T19:22:21.298Z"
   },
   {
    "duration": 13,
    "start_time": "2023-06-23T19:22:52.780Z"
   },
   {
    "duration": 27,
    "start_time": "2023-06-23T19:24:01.660Z"
   },
   {
    "duration": 13,
    "start_time": "2023-06-23T19:24:24.904Z"
   },
   {
    "duration": 30,
    "start_time": "2023-06-23T19:24:42.445Z"
   },
   {
    "duration": 5,
    "start_time": "2023-06-23T19:24:58.434Z"
   },
   {
    "duration": 5,
    "start_time": "2023-06-23T19:25:00.619Z"
   },
   {
    "duration": 21,
    "start_time": "2023-06-23T19:25:01.830Z"
   },
   {
    "duration": 6,
    "start_time": "2023-06-23T19:25:04.506Z"
   },
   {
    "duration": 5,
    "start_time": "2023-06-23T19:25:06.864Z"
   },
   {
    "duration": 7,
    "start_time": "2023-06-23T19:25:08.464Z"
   },
   {
    "duration": 8,
    "start_time": "2023-06-23T19:25:09.529Z"
   },
   {
    "duration": 15,
    "start_time": "2023-06-23T19:25:15.823Z"
   },
   {
    "duration": 9,
    "start_time": "2023-06-23T19:25:17.504Z"
   },
   {
    "duration": 4,
    "start_time": "2023-06-23T19:25:20.645Z"
   },
   {
    "duration": 10,
    "start_time": "2023-06-23T19:25:22.303Z"
   },
   {
    "duration": 4,
    "start_time": "2023-06-23T19:25:25.033Z"
   },
   {
    "duration": 21,
    "start_time": "2023-06-23T19:36:26.704Z"
   },
   {
    "duration": 418245,
    "start_time": "2023-06-23T19:36:31.230Z"
   },
   {
    "duration": 837200,
    "start_time": "2023-06-23T19:43:40.444Z"
   },
   {
    "duration": 833154,
    "start_time": "2023-06-23T19:59:00.127Z"
   },
   {
    "duration": 6,
    "start_time": "2023-06-23T20:27:58.500Z"
   },
   {
    "duration": 6,
    "start_time": "2023-06-23T20:28:03.345Z"
   },
   {
    "duration": 4,
    "start_time": "2023-06-23T20:28:49.012Z"
   },
   {
    "duration": 4,
    "start_time": "2023-06-23T20:29:07.834Z"
   },
   {
    "duration": 3,
    "start_time": "2023-06-23T20:29:09.330Z"
   },
   {
    "duration": 1905,
    "start_time": "2023-06-23T20:29:10.756Z"
   },
   {
    "duration": 283,
    "start_time": "2023-06-23T20:29:15.144Z"
   },
   {
    "duration": 19,
    "start_time": "2023-06-23T20:29:16.911Z"
   },
   {
    "duration": 1686161,
    "start_time": "2023-06-23T20:29:26.154Z"
   },
   {
    "duration": 6,
    "start_time": "2023-06-23T20:59:44.940Z"
   },
   {
    "duration": 10,
    "start_time": "2023-06-23T20:59:48.769Z"
   },
   {
    "duration": 5,
    "start_time": "2023-06-23T21:00:46.458Z"
   },
   {
    "duration": 4,
    "start_time": "2023-06-23T21:00:52.030Z"
   },
   {
    "duration": 4,
    "start_time": "2023-06-23T21:00:55.031Z"
   },
   {
    "duration": 59293,
    "start_time": "2023-06-23T21:01:01.210Z"
   },
   {
    "duration": 566,
    "start_time": "2023-06-23T21:02:34.563Z"
   },
   {
    "duration": 14,
    "start_time": "2023-06-23T21:02:37.809Z"
   },
   {
    "duration": 1939158,
    "start_time": "2023-06-23T21:02:59.168Z"
   },
   {
    "duration": 4,
    "start_time": "2023-06-23T21:36:21.260Z"
   },
   {
    "duration": 5,
    "start_time": "2023-06-23T21:36:31.832Z"
   },
   {
    "duration": 3,
    "start_time": "2023-06-23T21:36:55.280Z"
   },
   {
    "duration": 4,
    "start_time": "2023-06-23T21:36:56.835Z"
   },
   {
    "duration": 3,
    "start_time": "2023-06-23T21:36:58.526Z"
   },
   {
    "duration": 49015,
    "start_time": "2023-06-23T21:37:01.094Z"
   },
   {
    "duration": 510,
    "start_time": "2023-06-23T21:38:16.449Z"
   },
   {
    "duration": 15,
    "start_time": "2023-06-23T21:38:18.020Z"
   },
   {
    "duration": 7,
    "start_time": "2023-06-23T21:45:08.038Z"
   },
   {
    "duration": 7172,
    "start_time": "2023-06-23T21:45:14.888Z"
   },
   {
    "duration": 1662551,
    "start_time": "2023-06-23T21:45:25.538Z"
   },
   {
    "duration": 5,
    "start_time": "2023-06-23T22:14:12.056Z"
   },
   {
    "duration": 4,
    "start_time": "2023-06-23T22:14:15.935Z"
   },
   {
    "duration": 3,
    "start_time": "2023-06-23T22:17:41.100Z"
   },
   {
    "duration": 4,
    "start_time": "2023-06-23T22:17:42.424Z"
   },
   {
    "duration": 4,
    "start_time": "2023-06-23T22:17:43.997Z"
   },
   {
    "duration": 1774,
    "start_time": "2023-06-23T22:17:45.362Z"
   },
   {
    "duration": 246,
    "start_time": "2023-06-23T22:17:50.092Z"
   },
   {
    "duration": 20,
    "start_time": "2023-06-23T22:17:51.780Z"
   },
   {
    "duration": 5,
    "start_time": "2023-06-23T22:18:25.794Z"
   },
   {
    "duration": 5,
    "start_time": "2023-06-23T22:19:01.516Z"
   },
   {
    "duration": 3,
    "start_time": "2023-06-23T22:19:43.540Z"
   },
   {
    "duration": 4,
    "start_time": "2023-06-23T22:22:41.458Z"
   },
   {
    "duration": 134,
    "start_time": "2023-06-23T22:25:01.115Z"
   },
   {
    "duration": 7,
    "start_time": "2023-06-23T22:25:06.301Z"
   },
   {
    "duration": 17,
    "start_time": "2023-06-23T22:25:15.487Z"
   },
   {
    "duration": 6,
    "start_time": "2023-06-23T22:25:23.148Z"
   },
   {
    "duration": 28,
    "start_time": "2023-06-23T22:25:24.694Z"
   },
   {
    "duration": 10,
    "start_time": "2023-06-23T22:25:49.802Z"
   },
   {
    "duration": 6,
    "start_time": "2023-06-23T22:26:10.231Z"
   },
   {
    "duration": 135909,
    "start_time": "2023-06-23T22:26:13.146Z"
   },
   {
    "duration": 1362278,
    "start_time": "2023-06-23T22:28:41.509Z"
   },
   {
    "duration": 6,
    "start_time": "2023-06-23T22:53:00.216Z"
   },
   {
    "duration": 175,
    "start_time": "2023-06-23T22:54:38.652Z"
   },
   {
    "duration": 6,
    "start_time": "2023-06-23T22:54:48.438Z"
   },
   {
    "duration": 199,
    "start_time": "2023-06-23T22:55:07.333Z"
   },
   {
    "duration": 7,
    "start_time": "2023-06-23T22:55:15.886Z"
   },
   {
    "duration": 172,
    "start_time": "2023-06-23T22:55:28.683Z"
   },
   {
    "duration": 81,
    "start_time": "2023-06-23T22:55:59.904Z"
   },
   {
    "duration": 65,
    "start_time": "2023-06-23T22:56:04.734Z"
   },
   {
    "duration": 10,
    "start_time": "2023-06-23T22:56:06.913Z"
   },
   {
    "duration": 6,
    "start_time": "2023-06-23T22:56:21.228Z"
   },
   {
    "duration": 173,
    "start_time": "2023-06-23T22:56:52.749Z"
   },
   {
    "duration": 6,
    "start_time": "2023-06-23T22:56:55.649Z"
   },
   {
    "duration": 627,
    "start_time": "2023-06-23T22:56:57.684Z"
   },
   {
    "duration": 27,
    "start_time": "2023-06-23T22:58:13.538Z"
   },
   {
    "duration": 433,
    "start_time": "2023-06-23T22:59:58.851Z"
   },
   {
    "duration": 4,
    "start_time": "2023-06-23T23:00:04.711Z"
   },
   {
    "duration": 6,
    "start_time": "2023-06-23T23:00:07.259Z"
   },
   {
    "duration": 167,
    "start_time": "2023-06-23T23:00:09.029Z"
   },
   {
    "duration": 15327,
    "start_time": "2023-07-16T09:10:38.485Z"
   },
   {
    "duration": 4280,
    "start_time": "2023-07-16T09:10:58.323Z"
   },
   {
    "duration": 8763,
    "start_time": "2023-07-16T09:11:05.887Z"
   },
   {
    "duration": 8860,
    "start_time": "2023-07-16T09:11:17.185Z"
   },
   {
    "duration": 4321,
    "start_time": "2023-07-16T09:11:28.875Z"
   },
   {
    "duration": 4521,
    "start_time": "2023-07-16T09:11:38.488Z"
   },
   {
    "duration": 4459,
    "start_time": "2023-07-16T09:11:46.381Z"
   },
   {
    "duration": 6235,
    "start_time": "2023-07-16T09:11:54.480Z"
   },
   {
    "duration": 1264,
    "start_time": "2023-07-16T09:12:03.224Z"
   },
   {
    "duration": 45,
    "start_time": "2023-07-16T09:12:07.572Z"
   },
   {
    "duration": 45,
    "start_time": "2023-07-16T09:12:15.284Z"
   },
   {
    "duration": 2,
    "start_time": "2023-07-16T09:12:19.698Z"
   },
   {
    "duration": 16,
    "start_time": "2023-07-16T09:12:20.951Z"
   },
   {
    "duration": 62,
    "start_time": "2023-07-16T09:12:25.085Z"
   },
   {
    "duration": 80010,
    "start_time": "2023-07-16T09:12:26.948Z"
   },
   {
    "duration": 77116,
    "start_time": "2023-07-16T09:13:53.990Z"
   },
   {
    "duration": 3,
    "start_time": "2023-07-16T09:15:46.151Z"
   },
   {
    "duration": 9,
    "start_time": "2023-07-16T09:15:47.695Z"
   },
   {
    "duration": 42,
    "start_time": "2023-07-16T09:15:49.832Z"
   },
   {
    "duration": 13,
    "start_time": "2023-07-16T09:15:52.887Z"
   },
   {
    "duration": 15,
    "start_time": "2023-07-16T09:15:55.084Z"
   },
   {
    "duration": 4,
    "start_time": "2023-07-16T09:16:00.319Z"
   },
   {
    "duration": 45,
    "start_time": "2023-07-16T09:16:01.386Z"
   },
   {
    "duration": 154,
    "start_time": "2023-07-16T09:16:04.810Z"
   },
   {
    "duration": 155,
    "start_time": "2023-07-16T09:16:10.623Z"
   },
   {
    "duration": 7,
    "start_time": "2023-07-16T09:16:13.481Z"
   },
   {
    "duration": 7,
    "start_time": "2023-07-16T09:16:14.687Z"
   },
   {
    "duration": 43,
    "start_time": "2023-07-16T09:17:38.221Z"
   },
   {
    "duration": 44,
    "start_time": "2023-07-16T09:17:42.112Z"
   },
   {
    "duration": 48,
    "start_time": "2023-07-16T09:17:45.557Z"
   },
   {
    "duration": 43,
    "start_time": "2023-07-16T09:18:15.580Z"
   },
   {
    "duration": 49,
    "start_time": "2023-07-16T09:18:18.755Z"
   },
   {
    "duration": 30,
    "start_time": "2023-07-16T09:18:40.684Z"
   },
   {
    "duration": 27,
    "start_time": "2023-07-16T09:18:45.483Z"
   },
   {
    "duration": 99,
    "start_time": "2023-07-16T09:21:33.401Z"
   },
   {
    "duration": 56,
    "start_time": "2023-07-16T09:22:41.133Z"
   },
   {
    "duration": 346,
    "start_time": "2023-07-16T09:25:17.935Z"
   },
   {
    "duration": 35,
    "start_time": "2023-07-16T09:25:19.731Z"
   },
   {
    "duration": 60,
    "start_time": "2023-07-16T09:25:23.924Z"
   },
   {
    "duration": 69,
    "start_time": "2023-07-16T09:26:20.909Z"
   },
   {
    "duration": 4,
    "start_time": "2023-07-16T09:26:32.120Z"
   },
   {
    "duration": 12,
    "start_time": "2023-07-16T09:26:32.975Z"
   },
   {
    "duration": 61,
    "start_time": "2023-07-16T09:26:35.028Z"
   },
   {
    "duration": 3,
    "start_time": "2023-07-16T09:26:42.611Z"
   },
   {
    "duration": 15,
    "start_time": "2023-07-16T09:26:44.062Z"
   },
   {
    "duration": 35,
    "start_time": "2023-07-16T09:26:45.917Z"
   },
   {
    "duration": 9,
    "start_time": "2023-07-16T09:26:47.869Z"
   },
   {
    "duration": 11,
    "start_time": "2023-07-16T09:26:49.019Z"
   },
   {
    "duration": 3,
    "start_time": "2023-07-16T09:26:50.797Z"
   },
   {
    "duration": 49,
    "start_time": "2023-07-16T09:26:51.854Z"
   },
   {
    "duration": 154,
    "start_time": "2023-07-16T09:26:55.067Z"
   },
   {
    "duration": 62,
    "start_time": "2023-07-16T09:27:17.398Z"
   },
   {
    "duration": 45,
    "start_time": "2023-07-16T09:30:44.756Z"
   },
   {
    "duration": 233,
    "start_time": "2023-07-16T09:31:02.084Z"
   },
   {
    "duration": 39,
    "start_time": "2023-07-16T09:31:20.710Z"
   },
   {
    "duration": 57,
    "start_time": "2023-07-16T09:32:00.222Z"
   },
   {
    "duration": 7,
    "start_time": "2023-07-16T09:32:27.118Z"
   },
   {
    "duration": 12,
    "start_time": "2023-07-16T09:32:34.490Z"
   },
   {
    "duration": 14,
    "start_time": "2023-07-16T09:34:13.638Z"
   },
   {
    "duration": 5,
    "start_time": "2023-07-16T09:34:17.480Z"
   },
   {
    "duration": 32,
    "start_time": "2023-07-16T09:34:58.808Z"
   },
   {
    "duration": 32,
    "start_time": "2023-07-16T09:35:34.055Z"
   },
   {
    "duration": 4,
    "start_time": "2023-07-16T09:35:45.314Z"
   },
   {
    "duration": 38,
    "start_time": "2023-07-16T09:36:05.319Z"
   },
   {
    "duration": 4,
    "start_time": "2023-07-16T09:36:08.926Z"
   },
   {
    "duration": 31,
    "start_time": "2023-07-16T09:36:18.337Z"
   },
   {
    "duration": 4,
    "start_time": "2023-07-16T09:36:20.258Z"
   },
   {
    "duration": 382,
    "start_time": "2023-07-16T09:36:32.881Z"
   },
   {
    "duration": 36,
    "start_time": "2023-07-16T09:36:34.456Z"
   },
   {
    "duration": 47,
    "start_time": "2023-07-16T09:36:38.995Z"
   },
   {
    "duration": 80,
    "start_time": "2023-07-16T09:36:41.826Z"
   },
   {
    "duration": 2,
    "start_time": "2023-07-16T09:36:43.450Z"
   },
   {
    "duration": 13,
    "start_time": "2023-07-16T09:36:45.755Z"
   },
   {
    "duration": 3,
    "start_time": "2023-07-16T09:36:48.439Z"
   },
   {
    "duration": 9,
    "start_time": "2023-07-16T09:36:49.838Z"
   },
   {
    "duration": 34,
    "start_time": "2023-07-16T09:36:51.707Z"
   },
   {
    "duration": 10,
    "start_time": "2023-07-16T09:36:53.605Z"
   },
   {
    "duration": 10,
    "start_time": "2023-07-16T09:36:54.772Z"
   },
   {
    "duration": 3,
    "start_time": "2023-07-16T09:36:56.724Z"
   },
   {
    "duration": 41,
    "start_time": "2023-07-16T09:36:57.751Z"
   },
   {
    "duration": 161,
    "start_time": "2023-07-16T09:37:02.062Z"
   },
   {
    "duration": 59,
    "start_time": "2023-07-16T09:37:03.238Z"
   },
   {
    "duration": 12,
    "start_time": "2023-07-16T09:37:05.024Z"
   },
   {
    "duration": 5,
    "start_time": "2023-07-16T09:37:07.016Z"
   },
   {
    "duration": 26,
    "start_time": "2023-07-16T09:37:11.687Z"
   },
   {
    "duration": 4,
    "start_time": "2023-07-16T09:37:12.989Z"
   },
   {
    "duration": 4,
    "start_time": "2023-07-16T09:37:17.539Z"
   },
   {
    "duration": 3,
    "start_time": "2023-07-16T09:37:23.461Z"
   },
   {
    "duration": 4,
    "start_time": "2023-07-16T09:37:28.658Z"
   },
   {
    "duration": 15091,
    "start_time": "2023-07-17T07:20:54.613Z"
   },
   {
    "duration": 4025,
    "start_time": "2023-07-17T07:21:13.237Z"
   },
   {
    "duration": 7691,
    "start_time": "2023-07-17T07:21:22.937Z"
   },
   {
    "duration": 9978,
    "start_time": "2023-07-17T07:21:34.894Z"
   },
   {
    "duration": 3939,
    "start_time": "2023-07-17T07:21:47.987Z"
   },
   {
    "duration": 3749,
    "start_time": "2023-07-17T07:21:55.352Z"
   },
   {
    "duration": 4226,
    "start_time": "2023-07-17T07:22:01.051Z"
   },
   {
    "duration": 6412,
    "start_time": "2023-07-17T07:22:08.641Z"
   },
   {
    "duration": 1273,
    "start_time": "2023-07-17T07:22:18.170Z"
   },
   {
    "duration": 40,
    "start_time": "2023-07-17T07:22:22.595Z"
   },
   {
    "duration": 44,
    "start_time": "2023-07-17T07:22:26.366Z"
   },
   {
    "duration": 77,
    "start_time": "2023-07-17T07:22:29.861Z"
   },
   {
    "duration": 2,
    "start_time": "2023-07-17T07:22:33.444Z"
   },
   {
    "duration": 15,
    "start_time": "2023-07-17T07:22:34.582Z"
   },
   {
    "duration": 51,
    "start_time": "2023-07-17T07:22:36.100Z"
   },
   {
    "duration": 71036,
    "start_time": "2023-07-17T07:22:38.340Z"
   },
   {
    "duration": 73351,
    "start_time": "2023-07-17T07:25:29.965Z"
   },
   {
    "duration": 16207,
    "start_time": "2023-07-18T13:30:46.414Z"
   },
   {
    "duration": 4514,
    "start_time": "2023-07-18T13:31:06.128Z"
   },
   {
    "duration": 10689,
    "start_time": "2023-07-18T13:31:29.951Z"
   },
   {
    "duration": 8210,
    "start_time": "2023-07-18T13:31:43.997Z"
   },
   {
    "duration": 3736,
    "start_time": "2023-07-18T13:31:54.441Z"
   },
   {
    "duration": 4215,
    "start_time": "2023-07-18T13:32:00.663Z"
   },
   {
    "duration": 4446,
    "start_time": "2023-07-18T13:32:07.485Z"
   },
   {
    "duration": 7997,
    "start_time": "2023-07-18T13:32:14.340Z"
   },
   {
    "duration": 918,
    "start_time": "2023-07-18T13:32:24.577Z"
   },
   {
    "duration": 44,
    "start_time": "2023-07-18T13:32:27.728Z"
   },
   {
    "duration": 44,
    "start_time": "2023-07-18T13:32:32.925Z"
   },
   {
    "duration": 89,
    "start_time": "2023-07-18T13:32:36.039Z"
   },
   {
    "duration": 3,
    "start_time": "2023-07-18T13:32:38.015Z"
   },
   {
    "duration": 16,
    "start_time": "2023-07-18T13:32:39.146Z"
   },
   {
    "duration": 49,
    "start_time": "2023-07-18T13:32:41.061Z"
   },
   {
    "duration": 73810,
    "start_time": "2023-07-18T13:32:42.358Z"
   },
   {
    "duration": 3,
    "start_time": "2023-07-18T13:33:56.170Z"
   },
   {
    "duration": 11,
    "start_time": "2023-07-18T13:33:58.925Z"
   },
   {
    "duration": 43,
    "start_time": "2023-07-18T13:34:02.013Z"
   },
   {
    "duration": 13,
    "start_time": "2023-07-18T13:34:03.488Z"
   },
   {
    "duration": 16,
    "start_time": "2023-07-18T13:34:05.382Z"
   },
   {
    "duration": 3,
    "start_time": "2023-07-18T13:34:08.244Z"
   },
   {
    "duration": 52,
    "start_time": "2023-07-18T13:34:09.677Z"
   },
   {
    "duration": 143,
    "start_time": "2023-07-18T13:34:12.518Z"
   },
   {
    "duration": 62,
    "start_time": "2023-07-18T13:34:14.342Z"
   },
   {
    "duration": 13,
    "start_time": "2023-07-18T13:34:17.089Z"
   },
   {
    "duration": 29,
    "start_time": "2023-07-18T13:34:19.520Z"
   },
   {
    "duration": 28,
    "start_time": "2023-07-18T13:36:52.268Z"
   },
   {
    "duration": 30,
    "start_time": "2023-07-18T13:37:34.389Z"
   },
   {
    "duration": 64,
    "start_time": "2023-07-18T13:37:49.280Z"
   },
   {
    "duration": 277,
    "start_time": "2023-07-18T13:38:16.857Z"
   },
   {
    "duration": 30,
    "start_time": "2023-07-18T13:38:30.423Z"
   },
   {
    "duration": 42,
    "start_time": "2023-07-18T13:39:35.155Z"
   },
   {
    "duration": 15,
    "start_time": "2023-07-18T13:40:17.014Z"
   },
   {
    "duration": 11,
    "start_time": "2023-07-18T13:44:48.668Z"
   },
   {
    "duration": 5,
    "start_time": "2023-07-18T13:45:27.176Z"
   },
   {
    "duration": 70,
    "start_time": "2023-07-18T13:47:46.049Z"
   },
   {
    "duration": 19,
    "start_time": "2023-07-18T13:48:08.778Z"
   },
   {
    "duration": 5,
    "start_time": "2023-07-18T13:48:11.632Z"
   },
   {
    "duration": 26,
    "start_time": "2023-07-18T13:48:38.809Z"
   },
   {
    "duration": 5,
    "start_time": "2023-07-18T13:48:40.431Z"
   },
   {
    "duration": 5,
    "start_time": "2023-07-18T13:50:43.517Z"
   },
   {
    "duration": 6,
    "start_time": "2023-07-18T13:50:48.671Z"
   },
   {
    "duration": 13,
    "start_time": "2023-07-18T13:51:17.741Z"
   },
   {
    "duration": 20,
    "start_time": "2023-07-18T13:51:21.784Z"
   },
   {
    "duration": 26,
    "start_time": "2023-07-18T13:51:26.306Z"
   },
   {
    "duration": 7,
    "start_time": "2023-07-18T13:51:41.086Z"
   },
   {
    "duration": 171,
    "start_time": "2023-07-18T13:51:49.642Z"
   },
   {
    "duration": 198,
    "start_time": "2023-07-18T13:52:04.592Z"
   },
   {
    "duration": 15,
    "start_time": "2023-07-18T13:52:06.071Z"
   },
   {
    "duration": 9,
    "start_time": "2023-07-18T13:52:08.675Z"
   },
   {
    "duration": 589,
    "start_time": "2023-07-18T13:52:10.087Z"
   },
   {
    "duration": 138,
    "start_time": "2023-07-18T13:52:11.711Z"
   },
   {
    "duration": 3,
    "start_time": "2023-07-18T13:52:14.512Z"
   },
   {
    "duration": 1468730,
    "start_time": "2023-07-18T13:52:20.974Z"
   },
   {
    "duration": 62,
    "start_time": "2023-07-18T14:33:46.271Z"
   },
   {
    "duration": 27,
    "start_time": "2023-07-18T14:34:59.230Z"
   },
   {
    "duration": 51,
    "start_time": "2023-07-18T14:35:19.278Z"
   },
   {
    "duration": 1943,
    "start_time": "2023-07-18T14:35:47.456Z"
   },
   {
    "duration": 983,
    "start_time": "2023-07-18T14:35:58.099Z"
   },
   {
    "duration": 61,
    "start_time": "2023-07-18T14:36:18.208Z"
   },
   {
    "duration": 59,
    "start_time": "2023-07-18T14:36:34.425Z"
   },
   {
    "duration": 88,
    "start_time": "2023-07-18T14:36:41.957Z"
   },
   {
    "duration": 79,
    "start_time": "2023-07-18T14:36:47.347Z"
   },
   {
    "duration": 77,
    "start_time": "2023-07-18T14:36:58.172Z"
   },
   {
    "duration": 80,
    "start_time": "2023-07-18T14:37:36.351Z"
   },
   {
    "duration": 76,
    "start_time": "2023-07-18T14:37:39.445Z"
   },
   {
    "duration": 78,
    "start_time": "2023-07-18T14:37:45.747Z"
   },
   {
    "duration": 1197,
    "start_time": "2023-07-18T14:38:26.671Z"
   },
   {
    "duration": 1458,
    "start_time": "2023-07-18T14:38:33.536Z"
   },
   {
    "duration": 380,
    "start_time": "2023-07-18T14:38:41.239Z"
   },
   {
    "duration": 399,
    "start_time": "2023-07-18T14:38:47.351Z"
   },
   {
    "duration": 5,
    "start_time": "2023-07-18T14:43:04.452Z"
   },
   {
    "duration": 8,
    "start_time": "2023-07-18T14:43:06.132Z"
   },
   {
    "duration": 3,
    "start_time": "2023-07-18T14:43:14.921Z"
   },
   {
    "duration": 4,
    "start_time": "2023-07-18T14:43:16.895Z"
   },
   {
    "duration": 991,
    "start_time": "2023-07-18T14:43:18.897Z"
   },
   {
    "duration": 2,
    "start_time": "2023-07-18T14:43:32.710Z"
   },
   {
    "duration": 2,
    "start_time": "2023-07-18T14:43:54.974Z"
   },
   {
    "duration": 4,
    "start_time": "2023-07-18T14:43:55.967Z"
   },
   {
    "duration": 3,
    "start_time": "2023-07-18T14:43:57.277Z"
   },
   {
    "duration": 13,
    "start_time": "2023-07-18T14:44:03.460Z"
   },
   {
    "duration": 1594,
    "start_time": "2023-07-18T14:44:04.954Z"
   },
   {
    "duration": 10,
    "start_time": "2023-07-18T15:00:39.359Z"
   },
   {
    "duration": 112,
    "start_time": "2023-07-18T15:03:05.598Z"
   },
   {
    "duration": 5,
    "start_time": "2023-07-18T15:03:14.770Z"
   },
   {
    "duration": 5,
    "start_time": "2023-07-18T15:03:46.405Z"
   },
   {
    "duration": 387,
    "start_time": "2023-07-18T15:03:52.948Z"
   },
   {
    "duration": 6,
    "start_time": "2023-07-18T15:04:23.694Z"
   },
   {
    "duration": 4,
    "start_time": "2023-07-18T15:04:26.936Z"
   },
   {
    "duration": 5,
    "start_time": "2023-07-18T15:04:28.685Z"
   },
   {
    "duration": 16361,
    "start_time": "2023-07-18T15:04:39.011Z"
   },
   {
    "duration": 7,
    "start_time": "2023-07-18T15:05:25.671Z"
   },
   {
    "duration": 6,
    "start_time": "2023-07-18T15:10:00.499Z"
   },
   {
    "duration": 10336,
    "start_time": "2023-07-18T15:10:13.156Z"
   },
   {
    "duration": 3,
    "start_time": "2023-07-18T15:10:57.393Z"
   },
   {
    "duration": 3,
    "start_time": "2023-07-18T15:11:06.521Z"
   },
   {
    "duration": 1161,
    "start_time": "2023-07-18T15:11:45.960Z"
   },
   {
    "duration": 4,
    "start_time": "2023-07-18T15:12:48.220Z"
   },
   {
    "duration": 975,
    "start_time": "2023-07-18T15:12:50.997Z"
   },
   {
    "duration": 16404,
    "start_time": "2023-07-18T15:13:14.493Z"
   },
   {
    "duration": 6,
    "start_time": "2023-07-18T15:13:34.885Z"
   },
   {
    "duration": 15495,
    "start_time": "2023-07-18T15:14:46.350Z"
   },
   {
    "duration": 8,
    "start_time": "2023-07-18T15:15:19.219Z"
   },
   {
    "duration": 6,
    "start_time": "2023-07-18T15:15:59.104Z"
   },
   {
    "duration": 3,
    "start_time": "2023-07-18T15:17:33.453Z"
   },
   {
    "duration": 31,
    "start_time": "2023-07-18T15:17:35.285Z"
   },
   {
    "duration": 3,
    "start_time": "2023-07-18T15:17:37.521Z"
   },
   {
    "duration": 17,
    "start_time": "2023-07-18T15:17:39.088Z"
   },
   {
    "duration": 7,
    "start_time": "2023-07-18T15:17:41.360Z"
   },
   {
    "duration": 45,
    "start_time": "2023-07-18T15:21:02.240Z"
   },
   {
    "duration": 3,
    "start_time": "2023-07-18T15:21:47.002Z"
   },
   {
    "duration": 4172,
    "start_time": "2023-07-18T15:23:16.848Z"
   },
   {
    "duration": 3,
    "start_time": "2023-07-18T15:26:14.712Z"
   },
   {
    "duration": 4324,
    "start_time": "2023-07-18T15:26:51.756Z"
   },
   {
    "duration": 3,
    "start_time": "2023-07-18T15:27:49.493Z"
   },
   {
    "duration": 3,
    "start_time": "2023-07-18T15:27:51.697Z"
   },
   {
    "duration": 37832,
    "start_time": "2023-07-18T15:27:53.082Z"
   },
   {
    "duration": 17,
    "start_time": "2023-07-18T15:28:48.551Z"
   },
   {
    "duration": 3,
    "start_time": "2023-07-18T15:29:21.492Z"
   },
   {
    "duration": 10291,
    "start_time": "2023-07-18T15:29:23.154Z"
   },
   {
    "duration": 3,
    "start_time": "2023-07-18T15:29:48.737Z"
   },
   {
    "duration": 4,
    "start_time": "2023-07-18T15:29:49.884Z"
   },
   {
    "duration": 34375,
    "start_time": "2023-07-18T15:29:53.468Z"
   },
   {
    "duration": 178,
    "start_time": "2023-07-18T15:31:17.212Z"
   },
   {
    "duration": 15,
    "start_time": "2023-07-18T15:31:26.000Z"
   },
   {
    "duration": 16,
    "start_time": "2023-07-18T15:33:25.309Z"
   },
   {
    "duration": 4,
    "start_time": "2023-07-18T15:34:55.529Z"
   },
   {
    "duration": 6367,
    "start_time": "2023-07-18T15:35:05.117Z"
   },
   {
    "duration": 8989,
    "start_time": "2023-07-18T15:35:54.076Z"
   },
   {
    "duration": 10,
    "start_time": "2023-07-18T15:39:03.133Z"
   },
   {
    "duration": 4,
    "start_time": "2023-07-18T15:40:24.091Z"
   },
   {
    "duration": 5,
    "start_time": "2023-07-18T15:47:02.715Z"
   },
   {
    "duration": 8,
    "start_time": "2023-07-18T15:52:41.157Z"
   },
   {
    "duration": 36,
    "start_time": "2023-07-18T15:52:50.887Z"
   },
   {
    "duration": 8,
    "start_time": "2023-07-18T15:53:38.470Z"
   },
   {
    "duration": 1189,
    "start_time": "2023-07-18T15:53:42.150Z"
   },
   {
    "duration": 3,
    "start_time": "2023-07-18T15:54:37.822Z"
   },
   {
    "duration": 4,
    "start_time": "2023-07-18T15:54:50.492Z"
   },
   {
    "duration": 8,
    "start_time": "2023-07-18T15:54:53.249Z"
   },
   {
    "duration": 566,
    "start_time": "2023-07-18T15:54:55.938Z"
   },
   {
    "duration": 9,
    "start_time": "2023-07-18T15:55:17.423Z"
   },
   {
    "duration": 518,
    "start_time": "2023-07-18T15:55:21.160Z"
   },
   {
    "duration": 10,
    "start_time": "2023-07-18T15:56:36.108Z"
   },
   {
    "duration": 621,
    "start_time": "2023-07-18T15:56:38.238Z"
   },
   {
    "duration": 11,
    "start_time": "2023-07-18T15:56:53.393Z"
   },
   {
    "duration": 568,
    "start_time": "2023-07-18T15:56:59.352Z"
   },
   {
    "duration": 9,
    "start_time": "2023-07-18T15:57:12.243Z"
   },
   {
    "duration": 45145,
    "start_time": "2023-07-18T15:57:14.071Z"
   },
   {
    "duration": 10,
    "start_time": "2023-07-18T16:02:09.275Z"
   },
   {
    "duration": 101813,
    "start_time": "2023-07-18T16:02:11.846Z"
   },
   {
    "duration": 174,
    "start_time": "2023-07-18T16:10:31.683Z"
   },
   {
    "duration": 71865,
    "start_time": "2023-07-18T16:10:46.456Z"
   },
   {
    "duration": 10,
    "start_time": "2023-07-18T16:15:29.472Z"
   },
   {
    "duration": 30,
    "start_time": "2023-07-18T16:17:32.173Z"
   },
   {
    "duration": 10,
    "start_time": "2023-07-18T16:24:03.599Z"
   },
   {
    "duration": 86398,
    "start_time": "2023-07-18T16:24:06.290Z"
   },
   {
    "duration": 94356,
    "start_time": "2023-07-18T16:26:29.050Z"
   },
   {
    "duration": 1902139,
    "start_time": "2023-07-18T16:29:48.070Z"
   },
   {
    "duration": 5,
    "start_time": "2023-07-18T17:04:11.485Z"
   },
   {
    "duration": 12,
    "start_time": "2023-07-18T17:04:15.860Z"
   },
   {
    "duration": 3,
    "start_time": "2023-07-18T17:05:55.143Z"
   },
   {
    "duration": 3,
    "start_time": "2023-07-18T17:05:56.716Z"
   },
   {
    "duration": 134,
    "start_time": "2023-07-18T17:06:25.738Z"
   },
   {
    "duration": 5,
    "start_time": "2023-07-18T17:06:44.036Z"
   },
   {
    "duration": 3,
    "start_time": "2023-07-18T17:06:48.993Z"
   },
   {
    "duration": 557,
    "start_time": "2023-07-18T17:06:50.483Z"
   },
   {
    "duration": 136,
    "start_time": "2023-07-18T17:06:55.482Z"
   },
   {
    "duration": 12,
    "start_time": "2023-07-18T17:06:56.878Z"
   },
   {
    "duration": 2056635,
    "start_time": "2023-07-18T17:08:10.083Z"
   },
   {
    "duration": 5,
    "start_time": "2023-07-18T17:44:05.411Z"
   },
   {
    "duration": 4,
    "start_time": "2023-07-18T17:44:12.205Z"
   },
   {
    "duration": 3,
    "start_time": "2023-07-18T17:44:48.513Z"
   },
   {
    "duration": 3,
    "start_time": "2023-07-18T17:44:57.038Z"
   },
   {
    "duration": 4,
    "start_time": "2023-07-18T17:45:06.750Z"
   },
   {
    "duration": 3,
    "start_time": "2023-07-18T17:45:09.874Z"
   },
   {
    "duration": 6684,
    "start_time": "2023-07-18T17:45:11.075Z"
   },
   {
    "duration": 131,
    "start_time": "2023-07-18T17:45:21.575Z"
   },
   {
    "duration": 16,
    "start_time": "2023-07-18T17:45:23.751Z"
   },
   {
    "duration": 10,
    "start_time": "2023-07-18T17:52:44.838Z"
   },
   {
    "duration": 614629,
    "start_time": "2023-07-18T17:52:46.581Z"
   },
   {
    "duration": 11,
    "start_time": "2023-07-18T18:03:50.685Z"
   },
   {
    "duration": 60112,
    "start_time": "2023-07-18T18:04:18.138Z"
   },
   {
    "duration": 2620139,
    "start_time": "2023-07-18T18:05:22.081Z"
   },
   {
    "duration": 4,
    "start_time": "2023-07-18T18:49:23.448Z"
   },
   {
    "duration": 5,
    "start_time": "2023-07-18T18:49:29.258Z"
   },
   {
    "duration": 3,
    "start_time": "2023-07-18T18:50:04.344Z"
   },
   {
    "duration": 3,
    "start_time": "2023-07-18T18:50:08.919Z"
   },
   {
    "duration": 4,
    "start_time": "2023-07-18T18:50:24.191Z"
   },
   {
    "duration": 3,
    "start_time": "2023-07-18T18:50:29.876Z"
   },
   {
    "duration": 21195,
    "start_time": "2023-07-18T18:50:31.707Z"
   },
   {
    "duration": 177,
    "start_time": "2023-07-18T18:51:10.540Z"
   },
   {
    "duration": 19,
    "start_time": "2023-07-18T18:51:12.256Z"
   },
   {
    "duration": 5,
    "start_time": "2023-07-18T19:06:31.370Z"
   },
   {
    "duration": 179,
    "start_time": "2023-07-18T19:08:22.540Z"
   },
   {
    "duration": 4,
    "start_time": "2023-07-18T19:08:42.426Z"
   },
   {
    "duration": 4,
    "start_time": "2023-07-18T19:08:53.974Z"
   },
   {
    "duration": 6,
    "start_time": "2023-07-18T19:08:57.950Z"
   },
   {
    "duration": 5,
    "start_time": "2023-07-18T19:09:10.782Z"
   },
   {
    "duration": 627855,
    "start_time": "2023-07-18T19:09:20.528Z"
   },
   {
    "duration": 15,
    "start_time": "2023-07-18T19:36:51.614Z"
   },
   {
    "duration": 5,
    "start_time": "2023-07-18T19:36:53.183Z"
   },
   {
    "duration": 624,
    "start_time": "2023-07-18T19:36:55.316Z"
   },
   {
    "duration": 24,
    "start_time": "2023-07-18T19:38:16.395Z"
   },
   {
    "duration": 40,
    "start_time": "2023-07-18T19:40:43.408Z"
   },
   {
    "duration": 15,
    "start_time": "2023-07-18T19:41:34.840Z"
   },
   {
    "duration": 56,
    "start_time": "2023-07-18T20:32:41.522Z"
   },
   {
    "duration": 17,
    "start_time": "2023-07-18T20:33:34.706Z"
   },
   {
    "duration": 21,
    "start_time": "2023-07-18T20:33:48.014Z"
   },
   {
    "duration": 49,
    "start_time": "2023-07-18T20:33:51.657Z"
   },
   {
    "duration": 40,
    "start_time": "2023-07-18T20:34:11.943Z"
   },
   {
    "duration": 2025,
    "start_time": "2023-07-18T20:34:48.500Z"
   },
   {
    "duration": 50,
    "start_time": "2023-07-18T20:35:41.070Z"
   },
   {
    "duration": 13,
    "start_time": "2023-07-18T20:35:48.904Z"
   },
   {
    "duration": 56,
    "start_time": "2023-07-18T20:35:52.670Z"
   },
   {
    "duration": 4,
    "start_time": "2023-07-18T20:36:21.986Z"
   },
   {
    "duration": 57,
    "start_time": "2023-07-18T20:36:25.270Z"
   },
   {
    "duration": 80,
    "start_time": "2023-07-18T20:38:10.932Z"
   },
   {
    "duration": 53,
    "start_time": "2023-07-18T20:38:17.144Z"
   },
   {
    "duration": 11,
    "start_time": "2023-07-18T20:38:30.897Z"
   },
   {
    "duration": 65,
    "start_time": "2023-07-18T20:38:34.704Z"
   },
   {
    "duration": 904,
    "start_time": "2023-07-18T20:39:41.931Z"
   },
   {
    "duration": 4,
    "start_time": "2023-07-18T20:40:09.202Z"
   },
   {
    "duration": 4,
    "start_time": "2023-07-18T20:40:22.734Z"
   },
   {
    "duration": 5,
    "start_time": "2023-07-18T20:40:26.250Z"
   },
   {
    "duration": 58,
    "start_time": "2023-07-18T20:40:30.275Z"
   },
   {
    "duration": 15,
    "start_time": "2023-07-18T20:41:20.028Z"
   },
   {
    "duration": 59,
    "start_time": "2023-07-18T20:41:23.512Z"
   },
   {
    "duration": 13,
    "start_time": "2023-07-18T20:44:26.256Z"
   },
   {
    "duration": 6,
    "start_time": "2023-07-18T20:44:31.293Z"
   },
   {
    "duration": 6,
    "start_time": "2023-07-18T20:45:10.609Z"
   },
   {
    "duration": 18,
    "start_time": "2023-07-18T20:45:14.561Z"
   },
   {
    "duration": 32,
    "start_time": "2023-07-18T20:46:01.813Z"
   },
   {
    "duration": 6,
    "start_time": "2023-07-18T20:47:55.019Z"
   },
   {
    "duration": 27,
    "start_time": "2023-07-18T20:47:57.380Z"
   },
   {
    "duration": 6,
    "start_time": "2023-07-18T20:48:09.517Z"
   },
   {
    "duration": 7,
    "start_time": "2023-07-18T20:48:23.308Z"
   },
   {
    "duration": 6,
    "start_time": "2023-07-18T20:48:37.134Z"
   },
   {
    "duration": 31,
    "start_time": "2023-07-18T20:48:38.825Z"
   },
   {
    "duration": 7,
    "start_time": "2023-07-18T20:48:49.547Z"
   },
   {
    "duration": 37,
    "start_time": "2023-07-18T20:48:51.269Z"
   },
   {
    "duration": 6,
    "start_time": "2023-07-18T20:48:56.831Z"
   },
   {
    "duration": 31,
    "start_time": "2023-07-18T20:48:59.642Z"
   },
   {
    "duration": 57,
    "start_time": "2023-07-18T20:49:33.614Z"
   },
   {
    "duration": 19,
    "start_time": "2023-07-18T20:49:56.042Z"
   },
   {
    "duration": 48,
    "start_time": "2023-07-18T20:52:41.779Z"
   },
   {
    "duration": 6,
    "start_time": "2023-07-18T20:53:48.513Z"
   },
   {
    "duration": 19727,
    "start_time": "2023-07-18T20:53:50.879Z"
   },
   {
    "duration": 8,
    "start_time": "2023-07-18T20:58:14.077Z"
   },
   {
    "duration": 39640,
    "start_time": "2023-07-18T20:58:15.974Z"
   },
   {
    "duration": 5,
    "start_time": "2023-07-18T20:59:12.316Z"
   },
   {
    "duration": 6,
    "start_time": "2023-07-18T20:59:28.185Z"
   },
   {
    "duration": 611153,
    "start_time": "2023-07-18T20:59:32.745Z"
   },
   {
    "duration": 5,
    "start_time": "2023-07-18T21:15:06.420Z"
   },
   {
    "duration": 629,
    "start_time": "2023-07-18T21:15:09.384Z"
   },
   {
    "duration": 7,
    "start_time": "2023-07-18T21:21:12.670Z"
   },
   {
    "duration": 17,
    "start_time": "2023-07-18T21:21:14.095Z"
   },
   {
    "duration": 23,
    "start_time": "2023-07-18T21:21:31.351Z"
   },
   {
    "duration": 8,
    "start_time": "2023-07-18T21:21:44.977Z"
   },
   {
    "duration": 9,
    "start_time": "2023-07-18T21:22:23.967Z"
   },
   {
    "duration": 17,
    "start_time": "2023-07-18T21:22:25.903Z"
   },
   {
    "duration": 1867,
    "start_time": "2023-07-18T21:22:42.790Z"
   },
   {
    "duration": 7,
    "start_time": "2023-07-18T21:22:47.513Z"
   },
   {
    "duration": 8,
    "start_time": "2023-07-18T21:25:30.155Z"
   },
   {
    "duration": 5,
    "start_time": "2023-07-18T21:25:35.889Z"
   },
   {
    "duration": 4,
    "start_time": "2023-07-18T21:25:42.283Z"
   },
   {
    "duration": 11534,
    "start_time": "2023-07-18T21:25:53.847Z"
   },
   {
    "duration": 12649,
    "start_time": "2023-07-18T21:26:20.702Z"
   },
   {
    "duration": 5,
    "start_time": "2023-07-18T21:29:30.194Z"
   },
   {
    "duration": 649,
    "start_time": "2023-07-18T21:29:32.528Z"
   },
   {
    "duration": 5,
    "start_time": "2023-07-18T21:29:47.687Z"
   },
   {
    "duration": 7,
    "start_time": "2023-07-18T21:31:36.196Z"
   },
   {
    "duration": 38867,
    "start_time": "2023-07-18T21:31:38.359Z"
   },
   {
    "duration": 6,
    "start_time": "2023-07-18T21:32:59.579Z"
   },
   {
    "duration": 5,
    "start_time": "2023-07-18T21:33:14.993Z"
   },
   {
    "duration": 4,
    "start_time": "2023-07-18T21:33:56.279Z"
   },
   {
    "duration": 6,
    "start_time": "2023-07-18T21:33:59.614Z"
   },
   {
    "duration": 38284,
    "start_time": "2023-07-18T21:34:01.482Z"
   },
   {
    "duration": 647,
    "start_time": "2023-07-18T21:37:30.626Z"
   },
   {
    "duration": 5,
    "start_time": "2023-07-18T21:37:51.222Z"
   },
   {
    "duration": 551427,
    "start_time": "2023-07-18T21:37:53.791Z"
   },
   {
    "duration": 4,
    "start_time": "2023-07-18T21:49:10.621Z"
   },
   {
    "duration": 593,
    "start_time": "2023-07-18T21:49:12.124Z"
   },
   {
    "duration": 8,
    "start_time": "2023-07-18T21:50:00.546Z"
   },
   {
    "duration": 242,
    "start_time": "2023-07-18T21:53:01.202Z"
   },
   {
    "duration": 5,
    "start_time": "2023-07-18T21:53:02.777Z"
   },
   {
    "duration": 4,
    "start_time": "2023-07-18T21:53:05.046Z"
   },
   {
    "duration": 162,
    "start_time": "2023-07-18T21:53:06.380Z"
   },
   {
    "duration": 13,
    "start_time": "2023-07-18T22:01:52.453Z"
   },
   {
    "duration": 5,
    "start_time": "2023-07-18T22:02:10.311Z"
   },
   {
    "duration": 5,
    "start_time": "2023-07-18T22:02:30.891Z"
   },
   {
    "duration": 52,
    "start_time": "2023-07-18T22:02:51.168Z"
   },
   {
    "duration": 223,
    "start_time": "2023-07-18T22:03:29.615Z"
   },
   {
    "duration": 5,
    "start_time": "2023-07-18T22:03:38.847Z"
   },
   {
    "duration": 16,
    "start_time": "2023-07-18T22:04:22.342Z"
   },
   {
    "duration": 15,
    "start_time": "2023-07-18T22:04:33.837Z"
   },
   {
    "duration": 111,
    "start_time": "2023-07-18T22:04:36.897Z"
   },
   {
    "duration": 17,
    "start_time": "2023-07-18T22:04:39.016Z"
   },
   {
    "duration": 16,
    "start_time": "2023-07-18T22:04:49.137Z"
   },
   {
    "duration": 5,
    "start_time": "2023-07-18T22:05:01.330Z"
   },
   {
    "duration": 5,
    "start_time": "2023-07-18T22:05:41.182Z"
   },
   {
    "duration": 19,
    "start_time": "2023-07-18T22:05:50.417Z"
   },
   {
    "duration": 4,
    "start_time": "2023-07-18T22:06:13.475Z"
   },
   {
    "duration": 4,
    "start_time": "2023-07-18T22:08:24.110Z"
   },
   {
    "duration": 60,
    "start_time": "2023-07-18T22:08:33.254Z"
   },
   {
    "duration": 184,
    "start_time": "2023-07-18T22:08:46.318Z"
   },
   {
    "duration": 25828,
    "start_time": "2023-07-18T22:09:32.731Z"
   },
   {
    "duration": 9,
    "start_time": "2023-07-18T22:10:20.078Z"
   },
   {
    "duration": 4,
    "start_time": "2023-07-18T22:13:24.560Z"
   },
   {
    "duration": 3,
    "start_time": "2023-07-18T22:13:52.390Z"
   },
   {
    "duration": 14,
    "start_time": "2023-07-18T22:13:54.296Z"
   },
   {
    "duration": 16,
    "start_time": "2023-07-18T22:14:04.397Z"
   },
   {
    "duration": 20,
    "start_time": "2023-07-18T22:16:02.187Z"
   },
   {
    "duration": 16565,
    "start_time": "2023-07-18T22:16:07.122Z"
   },
   {
    "duration": 12156,
    "start_time": "2023-07-18T22:16:28.259Z"
   },
   {
    "duration": 6,
    "start_time": "2023-07-18T22:17:54.008Z"
   },
   {
    "duration": 9307,
    "start_time": "2023-07-18T22:17:55.336Z"
   },
   {
    "duration": 5649,
    "start_time": "2023-07-18T22:18:07.945Z"
   },
   {
    "duration": 6,
    "start_time": "2023-07-18T22:18:20.308Z"
   },
   {
    "duration": 12988,
    "start_time": "2023-07-18T22:18:21.985Z"
   },
   {
    "duration": 3136,
    "start_time": "2023-07-18T22:18:37.547Z"
   },
   {
    "duration": 6,
    "start_time": "2023-07-18T22:18:41.887Z"
   },
   {
    "duration": 14103,
    "start_time": "2023-07-18T22:18:43.346Z"
   },
   {
    "duration": 915,
    "start_time": "2023-07-18T22:18:59.710Z"
   },
   {
    "duration": 6,
    "start_time": "2023-07-18T22:19:01.927Z"
   },
   {
    "duration": 306836,
    "start_time": "2023-07-18T22:19:02.938Z"
   },
   {
    "duration": 211,
    "start_time": "2023-07-18T22:24:23.802Z"
   },
   {
    "duration": 6,
    "start_time": "2023-07-18T22:24:24.987Z"
   },
   {
    "duration": 4,
    "start_time": "2023-07-18T22:24:25.914Z"
   },
   {
    "duration": 165,
    "start_time": "2023-07-18T22:24:26.968Z"
   }
  ],
  "kernelspec": {
   "display_name": "Python 3 (ipykernel)",
   "language": "python",
   "name": "python3"
  },
  "language_info": {
   "codemirror_mode": {
    "name": "ipython",
    "version": 3
   },
   "file_extension": ".py",
   "mimetype": "text/x-python",
   "name": "python",
   "nbconvert_exporter": "python",
   "pygments_lexer": "ipython3",
   "version": "3.9.5"
  },
  "toc": {
   "base_numbering": 1,
   "nav_menu": {},
   "number_sections": true,
   "sideBar": true,
   "skip_h1_title": true,
   "title_cell": "Table of Contents",
   "title_sidebar": "Contents",
   "toc_cell": false,
   "toc_position": {},
   "toc_section_display": true,
   "toc_window_display": false
  }
 },
 "nbformat": 4,
 "nbformat_minor": 2
}
